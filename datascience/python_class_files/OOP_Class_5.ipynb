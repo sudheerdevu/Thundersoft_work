{
 "cells": [
  {
   "cell_type": "markdown",
   "id": "195ccd4a-5e5b-4986-9c89-c7c28e2f358a",
   "metadata": {},
   "source": [
    "# Abstract Classes"
   ]
  },
  {
   "cell_type": "code",
   "execution_count": 2,
   "id": "d368ccc3-a220-4d8f-99dd-ec8c7a374a4e",
   "metadata": {},
   "outputs": [],
   "source": [
    "# - Abstract class\n",
    "# - Abstract methods\n",
    "# - Interface"
   ]
  },
  {
   "cell_type": "markdown",
   "id": "43388ae5-c7bd-462b-b771-5c5d6c827104",
   "metadata": {},
   "source": [
    "### Abstract methods"
   ]
  },
  {
   "cell_type": "code",
   "execution_count": 5,
   "id": "ad105af3-0e2c-4946-bc6a-b674afa558fc",
   "metadata": {},
   "outputs": [],
   "source": [
    "# - If a method has the declaration but not the implementation then we call it as the abstract methods."
   ]
  },
  {
   "cell_type": "code",
   "execution_count": 7,
   "id": "02c7d5a2-aa5b-4012-8a33-b7602f3c4350",
   "metadata": {},
   "outputs": [],
   "source": [
    "class Test:\n",
    "    def m1(self):\n",
    "        pass"
   ]
  },
  {
   "cell_type": "markdown",
   "id": "5d119185-c963-443c-b718-312beeebad03",
   "metadata": {},
   "source": [
    "### How to define an abstract method"
   ]
  },
  {
   "cell_type": "code",
   "execution_count": 10,
   "id": "77ad5bf5-cb6b-4efe-98bc-c4b2f9a74804",
   "metadata": {},
   "outputs": [],
   "source": [
    "# - @abstarctmethod decorator is used to define an abstract method.\n",
    "# - @abstarctmethod decorator is available inside the abc modle."
   ]
  },
  {
   "cell_type": "code",
   "execution_count": 12,
   "id": "56cb4ae4-6dff-4fe0-9eed-a40dc4b16390",
   "metadata": {},
   "outputs": [],
   "source": [
    "from abc import abstractmethod"
   ]
  },
  {
   "cell_type": "code",
   "execution_count": 18,
   "id": "0d482678-42cb-4aac-8d8a-df6ca7e8d4d3",
   "metadata": {},
   "outputs": [],
   "source": [
    "class Test:\n",
    "    @abstractmethod\n",
    "    def m1(self):    # abstarct method\n",
    "        pass"
   ]
  },
  {
   "cell_type": "markdown",
   "id": "e2093c7a-bf2c-4aec-9616-d399bf83713c",
   "metadata": {},
   "source": [
    "### Abstract class"
   ]
  },
  {
   "cell_type": "code",
   "execution_count": 21,
   "id": "84cde5d1-7bb1-4b63-9bd4-58a299e6a2a5",
   "metadata": {},
   "outputs": [],
   "source": [
    "# - If the implementation of a class is incomplete then we call it as the abstract class."
   ]
  },
  {
   "cell_type": "code",
   "execution_count": 23,
   "id": "204d3a98-8c9f-4453-8bc8-b946000c0686",
   "metadata": {},
   "outputs": [],
   "source": [
    "class Test:\n",
    "    pass"
   ]
  },
  {
   "cell_type": "markdown",
   "id": "62cb0022-20a4-4219-8aad-d03c83aa70f7",
   "metadata": {},
   "source": [
    "### How to define an abstract class"
   ]
  },
  {
   "cell_type": "code",
   "execution_count": 26,
   "id": "ea7627c6-0fb7-4104-b5de-82f06d86bc94",
   "metadata": {},
   "outputs": [],
   "source": [
    "# - Every abstract class in Python is the child class of ABC class.\n",
    "# - ABC class is avaialble inside the abc module."
   ]
  },
  {
   "cell_type": "code",
   "execution_count": 28,
   "id": "ffd08f54-2637-48c1-be6d-8d465ac9197e",
   "metadata": {},
   "outputs": [],
   "source": [
    "from abc import ABC"
   ]
  },
  {
   "cell_type": "code",
   "execution_count": 34,
   "id": "64c5dcb4-ea65-4ebb-a6cd-ef3894708acc",
   "metadata": {},
   "outputs": [],
   "source": [
    "class Test(ABC):\n",
    "    pass"
   ]
  },
  {
   "cell_type": "code",
   "execution_count": 52,
   "id": "33ef97a2-e5c2-412e-8279-df12c4f68f06",
   "metadata": {},
   "outputs": [],
   "source": [
    "class Vehicle:\n",
    "    def get_wheels(self):\n",
    "        pass\n",
    "\n",
    "class Bus(Vehicle):\n",
    "    def get_wheels(self):\n",
    "        return 6\n",
    "\n",
    "class Car(Vehicle):\n",
    "    def engine(self):\n",
    "        return '1200 cc'\n",
    "\n",
    "class Bike(Vehicle):\n",
    "    def get_wheels(self):\n",
    "        return 2"
   ]
  },
  {
   "cell_type": "code",
   "execution_count": 56,
   "id": "6a689256-3cee-4efa-aac2-a27051f0c51b",
   "metadata": {},
   "outputs": [],
   "source": [
    "b=Bike()"
   ]
  },
  {
   "cell_type": "code",
   "execution_count": 58,
   "id": "8062c113-7717-46c5-b960-dd2f49d0c69c",
   "metadata": {},
   "outputs": [
    {
     "data": {
      "text/plain": [
       "2"
      ]
     },
     "execution_count": 58,
     "metadata": {},
     "output_type": "execute_result"
    }
   ],
   "source": [
    "b.get_wheels()"
   ]
  },
  {
   "cell_type": "code",
   "execution_count": 76,
   "id": "fd4dc3ee-0f90-4c08-a383-41e301110173",
   "metadata": {},
   "outputs": [],
   "source": [
    "c=Car()"
   ]
  },
  {
   "cell_type": "code",
   "execution_count": 78,
   "id": "86780d46-3633-4c17-b6fc-70c96a58aac3",
   "metadata": {},
   "outputs": [
    {
     "data": {
      "text/plain": [
       "'1200 cc'"
      ]
     },
     "execution_count": 78,
     "metadata": {},
     "output_type": "execute_result"
    }
   ],
   "source": [
    "c.engine()"
   ]
  },
  {
   "cell_type": "code",
   "execution_count": 80,
   "id": "84ed324d-a589-46b4-a901-12d261c532f4",
   "metadata": {},
   "outputs": [
    {
     "name": "stdout",
     "output_type": "stream",
     "text": [
      "None\n"
     ]
    }
   ],
   "source": [
    "print(c.get_wheels())"
   ]
  },
  {
   "cell_type": "code",
   "execution_count": 82,
   "id": "cf0414ba-46a9-4da6-9f91-710b88162332",
   "metadata": {},
   "outputs": [],
   "source": [
    "# Abstract class - incomplete class\n",
    "# Abstract method - No implementation "
   ]
  },
  {
   "cell_type": "code",
   "execution_count": 84,
   "id": "ec39ee50-eb62-4bb1-9c3b-978bac0a2dae",
   "metadata": {},
   "outputs": [],
   "source": [
    "# - A normal class can contain one or more abstract methods.\n",
    "# - An abstract class can conatin abstract methods.\n",
    "# - An absttarct can conatin normal methods."
   ]
  },
  {
   "cell_type": "code",
   "execution_count": 90,
   "id": "eb67e732-bcd9-4dbb-a010-aa122edb0d8b",
   "metadata": {},
   "outputs": [],
   "source": [
    "class Test:\n",
    "    def m1(self):\n",
    "        print('Object is created')"
   ]
  },
  {
   "cell_type": "code",
   "execution_count": 92,
   "id": "ba49eaef-ee98-4784-a625-cdb63e54c638",
   "metadata": {},
   "outputs": [],
   "source": [
    "t=Test()"
   ]
  },
  {
   "cell_type": "code",
   "execution_count": 94,
   "id": "86197221-f991-46e0-8989-cbeb871a0524",
   "metadata": {},
   "outputs": [
    {
     "name": "stdout",
     "output_type": "stream",
     "text": [
      "Object is created\n"
     ]
    }
   ],
   "source": [
    "t.m1()"
   ]
  },
  {
   "cell_type": "code",
   "execution_count": 96,
   "id": "0e24133c-af6e-442d-8425-83922053ec0b",
   "metadata": {},
   "outputs": [],
   "source": [
    "class Test:\n",
    "    @abstractmethod\n",
    "    def m1(self):\n",
    "        print('Object is created')"
   ]
  },
  {
   "cell_type": "code",
   "execution_count": 98,
   "id": "20cb61cb-0921-4a73-96e5-8d4330055f52",
   "metadata": {},
   "outputs": [],
   "source": [
    "t=Test()"
   ]
  },
  {
   "cell_type": "code",
   "execution_count": 100,
   "id": "abc5342a-8f14-4020-a7a5-95067ac7048e",
   "metadata": {},
   "outputs": [
    {
     "name": "stdout",
     "output_type": "stream",
     "text": [
      "Object is created\n"
     ]
    }
   ],
   "source": [
    "t.m1()"
   ]
  },
  {
   "cell_type": "code",
   "execution_count": 102,
   "id": "22a8bca2-c6dd-47d8-b39f-cd3192019c05",
   "metadata": {},
   "outputs": [],
   "source": [
    "class Test(ABC):\n",
    "    def m1(self):\n",
    "        print('Object is created')"
   ]
  },
  {
   "cell_type": "code",
   "execution_count": 104,
   "id": "bcd1fecf-43e3-4c82-8427-54a73049b365",
   "metadata": {},
   "outputs": [],
   "source": [
    "t=Test()"
   ]
  },
  {
   "cell_type": "code",
   "execution_count": 106,
   "id": "52e95fb2-a813-46c7-bba5-f28b5b1027bc",
   "metadata": {},
   "outputs": [
    {
     "name": "stdout",
     "output_type": "stream",
     "text": [
      "Object is created\n"
     ]
    }
   ],
   "source": [
    "t.m1()"
   ]
  },
  {
   "cell_type": "code",
   "execution_count": 1,
   "id": "94534ba6-a780-4278-87b2-cea8f5833202",
   "metadata": {},
   "outputs": [],
   "source": [
    "from abc import ABC, abstractmethod"
   ]
  },
  {
   "cell_type": "code",
   "execution_count": 7,
   "id": "d8d0f2bd-2f7b-461f-9773-38a36b9ad8f0",
   "metadata": {},
   "outputs": [],
   "source": [
    "class Test(ABC):\n",
    "    @abstractmethod\n",
    "    def m1(self):\n",
    "        print('Asbtract method')\n",
    "\n",
    "    def m2(self):\n",
    "        print('Normal method')"
   ]
  },
  {
   "cell_type": "code",
   "execution_count": 9,
   "id": "8f4da9de-0e1a-4544-b759-a1377aad2134",
   "metadata": {},
   "outputs": [
    {
     "ename": "TypeError",
     "evalue": "Can't instantiate abstract class Test with abstract method m1",
     "output_type": "error",
     "traceback": [
      "\u001b[1;31m---------------------------------------------------------------------------\u001b[0m",
      "\u001b[1;31mTypeError\u001b[0m                                 Traceback (most recent call last)",
      "Cell \u001b[1;32mIn[9], line 1\u001b[0m\n\u001b[1;32m----> 1\u001b[0m t\u001b[38;5;241m=\u001b[39mTest()\n",
      "\u001b[1;31mTypeError\u001b[0m: Can't instantiate abstract class Test with abstract method m1"
     ]
    }
   ],
   "source": [
    "t=Test()"
   ]
  },
  {
   "cell_type": "code",
   "execution_count": 13,
   "id": "daff6fa1-5756-4f72-874f-b0e0d589c855",
   "metadata": {},
   "outputs": [],
   "source": [
    "# - Abstract class + normal method -> Object creation is possible\n",
    "# - Normal class + normal method -> Object creation is possible\n",
    "# - Normal class + abstract method -> Object creation is possible.\n",
    "# - Abstract class + abstract method -> Object creation is not possible\n",
    "\n",
    "# - In this case child class is responsible for the object creation."
   ]
  },
  {
   "cell_type": "code",
   "execution_count": 15,
   "id": "64745c16-abd8-4f09-8e2e-a82ac56bdaf7",
   "metadata": {},
   "outputs": [],
   "source": [
    "class Test:\n",
    "    def __init__(self):\n",
    "        print('Object is created')\n",
    "    def m1(self):\n",
    "        print('Normal method')"
   ]
  },
  {
   "cell_type": "code",
   "execution_count": 17,
   "id": "320edf88-e7f4-4700-8a33-b8516db2491e",
   "metadata": {},
   "outputs": [
    {
     "name": "stdout",
     "output_type": "stream",
     "text": [
      "Object is created\n"
     ]
    }
   ],
   "source": [
    "t=Test()"
   ]
  },
  {
   "cell_type": "code",
   "execution_count": 19,
   "id": "e75799b2-cd29-4acb-bddc-7bc7b3d85ff0",
   "metadata": {},
   "outputs": [],
   "source": [
    "class Test(ABC):\n",
    "    def __init__(self):\n",
    "        print('Object is created')\n",
    "    def m1(self):\n",
    "        print('Normal method')"
   ]
  },
  {
   "cell_type": "code",
   "execution_count": 21,
   "id": "56c88fb7-5f31-4ff5-9027-bf99dad4420a",
   "metadata": {},
   "outputs": [
    {
     "name": "stdout",
     "output_type": "stream",
     "text": [
      "Object is created\n"
     ]
    }
   ],
   "source": [
    "t=Test()"
   ]
  },
  {
   "cell_type": "code",
   "execution_count": 23,
   "id": "fa37aa88-215f-445b-92de-2e1f51e9627e",
   "metadata": {},
   "outputs": [
    {
     "name": "stdout",
     "output_type": "stream",
     "text": [
      "Normal method\n"
     ]
    }
   ],
   "source": [
    "t.m1()"
   ]
  },
  {
   "cell_type": "code",
   "execution_count": 25,
   "id": "6e587e04-3728-424e-b3c3-7d9a79a09e3a",
   "metadata": {},
   "outputs": [],
   "source": [
    "class Test:\n",
    "    @abstractmethod\n",
    "    def m1(self):\n",
    "        print('Abstract method')"
   ]
  },
  {
   "cell_type": "code",
   "execution_count": 27,
   "id": "5224519e-1010-4e89-819c-5405ca42aeea",
   "metadata": {},
   "outputs": [],
   "source": [
    "t=Test()"
   ]
  },
  {
   "cell_type": "code",
   "execution_count": 29,
   "id": "dd612ceb-0ce1-4c68-9671-a907a6c41308",
   "metadata": {},
   "outputs": [
    {
     "name": "stdout",
     "output_type": "stream",
     "text": [
      "Abstract method\n"
     ]
    }
   ],
   "source": [
    "t.m1()"
   ]
  },
  {
   "cell_type": "code",
   "execution_count": 31,
   "id": "1545d2ed-53f2-48f5-9f35-178b939af414",
   "metadata": {},
   "outputs": [],
   "source": [
    "class Test(ABC):\n",
    "    @abstractmethod\n",
    "    def m1(self):\n",
    "        print('Abastract method')"
   ]
  },
  {
   "cell_type": "code",
   "execution_count": 33,
   "id": "43df80ef-d2bd-4e90-bc6b-404eb6a3ccb3",
   "metadata": {},
   "outputs": [
    {
     "ename": "TypeError",
     "evalue": "Can't instantiate abstract class Test with abstract method m1",
     "output_type": "error",
     "traceback": [
      "\u001b[1;31m---------------------------------------------------------------------------\u001b[0m",
      "\u001b[1;31mTypeError\u001b[0m                                 Traceback (most recent call last)",
      "Cell \u001b[1;32mIn[33], line 1\u001b[0m\n\u001b[1;32m----> 1\u001b[0m t\u001b[38;5;241m=\u001b[39mTest()\n",
      "\u001b[1;31mTypeError\u001b[0m: Can't instantiate abstract class Test with abstract method m1"
     ]
    }
   ],
   "source": [
    "t=Test()"
   ]
  },
  {
   "cell_type": "code",
   "execution_count": 57,
   "id": "6f73159f-6c20-4ec6-ae6b-d402a8f7261b",
   "metadata": {},
   "outputs": [],
   "source": [
    "class Test(ABC):\n",
    "    @abstractmethod\n",
    "    def m1(self):\n",
    "        pass\n",
    "\n",
    "class C(Test):\n",
    "    def m1(self):\n",
    "        print('Child class method')\n",
    "        # pass"
   ]
  },
  {
   "cell_type": "code",
   "execution_count": 59,
   "id": "6ea28b69-bdb6-4009-b33d-ec792e8ae855",
   "metadata": {},
   "outputs": [
    {
     "ename": "TypeError",
     "evalue": "Can't instantiate abstract class Test with abstract method m1",
     "output_type": "error",
     "traceback": [
      "\u001b[1;31m---------------------------------------------------------------------------\u001b[0m",
      "\u001b[1;31mTypeError\u001b[0m                                 Traceback (most recent call last)",
      "Cell \u001b[1;32mIn[59], line 1\u001b[0m\n\u001b[1;32m----> 1\u001b[0m t\u001b[38;5;241m=\u001b[39mTest()\n",
      "\u001b[1;31mTypeError\u001b[0m: Can't instantiate abstract class Test with abstract method m1"
     ]
    }
   ],
   "source": [
    "t=Test()"
   ]
  },
  {
   "cell_type": "code",
   "execution_count": 61,
   "id": "edf7d490-e37f-4e63-ada0-5c82bbff2674",
   "metadata": {},
   "outputs": [],
   "source": [
    "c=C()"
   ]
  },
  {
   "cell_type": "code",
   "execution_count": 63,
   "id": "8576303f-eb54-493c-bcca-d7b5ff00ab0a",
   "metadata": {},
   "outputs": [
    {
     "name": "stdout",
     "output_type": "stream",
     "text": [
      "Child class method\n",
      "None\n"
     ]
    }
   ],
   "source": [
    "print(c.m1())"
   ]
  },
  {
   "cell_type": "markdown",
   "id": "fa9fd531-f697-4edf-9998-68c38ec4d85e",
   "metadata": {},
   "source": [
    "### Use of the abstarct class + abstract method"
   ]
  },
  {
   "cell_type": "code",
   "execution_count": 68,
   "id": "788fcbd4-0fc6-4e7d-bd33-feb8c724fb72",
   "metadata": {},
   "outputs": [],
   "source": [
    "# - If we want some functionality to be mandatory for the child classes then we abstract class + abstract method."
   ]
  },
  {
   "cell_type": "code",
   "execution_count": 70,
   "id": "44953bab-e397-4f71-a34d-684ac21983cc",
   "metadata": {},
   "outputs": [],
   "source": [
    "# Suppose I want m1() to be mandatory for all the sub classes then \n",
    "# - I will define m1() as the abstract method inside the abstract class.\n",
    "# - f any sub class does not have m1() then object creation will not be possible."
   ]
  },
  {
   "cell_type": "code",
   "execution_count": 92,
   "id": "de6d8fa6-364d-4630-87c2-f6bc51d8560e",
   "metadata": {},
   "outputs": [],
   "source": [
    "class Vehicle(ABC):\n",
    "    @abstractmethod\n",
    "    def get_wheels(self):\n",
    "        pass\n",
    "\n",
    "class Bus(Vehicle):\n",
    "    def get_wheels(self):\n",
    "        return 6\n",
    "    def seats(self):\n",
    "        return 50"
   ]
  },
  {
   "cell_type": "code",
   "execution_count": 94,
   "id": "accf7a1c-9f3a-4320-99f3-c10adb4add96",
   "metadata": {},
   "outputs": [],
   "source": [
    "# v=Vehicle()"
   ]
  },
  {
   "cell_type": "code",
   "execution_count": 96,
   "id": "70038407-a826-48e4-bfdf-95635976e9ed",
   "metadata": {},
   "outputs": [],
   "source": [
    "b=Bus()"
   ]
  },
  {
   "cell_type": "code",
   "execution_count": 98,
   "id": "dd49e925-a70f-43ea-896f-786af9df5c82",
   "metadata": {},
   "outputs": [
    {
     "data": {
      "text/plain": [
       "6"
      ]
     },
     "execution_count": 98,
     "metadata": {},
     "output_type": "execute_result"
    }
   ],
   "source": [
    "b.get_wheels()"
   ]
  },
  {
   "cell_type": "code",
   "execution_count": 100,
   "id": "2f02f746-6caa-4395-b8fb-9770d38d9f5a",
   "metadata": {},
   "outputs": [
    {
     "data": {
      "text/plain": [
       "50"
      ]
     },
     "execution_count": 100,
     "metadata": {},
     "output_type": "execute_result"
    }
   ],
   "source": [
    "b.seats()"
   ]
  },
  {
   "cell_type": "code",
   "execution_count": 104,
   "id": "3b2d447a-6d58-451d-b4e8-f6c60eb2881b",
   "metadata": {},
   "outputs": [],
   "source": [
    "class Vehicle(ABC):\n",
    "    @abstractmethod\n",
    "    def get_wheels(self):\n",
    "        pass\n",
    "\n",
    "class Bus(Vehicle):\n",
    "    def get_wheels(self):\n",
    "        return 6\n",
    "    def seats(self):\n",
    "        return 50\n",
    "\n",
    "class Car(Vehicle):\n",
    "    def engine(self):\n",
    "        return '1200'"
   ]
  },
  {
   "cell_type": "code",
   "execution_count": 106,
   "id": "96ea384b-3a24-4416-85bf-729733bf3c05",
   "metadata": {},
   "outputs": [
    {
     "ename": "TypeError",
     "evalue": "Can't instantiate abstract class Car with abstract method get_wheels",
     "output_type": "error",
     "traceback": [
      "\u001b[1;31m---------------------------------------------------------------------------\u001b[0m",
      "\u001b[1;31mTypeError\u001b[0m                                 Traceback (most recent call last)",
      "Cell \u001b[1;32mIn[106], line 1\u001b[0m\n\u001b[1;32m----> 1\u001b[0m c\u001b[38;5;241m=\u001b[39mCar()\n",
      "\u001b[1;31mTypeError\u001b[0m: Can't instantiate abstract class Car with abstract method get_wheels"
     ]
    }
   ],
   "source": [
    "c=Car()"
   ]
  },
  {
   "cell_type": "code",
   "execution_count": 108,
   "id": "5f5c480a-7550-4828-9b53-7958469cd179",
   "metadata": {},
   "outputs": [],
   "source": [
    "class Vehicle(ABC):\n",
    "    @abstractmethod\n",
    "    def get_wheels(self):\n",
    "        pass\n",
    "\n",
    "class Bus(Vehicle):\n",
    "    def get_wheels(self):\n",
    "        return 6\n",
    "    def seats(self):\n",
    "        return 50\n",
    "\n",
    "class Car(Vehicle):\n",
    "    def engine(self):\n",
    "        return '1200'\n",
    "    def get_wheels(self):\n",
    "        return 4"
   ]
  },
  {
   "cell_type": "code",
   "execution_count": 110,
   "id": "87ddf778-eda9-4bba-85ae-dc03efa8679c",
   "metadata": {},
   "outputs": [],
   "source": [
    "c=Car()"
   ]
  },
  {
   "cell_type": "code",
   "execution_count": 112,
   "id": "9f742d43-0713-4c65-8071-cb9810204691",
   "metadata": {},
   "outputs": [
    {
     "data": {
      "text/plain": [
       "'1200'"
      ]
     },
     "execution_count": 112,
     "metadata": {},
     "output_type": "execute_result"
    }
   ],
   "source": [
    "c.engine()"
   ]
  },
  {
   "cell_type": "code",
   "execution_count": 114,
   "id": "1ba27d31-c660-4013-b7da-1369aeefe1bc",
   "metadata": {},
   "outputs": [
    {
     "data": {
      "text/plain": [
       "4"
      ]
     },
     "execution_count": 114,
     "metadata": {},
     "output_type": "execute_result"
    }
   ],
   "source": [
    "c.get_wheels()"
   ]
  },
  {
   "cell_type": "markdown",
   "id": "d2a8c017-f1bf-471c-86ea-fcfbe4d71ee6",
   "metadata": {},
   "source": [
    "### Interface"
   ]
  },
  {
   "cell_type": "code",
   "execution_count": 119,
   "id": "668f2547-e49e-4e1c-9c2a-787706f01b9c",
   "metadata": {},
   "outputs": [],
   "source": [
    "# - An abstract class that has only the abstract methods is known as interface."
   ]
  },
  {
   "cell_type": "code",
   "execution_count": 123,
   "id": "dfd67e83-b91d-482f-81ed-52d3c047a5a9",
   "metadata": {},
   "outputs": [],
   "source": [
    "class Test: # Not an interface\n",
    "    @abstractmethod\n",
    "    def m1():\n",
    "        pass"
   ]
  },
  {
   "cell_type": "code",
   "execution_count": 127,
   "id": "c78f6fb2-3f9f-41ed-85a9-d693f209fdb0",
   "metadata": {},
   "outputs": [],
   "source": [
    "class Test(ABC): # Not an interface\n",
    "    def m1(self):\n",
    "        pass"
   ]
  },
  {
   "cell_type": "code",
   "execution_count": 131,
   "id": "8551c9cc-38df-487a-b3ae-8c85e442548b",
   "metadata": {},
   "outputs": [],
   "source": [
    "class Test(ABC):  # Interface\n",
    "    @abstractmethod\n",
    "    def m1(self):\n",
    "        pass"
   ]
  },
  {
   "cell_type": "markdown",
   "id": "0825dcc0-803d-4f5e-9864-7d11d90f599a",
   "metadata": {},
   "source": [
    "### Use of interface"
   ]
  },
  {
   "cell_type": "code",
   "execution_count": 134,
   "id": "f1fbaf8f-9c19-49db-8c3f-414585e9729f",
   "metadata": {},
   "outputs": [],
   "source": [
    "# Client tells- SRS- Software Requirements Specification"
   ]
  },
  {
   "cell_type": "code",
   "execution_count": 138,
   "id": "10312e14-f234-418c-aad0-afd61b580454",
   "metadata": {},
   "outputs": [],
   "source": [
    "# Plan - Implement"
   ]
  },
  {
   "cell_type": "code",
   "execution_count": 145,
   "id": "011ce9b9-51cc-4049-8d42-c7cedaa1e752",
   "metadata": {},
   "outputs": [],
   "source": [
    "# - When we don't know the implementation only plan is there- Interface\n",
    "# - If partial implemetation is known- Abstract class\n",
    "# - If complete implementation is there- Concrete class"
   ]
  },
  {
   "cell_type": "code",
   "execution_count": 147,
   "id": "34f24d4c-1443-4b35-99af-f3451a97558e",
   "metadata": {},
   "outputs": [],
   "source": [
    "# Clinet- 4-requirements \n",
    "# 2 requirements are already known- Abstract class"
   ]
  },
  {
   "cell_type": "code",
   "execution_count": 151,
   "id": "13e4dc8b-0355-4804-9ae5-a8d7514c6ea8",
   "metadata": {},
   "outputs": [],
   "source": [
    "# Requirements\n",
    "# - Data model creation\n",
    "# - Data clening\n",
    "# - Data modeling (Algorithm)\n",
    "# - Generating summary"
   ]
  },
  {
   "cell_type": "code",
   "execution_count": 189,
   "id": "7bd466ac-2d96-4829-9f55-dbc6e6d45293",
   "metadata": {},
   "outputs": [],
   "source": [
    "class Project(ABC):\n",
    "    @abstractmethod\n",
    "    def results(self):\n",
    "        pass\n",
    "        \n",
    "class Data_cleaning(Project):\n",
    "    def results(self):\n",
    "        pass\n",
    "        \n",
    "class Data_modeling(Project):\n",
    "    def results(self):\n",
    "        pass\n",
    "\n",
    "class Summary(Project):\n",
    "    def results(self):\n",
    "        pass"
   ]
  },
  {
   "cell_type": "code",
   "execution_count": 182,
   "id": "07eb26e1-393c-48d3-ab76-d77bd2b5a344",
   "metadata": {},
   "outputs": [],
   "source": [
    "c=Summary()"
   ]
  },
  {
   "cell_type": "code",
   "execution_count": 184,
   "id": "5c233ae9-6494-4ae5-bcfd-b4ca48602e9c",
   "metadata": {},
   "outputs": [],
   "source": [
    "d=Data_modeling()"
   ]
  },
  {
   "cell_type": "code",
   "execution_count": 186,
   "id": "571cc69f-b578-419a-b29a-06788b358f84",
   "metadata": {},
   "outputs": [],
   "source": [
    "d=Data_cleaning()"
   ]
  },
  {
   "cell_type": "code",
   "execution_count": 197,
   "id": "fbd49a10-3543-4f57-9d27-ff79f318baba",
   "metadata": {},
   "outputs": [],
   "source": [
    "class University:\n",
    "    pass\n",
    "\n",
    "class CollegeA(University):\n",
    "    def __init__(self):\n",
    "        print('College A object is created')\n",
    "\n",
    "class CollegeB(University):\n",
    "    def __init__(self):\n",
    "        print('College B object is created')"
   ]
  },
  {
   "cell_type": "code",
   "execution_count": 199,
   "id": "d9c33eba-2dbc-486c-933f-65b3975ead9c",
   "metadata": {},
   "outputs": [
    {
     "name": "stdout",
     "output_type": "stream",
     "text": [
      "College B object is created\n"
     ]
    }
   ],
   "source": [
    "b=CollegeB()"
   ]
  },
  {
   "cell_type": "code",
   "execution_count": 201,
   "id": "22535ce5-4827-4527-bd4a-dd80cc1f21e6",
   "metadata": {},
   "outputs": [
    {
     "name": "stdout",
     "output_type": "stream",
     "text": [
      "College A object is created\n"
     ]
    }
   ],
   "source": [
    "a=CollegeA()"
   ]
  },
  {
   "cell_type": "code",
   "execution_count": 209,
   "id": "be4da0c8-3b4f-4bd2-b8fc-48282cc542dd",
   "metadata": {},
   "outputs": [],
   "source": [
    "class University:\n",
    "    uni_name='Amity University'\n",
    "    \n",
    "    @abstractmethod\n",
    "    def min_fees(self):\n",
    "        pass\n",
    "\n",
    "    @abstractmethod\n",
    "    def duration(self):\n",
    "        pass\n",
    "\n",
    "class CollegeA(University):\n",
    "    def __init__(self):\n",
    "        print('College A object is created')\n",
    "\n",
    "class CollegeB(University):\n",
    "    def __init__(self):\n",
    "        print('College B object is created')"
   ]
  },
  {
   "cell_type": "code",
   "execution_count": 211,
   "id": "6ef1f804-d71b-4d54-aa5c-14b9f6a63b17",
   "metadata": {},
   "outputs": [
    {
     "name": "stdout",
     "output_type": "stream",
     "text": [
      "College B object is created\n"
     ]
    }
   ],
   "source": [
    "b=CollegeB()"
   ]
  },
  {
   "cell_type": "code",
   "execution_count": 213,
   "id": "51854156-3884-4dfd-aac4-397ec9b5cace",
   "metadata": {},
   "outputs": [
    {
     "name": "stdout",
     "output_type": "stream",
     "text": [
      "College A object is created\n"
     ]
    }
   ],
   "source": [
    "a=CollegeA()"
   ]
  },
  {
   "cell_type": "code",
   "execution_count": 215,
   "id": "9a1cf0dd-8517-4c3e-86a0-4f6293bc5ac0",
   "metadata": {},
   "outputs": [],
   "source": [
    "class University(ABC):\n",
    "    uni_name='Amity University'\n",
    "    \n",
    "    @abstractmethod\n",
    "    def min_fees(self):\n",
    "        pass\n",
    "\n",
    "    @abstractmethod\n",
    "    def duration(self):\n",
    "        pass\n",
    "\n",
    "class CollegeA(University):\n",
    "    def __init__(self):\n",
    "        print('College A object is created')\n",
    "\n",
    "class CollegeB(University):\n",
    "    def __init__(self):\n",
    "        print('College B object is created')"
   ]
  },
  {
   "cell_type": "code",
   "execution_count": 217,
   "id": "8dcfd7ba-d8eb-4a8c-bd2f-628c19d3a694",
   "metadata": {},
   "outputs": [
    {
     "ename": "TypeError",
     "evalue": "Can't instantiate abstract class CollegeA with abstract methods duration, min_fees",
     "output_type": "error",
     "traceback": [
      "\u001b[1;31m---------------------------------------------------------------------------\u001b[0m",
      "\u001b[1;31mTypeError\u001b[0m                                 Traceback (most recent call last)",
      "Cell \u001b[1;32mIn[217], line 1\u001b[0m\n\u001b[1;32m----> 1\u001b[0m a\u001b[38;5;241m=\u001b[39mCollegeA()\n",
      "\u001b[1;31mTypeError\u001b[0m: Can't instantiate abstract class CollegeA with abstract methods duration, min_fees"
     ]
    }
   ],
   "source": [
    "a=CollegeA()"
   ]
  },
  {
   "cell_type": "code",
   "execution_count": 219,
   "id": "17005511-4a5a-45ce-ab5e-cbaf41fd2d91",
   "metadata": {},
   "outputs": [
    {
     "ename": "TypeError",
     "evalue": "Can't instantiate abstract class University with abstract methods duration, min_fees",
     "output_type": "error",
     "traceback": [
      "\u001b[1;31m---------------------------------------------------------------------------\u001b[0m",
      "\u001b[1;31mTypeError\u001b[0m                                 Traceback (most recent call last)",
      "Cell \u001b[1;32mIn[219], line 1\u001b[0m\n\u001b[1;32m----> 1\u001b[0m u\u001b[38;5;241m=\u001b[39mUniversity()\n",
      "\u001b[1;31mTypeError\u001b[0m: Can't instantiate abstract class University with abstract methods duration, min_fees"
     ]
    }
   ],
   "source": [
    "u=University()"
   ]
  },
  {
   "cell_type": "code",
   "execution_count": 235,
   "id": "16ee0367-9e4c-4a46-ac4e-4e7799fc25f9",
   "metadata": {},
   "outputs": [],
   "source": [
    "class University(ABC):\n",
    "    uni_name='Amity University'\n",
    "    \n",
    "    @abstractmethod\n",
    "    def min_fees(self):\n",
    "        pass\n",
    "\n",
    "    @abstractmethod\n",
    "    def duration(self):\n",
    "        pass\n",
    "\n",
    "    def info(self):\n",
    "        print(self.uni_name)\n",
    "        print('Noida')\n",
    "        \n",
    "class CollegeA(University):\n",
    "    def __init__(self):\n",
    "        print('College A object is created')\n",
    "\n",
    "    def min_fees(self):\n",
    "        return 50000\n",
    "\n",
    "    def duration(self):\n",
    "        return '2 years'\n",
    "\n",
    "class CollegeB(University):\n",
    "    def __init__(self):\n",
    "        print('College B object is created')\n",
    "\n",
    "    def min_fees(self):\n",
    "        return 50000\n",
    "\n",
    "    def duration(self):\n",
    "        return '2 years'\n",
    "\n",
    "    def info(self):\n",
    "        super().info()\n",
    "        print('CollegB')"
   ]
  },
  {
   "cell_type": "code",
   "execution_count": 237,
   "id": "8e3b9e6e-2c3d-4f8f-975c-3cf90a52476a",
   "metadata": {},
   "outputs": [
    {
     "name": "stdout",
     "output_type": "stream",
     "text": [
      "College B object is created\n"
     ]
    }
   ],
   "source": [
    "b=CollegeB()"
   ]
  },
  {
   "cell_type": "code",
   "execution_count": 241,
   "id": "4d0ab608-42d3-4123-ab36-616b57a95b97",
   "metadata": {},
   "outputs": [
    {
     "name": "stdout",
     "output_type": "stream",
     "text": [
      "College A object is created\n"
     ]
    }
   ],
   "source": [
    "a=CollegeA()"
   ]
  },
  {
   "cell_type": "code",
   "execution_count": 233,
   "id": "2a629c38-5f01-4aed-9179-3f755c276bdd",
   "metadata": {},
   "outputs": [],
   "source": [
    "u=University"
   ]
  },
  {
   "cell_type": "code",
   "execution_count": 239,
   "id": "0b10570a-4b61-479f-8854-23f9af878e94",
   "metadata": {},
   "outputs": [
    {
     "name": "stdout",
     "output_type": "stream",
     "text": [
      "Amity University\n",
      "Noida\n",
      "CollegB\n"
     ]
    }
   ],
   "source": [
    "b.info()"
   ]
  },
  {
   "cell_type": "code",
   "execution_count": 243,
   "id": "41e09971-40dc-4757-81f6-fee456e314fb",
   "metadata": {},
   "outputs": [
    {
     "name": "stdout",
     "output_type": "stream",
     "text": [
      "Amity University\n",
      "Noida\n"
     ]
    }
   ],
   "source": [
    "a.info()"
   ]
  },
  {
   "cell_type": "markdown",
   "id": "26ec0c4f-b632-46d0-9ea8-4ce9728600d6",
   "metadata": {},
   "source": [
    "# Encapsulation"
   ]
  },
  {
   "cell_type": "code",
   "execution_count": 250,
   "id": "fb45219a-ddee-42eb-8438-f1d8d8534cc7",
   "metadata": {},
   "outputs": [],
   "source": [
    "# - Encapsulation is a way to hide the data.\n",
    "# - It is a way of wrapping the data with the methods.\n",
    "# - It is used to prevent the modification by limiting the access of the variables and the methods."
   ]
  },
  {
   "cell_type": "code",
   "execution_count": 252,
   "id": "0ddc0e0f-aff2-4c70-97d0-3f1830a2b454",
   "metadata": {},
   "outputs": [],
   "source": [
    "# - 1- Public variables and methods\n",
    "# - 2- Protected variables and methods\n",
    "# - 3- Private variables and methods"
   ]
  },
  {
   "cell_type": "markdown",
   "id": "5cdfe64a-2c70-4bec-a6f3-68d374b8c587",
   "metadata": {},
   "source": [
    "### Public variables and methods"
   ]
  },
  {
   "cell_type": "code",
   "execution_count": 257,
   "id": "6966a3e7-e734-4188-8726-9352314d43cd",
   "metadata": {},
   "outputs": [],
   "source": [
    "# - Any variable or method is public by default.\n",
    "# - Any public variable or method can be accessed within the class or outside the class."
   ]
  },
  {
   "cell_type": "code",
   "execution_count": 263,
   "id": "e2859297-20c3-43f4-97ae-8bbaacbe0514",
   "metadata": {},
   "outputs": [],
   "source": [
    "class Test:\n",
    "    a=10\n",
    "    def __init__(self):\n",
    "        self.b=20\n",
    "\n",
    "    def show(self):\n",
    "        print(Test.a)\n",
    "        print(self.b)"
   ]
  },
  {
   "cell_type": "code",
   "execution_count": 265,
   "id": "3d4f0b16-5da6-4021-805d-59217813bb58",
   "metadata": {},
   "outputs": [],
   "source": [
    "t=Test()"
   ]
  },
  {
   "cell_type": "code",
   "execution_count": 267,
   "id": "5e7be69c-ac7c-4784-8118-89505e5eedca",
   "metadata": {},
   "outputs": [
    {
     "name": "stdout",
     "output_type": "stream",
     "text": [
      "10\n",
      "20\n"
     ]
    }
   ],
   "source": [
    "t.show()"
   ]
  },
  {
   "cell_type": "code",
   "execution_count": 274,
   "id": "9d6d897d-ea53-4183-a56a-7eb3018b18cf",
   "metadata": {},
   "outputs": [
    {
     "name": "stdout",
     "output_type": "stream",
     "text": [
      "10\n"
     ]
    }
   ],
   "source": [
    "print(t.a)"
   ]
  },
  {
   "cell_type": "code",
   "execution_count": 276,
   "id": "0d8e4833-f69f-4390-a61c-b13abade8083",
   "metadata": {},
   "outputs": [
    {
     "name": "stdout",
     "output_type": "stream",
     "text": [
      "20\n"
     ]
    }
   ],
   "source": [
    "print(t.b)"
   ]
  },
  {
   "cell_type": "code",
   "execution_count": 278,
   "id": "8ac6d8a6-b74e-4576-9d22-e256a1faa22d",
   "metadata": {},
   "outputs": [],
   "source": [
    "class Test:\n",
    "    def __init__(self):\n",
    "        self.a=10\n",
    "        self.show()\n",
    "\n",
    "    def show(self):\n",
    "        print('Show method')"
   ]
  },
  {
   "cell_type": "code",
   "execution_count": 280,
   "id": "4dd33f4b-b61b-45ed-acdb-8adcdf6c1656",
   "metadata": {},
   "outputs": [
    {
     "name": "stdout",
     "output_type": "stream",
     "text": [
      "Show method\n"
     ]
    }
   ],
   "source": [
    "t=Test()"
   ]
  },
  {
   "cell_type": "code",
   "execution_count": 282,
   "id": "507da366-5e58-4244-bd25-e31b275856dd",
   "metadata": {},
   "outputs": [
    {
     "name": "stdout",
     "output_type": "stream",
     "text": [
      "Show method\n"
     ]
    }
   ],
   "source": [
    "t.show()"
   ]
  },
  {
   "cell_type": "markdown",
   "id": "2b2ea4dc-ca6e-41bd-b939-8c97a90ca4db",
   "metadata": {},
   "source": [
    "### Protected variables and methods"
   ]
  },
  {
   "cell_type": "code",
   "execution_count": 286,
   "id": "df14f4b0-e690-4dc1-a5c8-be7bc3a8d8b0",
   "metadata": {},
   "outputs": [],
   "source": [
    "# - The variables and the methods that can be accessed within the class or inside the sub-classes\n",
    "#     are the protected variables and methods\n",
    "# - These variables and methods can not be accessed outside the class."
   ]
  },
  {
   "cell_type": "markdown",
   "id": "685e689f-06a9-421c-99a1-86b4d073ae0c",
   "metadata": {},
   "source": [
    "### How to define the protected variabels and methods"
   ]
  },
  {
   "cell_type": "code",
   "execution_count": 342,
   "id": "6a8f1b9a-5aa3-4186-9360-0bd86ea5216a",
   "metadata": {},
   "outputs": [],
   "source": [
    "# _a -> protected variable\n",
    "# _m1() -> protected method"
   ]
  },
  {
   "cell_type": "code",
   "execution_count": 344,
   "id": "9e7fc2c8-8dc8-40c9-9520-dda3165757d1",
   "metadata": {},
   "outputs": [],
   "source": [
    "class Test:\n",
    "    _a=10\n",
    "    def __init__(self):\n",
    "        print(self._a)\n",
    "\n",
    "class C(Test):\n",
    "    def __init__(self):\n",
    "        pass\n",
    "    def m1(self):\n",
    "        print(Test._a)"
   ]
  },
  {
   "cell_type": "code",
   "execution_count": 346,
   "id": "bbf05131-999b-454b-a153-51999e074afb",
   "metadata": {},
   "outputs": [
    {
     "name": "stdout",
     "output_type": "stream",
     "text": [
      "10\n"
     ]
    }
   ],
   "source": [
    "t=Test()"
   ]
  },
  {
   "cell_type": "code",
   "execution_count": 348,
   "id": "e17041ff-0fa3-4fd7-8af0-f58e73e21aeb",
   "metadata": {},
   "outputs": [],
   "source": [
    "c=C()"
   ]
  },
  {
   "cell_type": "code",
   "execution_count": 350,
   "id": "06062bc6-e498-4392-bb03-6a66ce6ef8b8",
   "metadata": {},
   "outputs": [
    {
     "name": "stdout",
     "output_type": "stream",
     "text": [
      "10\n"
     ]
    }
   ],
   "source": [
    "c.m1()"
   ]
  },
  {
   "cell_type": "code",
   "execution_count": 352,
   "id": "a8bbed17-6222-4210-af5d-546d30245d33",
   "metadata": {},
   "outputs": [],
   "source": [
    "class Test:\n",
    "    _a=10\n",
    "    def __init__(self):\n",
    "        self._b=20\n",
    "\n",
    "    def show(self):\n",
    "        print(Test._a)\n",
    "        print(self._b)"
   ]
  },
  {
   "cell_type": "code",
   "execution_count": 354,
   "id": "6aa27a27-8a6b-42a9-a99e-9d863970f863",
   "metadata": {},
   "outputs": [],
   "source": [
    "t=Test()"
   ]
  },
  {
   "cell_type": "code",
   "execution_count": 356,
   "id": "668a16c1-e3fd-4bdf-9575-ea5483e1efec",
   "metadata": {},
   "outputs": [
    {
     "name": "stdout",
     "output_type": "stream",
     "text": [
      "10\n",
      "20\n"
     ]
    }
   ],
   "source": [
    "t.show()"
   ]
  },
  {
   "cell_type": "code",
   "execution_count": 358,
   "id": "08b73fff-58ad-4b58-a2be-58867a36d91d",
   "metadata": {},
   "outputs": [
    {
     "name": "stdout",
     "output_type": "stream",
     "text": [
      "10\n"
     ]
    }
   ],
   "source": [
    "print(t._a)"
   ]
  },
  {
   "cell_type": "code",
   "execution_count": 360,
   "id": "87cdfd34-da59-4cf6-84ff-ab35083dbe18",
   "metadata": {},
   "outputs": [
    {
     "name": "stdout",
     "output_type": "stream",
     "text": [
      "20\n"
     ]
    }
   ],
   "source": [
    "print(t._b)"
   ]
  },
  {
   "cell_type": "code",
   "execution_count": 362,
   "id": "fab3e07f-8055-4166-91eb-dfe8d96c5a98",
   "metadata": {},
   "outputs": [],
   "source": [
    "class Test:\n",
    "    def __init__(self):\n",
    "        self._m1()\n",
    "    def _m1(self):\n",
    "        print('m1 method')"
   ]
  },
  {
   "cell_type": "code",
   "execution_count": 364,
   "id": "38450605-4a6f-4607-a086-28516de32c62",
   "metadata": {},
   "outputs": [
    {
     "name": "stdout",
     "output_type": "stream",
     "text": [
      "m1 method\n"
     ]
    }
   ],
   "source": [
    "t=Test()"
   ]
  },
  {
   "cell_type": "code",
   "execution_count": 366,
   "id": "407fdff2-01bb-473e-8e0c-5c85e89b9bfd",
   "metadata": {},
   "outputs": [
    {
     "name": "stdout",
     "output_type": "stream",
     "text": [
      "m1 method\n"
     ]
    }
   ],
   "source": [
    "t._m1()"
   ]
  },
  {
   "cell_type": "code",
   "execution_count": 369,
   "id": "acb15df5-5b8e-4a25-af6c-409f2ee2df34",
   "metadata": {},
   "outputs": [],
   "source": [
    "# - In Python the concept of protected variables and protected methods does not exist."
   ]
  },
  {
   "cell_type": "markdown",
   "id": "c84de855-a94b-4c07-a156-5dd3f03fde24",
   "metadata": {},
   "source": [
    "### Private variables and methods"
   ]
  },
  {
   "cell_type": "code",
   "execution_count": 378,
   "id": "255ab065-c0e1-47ea-9eaa-83b22c07d454",
   "metadata": {},
   "outputs": [],
   "source": [
    "# - The variables and the methods that can be accssessed within the class only are knwon as private variables and methods."
   ]
  },
  {
   "cell_type": "markdown",
   "id": "18f3ca45-726e-407e-8b7c-c9be8e1d1750",
   "metadata": {},
   "source": [
    "### How to define the private variables and methods"
   ]
  },
  {
   "cell_type": "code",
   "execution_count": 381,
   "id": "4fd72bb4-1426-41e9-bc33-97e702d9840f",
   "metadata": {},
   "outputs": [],
   "source": [
    "# __a -> Private variable\n",
    "# __m1() -> Private method"
   ]
  },
  {
   "cell_type": "code",
   "execution_count": 389,
   "id": "20edfe4a-cae3-4669-86f4-98ed4744ae1d",
   "metadata": {},
   "outputs": [],
   "source": [
    "class Test:\n",
    "    def __init__(self):\n",
    "        self.__a=10\n",
    "\n",
    "    def show(self):\n",
    "        print(self.__a)"
   ]
  },
  {
   "cell_type": "code",
   "execution_count": 391,
   "id": "7a7e9310-a805-471b-9568-608ac2dd8872",
   "metadata": {},
   "outputs": [],
   "source": [
    "t=Test()"
   ]
  },
  {
   "cell_type": "code",
   "execution_count": 393,
   "id": "efc7616e-a919-4f41-a942-981bd51994ff",
   "metadata": {},
   "outputs": [
    {
     "name": "stdout",
     "output_type": "stream",
     "text": [
      "10\n"
     ]
    }
   ],
   "source": [
    "t.show()"
   ]
  },
  {
   "cell_type": "code",
   "execution_count": 396,
   "id": "78869ed1-65f9-4f68-9601-6df83572d6f2",
   "metadata": {},
   "outputs": [
    {
     "ename": "AttributeError",
     "evalue": "'Test' object has no attribute '__a'",
     "output_type": "error",
     "traceback": [
      "\u001b[1;31m---------------------------------------------------------------------------\u001b[0m",
      "\u001b[1;31mAttributeError\u001b[0m                            Traceback (most recent call last)",
      "Cell \u001b[1;32mIn[396], line 1\u001b[0m\n\u001b[1;32m----> 1\u001b[0m t\u001b[38;5;241m.\u001b[39m__a\n",
      "\u001b[1;31mAttributeError\u001b[0m: 'Test' object has no attribute '__a'"
     ]
    }
   ],
   "source": [
    "t.__a"
   ]
  },
  {
   "cell_type": "code",
   "execution_count": 407,
   "id": "349dfd43-117d-44c2-81bd-a2633b451037",
   "metadata": {},
   "outputs": [],
   "source": [
    "class Test:\n",
    "    def __init__(self):\n",
    "        self.__m1()\n",
    "    \n",
    "    def __m1(self):\n",
    "        print('m1 method')"
   ]
  },
  {
   "cell_type": "code",
   "execution_count": 400,
   "id": "d52c75db-b980-4486-9934-d0436e06c069",
   "metadata": {},
   "outputs": [
    {
     "name": "stdout",
     "output_type": "stream",
     "text": [
      "m1 method\n"
     ]
    }
   ],
   "source": [
    "t=Test()"
   ]
  },
  {
   "cell_type": "code",
   "execution_count": 402,
   "id": "2f518150-49ed-47b2-9a22-f75c5c9acf69",
   "metadata": {},
   "outputs": [
    {
     "ename": "AttributeError",
     "evalue": "'Test' object has no attribute '__m1'",
     "output_type": "error",
     "traceback": [
      "\u001b[1;31m---------------------------------------------------------------------------\u001b[0m",
      "\u001b[1;31mAttributeError\u001b[0m                            Traceback (most recent call last)",
      "Cell \u001b[1;32mIn[402], line 1\u001b[0m\n\u001b[1;32m----> 1\u001b[0m t\u001b[38;5;241m.\u001b[39m__m1()\n",
      "\u001b[1;31mAttributeError\u001b[0m: 'Test' object has no attribute '__m1'"
     ]
    }
   ],
   "source": [
    "t.__m1()"
   ]
  },
  {
   "cell_type": "code",
   "execution_count": 417,
   "id": "bd3a3146-9433-4c54-bcbd-57f4293a5b8d",
   "metadata": {},
   "outputs": [],
   "source": [
    "class Test:\n",
    "    def __init__(self):\n",
    "        self.__m1()\n",
    "    \n",
    "    def __m1(self):\n",
    "        print('m1 method')\n",
    "\n",
    "class C(Test):\n",
    "    def __init__(self):\n",
    "        super().__init__()"
   ]
  },
  {
   "cell_type": "code",
   "execution_count": 415,
   "id": "b555b177-3107-4b30-bc6f-9710a3d170e2",
   "metadata": {},
   "outputs": [
    {
     "name": "stdout",
     "output_type": "stream",
     "text": [
      "m1 method\n"
     ]
    }
   ],
   "source": [
    "c=C()"
   ]
  },
  {
   "cell_type": "markdown",
   "id": "aa314e93-5885-4b16-97bb-0fe5b9dfc942",
   "metadata": {},
   "source": [
    "### We can access the private variables and the methods outside the class as well"
   ]
  },
  {
   "cell_type": "code",
   "execution_count": 419,
   "id": "6dfb7486-d55a-4246-98ab-8e83d5aad449",
   "metadata": {},
   "outputs": [],
   "source": [
    "# referencevariable._classnameprivatevariable"
   ]
  },
  {
   "cell_type": "code",
   "execution_count": 421,
   "id": "31a4ac48-5d45-431f-b080-b390e98edb94",
   "metadata": {},
   "outputs": [],
   "source": [
    "class Test:\n",
    "    __a=10"
   ]
  },
  {
   "cell_type": "code",
   "execution_count": 423,
   "id": "92006a51-c31d-430f-a7f1-a36d715d5c8d",
   "metadata": {},
   "outputs": [],
   "source": [
    "t=Test()"
   ]
  },
  {
   "cell_type": "code",
   "execution_count": 425,
   "id": "c26ff14d-cba4-4d29-88fa-352d09850f70",
   "metadata": {},
   "outputs": [
    {
     "data": {
      "text/plain": [
       "10"
      ]
     },
     "execution_count": 425,
     "metadata": {},
     "output_type": "execute_result"
    }
   ],
   "source": [
    "t._Test__a"
   ]
  },
  {
   "cell_type": "code",
   "execution_count": 427,
   "id": "724c93b9-0cb8-4222-a49e-29febbe50e6b",
   "metadata": {},
   "outputs": [],
   "source": [
    "class Test:\n",
    "    def __m1(self):\n",
    "        print('m1 method')"
   ]
  },
  {
   "cell_type": "code",
   "execution_count": 429,
   "id": "70305cce-eac1-4f41-aec0-97a8f3066ac9",
   "metadata": {},
   "outputs": [],
   "source": [
    "t=Test()"
   ]
  },
  {
   "cell_type": "code",
   "execution_count": 431,
   "id": "61aad1d9-4871-44ef-b871-c3afecba18a8",
   "metadata": {},
   "outputs": [
    {
     "name": "stdout",
     "output_type": "stream",
     "text": [
      "m1 method\n"
     ]
    }
   ],
   "source": [
    "t._Test__m1()"
   ]
  },
  {
   "cell_type": "code",
   "execution_count": 439,
   "id": "3664a3bb-69d0-412f-a35f-0e311612afec",
   "metadata": {},
   "outputs": [],
   "source": [
    "class Car:\n",
    "    maxspeed=120\n",
    "    def __init__(self):\n",
    "        self.name='Ferrari'\n",
    "\n",
    "    def car_info(self):\n",
    "        print(f'Car-{self.name}')\n",
    "        print(f'Speed- {self.maxspeed}')"
   ]
  },
  {
   "cell_type": "code",
   "execution_count": 441,
   "id": "a368a7b4-5a52-4a1f-94fa-292078f52269",
   "metadata": {},
   "outputs": [],
   "source": [
    "c=Car()"
   ]
  },
  {
   "cell_type": "code",
   "execution_count": 443,
   "id": "b9e00111-d475-4a5d-90ef-d37c0bc5af33",
   "metadata": {},
   "outputs": [
    {
     "name": "stdout",
     "output_type": "stream",
     "text": [
      "Car-Ferrari\n",
      "Speed- 120\n"
     ]
    }
   ],
   "source": [
    "c.car_info()"
   ]
  },
  {
   "cell_type": "code",
   "execution_count": 445,
   "id": "53f923a8-2596-4e9d-94bb-a44f937d8c84",
   "metadata": {},
   "outputs": [
    {
     "data": {
      "text/plain": [
       "120"
      ]
     },
     "execution_count": 445,
     "metadata": {},
     "output_type": "execute_result"
    }
   ],
   "source": [
    "c.maxspeed"
   ]
  },
  {
   "cell_type": "code",
   "execution_count": 447,
   "id": "fcd02808-4aff-44a9-8d31-f54829a441cb",
   "metadata": {},
   "outputs": [],
   "source": [
    "c.maxspeed=250"
   ]
  },
  {
   "cell_type": "code",
   "execution_count": 449,
   "id": "49ed5647-b707-40c9-9136-702508a29963",
   "metadata": {},
   "outputs": [
    {
     "data": {
      "text/plain": [
       "250"
      ]
     },
     "execution_count": 449,
     "metadata": {},
     "output_type": "execute_result"
    }
   ],
   "source": [
    "c.maxspeed"
   ]
  },
  {
   "cell_type": "code",
   "execution_count": 451,
   "id": "8da23fdb-6b81-4d07-8cef-1f69297002ff",
   "metadata": {},
   "outputs": [
    {
     "name": "stdout",
     "output_type": "stream",
     "text": [
      "Car-Ferrari\n",
      "Speed- 250\n"
     ]
    }
   ],
   "source": [
    "c.car_info()"
   ]
  },
  {
   "cell_type": "code",
   "execution_count": 453,
   "id": "299e0060-edf6-47b1-bb05-7f9e086d9476",
   "metadata": {},
   "outputs": [],
   "source": [
    "class Car:\n",
    "    __maxspeed=120\n",
    "    def __init__(self):\n",
    "        self.name='Ferrari'\n",
    "\n",
    "    def car_info(self):\n",
    "        print(f'Car-{self.name}')\n",
    "        print(f'Speed- {self.__maxspeed}')"
   ]
  },
  {
   "cell_type": "code",
   "execution_count": 455,
   "id": "25abed87-13f7-4d47-a4fe-f51f27558345",
   "metadata": {},
   "outputs": [],
   "source": [
    "c=Car()"
   ]
  },
  {
   "cell_type": "code",
   "execution_count": 457,
   "id": "b44d3265-363f-49f9-81d6-5b837f8b12ca",
   "metadata": {},
   "outputs": [
    {
     "name": "stdout",
     "output_type": "stream",
     "text": [
      "Car-Ferrari\n",
      "Speed- 120\n"
     ]
    }
   ],
   "source": [
    "c.car_info()"
   ]
  },
  {
   "cell_type": "code",
   "execution_count": 459,
   "id": "5afd6285-d6ea-4d7a-96f1-2547210944ee",
   "metadata": {},
   "outputs": [
    {
     "ename": "AttributeError",
     "evalue": "'Car' object has no attribute '__maxspeed'",
     "output_type": "error",
     "traceback": [
      "\u001b[1;31m---------------------------------------------------------------------------\u001b[0m",
      "\u001b[1;31mAttributeError\u001b[0m                            Traceback (most recent call last)",
      "Cell \u001b[1;32mIn[459], line 1\u001b[0m\n\u001b[1;32m----> 1\u001b[0m c\u001b[38;5;241m.\u001b[39m__maxspeed\n",
      "\u001b[1;31mAttributeError\u001b[0m: 'Car' object has no attribute '__maxspeed'"
     ]
    }
   ],
   "source": [
    "c.__maxspeed"
   ]
  },
  {
   "cell_type": "code",
   "execution_count": 463,
   "id": "c0a9ab0d-fd43-41e4-9c4a-9008b764f67c",
   "metadata": {},
   "outputs": [],
   "source": [
    "class Software:\n",
    "    def __init__(self):\n",
    "        print('Developed')"
   ]
  },
  {
   "cell_type": "code",
   "execution_count": 465,
   "id": "49f62961-17e6-41dd-b01b-b1660fefabbb",
   "metadata": {},
   "outputs": [
    {
     "name": "stdout",
     "output_type": "stream",
     "text": [
      "Developed\n"
     ]
    }
   ],
   "source": [
    "s=Software()"
   ]
  },
  {
   "cell_type": "code",
   "execution_count": 467,
   "id": "bd7f5c0f-91a6-4e22-932d-411a3aeda802",
   "metadata": {},
   "outputs": [],
   "source": [
    "class Software:\n",
    "    def __init__(self):\n",
    "        print('Developed')\n",
    "\n",
    "    def update(self):\n",
    "        print('Updated')"
   ]
  },
  {
   "cell_type": "code",
   "execution_count": 469,
   "id": "6ab97e8d-a010-412d-aa85-3903bdcf0dca",
   "metadata": {},
   "outputs": [
    {
     "name": "stdout",
     "output_type": "stream",
     "text": [
      "Developed\n"
     ]
    }
   ],
   "source": [
    "s=Software()"
   ]
  },
  {
   "cell_type": "code",
   "execution_count": 471,
   "id": "b83f1cef-a347-4b49-86f3-c29b2fb71910",
   "metadata": {},
   "outputs": [
    {
     "name": "stdout",
     "output_type": "stream",
     "text": [
      "Updated\n"
     ]
    }
   ],
   "source": [
    "s.update()"
   ]
  },
  {
   "cell_type": "code",
   "execution_count": 485,
   "id": "3b425a70-b14a-4a72-aff0-0bb4f6bdb861",
   "metadata": {},
   "outputs": [],
   "source": [
    "class Software:\n",
    "    def __init__(self):\n",
    "        print('Developed')\n",
    "\n",
    "    def __update(self):\n",
    "        print('Updated')"
   ]
  },
  {
   "cell_type": "code",
   "execution_count": 487,
   "id": "e9fa341a-2167-4e41-9036-080aa6126e1e",
   "metadata": {},
   "outputs": [
    {
     "name": "stdout",
     "output_type": "stream",
     "text": [
      "Developed\n"
     ]
    }
   ],
   "source": [
    "s=Software()"
   ]
  },
  {
   "cell_type": "code",
   "execution_count": 489,
   "id": "5ae9555a-264c-41b6-9130-44b866fe1ebb",
   "metadata": {},
   "outputs": [
    {
     "ename": "AttributeError",
     "evalue": "'Software' object has no attribute '__update'",
     "output_type": "error",
     "traceback": [
      "\u001b[1;31m---------------------------------------------------------------------------\u001b[0m",
      "\u001b[1;31mAttributeError\u001b[0m                            Traceback (most recent call last)",
      "Cell \u001b[1;32mIn[489], line 1\u001b[0m\n\u001b[1;32m----> 1\u001b[0m s\u001b[38;5;241m.\u001b[39m__update()\n",
      "\u001b[1;31mAttributeError\u001b[0m: 'Software' object has no attribute '__update'"
     ]
    }
   ],
   "source": [
    "s.__update()"
   ]
  },
  {
   "cell_type": "code",
   "execution_count": 483,
   "id": "ade1eaff-b006-40cc-b66d-eacef3471dd3",
   "metadata": {},
   "outputs": [
    {
     "name": "stdout",
     "output_type": "stream",
     "text": [
      "Updated\n"
     ]
    }
   ],
   "source": [
    "s._Software__update()"
   ]
  },
  {
   "cell_type": "code",
   "execution_count": 491,
   "id": "71676244-bcda-4d01-951e-00002379d16e",
   "metadata": {},
   "outputs": [],
   "source": [
    "class Software:\n",
    "    def __init__(self):\n",
    "        print('Developed')\n",
    "        self.__update()\n",
    "\n",
    "    def __update(self):\n",
    "        print('Updated')"
   ]
  },
  {
   "cell_type": "code",
   "execution_count": 493,
   "id": "bd3cc8ad-ce88-40b0-ab85-8af7376a84b6",
   "metadata": {},
   "outputs": [
    {
     "name": "stdout",
     "output_type": "stream",
     "text": [
      "Developed\n",
      "Updated\n"
     ]
    }
   ],
   "source": [
    "c=Software()"
   ]
  },
  {
   "cell_type": "code",
   "execution_count": 495,
   "id": "4092e278-5e43-4da2-a52c-c92f54b1a09a",
   "metadata": {},
   "outputs": [],
   "source": [
    "class Car:\n",
    "    __maxspeed=120\n",
    "    def __init__(self):\n",
    "        self.name='Ferrari'\n",
    "\n",
    "    def car_info(self):\n",
    "        print(f'Car-{self.name}')\n",
    "        print(f'Speed- {self.__maxspeed}')"
   ]
  },
  {
   "cell_type": "code",
   "execution_count": 501,
   "id": "f06549bd-81d1-4bbc-9a66-faca9a33680d",
   "metadata": {},
   "outputs": [],
   "source": [
    "c=Car()"
   ]
  },
  {
   "cell_type": "code",
   "execution_count": 503,
   "id": "08667566-920a-45b0-9ef3-12ebaae0e64e",
   "metadata": {},
   "outputs": [
    {
     "name": "stdout",
     "output_type": "stream",
     "text": [
      "Car-Ferrari\n",
      "Speed- 120\n"
     ]
    }
   ],
   "source": [
    "c.car_info()"
   ]
  },
  {
   "cell_type": "code",
   "execution_count": 505,
   "id": "dd039a05-a5f9-445e-add7-81381abce8d4",
   "metadata": {},
   "outputs": [
    {
     "ename": "AttributeError",
     "evalue": "'Car' object has no attribute '__maxspeed'",
     "output_type": "error",
     "traceback": [
      "\u001b[1;31m---------------------------------------------------------------------------\u001b[0m",
      "\u001b[1;31mAttributeError\u001b[0m                            Traceback (most recent call last)",
      "Cell \u001b[1;32mIn[505], line 1\u001b[0m\n\u001b[1;32m----> 1\u001b[0m c\u001b[38;5;241m.\u001b[39m__maxspeed\n",
      "\u001b[1;31mAttributeError\u001b[0m: 'Car' object has no attribute '__maxspeed'"
     ]
    }
   ],
   "source": [
    "c.__maxspeed"
   ]
  },
  {
   "cell_type": "markdown",
   "id": "0c46ea10-84dd-47ec-96ba-b8ae3f2ca462",
   "metadata": {},
   "source": [
    "### We can modify the private variables using the setter methods"
   ]
  },
  {
   "cell_type": "code",
   "execution_count": 510,
   "id": "da6456d3-4ba0-43c7-998f-9edb8ba75a13",
   "metadata": {},
   "outputs": [],
   "source": [
    "class Car:\n",
    "    __maxspeed=120\n",
    "    def __init__(self):\n",
    "        self.name='Ferrari'\n",
    "\n",
    "    def set_speed(self,speed):\n",
    "        self.__maxspeed=speed\n",
    "        \n",
    "    def car_info(self):\n",
    "        print(f'Car-{self.name}')\n",
    "        print(f'Speed- {self.__maxspeed}')"
   ]
  },
  {
   "cell_type": "code",
   "execution_count": 512,
   "id": "d2d47a4b-fb2b-439f-a70c-6e41d6b350a7",
   "metadata": {},
   "outputs": [],
   "source": [
    "c=Car()"
   ]
  },
  {
   "cell_type": "code",
   "execution_count": 514,
   "id": "70978bb1-20ed-4952-90e4-7ef2b4b6a8ff",
   "metadata": {},
   "outputs": [
    {
     "name": "stdout",
     "output_type": "stream",
     "text": [
      "Car-Ferrari\n",
      "Speed- 120\n"
     ]
    }
   ],
   "source": [
    "c.car_info()"
   ]
  },
  {
   "cell_type": "code",
   "execution_count": 518,
   "id": "eb625d67-76df-4882-8743-22e77cc65a3e",
   "metadata": {},
   "outputs": [],
   "source": [
    "c.set_speed(150)"
   ]
  },
  {
   "cell_type": "code",
   "execution_count": 520,
   "id": "85757598-b9cf-489c-9529-b202e12e3efa",
   "metadata": {},
   "outputs": [
    {
     "name": "stdout",
     "output_type": "stream",
     "text": [
      "Car-Ferrari\n",
      "Speed- 150\n"
     ]
    }
   ],
   "source": [
    "c.car_info()"
   ]
  },
  {
   "cell_type": "code",
   "execution_count": 524,
   "id": "e2fe9ef7-803a-4104-b135-cf36ecc55cdd",
   "metadata": {},
   "outputs": [],
   "source": [
    "# c.__maxspeed"
   ]
  },
  {
   "cell_type": "markdown",
   "id": "5b98e230-a09d-4721-998e-bcbbc00a43ea",
   "metadata": {},
   "source": [
    "# Garbage Collection"
   ]
  },
  {
   "cell_type": "code",
   "execution_count": 545,
   "id": "fd1448e2-9d3f-4e18-b9a2-ab55ab62fa12",
   "metadata": {},
   "outputs": [],
   "source": [
    "# - When we create an object, it will consume some memory.\n",
    "# - When the object is not in use then the object should be removed from the memory.\n",
    "# - In Python the developer are responsible for object creation.\n",
    "# - In Python there is a special program known as garbage collector which is responsible for the object removal.\n",
    "# - It is atomatically working in the backend but we can manually handle it using the gc module in Python."
   ]
  },
  {
   "cell_type": "code",
   "execution_count": 547,
   "id": "a4203f44-e810-4234-bcd2-b48cc1409236",
   "metadata": {},
   "outputs": [],
   "source": [
    "import gc"
   ]
  },
  {
   "cell_type": "code",
   "execution_count": 551,
   "id": "70780604-95c2-4bb0-b42d-a251893bdfc8",
   "metadata": {},
   "outputs": [
    {
     "name": "stdout",
     "output_type": "stream",
     "text": [
      "True\n"
     ]
    }
   ],
   "source": [
    "print(gc.isenabled())"
   ]
  },
  {
   "cell_type": "code",
   "execution_count": 553,
   "id": "0810bdfe-f641-46ee-bffc-edc40b48ccee",
   "metadata": {},
   "outputs": [],
   "source": [
    "gc.disable()"
   ]
  },
  {
   "cell_type": "code",
   "execution_count": 555,
   "id": "d7206e5f-860c-404d-a98c-dca9714de8b2",
   "metadata": {},
   "outputs": [
    {
     "name": "stdout",
     "output_type": "stream",
     "text": [
      "False\n"
     ]
    }
   ],
   "source": [
    "print(gc.isenabled())"
   ]
  },
  {
   "cell_type": "code",
   "execution_count": 563,
   "id": "572a1eab-1fb3-455e-a957-0874743a9faa",
   "metadata": {},
   "outputs": [
    {
     "name": "stdout",
     "output_type": "stream",
     "text": [
      "True\n"
     ]
    }
   ],
   "source": [
    "print(gc.isenabled())"
   ]
  },
  {
   "cell_type": "markdown",
   "id": "72393141-f4ed-472b-aad1-73025ba695e8",
   "metadata": {},
   "source": [
    "### How garbage collector works?"
   ]
  },
  {
   "cell_type": "code",
   "execution_count": 570,
   "id": "2857ce83-f4da-45c3-98b3-0262b58dd219",
   "metadata": {},
   "outputs": [],
   "source": [
    "# - garbage collector keeps on running periodically in the backend.\n",
    "# - It keeps on looking for the objects with 0 reference.\n",
    "# - As soon as it finds some object with 0 reference then we say the object is elgible to be collected."
   ]
  },
  {
   "cell_type": "markdown",
   "id": "6ea62c76-4314-4efd-b769-84755acecae6",
   "metadata": {},
   "source": [
    "### How to see the reference count"
   ]
  },
  {
   "cell_type": "code",
   "execution_count": 1,
   "id": "89eaf418-568d-42cd-ad89-06a901e4f498",
   "metadata": {},
   "outputs": [],
   "source": [
    "import sys"
   ]
  },
  {
   "cell_type": "code",
   "execution_count": 3,
   "id": "25087faa-c971-40ca-b71e-dbca7a0f6cd6",
   "metadata": {},
   "outputs": [],
   "source": [
    "# sys.getrefcount()- It returns the number of referneces for a particular object"
   ]
  },
  {
   "cell_type": "code",
   "execution_count": 5,
   "id": "ba54590b-645f-43a9-89cb-1675517b6800",
   "metadata": {},
   "outputs": [],
   "source": [
    "class Test:\n",
    "    pass"
   ]
  },
  {
   "cell_type": "code",
   "execution_count": 7,
   "id": "cd2398e2-c35f-4d20-8ee5-773ee348e9d9",
   "metadata": {},
   "outputs": [],
   "source": [
    "t=Test()"
   ]
  },
  {
   "cell_type": "code",
   "execution_count": 9,
   "id": "ca41accd-23b0-4e5d-af63-c0d605a02cb5",
   "metadata": {},
   "outputs": [
    {
     "data": {
      "text/plain": [
       "2"
      ]
     },
     "execution_count": 9,
     "metadata": {},
     "output_type": "execute_result"
    }
   ],
   "source": [
    "sys.getrefcount(t)"
   ]
  },
  {
   "cell_type": "code",
   "execution_count": 11,
   "id": "703b033b-df2f-4058-9712-a355766345ea",
   "metadata": {},
   "outputs": [],
   "source": [
    "a=t"
   ]
  },
  {
   "cell_type": "code",
   "execution_count": 13,
   "id": "c6aa4749-29d2-4994-97ac-cf4bb975d530",
   "metadata": {},
   "outputs": [
    {
     "data": {
      "text/plain": [
       "3"
      ]
     },
     "execution_count": 13,
     "metadata": {},
     "output_type": "execute_result"
    }
   ],
   "source": [
    "sys.getrefcount(t)"
   ]
  },
  {
   "cell_type": "code",
   "execution_count": 15,
   "id": "c0e1383f-1760-4bee-a6a9-91bfbf4ca21c",
   "metadata": {},
   "outputs": [],
   "source": [
    "b=t"
   ]
  },
  {
   "cell_type": "code",
   "execution_count": 17,
   "id": "0df70f5e-fb00-46d4-b8dc-a08e6b2b9601",
   "metadata": {},
   "outputs": [
    {
     "data": {
      "text/plain": [
       "4"
      ]
     },
     "execution_count": 17,
     "metadata": {},
     "output_type": "execute_result"
    }
   ],
   "source": [
    "sys.getrefcount(t)"
   ]
  },
  {
   "cell_type": "code",
   "execution_count": 19,
   "id": "aa2e26dd-7d88-4476-aa5f-d3d0dc6f6642",
   "metadata": {},
   "outputs": [],
   "source": [
    "a=None"
   ]
  },
  {
   "cell_type": "code",
   "execution_count": 21,
   "id": "9c3788e3-b560-4988-925b-50385e50de85",
   "metadata": {},
   "outputs": [
    {
     "data": {
      "text/plain": [
       "3"
      ]
     },
     "execution_count": 21,
     "metadata": {},
     "output_type": "execute_result"
    }
   ],
   "source": [
    "sys.getrefcount(t)"
   ]
  },
  {
   "cell_type": "code",
   "execution_count": 23,
   "id": "b17b0d81-3da8-4bbd-8bf4-c73a4d8b800f",
   "metadata": {},
   "outputs": [],
   "source": [
    "del b"
   ]
  },
  {
   "cell_type": "code",
   "execution_count": 25,
   "id": "044fb1ac-ef2a-4f43-bdfd-59c13751ef8b",
   "metadata": {},
   "outputs": [
    {
     "data": {
      "text/plain": [
       "2"
      ]
     },
     "execution_count": 25,
     "metadata": {},
     "output_type": "execute_result"
    }
   ],
   "source": [
    "sys.getrefcount(t)"
   ]
  },
  {
   "cell_type": "code",
   "execution_count": 27,
   "id": "294e465d-a76e-4420-8cf5-a528145cdc20",
   "metadata": {},
   "outputs": [],
   "source": [
    "t=None"
   ]
  },
  {
   "cell_type": "code",
   "execution_count": 29,
   "id": "de4d02ce-1f94-4494-95de-43dd66ddd037",
   "metadata": {},
   "outputs": [
    {
     "data": {
      "text/plain": [
       "51647"
      ]
     },
     "execution_count": 29,
     "metadata": {},
     "output_type": "execute_result"
    }
   ],
   "source": [
    "sys.getrefcount(t)"
   ]
  },
  {
   "cell_type": "code",
   "execution_count": 31,
   "id": "dc6f6262-a2bd-4575-b792-658a2a481cb1",
   "metadata": {},
   "outputs": [
    {
     "name": "stdout",
     "output_type": "stream",
     "text": [
      "None\n"
     ]
    }
   ],
   "source": [
    "print(t)"
   ]
  },
  {
   "cell_type": "code",
   "execution_count": 55,
   "id": "37e36c5d-920e-47c9-adcc-65ff743bf4a5",
   "metadata": {},
   "outputs": [
    {
     "data": {
      "text/plain": [
       "1"
      ]
     },
     "execution_count": 55,
     "metadata": {},
     "output_type": "execute_result"
    }
   ],
   "source": [
    "sys.getrefcount(Test())"
   ]
  },
  {
   "cell_type": "code",
   "execution_count": 53,
   "id": "5c82df86-3065-438e-9b7e-93cf4dee44a6",
   "metadata": {},
   "outputs": [],
   "source": [
    "# - As soon as it finds some object with 0 reference then we say the object is elgible to be collected.\n",
    "# - When an object has the 0 reference still garbage collector can not destroy it.\n",
    "# - Because still the object may have some database or network connections.\n",
    "# - Now garbage collector will call a special program known as destructor.\n",
    "# - destructor removes the database and network connections.\n",
    "# - This process is known as cleanup activity.\n",
    "# - As soon as clean up is done, garbage collector destroys the object."
   ]
  },
  {
   "cell_type": "code",
   "execution_count": 57,
   "id": "492a5708-d182-4b98-84d7-47f071be25f7",
   "metadata": {},
   "outputs": [],
   "source": [
    "# - Who is responsible to create the object? -> developer\n",
    "# - Who is responsible to destroy the object - destrcutor/ garbage collector -> garbage collector\n",
    "# - Who is responsible for the cleanup activity- destructor.\n",
    "# - Which object is eligible to be collected- object with 0 reference."
   ]
  },
  {
   "cell_type": "code",
   "execution_count": 59,
   "id": "4a689d74-bcc5-4534-af7c-30768988066f",
   "metadata": {},
   "outputs": [],
   "source": [
    "# __del__()- destructor"
   ]
  },
  {
   "cell_type": "code",
   "execution_count": 1,
   "id": "049aefd5-be2a-47d3-b94e-fb7c8556d0f6",
   "metadata": {},
   "outputs": [],
   "source": [
    "class Test:\n",
    "    def __init__(self):\n",
    "        print('Object is created')\n",
    "        \n",
    "    def __del__(self):\n",
    "        print('Cleanup activity')"
   ]
  },
  {
   "cell_type": "code",
   "execution_count": 2,
   "id": "a4aec6f4-7b3e-4ad0-afa2-7eb8efffa4d9",
   "metadata": {},
   "outputs": [],
   "source": [
    "import sys"
   ]
  },
  {
   "cell_type": "code",
   "execution_count": 3,
   "id": "6a9dccb7-4b6e-41e6-9678-6ac57ec0fe82",
   "metadata": {},
   "outputs": [
    {
     "name": "stdout",
     "output_type": "stream",
     "text": [
      "Object is created\n"
     ]
    }
   ],
   "source": [
    "t=Test()"
   ]
  },
  {
   "cell_type": "code",
   "execution_count": 7,
   "id": "95919427-b437-44a0-9cfd-2c870a62e953",
   "metadata": {},
   "outputs": [
    {
     "data": {
      "text/plain": [
       "2"
      ]
     },
     "execution_count": 7,
     "metadata": {},
     "output_type": "execute_result"
    }
   ],
   "source": [
    "sys.getrefcount(t)"
   ]
  },
  {
   "cell_type": "code",
   "execution_count": 9,
   "id": "005bca46-80c6-4314-9ae5-8c3ee78ac732",
   "metadata": {},
   "outputs": [],
   "source": [
    "a=t"
   ]
  },
  {
   "cell_type": "code",
   "execution_count": 11,
   "id": "5f0857f7-142a-42ad-8cf8-71bc0d12b927",
   "metadata": {},
   "outputs": [
    {
     "data": {
      "text/plain": [
       "3"
      ]
     },
     "execution_count": 11,
     "metadata": {},
     "output_type": "execute_result"
    }
   ],
   "source": [
    "sys.getrefcount(t)"
   ]
  },
  {
   "cell_type": "code",
   "execution_count": 13,
   "id": "8473487b-c4a7-4785-be54-55294bd1acc4",
   "metadata": {},
   "outputs": [],
   "source": [
    "del a"
   ]
  },
  {
   "cell_type": "code",
   "execution_count": 15,
   "id": "9f195bc6-2aef-4537-af01-d3bcfdb10a25",
   "metadata": {},
   "outputs": [
    {
     "data": {
      "text/plain": [
       "2"
      ]
     },
     "execution_count": 15,
     "metadata": {},
     "output_type": "execute_result"
    }
   ],
   "source": [
    "sys.getrefcount(t)"
   ]
  },
  {
   "cell_type": "code",
   "execution_count": 17,
   "id": "b1800fda-0122-4d25-98e2-68ba7683d3bb",
   "metadata": {},
   "outputs": [
    {
     "name": "stdout",
     "output_type": "stream",
     "text": [
      "Cleanup activity\n"
     ]
    }
   ],
   "source": [
    "t=None"
   ]
  },
  {
   "cell_type": "code",
   "execution_count": 19,
   "id": "a135bb8d-b2f9-4b2b-9ea7-eb986d60b9d2",
   "metadata": {},
   "outputs": [],
   "source": [
    "class Employee:\n",
    "    def __init__(self):\n",
    "        print('Employee object is created')\n",
    "    def __del__(self):\n",
    "        print('Cleanup activity is taking place')"
   ]
  },
  {
   "cell_type": "code",
   "execution_count": 21,
   "id": "09cdc9c0-728d-4a9a-b5e0-c40c27a75658",
   "metadata": {},
   "outputs": [
    {
     "name": "stdout",
     "output_type": "stream",
     "text": [
      "Employee object is created\n"
     ]
    }
   ],
   "source": [
    "e=Employee()"
   ]
  },
  {
   "cell_type": "code",
   "execution_count": 23,
   "id": "3d1f4781-d3ca-4acb-8a86-7bb7220520a3",
   "metadata": {},
   "outputs": [],
   "source": [
    "a=e"
   ]
  },
  {
   "cell_type": "code",
   "execution_count": 25,
   "id": "00ea90e9-aa81-4317-8a0a-d7cadfe2a6de",
   "metadata": {},
   "outputs": [],
   "source": [
    "del e"
   ]
  },
  {
   "cell_type": "code",
   "execution_count": 27,
   "id": "6d1f9c6f-4bcd-485f-99ca-8fd6388186da",
   "metadata": {},
   "outputs": [
    {
     "name": "stdout",
     "output_type": "stream",
     "text": [
      "Cleanup activity is taking place\n"
     ]
    }
   ],
   "source": [
    "del a"
   ]
  },
  {
   "cell_type": "code",
   "execution_count": 29,
   "id": "537f8ded-8186-48ca-83d5-12e17240c0ec",
   "metadata": {},
   "outputs": [
    {
     "name": "stdout",
     "output_type": "stream",
     "text": [
      "Employee object is created\n"
     ]
    }
   ],
   "source": [
    "e=Employee()"
   ]
  },
  {
   "cell_type": "code",
   "execution_count": 31,
   "id": "91e77800-622f-4f69-a859-e393608a3ab0",
   "metadata": {},
   "outputs": [],
   "source": [
    "a=e"
   ]
  },
  {
   "cell_type": "code",
   "execution_count": 33,
   "id": "55cb41bd-1756-4c31-a80b-d950974d34ba",
   "metadata": {},
   "outputs": [],
   "source": [
    "e=None"
   ]
  },
  {
   "cell_type": "code",
   "execution_count": 35,
   "id": "f3290399-5dee-4fba-8771-5a89dc5ad866",
   "metadata": {},
   "outputs": [
    {
     "name": "stdout",
     "output_type": "stream",
     "text": [
      "Cleanup activity is taking place\n"
     ]
    }
   ],
   "source": [
    "a=None"
   ]
  },
  {
   "cell_type": "code",
   "execution_count": 37,
   "id": "b1aa8fe5-640a-4215-bdf5-9ce5e4a5ea04",
   "metadata": {},
   "outputs": [
    {
     "name": "stdout",
     "output_type": "stream",
     "text": [
      "Employee object is created\n"
     ]
    }
   ],
   "source": [
    "e=Employee()"
   ]
  },
  {
   "cell_type": "code",
   "execution_count": 39,
   "id": "a9bd5b1c-e194-4a6a-9f17-b945719abf5e",
   "metadata": {},
   "outputs": [
    {
     "name": "stdout",
     "output_type": "stream",
     "text": [
      "Cleanup activity is taking place\n"
     ]
    }
   ],
   "source": [
    "del e"
   ]
  },
  {
   "cell_type": "code",
   "execution_count": 41,
   "id": "96e8cfc2-313c-4a63-898b-b1bdab4b221b",
   "metadata": {},
   "outputs": [],
   "source": [
    "e=None"
   ]
  },
  {
   "cell_type": "code",
   "execution_count": 45,
   "id": "d1d19885-bce5-48aa-8ea5-24215b52eee8",
   "metadata": {},
   "outputs": [
    {
     "name": "stdout",
     "output_type": "stream",
     "text": [
      "None\n"
     ]
    }
   ],
   "source": [
    "print(e)"
   ]
  },
  {
   "cell_type": "code",
   "execution_count": 47,
   "id": "cce0e306-d238-4145-8f5f-b024ae2b2220",
   "metadata": {},
   "outputs": [],
   "source": [
    "del e"
   ]
  },
  {
   "cell_type": "code",
   "execution_count": 51,
   "id": "c1d824e2-151d-46a5-b80c-eecdd46995e3",
   "metadata": {},
   "outputs": [
    {
     "ename": "NameError",
     "evalue": "name 'e' is not defined",
     "output_type": "error",
     "traceback": [
      "\u001b[1;31m---------------------------------------------------------------------------\u001b[0m",
      "\u001b[1;31mNameError\u001b[0m                                 Traceback (most recent call last)",
      "Cell \u001b[1;32mIn[51], line 1\u001b[0m\n\u001b[1;32m----> 1\u001b[0m \u001b[38;5;28mprint\u001b[39m(e)\n",
      "\u001b[1;31mNameError\u001b[0m: name 'e' is not defined"
     ]
    }
   ],
   "source": [
    "print(e)"
   ]
  },
  {
   "cell_type": "code",
   "execution_count": 58,
   "id": "5b3e8ad4-eba6-4fca-947e-55d0266fa3df",
   "metadata": {},
   "outputs": [],
   "source": [
    "# Data cleaning (Pandas, Excel)"
   ]
  },
  {
   "cell_type": "code",
   "execution_count": 77,
   "id": "f5e4e82a-c1ec-4910-a346-4b452a451b42",
   "metadata": {},
   "outputs": [],
   "source": [
    "# - Loops and Functions\n",
    "# - Modules\n",
    "# - Regex\n",
    "# - Pandas\n",
    "# - Generative AI (ChatGPT, Copilot, Llama)\n",
    "# - Git and Git Hub"
   ]
  },
  {
   "cell_type": "code",
   "execution_count": 68,
   "id": "287e564a-278e-4b80-b1da-c313cde677cd",
   "metadata": {},
   "outputs": [],
   "source": [
    "def add():\n",
    "    a=int(input('Enter a number- '))\n",
    "    b=int(input('Enter a number- '))\n",
    "    c=a+b\n",
    "    return c"
   ]
  },
  {
   "cell_type": "code",
   "execution_count": 72,
   "id": "54e46bc3-393b-4a45-987f-4059d1ec275b",
   "metadata": {},
   "outputs": [
    {
     "name": "stdin",
     "output_type": "stream",
     "text": [
      "Enter a number-  10\n",
      "Enter a number-  20\n"
     ]
    },
    {
     "data": {
      "text/plain": [
       "30"
      ]
     },
     "execution_count": 72,
     "metadata": {},
     "output_type": "execute_result"
    }
   ],
   "source": [
    "add()"
   ]
  },
  {
   "cell_type": "code",
   "execution_count": null,
   "id": "4b2e42c9-2d1c-4c17-b568-f4934f5d821d",
   "metadata": {},
   "outputs": [],
   "source": []
  },
  {
   "cell_type": "code",
   "execution_count": 81,
   "id": "33d8cc9a-283d-4aab-982a-da30fba41bf9",
   "metadata": {},
   "outputs": [],
   "source": [
    "# w3schools.com\n",
    "# w3resources.com\n",
    "# hackrrank\n",
    "# leetcode"
   ]
  },
  {
   "cell_type": "code",
   "execution_count": null,
   "id": "9c170cf9-73bd-4bd8-8cf7-798f48311605",
   "metadata": {},
   "outputs": [],
   "source": []
  }
 ],
 "metadata": {
  "kernelspec": {
   "display_name": "Python 3 (ipykernel)",
   "language": "python",
   "name": "python3"
  },
  "language_info": {
   "codemirror_mode": {
    "name": "ipython",
    "version": 3
   },
   "file_extension": ".py",
   "mimetype": "text/x-python",
   "name": "python",
   "nbconvert_exporter": "python",
   "pygments_lexer": "ipython3",
   "version": "3.11.4"
  }
 },
 "nbformat": 4,
 "nbformat_minor": 5
}
