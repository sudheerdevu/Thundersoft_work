{
 "cells": [
  {
   "cell_type": "markdown",
   "id": "8d849b17-2e46-4cf7-9895-baff7d958e2e",
   "metadata": {},
   "source": [
    "# Case_2\n",
    "- By using list()"
   ]
  },
  {
   "cell_type": "code",
   "execution_count": 2,
   "id": "7b9611c9-6ae9-4c9f-ba52-b9f5bda646f3",
   "metadata": {},
   "outputs": [],
   "source": [
    "# list(Iterable)- It returns a list (Typecasting)"
   ]
  },
  {
   "cell_type": "code",
   "execution_count": 4,
   "id": "76c18062-24d3-4c6d-bf67-21abfcd3a088",
   "metadata": {},
   "outputs": [],
   "source": [
    "# list(enumerate_object)\n",
    "# list(zip_object)\n",
    "# list(filter_object)\n",
    "# list(map_object)"
   ]
  },
  {
   "cell_type": "markdown",
   "id": "a3624c78-de01-4483-a548-fa27090dbf8f",
   "metadata": {},
   "source": [
    "### filter()"
   ]
  },
  {
   "cell_type": "code",
   "execution_count": 7,
   "id": "9df03380-ae26-4b7d-80a2-59adefe2de76",
   "metadata": {},
   "outputs": [],
   "source": [
    "# - filter() filters the values from an iterable and returns a filter object.\n",
    "# - To extract the values from tehe filter object we pass it to the list()"
   ]
  },
  {
   "cell_type": "code",
   "execution_count": 19,
   "id": "ca9d2ef9-b16b-4629-b227-9793ebac3c7e",
   "metadata": {},
   "outputs": [
    {
     "name": "stdout",
     "output_type": "stream",
     "text": [
      "<filter object at 0x0000028071131BD0> <class 'filter'>\n",
      "[2, 4, 6, 8, 10] <class 'list'>\n"
     ]
    }
   ],
   "source": [
    "t=(1,2,3,4,5,6,7,8,9,10)\n",
    "f=filter(lambda x:x%2==0,t)\n",
    "print(f,type(f))\n",
    "lst=list(f)\n",
    "print(lst,type(lst))"
   ]
  },
  {
   "cell_type": "markdown",
   "id": "3e0f1a07-4a3d-4f2f-a5fe-995b538750aa",
   "metadata": {},
   "source": [
    "### map()"
   ]
  },
  {
   "cell_type": "code",
   "execution_count": 22,
   "id": "5156bb8d-5557-4cab-be18-e600d20084fa",
   "metadata": {},
   "outputs": [],
   "source": [
    "# - map() is used to apply element by element operation on an iterable.\n",
    "# - map() returns a map object.\n",
    "# - To extract the values from a map object we pass it to the list()."
   ]
  },
  {
   "cell_type": "code",
   "execution_count": 30,
   "id": "72944379-a95c-4e6e-b3bb-a07aaf8e1d82",
   "metadata": {},
   "outputs": [
    {
     "name": "stdout",
     "output_type": "stream",
     "text": [
      "<map object at 0x0000028071130B80> <class 'map'>\n",
      "[1, 4, 9, 16, 25, 36, 49, 64, 81, 100] <class 'list'>\n"
     ]
    }
   ],
   "source": [
    "t=(1,2,3,4,5,6,7,8,9,10)\n",
    "m=map(lambda x:x**2,t)\n",
    "print(m,type(m))\n",
    "lst=list(m)\n",
    "print(lst,type(lst))"
   ]
  },
  {
   "cell_type": "markdown",
   "id": "239d9bf0-d518-4b03-81ff-b73496588b7f",
   "metadata": {},
   "source": [
    "# Case_3\n",
    "- By taking the input from the user"
   ]
  },
  {
   "cell_type": "code",
   "execution_count": 35,
   "id": "fb49a3d2-b481-4dbe-842d-700a8b86754a",
   "metadata": {},
   "outputs": [
    {
     "name": "stdin",
     "output_type": "stream",
     "text": [
      "Enter some values-  Hello\n"
     ]
    },
    {
     "name": "stdout",
     "output_type": "stream",
     "text": [
      "['H', 'e', 'l', 'l', 'o'] <class 'list'>\n"
     ]
    }
   ],
   "source": [
    "lst=list(input('Enter some values- '))\n",
    "print(lst,type(lst))"
   ]
  },
  {
   "cell_type": "code",
   "execution_count": 41,
   "id": "4e16708f-6e7a-4cef-a854-210ab067aaa7",
   "metadata": {},
   "outputs": [
    {
     "name": "stdout",
     "output_type": "stream",
     "text": [
      "['H', 'e', 'l', 'l', 'o']\n"
     ]
    }
   ],
   "source": [
    "print(list('Hello'))"
   ]
  },
  {
   "cell_type": "code",
   "execution_count": 43,
   "id": "09eaf29f-afe3-4472-a891-714029573596",
   "metadata": {},
   "outputs": [
    {
     "name": "stdin",
     "output_type": "stream",
     "text": [
      "Enter some values-  12345\n"
     ]
    },
    {
     "name": "stdout",
     "output_type": "stream",
     "text": [
      "['1', '2', '3', '4', '5'] <class 'list'>\n"
     ]
    }
   ],
   "source": [
    "lst=list(input('Enter some values- '))\n",
    "print(lst,type(lst))"
   ]
  },
  {
   "cell_type": "code",
   "execution_count": 52,
   "id": "11b3d157-7d70-4901-8847-3af4eb748029",
   "metadata": {},
   "outputs": [
    {
     "name": "stdout",
     "output_type": "stream",
     "text": [
      "['1', '2', '3', '4', '5']\n"
     ]
    }
   ],
   "source": [
    "print(list('12345'))"
   ]
  },
  {
   "cell_type": "code",
   "execution_count": 54,
   "id": "332f6178-1b1d-43f2-987e-e08b6aab34ca",
   "metadata": {},
   "outputs": [
    {
     "name": "stdin",
     "output_type": "stream",
     "text": [
      "Enter some values-  Python class\n"
     ]
    },
    {
     "name": "stdout",
     "output_type": "stream",
     "text": [
      "['P', 'y', 't', 'h', 'o', 'n', ' ', 'c', 'l', 'a', 's', 's'] <class 'list'>\n"
     ]
    }
   ],
   "source": [
    "lst=list(input('Enter some values- '))\n",
    "print(lst,type(lst))"
   ]
  },
  {
   "cell_type": "code",
   "execution_count": 60,
   "id": "1eb3f6ea-c598-45e9-b814-1e5b22b80109",
   "metadata": {},
   "outputs": [
    {
     "name": "stdout",
     "output_type": "stream",
     "text": [
      "['P', 'y', 't', 'h', 'o', 'n', ' ', 'c', 'l', 'a', 's', 's']\n"
     ]
    }
   ],
   "source": [
    "print(list('Python class'))"
   ]
  },
  {
   "cell_type": "code",
   "execution_count": 56,
   "id": "efdb06bb-eacb-43f2-9f22-0d17695240ae",
   "metadata": {},
   "outputs": [],
   "source": [
    "# Output- ['Python','Class']"
   ]
  },
  {
   "cell_type": "markdown",
   "id": "5ceab690-efed-4017-9019-83ef01c68cb3",
   "metadata": {},
   "source": [
    "# eval()"
   ]
  },
  {
   "cell_type": "code",
   "execution_count": 63,
   "id": "e3a80ae4-a71e-4d26-8414-dc32663a0f9b",
   "metadata": {},
   "outputs": [],
   "source": [
    "# - It evaluates the type of the value passed to it.\n",
    "# - It always takes a string value."
   ]
  },
  {
   "cell_type": "code",
   "execution_count": 65,
   "id": "8e2067e7-168f-43c3-9916-20b8951aafb8",
   "metadata": {},
   "outputs": [
    {
     "name": "stdout",
     "output_type": "stream",
     "text": [
      "5 <class 'int'>\n"
     ]
    }
   ],
   "source": [
    "a=eval('5')\n",
    "print(a,type(a))"
   ]
  },
  {
   "cell_type": "code",
   "execution_count": 67,
   "id": "df63e81b-2ecf-440f-889a-3cebab99e1e6",
   "metadata": {},
   "outputs": [
    {
     "name": "stdout",
     "output_type": "stream",
     "text": [
      "5.7 <class 'float'>\n"
     ]
    }
   ],
   "source": [
    "a=eval('5.7')\n",
    "print(a,type(a))"
   ]
  },
  {
   "cell_type": "code",
   "execution_count": 69,
   "id": "23044a9e-ef61-48d6-91d4-a4805e24648b",
   "metadata": {},
   "outputs": [
    {
     "name": "stdout",
     "output_type": "stream",
     "text": [
      "[1, 2, 3, 4, 5] <class 'list'>\n"
     ]
    }
   ],
   "source": [
    "a=eval('[1,2,3,4,5]')\n",
    "print(a,type(a))"
   ]
  },
  {
   "cell_type": "code",
   "execution_count": 73,
   "id": "86404ba4-177b-425e-9dbc-f36d540b3f00",
   "metadata": {},
   "outputs": [
    {
     "data": {
      "text/plain": [
       "['Python', 'Class']"
      ]
     },
     "execution_count": 73,
     "metadata": {},
     "output_type": "execute_result"
    }
   ],
   "source": [
    "[\"Python\",\"Class\"]"
   ]
  },
  {
   "cell_type": "code",
   "execution_count": 75,
   "id": "8e5883bb-19cd-4397-bcf1-d47a11186412",
   "metadata": {},
   "outputs": [
    {
     "name": "stdout",
     "output_type": "stream",
     "text": [
      "['Python', 'Class'] <class 'list'>\n"
     ]
    }
   ],
   "source": [
    "a=eval('[\"Python\",\"Class\"]')\n",
    "print(a,type(a))"
   ]
  },
  {
   "cell_type": "code",
   "execution_count": 77,
   "id": "0bceddc6-4dc4-40c0-a8f7-797a5039cc6a",
   "metadata": {},
   "outputs": [
    {
     "name": "stdin",
     "output_type": "stream",
     "text": [
      "Enter a list [\"Python\",'Class']\n"
     ]
    },
    {
     "name": "stdout",
     "output_type": "stream",
     "text": [
      "['Python', 'Class'] <class 'list'>\n"
     ]
    }
   ],
   "source": [
    "lst=eval(input('Enter a list'))\n",
    "print(lst,type(lst))"
   ]
  },
  {
   "cell_type": "code",
   "execution_count": 83,
   "id": "6184f6c7-5b60-4404-ba87-e8e63d0a768b",
   "metadata": {},
   "outputs": [],
   "source": [
    "# Output- [10,20,30,40,50]"
   ]
  },
  {
   "cell_type": "code",
   "execution_count": 85,
   "id": "10f27c7e-c29f-4a3a-bfb9-291403114c2e",
   "metadata": {},
   "outputs": [
    {
     "name": "stdin",
     "output_type": "stream",
     "text": [
      "Enter values-  10,20,30,40,50\n"
     ]
    },
    {
     "name": "stdout",
     "output_type": "stream",
     "text": [
      "['1', '0', ',', '2', '0', ',', '3', '0', ',', '4', '0', ',', '5', '0'] <class 'list'>\n"
     ]
    }
   ],
   "source": [
    "lst=list(input('Enter values- '))\n",
    "print(lst,type(lst))"
   ]
  },
  {
   "cell_type": "code",
   "execution_count": 87,
   "id": "5884fafd-bcd0-46ef-85a5-884a92f915eb",
   "metadata": {},
   "outputs": [
    {
     "name": "stdout",
     "output_type": "stream",
     "text": [
      "['1', '0', ',', '2', '0', ',', '3', '0', ',', '4', '0', ',', '5', '0']\n"
     ]
    }
   ],
   "source": [
    "print(list('10,20,30,40,50'))"
   ]
  },
  {
   "cell_type": "code",
   "execution_count": 89,
   "id": "7bf4697c-2e0e-4180-abe2-8515880eb539",
   "metadata": {},
   "outputs": [
    {
     "name": "stdin",
     "output_type": "stream",
     "text": [
      "Enter a list [10,20,30,40,50]\n"
     ]
    },
    {
     "name": "stdout",
     "output_type": "stream",
     "text": [
      "[10, 20, 30, 40, 50] <class 'list'>\n"
     ]
    }
   ],
   "source": [
    "lst=eval(input('Enter a list'))\n",
    "print(lst,type(lst))"
   ]
  },
  {
   "cell_type": "code",
   "execution_count": 91,
   "id": "78a0421f-796b-4d7f-992f-7f37684fca10",
   "metadata": {},
   "outputs": [
    {
     "name": "stdin",
     "output_type": "stream",
     "text": [
      "Enter a value-  10\n",
      "Enter a value-  2.5\n",
      "Enter a value-  \"Python\"\n",
      "Enter a value-  True\n",
      "Enter a value-  5+5j\n"
     ]
    },
    {
     "name": "stdout",
     "output_type": "stream",
     "text": [
      "[10, 2.5, 'Python', True, (5+5j)] <class 'list'>\n"
     ]
    }
   ],
   "source": [
    "lst=[]\n",
    "\n",
    "for i in range(5):\n",
    "    val=eval(input('Enter a value- '))\n",
    "    lst.append(val)\n",
    "\n",
    "print(lst,type(lst))"
   ]
  },
  {
   "cell_type": "markdown",
   "id": "75df4259-7f57-49f0-8516-1deb2d9c3f7e",
   "metadata": {},
   "source": [
    "# Case_4\n",
    "- By using list comprehension"
   ]
  },
  {
   "cell_type": "code",
   "execution_count": 94,
   "id": "c64f755e-fca9-40f1-9e63-02f71075eb27",
   "metadata": {},
   "outputs": [],
   "source": [
    "# - It is a one liner code to create a list using loop.\n",
    "# - It is an easier method to create a list using loop."
   ]
  },
  {
   "cell_type": "markdown",
   "id": "c47303c3-d763-4afd-a044-9d4c77d7c3cc",
   "metadata": {},
   "source": [
    "### Syntax-"
   ]
  },
  {
   "cell_type": "code",
   "execution_count": 99,
   "id": "ebdeba43-3819-4fd1-a694-303767485d5b",
   "metadata": {},
   "outputs": [],
   "source": [
    "# [value for loop]\n",
    "# [value for positioner in iterable]"
   ]
  },
  {
   "cell_type": "code",
   "execution_count": 103,
   "id": "a2ddab3c-6bd4-49af-b892-ab2f29b4e23f",
   "metadata": {},
   "outputs": [
    {
     "name": "stdout",
     "output_type": "stream",
     "text": [
      "['a', 'a', 'a', 'a', 'a'] <class 'list'>\n"
     ]
    }
   ],
   "source": [
    "lst=['a' for i in range(5)]\n",
    "print(lst,type(lst))"
   ]
  },
  {
   "cell_type": "code",
   "execution_count": 107,
   "id": "b5e92c86-7084-447f-bb79-e1b500b1b75b",
   "metadata": {},
   "outputs": [
    {
     "name": "stdout",
     "output_type": "stream",
     "text": [
      "['a', 'a', 'a', 'a', 'a'] <class 'list'>\n"
     ]
    }
   ],
   "source": [
    "lst=[]\n",
    "\n",
    "for i in range(5):\n",
    "    lst.append('a')\n",
    "\n",
    "print(lst,type(lst))"
   ]
  },
  {
   "cell_type": "code",
   "execution_count": 117,
   "id": "551363bb-b522-441a-9855-40cdcf32278f",
   "metadata": {},
   "outputs": [],
   "source": [
    "# Create a list of numbers from 1 to 10 using list comprehension"
   ]
  },
  {
   "cell_type": "code",
   "execution_count": 115,
   "id": "e4851968-8e68-4dba-9be5-9499bcd20fe1",
   "metadata": {},
   "outputs": [
    {
     "name": "stdout",
     "output_type": "stream",
     "text": [
      "[1, 2, 3, 4, 5, 6, 7, 8, 9, 10]\n"
     ]
    }
   ],
   "source": [
    "lst=[]\n",
    "for i in range(1,11):\n",
    "    lst.append(i)\n",
    "print(lst)"
   ]
  },
  {
   "cell_type": "code",
   "execution_count": 125,
   "id": "456b4fad-5d30-4f56-9e19-b6617a939dba",
   "metadata": {},
   "outputs": [
    {
     "name": "stdout",
     "output_type": "stream",
     "text": [
      "[1, 2, 3, 4, 5, 6, 7, 8, 9, 10]\n"
     ]
    }
   ],
   "source": [
    "lst=[i for i in range(1,11)]\n",
    "print(lst)"
   ]
  },
  {
   "cell_type": "code",
   "execution_count": 127,
   "id": "e25eb667-ebde-4583-9358-8dee695a9e2b",
   "metadata": {},
   "outputs": [],
   "source": [
    "# [value for loop if condition]"
   ]
  },
  {
   "cell_type": "code",
   "execution_count": 129,
   "id": "6fb1028e-3243-4988-b7b9-1289d96a60bb",
   "metadata": {},
   "outputs": [],
   "source": [
    "t=(1,5,4,9,8,3,7,5,4,12,15,78,6,41,66)\n",
    "# Create a list of even numbers from the above tuple usimng list comprehension"
   ]
  },
  {
   "cell_type": "code",
   "execution_count": 139,
   "id": "580d4ad5-4c82-4370-9419-a9db014a7590",
   "metadata": {},
   "outputs": [
    {
     "name": "stdout",
     "output_type": "stream",
     "text": [
      "[4, 8, 4, 12, 78, 6, 66]\n"
     ]
    }
   ],
   "source": [
    "lst=[]\n",
    "for i in t:\n",
    "    if i%2==0:\n",
    "        lst.append(i)\n",
    "print(lst)"
   ]
  },
  {
   "cell_type": "code",
   "execution_count": 145,
   "id": "a500f9c1-ad68-48fe-b47e-b4d9d81ab112",
   "metadata": {},
   "outputs": [
    {
     "name": "stdout",
     "output_type": "stream",
     "text": [
      "[4, 8, 4, 12, 78, 6, 66]\n"
     ]
    }
   ],
   "source": [
    "lst=[i for i in t if i%2==0]\n",
    "print(lst)"
   ]
  },
  {
   "cell_type": "code",
   "execution_count": 151,
   "id": "24ad0871-72ae-4b3a-9ec1-a023e8b227f7",
   "metadata": {},
   "outputs": [],
   "source": [
    "codes=(111,118,None,121,None, 115, None, 116)\n",
    "# Create a list of the valid codes from the above tuple using list comprehension"
   ]
  },
  {
   "cell_type": "code",
   "execution_count": 169,
   "id": "5d1e93e5-2913-4af3-aaf5-18b57922bfd2",
   "metadata": {},
   "outputs": [
    {
     "name": "stdout",
     "output_type": "stream",
     "text": [
      "[111, 118, 121, 115, 116]\n"
     ]
    }
   ],
   "source": [
    "lst=[]\n",
    "for i in codes:\n",
    "    if not i==None:\n",
    "        lst.append(i)\n",
    "print(lst)"
   ]
  },
  {
   "cell_type": "code",
   "execution_count": 167,
   "id": "c3917681-73c4-4bce-b6af-dffd67c3e6db",
   "metadata": {},
   "outputs": [
    {
     "name": "stdout",
     "output_type": "stream",
     "text": [
      "[111, 118, 121, 115, 116]\n"
     ]
    }
   ],
   "source": [
    "lst=[i for i in codes if i!=None]\n",
    "print(lst)"
   ]
  },
  {
   "cell_type": "code",
   "execution_count": 175,
   "id": "0dbcde9b-abe4-4dcc-9a72-26a27c68e6f3",
   "metadata": {},
   "outputs": [],
   "source": [
    "t=(1,5,4,9,8,3,7,5,4,12)\n",
    "# Square the even numbers and cube the odd numbers from the above tuple and create a list"
   ]
  },
  {
   "cell_type": "code",
   "execution_count": 189,
   "id": "b9096a21-ad6a-4d4d-a399-c9a60c2889d7",
   "metadata": {},
   "outputs": [
    {
     "name": "stdout",
     "output_type": "stream",
     "text": [
      "[1, 125, 16, 729, 64, 27, 343, 125, 16, 144]\n"
     ]
    }
   ],
   "source": [
    "lst=[]\n",
    "for i in t:\n",
    "    if i%2==0:\n",
    "        lst.append(i**2)\n",
    "    else:\n",
    "        lst.append(i**3)\n",
    "\n",
    "print(lst)"
   ]
  },
  {
   "cell_type": "code",
   "execution_count": 197,
   "id": "e9321853-e994-4027-92c1-d76ed6877b58",
   "metadata": {},
   "outputs": [],
   "source": [
    "# [Ternary operator for loop]"
   ]
  },
  {
   "cell_type": "code",
   "execution_count": 212,
   "id": "b31bd096-15be-48a3-9936-0d56d0787a76",
   "metadata": {},
   "outputs": [
    {
     "name": "stdout",
     "output_type": "stream",
     "text": [
      "(1, 5, 4, 9, 8, 3, 7, 5, 4, 12)\n"
     ]
    }
   ],
   "source": [
    "print(t)"
   ]
  },
  {
   "cell_type": "code",
   "execution_count": 210,
   "id": "0f9da3d5-3ac9-4bfa-8ff8-f77311ff5475",
   "metadata": {},
   "outputs": [
    {
     "name": "stdout",
     "output_type": "stream",
     "text": [
      "[1, 125, 16, 729, 64, 27, 343, 125, 16, 144]\n"
     ]
    }
   ],
   "source": [
    "lst=[i**2 if i%2==0 else i**3 for i in t]\n",
    "print(lst)"
   ]
  },
  {
   "cell_type": "code",
   "execution_count": 206,
   "id": "bec6c70b-82dc-4fbb-a574-0eefe5605dbc",
   "metadata": {},
   "outputs": [
    {
     "data": {
      "text/plain": [
       "16"
      ]
     },
     "execution_count": 206,
     "metadata": {},
     "output_type": "execute_result"
    }
   ],
   "source": [
    "i=4\n",
    "i**2 if i%2==0 else i**3"
   ]
  },
  {
   "cell_type": "code",
   "execution_count": 218,
   "id": "78633010-a9c4-4d7e-9015-d7df61da94b7",
   "metadata": {},
   "outputs": [
    {
     "name": "stdout",
     "output_type": "stream",
     "text": [
      "['odd', 'odd', 'even', 'odd', 'even', 'odd', 'odd', 'odd', 'even', 'even']\n"
     ]
    }
   ],
   "source": [
    "lst=['even' if i%2==0 else 'odd' for i in t]\n",
    "print(lst)"
   ]
  },
  {
   "cell_type": "markdown",
   "id": "b556cef2-fb53-4ab4-8093-9130a9a69e68",
   "metadata": {},
   "source": [
    "# Creating a 2-D list"
   ]
  },
  {
   "cell_type": "code",
   "execution_count": 221,
   "id": "9c294066-7c60-497d-b0ac-32cce4eb621d",
   "metadata": {},
   "outputs": [],
   "source": [
    "# - When we have a list with in another list then we call it as 2-D list.\n",
    "# - When we repeat a 1-D list then we get a 2-D list."
   ]
  },
  {
   "cell_type": "code",
   "execution_count": 223,
   "id": "a59109c0-32cf-41e3-a9b2-031128a2b47b",
   "metadata": {},
   "outputs": [],
   "source": [
    "# [[]]"
   ]
  },
  {
   "cell_type": "code",
   "execution_count": 227,
   "id": "666983f5-89ba-4749-ab7b-a1e15aaf6705",
   "metadata": {},
   "outputs": [
    {
     "name": "stdout",
     "output_type": "stream",
     "text": [
      "[[1, 2, 3], [1, 2, 3], [1, 2, 3]]\n"
     ]
    }
   ],
   "source": [
    "lst=[[1,2,3],[1,2,3],[1,2,3]]\n",
    "print(lst)"
   ]
  },
  {
   "cell_type": "code",
   "execution_count": 229,
   "id": "f7527470-e3f4-401c-89f7-fef7d453a68b",
   "metadata": {},
   "outputs": [],
   "source": [
    "import numpy as np"
   ]
  },
  {
   "cell_type": "code",
   "execution_count": 233,
   "id": "6d9f909f-2d15-446c-ab52-318dcc1375a3",
   "metadata": {},
   "outputs": [
    {
     "data": {
      "text/plain": [
       "array([[1, 2, 3],\n",
       "       [1, 2, 3],\n",
       "       [1, 2, 3]])"
      ]
     },
     "execution_count": 233,
     "metadata": {},
     "output_type": "execute_result"
    }
   ],
   "source": [
    "arr=np.array([[1,2,3],[1,2,3],[1,2,3]])\n",
    "arr"
   ]
  },
  {
   "cell_type": "code",
   "execution_count": 237,
   "id": "ecdd082f-bcc6-4a39-9daf-e3da04266dfb",
   "metadata": {},
   "outputs": [],
   "source": [
    "# The number of inner lists are the number of rows\n",
    "# The number of elements in each list are the number of columns"
   ]
  },
  {
   "cell_type": "code",
   "execution_count": 240,
   "id": "c835ef97-4fa9-4e53-9074-c037ccdf63d0",
   "metadata": {},
   "outputs": [
    {
     "name": "stdout",
     "output_type": "stream",
     "text": [
      "[[1, 2, 3, 4], [1, 2, 3, 4], [1, 2, 3, 4]]\n"
     ]
    }
   ],
   "source": [
    "lst=[[1,2,3,4],[1,2,3,4],[1,2,3,4]]\n",
    "print(lst)"
   ]
  },
  {
   "cell_type": "code",
   "execution_count": 242,
   "id": "cf7f6b82-8ab1-4a4b-a8b1-978388c53352",
   "metadata": {},
   "outputs": [],
   "source": [
    "# 3- rows\n",
    "# 4- columns"
   ]
  },
  {
   "cell_type": "code",
   "execution_count": 246,
   "id": "9abb465d-f003-4425-93f8-20a16911c9dd",
   "metadata": {},
   "outputs": [
    {
     "data": {
      "text/plain": [
       "array([[1, 2, 3, 4],\n",
       "       [1, 2, 3, 4],\n",
       "       [1, 2, 3, 4]])"
      ]
     },
     "execution_count": 246,
     "metadata": {},
     "output_type": "execute_result"
    }
   ],
   "source": [
    "x=np.array(lst)\n",
    "x"
   ]
  },
  {
   "cell_type": "code",
   "execution_count": 248,
   "id": "1e0f7571-0be2-4b1f-b00b-3906b7aea4b9",
   "metadata": {},
   "outputs": [
    {
     "data": {
      "text/plain": [
       "(3, 4)"
      ]
     },
     "execution_count": 248,
     "metadata": {},
     "output_type": "execute_result"
    }
   ],
   "source": [
    "x.shape"
   ]
  },
  {
   "cell_type": "markdown",
   "id": "2c469a03-a4d9-4aed-82a0-1436109d8c58",
   "metadata": {},
   "source": [
    "### Creating a 2-D list using loop"
   ]
  },
  {
   "cell_type": "code",
   "execution_count": 253,
   "id": "bb1665d9-bc5e-4af9-8f2a-26c9bdae3af3",
   "metadata": {},
   "outputs": [],
   "source": [
    "# Create a 3*4 list of numbers\n",
    "# 3- rows\n",
    "# 4- columns"
   ]
  },
  {
   "cell_type": "code",
   "execution_count": 259,
   "id": "54faaa99-f242-4a7b-a408-28c227d3738e",
   "metadata": {},
   "outputs": [
    {
     "name": "stdout",
     "output_type": "stream",
     "text": [
      "[0, 1, 2, 3]\n",
      "[[0, 1, 2, 3]]\n"
     ]
    }
   ],
   "source": [
    "inn=[]\n",
    "out=[]\n",
    "\n",
    "for i in range(4):\n",
    "    inn.append(i)\n",
    "print(inn)\n",
    "out.append(inn)\n",
    "print(out)"
   ]
  },
  {
   "cell_type": "code",
   "execution_count": 261,
   "id": "3f4648b2-3735-4e6a-936f-3f4547d1909c",
   "metadata": {},
   "outputs": [],
   "source": [
    "# Outer loop: > The number of rows\n",
    "#     Inner loop: -> The number of values in each list (columns)"
   ]
  },
  {
   "cell_type": "code",
   "execution_count": 297,
   "id": "82463f55-6a12-49ab-952f-341429b58b42",
   "metadata": {},
   "outputs": [
    {
     "name": "stdout",
     "output_type": "stream",
     "text": [
      "[[0, 1, 2, 3], [0, 1, 2, 3], [0, 1, 2, 3]]\n"
     ]
    }
   ],
   "source": [
    "inn=[]\n",
    "out=[]\n",
    "for i in range(3): # The number of rows\n",
    "    for j in range(4): # The number of columns\n",
    "        inn.append((j))\n",
    "    out.append(inn)\n",
    "    inn=[]\n",
    "print(out)"
   ]
  },
  {
   "cell_type": "markdown",
   "id": "c4887309-62ff-48bf-a918-c5d82ea2be30",
   "metadata": {},
   "source": [
    "### Creating a 2-D list using list comprehension"
   ]
  },
  {
   "cell_type": "code",
   "execution_count": 302,
   "id": "ba0eaf80-eb83-4cea-89c1-d83a0f9e72cc",
   "metadata": {},
   "outputs": [],
   "source": [
    "# Create a 3*4 list of numbers\n",
    "# 3- rows\n",
    "# 4- columns"
   ]
  },
  {
   "cell_type": "code",
   "execution_count": 304,
   "id": "be55e959-416f-49b4-8fc1-023496578079",
   "metadata": {},
   "outputs": [
    {
     "data": {
      "text/plain": [
       "[0, 1, 2, 3]"
      ]
     },
     "execution_count": 304,
     "metadata": {},
     "output_type": "execute_result"
    }
   ],
   "source": [
    "x=[i for i in range(4)]\n",
    "x"
   ]
  },
  {
   "cell_type": "code",
   "execution_count": 312,
   "id": "4e61cb05-bd5c-4004-816e-a0a72bc706e4",
   "metadata": {},
   "outputs": [
    {
     "data": {
      "text/plain": [
       "[[0, 1, 2, 3], [0, 1, 2, 3], [0, 1, 2, 3]]"
      ]
     },
     "execution_count": 312,
     "metadata": {},
     "output_type": "execute_result"
    }
   ],
   "source": [
    "[x for i in range(3)]"
   ]
  },
  {
   "cell_type": "code",
   "execution_count": 320,
   "id": "56cdd2d7-4ce2-41d6-9812-f66f3c196346",
   "metadata": {},
   "outputs": [
    {
     "name": "stdout",
     "output_type": "stream",
     "text": [
      "[[0, 1, 2, 3], [0, 1, 2, 3], [0, 1, 2, 3]]\n"
     ]
    }
   ],
   "source": [
    "lst=[[i for i in range(4)] for j in range(3)]\n",
    "print(lst)"
   ]
  },
  {
   "cell_type": "markdown",
   "id": "7c0b1314-c617-4b4e-beb2-8cc648580496",
   "metadata": {},
   "source": [
    "# Creating a 3-D list"
   ]
  },
  {
   "cell_type": "markdown",
   "id": "5cabf56d-a08d-4528-8d88-c59424d5efcc",
   "metadata": {},
   "source": [
    "### Creating a 3-D list using loop"
   ]
  },
  {
   "cell_type": "code",
   "execution_count": 323,
   "id": "f0ff6b06-ea4a-4853-bb9a-edd00800f24f",
   "metadata": {},
   "outputs": [],
   "source": [
    "# - When we repeat a 2-D list we get a 3-D list"
   ]
  },
  {
   "cell_type": "code",
   "execution_count": null,
   "id": "00959136-034d-4def-88de-765e1d2917a6",
   "metadata": {},
   "outputs": [],
   "source": [
    "for loop: # Layers\n",
    "    for loop: # Rows\n",
    "        for loop: # Columns"
   ]
  },
  {
   "cell_type": "code",
   "execution_count": 325,
   "id": "f9c920ec-41f8-42c3-a085-ff040fc5f63f",
   "metadata": {},
   "outputs": [],
   "source": [
    "# Create a 2*3*4 list\n",
    "# 2- layers\n",
    "# 3- rows\n",
    "# 4- columns"
   ]
  },
  {
   "cell_type": "code",
   "execution_count": 349,
   "id": "143aa985-5635-4e17-ba7b-e79767955a21",
   "metadata": {},
   "outputs": [
    {
     "name": "stdout",
     "output_type": "stream",
     "text": [
      "[[[0, 1, 2, 3], [0, 1, 2, 3], [0, 1, 2, 3]], [[0, 1, 2, 3], [0, 1, 2, 3], [0, 1, 2, 3]]]\n"
     ]
    }
   ],
   "source": [
    "inn=[]\n",
    "mid=[]\n",
    "final=[]\n",
    "\n",
    "for i in range(2):\n",
    "    for j in range(3):\n",
    "        for k in range(4):\n",
    "            inn.append(k)\n",
    "        mid.append(inn)\n",
    "        inn=[]\n",
    "    final.append(mid)\n",
    "    mid=[]\n",
    "\n",
    "print(final)"
   ]
  },
  {
   "cell_type": "code",
   "execution_count": 337,
   "id": "b74fbacf-7132-43ea-adbb-4b401c84cf73",
   "metadata": {},
   "outputs": [],
   "source": [
    "arr=np.array(final)"
   ]
  },
  {
   "cell_type": "code",
   "execution_count": 339,
   "id": "52a4228d-7a16-4cde-ac50-a1890d92deb7",
   "metadata": {},
   "outputs": [
    {
     "data": {
      "text/plain": [
       "array([[[0, 1, 2, 3],\n",
       "        [0, 1, 2, 3],\n",
       "        [0, 1, 2, 3]],\n",
       "\n",
       "       [[0, 1, 2, 3],\n",
       "        [0, 1, 2, 3],\n",
       "        [0, 1, 2, 3]]])"
      ]
     },
     "execution_count": 339,
     "metadata": {},
     "output_type": "execute_result"
    }
   ],
   "source": [
    "arr"
   ]
  },
  {
   "cell_type": "code",
   "execution_count": 341,
   "id": "06d82ba5-0ec8-4726-8159-598c51124554",
   "metadata": {},
   "outputs": [
    {
     "data": {
      "text/plain": [
       "(2, 3, 4)"
      ]
     },
     "execution_count": 341,
     "metadata": {},
     "output_type": "execute_result"
    }
   ],
   "source": [
    "arr.shape"
   ]
  },
  {
   "cell_type": "markdown",
   "id": "2bc3d547-4bf0-4f2b-8698-c960ac6b7bd7",
   "metadata": {},
   "source": [
    "### Creating a 3-D list using list comprehension"
   ]
  },
  {
   "cell_type": "code",
   "execution_count": 353,
   "id": "7679ec9a-3990-492d-a97a-e17d2b1079ad",
   "metadata": {},
   "outputs": [],
   "source": [
    "# [[[cols]rows]layers]"
   ]
  },
  {
   "cell_type": "code",
   "execution_count": 361,
   "id": "00002a2e-d150-472b-955b-bd338978c07d",
   "metadata": {},
   "outputs": [
    {
     "name": "stdout",
     "output_type": "stream",
     "text": [
      "[[[0, 1, 2, 3], [0, 1, 2, 3], [0, 1, 2, 3]], [[0, 1, 2, 3], [0, 1, 2, 3], [0, 1, 2, 3]]] <class 'list'>\n"
     ]
    }
   ],
   "source": [
    "lst=[[[i for i in range(4)] for j in range(3)] for k in range(2)]\n",
    "print(lst,type(lst))"
   ]
  },
  {
   "cell_type": "code",
   "execution_count": 363,
   "id": "a37536cb-9de2-4c6d-9573-8f0362114ffa",
   "metadata": {},
   "outputs": [
    {
     "data": {
      "text/plain": [
       "array([[[0, 1, 2, 3],\n",
       "        [0, 1, 2, 3],\n",
       "        [0, 1, 2, 3]],\n",
       "\n",
       "       [[0, 1, 2, 3],\n",
       "        [0, 1, 2, 3],\n",
       "        [0, 1, 2, 3]]])"
      ]
     },
     "execution_count": 363,
     "metadata": {},
     "output_type": "execute_result"
    }
   ],
   "source": [
    "np.array(lst)"
   ]
  },
  {
   "cell_type": "markdown",
   "id": "6b765c41-abbd-4e22-9951-928ed2227a4d",
   "metadata": {},
   "source": [
    "# Maximum of a list"
   ]
  },
  {
   "cell_type": "code",
   "execution_count": 365,
   "id": "1f2fae23-34dc-4723-b458-71a074f6d138",
   "metadata": {},
   "outputs": [],
   "source": [
    "lst=[2,6,8,4,15,7,6,2]\n",
    "# Find the maximum of the list using loop"
   ]
  },
  {
   "cell_type": "code",
   "execution_count": 369,
   "id": "cd164c0b-9982-461c-98a0-f60b7abe9d77",
   "metadata": {},
   "outputs": [
    {
     "name": "stdout",
     "output_type": "stream",
     "text": [
      "15\n"
     ]
    }
   ],
   "source": [
    "print(max(lst))"
   ]
  },
  {
   "cell_type": "code",
   "execution_count": 389,
   "id": "621aa755-6b56-4b34-94a9-83f9a8fca9d5",
   "metadata": {},
   "outputs": [
    {
     "data": {
      "text/plain": [
       "True"
      ]
     },
     "execution_count": 389,
     "metadata": {},
     "output_type": "execute_result"
    }
   ],
   "source": [
    "# Approach-\n",
    "max=2\n",
    "max>6\n",
    "max=6\n",
    "max>8\n",
    "max=8\n",
    "max\n",
    "max>4\n",
    "max>15\n",
    "max=15\n",
    "max>7\n",
    "max>6\n",
    "max>2"
   ]
  },
  {
   "cell_type": "code",
   "execution_count": 395,
   "id": "58cad0f6-b4df-4ca8-bd7b-fcd64bbe182f",
   "metadata": {},
   "outputs": [
    {
     "name": "stdout",
     "output_type": "stream",
     "text": [
      "15\n"
     ]
    }
   ],
   "source": [
    "lst=[2,6,8,4,15,7,6,2]\n",
    "# Find the maximum of the list using loop\n",
    "\n",
    "max=lst[0]\n",
    "# print(max)\n",
    "\n",
    "for i in lst:\n",
    "    if max<i:\n",
    "        max=i\n",
    "print(max)"
   ]
  },
  {
   "cell_type": "code",
   "execution_count": 397,
   "id": "09a991d0-64ef-40dd-a967-760d888cea8e",
   "metadata": {},
   "outputs": [
    {
     "name": "stdout",
     "output_type": "stream",
     "text": [
      "15\n"
     ]
    }
   ],
   "source": [
    "lst=[2,6,8,4,15,7,6,2]\n",
    "# Find the maximum of the list using loop\n",
    "\n",
    "max=0\n",
    "# print(max)\n",
    "\n",
    "for i in lst:\n",
    "    if max<i:\n",
    "        max=i\n",
    "print(max)"
   ]
  },
  {
   "cell_type": "code",
   "execution_count": 401,
   "id": "85a28b16-f5fe-4334-8f49-6825a02161ec",
   "metadata": {},
   "outputs": [
    {
     "name": "stdout",
     "output_type": "stream",
     "text": [
      "-1\n"
     ]
    }
   ],
   "source": [
    "lst=[-2,-5,-7,-3,-1,-8,-9,-11,-4]\n",
    "\n",
    "max=lst[0]\n",
    "# print(max)\n",
    "\n",
    "for i in lst:\n",
    "    if max<i:\n",
    "        max=i\n",
    "print(max)"
   ]
  },
  {
   "cell_type": "markdown",
   "id": "77a41ef4-2831-4a5e-bdf9-24497b93a477",
   "metadata": {},
   "source": [
    "# Minimum of a list"
   ]
  },
  {
   "cell_type": "code",
   "execution_count": 416,
   "id": "11f7c7a1-d334-45ec-99c3-d06114ad0159",
   "metadata": {},
   "outputs": [
    {
     "name": "stdout",
     "output_type": "stream",
     "text": [
      "-15\n"
     ]
    }
   ],
   "source": [
    "lst=[8,0,-5,4,-15,7,1,2]\n",
    "\n",
    "min=lst[0]\n",
    "for i in lst:\n",
    "    if min>i:\n",
    "        min=i\n",
    "print(min)"
   ]
  },
  {
   "cell_type": "markdown",
   "id": "67cc5954-1986-475c-9918-00ea46fffdcf",
   "metadata": {},
   "source": [
    "# Sorting a list using loop"
   ]
  },
  {
   "cell_type": "code",
   "execution_count": 445,
   "id": "2ba4e33e-12f0-445d-85d5-c6afb742ffbd",
   "metadata": {},
   "outputs": [
    {
     "name": "stdout",
     "output_type": "stream",
     "text": [
      "[2, 4, 4, 6, 7, 8, 12, 15]\n"
     ]
    }
   ],
   "source": [
    "lst=[12,4,8,4,15,7,6,2]\n",
    "for i in range(len(lst)):\n",
    "    for j in range(i+1,len(lst)):\n",
    "       if lst[i]>lst[j]:\n",
    "           lst[i],lst[j]=lst[j],lst[i]\n",
    "print(lst)"
   ]
  },
  {
   "cell_type": "code",
   "execution_count": null,
   "id": "febafb85-7602-43db-b8dd-9e8a255e0fec",
   "metadata": {},
   "outputs": [],
   "source": [
    "i=0\n",
    "j=0"
   ]
  },
  {
   "cell_type": "code",
   "execution_count": 443,
   "id": "ffba599b-1856-426e-9b03-562547188b3f",
   "metadata": {},
   "outputs": [
    {
     "name": "stdout",
     "output_type": "stream",
     "text": [
      "3\n",
      "5\n"
     ]
    }
   ],
   "source": [
    "a=5\n",
    "b=3\n",
    "if a>b:\n",
    "    a,b=b,a\n",
    "print(a)\n",
    "print(b)"
   ]
  },
  {
   "cell_type": "markdown",
   "id": "644963e7-b9df-4236-9111-bcfab4daefa9",
   "metadata": {},
   "source": [
    "# List is mutable"
   ]
  },
  {
   "cell_type": "markdown",
   "id": "6a779322-970b-4dbe-a92c-b4e5fd77df2a",
   "metadata": {},
   "source": [
    "### Mutability"
   ]
  },
  {
   "cell_type": "code",
   "execution_count": 452,
   "id": "22c33e40-e1c5-4429-b0ff-7635fc8aa689",
   "metadata": {},
   "outputs": [],
   "source": [
    "# - We can modify an element inside the container.\n",
    "# - Item assignment is possible.\n",
    "# - The address of the container remains the same before and after the modification."
   ]
  },
  {
   "cell_type": "code",
   "execution_count": 454,
   "id": "38bea664-a43f-4685-a625-dbbc757f9488",
   "metadata": {},
   "outputs": [
    {
     "name": "stdout",
     "output_type": "stream",
     "text": [
      "[10, 20, 30, 40, 50] 2750732637184\n"
     ]
    }
   ],
   "source": [
    "lst=[10,20,30,40,50]\n",
    "print(lst,id(lst))"
   ]
  },
  {
   "cell_type": "code",
   "execution_count": 464,
   "id": "88735126-ac4a-4c2d-8091-990e857462e5",
   "metadata": {},
   "outputs": [
    {
     "name": "stdout",
     "output_type": "stream",
     "text": [
      "[True, 20, 30, 40, 50] 2750732637184\n"
     ]
    }
   ],
   "source": [
    "lst[0]=True # Item assignment\n",
    "print(lst,id(lst))"
   ]
  },
  {
   "cell_type": "code",
   "execution_count": 470,
   "id": "e63e9547-7426-491a-86ad-2dba09867c98",
   "metadata": {},
   "outputs": [
    {
     "name": "stdout",
     "output_type": "stream",
     "text": [
      "[True, 20, 30, 40, (5+6j)] 2750732637184\n"
     ]
    }
   ],
   "source": [
    "lst[-1]=5+6j # Item assignment\n",
    "print(lst,id(lst))"
   ]
  },
  {
   "cell_type": "markdown",
   "id": "96bf4762-f91e-41d8-b3ed-ea079c43999f",
   "metadata": {},
   "source": [
    "# List Methods"
   ]
  },
  {
   "cell_type": "code",
   "execution_count": 476,
   "id": "f717937c-f3b9-44c6-8784-4676b643b0fa",
   "metadata": {},
   "outputs": [
    {
     "name": "stdout",
     "output_type": "stream",
     "text": [
      "['__add__', '__class__', '__class_getitem__', '__contains__', '__delattr__', '__delitem__', '__dir__', '__doc__', '__eq__', '__format__', '__ge__', '__getattribute__', '__getitem__', '__getstate__', '__gt__', '__hash__', '__iadd__', '__imul__', '__init__', '__init_subclass__', '__iter__', '__le__', '__len__', '__lt__', '__mul__', '__ne__', '__new__', '__reduce__', '__reduce_ex__', '__repr__', '__reversed__', '__rmul__', '__setattr__', '__setitem__', '__sizeof__', '__str__', '__subclasshook__', 'append', 'clear', 'copy', 'count', 'extend', 'index', 'insert', 'pop', 'remove', 'reverse', 'sort']\n"
     ]
    }
   ],
   "source": [
    "print(dir(list))"
   ]
  },
  {
   "cell_type": "code",
   "execution_count": 478,
   "id": "d4648be2-f942-4cf3-a34c-c1d385dffce7",
   "metadata": {},
   "outputs": [],
   "source": [
    "# 'append', 'clear', 'copy', 'count', 'extend', 'index', 'insert', 'pop', 'remove', 'reverse', 'sort'"
   ]
  },
  {
   "cell_type": "markdown",
   "id": "4d868b0d-1069-48ab-bb4c-ccd553fe9e2a",
   "metadata": {},
   "source": [
    "# append()"
   ]
  },
  {
   "cell_type": "code",
   "execution_count": 481,
   "id": "5c5f5b5e-6223-4d40-a01c-e0a5ae4f3baa",
   "metadata": {},
   "outputs": [],
   "source": [
    "# - append() takes a value as an argument and appends (add) it at the end of the list.\n",
    "# - It makes the changes in the existing list, It does not return any object."
   ]
  },
  {
   "cell_type": "code",
   "execution_count": 486,
   "id": "782817d9-4fad-43be-baff-63d0582ae3f8",
   "metadata": {},
   "outputs": [],
   "source": [
    "# lst.append(value)"
   ]
  },
  {
   "cell_type": "code",
   "execution_count": 490,
   "id": "22ed58ef-1d9f-437c-9bc9-4255b2bf0a02",
   "metadata": {},
   "outputs": [
    {
     "name": "stdout",
     "output_type": "stream",
     "text": [
      "[10, 20, 30, 40, 50]\n",
      "[10, 20, 30, 40, 50, 100]\n",
      "[10, 20, 30, 40, 50, 100, (1, 2, 3, 4)]\n"
     ]
    }
   ],
   "source": [
    "lst=[10,20,30,40,50]\n",
    "print(lst)\n",
    "\n",
    "lst.append(100)\n",
    "print(lst)\n",
    "\n",
    "lst.append((1,2,3,4))\n",
    "print(lst)"
   ]
  },
  {
   "cell_type": "code",
   "execution_count": 496,
   "id": "101f21a4-6b22-4b34-aafc-115b8db30a71",
   "metadata": {},
   "outputs": [
    {
     "name": "stdout",
     "output_type": "stream",
     "text": [
      "None\n"
     ]
    }
   ],
   "source": [
    "lst=[10,20,30,40,50]\n",
    "x=lst.append(100)\n",
    "print(x)"
   ]
  },
  {
   "cell_type": "code",
   "execution_count": 494,
   "id": "bef04cae-3a3e-4521-b38e-a4c4062313b2",
   "metadata": {},
   "outputs": [
    {
     "name": "stdout",
     "output_type": "stream",
     "text": [
      "[10, 20, 30, 40, 50, 100]\n"
     ]
    }
   ],
   "source": [
    "print(lst)"
   ]
  },
  {
   "cell_type": "markdown",
   "id": "ccb81802-658d-4700-8fa2-dc0e755e9742",
   "metadata": {},
   "source": [
    "# extend()"
   ]
  },
  {
   "cell_type": "code",
   "execution_count": 499,
   "id": "694a0bd1-b062-4332-9922-292f7ac03864",
   "metadata": {},
   "outputs": [],
   "source": [
    "# - It takes an iterable as an input.\n",
    "# - It appends the elements of the iterable to the list one by one.\n",
    "# - It makes the changes in the existing list.\n",
    "# - It does not return anything."
   ]
  },
  {
   "cell_type": "code",
   "execution_count": 503,
   "id": "59dce555-0269-4258-8135-de9dc3b564bb",
   "metadata": {},
   "outputs": [],
   "source": [
    "# lst.extend(iterable)"
   ]
  },
  {
   "cell_type": "code",
   "execution_count": 509,
   "id": "ab914553-8854-4375-80b3-6702c30d4296",
   "metadata": {},
   "outputs": [
    {
     "name": "stdout",
     "output_type": "stream",
     "text": [
      "[10, 20, 30, 40] 2750732889536\n",
      "[10, 20, 30, 40, 'P', 'y', 't', 'h', 'o', 'n'] 2750732889536\n"
     ]
    }
   ],
   "source": [
    "lst=[10,20,30,40]\n",
    "print(lst,id(lst))\n",
    "\n",
    "lst.extend('Python')\n",
    "print(lst,id(lst))"
   ]
  },
  {
   "cell_type": "code",
   "execution_count": 507,
   "id": "ae3c5995-48c9-4080-a9ed-fc4e6f7cb341",
   "metadata": {},
   "outputs": [
    {
     "name": "stdout",
     "output_type": "stream",
     "text": [
      "[10, 20, 30, 40]\n",
      "[10, 20, 30, 40, 'Python']\n"
     ]
    }
   ],
   "source": [
    "lst=[10,20,30,40]\n",
    "print(lst)\n",
    "\n",
    "lst.append('Python')\n",
    "print(lst)"
   ]
  },
  {
   "cell_type": "code",
   "execution_count": 511,
   "id": "02101d48-ab8d-4057-8299-f061a810895f",
   "metadata": {},
   "outputs": [
    {
     "name": "stdout",
     "output_type": "stream",
     "text": [
      "[10, 20, 30, 40]\n",
      "[10, 20, 30, 40, [1, 2, 3], 'Python', {1, 2, 3}, {1: 0, 2: 200}]\n"
     ]
    }
   ],
   "source": [
    "lst=[10,20,30,40]\n",
    "print(lst)\n",
    "\n",
    "lst.extend(([1,2,3],'Python',{1,2,3},{1:00,2:200}))\n",
    "print(lst)"
   ]
  },
  {
   "cell_type": "code",
   "execution_count": 524,
   "id": "9e1b63b8-6f97-4934-800a-29ad6b331f80",
   "metadata": {},
   "outputs": [
    {
     "name": "stdout",
     "output_type": "stream",
     "text": [
      "None\n",
      "[10, 20, 30, 40, 50, 60, 70, 80, 4, 5, 6]\n"
     ]
    }
   ],
   "source": [
    "lst=[10,20,30,40,50,60,70,80]\n",
    "x=lst.extend({4,5,6})\n",
    "print(x)\n",
    "print(lst)"
   ]
  },
  {
   "cell_type": "code",
   "execution_count": 532,
   "id": "e220f547-9804-41d9-a200-da57cdba4a15",
   "metadata": {},
   "outputs": [
    {
     "ename": "TypeError",
     "evalue": "'bool' object is not iterable",
     "output_type": "error",
     "traceback": [
      "\u001b[1;31m---------------------------------------------------------------------------\u001b[0m",
      "\u001b[1;31mTypeError\u001b[0m                                 Traceback (most recent call last)",
      "Cell \u001b[1;32mIn[532], line 2\u001b[0m\n\u001b[0;32m      1\u001b[0m lst\u001b[38;5;241m=\u001b[39m[\u001b[38;5;241m10\u001b[39m,\u001b[38;5;241m20\u001b[39m]\n\u001b[1;32m----> 2\u001b[0m lst\u001b[38;5;241m.\u001b[39mextend(\u001b[38;5;28;01mTrue\u001b[39;00m)\n",
      "\u001b[1;31mTypeError\u001b[0m: 'bool' object is not iterable"
     ]
    }
   ],
   "source": [
    "lst=[10,20]\n",
    "lst.extend(True)"
   ]
  },
  {
   "cell_type": "markdown",
   "id": "51b0b64d-8257-46f0-a6ec-7851fb21ad25",
   "metadata": {},
   "source": [
    "# count()"
   ]
  },
  {
   "cell_type": "code",
   "execution_count": 535,
   "id": "67625db8-c104-48f1-b1e7-5599eace47c0",
   "metadata": {},
   "outputs": [],
   "source": [
    "# - It returns the count of the specified values in a list.\n",
    "# - If the value is not found then it returns 0."
   ]
  },
  {
   "cell_type": "code",
   "execution_count": 537,
   "id": "18e27d5e-ae83-479a-a4a8-484f40fe2f8c",
   "metadata": {},
   "outputs": [],
   "source": [
    "# lst.count(element)"
   ]
  },
  {
   "cell_type": "code",
   "execution_count": 547,
   "id": "f225a435-747f-47a6-a9fa-9daad37eefef",
   "metadata": {},
   "outputs": [
    {
     "name": "stdout",
     "output_type": "stream",
     "text": [
      "4\n",
      "6\n",
      "1\n",
      "1\n",
      "0\n"
     ]
    }
   ],
   "source": [
    "lst=[1,1,1,1,5,5,55,5,5,5,5,9,9,9,9,9,9,0]\n",
    "print(lst.count(1))\n",
    "print(lst.count(5))\n",
    "print(lst.count(0))\n",
    "print(lst.count(55))\n",
    "print(lst.count(100))"
   ]
  },
  {
   "cell_type": "markdown",
   "id": "4c0917de-b8a0-49de-91eb-d212bd0a0498",
   "metadata": {},
   "source": [
    "# index()"
   ]
  },
  {
   "cell_type": "code",
   "execution_count": 550,
   "id": "ac0712d9-8c96-473e-8d42-9b5957d167ba",
   "metadata": {},
   "outputs": [],
   "source": [
    "# - It returns the index of the first occurence from left to right of the specified element.\n",
    "# - If the element is not found then it raises ValueError."
   ]
  },
  {
   "cell_type": "code",
   "execution_count": 556,
   "id": "7126195f-3e42-4a87-80c5-4df9e157f6ea",
   "metadata": {},
   "outputs": [],
   "source": [
    "# lst.index(element, start, stop)\n",
    "# stop index is excluded"
   ]
  },
  {
   "cell_type": "code",
   "execution_count": 590,
   "id": "e90e71d7-ff8c-4ba8-9ef2-b6bd9297b71f",
   "metadata": {},
   "outputs": [
    {
     "name": "stdout",
     "output_type": "stream",
     "text": [
      "0\n",
      "6\n",
      "3\n",
      "7\n",
      "4\n"
     ]
    }
   ],
   "source": [
    "lst=['Java','C','C++','Python','Java','C#','R','Python','Python','Scala']\n",
    "print(lst.index('Java'))\n",
    "print(lst.index('R'))\n",
    "print(lst.index('Python'))\n",
    "print(lst.index('Python',4))\n",
    "print(lst.index('Java',1,5))"
   ]
  },
  {
   "cell_type": "markdown",
   "id": "95104632-c4bf-4449-b88a-08fcdbd10da8",
   "metadata": {},
   "source": [
    "# insert()"
   ]
  },
  {
   "cell_type": "code",
   "execution_count": 593,
   "id": "5dbf34fb-fc4e-471b-9a61-0c1ae271da2a",
   "metadata": {},
   "outputs": [],
   "source": [
    "# - It is used to insert an element at a particluar index.\n",
    "# - The exeisting element get shifted to the right."
   ]
  },
  {
   "cell_type": "code",
   "execution_count": 595,
   "id": "f326b894-3a08-4b33-a22d-7408df3b4631",
   "metadata": {},
   "outputs": [],
   "source": [
    "# lst.insert(index,element)"
   ]
  },
  {
   "cell_type": "code",
   "execution_count": 599,
   "id": "eec68d10-af17-4ad3-9325-f424522107e4",
   "metadata": {},
   "outputs": [
    {
     "name": "stdout",
     "output_type": "stream",
     "text": [
      "[10, 20, 50, 30, 40, 50, 60]\n"
     ]
    }
   ],
   "source": [
    "lst=[10,20,30,40,50,60]\n",
    "\n",
    "# Insert 50 at index 2\n",
    "\n",
    "lst.insert(2,50)\n",
    "print(lst)"
   ]
  },
  {
   "cell_type": "code",
   "execution_count": 601,
   "id": "66fb624d-a984-425e-b61d-21ad56d23ca5",
   "metadata": {},
   "outputs": [
    {
     "name": "stdout",
     "output_type": "stream",
     "text": [
      "[10, 20, 30, 40, 50, None, 60]\n"
     ]
    }
   ],
   "source": [
    "lst=[10,20,30,40,50,60]\n",
    "\n",
    "lst.insert(-1,None)\n",
    "print(lst)"
   ]
  },
  {
   "cell_type": "code",
   "execution_count": 605,
   "id": "15c2d46e-88ce-408c-8c52-a73f49608df0",
   "metadata": {},
   "outputs": [
    {
     "name": "stdout",
     "output_type": "stream",
     "text": [
      "[10, 20, 30, 40, 50, 60]\n",
      "[10, 20, 30, 40, 50, 60, True]\n"
     ]
    }
   ],
   "source": [
    "lst=[10,20,30,40,50,60]\n",
    "print(lst)\n",
    "lst.insert(len(lst),True)\n",
    "print(lst)"
   ]
  },
  {
   "cell_type": "markdown",
   "id": "3ed83c77-bf86-4336-a0e3-2d416da93c90",
   "metadata": {},
   "source": [
    "# pop()"
   ]
  },
  {
   "cell_type": "code",
   "execution_count": 608,
   "id": "dad40a64-59c7-4e47-b586-d41747a4575b",
   "metadata": {},
   "outputs": [],
   "source": [
    "# - It takes the index as an argument and returns the elements at that index also removes it from the list.\n",
    "# - By default it returns and removes the last element.\n",
    "# - If the invalid index is there the it raises index error."
   ]
  },
  {
   "cell_type": "code",
   "execution_count": 612,
   "id": "2595f8af-ca0d-47ae-b19b-48ba4041f0bb",
   "metadata": {},
   "outputs": [],
   "source": [
    "# lst.pop(index)\n",
    "# lst.pop()"
   ]
  },
  {
   "cell_type": "code",
   "execution_count": 626,
   "id": "86267035-cf6e-4395-9f6f-ecf1b4f9d228",
   "metadata": {},
   "outputs": [
    {
     "name": "stdout",
     "output_type": "stream",
     "text": [
      "[True, 'Python', (5+5j), None, 4500, 6.999999, False, 8400]\n",
      "6.999999\n",
      "[True, 'Python', (5+5j), None, 4500, False, 8400]\n",
      "8400\n",
      "[True, 'Python', (5+5j), None, 4500, False]\n",
      "False\n",
      "[True, 'Python', (5+5j), None, 4500]\n"
     ]
    }
   ],
   "source": [
    "lst=[True, 'Python', 5+5j, None, 4500, 6.999999, False, 8400]\n",
    "print(lst)\n",
    "\n",
    "x=lst.pop(5)\n",
    "print(x)\n",
    "print(lst)\n",
    "\n",
    "x=lst.pop()\n",
    "print(x)\n",
    "print(lst)\n",
    "\n",
    "x=lst.pop()\n",
    "print(x)\n",
    "print(lst)"
   ]
  },
  {
   "cell_type": "markdown",
   "id": "fff59d32-5d1d-4c23-970d-b9b3d0aac9a7",
   "metadata": {},
   "source": [
    "# remove()"
   ]
  },
  {
   "cell_type": "code",
   "execution_count": 640,
   "id": "5825fa68-22f1-4ad4-b668-98469ecbb231",
   "metadata": {},
   "outputs": [],
   "source": [
    "# - It takes an element as an argument.\n",
    "# - It removes the first occurence of the specified element.\n",
    "# - In case of invalid element it raies value error."
   ]
  },
  {
   "cell_type": "code",
   "execution_count": 638,
   "id": "06f51752-6f1c-4690-ae83-7696cd0e9faf",
   "metadata": {},
   "outputs": [],
   "source": [
    "# lst.remove(element)"
   ]
  },
  {
   "cell_type": "code",
   "execution_count": 654,
   "id": "42c7b65c-c046-4fe4-a554-2fffc31c9386",
   "metadata": {},
   "outputs": [
    {
     "name": "stdout",
     "output_type": "stream",
     "text": [
      "[True, 'Python', (5+5j), None, 4500, True, 6.999999, False, 8400, None]\n",
      "None\n",
      "['Python', (5+5j), None, 4500, True, 6.999999, False, 8400, None]\n",
      "['Python', (5+5j), None, 4500, True, 6.999999, 8400, None]\n",
      "['Python', (5+5j), 4500, True, 6.999999, 8400, None]\n"
     ]
    }
   ],
   "source": [
    "lst=[True, 'Python', 5+5j, None, 4500,True, 6.999999, False, 8400, None]\n",
    "print(lst)\n",
    "\n",
    "x=lst.remove(True)\n",
    "print(x)\n",
    "print(lst)\n",
    "\n",
    "lst.remove(False)\n",
    "print(lst)\n",
    "\n",
    "lst.remove(None)\n",
    "print(lst)"
   ]
  },
  {
   "cell_type": "code",
   "execution_count": 656,
   "id": "f480845a-cea1-4f11-a79b-65667cb903be",
   "metadata": {},
   "outputs": [
    {
     "ename": "ValueError",
     "evalue": "list.remove(x): x not in list",
     "output_type": "error",
     "traceback": [
      "\u001b[1;31m---------------------------------------------------------------------------\u001b[0m",
      "\u001b[1;31mValueError\u001b[0m                                Traceback (most recent call last)",
      "Cell \u001b[1;32mIn[656], line 1\u001b[0m\n\u001b[1;32m----> 1\u001b[0m lst\u001b[38;5;241m.\u001b[39mremove(\u001b[38;5;124m'\u001b[39m\u001b[38;5;124mZebra\u001b[39m\u001b[38;5;124m'\u001b[39m)\n",
      "\u001b[1;31mValueError\u001b[0m: list.remove(x): x not in list"
     ]
    }
   ],
   "source": [
    "lst.remove('Zebra')"
   ]
  },
  {
   "cell_type": "markdown",
   "id": "54cb4ba7-9df8-4ce7-8ada-99434536da6d",
   "metadata": {},
   "source": [
    "# reverse()"
   ]
  },
  {
   "cell_type": "code",
   "execution_count": 659,
   "id": "e8b064fe-c04b-4efd-95bd-9d2b083109ec",
   "metadata": {},
   "outputs": [],
   "source": [
    "# - It reverses a list.\n",
    "# - It does not return a new list, It makes the changes in the existiing list"
   ]
  },
  {
   "cell_type": "code",
   "execution_count": 667,
   "id": "9e749945-6dc9-40ae-9e57-14d59bae7473",
   "metadata": {},
   "outputs": [
    {
     "name": "stdout",
     "output_type": "stream",
     "text": [
      "[True, 'Python', (5+5j), None, 4500, True, 6.999999, False, 8400, None]\n",
      "[None, 8400, False, 6.999999, True, 4500, None, (5+5j), 'Python', True]\n"
     ]
    }
   ],
   "source": [
    "lst=[True, 'Python', 5+5j, None, 4500,True, 6.999999, False, 8400, None]\n",
    "print(lst)\n",
    "\n",
    "lst.reverse()\n",
    "print(lst)"
   ]
  },
  {
   "cell_type": "code",
   "execution_count": 673,
   "id": "125e19e5-418f-498a-9a1f-6dd924338ef0",
   "metadata": {},
   "outputs": [
    {
     "name": "stdout",
     "output_type": "stream",
     "text": [
      "[True, 'Python', (5+5j), None, 4500, True, 6.999999, False, 8400, None]\n",
      "[None, 8400, False, 6.999999, True, 4500, None, (5+5j), 'Python', True]\n",
      "[True, 'Python', (5+5j), None, 4500, True, 6.999999, False, 8400, None]\n"
     ]
    }
   ],
   "source": [
    "lst=[True, 'Python', 5+5j, None, 4500,True, 6.999999, False, 8400, None]\n",
    "print(lst)\n",
    "\n",
    "print(lst[::-1])\n",
    "print(lst)"
   ]
  },
  {
   "cell_type": "markdown",
   "id": "15909897-e93a-4a53-adb6-2fa121aa4ce3",
   "metadata": {},
   "source": [
    "# sort()"
   ]
  },
  {
   "cell_type": "code",
   "execution_count": 682,
   "id": "e01197d1-4aa8-4911-b48c-6d7c742c6a96",
   "metadata": {},
   "outputs": [],
   "source": [
    "# - It sorts a list in ascending order by default.\n",
    "# - It does not return anything. It makes the changes in the existing list."
   ]
  },
  {
   "cell_type": "code",
   "execution_count": 684,
   "id": "987eaa30-f35b-432d-918e-73eaa2ff92b4",
   "metadata": {},
   "outputs": [
    {
     "name": "stdout",
     "output_type": "stream",
     "text": [
      "[0, 3, 4, 4, 5, 5, 7, 8, 9, 9]\n"
     ]
    }
   ],
   "source": [
    "lst=[8,4,9,3,7,5,9,0,4,5]\n",
    "lst.sort()\n",
    "print(lst)"
   ]
  },
  {
   "cell_type": "code",
   "execution_count": 686,
   "id": "852eb0dd-0abf-4f14-88a8-f0f2a7baa156",
   "metadata": {},
   "outputs": [
    {
     "name": "stdout",
     "output_type": "stream",
     "text": [
      "[9, 9, 8, 7, 5, 5, 4, 4, 3, 0]\n"
     ]
    }
   ],
   "source": [
    "lst=[8,4,9,3,7,5,9,0,4,5]\n",
    "lst.sort(reverse=True)\n",
    "print(lst)"
   ]
  },
  {
   "cell_type": "code",
   "execution_count": 692,
   "id": "162bb9e1-5e58-4f4a-b9d3-13ba6d2c7d82",
   "metadata": {},
   "outputs": [
    {
     "name": "stdout",
     "output_type": "stream",
     "text": [
      "[0, 3, 4, 4, 5, 5, 7, 8, 9, 9]\n",
      "[8, 4, 9, 3, 7, 5, 9, 0, 4, 5]\n"
     ]
    }
   ],
   "source": [
    "lst=[8,4,9,3,7,5,9,0,4,5]\n",
    "x=sorted(lst)\n",
    "print(x)\n",
    "print(lst)"
   ]
  },
  {
   "cell_type": "code",
   "execution_count": 702,
   "id": "60d8488d-2cdc-4613-aec1-66db1714bf71",
   "metadata": {},
   "outputs": [
    {
     "name": "stdout",
     "output_type": "stream",
     "text": [
      "[9, 9, 8, 7, 5, 5, 4, 4, 3, 0]\n",
      "[8, 4, 9, 3, 7, 5, 9, 0, 4, 5]\n"
     ]
    }
   ],
   "source": [
    "lst=[8,4,9,3,7,5,9,0,4,5]\n",
    "x=sorted(lst,reverse=True)\n",
    "print(x)\n",
    "print(lst)"
   ]
  },
  {
   "cell_type": "markdown",
   "id": "5860d588-f646-4c08-b571-24f13ea8c935",
   "metadata": {},
   "source": [
    "# clear()"
   ]
  },
  {
   "cell_type": "code",
   "execution_count": 705,
   "id": "83189ac1-2ac4-41c4-8fb4-27d702c180db",
   "metadata": {},
   "outputs": [],
   "source": [
    "# - It removes all the elements from a list and makes it empty."
   ]
  },
  {
   "cell_type": "code",
   "execution_count": 711,
   "id": "cd9f946a-5a90-4801-a2eb-849ea0f244a2",
   "metadata": {},
   "outputs": [
    {
     "name": "stdout",
     "output_type": "stream",
     "text": [
      "[8, 4, 9, 3, 7, 5, 9, 0, 4, 5]\n",
      "[]\n"
     ]
    }
   ],
   "source": [
    "lst=[8,4,9,3,7,5,9,0,4,5]\n",
    "print(lst)\n",
    "\n",
    "lst.clear()\n",
    "print(lst)"
   ]
  },
  {
   "cell_type": "markdown",
   "id": "a71b35eb-00ef-4ad9-aa81-4fcc3e8e7727",
   "metadata": {},
   "source": [
    "# copy()"
   ]
  },
  {
   "cell_type": "code",
   "execution_count": 714,
   "id": "9e9ed8de-5bbe-4216-928d-805f923045bd",
   "metadata": {},
   "outputs": [],
   "source": [
    "# - It copies the elemnts of a list and returns a new list."
   ]
  },
  {
   "cell_type": "code",
   "execution_count": 734,
   "id": "3829922f-93dd-41de-8d6a-66f7a9d22634",
   "metadata": {},
   "outputs": [
    {
     "name": "stdout",
     "output_type": "stream",
     "text": [
      "x-> [10, 20, 30, 40, 50]\n",
      "y-> [10, 20, 30, 40, 50]\n",
      "x-> [True, 20, 30, 40, 50] 2750737891008\n",
      "y-> [True, 20, 30, 40, 50] 2750737891008\n"
     ]
    }
   ],
   "source": [
    "x=[10,20,30,40,50]\n",
    "y=x\n",
    "print('x->',x)\n",
    "print('y->',y)\n",
    "x[0]=True\n",
    "print('x->',x,id(x))\n",
    "print('y->',y,id(y))"
   ]
  },
  {
   "cell_type": "code",
   "execution_count": 732,
   "id": "cceb2956-be68-4165-bfb1-7c6970374b73",
   "metadata": {},
   "outputs": [
    {
     "name": "stdout",
     "output_type": "stream",
     "text": [
      "[10, 20, 30, 40, 50]\n",
      "[10, 20, 30, 40, 50]\n",
      "[True, 20, 30, 40, 50]\n",
      "[10, 20, 30, 40, 50]\n",
      "2750737709376\n",
      "2750737699584\n"
     ]
    }
   ],
   "source": [
    "x=[10,20,30,40,50]\n",
    "y=x.copy()\n",
    "\n",
    "print(x)\n",
    "print(y)\n",
    "\n",
    "x[0]=True\n",
    "print(x)\n",
    "print(y)\n",
    "\n",
    "print(id(x),id(y),sep='\\n')"
   ]
  },
  {
   "cell_type": "code",
   "execution_count": 736,
   "id": "fcf55e53-f178-4ee3-bf5e-71c0d2d62ffb",
   "metadata": {},
   "outputs": [],
   "source": [
    "# Tuple, Dictionary, Functions"
   ]
  },
  {
   "cell_type": "code",
   "execution_count": null,
   "id": "b3c3aaab-4218-49b1-b184-823004720dce",
   "metadata": {},
   "outputs": [],
   "source": []
  }
 ],
 "metadata": {
  "kernelspec": {
   "display_name": "Python 3 (ipykernel)",
   "language": "python",
   "name": "python3"
  },
  "language_info": {
   "codemirror_mode": {
    "name": "ipython",
    "version": 3
   },
   "file_extension": ".py",
   "mimetype": "text/x-python",
   "name": "python",
   "nbconvert_exporter": "python",
   "pygments_lexer": "ipython3",
   "version": "3.11.4"
  }
 },
 "nbformat": 4,
 "nbformat_minor": 5
}
