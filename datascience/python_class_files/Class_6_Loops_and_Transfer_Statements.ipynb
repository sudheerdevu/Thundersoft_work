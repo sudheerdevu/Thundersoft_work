{
 "cells": [
  {
   "cell_type": "markdown",
   "id": "fbd40a50-6512-4c7a-aa52-5845f8dd9eff",
   "metadata": {},
   "source": [
    "# Nested for loop"
   ]
  },
  {
   "cell_type": "code",
   "execution_count": 4,
   "id": "d4b0b6e7-58d0-46b5-8ed0-c5ff835852a4",
   "metadata": {},
   "outputs": [],
   "source": [
    "# - When we have a loop within another loop then it is a nested loop.\n",
    "# - For each iteration of the outer loop, the inner loop completes all its iterations."
   ]
  },
  {
   "cell_type": "code",
   "execution_count": null,
   "id": "186071e3-411b-4d12-a672-e381da43b26b",
   "metadata": {},
   "outputs": [],
   "source": [
    "for loop: # Outer loop\n",
    "    for loop: #Inner Loop\n",
    "        code\n",
    "        code"
   ]
  },
  {
   "cell_type": "code",
   "execution_count": 6,
   "id": "dbe213c1-e754-4533-8830-4101859347df",
   "metadata": {},
   "outputs": [
    {
     "name": "stdout",
     "output_type": "stream",
     "text": [
      "Python\n",
      "Python\n",
      "Python\n",
      "Python\n",
      "Python\n",
      "Python\n",
      "Python\n",
      "Python\n",
      "Python\n",
      "Python\n",
      "Python\n",
      "Python\n"
     ]
    }
   ],
   "source": [
    "for i in range(3): # Outer loop\n",
    "    for j in range(4): # Inner loop\n",
    "        print('Python')"
   ]
  },
  {
   "cell_type": "code",
   "execution_count": 14,
   "id": "e4e515c9-7956-4d50-a223-e9912c7475c8",
   "metadata": {},
   "outputs": [
    {
     "name": "stdout",
     "output_type": "stream",
     "text": [
      "i-> 0\n",
      "-------------------------\n",
      "j-> 0\n",
      "j-> 1\n",
      "j-> 2\n",
      "j-> 3\n",
      "***************************\n",
      "\n",
      "i-> 1\n",
      "-------------------------\n",
      "j-> 0\n",
      "j-> 1\n",
      "j-> 2\n",
      "j-> 3\n",
      "***************************\n",
      "\n",
      "i-> 2\n",
      "-------------------------\n",
      "j-> 0\n",
      "j-> 1\n",
      "j-> 2\n",
      "j-> 3\n",
      "***************************\n",
      "\n"
     ]
    }
   ],
   "source": [
    "for i in range(3):\n",
    "    print('i->',i)\n",
    "    print('-------------------------')\n",
    "    for j in range(4):\n",
    "        print('j->',j)\n",
    "    print('***************************')\n",
    "    print()"
   ]
  },
  {
   "cell_type": "code",
   "execution_count": 18,
   "id": "67fbc5ca-61eb-4feb-958f-78e11e2c77eb",
   "metadata": {},
   "outputs": [
    {
     "name": "stdout",
     "output_type": "stream",
     "text": [
      "[(10, 20, 30), (45, 50), (78, 95, 44, 36), (78, 95, 65), (78, 32)] <class 'list'>\n"
     ]
    }
   ],
   "source": [
    "lst=[(10,20,30),(45,50),(78,95,44,36),(78,95,65),(78,32)]\n",
    "print(lst,type(lst))"
   ]
  },
  {
   "cell_type": "code",
   "execution_count": 20,
   "id": "02598a93-e21a-407c-b77d-44b5a5cb619b",
   "metadata": {},
   "outputs": [
    {
     "name": "stdout",
     "output_type": "stream",
     "text": [
      "(10, 20, 30)\n",
      "(45, 50)\n",
      "(78, 95, 44, 36)\n",
      "(78, 95, 65)\n",
      "(78, 32)\n"
     ]
    }
   ],
   "source": [
    "for i in lst:\n",
    "    print(i)"
   ]
  },
  {
   "cell_type": "code",
   "execution_count": 26,
   "id": "1d1d6766-0b9c-4890-a9f1-44b120f50898",
   "metadata": {},
   "outputs": [
    {
     "name": "stdout",
     "output_type": "stream",
     "text": [
      "78\n",
      "95\n",
      "44\n",
      "36\n"
     ]
    }
   ],
   "source": [
    "i=(78, 95, 44, 36)\n",
    "for j in i:\n",
    "    print(j)"
   ]
  },
  {
   "cell_type": "code",
   "execution_count": 32,
   "id": "a961ba9e-ef3b-446b-81a7-820946001ff0",
   "metadata": {},
   "outputs": [
    {
     "name": "stdout",
     "output_type": "stream",
     "text": [
      "756\n"
     ]
    }
   ],
   "source": [
    "s=0\n",
    "for i in lst:\n",
    "    for j in i:\n",
    "        s+=j\n",
    "print(s)"
   ]
  },
  {
   "cell_type": "code",
   "execution_count": 42,
   "id": "5c57d7c5-80ce-4c0b-bb85-6494f117a807",
   "metadata": {},
   "outputs": [
    {
     "name": "stdout",
     "output_type": "stream",
     "text": [
      "U\n",
      "i\n",
      "u\n",
      "e\n",
      "a\n",
      "e\n",
      "a\n",
      "i\n",
      "u\n",
      "i\n",
      "A\n",
      "i\n",
      "I\n",
      "a\n"
     ]
    }
   ],
   "source": [
    "names=['Unni','Suresh','Mahesh','Harish','Sumit', 'Amit','Ivansh']\n",
    "# Get all the vowels from the ablove list\n",
    "\n",
    "for i in names:\n",
    "    for j in i:\n",
    "        if j in 'AEIOUaeiou':\n",
    "            print(j)"
   ]
  },
  {
   "cell_type": "code",
   "execution_count": 38,
   "id": "c0d8f904-88cc-4927-ac6c-06ec54f60c2c",
   "metadata": {},
   "outputs": [
    {
     "name": "stdout",
     "output_type": "stream",
     "text": [
      "U\n",
      "i\n"
     ]
    }
   ],
   "source": [
    "i='Unni'\n",
    "for j in i:\n",
    "    if j in 'AEIOUaeiou':\n",
    "        print(j)"
   ]
  },
  {
   "cell_type": "code",
   "execution_count": 48,
   "id": "e0f9eabe-600d-46a2-828d-614d9e5950eb",
   "metadata": {},
   "outputs": [
    {
     "name": "stdout",
     "output_type": "stream",
     "text": [
      "U\n",
      "S\n",
      "M\n",
      "H\n",
      "S\n",
      "A\n",
      "I\n"
     ]
    }
   ],
   "source": [
    "names=['Unni','Suresh','Mahesh','Harish','Sumit', 'Amit','Ivansh']\n",
    "# Get all the upper case letters from the ablove list\n",
    "\n",
    "for i in names:\n",
    "    for j in i:\n",
    "        if j.isupper():\n",
    "            print(j)"
   ]
  },
  {
   "cell_type": "code",
   "execution_count": 56,
   "id": "a56d6b64-763e-429f-a32c-ed7fcd0bbd3d",
   "metadata": {},
   "outputs": [
    {
     "name": "stdout",
     "output_type": "stream",
     "text": [
      "Peter\n",
      "piper\n",
      "picked\n",
      "a\n",
      "pack\n",
      "of\n",
      "pickeled\n",
      "peppers\n"
     ]
    }
   ],
   "source": [
    "my_str='Peter piper picked a pack of pickeled peppers'\n",
    "\n",
    "# Output- 'reteP repip dekcip a kcap fo delekcip srppep'\n",
    "\n",
    "for i in my_str.split():\n",
    "    print(i)"
   ]
  },
  {
   "cell_type": "code",
   "execution_count": 72,
   "id": "fb679a5c-dc5b-4496-afbd-4a4c25e0856f",
   "metadata": {},
   "outputs": [
    {
     "data": {
      "text/plain": [
       "'kcap'"
      ]
     },
     "execution_count": 72,
     "metadata": {},
     "output_type": "execute_result"
    }
   ],
   "source": [
    "i='pack'\n",
    "s=''\n",
    "for j in range(len(i)-1,-1,-1):\n",
    "    s+=i[j]\n",
    "s"
   ]
  },
  {
   "cell_type": "code",
   "execution_count": 90,
   "id": "78bd0e70-5266-427f-b7f2-27215bf3156f",
   "metadata": {},
   "outputs": [
    {
     "name": "stdout",
     "output_type": "stream",
     "text": [
      "['Peter', 'piper', 'picked', 'a', 'pack', 'of', 'pickeled', 'peppers']\n"
     ]
    },
    {
     "data": {
      "text/plain": [
       "'reteP repip dekcip a kcap fo delekcip sreppep'"
      ]
     },
     "execution_count": 90,
     "metadata": {},
     "output_type": "execute_result"
    }
   ],
   "source": [
    "my_str='Peter piper picked a pack of pickeled peppers'\n",
    "\n",
    "# Output- 'reteP repip dekcip a kcap fo delekcip srppep'\n",
    "lst=[]\n",
    "s=''\n",
    "\n",
    "for i in my_str:\n",
    "    if i!=' ':\n",
    "        s+=i\n",
    "    else:\n",
    "        lst.append(s)\n",
    "        s=''\n",
    "lst.append(s)\n",
    "print(lst)\n",
    "\n",
    "s=''\n",
    "for i in lst:\n",
    "    for j in range(len(i)-1,-1,-1):\n",
    "        s+=i[j]\n",
    "    if i!=lst[-1]:\n",
    "        s+=' '\n",
    "s"
   ]
  },
  {
   "cell_type": "code",
   "execution_count": 92,
   "id": "570d29b8-ee7a-4c37-b1df-999978084a96",
   "metadata": {},
   "outputs": [
    {
     "data": {
      "text/plain": [
       "'peppers'"
      ]
     },
     "execution_count": 92,
     "metadata": {},
     "output_type": "execute_result"
    }
   ],
   "source": [
    "lst[-1]"
   ]
  },
  {
   "cell_type": "code",
   "execution_count": 104,
   "id": "a2fb8c62-d0e8-4dc6-838f-7cae01c08949",
   "metadata": {},
   "outputs": [
    {
     "name": "stdout",
     "output_type": "stream",
     "text": [
      "sreppep delekcip fo kcap a dekcip repip reteP\n"
     ]
    }
   ],
   "source": [
    "my_str='Peter piper picked a pack of pickeled peppers'\n",
    "\n",
    "# Output- 'sreppep delkcip fo kcap a dekcip repip reteP'\n",
    "s=''\n",
    "for i in range(len(my_str)-1,-1,-1):\n",
    "    s+=my_str[i]\n",
    "print(s)"
   ]
  },
  {
   "cell_type": "markdown",
   "id": "e528479f-bc5a-4a11-90df-14236bc4efee",
   "metadata": {},
   "source": [
    "# while Loop"
   ]
  },
  {
   "cell_type": "code",
   "execution_count": 107,
   "id": "aee1842e-715e-4e57-80a4-f832972c92f8",
   "metadata": {},
   "outputs": [],
   "source": [
    "# - Generally while loop is used when we don't know the number of iterations."
   ]
  },
  {
   "cell_type": "markdown",
   "id": "8c79ca3d-49d6-434e-bec5-0af97a8f1351",
   "metadata": {},
   "source": [
    "### Componnets"
   ]
  },
  {
   "cell_type": "code",
   "execution_count": 110,
   "id": "aae05af5-1263-4f45-aef6-e4e4d94d5dc9",
   "metadata": {},
   "outputs": [],
   "source": [
    "# - 1- Intialisation of a counter\n",
    "# - 2- Condition\n",
    "# - 3- Increment/Decrement"
   ]
  },
  {
   "cell_type": "code",
   "execution_count": 122,
   "id": "ec08b1b9-944c-4ef2-aa8d-dbf5eceee9ad",
   "metadata": {},
   "outputs": [
    {
     "name": "stdout",
     "output_type": "stream",
     "text": [
      "Python\n",
      "Python\n",
      "Python\n",
      "Python\n",
      "Python\n"
     ]
    }
   ],
   "source": [
    "# Print Python 5 times using while loop\n",
    "\n",
    "i=1 # Counter intialisation\n",
    "\n",
    "while i<=5: # Condition\n",
    "    print('Python')\n",
    "    i+=1"
   ]
  },
  {
   "cell_type": "code",
   "execution_count": 120,
   "id": "37c5f923-e673-422d-aec6-b4e17b58d774",
   "metadata": {},
   "outputs": [
    {
     "data": {
      "text/plain": [
       "False"
      ]
     },
     "execution_count": 120,
     "metadata": {},
     "output_type": "execute_result"
    }
   ],
   "source": [
    "6<=5"
   ]
  },
  {
   "cell_type": "code",
   "execution_count": 124,
   "id": "36245797-efc0-423e-8cde-075e4ee4dded",
   "metadata": {},
   "outputs": [],
   "source": [
    "# while condition:\n",
    "#     code"
   ]
  },
  {
   "cell_type": "code",
   "execution_count": 126,
   "id": "10b1c805-5c09-48f7-930c-5bfa6c0e50fd",
   "metadata": {},
   "outputs": [],
   "source": [
    "# - Until the condition gets False , it keeps on repeating the code.\n",
    "# - If the condition never gets False, It will execte the code infinite time."
   ]
  },
  {
   "cell_type": "code",
   "execution_count": 1,
   "id": "93152b5e-725a-42a8-8b2b-5ba6a2e124ba",
   "metadata": {},
   "outputs": [],
   "source": [
    "# i=1\n",
    "# while i<=5:\n",
    "#     print('Python')"
   ]
  },
  {
   "cell_type": "code",
   "execution_count": 5,
   "id": "31ccd286-0c2e-4457-9006-d336e68809e4",
   "metadata": {},
   "outputs": [
    {
     "name": "stdout",
     "output_type": "stream",
     "text": [
      "1\n",
      "2\n",
      "3\n",
      "4\n",
      "5\n",
      "6\n",
      "7\n",
      "8\n",
      "9\n",
      "10\n"
     ]
    }
   ],
   "source": [
    "# Print the numebrs from 1 to 10 using while loop\n",
    "\n",
    "i=1\n",
    "\n",
    "while i<=10:\n",
    "    print(i)\n",
    "    i+=1 # i=i+1"
   ]
  },
  {
   "cell_type": "code",
   "execution_count": 7,
   "id": "89550e80-a23d-40a3-80d8-5df9df8a220a",
   "metadata": {},
   "outputs": [
    {
     "name": "stdout",
     "output_type": "stream",
     "text": [
      "2\n",
      "4\n",
      "6\n",
      "8\n",
      "10\n",
      "12\n",
      "14\n",
      "16\n",
      "18\n",
      "20\n"
     ]
    }
   ],
   "source": [
    "# Print the even numbers from 2 to 20 using while loop\n",
    "\n",
    "i=2\n",
    "while i<=20:\n",
    "    print(i)\n",
    "    i+=2"
   ]
  },
  {
   "cell_type": "code",
   "execution_count": 11,
   "id": "42d7396f-6fa5-4856-bdd9-2270963e7371",
   "metadata": {},
   "outputs": [
    {
     "name": "stdout",
     "output_type": "stream",
     "text": [
      "10\n",
      "9\n",
      "8\n",
      "7\n",
      "6\n",
      "5\n",
      "4\n",
      "3\n",
      "2\n",
      "1\n"
     ]
    }
   ],
   "source": [
    "# Print the numbers from 10 to 1 using while loop\n",
    "\n",
    "i=10\n",
    "\n",
    "while i>=1:\n",
    "    print(i)\n",
    "    i-=1"
   ]
  },
  {
   "cell_type": "code",
   "execution_count": 25,
   "id": "5479b310-c40b-4dda-b057-80684d4d1a3a",
   "metadata": {},
   "outputs": [
    {
     "name": "stdout",
     "output_type": "stream",
     "text": [
      "n\n",
      "o\n",
      "h\n",
      "t\n",
      "y\n",
      "P\n"
     ]
    }
   ],
   "source": [
    "my_str='Python'\n",
    "\n",
    "# Get the reverse indexes and the elements of the above string using while loop.\n",
    "\n",
    "last_index=len(my_str)-1\n",
    "# print(last_index)\n",
    "start_index=0\n",
    "# print(start_index)\n",
    "\n",
    "while last_index>=start_index:\n",
    "    print(my_str[last_index])\n",
    "    last_index-=1"
   ]
  },
  {
   "cell_type": "code",
   "execution_count": 31,
   "id": "e4fd1214-0f48-46ed-998f-54d739a7ee57",
   "metadata": {},
   "outputs": [
    {
     "name": "stdout",
     "output_type": "stream",
     "text": [
      "5 n\n",
      "4 o\n",
      "3 h\n",
      "2 t\n",
      "1 y\n",
      "0 P\n"
     ]
    }
   ],
   "source": [
    "i=len(my_str)-1\n",
    "\n",
    "while i>=0:\n",
    "    print(i,my_str[i])\n",
    "    i-=1"
   ]
  },
  {
   "cell_type": "code",
   "execution_count": 41,
   "id": "23ca7a88-a546-41ac-9380-7f30836010c3",
   "metadata": {},
   "outputs": [
    {
     "name": "stdout",
     "output_type": "stream",
     "text": [
      "-6 P\n",
      "-5 y\n",
      "-4 t\n",
      "-3 h\n",
      "-2 o\n",
      "-1 n\n"
     ]
    }
   ],
   "source": [
    "my_str='Python'\n",
    "\n",
    "# Get the negative indexes in reverse order and the elements of the above string using while loop.\n",
    "\n",
    "i=-len(my_str)\n",
    "\n",
    "while i<=-1:\n",
    "    print(i,my_str[i])\n",
    "    i+=1"
   ]
  },
  {
   "cell_type": "code",
   "execution_count": 53,
   "id": "a921d7c2-d7c2-4287-b782-a9b5065541ab",
   "metadata": {},
   "outputs": [
    {
     "name": "stdout",
     "output_type": "stream",
     "text": [
      "P\n",
      "yy\n",
      "ttt\n",
      "hhhh\n",
      "ooooo\n",
      "nnnnnn\n"
     ]
    }
   ],
   "source": [
    "my_str='Python'\n",
    "\n",
    "# Output- Using while loop\n",
    "# P\n",
    "# yy\n",
    "# ttt\n",
    "# hhhh\n",
    "# ooooo\n",
    "# nnnnnn\n",
    "\n",
    "i=0\n",
    "\n",
    "while i<len(my_str):\n",
    "    print(my_str[i]*(i+1))\n",
    "    i+=1"
   ]
  },
  {
   "cell_type": "code",
   "execution_count": null,
   "id": "b8d5a4f7-c66e-4e1e-b431-57f6a79625ef",
   "metadata": {},
   "outputs": [],
   "source": [
    "i=0 -> P\n",
    "i=1 -> yy\n",
    "i=2 -> ttt"
   ]
  },
  {
   "cell_type": "code",
   "execution_count": 63,
   "id": "340c88d1-4237-4aaf-b1f8-87f80d2fb144",
   "metadata": {},
   "outputs": [
    {
     "name": "stdout",
     "output_type": "stream",
     "text": [
      "5 n\n",
      "4 oo\n",
      "3 hhh\n",
      "2 tttt\n",
      "1 yyyyy\n",
      "0 PPPPPP\n"
     ]
    }
   ],
   "source": [
    "my_str='Python'\n",
    "\n",
    "# n\n",
    "# oo\n",
    "# hhh\n",
    "# tttt\n",
    "# yyyyy\n",
    "# PPPPPP\n",
    "\n",
    "i=len(my_str)-1\n",
    "j=1\n",
    "while i>=0:\n",
    "    print(i,my_str[i]*j)\n",
    "    i-=1\n",
    "    j+=1"
   ]
  },
  {
   "cell_type": "markdown",
   "id": "78a18a93-3fd5-4eb9-83fd-fa6b23351802",
   "metadata": {},
   "source": [
    "# while True"
   ]
  },
  {
   "cell_type": "code",
   "execution_count": 5,
   "id": "e0578084-51ac-406c-ba21-260b9d2f3a13",
   "metadata": {},
   "outputs": [],
   "source": [
    "# - It is always True.\n",
    "# - It executes a piece code infinite times.\n",
    "# - break statement is used to terminate any loop.\n",
    "# - While True is generally use when we don't know the number of iterations."
   ]
  },
  {
   "cell_type": "code",
   "execution_count": 1,
   "id": "e7f6ff2c-2ba3-4c31-8641-118cc25888f4",
   "metadata": {},
   "outputs": [],
   "source": [
    "# while True:\n",
    "#     print('Hello')"
   ]
  },
  {
   "cell_type": "code",
   "execution_count": 3,
   "id": "0ffdef19-91c0-4d85-aa8f-79290bc7600a",
   "metadata": {},
   "outputs": [
    {
     "name": "stdout",
     "output_type": "stream",
     "text": [
      "Hello\n"
     ]
    }
   ],
   "source": [
    "while True:\n",
    "    print('Hello')\n",
    "    break"
   ]
  },
  {
   "cell_type": "code",
   "execution_count": 9,
   "id": "8ba820fc-cb42-4ddf-a9bd-090d130918c5",
   "metadata": {},
   "outputs": [],
   "source": [
    "# Suppose you are creating a login form.\n",
    "# Take the password from the user.\n",
    "# If the pasword matches then it should say password matched, you are welcome.\n",
    "# If the password doesn't match then it should say Incorrect password and should ask for the password again."
   ]
  },
  {
   "cell_type": "code",
   "execution_count": 13,
   "id": "59cc68ee-9013-49f5-ba98-720f99e535ef",
   "metadata": {},
   "outputs": [
    {
     "name": "stdin",
     "output_type": "stream",
     "text": [
      "Enter the password-  123\n"
     ]
    },
    {
     "name": "stdout",
     "output_type": "stream",
     "text": [
      "Incorrect password\n"
     ]
    },
    {
     "name": "stdin",
     "output_type": "stream",
     "text": [
      "Enter the password again-  abc\n"
     ]
    },
    {
     "name": "stdout",
     "output_type": "stream",
     "text": [
      "Incorrect password\n"
     ]
    },
    {
     "name": "stdin",
     "output_type": "stream",
     "text": [
      "Enter the password again-  jkl\n"
     ]
    },
    {
     "name": "stdout",
     "output_type": "stream",
     "text": [
      "Incorrect password\n"
     ]
    },
    {
     "name": "stdin",
     "output_type": "stream",
     "text": [
      "Enter the password again-  JKL@123\n"
     ]
    },
    {
     "name": "stdout",
     "output_type": "stream",
     "text": [
      "Password matched\n",
      "You are welcome!\n"
     ]
    }
   ],
   "source": [
    "password='JKL@123'\n",
    "\n",
    "pas=input('Enter the password- ')\n",
    "\n",
    "while True:\n",
    "    if pas==password:\n",
    "        print('Password matched')\n",
    "        print('You are welcome!')\n",
    "        break\n",
    "    else:\n",
    "        print('Incorrect password')\n",
    "        pas=input('Enter the password again- ')"
   ]
  },
  {
   "cell_type": "markdown",
   "id": "2bd8ba6d-f48a-4ef0-a93f-6935c8c9a389",
   "metadata": {},
   "source": [
    "# Transfer Statements"
   ]
  },
  {
   "cell_type": "code",
   "execution_count": 16,
   "id": "7af5d5df-fd4a-4f7b-b294-509590d204fd",
   "metadata": {},
   "outputs": [],
   "source": [
    "# break\n",
    "# continue"
   ]
  },
  {
   "cell_type": "markdown",
   "id": "ef90ebf5-6da6-47fd-8380-2decc2fb6ecd",
   "metadata": {},
   "source": [
    "# break"
   ]
  },
  {
   "cell_type": "code",
   "execution_count": 19,
   "id": "00d51a9f-1f7b-4024-b292-ea2dbd00b831",
   "metadata": {},
   "outputs": [],
   "source": [
    "# - It is used to terminate a loop.\n",
    "# - As soon as break statement gets executed the control comes out of the loop."
   ]
  },
  {
   "cell_type": "code",
   "execution_count": null,
   "id": "5a3da34c-6075-40bf-8aee-8c53451b84e4",
   "metadata": {},
   "outputs": [],
   "source": [
    "loop: # Outer loop\n",
    "    loop: # Inner Loop\n",
    "        break # Inner break\n",
    "    break # Outer break"
   ]
  },
  {
   "cell_type": "code",
   "execution_count": 21,
   "id": "f2390fe4-e116-4bbe-aab6-3da1829a3168",
   "metadata": {},
   "outputs": [],
   "source": [
    "# - The inner break will terminate the inner loop.\n",
    "# - The outer break will terminate the outer loop."
   ]
  },
  {
   "cell_type": "code",
   "execution_count": 25,
   "id": "7c012702-69f6-4760-be0c-f017b7c2de5c",
   "metadata": {},
   "outputs": [
    {
     "name": "stdout",
     "output_type": "stream",
     "text": [
      "Hello\n"
     ]
    }
   ],
   "source": [
    "for i in range(5):\n",
    "    print('Hello')\n",
    "    break"
   ]
  },
  {
   "cell_type": "code",
   "execution_count": 31,
   "id": "9ade710d-f137-45cb-8be2-5e9108a3279e",
   "metadata": {},
   "outputs": [
    {
     "name": "stdout",
     "output_type": "stream",
     "text": [
      "101 aded to the database\n",
      "102 aded to the database\n",
      "103 aded to the database\n",
      "104 aded to the database\n",
      "105 aded to the database\n",
      "106 aded to the database\n"
     ]
    }
   ],
   "source": [
    "codes=[101,102,103,104,105,106,None,107,108]\n",
    "\n",
    "for i in codes:\n",
    "    if i!=None:\n",
    "        print(i,'aded to the database')\n",
    "    else:\n",
    "        break"
   ]
  },
  {
   "cell_type": "code",
   "execution_count": 33,
   "id": "f2142cbb-6ad2-4b3e-bf56-a30f4c40cc9a",
   "metadata": {},
   "outputs": [
    {
     "name": "stdout",
     "output_type": "stream",
     "text": [
      "Python\n",
      "Python\n",
      "Python\n",
      "Python\n",
      "Python\n",
      "Python\n",
      "Python\n",
      "Python\n",
      "Python\n",
      "Python\n",
      "Python\n",
      "Python\n"
     ]
    }
   ],
   "source": [
    "for i in range(3):\n",
    "    for j in range(4):\n",
    "        print('Python')"
   ]
  },
  {
   "cell_type": "code",
   "execution_count": 35,
   "id": "4f956202-65e1-4a54-9988-da5d99061e16",
   "metadata": {},
   "outputs": [
    {
     "name": "stdout",
     "output_type": "stream",
     "text": [
      "Python\n",
      "Python\n",
      "Python\n"
     ]
    }
   ],
   "source": [
    "for i in range(3):\n",
    "    for j in range(4):\n",
    "        print('Python')\n",
    "        break"
   ]
  },
  {
   "cell_type": "code",
   "execution_count": 37,
   "id": "0a58f864-5225-4bd1-a4a3-6c38ac128e46",
   "metadata": {},
   "outputs": [],
   "source": [
    "# i=0\n",
    "# j=0 -> Python break\n",
    "\n",
    "# i=1\n",
    "# j=0 -> Python break\n",
    "\n",
    "# i=2\n",
    "# j=0 -> Python break\n",
    "# i is exhausted"
   ]
  },
  {
   "cell_type": "code",
   "execution_count": 39,
   "id": "f0e8758c-5c3b-4322-943f-cbe69bdb3781",
   "metadata": {},
   "outputs": [
    {
     "name": "stdout",
     "output_type": "stream",
     "text": [
      "Python\n",
      "Python\n",
      "Python\n",
      "Python\n"
     ]
    }
   ],
   "source": [
    "for i in range(3):\n",
    "    for j in range(4):\n",
    "        print('Python')\n",
    "    break"
   ]
  },
  {
   "cell_type": "code",
   "execution_count": 41,
   "id": "ca5cfc77-78f9-41bb-9340-71c135458bcf",
   "metadata": {},
   "outputs": [],
   "source": [
    "# i=0\n",
    "# j=0 -> Python, j=1 -> Python, j=2 -> Python, j=3 -> Python exhausted\n",
    "# break"
   ]
  },
  {
   "cell_type": "code",
   "execution_count": 43,
   "id": "72452b53-9902-4072-9686-ec656f7a96a2",
   "metadata": {},
   "outputs": [
    {
     "name": "stdout",
     "output_type": "stream",
     "text": [
      "Python\n"
     ]
    }
   ],
   "source": [
    "for i in range(3):\n",
    "    for j in range(4):\n",
    "        print('Python')\n",
    "        break\n",
    "    break"
   ]
  },
  {
   "cell_type": "code",
   "execution_count": 45,
   "id": "7cb1cc4f-bfbc-452d-afda-7287311521b8",
   "metadata": {},
   "outputs": [],
   "source": [
    "# i=0\n",
    "# j=0 -> Python break\n",
    "# break"
   ]
  },
  {
   "cell_type": "markdown",
   "id": "e3ab60a1-664c-4224-87ca-5078b302cee8",
   "metadata": {},
   "source": [
    "# continue"
   ]
  },
  {
   "cell_type": "code",
   "execution_count": 51,
   "id": "68276acd-40d7-40f6-83ce-014df16301d9",
   "metadata": {},
   "outputs": [],
   "source": [
    "# - It is used to skip the current iteration.\n",
    "# - continue does not terminate the loop but it just skips the current iteration.\n",
    "# - As soon as continue gets executed the control goes to the next iteration."
   ]
  },
  {
   "cell_type": "code",
   "execution_count": 67,
   "id": "2cca0f3f-50fe-4574-a1a0-fbb6f1cf9c73",
   "metadata": {},
   "outputs": [
    {
     "name": "stdout",
     "output_type": "stream",
     "text": [
      "101 added to the database\n",
      "102 added to the database\n",
      "104 added to the database\n",
      "105 added to the database\n",
      "106 added to the database\n",
      "107 added to the database\n",
      "108 added to the database\n"
     ]
    }
   ],
   "source": [
    "codes=[101,102,None,104,105,106,None,107,108]\n",
    "\n",
    "for i in codes:\n",
    "    if i!=None:\n",
    "        print(i,'added to the database')\n",
    "    else:\n",
    "        continue"
   ]
  },
  {
   "cell_type": "code",
   "execution_count": 69,
   "id": "d1ff7c9e-b86d-43fe-ae32-c1e2101a1c0e",
   "metadata": {},
   "outputs": [
    {
     "name": "stdout",
     "output_type": "stream",
     "text": [
      "0\n",
      "2\n",
      "4\n",
      "6\n",
      "8\n"
     ]
    }
   ],
   "source": [
    "for i in range(10):\n",
    "    if i%2!=0:\n",
    "        continue\n",
    "    else:\n",
    "        print(i)"
   ]
  },
  {
   "cell_type": "code",
   "execution_count": 71,
   "id": "46af0f64-ce94-4610-b2dd-f7b33e46ddfc",
   "metadata": {},
   "outputs": [],
   "source": [
    "# continue and beak can not be used without loop"
   ]
  },
  {
   "cell_type": "code",
   "execution_count": 73,
   "id": "3ea9c20f-1e1d-4bc5-93c8-2dbe8825b7b5",
   "metadata": {},
   "outputs": [
    {
     "ename": "SyntaxError",
     "evalue": "'break' outside loop (668683560.py, line 1)",
     "output_type": "error",
     "traceback": [
      "\u001b[1;36m  Cell \u001b[1;32mIn[73], line 1\u001b[1;36m\u001b[0m\n\u001b[1;33m    break\u001b[0m\n\u001b[1;37m    ^\u001b[0m\n\u001b[1;31mSyntaxError\u001b[0m\u001b[1;31m:\u001b[0m 'break' outside loop\n"
     ]
    }
   ],
   "source": [
    "break"
   ]
  },
  {
   "cell_type": "code",
   "execution_count": 75,
   "id": "168bacfe-929e-4e79-b473-c2fe5ea78f88",
   "metadata": {},
   "outputs": [
    {
     "ename": "SyntaxError",
     "evalue": "'continue' not properly in loop (414696514.py, line 1)",
     "output_type": "error",
     "traceback": [
      "\u001b[1;36m  Cell \u001b[1;32mIn[75], line 1\u001b[1;36m\u001b[0m\n\u001b[1;33m    continue\u001b[0m\n\u001b[1;37m    ^\u001b[0m\n\u001b[1;31mSyntaxError\u001b[0m\u001b[1;31m:\u001b[0m 'continue' not properly in loop\n"
     ]
    }
   ],
   "source": [
    "continue"
   ]
  },
  {
   "cell_type": "code",
   "execution_count": 77,
   "id": "315254fa-ec6c-46d6-9554-b438e65adf2f",
   "metadata": {},
   "outputs": [
    {
     "ename": "SyntaxError",
     "evalue": "'continue' not properly in loop (377489523.py, line 2)",
     "output_type": "error",
     "traceback": [
      "\u001b[1;36m  Cell \u001b[1;32mIn[77], line 2\u001b[1;36m\u001b[0m\n\u001b[1;33m    continue\u001b[0m\n\u001b[1;37m    ^\u001b[0m\n\u001b[1;31mSyntaxError\u001b[0m\u001b[1;31m:\u001b[0m 'continue' not properly in loop\n"
     ]
    }
   ],
   "source": [
    "if 2==2:\n",
    "    continue\n",
    "else:\n",
    "    print('Hello')"
   ]
  },
  {
   "cell_type": "code",
   "execution_count": 79,
   "id": "9de123fb-894f-4ab3-be70-5f1dceafcc9f",
   "metadata": {},
   "outputs": [
    {
     "ename": "SyntaxError",
     "evalue": "'break' outside loop (2747518663.py, line 2)",
     "output_type": "error",
     "traceback": [
      "\u001b[1;36m  Cell \u001b[1;32mIn[79], line 2\u001b[1;36m\u001b[0m\n\u001b[1;33m    break\u001b[0m\n\u001b[1;37m    ^\u001b[0m\n\u001b[1;31mSyntaxError\u001b[0m\u001b[1;31m:\u001b[0m 'break' outside loop\n"
     ]
    }
   ],
   "source": [
    "if 2==2:\n",
    "    break\n",
    "else:\n",
    "    print('Hello')"
   ]
  },
  {
   "cell_type": "markdown",
   "id": "93118b41-e494-446e-81b3-d02332d2fac1",
   "metadata": {},
   "source": [
    "# pass"
   ]
  },
  {
   "cell_type": "code",
   "execution_count": 82,
   "id": "2ef7d5b1-0ffc-4ca6-89f5-81ef9cd27928",
   "metadata": {},
   "outputs": [],
   "source": [
    "# - It is an empty statement.\n",
    "# - When we don't have any statement to put the we simply use pass"
   ]
  },
  {
   "cell_type": "code",
   "execution_count": 90,
   "id": "8200d593-8226-4a48-ac9f-b38c83573c63",
   "metadata": {},
   "outputs": [],
   "source": [
    "if 2==2:\n",
    "    pass\n",
    "else:\n",
    "    print('Somthing else')    "
   ]
  },
  {
   "cell_type": "code",
   "execution_count": 104,
   "id": "32e9f555-9ea6-4a81-8fd9-6e1f6a36d160",
   "metadata": {},
   "outputs": [],
   "source": [
    "for i in range(6):\n",
    "    pass"
   ]
  },
  {
   "cell_type": "code",
   "execution_count": 102,
   "id": "837c00bc-b23b-4cca-b504-81ecf5a75ba9",
   "metadata": {},
   "outputs": [
    {
     "name": "stdout",
     "output_type": "stream",
     "text": [
      "5\n"
     ]
    }
   ],
   "source": [
    "print(i)"
   ]
  },
  {
   "cell_type": "markdown",
   "id": "92b56965-cf7a-47b3-9076-525b8e4de3ec",
   "metadata": {},
   "source": [
    "# pass vs continue"
   ]
  },
  {
   "cell_type": "code",
   "execution_count": 109,
   "id": "04e97942-b297-4357-b356-47452ae0906c",
   "metadata": {},
   "outputs": [],
   "source": [
    "# pass can be used in any indented block.\n",
    "# continue can be used with the loops only.\n",
    "\n",
    "# pass does not redirect the control.\n",
    "# continue redirects the control to the next iteration."
   ]
  },
  {
   "cell_type": "code",
   "execution_count": 119,
   "id": "36b81382-b600-4ab4-a2f9-ccd0a228411c",
   "metadata": {},
   "outputs": [
    {
     "name": "stdout",
     "output_type": "stream",
     "text": [
      "Not equal\n"
     ]
    }
   ],
   "source": [
    "a=10\n",
    "b=15\n",
    "\n",
    "if a==b:\n",
    "    pass\n",
    "else:\n",
    "    print('Not equal')"
   ]
  },
  {
   "cell_type": "code",
   "execution_count": 149,
   "id": "895b169e-ddba-4557-b102-ad5c747d2730",
   "metadata": {},
   "outputs": [
    {
     "name": "stdout",
     "output_type": "stream",
     "text": [
      "0 even\n",
      "2 even\n",
      "4 even\n"
     ]
    }
   ],
   "source": [
    "for i in range(6):\n",
    "    if i%2==0:\n",
    "        print(i,'even')\n",
    "    else:\n",
    "        continue\n",
    "        print(i,'Not even')"
   ]
  },
  {
   "cell_type": "code",
   "execution_count": 151,
   "id": "9cbc5cf0-ecf7-40a2-b01a-1428a5b9b119",
   "metadata": {},
   "outputs": [
    {
     "name": "stdout",
     "output_type": "stream",
     "text": [
      "0 even\n",
      "1 Not even\n",
      "2 even\n",
      "3 Not even\n",
      "4 even\n",
      "5 Not even\n"
     ]
    }
   ],
   "source": [
    "for i in range(6):\n",
    "    if i%2==0:\n",
    "        print(i,'even')\n",
    "    else:\n",
    "        pass\n",
    "        print(i,'Not even')"
   ]
  },
  {
   "cell_type": "code",
   "execution_count": 153,
   "id": "e688b009-1be0-4855-ae21-d9f50fc33d2d",
   "metadata": {},
   "outputs": [],
   "source": [
    "# Take a number from the user and print whether it is prime or not"
   ]
  },
  {
   "cell_type": "code",
   "execution_count": 155,
   "id": "1e3d4bfe-6cea-42d7-9327-e172db354be1",
   "metadata": {},
   "outputs": [],
   "source": [
    "# a=6\n",
    "# 2,3,4,5\n",
    "\n",
    "# a=7\n",
    "# 2,3,4,5,6"
   ]
  },
  {
   "cell_type": "code",
   "execution_count": 222,
   "id": "2f21dee7-3a6a-4442-bae7-e9ead1c71905",
   "metadata": {},
   "outputs": [
    {
     "name": "stdout",
     "output_type": "stream",
     "text": [
      "Prime number\n"
     ]
    }
   ],
   "source": [
    "a=5\n",
    "for i in range(2,a):\n",
    "    if a%i==0:\n",
    "        print('Not a prime number')\n",
    "        break\n",
    "else:\n",
    "    print('Prime number')"
   ]
  },
  {
   "cell_type": "code",
   "execution_count": 220,
   "id": "61e63c0f-8dcb-4668-874f-a52b5a350ed4",
   "metadata": {},
   "outputs": [
    {
     "data": {
      "text/plain": [
       "1"
      ]
     },
     "execution_count": 220,
     "metadata": {},
     "output_type": "execute_result"
    }
   ],
   "source": [
    "5%4"
   ]
  },
  {
   "cell_type": "code",
   "execution_count": 238,
   "id": "f123c7c8-713c-4ce5-b7e2-28ebca403ac9",
   "metadata": {},
   "outputs": [
    {
     "name": "stdout",
     "output_type": "stream",
     "text": [
      "Prime number\n"
     ]
    }
   ],
   "source": [
    "a=61\n",
    "c=0\n",
    "\n",
    "for i in range(2,a):\n",
    "    if a%i==0:\n",
    "        c+=1\n",
    "\n",
    "# print(c)\n",
    "if c==0:\n",
    "    print('Prime number')\n",
    "else:\n",
    "    print('Not a prime number')"
   ]
  },
  {
   "cell_type": "code",
   "execution_count": 266,
   "id": "e55f368c-ef7a-43c1-9043-7b0ab95e0c5e",
   "metadata": {},
   "outputs": [],
   "source": [
    "# Create a list that contains prime numbers between 1 and 100\n",
    "\n",
    "prime=[]\n",
    "\n",
    "for i in range(1,101):\n",
    "    for j in range(2,i):\n",
    "        if i%j==0:\n",
    "            break\n",
    "    else:\n",
    "        prime.append(i)"
   ]
  },
  {
   "cell_type": "code",
   "execution_count": 264,
   "id": "5ae2c62c-c1a0-41ae-9052-9dd459d185c2",
   "metadata": {},
   "outputs": [
    {
     "name": "stdout",
     "output_type": "stream",
     "text": [
      "[1, 2, 3, 5, 7, 11, 13, 17, 19, 23, 29, 31, 37, 41, 43, 47, 53, 59, 61, 67, 71, 73, 79, 83, 89, 97]\n"
     ]
    }
   ],
   "source": [
    "print(prime)"
   ]
  },
  {
   "cell_type": "code",
   "execution_count": 268,
   "id": "6e954765-bff7-45a6-9c7d-d37f8df477a1",
   "metadata": {},
   "outputs": [],
   "source": [
    "# Create a list that contains prime numbers between 1 and 500\n",
    "\n",
    "prime=[]\n",
    "\n",
    "for i in range(1,501):\n",
    "    for j in range(2,i):\n",
    "        if i%j==0:\n",
    "            break\n",
    "    else:\n",
    "        prime.append(i)"
   ]
  },
  {
   "cell_type": "code",
   "execution_count": 270,
   "id": "62867178-9d91-4323-a491-51f271e3a56e",
   "metadata": {},
   "outputs": [
    {
     "name": "stdout",
     "output_type": "stream",
     "text": [
      "[1, 2, 3, 5, 7, 11, 13, 17, 19, 23, 29, 31, 37, 41, 43, 47, 53, 59, 61, 67, 71, 73, 79, 83, 89, 97, 101, 103, 107, 109, 113, 127, 131, 137, 139, 149, 151, 157, 163, 167, 173, 179, 181, 191, 193, 197, 199, 211, 223, 227, 229, 233, 239, 241, 251, 257, 263, 269, 271, 277, 281, 283, 293, 307, 311, 313, 317, 331, 337, 347, 349, 353, 359, 367, 373, 379, 383, 389, 397, 401, 409, 419, 421, 431, 433, 439, 443, 449, 457, 461, 463, 467, 479, 487, 491, 499]\n"
     ]
    }
   ],
   "source": [
    "print(prime)"
   ]
  },
  {
   "cell_type": "code",
   "execution_count": 280,
   "id": "d6dd84ce-e705-4fbb-8bef-96152abfbb97",
   "metadata": {},
   "outputs": [
    {
     "name": "stdout",
     "output_type": "stream",
     "text": [
      "[1, 2, 3, 5, 7, 11, 13, 17, 19, 23, 29, 31, 37, 41, 43, 47, 53, 59, 61, 67, 71, 73, 79, 83, 89, 97]\n"
     ]
    }
   ],
   "source": [
    "prime=[]\n",
    "\n",
    "for i in range(1,101):\n",
    "    c=0\n",
    "    for j in range(2,i):\n",
    "        if i%j==0:\n",
    "            c+=1\n",
    "            break\n",
    "    \n",
    "    if c!=0:\n",
    "        pass\n",
    "    else:\n",
    "        prime.append(i)\n",
    "\n",
    "print(prime)"
   ]
  },
  {
   "cell_type": "markdown",
   "id": "7e670f7b-ccd4-421d-80a3-14cbbcae5361",
   "metadata": {},
   "source": [
    "# List"
   ]
  },
  {
   "cell_type": "code",
   "execution_count": 308,
   "id": "3b98e8af-b571-4f80-bc3e-3e7c3edf8994",
   "metadata": {},
   "outputs": [],
   "source": [
    "# - A list is a collection of elements kept inside the [].\n",
    "# - Each element of a list is seperated by a comma.\n",
    "# - A list can heterogenous (different type) elements unlike array.\n",
    "# - A list can contain duplicate elements unlike set and frozenset."
   ]
  },
  {
   "cell_type": "code",
   "execution_count": 288,
   "id": "a6da0b32-35aa-4030-ab33-bfc9e351016b",
   "metadata": {},
   "outputs": [
    {
     "name": "stdout",
     "output_type": "stream",
     "text": [
      "[1, 2, 3, 4, 5] <class 'list'>\n"
     ]
    }
   ],
   "source": [
    "lst=[1,2,3,4,5]\n",
    "print(lst,type(lst))"
   ]
  },
  {
   "cell_type": "code",
   "execution_count": 294,
   "id": "8fabc7fb-2997-414a-a25e-766ef18f3a86",
   "metadata": {},
   "outputs": [
    {
     "name": "stdout",
     "output_type": "stream",
     "text": [
      "['Python', 66, True, 2.666666, (6+6j), {1: 100, 2: 200}, None, (1, 2, 3)] <class 'list'>\n"
     ]
    }
   ],
   "source": [
    "lst=['Python', 66, True, 2.666666, 6+6j, {1:100,2:200}, None, (1,2,3)]\n",
    "print(lst,type(lst))"
   ]
  },
  {
   "cell_type": "code",
   "execution_count": 298,
   "id": "a3510751-d962-4ac5-ad53-21cf9bc5d080",
   "metadata": {},
   "outputs": [],
   "source": [
    "import numpy as np"
   ]
  },
  {
   "cell_type": "code",
   "execution_count": 300,
   "id": "78a32946-d8a4-4ac8-86a1-69e3b0aaf9d9",
   "metadata": {},
   "outputs": [],
   "source": [
    "arr=np.array([10,20,30,40,50])"
   ]
  },
  {
   "cell_type": "code",
   "execution_count": 302,
   "id": "f4b63d61-7c1d-4d66-8f2f-34239835e396",
   "metadata": {},
   "outputs": [
    {
     "data": {
      "text/plain": [
       "dtype('int32')"
      ]
     },
     "execution_count": 302,
     "metadata": {},
     "output_type": "execute_result"
    }
   ],
   "source": [
    "arr.dtype"
   ]
  },
  {
   "cell_type": "code",
   "execution_count": 304,
   "id": "8e0e26f3-ac35-4066-a70e-d3fedab43ad0",
   "metadata": {},
   "outputs": [],
   "source": [
    "arr=np.array([10,20,30.55,40,50])"
   ]
  },
  {
   "cell_type": "code",
   "execution_count": 306,
   "id": "7a3831bb-9fab-4cf4-b2e0-484267704a06",
   "metadata": {},
   "outputs": [
    {
     "data": {
      "text/plain": [
       "dtype('float64')"
      ]
     },
     "execution_count": 306,
     "metadata": {},
     "output_type": "execute_result"
    }
   ],
   "source": [
    "arr.dtype"
   ]
  },
  {
   "cell_type": "code",
   "execution_count": 310,
   "id": "9540c70e-89e6-49b7-8ebc-6b6380de0977",
   "metadata": {},
   "outputs": [
    {
     "name": "stdout",
     "output_type": "stream",
     "text": [
      "[2, 5, 6, 4, 4, 7, 8, 5, 3, 6, 9, 8, 7, 4, 5, 6, 2, 1, 5] <class 'list'>\n"
     ]
    }
   ],
   "source": [
    "lst=[2,5,6,4,4,7,8,5,3,6,9,8,7,4,5,6,2,1,5]\n",
    "print(lst,type(lst))"
   ]
  },
  {
   "cell_type": "code",
   "execution_count": 312,
   "id": "f85e16c5-c21f-4279-b833-94e186e1e441",
   "metadata": {},
   "outputs": [
    {
     "name": "stdout",
     "output_type": "stream",
     "text": [
      "{1, 2, 3, 4, 5, 6, 7, 8, 9} <class 'set'>\n"
     ]
    }
   ],
   "source": [
    "s={2,5,6,4,4,7,8,5,3,6,9,8,7,4,5,6,2,1,5}\n",
    "print(s,type(s))"
   ]
  },
  {
   "cell_type": "code",
   "execution_count": 314,
   "id": "63f53518-a4f4-4e43-9f24-d2c89b1c0dd8",
   "metadata": {},
   "outputs": [
    {
     "name": "stdout",
     "output_type": "stream",
     "text": [
      "frozenset({1, 2, 3, 4, 5, 6, 7, 8, 9}) <class 'frozenset'>\n"
     ]
    }
   ],
   "source": [
    "f=frozenset((2,5,6,4,4,7,8,5,3,6,9,8,7,4,5,6,2,1,5))\n",
    "print(f,type(f))"
   ]
  },
  {
   "cell_type": "markdown",
   "id": "5bb13b58-d0c7-48e7-812c-4a4ece968808",
   "metadata": {},
   "source": [
    "# Operations on a list"
   ]
  },
  {
   "cell_type": "code",
   "execution_count": 317,
   "id": "e41c117b-55cb-4f10-a585-83306fd2147d",
   "metadata": {},
   "outputs": [],
   "source": [
    "# - Concatenation\n",
    "# - Repeatition\n",
    "# - Length\n",
    "# - Indexing and slicing\n",
    "# - Membership"
   ]
  },
  {
   "cell_type": "markdown",
   "id": "e5dac688-2743-4187-b538-367b1b7ebaba",
   "metadata": {},
   "source": [
    "# Concatenation"
   ]
  },
  {
   "cell_type": "code",
   "execution_count": 320,
   "id": "81e2ebb7-0adf-4cac-a9d1-67c776c2dbef",
   "metadata": {},
   "outputs": [],
   "source": [
    "# - Joining two or more lists together is known as list concatenation.\n",
    "# - + operator is used to concatenate two lists.\n",
    "# - A list can be concatenated with a list only.\n",
    "# - If we concatenate a list with some other type then it raises type error."
   ]
  },
  {
   "cell_type": "code",
   "execution_count": 326,
   "id": "c8451d23-4f79-44b0-9a2d-58845a4b50fd",
   "metadata": {},
   "outputs": [
    {
     "name": "stdout",
     "output_type": "stream",
     "text": [
      "[1, 2, 4, 6, 8]\n",
      "[1, 2]\n",
      "[4, 6, 8]\n"
     ]
    }
   ],
   "source": [
    "x=[1,2]\n",
    "y=[4,6,8]\n",
    "print(x+y)\n",
    "print(x)\n",
    "print(y)"
   ]
  },
  {
   "cell_type": "code",
   "execution_count": 334,
   "id": "429f1706-b6b3-4292-9e1a-181641842d44",
   "metadata": {},
   "outputs": [
    {
     "name": "stdout",
     "output_type": "stream",
     "text": [
      "[1, 2, 3, 5]\n"
     ]
    }
   ],
   "source": [
    "x=[1,2,3]\n",
    "# Conctenate 5 to the above list.\n",
    "\n",
    "res=x+[5]\n",
    "print(res)"
   ]
  },
  {
   "cell_type": "code",
   "execution_count": 352,
   "id": "f69a3784-a50a-43e2-927d-8145b5c951a5",
   "metadata": {},
   "outputs": [
    {
     "data": {
      "text/plain": [
       "[5, 2.4, 'Python']"
      ]
     },
     "execution_count": 352,
     "metadata": {},
     "output_type": "execute_result"
    }
   ],
   "source": [
    "[]+[5]+[2.4]+['Python']"
   ]
  },
  {
   "cell_type": "code",
   "execution_count": 370,
   "id": "28e372ff-d7a8-4684-b3d2-8386a85dacc6",
   "metadata": {},
   "outputs": [
    {
     "name": "stdout",
     "output_type": "stream",
     "text": [
      "['Amit']\n",
      "['Amit', 'Kumar']\n"
     ]
    }
   ],
   "source": [
    "name='Amit'\n",
    "sur_name='Kumar'\n",
    "full_name=[]\n",
    "\n",
    "full_name=full_name+[name]\n",
    "print(full_name)\n",
    "\n",
    "full_name=full_name+[sur_name]\n",
    "print(full_name)"
   ]
  },
  {
   "cell_type": "code",
   "execution_count": 384,
   "id": "9548e64a-cfe0-4fcb-8c2e-07d85030e563",
   "metadata": {},
   "outputs": [
    {
     "name": "stdout",
     "output_type": "stream",
     "text": [
      "['Peter', 'piper', 'picked', 'a', 'pack', 'of', 'pickeled', 'peppers']\n"
     ]
    }
   ],
   "source": [
    "my_str='Peter piper picked a pack of pickeled peppers'\n",
    "\n",
    "lst=[]\n",
    "s=''\n",
    "\n",
    "for i in my_str:\n",
    "    if i!=' ':\n",
    "        s+=i\n",
    "    else:\n",
    "        lst=lst+[s] # lst+=[s]\n",
    "        s=''\n",
    "\n",
    "lst=lst+[s] # lst+=[s]\n",
    "print(lst)"
   ]
  },
  {
   "cell_type": "markdown",
   "id": "ade97f4e-f452-4052-b9e2-f13debd567f6",
   "metadata": {},
   "source": [
    "# Repeatition"
   ]
  },
  {
   "cell_type": "code",
   "execution_count": 387,
   "id": "5b46f166-f211-4300-b2fb-bf1d62c467d4",
   "metadata": {},
   "outputs": [],
   "source": [
    "# - * operator is used to repeat a list n times."
   ]
  },
  {
   "cell_type": "code",
   "execution_count": 391,
   "id": "3e8043b6-d406-42f5-b17f-92958df8553d",
   "metadata": {},
   "outputs": [],
   "source": [
    "# lst*number_of_repeatition"
   ]
  },
  {
   "cell_type": "code",
   "execution_count": 393,
   "id": "548a044b-2b2e-49f3-b342-e0193bb4e63a",
   "metadata": {},
   "outputs": [
    {
     "name": "stdout",
     "output_type": "stream",
     "text": [
      "[10, 20, 30, 40, 50, 10, 20, 30, 40, 50, 10, 20, 30, 40, 50]\n"
     ]
    }
   ],
   "source": [
    "lst=[10,20,30,40,50]\n",
    "print(lst*3)"
   ]
  },
  {
   "cell_type": "code",
   "execution_count": 402,
   "id": "de473ddc-8d35-41e1-9bea-184e8bf5c661",
   "metadata": {},
   "outputs": [
    {
     "name": "stdout",
     "output_type": "stream",
     "text": [
      "[15, 25, 35, 45, 55]\n"
     ]
    }
   ],
   "source": [
    "res=[]\n",
    "for i in lst:\n",
    "    res+=[i+5]\n",
    "print(res)"
   ]
  },
  {
   "cell_type": "markdown",
   "id": "548da7fe-2f17-470e-b712-91b4e5b9c810",
   "metadata": {},
   "source": [
    "# Length of a list"
   ]
  },
  {
   "cell_type": "code",
   "execution_count": 404,
   "id": "e2240886-11bd-492b-8d97-d7e2cc97ff13",
   "metadata": {},
   "outputs": [],
   "source": [
    "# - The number of elements in a list is known as the length of the list.\n",
    "# - len() returns the length of the list."
   ]
  },
  {
   "cell_type": "code",
   "execution_count": 408,
   "id": "8c9f9074-60e6-4abb-8fc0-c8fa70916c59",
   "metadata": {},
   "outputs": [
    {
     "name": "stdout",
     "output_type": "stream",
     "text": [
      "['Python', 66, True, 2.666666, (6+6j), {1: 100, 2: 200}, None, (1, 2, 3)] <class 'list'>\n",
      "8\n"
     ]
    }
   ],
   "source": [
    "lst=['Python', 66, True, 2.666666, 6+6j, {1:100,2:200}, None, (1,2,3)]\n",
    "print(lst,type(lst))\n",
    "print(len(lst))"
   ]
  },
  {
   "cell_type": "code",
   "execution_count": 410,
   "id": "8d45edab-1a14-469b-9d3a-a5eef1312268",
   "metadata": {},
   "outputs": [
    {
     "name": "stdout",
     "output_type": "stream",
     "text": [
      "9\n"
     ]
    }
   ],
   "source": [
    "lst=[10,20,30,40,50,60,70,80,90]\n",
    "print(len(lst))"
   ]
  },
  {
   "cell_type": "markdown",
   "id": "4c651aff-a932-4913-b772-03181049daa6",
   "metadata": {},
   "source": [
    "# Indexing and Slicing"
   ]
  },
  {
   "cell_type": "markdown",
   "id": "b8f454e7-8c13-47be-8b50-10327ba9829f",
   "metadata": {},
   "source": [
    "### Indexing"
   ]
  },
  {
   "cell_type": "code",
   "execution_count": 414,
   "id": "b285c015-9469-44c2-ba1d-d7823b8c81d6",
   "metadata": {},
   "outputs": [],
   "source": [
    "# - A list is an ordered collection of data each element of a list is stored at a particular index.\n",
    "# - A list is also known as sequence type as it follows indexing.\n",
    "# - A list supports positive and negative indexing both."
   ]
  },
  {
   "cell_type": "code",
   "execution_count": 424,
   "id": "427991f0-c729-4d1d-8ffd-3d603de64119",
   "metadata": {},
   "outputs": [
    {
     "name": "stdout",
     "output_type": "stream",
     "text": [
      "10\n",
      "10\n",
      "10\n"
     ]
    }
   ],
   "source": [
    "lst=[10,20,30,40,50,60,70,80]\n",
    "\n",
    "# First element\n",
    "print(lst[0])\n",
    "print(lst[-8])\n",
    "print(lst[-len(lst)])"
   ]
  },
  {
   "cell_type": "code",
   "execution_count": 422,
   "id": "192ee4e4-8889-4123-88d0-156bcee8704a",
   "metadata": {},
   "outputs": [
    {
     "data": {
      "text/plain": [
       "-8"
      ]
     },
     "execution_count": 422,
     "metadata": {},
     "output_type": "execute_result"
    }
   ],
   "source": [
    "-len(lst)"
   ]
  },
  {
   "cell_type": "code",
   "execution_count": 436,
   "id": "14912fa0-1937-44f9-a6da-5cbcdc4db1cd",
   "metadata": {},
   "outputs": [
    {
     "name": "stdout",
     "output_type": "stream",
     "text": [
      "80\n",
      "80\n",
      "80\n"
     ]
    }
   ],
   "source": [
    "lst=[10,20,30,40,50,60,70,80]\n",
    "\n",
    "# Last element\n",
    "\n",
    "print(lst[-1])\n",
    "print(lst[7])\n",
    "print(lst[len(lst)-1])"
   ]
  },
  {
   "cell_type": "code",
   "execution_count": 434,
   "id": "d1423527-2e4b-4d84-ab40-8528966c3fde",
   "metadata": {},
   "outputs": [
    {
     "data": {
      "text/plain": [
       "7"
      ]
     },
     "execution_count": 434,
     "metadata": {},
     "output_type": "execute_result"
    }
   ],
   "source": [
    "len(lst)-1"
   ]
  },
  {
   "cell_type": "code",
   "execution_count": 438,
   "id": "a90b7772-ffb2-4109-aa08-dcb56fde0f01",
   "metadata": {},
   "outputs": [
    {
     "ename": "IndexError",
     "evalue": "list index out of range",
     "output_type": "error",
     "traceback": [
      "\u001b[1;31m---------------------------------------------------------------------------\u001b[0m",
      "\u001b[1;31mIndexError\u001b[0m                                Traceback (most recent call last)",
      "Cell \u001b[1;32mIn[438], line 3\u001b[0m\n\u001b[0;32m      1\u001b[0m lst\u001b[38;5;241m=\u001b[39m[\u001b[38;5;241m10\u001b[39m,\u001b[38;5;241m20\u001b[39m,\u001b[38;5;241m30\u001b[39m,\u001b[38;5;241m40\u001b[39m,\u001b[38;5;241m50\u001b[39m,\u001b[38;5;241m60\u001b[39m,\u001b[38;5;241m70\u001b[39m,\u001b[38;5;241m80\u001b[39m]\n\u001b[1;32m----> 3\u001b[0m \u001b[38;5;28mprint\u001b[39m(lst[\u001b[38;5;241m-\u001b[39m\u001b[38;5;241m12\u001b[39m])\n",
      "\u001b[1;31mIndexError\u001b[0m: list index out of range"
     ]
    }
   ],
   "source": [
    "lst=[10,20,30,40,50,60,70,80]\n",
    "\n",
    "print(lst[-12])"
   ]
  },
  {
   "cell_type": "code",
   "execution_count": 440,
   "id": "38ba087c-8c8c-43dd-8a9d-a335cc18ca75",
   "metadata": {},
   "outputs": [
    {
     "ename": "IndexError",
     "evalue": "list index out of range",
     "output_type": "error",
     "traceback": [
      "\u001b[1;31m---------------------------------------------------------------------------\u001b[0m",
      "\u001b[1;31mIndexError\u001b[0m                                Traceback (most recent call last)",
      "Cell \u001b[1;32mIn[440], line 3\u001b[0m\n\u001b[0;32m      1\u001b[0m lst\u001b[38;5;241m=\u001b[39m[\u001b[38;5;241m10\u001b[39m,\u001b[38;5;241m20\u001b[39m,\u001b[38;5;241m30\u001b[39m,\u001b[38;5;241m40\u001b[39m,\u001b[38;5;241m50\u001b[39m,\u001b[38;5;241m60\u001b[39m,\u001b[38;5;241m70\u001b[39m,\u001b[38;5;241m80\u001b[39m]\n\u001b[1;32m----> 3\u001b[0m \u001b[38;5;28mprint\u001b[39m(lst[\u001b[38;5;241m11\u001b[39m])\n",
      "\u001b[1;31mIndexError\u001b[0m: list index out of range"
     ]
    }
   ],
   "source": [
    "lst=[10,20,30,40,50,60,70,80]\n",
    "\n",
    "print(lst[11])"
   ]
  },
  {
   "cell_type": "markdown",
   "id": "271f64db-47b3-4157-ba75-f178a37caf4c",
   "metadata": {},
   "source": [
    "### Slicing"
   ]
  },
  {
   "cell_type": "code",
   "execution_count": 443,
   "id": "11b8bfe0-6ab3-4ada-93d2-8263eb1d89f5",
   "metadata": {},
   "outputs": [],
   "source": [
    "# - To fetch a sublist from a list is known as list slicing."
   ]
  },
  {
   "cell_type": "code",
   "execution_count": 445,
   "id": "5debd3ea-7996-4c04-af4b-ce5a9fe5861d",
   "metadata": {},
   "outputs": [],
   "source": [
    "# [start:stop:step]\n",
    "# stop is excluded\n",
    "# step is 1 by default"
   ]
  },
  {
   "cell_type": "code",
   "execution_count": 449,
   "id": "de7a6082-504e-42cc-8e30-7da250425849",
   "metadata": {},
   "outputs": [
    {
     "name": "stdout",
     "output_type": "stream",
     "text": [
      "[10, 20, 30]\n",
      "[10, 20, 30]\n"
     ]
    }
   ],
   "source": [
    "lst=[10,20,30,40,50,60,70,80]\n",
    "\n",
    "# First three elements\n",
    "print(lst[0:3])\n",
    "print(lst[0:3:1])"
   ]
  },
  {
   "cell_type": "code",
   "execution_count": 451,
   "id": "ede23afb-f443-4f23-b91f-f23debe09835",
   "metadata": {},
   "outputs": [
    {
     "name": "stdout",
     "output_type": "stream",
     "text": [
      "[80, 70, 60, 50, 40, 30, 20, 10]\n"
     ]
    }
   ],
   "source": [
    "# Reverse the list\n",
    "\n",
    "print(lst[::-1])"
   ]
  },
  {
   "cell_type": "markdown",
   "id": "c15b85fa-419c-4b9a-96ae-df290cfc9c9f",
   "metadata": {},
   "source": [
    "### When the step is +ive"
   ]
  },
  {
   "cell_type": "code",
   "execution_count": 454,
   "id": "206e263a-12b3-4827-aeee-4cb7cdcdbe83",
   "metadata": {},
   "outputs": [],
   "source": [
    "# - The default start is 0\n",
    "# - The default stop is len(lst)"
   ]
  },
  {
   "cell_type": "markdown",
   "id": "74d13ca6-ef8e-438f-83f8-93357d319728",
   "metadata": {},
   "source": [
    "### When the step is -ive"
   ]
  },
  {
   "cell_type": "code",
   "execution_count": 457,
   "id": "49d840fb-cce0-4c6d-a5dc-7bf4b4efb877",
   "metadata": {},
   "outputs": [],
   "source": [
    "# The default start is -1\n",
    "# The default stop is -len(lst)-1"
   ]
  },
  {
   "cell_type": "code",
   "execution_count": 465,
   "id": "6d22edc2-e15f-4089-b7a3-1293febae5f6",
   "metadata": {},
   "outputs": [
    {
     "name": "stdout",
     "output_type": "stream",
     "text": [
      "[10, 20, 30, 40, 50, 60, 70, 80]\n",
      "[10, 20, 30, 40, 50, 60, 70, 80]\n",
      "[10, 20, 30, 40, 50, 60, 70, 80]\n",
      "[10, 20, 30, 40, 50, 60, 70, 80]\n"
     ]
    }
   ],
   "source": [
    "lst=[10,20,30,40,50,60,70,80]\n",
    "\n",
    "print(lst[0:len(lst):1])\n",
    "print(lst[:len(lst):1])\n",
    "print(lst[0::1])\n",
    "print(lst[::])"
   ]
  },
  {
   "cell_type": "code",
   "execution_count": 473,
   "id": "9fcddd10-748b-4ded-abf9-3f8027d18c57",
   "metadata": {},
   "outputs": [
    {
     "name": "stdout",
     "output_type": "stream",
     "text": [
      "[80, 70, 60, 50, 40, 30, 20, 10]\n",
      "[80, 70, 60, 50, 40, 30, 20, 10]\n",
      "[80, 70, 60, 50, 40, 30, 20, 10]\n",
      "[80, 70, 60, 50, 40, 30, 20, 10]\n"
     ]
    }
   ],
   "source": [
    "lst=[10,20,30,40,50,60,70,80]\n",
    "\n",
    "print(lst[-1:-len(lst)-1:-1])\n",
    "print(lst[:-len(lst)-1:-1])\n",
    "print(lst[-1::-1])\n",
    "print(lst[::-1])"
   ]
  },
  {
   "cell_type": "code",
   "execution_count": 477,
   "id": "79efd78a-93f9-407d-ac38-d8f0829e9ef7",
   "metadata": {},
   "outputs": [
    {
     "name": "stdout",
     "output_type": "stream",
     "text": [
      "[10, 20, 30, 40, 50]\n",
      "[10, 20, 30, 40, 50]\n"
     ]
    }
   ],
   "source": [
    "lst=[10,20,30,40,50,60,70,80]\n",
    "\n",
    "print(lst[0:-3:1])\n",
    "print(lst[:-3])"
   ]
  },
  {
   "cell_type": "code",
   "execution_count": 481,
   "id": "39398d83-6070-42f6-8f53-40f4d97d8248",
   "metadata": {},
   "outputs": [
    {
     "name": "stdout",
     "output_type": "stream",
     "text": [
      "[30, 40, 50, 60]\n",
      "[30, 40, 50, 60]\n"
     ]
    }
   ],
   "source": [
    "lst=[10,20,30,40,50,60,70,80]\n",
    "\n",
    "print(lst[-6:-2:1])\n",
    "print(lst[-6:-2])"
   ]
  },
  {
   "cell_type": "code",
   "execution_count": 483,
   "id": "25ad4296-6a15-4d48-9560-a041975041a3",
   "metadata": {},
   "outputs": [
    {
     "name": "stdout",
     "output_type": "stream",
     "text": [
      "[80, 70, 60]\n"
     ]
    }
   ],
   "source": [
    "lst=[10,20,30,40,50,60,70,80]\n",
    "\n",
    "print(lst[:-4:-1])"
   ]
  },
  {
   "cell_type": "code",
   "execution_count": 485,
   "id": "37150312-b215-45af-9f9a-83c83126a3b7",
   "metadata": {},
   "outputs": [
    {
     "name": "stdout",
     "output_type": "stream",
     "text": [
      "[50, 40, 30, 20, 10]\n"
     ]
    }
   ],
   "source": [
    "lst=[10,20,30,40,50,60,70,80]\n",
    "\n",
    "print(lst[-4::-1])"
   ]
  },
  {
   "cell_type": "code",
   "execution_count": 487,
   "id": "58ddd99b-cdf2-4506-beaf-89a35cc8ab60",
   "metadata": {},
   "outputs": [
    {
     "name": "stdout",
     "output_type": "stream",
     "text": [
      "[10, 30]\n"
     ]
    }
   ],
   "source": [
    "lst=[10,20,30,40,50,60,70,80]\n",
    "\n",
    "print(lst[:-4:2])"
   ]
  },
  {
   "cell_type": "code",
   "execution_count": 491,
   "id": "d045dbbf-3274-4469-9a23-17fadd6fe316",
   "metadata": {},
   "outputs": [
    {
     "name": "stdout",
     "output_type": "stream",
     "text": [
      "[]\n"
     ]
    }
   ],
   "source": [
    "lst=[10,20,30,40,50,60,70,80]\n",
    "\n",
    "print(lst[-2:-4:])"
   ]
  },
  {
   "cell_type": "code",
   "execution_count": 493,
   "id": "3b799e93-be5c-410d-8654-7cac96c56370",
   "metadata": {},
   "outputs": [
    {
     "name": "stdout",
     "output_type": "stream",
     "text": [
      "[]\n"
     ]
    }
   ],
   "source": [
    "lst=[10,20,30,40,50,60,70,80]\n",
    "\n",
    "print(lst[-6:-2:-1])"
   ]
  },
  {
   "cell_type": "code",
   "execution_count": 517,
   "id": "901629bd-23ec-404f-976a-7cff384569d4",
   "metadata": {},
   "outputs": [
    {
     "name": "stdout",
     "output_type": "stream",
     "text": [
      "2\n",
      "4\n",
      "4\n"
     ]
    }
   ],
   "source": [
    "lst=[10,20,30,[1,2,3,4],40,50,60]\n",
    "\n",
    "# Fetch 2\n",
    "print(lst[3][1])\n",
    "\n",
    "# Fetch 4\n",
    "print(lst[3][-1])\n",
    "print(lst[3][3])"
   ]
  },
  {
   "cell_type": "markdown",
   "id": "a6ee4c50-7f33-42de-87ca-6ceceb5a545b",
   "metadata": {},
   "source": [
    "# Memebership"
   ]
  },
  {
   "cell_type": "code",
   "execution_count": 520,
   "id": "2b743245-bbf4-4734-9fd7-76732ca142e8",
   "metadata": {},
   "outputs": [],
   "source": [
    "# Since list is a container type so we can membership operators with a list."
   ]
  },
  {
   "cell_type": "code",
   "execution_count": 532,
   "id": "72015b94-4e57-485e-8d19-69b931ce034f",
   "metadata": {},
   "outputs": [
    {
     "name": "stdout",
     "output_type": "stream",
     "text": [
      "True\n",
      "False\n",
      "True\n",
      "False\n"
     ]
    }
   ],
   "source": [
    "lst=['Hello','Python', 55, 4.8888888, {1:100,2:200}, True, (1,2,3,4,5)]\n",
    "\n",
    "print('Python' in lst)\n",
    "print(3 in lst)\n",
    "\n",
    "print(1000 not in lst)\n",
    "print(55 not in lst)"
   ]
  },
  {
   "cell_type": "markdown",
   "id": "a1920083-4926-4b5b-8073-9daa54a6572b",
   "metadata": {},
   "source": [
    "# How to create a list?"
   ]
  },
  {
   "cell_type": "markdown",
   "id": "3d84c1d9-83c0-46cc-bd7f-0e9d4bb99a90",
   "metadata": {},
   "source": [
    "# Case_1\n",
    "- When we already know the elements"
   ]
  },
  {
   "cell_type": "code",
   "execution_count": 534,
   "id": "a7b344d8-7c86-4514-b068-dff5390c4dbb",
   "metadata": {},
   "outputs": [
    {
     "name": "stdout",
     "output_type": "stream",
     "text": [
      "['Python', 55, 6.66666, (4+8j), (1, 2, 3, 4, 5, 6), [7, 8, 9, 4, 5], {1: 100, 2: 200}, True, None]\n"
     ]
    }
   ],
   "source": [
    "lst=['Python', 55, 6.66666, 4+8j, (1,2,3,4,5,6),[7,8,9,4,5],{1:100,2:200},True, None]\n",
    "print(lst)"
   ]
  },
  {
   "cell_type": "markdown",
   "id": "44d860cd-aff2-45fc-89e2-ca909933710c",
   "metadata": {},
   "source": [
    "# Case_2\n",
    "- By using list()"
   ]
  },
  {
   "cell_type": "code",
   "execution_count": 539,
   "id": "9a77ec68-b1e2-47f1-990a-6a8c919d3902",
   "metadata": {},
   "outputs": [],
   "source": [
    "# list(Iterable)- It returns a list (Typecasting)\n",
    "\n",
    "# Iterables- String, List, Tuple, Dictionary, Set, Frozenset, Range"
   ]
  },
  {
   "cell_type": "code",
   "execution_count": 545,
   "id": "c93d4aa7-4893-40d4-be28-9610c8e43dda",
   "metadata": {},
   "outputs": [
    {
     "data": {
      "text/plain": [
       "[1, 2, 3, 4]"
      ]
     },
     "execution_count": 545,
     "metadata": {},
     "output_type": "execute_result"
    }
   ],
   "source": [
    "list(range(1,5))"
   ]
  },
  {
   "cell_type": "code",
   "execution_count": 547,
   "id": "bb7d35b0-6ce2-4d91-b98f-6c9d2f243689",
   "metadata": {},
   "outputs": [
    {
     "name": "stdout",
     "output_type": "stream",
     "text": [
      "Python <class 'str'>\n",
      "['P', 'y', 't', 'h', 'o', 'n'] <class 'list'>\n"
     ]
    }
   ],
   "source": [
    "my_str='Python'\n",
    "print(my_str,type(my_str))\n",
    "\n",
    "lst=list(my_str)\n",
    "print(lst,type(lst))"
   ]
  },
  {
   "cell_type": "code",
   "execution_count": 553,
   "id": "fe643c3e-d8f6-4ff4-9100-c79328f6f52e",
   "metadata": {},
   "outputs": [
    {
     "name": "stdout",
     "output_type": "stream",
     "text": [
      "(10, 20, 20, 40, 50, 60, 60, 70, 80) <class 'tuple'>\n",
      "[10, 20, 20, 40, 50, 60, 60, 70, 80] <class 'list'>\n"
     ]
    }
   ],
   "source": [
    "t=(10,20,20,40,50,60,60,70,80)\n",
    "print(t,type(t))\n",
    "\n",
    "lst=list(t)\n",
    "print(lst,type(lst))"
   ]
  },
  {
   "cell_type": "code",
   "execution_count": 559,
   "id": "c70920a4-98c3-4837-bdf5-87c3557aad68",
   "metadata": {},
   "outputs": [
    {
     "name": "stdout",
     "output_type": "stream",
     "text": [
      "{1: 100, 2: 200, 3: 300, 4: 400} <class 'dict'>\n",
      "[1, 2, 3, 4]\n",
      "[100, 200, 300, 400] <class 'list'>\n"
     ]
    }
   ],
   "source": [
    "d={1:100,2:200,3:300,4:400}\n",
    "print(d,type(d))\n",
    "\n",
    "lst=list(d)\n",
    "print(lst)\n",
    "\n",
    "lst=list(d.values())\n",
    "print(lst,type(lst))"
   ]
  },
  {
   "cell_type": "code",
   "execution_count": 567,
   "id": "07c233e6-a842-4860-b236-57de0b52610e",
   "metadata": {},
   "outputs": [
    {
     "name": "stdout",
     "output_type": "stream",
     "text": [
      "{'Name': 'Amit', 'Age': 25, 'City': 'Pune', 'Company': 'TCS'} <class 'dict'>\n",
      "['Name', 'Age', 'City', 'Company'] <class 'list'>\n",
      "[100, 200, 300, 400] <class 'list'>\n"
     ]
    }
   ],
   "source": [
    "emp={'Name':'Amit','Age':25,'City':'Pune','Company':'TCS'}\n",
    "print(emp,type(emp))\n",
    "\n",
    "keys=list(emp)\n",
    "print(keys,type(keys))\n",
    "\n",
    "values=list(emp.values())\n",
    "print(lst,type(lst))"
   ]
  },
  {
   "cell_type": "code",
   "execution_count": 573,
   "id": "d2652038-1f84-4931-bb41-0ec644cdebb3",
   "metadata": {},
   "outputs": [
    {
     "name": "stdout",
     "output_type": "stream",
     "text": [
      "{1, 2, 3, 4, 5, 8, 9} <class 'set'>\n",
      "[1, 2, 3, 4, 5, 8, 9] <class 'list'>\n"
     ]
    }
   ],
   "source": [
    "s={1,2,3,4,8,9,5,2,2}\n",
    "print(s,type(s))\n",
    "\n",
    "lst=list(s)\n",
    "print(lst,type(lst))"
   ]
  },
  {
   "cell_type": "code",
   "execution_count": 577,
   "id": "126db872-2345-4041-893b-0c9a1bd1c361",
   "metadata": {},
   "outputs": [
    {
     "name": "stdout",
     "output_type": "stream",
     "text": [
      "frozenset({1, 2, 4, 5, 6, 7, 8}) <class 'frozenset'>\n",
      "[1, 2, 4, 5, 6, 7, 8] <class 'list'>\n"
     ]
    }
   ],
   "source": [
    "f=frozenset((1,4,5,7,8,4,5,5,5,6,5,7,8,5,2))\n",
    "print(f,type(f))\n",
    "\n",
    "lst=list(f)\n",
    "print(lst,type(lst))"
   ]
  },
  {
   "cell_type": "code",
   "execution_count": 581,
   "id": "1dc923f0-e087-4d5d-9caf-97c112884fd1",
   "metadata": {},
   "outputs": [
    {
     "name": "stdout",
     "output_type": "stream",
     "text": [
      "range(1, 6) <class 'range'>\n",
      "[1, 2, 3, 4, 5] <class 'list'>\n"
     ]
    }
   ],
   "source": [
    "r=range(1,6)\n",
    "print(r,type(r))\n",
    "\n",
    "lst=list(r)\n",
    "print(lst,type(lst))"
   ]
  },
  {
   "cell_type": "code",
   "execution_count": 585,
   "id": "91205c86-6f58-4c88-9e88-cbd2d993fb15",
   "metadata": {},
   "outputs": [
    {
     "name": "stdout",
     "output_type": "stream",
     "text": [
      "[0, 1, 2, 3, 4, 5, 6, 7, 8, 9]\n"
     ]
    }
   ],
   "source": [
    "lst=list(range(10))\n",
    "print(lst)"
   ]
  },
  {
   "cell_type": "code",
   "execution_count": 587,
   "id": "fad6c42c-27ed-4f5f-bd60-feea6456550a",
   "metadata": {},
   "outputs": [
    {
     "ename": "TypeError",
     "evalue": "'int' object is not iterable",
     "output_type": "error",
     "traceback": [
      "\u001b[1;31m---------------------------------------------------------------------------\u001b[0m",
      "\u001b[1;31mTypeError\u001b[0m                                 Traceback (most recent call last)",
      "Cell \u001b[1;32mIn[587], line 1\u001b[0m\n\u001b[1;32m----> 1\u001b[0m \u001b[38;5;28mlist\u001b[39m(\u001b[38;5;241m5\u001b[39m)\n",
      "\u001b[1;31mTypeError\u001b[0m: 'int' object is not iterable"
     ]
    }
   ],
   "source": [
    "list(5)"
   ]
  },
  {
   "cell_type": "code",
   "execution_count": 589,
   "id": "85e15d99-76ae-49cc-ab09-e3256eb0368e",
   "metadata": {},
   "outputs": [
    {
     "ename": "TypeError",
     "evalue": "'float' object is not iterable",
     "output_type": "error",
     "traceback": [
      "\u001b[1;31m---------------------------------------------------------------------------\u001b[0m",
      "\u001b[1;31mTypeError\u001b[0m                                 Traceback (most recent call last)",
      "Cell \u001b[1;32mIn[589], line 1\u001b[0m\n\u001b[1;32m----> 1\u001b[0m \u001b[38;5;28mlist\u001b[39m(\u001b[38;5;241m2.8\u001b[39m)\n",
      "\u001b[1;31mTypeError\u001b[0m: 'float' object is not iterable"
     ]
    }
   ],
   "source": [
    "list(2.8)"
   ]
  },
  {
   "cell_type": "code",
   "execution_count": 591,
   "id": "7911b52f-423e-4afe-abf2-36599f67f30e",
   "metadata": {},
   "outputs": [
    {
     "ename": "TypeError",
     "evalue": "'complex' object is not iterable",
     "output_type": "error",
     "traceback": [
      "\u001b[1;31m---------------------------------------------------------------------------\u001b[0m",
      "\u001b[1;31mTypeError\u001b[0m                                 Traceback (most recent call last)",
      "Cell \u001b[1;32mIn[591], line 1\u001b[0m\n\u001b[1;32m----> 1\u001b[0m \u001b[38;5;28mlist\u001b[39m(\u001b[38;5;241m5\u001b[39m\u001b[38;5;241m+\u001b[39m\u001b[38;5;241m6\u001b[39mj)\n",
      "\u001b[1;31mTypeError\u001b[0m: 'complex' object is not iterable"
     ]
    }
   ],
   "source": [
    "list(5+6j)"
   ]
  },
  {
   "cell_type": "code",
   "execution_count": 593,
   "id": "57b495a4-085c-4999-b0d6-a51d550c04f5",
   "metadata": {},
   "outputs": [
    {
     "ename": "TypeError",
     "evalue": "'bool' object is not iterable",
     "output_type": "error",
     "traceback": [
      "\u001b[1;31m---------------------------------------------------------------------------\u001b[0m",
      "\u001b[1;31mTypeError\u001b[0m                                 Traceback (most recent call last)",
      "Cell \u001b[1;32mIn[593], line 1\u001b[0m\n\u001b[1;32m----> 1\u001b[0m \u001b[38;5;28mlist\u001b[39m(\u001b[38;5;28;01mTrue\u001b[39;00m)\n",
      "\u001b[1;31mTypeError\u001b[0m: 'bool' object is not iterable"
     ]
    }
   ],
   "source": [
    "list(True)"
   ]
  },
  {
   "cell_type": "code",
   "execution_count": 595,
   "id": "01486360-5a4f-4b9c-b896-26edd984ad6f",
   "metadata": {},
   "outputs": [
    {
     "ename": "TypeError",
     "evalue": "'NoneType' object is not iterable",
     "output_type": "error",
     "traceback": [
      "\u001b[1;31m---------------------------------------------------------------------------\u001b[0m",
      "\u001b[1;31mTypeError\u001b[0m                                 Traceback (most recent call last)",
      "Cell \u001b[1;32mIn[595], line 1\u001b[0m\n\u001b[1;32m----> 1\u001b[0m \u001b[38;5;28mlist\u001b[39m(\u001b[38;5;28;01mNone\u001b[39;00m)\n",
      "\u001b[1;31mTypeError\u001b[0m: 'NoneType' object is not iterable"
     ]
    }
   ],
   "source": [
    "list(None)"
   ]
  },
  {
   "cell_type": "code",
   "execution_count": 597,
   "id": "092bccc3-781b-4b5a-9eb2-9e20f1f3149c",
   "metadata": {},
   "outputs": [],
   "source": [
    "# We can pass enumerate, zip, filter and map object also inside the list()"
   ]
  },
  {
   "cell_type": "markdown",
   "id": "ddb9ab69-cfc1-4d22-8ff3-7e2601538dca",
   "metadata": {},
   "source": [
    "# enumerate()"
   ]
  },
  {
   "cell_type": "code",
   "execution_count": 610,
   "id": "b4cae360-d767-4146-998b-10a2daf1efe3",
   "metadata": {},
   "outputs": [],
   "source": [
    "# - It takes an iterable as an argument.\n",
    "# - It maps the elements of the iterable with the numbers from 0 to len(iterable)-1\n",
    "# - It returns an enumerate object.\n",
    "# - When we pass the enumerate object to list() we get a list of tuples."
   ]
  },
  {
   "cell_type": "code",
   "execution_count": 608,
   "id": "47ebe4e1-6f27-4f5e-9fb4-2da2be446812",
   "metadata": {},
   "outputs": [
    {
     "name": "stdout",
     "output_type": "stream",
     "text": [
      "<enumerate object at 0x0000020ADEC8D710> <class 'enumerate'>\n",
      "[(0, 'P'), (1, 'y'), (2, 't'), (3, 'h'), (4, 'o'), (5, 'n')] <class 'list'>\n"
     ]
    }
   ],
   "source": [
    "e=enumerate('Python')\n",
    "print(e,type(e))\n",
    "\n",
    "lst=list(e)\n",
    "print(lst,type(lst))"
   ]
  },
  {
   "cell_type": "code",
   "execution_count": 616,
   "id": "108c4b9e-0e19-46fc-98d6-ee023519c75f",
   "metadata": {},
   "outputs": [
    {
     "name": "stdout",
     "output_type": "stream",
     "text": [
      "[(0, 'Amit'), (1, 'Suresh'), (2, 'Mohit'), (3, 'Gagan')] <class 'list'>\n"
     ]
    }
   ],
   "source": [
    "lst=list(enumerate(['Amit','Suresh','Mohit','Gagan']))\n",
    "print(lst,type(lst))"
   ]
  },
  {
   "cell_type": "markdown",
   "id": "5e0926a7-daee-4571-b97e-b05f3ea70a92",
   "metadata": {},
   "source": [
    "# zip()"
   ]
  },
  {
   "cell_type": "code",
   "execution_count": 619,
   "id": "b30e66bf-fe0d-4fa1-9169-418a11be5122",
   "metadata": {},
   "outputs": [],
   "source": [
    "# - It maps the elements of two or more iterables.\n",
    "# - It returns a zip object.\n",
    "# - We can pass zip object to list() and we get a list of tuples."
   ]
  },
  {
   "cell_type": "code",
   "execution_count": 629,
   "id": "2b0355d6-c6da-42dd-82fa-a0488023446c",
   "metadata": {},
   "outputs": [
    {
     "name": "stdout",
     "output_type": "stream",
     "text": [
      "<zip object at 0x0000020ADEABF800> <class 'zip'>\n",
      "[('emp_1', 'Amit'), ('emp_2', 'Suresh'), ('emp_3', 'Mohit'), ('emp_4', 'Gagan')] <class 'list'>\n"
     ]
    }
   ],
   "source": [
    "codes=['emp_1','emp_2','emp_3','emp_4']\n",
    "names=['Amit','Suresh','Mohit','Gagan']\n",
    "\n",
    "z=zip(codes,names)\n",
    "print(z,type(z))\n",
    "\n",
    "lst=list(z)\n",
    "print(lst,type(lst))"
   ]
  },
  {
   "cell_type": "code",
   "execution_count": 637,
   "id": "9a6d3b21-9a58-46e6-a1be-0f472642b9ad",
   "metadata": {},
   "outputs": [
    {
     "data": {
      "text/plain": [
       "[('a', 10, 1000), ('b', 20, 2000)]"
      ]
     },
     "execution_count": 637,
     "metadata": {},
     "output_type": "execute_result"
    }
   ],
   "source": [
    "list(zip('abcd',[10,20,30],(1000,2000)))"
   ]
  },
  {
   "cell_type": "code",
   "execution_count": null,
   "id": "92bcf903-9a7c-4fcf-a803-9ba3fe4a131f",
   "metadata": {},
   "outputs": [],
   "source": []
  }
 ],
 "metadata": {
  "kernelspec": {
   "display_name": "Python 3 (ipykernel)",
   "language": "python",
   "name": "python3"
  },
  "language_info": {
   "codemirror_mode": {
    "name": "ipython",
    "version": 3
   },
   "file_extension": ".py",
   "mimetype": "text/x-python",
   "name": "python",
   "nbconvert_exporter": "python",
   "pygments_lexer": "ipython3",
   "version": "3.11.4"
  }
 },
 "nbformat": 4,
 "nbformat_minor": 5
}
