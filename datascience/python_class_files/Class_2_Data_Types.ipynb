{
 "cells": [
  {
   "cell_type": "markdown",
   "id": "6d141ff6-8418-4c11-995a-7a29ba509637",
   "metadata": {},
   "source": [
    "# Data Type"
   ]
  },
  {
   "cell_type": "code",
   "execution_count": 1,
   "id": "c2684326-3e81-4b95-b411-d7aacf51b37f",
   "metadata": {},
   "outputs": [],
   "source": [
    "# numbers (whole numbers, numbers with decimal), text, image etc."
   ]
  },
  {
   "cell_type": "code",
   "execution_count": 2,
   "id": "28d5bbe0-e2e7-4344-b64c-2f6a15d70452",
   "metadata": {},
   "outputs": [],
   "source": [
    "# - It is a type classifier of any value (data)"
   ]
  },
  {
   "cell_type": "markdown",
   "id": "b1c256d9-6f02-4cba-bc47-b04430b4d9d5",
   "metadata": {},
   "source": [
    "# Types of datatypes"
   ]
  },
  {
   "cell_type": "code",
   "execution_count": 3,
   "id": "9720cc02-82da-4bf1-84f0-6a88ee389fa2",
   "metadata": {},
   "outputs": [],
   "source": [
    "# - 1- Premetive (Basic) datatypes\n",
    "# - 2- Derived datatypes"
   ]
  },
  {
   "cell_type": "markdown",
   "id": "2d67bc06-8919-4103-96d0-60e12220a117",
   "metadata": {},
   "source": [
    "# Premetive Datatypes"
   ]
  },
  {
   "cell_type": "markdown",
   "id": "dc2cc342-ca57-47c0-a995-20f5509a469d",
   "metadata": {},
   "source": [
    "# Integer - int"
   ]
  },
  {
   "cell_type": "code",
   "execution_count": 4,
   "id": "26ecf688-b4ca-4013-9238-4e5131f1e501",
   "metadata": {},
   "outputs": [],
   "source": [
    "# - Any whole number is an integer number.\n",
    "# - Any number whether +ive, -ive or 0 without a decimal point is an int value."
   ]
  },
  {
   "cell_type": "markdown",
   "id": "87881222-45d9-4826-9874-ce91bdc1272e",
   "metadata": {},
   "source": [
    "### type()"
   ]
  },
  {
   "cell_type": "code",
   "execution_count": 5,
   "id": "92710a3a-718d-4c90-a9b3-72eaf84f5b8f",
   "metadata": {},
   "outputs": [],
   "source": [
    "# - It returns the datatype of a value."
   ]
  },
  {
   "cell_type": "code",
   "execution_count": 7,
   "id": "9630cf3b-2d58-4208-855c-e81292df8824",
   "metadata": {},
   "outputs": [
    {
     "name": "stdout",
     "output_type": "stream",
     "text": [
      "5\n",
      "<class 'int'>\n"
     ]
    }
   ],
   "source": [
    "a=5\n",
    "print(a)\n",
    "print(type(a))"
   ]
  },
  {
   "cell_type": "code",
   "execution_count": 8,
   "id": "eff258dc-f58b-4232-abf7-e9a5da77ada4",
   "metadata": {},
   "outputs": [
    {
     "name": "stdout",
     "output_type": "stream",
     "text": [
      "0 <class 'int'>\n"
     ]
    }
   ],
   "source": [
    "a=0\n",
    "print(a,type(a))"
   ]
  },
  {
   "cell_type": "code",
   "execution_count": 9,
   "id": "11ea23d0-b454-4e2a-9c26-c92d47b520e0",
   "metadata": {},
   "outputs": [
    {
     "name": "stdout",
     "output_type": "stream",
     "text": [
      "-6 <class 'int'>\n"
     ]
    }
   ],
   "source": [
    "a=-6\n",
    "print(a,type(a))"
   ]
  },
  {
   "cell_type": "markdown",
   "id": "aa9fb782-5926-4164-aeaf-32ffa1b9ba90",
   "metadata": {},
   "source": [
    "# Float - float"
   ]
  },
  {
   "cell_type": "code",
   "execution_count": 10,
   "id": "1cda2eed-df0c-42e1-8f2b-8fd0a80b5d21",
   "metadata": {},
   "outputs": [],
   "source": [
    "# - Any number whether +ive, -ive or 0 with a decimal point is a float value."
   ]
  },
  {
   "cell_type": "code",
   "execution_count": 13,
   "id": "015b2e8a-973d-48b2-a2bc-ba49c0656286",
   "metadata": {},
   "outputs": [
    {
     "name": "stdout",
     "output_type": "stream",
     "text": [
      "2.8 <class 'float'>\n"
     ]
    }
   ],
   "source": [
    "a=2.8\n",
    "print(a,type(a))"
   ]
  },
  {
   "cell_type": "code",
   "execution_count": 14,
   "id": "b87f5341-7f77-426b-b2ea-531bdb2e7c10",
   "metadata": {},
   "outputs": [
    {
     "name": "stdout",
     "output_type": "stream",
     "text": [
      "0.0 <class 'float'>\n"
     ]
    }
   ],
   "source": [
    "a=0.0\n",
    "print(a,type(a))"
   ]
  },
  {
   "cell_type": "code",
   "execution_count": 16,
   "id": "929fcd2a-ce4f-423f-8072-346920a1b926",
   "metadata": {},
   "outputs": [
    {
     "name": "stdout",
     "output_type": "stream",
     "text": [
      "4e-05 <class 'float'>\n"
     ]
    }
   ],
   "source": [
    "a=0.00004\n",
    "print(a,type(a))"
   ]
  },
  {
   "cell_type": "code",
   "execution_count": 17,
   "id": "17d88055-4848-4309-9741-8dde70d78929",
   "metadata": {},
   "outputs": [
    {
     "name": "stdout",
     "output_type": "stream",
     "text": [
      "-5.77777 <class 'float'>\n"
     ]
    }
   ],
   "source": [
    "a=-5.77777\n",
    "print(a,type(a))"
   ]
  },
  {
   "cell_type": "markdown",
   "id": "93ae7e5e-ca0a-4767-9585-cad7547c5aa6",
   "metadata": {},
   "source": [
    "# Complex - complex"
   ]
  },
  {
   "cell_type": "code",
   "execution_count": 18,
   "id": "ae74bf25-6537-49fb-8979-292393d8c21b",
   "metadata": {},
   "outputs": [],
   "source": [
    "# - Any number in the form of a+bj is a complex value.\n",
    "# - Here a is a real number and b is an imaginary number."
   ]
  },
  {
   "cell_type": "code",
   "execution_count": 19,
   "id": "65f3727b-a4b7-414b-af34-e4ae29cbe49e",
   "metadata": {},
   "outputs": [
    {
     "name": "stdout",
     "output_type": "stream",
     "text": [
      "(5+6j) <class 'complex'>\n"
     ]
    }
   ],
   "source": [
    "a=5+6j\n",
    "print(a,type(a))"
   ]
  },
  {
   "cell_type": "code",
   "execution_count": 21,
   "id": "2b1eb9d0-38e9-4cac-9aa0-088cd46ced81",
   "metadata": {},
   "outputs": [
    {
     "name": "stdout",
     "output_type": "stream",
     "text": [
      "5.0\n"
     ]
    }
   ],
   "source": [
    "print(a.real)"
   ]
  },
  {
   "cell_type": "code",
   "execution_count": 22,
   "id": "ed67a3c9-69ac-4c04-928f-259c73215618",
   "metadata": {},
   "outputs": [
    {
     "name": "stdout",
     "output_type": "stream",
     "text": [
      "6.0\n"
     ]
    }
   ],
   "source": [
    "print(a.imag)"
   ]
  },
  {
   "cell_type": "code",
   "execution_count": 23,
   "id": "2ac7b4c9-0611-4e60-b6dc-e3d2f007ec21",
   "metadata": {},
   "outputs": [
    {
     "data": {
      "text/plain": [
       "7.810249675906654"
      ]
     },
     "execution_count": 23,
     "metadata": {},
     "output_type": "execute_result"
    }
   ],
   "source": [
    "abs(a)"
   ]
  },
  {
   "cell_type": "code",
   "execution_count": 24,
   "id": "002ed9de-914b-45b3-ba90-6fc6b5f7fe55",
   "metadata": {},
   "outputs": [],
   "source": [
    "# Square root of a square + b square"
   ]
  },
  {
   "cell_type": "code",
   "execution_count": 26,
   "id": "bed9e671-1c43-4a91-afd7-56e70537580a",
   "metadata": {},
   "outputs": [
    {
     "data": {
      "text/plain": [
       "7.810249675906654"
      ]
     },
     "execution_count": 26,
     "metadata": {},
     "output_type": "execute_result"
    }
   ],
   "source": [
    "(5**2+6**2)**.5"
   ]
  },
  {
   "cell_type": "code",
   "execution_count": 27,
   "id": "abafe049-0749-4279-922b-54e2b49e2902",
   "metadata": {},
   "outputs": [
    {
     "name": "stdout",
     "output_type": "stream",
     "text": [
      "(-5+2.5j) <class 'complex'>\n"
     ]
    }
   ],
   "source": [
    "a=-5+2.5j\n",
    "print(a,type(a))"
   ]
  },
  {
   "cell_type": "code",
   "execution_count": 28,
   "id": "75098d97-8913-4baa-9e3d-90389ee8a5ab",
   "metadata": {},
   "outputs": [
    {
     "name": "stdout",
     "output_type": "stream",
     "text": [
      "0.2j <class 'complex'>\n"
     ]
    }
   ],
   "source": [
    "a=0+0.2j\n",
    "print(a,type(a))"
   ]
  },
  {
   "cell_type": "code",
   "execution_count": 29,
   "id": "93a743a7-e4d2-4134-9aa5-e77d3da32390",
   "metadata": {},
   "outputs": [
    {
     "name": "stdout",
     "output_type": "stream",
     "text": [
      "2j <class 'complex'>\n"
     ]
    }
   ],
   "source": [
    "a=2J\n",
    "print(a,type(a))"
   ]
  },
  {
   "cell_type": "code",
   "execution_count": 33,
   "id": "57bbf778-29a2-45eb-a6e1-ff34fc3914da",
   "metadata": {},
   "outputs": [],
   "source": [
    "# a=5+6l"
   ]
  },
  {
   "cell_type": "markdown",
   "id": "d6002ec4-7134-4477-bb73-aea1fd99b584",
   "metadata": {},
   "source": [
    "# String - str"
   ]
  },
  {
   "cell_type": "code",
   "execution_count": 34,
   "id": "4acb702e-6d40-4c90-b2c9-31919d8969eb",
   "metadata": {},
   "outputs": [],
   "source": [
    "# Anything inside the '',\"\",'''''',\"\"\"\"\"\" is a string value."
   ]
  },
  {
   "cell_type": "code",
   "execution_count": 36,
   "id": "06bf16be-8f69-44b2-b44a-0dea1190dbb9",
   "metadata": {},
   "outputs": [
    {
     "name": "stdout",
     "output_type": "stream",
     "text": [
      "5 <class 'str'>\n"
     ]
    }
   ],
   "source": [
    "a='5'\n",
    "print(a,type(a))"
   ]
  },
  {
   "cell_type": "code",
   "execution_count": 37,
   "id": "a18560d7-7ac2-48a8-a17c-3fba85cb1851",
   "metadata": {},
   "outputs": [
    {
     "name": "stdout",
     "output_type": "stream",
     "text": [
      "Python class <class 'str'>\n"
     ]
    }
   ],
   "source": [
    "a='Python class'\n",
    "print(a,type(a))"
   ]
  },
  {
   "cell_type": "code",
   "execution_count": 38,
   "id": "9546ee80-454c-4724-b33f-40fb9493b44b",
   "metadata": {},
   "outputs": [
    {
     "name": "stdout",
     "output_type": "stream",
     "text": [
      "Python class <class 'str'>\n"
     ]
    }
   ],
   "source": [
    "a=\"Python class\"\n",
    "print(a,type(a))"
   ]
  },
  {
   "cell_type": "code",
   "execution_count": 39,
   "id": "560758db-0798-4993-8323-be5e8f206ed7",
   "metadata": {},
   "outputs": [],
   "source": [
    "# Output- Python's libraries"
   ]
  },
  {
   "cell_type": "code",
   "execution_count": 42,
   "id": "da2a508a-aa73-4bd1-a716-3416f9d1361f",
   "metadata": {},
   "outputs": [
    {
     "name": "stdout",
     "output_type": "stream",
     "text": [
      "Python's class <class 'str'>\n"
     ]
    }
   ],
   "source": [
    "a=\"Python's class\"\n",
    "print(a,type(a))"
   ]
  },
  {
   "cell_type": "code",
   "execution_count": 46,
   "id": "e755013a-2e4c-46cb-9d63-ef9798f8f38b",
   "metadata": {},
   "outputs": [
    {
     "name": "stdout",
     "output_type": "stream",
     "text": [
      "This is \"Python\" class <class 'str'>\n"
     ]
    }
   ],
   "source": [
    "# Output- This is \"Python\" class\n",
    "\n",
    "a='This is \"Python\" class'\n",
    "print(a,type(a))"
   ]
  },
  {
   "cell_type": "code",
   "execution_count": 51,
   "id": "48faa58b-59f4-4c80-a236-494cb6bd820a",
   "metadata": {},
   "outputs": [
    {
     "name": "stdout",
     "output_type": "stream",
     "text": [
      "Hello everyone!\n",
      "I hope you are doing well! <class 'str'>\n"
     ]
    }
   ],
   "source": [
    "a='''Hello everyone!\n",
    "I hope you are doing well!'''\n",
    "\n",
    "print(a,type(a))"
   ]
  },
  {
   "cell_type": "code",
   "execution_count": 52,
   "id": "63f11e0b-fd65-4c09-afa3-2802405653c5",
   "metadata": {},
   "outputs": [
    {
     "name": "stdout",
     "output_type": "stream",
     "text": [
      "Hello everyone!\n",
      "I hope you are doing well! <class 'str'>\n"
     ]
    }
   ],
   "source": [
    "a=\"\"\"Hello everyone!\n",
    "I hope you are doing well!\"\"\"\n",
    "\n",
    "print(a,type(a))"
   ]
  },
  {
   "cell_type": "code",
   "execution_count": 53,
   "id": "c3aa5048-2a6e-4ec6-9552-04e9fc1d7ae0",
   "metadata": {},
   "outputs": [],
   "source": [
    "# Hello everyone!\n",
    "# This is 'Pyhon class'"
   ]
  },
  {
   "cell_type": "code",
   "execution_count": 55,
   "id": "541ef03a-8540-4d88-82b1-41a355d56210",
   "metadata": {},
   "outputs": [
    {
     "name": "stdout",
     "output_type": "stream",
     "text": [
      "Hello everyone!\n",
      "This is 'Pyhon class' <class 'str'>\n"
     ]
    }
   ],
   "source": [
    "a=\"\"\"Hello everyone!\n",
    "This is 'Pyhon class'\"\"\"\n",
    "\n",
    "print(a,type(a))"
   ]
  },
  {
   "cell_type": "code",
   "execution_count": 56,
   "id": "886ea1aa-15a4-4b8b-aac2-53f34295cd1a",
   "metadata": {},
   "outputs": [],
   "source": [
    "# Hello everyone!\n",
    "# This is \"Pyhon class\""
   ]
  },
  {
   "cell_type": "code",
   "execution_count": 58,
   "id": "f6a9e723-035c-4766-b73f-f7871a099b96",
   "metadata": {},
   "outputs": [
    {
     "name": "stdout",
     "output_type": "stream",
     "text": [
      "Hello everyone!\n",
      "This is \"Pyhon class\" <class 'str'>\n"
     ]
    }
   ],
   "source": [
    "a='''Hello everyone!\n",
    "This is \"Pyhon class\"'''\n",
    "\n",
    "print(a,type(a))"
   ]
  },
  {
   "cell_type": "markdown",
   "id": "74fa7698-e959-4114-b87f-89ba6751a8a6",
   "metadata": {},
   "source": [
    "# Boolean - bool"
   ]
  },
  {
   "cell_type": "code",
   "execution_count": 59,
   "id": "c4af5278-2e3a-430a-bbba-bde9541ad8a3",
   "metadata": {},
   "outputs": [],
   "source": [
    "# True and False are the boolean values."
   ]
  },
  {
   "cell_type": "code",
   "execution_count": 60,
   "id": "c47627ba-426c-477f-8be9-44add23cbc56",
   "metadata": {},
   "outputs": [
    {
     "name": "stdout",
     "output_type": "stream",
     "text": [
      "True <class 'bool'>\n"
     ]
    }
   ],
   "source": [
    "a=True\n",
    "print(a,type(a))"
   ]
  },
  {
   "cell_type": "code",
   "execution_count": 61,
   "id": "d1fd6b0c-58a9-4d76-b74c-b74745731f7a",
   "metadata": {},
   "outputs": [
    {
     "name": "stdout",
     "output_type": "stream",
     "text": [
      "False <class 'bool'>\n"
     ]
    }
   ],
   "source": [
    "a=False\n",
    "print(a,type(a))"
   ]
  },
  {
   "cell_type": "markdown",
   "id": "deb2dd03-229c-4a24-9b67-0c304c92154f",
   "metadata": {},
   "source": [
    "# NoneType"
   ]
  },
  {
   "cell_type": "code",
   "execution_count": 62,
   "id": "b2277e34-990b-4bd6-94b4-c3c0beb5833b",
   "metadata": {},
   "outputs": [],
   "source": [
    "# - None is NoneType.\n",
    "# - None is used to represent the missing value or null value in Python"
   ]
  },
  {
   "cell_type": "code",
   "execution_count": 63,
   "id": "4cee4919-3eb6-404a-8b12-1a8089297695",
   "metadata": {},
   "outputs": [
    {
     "name": "stdout",
     "output_type": "stream",
     "text": [
      "None <class 'NoneType'>\n"
     ]
    }
   ],
   "source": [
    "a=None\n",
    "print(a,type(a))"
   ]
  },
  {
   "cell_type": "code",
   "execution_count": 65,
   "id": "d2d08bb7-b77d-4d32-9263-4cc722af737a",
   "metadata": {},
   "outputs": [],
   "source": [
    "name='Nilesh'\n",
    "age=24\n",
    "code=None\n",
    "salary=68000"
   ]
  },
  {
   "cell_type": "code",
   "execution_count": 69,
   "id": "9e3d8c72-a795-4121-9e4a-a29d5b096760",
   "metadata": {},
   "outputs": [
    {
     "name": "stdout",
     "output_type": "stream",
     "text": [
      "Nilesh\n",
      "24\n",
      "None\n",
      "68000\n"
     ]
    }
   ],
   "source": [
    "print(name)\n",
    "print(age)\n",
    "print(code)\n",
    "print(salary)"
   ]
  },
  {
   "cell_type": "markdown",
   "id": "5135be72-b0a3-4774-b8e7-be4cfd816ea9",
   "metadata": {},
   "source": [
    "# Derived Datatypes"
   ]
  },
  {
   "cell_type": "code",
   "execution_count": 71,
   "id": "8c4ee69a-b936-4e81-aa8d-29a20d0b34f3",
   "metadata": {},
   "outputs": [],
   "source": [
    "# - These are the container types or data structures that are used to store multiple values in a specific fashion."
   ]
  },
  {
   "cell_type": "markdown",
   "id": "edc0df05-11d0-4a2f-9e8e-325cead7d9f9",
   "metadata": {},
   "source": [
    "# List - list"
   ]
  },
  {
   "cell_type": "code",
   "execution_count": 72,
   "id": "19b53d39-f8ff-482e-a9b5-c1d9567aa817",
   "metadata": {},
   "outputs": [],
   "source": [
    "# - Anything inside the [] is a list.\n",
    "# - A list can contain multiple elements.\n",
    "# - Each element in a list is seperated by a comma."
   ]
  },
  {
   "cell_type": "code",
   "execution_count": 73,
   "id": "69b732ed-fd55-4bdf-aa36-1730bfdd3d10",
   "metadata": {},
   "outputs": [
    {
     "name": "stdout",
     "output_type": "stream",
     "text": [
      "45\n"
     ]
    }
   ],
   "source": [
    "# 12,45,72,36,54\n",
    "a=12\n",
    "a=45\n",
    "print(a)"
   ]
  },
  {
   "cell_type": "code",
   "execution_count": 74,
   "id": "fe521c15-8a1b-4f02-a9bd-10df6fb78657",
   "metadata": {},
   "outputs": [
    {
     "name": "stdout",
     "output_type": "stream",
     "text": [
      "[12, 45, 72, 36, 54] <class 'list'>\n"
     ]
    }
   ],
   "source": [
    "a=[12,45,72,36,54]\n",
    "print(a,type(a))"
   ]
  },
  {
   "cell_type": "code",
   "execution_count": 75,
   "id": "134754da-aff4-405d-acff-c1673e190a84",
   "metadata": {},
   "outputs": [
    {
     "name": "stdout",
     "output_type": "stream",
     "text": [
      "['Nilesh', 'Jayanth', 'Megha', 'Vaishnavi', 'Sumit'] <class 'list'>\n"
     ]
    }
   ],
   "source": [
    "emp_names=['Nilesh','Jayanth','Megha','Vaishnavi','Sumit']\n",
    "print(emp_names,type(emp_names))"
   ]
  },
  {
   "cell_type": "code",
   "execution_count": 77,
   "id": "c201b332-0d05-446f-a267-ceaedee101c4",
   "metadata": {},
   "outputs": [
    {
     "name": "stdout",
     "output_type": "stream",
     "text": [
      "[True, 'Python', 28, 6.444444, False, (5+6j), None] <class 'list'>\n"
     ]
    }
   ],
   "source": [
    "a=[True, 'Python', 28, 6.444444, False, 5+6j, None]\n",
    "print(a,type(a))"
   ]
  },
  {
   "cell_type": "markdown",
   "id": "f8faae51-3731-4dfb-aadf-c030a8a5692b",
   "metadata": {},
   "source": [
    "# Tuple - tuple"
   ]
  },
  {
   "cell_type": "code",
   "execution_count": 78,
   "id": "c3b846b0-ddf1-4867-98dd-7517bbad7457",
   "metadata": {},
   "outputs": [],
   "source": [
    "# - Anything inside the () is a tuple.\n",
    "# - A tuple can contain multiple elements.\n",
    "# - Each element in a tuple is seperated by a comma."
   ]
  },
  {
   "cell_type": "code",
   "execution_count": 83,
   "id": "6cc004f9-c54d-4a49-9838-bc7438d94e94",
   "metadata": {},
   "outputs": [
    {
     "name": "stdout",
     "output_type": "stream",
     "text": [
      "(10, 20, 30, 40, 50, 60, 70, 80) <class 'tuple'>\n"
     ]
    }
   ],
   "source": [
    "a=(10,20,30,40,50,60,70,80)\n",
    "print(a,type(a))"
   ]
  },
  {
   "cell_type": "code",
   "execution_count": 84,
   "id": "55777d71-51bd-471c-9a78-6c90e1ed3cd5",
   "metadata": {},
   "outputs": [
    {
     "name": "stdout",
     "output_type": "stream",
     "text": [
      "(True, False, 'Hello', (5+6j), [1, 2, 3, 4], 55555, 2.888888, None) <class 'tuple'>\n"
     ]
    }
   ],
   "source": [
    "a=(True, False, 'Hello', 5+6j, [1,2,3,4], 55555, 2.888888, None)\n",
    "print(a,type(a))"
   ]
  },
  {
   "cell_type": "markdown",
   "id": "5292278a-b1d0-4f05-8dcc-9e6963f48125",
   "metadata": {},
   "source": [
    "# List vs Tuple"
   ]
  },
  {
   "cell_type": "code",
   "execution_count": 86,
   "id": "d66433fa-b237-426b-ba84-c136e3511e15",
   "metadata": {},
   "outputs": [],
   "source": [
    "# List is mutable whereas Tuple is immutable.\n",
    "# - Mutable- We can modify the elements.\n",
    "# - Immutable- We can not modify the elements."
   ]
  },
  {
   "cell_type": "code",
   "execution_count": 87,
   "id": "ba3799c8-dcfa-460c-bed1-776a003d332b",
   "metadata": {},
   "outputs": [
    {
     "name": "stdout",
     "output_type": "stream",
     "text": [
      "[10, 20, 30, 40, 50] <class 'list'>\n"
     ]
    }
   ],
   "source": [
    "lst=[10,20,30,40,50]\n",
    "print(lst,type(lst))"
   ]
  },
  {
   "cell_type": "code",
   "execution_count": 88,
   "id": "9e8aeb64-b29b-4f92-b42a-196bba8b4064",
   "metadata": {},
   "outputs": [
    {
     "name": "stdout",
     "output_type": "stream",
     "text": [
      "10\n"
     ]
    }
   ],
   "source": [
    "print(lst[0])"
   ]
  },
  {
   "cell_type": "code",
   "execution_count": 89,
   "id": "e57c83c2-dccd-4e6a-a654-e8c5f57499d2",
   "metadata": {},
   "outputs": [
    {
     "name": "stdout",
     "output_type": "stream",
     "text": [
      "50\n"
     ]
    }
   ],
   "source": [
    "print(lst[4])"
   ]
  },
  {
   "cell_type": "code",
   "execution_count": 90,
   "id": "9ff74aa7-0561-4707-8d4f-35d8be3b22f6",
   "metadata": {},
   "outputs": [],
   "source": [
    "lst[3]=True"
   ]
  },
  {
   "cell_type": "code",
   "execution_count": 91,
   "id": "760f989b-7f0d-42ad-835e-4e1db3131898",
   "metadata": {},
   "outputs": [
    {
     "name": "stdout",
     "output_type": "stream",
     "text": [
      "[10, 20, 30, True, 50]\n"
     ]
    }
   ],
   "source": [
    "print(lst)"
   ]
  },
  {
   "cell_type": "code",
   "execution_count": 92,
   "id": "9bbc656e-79f1-46a1-a898-5a65f52606a9",
   "metadata": {},
   "outputs": [],
   "source": [
    "lst[0]=2000"
   ]
  },
  {
   "cell_type": "code",
   "execution_count": 93,
   "id": "b6c4f519-4e36-42f2-be1a-8869df74d21e",
   "metadata": {},
   "outputs": [
    {
     "name": "stdout",
     "output_type": "stream",
     "text": [
      "[2000, 20, 30, True, 50]\n"
     ]
    }
   ],
   "source": [
    "print(lst)"
   ]
  },
  {
   "cell_type": "code",
   "execution_count": 94,
   "id": "adbd25c9-d0a6-41fb-88cb-fa61f168f2cd",
   "metadata": {},
   "outputs": [
    {
     "name": "stdout",
     "output_type": "stream",
     "text": [
      "(10, 20, 30, 40, 50) <class 'tuple'>\n"
     ]
    }
   ],
   "source": [
    "t=(10,20,30,40,50)\n",
    "print(t,type(t))"
   ]
  },
  {
   "cell_type": "code",
   "execution_count": 95,
   "id": "74c30307-ce3b-4066-8616-eb502f9ff434",
   "metadata": {},
   "outputs": [
    {
     "name": "stdout",
     "output_type": "stream",
     "text": [
      "10\n"
     ]
    }
   ],
   "source": [
    "print(t[0])"
   ]
  },
  {
   "cell_type": "code",
   "execution_count": 97,
   "id": "82983183-fdde-4a93-9bcc-994b2ca7f1d6",
   "metadata": {},
   "outputs": [
    {
     "name": "stdout",
     "output_type": "stream",
     "text": [
      "40\n"
     ]
    }
   ],
   "source": [
    "print(t[3])"
   ]
  },
  {
   "cell_type": "code",
   "execution_count": 98,
   "id": "229aa4c5-83c8-46e0-acdc-a31ad09ba286",
   "metadata": {},
   "outputs": [
    {
     "ename": "TypeError",
     "evalue": "'tuple' object does not support item assignment",
     "output_type": "error",
     "traceback": [
      "\u001b[1;31m---------------------------------------------------------------------------\u001b[0m",
      "\u001b[1;31mTypeError\u001b[0m                                 Traceback (most recent call last)",
      "Cell \u001b[1;32mIn[98], line 1\u001b[0m\n\u001b[1;32m----> 1\u001b[0m t[\u001b[38;5;241m3\u001b[39m]\u001b[38;5;241m=\u001b[39m\u001b[38;5;241m2000\u001b[39m\n",
      "\u001b[1;31mTypeError\u001b[0m: 'tuple' object does not support item assignment"
     ]
    }
   ],
   "source": [
    "t[3]=2000"
   ]
  },
  {
   "cell_type": "markdown",
   "id": "c925bfe2-a4df-4618-95c7-984ff8b1c59a",
   "metadata": {},
   "source": [
    "# Dictionary - dict"
   ]
  },
  {
   "cell_type": "code",
   "execution_count": 99,
   "id": "0aa6649c-9eab-409a-bd1e-1c53c05e47da",
   "metadata": {},
   "outputs": [],
   "source": [
    "# - It is a collection key:value pairs kept inside the {}.\n",
    "# - Each key:value pair is seperated by comma."
   ]
  },
  {
   "cell_type": "code",
   "execution_count": 100,
   "id": "95d9c077-fe6e-479c-9508-11e5272d8311",
   "metadata": {},
   "outputs": [
    {
     "name": "stdout",
     "output_type": "stream",
     "text": [
      "{1: 100, 2: 200, 3: 300, 4: 400} <class 'dict'>\n"
     ]
    }
   ],
   "source": [
    "a={1:100,2:200,3:300,4:400}\n",
    "print(a,type(a))"
   ]
  },
  {
   "cell_type": "code",
   "execution_count": 105,
   "id": "e13c032e-9d08-4f70-856b-f44e72f91097",
   "metadata": {},
   "outputs": [
    {
     "name": "stdout",
     "output_type": "stream",
     "text": [
      "{'Name': 'Unni', 'Age': 26, 'ID': 111, 'City': 'Pune'} <class 'dict'>\n"
     ]
    }
   ],
   "source": [
    "emp={'Name':'Unni','Age':26,'ID':111,'City':'Pune'}\n",
    "print(emp,type(emp))"
   ]
  },
  {
   "cell_type": "code",
   "execution_count": 103,
   "id": "777e2660-a5fc-457c-9b8a-8dd0dfda019f",
   "metadata": {},
   "outputs": [],
   "source": [
    "# dict_name[key] -> value"
   ]
  },
  {
   "cell_type": "code",
   "execution_count": 113,
   "id": "78b0ee20-f9d5-4913-869e-deb18e338d0e",
   "metadata": {},
   "outputs": [
    {
     "name": "stdout",
     "output_type": "stream",
     "text": [
      "Unni\n"
     ]
    }
   ],
   "source": [
    "print(emp['Name'])"
   ]
  },
  {
   "cell_type": "code",
   "execution_count": 108,
   "id": "5fe8bdda-1159-4d81-8c34-92a28f67e067",
   "metadata": {},
   "outputs": [
    {
     "name": "stdout",
     "output_type": "stream",
     "text": [
      "111\n"
     ]
    }
   ],
   "source": [
    "print(emp['ID'])"
   ]
  },
  {
   "cell_type": "code",
   "execution_count": 109,
   "id": "bc3a753f-e837-4bd4-9956-42c55d52e040",
   "metadata": {},
   "outputs": [
    {
     "name": "stdout",
     "output_type": "stream",
     "text": [
      "Pune\n"
     ]
    }
   ],
   "source": [
    "print(emp['City'])"
   ]
  },
  {
   "cell_type": "code",
   "execution_count": 110,
   "id": "f9d89c13-70b5-42b3-9f90-3cc499cca2b2",
   "metadata": {},
   "outputs": [
    {
     "name": "stdout",
     "output_type": "stream",
     "text": [
      "26\n"
     ]
    }
   ],
   "source": [
    "print(emp['Age'])"
   ]
  },
  {
   "cell_type": "code",
   "execution_count": 111,
   "id": "399cd945-f6d3-4365-9005-58abd2697df0",
   "metadata": {},
   "outputs": [
    {
     "ename": "KeyError",
     "evalue": "'Phone'",
     "output_type": "error",
     "traceback": [
      "\u001b[1;31m---------------------------------------------------------------------------\u001b[0m",
      "\u001b[1;31mKeyError\u001b[0m                                  Traceback (most recent call last)",
      "Cell \u001b[1;32mIn[111], line 1\u001b[0m\n\u001b[1;32m----> 1\u001b[0m emp[\u001b[38;5;124m'\u001b[39m\u001b[38;5;124mPhone\u001b[39m\u001b[38;5;124m'\u001b[39m]\n",
      "\u001b[1;31mKeyError\u001b[0m: 'Phone'"
     ]
    }
   ],
   "source": [
    "emp['Phone']"
   ]
  },
  {
   "cell_type": "markdown",
   "id": "c4fdc72d-06bb-4316-bc34-bba17a2fb703",
   "metadata": {},
   "source": [
    "# Set - set"
   ]
  },
  {
   "cell_type": "code",
   "execution_count": 114,
   "id": "e8918f8d-7c7f-424d-b0e4-4be9fe412c8a",
   "metadata": {},
   "outputs": [],
   "source": [
    "# - Anything inside the {} is a set.\n",
    "# - Set does not allow duplicate elements.\n",
    "# - Set stores the values in some random order."
   ]
  },
  {
   "cell_type": "code",
   "execution_count": 115,
   "id": "4cd9affe-1ff9-4a35-9cc6-6affd2a78e82",
   "metadata": {},
   "outputs": [
    {
     "name": "stdout",
     "output_type": "stream",
     "text": [
      "{1, 2, 3, 4, 5} <class 'set'>\n"
     ]
    }
   ],
   "source": [
    "s={1,2,3,4,5}\n",
    "print(s,type(s))"
   ]
  },
  {
   "cell_type": "code",
   "execution_count": 116,
   "id": "7c120baf-d011-4a78-bbb1-f18ed3fb9a58",
   "metadata": {},
   "outputs": [
    {
     "name": "stdout",
     "output_type": "stream",
     "text": [
      "{1, 2, 5, 6, 8} <class 'set'>\n"
     ]
    }
   ],
   "source": [
    "s={1,1,1,1,2,2,5,5,8,2,2,2,5,6,6,6,8}\n",
    "print(s,type(s))"
   ]
  },
  {
   "cell_type": "code",
   "execution_count": 117,
   "id": "a28fffeb-7874-4a76-9873-4729e2416297",
   "metadata": {},
   "outputs": [
    {
     "name": "stdout",
     "output_type": "stream",
     "text": [
      "{True, 2.88888, None, (5+5j), 5000, 'Hello'} <class 'set'>\n"
     ]
    }
   ],
   "source": [
    "s={True, 'Hello', 5+5j, None, 5000, 2.88888}\n",
    "print(s,type(s))"
   ]
  },
  {
   "cell_type": "markdown",
   "id": "de85c622-313b-46bc-b79c-c588b3304ce5",
   "metadata": {},
   "source": [
    "# Frozenset - frozenset"
   ]
  },
  {
   "cell_type": "code",
   "execution_count": 119,
   "id": "e9de1407-0c43-4df4-856d-e2abcfef6c2d",
   "metadata": {},
   "outputs": [],
   "source": [
    "# - When we pass any iterable inside the frozenset() then we get a fronzenset object.\n",
    "# - Iterable- String, List, Tuple, Dictionary, Set, Frozenset, Range.\n",
    "# - Frozenset does not allow the duplicate values.\n",
    "# - Frozenset returns the values in some random order like set."
   ]
  },
  {
   "cell_type": "code",
   "execution_count": 122,
   "id": "a82da47e-f642-4371-a269-607e5f02132b",
   "metadata": {},
   "outputs": [
    {
     "name": "stdout",
     "output_type": "stream",
     "text": [
      "Python <class 'str'>\n",
      "frozenset({'y', 'h', 't', 'o', 'P', 'n'}) <class 'frozenset'>\n"
     ]
    }
   ],
   "source": [
    "s='Python'\n",
    "print(s,type(s))\n",
    "\n",
    "f=frozenset(s)\n",
    "print(f,type(f))"
   ]
  },
  {
   "cell_type": "code",
   "execution_count": 123,
   "id": "b3dd4691-e91f-429a-ae0f-fdbe2ea94a00",
   "metadata": {},
   "outputs": [
    {
     "name": "stdout",
     "output_type": "stream",
     "text": [
      "Hello <class 'str'>\n",
      "frozenset({'H', 'l', 'e', 'o'}) <class 'frozenset'>\n"
     ]
    }
   ],
   "source": [
    "s='Hello'\n",
    "print(s,type(s))\n",
    "\n",
    "f=frozenset(s)\n",
    "print(f,type(f))"
   ]
  },
  {
   "cell_type": "code",
   "execution_count": 127,
   "id": "0ec25772-bece-4c9d-8230-8a256d424439",
   "metadata": {},
   "outputs": [
    {
     "name": "stdout",
     "output_type": "stream",
     "text": [
      "[2, 5, 4, 8, 6, 2, 4, 7, 8, 5, 3, 2, 1, 4] <class 'list'>\n",
      "frozenset({1, 2, 3, 4, 5, 6, 7, 8}) <class 'frozenset'>\n"
     ]
    }
   ],
   "source": [
    "lst=[2,5,4,8,6,2,4,7,8,5,3,2,1,4]\n",
    "print(lst,type(lst))\n",
    "\n",
    "f=frozenset(lst)\n",
    "print(f,type(f))"
   ]
  },
  {
   "cell_type": "markdown",
   "id": "9dd05407-b11d-4b49-93b3-1346fd2fd736",
   "metadata": {},
   "source": [
    "# Set vs Frozenset"
   ]
  },
  {
   "cell_type": "code",
   "execution_count": 128,
   "id": "de2b5b6e-0359-451e-b227-a10aeb910d25",
   "metadata": {},
   "outputs": [],
   "source": [
    "# Set is mutable whereas Frozenset is immutable."
   ]
  },
  {
   "cell_type": "code",
   "execution_count": 133,
   "id": "0072fb47-555c-46d0-909b-2d4ce65c00b3",
   "metadata": {},
   "outputs": [
    {
     "name": "stdout",
     "output_type": "stream",
     "text": [
      "{1, 2, 3, 4, 5} <class 'set'>\n",
      "{1, 2, 3, 4, 5, 42}\n",
      "{1, 2, 4, 5, 42} <class 'set'>\n"
     ]
    }
   ],
   "source": [
    "s={1,2,3,4,5}\n",
    "print(s,type(s))\n",
    "\n",
    "s.add(42)\n",
    "print(s)\n",
    "\n",
    "s.remove(3)\n",
    "print(s,type(s))"
   ]
  },
  {
   "cell_type": "code",
   "execution_count": 139,
   "id": "5d6b4eee-32ee-4fec-a533-bdc8c85a05df",
   "metadata": {},
   "outputs": [
    {
     "name": "stdout",
     "output_type": "stream",
     "text": [
      "frozenset({1, 2, 3, 4, 5}) <class 'frozenset'>\n"
     ]
    }
   ],
   "source": [
    "f=frozenset([1,2,3,4,5])\n",
    "print(f,type(f))"
   ]
  },
  {
   "cell_type": "markdown",
   "id": "2e1c8777-bf57-449a-980c-a0dcaf14a324",
   "metadata": {},
   "source": [
    "# Range - range"
   ]
  },
  {
   "cell_type": "code",
   "execution_count": 140,
   "id": "b2280662-123c-427b-aea5-7d22d36273c2",
   "metadata": {},
   "outputs": [],
   "source": [
    "# - range() returns the range object.\n",
    "# - It is used to create the sequence of int numbers."
   ]
  },
  {
   "cell_type": "code",
   "execution_count": 142,
   "id": "d2579177-c9a4-4146-978a-64df8e0e3fba",
   "metadata": {},
   "outputs": [],
   "source": [
    "# range(start,stop,step)\n",
    "# stop is excluded\n",
    "# step is 1 by default"
   ]
  },
  {
   "cell_type": "code",
   "execution_count": 148,
   "id": "f32f0460-46d1-45cf-b8e4-aa8e7e71773c",
   "metadata": {},
   "outputs": [
    {
     "name": "stdout",
     "output_type": "stream",
     "text": [
      "range(1, 11) <class 'range'>\n",
      "[1, 2, 3, 4, 5, 6, 7, 8, 9, 10]\n"
     ]
    }
   ],
   "source": [
    "# Create a sequence of natural numbers from 1 to 10\n",
    "\n",
    "r=range(1,11,1)\n",
    "print(r,type(r))\n",
    "\n",
    "lst=list(r)\n",
    "print(lst)"
   ]
  },
  {
   "cell_type": "code",
   "execution_count": 144,
   "id": "f8c97859-89ae-49ad-ad73-70666a82b14f",
   "metadata": {},
   "outputs": [],
   "source": [
    "# start+step=next value"
   ]
  },
  {
   "cell_type": "code",
   "execution_count": 149,
   "id": "c3c55746-7873-4855-9616-e632b26a6881",
   "metadata": {},
   "outputs": [
    {
     "name": "stdout",
     "output_type": "stream",
     "text": [
      "range(1, 11) <class 'range'>\n",
      "[1, 2, 3, 4, 5, 6, 7, 8, 9, 10]\n"
     ]
    }
   ],
   "source": [
    "# Create a sequence of natural numbers from 1 to 10\n",
    "\n",
    "r=range(1,11)\n",
    "print(r,type(r))\n",
    "\n",
    "lst=list(r)\n",
    "print(lst)"
   ]
  },
  {
   "cell_type": "code",
   "execution_count": 152,
   "id": "11d314dc-8bee-4637-a217-f80fc4d23fcd",
   "metadata": {},
   "outputs": [
    {
     "name": "stdout",
     "output_type": "stream",
     "text": [
      "[2, 4, 6, 8, 10, 12, 14, 16, 18, 20]\n"
     ]
    }
   ],
   "source": [
    "# Create a sequence of even numbers from 1 to 20\n",
    "\n",
    "lst=list(range(2,21,2))\n",
    "print(lst)"
   ]
  },
  {
   "cell_type": "code",
   "execution_count": 157,
   "id": "7c771085-0892-4a4c-8dee-5164a774c3ec",
   "metadata": {},
   "outputs": [
    {
     "name": "stdout",
     "output_type": "stream",
     "text": [
      "[10, 9, 8, 7, 6, 5, 4, 3, 2, 1]\n"
     ]
    }
   ],
   "source": [
    "# Create a sequence of numbers from 10 to 1\n",
    "\n",
    "lst=list(range(10,0,-1))\n",
    "print(lst)"
   ]
  },
  {
   "cell_type": "code",
   "execution_count": 161,
   "id": "8076a2fc-0061-4f2b-9a40-3ae46c8e7e23",
   "metadata": {},
   "outputs": [
    {
     "name": "stdout",
     "output_type": "stream",
     "text": [
      "[20, 18, 16, 14, 12, 10]\n"
     ]
    }
   ],
   "source": [
    "# [20,18,16,14,12,10]->9\n",
    "\n",
    "lst=list(range(20,9,-2))\n",
    "print(lst)"
   ]
  },
  {
   "cell_type": "code",
   "execution_count": 162,
   "id": "3a603dc9-0525-4f0f-8d7e-cdb1b1e32859",
   "metadata": {},
   "outputs": [],
   "source": [
    "# range(stop_value)\n",
    "# - 0 to stop-1"
   ]
  },
  {
   "cell_type": "code",
   "execution_count": 163,
   "id": "385e5e2a-2c40-43dd-8dc1-c6b6fa652597",
   "metadata": {},
   "outputs": [
    {
     "name": "stdout",
     "output_type": "stream",
     "text": [
      "[0, 1, 2, 3, 4]\n"
     ]
    }
   ],
   "source": [
    "lst=list(range(5))\n",
    "print(lst)"
   ]
  },
  {
   "cell_type": "code",
   "execution_count": 164,
   "id": "1234ed1c-680d-4f79-84f6-5040c07eb5df",
   "metadata": {},
   "outputs": [
    {
     "name": "stdout",
     "output_type": "stream",
     "text": [
      "[0, 1, 2, 3, 4, 5, 6, 7, 8, 9]\n"
     ]
    }
   ],
   "source": [
    "lst=list(range(10))\n",
    "print(lst)"
   ]
  },
  {
   "cell_type": "markdown",
   "id": "d5f4e157-e669-4af6-b65f-71b757d3fe29",
   "metadata": {},
   "source": [
    "# Typecasting"
   ]
  },
  {
   "cell_type": "code",
   "execution_count": 165,
   "id": "91bd4f74-2586-4b95-afc2-697210fcac99",
   "metadata": {},
   "outputs": [],
   "source": [
    "# - Changing the type of a value or object is known as typecasting.\n",
    "# - There are many functions provided by Python that fecilitates typecasting."
   ]
  },
  {
   "cell_type": "markdown",
   "id": "89625064-0f4f-4fb5-9959-c57727c12262",
   "metadata": {},
   "source": [
    "# int()"
   ]
  },
  {
   "cell_type": "code",
   "execution_count": 166,
   "id": "94f3cd9e-4d52-4d47-879d-2e4fe07d0d66",
   "metadata": {},
   "outputs": [],
   "source": [
    "# - It return an int value.\n",
    "# - It typecasts to int."
   ]
  },
  {
   "cell_type": "code",
   "execution_count": 170,
   "id": "5c6837dc-73b7-416d-9377-b0ba345400e6",
   "metadata": {},
   "outputs": [
    {
     "name": "stdout",
     "output_type": "stream",
     "text": [
      "2.888 <class 'float'>\n",
      "2 <class 'int'>\n"
     ]
    }
   ],
   "source": [
    "a=2.888\n",
    "print(a,type(a))\n",
    "\n",
    "b=int(a)\n",
    "print(b,type(b))"
   ]
  },
  {
   "cell_type": "code",
   "execution_count": 172,
   "id": "5aee387b-ed8c-451b-b047-d2d5838229f0",
   "metadata": {},
   "outputs": [
    {
     "name": "stdout",
     "output_type": "stream",
     "text": [
      "25 <class 'str'>\n",
      "25 <class 'int'>\n"
     ]
    }
   ],
   "source": [
    "a='25'\n",
    "print(a,type(a))\n",
    "\n",
    "b=int(a)\n",
    "print(b,type(b))"
   ]
  },
  {
   "cell_type": "code",
   "execution_count": 173,
   "id": "11f05b45-563e-4310-a866-fb6942f49e37",
   "metadata": {},
   "outputs": [
    {
     "data": {
      "text/plain": [
       "32"
      ]
     },
     "execution_count": 173,
     "metadata": {},
     "output_type": "execute_result"
    }
   ],
   "source": [
    "25+7"
   ]
  },
  {
   "cell_type": "code",
   "execution_count": 174,
   "id": "4a120d5c-b4c2-48ab-9adb-321a778dff1f",
   "metadata": {},
   "outputs": [
    {
     "data": {
      "text/plain": [
       "'257'"
      ]
     },
     "execution_count": 174,
     "metadata": {},
     "output_type": "execute_result"
    }
   ],
   "source": [
    "'25'+'7'"
   ]
  },
  {
   "cell_type": "code",
   "execution_count": 175,
   "id": "1bf4d5d8-c6ef-437f-9687-f89a6e5cf2b9",
   "metadata": {},
   "outputs": [
    {
     "data": {
      "text/plain": [
       "32"
      ]
     },
     "execution_count": 175,
     "metadata": {},
     "output_type": "execute_result"
    }
   ],
   "source": [
    "int('25')+int('7')"
   ]
  },
  {
   "cell_type": "code",
   "execution_count": 176,
   "id": "30fe7db5-1373-4699-8062-643edfd75d48",
   "metadata": {},
   "outputs": [],
   "source": [
    "# When we typecast a string to int then string must contains digits only otherwise typecasting won't be possible."
   ]
  },
  {
   "cell_type": "code",
   "execution_count": 177,
   "id": "4475e15c-d197-4cbe-b3a5-20f441b72d07",
   "metadata": {},
   "outputs": [
    {
     "ename": "ValueError",
     "evalue": "invalid literal for int() with base 10: 'abcd'",
     "output_type": "error",
     "traceback": [
      "\u001b[1;31m---------------------------------------------------------------------------\u001b[0m",
      "\u001b[1;31mValueError\u001b[0m                                Traceback (most recent call last)",
      "Cell \u001b[1;32mIn[177], line 1\u001b[0m\n\u001b[1;32m----> 1\u001b[0m \u001b[38;5;28mint\u001b[39m(\u001b[38;5;124m'\u001b[39m\u001b[38;5;124mabcd\u001b[39m\u001b[38;5;124m'\u001b[39m)\n",
      "\u001b[1;31mValueError\u001b[0m: invalid literal for int() with base 10: 'abcd'"
     ]
    }
   ],
   "source": [
    "int('abcd')"
   ]
  },
  {
   "cell_type": "code",
   "execution_count": 180,
   "id": "e210117d-caac-487a-b69a-e37ea549453c",
   "metadata": {},
   "outputs": [
    {
     "ename": "ValueError",
     "evalue": "invalid literal for int() with base 10: '4.5'",
     "output_type": "error",
     "traceback": [
      "\u001b[1;31m---------------------------------------------------------------------------\u001b[0m",
      "\u001b[1;31mValueError\u001b[0m                                Traceback (most recent call last)",
      "Cell \u001b[1;32mIn[180], line 1\u001b[0m\n\u001b[1;32m----> 1\u001b[0m \u001b[38;5;28mint\u001b[39m(\u001b[38;5;124m'\u001b[39m\u001b[38;5;124m4.5\u001b[39m\u001b[38;5;124m'\u001b[39m)\n",
      "\u001b[1;31mValueError\u001b[0m: invalid literal for int() with base 10: '4.5'"
     ]
    }
   ],
   "source": [
    "int('4.5')"
   ]
  },
  {
   "cell_type": "code",
   "execution_count": 183,
   "id": "542e29bf-ab18-4db2-9524-751a4b81f169",
   "metadata": {},
   "outputs": [
    {
     "name": "stdout",
     "output_type": "stream",
     "text": [
      "True <class 'bool'>\n",
      "1 <class 'int'>\n"
     ]
    }
   ],
   "source": [
    "a=True\n",
    "print(a,type(a))\n",
    "\n",
    "b=int(a)\n",
    "print(b,type(b))"
   ]
  },
  {
   "cell_type": "code",
   "execution_count": 185,
   "id": "a8a5d678-4faa-4acc-b0df-6dc8bc7dea0b",
   "metadata": {},
   "outputs": [
    {
     "name": "stdout",
     "output_type": "stream",
     "text": [
      "False <class 'bool'>\n",
      "0 <class 'int'>\n"
     ]
    }
   ],
   "source": [
    "a=False\n",
    "print(a,type(a))\n",
    "\n",
    "b=int(a)\n",
    "print(b,type(b))"
   ]
  },
  {
   "cell_type": "markdown",
   "id": "e5d68334-5484-46b4-acad-eef31246807b",
   "metadata": {},
   "source": [
    "# float()"
   ]
  },
  {
   "cell_type": "code",
   "execution_count": 186,
   "id": "a328bbe7-a406-486e-a293-0b1737d14f3c",
   "metadata": {},
   "outputs": [],
   "source": [
    "# - It returns a float value.\n",
    "# - It typecasts to float value."
   ]
  },
  {
   "cell_type": "code",
   "execution_count": 188,
   "id": "aaa6f91e-b6e5-4239-902b-392b92c1551d",
   "metadata": {},
   "outputs": [
    {
     "name": "stdout",
     "output_type": "stream",
     "text": [
      "2 <class 'int'>\n",
      "2.0 <class 'float'>\n"
     ]
    }
   ],
   "source": [
    "a=2\n",
    "print(a,type(a))\n",
    "\n",
    "b=float(a)\n",
    "print(b,type(b))"
   ]
  },
  {
   "cell_type": "code",
   "execution_count": 191,
   "id": "89c34902-23f9-4e9e-8cf5-c2449ff26868",
   "metadata": {},
   "outputs": [
    {
     "name": "stdout",
     "output_type": "stream",
     "text": [
      "45 <class 'str'>\n",
      "45.0 <class 'float'>\n"
     ]
    }
   ],
   "source": [
    "a='45'\n",
    "print(a,type(a))\n",
    "\n",
    "b=float(a)\n",
    "print(b,type(b))"
   ]
  },
  {
   "cell_type": "code",
   "execution_count": 195,
   "id": "aac236b7-a391-4319-96c4-970a25ce8aeb",
   "metadata": {},
   "outputs": [
    {
     "name": "stdout",
     "output_type": "stream",
     "text": [
      "4.8 <class 'str'>\n",
      "4.8 <class 'float'>\n"
     ]
    }
   ],
   "source": [
    "a='4.8'\n",
    "print(a,type(a))\n",
    "\n",
    "b=float(a)\n",
    "print(b,type(b))"
   ]
  },
  {
   "cell_type": "code",
   "execution_count": 198,
   "id": "e112b0dd-fa33-49db-952f-08bec0cbd8f5",
   "metadata": {},
   "outputs": [
    {
     "data": {
      "text/plain": [
       "4"
      ]
     },
     "execution_count": 198,
     "metadata": {},
     "output_type": "execute_result"
    }
   ],
   "source": [
    "int(float('4.8'))"
   ]
  },
  {
   "cell_type": "code",
   "execution_count": 201,
   "id": "26180e64-6d23-45eb-a5ba-f551095ef94d",
   "metadata": {},
   "outputs": [
    {
     "name": "stdout",
     "output_type": "stream",
     "text": [
      "True <class 'bool'>\n",
      "1.0 <class 'float'>\n"
     ]
    }
   ],
   "source": [
    "a=True\n",
    "print(a,type(a))\n",
    "\n",
    "b=float(a)\n",
    "print(b,type(b))"
   ]
  },
  {
   "cell_type": "code",
   "execution_count": 203,
   "id": "a5d005aa-b11d-475e-9979-5fb233797c08",
   "metadata": {},
   "outputs": [
    {
     "name": "stdout",
     "output_type": "stream",
     "text": [
      "False <class 'bool'>\n",
      "0.0 <class 'float'>\n"
     ]
    }
   ],
   "source": [
    "a=False\n",
    "print(a,type(a))\n",
    "\n",
    "b=float(a)\n",
    "print(b,type(b))"
   ]
  },
  {
   "cell_type": "markdown",
   "id": "25f823ae-50af-4722-b221-63290b060476",
   "metadata": {},
   "source": [
    "# complex()"
   ]
  },
  {
   "cell_type": "code",
   "execution_count": 204,
   "id": "e26b0580-c0df-439c-89c7-0899bf26fd7e",
   "metadata": {},
   "outputs": [],
   "source": [
    "# - It returns a complex value.\n",
    "# - It typecasts to complex."
   ]
  },
  {
   "cell_type": "code",
   "execution_count": 205,
   "id": "4f3457e2-b8ad-43fd-9d54-95abaabed1bf",
   "metadata": {},
   "outputs": [],
   "source": [
    "# complex(a,b)\n",
    "# a- real number\n",
    "# b- imaginary number\n",
    "\n",
    "# complex(a)\n",
    "# a- real number\n",
    "# 0- imaginary"
   ]
  },
  {
   "cell_type": "code",
   "execution_count": 206,
   "id": "4d46b66d-a963-4024-8608-3bb82ff964b7",
   "metadata": {},
   "outputs": [
    {
     "name": "stdout",
     "output_type": "stream",
     "text": [
      "(2+6j) <class 'complex'>\n"
     ]
    }
   ],
   "source": [
    "a=complex(2,6)\n",
    "print(a,type(a))"
   ]
  },
  {
   "cell_type": "code",
   "execution_count": 207,
   "id": "e43bee92-f791-48f3-a6b3-12c2d5eac060",
   "metadata": {},
   "outputs": [
    {
     "name": "stdout",
     "output_type": "stream",
     "text": [
      "(0.4-6j) <class 'complex'>\n"
     ]
    }
   ],
   "source": [
    "a=complex(.4,-6)\n",
    "print(a,type(a))"
   ]
  },
  {
   "cell_type": "code",
   "execution_count": 208,
   "id": "f1a7a587-34ea-4a77-95ab-b3bff458a57d",
   "metadata": {},
   "outputs": [
    {
     "name": "stdout",
     "output_type": "stream",
     "text": [
      "(6+0j) <class 'complex'>\n"
     ]
    }
   ],
   "source": [
    "a=complex(6)\n",
    "print(a,type(a))"
   ]
  },
  {
   "cell_type": "markdown",
   "id": "f3dbcc56-3d64-4670-b6ef-7fd278717eef",
   "metadata": {},
   "source": [
    "# str()"
   ]
  },
  {
   "cell_type": "code",
   "execution_count": 209,
   "id": "7d8c12d4-1fbc-43bd-bd78-e7334db35c24",
   "metadata": {},
   "outputs": [],
   "source": [
    "# - It returns a string value.\n",
    "# - It typecasts to string."
   ]
  },
  {
   "cell_type": "code",
   "execution_count": 210,
   "id": "5d8e8d97-1e20-4175-a311-fd5aa44ab0a0",
   "metadata": {},
   "outputs": [
    {
     "data": {
      "text/plain": [
       "'55'"
      ]
     },
     "execution_count": 210,
     "metadata": {},
     "output_type": "execute_result"
    }
   ],
   "source": [
    "a=str(55)\n",
    "a"
   ]
  },
  {
   "cell_type": "code",
   "execution_count": 211,
   "id": "582fa627-a782-4efa-965a-342e89b68da1",
   "metadata": {},
   "outputs": [
    {
     "name": "stdout",
     "output_type": "stream",
     "text": [
      "55 <class 'str'>\n"
     ]
    }
   ],
   "source": [
    "a=str(55)\n",
    "print(a,type(a))"
   ]
  },
  {
   "cell_type": "code",
   "execution_count": 212,
   "id": "7c1c02df-3e1b-469e-a1ae-9a4aea8f8230",
   "metadata": {},
   "outputs": [
    {
     "data": {
      "text/plain": [
       "'[1, 2, 3, 4, 5]'"
      ]
     },
     "execution_count": 212,
     "metadata": {},
     "output_type": "execute_result"
    }
   ],
   "source": [
    "a=str([1,2,3,4,5])\n",
    "a"
   ]
  },
  {
   "cell_type": "code",
   "execution_count": 213,
   "id": "6262138d-bc59-42f4-8fe8-94a2735c35a9",
   "metadata": {},
   "outputs": [
    {
     "name": "stdout",
     "output_type": "stream",
     "text": [
      "[1, 2, 3, 4, 5] <class 'str'>\n"
     ]
    }
   ],
   "source": [
    "a=str([1,2,3,4,5])\n",
    "print(a,type(a))"
   ]
  },
  {
   "cell_type": "code",
   "execution_count": 214,
   "id": "a4753136-b19e-49c9-b63e-7fb56231a959",
   "metadata": {},
   "outputs": [
    {
     "name": "stdout",
     "output_type": "stream",
     "text": [
      "4.5 <class 'str'>\n"
     ]
    }
   ],
   "source": [
    "a=str(4.5)\n",
    "print(a,type(a))"
   ]
  },
  {
   "cell_type": "code",
   "execution_count": 215,
   "id": "ff1a66f7-4e52-4102-83e1-c2fcdd2dfc08",
   "metadata": {},
   "outputs": [
    {
     "data": {
      "text/plain": [
       "'4.5'"
      ]
     },
     "execution_count": 215,
     "metadata": {},
     "output_type": "execute_result"
    }
   ],
   "source": [
    "str(4.5)"
   ]
  },
  {
   "cell_type": "markdown",
   "id": "b2ba4a19-27db-4d7b-8982-20f7f45bdd7b",
   "metadata": {},
   "source": [
    "# bool()"
   ]
  },
  {
   "cell_type": "code",
   "execution_count": 217,
   "id": "6114849c-4706-4984-9343-f16c5ff0cefd",
   "metadata": {},
   "outputs": [],
   "source": [
    "# - It returns a boolean value (True / False)\n",
    "# - It typecasts to bool"
   ]
  },
  {
   "cell_type": "code",
   "execution_count": 312,
   "id": "3a619e4b-9c69-4051-9592-db14d75e93f0",
   "metadata": {},
   "outputs": [],
   "source": [
    "# int -> 0 is False else True\n",
    "\n",
    "# float -> 0.0 is False else True\n",
    "\n",
    "# complex -> 0+0j or 0j or 0.0+0.0j are False else True\n",
    "\n",
    "# string-> '' or \"\" or '''''' or \"\"\"\"\"\" is False else True\n",
    "\n",
    "# None -> It is always False\n",
    "\n",
    "# list-> [] is False else True\n",
    "\n",
    "# tuple -> () is False else True\n",
    "\n",
    "# dictionary or set -> {} is False else True\n",
    "\n",
    "# frozenset -> frozenset() or frozenset(empty_iterable) is False else True\n",
    "\n",
    "# range -> range() or range(0) or range()- returns no sequnece then False else True"
   ]
  },
  {
   "cell_type": "code",
   "execution_count": 222,
   "id": "e85fcd9c-8355-4952-ae71-9083e43abb6b",
   "metadata": {},
   "outputs": [
    {
     "name": "stdout",
     "output_type": "stream",
     "text": [
      "False\n",
      "True\n",
      "True\n",
      "True\n"
     ]
    }
   ],
   "source": [
    "print(bool(0))\n",
    "print(bool(5))\n",
    "print(bool(10))\n",
    "print(bool(1))"
   ]
  },
  {
   "cell_type": "code",
   "execution_count": 230,
   "id": "693608e9-ab09-4c3f-8438-8e418ec906ae",
   "metadata": {},
   "outputs": [
    {
     "name": "stdout",
     "output_type": "stream",
     "text": [
      "False\n",
      "False\n",
      "False\n",
      "True\n",
      "True\n",
      "True\n",
      "True\n"
     ]
    }
   ],
   "source": [
    "print(bool(0.0))\n",
    "print(bool(.0))\n",
    "print(bool(0.000))\n",
    "print(bool(0.000001))\n",
    "print(bool(1.0))\n",
    "print(bool(0.1))\n",
    "print(bool(2.5))"
   ]
  },
  {
   "cell_type": "code",
   "execution_count": 240,
   "id": "8e9ad097-d502-4b62-b4e0-99b4442853ae",
   "metadata": {},
   "outputs": [
    {
     "name": "stdout",
     "output_type": "stream",
     "text": [
      "False\n",
      "False\n",
      "False\n",
      "False\n",
      "False\n",
      "True\n",
      "True\n",
      "True\n",
      "True\n"
     ]
    }
   ],
   "source": [
    "print(bool(0+0j))\n",
    "print(bool(0+0.0j))\n",
    "print(bool(0j))\n",
    "print(bool(0.0+0j))\n",
    "print(bool(0.0+0.0j))\n",
    "print(bool(0+1j))\n",
    "print(bool(1+0j))\n",
    "print(bool(1+1j))\n",
    "print(bool(0+0.00001j))"
   ]
  },
  {
   "cell_type": "code",
   "execution_count": 251,
   "id": "764641b6-0632-41bb-98db-c743f19f4da7",
   "metadata": {},
   "outputs": [
    {
     "name": "stdout",
     "output_type": "stream",
     "text": [
      "False\n",
      "False\n",
      "False\n",
      "False\n",
      "True\n",
      "True\n"
     ]
    }
   ],
   "source": [
    "print(bool(''))\n",
    "print(bool(\"\"))\n",
    "print(bool(''''''))\n",
    "print(bool(\"\"\"\"\"\"))\n",
    "print(bool(' ')) # 'space_character'\n",
    "print(bool('0'))"
   ]
  },
  {
   "cell_type": "code",
   "execution_count": 248,
   "id": "d1c88da7-0e24-4c98-8ce0-e55be9ef6309",
   "metadata": {},
   "outputs": [
    {
     "data": {
      "text/plain": [
       "1"
      ]
     },
     "execution_count": 248,
     "metadata": {},
     "output_type": "execute_result"
    }
   ],
   "source": [
    "len(' ')"
   ]
  },
  {
   "cell_type": "code",
   "execution_count": 250,
   "id": "e4533e43-434c-49c0-b539-7390565430ee",
   "metadata": {},
   "outputs": [
    {
     "data": {
      "text/plain": [
       "1"
      ]
     },
     "execution_count": 250,
     "metadata": {},
     "output_type": "execute_result"
    }
   ],
   "source": [
    "len('0')"
   ]
  },
  {
   "cell_type": "code",
   "execution_count": 253,
   "id": "b13b2d29-b32e-4b74-97cb-7c07d1d1b898",
   "metadata": {},
   "outputs": [
    {
     "name": "stdout",
     "output_type": "stream",
     "text": [
      "False\n"
     ]
    }
   ],
   "source": [
    "print(bool(None))"
   ]
  },
  {
   "cell_type": "code",
   "execution_count": 262,
   "id": "adc1e366-5162-46c4-9499-55a8e2c7b8b2",
   "metadata": {},
   "outputs": [
    {
     "name": "stdout",
     "output_type": "stream",
     "text": [
      "False\n",
      "True\n",
      "True\n",
      "True\n"
     ]
    }
   ],
   "source": [
    "print(bool([]))\n",
    "print(bool(['']))\n",
    "print(bool([0]))\n",
    "print(bool([()]))"
   ]
  },
  {
   "cell_type": "code",
   "execution_count": 259,
   "id": "d8c57f2f-f4a4-4329-b68f-7fa457c7325a",
   "metadata": {},
   "outputs": [
    {
     "data": {
      "text/plain": [
       "1"
      ]
     },
     "execution_count": 259,
     "metadata": {},
     "output_type": "execute_result"
    }
   ],
   "source": [
    "len([''])"
   ]
  },
  {
   "cell_type": "code",
   "execution_count": 265,
   "id": "6e77b7c1-27e0-4332-a256-c12356ac954d",
   "metadata": {},
   "outputs": [
    {
     "name": "stdout",
     "output_type": "stream",
     "text": [
      "False\n",
      "True\n"
     ]
    }
   ],
   "source": [
    "print(bool(()))\n",
    "print(bool((0,0,0,0,0)))"
   ]
  },
  {
   "cell_type": "code",
   "execution_count": 266,
   "id": "01f2db50-8a08-4a6c-9586-a4781bb6ab8b",
   "metadata": {},
   "outputs": [],
   "source": [
    "# Note- When we pass a single element inside the () then it is not a tuple but the element itself."
   ]
  },
  {
   "cell_type": "code",
   "execution_count": 267,
   "id": "a98268f9-b634-43b8-9eb2-acf0937fb011",
   "metadata": {},
   "outputs": [
    {
     "name": "stdout",
     "output_type": "stream",
     "text": [
      "5 <class 'int'>\n"
     ]
    }
   ],
   "source": [
    "a=(5)\n",
    "print(a,type(a))"
   ]
  },
  {
   "cell_type": "code",
   "execution_count": 268,
   "id": "027e0b46-674e-40ac-a053-fac205a4cdb0",
   "metadata": {},
   "outputs": [
    {
     "name": "stdout",
     "output_type": "stream",
     "text": [
      "Python <class 'str'>\n"
     ]
    }
   ],
   "source": [
    "a=('Python')\n",
    "print(a,type(a))"
   ]
  },
  {
   "cell_type": "code",
   "execution_count": 269,
   "id": "a269aa8d-8b4a-4fe9-9159-b1f5c2ef012c",
   "metadata": {},
   "outputs": [
    {
     "name": "stdout",
     "output_type": "stream",
     "text": [
      "2.8 <class 'float'>\n"
     ]
    }
   ],
   "source": [
    "a=(2.8)\n",
    "print(a,type(a))"
   ]
  },
  {
   "cell_type": "code",
   "execution_count": 270,
   "id": "45a6ae73-5670-49e3-a868-16501bfd25c2",
   "metadata": {},
   "outputs": [
    {
     "name": "stdout",
     "output_type": "stream",
     "text": [
      "[0] <class 'list'>\n"
     ]
    }
   ],
   "source": [
    "a=([0])\n",
    "print(a,type(a))"
   ]
  },
  {
   "cell_type": "code",
   "execution_count": 273,
   "id": "9283b84b-fac5-44e2-8851-b7f6edf9e5e1",
   "metadata": {},
   "outputs": [
    {
     "name": "stdout",
     "output_type": "stream",
     "text": [
      "(5,) <class 'tuple'>\n"
     ]
    }
   ],
   "source": [
    "a=(5,)\n",
    "print(a,type(a))"
   ]
  },
  {
   "cell_type": "code",
   "execution_count": 274,
   "id": "811d9d1b-8b2b-4783-b93d-7e044e1ce0e1",
   "metadata": {},
   "outputs": [
    {
     "name": "stdout",
     "output_type": "stream",
     "text": [
      "False\n"
     ]
    }
   ],
   "source": [
    "print(bool(('')))"
   ]
  },
  {
   "cell_type": "code",
   "execution_count": 275,
   "id": "7003190d-41d4-45cf-b6cd-2a39c11e3a6c",
   "metadata": {},
   "outputs": [
    {
     "data": {
      "text/plain": [
       "''"
      ]
     },
     "execution_count": 275,
     "metadata": {},
     "output_type": "execute_result"
    }
   ],
   "source": [
    "('')"
   ]
  },
  {
   "cell_type": "code",
   "execution_count": 276,
   "id": "dce12314-9e4f-4345-9165-b864236d6db0",
   "metadata": {},
   "outputs": [
    {
     "name": "stdout",
     "output_type": "stream",
     "text": [
      "True\n"
     ]
    }
   ],
   "source": [
    "print(bool(('',)))"
   ]
  },
  {
   "cell_type": "code",
   "execution_count": 279,
   "id": "d8d50419-4c08-4264-9f75-2648d2983e51",
   "metadata": {},
   "outputs": [
    {
     "data": {
      "text/plain": [
       "('',)"
      ]
     },
     "execution_count": 279,
     "metadata": {},
     "output_type": "execute_result"
    }
   ],
   "source": [
    "a=('',)\n",
    "a"
   ]
  },
  {
   "cell_type": "code",
   "execution_count": 280,
   "id": "c4394dc4-c8e0-4aab-b844-1a529f836a24",
   "metadata": {},
   "outputs": [
    {
     "data": {
      "text/plain": [
       "1"
      ]
     },
     "execution_count": 280,
     "metadata": {},
     "output_type": "execute_result"
    }
   ],
   "source": [
    "len(a)"
   ]
  },
  {
   "cell_type": "code",
   "execution_count": 282,
   "id": "1a23c7c3-4f1d-4119-9aef-84caa2e2a6a7",
   "metadata": {},
   "outputs": [
    {
     "name": "stdout",
     "output_type": "stream",
     "text": [
      "False\n"
     ]
    }
   ],
   "source": [
    "print(bool((0)))"
   ]
  },
  {
   "cell_type": "code",
   "execution_count": 281,
   "id": "39d479c5-e5f9-490d-8560-d93551bcad27",
   "metadata": {},
   "outputs": [
    {
     "data": {
      "text/plain": [
       "0"
      ]
     },
     "execution_count": 281,
     "metadata": {},
     "output_type": "execute_result"
    }
   ],
   "source": [
    "(0)"
   ]
  },
  {
   "cell_type": "code",
   "execution_count": 283,
   "id": "fb6dadda-9555-447b-aeee-c4b7d45ad889",
   "metadata": {},
   "outputs": [
    {
     "name": "stdout",
     "output_type": "stream",
     "text": [
      "True\n"
     ]
    }
   ],
   "source": [
    "print(bool((0,)))"
   ]
  },
  {
   "cell_type": "code",
   "execution_count": 285,
   "id": "78cc2a64-3a2e-4090-aee7-06b61142a1aa",
   "metadata": {},
   "outputs": [
    {
     "data": {
      "text/plain": [
       "(0,)"
      ]
     },
     "execution_count": 285,
     "metadata": {},
     "output_type": "execute_result"
    }
   ],
   "source": [
    "a=(0,)\n",
    "a"
   ]
  },
  {
   "cell_type": "code",
   "execution_count": 286,
   "id": "85c50462-86c3-44db-a042-2b9ff5dd2a66",
   "metadata": {},
   "outputs": [
    {
     "data": {
      "text/plain": [
       "1"
      ]
     },
     "execution_count": 286,
     "metadata": {},
     "output_type": "execute_result"
    }
   ],
   "source": [
    "len(a)"
   ]
  },
  {
   "cell_type": "code",
   "execution_count": 294,
   "id": "0eb3b539-223e-4b50-b326-33e86519aa61",
   "metadata": {},
   "outputs": [
    {
     "name": "stdout",
     "output_type": "stream",
     "text": [
      "False\n",
      "True\n",
      "True\n",
      "True\n"
     ]
    }
   ],
   "source": [
    "print(bool({}))\n",
    "print(bool({0,2,1,5}))\n",
    "print(bool({0:0}))\n",
    "print(bool({0}))"
   ]
  },
  {
   "cell_type": "code",
   "execution_count": 292,
   "id": "a5a895cd-3f70-4446-b26b-69438547c933",
   "metadata": {},
   "outputs": [
    {
     "data": {
      "text/plain": [
       "{0: 0}"
      ]
     },
     "execution_count": 292,
     "metadata": {},
     "output_type": "execute_result"
    }
   ],
   "source": [
    "d={0:0}\n",
    "d"
   ]
  },
  {
   "cell_type": "code",
   "execution_count": 293,
   "id": "3fcd5874-3e37-409f-a7b6-79d7faad10f8",
   "metadata": {},
   "outputs": [
    {
     "data": {
      "text/plain": [
       "1"
      ]
     },
     "execution_count": 293,
     "metadata": {},
     "output_type": "execute_result"
    }
   ],
   "source": [
    "len(d)"
   ]
  },
  {
   "cell_type": "code",
   "execution_count": 295,
   "id": "83f5d4fa-4ba0-438e-8395-e80bd2846e34",
   "metadata": {},
   "outputs": [
    {
     "data": {
      "text/plain": [
       "{0}"
      ]
     },
     "execution_count": 295,
     "metadata": {},
     "output_type": "execute_result"
    }
   ],
   "source": [
    "s={0}\n",
    "s"
   ]
  },
  {
   "cell_type": "code",
   "execution_count": 297,
   "id": "1c00ae91-4349-4f85-87b4-85c7da886f8c",
   "metadata": {},
   "outputs": [
    {
     "data": {
      "text/plain": [
       "1"
      ]
     },
     "execution_count": 297,
     "metadata": {},
     "output_type": "execute_result"
    }
   ],
   "source": [
    "len(s)"
   ]
  },
  {
   "cell_type": "code",
   "execution_count": 304,
   "id": "4ce2ff83-c27d-447a-9950-add2704fca16",
   "metadata": {},
   "outputs": [
    {
     "name": "stdout",
     "output_type": "stream",
     "text": [
      "False\n",
      "False\n",
      "False\n",
      "False\n",
      "False\n"
     ]
    }
   ],
   "source": [
    "f=frozenset()\n",
    "print(bool(f))\n",
    "\n",
    "f=frozenset([])\n",
    "print(bool(f))\n",
    "\n",
    "f=frozenset('')\n",
    "print(bool(f))\n",
    "\n",
    "f=frozenset(())\n",
    "print(bool(f))\n",
    "\n",
    "f=frozenset({})\n",
    "print(bool(f))"
   ]
  },
  {
   "cell_type": "code",
   "execution_count": 311,
   "id": "a725e8c1-a8dc-422f-bda3-31bbf60909b6",
   "metadata": {},
   "outputs": [
    {
     "name": "stdout",
     "output_type": "stream",
     "text": [
      "True\n",
      "True\n",
      "True\n",
      "True\n"
     ]
    }
   ],
   "source": [
    "f=frozenset([0])\n",
    "print(bool(f))\n",
    "\n",
    "f=frozenset('~')\n",
    "print(bool(f))\n",
    "\n",
    "f=frozenset((0,))\n",
    "print(bool(f))\n",
    "\n",
    "f=frozenset({1:100,2:200})\n",
    "print(bool(f))\n"
   ]
  },
  {
   "cell_type": "code",
   "execution_count": 310,
   "id": "92e2006b-c851-4cdf-9d9d-2f7576ac9b36",
   "metadata": {},
   "outputs": [
    {
     "data": {
      "text/plain": [
       "(0,)"
      ]
     },
     "execution_count": 310,
     "metadata": {},
     "output_type": "execute_result"
    }
   ],
   "source": [
    "(0,)"
   ]
  },
  {
   "cell_type": "code",
   "execution_count": 316,
   "id": "deca904d-7c75-4bc7-9d61-b2781bf9cd60",
   "metadata": {},
   "outputs": [
    {
     "name": "stdout",
     "output_type": "stream",
     "text": [
      "False\n"
     ]
    }
   ],
   "source": [
    "print(bool(range(0)))"
   ]
  },
  {
   "cell_type": "code",
   "execution_count": 314,
   "id": "a7c9fd1b-3ddb-490d-9ca6-4ae24ea82418",
   "metadata": {},
   "outputs": [
    {
     "data": {
      "text/plain": [
       "[]"
      ]
     },
     "execution_count": 314,
     "metadata": {},
     "output_type": "execute_result"
    }
   ],
   "source": [
    "list(range(0))"
   ]
  },
  {
   "cell_type": "code",
   "execution_count": 319,
   "id": "f27ed190-c991-43e4-8cc1-3fc5d933d663",
   "metadata": {},
   "outputs": [
    {
     "data": {
      "text/plain": [
       "[]"
      ]
     },
     "execution_count": 319,
     "metadata": {},
     "output_type": "execute_result"
    }
   ],
   "source": [
    "list(range(0,0))"
   ]
  },
  {
   "cell_type": "code",
   "execution_count": 320,
   "id": "043b2db8-2eb3-4be1-8235-297b017fe792",
   "metadata": {},
   "outputs": [
    {
     "data": {
      "text/plain": [
       "False"
      ]
     },
     "execution_count": 320,
     "metadata": {},
     "output_type": "execute_result"
    }
   ],
   "source": [
    "bool(range(0,0))"
   ]
  },
  {
   "cell_type": "code",
   "execution_count": 322,
   "id": "d07bf674-1fc5-4347-9042-49ce78f8c5b8",
   "metadata": {},
   "outputs": [
    {
     "data": {
      "text/plain": [
       "[]"
      ]
     },
     "execution_count": 322,
     "metadata": {},
     "output_type": "execute_result"
    }
   ],
   "source": [
    "list(range(5,5))"
   ]
  },
  {
   "cell_type": "code",
   "execution_count": 323,
   "id": "57a4389e-ef22-437b-832d-fb77998283d1",
   "metadata": {},
   "outputs": [
    {
     "data": {
      "text/plain": [
       "False"
      ]
     },
     "execution_count": 323,
     "metadata": {},
     "output_type": "execute_result"
    }
   ],
   "source": [
    "bool(range(5,5))"
   ]
  },
  {
   "cell_type": "code",
   "execution_count": 325,
   "id": "e234697d-5075-4dcd-b13f-b58e8e40b552",
   "metadata": {},
   "outputs": [
    {
     "data": {
      "text/plain": [
       "[0]"
      ]
     },
     "execution_count": 325,
     "metadata": {},
     "output_type": "execute_result"
    }
   ],
   "source": [
    "list(range(0,1))"
   ]
  },
  {
   "cell_type": "code",
   "execution_count": 326,
   "id": "671c3ab5-22b7-47af-84ca-0b2489793d6e",
   "metadata": {},
   "outputs": [
    {
     "data": {
      "text/plain": [
       "True"
      ]
     },
     "execution_count": 326,
     "metadata": {},
     "output_type": "execute_result"
    }
   ],
   "source": [
    "bool(range(0,1))"
   ]
  },
  {
   "cell_type": "markdown",
   "id": "2945e99a-4f23-41e3-b97c-a192c4da2d06",
   "metadata": {},
   "source": [
    "# list()"
   ]
  },
  {
   "cell_type": "code",
   "execution_count": 327,
   "id": "7b3e6d86-b0c0-4255-8167-5f2a44ac41a8",
   "metadata": {},
   "outputs": [],
   "source": [
    "# - It takes an iterable as an input and returns a list.\n",
    "# - It typcasts an iterable into a list."
   ]
  },
  {
   "cell_type": "code",
   "execution_count": 328,
   "id": "fb8b6f39-8a3f-4334-a1a4-185a42964158",
   "metadata": {},
   "outputs": [],
   "source": [
    "# list(iterable)\n",
    "# Iterable- String, List, Tuple, Dictionary, Set, Frozenset, Range"
   ]
  },
  {
   "cell_type": "code",
   "execution_count": 333,
   "id": "e389cbaa-b106-4803-8f0c-448c964dd58b",
   "metadata": {},
   "outputs": [
    {
     "name": "stdout",
     "output_type": "stream",
     "text": [
      "Python <class 'str'>\n",
      "6\n",
      "['P', 'y', 't', 'h', 'o', 'n'] <class 'list'>\n",
      "6\n"
     ]
    }
   ],
   "source": [
    "my_str='Python'\n",
    "print(my_str,type(my_str))\n",
    "print(len(my_str))\n",
    "\n",
    "lst=list(my_str)\n",
    "print(lst, type(lst))\n",
    "print(len(lst))"
   ]
  },
  {
   "cell_type": "code",
   "execution_count": 336,
   "id": "70377efa-0cc9-4571-a658-062918f2b500",
   "metadata": {},
   "outputs": [
    {
     "name": "stdout",
     "output_type": "stream",
     "text": [
      "(10, 20, 30, 40, 50, 60, 70, 80) <class 'tuple'>\n",
      "[10, 20, 30, 40, 50, 60, 70, 80] <class 'list'>\n"
     ]
    }
   ],
   "source": [
    "t=(10,20,30,40,50,60,70,80)\n",
    "print(t,type(t))\n",
    "\n",
    "lst=list(t)\n",
    "print(lst,type(lst))"
   ]
  },
  {
   "cell_type": "code",
   "execution_count": 339,
   "id": "0824a4c1-2ff9-44a9-8db5-97541be268dc",
   "metadata": {},
   "outputs": [
    {
     "name": "stdout",
     "output_type": "stream",
     "text": [
      "{1: 100, 2: 200, 3: 300, 4: 400} <class 'dict'>\n",
      "[1, 2, 3, 4] <class 'list'>\n"
     ]
    }
   ],
   "source": [
    "d={1:100,2:200,3:300,4:400}\n",
    "print(d,type(d))\n",
    "\n",
    "lst=list(d)\n",
    "print(lst,type(lst))"
   ]
  },
  {
   "cell_type": "code",
   "execution_count": 343,
   "id": "f1c7684f-0466-417b-b3e3-14f479ae7211",
   "metadata": {},
   "outputs": [
    {
     "name": "stdout",
     "output_type": "stream",
     "text": [
      "[100, 200, 300, 400] <class 'list'>\n"
     ]
    }
   ],
   "source": [
    "lst=list(d.values())\n",
    "print(lst,type(lst))"
   ]
  },
  {
   "cell_type": "code",
   "execution_count": 347,
   "id": "3af2fa13-3236-4d8a-98df-af7978fc478c",
   "metadata": {},
   "outputs": [
    {
     "name": "stdout",
     "output_type": "stream",
     "text": [
      "{True, 2.888, 55, 'Hello', -6} <class 'set'>\n",
      "[True, 2.888, 55, 'Hello', -6] <class 'list'>\n"
     ]
    }
   ],
   "source": [
    "s={True, 'Hello', 55, 2.888, -6}\n",
    "print(s,type(s))\n",
    "\n",
    "lst=list(s)\n",
    "print(lst,type(lst))"
   ]
  },
  {
   "cell_type": "code",
   "execution_count": 350,
   "id": "f2366795-ae94-449d-b785-3b585be785f4",
   "metadata": {},
   "outputs": [
    {
     "name": "stdout",
     "output_type": "stream",
     "text": [
      "frozenset({1, 3, 4, 5, 6, 8}) <class 'frozenset'>\n",
      "[1, 3, 4, 5, 6, 8] <class 'list'>\n"
     ]
    }
   ],
   "source": [
    "f=frozenset((1,5,8,6,3,4,5))\n",
    "print(f,type(f))\n",
    "\n",
    "lst=list(f)\n",
    "print(lst,type(lst))"
   ]
  },
  {
   "cell_type": "code",
   "execution_count": 352,
   "id": "86e4d712-425d-4804-8cc2-a0c52703e077",
   "metadata": {},
   "outputs": [
    {
     "name": "stdout",
     "output_type": "stream",
     "text": [
      "[0, 1, 2, 3, 4] <class 'list'>\n"
     ]
    }
   ],
   "source": [
    "lst=list(range(5))\n",
    "print(lst,type(lst))"
   ]
  },
  {
   "cell_type": "code",
   "execution_count": 355,
   "id": "409834eb-5990-47e5-8f22-4a237ff7f936",
   "metadata": {},
   "outputs": [
    {
     "name": "stdout",
     "output_type": "stream",
     "text": [
      "[1, 4, 7, 10, 13, 16] <class 'list'>\n"
     ]
    }
   ],
   "source": [
    "lst=list(range(1,18,3))\n",
    "print(lst,type(lst))"
   ]
  },
  {
   "cell_type": "code",
   "execution_count": 358,
   "id": "f9cc037a-d722-4f22-8381-d89ffc98ec71",
   "metadata": {},
   "outputs": [
    {
     "ename": "TypeError",
     "evalue": "'int' object is not iterable",
     "output_type": "error",
     "traceback": [
      "\u001b[1;31m---------------------------------------------------------------------------\u001b[0m",
      "\u001b[1;31mTypeError\u001b[0m                                 Traceback (most recent call last)",
      "Cell \u001b[1;32mIn[358], line 1\u001b[0m\n\u001b[1;32m----> 1\u001b[0m \u001b[38;5;28mlist\u001b[39m(\u001b[38;5;241m5\u001b[39m)\n",
      "\u001b[1;31mTypeError\u001b[0m: 'int' object is not iterable"
     ]
    }
   ],
   "source": [
    "list(5)"
   ]
  },
  {
   "cell_type": "code",
   "execution_count": 359,
   "id": "057f520d-1564-44a8-a1d5-e4aa407c634a",
   "metadata": {},
   "outputs": [
    {
     "ename": "TypeError",
     "evalue": "'bool' object is not iterable",
     "output_type": "error",
     "traceback": [
      "\u001b[1;31m---------------------------------------------------------------------------\u001b[0m",
      "\u001b[1;31mTypeError\u001b[0m                                 Traceback (most recent call last)",
      "Cell \u001b[1;32mIn[359], line 1\u001b[0m\n\u001b[1;32m----> 1\u001b[0m \u001b[38;5;28mlist\u001b[39m(\u001b[38;5;28;01mTrue\u001b[39;00m)\n",
      "\u001b[1;31mTypeError\u001b[0m: 'bool' object is not iterable"
     ]
    }
   ],
   "source": [
    "list(True)"
   ]
  },
  {
   "cell_type": "markdown",
   "id": "9dc1858a-78a3-457c-8606-64856a93bf56",
   "metadata": {},
   "source": [
    "# tuple()"
   ]
  },
  {
   "cell_type": "code",
   "execution_count": 356,
   "id": "3dbb92e9-4da5-47c9-8653-66b79950534a",
   "metadata": {},
   "outputs": [],
   "source": [
    "# - It returns a tuple object.\n",
    "# - It typecasts an iterable into tuple."
   ]
  },
  {
   "cell_type": "code",
   "execution_count": 357,
   "id": "5bbe8499-3412-4d57-9048-1ac26b461812",
   "metadata": {},
   "outputs": [],
   "source": [
    "# tuple(iterable) -> tuple"
   ]
  },
  {
   "cell_type": "code",
   "execution_count": 363,
   "id": "3c6b5a59-c6f1-4357-9c1f-e1b0f7ad8eb4",
   "metadata": {},
   "outputs": [
    {
     "name": "stdout",
     "output_type": "stream",
     "text": [
      "Hello <class 'str'>\n",
      "('H', 'e', 'l', 'l', 'o') <class 'tuple'>\n"
     ]
    }
   ],
   "source": [
    "my_str='Hello'\n",
    "print(my_str,type(my_str))\n",
    "\n",
    "t=tuple(my_str)\n",
    "print(t,type(t))"
   ]
  },
  {
   "cell_type": "code",
   "execution_count": 365,
   "id": "3ebd8336-74de-45b4-ae5d-d3156917db56",
   "metadata": {},
   "outputs": [
    {
     "name": "stdout",
     "output_type": "stream",
     "text": [
      "['Python', True, 55, 6.88888, None, {1: 100, 2: 200}, (1, 2, 3, 4, 5), (5+5j)] <class 'list'>\n",
      "('Python', True, 55, 6.88888, None, {1: 100, 2: 200}, (1, 2, 3, 4, 5), (5+5j)) <class 'tuple'>\n"
     ]
    }
   ],
   "source": [
    "lst=['Python', True, 55, 6.88888, None, {1:100,2:200}, (1,2,3,4,5), 5+5j]\n",
    "print(lst,type(lst))\n",
    "\n",
    "t=tuple(lst)\n",
    "print(t,type(t))"
   ]
  },
  {
   "cell_type": "code",
   "execution_count": 370,
   "id": "24bd8f71-3d10-4da1-ad34-0d4e4234b95b",
   "metadata": {},
   "outputs": [
    {
     "name": "stdout",
     "output_type": "stream",
     "text": [
      "{1: 100, 2: 200, 3: 300, 4: 400} <class 'dict'>\n",
      "(1, 2, 3, 4) <class 'tuple'>\n",
      "(100, 200, 300, 400) <class 'tuple'>\n"
     ]
    }
   ],
   "source": [
    "d={1:100,2:200,3:300,4:400}\n",
    "print(d,type(d))\n",
    "\n",
    "t=tuple(d)\n",
    "print(t,type(t))\n",
    "\n",
    "t=tuple(d.values())\n",
    "print(t,type(t))"
   ]
  },
  {
   "cell_type": "code",
   "execution_count": 373,
   "id": "4450c699-84cb-4cf6-bfa3-a7de1a61c607",
   "metadata": {},
   "outputs": [
    {
     "name": "stdout",
     "output_type": "stream",
     "text": [
      "{1, 2, 3, 4, 5} <class 'set'>\n",
      "(1, 2, 3, 4, 5) <class 'tuple'>\n"
     ]
    }
   ],
   "source": [
    "s={1,2,3,4,5}\n",
    "print(s,type(s))\n",
    "\n",
    "t=tuple(s)\n",
    "print(t,type(t))"
   ]
  },
  {
   "cell_type": "code",
   "execution_count": 376,
   "id": "ae233399-ae13-40df-af01-d91e97f7e4b6",
   "metadata": {},
   "outputs": [
    {
     "name": "stdout",
     "output_type": "stream",
     "text": [
      "frozenset({True, 6.88, -15, None, (5+6j), 'Hello'}) <class 'frozenset'>\n",
      "(True, 6.88, -15, None, (5+6j), 'Hello') <class 'tuple'>\n"
     ]
    }
   ],
   "source": [
    "f=frozenset([True, 'Hello', -15, 6.88, 5+6j, None])\n",
    "print(f,type(f))\n",
    "\n",
    "t=tuple(f)\n",
    "print(t,type(t))"
   ]
  },
  {
   "cell_type": "code",
   "execution_count": 378,
   "id": "0b0258b2-b4f1-4c37-b3b3-71a15107b375",
   "metadata": {},
   "outputs": [
    {
     "name": "stdout",
     "output_type": "stream",
     "text": [
      "(0, 1, 2, 3, 4) <class 'tuple'>\n"
     ]
    }
   ],
   "source": [
    "t=tuple(range(5))\n",
    "print(t,type(t))"
   ]
  },
  {
   "cell_type": "code",
   "execution_count": 380,
   "id": "0021b9fb-6e1f-43d0-925a-c5c930daf040",
   "metadata": {},
   "outputs": [
    {
     "name": "stdout",
     "output_type": "stream",
     "text": [
      "(2, 4, 6, 8, 10, 12, 14, 16, 18, 20) <class 'tuple'>\n"
     ]
    }
   ],
   "source": [
    "t=tuple(range(2,21,2))\n",
    "print(t,type(t))"
   ]
  },
  {
   "cell_type": "markdown",
   "id": "3fb4d72d-4bf6-4ab3-b876-c012780bb67d",
   "metadata": {},
   "source": [
    "# dict()"
   ]
  },
  {
   "cell_type": "code",
   "execution_count": 381,
   "id": "516e2b43-736e-4f81-91de-66dbe519e79f",
   "metadata": {},
   "outputs": [],
   "source": [
    "# dict() returns a dictionary.\n",
    "# dict() typecasts to a dictionary."
   ]
  },
  {
   "cell_type": "code",
   "execution_count": 382,
   "id": "964038a9-eb54-4cef-ba98-c4c5c6ab7c24",
   "metadata": {},
   "outputs": [],
   "source": [
    "# dict(iterable)"
   ]
  },
  {
   "cell_type": "code",
   "execution_count": 383,
   "id": "e5f251f5-0249-4f97-8bf8-701a5ea5d1de",
   "metadata": {},
   "outputs": [],
   "source": [
    "# - dict() takes an iterable as an input.\n",
    "# - The iterable that we pass to the dict() must have one more iterable inside it.\n",
    "# - The inner iterables must have two elements only.\n",
    "# - The first element becomes the key and the second element becomes the value in the dictionary."
   ]
  },
  {
   "cell_type": "code",
   "execution_count": 384,
   "id": "2c159a3f-fa6f-439b-92df-261bb8b102cf",
   "metadata": {},
   "outputs": [],
   "source": [
    "# {1:100}"
   ]
  },
  {
   "cell_type": "code",
   "execution_count": 386,
   "id": "d96f6f01-8b2f-4df4-9a24-6a3bd0d27db6",
   "metadata": {},
   "outputs": [
    {
     "data": {
      "text/plain": [
       "{1: 100}"
      ]
     },
     "execution_count": 386,
     "metadata": {},
     "output_type": "execute_result"
    }
   ],
   "source": [
    "dict([[1,100]])"
   ]
  },
  {
   "cell_type": "code",
   "execution_count": 387,
   "id": "61beb83c-137e-44c5-aaa1-3fbdde3762c5",
   "metadata": {},
   "outputs": [],
   "source": [
    "# {1:1}"
   ]
  },
  {
   "cell_type": "code",
   "execution_count": 389,
   "id": "2846f76f-73a1-4abc-bd4c-46e97d848770",
   "metadata": {},
   "outputs": [
    {
     "data": {
      "text/plain": [
       "{1: 1}"
      ]
     },
     "execution_count": 389,
     "metadata": {},
     "output_type": "execute_result"
    }
   ],
   "source": [
    "dict([[1,1]])"
   ]
  },
  {
   "cell_type": "code",
   "execution_count": 390,
   "id": "6ba0cc8a-4de5-4cb3-a2a3-784671be7c3f",
   "metadata": {},
   "outputs": [
    {
     "data": {
      "text/plain": [
       "{1}"
      ]
     },
     "execution_count": 390,
     "metadata": {},
     "output_type": "execute_result"
    }
   ],
   "source": [
    "{1,1}"
   ]
  },
  {
   "cell_type": "code",
   "execution_count": 399,
   "id": "43a9cdfe-941a-48d1-9441-7417f08fc4f3",
   "metadata": {},
   "outputs": [],
   "source": [
    "# {'ID':'111'}"
   ]
  },
  {
   "cell_type": "code",
   "execution_count": 398,
   "id": "49c86a34-5d06-4ec8-9b4e-af0fa2552f14",
   "metadata": {},
   "outputs": [
    {
     "data": {
      "text/plain": [
       "{'111': 'ID'}"
      ]
     },
     "execution_count": 398,
     "metadata": {},
     "output_type": "execute_result"
    }
   ],
   "source": [
    "dict([{'ID','111'}])"
   ]
  },
  {
   "cell_type": "code",
   "execution_count": 404,
   "id": "e8cbbc0d-d2e8-4f4f-af6c-6cc1c4f8fac8",
   "metadata": {},
   "outputs": [
    {
     "data": {
      "text/plain": [
       "{'Name': 'Suresh'}"
      ]
     },
     "execution_count": 404,
     "metadata": {},
     "output_type": "execute_result"
    }
   ],
   "source": [
    "dict((['Name','Suresh'],))"
   ]
  },
  {
   "cell_type": "code",
   "execution_count": 403,
   "id": "446352c6-5bec-4999-8d15-30713b00bd43",
   "metadata": {},
   "outputs": [
    {
     "data": {
      "text/plain": [
       "(['Name', 'Suresh'],)"
      ]
     },
     "execution_count": 403,
     "metadata": {},
     "output_type": "execute_result"
    }
   ],
   "source": [
    "(['Name','Suresh'],)"
   ]
  },
  {
   "cell_type": "code",
   "execution_count": 405,
   "id": "5b0d6a40-abcf-485e-be9e-7277086d10dc",
   "metadata": {},
   "outputs": [],
   "source": [
    "# {'Name':'Dhruv','ID':111}"
   ]
  },
  {
   "cell_type": "code",
   "execution_count": 413,
   "id": "bd0f0e3e-aef3-436f-bfdb-753a0f0936b6",
   "metadata": {},
   "outputs": [
    {
     "data": {
      "text/plain": [
       "{'Name': 'Dhruv', 'ID': 111}"
      ]
     },
     "execution_count": 413,
     "metadata": {},
     "output_type": "execute_result"
    }
   ],
   "source": [
    "dict([['Name','Dhruv'],('ID',111)])"
   ]
  },
  {
   "cell_type": "code",
   "execution_count": 414,
   "id": "aa3dcf95-18b4-41d2-b085-5016579e4fc3",
   "metadata": {},
   "outputs": [],
   "source": [
    "# len('ID')"
   ]
  },
  {
   "cell_type": "code",
   "execution_count": 419,
   "id": "e779c292-4317-41d6-90fa-77cbe173f0dc",
   "metadata": {},
   "outputs": [
    {
     "data": {
      "text/plain": [
       "{'Name': 'Dhruv', 5: 6}"
      ]
     },
     "execution_count": 419,
     "metadata": {},
     "output_type": "execute_result"
    }
   ],
   "source": [
    "dict([['Name','Dhruv'],(5,6)])"
   ]
  },
  {
   "cell_type": "markdown",
   "id": "2eaf1b79-030e-4558-937c-974e58198e3d",
   "metadata": {},
   "source": [
    "# set()"
   ]
  },
  {
   "cell_type": "code",
   "execution_count": 415,
   "id": "de0d7d92-5901-40af-ad5c-f29c68c76534",
   "metadata": {},
   "outputs": [],
   "source": [
    "# - It returns a set.\n",
    "# - It typecasts to a set."
   ]
  },
  {
   "cell_type": "code",
   "execution_count": 416,
   "id": "c1207c2e-a80f-4d90-a89b-4ca620eb7c8c",
   "metadata": {},
   "outputs": [],
   "source": [
    "# set(iterable)"
   ]
  },
  {
   "cell_type": "code",
   "execution_count": 422,
   "id": "32690348-f3eb-499c-8ad1-f70ce10b435c",
   "metadata": {},
   "outputs": [],
   "source": [
    "# - The iterable that we pass inside the set() must have only hashable items.\n",
    "# - Hashable Items- int, float, complex, string, bool, None, tuple, frozenset, range\n",
    "# - Unhashable Items- List, Dictionary, Set"
   ]
  },
  {
   "cell_type": "code",
   "execution_count": 425,
   "id": "a6b5133f-84a0-4e91-9757-b14f1d74a438",
   "metadata": {},
   "outputs": [
    {
     "name": "stdout",
     "output_type": "stream",
     "text": [
      "[5, 2.5, True, 'Python', (4+6j)] <class 'list'>\n",
      "{True, 2.5, 5, 'Python', (4+6j)} <class 'set'>\n"
     ]
    }
   ],
   "source": [
    "lst=[5,2.5, True, 'Python', 4+6j]\n",
    "print(lst,type(lst))\n",
    "\n",
    "s=set(lst)\n",
    "print(s,type(s))"
   ]
  },
  {
   "cell_type": "code",
   "execution_count": 426,
   "id": "6b683b13-c58d-4a1f-afa1-4174eb055126",
   "metadata": {},
   "outputs": [
    {
     "name": "stdout",
     "output_type": "stream",
     "text": [
      "[5, 2.5, True, 'Python', {1: 100}, (4+6j)] <class 'list'>\n"
     ]
    },
    {
     "ename": "TypeError",
     "evalue": "unhashable type: 'dict'",
     "output_type": "error",
     "traceback": [
      "\u001b[1;31m---------------------------------------------------------------------------\u001b[0m",
      "\u001b[1;31mTypeError\u001b[0m                                 Traceback (most recent call last)",
      "Cell \u001b[1;32mIn[426], line 4\u001b[0m\n\u001b[0;32m      1\u001b[0m lst\u001b[38;5;241m=\u001b[39m[\u001b[38;5;241m5\u001b[39m,\u001b[38;5;241m2.5\u001b[39m, \u001b[38;5;28;01mTrue\u001b[39;00m, \u001b[38;5;124m'\u001b[39m\u001b[38;5;124mPython\u001b[39m\u001b[38;5;124m'\u001b[39m, {\u001b[38;5;241m1\u001b[39m:\u001b[38;5;241m100\u001b[39m}, \u001b[38;5;241m4\u001b[39m\u001b[38;5;241m+\u001b[39m\u001b[38;5;241m6\u001b[39mj]\n\u001b[0;32m      2\u001b[0m \u001b[38;5;28mprint\u001b[39m(lst,\u001b[38;5;28mtype\u001b[39m(lst))\n\u001b[1;32m----> 4\u001b[0m s\u001b[38;5;241m=\u001b[39m\u001b[38;5;28mset\u001b[39m(lst)\n\u001b[0;32m      5\u001b[0m \u001b[38;5;28mprint\u001b[39m(s,\u001b[38;5;28mtype\u001b[39m(s))\n",
      "\u001b[1;31mTypeError\u001b[0m: unhashable type: 'dict'"
     ]
    }
   ],
   "source": [
    "lst=[5,2.5, True, 'Python', {1:100}, 4+6j]\n",
    "print(lst,type(lst))\n",
    "\n",
    "s=set(lst)\n",
    "print(s,type(s))"
   ]
  },
  {
   "cell_type": "code",
   "execution_count": 429,
   "id": "3fc3f621-41c7-48c3-84b4-d96e3406dc5e",
   "metadata": {},
   "outputs": [
    {
     "name": "stdout",
     "output_type": "stream",
     "text": [
      "('Amit', 'Raman', 'Mohit', 'Kapil', 'Raman') <class 'tuple'>\n",
      "{'Raman', 'Mohit', 'Kapil', 'Amit'} <class 'set'>\n"
     ]
    }
   ],
   "source": [
    "t=('Amit','Raman', 'Mohit', 'Kapil','Raman')\n",
    "print(t,type(t))\n",
    "\n",
    "s=set(t)\n",
    "print(s,type(s))"
   ]
  },
  {
   "cell_type": "code",
   "execution_count": 434,
   "id": "8446abc2-1338-47ec-a785-69a99325bbfa",
   "metadata": {},
   "outputs": [
    {
     "name": "stdout",
     "output_type": "stream",
     "text": [
      "{1: 100, 2: 200, 3: 300, 4: 400} <class 'dict'>\n",
      "{1, 2, 3, 4} <class 'set'>\n",
      "{200, 100, 400, 300} <class 'set'>\n"
     ]
    }
   ],
   "source": [
    "d={1:100,2:200,3:300,4:400}\n",
    "print(d,type(d))\n",
    "\n",
    "s=set(d)\n",
    "print(s,type(s))\n",
    "\n",
    "s=set(d.values())\n",
    "print(s,type(s))"
   ]
  },
  {
   "cell_type": "code",
   "execution_count": 448,
   "id": "2ca72e4b-9142-4baa-ac67-26c3be9c47f2",
   "metadata": {},
   "outputs": [
    {
     "name": "stdout",
     "output_type": "stream",
     "text": [
      "{0, 1, 2, 3, 4} <class 'set'>\n"
     ]
    }
   ],
   "source": [
    "s=set(range(5))\n",
    "print(s,type(s))"
   ]
  },
  {
   "cell_type": "markdown",
   "id": "48fd9c7d-a103-4abf-876e-4e115773c69e",
   "metadata": {},
   "source": [
    "# frozenset()"
   ]
  },
  {
   "cell_type": "code",
   "execution_count": 436,
   "id": "b288826e-697a-4278-92a4-3323a4e38e8b",
   "metadata": {},
   "outputs": [],
   "source": [
    "# - It takes an iterable as an input and typecasts it to frozenset.\n",
    "# - It returns a frozenset object."
   ]
  },
  {
   "cell_type": "code",
   "execution_count": 437,
   "id": "79ed5083-b618-4d6d-8a26-76f253c81f41",
   "metadata": {},
   "outputs": [],
   "source": [
    "# frozenset(iterable)"
   ]
  },
  {
   "cell_type": "code",
   "execution_count": 438,
   "id": "070e3833-d4b3-412c-bf98-df4499349248",
   "metadata": {},
   "outputs": [],
   "source": [
    "# - The iterable that we pass inside the set() must have only hashable items.\n",
    "# - Hashable Items- int, float, complex, string, bool, None, tuple, frozenset, range\n",
    "# - Unhashable Items- List, Dictionary, Set"
   ]
  },
  {
   "cell_type": "code",
   "execution_count": 439,
   "id": "8a4d2c84-fcb0-4846-9522-758c0a7e3f18",
   "metadata": {},
   "outputs": [
    {
     "name": "stdout",
     "output_type": "stream",
     "text": [
      "frozenset({1, 2, 3, 4, 5, 6, 7, 8}) <class 'frozenset'>\n"
     ]
    }
   ],
   "source": [
    "lst=[1,2,3,4,5,6,7,8]\n",
    "\n",
    "f=frozenset(lst)\n",
    "print(f,type(f))"
   ]
  },
  {
   "cell_type": "code",
   "execution_count": 445,
   "id": "848daa41-37c4-4b28-b8ba-f36cf9b2dbec",
   "metadata": {},
   "outputs": [
    {
     "name": "stdout",
     "output_type": "stream",
     "text": [
      "{'Name': 'Amit', 'Age': 27, 'City': 'Pune', 'Phone': 1234567890} <class 'dict'>\n",
      "frozenset({'Name', 'Age', 'City', 'Phone'}) <class 'frozenset'>\n",
      "frozenset({1234567890, 'Pune', 27, 'Amit'}) <class 'frozenset'>\n"
     ]
    }
   ],
   "source": [
    "d={'Name':'Amit','Age':27,'City':'Pune', 'Phone':1234567890}\n",
    "print(d,type(d))\n",
    "\n",
    "f=frozenset(d)\n",
    "print(f,type(f))\n",
    "\n",
    "f=frozenset(d.values())\n",
    "print(f,type(f))"
   ]
  },
  {
   "cell_type": "code",
   "execution_count": 449,
   "id": "678287d1-2af6-4f4c-8cbf-80dbe9359947",
   "metadata": {},
   "outputs": [
    {
     "name": "stdout",
     "output_type": "stream",
     "text": [
      "frozenset({1, 2, 3, 4, 5, 6, 7, 8, 9, 10}) <class 'frozenset'>\n"
     ]
    }
   ],
   "source": [
    "f=frozenset(range(1,11))\n",
    "print(f,type(f))"
   ]
  },
  {
   "cell_type": "code",
   "execution_count": 452,
   "id": "395145be-02b0-4441-85ff-38243b81e9be",
   "metadata": {},
   "outputs": [
    {
     "name": "stdout",
     "output_type": "stream",
     "text": [
      "('Hello', [1, 2, 3, 4, 5], (5+7j), None, False, 5000, 6.8888) <class 'tuple'>\n"
     ]
    },
    {
     "ename": "TypeError",
     "evalue": "unhashable type: 'list'",
     "output_type": "error",
     "traceback": [
      "\u001b[1;31m---------------------------------------------------------------------------\u001b[0m",
      "\u001b[1;31mTypeError\u001b[0m                                 Traceback (most recent call last)",
      "Cell \u001b[1;32mIn[452], line 4\u001b[0m\n\u001b[0;32m      1\u001b[0m t\u001b[38;5;241m=\u001b[39m(\u001b[38;5;124m'\u001b[39m\u001b[38;5;124mHello\u001b[39m\u001b[38;5;124m'\u001b[39m, [\u001b[38;5;241m1\u001b[39m,\u001b[38;5;241m2\u001b[39m,\u001b[38;5;241m3\u001b[39m,\u001b[38;5;241m4\u001b[39m,\u001b[38;5;241m5\u001b[39m], \u001b[38;5;241m5\u001b[39m\u001b[38;5;241m+\u001b[39m\u001b[38;5;241m7\u001b[39mj, \u001b[38;5;28;01mNone\u001b[39;00m, \u001b[38;5;28;01mFalse\u001b[39;00m, \u001b[38;5;241m5000\u001b[39m, \u001b[38;5;241m6.8888\u001b[39m)\n\u001b[0;32m      2\u001b[0m \u001b[38;5;28mprint\u001b[39m(t,\u001b[38;5;28mtype\u001b[39m(t))\n\u001b[1;32m----> 4\u001b[0m f\u001b[38;5;241m=\u001b[39m\u001b[38;5;28mfrozenset\u001b[39m(t)\n\u001b[0;32m      5\u001b[0m \u001b[38;5;28mprint\u001b[39m(f,\u001b[38;5;28mtype\u001b[39m(f))\n",
      "\u001b[1;31mTypeError\u001b[0m: unhashable type: 'list'"
     ]
    }
   ],
   "source": [
    "t=('Hello', [1,2,3,4,5], 5+7j, None, False, 5000, 6.8888)\n",
    "print(t,type(t))\n",
    "\n",
    "f=frozenset(t)\n",
    "print(f,type(f))"
   ]
  },
  {
   "cell_type": "code",
   "execution_count": 453,
   "id": "faffdfc5-1715-4635-b9bc-7d2608cc50f9",
   "metadata": {},
   "outputs": [
    {
     "name": "stdout",
     "output_type": "stream",
     "text": [
      "('Hello', (1, 2, 3, 4, 5), (5+7j), None, False, 5000, 6.8888) <class 'tuple'>\n",
      "frozenset({False, 6.8888, 5000, None, 'Hello', (5+7j), (1, 2, 3, 4, 5)}) <class 'frozenset'>\n"
     ]
    }
   ],
   "source": [
    "t=('Hello', (1,2,3,4,5), 5+7j, None, False, 5000, 6.8888)\n",
    "print(t,type(t))\n",
    "\n",
    "f=frozenset(t)\n",
    "print(f,type(f))"
   ]
  },
  {
   "cell_type": "markdown",
   "id": "dad7da85-9409-4c73-9933-5c0326643b6a",
   "metadata": {},
   "source": [
    "# Keywords and Identifiers"
   ]
  },
  {
   "cell_type": "markdown",
   "id": "5ada7bbe-20f0-4305-96e1-5da6af236608",
   "metadata": {},
   "source": [
    "# Keywords"
   ]
  },
  {
   "cell_type": "code",
   "execution_count": 455,
   "id": "c2fd06f3-927b-4ea8-9e9f-4e2720f12593",
   "metadata": {},
   "outputs": [],
   "source": [
    "# - These are the reserve words in Python.\n",
    "# - these words are used to perform some specific task as they have some specific meaning and purpose.\n",
    "# Examples- True, False, for, if, else, from, import, with, as, while etc."
   ]
  },
  {
   "cell_type": "code",
   "execution_count": 459,
   "id": "5759d314-baba-4820-89b1-26d0f65d2350",
   "metadata": {},
   "outputs": [],
   "source": [
    "import keyword"
   ]
  },
  {
   "cell_type": "code",
   "execution_count": 461,
   "id": "bf1fae70-84c2-450e-aaa0-5147764895e1",
   "metadata": {},
   "outputs": [
    {
     "name": "stdout",
     "output_type": "stream",
     "text": [
      "['False', 'None', 'True', 'and', 'as', 'assert', 'async', 'await', 'break', 'class', 'continue', 'def', 'del', 'elif', 'else', 'except', 'finally', 'for', 'from', 'global', 'if', 'import', 'in', 'is', 'lambda', 'nonlocal', 'not', 'or', 'pass', 'raise', 'return', 'try', 'while', 'with', 'yield']\n"
     ]
    }
   ],
   "source": [
    "print(keyword.kwlist)"
   ]
  },
  {
   "cell_type": "markdown",
   "id": "e3868ad4-fba5-407c-8fdc-9f0dc19c2e6f",
   "metadata": {},
   "source": [
    "# Identifier"
   ]
  },
  {
   "cell_type": "code",
   "execution_count": 465,
   "id": "f89227ed-671c-4bfe-984f-a990d82a0596",
   "metadata": {},
   "outputs": [],
   "source": [
    "# - An identifier is a name given to a variable, function, file_object, class, or any other object.\n",
    "# - A keyword should or can not be used as an identifier."
   ]
  },
  {
   "cell_type": "code",
   "execution_count": 464,
   "id": "af617ee1-dc34-4c51-8b90-620da5b70d37",
   "metadata": {},
   "outputs": [],
   "source": [
    "a=15\n",
    "# a- variable name"
   ]
  },
  {
   "cell_type": "code",
   "execution_count": 466,
   "id": "a4e85ba9-0807-4e87-98f6-829bf74539f9",
   "metadata": {},
   "outputs": [],
   "source": [
    "d=22"
   ]
  },
  {
   "cell_type": "code",
   "execution_count": 467,
   "id": "3279a209-7c93-49f7-b897-4a71520b82dd",
   "metadata": {},
   "outputs": [
    {
     "ename": "SyntaxError",
     "evalue": "invalid syntax (2094369896.py, line 1)",
     "output_type": "error",
     "traceback": [
      "\u001b[1;36m  Cell \u001b[1;32mIn[467], line 1\u001b[1;36m\u001b[0m\n\u001b[1;33m    if=22\u001b[0m\n\u001b[1;37m      ^\u001b[0m\n\u001b[1;31mSyntaxError\u001b[0m\u001b[1;31m:\u001b[0m invalid syntax\n"
     ]
    }
   ],
   "source": [
    "if=22"
   ]
  },
  {
   "cell_type": "markdown",
   "id": "187e8301-8e47-405b-b93c-6c8f54b4354c",
   "metadata": {},
   "source": [
    "# Variables and Constatnts"
   ]
  },
  {
   "cell_type": "code",
   "execution_count": 471,
   "id": "8147a924-c2db-4163-8505-b86ace93cd6f",
   "metadata": {},
   "outputs": [],
   "source": [
    "# - A variable is a container that contains a value.\n",
    "# - The value that a variable referes to is a constant.\n",
    "# - Sometimes variables are said to be names and the constants to be values."
   ]
  },
  {
   "cell_type": "code",
   "execution_count": 469,
   "id": "ddb898b3-4d7d-4eb3-8cd2-19ae99989518",
   "metadata": {},
   "outputs": [],
   "source": [
    "a=55"
   ]
  },
  {
   "cell_type": "code",
   "execution_count": 470,
   "id": "84b82a14-7417-4ade-9cdf-366b24df1c9a",
   "metadata": {},
   "outputs": [],
   "source": [
    "# a- variable\n",
    "# 55- constant"
   ]
  },
  {
   "cell_type": "code",
   "execution_count": 472,
   "id": "d2dbd27e-d5bb-46fa-83ae-7415a16741a6",
   "metadata": {},
   "outputs": [],
   "source": [
    "# c=78\n",
    "# c- variable / name\n",
    "# 78- constant/value"
   ]
  },
  {
   "cell_type": "markdown",
   "id": "5513c777-7d86-4293-ad39-f04ecd5d15d8",
   "metadata": {},
   "source": [
    "# Input and Output Functions"
   ]
  },
  {
   "cell_type": "markdown",
   "id": "a0ddcbed-8bfc-4ee7-a5e6-279f3e6c0ac6",
   "metadata": {},
   "source": [
    "# Input Functions"
   ]
  },
  {
   "cell_type": "code",
   "execution_count": 473,
   "id": "32ee343f-eabe-4395-8b45-7be84abfe24c",
   "metadata": {},
   "outputs": [],
   "source": [
    "# - The functions that we use to take the input from the user at the run time are known as input functions."
   ]
  },
  {
   "cell_type": "code",
   "execution_count": 474,
   "id": "3be2c68d-4bc7-47fd-b6e5-89d983f02578",
   "metadata": {},
   "outputs": [
    {
     "name": "stdout",
     "output_type": "stream",
     "text": [
      "25\n"
     ]
    }
   ],
   "source": [
    "a=10\n",
    "b=15\n",
    "c=a+b\n",
    "print(c)"
   ]
  },
  {
   "cell_type": "markdown",
   "id": "7a616957-7655-4070-9f1d-83c1f35a82c8",
   "metadata": {},
   "source": [
    "### input()"
   ]
  },
  {
   "cell_type": "code",
   "execution_count": 475,
   "id": "a8da1c17-114d-4c74-beda-1d29083f5aec",
   "metadata": {},
   "outputs": [],
   "source": [
    "# input() takes the input from the user at run time and returns a string value."
   ]
  },
  {
   "cell_type": "code",
   "execution_count": 476,
   "id": "eae9ec6d-ea18-439e-a0fd-310f18179ac8",
   "metadata": {},
   "outputs": [],
   "source": [
    "# variable=input('Message')"
   ]
  },
  {
   "cell_type": "code",
   "execution_count": 479,
   "id": "e6750582-7c3a-406c-8815-21916e6b5cec",
   "metadata": {},
   "outputs": [
    {
     "name": "stdin",
     "output_type": "stream",
     "text": [
      "Enter a value-  5\n"
     ]
    },
    {
     "name": "stdout",
     "output_type": "stream",
     "text": [
      "5 <class 'str'>\n"
     ]
    }
   ],
   "source": [
    "a=input('Enter a value- ')\n",
    "print(a,type(a))"
   ]
  },
  {
   "cell_type": "code",
   "execution_count": 481,
   "id": "3edde04a-59de-423e-a64e-6b86832c87de",
   "metadata": {},
   "outputs": [
    {
     "name": "stdin",
     "output_type": "stream",
     "text": [
      " 5\n"
     ]
    },
    {
     "data": {
      "text/plain": [
       "'5'"
      ]
     },
     "execution_count": 481,
     "metadata": {},
     "output_type": "execute_result"
    }
   ],
   "source": [
    "input()"
   ]
  },
  {
   "cell_type": "code",
   "execution_count": 483,
   "id": "09c6ae6b-3f87-49d0-bae7-b68a521e4b70",
   "metadata": {},
   "outputs": [],
   "source": [
    "# Write a program that takes two numbers from the user and adds them."
   ]
  },
  {
   "cell_type": "code",
   "execution_count": 485,
   "id": "2e22cdf5-8f65-4dfb-a140-1babbcf46e21",
   "metadata": {},
   "outputs": [
    {
     "name": "stdin",
     "output_type": "stream",
     "text": [
      "Enter a number-  7\n",
      "Enter a number-  8\n"
     ]
    },
    {
     "name": "stdout",
     "output_type": "stream",
     "text": [
      "7 <class 'str'>\n",
      "8 <class 'str'>\n"
     ]
    }
   ],
   "source": [
    "a=input('Enter a number- ')\n",
    "b=input('Enter a number- ')\n",
    "\n",
    "print(a,type(a))\n",
    "print(b,type(b))"
   ]
  },
  {
   "cell_type": "code",
   "execution_count": 486,
   "id": "27c08fb0-d746-4241-b40b-16aaa4d645ef",
   "metadata": {},
   "outputs": [
    {
     "name": "stdin",
     "output_type": "stream",
     "text": [
      "Enter a number-  4\n",
      "Enter a number-  6\n"
     ]
    },
    {
     "name": "stdout",
     "output_type": "stream",
     "text": [
      "4 <class 'str'>\n",
      "6 <class 'str'>\n",
      "46\n"
     ]
    }
   ],
   "source": [
    "a=input('Enter a number- ')\n",
    "b=input('Enter a number- ')\n",
    "\n",
    "print(a,type(a))\n",
    "print(b,type(b))\n",
    "\n",
    "c=a+b\n",
    "print(c)"
   ]
  },
  {
   "cell_type": "code",
   "execution_count": 487,
   "id": "41aab907-a10f-4c91-9932-5dde63aa3fd6",
   "metadata": {},
   "outputs": [
    {
     "data": {
      "text/plain": [
       "'46'"
      ]
     },
     "execution_count": 487,
     "metadata": {},
     "output_type": "execute_result"
    }
   ],
   "source": [
    "'4'+'6'"
   ]
  },
  {
   "cell_type": "code",
   "execution_count": 488,
   "id": "126eb0ca-af07-485e-a022-293c70cacf9d",
   "metadata": {},
   "outputs": [
    {
     "name": "stdin",
     "output_type": "stream",
     "text": [
      "Enter a number-  4\n",
      "Enter a number-  6\n"
     ]
    },
    {
     "name": "stdout",
     "output_type": "stream",
     "text": [
      "4 <class 'int'>\n",
      "6 <class 'int'>\n"
     ]
    }
   ],
   "source": [
    "a=int(input('Enter a number- '))\n",
    "b=int(input('Enter a number- '))\n",
    "\n",
    "print(a,type(a))\n",
    "print(b,type(b))"
   ]
  },
  {
   "cell_type": "code",
   "execution_count": 489,
   "id": "ae0a9d99-cae5-4bbc-8c22-44dac824a133",
   "metadata": {},
   "outputs": [
    {
     "name": "stdin",
     "output_type": "stream",
     "text": [
      "Enter a number-  4\n",
      "Enter a number-  5\n"
     ]
    },
    {
     "name": "stdout",
     "output_type": "stream",
     "text": [
      "9\n"
     ]
    }
   ],
   "source": [
    "a=int(input('Enter a number- '))\n",
    "b=int(input('Enter a number- '))\n",
    "\n",
    "c=a+b\n",
    "print(c)"
   ]
  },
  {
   "cell_type": "code",
   "execution_count": 490,
   "id": "eb5f5e7b-d5e9-4949-843d-52c99cbd4fbe",
   "metadata": {},
   "outputs": [],
   "source": [
    "# eval()\n",
    "# Output functions"
   ]
  },
  {
   "cell_type": "code",
   "execution_count": null,
   "id": "79fb557d-054e-4afa-93b2-bf8514897985",
   "metadata": {},
   "outputs": [],
   "source": []
  }
 ],
 "metadata": {
  "kernelspec": {
   "display_name": "Python 3 (ipykernel)",
   "language": "python",
   "name": "python3"
  },
  "language_info": {
   "codemirror_mode": {
    "name": "ipython",
    "version": 3
   },
   "file_extension": ".py",
   "mimetype": "text/x-python",
   "name": "python",
   "nbconvert_exporter": "python",
   "pygments_lexer": "ipython3",
   "version": "3.11.7"
  }
 },
 "nbformat": 4,
 "nbformat_minor": 5
}
