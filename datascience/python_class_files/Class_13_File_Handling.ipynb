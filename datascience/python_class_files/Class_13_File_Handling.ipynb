{
 "cells": [
  {
   "cell_type": "markdown",
   "id": "0569299d-7719-4ee7-a3bf-a0f3cd336871",
   "metadata": {},
   "source": [
    "# Modes on text files"
   ]
  },
  {
   "cell_type": "code",
   "execution_count": 2,
   "id": "92fc7151-bda9-4a0b-b262-0f0ed736c98c",
   "metadata": {},
   "outputs": [],
   "source": [
    "# read mode 'r'"
   ]
  },
  {
   "cell_type": "markdown",
   "id": "49d67e96-4d64-4a58-b544-bb2efde5aac1",
   "metadata": {},
   "source": [
    "### write mode - 'w'"
   ]
  },
  {
   "cell_type": "code",
   "execution_count": 6,
   "id": "46f3082e-44de-4222-b44f-87ef817cd1fd",
   "metadata": {},
   "outputs": [],
   "source": [
    "# - If the file already exists then it opens the file in write mode and removes the previous content.\n",
    "# - If the file does not exist then it creates the file and opens in write mode.\n",
    "# - We are allowed to write into the file but we are not allowed to read from the file."
   ]
  },
  {
   "cell_type": "code",
   "execution_count": 8,
   "id": "e7736dc8-a1f4-4021-9430-b8737397657c",
   "metadata": {},
   "outputs": [],
   "source": [
    "f=open('intro.txt','w')\n",
    "f.close()"
   ]
  },
  {
   "cell_type": "code",
   "execution_count": 12,
   "id": "c41281d4-dc52-4ed5-9ee1-262a7505d9aa",
   "metadata": {},
   "outputs": [],
   "source": [
    "f=open('intro.txt','w')\n",
    "f.write('We are writing in the file')\n",
    "f.close()"
   ]
  },
  {
   "cell_type": "code",
   "execution_count": 16,
   "id": "6033efcc-4f85-4bba-b1fa-1d3987b77070",
   "metadata": {},
   "outputs": [],
   "source": [
    "f=open('spiderman.txt','w')\n",
    "f.close()"
   ]
  },
  {
   "cell_type": "code",
   "execution_count": 18,
   "id": "c0022176-89d3-4520-9073-b18c419aa668",
   "metadata": {},
   "outputs": [
    {
     "name": "stdout",
     "output_type": "stream",
     "text": [
      " Volume in drive C is OS\n",
      " Volume Serial Number is 1212-0B91\n",
      "\n",
      " Directory of C:\\Users\\ashis\\OneDrive\\Desktop\\Woolf Batches\\Woolf Python 1st June Batch\n",
      "\n",
      "07/20/2024  09:50 AM    <DIR>          .\n",
      "06/02/2024  09:20 AM    <DIR>          ..\n",
      "07/20/2024  09:45 AM    <DIR>          .ipynb_checkpoints\n",
      "07/14/2024  12:07 PM    <DIR>          __pycache__\n",
      "06/14/2024  09:04 AM            79,485 Class_1_Introduction.ipynb\n",
      "07/07/2024  12:59 PM            67,078 Class_10_Functions.ipynb\n",
      "07/13/2024  01:03 PM            58,227 Class_11_Decorators.ipynb\n",
      "07/14/2024  01:07 PM           131,570 Class_12_Modules.ipynb\n",
      "07/20/2024  09:49 AM             1,843 Class_13_File_Handling.ipynb\n",
      "06/08/2024  12:59 PM            98,970 Class_2_Data_Types.ipynb\n",
      "06/09/2024  12:58 PM            92,327 Class_3_Operators.ipynb\n",
      "06/16/2024  09:43 AM            90,794 Class_4_String_Methods.ipynb\n",
      "06/23/2024  09:36 AM            46,158 Class_5_Conditional_Statements_and_Loops.ipynb\n",
      "06/23/2024  01:03 PM            71,364 Class_6_Loops_and_Transfer_Statements.ipynb\n",
      "06/29/2024  12:53 PM            57,071 Class_7_List.ipynb\n",
      "06/30/2024  01:03 PM            88,115 Class_8_Tuple_and_Dictionary.ipynb\n",
      "07/06/2024  01:06 PM           168,282 Class_9_Dictionary_Methods.ipynb\n",
      "07/14/2024  12:07 PM               603 data_clean.py\n",
      "07/14/2024  12:08 PM                86 data_model.py\n",
      "07/20/2024  09:49 AM                26 intro.txt\n",
      "07/14/2024  10:23 AM               157 june.py\n",
      "07/06/2024  11:42 AM           109,462 List-of-Acronyms.pdf\n",
      "07/14/2024  12:24 PM    <DIR>          my_package\n",
      "07/20/2024  09:50 AM                 0 spiderman.txt\n",
      "06/09/2024  10:05 AM                27 test.py\n",
      "07/14/2024  11:06 AM               220 test_mod.py\n",
      "07/14/2024  11:00 AM             8,489 Untitled.ipynb\n",
      "              22 File(s)      1,170,354 bytes\n",
      "               5 Dir(s)  140,257,267,712 bytes free\n"
     ]
    }
   ],
   "source": [
    "ls"
   ]
  },
  {
   "cell_type": "code",
   "execution_count": 20,
   "id": "74d7d580-ce97-4c02-818b-55380c6783ce",
   "metadata": {},
   "outputs": [],
   "source": [
    "f=open('cartoon.txt','w')\n",
    "f.write('I love cartoons!')\n",
    "f.close()"
   ]
  },
  {
   "cell_type": "code",
   "execution_count": 22,
   "id": "c23de05c-e2df-41b5-9f1c-cc4994aace48",
   "metadata": {},
   "outputs": [
    {
     "name": "stdout",
     "output_type": "stream",
     "text": [
      " Volume in drive C is OS\n",
      " Volume Serial Number is 1212-0B91\n",
      "\n",
      " Directory of C:\\Users\\ashis\\OneDrive\\Desktop\\Woolf Batches\\Woolf Python 1st June Batch\n",
      "\n",
      "07/20/2024  09:51 AM    <DIR>          .\n",
      "06/02/2024  09:20 AM    <DIR>          ..\n",
      "07/20/2024  09:45 AM    <DIR>          .ipynb_checkpoints\n",
      "07/14/2024  12:07 PM    <DIR>          __pycache__\n",
      "07/20/2024  09:51 AM                16 cartoon.txt\n",
      "06/14/2024  09:04 AM            79,485 Class_1_Introduction.ipynb\n",
      "07/07/2024  12:59 PM            67,078 Class_10_Functions.ipynb\n",
      "07/13/2024  01:03 PM            58,227 Class_11_Decorators.ipynb\n",
      "07/14/2024  01:07 PM           131,570 Class_12_Modules.ipynb\n",
      "07/20/2024  09:51 AM             5,006 Class_13_File_Handling.ipynb\n",
      "06/08/2024  12:59 PM            98,970 Class_2_Data_Types.ipynb\n",
      "06/09/2024  12:58 PM            92,327 Class_3_Operators.ipynb\n",
      "06/16/2024  09:43 AM            90,794 Class_4_String_Methods.ipynb\n",
      "06/23/2024  09:36 AM            46,158 Class_5_Conditional_Statements_and_Loops.ipynb\n",
      "06/23/2024  01:03 PM            71,364 Class_6_Loops_and_Transfer_Statements.ipynb\n",
      "06/29/2024  12:53 PM            57,071 Class_7_List.ipynb\n",
      "06/30/2024  01:03 PM            88,115 Class_8_Tuple_and_Dictionary.ipynb\n",
      "07/06/2024  01:06 PM           168,282 Class_9_Dictionary_Methods.ipynb\n",
      "07/14/2024  12:07 PM               603 data_clean.py\n",
      "07/14/2024  12:08 PM                86 data_model.py\n",
      "07/20/2024  09:49 AM                26 intro.txt\n",
      "07/14/2024  10:23 AM               157 june.py\n",
      "07/06/2024  11:42 AM           109,462 List-of-Acronyms.pdf\n",
      "07/14/2024  12:24 PM    <DIR>          my_package\n",
      "07/20/2024  09:50 AM                 0 spiderman.txt\n",
      "06/09/2024  10:05 AM                27 test.py\n",
      "07/14/2024  11:06 AM               220 test_mod.py\n",
      "07/14/2024  11:00 AM             8,489 Untitled.ipynb\n",
      "              23 File(s)      1,173,533 bytes\n",
      "               5 Dir(s)  140,256,612,352 bytes free\n"
     ]
    }
   ],
   "source": [
    "ls"
   ]
  },
  {
   "cell_type": "code",
   "execution_count": 26,
   "id": "06dc58fb-df61-4a51-b99e-70210d685796",
   "metadata": {},
   "outputs": [],
   "source": [
    "f=open('cartoon.txt','w')\n",
    "f.write('I love cartoons!')\n",
    "f.seek(0)\n",
    "# print(f.read())\n",
    "f.close()"
   ]
  },
  {
   "cell_type": "markdown",
   "id": "e996d850-5094-4dfd-a6a7-1045a68618dc",
   "metadata": {},
   "source": [
    "### append mode - 'a'"
   ]
  },
  {
   "cell_type": "code",
   "execution_count": 29,
   "id": "933b879f-50b0-4c42-a925-d6a00cc52080",
   "metadata": {},
   "outputs": [],
   "source": [
    "# - If the file already exists then it opens the file in append mode and places the cursor at the end of the file.\n",
    "# - If the file does not exist then it creates the file with the given name and extension.\n",
    "# - In append mode we are alowed to write into the file but we are not allowed to read from the file.\n",
    "# - seek() is not applicable.\n",
    "# - It means it always appends at the end irrespective of the cursor's position."
   ]
  },
  {
   "cell_type": "code",
   "execution_count": 33,
   "id": "d0eb2d5b-21fd-44b9-a320-b3ee6cf9fd36",
   "metadata": {},
   "outputs": [
    {
     "name": "stdout",
     "output_type": "stream",
     "text": [
      "16\n"
     ]
    }
   ],
   "source": [
    "f=open('cartoon.txt','a')\n",
    "print(f.tell())\n",
    "f.write('Tell me your favorite cartoon')\n",
    "f.close()"
   ]
  },
  {
   "cell_type": "code",
   "execution_count": 39,
   "id": "657f40e9-64cc-446e-8047-35d15c5b1d34",
   "metadata": {},
   "outputs": [
    {
     "name": "stdout",
     "output_type": "stream",
     "text": [
      "45\n",
      "10\n"
     ]
    }
   ],
   "source": [
    "f=open('cartoon.txt','a')\n",
    "print(f.tell())\n",
    "f.seek(10)\n",
    "print(f.tell())\n",
    "f.write('Do you like Hulk?')\n",
    "f.close()"
   ]
  },
  {
   "cell_type": "code",
   "execution_count": 41,
   "id": "2f058674-e0dd-4c40-b8ac-a4aafa466d3d",
   "metadata": {},
   "outputs": [],
   "source": [
    "f=open('log.txt','a')\n",
    "f.close()"
   ]
  },
  {
   "cell_type": "code",
   "execution_count": 43,
   "id": "9bb1c8be-9203-4572-b058-fd65de12d848",
   "metadata": {},
   "outputs": [
    {
     "name": "stdout",
     "output_type": "stream",
     "text": [
      " Volume in drive C is OS\n",
      " Volume Serial Number is 1212-0B91\n",
      "\n",
      " Directory of C:\\Users\\ashis\\OneDrive\\Desktop\\Woolf Batches\\Woolf Python 1st June Batch\n",
      "\n",
      "07/20/2024  09:57 AM    <DIR>          .\n",
      "06/02/2024  09:20 AM    <DIR>          ..\n",
      "07/20/2024  09:51 AM    <DIR>          .ipynb_checkpoints\n",
      "07/14/2024  12:07 PM    <DIR>          __pycache__\n",
      "07/20/2024  09:57 AM                62 cartoon.txt\n",
      "06/14/2024  09:04 AM            79,485 Class_1_Introduction.ipynb\n",
      "07/07/2024  12:59 PM            67,078 Class_10_Functions.ipynb\n",
      "07/13/2024  01:03 PM            58,227 Class_11_Decorators.ipynb\n",
      "07/14/2024  01:07 PM           131,570 Class_12_Modules.ipynb\n",
      "07/20/2024  09:57 AM             9,477 Class_13_File_Handling.ipynb\n",
      "06/08/2024  12:59 PM            98,970 Class_2_Data_Types.ipynb\n",
      "06/09/2024  12:58 PM            92,327 Class_3_Operators.ipynb\n",
      "06/16/2024  09:43 AM            90,794 Class_4_String_Methods.ipynb\n",
      "06/23/2024  09:36 AM            46,158 Class_5_Conditional_Statements_and_Loops.ipynb\n",
      "06/23/2024  01:03 PM            71,364 Class_6_Loops_and_Transfer_Statements.ipynb\n",
      "06/29/2024  12:53 PM            57,071 Class_7_List.ipynb\n",
      "06/30/2024  01:03 PM            88,115 Class_8_Tuple_and_Dictionary.ipynb\n",
      "07/06/2024  01:06 PM           168,282 Class_9_Dictionary_Methods.ipynb\n",
      "07/14/2024  12:07 PM               603 data_clean.py\n",
      "07/14/2024  12:08 PM                86 data_model.py\n",
      "07/20/2024  09:49 AM                26 intro.txt\n",
      "07/14/2024  10:23 AM               157 june.py\n",
      "07/06/2024  11:42 AM           109,462 List-of-Acronyms.pdf\n",
      "07/20/2024  09:57 AM                 0 log.txt\n",
      "07/14/2024  12:24 PM    <DIR>          my_package\n",
      "07/20/2024  09:50 AM                 0 spiderman.txt\n",
      "06/09/2024  10:05 AM                27 test.py\n",
      "07/14/2024  11:06 AM               220 test_mod.py\n",
      "07/14/2024  11:00 AM             8,489 Untitled.ipynb\n",
      "              24 File(s)      1,178,050 bytes\n",
      "               5 Dir(s)  140,254,007,296 bytes free\n"
     ]
    }
   ],
   "source": [
    "ls"
   ]
  },
  {
   "cell_type": "code",
   "execution_count": 49,
   "id": "40801727-d9e3-4bef-8e36-26591b82d6fa",
   "metadata": {},
   "outputs": [
    {
     "name": "stdout",
     "output_type": "stream",
     "text": [
      "62\n",
      "0\n"
     ]
    },
    {
     "ename": "UnsupportedOperation",
     "evalue": "not readable",
     "output_type": "error",
     "traceback": [
      "\u001b[1;31m---------------------------------------------------------------------------\u001b[0m",
      "\u001b[1;31mUnsupportedOperation\u001b[0m                      Traceback (most recent call last)",
      "Cell \u001b[1;32mIn[49], line 5\u001b[0m\n\u001b[0;32m      3\u001b[0m f\u001b[38;5;241m.\u001b[39mseek(\u001b[38;5;241m0\u001b[39m)\n\u001b[0;32m      4\u001b[0m \u001b[38;5;28mprint\u001b[39m(f\u001b[38;5;241m.\u001b[39mtell())\n\u001b[1;32m----> 5\u001b[0m \u001b[38;5;28mprint\u001b[39m(f\u001b[38;5;241m.\u001b[39mread())\n",
      "\u001b[1;31mUnsupportedOperation\u001b[0m: not readable"
     ]
    }
   ],
   "source": [
    "f=open('cartoon.txt','a')\n",
    "print(f.tell())\n",
    "f.seek(0)\n",
    "print(f.tell())\n",
    "print(f.read())"
   ]
  },
  {
   "cell_type": "markdown",
   "id": "2f0c1891-fb74-45fe-9d40-426440fcf541",
   "metadata": {},
   "source": [
    "### read and write mode - 'r+'"
   ]
  },
  {
   "cell_type": "code",
   "execution_count": 52,
   "id": "22ee4479-bb6d-4973-9ea6-63ad525744a9",
   "metadata": {},
   "outputs": [],
   "source": [
    "# - If the file already exists then it opens the file in read and write mode and places the cursor in the beginning of the file.\n",
    "# - If the file does not exist then it raises file not found error.\n",
    "# - We are allowed to read from the file as well as we are allowed to write into the file.\n",
    "# - Note- If already some content is there then it will overrite that if the cursor's position is there."
   ]
  },
  {
   "cell_type": "code",
   "execution_count": 58,
   "id": "21e3bb4d-b70d-4604-bf74-f51691886941",
   "metadata": {},
   "outputs": [
    {
     "name": "stdout",
     "output_type": "stream",
     "text": [
      "0\n",
      "I love cartoons!Tell me your favorite cartoonDo you like Hulk?\n",
      "62\n"
     ]
    }
   ],
   "source": [
    "f=open('cartoon.txt','r+')\n",
    "print(f.tell())\n",
    "print(f.read())\n",
    "print(f.tell())"
   ]
  },
  {
   "cell_type": "code",
   "execution_count": 62,
   "id": "4f02c81f-a84b-431d-a552-b151d3bc1eb7",
   "metadata": {},
   "outputs": [],
   "source": [
    "# f=open('dummy.txt','r+')"
   ]
  },
  {
   "cell_type": "code",
   "execution_count": 66,
   "id": "a5d2f6cd-74b3-41b5-9e69-8f581ec078c4",
   "metadata": {},
   "outputs": [
    {
     "name": "stdout",
     "output_type": "stream",
     "text": [
      "0\n",
      "Python cartoons!Tell me your favorite cartoonDo you like Hulk?\n"
     ]
    }
   ],
   "source": [
    "f=open('cartoon.txt','r+')\n",
    "print(f.tell())\n",
    "f.write('Python')\n",
    "f.seek(0)\n",
    "print(f.read())\n",
    "f.close()"
   ]
  },
  {
   "cell_type": "code",
   "execution_count": 70,
   "id": "d2b3ce19-b6ca-49df-a553-3a08a5d76494",
   "metadata": {},
   "outputs": [
    {
     "name": "stdout",
     "output_type": "stream",
     "text": [
      "0\n",
      "8\n",
      "Python cJavaons!Tell me your favorite cartoonDo you like Hulk?\n"
     ]
    }
   ],
   "source": [
    "f=open('cartoon.txt','r+')\n",
    "print(f.tell())\n",
    "f.seek(8)\n",
    "print(f.tell())\n",
    "f.write('Java')\n",
    "f.seek(0)\n",
    "print(f.read())\n",
    "f.close()"
   ]
  },
  {
   "cell_type": "code",
   "execution_count": 74,
   "id": "2fd3e76b-372b-4115-8173-7bb08b39ffab",
   "metadata": {},
   "outputs": [
    {
     "name": "stdout",
     "output_type": "stream",
     "text": [
      "Python cJavaons!Tell me your favorite cartoonDo you like Hulk?\n",
      "Python cJavaons!Tell me your favorite cartoonDo you like Hulk?Hello Python\n"
     ]
    }
   ],
   "source": [
    "f=open('cartoon.txt','r+')\n",
    "print(f.read())\n",
    "f.write('Hello Python')\n",
    "f.seek(0)\n",
    "print(f.read())\n",
    "f.close()"
   ]
  },
  {
   "cell_type": "markdown",
   "id": "eb8df1b9-9cd8-4cf5-a4b4-dabbf497f35a",
   "metadata": {},
   "source": [
    "### write and read mode - 'w+'"
   ]
  },
  {
   "cell_type": "code",
   "execution_count": 77,
   "id": "1d28f525-5828-4b04-be09-7bbbd0683491",
   "metadata": {},
   "outputs": [],
   "source": [
    "# - If the file already exists then it opens it in write and read mode.\n",
    "# - In this case the previous content will be erased.\n",
    "# - If the does not exist then it creates the file with the given name and extension.\n",
    "# - We are allowed to write into the file as well as we are allowed to read from the file."
   ]
  },
  {
   "cell_type": "code",
   "execution_count": 79,
   "id": "77fc6247-8ea6-46d6-a63d-7b74ce596e47",
   "metadata": {},
   "outputs": [],
   "source": [
    "f=open('cartoon.txt','w+')\n",
    "f.close()"
   ]
  },
  {
   "cell_type": "code",
   "execution_count": 81,
   "id": "e7d4f488-0afc-4850-87f1-eab79aa427ea",
   "metadata": {},
   "outputs": [
    {
     "name": "stdout",
     "output_type": "stream",
     "text": [
      "It is a log file\n"
     ]
    }
   ],
   "source": [
    "f=open('log.txt','w+')\n",
    "f.write('It is a log file')\n",
    "f.seek(0)\n",
    "print(f.read())\n",
    "f.close()"
   ]
  },
  {
   "cell_type": "code",
   "execution_count": 83,
   "id": "640cc906-dcb4-4ae3-ae78-937a60c9fc40",
   "metadata": {},
   "outputs": [],
   "source": [
    "f=open('env.txt','w+')\n",
    "f.write('It is an environment file.!')\n",
    "f.close()"
   ]
  },
  {
   "cell_type": "code",
   "execution_count": 85,
   "id": "2972183c-cc49-4d65-bed3-e27b433e2e5e",
   "metadata": {},
   "outputs": [
    {
     "name": "stdout",
     "output_type": "stream",
     "text": [
      " Volume in drive C is OS\n",
      " Volume Serial Number is 1212-0B91\n",
      "\n",
      " Directory of C:\\Users\\ashis\\OneDrive\\Desktop\\Woolf Batches\\Woolf Python 1st June Batch\n",
      "\n",
      "07/20/2024  10:12 AM    <DIR>          .\n",
      "06/02/2024  09:20 AM    <DIR>          ..\n",
      "07/20/2024  09:58 AM    <DIR>          .ipynb_checkpoints\n",
      "07/14/2024  12:07 PM    <DIR>          __pycache__\n",
      "07/20/2024  10:09 AM                 0 cartoon.txt\n",
      "06/14/2024  09:04 AM            79,485 Class_1_Introduction.ipynb\n",
      "07/07/2024  12:59 PM            67,078 Class_10_Functions.ipynb\n",
      "07/13/2024  01:03 PM            58,227 Class_11_Decorators.ipynb\n",
      "07/14/2024  01:07 PM           131,570 Class_12_Modules.ipynb\n",
      "07/20/2024  10:11 AM            17,774 Class_13_File_Handling.ipynb\n",
      "06/08/2024  12:59 PM            98,970 Class_2_Data_Types.ipynb\n",
      "06/09/2024  12:58 PM            92,327 Class_3_Operators.ipynb\n",
      "06/16/2024  09:43 AM            90,794 Class_4_String_Methods.ipynb\n",
      "06/23/2024  09:36 AM            46,158 Class_5_Conditional_Statements_and_Loops.ipynb\n",
      "06/23/2024  01:03 PM            71,364 Class_6_Loops_and_Transfer_Statements.ipynb\n",
      "06/29/2024  12:53 PM            57,071 Class_7_List.ipynb\n",
      "06/30/2024  01:03 PM            88,115 Class_8_Tuple_and_Dictionary.ipynb\n",
      "07/06/2024  01:06 PM           168,282 Class_9_Dictionary_Methods.ipynb\n",
      "07/14/2024  12:07 PM               603 data_clean.py\n",
      "07/14/2024  12:08 PM                86 data_model.py\n",
      "07/20/2024  10:12 AM                27 env.txt\n",
      "07/20/2024  09:49 AM                26 intro.txt\n",
      "07/14/2024  10:23 AM               157 june.py\n",
      "07/06/2024  11:42 AM           109,462 List-of-Acronyms.pdf\n",
      "07/20/2024  10:11 AM                16 log.txt\n",
      "07/14/2024  12:24 PM    <DIR>          my_package\n",
      "07/20/2024  09:50 AM                 0 spiderman.txt\n",
      "06/09/2024  10:05 AM                27 test.py\n",
      "07/14/2024  11:06 AM               220 test_mod.py\n",
      "07/14/2024  11:00 AM             8,489 Untitled.ipynb\n",
      "              25 File(s)      1,186,328 bytes\n",
      "               5 Dir(s)  140,250,763,264 bytes free\n"
     ]
    }
   ],
   "source": [
    "ls"
   ]
  },
  {
   "cell_type": "code",
   "execution_count": 87,
   "id": "67742e1b-e4b8-4494-a664-92953f0f337d",
   "metadata": {},
   "outputs": [],
   "source": [
    "f=open('env.txt','w+')\n",
    "f.close()"
   ]
  },
  {
   "cell_type": "markdown",
   "id": "7c59000b-80fd-47a9-a4d8-de7c4bb3c7c2",
   "metadata": {},
   "source": [
    "### append and read mode - 'a+'"
   ]
  },
  {
   "cell_type": "code",
   "execution_count": 90,
   "id": "2dfb65f0-8357-45d4-9306-676e2f1dad8b",
   "metadata": {},
   "outputs": [],
   "source": [
    "# - If the file already exists then it opens the file in append and read mode and places the cursor at the end.\n",
    "# - If the file does not exist then it creates the file with the given name and extension.\n",
    "# - We are allowed to write into the file as well as we are allowed tp read from the file.\n",
    "# - seek() is not applicable while writing.\n",
    "# - It means it will append at the end only irrespective of the cursor's position."
   ]
  },
  {
   "cell_type": "code",
   "execution_count": 96,
   "id": "87f29a76-5c0b-497b-944c-1fa024b6ef0b",
   "metadata": {},
   "outputs": [
    {
     "name": "stdout",
     "output_type": "stream",
     "text": [
      "26\n",
      "We are writing in the fileIt is a new content\n"
     ]
    }
   ],
   "source": [
    "f=open('intro.txt','a+')\n",
    "print(f.tell())\n",
    "f.write('It is a new content')\n",
    "f.seek(0)\n",
    "print(f.read())\n",
    "f.close()"
   ]
  },
  {
   "cell_type": "code",
   "execution_count": 102,
   "id": "4627c911-2e36-4eb5-b1b4-753f2189b47a",
   "metadata": {},
   "outputs": [
    {
     "name": "stdout",
     "output_type": "stream",
     "text": [
      "45\n",
      "5\n",
      "We are writing in the fileIt is a new contentWriting at index 5\n"
     ]
    }
   ],
   "source": [
    "f=open('intro.txt','a+')\n",
    "print(f.tell())\n",
    "f.seek(5)\n",
    "print(f.tell())\n",
    "f.write('Writing at index 5')\n",
    "f.seek(0)\n",
    "print(f.read())\n",
    "f.close()"
   ]
  },
  {
   "cell_type": "code",
   "execution_count": 104,
   "id": "d4c75aea-0193-40a2-b59c-6fa8f796d1d3",
   "metadata": {},
   "outputs": [],
   "source": [
    "f=open('testing.txt','a+')\n",
    "f.write('It is a test file')\n",
    "f.close()"
   ]
  },
  {
   "cell_type": "code",
   "execution_count": 106,
   "id": "801358b7-ff1d-4b15-892b-da4e4ccd0c91",
   "metadata": {},
   "outputs": [
    {
     "name": "stdout",
     "output_type": "stream",
     "text": [
      " Volume in drive C is OS\n",
      " Volume Serial Number is 1212-0B91\n",
      "\n",
      " Directory of C:\\Users\\ashis\\OneDrive\\Desktop\\Woolf Batches\\Woolf Python 1st June Batch\n",
      "\n",
      "07/20/2024  10:19 AM    <DIR>          .\n",
      "06/02/2024  09:20 AM    <DIR>          ..\n",
      "07/20/2024  10:12 AM    <DIR>          .ipynb_checkpoints\n",
      "07/14/2024  12:07 PM    <DIR>          __pycache__\n",
      "07/20/2024  10:09 AM                 0 cartoon.txt\n",
      "06/14/2024  09:04 AM            79,485 Class_1_Introduction.ipynb\n",
      "07/07/2024  12:59 PM            67,078 Class_10_Functions.ipynb\n",
      "07/13/2024  01:03 PM            58,227 Class_11_Decorators.ipynb\n",
      "07/14/2024  01:07 PM           131,570 Class_12_Modules.ipynb\n",
      "07/20/2024  10:17 AM            22,256 Class_13_File_Handling.ipynb\n",
      "06/08/2024  12:59 PM            98,970 Class_2_Data_Types.ipynb\n",
      "06/09/2024  12:58 PM            92,327 Class_3_Operators.ipynb\n",
      "06/16/2024  09:43 AM            90,794 Class_4_String_Methods.ipynb\n",
      "06/23/2024  09:36 AM            46,158 Class_5_Conditional_Statements_and_Loops.ipynb\n",
      "06/23/2024  01:03 PM            71,364 Class_6_Loops_and_Transfer_Statements.ipynb\n",
      "06/29/2024  12:53 PM            57,071 Class_7_List.ipynb\n",
      "06/30/2024  01:03 PM            88,115 Class_8_Tuple_and_Dictionary.ipynb\n",
      "07/06/2024  01:06 PM           168,282 Class_9_Dictionary_Methods.ipynb\n",
      "07/14/2024  12:07 PM               603 data_clean.py\n",
      "07/14/2024  12:08 PM                86 data_model.py\n",
      "07/20/2024  10:13 AM                 0 env.txt\n",
      "07/20/2024  10:18 AM                63 intro.txt\n",
      "07/14/2024  10:23 AM               157 june.py\n",
      "07/06/2024  11:42 AM           109,462 List-of-Acronyms.pdf\n",
      "07/20/2024  10:11 AM                16 log.txt\n",
      "07/14/2024  12:24 PM    <DIR>          my_package\n",
      "07/20/2024  09:50 AM                 0 spiderman.txt\n",
      "06/09/2024  10:05 AM                27 test.py\n",
      "07/14/2024  11:06 AM               220 test_mod.py\n",
      "07/20/2024  10:19 AM                17 testing.txt\n",
      "07/14/2024  11:00 AM             8,489 Untitled.ipynb\n",
      "              26 File(s)      1,190,837 bytes\n",
      "               5 Dir(s)  140,247,416,832 bytes free\n"
     ]
    }
   ],
   "source": [
    "ls"
   ]
  },
  {
   "cell_type": "markdown",
   "id": "e12b88d7-fd87-465a-9d09-40da5275ad7e",
   "metadata": {},
   "source": [
    "# with open statement"
   ]
  },
  {
   "cell_type": "code",
   "execution_count": 109,
   "id": "eab05aa2-a28a-4319-a1be-f2873bce043c",
   "metadata": {},
   "outputs": [],
   "source": [
    "# - It auto close the file.\n",
    "# - We don't have to close the file explicitely.\n",
    "# - As soon as we come out of the indentation area the file is closed."
   ]
  },
  {
   "cell_type": "markdown",
   "id": "ba8cdb3e-bfe8-48af-816b-fcf19bce1d3f",
   "metadata": {},
   "source": [
    "### Syntax-"
   ]
  },
  {
   "cell_type": "markdown",
   "id": "4c378197-3f39-42ea-9036-3ea43e285f7c",
   "metadata": {},
   "source": [
    "with open('file_name.extension','mode') as name:\n",
    "    code\n",
    "    code"
   ]
  },
  {
   "cell_type": "code",
   "execution_count": 122,
   "id": "5630808c-aca2-47fc-bcf4-3984ffeb4690",
   "metadata": {},
   "outputs": [
    {
     "name": "stdout",
     "output_type": "stream",
     "text": [
      "0\n",
      "We are writing in the fileIt is a new contentWriting at index 5\n"
     ]
    },
    {
     "ename": "ValueError",
     "evalue": "I/O operation on closed file.",
     "output_type": "error",
     "traceback": [
      "\u001b[1;31m---------------------------------------------------------------------------\u001b[0m",
      "\u001b[1;31mValueError\u001b[0m                                Traceback (most recent call last)",
      "Cell \u001b[1;32mIn[122], line 5\u001b[0m\n\u001b[0;32m      2\u001b[0m     \u001b[38;5;28mprint\u001b[39m(f\u001b[38;5;241m.\u001b[39mtell())\n\u001b[0;32m      3\u001b[0m     \u001b[38;5;28mprint\u001b[39m(f\u001b[38;5;241m.\u001b[39mread())\n\u001b[1;32m----> 5\u001b[0m \u001b[38;5;28mprint\u001b[39m(f\u001b[38;5;241m.\u001b[39mtell())\n",
      "\u001b[1;31mValueError\u001b[0m: I/O operation on closed file."
     ]
    }
   ],
   "source": [
    "with open('intro.txt','r') as f:\n",
    "    print(f.tell())\n",
    "    print(f.read())\n",
    "\n",
    "print(f.tell())"
   ]
  },
  {
   "cell_type": "markdown",
   "id": "0c297c50-3b8b-46dc-a7de-2fb0eac375b6",
   "metadata": {},
   "source": [
    "### Count the number of lines in a file"
   ]
  },
  {
   "cell_type": "code",
   "execution_count": 125,
   "id": "a5d53aa4-d546-4332-b9d5-5860c92068fa",
   "metadata": {},
   "outputs": [],
   "source": [
    "with open('cartoon.txt','r') as f:\n",
    "    lines=f.readlines()"
   ]
  },
  {
   "cell_type": "code",
   "execution_count": 129,
   "id": "6e58da37-5b94-469d-9f82-78b735532333",
   "metadata": {},
   "outputs": [
    {
     "name": "stdout",
     "output_type": "stream",
     "text": [
      "['I love cartoons!\\n', 'Duck Tales is my favorite cartoon.\\n', 'Do you like cartoons?\\n', 'Tell me your favorite cartoon character.'] <class 'list'>\n"
     ]
    }
   ],
   "source": [
    "print(lines,type(lines))"
   ]
  },
  {
   "cell_type": "code",
   "execution_count": 133,
   "id": "a889cd57-aeaf-44dc-9a6e-a2d124dfe846",
   "metadata": {},
   "outputs": [
    {
     "name": "stdout",
     "output_type": "stream",
     "text": [
      "4\n"
     ]
    }
   ],
   "source": [
    "print(len(lines))"
   ]
  },
  {
   "cell_type": "code",
   "execution_count": 135,
   "id": "58d5c13f-1472-404b-be9d-5256287336f5",
   "metadata": {},
   "outputs": [
    {
     "name": "stdout",
     "output_type": "stream",
     "text": [
      "4\n"
     ]
    }
   ],
   "source": [
    "with open('cartoon.txt','r') as f:\n",
    "    print(len(f.readlines()))"
   ]
  },
  {
   "cell_type": "code",
   "execution_count": 137,
   "id": "c4708c31-4a51-440b-8bb8-9a887da70e1e",
   "metadata": {},
   "outputs": [],
   "source": [
    "with open('cartoon.txt','r') as f:\n",
    "    content=f.read()"
   ]
  },
  {
   "cell_type": "code",
   "execution_count": 145,
   "id": "533cc4fe-0dbe-4cba-a745-32aa97510c1b",
   "metadata": {},
   "outputs": [
    {
     "name": "stdout",
     "output_type": "stream",
     "text": [
      "4\n"
     ]
    }
   ],
   "source": [
    "print(len(content.splitlines()))"
   ]
  },
  {
   "cell_type": "markdown",
   "id": "149c6146-e43b-4246-8eb8-f98d0822e3d2",
   "metadata": {},
   "source": [
    "### Read the content line by line"
   ]
  },
  {
   "cell_type": "code",
   "execution_count": 162,
   "id": "442e2c73-b3c3-4e5d-9465-d890e09ebc38",
   "metadata": {},
   "outputs": [
    {
     "name": "stdout",
     "output_type": "stream",
     "text": [
      "I love cartoons!\n",
      "Duck Tales is my favorite cartoon.\n",
      "Do you like cartoons?\n",
      "Tell me your favorite cartoon character."
     ]
    }
   ],
   "source": [
    "with open('cartoon.txt','r') as f:\n",
    "    for i in f.readlines():\n",
    "        print(i,end='')"
   ]
  },
  {
   "cell_type": "code",
   "execution_count": 156,
   "id": "0dc1d7e6-e292-4b26-ad61-c90a1410846b",
   "metadata": {},
   "outputs": [
    {
     "data": {
      "text/plain": [
       "['I love cartoons!\\n',\n",
       " 'Duck Tales is my favorite cartoon.\\n',\n",
       " 'Do you like cartoons?\\n',\n",
       " 'Tell me your favorite cartoon character.']"
      ]
     },
     "execution_count": 156,
     "metadata": {},
     "output_type": "execute_result"
    }
   ],
   "source": [
    "lines"
   ]
  },
  {
   "cell_type": "code",
   "execution_count": 178,
   "id": "4eb50587-361e-45b5-a836-bb177dc133f6",
   "metadata": {},
   "outputs": [
    {
     "name": "stdout",
     "output_type": "stream",
     "text": [
      "I love cartoons!\n",
      "\n",
      "Duck Tales is my favorite cartoon.\n",
      "\n",
      "Do you like cartoons?\n",
      "\n",
      "Tell me your favorite cartoon character.\n"
     ]
    }
   ],
   "source": [
    "with open('cartoon.txt','r') as f:\n",
    "    print(f.readline())\n",
    "    print(f.readline())\n",
    "    print(f.readline())\n",
    "    print(f.readline())"
   ]
  },
  {
   "cell_type": "code",
   "execution_count": 3,
   "id": "c5e56851-8b67-4d01-b917-e21a9bf23245",
   "metadata": {},
   "outputs": [
    {
     "name": "stdout",
     "output_type": "stream",
     "text": [
      "I love cartoons!\n",
      "Duck Tales is my favorite cartoon.\n",
      "Do you like cartoons?\n",
      "Tell me your favorite cartoon character."
     ]
    }
   ],
   "source": [
    "with open('cartoon.txt','r') as f:\n",
    "    while True:\n",
    "        x=f.readline()\n",
    "        if x=='':\n",
    "            break\n",
    "        else:\n",
    "            print(x,end='')"
   ]
  },
  {
   "cell_type": "code",
   "execution_count": 1,
   "id": "739337f0-7f12-41c4-a4c4-67aa15362e09",
   "metadata": {},
   "outputs": [
    {
     "name": "stdout",
     "output_type": "stream",
     "text": [
      "Duck Tales is my favorite cartoon.\n",
      "Tell me your favorite cartoon character."
     ]
    }
   ],
   "source": [
    "with open('cartoon.txt','r') as f:\n",
    "    while True:\n",
    "        if f.readline()=='':\n",
    "            break\n",
    "        else:\n",
    "            print(f.readline(),end='')"
   ]
  },
  {
   "cell_type": "markdown",
   "id": "e0fbbf8d-fd1e-409e-971c-f54ebd052c9b",
   "metadata": {},
   "source": [
    "### Count the numebr of words"
   ]
  },
  {
   "cell_type": "code",
   "execution_count": 6,
   "id": "f036d194-8de7-477f-b1c9-4e24d1a3787b",
   "metadata": {},
   "outputs": [],
   "source": [
    "with open('cartoon.txt','r') as f:\n",
    "    content=f.read()"
   ]
  },
  {
   "cell_type": "code",
   "execution_count": 14,
   "id": "d47e15ea-0691-4672-a970-44beffd7c98b",
   "metadata": {},
   "outputs": [],
   "source": [
    "words=content.split()"
   ]
  },
  {
   "cell_type": "code",
   "execution_count": 16,
   "id": "afb323b0-1628-455f-bf25-ebc78249ba85",
   "metadata": {},
   "outputs": [
    {
     "name": "stdout",
     "output_type": "stream",
     "text": [
      "['I', 'love', 'cartoons!', 'Duck', 'Tales', 'is', 'my', 'favorite', 'cartoon.', 'Do', 'you', 'like', 'cartoons?', 'Tell', 'me', 'your', 'favorite', 'cartoon', 'character.'] <class 'list'>\n"
     ]
    }
   ],
   "source": [
    "print(words,type(words))"
   ]
  },
  {
   "cell_type": "code",
   "execution_count": 18,
   "id": "575866e7-051f-43aa-b631-c61f8a2f910a",
   "metadata": {},
   "outputs": [
    {
     "name": "stdout",
     "output_type": "stream",
     "text": [
      "19\n"
     ]
    }
   ],
   "source": [
    "print(len(words))"
   ]
  },
  {
   "cell_type": "code",
   "execution_count": 20,
   "id": "cd95c179-6391-4f20-a09b-4bd4a21d2e85",
   "metadata": {},
   "outputs": [
    {
     "name": "stdout",
     "output_type": "stream",
     "text": [
      "19\n"
     ]
    }
   ],
   "source": [
    "with open('cartoon.txt','r') as f:\n",
    "    print(len(f.read().split()))"
   ]
  },
  {
   "cell_type": "code",
   "execution_count": 28,
   "id": "02db5ef7-f582-44f4-a592-648a4a37fa41",
   "metadata": {},
   "outputs": [
    {
     "data": {
      "text/plain": [
       "0"
      ]
     },
     "execution_count": 28,
     "metadata": {},
     "output_type": "execute_result"
    }
   ],
   "source": [
    "words.count('cartoon?')"
   ]
  },
  {
   "cell_type": "code",
   "execution_count": 44,
   "id": "a9063be8-d29e-47e9-85b3-34e25313e619",
   "metadata": {},
   "outputs": [],
   "source": [
    "with open('log.txt','r') as f:\n",
    "    words=f.read().split()"
   ]
  },
  {
   "cell_type": "code",
   "execution_count": 46,
   "id": "bffab988-0579-4451-9cc0-a4869f0c2082",
   "metadata": {},
   "outputs": [
    {
     "name": "stdout",
     "output_type": "stream",
     "text": [
      "['We', 'are', 'learning', 'Java', 'Java', 'is', 'a', 'high', 'level', 'langauge.', 'Have', 'you', 'learned', 'Java', 'before?', 'Is', 'Java', 'difficult', 'to', 'learn?']\n"
     ]
    }
   ],
   "source": [
    "print(words)"
   ]
  },
  {
   "cell_type": "code",
   "execution_count": 48,
   "id": "91ffbacd-ad5e-4aea-b91b-cf76301efcdd",
   "metadata": {},
   "outputs": [
    {
     "data": {
      "text/plain": [
       "4"
      ]
     },
     "execution_count": 48,
     "metadata": {},
     "output_type": "execute_result"
    }
   ],
   "source": [
    "words.count('Java')"
   ]
  },
  {
   "cell_type": "code",
   "execution_count": 50,
   "id": "be93df05-9b0b-4dd6-9612-b1670fd3d1a9",
   "metadata": {},
   "outputs": [
    {
     "name": "stdout",
     "output_type": "stream",
     "text": [
      "4\n"
     ]
    }
   ],
   "source": [
    "with open('log.txt','r') as f:\n",
    "    c=0\n",
    "    for i in f.read().split():\n",
    "        if i in ['Java','Java.','Java?']:\n",
    "            c+=1\n",
    "    print(c)"
   ]
  },
  {
   "cell_type": "code",
   "execution_count": 52,
   "id": "7c9a49a2-ef7c-4309-af93-3b116174b437",
   "metadata": {},
   "outputs": [],
   "source": [
    "# Replace Java by Python in log.txt"
   ]
  },
  {
   "cell_type": "code",
   "execution_count": 58,
   "id": "9b9cc8e2-2a79-426d-ad57-111c26d0cf21",
   "metadata": {},
   "outputs": [
    {
     "name": "stdout",
     "output_type": "stream",
     "text": [
      "We are learning Python.\n",
      "Python is a high level langauge.\n",
      "Have you learned Python before?\n",
      "Is Python difficult to learn?\n",
      "We are learning Python.\n",
      "Python is a high level langauge.\n",
      "Have you learned Python before?\n",
      "Is Python difficult to learn?\n"
     ]
    }
   ],
   "source": [
    "with open('log.txt','r+') as f:\n",
    "    content=f.read()\n",
    "    new_content=content.replace('Java','Python')\n",
    "    print(new_content)\n",
    "    f.seek(0)\n",
    "    f.write(new_content)\n",
    "    f.seek(0)\n",
    "    print(f.read())"
   ]
  },
  {
   "cell_type": "code",
   "execution_count": 60,
   "id": "7ea7e4c2-23b6-4e48-896c-0f766197adb1",
   "metadata": {},
   "outputs": [],
   "source": [
    "# Insert a line in a text file"
   ]
  },
  {
   "cell_type": "code",
   "execution_count": 62,
   "id": "18ad6e77-5302-401c-849f-9da21ef7df84",
   "metadata": {},
   "outputs": [],
   "source": [
    "# 'I also like Scooby Doo'- It should be the third line in the file."
   ]
  },
  {
   "cell_type": "code",
   "execution_count": 68,
   "id": "7895e311-1c97-4a3a-8c40-792504b2c8ae",
   "metadata": {},
   "outputs": [
    {
     "name": "stdout",
     "output_type": "stream",
     "text": [
      "['I love cartoons!\\n', 'Duck Tales is my favorite cartoon.\\n', 'Do you like cartoons?\\n', 'Tell me your favorite cartoon character.']\n",
      "['I love cartoons!\\n', 'Duck Tales is my favorite cartoon.\\n', 'I also like Scooby Doo\\n', 'Do you like cartoons?\\n', 'Tell me your favorite cartoon character.']\n",
      "I love cartoons!\n",
      "Duck Tales is my favorite cartoon.\n",
      "I also like Scooby Doo\n",
      "Do you like cartoons?\n",
      "Tell me your favorite cartoon character.\n"
     ]
    }
   ],
   "source": [
    "with open('cartoon.txt','r+') as f:\n",
    "    lines=f.readlines()\n",
    "    print(lines)\n",
    "    lines.insert(2,'I also like Scooby Doo\\n')\n",
    "    print(lines)\n",
    "    f.seek(0)\n",
    "    f.writelines(lines)\n",
    "    f.seek(0)\n",
    "    print(f.read())"
   ]
  },
  {
   "cell_type": "markdown",
   "id": "0816ef37-cb9a-4d37-8b69-f9f13584afff",
   "metadata": {},
   "source": [
    "### writing to a file"
   ]
  },
  {
   "cell_type": "code",
   "execution_count": 77,
   "id": "22ce3c26-79d4-43c7-8670-b5e85b0d786b",
   "metadata": {},
   "outputs": [
    {
     "name": "stdout",
     "output_type": "stream",
     "text": [
      "This is line-1\n",
      "This is line-2\n",
      "This is line-3\n",
      "This is a new line\n"
     ]
    }
   ],
   "source": [
    "with open('intro.txt','w+') as f:\n",
    "    f.write('This is line-1\\n')\n",
    "    f.write('This is line-2\\n')\n",
    "    f.write('This is line-3\\n')\n",
    "    f.write('This is a new line')\n",
    "    f.seek(0)\n",
    "    print(f.read())"
   ]
  },
  {
   "cell_type": "code",
   "execution_count": 81,
   "id": "3a0edb54-d428-473c-928f-08db9cffe7a9",
   "metadata": {},
   "outputs": [
    {
     "name": "stdout",
     "output_type": "stream",
     "text": [
      "This is line-1\n",
      "This is line-2\n",
      "This is line-3\n",
      "This is line-4\n"
     ]
    }
   ],
   "source": [
    "with open('intro.txt','w+') as f:\n",
    "    f.write('This is line-1\\nThis is line-2\\nThis is line-3\\nThis is line-4')\n",
    "    f.seek(0)\n",
    "    print(f.read())"
   ]
  },
  {
   "cell_type": "code",
   "execution_count": 83,
   "id": "c3158466-e39e-4bd3-b5f3-ef9f44e6b3bd",
   "metadata": {},
   "outputs": [],
   "source": [
    "lst=['I love cartoons!', 'Duck Tales is my favorite cartoon.', 'Do you like cartoons?']"
   ]
  },
  {
   "cell_type": "code",
   "execution_count": 85,
   "id": "ea8296ac-c623-4d22-bcc7-80f9923997fb",
   "metadata": {},
   "outputs": [
    {
     "name": "stdout",
     "output_type": "stream",
     "text": [
      "I love cartoons!Duck Tales is my favorite cartoon.Do you like cartoons?\n"
     ]
    }
   ],
   "source": [
    "with open('cartoon.txt','w+') as f:\n",
    "    f.writelines(lst)\n",
    "    f.seek(0)\n",
    "    print(f.read())"
   ]
  },
  {
   "cell_type": "code",
   "execution_count": 95,
   "id": "e0099474-e9ee-4c8d-a564-6452269fc41c",
   "metadata": {},
   "outputs": [
    {
     "name": "stdout",
     "output_type": "stream",
     "text": [
      "I love cartoons!\n",
      "Duck Tales is my favorite cartoon.\n",
      "Do you like cartoons?\n",
      "\n"
     ]
    }
   ],
   "source": [
    "with open('cartoon.txt','w+') as f:\n",
    "    for i in lst:\n",
    "        f.write(i+'\\n')\n",
    "    f.seek(0)\n",
    "    print(f.read())"
   ]
  },
  {
   "cell_type": "code",
   "execution_count": 97,
   "id": "0e4384df-197a-45b9-abeb-8c23296e2a51",
   "metadata": {},
   "outputs": [],
   "source": [
    "content='''Hello everyone!\n",
    "We are learning Python\n",
    "I hope your learning is going smooth and well.\n",
    "All the best for your future endeavours.\n",
    "Great Day!'''"
   ]
  },
  {
   "cell_type": "code",
   "execution_count": 99,
   "id": "a03666b5-5b25-4f39-a838-9cb472ff00e7",
   "metadata": {},
   "outputs": [
    {
     "name": "stdout",
     "output_type": "stream",
     "text": [
      "Hello everyone!\n",
      "We are learning Python\n",
      "I hope your learning is going smooth and well.\n",
      "All the best for your future endeavours.\n",
      "Great Day!\n"
     ]
    }
   ],
   "source": [
    "with open('intro.txt','w+') as f:\n",
    "    f.write(content)\n",
    "    f.seek(0)\n",
    "    print(f.read())"
   ]
  },
  {
   "cell_type": "code",
   "execution_count": 101,
   "id": "3f6ce4e4-73df-4fce-8f73-17bd41e6cce0",
   "metadata": {},
   "outputs": [],
   "source": [
    "# Create a Python file add.py that adds two numbers."
   ]
  },
  {
   "cell_type": "code",
   "execution_count": 113,
   "id": "2f843ec0-a7ce-4a5f-a2db-7536d0d44ad8",
   "metadata": {},
   "outputs": [],
   "source": [
    "code=\"\"\"a=int(input(\"Enter a number- \"))\n",
    "b=int(input(\"Enter a number again- \"))\n",
    "c=a+b\n",
    "print(c)\"\"\""
   ]
  },
  {
   "cell_type": "code",
   "execution_count": 115,
   "id": "000d655e-486f-4948-ab85-2d9eb7c37a21",
   "metadata": {},
   "outputs": [
    {
     "name": "stdout",
     "output_type": "stream",
     "text": [
      "a=int(input(\"Enter a number- \"))\n",
      "b=int(input(\"Enter a number again- \"))\n",
      "c=a+b\n",
      "print(c)\n"
     ]
    }
   ],
   "source": [
    "with open('add.py','w+') as f:\n",
    "    f.write(code)\n",
    "    f.seek(0)\n",
    "    print(f.read())"
   ]
  },
  {
   "cell_type": "code",
   "execution_count": 117,
   "id": "0f0b4d22-ddf1-4667-83db-857ae8a46259",
   "metadata": {},
   "outputs": [
    {
     "name": "stdin",
     "output_type": "stream",
     "text": [
      "Enter a number-  5\n",
      "Enter a number again-  3\n"
     ]
    },
    {
     "name": "stdout",
     "output_type": "stream",
     "text": [
      "8\n"
     ]
    }
   ],
   "source": [
    "%run add.py"
   ]
  },
  {
   "cell_type": "code",
   "execution_count": 121,
   "id": "8605cc07-a9bb-47fb-a183-a57de949427f",
   "metadata": {},
   "outputs": [],
   "source": [
    "code=\"\"\"name=input('Enter your name- ')\n",
    "for i in range(5):\n",
    "    print(name)\"\"\""
   ]
  },
  {
   "cell_type": "code",
   "execution_count": 123,
   "id": "9337dc2e-cdeb-4e3d-8b5b-5edfe762141e",
   "metadata": {},
   "outputs": [
    {
     "name": "stdout",
     "output_type": "stream",
     "text": [
      "name=input('Enter your name- ')\n",
      "for i in range(5):\n",
      "    print(name)\n"
     ]
    }
   ],
   "source": [
    "with open('your_name.py','w+') as f:\n",
    "    f.write(code)\n",
    "    f.seek(0)\n",
    "    print(f.read())"
   ]
  },
  {
   "cell_type": "code",
   "execution_count": 125,
   "id": "bbc433a8-a035-434d-83c2-2364f757f81c",
   "metadata": {},
   "outputs": [
    {
     "name": "stdin",
     "output_type": "stream",
     "text": [
      "Enter your name-  Jayanth\n"
     ]
    },
    {
     "name": "stdout",
     "output_type": "stream",
     "text": [
      "Jayanth\n",
      "Jayanth\n",
      "Jayanth\n",
      "Jayanth\n",
      "Jayanth\n"
     ]
    }
   ],
   "source": [
    "%run your_name.py"
   ]
  },
  {
   "cell_type": "code",
   "execution_count": 127,
   "id": "f60ce63e-1959-4011-b5b3-66fafdc87a4c",
   "metadata": {},
   "outputs": [],
   "source": [
    "# Create a csv file using file handling"
   ]
  },
  {
   "cell_type": "code",
   "execution_count": 131,
   "id": "c61ae331-ffc3-49b5-a067-b97ce8c0e767",
   "metadata": {},
   "outputs": [],
   "source": [
    "data=\"\"\"name,age,salary,city\n",
    "Rahul,24,55000,Pune\n",
    "Yogesh,26,66000,Mumbai\n",
    "Nidhi,25,54000,Bangalore\n",
    "Deepak,22,84000,Delhi\"\"\""
   ]
  },
  {
   "cell_type": "code",
   "execution_count": 133,
   "id": "795ae5e3-c7e4-4262-98b8-0415aff94fd4",
   "metadata": {},
   "outputs": [
    {
     "name": "stdout",
     "output_type": "stream",
     "text": [
      "name,age,salary,city\n",
      "Rahul,24,55000,Pune\n",
      "Yogesh,26,66000,Mumbai\n",
      "Nidhi,25,54000,Bangalore\n",
      "Deepak,22,84000,Delhi\n"
     ]
    }
   ],
   "source": [
    "with open('emp.csv','w+') as f:\n",
    "    f.write(data)\n",
    "    f.seek(0)\n",
    "    print(f.read())"
   ]
  },
  {
   "cell_type": "markdown",
   "id": "d9d14410-d13d-4441-a769-053c439663c4",
   "metadata": {},
   "source": [
    "# Binary Files"
   ]
  },
  {
   "cell_type": "code",
   "execution_count": 136,
   "id": "201bde83-fe78-4993-91d0-6e6c97154d8e",
   "metadata": {},
   "outputs": [],
   "source": [
    "# - If it is not a text file then it is a binary file in Python.\n",
    "# - Examples of Binary files- Image files, audio files, video files, .bin, .dat etc. files"
   ]
  },
  {
   "cell_type": "code",
   "execution_count": 151,
   "id": "d788865b-08c1-4925-bd75-e1d2bda13341",
   "metadata": {},
   "outputs": [],
   "source": [
    "# - In Python the binary files store the data in bytes or similiar to bytes format.\n",
    "# - bytes is a data type in Python.\n",
    "# - Any data that we want to store in a Python file has to be in bytes format only.\n",
    "# - Any data has to be converted to bytes or similar type to store in a binary file."
   ]
  },
  {
   "cell_type": "markdown",
   "id": "a1687566-f462-41bc-bcd7-0526b1a646fa",
   "metadata": {},
   "source": [
    "# Modes on binary files"
   ]
  },
  {
   "cell_type": "code",
   "execution_count": 143,
   "id": "89499df7-b6b5-4973-969b-6e94a90fe6a2",
   "metadata": {},
   "outputs": [],
   "source": [
    "# read mode - 'rb'\n",
    "# write mode - 'wb'\n",
    "# append mode - 'ab'\n",
    "# read and write mode - 'rb+'\n",
    "# write and read mode - 'wb+'\n",
    "# append and read mode - 'ab+'"
   ]
  },
  {
   "cell_type": "code",
   "execution_count": 145,
   "id": "c712afb5-a497-47ed-9be8-97ab62b6ea10",
   "metadata": {},
   "outputs": [],
   "source": [
    "lst=[10,20,30,40,50]"
   ]
  },
  {
   "cell_type": "code",
   "execution_count": 147,
   "id": "c90306f3-dbe3-48ce-9dd7-7a120ecc086d",
   "metadata": {},
   "outputs": [],
   "source": [
    "# Store the above file in a binary file lst.dat"
   ]
  },
  {
   "cell_type": "code",
   "execution_count": 149,
   "id": "59a68ff8-963a-4a81-b389-28d2a033da72",
   "metadata": {},
   "outputs": [
    {
     "ename": "TypeError",
     "evalue": "a bytes-like object is required, not 'list'",
     "output_type": "error",
     "traceback": [
      "\u001b[1;31m---------------------------------------------------------------------------\u001b[0m",
      "\u001b[1;31mTypeError\u001b[0m                                 Traceback (most recent call last)",
      "Cell \u001b[1;32mIn[149], line 2\u001b[0m\n\u001b[0;32m      1\u001b[0m \u001b[38;5;28;01mwith\u001b[39;00m \u001b[38;5;28mopen\u001b[39m(\u001b[38;5;124m'\u001b[39m\u001b[38;5;124mlst.dat\u001b[39m\u001b[38;5;124m'\u001b[39m,\u001b[38;5;124m'\u001b[39m\u001b[38;5;124mwb+\u001b[39m\u001b[38;5;124m'\u001b[39m) \u001b[38;5;28;01mas\u001b[39;00m f:\n\u001b[1;32m----> 2\u001b[0m     f\u001b[38;5;241m.\u001b[39mwrite(lst)\n",
      "\u001b[1;31mTypeError\u001b[0m: a bytes-like object is required, not 'list'"
     ]
    }
   ],
   "source": [
    "with open('lst.dat','wb+') as f:\n",
    "    f.write(lst)"
   ]
  },
  {
   "cell_type": "markdown",
   "id": "bd87e6a1-792b-481d-87f2-b8063605d28f",
   "metadata": {},
   "source": [
    "# bytes() and bytearray()"
   ]
  },
  {
   "cell_type": "markdown",
   "id": "0f07196f-72e4-4519-ab9f-d1c988768c8c",
   "metadata": {},
   "source": [
    "# bytes()"
   ]
  },
  {
   "cell_type": "code",
   "execution_count": 156,
   "id": "81fe46dd-0765-4304-841f-1929b1eca6b4",
   "metadata": {},
   "outputs": [],
   "source": [
    "# - It takes an int value or an iterable of int as arguments.\n",
    "# - It converts the int values into bytes and returns a bytes object.\n",
    "# - It can only convert the numbers 0 to 256 to bytes.\n",
    "# - It is immutable."
   ]
  },
  {
   "cell_type": "markdown",
   "id": "d6c24c3d-4c41-4270-aa19-0d3ad1217ed4",
   "metadata": {},
   "source": [
    "# byterray()"
   ]
  },
  {
   "cell_type": "code",
   "execution_count": 159,
   "id": "ba63977d-ba78-4068-a6b8-c6d79c4f2ab9",
   "metadata": {},
   "outputs": [],
   "source": [
    "# - It takes an int value or an iterable of int as arguments.\n",
    "# - It converts the int values into bytes and returns a bytearray object.\n",
    "# - It can only convert the numbers 0 to 256 to bytes.\n",
    "# - It is mutable."
   ]
  },
  {
   "cell_type": "code",
   "execution_count": 163,
   "id": "0b68c5ac-06ec-4649-b6c9-b494d55c2d43",
   "metadata": {},
   "outputs": [],
   "source": [
    "lst=[10,20,30,40,50]"
   ]
  },
  {
   "cell_type": "code",
   "execution_count": 167,
   "id": "2fb233e7-2ee7-44d9-b628-83926e22e5d6",
   "metadata": {},
   "outputs": [
    {
     "name": "stdout",
     "output_type": "stream",
     "text": [
      "b'\\n\\x14\\x1e(2' <class 'bytes'>\n"
     ]
    }
   ],
   "source": [
    "b=bytes(lst)\n",
    "print(b,type(b))"
   ]
  },
  {
   "cell_type": "code",
   "execution_count": 173,
   "id": "bda9532c-6cff-4f2e-a815-18ea83b2314e",
   "metadata": {},
   "outputs": [],
   "source": [
    "# bytes(2)"
   ]
  },
  {
   "cell_type": "code",
   "execution_count": 181,
   "id": "4062c8d3-e650-482b-8901-c3728b66490a",
   "metadata": {},
   "outputs": [
    {
     "ename": "TypeError",
     "evalue": "'bytes' object does not support item assignment",
     "output_type": "error",
     "traceback": [
      "\u001b[1;31m---------------------------------------------------------------------------\u001b[0m",
      "\u001b[1;31mTypeError\u001b[0m                                 Traceback (most recent call last)",
      "Cell \u001b[1;32mIn[181], line 1\u001b[0m\n\u001b[1;32m----> 1\u001b[0m b[\u001b[38;5;241m2\u001b[39m]\u001b[38;5;241m=\u001b[39m\u001b[38;5;241m25\u001b[39m\n",
      "\u001b[1;31mTypeError\u001b[0m: 'bytes' object does not support item assignment"
     ]
    }
   ],
   "source": [
    "b[2]=25"
   ]
  },
  {
   "cell_type": "code",
   "execution_count": 187,
   "id": "5821f6e9-7bea-4556-9ef0-8e3adb11de12",
   "metadata": {},
   "outputs": [
    {
     "name": "stdout",
     "output_type": "stream",
     "text": [
      "bytearray(b'\\n\\x14\\x1e(2') <class 'bytearray'>\n"
     ]
    }
   ],
   "source": [
    "b=bytearray(lst)\n",
    "print(b,type(b))"
   ]
  },
  {
   "cell_type": "code",
   "execution_count": 195,
   "id": "0678a9c4-3fd8-4287-9ac2-32603a98356a",
   "metadata": {},
   "outputs": [],
   "source": [
    "b[2]=25"
   ]
  },
  {
   "cell_type": "code",
   "execution_count": 197,
   "id": "7f0e62f5-43f2-4889-9053-c7f400cef493",
   "metadata": {},
   "outputs": [
    {
     "data": {
      "text/plain": [
       "bytearray(b'\\n\\x14\\x19(2')"
      ]
     },
     "execution_count": 197,
     "metadata": {},
     "output_type": "execute_result"
    }
   ],
   "source": [
    "b"
   ]
  },
  {
   "cell_type": "code",
   "execution_count": 199,
   "id": "09465607-382f-451c-8906-4eaa739d6137",
   "metadata": {},
   "outputs": [
    {
     "data": {
      "text/plain": [
       "[10, 20, 25, 40, 50]"
      ]
     },
     "execution_count": 199,
     "metadata": {},
     "output_type": "execute_result"
    }
   ],
   "source": [
    "list(b)"
   ]
  },
  {
   "cell_type": "code",
   "execution_count": 201,
   "id": "9c86931b-ac72-45db-b87d-57e801639952",
   "metadata": {},
   "outputs": [
    {
     "data": {
      "text/plain": [
       "bytearray(b'\\n\\x14\\x19(2')"
      ]
     },
     "execution_count": 201,
     "metadata": {},
     "output_type": "execute_result"
    }
   ],
   "source": [
    "b"
   ]
  },
  {
   "cell_type": "code",
   "execution_count": 203,
   "id": "711e5f1a-69b2-4245-b4c9-d8b454d677b4",
   "metadata": {},
   "outputs": [
    {
     "name": "stdout",
     "output_type": "stream",
     "text": [
      "b'\\n\\x14\\x19(2'\n"
     ]
    }
   ],
   "source": [
    "with open('lst.dat','wb+') as f:\n",
    "    f.write(b)\n",
    "    f.seek(0)\n",
    "    print(f.read())"
   ]
  },
  {
   "cell_type": "code",
   "execution_count": 209,
   "id": "b12707b4-cd58-4fec-ae12-4601d7dd09fe",
   "metadata": {},
   "outputs": [],
   "source": [
    "with open('lst.dat','rb') as f:\n",
    "    data=f.read()"
   ]
  },
  {
   "cell_type": "code",
   "execution_count": 211,
   "id": "d67ae559-ab33-43d7-b4a3-34d05f95ddf8",
   "metadata": {},
   "outputs": [
    {
     "name": "stdout",
     "output_type": "stream",
     "text": [
      "b'\\n\\x14\\x19(2'\n"
     ]
    }
   ],
   "source": [
    "print(data)"
   ]
  },
  {
   "cell_type": "code",
   "execution_count": 213,
   "id": "0bceae43-c8c4-49f9-939d-6d7cb996b10f",
   "metadata": {},
   "outputs": [
    {
     "data": {
      "text/plain": [
       "[10, 20, 25, 40, 50]"
      ]
     },
     "execution_count": 213,
     "metadata": {},
     "output_type": "execute_result"
    }
   ],
   "source": [
    "list(data)"
   ]
  },
  {
   "cell_type": "code",
   "execution_count": 215,
   "id": "2325ccd3-b34f-4a17-91c1-1fc7d9ef62d7",
   "metadata": {},
   "outputs": [],
   "source": [
    "lst=[1000,2000,3000,4000]"
   ]
  },
  {
   "cell_type": "code",
   "execution_count": 217,
   "id": "58d26424-3808-41e0-8444-42d6dacc2d8d",
   "metadata": {},
   "outputs": [
    {
     "ename": "ValueError",
     "evalue": "bytes must be in range(0, 256)",
     "output_type": "error",
     "traceback": [
      "\u001b[1;31m---------------------------------------------------------------------------\u001b[0m",
      "\u001b[1;31mValueError\u001b[0m                                Traceback (most recent call last)",
      "Cell \u001b[1;32mIn[217], line 1\u001b[0m\n\u001b[1;32m----> 1\u001b[0m \u001b[38;5;28mbytes\u001b[39m(lst)\n",
      "\u001b[1;31mValueError\u001b[0m: bytes must be in range(0, 256)"
     ]
    }
   ],
   "source": [
    "bytes(lst)"
   ]
  },
  {
   "cell_type": "code",
   "execution_count": 221,
   "id": "c9bae0a6-a931-4ba9-922f-a4ef3416039f",
   "metadata": {},
   "outputs": [
    {
     "ename": "ValueError",
     "evalue": "byte must be in range(0, 256)",
     "output_type": "error",
     "traceback": [
      "\u001b[1;31m---------------------------------------------------------------------------\u001b[0m",
      "\u001b[1;31mValueError\u001b[0m                                Traceback (most recent call last)",
      "Cell \u001b[1;32mIn[221], line 1\u001b[0m\n\u001b[1;32m----> 1\u001b[0m \u001b[38;5;28mbytearray\u001b[39m(lst)\n",
      "\u001b[1;31mValueError\u001b[0m: byte must be in range(0, 256)"
     ]
    }
   ],
   "source": [
    "bytearray(lst)"
   ]
  },
  {
   "cell_type": "code",
   "execution_count": 231,
   "id": "c8c2a5a5-d372-4ffb-94af-62fd1f65816a",
   "metadata": {},
   "outputs": [
    {
     "ename": "TypeError",
     "evalue": "'str' object cannot be interpreted as an integer",
     "output_type": "error",
     "traceback": [
      "\u001b[1;31m---------------------------------------------------------------------------\u001b[0m",
      "\u001b[1;31mTypeError\u001b[0m                                 Traceback (most recent call last)",
      "Cell \u001b[1;32mIn[231], line 1\u001b[0m\n\u001b[1;32m----> 1\u001b[0m \u001b[38;5;28mbytes\u001b[39m({\u001b[38;5;124m'\u001b[39m\u001b[38;5;124mAge\u001b[39m\u001b[38;5;124m'\u001b[39m:\u001b[38;5;241m10\u001b[39m})\n",
      "\u001b[1;31mTypeError\u001b[0m: 'str' object cannot be interpreted as an integer"
     ]
    }
   ],
   "source": [
    "bytes({'Age':10})"
   ]
  },
  {
   "cell_type": "code",
   "execution_count": 233,
   "id": "591ed6f8-b2d7-4c26-89a8-f61a6aa46f33",
   "metadata": {},
   "outputs": [],
   "source": [
    "# To overcome the problems of bytes() and bytearray() we use pickling "
   ]
  },
  {
   "cell_type": "markdown",
   "id": "d47f31f7-40ed-46ec-bc38-7e9b5f81a40c",
   "metadata": {},
   "source": [
    "# Pickling and Unpickling"
   ]
  },
  {
   "cell_type": "markdown",
   "id": "5a85099c-66ce-418f-95a2-98d40aff92c1",
   "metadata": {},
   "source": [
    "# Pickling"
   ]
  },
  {
   "cell_type": "code",
   "execution_count": 237,
   "id": "010acdea-1ce0-41fb-a53c-29ba4b6041ed",
   "metadata": {},
   "outputs": [],
   "source": [
    "# - It is also known as serialization.\n",
    "# - It is a process in which any kind of data is converted into bytes object and stored in a binary file."
   ]
  },
  {
   "cell_type": "markdown",
   "id": "a7fa051c-7804-453e-8c10-e4f5da497785",
   "metadata": {},
   "source": [
    "# Unpickling"
   ]
  },
  {
   "cell_type": "code",
   "execution_count": 240,
   "id": "8d2a8d78-d9ce-4bc3-85e8-0264bec30853",
   "metadata": {},
   "outputs": [],
   "source": [
    "# - It is also known as deserialization.\n",
    "# - It is opposite to pickling.\n",
    "# - It is a process in which the data is extracted from a bimary file and converted into its actual form."
   ]
  },
  {
   "cell_type": "code",
   "execution_count": 246,
   "id": "5f139260-1664-46e6-82c1-842556431f70",
   "metadata": {},
   "outputs": [],
   "source": [
    "# In Python pickle module is used for pickling and unpickling."
   ]
  },
  {
   "cell_type": "code",
   "execution_count": 244,
   "id": "defc73c1-6c8a-4331-99a4-19b14aa57319",
   "metadata": {},
   "outputs": [],
   "source": [
    "lst=[True, \"Python\", 5+5j, 8.222222, 55000, None, {1:100,2:200}]"
   ]
  },
  {
   "cell_type": "code",
   "execution_count": 248,
   "id": "c54346e4-0c84-42b9-b94b-ab577eb5d8da",
   "metadata": {},
   "outputs": [],
   "source": [
    "import pickle"
   ]
  },
  {
   "cell_type": "markdown",
   "id": "f9c11c90-84ee-403a-92a6-fc656093a5b9",
   "metadata": {},
   "source": [
    "# dump()"
   ]
  },
  {
   "cell_type": "code",
   "execution_count": 251,
   "id": "43c123ec-e19e-41e4-afd8-cebdce29ab06",
   "metadata": {},
   "outputs": [],
   "source": [
    "# - It is used for pickling."
   ]
  },
  {
   "cell_type": "code",
   "execution_count": 253,
   "id": "10103e2b-4454-461d-8963-614a4eb6db01",
   "metadata": {},
   "outputs": [],
   "source": [
    "# pickle.dump(data,file_object)"
   ]
  },
  {
   "cell_type": "markdown",
   "id": "22a0072c-89fd-4e02-9e2d-36512fae884c",
   "metadata": {},
   "source": [
    "# load()"
   ]
  },
  {
   "cell_type": "code",
   "execution_count": 256,
   "id": "4e66b3dc-7879-4367-bd62-3885932b8c09",
   "metadata": {},
   "outputs": [],
   "source": [
    "# - It is used for unpickling."
   ]
  },
  {
   "cell_type": "code",
   "execution_count": 258,
   "id": "e751e163-292f-4122-9195-a9e3df0530ba",
   "metadata": {},
   "outputs": [],
   "source": [
    "# pickle.load(file_object)"
   ]
  },
  {
   "cell_type": "code",
   "execution_count": 260,
   "id": "68dab0a0-ad46-4176-bcac-c71e4e9b5294",
   "metadata": {},
   "outputs": [],
   "source": [
    "lst=[True, \"Python\", 5+5j, 8.222222, 55000, None, {1:100,2:200}]"
   ]
  },
  {
   "cell_type": "code",
   "execution_count": 268,
   "id": "1771c8bc-e35d-4bdf-8174-c3d0df698e01",
   "metadata": {},
   "outputs": [],
   "source": [
    "# bytes(lst)"
   ]
  },
  {
   "cell_type": "code",
   "execution_count": 270,
   "id": "003e5726-7622-45e8-99a6-73a8439325c5",
   "metadata": {},
   "outputs": [],
   "source": [
    "# bytearray(lst)"
   ]
  },
  {
   "cell_type": "code",
   "execution_count": 272,
   "id": "87d327c2-4043-4b6f-9781-9a78631d3ffd",
   "metadata": {},
   "outputs": [],
   "source": [
    "with open('lst.dat','wb+') as f:\n",
    "    pickle.dump(lst,f)"
   ]
  },
  {
   "cell_type": "code",
   "execution_count": 274,
   "id": "49bbb2b1-302f-47e8-9a87-5bdad72e1da4",
   "metadata": {},
   "outputs": [
    {
     "name": "stdout",
     "output_type": "stream",
     "text": [
      "b'\\x80\\x04\\x95U\\x00\\x00\\x00\\x00\\x00\\x00\\x00]\\x94(\\x88\\x8c\\x06Python\\x94\\x8c\\x08builtins\\x94\\x8c\\x07complex\\x94\\x93\\x94G@\\x14\\x00\\x00\\x00\\x00\\x00\\x00G@\\x14\\x00\\x00\\x00\\x00\\x00\\x00\\x86\\x94R\\x94G@ q\\xc7\\x14\\xfc\\xe7GM\\xd8\\xd6N}\\x94(K\\x01KdK\\x02K\\xc8ue.'\n"
     ]
    }
   ],
   "source": [
    "with open('lst.dat','rb') as f:\n",
    "    print(f.read())"
   ]
  },
  {
   "cell_type": "code",
   "execution_count": 276,
   "id": "85cf428e-b4b3-4b21-83ed-d30994b76560",
   "metadata": {},
   "outputs": [
    {
     "name": "stdout",
     "output_type": "stream",
     "text": [
      "[True, 'Python', (5+5j), 8.222222, 55000, None, {1: 100, 2: 200}]\n"
     ]
    }
   ],
   "source": [
    "with open('lst.dat','rb') as f:\n",
    "    print(pickle.load(f))"
   ]
  },
  {
   "cell_type": "code",
   "execution_count": 278,
   "id": "c5f39de3-dc1c-4f36-95d4-2d475ac16ffe",
   "metadata": {},
   "outputs": [],
   "source": [
    "details={'Name':'Ammit','Age':22,'Salary':78000,'City':'Noida','Height':5.11,'Weight':'78 Kg'}"
   ]
  },
  {
   "cell_type": "code",
   "execution_count": 280,
   "id": "4abab8c4-74a7-41cb-a2cd-d0c4fe894d4d",
   "metadata": {},
   "outputs": [],
   "source": [
    "with open('record.dat','wb+') as f:\n",
    "    pickle.dump(details,f)"
   ]
  },
  {
   "cell_type": "code",
   "execution_count": 282,
   "id": "18f7975e-e3c4-43b8-a0ce-3ff3b06c316d",
   "metadata": {},
   "outputs": [
    {
     "name": "stdout",
     "output_type": "stream",
     "text": [
      "b'\\x80\\x04\\x95\\\\\\x00\\x00\\x00\\x00\\x00\\x00\\x00}\\x94(\\x8c\\x04Name\\x94\\x8c\\x05Ammit\\x94\\x8c\\x03Age\\x94K\\x16\\x8c\\x06Salary\\x94J\\xb00\\x01\\x00\\x8c\\x04City\\x94\\x8c\\x05Noida\\x94\\x8c\\x06Height\\x94G@\\x14p\\xa3\\xd7\\n=q\\x8c\\x06Weight\\x94\\x8c\\x0578 Kg\\x94u.'\n"
     ]
    }
   ],
   "source": [
    "with open('record.dat','rb') as f:\n",
    "    print(f.read())"
   ]
  },
  {
   "cell_type": "code",
   "execution_count": 284,
   "id": "5611f116-2d1b-406f-9fe4-fa74eec51b01",
   "metadata": {},
   "outputs": [
    {
     "name": "stdout",
     "output_type": "stream",
     "text": [
      "{'Name': 'Ammit', 'Age': 22, 'Salary': 78000, 'City': 'Noida', 'Height': 5.11, 'Weight': '78 Kg'}\n"
     ]
    }
   ],
   "source": [
    "with open('record.dat','rb') as f:\n",
    "    print(pickle.load(f))"
   ]
  },
  {
   "cell_type": "code",
   "execution_count": null,
   "id": "5a750267-a389-4a60-944d-63f130352c99",
   "metadata": {},
   "outputs": [],
   "source": []
  },
  {
   "cell_type": "code",
   "execution_count": 291,
   "id": "5ec56182-c0aa-4a9a-ba1c-2e6225ff9c78",
   "metadata": {},
   "outputs": [],
   "source": [
    "lst=['Deepak',24,55000,'Bangalore']"
   ]
  },
  {
   "cell_type": "code",
   "execution_count": 293,
   "id": "17386657-de04-4034-a4cf-2df32f23a363",
   "metadata": {},
   "outputs": [],
   "source": [
    "with open('emp.dat','wb+') as f:\n",
    "    pickle.dump(lst,f)"
   ]
  },
  {
   "cell_type": "code",
   "execution_count": 295,
   "id": "1167062c-9c0d-4d23-94e6-ffa43846bc7d",
   "metadata": {},
   "outputs": [
    {
     "name": "stdout",
     "output_type": "stream",
     "text": [
      "b'\\x80\\x04\\x95\\x1f\\x00\\x00\\x00\\x00\\x00\\x00\\x00]\\x94(\\x8c\\x06Deepak\\x94K\\x18M\\xd8\\xd6\\x8c\\tBangalore\\x94e.'\n"
     ]
    }
   ],
   "source": [
    "with open('emp.dat','rb') as f:\n",
    "    print(f.read())"
   ]
  },
  {
   "cell_type": "code",
   "execution_count": 299,
   "id": "7ab9016a-a9e2-4540-82c3-dbbf8a3cc376",
   "metadata": {},
   "outputs": [],
   "source": [
    "lst=['Nidhi',25,45000,'Bhopal']"
   ]
  },
  {
   "cell_type": "code",
   "execution_count": 301,
   "id": "40cf61ab-6c30-4117-a63f-a8a9f1f33b5c",
   "metadata": {},
   "outputs": [],
   "source": [
    "with open('emp.dat','ab+') as f:\n",
    "    pickle.dump(lst,f)"
   ]
  },
  {
   "cell_type": "code",
   "execution_count": 303,
   "id": "9680a4c0-ae46-4216-93ae-4decfd94409d",
   "metadata": {},
   "outputs": [
    {
     "name": "stdout",
     "output_type": "stream",
     "text": [
      "b'\\x80\\x04\\x95\\x1f\\x00\\x00\\x00\\x00\\x00\\x00\\x00]\\x94(\\x8c\\x06Deepak\\x94K\\x18M\\xd8\\xd6\\x8c\\tBangalore\\x94e.\\x80\\x04\\x95\\x1b\\x00\\x00\\x00\\x00\\x00\\x00\\x00]\\x94(\\x8c\\x05Nidhi\\x94K\\x19M\\xc8\\xaf\\x8c\\x06Bhopal\\x94e.'\n"
     ]
    }
   ],
   "source": [
    "with open('emp.dat','rb') as f:\n",
    "    print(f.read())"
   ]
  },
  {
   "cell_type": "code",
   "execution_count": 305,
   "id": "fd2c4df9-3ce9-4b59-a916-483ad398add5",
   "metadata": {},
   "outputs": [],
   "source": [
    "lst=['Yogesh',26,75000,'Delhi']"
   ]
  },
  {
   "cell_type": "code",
   "execution_count": 307,
   "id": "5a064874-fb37-46f8-b5d7-e4cd677c0f24",
   "metadata": {},
   "outputs": [],
   "source": [
    "with open('emp.dat','ab+') as f:\n",
    "    pickle.dump(lst,f)"
   ]
  },
  {
   "cell_type": "code",
   "execution_count": 309,
   "id": "03c7e65a-f2aa-4c84-90dd-86fc8e74f572",
   "metadata": {},
   "outputs": [
    {
     "name": "stdout",
     "output_type": "stream",
     "text": [
      "b'\\x80\\x04\\x95\\x1f\\x00\\x00\\x00\\x00\\x00\\x00\\x00]\\x94(\\x8c\\x06Deepak\\x94K\\x18M\\xd8\\xd6\\x8c\\tBangalore\\x94e.\\x80\\x04\\x95\\x1b\\x00\\x00\\x00\\x00\\x00\\x00\\x00]\\x94(\\x8c\\x05Nidhi\\x94K\\x19M\\xc8\\xaf\\x8c\\x06Bhopal\\x94e.\\x80\\x04\\x95\\x1d\\x00\\x00\\x00\\x00\\x00\\x00\\x00]\\x94(\\x8c\\x06Yogesh\\x94K\\x1aJ\\xf8$\\x01\\x00\\x8c\\x05Delhi\\x94e.'\n"
     ]
    }
   ],
   "source": [
    "with open('emp.dat','rb') as f:\n",
    "    print(f.read())"
   ]
  },
  {
   "cell_type": "code",
   "execution_count": 311,
   "id": "b1260b73-9a91-42f8-bc57-3f1639988a64",
   "metadata": {},
   "outputs": [],
   "source": [
    "lst=['Debolina',27,95000,'Dehradun']"
   ]
  },
  {
   "cell_type": "code",
   "execution_count": 313,
   "id": "30dbc6c1-7a2f-49b7-b4a3-918d2bf0549b",
   "metadata": {},
   "outputs": [],
   "source": [
    "with open('emp.dat','ab+') as f:\n",
    "    pickle.dump(lst,f)"
   ]
  },
  {
   "cell_type": "code",
   "execution_count": 315,
   "id": "6980ec11-df0e-4118-8f3c-46fb38ade064",
   "metadata": {},
   "outputs": [
    {
     "name": "stdout",
     "output_type": "stream",
     "text": [
      "b'\\x80\\x04\\x95\\x1f\\x00\\x00\\x00\\x00\\x00\\x00\\x00]\\x94(\\x8c\\x06Deepak\\x94K\\x18M\\xd8\\xd6\\x8c\\tBangalore\\x94e.\\x80\\x04\\x95\\x1b\\x00\\x00\\x00\\x00\\x00\\x00\\x00]\\x94(\\x8c\\x05Nidhi\\x94K\\x19M\\xc8\\xaf\\x8c\\x06Bhopal\\x94e.\\x80\\x04\\x95\\x1d\\x00\\x00\\x00\\x00\\x00\\x00\\x00]\\x94(\\x8c\\x06Yogesh\\x94K\\x1aJ\\xf8$\\x01\\x00\\x8c\\x05Delhi\\x94e.\\x80\\x04\\x95\"\\x00\\x00\\x00\\x00\\x00\\x00\\x00]\\x94(\\x8c\\x08Debolina\\x94K\\x1bJ\\x18s\\x01\\x00\\x8c\\x08Dehradun\\x94e.'\n"
     ]
    }
   ],
   "source": [
    "with open('emp.dat','rb') as f:\n",
    "    print(f.read())"
   ]
  },
  {
   "cell_type": "code",
   "execution_count": 325,
   "id": "6dfb0a0c-da9c-478a-932a-a946c2d9ffbf",
   "metadata": {},
   "outputs": [
    {
     "name": "stdout",
     "output_type": "stream",
     "text": [
      "['Deepak', 24, 55000, 'Bangalore']\n",
      "['Nidhi', 25, 45000, 'Bhopal']\n",
      "['Yogesh', 26, 75000, 'Delhi']\n",
      "['Debolina', 27, 95000, 'Dehradun']\n"
     ]
    },
    {
     "ename": "EOFError",
     "evalue": "Ran out of input",
     "output_type": "error",
     "traceback": [
      "\u001b[1;31m---------------------------------------------------------------------------\u001b[0m",
      "\u001b[1;31mEOFError\u001b[0m                                  Traceback (most recent call last)",
      "Cell \u001b[1;32mIn[325], line 6\u001b[0m\n\u001b[0;32m      4\u001b[0m \u001b[38;5;28mprint\u001b[39m(pickle\u001b[38;5;241m.\u001b[39mload(f))\n\u001b[0;32m      5\u001b[0m \u001b[38;5;28mprint\u001b[39m(pickle\u001b[38;5;241m.\u001b[39mload(f))\n\u001b[1;32m----> 6\u001b[0m \u001b[38;5;28mprint\u001b[39m(pickle\u001b[38;5;241m.\u001b[39mload(f))\n",
      "\u001b[1;31mEOFError\u001b[0m: Ran out of input"
     ]
    }
   ],
   "source": [
    "with open('emp.dat','rb') as f:\n",
    "    print(pickle.load(f))\n",
    "    print(pickle.load(f))\n",
    "    print(pickle.load(f))\n",
    "    print(pickle.load(f))\n",
    "    print(pickle.load(f))"
   ]
  },
  {
   "cell_type": "code",
   "execution_count": 336,
   "id": "2845d81b-2fe8-4a9e-9bc3-4c4186dbf914",
   "metadata": {},
   "outputs": [
    {
     "name": "stdout",
     "output_type": "stream",
     "text": [
      "['Deepak', 24, 55000, 'Bangalore']\n",
      "['Nidhi', 25, 45000, 'Bhopal']\n",
      "['Yogesh', 26, 75000, 'Delhi']\n",
      "['Debolina', 27, 95000, 'Dehradun']\n"
     ]
    }
   ],
   "source": [
    "with open('emp.dat','rb') as f:\n",
    "    try:\n",
    "       while True: \n",
    "        print(pickle.load(f))\n",
    "    except EOFError:\n",
    "        pass\n",
    "        # print('No more data')"
   ]
  },
  {
   "cell_type": "code",
   "execution_count": 342,
   "id": "c493cfe0-4eb5-4b1b-a6a6-4d867a0c8f7e",
   "metadata": {},
   "outputs": [],
   "source": [
    "path=r\"C:\\Users\\ashis\\OneDrive\\Desktop\\img.jpg\""
   ]
  },
  {
   "cell_type": "code",
   "execution_count": 346,
   "id": "f33cd01d-aa9a-4948-aecd-238dfc6b4435",
   "metadata": {},
   "outputs": [],
   "source": [
    "with open(path,'rb') as f:\n",
    "    data=f.read()"
   ]
  },
  {
   "cell_type": "code",
   "execution_count": 348,
   "id": "4fb47975-4603-4a83-9dc5-9cd15fa5fe6b",
   "metadata": {},
   "outputs": [
    {
     "name": "stdout",
     "output_type": "stream",
     "text": [
      "b'\\xff\\xd8\\xff\\xe0\\x00\\x10JFIF\\x00\\x01\\x01\\x00\\x00\\x01\\x00\\x01\\x00\\x00\\xff\\xdb\\x00\\x84\\x00\\x1b\\x1b\\x1b\\x1b\\x1c\\x1b\\x1e!!\\x1e*-(-*=8338=]BGBGB]\\x8dXgXXgX\\x8d}\\x97{s{\\x97}\\xe0\\xb0\\x9c\\x9c\\xb0\\xe0\\xff\\xd9\\xce\\xd9\\xff\\xff\\xff\\xff\\xff\\xff\\xff\\xff\\xff\\xff\\xff\\x01\\x1b\\x1b\\x1b\\x1b\\x1c\\x1b\\x1e!!\\x1e*-(-*=8338=]BGBGB]\\x8dXgXXgX\\x8d}\\x97{s{\\x97}\\xe0\\xb0\\x9c\\x9c\\xb0\\xe0\\xff\\xd9\\xce\\xd9\\xff\\xff\\xff\\xff\\xff\\xff\\xff\\xff\\xff\\xff\\xff\\xff\\xc2\\x00\\x11\\x08\\x00\\xcc\\x012\\x03\\x01\"\\x00\\x02\\x11\\x01\\x03\\x11\\x01\\xff\\xc4\\x00\\x1a\\x00\\x00\\x02\\x03\\x01\\x01\\x00\\x00\\x00\\x00\\x00\\x00\\x00\\x00\\x00\\x00\\x00\\x02\\x03\\x00\\x01\\x04\\x05\\x06\\xff\\xda\\x00\\x08\\x01\\x01\\x00\\x00\\x00\\x00H\\xa9U\\x06\\xdc\\xc8\\xc6\\x1d\\xdc\\x83(\\x14\\xa4U\\xbd\\xd4L%f*\\x12r\\xd4\\xb1\\xb9![\\xdafe( !\\n\\x18\\xe6\\x89h<\\xe880\\x82P\\xc86v\\xdb6\\xf5\\x81Z\\xb9CJ\\xc6\\xa9e`ZY\\x98t\\x94<Br\\xa4\\x18\\xf3\\xd0(\\xd5\\xdb\\x89~\\x0c;\\x9d\\xc4^C\\x824\\xc37\\xe9*\\xaed\\xb9.\\x869\\x9b\\xfa\\x9c\\x90\\xedJ\\xb5\\x86\\x99\\xce\\xc1\\xca\\xb2\\x95D{\\x9a\\xc8\\xb1\\xe7\\xdc\\x97\\x05f\\xf2\\xd3\\xd7$\\xbeJ\\xa20_#\\x1d\\xc4Qhk\\x88\\xa8+\\x9cR\\xe5)l\\xd2zz\\xf2\\xe4\\x83vb\\x9c;5b\\xe5\\xe7s\\xe1\\xdd\\x88\\xab\\x01\\xdd\\xc5\\xa5}\\xc7f.\\xcd\\xc9WW,T\\xe3\\xbeZ\\x93\\x0e\\xee\\xe0e\\xc9FWJPw\\xbb4\\x939\\x04\\xa4\\xa9V-\\xcc\\xbd\\\\\\xd4\\x1c(\"\\x81\\xcc\\x05t\\xb5\\xd3\\xfdC\\xa4\\x92\\r\\xc9R\\xe5\\x14<|\\xd21\\x81P\\x8f\\x987C:\\x8e-\\xc7rT\\x05\\xc28R\\xe1e\\xc0\\x92\\xa1\\xa2a\\xd9\\xf1\\xe4\\x80>\\x93l\\x11)\\x04\\x15\\x98\\x97\\xabA\\xd49\\x03/8,\\xcc\\xe4\\xbeH\\x95\\xd0\\x1f\\xa8d\\xa1\\x90s\\xa5t\\xbd.\\xd0\\xcb\\xb83.\\x01\"\\xba\\x199\\x94W`/\\xeb\\xef\\x9403\\x88\\x05\\x9bu\\xb2L\\xa9\\xc9,\\x88(d\\x98$\\x90:}{\\x12\\xb8*\\xc9R\\xa4n\\xdb\\xa5\\xd9\\xdeL\\xd0j\\x04\\xbb\\xc3d)X\\x96\\xfe\\xb6\\xa9p3\\xa6\\xa8f\\xe7\\xd4\\x1a\\xc9\\x94\\xc4j\\xaa\\x15\\xde#4\\xe6\\\\\\'k\\xed\\xba\\xa4\\x1c\\xa8\\xab\\xd0\\xf3\\x94\\x053\\xe2\\x15\\xa4\\\\ew\\x8d\\x91\\x19\\xc6\\xa6\\x9fG\\xa2J\\x95\\x00\\xa1\\x88\\x8d\\x19\\xdd\\xa3\\x92\\x0b\\x16\\x19Yd\\xd9\\x9b:DG\\xd0\\xf4lJ\\xee)\\x97E@`\\xb2u\\xce>j\\x19ge\\x9fr1\\xa4Bzm!w \\xb0\\xea\\x1cP\\xb49%\\x162-1\\xcd\\xb4m^%$&\\x9d\\r\\xeeH6B@\\xe8\\xba\\xe6\\xf50g\\x15\\xc9`\\xb0c\\xdb\\x97ec\\xcc\\x80\\xb6k\\xe9t\\xd7\\xce\\xe9\\xda\\xf8\\xfa7\\xbe\\xc0y\\xa1\\xbf\\n\\xc4h\\xaa\\x005\\x8a\\xd7yq*\\x8a\\xf5\\xed`\\'\\xb9\\\\nc\\xf7\\xf5\\xef9\\xaf\\x92f\\xab\\n+%\\xe7\\x1bv\\xcb\\xcf\\x89p\\xa6\\x9d,\\xb4t9\\xfc\\xea\\xd1\\xafK\\xf1i\\xd9\\xc6\\x90HD\\x8a\\xd7\\x90f\\x9d\\x86\\x8c\\x8b\\xba\\x9a4\\x19\\x023 \\xf6\\xb8\\xe4\\x1bP\\xc8T4v\\x9c\\xc2Zu1AT\\xa0k\\xd9c\\x9f\\n\\xb5l6\\\\\\x00\\x086uC\\x05\\t&\\x7f\\xff\\xc4\\x00\\x19\\x01\\x00\\x03\\x01\\x01\\x01\\x00\\x00\\x00\\x00\\x00\\x00\\x00\\x00\\x00\\x00\\x00\\x00\\x01\\x02\\x03\\x04\\x05\\xff\\xda\\x00\\n\\x02\\x02\\x10\\x03\\x10\\x00\\x00\\x00\\xc6\\x01\\xb0D\\x82\\xa2F\\x02-\\x84\\xa46\\x80\\x0b\\x10\\xc0D\\x01\\xcd\\xac\\xb6\\xbasOd\\xd0 $\\x94\\x8dX!\\x88\\xc9\\xf0\\xf45\\x95\\x0e\\xa6\\x97\\xa1\\x85\\xba\\x94@\\x92\\x11\\xb3Ht\\xf9\\xea\\xa3\\xcb\\xec\\x12\\x06\\xd6\\x8a\\xa2\\x97f4\\x90\\x08\\xba\\xb5#)\\xf9\\xfbsZr\\x0c\\x01\\x8dm\\x96\\xb1\\xd3\\x9b\\x10\\x8av!\\xbf?|\\xaa)\"\\xb4\\xaa2J\\x03H\\xe9\\xcbl\\xd8\\xc6\\x05\\xb4\\x06:pk\\x16\\x17{\\xba1x\\xe2\\xd6\\xb3\\xb6]\\x19\\xd1\"\\x11\\xb8\\x9b0\\xd7\\x93Ll/M[ \\xc3&\\xeez\\xb0\\xdf)\\x00\\x11\\xb8\\x9d\\xb0\\xe6\\xbf?y\\x1b\\xbb\\xa39\\x90d\\xf4\\xe3\\xd7\\x8b%\\x00\\xf4\\x19M\\x9e?\\\\\\xb0\\x01R&n\\x97F!\\xd1\\x9b\\x18\\xa5\\x1a\\x88\\xb6\\xdc\\x1c;ey\\xd6\\x899\\x89\\xbe\\xac\\xb6\\xcbIH\\x1b\\t5Al\\x11\\x98\\x1c]\\x1d\\xd9A\\xc5\\xad+\\x8e\\x8c\\xc4!\\xa3V\\xe9B\\x00\\x01\\x01N\\x8c\\xd66\\xd3Bc\\x10\\xde\\x83?\\xff\\xc4\\x000\\x10\\x00\\x02\\x02\\x01\\x03\\x04\\x01\\x04\\x02\\x02\\x01\\x04\\x03\\x00\\x00\\x00\\x00\\x01\\x02\\x11\\x03\\x10\\x121\\x04!AQ \\x13\"2qa\\x81\\x05\\x91\\x15\\x14#0BCR\\xb1\\xff\\xda\\x00\\x08\\x01\\x01\\x00\\x01?\\x00\\x1b%!\\xc8\\xdc7\\xa2tFf\\xf3x\\xa4)\\x16^\\xaf\\xe0\\xc6I\\x8fD\\xc82\\xcb\\x13\\x16\\x92\\x1f:2\\xcd\\xc3cc\\x1a\\xf8\\xd9l\\x8b\"\\xcb\\x13\\x13\"\\x9c\\xb8V$H\\x94%\\x1a\\xb5\\xab$I\\x8fX\\xb3p\\xe4FDYd\\xe4]\\xb1h\\xcad\\xa4^\\x8c\\x7f\\x04\\x85\\x11DKH\\xb2=\\xda^\\xd9\\x1cQ\\x84\\x9bJ\\xad#6:\\xfb\\xd7\\xf6c\\x8d\\xcf\\xfa\\'\\x8dN\\ry\\xf0=f\\x8c\\x9d\\x8b\\xd5:7\\x0eDfBc\\x99\\x92d-\\x91\\x89\\xb0\\xfaf\\xd2LB\\x7f\\x16!\\x14a\\xc0\\xf39$\\xea\\x8c\\xb82b\\xfc\\x97ob:\\x7f\\xbb.5\\xfc\\xe8\\xd2j\\x8cp\\xdb\\x7f\\xb1\\x1dN\\'\\xb9\\xca(\\xa6\\xdaI[f>\\x92\\xd7\\xde\\xc7\\xd2c\\xfan5\\xdf\\xd9\\xf4\\x1eY\\xa8\\xc7\\xcb:\\xce\\x9a=>H\\xc6.\\xfe\\xc4\\xd8\\xb5hkH\\xc8R\\xb1c\\xdcC\\x19\\x18\\x1bF\\x8b_\\x1a\\xf8\":t.\\xb2I{\\x88\\xf6\\xc94\\xce\\xab\\xa4\\xd9s\\xc7\\xc7\\x94tJ\\xf3\\xaf\\xe16y\\xd5\\xbaZc\\xc3\\x18\\xceR^E\\xd8|6t\\xb8\\xfe\\xe9L\\xeb\\xfe\\xfc\\xd3g\\x0cL\\xbd(\\xa1E\\x90\\x83\\xb2\\x11\\xec%\\xa3\\x1f\\xfe\\x06Y\\x12\"07\\x1c\\xb0k\\xddh\\x99\\x0c\\x10\\xc7\\x92S\\x8f\\x95\\xc0\\xb9z\\xc9\\xf1\\xa4t\\xcb\\xf85\\xef\\xb1\\x14\\xa1\\x0e\\xdc#\"\\xdc\\xdb\\xf6K\\t\\x8f\\xa3\\xcb\\x97\\xf0\\x8fol\\xcf\\xd1d\\xc1O\\x98\\xfb6\\xb2\\x85\\x1bdq\\x8a\\x14\\xc4\\xb5zP\\xbe,\\x93,\\x83\"#\\x07l\\xb0\\xfd\\xfc\\xbc|\\x11?\\x06gX\\xdf\\xf3\\xd8\\x8e)du\\x14c\\xe9\\xb1\\xc6\\x9b[\\x98\\x91\\xd6\\xd3\\x8ca\\xfc\\xd8\\xf1\\x0e\\x1d\\xc8@H\\xa1j\\xc6\\xe8\\xde\\x84\\xcb\\xf86I\\x96t\\xdf\\xe3\\x93\\xc4\\xa5\\x95\\xc9H\\x97@\\xd7\\xe1;\\xfe\\x19,Y \\xfe\\xe84E\\xd5?Bw\\xf1|j\\xc4s!\\xc7\\xea\\xca\\xdf\\xe0\\x84\\x92T\\x95!\\x17FIo\\x9b\\x91\"Pq}\\xd3D~L\\xcb3|\\xf4L\\xbd\\x1b\\x1b\\x1e\\x9f\\xe2\\xfa\\xabK\\x04\\xdf\\x1f\\x86\\x8d\\x12\\xc1\\x8e_\\xfa\\x90\\x8b\\x84v\\xdd\\xd7\\x1f\\x06>5|\\x8d\\xd2?\\x8db\\xed\\x1dF_\\xfe8\\xff\\x00d0N\\\\\\xf6Dq\\xc2\\x0b\\xedGS\\x91d\\x9fn\\x17d/\\x8bcd\\xa3g\\xd1D\\xd0\\xb5llzb\\xb4\\xd3F\\x0c\\x92\\x9e(Jk\\xeeh\\xbf\\x93<j\\xbd\\x97n\\xc5\\xa3B\\xba\\xecB\\x10\\x87\\x0b\\xbf\\xbd:\\x8c\\xdc\\xc2?\\xdb$GV\\xe8s-\\xb2\\x98\\xa2m\\x19Eh\\xccx\\xdel\\xb0\\xc6\\x9dnug\\xfc?\\xbc\\xef\\xfd\\x0b\\xfcF\\x0f9&\\xcf\\xf8\\xbck\\x8c\\x93!\\x17\\x08F/\\xc2\\xaf\\x9b|\\x92\\xcb\\x188\\xa7\\xcc\\x9d\"Y\\x94*\\xd72Q_\\xb6,\\x91\\x9cm;E\\xf6\\xa4/\\x82\\xd37P\\x95\\xc6\\x0f\\xf6\\xc9Hl\\xb3y\\xbc\\xb6\\xc4\\x85\\x12\\x8a\\xf94&\\xe3%%\\xcav\\x8e\\x97\\xaa\\x87Q\\x1fS\\xf3\\x1d_\\xcaLl\\xa9O\\xed\\xc9\\xcc27\\x11\\xc1I\\xdf/\\xbc\\xbfL\\xc6\\x9e=\\x895\\xb60\\xa5|\\xb6\\xc5:t\\xfd\\xd0\\xabK\\xd1V\\x9d\\x9f)\\x12\\xc1\\x86\\\\\\xe3\\x89\\x93\\xa1\\x83\\xfc$\\xd1\\x93\\x1c\\xf1\\xc9\\xc6\\\\\\x94m\\x14D\\x84\\xb4\\xb2\\xcb,Z44`\\xc9\\xf4sB~\\x99\\t\\xc3\"\\xb8II{Z\\xbf\\x83\\'\\\\\\xb7\\xed\\x19#\\xbe\\rr\\x9at\\x97-\\nT\\xb9\\xee\\x92\\xed&\\x9dW\\xba7I\\xb5I>\\xdd\\xaaO\\x8ffT\\xb2\\xed\\x83\\xf3N\\xd7\\x8fI17\\xb5wV\\xbb\\x7fd2Uy\\xf4\\xc4\\xa4\\xf9t$\\xbe2\\x9c \\xaeRH\\x9f]\\x05\\xf8A\\xc8\\xc97\\x96{\\x9aK\\xf4QEie\\x96_\\xc9\\x9b&\\xdd(J\\xff\\x00L\\xc7\\x83\\xab\\x8c\\x93\\x86,\\x89\\x983u\\x8b\\xb6\\\\.HRL\\xbd,\\xdcJq\\x1f\\xf1\\x1f+\\x86I\\'w\\x0f\\xde\\xe7\\xc2~H\\xc7l\\x93\\xa4\\xae\\x97wm\\xa4F\\xdbm>\\xee}\\x97\\xae\\xd4vPU\\xbbm9Uw\\xda>\\xfc\\\\\\x92iW\\xaa#V\\xe9\\xaeH\\xad[I[d\\xba\\x95u\\x08I\\x93\\xc9\\xd4\\xc9}\\xa9\\xaf\\xd1\\xf4\\xb3r\\xe13d\\x971k\\xf6\\x8a\\x12\\xd1\\xbd\\x1f\\xc6\\x8a\\xd2\\xc93\\xa3\\xeb\\xa1\\x08F\\x19&\\xd5\\x11\\x9e<\\x8a\\xe1(\\xcb\\xf4\\xc6\\xbe4\\x89\\xafHj\\xbc*\\xf7\\xe4\\x92[e\\xb5\\\\U\\xb7\\x14\\xbf\"\\\\\\xcd\\xc5%]\\xfb\\xa7\\xf9\\x0f\\xb2q\\xe5(\\xb7M\\xf7\\xb6G\\x99?N\\xb9\\xe3\\xb7\\x05mT\\x9d6\\x92\\xfb\\x9f&5M6\\x9bb\\x9a7\\xc4y=!\\xdc\\xb9bBD\\xa7\\x18+\\x93H\\xc9\\xd4\\xee\\xb5\\x05\\xd8Ccw\\xa3e\\xfch\\xda5CczD\\xc5\\x9f,x\\xc9#\\xa7\\xcd\\xf5\\x13M\\xfd\\xcb\\xe3%fL|wucn\\xdcU\\xdd\\xabK\\xc1k\\xf1\\xf5\\xd9\\xb7\\xc2.\\x1d\\x9f\\x8f\\x1e\\x92#+\\xbaJ\\xfd\\xff\\x00\\xf8C\\xbbi>?\\x82\\x10\\xf3\\xdc\\xa4lF\\xc3\\xb2\\xf2Jj+\\xb2l\\x9fS\\x93\\x84\\xb6\\x97)\\xbbm\\xb3\\x81\\xb1\\xc8\\xdeo/\\xe5\\x1d&I\\xea\\x883\\x1eYBI\\xc7\\x93\\x1c\\xa7(\\xad\\xd1\\xa7\\xf1i\\x13\\xc4\\xe5%]\\x95\\xdb%&\\xa3\\xb9\\'&J\\x13\\x86G\\xdb\\x94\\xbe\\xeft\\xf8\\x12\\x9bi\\xbbQj\\xcd\\x90sMvu\\xca\\x14\\xab\\x94)G\\xd9\\xb9\\x0ee\\xb6\\xca\\x1c#%MY>\\x96\\x95\\xc3\\xfd\\x0e\\xd3i\\xaakI\\x0e\\xc4\\xd9\\x11|\\x10\\xa2\\xcb&2\\xb5\\xc1\\x07\\x96q\\x82\\xf2b\\xc5\\x18%\\x18\\xaaH\\xaf\\x83(t\\x93#\\x8dvu\\xc18\\xda!\\x14\\xa2\\x8d\\xab\\xd0\\xd2\\xf28\\x15\\xa2(\\xad3\\xe0YW\\xa9.\\x18\\xd3M\\xa7\\xd9\\xa1\\x8d\\x14!|#\\xc9\\x18\\xaa2*d\\x861\\xe9\\xd1\\xf4\\x8f\\x02\\xb9\\xfelN\\x8d\\xff\\x00\\xc0\\xe6\\xcbZv\\x1c\\x92\\xf299\\xb5\\xe8C\\x10\\x86\\xad\\x11\\x97\\x86R\\xf04N\\x7fM[V\\x88f\\xc7.&\\xb5fy\\xac\\x92\\xbd\\x9bd\\xbb2\\x8a(\\xb1HL\\xb2\\xc4C\\x832\\x18\\xf4b:;}6&\\xdd\\xbd\\xbaJp\\x87\\xe5$\\x88\\xb5$\\xa4\\xb8e\\x14V\\x91Z\\xaeE\\xa4\\x97q\\xcd\\xe3N^\\x17%\\xa9$\\xd3\\xb4\\xc6\\x93M2i\\xc2r\\x83\\xf0\\xc8\\xb6\\xb8lyr.\\'/\\xf6<\\xb9\\x1f3\\x97\\xfb\\xd5\\x8c\\x90\\x99\\x17zQ\\x1eL|\\x19P\\xd1$1\\x88\\xc7\\x97$\\x15FrK\\xd2b\\xcd\\x9a|\\xe4\\x93\\xfe\\xccp\\xdd(\\xafn\\x84\\xa9R(\\xa1\\x89\\x16\\x92#-\\xd6:H\\\\\\xde\\xb3\\xf1\\xa6,\\xdf\\xf4\\x99\\xe5\\x86o\\xfe\\xdbw\\x17\\xea\\xf4\\xeb!S\\x84\\xfd\\xaab\\xe0\\x96\\xa9\\x8ccE\\x10#\\xa4y!\\xc12j\\x89\\x8fD#\\x12:h^D\\xfdi<\\xb8\\xe1\\xcb\\xfe\\x91\\x93\\xab\\xcb<\\x90\\xc7\\x8f\\xedNi_\\x91-%\\xed\\xb2=\\\\\\x9eI\\xca2i6}f\\xf9\\x93f)\\xac\\x90M\\x0bI\\xf8\\x11\\xfeG\\x15\\xacs_\\xa3\\xa3\\xea\\xdc+\\x1eN<?GU\\xb5\\xe1\\xe7\\xcah\\\\\\x12\\x1f\\xc6\\x86\\x8b\\xa6FF\\xe2\\x04FdD\\x86\\x8a\\x12\\xd3\\x11\\t\\xca7\\xb5\\xb5f\\xf9\\xb4\\x96\\xe7D\\x88R\\xcf\\x89\\xbf\\xfe\\xebFu\\xbdZ\\x92x\\xb1>\\xdedE\\xd0\\xb23\\xa4\\xcd\\xb2T\\xff\\x00\\x17\\xaeL\\xd0S\\xda\\xd9\\x16\\xa4\\xad3\\xa8\\x8e\\xec2\\xfe;\\x8e\\x08R\\x9a\\x86\\xcd\\xcfo\\xa1>\\xc3}\\xfe\\x0bY\\x12f\\xea7\\x98\\xc8\\x8c\\xc8Iw(\\xa2\\x8a1\\xa1\\x08d\\x97\\x92\\x1df6\\x9e\\xeb\\x8bH\\xeaz\\xb9\\xe6\\xb8\\xaf\\xb6\\x04\\x88\\x90\\x89\\x18\\x90\\xcd\\x92\\x0f\\x94\\xe3\\xe8\\x97R\\xa9m_\\xd3\\x1d\\xb6\\xdb0fP\\xfbe\\xc7\\xb2U\\xb5\\xdf\\x15\\xabz\\xbd\\x16\\xb3%\\xce\\xb8\\xc8\\x8c\\x92\\'\\x13k6\\x94$@B\\xd1\\x93$\\xc6\\xc8\"\\x08ZQC>\\xb6X\\xc1\\xc1>\\xdf\\'\\xf0\\xb2r\\x1b\\xd7\\x19\\x1d$R6\\xa1\\xc5\\x12\\x8a)\\x10\"-\\x19\\x90\\x9b\\xd3\\x11\\x1d\"=\\x18\\xf4z\\xa1\\xfc\\x19=\\x10\\x92?\\xff\\xc4\\x00\\'\\x11\\x00\\x02\\x02\\x02\\x01\\x04\\x01\\x04\\x03\\x01\\x00\\x00\\x00\\x00\\x00\\x00\\x01\\x02\\x00\\x11\\x03\\x10!\\x12 1A\\x04\\x13\\x14\"Q0Rqa\\xff\\xda\\x00\\x08\\x01\\x02\\x01\\x01?\\x000n\\xa1\\x15\\xab\\x84\\xc0A\\x16!\\x83DJ\\xd9\\xef0\\xb0\\x02\\xc9\\x80\\x82,\\x19\\xf2\\x18\\xd8\\x17\\xea\\x0c\\xb5\\x88\\x83\\xe7\\xd4\\xc1\\x93\\xa7\\xf1\\'\\x88\\xf9\\x15<\\x98\\x99U\\xaf\\xfeE!\\x80#dh\\xf7\\x99\\x90Z7\\xf9\\x13!C2\\xb8v\\xb1\\xbb\\'\\x92`j\\x05G\\x931\\x90\\xaa\\x04\\xfa\\x89u\\xd4/D\\xc2\\x7f\\x80\\xe6\\xc7\\xd4E\\xce\\x19M\\x1f\"\\x1e\\xd4\\xae\\xab>\\x04l\\xac\\xde8\\x13\\x10\\xb6\\xbf\\xd4V\\xec\\x02\\xcc\\xe8\\xed\\xf98\\xc2\\xb7P\\xf7\\x03\\x15\\xf0H\\x84\\xd9\\xbe\\xe1\\x06J\\x14\\xa2bC}Gd\\xc1,\\xef\\xd1\\xaf1\\xb2\\xe6RAb#;\\xb0\\xe5\\xafu\\x15\\x07\\x93:\\x14\\x8e<\\xc2+j@<\\x8b\\x832\\xfb\\x04K\\xbd\\x01\\xda\\x0c\\xcd\\x8d^\\x89`\\x0cu*|\\x83\\xb4\\x10x\\xa88<F\\xaa\\xd8\\xc6\\xc7\\xf4?\\xd3\\x17\\x12{k\\x81hV\\x89\\x97,\\xec\\t\\x93\\xe3+\\x1b\\x06\\xa3\\xe0d\\x04\\xf0v\\x8dPi\\xcdm1\\xb3\\xf8\\x89\\x85W\\x93\\xcc\\xbf\\xe1\\xcf\\x91S\\x8a\\xb2a\\xf7\\xc6\\xc3\\x91S\\xac\\x9fP\\xde\\xc5\\xccy\\x88\\xe1\\xb5}\\x87\\x987\\x95\\x98\\xe4bM\\x9b\\x9c\\xd5\\xcb\\x97\\xb3\\xe2\\x0f5\\x00\\x00\\x8b\\x1cO\\xb7\\x07\\x95i\\xf6\\xed\\xfd\\x84\\x00(\\x03U\\xda4\\xca\\xbehO\\x90m\\x80\\xfd\\x08\\xb8\\x9d\\xbdq\\xfb\\x95\\x11\\x0b\\xddz\\x8c\\xa5e\\xe8\\xa7\\xd4\\xc62\\x0f>\\xe6\\x03i\\xd8\\x0c\"V\\xc6\\x9aP>@\\x87\\x90D\\\\.\\xc6\\xaa\\xa2\"\\xa2\\xd0\\x8e\\x8a\\xc0\\x88\\xd8\\x1c\\x1a\\x1c\\xc7\\xc1Kb\\xc9\\x98\\x0f\\xe2D\\x1cv\\x89B{\\x86uN\\xa8N\\x8cXt\\xcdF)\\xb9@]\\x084t7\\xff\\xc4\\x00#\\x11\\x01\\x00\\x02\\x01\\x02\\x07\\x01\\x01\\x01\\x00\\x00\\x00\\x00\\x00\\x00\\x00\\x01\\x00\\x11\\x02\\x100\\x03\\x12 !1AQ\\x13\"a\\xff\\xda\\x00\\x08\\x01\\x03\\x01\\x01?\\x00\\xd9J\\xd9\\xbe\\xb2\\xd8\\x958G\\x96r\\x7fc8\\x98\\xdfrc\\x8b\\x94qJ\\x89[\\xb85\\x912\\xc0I\\x8e<\\xa6\\x84g/\\x86-\\xac\\xa6\\xae\\xb6\\xff\\x00<\\xaa\\x16\\'K2\\xbeZ\\x86\\x0636\\x8e\\xaa\\xe9\\xc3+\\xed+\\xad\\xf19m\\xb6g\\x97\\xa3\\xa6\\xfa9q\\xf4L@\\xf0j\\x12\\xa2D\\xad\\x18\\xdb\\x1c\\x1d\\x9c\\x14\\xf4\\xc3\\xbe\\x95\\x02x\\xd5\\xd1\\xc8>\\xb1\\xcf/\\x9b\\'\\x11&<Ak\\\\]V\\x89\\xda\\x15\\xeae\\x9dy\\x99q\\x17\\xc6\\xd6\\x189w\\xba\\xae\\x83.\\xd3\\x98\\xa8\\xe42\\x86PE\\x99\\xe0>%V\\xc8\\x06 O\\xe6T\\xe5\\xff\\x00c\\xf0\\x9e\\xb4~\\x92\\xd4\\x9f\\xa7\\xd2~\\x87\\xc8\\xb6\\xec\\xdb\\xf6p\\xfc,\\xe7\\x0fr\\xe3F\\xa7\\x89\\xcdY#8\\x85e\\xb9o\\xd84\\x91\\xcc\\x0b\\x8eJ\\xdc\\xe7a\\x9e/\\xb9\\x8f\\x12\\xda\\x9c_#\\xd4l\\x9a\\x84e\\xae\\xc7\\xff\\xd9'\n"
     ]
    }
   ],
   "source": [
    "print(data)"
   ]
  },
  {
   "cell_type": "code",
   "execution_count": 350,
   "id": "8790ef7f-45b2-44bf-bd5d-c3e4021fb02f",
   "metadata": {},
   "outputs": [
    {
     "name": "stdout",
     "output_type": "stream",
     "text": [
      "<class 'bytes'>\n"
     ]
    }
   ],
   "source": [
    "print(type(data))"
   ]
  },
  {
   "cell_type": "code",
   "execution_count": 352,
   "id": "8b050802-6ca4-4448-a30f-b27e4f6681a0",
   "metadata": {},
   "outputs": [
    {
     "name": "stdout",
     "output_type": "stream",
     "text": [
      "b'\\xff\\xd8\\xff\\xe0\\x00\\x10JFIF\\x00\\x01\\x01\\x00\\x00\\x01\\x00\\x01\\x00\\x00\\xff\\xdb\\x00\\x84\\x00\\x1b\\x1b\\x1b\\x1b\\x1c\\x1b\\x1e!!\\x1e*-(-*=8338=]BGBGB]\\x8dXgXXgX\\x8d}\\x97{s{\\x97}\\xe0\\xb0\\x9c\\x9c\\xb0\\xe0\\xff\\xd9\\xce\\xd9\\xff\\xff\\xff\\xff\\xff\\xff\\xff\\xff\\xff\\xff\\xff\\x01\\x1b\\x1b\\x1b\\x1b\\x1c\\x1b\\x1e!!\\x1e*-(-*=8338=]BGBGB]\\x8dXgXXgX\\x8d}\\x97{s{\\x97}\\xe0\\xb0\\x9c\\x9c\\xb0\\xe0\\xff\\xd9\\xce\\xd9\\xff\\xff\\xff\\xff\\xff\\xff\\xff\\xff\\xff\\xff\\xff\\xff\\xc2\\x00\\x11\\x08\\x00\\xcc\\x012\\x03\\x01\"\\x00\\x02\\x11\\x01\\x03\\x11\\x01\\xff\\xc4\\x00\\x1a\\x00\\x00\\x02\\x03\\x01\\x01\\x00\\x00\\x00\\x00\\x00\\x00\\x00\\x00\\x00\\x00\\x00\\x02\\x03\\x00\\x01\\x04\\x05\\x06\\xff\\xda\\x00\\x08\\x01\\x01\\x00\\x00\\x00\\x00H\\xa9U\\x06\\xdc\\xc8\\xc6\\x1d\\xdc\\x83(\\x14\\xa4U\\xbd\\xd4L%f*\\x12r\\xd4\\xb1\\xb9![\\xdafe( !\\n\\x18\\xe6\\x89h<\\xe880\\x82P\\xc86v\\xdb6\\xf5\\x81Z\\xb9CJ\\xc6\\xa9e`ZY\\x98t\\x94<Br\\xa4\\x18\\xf3\\xd0(\\xd5\\xdb\\x89~\\x0c;\\x9d\\xc4^C\\x824\\xc37\\xe9*\\xaed\\xb9.\\x869\\x9b\\xfa\\x9c\\x90\\xedJ\\xb5\\x86\\x99\\xce\\xc1\\xca\\xb2\\x95D{\\x9a\\xc8\\xb1\\xe7\\xdc\\x97\\x05f\\xf2\\xd3\\xd7$\\xbeJ\\xa20_#\\x1d\\xc4Qhk\\x88\\xa8+\\x9cR\\xe5)l\\xd2zz\\xf2\\xe4\\x83vb\\x9c;5b\\xe5\\xe7s\\xe1\\xdd\\x88\\xab\\x01\\xdd\\xc5\\xa5}\\xc7f.\\xcd\\xc9WW,T\\xe3\\xbeZ\\x93\\x0e\\xee\\xe0e\\xc9FWJPw\\xbb4\\x939\\x04\\xa4\\xa9V-\\xcc\\xbd\\\\\\xd4\\x1c(\"\\x81\\xcc\\x05t\\xb5\\xd3\\xfdC\\xa4\\x92\\r\\xc9R\\xe5\\x14<|\\xd21\\x81P\\x8f\\x987C:\\x8e-\\xc7rT\\x05\\xc28R\\xe1e\\xc0\\x92\\xa1\\xa2a\\xd9\\xf1\\xe4\\x80>\\x93l\\x11)\\x04\\x15\\x98\\x97\\xabA\\xd49\\x03/8,\\xcc\\xe4\\xbeH\\x95\\xd0\\x1f\\xa8d\\xa1\\x90s\\xa5t\\xbd.\\xd0\\xcb\\xb83.\\x01\"\\xba\\x199\\x94W`/\\xeb\\xef\\x9403\\x88\\x05\\x9bu\\xb2L\\xa9\\xc9,\\x88(d\\x98$\\x90:}{\\x12\\xb8*\\xc9R\\xa4n\\xdb\\xa5\\xd9\\xdeL\\xd0j\\x04\\xbb\\xc3d)X\\x96\\xfe\\xb6\\xa9p3\\xa6\\xa8f\\xe7\\xd4\\x1a\\xc9\\x94\\xc4j\\xaa\\x15\\xde#4\\xe6\\\\\\'k\\xed\\xba\\xa4\\x1c\\xa8\\xab\\xd0\\xf3\\x94\\x053\\xe2\\x15\\xa4\\\\ew\\x8d\\x91\\x19\\xc6\\xa6\\x9fG\\xa2J\\x95\\x00\\xa1\\x88\\x8d\\x19\\xdd\\xa3\\x92\\x0b\\x16\\x19Yd\\xd9\\x9b:DG\\xd0\\xf4lJ\\xee)\\x97E@`\\xb2u\\xce>j\\x19ge\\x9fr1\\xa4Bzm!w \\xb0\\xea\\x1cP\\xb49%\\x162-1\\xcd\\xb4m^%$&\\x9d\\r\\xeeH6B@\\xe8\\xba\\xe6\\xf50g\\x15\\xc9`\\xb0c\\xdb\\x97ec\\xcc\\x80\\xb6k\\xe9t\\xd7\\xce\\xe9\\xda\\xf8\\xfa7\\xbe\\xc0y\\xa1\\xbf\\n\\xc4h\\xaa\\x005\\x8a\\xd7yq*\\x8a\\xf5\\xed`\\'\\xb9\\\\nc\\xf7\\xf5\\xef9\\xaf\\x92f\\xab\\n+%\\xe7\\x1bv\\xcb\\xcf\\x89p\\xa6\\x9d,\\xb4t9\\xfc\\xea\\xd1\\xafK\\xf1i\\xd9\\xc6\\x90HD\\x8a\\xd7\\x90f\\x9d\\x86\\x8c\\x8b\\xba\\x9a4\\x19\\x023 \\xf6\\xb8\\xe4\\x1bP\\xc8T4v\\x9c\\xc2Zu1AT\\xa0k\\xd9c\\x9f\\n\\xb5l6\\\\\\x00\\x086uC\\x05\\t&\\x7f\\xff\\xc4\\x00\\x19\\x01\\x00\\x03\\x01\\x01\\x01\\x00\\x00\\x00\\x00\\x00\\x00\\x00\\x00\\x00\\x00\\x00\\x00\\x01\\x02\\x03\\x04\\x05\\xff\\xda\\x00\\n\\x02\\x02\\x10\\x03\\x10\\x00\\x00\\x00\\xc6\\x01\\xb0D\\x82\\xa2F\\x02-\\x84\\xa46\\x80\\x0b\\x10\\xc0D\\x01\\xcd\\xac\\xb6\\xbasOd\\xd0 $\\x94\\x8dX!\\x88\\xc9\\xf0\\xf45\\x95\\x0e\\xa6\\x97\\xa1\\x85\\xba\\x94@\\x92\\x11\\xb3Ht\\xf9\\xea\\xa3\\xcb\\xec\\x12\\x06\\xd6\\x8a\\xa2\\x97f4\\x90\\x08\\xba\\xb5#)\\xf9\\xfbsZr\\x0c\\x01\\x8dm\\x96\\xb1\\xd3\\x9b\\x10\\x8av!\\xbf?|\\xaa)\"\\xb4\\xaa2J\\x03H\\xe9\\xcbl\\xd8\\xc6\\x05\\xb4\\x06:pk\\x16\\x17{\\xba1x\\xe2\\xd6\\xb3\\xb6]\\x19\\xd1\"\\x11\\xb8\\x9b0\\xd7\\x93Ll/M[ \\xc3&\\xeez\\xb0\\xdf)\\x00\\x11\\xb8\\x9d\\xb0\\xe6\\xbf?y\\x1b\\xbb\\xa39\\x90d\\xf4\\xe3\\xd7\\x8b%\\x00\\xf4\\x19M\\x9e?\\\\\\xb0\\x01R&n\\x97F!\\xd1\\x9b\\x18\\xa5\\x1a\\x88\\xb6\\xdc\\x1c;ey\\xd6\\x899\\x89\\xbe\\xac\\xb6\\xcbIH\\x1b\\t5Al\\x11\\x98\\x1c]\\x1d\\xd9A\\xc5\\xad+\\x8e\\x8c\\xc4!\\xa3V\\xe9B\\x00\\x01\\x01N\\x8c\\xd66\\xd3Bc\\x10\\xde\\x83?\\xff\\xc4\\x000\\x10\\x00\\x02\\x02\\x01\\x03\\x04\\x01\\x04\\x02\\x02\\x01\\x04\\x03\\x00\\x00\\x00\\x00\\x01\\x02\\x11\\x03\\x10\\x121\\x04!AQ \\x13\"2qa\\x81\\x05\\x91\\x15\\x14#0BCR\\xb1\\xff\\xda\\x00\\x08\\x01\\x01\\x00\\x01?\\x00\\x1b%!\\xc8\\xdc7\\xa2tFf\\xf3x\\xa4)\\x16^\\xaf\\xe0\\xc6I\\x8fD\\xc82\\xcb\\x13\\x16\\x92\\x1f:2\\xcd\\xc3cc\\x1a\\xf8\\xd9l\\x8b\"\\xcb\\x13\\x13\"\\x9c\\xb8V$H\\x94%\\x1a\\xb5\\xab$I\\x8fX\\xb3p\\xe4FDYd\\xe4]\\xb1h\\xcad\\xa4^\\x8c\\x7f\\x04\\x85\\x11DKH\\xb2=\\xda^\\xd9\\x1cQ\\x84\\x9bJ\\xad#6:\\xfb\\xd7\\xf6c\\x8d\\xcf\\xfa\\'\\x8dN\\ry\\xf0=f\\x8c\\x9d\\x8b\\xd5:7\\x0eDfBc\\x99\\x92d-\\x91\\x89\\xb0\\xfaf\\xd2LB\\x7f\\x16!\\x14a\\xc0\\xf39$\\xea\\x8c\\xb82b\\xfc\\x97ob:\\x7f\\xbb.5\\xfc\\xe8\\xd2j\\x8cp\\xdb\\x7f\\xb1\\x1dN\\'\\xb9\\xca(\\xa6\\xdaI[f>\\x92\\xd7\\xde\\xc7\\xd2c\\xfan5\\xdf\\xd9\\xf4\\x1eY\\xa8\\xc7\\xcb:\\xce\\x9a=>H\\xc6.\\xfe\\xc4\\xd8\\xb5hkH\\xc8R\\xb1c\\xdcC\\x19\\x18\\x1bF\\x8b_\\x1a\\xf8\":t.\\xb2I{\\x88\\xf6\\xc94\\xce\\xab\\xa4\\xd9s\\xc7\\xc7\\x94tJ\\xf3\\xaf\\xe16y\\xd5\\xbaZc\\xc3\\x18\\xceR^E\\xd8|6t\\xb8\\xfe\\xe9L\\xeb\\xfe\\xfc\\xd3g\\x0cL\\xbd(\\xa1E\\x90\\x83\\xb2\\x11\\xec%\\xa3\\x1f\\xfe\\x06Y\\x12\"07\\x1c\\xb0k\\xddh\\x99\\x0c\\x10\\xc7\\x92S\\x8f\\x95\\xc0\\xb9z\\xc9\\xf1\\xa4t\\xcb\\xf85\\xef\\xb1\\x14\\xa1\\x0e\\xdc#\"\\xdc\\xdb\\xf6K\\t\\x8f\\xa3\\xcb\\x97\\xf0\\x8fol\\xcf\\xd1d\\xc1O\\x98\\xfb6\\xb2\\x85\\x1bdq\\x8a\\x14\\xc4\\xb5zP\\xbe,\\x93,\\x83\"#\\x07l\\xb0\\xfd\\xfc\\xbc|\\x11?\\x06gX\\xdf\\xf3\\xd8\\x8e)du\\x14c\\xe9\\xb1\\xc6\\x9b[\\x98\\x91\\xd6\\xd3\\x8ca\\xfc\\xd8\\xf1\\x0e\\x1d\\xc8@H\\xa1j\\xc6\\xe8\\xde\\x84\\xcb\\xf86I\\x96t\\xdf\\xe3\\x93\\xc4\\xa5\\x95\\xc9H\\x97@\\xd7\\xe1;\\xfe\\x19,Y \\xfe\\xe84E\\xd5?Bw\\xf1|j\\xc4s!\\xc7\\xea\\xca\\xdf\\xe0\\x84\\x92T\\x95!\\x17FIo\\x9b\\x91\"Pq}\\xd3D~L\\xcb3|\\xf4L\\xbd\\x1b\\x1b\\x1e\\x9f\\xe2\\xfa\\xabK\\x04\\xdf\\x1f\\x86\\x8d\\x12\\xc1\\x8e_\\xfa\\x90\\x8b\\x84v\\xdd\\xd7\\x1f\\x06>5|\\x8d\\xd2?\\x8db\\xed\\x1dF_\\xfe8\\xff\\x00d0N\\\\\\xf6Dq\\xc2\\x0b\\xedGS\\x91d\\x9fn\\x17d/\\x8bcd\\xa3g\\xd1D\\xd0\\xb5llzb\\xb4\\xd3F\\x0c\\x92\\x9e(Jk\\xeeh\\xbf\\x93<j\\xbd\\x97n\\xc5\\xa3B\\xba\\xecB\\x10\\x87\\x0b\\xbf\\xbd:\\x8c\\xdc\\xc2?\\xdb$GV\\xe8s-\\xb2\\x98\\xa2m\\x19Eh\\xccx\\xdel\\xb0\\xc6\\x9dnug\\xfc?\\xbc\\xef\\xfd\\x0b\\xfcF\\x0f9&\\xcf\\xf8\\xbck\\x8c\\x93!\\x17\\x08F/\\xc2\\xaf\\x9b|\\x92\\xcb\\x188\\xa7\\xcc\\x9d\"Y\\x94*\\xd72Q_\\xb6,\\x91\\x9cm;E\\xf6\\xa4/\\x82\\xd37P\\x95\\xc6\\x0f\\xf6\\xc9Hl\\xb3y\\xbc\\xb6\\xc4\\x85\\x12\\x8a\\xf94&\\xe3%%\\xcav\\x8e\\x97\\xaa\\x87Q\\x1fS\\xf3\\x1d_\\xcaLl\\xa9O\\xed\\xc9\\xcc27\\x11\\xc1I\\xdf/\\xbc\\xbfL\\xc6\\x9e=\\x895\\xb60\\xa5|\\xb6\\xc5:t\\xfd\\xd0\\xabK\\xd1V\\x9d\\x9f)\\x12\\xc1\\x86\\\\\\xe3\\x89\\x93\\xa1\\x83\\xfc$\\xd1\\x93\\x1c\\xf1\\xc9\\xc6\\\\\\x94m\\x14D\\x84\\xb4\\xb2\\xcb,Z44`\\xc9\\xf4sB~\\x99\\t\\xc3\"\\xb8II{Z\\xbf\\x83\\'\\\\\\xb7\\xed\\x19#\\xbe\\rr\\x9at\\x97-\\nT\\xb9\\xee\\x92\\xed&\\x9dW\\xba7I\\xb5I>\\xdd\\xaaO\\x8ffT\\xb2\\xed\\x83\\xf3N\\xd7\\x8fI17\\xb5wV\\xbb\\x7fd2Uy\\xf4\\xc4\\xa4\\xf9t$\\xbe2\\x9c \\xaeRH\\x9f]\\x05\\xf8A\\xc8\\xc97\\x96{\\x9aK\\xf4QEie\\x96_\\xc9\\x9b&\\xdd(J\\xff\\x00L\\xc7\\x83\\xab\\x8c\\x93\\x86,\\x89\\x983u\\x8b\\xb6\\\\.HRL\\xbd,\\xdcJq\\x1f\\xf1\\x1f+\\x86I\\'w\\x0f\\xde\\xe7\\xc2~H\\xc7l\\x93\\xa4\\xae\\x97wm\\xa4F\\xdbm>\\xee}\\x97\\xae\\xd4vPU\\xbbm9Uw\\xda>\\xfc\\\\\\x92iW\\xaa#V\\xe9\\xaeH\\xad[I[d\\xba\\x95u\\x08I\\x93\\xc9\\xd4\\xc9}\\xa9\\xaf\\xd1\\xf4\\xb3r\\xe13d\\x971k\\xf6\\x8a\\x12\\xd1\\xbd\\x1f\\xc6\\x8a\\xd2\\xc93\\xa3\\xeb\\xa1\\x08F\\x19&\\xd5\\x11\\x9e<\\x8a\\xe1(\\xcb\\xf4\\xc6\\xbe4\\x89\\xafHj\\xbc*\\xf7\\xe4\\x92[e\\xb5\\\\U\\xb7\\x14\\xbf\"\\\\\\xcd\\xc5%]\\xfb\\xa7\\xf9\\x0f\\xb2q\\xe5(\\xb7M\\xf7\\xb6G\\x99?N\\xb9\\xe3\\xb7\\x05mT\\x9d6\\x92\\xfb\\x9f&5M6\\x9bb\\x9a7\\xc4y=!\\xdc\\xb9bBD\\xa7\\x18+\\x93H\\xc9\\xd4\\xee\\xb5\\x05\\xd8Ccw\\xa3e\\xfch\\xda5CczD\\xc5\\x9f,x\\xc9#\\xa7\\xcd\\xf5\\x13M\\xfd\\xcb\\xe3%fL|wucn\\xdcU\\xdd\\xabK\\xc1k\\xf1\\xf5\\xd9\\xb7\\xc2.\\x1d\\x9f\\x8f\\x1e\\x92#+\\xbaJ\\xfd\\xff\\x00\\xf8C\\xbbi>?\\x82\\x10\\xf3\\xdc\\xa4lF\\xc3\\xb2\\xf2Jj+\\xb2l\\x9fS\\x93\\x84\\xb6\\x97)\\xbbm\\xb3\\x81\\xb1\\xc8\\xdeo/\\xe5\\x1d&I\\xea\\x883\\x1eYBI\\xc7\\x93\\x1c\\xa7(\\xad\\xd1\\xa7\\xf1i\\x13\\xc4\\xe5%]\\x95\\xdb%&\\xa3\\xb9\\'&J\\x13\\x86G\\xdb\\x94\\xbe\\xeft\\xf8\\x12\\x9bi\\xbbQj\\xcd\\x90sMvu\\xca\\x14\\xab\\x94)G\\xd9\\xb9\\x0ee\\xb6\\xca\\x1c#%MY>\\x96\\x95\\xc3\\xfd\\x0e\\xd3i\\xaakI\\x0e\\xc4\\xd9\\x11|\\x10\\xa2\\xcb&2\\xb5\\xc1\\x07\\x96q\\x82\\xf2b\\xc5\\x18%\\x18\\xaaH\\xaf\\x83(t\\x93#\\x8dvu\\xc18\\xda!\\x14\\xa2\\x8d\\xab\\xd0\\xd2\\xf28\\x15\\xa2(\\xad3\\xe0YW\\xa9.\\x18\\xd3M\\xa7\\xd9\\xa1\\x8d\\x14!|#\\xc9\\x18\\xaa2*d\\x861\\xe9\\xd1\\xf4\\x8f\\x02\\xb9\\xfelN\\x8d\\xff\\x00\\xc0\\xe6\\xcbZv\\x1c\\x92\\xf299\\xb5\\xe8C\\x10\\x86\\xad\\x11\\x97\\x86R\\xf04N\\x7fM[V\\x88f\\xc7.&\\xb5fy\\xac\\x92\\xbd\\x9bd\\xbb2\\x8a(\\xb1HL\\xb2\\xc4C\\x832\\x18\\xf4b:;}6&\\xdd\\xbd\\xbaJp\\x87\\xe5$\\x88\\xb5$\\xa4\\xb8e\\x14V\\x91Z\\xaeE\\xa4\\x97q\\xcd\\xe3N^\\x17%\\xa9$\\xd3\\xb4\\xc6\\x93M2i\\xc2r\\x83\\xf0\\xc8\\xb6\\xb8lyr.\\'/\\xf6<\\xb9\\x1f3\\x97\\xfb\\xd5\\x8c\\x90\\x99\\x17zQ\\x1eL|\\x19P\\xd1$1\\x88\\xc7\\x97$\\x15FrK\\xd2b\\xcd\\x9a|\\xe4\\x93\\xfe\\xccp\\xdd(\\xafn\\x84\\xa9R(\\xa1\\x89\\x16\\x92#-\\xd6:H\\\\\\xde\\xb3\\xf1\\xa6,\\xdf\\xf4\\x99\\xe5\\x86o\\xfe\\xdbw\\x17\\xea\\xf4\\xeb!S\\x84\\xfd\\xaab\\xe0\\x96\\xa9\\x8ccE\\x10#\\xa4y!\\xc12j\\x89\\x8fD#\\x12:h^D\\xfdi<\\xb8\\xe1\\xcb\\xfe\\x91\\x93\\xab\\xcb<\\x90\\xc7\\x8f\\xedNi_\\x91-%\\xed\\xb2=\\\\\\x9eI\\xca2i6}f\\xf9\\x93f)\\xac\\x90M\\x0bI\\xf8\\x11\\xfeG\\x15\\xacs_\\xa3\\xa3\\xea\\xdc+\\x1eN<?GU\\xb5\\xe1\\xe7\\xcah\\\\\\x12\\x1f\\xc6\\x86\\x8b\\xa6FF\\xe2\\x04FdD\\x86\\x8a\\x12\\xd3\\x11\\t\\xca7\\xb5\\xb5f\\xf9\\xb4\\x96\\xe7D\\x88R\\xcf\\x89\\xbf\\xfe\\xebFu\\xbdZ\\x92x\\xb1>\\xdedE\\xd0\\xb23\\xa4\\xcd\\xb2T\\xff\\x00\\x17\\xaeL\\xd0S\\xda\\xd9\\x16\\xa4\\xad3\\xa8\\x8e\\xec2\\xfe;\\x8e\\x08R\\x9a\\x86\\xcd\\xcfo\\xa1>\\xc3}\\xfe\\x0bY\\x12f\\xea7\\x98\\xc8\\x8c\\xc8Iw(\\xa2\\x8a1\\xa1\\x08d\\x97\\x92\\x1df6\\x9e\\xeb\\x8bH\\xeaz\\xb9\\xe6\\xb8\\xaf\\xb6\\x04\\x88\\x90\\x89\\x18\\x90\\xcd\\x92\\x0f\\x94\\xe3\\xe8\\x97R\\xa9m_\\xd3\\x1d\\xb6\\xdb0fP\\xfbe\\xc7\\xb2U\\xb5\\xdf\\x15\\xabz\\xbd\\x16\\xb3%\\xce\\xb8\\xc8\\x8c\\x92\\'\\x13k6\\x94$@B\\xd1\\x93$\\xc6\\xc8\"\\x08ZQC>\\xb6X\\xc1\\xc1>\\xdf\\'\\xf0\\xb2r\\x1b\\xd7\\x19\\x1d$R6\\xa1\\xc5\\x12\\x8a)\\x10\"-\\x19\\x90\\x9b\\xd3\\x11\\x1d\"=\\x18\\xf4z\\xa1\\xfc\\x19=\\x10\\x92?\\xff\\xc4\\x00\\'\\x11\\x00\\x02\\x02\\x02\\x01\\x04\\x01\\x04\\x03\\x01\\x00\\x00\\x00\\x00\\x00\\x00\\x01\\x02\\x00\\x11\\x03\\x10!\\x12 1A\\x04\\x13\\x14\"Q0Rqa\\xff\\xda\\x00\\x08\\x01\\x02\\x01\\x01?\\x000n\\xa1\\x15\\xab\\x84\\xc0A\\x16!\\x83DJ\\xd9\\xef0\\xb0\\x02\\xc9\\x80\\x82,\\x19\\xf2\\x18\\xd8\\x17\\xea\\x0c\\xb5\\x88\\x83\\xe7\\xd4\\xc1\\x93\\xa7\\xf1\\'\\x88\\xf9\\x15<\\x98\\x99U\\xaf\\xfeE!\\x80#dh\\xf7\\x99\\x90Z7\\xf9\\x13!C2\\xb8v\\xb1\\xbb\\'\\x92`j\\x05G\\x931\\x90\\xaa\\x04\\xfa\\x89u\\xd4/D\\xc2\\x7f\\x80\\xe6\\xc7\\xd4E\\xce\\x19M\\x1f\"\\x1e\\xd4\\xae\\xab>\\x04l\\xac\\xde8\\x13\\x10\\xb6\\xbf\\xd4V\\xec\\x02\\xcc\\xe8\\xed\\xf98\\xc2\\xb7P\\xf7\\x03\\x15\\xf0H\\x84\\xd9\\xbe\\xe1\\x06J\\x14\\xa2bC}Gd\\xc1,\\xef\\xd1\\xaf1\\xb2\\xe6RAb#;\\xb0\\xe5\\xafu\\x15\\x07\\x93:\\x14\\x8e<\\xc2+j@<\\x8b\\x832\\xfb\\x04K\\xbd\\x01\\xda\\x0c\\xcd\\x8d^\\x89`\\x0cu*|\\x83\\xb4\\x10x\\xa88<F\\xaa\\xd8\\xc6\\xc7\\xf4?\\xd3\\x17\\x12{k\\x81hV\\x89\\x97,\\xec\\t\\x93\\xe3+\\x1b\\x06\\xa3\\xe0d\\x04\\xf0v\\x8dPi\\xcdm1\\xb3\\xf8\\x89\\x85W\\x93\\xcc\\xbf\\xe1\\xcf\\x91S\\x8a\\xb2a\\xf7\\xc6\\xc3\\x91S\\xac\\x9fP\\xde\\xc5\\xccy\\x88\\xe1\\xb5}\\x87\\x987\\x95\\x98\\xe4bM\\x9b\\x9c\\xd5\\xcb\\x97\\xb3\\xe2\\x0f5\\x00\\x00\\x8b\\x1cO\\xb7\\x07\\x95i\\xf6\\xed\\xfd\\x84\\x00(\\x03U\\xda4\\xca\\xbehO\\x90m\\x80\\xfd\\x08\\xb8\\x9d\\xbdq\\xfb\\x95\\x11\\x0b\\xddz\\x8c\\xa5e\\xe8\\xa7\\xd4\\xc62\\x0f>\\xe6\\x03i\\xd8\\x0c\"V\\xc6\\x9aP>@\\x87\\x90D\\\\.\\xc6\\xaa\\xa2\"\\xa2\\xd0\\x8e\\x8a\\xc0\\x88\\xd8\\x1c\\x1a\\x1c\\xc7\\xc1Kb\\xc9\\x98\\x0f\\xe2D\\x1cv\\x89B{\\x86uN\\xa8N\\x8cXt\\xcdF)\\xb9@]\\x084t7\\xff\\xc4\\x00#\\x11\\x01\\x00\\x02\\x01\\x02\\x07\\x01\\x01\\x01\\x00\\x00\\x00\\x00\\x00\\x00\\x00\\x01\\x00\\x11\\x02\\x100\\x03\\x12 !1AQ\\x13\"a\\xff\\xda\\x00\\x08\\x01\\x03\\x01\\x01?\\x00\\xd9J\\xd9\\xbe\\xb2\\xd8\\x958G\\x96r\\x7fc8\\x98\\xdfrc\\x8b\\x94qJ\\x89[\\xb85\\x912\\xc0I\\x8e<\\xa6\\x84g/\\x86-\\xac\\xa6\\xae\\xb6\\xff\\x00<\\xaa\\x16\\'K2\\xbeZ\\x86\\x0636\\x8e\\xaa\\xe9\\xc3+\\xed+\\xad\\xf19m\\xb6g\\x97\\xa3\\xa6\\xfa9q\\xf4L@\\xf0j\\x12\\xa2D\\xad\\x18\\xdb\\x1c\\x1d\\x9c\\x14\\xf4\\xc3\\xbe\\x95\\x02x\\xd5\\xd1\\xc8>\\xb1\\xcf/\\x9b\\'\\x11&<Ak\\\\]V\\x89\\xda\\x15\\xeae\\x9dy\\x99q\\x17\\xc6\\xd6\\x189w\\xba\\xae\\x83.\\xd3\\x98\\xa8\\xe42\\x86PE\\x99\\xe0>%V\\xc8\\x06 O\\xe6T\\xe5\\xff\\x00c\\xf0\\x9e\\xb4~\\x92\\xd4\\x9f\\xa7\\xd2~\\x87\\xc8\\xb6\\xec\\xdb\\xf6p\\xfc,\\xe7\\x0fr\\xe3F\\xa7\\x89\\xcdY#8\\x85e\\xb9o\\xd84\\x91\\xcc\\x0b\\x8eJ\\xdc\\xe7a\\x9e/\\xb9\\x8f\\x12\\xda\\x9c_#\\xd4l\\x9a\\x84e\\xae\\xc7\\xff\\xd9'\n"
     ]
    }
   ],
   "source": [
    "with open('flower.png','wb+') as f:\n",
    "    f.write(data)\n",
    "    f.seek(0)\n",
    "    print(f.read())"
   ]
  },
  {
   "cell_type": "markdown",
   "id": "68a7cf80-dbfa-42bd-a87c-6349dc4b1349",
   "metadata": {},
   "source": [
    "# Iterators and Generators"
   ]
  },
  {
   "cell_type": "markdown",
   "id": "0cccba66-b1f8-4547-b3d1-8590b3eb5936",
   "metadata": {},
   "source": [
    "### Iterable, Iteration, Iterator"
   ]
  },
  {
   "cell_type": "markdown",
   "id": "8d2dc0e3-ede6-42e2-afb2-4f0de20b154f",
   "metadata": {},
   "source": [
    "# Iterable"
   ]
  },
  {
   "cell_type": "code",
   "execution_count": 383,
   "id": "8567ee79-41cf-464b-858d-8cc397adac0c",
   "metadata": {},
   "outputs": [],
   "source": [
    "# - Any object that we can apply for loop upon is an iterable.\n",
    "# - Any object that contains __iter__ method defined in its class is an iterable object.\n",
    "# - Any object that we can get the iterator object from is an iterable."
   ]
  },
  {
   "cell_type": "code",
   "execution_count": 359,
   "id": "db907ad6-5586-484c-b2c6-e3666be03f33",
   "metadata": {},
   "outputs": [],
   "source": [
    "# Examples- String, List, Tuple, Dictionary, Set, Frozenset, Range, Bytes, Bytearray"
   ]
  },
  {
   "cell_type": "code",
   "execution_count": 361,
   "id": "d2ddd508-c9b7-4104-8ef5-ff0b722f5936",
   "metadata": {},
   "outputs": [
    {
     "name": "stdout",
     "output_type": "stream",
     "text": [
      "H\n",
      "e\n",
      "l\n",
      "l\n",
      "o\n",
      " \n",
      "P\n",
      "y\n",
      "t\n",
      "h\n",
      "o\n",
      "n\n"
     ]
    }
   ],
   "source": [
    "a=\"Hello Python\"\n",
    "for i in a:\n",
    "    print(i)"
   ]
  },
  {
   "cell_type": "code",
   "execution_count": 363,
   "id": "a529b7a6-64f6-489b-bde4-f09e9c8c3d94",
   "metadata": {},
   "outputs": [
    {
     "ename": "TypeError",
     "evalue": "'complex' object is not iterable",
     "output_type": "error",
     "traceback": [
      "\u001b[1;31m---------------------------------------------------------------------------\u001b[0m",
      "\u001b[1;31mTypeError\u001b[0m                                 Traceback (most recent call last)",
      "Cell \u001b[1;32mIn[363], line 2\u001b[0m\n\u001b[0;32m      1\u001b[0m a\u001b[38;5;241m=\u001b[39m\u001b[38;5;241m5\u001b[39m\u001b[38;5;241m+\u001b[39m\u001b[38;5;241m5\u001b[39mj\n\u001b[1;32m----> 2\u001b[0m \u001b[38;5;28;01mfor\u001b[39;00m i \u001b[38;5;129;01min\u001b[39;00m a:\n\u001b[0;32m      3\u001b[0m     \u001b[38;5;28mprint\u001b[39m(i)\n",
      "\u001b[1;31mTypeError\u001b[0m: 'complex' object is not iterable"
     ]
    }
   ],
   "source": [
    "a=5+5j\n",
    "for i in a:\n",
    "    print(i)"
   ]
  },
  {
   "cell_type": "code",
   "execution_count": 365,
   "id": "7617392b-14cf-460b-b9a5-14c76d50b0e7",
   "metadata": {},
   "outputs": [
    {
     "name": "stdout",
     "output_type": "stream",
     "text": [
      "10\n",
      "20\n",
      "30\n",
      "40\n"
     ]
    }
   ],
   "source": [
    "for i in [10,20,30,40]:\n",
    "    print(i)"
   ]
  },
  {
   "cell_type": "code",
   "execution_count": 367,
   "id": "c851d32f-5587-4936-bc0e-712ed9ecb569",
   "metadata": {},
   "outputs": [
    {
     "ename": "TypeError",
     "evalue": "'float' object is not iterable",
     "output_type": "error",
     "traceback": [
      "\u001b[1;31m---------------------------------------------------------------------------\u001b[0m",
      "\u001b[1;31mTypeError\u001b[0m                                 Traceback (most recent call last)",
      "Cell \u001b[1;32mIn[367], line 1\u001b[0m\n\u001b[1;32m----> 1\u001b[0m \u001b[38;5;28;01mfor\u001b[39;00m i \u001b[38;5;129;01min\u001b[39;00m \u001b[38;5;241m2.8\u001b[39m:\n\u001b[0;32m      2\u001b[0m     \u001b[38;5;28mprint\u001b[39m(i)\n",
      "\u001b[1;31mTypeError\u001b[0m: 'float' object is not iterable"
     ]
    }
   ],
   "source": [
    "for i in 2.8:\n",
    "    print(i)"
   ]
  },
  {
   "cell_type": "code",
   "execution_count": 375,
   "id": "a837333f-fbc2-4e56-b3e9-9f1fd1d02b07",
   "metadata": {},
   "outputs": [
    {
     "name": "stdout",
     "output_type": "stream",
     "text": [
      "Python class <class 'str'>\n"
     ]
    }
   ],
   "source": [
    "a='Python class'\n",
    "print(a,type(a))"
   ]
  },
  {
   "cell_type": "code",
   "execution_count": 377,
   "id": "d8752788-7cc1-4fac-a3cb-828d806719d3",
   "metadata": {},
   "outputs": [
    {
     "name": "stdout",
     "output_type": "stream",
     "text": [
      "['__add__', '__class__', '__contains__', '__delattr__', '__dir__', '__doc__', '__eq__', '__format__', '__ge__', '__getattribute__', '__getitem__', '__getnewargs__', '__getstate__', '__gt__', '__hash__', '__init__', '__init_subclass__', '__iter__', '__le__', '__len__', '__lt__', '__mod__', '__mul__', '__ne__', '__new__', '__reduce__', '__reduce_ex__', '__repr__', '__rmod__', '__rmul__', '__setattr__', '__sizeof__', '__str__', '__subclasshook__', 'capitalize', 'casefold', 'center', 'count', 'encode', 'endswith', 'expandtabs', 'find', 'format', 'format_map', 'index', 'isalnum', 'isalpha', 'isascii', 'isdecimal', 'isdigit', 'isidentifier', 'islower', 'isnumeric', 'isprintable', 'isspace', 'istitle', 'isupper', 'join', 'ljust', 'lower', 'lstrip', 'maketrans', 'partition', 'removeprefix', 'removesuffix', 'replace', 'rfind', 'rindex', 'rjust', 'rpartition', 'rsplit', 'rstrip', 'split', 'splitlines', 'startswith', 'strip', 'swapcase', 'title', 'translate', 'upper', 'zfill']\n"
     ]
    }
   ],
   "source": [
    "print(dir(a))"
   ]
  },
  {
   "cell_type": "code",
   "execution_count": 379,
   "id": "c7b9db31-6dcb-46a8-9a34-9d5cc192179e",
   "metadata": {},
   "outputs": [
    {
     "name": "stdout",
     "output_type": "stream",
     "text": [
      "['__abs__', '__add__', '__and__', '__bool__', '__ceil__', '__class__', '__delattr__', '__dir__', '__divmod__', '__doc__', '__eq__', '__float__', '__floor__', '__floordiv__', '__format__', '__ge__', '__getattribute__', '__getnewargs__', '__getstate__', '__gt__', '__hash__', '__index__', '__init__', '__init_subclass__', '__int__', '__invert__', '__le__', '__lshift__', '__lt__', '__mod__', '__mul__', '__ne__', '__neg__', '__new__', '__or__', '__pos__', '__pow__', '__radd__', '__rand__', '__rdivmod__', '__reduce__', '__reduce_ex__', '__repr__', '__rfloordiv__', '__rlshift__', '__rmod__', '__rmul__', '__ror__', '__round__', '__rpow__', '__rrshift__', '__rshift__', '__rsub__', '__rtruediv__', '__rxor__', '__setattr__', '__sizeof__', '__str__', '__sub__', '__subclasshook__', '__truediv__', '__trunc__', '__xor__', 'as_integer_ratio', 'bit_count', 'bit_length', 'conjugate', 'denominator', 'from_bytes', 'imag', 'numerator', 'real', 'to_bytes']\n"
     ]
    }
   ],
   "source": [
    "print(dir(int))"
   ]
  },
  {
   "cell_type": "code",
   "execution_count": 381,
   "id": "48d4c9a5-c0ca-40d7-a264-032215fc6494",
   "metadata": {},
   "outputs": [
    {
     "name": "stdout",
     "output_type": "stream",
     "text": [
      "['__add__', '__bytes__', '__class__', '__contains__', '__delattr__', '__dir__', '__doc__', '__eq__', '__format__', '__ge__', '__getattribute__', '__getitem__', '__getnewargs__', '__getstate__', '__gt__', '__hash__', '__init__', '__init_subclass__', '__iter__', '__le__', '__len__', '__lt__', '__mod__', '__mul__', '__ne__', '__new__', '__reduce__', '__reduce_ex__', '__repr__', '__rmod__', '__rmul__', '__setattr__', '__sizeof__', '__str__', '__subclasshook__', 'capitalize', 'center', 'count', 'decode', 'endswith', 'expandtabs', 'find', 'fromhex', 'hex', 'index', 'isalnum', 'isalpha', 'isascii', 'isdigit', 'islower', 'isspace', 'istitle', 'isupper', 'join', 'ljust', 'lower', 'lstrip', 'maketrans', 'partition', 'removeprefix', 'removesuffix', 'replace', 'rfind', 'rindex', 'rjust', 'rpartition', 'rsplit', 'rstrip', 'split', 'splitlines', 'startswith', 'strip', 'swapcase', 'title', 'translate', 'upper', 'zfill']\n"
     ]
    }
   ],
   "source": [
    "print(dir(bytes))"
   ]
  },
  {
   "cell_type": "markdown",
   "id": "73bd0acf-8dff-4b04-b1cd-8ee5ad1ac3d6",
   "metadata": {},
   "source": [
    "# Iterator"
   ]
  },
  {
   "cell_type": "code",
   "execution_count": 388,
   "id": "fc28ee9f-e32e-4905-a476-f705ef9af43b",
   "metadata": {},
   "outputs": [],
   "source": [
    "# - Any object that has __iter__ and __next__ methods defined in its class is an iterator object.\n",
    "# - The iterable objects are converted into the iterator objects.\n",
    "# Examples- enumerate, zip, map, filter etc. "
   ]
  },
  {
   "cell_type": "code",
   "execution_count": 392,
   "id": "92fc2c6e-0ac6-4816-a0f1-b248d773fd52",
   "metadata": {},
   "outputs": [
    {
     "name": "stdout",
     "output_type": "stream",
     "text": [
      "['__class__', '__delattr__', '__dir__', '__doc__', '__eq__', '__format__', '__ge__', '__getattribute__', '__getstate__', '__gt__', '__hash__', '__init__', '__init_subclass__', '__iter__', '__le__', '__lt__', '__ne__', '__new__', '__next__', '__reduce__', '__reduce_ex__', '__repr__', '__setattr__', '__sizeof__', '__str__', '__subclasshook__']\n"
     ]
    }
   ],
   "source": [
    "print(dir(map))"
   ]
  },
  {
   "cell_type": "code",
   "execution_count": 394,
   "id": "5a311d82-00ca-4fca-973d-5dd2eda04d70",
   "metadata": {},
   "outputs": [
    {
     "name": "stdout",
     "output_type": "stream",
     "text": [
      "['__class__', '__delattr__', '__dir__', '__doc__', '__eq__', '__format__', '__ge__', '__getattribute__', '__getstate__', '__gt__', '__hash__', '__init__', '__init_subclass__', '__iter__', '__le__', '__lt__', '__ne__', '__new__', '__next__', '__reduce__', '__reduce_ex__', '__repr__', '__setattr__', '__sizeof__', '__str__', '__subclasshook__']\n"
     ]
    }
   ],
   "source": [
    "print(dir(filter))"
   ]
  },
  {
   "cell_type": "code",
   "execution_count": 396,
   "id": "cde0b1bb-d8e4-4ca9-8de0-2761c0e982ec",
   "metadata": {},
   "outputs": [
    {
     "name": "stdout",
     "output_type": "stream",
     "text": [
      "['__class__', '__delattr__', '__dir__', '__doc__', '__eq__', '__format__', '__ge__', '__getattribute__', '__getstate__', '__gt__', '__hash__', '__init__', '__init_subclass__', '__iter__', '__le__', '__lt__', '__ne__', '__new__', '__next__', '__reduce__', '__reduce_ex__', '__repr__', '__setattr__', '__setstate__', '__sizeof__', '__str__', '__subclasshook__']\n"
     ]
    }
   ],
   "source": [
    "print(dir(zip))"
   ]
  },
  {
   "cell_type": "markdown",
   "id": "b2a8ba98-3374-4d12-be58-a26059b23e4d",
   "metadata": {},
   "source": [
    "# Iteration"
   ]
  },
  {
   "cell_type": "code",
   "execution_count": 399,
   "id": "ddb8b7e1-228c-4c47-9309-572f6fc5ef3a",
   "metadata": {},
   "outputs": [],
   "source": [
    "# - It is also knwon as repeatition.\n",
    "# - Traversing upon the elements of an iterable is known as iteration."
   ]
  },
  {
   "cell_type": "code",
   "execution_count": 401,
   "id": "cdfce160-59cc-443d-baf0-b74ce19bfa06",
   "metadata": {},
   "outputs": [
    {
     "name": "stdout",
     "output_type": "stream",
     "text": [
      "P\n",
      "y\n",
      "t\n",
      "h\n",
      "o\n",
      "n\n"
     ]
    }
   ],
   "source": [
    "for i in \"Python\":\n",
    "    print(i)"
   ]
  },
  {
   "cell_type": "code",
   "execution_count": 407,
   "id": "0b187037-e575-4be2-bbb0-6c89e0c0104d",
   "metadata": {},
   "outputs": [
    {
     "name": "stdout",
     "output_type": "stream",
     "text": [
      "P\n",
      "y\n",
      "t\n",
      "h\n",
      "o\n",
      "n\n"
     ]
    }
   ],
   "source": [
    "a=\"Python\"\n",
    "for i in a:\n",
    "    print(i)"
   ]
  },
  {
   "cell_type": "code",
   "execution_count": 409,
   "id": "bb33c01b-bccb-4007-9f6a-eb1f206de81b",
   "metadata": {},
   "outputs": [],
   "source": [
    "# Iterable -> Fetching the elements one by one. (Not possible)\n",
    "# Iterable -> Iterator -> Fetch the elements one by one. (Possible)"
   ]
  },
  {
   "cell_type": "code",
   "execution_count": 411,
   "id": "8a97b421-5ecd-4dfb-9696-978e148ff4ac",
   "metadata": {},
   "outputs": [],
   "source": [
    "# - We can not fetch the elemnts one by one from an iterable directly.\n",
    "# - Fisrt the itetable has to be converted into an iterator object.\n",
    "# - From the iterator object we can fetch the elements one by one."
   ]
  },
  {
   "cell_type": "code",
   "execution_count": 413,
   "id": "4ee82fa5-c190-45b3-bd60-97f073409d13",
   "metadata": {},
   "outputs": [],
   "source": [
    "a='Python'"
   ]
  },
  {
   "cell_type": "code",
   "execution_count": 415,
   "id": "0b91ddfa-2366-40bd-844a-434d4ffb2037",
   "metadata": {},
   "outputs": [],
   "source": [
    "# Step_1 -> Convert the iterable into an iterator.\n",
    "# Step_2 -> Fetch the elements one by one from the iterator."
   ]
  },
  {
   "cell_type": "markdown",
   "id": "6746ef63-3439-430f-94a4-749906d0ad6a",
   "metadata": {},
   "source": [
    "# iter()"
   ]
  },
  {
   "cell_type": "code",
   "execution_count": 418,
   "id": "8eaeefd2-7cf1-4d13-91e8-04269abf9843",
   "metadata": {},
   "outputs": [],
   "source": [
    "# - It takes an iterable as an argument and returns an iterator object."
   ]
  },
  {
   "cell_type": "code",
   "execution_count": 420,
   "id": "6a7c53a5-f1e5-4c3d-b84b-0715bc27871d",
   "metadata": {},
   "outputs": [
    {
     "name": "stdout",
     "output_type": "stream",
     "text": [
      "<str_ascii_iterator object at 0x0000017350F05420> <class 'str_ascii_iterator'>\n"
     ]
    }
   ],
   "source": [
    "a=\"Python\"\n",
    "\n",
    "b=iter(a)\n",
    "print(b,type(b))"
   ]
  },
  {
   "cell_type": "code",
   "execution_count": 422,
   "id": "b8f31e5d-89d5-452d-9647-95e14d52dc9a",
   "metadata": {},
   "outputs": [
    {
     "name": "stdout",
     "output_type": "stream",
     "text": [
      "['__class__', '__delattr__', '__dir__', '__doc__', '__eq__', '__format__', '__ge__', '__getattribute__', '__getstate__', '__gt__', '__hash__', '__init__', '__init_subclass__', '__iter__', '__le__', '__length_hint__', '__lt__', '__ne__', '__new__', '__next__', '__reduce__', '__reduce_ex__', '__repr__', '__setattr__', '__setstate__', '__sizeof__', '__str__', '__subclasshook__']\n"
     ]
    }
   ],
   "source": [
    "print(dir(b))"
   ]
  },
  {
   "cell_type": "markdown",
   "id": "19f4d2b4-c3b7-482d-b180-47915696f6a7",
   "metadata": {},
   "source": [
    "# next()"
   ]
  },
  {
   "cell_type": "code",
   "execution_count": 425,
   "id": "5d9f95e4-d8e1-4daf-9ef5-727441c4d7c3",
   "metadata": {},
   "outputs": [],
   "source": [
    "# - It takes an iterator object as an argument.\n",
    "# - It always returns the next element from the iterator object.\n",
    "# - If there is no next element available then it raises StopItewrationError"
   ]
  },
  {
   "cell_type": "code",
   "execution_count": 429,
   "id": "28d9d99c-7e7b-4859-af90-284dcaa3661c",
   "metadata": {},
   "outputs": [
    {
     "name": "stdout",
     "output_type": "stream",
     "text": [
      "P\n"
     ]
    }
   ],
   "source": [
    "print(next(b))"
   ]
  },
  {
   "cell_type": "code",
   "execution_count": 431,
   "id": "8622ad4d-9a23-49a7-b36e-9cc2087d28e8",
   "metadata": {},
   "outputs": [
    {
     "name": "stdout",
     "output_type": "stream",
     "text": [
      "y\n"
     ]
    }
   ],
   "source": [
    "print(next(b))"
   ]
  },
  {
   "cell_type": "code",
   "execution_count": 433,
   "id": "6d954ad1-a8d3-4594-b3d7-013333ab38ab",
   "metadata": {},
   "outputs": [
    {
     "name": "stdout",
     "output_type": "stream",
     "text": [
      "t\n"
     ]
    }
   ],
   "source": [
    "print(next(b))"
   ]
  },
  {
   "cell_type": "code",
   "execution_count": 435,
   "id": "72fa0a99-ed33-42ae-a7e4-b6afed676d9f",
   "metadata": {},
   "outputs": [
    {
     "name": "stdout",
     "output_type": "stream",
     "text": [
      "h\n"
     ]
    }
   ],
   "source": [
    "print(next(b))"
   ]
  },
  {
   "cell_type": "code",
   "execution_count": 437,
   "id": "a02483bf-321a-4f86-8bb2-1c936df56d13",
   "metadata": {},
   "outputs": [
    {
     "name": "stdout",
     "output_type": "stream",
     "text": [
      "o\n"
     ]
    }
   ],
   "source": [
    "print(next(b))"
   ]
  },
  {
   "cell_type": "code",
   "execution_count": 439,
   "id": "482e87d3-1d6a-41c7-ab93-3d5cadde58ff",
   "metadata": {},
   "outputs": [
    {
     "name": "stdout",
     "output_type": "stream",
     "text": [
      "n\n"
     ]
    }
   ],
   "source": [
    "print(next(b))"
   ]
  },
  {
   "cell_type": "code",
   "execution_count": 441,
   "id": "9b9b88fd-6846-445f-8f41-008d74ad3a98",
   "metadata": {},
   "outputs": [
    {
     "ename": "StopIteration",
     "evalue": "",
     "output_type": "error",
     "traceback": [
      "\u001b[1;31m---------------------------------------------------------------------------\u001b[0m",
      "\u001b[1;31mStopIteration\u001b[0m                             Traceback (most recent call last)",
      "Cell \u001b[1;32mIn[441], line 1\u001b[0m\n\u001b[1;32m----> 1\u001b[0m \u001b[38;5;28mprint\u001b[39m(\u001b[38;5;28mnext\u001b[39m(b))\n",
      "\u001b[1;31mStopIteration\u001b[0m: "
     ]
    }
   ],
   "source": [
    "print(next(b))"
   ]
  },
  {
   "cell_type": "code",
   "execution_count": null,
   "id": "b8cb37b5-57f4-4955-8b04-5b6a80b06225",
   "metadata": {},
   "outputs": [],
   "source": []
  }
 ],
 "metadata": {
  "kernelspec": {
   "display_name": "Python 3 (ipykernel)",
   "language": "python",
   "name": "python3"
  },
  "language_info": {
   "codemirror_mode": {
    "name": "ipython",
    "version": 3
   },
   "file_extension": ".py",
   "mimetype": "text/x-python",
   "name": "python",
   "nbconvert_exporter": "python",
   "pygments_lexer": "ipython3",
   "version": "3.11.4"
  }
 },
 "nbformat": 4,
 "nbformat_minor": 5
}
