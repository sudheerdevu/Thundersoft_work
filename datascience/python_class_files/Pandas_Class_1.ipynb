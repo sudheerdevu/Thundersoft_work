{
 "cells": [
  {
   "cell_type": "code",
   "execution_count": 5,
   "id": "26cc0c9a-78b9-4c0b-8592-b93e0e262c54",
   "metadata": {},
   "outputs": [],
   "source": [
    "# - Pandas is a Python library that is used for data manipulation as MS Excel.\n",
    "# - Pandas stands for Panel Data.\n",
    "# - In Pandas we work with tabular data.\n",
    "# - In Pandas we work with two objects, 1- Series and 2- Data frame.\n",
    "# - We have to import Pandas first to use it."
   ]
  },
  {
   "cell_type": "markdown",
   "id": "87603ed1-9221-4174-b2f5-54378a0cee98",
   "metadata": {},
   "source": [
    "# Importing Pandas"
   ]
  },
  {
   "cell_type": "code",
   "execution_count": 8,
   "id": "71ae7a14-1cf8-4252-9705-04fd90846c3e",
   "metadata": {},
   "outputs": [],
   "source": [
    "import pandas as pd"
   ]
  },
  {
   "cell_type": "markdown",
   "id": "2c3f8434-7a0d-47b5-a563-96e2fdcb0f60",
   "metadata": {},
   "source": [
    "# Version"
   ]
  },
  {
   "cell_type": "code",
   "execution_count": 11,
   "id": "6df8c46d-4051-4a1e-8da4-dbb85544995d",
   "metadata": {},
   "outputs": [
    {
     "data": {
      "text/plain": [
       "'1.5.3'"
      ]
     },
     "execution_count": 11,
     "metadata": {},
     "output_type": "execute_result"
    }
   ],
   "source": [
    "pd.__version__"
   ]
  },
  {
   "cell_type": "markdown",
   "id": "916e1368-58ac-4253-9cc8-10d1a39b9a20",
   "metadata": {},
   "source": [
    "# Series"
   ]
  },
  {
   "cell_type": "code",
   "execution_count": 16,
   "id": "78d4e7e6-76e8-4cf3-87d2-9a3254f2c30b",
   "metadata": {},
   "outputs": [],
   "source": [
    "# - A series is like a 1-D array staructure.\n",
    "# - A series shows the values and their indexes too.\n",
    "# - It can be treated as a column from a table (Excel table)\n",
    "# - Note- A series does not have any header."
   ]
  },
  {
   "cell_type": "markdown",
   "id": "64a551ae-e1de-45d0-ae2c-cbeefe6b4356",
   "metadata": {},
   "source": [
    "# Creating a series"
   ]
  },
  {
   "cell_type": "code",
   "execution_count": 19,
   "id": "4e53e376-2790-4558-8820-0e340b9f9969",
   "metadata": {},
   "outputs": [],
   "source": [
    "# pd.Series(list/tuple/array/dictionary)"
   ]
  },
  {
   "cell_type": "markdown",
   "id": "94815d4a-20b6-4bb9-a1a6-ffc3e829f779",
   "metadata": {},
   "source": [
    "### Using list/tuple/arrays"
   ]
  },
  {
   "cell_type": "code",
   "execution_count": 22,
   "id": "b428b50f-d7b4-48af-9797-6213ca92b616",
   "metadata": {},
   "outputs": [
    {
     "name": "stdout",
     "output_type": "stream",
     "text": [
      "[10, 20, 30, 40, 50, 60, 70, 80] <class 'list'>\n"
     ]
    }
   ],
   "source": [
    "lst=[10,20,30,40,50,60,70,80]\n",
    "print(lst,type(lst))"
   ]
  },
  {
   "cell_type": "code",
   "execution_count": 24,
   "id": "12b1af2b-b228-4dbc-b870-d2a1bb8b39f9",
   "metadata": {},
   "outputs": [],
   "source": [
    "nums=pd.Series(lst)"
   ]
  },
  {
   "cell_type": "code",
   "execution_count": 28,
   "id": "d86f5102-54a2-4ab3-be36-4c8af1ae0cff",
   "metadata": {},
   "outputs": [
    {
     "data": {
      "text/plain": [
       "0    10\n",
       "1    20\n",
       "2    30\n",
       "3    40\n",
       "4    50\n",
       "5    60\n",
       "6    70\n",
       "7    80\n",
       "dtype: int64"
      ]
     },
     "execution_count": 28,
     "metadata": {},
     "output_type": "execute_result"
    }
   ],
   "source": [
    "nums"
   ]
  },
  {
   "cell_type": "code",
   "execution_count": 30,
   "id": "3efb5868-5450-4a1d-8839-de9f2318ff81",
   "metadata": {},
   "outputs": [
    {
     "name": "stdout",
     "output_type": "stream",
     "text": [
      "(10, 20, 30, 40, 50, 60, 70, 80) <class 'tuple'>\n"
     ]
    }
   ],
   "source": [
    "t=(10,20,30,40,50,60,70,80)\n",
    "print(t,type(t))"
   ]
  },
  {
   "cell_type": "code",
   "execution_count": 34,
   "id": "806911ec-2fa7-45d4-89e1-1367f1e92971",
   "metadata": {},
   "outputs": [],
   "source": [
    "nums=pd.Series(t)"
   ]
  },
  {
   "cell_type": "code",
   "execution_count": 42,
   "id": "0d73c6d0-ad31-48f5-a6ee-e40699d80959",
   "metadata": {},
   "outputs": [
    {
     "data": {
      "text/plain": [
       "0    10\n",
       "1    20\n",
       "2    30\n",
       "3    40\n",
       "4    50\n",
       "5    60\n",
       "6    70\n",
       "7    80\n",
       "dtype: int64"
      ]
     },
     "execution_count": 42,
     "metadata": {},
     "output_type": "execute_result"
    }
   ],
   "source": [
    "nums"
   ]
  },
  {
   "cell_type": "code",
   "execution_count": 38,
   "id": "628cb2b0-133a-4ef3-b677-f4b13bd1a5ed",
   "metadata": {},
   "outputs": [
    {
     "data": {
      "text/plain": [
       "pandas.core.series.Series"
      ]
     },
     "execution_count": 38,
     "metadata": {},
     "output_type": "execute_result"
    }
   ],
   "source": [
    "type(nums)"
   ]
  },
  {
   "cell_type": "code",
   "execution_count": 46,
   "id": "a9f007cb-07b6-4aac-83bf-5087d3dee374",
   "metadata": {},
   "outputs": [],
   "source": [
    "import numpy as np"
   ]
  },
  {
   "cell_type": "code",
   "execution_count": 48,
   "id": "1894eb46-1332-4280-a90c-34f3d0db0498",
   "metadata": {},
   "outputs": [
    {
     "data": {
      "text/plain": [
       "array([10, 20, 30, 40, 50])"
      ]
     },
     "execution_count": 48,
     "metadata": {},
     "output_type": "execute_result"
    }
   ],
   "source": [
    "arr=np.array([10,20,30,40,50])\n",
    "arr"
   ]
  },
  {
   "cell_type": "code",
   "execution_count": 52,
   "id": "687b54d4-da95-4773-844b-8b5b0eccb05a",
   "metadata": {},
   "outputs": [],
   "source": [
    "nums=pd.Series(arr)"
   ]
  },
  {
   "cell_type": "code",
   "execution_count": 54,
   "id": "4f68a7a1-08c6-470e-99dc-22f7fec531cf",
   "metadata": {},
   "outputs": [
    {
     "data": {
      "text/plain": [
       "0    10\n",
       "1    20\n",
       "2    30\n",
       "3    40\n",
       "4    50\n",
       "dtype: int32"
      ]
     },
     "execution_count": 54,
     "metadata": {},
     "output_type": "execute_result"
    }
   ],
   "source": [
    "nums"
   ]
  },
  {
   "cell_type": "markdown",
   "id": "9c2fd217-e8f5-4271-8d2b-b2e773d4a261",
   "metadata": {},
   "source": [
    "### Using a dictionary"
   ]
  },
  {
   "cell_type": "code",
   "execution_count": 57,
   "id": "c002335a-4a48-4a66-a07c-e84b00ad99d8",
   "metadata": {},
   "outputs": [],
   "source": [
    "# - When we create a series using a dictionary then the keys becom the indexes.\n",
    "# - The values become the values"
   ]
  },
  {
   "cell_type": "code",
   "execution_count": 61,
   "id": "7ac82954-4fbd-4ed2-8e73-b3b533c62b34",
   "metadata": {},
   "outputs": [
    {
     "name": "stdout",
     "output_type": "stream",
     "text": [
      "{'Name': 'Jayanth', 'Age': 25, 'City': 'Pune', 'Salary': 88000} <class 'dict'>\n"
     ]
    }
   ],
   "source": [
    "d={'Name':'Jayanth','Age':25,'City':'Pune','Salary':88000}\n",
    "print(d,type(d))"
   ]
  },
  {
   "cell_type": "code",
   "execution_count": 65,
   "id": "28b1593e-a9cf-406d-a5c1-08524e3e0e4a",
   "metadata": {},
   "outputs": [],
   "source": [
    "emp=pd.Series(d)"
   ]
  },
  {
   "cell_type": "code",
   "execution_count": 67,
   "id": "a559b8a0-678d-49d6-9d63-482c2b4aa743",
   "metadata": {},
   "outputs": [
    {
     "data": {
      "text/plain": [
       "Name      Jayanth\n",
       "Age            25\n",
       "City         Pune\n",
       "Salary      88000\n",
       "dtype: object"
      ]
     },
     "execution_count": 67,
     "metadata": {},
     "output_type": "execute_result"
    }
   ],
   "source": [
    "emp"
   ]
  },
  {
   "cell_type": "code",
   "execution_count": 75,
   "id": "9f197f3b-d02d-4dff-8409-dadc6ee29247",
   "metadata": {},
   "outputs": [],
   "source": [
    "# pd.Series(frozenset({10,20,30,40,50}))"
   ]
  },
  {
   "cell_type": "code",
   "execution_count": 79,
   "id": "bd83605f-2f73-4fea-8674-53e818801a9b",
   "metadata": {},
   "outputs": [
    {
     "data": {
      "text/plain": [
       "0     10\n",
       "1     11\n",
       "2     12\n",
       "3     13\n",
       "4     14\n",
       "5     15\n",
       "6     16\n",
       "7     17\n",
       "8     18\n",
       "9     19\n",
       "10    20\n",
       "dtype: int64"
      ]
     },
     "execution_count": 79,
     "metadata": {},
     "output_type": "execute_result"
    }
   ],
   "source": [
    "pd.Series(range(10,21))"
   ]
  },
  {
   "cell_type": "markdown",
   "id": "f38f0459-f1ee-4c4b-84ca-a22e6095626e",
   "metadata": {},
   "source": [
    "# Attributes on a series"
   ]
  },
  {
   "cell_type": "markdown",
   "id": "ca334f3d-0089-43cd-801d-9fcf5bdf4f2e",
   "metadata": {},
   "source": [
    "### size"
   ]
  },
  {
   "cell_type": "code",
   "execution_count": 83,
   "id": "53404a47-4dfa-4710-a8fd-d178b551474e",
   "metadata": {},
   "outputs": [],
   "source": [
    "# - It returns the number of elememts in a series."
   ]
  },
  {
   "cell_type": "code",
   "execution_count": 85,
   "id": "e622d5c5-7a6c-4c58-bd39-4f6e79c6fc52",
   "metadata": {},
   "outputs": [
    {
     "data": {
      "text/plain": [
       "0    10\n",
       "1    20\n",
       "2    30\n",
       "3    40\n",
       "4    50\n",
       "dtype: int32"
      ]
     },
     "execution_count": 85,
     "metadata": {},
     "output_type": "execute_result"
    }
   ],
   "source": [
    "nums"
   ]
  },
  {
   "cell_type": "code",
   "execution_count": 87,
   "id": "29f34681-2857-49d8-a758-1f81d0e888a5",
   "metadata": {},
   "outputs": [
    {
     "data": {
      "text/plain": [
       "5"
      ]
     },
     "execution_count": 87,
     "metadata": {},
     "output_type": "execute_result"
    }
   ],
   "source": [
    "nums.size"
   ]
  },
  {
   "cell_type": "code",
   "execution_count": 89,
   "id": "268b31a7-5be1-4e52-8f9a-35eb70fbcd6b",
   "metadata": {},
   "outputs": [
    {
     "data": {
      "text/plain": [
       "Name      Jayanth\n",
       "Age            25\n",
       "City         Pune\n",
       "Salary      88000\n",
       "dtype: object"
      ]
     },
     "execution_count": 89,
     "metadata": {},
     "output_type": "execute_result"
    }
   ],
   "source": [
    "emp"
   ]
  },
  {
   "cell_type": "code",
   "execution_count": 91,
   "id": "3a44ecee-a20d-4190-a83d-62b8780ed11c",
   "metadata": {},
   "outputs": [
    {
     "data": {
      "text/plain": [
       "4"
      ]
     },
     "execution_count": 91,
     "metadata": {},
     "output_type": "execute_result"
    }
   ],
   "source": [
    "emp.size"
   ]
  },
  {
   "cell_type": "code",
   "execution_count": 93,
   "id": "e17d7e38-3405-40ac-b8b9-d4f7c068e152",
   "metadata": {},
   "outputs": [
    {
     "data": {
      "text/plain": [
       "5"
      ]
     },
     "execution_count": 93,
     "metadata": {},
     "output_type": "execute_result"
    }
   ],
   "source": [
    "len(nums)"
   ]
  },
  {
   "cell_type": "code",
   "execution_count": 95,
   "id": "26ed71f5-a563-4723-9f18-c4a0f087dc2c",
   "metadata": {},
   "outputs": [
    {
     "data": {
      "text/plain": [
       "4"
      ]
     },
     "execution_count": 95,
     "metadata": {},
     "output_type": "execute_result"
    }
   ],
   "source": [
    "len(emp)"
   ]
  },
  {
   "cell_type": "markdown",
   "id": "cd96269a-87ca-44eb-a305-619d638eda64",
   "metadata": {},
   "source": [
    "### dtype"
   ]
  },
  {
   "cell_type": "code",
   "execution_count": 126,
   "id": "5df623a9-a978-474f-ba8e-e1c779b85a7d",
   "metadata": {},
   "outputs": [],
   "source": [
    "# - It returns the datatype of the elements a series contains.\n",
    "# - A series also follows upcasting method as arrays.\n",
    "# - A series has numeric types and object type (non-numeric)"
   ]
  },
  {
   "cell_type": "code",
   "execution_count": 100,
   "id": "6c00ecc8-1d8f-4f5d-956e-20f43361e5c4",
   "metadata": {},
   "outputs": [],
   "source": [
    "# ser.dtype"
   ]
  },
  {
   "cell_type": "code",
   "execution_count": 102,
   "id": "db920331-d2eb-4925-8bed-cb2b0a567233",
   "metadata": {},
   "outputs": [],
   "source": [
    "nums=pd.Series([10,20,30,40,50,60,70,80])"
   ]
  },
  {
   "cell_type": "code",
   "execution_count": 104,
   "id": "f979e7a2-7024-4521-afbf-3a618cd8e956",
   "metadata": {},
   "outputs": [
    {
     "data": {
      "text/plain": [
       "0    10\n",
       "1    20\n",
       "2    30\n",
       "3    40\n",
       "4    50\n",
       "5    60\n",
       "6    70\n",
       "7    80\n",
       "dtype: int64"
      ]
     },
     "execution_count": 104,
     "metadata": {},
     "output_type": "execute_result"
    }
   ],
   "source": [
    "nums"
   ]
  },
  {
   "cell_type": "code",
   "execution_count": 106,
   "id": "9c31525d-7f3c-4f64-9f7a-64b5d8a8e259",
   "metadata": {},
   "outputs": [
    {
     "data": {
      "text/plain": [
       "dtype('int64')"
      ]
     },
     "execution_count": 106,
     "metadata": {},
     "output_type": "execute_result"
    }
   ],
   "source": [
    "nums.dtype"
   ]
  },
  {
   "cell_type": "code",
   "execution_count": 110,
   "id": "a7943294-2fe2-42d4-9810-6d3f64ce9eb2",
   "metadata": {},
   "outputs": [],
   "source": [
    "nums=pd.Series([10,20,30,40.66,50,60,70,80])"
   ]
  },
  {
   "cell_type": "code",
   "execution_count": 112,
   "id": "d9ea9c73-4563-465c-aaa4-6daf5b45cbb8",
   "metadata": {},
   "outputs": [
    {
     "data": {
      "text/plain": [
       "0    10.00\n",
       "1    20.00\n",
       "2    30.00\n",
       "3    40.66\n",
       "4    50.00\n",
       "5    60.00\n",
       "6    70.00\n",
       "7    80.00\n",
       "dtype: float64"
      ]
     },
     "execution_count": 112,
     "metadata": {},
     "output_type": "execute_result"
    }
   ],
   "source": [
    "nums"
   ]
  },
  {
   "cell_type": "code",
   "execution_count": 114,
   "id": "82e395b2-9cd8-43eb-9d76-5c01b7d8e5cb",
   "metadata": {},
   "outputs": [
    {
     "data": {
      "text/plain": [
       "dtype('float64')"
      ]
     },
     "execution_count": 114,
     "metadata": {},
     "output_type": "execute_result"
    }
   ],
   "source": [
    "nums.dtype"
   ]
  },
  {
   "cell_type": "code",
   "execution_count": 122,
   "id": "08d87b7d-e30c-47f5-9f5e-7c489102f3cd",
   "metadata": {},
   "outputs": [],
   "source": [
    "nums=pd.Series([10,20.55,30,40,50+6j,60,70,80])"
   ]
  },
  {
   "cell_type": "code",
   "execution_count": 124,
   "id": "a3556b5e-7820-492f-8a1d-6c1fe32f5938",
   "metadata": {},
   "outputs": [
    {
     "data": {
      "text/plain": [
       "0    10.00+0.00j\n",
       "1    20.55+0.00j\n",
       "2    30.00+0.00j\n",
       "3    40.00+0.00j\n",
       "4    50.00+6.00j\n",
       "5    60.00+0.00j\n",
       "6    70.00+0.00j\n",
       "7    80.00+0.00j\n",
       "dtype: complex128"
      ]
     },
     "execution_count": 124,
     "metadata": {},
     "output_type": "execute_result"
    }
   ],
   "source": [
    "nums"
   ]
  },
  {
   "cell_type": "code",
   "execution_count": 120,
   "id": "c6e4e279-e641-41b1-a744-d638a9f06a47",
   "metadata": {},
   "outputs": [
    {
     "data": {
      "text/plain": [
       "dtype('complex128')"
      ]
     },
     "execution_count": 120,
     "metadata": {},
     "output_type": "execute_result"
    }
   ],
   "source": [
    "nums.dtype"
   ]
  },
  {
   "cell_type": "code",
   "execution_count": 128,
   "id": "3b712bc8-ddf6-4941-b079-5131d15ca590",
   "metadata": {},
   "outputs": [],
   "source": [
    "nums=pd.Series([10,20,30,'40',50,60,70,80])"
   ]
  },
  {
   "cell_type": "code",
   "execution_count": 130,
   "id": "5bc84519-d318-47ef-b04d-46e74013f27f",
   "metadata": {},
   "outputs": [
    {
     "data": {
      "text/plain": [
       "0    10\n",
       "1    20\n",
       "2    30\n",
       "3    40\n",
       "4    50\n",
       "5    60\n",
       "6    70\n",
       "7    80\n",
       "dtype: object"
      ]
     },
     "execution_count": 130,
     "metadata": {},
     "output_type": "execute_result"
    }
   ],
   "source": [
    "nums"
   ]
  },
  {
   "cell_type": "markdown",
   "id": "fc16f4ca-3a31-4248-945c-0b451fa8b5f6",
   "metadata": {},
   "source": [
    "### shape"
   ]
  },
  {
   "cell_type": "code",
   "execution_count": 133,
   "id": "e65c4600-bd0c-4f83-a21a-ad66bad7e73b",
   "metadata": {},
   "outputs": [],
   "source": [
    "# - In case of a series shape returns a tuple of single element that represents the number of elements."
   ]
  },
  {
   "cell_type": "code",
   "execution_count": 135,
   "id": "5a701b87-739a-40a9-b5e6-15882b73aa30",
   "metadata": {},
   "outputs": [
    {
     "data": {
      "text/plain": [
       "0    10\n",
       "1    20\n",
       "2    30\n",
       "3    40\n",
       "4    50\n",
       "5    60\n",
       "6    70\n",
       "7    80\n",
       "dtype: object"
      ]
     },
     "execution_count": 135,
     "metadata": {},
     "output_type": "execute_result"
    }
   ],
   "source": [
    "nums"
   ]
  },
  {
   "cell_type": "code",
   "execution_count": 137,
   "id": "a6ff336c-20e8-41d4-996a-dadf58ede04b",
   "metadata": {},
   "outputs": [
    {
     "data": {
      "text/plain": [
       "(8,)"
      ]
     },
     "execution_count": 137,
     "metadata": {},
     "output_type": "execute_result"
    }
   ],
   "source": [
    "nums.shape"
   ]
  },
  {
   "cell_type": "markdown",
   "id": "adf17f2b-21f2-4885-a236-a4887ff40ae3",
   "metadata": {},
   "source": [
    "### ndim"
   ]
  },
  {
   "cell_type": "code",
   "execution_count": 140,
   "id": "066c1aeb-ce53-45f9-8546-06861d5ad4c5",
   "metadata": {},
   "outputs": [],
   "source": [
    "# - It returns the dimension.\n",
    "# - A series is a one dimesional structure. "
   ]
  },
  {
   "cell_type": "code",
   "execution_count": 142,
   "id": "13285089-5af9-4825-a7cc-53043b871a4b",
   "metadata": {},
   "outputs": [
    {
     "data": {
      "text/plain": [
       "0    10\n",
       "1    20\n",
       "2    30\n",
       "3    40\n",
       "4    50\n",
       "5    60\n",
       "6    70\n",
       "7    80\n",
       "dtype: object"
      ]
     },
     "execution_count": 142,
     "metadata": {},
     "output_type": "execute_result"
    }
   ],
   "source": [
    "nums"
   ]
  },
  {
   "cell_type": "code",
   "execution_count": 144,
   "id": "b314e96c-10f0-4acf-8b20-33b1b879a92b",
   "metadata": {},
   "outputs": [
    {
     "data": {
      "text/plain": [
       "1"
      ]
     },
     "execution_count": 144,
     "metadata": {},
     "output_type": "execute_result"
    }
   ],
   "source": [
    "nums.ndim"
   ]
  },
  {
   "cell_type": "markdown",
   "id": "9bed8f2f-cab5-4d43-abd9-2f8b712f3bcc",
   "metadata": {},
   "source": [
    "### name"
   ]
  },
  {
   "cell_type": "code",
   "execution_count": 147,
   "id": "275d0e78-e363-4360-a4e7-deec1ea9f9dc",
   "metadata": {},
   "outputs": [],
   "source": [
    "# - We can assign or change a name of a series."
   ]
  },
  {
   "cell_type": "code",
   "execution_count": 149,
   "id": "d80cdc3d-6625-42a1-b7f0-372640ef8e7f",
   "metadata": {},
   "outputs": [
    {
     "data": {
      "text/plain": [
       "0    10\n",
       "1    20\n",
       "2    30\n",
       "3    40\n",
       "4    50\n",
       "5    60\n",
       "6    70\n",
       "7    80\n",
       "dtype: object"
      ]
     },
     "execution_count": 149,
     "metadata": {},
     "output_type": "execute_result"
    }
   ],
   "source": [
    "nums"
   ]
  },
  {
   "cell_type": "code",
   "execution_count": 151,
   "id": "b7cdc30d-9551-4a3e-a5d6-206f610fbe0c",
   "metadata": {},
   "outputs": [],
   "source": [
    "nums.name='Numbers'"
   ]
  },
  {
   "cell_type": "code",
   "execution_count": 153,
   "id": "95e311fd-6f82-41ca-b5a2-725c0ecf90ba",
   "metadata": {},
   "outputs": [
    {
     "data": {
      "text/plain": [
       "0    10\n",
       "1    20\n",
       "2    30\n",
       "3    40\n",
       "4    50\n",
       "5    60\n",
       "6    70\n",
       "7    80\n",
       "Name: Numbers, dtype: object"
      ]
     },
     "execution_count": 153,
     "metadata": {},
     "output_type": "execute_result"
    }
   ],
   "source": [
    "nums"
   ]
  },
  {
   "cell_type": "code",
   "execution_count": 155,
   "id": "85ecc852-4a15-4cfb-bd15-2eb2265c0389",
   "metadata": {},
   "outputs": [
    {
     "data": {
      "text/plain": [
       "'Numbers'"
      ]
     },
     "execution_count": 155,
     "metadata": {},
     "output_type": "execute_result"
    }
   ],
   "source": [
    "nums.name"
   ]
  },
  {
   "cell_type": "code",
   "execution_count": 157,
   "id": "9537efe4-ffd5-49da-9b00-f5170aae256f",
   "metadata": {},
   "outputs": [],
   "source": [
    "nums.name='Digits'"
   ]
  },
  {
   "cell_type": "code",
   "execution_count": 159,
   "id": "f7c1b80d-8f74-48b6-b9ba-b3d321d8e3ea",
   "metadata": {},
   "outputs": [
    {
     "data": {
      "text/plain": [
       "0    10\n",
       "1    20\n",
       "2    30\n",
       "3    40\n",
       "4    50\n",
       "5    60\n",
       "6    70\n",
       "7    80\n",
       "Name: Digits, dtype: object"
      ]
     },
     "execution_count": 159,
     "metadata": {},
     "output_type": "execute_result"
    }
   ],
   "source": [
    "nums"
   ]
  },
  {
   "cell_type": "markdown",
   "id": "99707da5-8ff0-4ace-9a3e-6ee6104e19e1",
   "metadata": {},
   "source": [
    "### index"
   ]
  },
  {
   "cell_type": "code",
   "execution_count": 166,
   "id": "de92b2b4-75de-4a9e-a0c1-751b531193d7",
   "metadata": {},
   "outputs": [],
   "source": [
    "# - In case of implicit indexes it returns the RangeIndex object that contains the start,stop and step\n",
    "# - In case of explicit indexes it return the Index object that contains a list of the indexes.\n",
    "\n",
    "# - Implicit Indexes (Python defined)\n",
    "# - Explicit Indexes (User defined)"
   ]
  },
  {
   "cell_type": "code",
   "execution_count": 168,
   "id": "2e65ac7b-857a-4aea-b077-c187e04e519d",
   "metadata": {},
   "outputs": [
    {
     "data": {
      "text/plain": [
       "0    10\n",
       "1    20\n",
       "2    30\n",
       "3    40\n",
       "4    50\n",
       "5    60\n",
       "6    70\n",
       "7    80\n",
       "Name: Digits, dtype: object"
      ]
     },
     "execution_count": 168,
     "metadata": {},
     "output_type": "execute_result"
    }
   ],
   "source": [
    "nums"
   ]
  },
  {
   "cell_type": "code",
   "execution_count": 170,
   "id": "fb528cbd-097e-4142-bea2-a64c4422152a",
   "metadata": {},
   "outputs": [
    {
     "data": {
      "text/plain": [
       "RangeIndex(start=0, stop=8, step=1)"
      ]
     },
     "execution_count": 170,
     "metadata": {},
     "output_type": "execute_result"
    }
   ],
   "source": [
    "nums.index"
   ]
  },
  {
   "cell_type": "code",
   "execution_count": 172,
   "id": "f0fa24c0-4947-433f-b2c7-381563e03986",
   "metadata": {},
   "outputs": [
    {
     "data": {
      "text/plain": [
       "Name      Jayanth\n",
       "Age            25\n",
       "City         Pune\n",
       "Salary      88000\n",
       "dtype: object"
      ]
     },
     "execution_count": 172,
     "metadata": {},
     "output_type": "execute_result"
    }
   ],
   "source": [
    "emp"
   ]
  },
  {
   "cell_type": "code",
   "execution_count": 174,
   "id": "85482791-7859-4b99-a9cb-ca2eb8209fc5",
   "metadata": {},
   "outputs": [
    {
     "data": {
      "text/plain": [
       "Index(['Name', 'Age', 'City', 'Salary'], dtype='object')"
      ]
     },
     "execution_count": 174,
     "metadata": {},
     "output_type": "execute_result"
    }
   ],
   "source": [
    "emp.index"
   ]
  },
  {
   "cell_type": "markdown",
   "id": "8f5da067-4ff7-4529-bb28-16b0e19c7578",
   "metadata": {},
   "source": [
    "### values"
   ]
  },
  {
   "cell_type": "code",
   "execution_count": 177,
   "id": "07e0f1ab-08ea-40e9-9b84-939dc95873ae",
   "metadata": {},
   "outputs": [],
   "source": [
    "# - It returns an array that contains the values from a series."
   ]
  },
  {
   "cell_type": "code",
   "execution_count": 179,
   "id": "828f6e38-6473-4776-b864-da1bb110541b",
   "metadata": {},
   "outputs": [
    {
     "data": {
      "text/plain": [
       "0    10\n",
       "1    20\n",
       "2    30\n",
       "3    40\n",
       "4    50\n",
       "5    60\n",
       "6    70\n",
       "7    80\n",
       "Name: Digits, dtype: object"
      ]
     },
     "execution_count": 179,
     "metadata": {},
     "output_type": "execute_result"
    }
   ],
   "source": [
    "nums"
   ]
  },
  {
   "cell_type": "code",
   "execution_count": 181,
   "id": "c3958961-449c-4798-9513-34f421afc63a",
   "metadata": {},
   "outputs": [
    {
     "data": {
      "text/plain": [
       "array([10, 20, 30, '40', 50, 60, 70, 80], dtype=object)"
      ]
     },
     "execution_count": 181,
     "metadata": {},
     "output_type": "execute_result"
    }
   ],
   "source": [
    "nums.values"
   ]
  },
  {
   "cell_type": "code",
   "execution_count": 183,
   "id": "dc7ecbe1-62b0-4d3d-9751-d9b1798dffee",
   "metadata": {},
   "outputs": [
    {
     "data": {
      "text/plain": [
       "Name      Jayanth\n",
       "Age            25\n",
       "City         Pune\n",
       "Salary      88000\n",
       "dtype: object"
      ]
     },
     "execution_count": 183,
     "metadata": {},
     "output_type": "execute_result"
    }
   ],
   "source": [
    "emp"
   ]
  },
  {
   "cell_type": "code",
   "execution_count": 185,
   "id": "c9f43688-711a-4fcb-b143-754d335eab03",
   "metadata": {},
   "outputs": [
    {
     "data": {
      "text/plain": [
       "array(['Jayanth', 25, 'Pune', 88000], dtype=object)"
      ]
     },
     "execution_count": 185,
     "metadata": {},
     "output_type": "execute_result"
    }
   ],
   "source": [
    "emp.values"
   ]
  },
  {
   "cell_type": "markdown",
   "id": "61aa5a8c-90dc-44c2-917a-f007089329ed",
   "metadata": {},
   "source": [
    "# Inexing and Slicing of a series"
   ]
  },
  {
   "cell_type": "markdown",
   "id": "7ac89e84-93bd-4b8f-bd33-31a206976ea4",
   "metadata": {},
   "source": [
    "### Indexing"
   ]
  },
  {
   "cell_type": "code",
   "execution_count": 189,
   "id": "a5529273-f344-4574-becb-2ebff8b12562",
   "metadata": {},
   "outputs": [],
   "source": [
    "# - A series may have implicit (default) indexes and the user defined indexes."
   ]
  },
  {
   "cell_type": "code",
   "execution_count": 195,
   "id": "f5002a95-3475-4070-87c1-47396197f5c6",
   "metadata": {},
   "outputs": [],
   "source": [
    "names=pd.Series(['Aditya', 'Pallavi', 'Jayanth', 'Deepak', 'Nidhi', 'Dhruv', 'Megha'])"
   ]
  },
  {
   "cell_type": "code",
   "execution_count": 197,
   "id": "2cb3998d-91c8-4f07-8994-715a97dac27d",
   "metadata": {},
   "outputs": [
    {
     "data": {
      "text/plain": [
       "0     Aditya\n",
       "1    Pallavi\n",
       "2    Jayanth\n",
       "3     Deepak\n",
       "4      Nidhi\n",
       "5      Dhruv\n",
       "6      Megha\n",
       "dtype: object"
      ]
     },
     "execution_count": 197,
     "metadata": {},
     "output_type": "execute_result"
    }
   ],
   "source": [
    "names"
   ]
  },
  {
   "cell_type": "code",
   "execution_count": 201,
   "id": "2f48b1c3-7423-4d36-ba2e-11360407da98",
   "metadata": {},
   "outputs": [],
   "source": [
    "# series.index=list of user defined indexes"
   ]
  },
  {
   "cell_type": "code",
   "execution_count": 207,
   "id": "0f87a34f-d581-46f3-80af-a315d48c23cf",
   "metadata": {},
   "outputs": [
    {
     "data": {
      "text/plain": [
       "['emp_1', 'emp_2', 'emp_3', 'emp_4', 'emp_5', 'emp_6', 'emp_7']"
      ]
     },
     "execution_count": 207,
     "metadata": {},
     "output_type": "execute_result"
    }
   ],
   "source": [
    "ind=['emp_'+str(i) for i in range(1,8)]\n",
    "ind"
   ]
  },
  {
   "cell_type": "code",
   "execution_count": 211,
   "id": "2837132e-4189-410d-8728-86cd24b457bd",
   "metadata": {},
   "outputs": [],
   "source": [
    "names.index=ind"
   ]
  },
  {
   "cell_type": "code",
   "execution_count": 213,
   "id": "faf5e247-1700-4b24-bd48-31294cf5272f",
   "metadata": {},
   "outputs": [
    {
     "data": {
      "text/plain": [
       "emp_1     Aditya\n",
       "emp_2    Pallavi\n",
       "emp_3    Jayanth\n",
       "emp_4     Deepak\n",
       "emp_5      Nidhi\n",
       "emp_6      Dhruv\n",
       "emp_7      Megha\n",
       "dtype: object"
      ]
     },
     "execution_count": 213,
     "metadata": {},
     "output_type": "execute_result"
    }
   ],
   "source": [
    "names"
   ]
  },
  {
   "cell_type": "code",
   "execution_count": 215,
   "id": "78731aff-8714-45c3-a292-33e33f81d217",
   "metadata": {},
   "outputs": [
    {
     "data": {
      "text/plain": [
       "Index(['emp_1', 'emp_2', 'emp_3', 'emp_4', 'emp_5', 'emp_6', 'emp_7'], dtype='object')"
      ]
     },
     "execution_count": 215,
     "metadata": {},
     "output_type": "execute_result"
    }
   ],
   "source": [
    "names.index"
   ]
  },
  {
   "cell_type": "code",
   "execution_count": 219,
   "id": "9b22ed52-44ff-45f4-a009-b29f28badf2c",
   "metadata": {},
   "outputs": [],
   "source": [
    "names=pd.Series(['Aditya', 'Pallavi', 'Jayanth', 'Deepak', 'Nidhi', 'Dhruv', 'Megha'],index=list('abcdefg'))"
   ]
  },
  {
   "cell_type": "code",
   "execution_count": 217,
   "id": "da057613-093e-4727-b79e-28e224126fe5",
   "metadata": {},
   "outputs": [
    {
     "data": {
      "text/plain": [
       "['a', 'b', 'c', 'd', 'e', 'f', 'g']"
      ]
     },
     "execution_count": 217,
     "metadata": {},
     "output_type": "execute_result"
    }
   ],
   "source": [
    "list('abcdefg')"
   ]
  },
  {
   "cell_type": "code",
   "execution_count": 221,
   "id": "21be6b13-354e-4710-b090-dc60b96a1d8a",
   "metadata": {},
   "outputs": [
    {
     "data": {
      "text/plain": [
       "a     Aditya\n",
       "b    Pallavi\n",
       "c    Jayanth\n",
       "d     Deepak\n",
       "e      Nidhi\n",
       "f      Dhruv\n",
       "g      Megha\n",
       "dtype: object"
      ]
     },
     "execution_count": 221,
     "metadata": {},
     "output_type": "execute_result"
    }
   ],
   "source": [
    "names"
   ]
  },
  {
   "cell_type": "markdown",
   "id": "dc9fb3fc-a747-4fcd-9666-71293d41169f",
   "metadata": {},
   "source": [
    "# Accessing the elements using the implicit and the explicit indexes"
   ]
  },
  {
   "cell_type": "code",
   "execution_count": 241,
   "id": "099f78a2-1d05-454d-971d-69cf8b5f3cf5",
   "metadata": {},
   "outputs": [],
   "source": [
    "# ser.iloc[implicit_index]\n",
    "# ser.loc[explicit_index]"
   ]
  },
  {
   "cell_type": "code",
   "execution_count": 243,
   "id": "11337570-f920-4bff-a04d-c9583397e45e",
   "metadata": {},
   "outputs": [
    {
     "data": {
      "text/plain": [
       "0    10\n",
       "1    20\n",
       "2    30\n",
       "3    40\n",
       "4    50\n",
       "5    60\n",
       "6    70\n",
       "7    80\n",
       "Name: Digits, dtype: object"
      ]
     },
     "execution_count": 243,
     "metadata": {},
     "output_type": "execute_result"
    }
   ],
   "source": [
    "nums"
   ]
  },
  {
   "cell_type": "code",
   "execution_count": 245,
   "id": "34d501d3-3f62-4a56-aeeb-4b8dbbdd4ad2",
   "metadata": {},
   "outputs": [
    {
     "data": {
      "text/plain": [
       "10"
      ]
     },
     "execution_count": 245,
     "metadata": {},
     "output_type": "execute_result"
    }
   ],
   "source": [
    "# First element\n",
    "nums.iloc[0]"
   ]
  },
  {
   "cell_type": "code",
   "execution_count": 247,
   "id": "cf95eb12-c4b1-4a49-aa79-595bccbaf1a8",
   "metadata": {},
   "outputs": [
    {
     "data": {
      "text/plain": [
       "10"
      ]
     },
     "execution_count": 247,
     "metadata": {},
     "output_type": "execute_result"
    }
   ],
   "source": [
    "nums.iloc[-8]"
   ]
  },
  {
   "cell_type": "code",
   "execution_count": 251,
   "id": "987b38ae-f111-40d7-8d3b-a3e4e0d5e0cd",
   "metadata": {},
   "outputs": [
    {
     "data": {
      "text/plain": [
       "-8"
      ]
     },
     "execution_count": 251,
     "metadata": {},
     "output_type": "execute_result"
    }
   ],
   "source": [
    "-len(nums)"
   ]
  },
  {
   "cell_type": "code",
   "execution_count": 253,
   "id": "37594d38-4561-403d-8320-193f10316dd1",
   "metadata": {},
   "outputs": [
    {
     "data": {
      "text/plain": [
       "10"
      ]
     },
     "execution_count": 253,
     "metadata": {},
     "output_type": "execute_result"
    }
   ],
   "source": [
    "nums.iloc[-len(nums)]"
   ]
  },
  {
   "cell_type": "code",
   "execution_count": 255,
   "id": "5bf88977-908a-41d7-8566-5a7f28322322",
   "metadata": {},
   "outputs": [
    {
     "data": {
      "text/plain": [
       "a     Aditya\n",
       "b    Pallavi\n",
       "c    Jayanth\n",
       "d     Deepak\n",
       "e      Nidhi\n",
       "f      Dhruv\n",
       "g      Megha\n",
       "dtype: object"
      ]
     },
     "execution_count": 255,
     "metadata": {},
     "output_type": "execute_result"
    }
   ],
   "source": [
    "names"
   ]
  },
  {
   "cell_type": "code",
   "execution_count": 257,
   "id": "afb2c783-3108-4e3c-bda8-c9d6a2295850",
   "metadata": {},
   "outputs": [
    {
     "data": {
      "text/plain": [
       "'Aditya'"
      ]
     },
     "execution_count": 257,
     "metadata": {},
     "output_type": "execute_result"
    }
   ],
   "source": [
    "# Fisrt element\n",
    "names.iloc[0]"
   ]
  },
  {
   "cell_type": "code",
   "execution_count": 259,
   "id": "1455cb79-7e58-482c-9b71-f8944917b658",
   "metadata": {},
   "outputs": [
    {
     "data": {
      "text/plain": [
       "'Aditya'"
      ]
     },
     "execution_count": 259,
     "metadata": {},
     "output_type": "execute_result"
    }
   ],
   "source": [
    "names.loc['a']"
   ]
  },
  {
   "cell_type": "code",
   "execution_count": 270,
   "id": "55000a3d-aacc-4d8a-b142-c517d9e5c818",
   "metadata": {},
   "outputs": [
    {
     "data": {
      "text/plain": [
       "'Deepak'"
      ]
     },
     "execution_count": 270,
     "metadata": {},
     "output_type": "execute_result"
    }
   ],
   "source": [
    "# Give the details of d\n",
    "names.loc['d']"
   ]
  },
  {
   "cell_type": "code",
   "execution_count": 272,
   "id": "200eb697-8416-473d-a9c1-b8e9f67dddf8",
   "metadata": {},
   "outputs": [],
   "source": [
    "# Last element"
   ]
  },
  {
   "cell_type": "code",
   "execution_count": 274,
   "id": "40709936-6668-49da-aa49-43fbcd7036dd",
   "metadata": {},
   "outputs": [
    {
     "data": {
      "text/plain": [
       "'Megha'"
      ]
     },
     "execution_count": 274,
     "metadata": {},
     "output_type": "execute_result"
    }
   ],
   "source": [
    "names.iloc[-1]"
   ]
  },
  {
   "cell_type": "code",
   "execution_count": 278,
   "id": "b7bf3081-efcd-4342-8ccb-3861af35b3da",
   "metadata": {},
   "outputs": [
    {
     "data": {
      "text/plain": [
       "'Megha'"
      ]
     },
     "execution_count": 278,
     "metadata": {},
     "output_type": "execute_result"
    }
   ],
   "source": [
    "names.iloc[6]"
   ]
  },
  {
   "cell_type": "code",
   "execution_count": 280,
   "id": "7ed460b4-ace9-4969-8c49-641084dd15ad",
   "metadata": {},
   "outputs": [
    {
     "data": {
      "text/plain": [
       "6"
      ]
     },
     "execution_count": 280,
     "metadata": {},
     "output_type": "execute_result"
    }
   ],
   "source": [
    "len(names)-1"
   ]
  },
  {
   "cell_type": "code",
   "execution_count": 282,
   "id": "96b0db67-cef6-4e7f-8720-a27b71a65f16",
   "metadata": {},
   "outputs": [
    {
     "data": {
      "text/plain": [
       "'Megha'"
      ]
     },
     "execution_count": 282,
     "metadata": {},
     "output_type": "execute_result"
    }
   ],
   "source": [
    "names.iloc[len(names)-1]"
   ]
  },
  {
   "cell_type": "code",
   "execution_count": 284,
   "id": "be14a54b-ab20-4b24-931d-fe82d28ad748",
   "metadata": {},
   "outputs": [
    {
     "data": {
      "text/plain": [
       "'Megha'"
      ]
     },
     "execution_count": 284,
     "metadata": {},
     "output_type": "execute_result"
    }
   ],
   "source": [
    "names.loc['g']"
   ]
  },
  {
   "cell_type": "markdown",
   "id": "03594d36-60e5-431e-923e-3a983e4a3b43",
   "metadata": {},
   "source": [
    "### Slicing"
   ]
  },
  {
   "cell_type": "code",
   "execution_count": 314,
   "id": "a0b55998-36c4-4195-9cea-6452a473e987",
   "metadata": {},
   "outputs": [],
   "source": [
    "# ser.iloc[start:stop:step]  (implicit) -> stop is excluded\n",
    "# ser.loc[start:stop:step]  (explicit) -> stop is included"
   ]
  },
  {
   "cell_type": "code",
   "execution_count": 292,
   "id": "57e4206f-2332-4e4c-aa9f-3941fcb61521",
   "metadata": {},
   "outputs": [
    {
     "data": {
      "text/plain": [
       "0    10\n",
       "1    20\n",
       "2    30\n",
       "3    40\n",
       "4    50\n",
       "5    60\n",
       "6    70\n",
       "7    80\n",
       "Name: Digits, dtype: object"
      ]
     },
     "execution_count": 292,
     "metadata": {},
     "output_type": "execute_result"
    }
   ],
   "source": [
    "nums"
   ]
  },
  {
   "cell_type": "code",
   "execution_count": 294,
   "id": "2d58120a-b9a4-4e7d-b27f-cd0836682db9",
   "metadata": {},
   "outputs": [],
   "source": [
    "# First three elements"
   ]
  },
  {
   "cell_type": "code",
   "execution_count": 300,
   "id": "1f0d5283-549c-4c45-9191-2b019525c33c",
   "metadata": {},
   "outputs": [
    {
     "data": {
      "text/plain": [
       "0    10\n",
       "1    20\n",
       "2    30\n",
       "Name: Digits, dtype: object"
      ]
     },
     "execution_count": 300,
     "metadata": {},
     "output_type": "execute_result"
    }
   ],
   "source": [
    "nums.iloc[0:3]"
   ]
  },
  {
   "cell_type": "code",
   "execution_count": 302,
   "id": "efa87cc6-7f04-414f-ae04-0e3b3135bc96",
   "metadata": {},
   "outputs": [
    {
     "data": {
      "text/plain": [
       "0    10\n",
       "1    20\n",
       "2    30\n",
       "Name: Digits, dtype: object"
      ]
     },
     "execution_count": 302,
     "metadata": {},
     "output_type": "execute_result"
    }
   ],
   "source": [
    "nums.iloc[0:3:1]"
   ]
  },
  {
   "cell_type": "code",
   "execution_count": 304,
   "id": "524bf5d9-f31a-4394-a812-b3760882520c",
   "metadata": {},
   "outputs": [],
   "source": [
    "# Reverse the series"
   ]
  },
  {
   "cell_type": "code",
   "execution_count": 306,
   "id": "249a5b06-eecb-466a-acf7-36dc424d99fd",
   "metadata": {},
   "outputs": [
    {
     "data": {
      "text/plain": [
       "7    80\n",
       "6    70\n",
       "5    60\n",
       "4    50\n",
       "3    40\n",
       "2    30\n",
       "1    20\n",
       "0    10\n",
       "Name: Digits, dtype: object"
      ]
     },
     "execution_count": 306,
     "metadata": {},
     "output_type": "execute_result"
    }
   ],
   "source": [
    "nums.iloc[::-1]"
   ]
  },
  {
   "cell_type": "code",
   "execution_count": 308,
   "id": "bb99a2ca-7e4a-4e6f-b3f4-cc7b8a3b7aea",
   "metadata": {},
   "outputs": [
    {
     "data": {
      "text/plain": [
       "a     Aditya\n",
       "b    Pallavi\n",
       "c    Jayanth\n",
       "d     Deepak\n",
       "e      Nidhi\n",
       "f      Dhruv\n",
       "g      Megha\n",
       "dtype: object"
      ]
     },
     "execution_count": 308,
     "metadata": {},
     "output_type": "execute_result"
    }
   ],
   "source": [
    "names"
   ]
  },
  {
   "cell_type": "code",
   "execution_count": 310,
   "id": "636a9242-9cfb-4e98-af2b-8b84cb285e35",
   "metadata": {},
   "outputs": [],
   "source": [
    "# First three elements"
   ]
  },
  {
   "cell_type": "code",
   "execution_count": 312,
   "id": "d8a64cc9-ddbf-4d77-a516-7ce8e30bd63e",
   "metadata": {},
   "outputs": [
    {
     "data": {
      "text/plain": [
       "a     Aditya\n",
       "b    Pallavi\n",
       "c    Jayanth\n",
       "dtype: object"
      ]
     },
     "execution_count": 312,
     "metadata": {},
     "output_type": "execute_result"
    }
   ],
   "source": [
    "names.iloc[0:3]"
   ]
  },
  {
   "cell_type": "code",
   "execution_count": 320,
   "id": "a5171654-a4d1-459e-9860-098463310759",
   "metadata": {},
   "outputs": [
    {
     "data": {
      "text/plain": [
       "a     Aditya\n",
       "b    Pallavi\n",
       "c    Jayanth\n",
       "dtype: object"
      ]
     },
     "execution_count": 320,
     "metadata": {},
     "output_type": "execute_result"
    }
   ],
   "source": [
    "names.loc['a':'c']"
   ]
  },
  {
   "cell_type": "code",
   "execution_count": 322,
   "id": "b859af75-064a-48e1-800e-e34889091bcc",
   "metadata": {},
   "outputs": [],
   "source": [
    "# Aletrnate names"
   ]
  },
  {
   "cell_type": "code",
   "execution_count": 326,
   "id": "d4b18394-9180-4fe5-9126-fa33df1a2124",
   "metadata": {},
   "outputs": [
    {
     "data": {
      "text/plain": [
       "a     Aditya\n",
       "c    Jayanth\n",
       "e      Nidhi\n",
       "g      Megha\n",
       "dtype: object"
      ]
     },
     "execution_count": 326,
     "metadata": {},
     "output_type": "execute_result"
    }
   ],
   "source": [
    "names.iloc[::2]"
   ]
  },
  {
   "cell_type": "code",
   "execution_count": 328,
   "id": "97d827e4-6b16-451c-800a-ecdcf1abb81b",
   "metadata": {},
   "outputs": [
    {
     "data": {
      "text/plain": [
       "a     Aditya\n",
       "c    Jayanth\n",
       "e      Nidhi\n",
       "g      Megha\n",
       "dtype: object"
      ]
     },
     "execution_count": 328,
     "metadata": {},
     "output_type": "execute_result"
    }
   ],
   "source": [
    "names.loc[::2]"
   ]
  },
  {
   "cell_type": "code",
   "execution_count": 330,
   "id": "16f050da-92ea-4b9f-be4b-168ad051528e",
   "metadata": {},
   "outputs": [
    {
     "data": {
      "text/plain": [
       "a     Aditya\n",
       "c    Jayanth\n",
       "e      Nidhi\n",
       "g      Megha\n",
       "dtype: object"
      ]
     },
     "execution_count": 330,
     "metadata": {},
     "output_type": "execute_result"
    }
   ],
   "source": [
    "names.loc['a':'g':2]"
   ]
  },
  {
   "cell_type": "code",
   "execution_count": 337,
   "id": "3396b273-4bb5-435e-b532-a0f743d4249b",
   "metadata": {},
   "outputs": [],
   "source": [
    "# Reverse the series"
   ]
  },
  {
   "cell_type": "code",
   "execution_count": 335,
   "id": "9ce5c322-2025-4cf5-8004-c87a075a11ee",
   "metadata": {},
   "outputs": [
    {
     "data": {
      "text/plain": [
       "g      Megha\n",
       "f      Dhruv\n",
       "e      Nidhi\n",
       "d     Deepak\n",
       "c    Jayanth\n",
       "b    Pallavi\n",
       "a     Aditya\n",
       "dtype: object"
      ]
     },
     "execution_count": 335,
     "metadata": {},
     "output_type": "execute_result"
    }
   ],
   "source": [
    "names.iloc[::-1]"
   ]
  },
  {
   "cell_type": "code",
   "execution_count": 339,
   "id": "b164cf6b-cdc3-4c28-b6bd-1d03fc39b44b",
   "metadata": {},
   "outputs": [
    {
     "data": {
      "text/plain": [
       "g      Megha\n",
       "f      Dhruv\n",
       "e      Nidhi\n",
       "d     Deepak\n",
       "c    Jayanth\n",
       "b    Pallavi\n",
       "a     Aditya\n",
       "dtype: object"
      ]
     },
     "execution_count": 339,
     "metadata": {},
     "output_type": "execute_result"
    }
   ],
   "source": [
    "names.loc[::-1]"
   ]
  },
  {
   "cell_type": "code",
   "execution_count": 343,
   "id": "5871e858-12cd-4da9-bde7-3dbdee692f4a",
   "metadata": {},
   "outputs": [
    {
     "data": {
      "text/plain": [
       "g      Megha\n",
       "f      Dhruv\n",
       "e      Nidhi\n",
       "d     Deepak\n",
       "c    Jayanth\n",
       "b    Pallavi\n",
       "a     Aditya\n",
       "dtype: object"
      ]
     },
     "execution_count": 343,
     "metadata": {},
     "output_type": "execute_result"
    }
   ],
   "source": [
    "names.loc['g':'a':-1]"
   ]
  },
  {
   "cell_type": "markdown",
   "id": "d6d9462d-169c-4a5a-97d6-11b0f7f90122",
   "metadata": {},
   "source": [
    "# Modifying an element in a series"
   ]
  },
  {
   "cell_type": "code",
   "execution_count": 346,
   "id": "2c6a8e8b-5d5e-4e64-b9ec-4490560595a3",
   "metadata": {},
   "outputs": [],
   "source": [
    "# - An elements can be modified using the index only."
   ]
  },
  {
   "cell_type": "code",
   "execution_count": 348,
   "id": "d2534901-4d9e-4902-b059-c825327f8557",
   "metadata": {},
   "outputs": [],
   "source": [
    "# In names the first name shoukd be 'Amit'"
   ]
  },
  {
   "cell_type": "code",
   "execution_count": 350,
   "id": "1fdaff3c-9883-4ad1-90bf-0047503a5055",
   "metadata": {},
   "outputs": [
    {
     "data": {
      "text/plain": [
       "a     Aditya\n",
       "b    Pallavi\n",
       "c    Jayanth\n",
       "d     Deepak\n",
       "e      Nidhi\n",
       "f      Dhruv\n",
       "g      Megha\n",
       "dtype: object"
      ]
     },
     "execution_count": 350,
     "metadata": {},
     "output_type": "execute_result"
    }
   ],
   "source": [
    "names"
   ]
  },
  {
   "cell_type": "code",
   "execution_count": 354,
   "id": "9d4c3880-40c7-42a0-80e1-4279cb508679",
   "metadata": {},
   "outputs": [],
   "source": [
    "names.iloc[0]='Amit'"
   ]
  },
  {
   "cell_type": "code",
   "execution_count": 356,
   "id": "2200ade6-d856-4fc4-87e7-5b23894a7037",
   "metadata": {},
   "outputs": [
    {
     "data": {
      "text/plain": [
       "a       Amit\n",
       "b    Pallavi\n",
       "c    Jayanth\n",
       "d     Deepak\n",
       "e      Nidhi\n",
       "f      Dhruv\n",
       "g      Megha\n",
       "dtype: object"
      ]
     },
     "execution_count": 356,
     "metadata": {},
     "output_type": "execute_result"
    }
   ],
   "source": [
    "names"
   ]
  },
  {
   "cell_type": "code",
   "execution_count": 358,
   "id": "77b12bea-261f-4f5c-83b7-5337acfa1261",
   "metadata": {},
   "outputs": [],
   "source": [
    "# The name should be Abhishek at d index."
   ]
  },
  {
   "cell_type": "code",
   "execution_count": 362,
   "id": "3574da22-64e3-4ff7-8256-ef6d963a6d03",
   "metadata": {},
   "outputs": [],
   "source": [
    "names.loc['d']='Abhishek'"
   ]
  },
  {
   "cell_type": "code",
   "execution_count": 364,
   "id": "5a593ab1-c87b-4a0e-aadc-429f28a17dd6",
   "metadata": {},
   "outputs": [
    {
     "data": {
      "text/plain": [
       "a        Amit\n",
       "b     Pallavi\n",
       "c     Jayanth\n",
       "d    Abhishek\n",
       "e       Nidhi\n",
       "f       Dhruv\n",
       "g       Megha\n",
       "dtype: object"
      ]
     },
     "execution_count": 364,
     "metadata": {},
     "output_type": "execute_result"
    }
   ],
   "source": [
    "names"
   ]
  },
  {
   "cell_type": "code",
   "execution_count": 366,
   "id": "dee873d7-06b6-4be2-a1f9-767b98b3b89a",
   "metadata": {},
   "outputs": [],
   "source": [
    "# Replace Dhruv with Debolina"
   ]
  },
  {
   "cell_type": "code",
   "execution_count": 368,
   "id": "cf541b38-e4c0-4f7e-b8ed-464619e5563f",
   "metadata": {},
   "outputs": [
    {
     "data": {
      "text/plain": [
       "a    False\n",
       "b    False\n",
       "c    False\n",
       "d    False\n",
       "e    False\n",
       "f     True\n",
       "g    False\n",
       "dtype: bool"
      ]
     },
     "execution_count": 368,
     "metadata": {},
     "output_type": "execute_result"
    }
   ],
   "source": [
    "names=='Dhruv'"
   ]
  },
  {
   "cell_type": "code",
   "execution_count": 372,
   "id": "87f17174-3f6d-48f6-b4f2-6b292994cdd5",
   "metadata": {},
   "outputs": [],
   "source": [
    "names[names=='Dhruv']='Debolina'"
   ]
  },
  {
   "cell_type": "code",
   "execution_count": 374,
   "id": "db82420e-ed7d-4400-9c81-93f3d5148303",
   "metadata": {},
   "outputs": [
    {
     "data": {
      "text/plain": [
       "a        Amit\n",
       "b     Pallavi\n",
       "c     Jayanth\n",
       "d    Abhishek\n",
       "e       Nidhi\n",
       "f    Debolina\n",
       "g       Megha\n",
       "dtype: object"
      ]
     },
     "execution_count": 374,
     "metadata": {},
     "output_type": "execute_result"
    }
   ],
   "source": [
    "names"
   ]
  },
  {
   "cell_type": "code",
   "execution_count": 384,
   "id": "7b935e74-cec0-4cca-94d2-91898339830f",
   "metadata": {},
   "outputs": [
    {
     "data": {
      "text/plain": [
       "array(['a', 'b', 'c', 'd', 'e', 'f', 'g'], dtype=object)"
      ]
     },
     "execution_count": 384,
     "metadata": {},
     "output_type": "execute_result"
    }
   ],
   "source": [
    "ind=np.array(names.index)\n",
    "ind"
   ]
  },
  {
   "cell_type": "code",
   "execution_count": 390,
   "id": "8237342e-2dc9-4f98-9d56-849e7650230f",
   "metadata": {},
   "outputs": [],
   "source": [
    "ind[ind=='d']='k'"
   ]
  },
  {
   "cell_type": "code",
   "execution_count": 392,
   "id": "6a3deffc-b473-493a-9b57-6dcc3650a66a",
   "metadata": {},
   "outputs": [
    {
     "data": {
      "text/plain": [
       "array(['a', 'b', 'c', 'k', 'e', 'f', 'g'], dtype=object)"
      ]
     },
     "execution_count": 392,
     "metadata": {},
     "output_type": "execute_result"
    }
   ],
   "source": [
    "ind"
   ]
  },
  {
   "cell_type": "code",
   "execution_count": 396,
   "id": "d7430f81-ec94-4e56-a42c-3cbe6b84979d",
   "metadata": {},
   "outputs": [],
   "source": [
    "names.index=ind"
   ]
  },
  {
   "cell_type": "code",
   "execution_count": 398,
   "id": "ed6cf7af-f3e1-43c9-ac38-ac0ae4de8f62",
   "metadata": {},
   "outputs": [
    {
     "data": {
      "text/plain": [
       "a        Amit\n",
       "b     Pallavi\n",
       "c     Jayanth\n",
       "k    Abhishek\n",
       "e       Nidhi\n",
       "f    Debolina\n",
       "g       Megha\n",
       "dtype: object"
      ]
     },
     "execution_count": 398,
     "metadata": {},
     "output_type": "execute_result"
    }
   ],
   "source": [
    "names"
   ]
  },
  {
   "cell_type": "markdown",
   "id": "4852b57f-9579-4ce3-880d-82b126dc6f38",
   "metadata": {},
   "source": [
    "# Sorting of a series"
   ]
  },
  {
   "cell_type": "code",
   "execution_count": 401,
   "id": "dc8ea7bd-ee68-4721-8848-ac6820d7be64",
   "metadata": {},
   "outputs": [],
   "source": [
    "# - We can sort the values\n",
    "# - We can sort the indexes also"
   ]
  },
  {
   "cell_type": "code",
   "execution_count": 403,
   "id": "d022f424-a010-438b-8044-04a2020b1c6f",
   "metadata": {},
   "outputs": [],
   "source": [
    "# ser.sort_values()\n",
    "# ser.sort_index()"
   ]
  },
  {
   "cell_type": "code",
   "execution_count": 405,
   "id": "9ca95844-dc31-4b3a-9fb5-74365d26dd19",
   "metadata": {},
   "outputs": [
    {
     "data": {
      "text/plain": [
       "a        Amit\n",
       "b     Pallavi\n",
       "c     Jayanth\n",
       "k    Abhishek\n",
       "e       Nidhi\n",
       "f    Debolina\n",
       "g       Megha\n",
       "dtype: object"
      ]
     },
     "execution_count": 405,
     "metadata": {},
     "output_type": "execute_result"
    }
   ],
   "source": [
    "names"
   ]
  },
  {
   "cell_type": "code",
   "execution_count": 407,
   "id": "dac6b9fc-ecf2-4de8-809e-5664a6b228f8",
   "metadata": {},
   "outputs": [
    {
     "data": {
      "text/plain": [
       "k    Abhishek\n",
       "a        Amit\n",
       "f    Debolina\n",
       "c     Jayanth\n",
       "g       Megha\n",
       "e       Nidhi\n",
       "b     Pallavi\n",
       "dtype: object"
      ]
     },
     "execution_count": 407,
     "metadata": {},
     "output_type": "execute_result"
    }
   ],
   "source": [
    "names.sort_values()"
   ]
  },
  {
   "cell_type": "code",
   "execution_count": 409,
   "id": "dcdd4c1b-089d-4b69-ba04-611a3bba5266",
   "metadata": {},
   "outputs": [
    {
     "data": {
      "text/plain": [
       "b     Pallavi\n",
       "e       Nidhi\n",
       "g       Megha\n",
       "c     Jayanth\n",
       "f    Debolina\n",
       "a        Amit\n",
       "k    Abhishek\n",
       "dtype: object"
      ]
     },
     "execution_count": 409,
     "metadata": {},
     "output_type": "execute_result"
    }
   ],
   "source": [
    "names.sort_values(ascending=False)"
   ]
  },
  {
   "cell_type": "code",
   "execution_count": 411,
   "id": "fc0a34f8-b410-43ca-8dbf-956214d77a13",
   "metadata": {},
   "outputs": [
    {
     "data": {
      "text/plain": [
       "a        Amit\n",
       "b     Pallavi\n",
       "c     Jayanth\n",
       "k    Abhishek\n",
       "e       Nidhi\n",
       "f    Debolina\n",
       "g       Megha\n",
       "dtype: object"
      ]
     },
     "execution_count": 411,
     "metadata": {},
     "output_type": "execute_result"
    }
   ],
   "source": [
    "names"
   ]
  },
  {
   "cell_type": "code",
   "execution_count": 413,
   "id": "7276c4d8-4505-495b-b118-df854f0c1d46",
   "metadata": {},
   "outputs": [],
   "source": [
    "names.sort_values(ascending=False,inplace=True)"
   ]
  },
  {
   "cell_type": "code",
   "execution_count": 415,
   "id": "4a8f6964-3d5a-41ff-82e6-2f91fa35e098",
   "metadata": {},
   "outputs": [
    {
     "data": {
      "text/plain": [
       "b     Pallavi\n",
       "e       Nidhi\n",
       "g       Megha\n",
       "c     Jayanth\n",
       "f    Debolina\n",
       "a        Amit\n",
       "k    Abhishek\n",
       "dtype: object"
      ]
     },
     "execution_count": 415,
     "metadata": {},
     "output_type": "execute_result"
    }
   ],
   "source": [
    "names"
   ]
  },
  {
   "cell_type": "code",
   "execution_count": 417,
   "id": "ff8a4e39-9416-4545-acbd-5775773fab64",
   "metadata": {},
   "outputs": [
    {
     "data": {
      "text/plain": [
       "a        Amit\n",
       "b     Pallavi\n",
       "c     Jayanth\n",
       "e       Nidhi\n",
       "f    Debolina\n",
       "g       Megha\n",
       "k    Abhishek\n",
       "dtype: object"
      ]
     },
     "execution_count": 417,
     "metadata": {},
     "output_type": "execute_result"
    }
   ],
   "source": [
    "names.sort_index()"
   ]
  },
  {
   "cell_type": "code",
   "execution_count": 419,
   "id": "bc493a7d-ee3e-4616-803a-84b96a54af58",
   "metadata": {},
   "outputs": [
    {
     "data": {
      "text/plain": [
       "b     Pallavi\n",
       "e       Nidhi\n",
       "g       Megha\n",
       "c     Jayanth\n",
       "f    Debolina\n",
       "a        Amit\n",
       "k    Abhishek\n",
       "dtype: object"
      ]
     },
     "execution_count": 419,
     "metadata": {},
     "output_type": "execute_result"
    }
   ],
   "source": [
    "names"
   ]
  },
  {
   "cell_type": "code",
   "execution_count": 421,
   "id": "6727551f-3e37-4186-8e31-579ae1bc31eb",
   "metadata": {},
   "outputs": [
    {
     "data": {
      "text/plain": [
       "k    Abhishek\n",
       "g       Megha\n",
       "f    Debolina\n",
       "e       Nidhi\n",
       "c     Jayanth\n",
       "b     Pallavi\n",
       "a        Amit\n",
       "dtype: object"
      ]
     },
     "execution_count": 421,
     "metadata": {},
     "output_type": "execute_result"
    }
   ],
   "source": [
    "names.sort_index(ascending=False)"
   ]
  },
  {
   "cell_type": "code",
   "execution_count": 423,
   "id": "5285a66b-ca65-42d7-9af9-7fd237601364",
   "metadata": {},
   "outputs": [
    {
     "data": {
      "text/plain": [
       "b     Pallavi\n",
       "e       Nidhi\n",
       "g       Megha\n",
       "c     Jayanth\n",
       "f    Debolina\n",
       "a        Amit\n",
       "k    Abhishek\n",
       "dtype: object"
      ]
     },
     "execution_count": 423,
     "metadata": {},
     "output_type": "execute_result"
    }
   ],
   "source": [
    "names"
   ]
  },
  {
   "cell_type": "code",
   "execution_count": 425,
   "id": "4fd15526-d53a-4aa2-9994-31ea4b528c16",
   "metadata": {},
   "outputs": [],
   "source": [
    "# names=names.sort_index(ascending=False)\n",
    "names.sort_index(ascending=False,inplace=True)"
   ]
  },
  {
   "cell_type": "code",
   "execution_count": 427,
   "id": "e43c52d4-dd4a-48c1-83e5-fb8ded63416c",
   "metadata": {},
   "outputs": [
    {
     "data": {
      "text/plain": [
       "k    Abhishek\n",
       "g       Megha\n",
       "f    Debolina\n",
       "e       Nidhi\n",
       "c     Jayanth\n",
       "b     Pallavi\n",
       "a        Amit\n",
       "dtype: object"
      ]
     },
     "execution_count": 427,
     "metadata": {},
     "output_type": "execute_result"
    }
   ],
   "source": [
    "names"
   ]
  },
  {
   "cell_type": "markdown",
   "id": "4b47a703-bf8e-4d05-8cf9-58db5df138cc",
   "metadata": {},
   "source": [
    "# Dataframe"
   ]
  },
  {
   "cell_type": "code",
   "execution_count": 433,
   "id": "7dbb0ab0-c2d4-42cd-a342-b56b49c965f0",
   "metadata": {},
   "outputs": [],
   "source": [
    "# - A dataframe is like a 2-D array structure.\n",
    "# - It can be treated as a table from Excel.\n",
    "# - A dataframe is a collection of series.\n",
    "# - A dataframe has column headers."
   ]
  },
  {
   "cell_type": "markdown",
   "id": "9648b444-3571-46ab-83ba-7933b47c92fd",
   "metadata": {},
   "source": [
    "# Creating a dataframe"
   ]
  },
  {
   "cell_type": "code",
   "execution_count": 445,
   "id": "b86ce56b-472c-425f-b51d-8dd12aacadc9",
   "metadata": {},
   "outputs": [],
   "source": [
    "# pd.DataFrame(list/tuple/dict/arr/series)"
   ]
  },
  {
   "cell_type": "markdown",
   "id": "55bad341-c3d7-45ea-b3a4-3d5e2f2125a4",
   "metadata": {},
   "source": [
    "### Using a 2-D list or 2-D arrays"
   ]
  },
  {
   "cell_type": "code",
   "execution_count": 437,
   "id": "5cb5e914-80d7-490e-932f-7247adfbd48d",
   "metadata": {},
   "outputs": [],
   "source": [
    "name=['Jayanth', 'Suresh', 'Megha', 'Deepak', 'Pallavi', 'Rahul', 'Dhruv', 'Nidhi']\n",
    "age=[24,26,27,21,28,25,21,26]\n",
    "city=['Pune', 'Bangalore', 'Delhi', 'Hyderabad', 'Chennai','Noida', 'Gurugram', 'Dehradun']\n",
    "codes=[111,112,113,114,115,116,117,118]"
   ]
  },
  {
   "cell_type": "code",
   "execution_count": 443,
   "id": "5f7ee4bf-b1b7-46c4-94a0-3059438b28dc",
   "metadata": {},
   "outputs": [
    {
     "name": "stdout",
     "output_type": "stream",
     "text": [
      "[['Jayanth', 'Suresh', 'Megha', 'Deepak', 'Pallavi', 'Rahul', 'Dhruv', 'Nidhi'], [111, 112, 113, 114, 115, 116, 117, 118], [24, 26, 27, 21, 28, 25, 21, 26], ['Pune', 'Bangalore', 'Delhi', 'Hyderabad', 'Chennai', 'Noida', 'Gurugram', 'Dehradun']]\n"
     ]
    }
   ],
   "source": [
    "data=[name,codes,age,city]\n",
    "print(data)"
   ]
  },
  {
   "cell_type": "code",
   "execution_count": 447,
   "id": "a84cfebe-854c-4e91-b4b4-7f2a34ebced9",
   "metadata": {},
   "outputs": [
    {
     "data": {
      "text/html": [
       "<div>\n",
       "<style scoped>\n",
       "    .dataframe tbody tr th:only-of-type {\n",
       "        vertical-align: middle;\n",
       "    }\n",
       "\n",
       "    .dataframe tbody tr th {\n",
       "        vertical-align: top;\n",
       "    }\n",
       "\n",
       "    .dataframe thead th {\n",
       "        text-align: right;\n",
       "    }\n",
       "</style>\n",
       "<table border=\"1\" class=\"dataframe\">\n",
       "  <thead>\n",
       "    <tr style=\"text-align: right;\">\n",
       "      <th></th>\n",
       "      <th>0</th>\n",
       "      <th>1</th>\n",
       "      <th>2</th>\n",
       "      <th>3</th>\n",
       "      <th>4</th>\n",
       "      <th>5</th>\n",
       "      <th>6</th>\n",
       "      <th>7</th>\n",
       "    </tr>\n",
       "  </thead>\n",
       "  <tbody>\n",
       "    <tr>\n",
       "      <th>0</th>\n",
       "      <td>Jayanth</td>\n",
       "      <td>Suresh</td>\n",
       "      <td>Megha</td>\n",
       "      <td>Deepak</td>\n",
       "      <td>Pallavi</td>\n",
       "      <td>Rahul</td>\n",
       "      <td>Dhruv</td>\n",
       "      <td>Nidhi</td>\n",
       "    </tr>\n",
       "    <tr>\n",
       "      <th>1</th>\n",
       "      <td>111</td>\n",
       "      <td>112</td>\n",
       "      <td>113</td>\n",
       "      <td>114</td>\n",
       "      <td>115</td>\n",
       "      <td>116</td>\n",
       "      <td>117</td>\n",
       "      <td>118</td>\n",
       "    </tr>\n",
       "    <tr>\n",
       "      <th>2</th>\n",
       "      <td>24</td>\n",
       "      <td>26</td>\n",
       "      <td>27</td>\n",
       "      <td>21</td>\n",
       "      <td>28</td>\n",
       "      <td>25</td>\n",
       "      <td>21</td>\n",
       "      <td>26</td>\n",
       "    </tr>\n",
       "    <tr>\n",
       "      <th>3</th>\n",
       "      <td>Pune</td>\n",
       "      <td>Bangalore</td>\n",
       "      <td>Delhi</td>\n",
       "      <td>Hyderabad</td>\n",
       "      <td>Chennai</td>\n",
       "      <td>Noida</td>\n",
       "      <td>Gurugram</td>\n",
       "      <td>Dehradun</td>\n",
       "    </tr>\n",
       "  </tbody>\n",
       "</table>\n",
       "</div>"
      ],
      "text/plain": [
       "         0          1      2          3        4      5         6         7\n",
       "0  Jayanth     Suresh  Megha     Deepak  Pallavi  Rahul     Dhruv     Nidhi\n",
       "1      111        112    113        114      115    116       117       118\n",
       "2       24         26     27         21       28     25        21        26\n",
       "3     Pune  Bangalore  Delhi  Hyderabad  Chennai  Noida  Gurugram  Dehradun"
      ]
     },
     "execution_count": 447,
     "metadata": {},
     "output_type": "execute_result"
    }
   ],
   "source": [
    "pd.DataFrame(data)"
   ]
  },
  {
   "cell_type": "code",
   "execution_count": 451,
   "id": "2edb904a-7fa0-4895-b840-77172f0714ec",
   "metadata": {},
   "outputs": [
    {
     "data": {
      "text/html": [
       "<div>\n",
       "<style scoped>\n",
       "    .dataframe tbody tr th:only-of-type {\n",
       "        vertical-align: middle;\n",
       "    }\n",
       "\n",
       "    .dataframe tbody tr th {\n",
       "        vertical-align: top;\n",
       "    }\n",
       "\n",
       "    .dataframe thead th {\n",
       "        text-align: right;\n",
       "    }\n",
       "</style>\n",
       "<table border=\"1\" class=\"dataframe\">\n",
       "  <thead>\n",
       "    <tr style=\"text-align: right;\">\n",
       "      <th></th>\n",
       "      <th>0</th>\n",
       "      <th>1</th>\n",
       "      <th>2</th>\n",
       "      <th>3</th>\n",
       "    </tr>\n",
       "  </thead>\n",
       "  <tbody>\n",
       "    <tr>\n",
       "      <th>0</th>\n",
       "      <td>Jayanth</td>\n",
       "      <td>111</td>\n",
       "      <td>24</td>\n",
       "      <td>Pune</td>\n",
       "    </tr>\n",
       "    <tr>\n",
       "      <th>1</th>\n",
       "      <td>Suresh</td>\n",
       "      <td>112</td>\n",
       "      <td>26</td>\n",
       "      <td>Bangalore</td>\n",
       "    </tr>\n",
       "    <tr>\n",
       "      <th>2</th>\n",
       "      <td>Megha</td>\n",
       "      <td>113</td>\n",
       "      <td>27</td>\n",
       "      <td>Delhi</td>\n",
       "    </tr>\n",
       "    <tr>\n",
       "      <th>3</th>\n",
       "      <td>Deepak</td>\n",
       "      <td>114</td>\n",
       "      <td>21</td>\n",
       "      <td>Hyderabad</td>\n",
       "    </tr>\n",
       "    <tr>\n",
       "      <th>4</th>\n",
       "      <td>Pallavi</td>\n",
       "      <td>115</td>\n",
       "      <td>28</td>\n",
       "      <td>Chennai</td>\n",
       "    </tr>\n",
       "    <tr>\n",
       "      <th>5</th>\n",
       "      <td>Rahul</td>\n",
       "      <td>116</td>\n",
       "      <td>25</td>\n",
       "      <td>Noida</td>\n",
       "    </tr>\n",
       "    <tr>\n",
       "      <th>6</th>\n",
       "      <td>Dhruv</td>\n",
       "      <td>117</td>\n",
       "      <td>21</td>\n",
       "      <td>Gurugram</td>\n",
       "    </tr>\n",
       "    <tr>\n",
       "      <th>7</th>\n",
       "      <td>Nidhi</td>\n",
       "      <td>118</td>\n",
       "      <td>26</td>\n",
       "      <td>Dehradun</td>\n",
       "    </tr>\n",
       "  </tbody>\n",
       "</table>\n",
       "</div>"
      ],
      "text/plain": [
       "         0    1   2          3\n",
       "0  Jayanth  111  24       Pune\n",
       "1   Suresh  112  26  Bangalore\n",
       "2    Megha  113  27      Delhi\n",
       "3   Deepak  114  21  Hyderabad\n",
       "4  Pallavi  115  28    Chennai\n",
       "5    Rahul  116  25      Noida\n",
       "6    Dhruv  117  21   Gurugram\n",
       "7    Nidhi  118  26   Dehradun"
      ]
     },
     "execution_count": 451,
     "metadata": {},
     "output_type": "execute_result"
    }
   ],
   "source": [
    "df=pd.DataFrame(data).T\n",
    "df"
   ]
  },
  {
   "cell_type": "code",
   "execution_count": 453,
   "id": "2e97b3af-2b8d-472e-87e4-4756ba265e51",
   "metadata": {},
   "outputs": [],
   "source": [
    "df.columns=['Name','ID','Age','City']"
   ]
  },
  {
   "cell_type": "code",
   "execution_count": 455,
   "id": "433e3fcb-3603-42ea-996c-e51de99bd60e",
   "metadata": {},
   "outputs": [
    {
     "data": {
      "text/html": [
       "<div>\n",
       "<style scoped>\n",
       "    .dataframe tbody tr th:only-of-type {\n",
       "        vertical-align: middle;\n",
       "    }\n",
       "\n",
       "    .dataframe tbody tr th {\n",
       "        vertical-align: top;\n",
       "    }\n",
       "\n",
       "    .dataframe thead th {\n",
       "        text-align: right;\n",
       "    }\n",
       "</style>\n",
       "<table border=\"1\" class=\"dataframe\">\n",
       "  <thead>\n",
       "    <tr style=\"text-align: right;\">\n",
       "      <th></th>\n",
       "      <th>Name</th>\n",
       "      <th>ID</th>\n",
       "      <th>Age</th>\n",
       "      <th>City</th>\n",
       "    </tr>\n",
       "  </thead>\n",
       "  <tbody>\n",
       "    <tr>\n",
       "      <th>0</th>\n",
       "      <td>Jayanth</td>\n",
       "      <td>111</td>\n",
       "      <td>24</td>\n",
       "      <td>Pune</td>\n",
       "    </tr>\n",
       "    <tr>\n",
       "      <th>1</th>\n",
       "      <td>Suresh</td>\n",
       "      <td>112</td>\n",
       "      <td>26</td>\n",
       "      <td>Bangalore</td>\n",
       "    </tr>\n",
       "    <tr>\n",
       "      <th>2</th>\n",
       "      <td>Megha</td>\n",
       "      <td>113</td>\n",
       "      <td>27</td>\n",
       "      <td>Delhi</td>\n",
       "    </tr>\n",
       "    <tr>\n",
       "      <th>3</th>\n",
       "      <td>Deepak</td>\n",
       "      <td>114</td>\n",
       "      <td>21</td>\n",
       "      <td>Hyderabad</td>\n",
       "    </tr>\n",
       "    <tr>\n",
       "      <th>4</th>\n",
       "      <td>Pallavi</td>\n",
       "      <td>115</td>\n",
       "      <td>28</td>\n",
       "      <td>Chennai</td>\n",
       "    </tr>\n",
       "    <tr>\n",
       "      <th>5</th>\n",
       "      <td>Rahul</td>\n",
       "      <td>116</td>\n",
       "      <td>25</td>\n",
       "      <td>Noida</td>\n",
       "    </tr>\n",
       "    <tr>\n",
       "      <th>6</th>\n",
       "      <td>Dhruv</td>\n",
       "      <td>117</td>\n",
       "      <td>21</td>\n",
       "      <td>Gurugram</td>\n",
       "    </tr>\n",
       "    <tr>\n",
       "      <th>7</th>\n",
       "      <td>Nidhi</td>\n",
       "      <td>118</td>\n",
       "      <td>26</td>\n",
       "      <td>Dehradun</td>\n",
       "    </tr>\n",
       "  </tbody>\n",
       "</table>\n",
       "</div>"
      ],
      "text/plain": [
       "      Name   ID Age       City\n",
       "0  Jayanth  111  24       Pune\n",
       "1   Suresh  112  26  Bangalore\n",
       "2    Megha  113  27      Delhi\n",
       "3   Deepak  114  21  Hyderabad\n",
       "4  Pallavi  115  28    Chennai\n",
       "5    Rahul  116  25      Noida\n",
       "6    Dhruv  117  21   Gurugram\n",
       "7    Nidhi  118  26   Dehradun"
      ]
     },
     "execution_count": 455,
     "metadata": {},
     "output_type": "execute_result"
    }
   ],
   "source": [
    "df"
   ]
  },
  {
   "cell_type": "code",
   "execution_count": 459,
   "id": "4b6ee9d1-b740-4fcc-ba31-88e99fc3b3df",
   "metadata": {},
   "outputs": [],
   "source": [
    "data=[['Jayanth',111,24,'Pune'],\n",
    "['Suresh',112,26,'Bangalore'],\n",
    "['Megha',113,27,'Delhi'],\n",
    "['Deepak',114,21,'Hyderabad']]"
   ]
  },
  {
   "cell_type": "code",
   "execution_count": 465,
   "id": "34a5cb7f-d51b-4149-ad79-b894b37501e6",
   "metadata": {},
   "outputs": [
    {
     "data": {
      "text/html": [
       "<div>\n",
       "<style scoped>\n",
       "    .dataframe tbody tr th:only-of-type {\n",
       "        vertical-align: middle;\n",
       "    }\n",
       "\n",
       "    .dataframe tbody tr th {\n",
       "        vertical-align: top;\n",
       "    }\n",
       "\n",
       "    .dataframe thead th {\n",
       "        text-align: right;\n",
       "    }\n",
       "</style>\n",
       "<table border=\"1\" class=\"dataframe\">\n",
       "  <thead>\n",
       "    <tr style=\"text-align: right;\">\n",
       "      <th></th>\n",
       "      <th>Name</th>\n",
       "      <th>ID</th>\n",
       "      <th>Age</th>\n",
       "      <th>City</th>\n",
       "    </tr>\n",
       "  </thead>\n",
       "  <tbody>\n",
       "    <tr>\n",
       "      <th>0</th>\n",
       "      <td>Jayanth</td>\n",
       "      <td>111</td>\n",
       "      <td>24</td>\n",
       "      <td>Pune</td>\n",
       "    </tr>\n",
       "    <tr>\n",
       "      <th>1</th>\n",
       "      <td>Suresh</td>\n",
       "      <td>112</td>\n",
       "      <td>26</td>\n",
       "      <td>Bangalore</td>\n",
       "    </tr>\n",
       "    <tr>\n",
       "      <th>2</th>\n",
       "      <td>Megha</td>\n",
       "      <td>113</td>\n",
       "      <td>27</td>\n",
       "      <td>Delhi</td>\n",
       "    </tr>\n",
       "    <tr>\n",
       "      <th>3</th>\n",
       "      <td>Deepak</td>\n",
       "      <td>114</td>\n",
       "      <td>21</td>\n",
       "      <td>Hyderabad</td>\n",
       "    </tr>\n",
       "  </tbody>\n",
       "</table>\n",
       "</div>"
      ],
      "text/plain": [
       "      Name   ID  Age       City\n",
       "0  Jayanth  111   24       Pune\n",
       "1   Suresh  112   26  Bangalore\n",
       "2    Megha  113   27      Delhi\n",
       "3   Deepak  114   21  Hyderabad"
      ]
     },
     "execution_count": 465,
     "metadata": {},
     "output_type": "execute_result"
    }
   ],
   "source": [
    "df=pd.DataFrame(data,columns=['Name','ID','Age','City'])\n",
    "df"
   ]
  },
  {
   "cell_type": "markdown",
   "id": "3176d56e-a962-4070-ac7f-4dfbcb258930",
   "metadata": {},
   "source": [
    "### Using series"
   ]
  },
  {
   "cell_type": "code",
   "execution_count": 468,
   "id": "f218dff5-fc34-4596-ba96-0b664eb2ea75",
   "metadata": {},
   "outputs": [],
   "source": [
    "name=pd.Series(['Jayanth', 'Suresh', 'Megha', 'Deepak', 'Pallavi', 'Rahul', 'Dhruv', 'Nidhi'])\n",
    "age=pd.Series([24,26,27,21,28,25,21,26])\n",
    "city=pd.Series(['Pune', 'Bangalore', 'Delhi', 'Hyderabad', 'Chennai','Noida', 'Gurugram', 'Dehradun'])\n",
    "codes=pd.Series([111,112,113,114,115,116,117,118])"
   ]
  },
  {
   "cell_type": "code",
   "execution_count": 512,
   "id": "52dfd2f2-0a9b-4885-b84d-a189712dd758",
   "metadata": {},
   "outputs": [
    {
     "data": {
      "text/plain": [
       "0    Jayanth\n",
       "1     Suresh\n",
       "2      Megha\n",
       "3     Deepak\n",
       "4    Pallavi\n",
       "5      Rahul\n",
       "6      Dhruv\n",
       "7      Nidhi\n",
       "dtype: object"
      ]
     },
     "execution_count": 512,
     "metadata": {},
     "output_type": "execute_result"
    }
   ],
   "source": [
    "name"
   ]
  },
  {
   "cell_type": "code",
   "execution_count": 472,
   "id": "1795d4df-76b1-422f-918b-8d74a7fbf9e5",
   "metadata": {},
   "outputs": [
    {
     "data": {
      "text/plain": [
       "0    111\n",
       "1    112\n",
       "2    113\n",
       "3    114\n",
       "4    115\n",
       "5    116\n",
       "6    117\n",
       "7    118\n",
       "dtype: int64"
      ]
     },
     "execution_count": 472,
     "metadata": {},
     "output_type": "execute_result"
    }
   ],
   "source": [
    "codes"
   ]
  },
  {
   "cell_type": "code",
   "execution_count": 474,
   "id": "07053dbb-32aa-4c1f-b62a-12e3c26314d9",
   "metadata": {},
   "outputs": [
    {
     "data": {
      "text/plain": [
       "0    24\n",
       "1    26\n",
       "2    27\n",
       "3    21\n",
       "4    28\n",
       "5    25\n",
       "6    21\n",
       "7    26\n",
       "dtype: int64"
      ]
     },
     "execution_count": 474,
     "metadata": {},
     "output_type": "execute_result"
    }
   ],
   "source": [
    "age"
   ]
  },
  {
   "cell_type": "code",
   "execution_count": 476,
   "id": "a7d0ac84-1c16-4156-a5f2-03ee11454a56",
   "metadata": {},
   "outputs": [
    {
     "data": {
      "text/plain": [
       "0         Pune\n",
       "1    Bangalore\n",
       "2        Delhi\n",
       "3    Hyderabad\n",
       "4      Chennai\n",
       "5        Noida\n",
       "6     Gurugram\n",
       "7     Dehradun\n",
       "dtype: object"
      ]
     },
     "execution_count": 476,
     "metadata": {},
     "output_type": "execute_result"
    }
   ],
   "source": [
    "city"
   ]
  },
  {
   "cell_type": "code",
   "execution_count": 480,
   "id": "2fa54a66-fedd-4f02-a38e-8e07decb93a7",
   "metadata": {},
   "outputs": [
    {
     "name": "stdout",
     "output_type": "stream",
     "text": [
      "[0    Jayanth\n",
      "1     Suresh\n",
      "2      Megha\n",
      "3     Deepak\n",
      "4    Pallavi\n",
      "5      Rahul\n",
      "6      Dhruv\n",
      "7      Nidhi\n",
      "dtype: object, 0    111\n",
      "1    112\n",
      "2    113\n",
      "3    114\n",
      "4    115\n",
      "5    116\n",
      "6    117\n",
      "7    118\n",
      "dtype: int64, 0    24\n",
      "1    26\n",
      "2    27\n",
      "3    21\n",
      "4    28\n",
      "5    25\n",
      "6    21\n",
      "7    26\n",
      "dtype: int64, 0         Pune\n",
      "1    Bangalore\n",
      "2        Delhi\n",
      "3    Hyderabad\n",
      "4      Chennai\n",
      "5        Noida\n",
      "6     Gurugram\n",
      "7     Dehradun\n",
      "dtype: object]\n"
     ]
    }
   ],
   "source": [
    "data=[name,codes,age,city]\n",
    "print(data)"
   ]
  },
  {
   "cell_type": "code",
   "execution_count": 482,
   "id": "b8b37267-e47c-4ec0-b36d-c31f04a635e6",
   "metadata": {},
   "outputs": [
    {
     "data": {
      "text/html": [
       "<div>\n",
       "<style scoped>\n",
       "    .dataframe tbody tr th:only-of-type {\n",
       "        vertical-align: middle;\n",
       "    }\n",
       "\n",
       "    .dataframe tbody tr th {\n",
       "        vertical-align: top;\n",
       "    }\n",
       "\n",
       "    .dataframe thead th {\n",
       "        text-align: right;\n",
       "    }\n",
       "</style>\n",
       "<table border=\"1\" class=\"dataframe\">\n",
       "  <thead>\n",
       "    <tr style=\"text-align: right;\">\n",
       "      <th></th>\n",
       "      <th>0</th>\n",
       "      <th>1</th>\n",
       "      <th>2</th>\n",
       "      <th>3</th>\n",
       "      <th>4</th>\n",
       "      <th>5</th>\n",
       "      <th>6</th>\n",
       "      <th>7</th>\n",
       "    </tr>\n",
       "  </thead>\n",
       "  <tbody>\n",
       "    <tr>\n",
       "      <th>0</th>\n",
       "      <td>Jayanth</td>\n",
       "      <td>Suresh</td>\n",
       "      <td>Megha</td>\n",
       "      <td>Deepak</td>\n",
       "      <td>Pallavi</td>\n",
       "      <td>Rahul</td>\n",
       "      <td>Dhruv</td>\n",
       "      <td>Nidhi</td>\n",
       "    </tr>\n",
       "    <tr>\n",
       "      <th>1</th>\n",
       "      <td>111</td>\n",
       "      <td>112</td>\n",
       "      <td>113</td>\n",
       "      <td>114</td>\n",
       "      <td>115</td>\n",
       "      <td>116</td>\n",
       "      <td>117</td>\n",
       "      <td>118</td>\n",
       "    </tr>\n",
       "    <tr>\n",
       "      <th>2</th>\n",
       "      <td>24</td>\n",
       "      <td>26</td>\n",
       "      <td>27</td>\n",
       "      <td>21</td>\n",
       "      <td>28</td>\n",
       "      <td>25</td>\n",
       "      <td>21</td>\n",
       "      <td>26</td>\n",
       "    </tr>\n",
       "    <tr>\n",
       "      <th>3</th>\n",
       "      <td>Pune</td>\n",
       "      <td>Bangalore</td>\n",
       "      <td>Delhi</td>\n",
       "      <td>Hyderabad</td>\n",
       "      <td>Chennai</td>\n",
       "      <td>Noida</td>\n",
       "      <td>Gurugram</td>\n",
       "      <td>Dehradun</td>\n",
       "    </tr>\n",
       "  </tbody>\n",
       "</table>\n",
       "</div>"
      ],
      "text/plain": [
       "         0          1      2          3        4      5         6         7\n",
       "0  Jayanth     Suresh  Megha     Deepak  Pallavi  Rahul     Dhruv     Nidhi\n",
       "1      111        112    113        114      115    116       117       118\n",
       "2       24         26     27         21       28     25        21        26\n",
       "3     Pune  Bangalore  Delhi  Hyderabad  Chennai  Noida  Gurugram  Dehradun"
      ]
     },
     "execution_count": 482,
     "metadata": {},
     "output_type": "execute_result"
    }
   ],
   "source": [
    "pd.DataFrame(data)"
   ]
  },
  {
   "cell_type": "code",
   "execution_count": 486,
   "id": "5e36ddbd-9bec-48bd-bf7c-33c9fade06f5",
   "metadata": {},
   "outputs": [
    {
     "data": {
      "text/html": [
       "<div>\n",
       "<style scoped>\n",
       "    .dataframe tbody tr th:only-of-type {\n",
       "        vertical-align: middle;\n",
       "    }\n",
       "\n",
       "    .dataframe tbody tr th {\n",
       "        vertical-align: top;\n",
       "    }\n",
       "\n",
       "    .dataframe thead th {\n",
       "        text-align: right;\n",
       "    }\n",
       "</style>\n",
       "<table border=\"1\" class=\"dataframe\">\n",
       "  <thead>\n",
       "    <tr style=\"text-align: right;\">\n",
       "      <th></th>\n",
       "      <th>0</th>\n",
       "      <th>1</th>\n",
       "      <th>2</th>\n",
       "      <th>3</th>\n",
       "    </tr>\n",
       "  </thead>\n",
       "  <tbody>\n",
       "    <tr>\n",
       "      <th>0</th>\n",
       "      <td>Jayanth</td>\n",
       "      <td>111</td>\n",
       "      <td>24</td>\n",
       "      <td>Pune</td>\n",
       "    </tr>\n",
       "    <tr>\n",
       "      <th>1</th>\n",
       "      <td>Suresh</td>\n",
       "      <td>112</td>\n",
       "      <td>26</td>\n",
       "      <td>Bangalore</td>\n",
       "    </tr>\n",
       "    <tr>\n",
       "      <th>2</th>\n",
       "      <td>Megha</td>\n",
       "      <td>113</td>\n",
       "      <td>27</td>\n",
       "      <td>Delhi</td>\n",
       "    </tr>\n",
       "    <tr>\n",
       "      <th>3</th>\n",
       "      <td>Deepak</td>\n",
       "      <td>114</td>\n",
       "      <td>21</td>\n",
       "      <td>Hyderabad</td>\n",
       "    </tr>\n",
       "    <tr>\n",
       "      <th>4</th>\n",
       "      <td>Pallavi</td>\n",
       "      <td>115</td>\n",
       "      <td>28</td>\n",
       "      <td>Chennai</td>\n",
       "    </tr>\n",
       "    <tr>\n",
       "      <th>5</th>\n",
       "      <td>Rahul</td>\n",
       "      <td>116</td>\n",
       "      <td>25</td>\n",
       "      <td>Noida</td>\n",
       "    </tr>\n",
       "    <tr>\n",
       "      <th>6</th>\n",
       "      <td>Dhruv</td>\n",
       "      <td>117</td>\n",
       "      <td>21</td>\n",
       "      <td>Gurugram</td>\n",
       "    </tr>\n",
       "    <tr>\n",
       "      <th>7</th>\n",
       "      <td>Nidhi</td>\n",
       "      <td>118</td>\n",
       "      <td>26</td>\n",
       "      <td>Dehradun</td>\n",
       "    </tr>\n",
       "  </tbody>\n",
       "</table>\n",
       "</div>"
      ],
      "text/plain": [
       "         0    1   2          3\n",
       "0  Jayanth  111  24       Pune\n",
       "1   Suresh  112  26  Bangalore\n",
       "2    Megha  113  27      Delhi\n",
       "3   Deepak  114  21  Hyderabad\n",
       "4  Pallavi  115  28    Chennai\n",
       "5    Rahul  116  25      Noida\n",
       "6    Dhruv  117  21   Gurugram\n",
       "7    Nidhi  118  26   Dehradun"
      ]
     },
     "execution_count": 486,
     "metadata": {},
     "output_type": "execute_result"
    }
   ],
   "source": [
    "df=pd.DataFrame(data).T\n",
    "df"
   ]
  },
  {
   "cell_type": "code",
   "execution_count": 488,
   "id": "451f549c-96c5-416d-8b35-3a82b3a15495",
   "metadata": {},
   "outputs": [],
   "source": [
    "df.columns=['Name','ID','Age','City']"
   ]
  },
  {
   "cell_type": "code",
   "execution_count": 490,
   "id": "7f53a8e1-5362-424d-8acf-fc16ae305374",
   "metadata": {},
   "outputs": [
    {
     "data": {
      "text/html": [
       "<div>\n",
       "<style scoped>\n",
       "    .dataframe tbody tr th:only-of-type {\n",
       "        vertical-align: middle;\n",
       "    }\n",
       "\n",
       "    .dataframe tbody tr th {\n",
       "        vertical-align: top;\n",
       "    }\n",
       "\n",
       "    .dataframe thead th {\n",
       "        text-align: right;\n",
       "    }\n",
       "</style>\n",
       "<table border=\"1\" class=\"dataframe\">\n",
       "  <thead>\n",
       "    <tr style=\"text-align: right;\">\n",
       "      <th></th>\n",
       "      <th>Name</th>\n",
       "      <th>ID</th>\n",
       "      <th>Age</th>\n",
       "      <th>City</th>\n",
       "    </tr>\n",
       "  </thead>\n",
       "  <tbody>\n",
       "    <tr>\n",
       "      <th>0</th>\n",
       "      <td>Jayanth</td>\n",
       "      <td>111</td>\n",
       "      <td>24</td>\n",
       "      <td>Pune</td>\n",
       "    </tr>\n",
       "    <tr>\n",
       "      <th>1</th>\n",
       "      <td>Suresh</td>\n",
       "      <td>112</td>\n",
       "      <td>26</td>\n",
       "      <td>Bangalore</td>\n",
       "    </tr>\n",
       "    <tr>\n",
       "      <th>2</th>\n",
       "      <td>Megha</td>\n",
       "      <td>113</td>\n",
       "      <td>27</td>\n",
       "      <td>Delhi</td>\n",
       "    </tr>\n",
       "    <tr>\n",
       "      <th>3</th>\n",
       "      <td>Deepak</td>\n",
       "      <td>114</td>\n",
       "      <td>21</td>\n",
       "      <td>Hyderabad</td>\n",
       "    </tr>\n",
       "    <tr>\n",
       "      <th>4</th>\n",
       "      <td>Pallavi</td>\n",
       "      <td>115</td>\n",
       "      <td>28</td>\n",
       "      <td>Chennai</td>\n",
       "    </tr>\n",
       "    <tr>\n",
       "      <th>5</th>\n",
       "      <td>Rahul</td>\n",
       "      <td>116</td>\n",
       "      <td>25</td>\n",
       "      <td>Noida</td>\n",
       "    </tr>\n",
       "    <tr>\n",
       "      <th>6</th>\n",
       "      <td>Dhruv</td>\n",
       "      <td>117</td>\n",
       "      <td>21</td>\n",
       "      <td>Gurugram</td>\n",
       "    </tr>\n",
       "    <tr>\n",
       "      <th>7</th>\n",
       "      <td>Nidhi</td>\n",
       "      <td>118</td>\n",
       "      <td>26</td>\n",
       "      <td>Dehradun</td>\n",
       "    </tr>\n",
       "  </tbody>\n",
       "</table>\n",
       "</div>"
      ],
      "text/plain": [
       "      Name   ID Age       City\n",
       "0  Jayanth  111  24       Pune\n",
       "1   Suresh  112  26  Bangalore\n",
       "2    Megha  113  27      Delhi\n",
       "3   Deepak  114  21  Hyderabad\n",
       "4  Pallavi  115  28    Chennai\n",
       "5    Rahul  116  25      Noida\n",
       "6    Dhruv  117  21   Gurugram\n",
       "7    Nidhi  118  26   Dehradun"
      ]
     },
     "execution_count": 490,
     "metadata": {},
     "output_type": "execute_result"
    }
   ],
   "source": [
    "df"
   ]
  },
  {
   "cell_type": "code",
   "execution_count": 514,
   "id": "27034be7-2688-495b-96ac-aab3fe680203",
   "metadata": {},
   "outputs": [],
   "source": [
    "name.name='Name'\n",
    "codes.name='ID'\n",
    "age.name='Age'\n",
    "city.name='City'"
   ]
  },
  {
   "cell_type": "code",
   "execution_count": 516,
   "id": "a2534d46-ca46-4a94-b080-b63c1be7a11d",
   "metadata": {},
   "outputs": [
    {
     "data": {
      "text/plain": [
       "0    Jayanth\n",
       "1     Suresh\n",
       "2      Megha\n",
       "3     Deepak\n",
       "4    Pallavi\n",
       "5      Rahul\n",
       "6      Dhruv\n",
       "7      Nidhi\n",
       "Name: Name, dtype: object"
      ]
     },
     "execution_count": 516,
     "metadata": {},
     "output_type": "execute_result"
    }
   ],
   "source": [
    "name"
   ]
  },
  {
   "cell_type": "code",
   "execution_count": 500,
   "id": "fbd877ea-8bde-4686-9953-bb693a816acb",
   "metadata": {},
   "outputs": [
    {
     "data": {
      "text/plain": [
       "0    111\n",
       "1    112\n",
       "2    113\n",
       "3    114\n",
       "4    115\n",
       "5    116\n",
       "6    117\n",
       "7    118\n",
       "Name: ID, dtype: int64"
      ]
     },
     "execution_count": 500,
     "metadata": {},
     "output_type": "execute_result"
    }
   ],
   "source": [
    "codes"
   ]
  },
  {
   "cell_type": "code",
   "execution_count": 502,
   "id": "7a3bf636-0275-4032-a207-49cb8c4c1bcb",
   "metadata": {},
   "outputs": [
    {
     "data": {
      "text/plain": [
       "0    24\n",
       "1    26\n",
       "2    27\n",
       "3    21\n",
       "4    28\n",
       "5    25\n",
       "6    21\n",
       "7    26\n",
       "Name: Age, dtype: int64"
      ]
     },
     "execution_count": 502,
     "metadata": {},
     "output_type": "execute_result"
    }
   ],
   "source": [
    "age"
   ]
  },
  {
   "cell_type": "code",
   "execution_count": 504,
   "id": "b76f34b3-6356-47fa-bbff-717243cfd05c",
   "metadata": {},
   "outputs": [
    {
     "data": {
      "text/plain": [
       "0         Pune\n",
       "1    Bangalore\n",
       "2        Delhi\n",
       "3    Hyderabad\n",
       "4      Chennai\n",
       "5        Noida\n",
       "6     Gurugram\n",
       "7     Dehradun\n",
       "Name: City, dtype: object"
      ]
     },
     "execution_count": 504,
     "metadata": {},
     "output_type": "execute_result"
    }
   ],
   "source": [
    "city"
   ]
  },
  {
   "cell_type": "code",
   "execution_count": 522,
   "id": "9f9d0fa3-65e8-4b40-9a83-83fc0abeb741",
   "metadata": {},
   "outputs": [],
   "source": [
    "df=pd.DataFrame([name,codes,age,city]).T"
   ]
  },
  {
   "cell_type": "code",
   "execution_count": 524,
   "id": "76cbf8b4-d3a5-405e-b244-dc2c867618b2",
   "metadata": {},
   "outputs": [
    {
     "data": {
      "text/html": [
       "<div>\n",
       "<style scoped>\n",
       "    .dataframe tbody tr th:only-of-type {\n",
       "        vertical-align: middle;\n",
       "    }\n",
       "\n",
       "    .dataframe tbody tr th {\n",
       "        vertical-align: top;\n",
       "    }\n",
       "\n",
       "    .dataframe thead th {\n",
       "        text-align: right;\n",
       "    }\n",
       "</style>\n",
       "<table border=\"1\" class=\"dataframe\">\n",
       "  <thead>\n",
       "    <tr style=\"text-align: right;\">\n",
       "      <th></th>\n",
       "      <th>Name</th>\n",
       "      <th>ID</th>\n",
       "      <th>Age</th>\n",
       "      <th>City</th>\n",
       "    </tr>\n",
       "  </thead>\n",
       "  <tbody>\n",
       "    <tr>\n",
       "      <th>0</th>\n",
       "      <td>Jayanth</td>\n",
       "      <td>111</td>\n",
       "      <td>24</td>\n",
       "      <td>Pune</td>\n",
       "    </tr>\n",
       "    <tr>\n",
       "      <th>1</th>\n",
       "      <td>Suresh</td>\n",
       "      <td>112</td>\n",
       "      <td>26</td>\n",
       "      <td>Bangalore</td>\n",
       "    </tr>\n",
       "    <tr>\n",
       "      <th>2</th>\n",
       "      <td>Megha</td>\n",
       "      <td>113</td>\n",
       "      <td>27</td>\n",
       "      <td>Delhi</td>\n",
       "    </tr>\n",
       "    <tr>\n",
       "      <th>3</th>\n",
       "      <td>Deepak</td>\n",
       "      <td>114</td>\n",
       "      <td>21</td>\n",
       "      <td>Hyderabad</td>\n",
       "    </tr>\n",
       "    <tr>\n",
       "      <th>4</th>\n",
       "      <td>Pallavi</td>\n",
       "      <td>115</td>\n",
       "      <td>28</td>\n",
       "      <td>Chennai</td>\n",
       "    </tr>\n",
       "    <tr>\n",
       "      <th>5</th>\n",
       "      <td>Rahul</td>\n",
       "      <td>116</td>\n",
       "      <td>25</td>\n",
       "      <td>Noida</td>\n",
       "    </tr>\n",
       "    <tr>\n",
       "      <th>6</th>\n",
       "      <td>Dhruv</td>\n",
       "      <td>117</td>\n",
       "      <td>21</td>\n",
       "      <td>Gurugram</td>\n",
       "    </tr>\n",
       "    <tr>\n",
       "      <th>7</th>\n",
       "      <td>Nidhi</td>\n",
       "      <td>118</td>\n",
       "      <td>26</td>\n",
       "      <td>Dehradun</td>\n",
       "    </tr>\n",
       "  </tbody>\n",
       "</table>\n",
       "</div>"
      ],
      "text/plain": [
       "      Name   ID Age       City\n",
       "0  Jayanth  111  24       Pune\n",
       "1   Suresh  112  26  Bangalore\n",
       "2    Megha  113  27      Delhi\n",
       "3   Deepak  114  21  Hyderabad\n",
       "4  Pallavi  115  28    Chennai\n",
       "5    Rahul  116  25      Noida\n",
       "6    Dhruv  117  21   Gurugram\n",
       "7    Nidhi  118  26   Dehradun"
      ]
     },
     "execution_count": 524,
     "metadata": {},
     "output_type": "execute_result"
    }
   ],
   "source": [
    "df"
   ]
  },
  {
   "cell_type": "markdown",
   "id": "2920323a-8bda-48d8-b7c8-b718d340310b",
   "metadata": {},
   "source": [
    "### Using a dictionary"
   ]
  },
  {
   "cell_type": "code",
   "execution_count": 527,
   "id": "fc3d0d9e-472b-4277-b065-892ac4652a9a",
   "metadata": {},
   "outputs": [],
   "source": [
    "# - The keys from the dictionary become the column names.\n",
    "# - The list of values from the dictionary become the values."
   ]
  },
  {
   "cell_type": "code",
   "execution_count": 529,
   "id": "81a8f0c7-ab01-4a5a-bda7-7c61878ff391",
   "metadata": {},
   "outputs": [],
   "source": [
    "name=['Jayanth', 'Suresh', 'Megha', 'Deepak', 'Pallavi', 'Rahul', 'Dhruv', 'Nidhi']\n",
    "age=[24,26,27,21,28,25,21,26]\n",
    "city=['Pune', 'Bangalore', 'Delhi', 'Hyderabad', 'Chennai','Noida', 'Gurugram', 'Dehradun']\n",
    "codes=[111,112,113,114,115,116,117,118]"
   ]
  },
  {
   "cell_type": "code",
   "execution_count": 535,
   "id": "1633b451-6cec-4883-bce4-2b5397c583e6",
   "metadata": {},
   "outputs": [],
   "source": [
    "data={'Name':name,\n",
    "     'ID':codes,\n",
    "     'Age':age,\n",
    "     'City':city}"
   ]
  },
  {
   "cell_type": "code",
   "execution_count": 537,
   "id": "24832d75-093d-4cb7-98d7-2b35fb941435",
   "metadata": {},
   "outputs": [
    {
     "name": "stdout",
     "output_type": "stream",
     "text": [
      "{'Name': ['Jayanth', 'Suresh', 'Megha', 'Deepak', 'Pallavi', 'Rahul', 'Dhruv', 'Nidhi'], 'ID': [111, 112, 113, 114, 115, 116, 117, 118], 'Age': [24, 26, 27, 21, 28, 25, 21, 26], 'City': ['Pune', 'Bangalore', 'Delhi', 'Hyderabad', 'Chennai', 'Noida', 'Gurugram', 'Dehradun']}\n"
     ]
    }
   ],
   "source": [
    "print(data)"
   ]
  },
  {
   "cell_type": "code",
   "execution_count": 541,
   "id": "00bc2009-787c-4b41-97bc-dfdff70e5f9b",
   "metadata": {},
   "outputs": [],
   "source": [
    "df=pd.DataFrame(data)"
   ]
  },
  {
   "cell_type": "code",
   "execution_count": 543,
   "id": "58cdc867-ed59-4524-b3ec-f38b7fe31097",
   "metadata": {},
   "outputs": [
    {
     "data": {
      "text/html": [
       "<div>\n",
       "<style scoped>\n",
       "    .dataframe tbody tr th:only-of-type {\n",
       "        vertical-align: middle;\n",
       "    }\n",
       "\n",
       "    .dataframe tbody tr th {\n",
       "        vertical-align: top;\n",
       "    }\n",
       "\n",
       "    .dataframe thead th {\n",
       "        text-align: right;\n",
       "    }\n",
       "</style>\n",
       "<table border=\"1\" class=\"dataframe\">\n",
       "  <thead>\n",
       "    <tr style=\"text-align: right;\">\n",
       "      <th></th>\n",
       "      <th>Name</th>\n",
       "      <th>ID</th>\n",
       "      <th>Age</th>\n",
       "      <th>City</th>\n",
       "    </tr>\n",
       "  </thead>\n",
       "  <tbody>\n",
       "    <tr>\n",
       "      <th>0</th>\n",
       "      <td>Jayanth</td>\n",
       "      <td>111</td>\n",
       "      <td>24</td>\n",
       "      <td>Pune</td>\n",
       "    </tr>\n",
       "    <tr>\n",
       "      <th>1</th>\n",
       "      <td>Suresh</td>\n",
       "      <td>112</td>\n",
       "      <td>26</td>\n",
       "      <td>Bangalore</td>\n",
       "    </tr>\n",
       "    <tr>\n",
       "      <th>2</th>\n",
       "      <td>Megha</td>\n",
       "      <td>113</td>\n",
       "      <td>27</td>\n",
       "      <td>Delhi</td>\n",
       "    </tr>\n",
       "    <tr>\n",
       "      <th>3</th>\n",
       "      <td>Deepak</td>\n",
       "      <td>114</td>\n",
       "      <td>21</td>\n",
       "      <td>Hyderabad</td>\n",
       "    </tr>\n",
       "    <tr>\n",
       "      <th>4</th>\n",
       "      <td>Pallavi</td>\n",
       "      <td>115</td>\n",
       "      <td>28</td>\n",
       "      <td>Chennai</td>\n",
       "    </tr>\n",
       "    <tr>\n",
       "      <th>5</th>\n",
       "      <td>Rahul</td>\n",
       "      <td>116</td>\n",
       "      <td>25</td>\n",
       "      <td>Noida</td>\n",
       "    </tr>\n",
       "    <tr>\n",
       "      <th>6</th>\n",
       "      <td>Dhruv</td>\n",
       "      <td>117</td>\n",
       "      <td>21</td>\n",
       "      <td>Gurugram</td>\n",
       "    </tr>\n",
       "    <tr>\n",
       "      <th>7</th>\n",
       "      <td>Nidhi</td>\n",
       "      <td>118</td>\n",
       "      <td>26</td>\n",
       "      <td>Dehradun</td>\n",
       "    </tr>\n",
       "  </tbody>\n",
       "</table>\n",
       "</div>"
      ],
      "text/plain": [
       "      Name   ID  Age       City\n",
       "0  Jayanth  111   24       Pune\n",
       "1   Suresh  112   26  Bangalore\n",
       "2    Megha  113   27      Delhi\n",
       "3   Deepak  114   21  Hyderabad\n",
       "4  Pallavi  115   28    Chennai\n",
       "5    Rahul  116   25      Noida\n",
       "6    Dhruv  117   21   Gurugram\n",
       "7    Nidhi  118   26   Dehradun"
      ]
     },
     "execution_count": 543,
     "metadata": {},
     "output_type": "execute_result"
    }
   ],
   "source": [
    "df"
   ]
  },
  {
   "cell_type": "code",
   "execution_count": 545,
   "id": "1e3d0c3a-3253-4662-a2df-b82da5f276f4",
   "metadata": {},
   "outputs": [],
   "source": [
    "# - While creating a dataframe using a dictionary we can change the order of columns or can add new columns."
   ]
  },
  {
   "cell_type": "code",
   "execution_count": 549,
   "id": "82e862aa-c7aa-4885-a91b-ba87d8d4a441",
   "metadata": {},
   "outputs": [
    {
     "data": {
      "text/html": [
       "<div>\n",
       "<style scoped>\n",
       "    .dataframe tbody tr th:only-of-type {\n",
       "        vertical-align: middle;\n",
       "    }\n",
       "\n",
       "    .dataframe tbody tr th {\n",
       "        vertical-align: top;\n",
       "    }\n",
       "\n",
       "    .dataframe thead th {\n",
       "        text-align: right;\n",
       "    }\n",
       "</style>\n",
       "<table border=\"1\" class=\"dataframe\">\n",
       "  <thead>\n",
       "    <tr style=\"text-align: right;\">\n",
       "      <th></th>\n",
       "      <th>ID</th>\n",
       "      <th>Name</th>\n",
       "      <th>Age</th>\n",
       "      <th>City</th>\n",
       "    </tr>\n",
       "  </thead>\n",
       "  <tbody>\n",
       "    <tr>\n",
       "      <th>0</th>\n",
       "      <td>111</td>\n",
       "      <td>Jayanth</td>\n",
       "      <td>24</td>\n",
       "      <td>Pune</td>\n",
       "    </tr>\n",
       "    <tr>\n",
       "      <th>1</th>\n",
       "      <td>112</td>\n",
       "      <td>Suresh</td>\n",
       "      <td>26</td>\n",
       "      <td>Bangalore</td>\n",
       "    </tr>\n",
       "    <tr>\n",
       "      <th>2</th>\n",
       "      <td>113</td>\n",
       "      <td>Megha</td>\n",
       "      <td>27</td>\n",
       "      <td>Delhi</td>\n",
       "    </tr>\n",
       "    <tr>\n",
       "      <th>3</th>\n",
       "      <td>114</td>\n",
       "      <td>Deepak</td>\n",
       "      <td>21</td>\n",
       "      <td>Hyderabad</td>\n",
       "    </tr>\n",
       "    <tr>\n",
       "      <th>4</th>\n",
       "      <td>115</td>\n",
       "      <td>Pallavi</td>\n",
       "      <td>28</td>\n",
       "      <td>Chennai</td>\n",
       "    </tr>\n",
       "    <tr>\n",
       "      <th>5</th>\n",
       "      <td>116</td>\n",
       "      <td>Rahul</td>\n",
       "      <td>25</td>\n",
       "      <td>Noida</td>\n",
       "    </tr>\n",
       "    <tr>\n",
       "      <th>6</th>\n",
       "      <td>117</td>\n",
       "      <td>Dhruv</td>\n",
       "      <td>21</td>\n",
       "      <td>Gurugram</td>\n",
       "    </tr>\n",
       "    <tr>\n",
       "      <th>7</th>\n",
       "      <td>118</td>\n",
       "      <td>Nidhi</td>\n",
       "      <td>26</td>\n",
       "      <td>Dehradun</td>\n",
       "    </tr>\n",
       "  </tbody>\n",
       "</table>\n",
       "</div>"
      ],
      "text/plain": [
       "    ID     Name  Age       City\n",
       "0  111  Jayanth   24       Pune\n",
       "1  112   Suresh   26  Bangalore\n",
       "2  113    Megha   27      Delhi\n",
       "3  114   Deepak   21  Hyderabad\n",
       "4  115  Pallavi   28    Chennai\n",
       "5  116    Rahul   25      Noida\n",
       "6  117    Dhruv   21   Gurugram\n",
       "7  118    Nidhi   26   Dehradun"
      ]
     },
     "execution_count": 549,
     "metadata": {},
     "output_type": "execute_result"
    }
   ],
   "source": [
    "pd.DataFrame(data,columns=['ID','Name','Age','City'])"
   ]
  },
  {
   "cell_type": "code",
   "execution_count": 555,
   "id": "eeaefd1a-52a3-4338-ab5f-a811d5d4270f",
   "metadata": {},
   "outputs": [],
   "source": [
    "df=pd.DataFrame(data,columns=['ID','Name','Age','City','Salary','Department'])"
   ]
  },
  {
   "cell_type": "code",
   "execution_count": 557,
   "id": "e04930e8-848d-4d53-b76b-4f8cc3d317e0",
   "metadata": {},
   "outputs": [
    {
     "data": {
      "text/html": [
       "<div>\n",
       "<style scoped>\n",
       "    .dataframe tbody tr th:only-of-type {\n",
       "        vertical-align: middle;\n",
       "    }\n",
       "\n",
       "    .dataframe tbody tr th {\n",
       "        vertical-align: top;\n",
       "    }\n",
       "\n",
       "    .dataframe thead th {\n",
       "        text-align: right;\n",
       "    }\n",
       "</style>\n",
       "<table border=\"1\" class=\"dataframe\">\n",
       "  <thead>\n",
       "    <tr style=\"text-align: right;\">\n",
       "      <th></th>\n",
       "      <th>ID</th>\n",
       "      <th>Name</th>\n",
       "      <th>Age</th>\n",
       "      <th>City</th>\n",
       "      <th>Salary</th>\n",
       "      <th>Department</th>\n",
       "    </tr>\n",
       "  </thead>\n",
       "  <tbody>\n",
       "    <tr>\n",
       "      <th>0</th>\n",
       "      <td>111</td>\n",
       "      <td>Jayanth</td>\n",
       "      <td>24</td>\n",
       "      <td>Pune</td>\n",
       "      <td>NaN</td>\n",
       "      <td>NaN</td>\n",
       "    </tr>\n",
       "    <tr>\n",
       "      <th>1</th>\n",
       "      <td>112</td>\n",
       "      <td>Suresh</td>\n",
       "      <td>26</td>\n",
       "      <td>Bangalore</td>\n",
       "      <td>NaN</td>\n",
       "      <td>NaN</td>\n",
       "    </tr>\n",
       "    <tr>\n",
       "      <th>2</th>\n",
       "      <td>113</td>\n",
       "      <td>Megha</td>\n",
       "      <td>27</td>\n",
       "      <td>Delhi</td>\n",
       "      <td>NaN</td>\n",
       "      <td>NaN</td>\n",
       "    </tr>\n",
       "    <tr>\n",
       "      <th>3</th>\n",
       "      <td>114</td>\n",
       "      <td>Deepak</td>\n",
       "      <td>21</td>\n",
       "      <td>Hyderabad</td>\n",
       "      <td>NaN</td>\n",
       "      <td>NaN</td>\n",
       "    </tr>\n",
       "    <tr>\n",
       "      <th>4</th>\n",
       "      <td>115</td>\n",
       "      <td>Pallavi</td>\n",
       "      <td>28</td>\n",
       "      <td>Chennai</td>\n",
       "      <td>NaN</td>\n",
       "      <td>NaN</td>\n",
       "    </tr>\n",
       "    <tr>\n",
       "      <th>5</th>\n",
       "      <td>116</td>\n",
       "      <td>Rahul</td>\n",
       "      <td>25</td>\n",
       "      <td>Noida</td>\n",
       "      <td>NaN</td>\n",
       "      <td>NaN</td>\n",
       "    </tr>\n",
       "    <tr>\n",
       "      <th>6</th>\n",
       "      <td>117</td>\n",
       "      <td>Dhruv</td>\n",
       "      <td>21</td>\n",
       "      <td>Gurugram</td>\n",
       "      <td>NaN</td>\n",
       "      <td>NaN</td>\n",
       "    </tr>\n",
       "    <tr>\n",
       "      <th>7</th>\n",
       "      <td>118</td>\n",
       "      <td>Nidhi</td>\n",
       "      <td>26</td>\n",
       "      <td>Dehradun</td>\n",
       "      <td>NaN</td>\n",
       "      <td>NaN</td>\n",
       "    </tr>\n",
       "  </tbody>\n",
       "</table>\n",
       "</div>"
      ],
      "text/plain": [
       "    ID     Name  Age       City Salary Department\n",
       "0  111  Jayanth   24       Pune    NaN        NaN\n",
       "1  112   Suresh   26  Bangalore    NaN        NaN\n",
       "2  113    Megha   27      Delhi    NaN        NaN\n",
       "3  114   Deepak   21  Hyderabad    NaN        NaN\n",
       "4  115  Pallavi   28    Chennai    NaN        NaN\n",
       "5  116    Rahul   25      Noida    NaN        NaN\n",
       "6  117    Dhruv   21   Gurugram    NaN        NaN\n",
       "7  118    Nidhi   26   Dehradun    NaN        NaN"
      ]
     },
     "execution_count": 557,
     "metadata": {},
     "output_type": "execute_result"
    }
   ],
   "source": [
    "df"
   ]
  },
  {
   "cell_type": "code",
   "execution_count": 559,
   "id": "63c22fb9-d0b4-4d55-a9da-d5637a94c13b",
   "metadata": {},
   "outputs": [
    {
     "data": {
      "text/plain": [
       "{'Name': ['Jayanth',\n",
       "  'Suresh',\n",
       "  'Megha',\n",
       "  'Deepak',\n",
       "  'Pallavi',\n",
       "  'Rahul',\n",
       "  'Dhruv',\n",
       "  'Nidhi'],\n",
       " 'ID': [111, 112, 113, 114, 115, 116, 117, 118],\n",
       " 'Age': [24, 26, 27, 21, 28, 25, 21, 26],\n",
       " 'City': ['Pune',\n",
       "  'Bangalore',\n",
       "  'Delhi',\n",
       "  'Hyderabad',\n",
       "  'Chennai',\n",
       "  'Noida',\n",
       "  'Gurugram',\n",
       "  'Dehradun']}"
      ]
     },
     "execution_count": 559,
     "metadata": {},
     "output_type": "execute_result"
    }
   ],
   "source": [
    "data"
   ]
  },
  {
   "cell_type": "markdown",
   "id": "ca849fb2-21c0-45fb-9b30-ed0aca7a543e",
   "metadata": {},
   "source": [
    "# Attributes on a dataframe"
   ]
  },
  {
   "cell_type": "markdown",
   "id": "181ed722-2ff7-4c8b-80bf-d21580c08fc6",
   "metadata": {},
   "source": [
    "### shape"
   ]
  },
  {
   "cell_type": "code",
   "execution_count": 567,
   "id": "9741f83a-8960-40a3-abff-21677097a136",
   "metadata": {},
   "outputs": [],
   "source": [
    "# - In case of a dataframe, it returns a tuple of two elements.\n",
    "# - The elements represents the rows and the second element represtents the columns."
   ]
  },
  {
   "cell_type": "code",
   "execution_count": 569,
   "id": "c37f802e-9c4c-411f-9078-91145061166a",
   "metadata": {},
   "outputs": [
    {
     "data": {
      "text/html": [
       "<div>\n",
       "<style scoped>\n",
       "    .dataframe tbody tr th:only-of-type {\n",
       "        vertical-align: middle;\n",
       "    }\n",
       "\n",
       "    .dataframe tbody tr th {\n",
       "        vertical-align: top;\n",
       "    }\n",
       "\n",
       "    .dataframe thead th {\n",
       "        text-align: right;\n",
       "    }\n",
       "</style>\n",
       "<table border=\"1\" class=\"dataframe\">\n",
       "  <thead>\n",
       "    <tr style=\"text-align: right;\">\n",
       "      <th></th>\n",
       "      <th>ID</th>\n",
       "      <th>Name</th>\n",
       "      <th>Age</th>\n",
       "      <th>City</th>\n",
       "      <th>Salary</th>\n",
       "      <th>Department</th>\n",
       "    </tr>\n",
       "  </thead>\n",
       "  <tbody>\n",
       "    <tr>\n",
       "      <th>0</th>\n",
       "      <td>111</td>\n",
       "      <td>Jayanth</td>\n",
       "      <td>24</td>\n",
       "      <td>Pune</td>\n",
       "      <td>NaN</td>\n",
       "      <td>NaN</td>\n",
       "    </tr>\n",
       "    <tr>\n",
       "      <th>1</th>\n",
       "      <td>112</td>\n",
       "      <td>Suresh</td>\n",
       "      <td>26</td>\n",
       "      <td>Bangalore</td>\n",
       "      <td>NaN</td>\n",
       "      <td>NaN</td>\n",
       "    </tr>\n",
       "    <tr>\n",
       "      <th>2</th>\n",
       "      <td>113</td>\n",
       "      <td>Megha</td>\n",
       "      <td>27</td>\n",
       "      <td>Delhi</td>\n",
       "      <td>NaN</td>\n",
       "      <td>NaN</td>\n",
       "    </tr>\n",
       "    <tr>\n",
       "      <th>3</th>\n",
       "      <td>114</td>\n",
       "      <td>Deepak</td>\n",
       "      <td>21</td>\n",
       "      <td>Hyderabad</td>\n",
       "      <td>NaN</td>\n",
       "      <td>NaN</td>\n",
       "    </tr>\n",
       "    <tr>\n",
       "      <th>4</th>\n",
       "      <td>115</td>\n",
       "      <td>Pallavi</td>\n",
       "      <td>28</td>\n",
       "      <td>Chennai</td>\n",
       "      <td>NaN</td>\n",
       "      <td>NaN</td>\n",
       "    </tr>\n",
       "    <tr>\n",
       "      <th>5</th>\n",
       "      <td>116</td>\n",
       "      <td>Rahul</td>\n",
       "      <td>25</td>\n",
       "      <td>Noida</td>\n",
       "      <td>NaN</td>\n",
       "      <td>NaN</td>\n",
       "    </tr>\n",
       "    <tr>\n",
       "      <th>6</th>\n",
       "      <td>117</td>\n",
       "      <td>Dhruv</td>\n",
       "      <td>21</td>\n",
       "      <td>Gurugram</td>\n",
       "      <td>NaN</td>\n",
       "      <td>NaN</td>\n",
       "    </tr>\n",
       "    <tr>\n",
       "      <th>7</th>\n",
       "      <td>118</td>\n",
       "      <td>Nidhi</td>\n",
       "      <td>26</td>\n",
       "      <td>Dehradun</td>\n",
       "      <td>NaN</td>\n",
       "      <td>NaN</td>\n",
       "    </tr>\n",
       "  </tbody>\n",
       "</table>\n",
       "</div>"
      ],
      "text/plain": [
       "    ID     Name  Age       City Salary Department\n",
       "0  111  Jayanth   24       Pune    NaN        NaN\n",
       "1  112   Suresh   26  Bangalore    NaN        NaN\n",
       "2  113    Megha   27      Delhi    NaN        NaN\n",
       "3  114   Deepak   21  Hyderabad    NaN        NaN\n",
       "4  115  Pallavi   28    Chennai    NaN        NaN\n",
       "5  116    Rahul   25      Noida    NaN        NaN\n",
       "6  117    Dhruv   21   Gurugram    NaN        NaN\n",
       "7  118    Nidhi   26   Dehradun    NaN        NaN"
      ]
     },
     "execution_count": 569,
     "metadata": {},
     "output_type": "execute_result"
    }
   ],
   "source": [
    "df"
   ]
  },
  {
   "cell_type": "code",
   "execution_count": 571,
   "id": "ec21306f-abc1-4f27-b672-f78d4ce45623",
   "metadata": {},
   "outputs": [
    {
     "data": {
      "text/plain": [
       "(8, 6)"
      ]
     },
     "execution_count": 571,
     "metadata": {},
     "output_type": "execute_result"
    }
   ],
   "source": [
    "df.shape"
   ]
  },
  {
   "cell_type": "markdown",
   "id": "5e1d2771-7bb7-4cd2-a533-5b628a23110d",
   "metadata": {},
   "source": [
    "### size"
   ]
  },
  {
   "cell_type": "code",
   "execution_count": 579,
   "id": "9f5c3df0-55d8-40cf-b3eb-7aa64824ccf6",
   "metadata": {},
   "outputs": [],
   "source": [
    "# - It returns the number of elements in a dataframe.\n",
    "# - size=rows*cols"
   ]
  },
  {
   "cell_type": "code",
   "execution_count": 581,
   "id": "485ca542-4b76-435b-9afc-ca1d03d2320b",
   "metadata": {},
   "outputs": [
    {
     "data": {
      "text/plain": [
       "48"
      ]
     },
     "execution_count": 581,
     "metadata": {},
     "output_type": "execute_result"
    }
   ],
   "source": [
    "df.size"
   ]
  },
  {
   "cell_type": "markdown",
   "id": "be7390d8-e4c5-4979-84e3-85bfbd5b61ed",
   "metadata": {},
   "source": [
    "### Length of a dataframe"
   ]
  },
  {
   "cell_type": "code",
   "execution_count": 584,
   "id": "9a013849-b03c-4bf8-adbb-c049837b96b2",
   "metadata": {},
   "outputs": [],
   "source": [
    "# - The number of rows is the length of the dataframe.\n",
    "# - len(df)- It returns the length of the dataframe."
   ]
  },
  {
   "cell_type": "code",
   "execution_count": 586,
   "id": "a80e737d-fe89-4746-a222-b8eeff0c3e14",
   "metadata": {},
   "outputs": [
    {
     "data": {
      "text/plain": [
       "8"
      ]
     },
     "execution_count": 586,
     "metadata": {},
     "output_type": "execute_result"
    }
   ],
   "source": [
    "len(df)"
   ]
  },
  {
   "cell_type": "markdown",
   "id": "37684df8-d658-445d-8a5f-ab094ebfd6e1",
   "metadata": {},
   "source": [
    "### ndim"
   ]
  },
  {
   "cell_type": "code",
   "execution_count": 589,
   "id": "eb96a4b5-3cf8-4d7b-a762-da9ef0bbfb5a",
   "metadata": {},
   "outputs": [],
   "source": [
    "# - It returns the dimension of a dataframe."
   ]
  },
  {
   "cell_type": "code",
   "execution_count": 591,
   "id": "788209e9-b1ba-4978-a7f9-3f77d62ee96a",
   "metadata": {},
   "outputs": [
    {
     "data": {
      "text/plain": [
       "2"
      ]
     },
     "execution_count": 591,
     "metadata": {},
     "output_type": "execute_result"
    }
   ],
   "source": [
    "df.ndim"
   ]
  },
  {
   "cell_type": "markdown",
   "id": "90a4c306-e252-458c-ad79-efe22f930bf5",
   "metadata": {},
   "source": [
    "### index"
   ]
  },
  {
   "cell_type": "code",
   "execution_count": 594,
   "id": "1cf6f885-1ec6-4223-b566-c7ecd3aa6336",
   "metadata": {},
   "outputs": [],
   "source": [
    "# - In case of implicit indexes, It returns the RangeIndex object that contains start, stop and step\n",
    "# - In case of explicit indexes, It returns the Index object that contains the list of explicit indexes."
   ]
  },
  {
   "cell_type": "code",
   "execution_count": 596,
   "id": "60acdbe0-9d30-4a5e-a26a-61b9647bc813",
   "metadata": {},
   "outputs": [
    {
     "data": {
      "text/html": [
       "<div>\n",
       "<style scoped>\n",
       "    .dataframe tbody tr th:only-of-type {\n",
       "        vertical-align: middle;\n",
       "    }\n",
       "\n",
       "    .dataframe tbody tr th {\n",
       "        vertical-align: top;\n",
       "    }\n",
       "\n",
       "    .dataframe thead th {\n",
       "        text-align: right;\n",
       "    }\n",
       "</style>\n",
       "<table border=\"1\" class=\"dataframe\">\n",
       "  <thead>\n",
       "    <tr style=\"text-align: right;\">\n",
       "      <th></th>\n",
       "      <th>ID</th>\n",
       "      <th>Name</th>\n",
       "      <th>Age</th>\n",
       "      <th>City</th>\n",
       "      <th>Salary</th>\n",
       "      <th>Department</th>\n",
       "    </tr>\n",
       "  </thead>\n",
       "  <tbody>\n",
       "    <tr>\n",
       "      <th>0</th>\n",
       "      <td>111</td>\n",
       "      <td>Jayanth</td>\n",
       "      <td>24</td>\n",
       "      <td>Pune</td>\n",
       "      <td>NaN</td>\n",
       "      <td>NaN</td>\n",
       "    </tr>\n",
       "    <tr>\n",
       "      <th>1</th>\n",
       "      <td>112</td>\n",
       "      <td>Suresh</td>\n",
       "      <td>26</td>\n",
       "      <td>Bangalore</td>\n",
       "      <td>NaN</td>\n",
       "      <td>NaN</td>\n",
       "    </tr>\n",
       "    <tr>\n",
       "      <th>2</th>\n",
       "      <td>113</td>\n",
       "      <td>Megha</td>\n",
       "      <td>27</td>\n",
       "      <td>Delhi</td>\n",
       "      <td>NaN</td>\n",
       "      <td>NaN</td>\n",
       "    </tr>\n",
       "    <tr>\n",
       "      <th>3</th>\n",
       "      <td>114</td>\n",
       "      <td>Deepak</td>\n",
       "      <td>21</td>\n",
       "      <td>Hyderabad</td>\n",
       "      <td>NaN</td>\n",
       "      <td>NaN</td>\n",
       "    </tr>\n",
       "    <tr>\n",
       "      <th>4</th>\n",
       "      <td>115</td>\n",
       "      <td>Pallavi</td>\n",
       "      <td>28</td>\n",
       "      <td>Chennai</td>\n",
       "      <td>NaN</td>\n",
       "      <td>NaN</td>\n",
       "    </tr>\n",
       "    <tr>\n",
       "      <th>5</th>\n",
       "      <td>116</td>\n",
       "      <td>Rahul</td>\n",
       "      <td>25</td>\n",
       "      <td>Noida</td>\n",
       "      <td>NaN</td>\n",
       "      <td>NaN</td>\n",
       "    </tr>\n",
       "    <tr>\n",
       "      <th>6</th>\n",
       "      <td>117</td>\n",
       "      <td>Dhruv</td>\n",
       "      <td>21</td>\n",
       "      <td>Gurugram</td>\n",
       "      <td>NaN</td>\n",
       "      <td>NaN</td>\n",
       "    </tr>\n",
       "    <tr>\n",
       "      <th>7</th>\n",
       "      <td>118</td>\n",
       "      <td>Nidhi</td>\n",
       "      <td>26</td>\n",
       "      <td>Dehradun</td>\n",
       "      <td>NaN</td>\n",
       "      <td>NaN</td>\n",
       "    </tr>\n",
       "  </tbody>\n",
       "</table>\n",
       "</div>"
      ],
      "text/plain": [
       "    ID     Name  Age       City Salary Department\n",
       "0  111  Jayanth   24       Pune    NaN        NaN\n",
       "1  112   Suresh   26  Bangalore    NaN        NaN\n",
       "2  113    Megha   27      Delhi    NaN        NaN\n",
       "3  114   Deepak   21  Hyderabad    NaN        NaN\n",
       "4  115  Pallavi   28    Chennai    NaN        NaN\n",
       "5  116    Rahul   25      Noida    NaN        NaN\n",
       "6  117    Dhruv   21   Gurugram    NaN        NaN\n",
       "7  118    Nidhi   26   Dehradun    NaN        NaN"
      ]
     },
     "execution_count": 596,
     "metadata": {},
     "output_type": "execute_result"
    }
   ],
   "source": [
    "df"
   ]
  },
  {
   "cell_type": "code",
   "execution_count": 598,
   "id": "86f1e602-9c27-44c7-8bc4-4d18392ea725",
   "metadata": {},
   "outputs": [
    {
     "data": {
      "text/plain": [
       "RangeIndex(start=0, stop=8, step=1)"
      ]
     },
     "execution_count": 598,
     "metadata": {},
     "output_type": "execute_result"
    }
   ],
   "source": [
    "df.index"
   ]
  },
  {
   "cell_type": "code",
   "execution_count": 600,
   "id": "87979938-5aca-4db9-817f-d1664b796790",
   "metadata": {},
   "outputs": [],
   "source": [
    "df.index=list('abcdefgh')"
   ]
  },
  {
   "cell_type": "code",
   "execution_count": 602,
   "id": "3b5f4107-0d3b-4d14-900e-dab994655374",
   "metadata": {},
   "outputs": [
    {
     "data": {
      "text/html": [
       "<div>\n",
       "<style scoped>\n",
       "    .dataframe tbody tr th:only-of-type {\n",
       "        vertical-align: middle;\n",
       "    }\n",
       "\n",
       "    .dataframe tbody tr th {\n",
       "        vertical-align: top;\n",
       "    }\n",
       "\n",
       "    .dataframe thead th {\n",
       "        text-align: right;\n",
       "    }\n",
       "</style>\n",
       "<table border=\"1\" class=\"dataframe\">\n",
       "  <thead>\n",
       "    <tr style=\"text-align: right;\">\n",
       "      <th></th>\n",
       "      <th>ID</th>\n",
       "      <th>Name</th>\n",
       "      <th>Age</th>\n",
       "      <th>City</th>\n",
       "      <th>Salary</th>\n",
       "      <th>Department</th>\n",
       "    </tr>\n",
       "  </thead>\n",
       "  <tbody>\n",
       "    <tr>\n",
       "      <th>a</th>\n",
       "      <td>111</td>\n",
       "      <td>Jayanth</td>\n",
       "      <td>24</td>\n",
       "      <td>Pune</td>\n",
       "      <td>NaN</td>\n",
       "      <td>NaN</td>\n",
       "    </tr>\n",
       "    <tr>\n",
       "      <th>b</th>\n",
       "      <td>112</td>\n",
       "      <td>Suresh</td>\n",
       "      <td>26</td>\n",
       "      <td>Bangalore</td>\n",
       "      <td>NaN</td>\n",
       "      <td>NaN</td>\n",
       "    </tr>\n",
       "    <tr>\n",
       "      <th>c</th>\n",
       "      <td>113</td>\n",
       "      <td>Megha</td>\n",
       "      <td>27</td>\n",
       "      <td>Delhi</td>\n",
       "      <td>NaN</td>\n",
       "      <td>NaN</td>\n",
       "    </tr>\n",
       "    <tr>\n",
       "      <th>d</th>\n",
       "      <td>114</td>\n",
       "      <td>Deepak</td>\n",
       "      <td>21</td>\n",
       "      <td>Hyderabad</td>\n",
       "      <td>NaN</td>\n",
       "      <td>NaN</td>\n",
       "    </tr>\n",
       "    <tr>\n",
       "      <th>e</th>\n",
       "      <td>115</td>\n",
       "      <td>Pallavi</td>\n",
       "      <td>28</td>\n",
       "      <td>Chennai</td>\n",
       "      <td>NaN</td>\n",
       "      <td>NaN</td>\n",
       "    </tr>\n",
       "    <tr>\n",
       "      <th>f</th>\n",
       "      <td>116</td>\n",
       "      <td>Rahul</td>\n",
       "      <td>25</td>\n",
       "      <td>Noida</td>\n",
       "      <td>NaN</td>\n",
       "      <td>NaN</td>\n",
       "    </tr>\n",
       "    <tr>\n",
       "      <th>g</th>\n",
       "      <td>117</td>\n",
       "      <td>Dhruv</td>\n",
       "      <td>21</td>\n",
       "      <td>Gurugram</td>\n",
       "      <td>NaN</td>\n",
       "      <td>NaN</td>\n",
       "    </tr>\n",
       "    <tr>\n",
       "      <th>h</th>\n",
       "      <td>118</td>\n",
       "      <td>Nidhi</td>\n",
       "      <td>26</td>\n",
       "      <td>Dehradun</td>\n",
       "      <td>NaN</td>\n",
       "      <td>NaN</td>\n",
       "    </tr>\n",
       "  </tbody>\n",
       "</table>\n",
       "</div>"
      ],
      "text/plain": [
       "    ID     Name  Age       City Salary Department\n",
       "a  111  Jayanth   24       Pune    NaN        NaN\n",
       "b  112   Suresh   26  Bangalore    NaN        NaN\n",
       "c  113    Megha   27      Delhi    NaN        NaN\n",
       "d  114   Deepak   21  Hyderabad    NaN        NaN\n",
       "e  115  Pallavi   28    Chennai    NaN        NaN\n",
       "f  116    Rahul   25      Noida    NaN        NaN\n",
       "g  117    Dhruv   21   Gurugram    NaN        NaN\n",
       "h  118    Nidhi   26   Dehradun    NaN        NaN"
      ]
     },
     "execution_count": 602,
     "metadata": {},
     "output_type": "execute_result"
    }
   ],
   "source": [
    "df"
   ]
  },
  {
   "cell_type": "code",
   "execution_count": 604,
   "id": "9ecb4f47-3a0c-4d06-9b04-870e4935e88c",
   "metadata": {},
   "outputs": [
    {
     "data": {
      "text/plain": [
       "Index(['a', 'b', 'c', 'd', 'e', 'f', 'g', 'h'], dtype='object')"
      ]
     },
     "execution_count": 604,
     "metadata": {},
     "output_type": "execute_result"
    }
   ],
   "source": [
    "df.index"
   ]
  },
  {
   "cell_type": "markdown",
   "id": "c8cfa0ba-0e05-473f-8646-1cfc285d1142",
   "metadata": {},
   "source": [
    "### columns"
   ]
  },
  {
   "cell_type": "code",
   "execution_count": 607,
   "id": "d2fdd05a-6872-46f6-9c08-a5b41f06d44d",
   "metadata": {},
   "outputs": [],
   "source": [
    "# - It returns the RangeIndex object for the default column indexes.\n",
    "# - It returns the Index object that contains the list of the explicit column indexes."
   ]
  },
  {
   "cell_type": "code",
   "execution_count": 615,
   "id": "c248fb91-d3a9-419b-a87b-c4297b881eea",
   "metadata": {},
   "outputs": [],
   "source": [
    "df=pd.DataFrame([name,codes,age,city]).T"
   ]
  },
  {
   "cell_type": "code",
   "execution_count": 617,
   "id": "3e94ef67-a8ae-4f98-b830-3e92689597b4",
   "metadata": {},
   "outputs": [
    {
     "data": {
      "text/html": [
       "<div>\n",
       "<style scoped>\n",
       "    .dataframe tbody tr th:only-of-type {\n",
       "        vertical-align: middle;\n",
       "    }\n",
       "\n",
       "    .dataframe tbody tr th {\n",
       "        vertical-align: top;\n",
       "    }\n",
       "\n",
       "    .dataframe thead th {\n",
       "        text-align: right;\n",
       "    }\n",
       "</style>\n",
       "<table border=\"1\" class=\"dataframe\">\n",
       "  <thead>\n",
       "    <tr style=\"text-align: right;\">\n",
       "      <th></th>\n",
       "      <th>0</th>\n",
       "      <th>1</th>\n",
       "      <th>2</th>\n",
       "      <th>3</th>\n",
       "    </tr>\n",
       "  </thead>\n",
       "  <tbody>\n",
       "    <tr>\n",
       "      <th>0</th>\n",
       "      <td>Jayanth</td>\n",
       "      <td>111</td>\n",
       "      <td>24</td>\n",
       "      <td>Pune</td>\n",
       "    </tr>\n",
       "    <tr>\n",
       "      <th>1</th>\n",
       "      <td>Suresh</td>\n",
       "      <td>112</td>\n",
       "      <td>26</td>\n",
       "      <td>Bangalore</td>\n",
       "    </tr>\n",
       "    <tr>\n",
       "      <th>2</th>\n",
       "      <td>Megha</td>\n",
       "      <td>113</td>\n",
       "      <td>27</td>\n",
       "      <td>Delhi</td>\n",
       "    </tr>\n",
       "    <tr>\n",
       "      <th>3</th>\n",
       "      <td>Deepak</td>\n",
       "      <td>114</td>\n",
       "      <td>21</td>\n",
       "      <td>Hyderabad</td>\n",
       "    </tr>\n",
       "    <tr>\n",
       "      <th>4</th>\n",
       "      <td>Pallavi</td>\n",
       "      <td>115</td>\n",
       "      <td>28</td>\n",
       "      <td>Chennai</td>\n",
       "    </tr>\n",
       "    <tr>\n",
       "      <th>5</th>\n",
       "      <td>Rahul</td>\n",
       "      <td>116</td>\n",
       "      <td>25</td>\n",
       "      <td>Noida</td>\n",
       "    </tr>\n",
       "    <tr>\n",
       "      <th>6</th>\n",
       "      <td>Dhruv</td>\n",
       "      <td>117</td>\n",
       "      <td>21</td>\n",
       "      <td>Gurugram</td>\n",
       "    </tr>\n",
       "    <tr>\n",
       "      <th>7</th>\n",
       "      <td>Nidhi</td>\n",
       "      <td>118</td>\n",
       "      <td>26</td>\n",
       "      <td>Dehradun</td>\n",
       "    </tr>\n",
       "  </tbody>\n",
       "</table>\n",
       "</div>"
      ],
      "text/plain": [
       "         0    1   2          3\n",
       "0  Jayanth  111  24       Pune\n",
       "1   Suresh  112  26  Bangalore\n",
       "2    Megha  113  27      Delhi\n",
       "3   Deepak  114  21  Hyderabad\n",
       "4  Pallavi  115  28    Chennai\n",
       "5    Rahul  116  25      Noida\n",
       "6    Dhruv  117  21   Gurugram\n",
       "7    Nidhi  118  26   Dehradun"
      ]
     },
     "execution_count": 617,
     "metadata": {},
     "output_type": "execute_result"
    }
   ],
   "source": [
    "df"
   ]
  },
  {
   "cell_type": "code",
   "execution_count": 619,
   "id": "b6c12834-0d26-4c53-872f-f552c16a44ec",
   "metadata": {},
   "outputs": [
    {
     "data": {
      "text/plain": [
       "RangeIndex(start=0, stop=4, step=1)"
      ]
     },
     "execution_count": 619,
     "metadata": {},
     "output_type": "execute_result"
    }
   ],
   "source": [
    "df.columns"
   ]
  },
  {
   "cell_type": "code",
   "execution_count": 621,
   "id": "fa430ee0-5364-41fc-88b7-3c0adde9b53c",
   "metadata": {},
   "outputs": [],
   "source": [
    "df.columns=['Name','ID', 'Age', 'City']"
   ]
  },
  {
   "cell_type": "code",
   "execution_count": 623,
   "id": "27598531-29ca-4a81-882e-abf484f6513c",
   "metadata": {},
   "outputs": [
    {
     "data": {
      "text/html": [
       "<div>\n",
       "<style scoped>\n",
       "    .dataframe tbody tr th:only-of-type {\n",
       "        vertical-align: middle;\n",
       "    }\n",
       "\n",
       "    .dataframe tbody tr th {\n",
       "        vertical-align: top;\n",
       "    }\n",
       "\n",
       "    .dataframe thead th {\n",
       "        text-align: right;\n",
       "    }\n",
       "</style>\n",
       "<table border=\"1\" class=\"dataframe\">\n",
       "  <thead>\n",
       "    <tr style=\"text-align: right;\">\n",
       "      <th></th>\n",
       "      <th>Name</th>\n",
       "      <th>ID</th>\n",
       "      <th>Age</th>\n",
       "      <th>City</th>\n",
       "    </tr>\n",
       "  </thead>\n",
       "  <tbody>\n",
       "    <tr>\n",
       "      <th>0</th>\n",
       "      <td>Jayanth</td>\n",
       "      <td>111</td>\n",
       "      <td>24</td>\n",
       "      <td>Pune</td>\n",
       "    </tr>\n",
       "    <tr>\n",
       "      <th>1</th>\n",
       "      <td>Suresh</td>\n",
       "      <td>112</td>\n",
       "      <td>26</td>\n",
       "      <td>Bangalore</td>\n",
       "    </tr>\n",
       "    <tr>\n",
       "      <th>2</th>\n",
       "      <td>Megha</td>\n",
       "      <td>113</td>\n",
       "      <td>27</td>\n",
       "      <td>Delhi</td>\n",
       "    </tr>\n",
       "    <tr>\n",
       "      <th>3</th>\n",
       "      <td>Deepak</td>\n",
       "      <td>114</td>\n",
       "      <td>21</td>\n",
       "      <td>Hyderabad</td>\n",
       "    </tr>\n",
       "    <tr>\n",
       "      <th>4</th>\n",
       "      <td>Pallavi</td>\n",
       "      <td>115</td>\n",
       "      <td>28</td>\n",
       "      <td>Chennai</td>\n",
       "    </tr>\n",
       "    <tr>\n",
       "      <th>5</th>\n",
       "      <td>Rahul</td>\n",
       "      <td>116</td>\n",
       "      <td>25</td>\n",
       "      <td>Noida</td>\n",
       "    </tr>\n",
       "    <tr>\n",
       "      <th>6</th>\n",
       "      <td>Dhruv</td>\n",
       "      <td>117</td>\n",
       "      <td>21</td>\n",
       "      <td>Gurugram</td>\n",
       "    </tr>\n",
       "    <tr>\n",
       "      <th>7</th>\n",
       "      <td>Nidhi</td>\n",
       "      <td>118</td>\n",
       "      <td>26</td>\n",
       "      <td>Dehradun</td>\n",
       "    </tr>\n",
       "  </tbody>\n",
       "</table>\n",
       "</div>"
      ],
      "text/plain": [
       "      Name   ID Age       City\n",
       "0  Jayanth  111  24       Pune\n",
       "1   Suresh  112  26  Bangalore\n",
       "2    Megha  113  27      Delhi\n",
       "3   Deepak  114  21  Hyderabad\n",
       "4  Pallavi  115  28    Chennai\n",
       "5    Rahul  116  25      Noida\n",
       "6    Dhruv  117  21   Gurugram\n",
       "7    Nidhi  118  26   Dehradun"
      ]
     },
     "execution_count": 623,
     "metadata": {},
     "output_type": "execute_result"
    }
   ],
   "source": [
    "df"
   ]
  },
  {
   "cell_type": "code",
   "execution_count": 625,
   "id": "4d297e15-2e6a-4d37-a9e9-ac1b28bd33ba",
   "metadata": {},
   "outputs": [
    {
     "data": {
      "text/plain": [
       "Index(['Name', 'ID', 'Age', 'City'], dtype='object')"
      ]
     },
     "execution_count": 625,
     "metadata": {},
     "output_type": "execute_result"
    }
   ],
   "source": [
    "df.columns"
   ]
  },
  {
   "cell_type": "markdown",
   "id": "0ae047b6-3e7f-4d18-94fb-7ef24f29cc4b",
   "metadata": {},
   "source": [
    "### values"
   ]
  },
  {
   "cell_type": "code",
   "execution_count": 628,
   "id": "2827480f-f72b-449a-906c-b397e98b2aaf",
   "metadata": {},
   "outputs": [],
   "source": [
    "# - It returns a 2D array that contains the values from a dataframe."
   ]
  },
  {
   "cell_type": "code",
   "execution_count": 630,
   "id": "15760751-d753-4656-bfca-2279695d5eda",
   "metadata": {},
   "outputs": [
    {
     "data": {
      "text/html": [
       "<div>\n",
       "<style scoped>\n",
       "    .dataframe tbody tr th:only-of-type {\n",
       "        vertical-align: middle;\n",
       "    }\n",
       "\n",
       "    .dataframe tbody tr th {\n",
       "        vertical-align: top;\n",
       "    }\n",
       "\n",
       "    .dataframe thead th {\n",
       "        text-align: right;\n",
       "    }\n",
       "</style>\n",
       "<table border=\"1\" class=\"dataframe\">\n",
       "  <thead>\n",
       "    <tr style=\"text-align: right;\">\n",
       "      <th></th>\n",
       "      <th>Name</th>\n",
       "      <th>ID</th>\n",
       "      <th>Age</th>\n",
       "      <th>City</th>\n",
       "    </tr>\n",
       "  </thead>\n",
       "  <tbody>\n",
       "    <tr>\n",
       "      <th>0</th>\n",
       "      <td>Jayanth</td>\n",
       "      <td>111</td>\n",
       "      <td>24</td>\n",
       "      <td>Pune</td>\n",
       "    </tr>\n",
       "    <tr>\n",
       "      <th>1</th>\n",
       "      <td>Suresh</td>\n",
       "      <td>112</td>\n",
       "      <td>26</td>\n",
       "      <td>Bangalore</td>\n",
       "    </tr>\n",
       "    <tr>\n",
       "      <th>2</th>\n",
       "      <td>Megha</td>\n",
       "      <td>113</td>\n",
       "      <td>27</td>\n",
       "      <td>Delhi</td>\n",
       "    </tr>\n",
       "    <tr>\n",
       "      <th>3</th>\n",
       "      <td>Deepak</td>\n",
       "      <td>114</td>\n",
       "      <td>21</td>\n",
       "      <td>Hyderabad</td>\n",
       "    </tr>\n",
       "    <tr>\n",
       "      <th>4</th>\n",
       "      <td>Pallavi</td>\n",
       "      <td>115</td>\n",
       "      <td>28</td>\n",
       "      <td>Chennai</td>\n",
       "    </tr>\n",
       "    <tr>\n",
       "      <th>5</th>\n",
       "      <td>Rahul</td>\n",
       "      <td>116</td>\n",
       "      <td>25</td>\n",
       "      <td>Noida</td>\n",
       "    </tr>\n",
       "    <tr>\n",
       "      <th>6</th>\n",
       "      <td>Dhruv</td>\n",
       "      <td>117</td>\n",
       "      <td>21</td>\n",
       "      <td>Gurugram</td>\n",
       "    </tr>\n",
       "    <tr>\n",
       "      <th>7</th>\n",
       "      <td>Nidhi</td>\n",
       "      <td>118</td>\n",
       "      <td>26</td>\n",
       "      <td>Dehradun</td>\n",
       "    </tr>\n",
       "  </tbody>\n",
       "</table>\n",
       "</div>"
      ],
      "text/plain": [
       "      Name   ID Age       City\n",
       "0  Jayanth  111  24       Pune\n",
       "1   Suresh  112  26  Bangalore\n",
       "2    Megha  113  27      Delhi\n",
       "3   Deepak  114  21  Hyderabad\n",
       "4  Pallavi  115  28    Chennai\n",
       "5    Rahul  116  25      Noida\n",
       "6    Dhruv  117  21   Gurugram\n",
       "7    Nidhi  118  26   Dehradun"
      ]
     },
     "execution_count": 630,
     "metadata": {},
     "output_type": "execute_result"
    }
   ],
   "source": [
    "df"
   ]
  },
  {
   "cell_type": "code",
   "execution_count": 632,
   "id": "4c55cbb5-4f7b-4e9f-9406-c80f67363a4f",
   "metadata": {},
   "outputs": [
    {
     "data": {
      "text/plain": [
       "array([['Jayanth', 111, 24, 'Pune'],\n",
       "       ['Suresh', 112, 26, 'Bangalore'],\n",
       "       ['Megha', 113, 27, 'Delhi'],\n",
       "       ['Deepak', 114, 21, 'Hyderabad'],\n",
       "       ['Pallavi', 115, 28, 'Chennai'],\n",
       "       ['Rahul', 116, 25, 'Noida'],\n",
       "       ['Dhruv', 117, 21, 'Gurugram'],\n",
       "       ['Nidhi', 118, 26, 'Dehradun']], dtype=object)"
      ]
     },
     "execution_count": 632,
     "metadata": {},
     "output_type": "execute_result"
    }
   ],
   "source": [
    "df.values"
   ]
  },
  {
   "cell_type": "markdown",
   "id": "df810afc-0685-4fb9-81af-47f0c99c0e92",
   "metadata": {},
   "source": [
    "# Indexing and Slicing of a dataframe"
   ]
  },
  {
   "cell_type": "markdown",
   "id": "ca9e897e-d677-48d2-9974-697170390f5a",
   "metadata": {},
   "source": [
    "### Indexing"
   ]
  },
  {
   "cell_type": "code",
   "execution_count": 634,
   "id": "7f9482aa-e26c-4acf-a49a-9502a60ba45a",
   "metadata": {},
   "outputs": [],
   "source": [
    "# - A dataframe may have implicit or explicit indexes."
   ]
  },
  {
   "cell_type": "markdown",
   "id": "79c6e688-184b-4190-9a8f-d94407809596",
   "metadata": {},
   "source": [
    "#### In case of implicit indexes"
   ]
  },
  {
   "cell_type": "code",
   "execution_count": 639,
   "id": "7d4d9739-4896-4437-b035-f535efa624a7",
   "metadata": {},
   "outputs": [],
   "source": [
    "# df.iloc[row_index]\n",
    "# df.iloc[row_index,col_index]"
   ]
  },
  {
   "cell_type": "markdown",
   "id": "a1ccc74a-a8b7-44d6-a47d-f93218de7ab0",
   "metadata": {},
   "source": [
    "#### In case of the explicit indexes"
   ]
  },
  {
   "cell_type": "code",
   "execution_count": 644,
   "id": "12e7c7dc-0b3b-4bc6-83bc-608a5d62fb32",
   "metadata": {},
   "outputs": [],
   "source": [
    "# df.loc[row_index]\n",
    "# df.loc[row_index,col_index]"
   ]
  },
  {
   "cell_type": "code",
   "execution_count": 646,
   "id": "870c40d5-1c0e-4ff4-b946-17b50f3904a0",
   "metadata": {},
   "outputs": [
    {
     "data": {
      "text/html": [
       "<div>\n",
       "<style scoped>\n",
       "    .dataframe tbody tr th:only-of-type {\n",
       "        vertical-align: middle;\n",
       "    }\n",
       "\n",
       "    .dataframe tbody tr th {\n",
       "        vertical-align: top;\n",
       "    }\n",
       "\n",
       "    .dataframe thead th {\n",
       "        text-align: right;\n",
       "    }\n",
       "</style>\n",
       "<table border=\"1\" class=\"dataframe\">\n",
       "  <thead>\n",
       "    <tr style=\"text-align: right;\">\n",
       "      <th></th>\n",
       "      <th>Name</th>\n",
       "      <th>ID</th>\n",
       "      <th>Age</th>\n",
       "      <th>City</th>\n",
       "    </tr>\n",
       "  </thead>\n",
       "  <tbody>\n",
       "    <tr>\n",
       "      <th>0</th>\n",
       "      <td>Jayanth</td>\n",
       "      <td>111</td>\n",
       "      <td>24</td>\n",
       "      <td>Pune</td>\n",
       "    </tr>\n",
       "    <tr>\n",
       "      <th>1</th>\n",
       "      <td>Suresh</td>\n",
       "      <td>112</td>\n",
       "      <td>26</td>\n",
       "      <td>Bangalore</td>\n",
       "    </tr>\n",
       "    <tr>\n",
       "      <th>2</th>\n",
       "      <td>Megha</td>\n",
       "      <td>113</td>\n",
       "      <td>27</td>\n",
       "      <td>Delhi</td>\n",
       "    </tr>\n",
       "    <tr>\n",
       "      <th>3</th>\n",
       "      <td>Deepak</td>\n",
       "      <td>114</td>\n",
       "      <td>21</td>\n",
       "      <td>Hyderabad</td>\n",
       "    </tr>\n",
       "    <tr>\n",
       "      <th>4</th>\n",
       "      <td>Pallavi</td>\n",
       "      <td>115</td>\n",
       "      <td>28</td>\n",
       "      <td>Chennai</td>\n",
       "    </tr>\n",
       "    <tr>\n",
       "      <th>5</th>\n",
       "      <td>Rahul</td>\n",
       "      <td>116</td>\n",
       "      <td>25</td>\n",
       "      <td>Noida</td>\n",
       "    </tr>\n",
       "    <tr>\n",
       "      <th>6</th>\n",
       "      <td>Dhruv</td>\n",
       "      <td>117</td>\n",
       "      <td>21</td>\n",
       "      <td>Gurugram</td>\n",
       "    </tr>\n",
       "    <tr>\n",
       "      <th>7</th>\n",
       "      <td>Nidhi</td>\n",
       "      <td>118</td>\n",
       "      <td>26</td>\n",
       "      <td>Dehradun</td>\n",
       "    </tr>\n",
       "  </tbody>\n",
       "</table>\n",
       "</div>"
      ],
      "text/plain": [
       "      Name   ID Age       City\n",
       "0  Jayanth  111  24       Pune\n",
       "1   Suresh  112  26  Bangalore\n",
       "2    Megha  113  27      Delhi\n",
       "3   Deepak  114  21  Hyderabad\n",
       "4  Pallavi  115  28    Chennai\n",
       "5    Rahul  116  25      Noida\n",
       "6    Dhruv  117  21   Gurugram\n",
       "7    Nidhi  118  26   Dehradun"
      ]
     },
     "execution_count": 646,
     "metadata": {},
     "output_type": "execute_result"
    }
   ],
   "source": [
    "df"
   ]
  },
  {
   "cell_type": "code",
   "execution_count": 648,
   "id": "66de8535-a99c-4b31-826c-b88c925511aa",
   "metadata": {},
   "outputs": [],
   "source": [
    "# First row"
   ]
  },
  {
   "cell_type": "code",
   "execution_count": 650,
   "id": "f511f775-fb3f-4910-8383-960cca3d6ade",
   "metadata": {},
   "outputs": [
    {
     "data": {
      "text/plain": [
       "Name    Jayanth\n",
       "ID          111\n",
       "Age          24\n",
       "City       Pune\n",
       "Name: 0, dtype: object"
      ]
     },
     "execution_count": 650,
     "metadata": {},
     "output_type": "execute_result"
    }
   ],
   "source": [
    "df.iloc[0]"
   ]
  },
  {
   "cell_type": "code",
   "execution_count": 652,
   "id": "3549bbcc-13d8-4456-9374-3b038cb4b062",
   "metadata": {},
   "outputs": [
    {
     "data": {
      "text/html": [
       "<div>\n",
       "<style scoped>\n",
       "    .dataframe tbody tr th:only-of-type {\n",
       "        vertical-align: middle;\n",
       "    }\n",
       "\n",
       "    .dataframe tbody tr th {\n",
       "        vertical-align: top;\n",
       "    }\n",
       "\n",
       "    .dataframe thead th {\n",
       "        text-align: right;\n",
       "    }\n",
       "</style>\n",
       "<table border=\"1\" class=\"dataframe\">\n",
       "  <thead>\n",
       "    <tr style=\"text-align: right;\">\n",
       "      <th></th>\n",
       "      <th>Name</th>\n",
       "      <th>ID</th>\n",
       "      <th>Age</th>\n",
       "      <th>City</th>\n",
       "    </tr>\n",
       "  </thead>\n",
       "  <tbody>\n",
       "    <tr>\n",
       "      <th>0</th>\n",
       "      <td>Jayanth</td>\n",
       "      <td>111</td>\n",
       "      <td>24</td>\n",
       "      <td>Pune</td>\n",
       "    </tr>\n",
       "  </tbody>\n",
       "</table>\n",
       "</div>"
      ],
      "text/plain": [
       "      Name   ID Age  City\n",
       "0  Jayanth  111  24  Pune"
      ]
     },
     "execution_count": 652,
     "metadata": {},
     "output_type": "execute_result"
    }
   ],
   "source": [
    "df.iloc[[0]]"
   ]
  },
  {
   "cell_type": "code",
   "execution_count": 654,
   "id": "38fad791-3596-4ccb-b003-a39bb683a36a",
   "metadata": {},
   "outputs": [],
   "source": [
    "# Last row"
   ]
  },
  {
   "cell_type": "code",
   "execution_count": 656,
   "id": "fc3d024f-2161-4f3c-937b-53b68bff80f4",
   "metadata": {},
   "outputs": [
    {
     "data": {
      "text/plain": [
       "Name       Nidhi\n",
       "ID           118\n",
       "Age           26\n",
       "City    Dehradun\n",
       "Name: 7, dtype: object"
      ]
     },
     "execution_count": 656,
     "metadata": {},
     "output_type": "execute_result"
    }
   ],
   "source": [
    "df.iloc[-1]"
   ]
  },
  {
   "cell_type": "code",
   "execution_count": 658,
   "id": "2333e9b6-1e15-4048-b97e-418a9dfc8500",
   "metadata": {},
   "outputs": [
    {
     "data": {
      "text/html": [
       "<div>\n",
       "<style scoped>\n",
       "    .dataframe tbody tr th:only-of-type {\n",
       "        vertical-align: middle;\n",
       "    }\n",
       "\n",
       "    .dataframe tbody tr th {\n",
       "        vertical-align: top;\n",
       "    }\n",
       "\n",
       "    .dataframe thead th {\n",
       "        text-align: right;\n",
       "    }\n",
       "</style>\n",
       "<table border=\"1\" class=\"dataframe\">\n",
       "  <thead>\n",
       "    <tr style=\"text-align: right;\">\n",
       "      <th></th>\n",
       "      <th>Name</th>\n",
       "      <th>ID</th>\n",
       "      <th>Age</th>\n",
       "      <th>City</th>\n",
       "    </tr>\n",
       "  </thead>\n",
       "  <tbody>\n",
       "    <tr>\n",
       "      <th>7</th>\n",
       "      <td>Nidhi</td>\n",
       "      <td>118</td>\n",
       "      <td>26</td>\n",
       "      <td>Dehradun</td>\n",
       "    </tr>\n",
       "  </tbody>\n",
       "</table>\n",
       "</div>"
      ],
      "text/plain": [
       "    Name   ID Age      City\n",
       "7  Nidhi  118  26  Dehradun"
      ]
     },
     "execution_count": 658,
     "metadata": {},
     "output_type": "execute_result"
    }
   ],
   "source": [
    "df.iloc[[-1]]"
   ]
  },
  {
   "cell_type": "code",
   "execution_count": 660,
   "id": "8fe5467a-e2b4-4e0e-8a9d-36d0f4ac4060",
   "metadata": {},
   "outputs": [
    {
     "data": {
      "text/html": [
       "<div>\n",
       "<style scoped>\n",
       "    .dataframe tbody tr th:only-of-type {\n",
       "        vertical-align: middle;\n",
       "    }\n",
       "\n",
       "    .dataframe tbody tr th {\n",
       "        vertical-align: top;\n",
       "    }\n",
       "\n",
       "    .dataframe thead th {\n",
       "        text-align: right;\n",
       "    }\n",
       "</style>\n",
       "<table border=\"1\" class=\"dataframe\">\n",
       "  <thead>\n",
       "    <tr style=\"text-align: right;\">\n",
       "      <th></th>\n",
       "      <th>Name</th>\n",
       "      <th>ID</th>\n",
       "      <th>Age</th>\n",
       "      <th>City</th>\n",
       "    </tr>\n",
       "  </thead>\n",
       "  <tbody>\n",
       "    <tr>\n",
       "      <th>7</th>\n",
       "      <td>Nidhi</td>\n",
       "      <td>118</td>\n",
       "      <td>26</td>\n",
       "      <td>Dehradun</td>\n",
       "    </tr>\n",
       "  </tbody>\n",
       "</table>\n",
       "</div>"
      ],
      "text/plain": [
       "    Name   ID Age      City\n",
       "7  Nidhi  118  26  Dehradun"
      ]
     },
     "execution_count": 660,
     "metadata": {},
     "output_type": "execute_result"
    }
   ],
   "source": [
    "df.iloc[-1:]"
   ]
  },
  {
   "cell_type": "code",
   "execution_count": 662,
   "id": "dccafb8f-fc80-4e33-a5df-4e8fdee6c803",
   "metadata": {},
   "outputs": [
    {
     "data": {
      "text/html": [
       "<div>\n",
       "<style scoped>\n",
       "    .dataframe tbody tr th:only-of-type {\n",
       "        vertical-align: middle;\n",
       "    }\n",
       "\n",
       "    .dataframe tbody tr th {\n",
       "        vertical-align: top;\n",
       "    }\n",
       "\n",
       "    .dataframe thead th {\n",
       "        text-align: right;\n",
       "    }\n",
       "</style>\n",
       "<table border=\"1\" class=\"dataframe\">\n",
       "  <thead>\n",
       "    <tr style=\"text-align: right;\">\n",
       "      <th></th>\n",
       "      <th>Name</th>\n",
       "      <th>ID</th>\n",
       "      <th>Age</th>\n",
       "      <th>City</th>\n",
       "    </tr>\n",
       "  </thead>\n",
       "  <tbody>\n",
       "    <tr>\n",
       "      <th>0</th>\n",
       "      <td>Jayanth</td>\n",
       "      <td>111</td>\n",
       "      <td>24</td>\n",
       "      <td>Pune</td>\n",
       "    </tr>\n",
       "    <tr>\n",
       "      <th>1</th>\n",
       "      <td>Suresh</td>\n",
       "      <td>112</td>\n",
       "      <td>26</td>\n",
       "      <td>Bangalore</td>\n",
       "    </tr>\n",
       "    <tr>\n",
       "      <th>2</th>\n",
       "      <td>Megha</td>\n",
       "      <td>113</td>\n",
       "      <td>27</td>\n",
       "      <td>Delhi</td>\n",
       "    </tr>\n",
       "    <tr>\n",
       "      <th>3</th>\n",
       "      <td>Deepak</td>\n",
       "      <td>114</td>\n",
       "      <td>21</td>\n",
       "      <td>Hyderabad</td>\n",
       "    </tr>\n",
       "    <tr>\n",
       "      <th>4</th>\n",
       "      <td>Pallavi</td>\n",
       "      <td>115</td>\n",
       "      <td>28</td>\n",
       "      <td>Chennai</td>\n",
       "    </tr>\n",
       "    <tr>\n",
       "      <th>5</th>\n",
       "      <td>Rahul</td>\n",
       "      <td>116</td>\n",
       "      <td>25</td>\n",
       "      <td>Noida</td>\n",
       "    </tr>\n",
       "    <tr>\n",
       "      <th>6</th>\n",
       "      <td>Dhruv</td>\n",
       "      <td>117</td>\n",
       "      <td>21</td>\n",
       "      <td>Gurugram</td>\n",
       "    </tr>\n",
       "    <tr>\n",
       "      <th>7</th>\n",
       "      <td>Nidhi</td>\n",
       "      <td>118</td>\n",
       "      <td>26</td>\n",
       "      <td>Dehradun</td>\n",
       "    </tr>\n",
       "  </tbody>\n",
       "</table>\n",
       "</div>"
      ],
      "text/plain": [
       "      Name   ID Age       City\n",
       "0  Jayanth  111  24       Pune\n",
       "1   Suresh  112  26  Bangalore\n",
       "2    Megha  113  27      Delhi\n",
       "3   Deepak  114  21  Hyderabad\n",
       "4  Pallavi  115  28    Chennai\n",
       "5    Rahul  116  25      Noida\n",
       "6    Dhruv  117  21   Gurugram\n",
       "7    Nidhi  118  26   Dehradun"
      ]
     },
     "execution_count": 662,
     "metadata": {},
     "output_type": "execute_result"
    }
   ],
   "source": [
    "df"
   ]
  },
  {
   "cell_type": "code",
   "execution_count": 668,
   "id": "9d4cddea-3f8b-4be4-bbb5-dbee52ddffc2",
   "metadata": {},
   "outputs": [
    {
     "data": {
      "text/plain": [
       "'Suresh'"
      ]
     },
     "execution_count": 668,
     "metadata": {},
     "output_type": "execute_result"
    }
   ],
   "source": [
    "# Fetch Suresh\n",
    "\n",
    "df.iloc[1,0]"
   ]
  },
  {
   "cell_type": "code",
   "execution_count": 674,
   "id": "867ccd80-597f-45f3-9db7-1d1ccee8711b",
   "metadata": {},
   "outputs": [
    {
     "data": {
      "text/plain": [
       "'Suresh'"
      ]
     },
     "execution_count": 674,
     "metadata": {},
     "output_type": "execute_result"
    }
   ],
   "source": [
    "df.loc[1,'Name']"
   ]
  },
  {
   "cell_type": "code",
   "execution_count": 688,
   "id": "c4475810-cd2a-4c41-80e0-62d89a86c4fe",
   "metadata": {},
   "outputs": [],
   "source": [
    "# Get the city from row 6"
   ]
  },
  {
   "cell_type": "code",
   "execution_count": 692,
   "id": "14eec2d4-8685-4627-9b09-648acb9f889f",
   "metadata": {},
   "outputs": [
    {
     "data": {
      "text/plain": [
       "'Gurugram'"
      ]
     },
     "execution_count": 692,
     "metadata": {},
     "output_type": "execute_result"
    }
   ],
   "source": [
    "df.loc[6,'City']"
   ]
  },
  {
   "cell_type": "code",
   "execution_count": 694,
   "id": "933585cc-c7d4-4338-ba4b-3ddf32f859e6",
   "metadata": {},
   "outputs": [],
   "source": [
    "df.index=list('abcdefgh')"
   ]
  },
  {
   "cell_type": "code",
   "execution_count": 698,
   "id": "6041ef5d-b575-4032-b1eb-e9e7bfb0922d",
   "metadata": {},
   "outputs": [
    {
     "data": {
      "text/html": [
       "<div>\n",
       "<style scoped>\n",
       "    .dataframe tbody tr th:only-of-type {\n",
       "        vertical-align: middle;\n",
       "    }\n",
       "\n",
       "    .dataframe tbody tr th {\n",
       "        vertical-align: top;\n",
       "    }\n",
       "\n",
       "    .dataframe thead th {\n",
       "        text-align: right;\n",
       "    }\n",
       "</style>\n",
       "<table border=\"1\" class=\"dataframe\">\n",
       "  <thead>\n",
       "    <tr style=\"text-align: right;\">\n",
       "      <th></th>\n",
       "      <th>Name</th>\n",
       "      <th>ID</th>\n",
       "      <th>Age</th>\n",
       "      <th>City</th>\n",
       "    </tr>\n",
       "  </thead>\n",
       "  <tbody>\n",
       "    <tr>\n",
       "      <th>a</th>\n",
       "      <td>Jayanth</td>\n",
       "      <td>111</td>\n",
       "      <td>24</td>\n",
       "      <td>Pune</td>\n",
       "    </tr>\n",
       "    <tr>\n",
       "      <th>b</th>\n",
       "      <td>Suresh</td>\n",
       "      <td>112</td>\n",
       "      <td>26</td>\n",
       "      <td>Bangalore</td>\n",
       "    </tr>\n",
       "    <tr>\n",
       "      <th>c</th>\n",
       "      <td>Megha</td>\n",
       "      <td>113</td>\n",
       "      <td>27</td>\n",
       "      <td>Delhi</td>\n",
       "    </tr>\n",
       "    <tr>\n",
       "      <th>d</th>\n",
       "      <td>Deepak</td>\n",
       "      <td>114</td>\n",
       "      <td>21</td>\n",
       "      <td>Hyderabad</td>\n",
       "    </tr>\n",
       "    <tr>\n",
       "      <th>e</th>\n",
       "      <td>Pallavi</td>\n",
       "      <td>115</td>\n",
       "      <td>28</td>\n",
       "      <td>Chennai</td>\n",
       "    </tr>\n",
       "    <tr>\n",
       "      <th>f</th>\n",
       "      <td>Rahul</td>\n",
       "      <td>116</td>\n",
       "      <td>25</td>\n",
       "      <td>Noida</td>\n",
       "    </tr>\n",
       "    <tr>\n",
       "      <th>g</th>\n",
       "      <td>Dhruv</td>\n",
       "      <td>117</td>\n",
       "      <td>21</td>\n",
       "      <td>Gurugram</td>\n",
       "    </tr>\n",
       "    <tr>\n",
       "      <th>h</th>\n",
       "      <td>Nidhi</td>\n",
       "      <td>118</td>\n",
       "      <td>26</td>\n",
       "      <td>Dehradun</td>\n",
       "    </tr>\n",
       "  </tbody>\n",
       "</table>\n",
       "</div>"
      ],
      "text/plain": [
       "      Name   ID Age       City\n",
       "a  Jayanth  111  24       Pune\n",
       "b   Suresh  112  26  Bangalore\n",
       "c    Megha  113  27      Delhi\n",
       "d   Deepak  114  21  Hyderabad\n",
       "e  Pallavi  115  28    Chennai\n",
       "f    Rahul  116  25      Noida\n",
       "g    Dhruv  117  21   Gurugram\n",
       "h    Nidhi  118  26   Dehradun"
      ]
     },
     "execution_count": 698,
     "metadata": {},
     "output_type": "execute_result"
    }
   ],
   "source": [
    "df"
   ]
  },
  {
   "cell_type": "code",
   "execution_count": 706,
   "id": "521366a5-0493-4fa7-9d7d-c978e9525642",
   "metadata": {},
   "outputs": [
    {
     "data": {
      "text/plain": [
       "'Noida'"
      ]
     },
     "execution_count": 706,
     "metadata": {},
     "output_type": "execute_result"
    }
   ],
   "source": [
    "# Give the city available at f\n",
    "\n",
    "df.loc['f','City']"
   ]
  },
  {
   "cell_type": "code",
   "execution_count": 708,
   "id": "9a26972b-9f57-4cbd-bf1f-a3069e9829ce",
   "metadata": {},
   "outputs": [],
   "source": [
    "# Last row"
   ]
  },
  {
   "cell_type": "code",
   "execution_count": 712,
   "id": "fb2ad60b-1481-4b4a-99e9-3b0506649a8e",
   "metadata": {},
   "outputs": [
    {
     "data": {
      "text/html": [
       "<div>\n",
       "<style scoped>\n",
       "    .dataframe tbody tr th:only-of-type {\n",
       "        vertical-align: middle;\n",
       "    }\n",
       "\n",
       "    .dataframe tbody tr th {\n",
       "        vertical-align: top;\n",
       "    }\n",
       "\n",
       "    .dataframe thead th {\n",
       "        text-align: right;\n",
       "    }\n",
       "</style>\n",
       "<table border=\"1\" class=\"dataframe\">\n",
       "  <thead>\n",
       "    <tr style=\"text-align: right;\">\n",
       "      <th></th>\n",
       "      <th>Name</th>\n",
       "      <th>ID</th>\n",
       "      <th>Age</th>\n",
       "      <th>City</th>\n",
       "    </tr>\n",
       "  </thead>\n",
       "  <tbody>\n",
       "    <tr>\n",
       "      <th>h</th>\n",
       "      <td>Nidhi</td>\n",
       "      <td>118</td>\n",
       "      <td>26</td>\n",
       "      <td>Dehradun</td>\n",
       "    </tr>\n",
       "  </tbody>\n",
       "</table>\n",
       "</div>"
      ],
      "text/plain": [
       "    Name   ID Age      City\n",
       "h  Nidhi  118  26  Dehradun"
      ]
     },
     "execution_count": 712,
     "metadata": {},
     "output_type": "execute_result"
    }
   ],
   "source": [
    "df.iloc[-1:]"
   ]
  },
  {
   "cell_type": "code",
   "execution_count": 716,
   "id": "b6071056-d9f6-4fac-a5ee-318e8bc7734d",
   "metadata": {},
   "outputs": [
    {
     "data": {
      "text/html": [
       "<div>\n",
       "<style scoped>\n",
       "    .dataframe tbody tr th:only-of-type {\n",
       "        vertical-align: middle;\n",
       "    }\n",
       "\n",
       "    .dataframe tbody tr th {\n",
       "        vertical-align: top;\n",
       "    }\n",
       "\n",
       "    .dataframe thead th {\n",
       "        text-align: right;\n",
       "    }\n",
       "</style>\n",
       "<table border=\"1\" class=\"dataframe\">\n",
       "  <thead>\n",
       "    <tr style=\"text-align: right;\">\n",
       "      <th></th>\n",
       "      <th>Name</th>\n",
       "      <th>ID</th>\n",
       "      <th>Age</th>\n",
       "      <th>City</th>\n",
       "    </tr>\n",
       "  </thead>\n",
       "  <tbody>\n",
       "    <tr>\n",
       "      <th>h</th>\n",
       "      <td>Nidhi</td>\n",
       "      <td>118</td>\n",
       "      <td>26</td>\n",
       "      <td>Dehradun</td>\n",
       "    </tr>\n",
       "  </tbody>\n",
       "</table>\n",
       "</div>"
      ],
      "text/plain": [
       "    Name   ID Age      City\n",
       "h  Nidhi  118  26  Dehradun"
      ]
     },
     "execution_count": 716,
     "metadata": {},
     "output_type": "execute_result"
    }
   ],
   "source": [
    "df.loc['h':]"
   ]
  },
  {
   "cell_type": "code",
   "execution_count": 722,
   "id": "50381aac-0fdd-47de-89d8-502166fb107d",
   "metadata": {},
   "outputs": [
    {
     "data": {
      "text/plain": [
       "'Dehradun'"
      ]
     },
     "execution_count": 722,
     "metadata": {},
     "output_type": "execute_result"
    }
   ],
   "source": [
    "# Last city\n",
    "df.iloc[-1,-1]"
   ]
  },
  {
   "cell_type": "code",
   "execution_count": 726,
   "id": "817aa1be-33a6-4f90-9432-38fb74f9285c",
   "metadata": {},
   "outputs": [
    {
     "data": {
      "text/plain": [
       "'Dehradun'"
      ]
     },
     "execution_count": 726,
     "metadata": {},
     "output_type": "execute_result"
    }
   ],
   "source": [
    "df.loc['h','City']"
   ]
  },
  {
   "cell_type": "code",
   "execution_count": 735,
   "id": "e0d1afaf-653b-41d4-9701-8492e982b300",
   "metadata": {},
   "outputs": [
    {
     "data": {
      "text/html": [
       "<div>\n",
       "<style scoped>\n",
       "    .dataframe tbody tr th:only-of-type {\n",
       "        vertical-align: middle;\n",
       "    }\n",
       "\n",
       "    .dataframe tbody tr th {\n",
       "        vertical-align: top;\n",
       "    }\n",
       "\n",
       "    .dataframe thead th {\n",
       "        text-align: right;\n",
       "    }\n",
       "</style>\n",
       "<table border=\"1\" class=\"dataframe\">\n",
       "  <thead>\n",
       "    <tr style=\"text-align: right;\">\n",
       "      <th></th>\n",
       "      <th>Name</th>\n",
       "      <th>ID</th>\n",
       "      <th>Age</th>\n",
       "      <th>City</th>\n",
       "    </tr>\n",
       "  </thead>\n",
       "  <tbody>\n",
       "    <tr>\n",
       "      <th>a</th>\n",
       "      <td>Jayanth</td>\n",
       "      <td>111</td>\n",
       "      <td>24</td>\n",
       "      <td>Pune</td>\n",
       "    </tr>\n",
       "    <tr>\n",
       "      <th>b</th>\n",
       "      <td>Suresh</td>\n",
       "      <td>112</td>\n",
       "      <td>26</td>\n",
       "      <td>Bangalore</td>\n",
       "    </tr>\n",
       "    <tr>\n",
       "      <th>c</th>\n",
       "      <td>Megha</td>\n",
       "      <td>113</td>\n",
       "      <td>27</td>\n",
       "      <td>Delhi</td>\n",
       "    </tr>\n",
       "    <tr>\n",
       "      <th>d</th>\n",
       "      <td>Deepak</td>\n",
       "      <td>114</td>\n",
       "      <td>21</td>\n",
       "      <td>Hyderabad</td>\n",
       "    </tr>\n",
       "    <tr>\n",
       "      <th>e</th>\n",
       "      <td>Pallavi</td>\n",
       "      <td>115</td>\n",
       "      <td>28</td>\n",
       "      <td>Chennai</td>\n",
       "    </tr>\n",
       "    <tr>\n",
       "      <th>f</th>\n",
       "      <td>Rahul</td>\n",
       "      <td>116</td>\n",
       "      <td>25</td>\n",
       "      <td>Noida</td>\n",
       "    </tr>\n",
       "    <tr>\n",
       "      <th>g</th>\n",
       "      <td>Dhruv</td>\n",
       "      <td>117</td>\n",
       "      <td>21</td>\n",
       "      <td>Gurugram</td>\n",
       "    </tr>\n",
       "    <tr>\n",
       "      <th>h</th>\n",
       "      <td>Nidhi</td>\n",
       "      <td>118</td>\n",
       "      <td>26</td>\n",
       "      <td>Dehradun</td>\n",
       "    </tr>\n",
       "  </tbody>\n",
       "</table>\n",
       "</div>"
      ],
      "text/plain": [
       "      Name   ID Age       City\n",
       "a  Jayanth  111  24       Pune\n",
       "b   Suresh  112  26  Bangalore\n",
       "c    Megha  113  27      Delhi\n",
       "d   Deepak  114  21  Hyderabad\n",
       "e  Pallavi  115  28    Chennai\n",
       "f    Rahul  116  25      Noida\n",
       "g    Dhruv  117  21   Gurugram\n",
       "h    Nidhi  118  26   Dehradun"
      ]
     },
     "execution_count": 735,
     "metadata": {},
     "output_type": "execute_result"
    }
   ],
   "source": [
    "df"
   ]
  },
  {
   "cell_type": "code",
   "execution_count": 737,
   "id": "af6250f4-2476-49fc-adbe-467fdcd21926",
   "metadata": {},
   "outputs": [
    {
     "data": {
      "text/plain": [
       "'Chennai'"
      ]
     },
     "execution_count": 737,
     "metadata": {},
     "output_type": "execute_result"
    }
   ],
   "source": [
    "# Fetch Chennai\n",
    "df.loc['e','City']"
   ]
  },
  {
   "cell_type": "code",
   "execution_count": 739,
   "id": "b137c256-ebb9-4d6e-9162-b308de6fe9ca",
   "metadata": {},
   "outputs": [
    {
     "data": {
      "text/plain": [
       "'Chennai'"
      ]
     },
     "execution_count": 739,
     "metadata": {},
     "output_type": "execute_result"
    }
   ],
   "source": [
    "df.iloc[4,-1]"
   ]
  },
  {
   "cell_type": "code",
   "execution_count": 745,
   "id": "206742fa-bb78-41f6-8a02-fd11db57bc34",
   "metadata": {},
   "outputs": [
    {
     "data": {
      "text/html": [
       "<div>\n",
       "<style scoped>\n",
       "    .dataframe tbody tr th:only-of-type {\n",
       "        vertical-align: middle;\n",
       "    }\n",
       "\n",
       "    .dataframe tbody tr th {\n",
       "        vertical-align: top;\n",
       "    }\n",
       "\n",
       "    .dataframe thead th {\n",
       "        text-align: right;\n",
       "    }\n",
       "</style>\n",
       "<table border=\"1\" class=\"dataframe\">\n",
       "  <thead>\n",
       "    <tr style=\"text-align: right;\">\n",
       "      <th></th>\n",
       "      <th>Name</th>\n",
       "      <th>ID</th>\n",
       "      <th>Age</th>\n",
       "      <th>City</th>\n",
       "    </tr>\n",
       "  </thead>\n",
       "  <tbody>\n",
       "    <tr>\n",
       "      <th>a</th>\n",
       "      <td>Jayanth</td>\n",
       "      <td>111</td>\n",
       "      <td>24</td>\n",
       "      <td>Pune</td>\n",
       "    </tr>\n",
       "  </tbody>\n",
       "</table>\n",
       "</div>"
      ],
      "text/plain": [
       "      Name   ID Age  City\n",
       "a  Jayanth  111  24  Pune"
      ]
     },
     "execution_count": 745,
     "metadata": {},
     "output_type": "execute_result"
    }
   ],
   "source": [
    "# First row\n",
    "df.iloc[[-len(df)]]"
   ]
  },
  {
   "cell_type": "code",
   "execution_count": 749,
   "id": "1cb9a7e5-d6f1-4427-93a4-f715ca51b8dc",
   "metadata": {},
   "outputs": [
    {
     "data": {
      "text/html": [
       "<div>\n",
       "<style scoped>\n",
       "    .dataframe tbody tr th:only-of-type {\n",
       "        vertical-align: middle;\n",
       "    }\n",
       "\n",
       "    .dataframe tbody tr th {\n",
       "        vertical-align: top;\n",
       "    }\n",
       "\n",
       "    .dataframe thead th {\n",
       "        text-align: right;\n",
       "    }\n",
       "</style>\n",
       "<table border=\"1\" class=\"dataframe\">\n",
       "  <thead>\n",
       "    <tr style=\"text-align: right;\">\n",
       "      <th></th>\n",
       "      <th>Name</th>\n",
       "      <th>ID</th>\n",
       "      <th>Age</th>\n",
       "      <th>City</th>\n",
       "    </tr>\n",
       "  </thead>\n",
       "  <tbody>\n",
       "    <tr>\n",
       "      <th>h</th>\n",
       "      <td>Nidhi</td>\n",
       "      <td>118</td>\n",
       "      <td>26</td>\n",
       "      <td>Dehradun</td>\n",
       "    </tr>\n",
       "  </tbody>\n",
       "</table>\n",
       "</div>"
      ],
      "text/plain": [
       "    Name   ID Age      City\n",
       "h  Nidhi  118  26  Dehradun"
      ]
     },
     "execution_count": 749,
     "metadata": {},
     "output_type": "execute_result"
    }
   ],
   "source": [
    "# Last element\n",
    "\n",
    "df.iloc[len(df)-1:]"
   ]
  },
  {
   "cell_type": "markdown",
   "id": "6d5b8b51-9c1c-4ed8-ae51-56358d1929ad",
   "metadata": {},
   "source": [
    "### Slicing"
   ]
  },
  {
   "cell_type": "code",
   "execution_count": 752,
   "id": "78161adb-5afa-42f6-988a-b63032c8a508",
   "metadata": {},
   "outputs": [],
   "source": [
    "# df.iloc[row_slicing]\n",
    "# df.iloc[start:stop:step]\n",
    "# df.iloc[row_slicing,col_slicing]\n",
    "# df.iloc[start:stop:step,start:stop:step]\n",
    "\n",
    "# stop is included in the following (Note)\n",
    "# df.loc[row_slicing]\n",
    "# df.loc[start:stop:step]\n",
    "# df.loc[row_slicing,col_slicing]\n",
    "# df.loc[start:stop:step,start:stop:step] "
   ]
  },
  {
   "cell_type": "code",
   "execution_count": 754,
   "id": "89e7cbc4-9ce9-40d0-8a24-14aa81e09110",
   "metadata": {},
   "outputs": [],
   "source": [
    "df=pd.DataFrame([name,codes,age,city]).T"
   ]
  },
  {
   "cell_type": "code",
   "execution_count": 756,
   "id": "5a0d73a7-a139-4fa1-9cde-1b2eba40bb75",
   "metadata": {},
   "outputs": [],
   "source": [
    "df.columns=['Name','ID','Age','City']"
   ]
  },
  {
   "cell_type": "code",
   "execution_count": 758,
   "id": "80b555eb-6153-423f-9e65-8e72fa7ac7c2",
   "metadata": {},
   "outputs": [
    {
     "data": {
      "text/html": [
       "<div>\n",
       "<style scoped>\n",
       "    .dataframe tbody tr th:only-of-type {\n",
       "        vertical-align: middle;\n",
       "    }\n",
       "\n",
       "    .dataframe tbody tr th {\n",
       "        vertical-align: top;\n",
       "    }\n",
       "\n",
       "    .dataframe thead th {\n",
       "        text-align: right;\n",
       "    }\n",
       "</style>\n",
       "<table border=\"1\" class=\"dataframe\">\n",
       "  <thead>\n",
       "    <tr style=\"text-align: right;\">\n",
       "      <th></th>\n",
       "      <th>Name</th>\n",
       "      <th>ID</th>\n",
       "      <th>Age</th>\n",
       "      <th>City</th>\n",
       "    </tr>\n",
       "  </thead>\n",
       "  <tbody>\n",
       "    <tr>\n",
       "      <th>0</th>\n",
       "      <td>Jayanth</td>\n",
       "      <td>111</td>\n",
       "      <td>24</td>\n",
       "      <td>Pune</td>\n",
       "    </tr>\n",
       "    <tr>\n",
       "      <th>1</th>\n",
       "      <td>Suresh</td>\n",
       "      <td>112</td>\n",
       "      <td>26</td>\n",
       "      <td>Bangalore</td>\n",
       "    </tr>\n",
       "    <tr>\n",
       "      <th>2</th>\n",
       "      <td>Megha</td>\n",
       "      <td>113</td>\n",
       "      <td>27</td>\n",
       "      <td>Delhi</td>\n",
       "    </tr>\n",
       "    <tr>\n",
       "      <th>3</th>\n",
       "      <td>Deepak</td>\n",
       "      <td>114</td>\n",
       "      <td>21</td>\n",
       "      <td>Hyderabad</td>\n",
       "    </tr>\n",
       "    <tr>\n",
       "      <th>4</th>\n",
       "      <td>Pallavi</td>\n",
       "      <td>115</td>\n",
       "      <td>28</td>\n",
       "      <td>Chennai</td>\n",
       "    </tr>\n",
       "    <tr>\n",
       "      <th>5</th>\n",
       "      <td>Rahul</td>\n",
       "      <td>116</td>\n",
       "      <td>25</td>\n",
       "      <td>Noida</td>\n",
       "    </tr>\n",
       "    <tr>\n",
       "      <th>6</th>\n",
       "      <td>Dhruv</td>\n",
       "      <td>117</td>\n",
       "      <td>21</td>\n",
       "      <td>Gurugram</td>\n",
       "    </tr>\n",
       "    <tr>\n",
       "      <th>7</th>\n",
       "      <td>Nidhi</td>\n",
       "      <td>118</td>\n",
       "      <td>26</td>\n",
       "      <td>Dehradun</td>\n",
       "    </tr>\n",
       "  </tbody>\n",
       "</table>\n",
       "</div>"
      ],
      "text/plain": [
       "      Name   ID Age       City\n",
       "0  Jayanth  111  24       Pune\n",
       "1   Suresh  112  26  Bangalore\n",
       "2    Megha  113  27      Delhi\n",
       "3   Deepak  114  21  Hyderabad\n",
       "4  Pallavi  115  28    Chennai\n",
       "5    Rahul  116  25      Noida\n",
       "6    Dhruv  117  21   Gurugram\n",
       "7    Nidhi  118  26   Dehradun"
      ]
     },
     "execution_count": 758,
     "metadata": {},
     "output_type": "execute_result"
    }
   ],
   "source": [
    "df"
   ]
  },
  {
   "cell_type": "code",
   "execution_count": 760,
   "id": "4f89ae1a-5e4e-46ce-8420-130f4bcaa536",
   "metadata": {},
   "outputs": [],
   "source": [
    "# First three rows"
   ]
  },
  {
   "cell_type": "code",
   "execution_count": 762,
   "id": "b1e0c580-c258-45de-89e8-6f8d37760d00",
   "metadata": {},
   "outputs": [
    {
     "data": {
      "text/html": [
       "<div>\n",
       "<style scoped>\n",
       "    .dataframe tbody tr th:only-of-type {\n",
       "        vertical-align: middle;\n",
       "    }\n",
       "\n",
       "    .dataframe tbody tr th {\n",
       "        vertical-align: top;\n",
       "    }\n",
       "\n",
       "    .dataframe thead th {\n",
       "        text-align: right;\n",
       "    }\n",
       "</style>\n",
       "<table border=\"1\" class=\"dataframe\">\n",
       "  <thead>\n",
       "    <tr style=\"text-align: right;\">\n",
       "      <th></th>\n",
       "      <th>Name</th>\n",
       "      <th>ID</th>\n",
       "      <th>Age</th>\n",
       "      <th>City</th>\n",
       "    </tr>\n",
       "  </thead>\n",
       "  <tbody>\n",
       "    <tr>\n",
       "      <th>0</th>\n",
       "      <td>Jayanth</td>\n",
       "      <td>111</td>\n",
       "      <td>24</td>\n",
       "      <td>Pune</td>\n",
       "    </tr>\n",
       "    <tr>\n",
       "      <th>1</th>\n",
       "      <td>Suresh</td>\n",
       "      <td>112</td>\n",
       "      <td>26</td>\n",
       "      <td>Bangalore</td>\n",
       "    </tr>\n",
       "    <tr>\n",
       "      <th>2</th>\n",
       "      <td>Megha</td>\n",
       "      <td>113</td>\n",
       "      <td>27</td>\n",
       "      <td>Delhi</td>\n",
       "    </tr>\n",
       "  </tbody>\n",
       "</table>\n",
       "</div>"
      ],
      "text/plain": [
       "      Name   ID Age       City\n",
       "0  Jayanth  111  24       Pune\n",
       "1   Suresh  112  26  Bangalore\n",
       "2    Megha  113  27      Delhi"
      ]
     },
     "execution_count": 762,
     "metadata": {},
     "output_type": "execute_result"
    }
   ],
   "source": [
    "df.iloc[0:3]"
   ]
  },
  {
   "cell_type": "code",
   "execution_count": 764,
   "id": "5ad3a2c2-faff-4a80-acb0-2f5f7eb6de3a",
   "metadata": {},
   "outputs": [
    {
     "data": {
      "text/html": [
       "<div>\n",
       "<style scoped>\n",
       "    .dataframe tbody tr th:only-of-type {\n",
       "        vertical-align: middle;\n",
       "    }\n",
       "\n",
       "    .dataframe tbody tr th {\n",
       "        vertical-align: top;\n",
       "    }\n",
       "\n",
       "    .dataframe thead th {\n",
       "        text-align: right;\n",
       "    }\n",
       "</style>\n",
       "<table border=\"1\" class=\"dataframe\">\n",
       "  <thead>\n",
       "    <tr style=\"text-align: right;\">\n",
       "      <th></th>\n",
       "      <th>Name</th>\n",
       "      <th>ID</th>\n",
       "      <th>Age</th>\n",
       "      <th>City</th>\n",
       "    </tr>\n",
       "  </thead>\n",
       "  <tbody>\n",
       "    <tr>\n",
       "      <th>0</th>\n",
       "      <td>Jayanth</td>\n",
       "      <td>111</td>\n",
       "      <td>24</td>\n",
       "      <td>Pune</td>\n",
       "    </tr>\n",
       "    <tr>\n",
       "      <th>1</th>\n",
       "      <td>Suresh</td>\n",
       "      <td>112</td>\n",
       "      <td>26</td>\n",
       "      <td>Bangalore</td>\n",
       "    </tr>\n",
       "    <tr>\n",
       "      <th>2</th>\n",
       "      <td>Megha</td>\n",
       "      <td>113</td>\n",
       "      <td>27</td>\n",
       "      <td>Delhi</td>\n",
       "    </tr>\n",
       "  </tbody>\n",
       "</table>\n",
       "</div>"
      ],
      "text/plain": [
       "      Name   ID Age       City\n",
       "0  Jayanth  111  24       Pune\n",
       "1   Suresh  112  26  Bangalore\n",
       "2    Megha  113  27      Delhi"
      ]
     },
     "execution_count": 764,
     "metadata": {},
     "output_type": "execute_result"
    }
   ],
   "source": [
    "df.iloc[0:3:1]"
   ]
  },
  {
   "cell_type": "code",
   "execution_count": 766,
   "id": "9b82eb6c-b446-4752-b7b5-527d96b6d328",
   "metadata": {},
   "outputs": [],
   "source": [
    "# Reverse the dataframe"
   ]
  },
  {
   "cell_type": "code",
   "execution_count": 768,
   "id": "8daf4e92-c93b-49ce-9d3c-1ee1f2bef19c",
   "metadata": {},
   "outputs": [
    {
     "data": {
      "text/html": [
       "<div>\n",
       "<style scoped>\n",
       "    .dataframe tbody tr th:only-of-type {\n",
       "        vertical-align: middle;\n",
       "    }\n",
       "\n",
       "    .dataframe tbody tr th {\n",
       "        vertical-align: top;\n",
       "    }\n",
       "\n",
       "    .dataframe thead th {\n",
       "        text-align: right;\n",
       "    }\n",
       "</style>\n",
       "<table border=\"1\" class=\"dataframe\">\n",
       "  <thead>\n",
       "    <tr style=\"text-align: right;\">\n",
       "      <th></th>\n",
       "      <th>Name</th>\n",
       "      <th>ID</th>\n",
       "      <th>Age</th>\n",
       "      <th>City</th>\n",
       "    </tr>\n",
       "  </thead>\n",
       "  <tbody>\n",
       "    <tr>\n",
       "      <th>7</th>\n",
       "      <td>Nidhi</td>\n",
       "      <td>118</td>\n",
       "      <td>26</td>\n",
       "      <td>Dehradun</td>\n",
       "    </tr>\n",
       "    <tr>\n",
       "      <th>6</th>\n",
       "      <td>Dhruv</td>\n",
       "      <td>117</td>\n",
       "      <td>21</td>\n",
       "      <td>Gurugram</td>\n",
       "    </tr>\n",
       "    <tr>\n",
       "      <th>5</th>\n",
       "      <td>Rahul</td>\n",
       "      <td>116</td>\n",
       "      <td>25</td>\n",
       "      <td>Noida</td>\n",
       "    </tr>\n",
       "    <tr>\n",
       "      <th>4</th>\n",
       "      <td>Pallavi</td>\n",
       "      <td>115</td>\n",
       "      <td>28</td>\n",
       "      <td>Chennai</td>\n",
       "    </tr>\n",
       "    <tr>\n",
       "      <th>3</th>\n",
       "      <td>Deepak</td>\n",
       "      <td>114</td>\n",
       "      <td>21</td>\n",
       "      <td>Hyderabad</td>\n",
       "    </tr>\n",
       "    <tr>\n",
       "      <th>2</th>\n",
       "      <td>Megha</td>\n",
       "      <td>113</td>\n",
       "      <td>27</td>\n",
       "      <td>Delhi</td>\n",
       "    </tr>\n",
       "    <tr>\n",
       "      <th>1</th>\n",
       "      <td>Suresh</td>\n",
       "      <td>112</td>\n",
       "      <td>26</td>\n",
       "      <td>Bangalore</td>\n",
       "    </tr>\n",
       "    <tr>\n",
       "      <th>0</th>\n",
       "      <td>Jayanth</td>\n",
       "      <td>111</td>\n",
       "      <td>24</td>\n",
       "      <td>Pune</td>\n",
       "    </tr>\n",
       "  </tbody>\n",
       "</table>\n",
       "</div>"
      ],
      "text/plain": [
       "      Name   ID Age       City\n",
       "7    Nidhi  118  26   Dehradun\n",
       "6    Dhruv  117  21   Gurugram\n",
       "5    Rahul  116  25      Noida\n",
       "4  Pallavi  115  28    Chennai\n",
       "3   Deepak  114  21  Hyderabad\n",
       "2    Megha  113  27      Delhi\n",
       "1   Suresh  112  26  Bangalore\n",
       "0  Jayanth  111  24       Pune"
      ]
     },
     "execution_count": 768,
     "metadata": {},
     "output_type": "execute_result"
    }
   ],
   "source": [
    "df.iloc[::-1]"
   ]
  },
  {
   "cell_type": "code",
   "execution_count": 770,
   "id": "c5e207a4-cf56-4312-9931-7ef9f2939651",
   "metadata": {},
   "outputs": [],
   "source": [
    "# Names of the first three rows"
   ]
  },
  {
   "cell_type": "code",
   "execution_count": 776,
   "id": "8b489d69-41f0-454f-add9-2ab04ace3224",
   "metadata": {},
   "outputs": [
    {
     "data": {
      "text/html": [
       "<div>\n",
       "<style scoped>\n",
       "    .dataframe tbody tr th:only-of-type {\n",
       "        vertical-align: middle;\n",
       "    }\n",
       "\n",
       "    .dataframe tbody tr th {\n",
       "        vertical-align: top;\n",
       "    }\n",
       "\n",
       "    .dataframe thead th {\n",
       "        text-align: right;\n",
       "    }\n",
       "</style>\n",
       "<table border=\"1\" class=\"dataframe\">\n",
       "  <thead>\n",
       "    <tr style=\"text-align: right;\">\n",
       "      <th></th>\n",
       "      <th>Name</th>\n",
       "    </tr>\n",
       "  </thead>\n",
       "  <tbody>\n",
       "    <tr>\n",
       "      <th>0</th>\n",
       "      <td>Jayanth</td>\n",
       "    </tr>\n",
       "    <tr>\n",
       "      <th>1</th>\n",
       "      <td>Suresh</td>\n",
       "    </tr>\n",
       "    <tr>\n",
       "      <th>2</th>\n",
       "      <td>Megha</td>\n",
       "    </tr>\n",
       "  </tbody>\n",
       "</table>\n",
       "</div>"
      ],
      "text/plain": [
       "      Name\n",
       "0  Jayanth\n",
       "1   Suresh\n",
       "2    Megha"
      ]
     },
     "execution_count": 776,
     "metadata": {},
     "output_type": "execute_result"
    }
   ],
   "source": [
    "df.iloc[0:3,[0]]"
   ]
  },
  {
   "cell_type": "code",
   "execution_count": 784,
   "id": "7e84af09-2b3b-4525-8e5a-a2abb18c80cb",
   "metadata": {},
   "outputs": [
    {
     "data": {
      "text/html": [
       "<div>\n",
       "<style scoped>\n",
       "    .dataframe tbody tr th:only-of-type {\n",
       "        vertical-align: middle;\n",
       "    }\n",
       "\n",
       "    .dataframe tbody tr th {\n",
       "        vertical-align: top;\n",
       "    }\n",
       "\n",
       "    .dataframe thead th {\n",
       "        text-align: right;\n",
       "    }\n",
       "</style>\n",
       "<table border=\"1\" class=\"dataframe\">\n",
       "  <thead>\n",
       "    <tr style=\"text-align: right;\">\n",
       "      <th></th>\n",
       "      <th>Name</th>\n",
       "    </tr>\n",
       "  </thead>\n",
       "  <tbody>\n",
       "    <tr>\n",
       "      <th>0</th>\n",
       "      <td>Jayanth</td>\n",
       "    </tr>\n",
       "    <tr>\n",
       "      <th>1</th>\n",
       "      <td>Suresh</td>\n",
       "    </tr>\n",
       "    <tr>\n",
       "      <th>2</th>\n",
       "      <td>Megha</td>\n",
       "    </tr>\n",
       "    <tr>\n",
       "      <th>3</th>\n",
       "      <td>Deepak</td>\n",
       "    </tr>\n",
       "  </tbody>\n",
       "</table>\n",
       "</div>"
      ],
      "text/plain": [
       "      Name\n",
       "0  Jayanth\n",
       "1   Suresh\n",
       "2    Megha\n",
       "3   Deepak"
      ]
     },
     "execution_count": 784,
     "metadata": {},
     "output_type": "execute_result"
    }
   ],
   "source": [
    "df.loc[0:3,['Name']]"
   ]
  },
  {
   "cell_type": "code",
   "execution_count": 786,
   "id": "eed67f05-fcd6-4e31-92d8-a8a48d59fb1b",
   "metadata": {},
   "outputs": [],
   "source": [
    "# First four rows and the first two columns"
   ]
  },
  {
   "cell_type": "code",
   "execution_count": 790,
   "id": "a9f15211-5618-4401-b195-570e8e6c407d",
   "metadata": {},
   "outputs": [
    {
     "data": {
      "text/html": [
       "<div>\n",
       "<style scoped>\n",
       "    .dataframe tbody tr th:only-of-type {\n",
       "        vertical-align: middle;\n",
       "    }\n",
       "\n",
       "    .dataframe tbody tr th {\n",
       "        vertical-align: top;\n",
       "    }\n",
       "\n",
       "    .dataframe thead th {\n",
       "        text-align: right;\n",
       "    }\n",
       "</style>\n",
       "<table border=\"1\" class=\"dataframe\">\n",
       "  <thead>\n",
       "    <tr style=\"text-align: right;\">\n",
       "      <th></th>\n",
       "      <th>Name</th>\n",
       "      <th>ID</th>\n",
       "    </tr>\n",
       "  </thead>\n",
       "  <tbody>\n",
       "    <tr>\n",
       "      <th>0</th>\n",
       "      <td>Jayanth</td>\n",
       "      <td>111</td>\n",
       "    </tr>\n",
       "    <tr>\n",
       "      <th>1</th>\n",
       "      <td>Suresh</td>\n",
       "      <td>112</td>\n",
       "    </tr>\n",
       "    <tr>\n",
       "      <th>2</th>\n",
       "      <td>Megha</td>\n",
       "      <td>113</td>\n",
       "    </tr>\n",
       "    <tr>\n",
       "      <th>3</th>\n",
       "      <td>Deepak</td>\n",
       "      <td>114</td>\n",
       "    </tr>\n",
       "  </tbody>\n",
       "</table>\n",
       "</div>"
      ],
      "text/plain": [
       "      Name   ID\n",
       "0  Jayanth  111\n",
       "1   Suresh  112\n",
       "2    Megha  113\n",
       "3   Deepak  114"
      ]
     },
     "execution_count": 790,
     "metadata": {},
     "output_type": "execute_result"
    }
   ],
   "source": [
    "df.iloc[0:4,0:2]"
   ]
  },
  {
   "cell_type": "code",
   "execution_count": 794,
   "id": "7f894bf1-10f6-4464-9295-1feb485ddf64",
   "metadata": {},
   "outputs": [
    {
     "data": {
      "text/html": [
       "<div>\n",
       "<style scoped>\n",
       "    .dataframe tbody tr th:only-of-type {\n",
       "        vertical-align: middle;\n",
       "    }\n",
       "\n",
       "    .dataframe tbody tr th {\n",
       "        vertical-align: top;\n",
       "    }\n",
       "\n",
       "    .dataframe thead th {\n",
       "        text-align: right;\n",
       "    }\n",
       "</style>\n",
       "<table border=\"1\" class=\"dataframe\">\n",
       "  <thead>\n",
       "    <tr style=\"text-align: right;\">\n",
       "      <th></th>\n",
       "      <th>Name</th>\n",
       "      <th>ID</th>\n",
       "      <th>Age</th>\n",
       "      <th>City</th>\n",
       "    </tr>\n",
       "  </thead>\n",
       "  <tbody>\n",
       "    <tr>\n",
       "      <th>0</th>\n",
       "      <td>Jayanth</td>\n",
       "      <td>111</td>\n",
       "      <td>24</td>\n",
       "      <td>Pune</td>\n",
       "    </tr>\n",
       "    <tr>\n",
       "      <th>1</th>\n",
       "      <td>Suresh</td>\n",
       "      <td>112</td>\n",
       "      <td>26</td>\n",
       "      <td>Bangalore</td>\n",
       "    </tr>\n",
       "    <tr>\n",
       "      <th>2</th>\n",
       "      <td>Megha</td>\n",
       "      <td>113</td>\n",
       "      <td>27</td>\n",
       "      <td>Delhi</td>\n",
       "    </tr>\n",
       "    <tr>\n",
       "      <th>3</th>\n",
       "      <td>Deepak</td>\n",
       "      <td>114</td>\n",
       "      <td>21</td>\n",
       "      <td>Hyderabad</td>\n",
       "    </tr>\n",
       "    <tr>\n",
       "      <th>4</th>\n",
       "      <td>Pallavi</td>\n",
       "      <td>115</td>\n",
       "      <td>28</td>\n",
       "      <td>Chennai</td>\n",
       "    </tr>\n",
       "    <tr>\n",
       "      <th>5</th>\n",
       "      <td>Rahul</td>\n",
       "      <td>116</td>\n",
       "      <td>25</td>\n",
       "      <td>Noida</td>\n",
       "    </tr>\n",
       "    <tr>\n",
       "      <th>6</th>\n",
       "      <td>Dhruv</td>\n",
       "      <td>117</td>\n",
       "      <td>21</td>\n",
       "      <td>Gurugram</td>\n",
       "    </tr>\n",
       "    <tr>\n",
       "      <th>7</th>\n",
       "      <td>Nidhi</td>\n",
       "      <td>118</td>\n",
       "      <td>26</td>\n",
       "      <td>Dehradun</td>\n",
       "    </tr>\n",
       "  </tbody>\n",
       "</table>\n",
       "</div>"
      ],
      "text/plain": [
       "      Name   ID Age       City\n",
       "0  Jayanth  111  24       Pune\n",
       "1   Suresh  112  26  Bangalore\n",
       "2    Megha  113  27      Delhi\n",
       "3   Deepak  114  21  Hyderabad\n",
       "4  Pallavi  115  28    Chennai\n",
       "5    Rahul  116  25      Noida\n",
       "6    Dhruv  117  21   Gurugram\n",
       "7    Nidhi  118  26   Dehradun"
      ]
     },
     "execution_count": 794,
     "metadata": {},
     "output_type": "execute_result"
    }
   ],
   "source": [
    "df"
   ]
  },
  {
   "cell_type": "code",
   "execution_count": 792,
   "id": "b0af1b08-2bcf-406e-8947-583db26380f2",
   "metadata": {},
   "outputs": [],
   "source": [
    "# Name and City columns for the first four rows"
   ]
  },
  {
   "cell_type": "code",
   "execution_count": 800,
   "id": "30c88f01-eec7-4be2-82b9-891619383baf",
   "metadata": {},
   "outputs": [
    {
     "data": {
      "text/html": [
       "<div>\n",
       "<style scoped>\n",
       "    .dataframe tbody tr th:only-of-type {\n",
       "        vertical-align: middle;\n",
       "    }\n",
       "\n",
       "    .dataframe tbody tr th {\n",
       "        vertical-align: top;\n",
       "    }\n",
       "\n",
       "    .dataframe thead th {\n",
       "        text-align: right;\n",
       "    }\n",
       "</style>\n",
       "<table border=\"1\" class=\"dataframe\">\n",
       "  <thead>\n",
       "    <tr style=\"text-align: right;\">\n",
       "      <th></th>\n",
       "      <th>Name</th>\n",
       "      <th>City</th>\n",
       "    </tr>\n",
       "  </thead>\n",
       "  <tbody>\n",
       "    <tr>\n",
       "      <th>0</th>\n",
       "      <td>Jayanth</td>\n",
       "      <td>Pune</td>\n",
       "    </tr>\n",
       "    <tr>\n",
       "      <th>1</th>\n",
       "      <td>Suresh</td>\n",
       "      <td>Bangalore</td>\n",
       "    </tr>\n",
       "    <tr>\n",
       "      <th>2</th>\n",
       "      <td>Megha</td>\n",
       "      <td>Delhi</td>\n",
       "    </tr>\n",
       "    <tr>\n",
       "      <th>3</th>\n",
       "      <td>Deepak</td>\n",
       "      <td>Hyderabad</td>\n",
       "    </tr>\n",
       "  </tbody>\n",
       "</table>\n",
       "</div>"
      ],
      "text/plain": [
       "      Name       City\n",
       "0  Jayanth       Pune\n",
       "1   Suresh  Bangalore\n",
       "2    Megha      Delhi\n",
       "3   Deepak  Hyderabad"
      ]
     },
     "execution_count": 800,
     "metadata": {},
     "output_type": "execute_result"
    }
   ],
   "source": [
    "df.iloc[0:4,::3]"
   ]
  },
  {
   "cell_type": "code",
   "execution_count": 802,
   "id": "73434b38-e545-480e-bcb6-9cf6e62ebcd5",
   "metadata": {},
   "outputs": [],
   "source": [
    "# Reverse the columns"
   ]
  },
  {
   "cell_type": "code",
   "execution_count": 804,
   "id": "41188bbf-795a-4f99-8815-6a99df57683e",
   "metadata": {},
   "outputs": [
    {
     "data": {
      "text/html": [
       "<div>\n",
       "<style scoped>\n",
       "    .dataframe tbody tr th:only-of-type {\n",
       "        vertical-align: middle;\n",
       "    }\n",
       "\n",
       "    .dataframe tbody tr th {\n",
       "        vertical-align: top;\n",
       "    }\n",
       "\n",
       "    .dataframe thead th {\n",
       "        text-align: right;\n",
       "    }\n",
       "</style>\n",
       "<table border=\"1\" class=\"dataframe\">\n",
       "  <thead>\n",
       "    <tr style=\"text-align: right;\">\n",
       "      <th></th>\n",
       "      <th>City</th>\n",
       "      <th>Age</th>\n",
       "      <th>ID</th>\n",
       "      <th>Name</th>\n",
       "    </tr>\n",
       "  </thead>\n",
       "  <tbody>\n",
       "    <tr>\n",
       "      <th>0</th>\n",
       "      <td>Pune</td>\n",
       "      <td>24</td>\n",
       "      <td>111</td>\n",
       "      <td>Jayanth</td>\n",
       "    </tr>\n",
       "    <tr>\n",
       "      <th>1</th>\n",
       "      <td>Bangalore</td>\n",
       "      <td>26</td>\n",
       "      <td>112</td>\n",
       "      <td>Suresh</td>\n",
       "    </tr>\n",
       "    <tr>\n",
       "      <th>2</th>\n",
       "      <td>Delhi</td>\n",
       "      <td>27</td>\n",
       "      <td>113</td>\n",
       "      <td>Megha</td>\n",
       "    </tr>\n",
       "    <tr>\n",
       "      <th>3</th>\n",
       "      <td>Hyderabad</td>\n",
       "      <td>21</td>\n",
       "      <td>114</td>\n",
       "      <td>Deepak</td>\n",
       "    </tr>\n",
       "    <tr>\n",
       "      <th>4</th>\n",
       "      <td>Chennai</td>\n",
       "      <td>28</td>\n",
       "      <td>115</td>\n",
       "      <td>Pallavi</td>\n",
       "    </tr>\n",
       "    <tr>\n",
       "      <th>5</th>\n",
       "      <td>Noida</td>\n",
       "      <td>25</td>\n",
       "      <td>116</td>\n",
       "      <td>Rahul</td>\n",
       "    </tr>\n",
       "    <tr>\n",
       "      <th>6</th>\n",
       "      <td>Gurugram</td>\n",
       "      <td>21</td>\n",
       "      <td>117</td>\n",
       "      <td>Dhruv</td>\n",
       "    </tr>\n",
       "    <tr>\n",
       "      <th>7</th>\n",
       "      <td>Dehradun</td>\n",
       "      <td>26</td>\n",
       "      <td>118</td>\n",
       "      <td>Nidhi</td>\n",
       "    </tr>\n",
       "  </tbody>\n",
       "</table>\n",
       "</div>"
      ],
      "text/plain": [
       "        City Age   ID     Name\n",
       "0       Pune  24  111  Jayanth\n",
       "1  Bangalore  26  112   Suresh\n",
       "2      Delhi  27  113    Megha\n",
       "3  Hyderabad  21  114   Deepak\n",
       "4    Chennai  28  115  Pallavi\n",
       "5      Noida  25  116    Rahul\n",
       "6   Gurugram  21  117    Dhruv\n",
       "7   Dehradun  26  118    Nidhi"
      ]
     },
     "execution_count": 804,
     "metadata": {},
     "output_type": "execute_result"
    }
   ],
   "source": [
    "df.iloc[::,::-1]"
   ]
  },
  {
   "cell_type": "code",
   "execution_count": 806,
   "id": "b41d4e1e-9364-46c7-87b6-f976139bedba",
   "metadata": {},
   "outputs": [],
   "source": [
    "# Reverse the rows and the columns both."
   ]
  },
  {
   "cell_type": "code",
   "execution_count": 808,
   "id": "50958cd3-d607-43d3-b856-3e14fea2dff5",
   "metadata": {},
   "outputs": [
    {
     "data": {
      "text/html": [
       "<div>\n",
       "<style scoped>\n",
       "    .dataframe tbody tr th:only-of-type {\n",
       "        vertical-align: middle;\n",
       "    }\n",
       "\n",
       "    .dataframe tbody tr th {\n",
       "        vertical-align: top;\n",
       "    }\n",
       "\n",
       "    .dataframe thead th {\n",
       "        text-align: right;\n",
       "    }\n",
       "</style>\n",
       "<table border=\"1\" class=\"dataframe\">\n",
       "  <thead>\n",
       "    <tr style=\"text-align: right;\">\n",
       "      <th></th>\n",
       "      <th>City</th>\n",
       "      <th>Age</th>\n",
       "      <th>ID</th>\n",
       "      <th>Name</th>\n",
       "    </tr>\n",
       "  </thead>\n",
       "  <tbody>\n",
       "    <tr>\n",
       "      <th>7</th>\n",
       "      <td>Dehradun</td>\n",
       "      <td>26</td>\n",
       "      <td>118</td>\n",
       "      <td>Nidhi</td>\n",
       "    </tr>\n",
       "    <tr>\n",
       "      <th>6</th>\n",
       "      <td>Gurugram</td>\n",
       "      <td>21</td>\n",
       "      <td>117</td>\n",
       "      <td>Dhruv</td>\n",
       "    </tr>\n",
       "    <tr>\n",
       "      <th>5</th>\n",
       "      <td>Noida</td>\n",
       "      <td>25</td>\n",
       "      <td>116</td>\n",
       "      <td>Rahul</td>\n",
       "    </tr>\n",
       "    <tr>\n",
       "      <th>4</th>\n",
       "      <td>Chennai</td>\n",
       "      <td>28</td>\n",
       "      <td>115</td>\n",
       "      <td>Pallavi</td>\n",
       "    </tr>\n",
       "    <tr>\n",
       "      <th>3</th>\n",
       "      <td>Hyderabad</td>\n",
       "      <td>21</td>\n",
       "      <td>114</td>\n",
       "      <td>Deepak</td>\n",
       "    </tr>\n",
       "    <tr>\n",
       "      <th>2</th>\n",
       "      <td>Delhi</td>\n",
       "      <td>27</td>\n",
       "      <td>113</td>\n",
       "      <td>Megha</td>\n",
       "    </tr>\n",
       "    <tr>\n",
       "      <th>1</th>\n",
       "      <td>Bangalore</td>\n",
       "      <td>26</td>\n",
       "      <td>112</td>\n",
       "      <td>Suresh</td>\n",
       "    </tr>\n",
       "    <tr>\n",
       "      <th>0</th>\n",
       "      <td>Pune</td>\n",
       "      <td>24</td>\n",
       "      <td>111</td>\n",
       "      <td>Jayanth</td>\n",
       "    </tr>\n",
       "  </tbody>\n",
       "</table>\n",
       "</div>"
      ],
      "text/plain": [
       "        City Age   ID     Name\n",
       "7   Dehradun  26  118    Nidhi\n",
       "6   Gurugram  21  117    Dhruv\n",
       "5      Noida  25  116    Rahul\n",
       "4    Chennai  28  115  Pallavi\n",
       "3  Hyderabad  21  114   Deepak\n",
       "2      Delhi  27  113    Megha\n",
       "1  Bangalore  26  112   Suresh\n",
       "0       Pune  24  111  Jayanth"
      ]
     },
     "execution_count": 808,
     "metadata": {},
     "output_type": "execute_result"
    }
   ],
   "source": [
    "df.iloc[::-1,::-1]"
   ]
  },
  {
   "cell_type": "code",
   "execution_count": 810,
   "id": "e3b77282-c53a-4fb0-b417-c0cc287d7672",
   "metadata": {},
   "outputs": [],
   "source": [
    "df.index=list('abcdefgh')"
   ]
  },
  {
   "cell_type": "code",
   "execution_count": 812,
   "id": "df35fea5-b915-4c9b-bcfc-5ed9d8f557ee",
   "metadata": {},
   "outputs": [
    {
     "data": {
      "text/html": [
       "<div>\n",
       "<style scoped>\n",
       "    .dataframe tbody tr th:only-of-type {\n",
       "        vertical-align: middle;\n",
       "    }\n",
       "\n",
       "    .dataframe tbody tr th {\n",
       "        vertical-align: top;\n",
       "    }\n",
       "\n",
       "    .dataframe thead th {\n",
       "        text-align: right;\n",
       "    }\n",
       "</style>\n",
       "<table border=\"1\" class=\"dataframe\">\n",
       "  <thead>\n",
       "    <tr style=\"text-align: right;\">\n",
       "      <th></th>\n",
       "      <th>Name</th>\n",
       "      <th>ID</th>\n",
       "      <th>Age</th>\n",
       "      <th>City</th>\n",
       "    </tr>\n",
       "  </thead>\n",
       "  <tbody>\n",
       "    <tr>\n",
       "      <th>a</th>\n",
       "      <td>Jayanth</td>\n",
       "      <td>111</td>\n",
       "      <td>24</td>\n",
       "      <td>Pune</td>\n",
       "    </tr>\n",
       "    <tr>\n",
       "      <th>b</th>\n",
       "      <td>Suresh</td>\n",
       "      <td>112</td>\n",
       "      <td>26</td>\n",
       "      <td>Bangalore</td>\n",
       "    </tr>\n",
       "    <tr>\n",
       "      <th>c</th>\n",
       "      <td>Megha</td>\n",
       "      <td>113</td>\n",
       "      <td>27</td>\n",
       "      <td>Delhi</td>\n",
       "    </tr>\n",
       "    <tr>\n",
       "      <th>d</th>\n",
       "      <td>Deepak</td>\n",
       "      <td>114</td>\n",
       "      <td>21</td>\n",
       "      <td>Hyderabad</td>\n",
       "    </tr>\n",
       "    <tr>\n",
       "      <th>e</th>\n",
       "      <td>Pallavi</td>\n",
       "      <td>115</td>\n",
       "      <td>28</td>\n",
       "      <td>Chennai</td>\n",
       "    </tr>\n",
       "    <tr>\n",
       "      <th>f</th>\n",
       "      <td>Rahul</td>\n",
       "      <td>116</td>\n",
       "      <td>25</td>\n",
       "      <td>Noida</td>\n",
       "    </tr>\n",
       "    <tr>\n",
       "      <th>g</th>\n",
       "      <td>Dhruv</td>\n",
       "      <td>117</td>\n",
       "      <td>21</td>\n",
       "      <td>Gurugram</td>\n",
       "    </tr>\n",
       "    <tr>\n",
       "      <th>h</th>\n",
       "      <td>Nidhi</td>\n",
       "      <td>118</td>\n",
       "      <td>26</td>\n",
       "      <td>Dehradun</td>\n",
       "    </tr>\n",
       "  </tbody>\n",
       "</table>\n",
       "</div>"
      ],
      "text/plain": [
       "      Name   ID Age       City\n",
       "a  Jayanth  111  24       Pune\n",
       "b   Suresh  112  26  Bangalore\n",
       "c    Megha  113  27      Delhi\n",
       "d   Deepak  114  21  Hyderabad\n",
       "e  Pallavi  115  28    Chennai\n",
       "f    Rahul  116  25      Noida\n",
       "g    Dhruv  117  21   Gurugram\n",
       "h    Nidhi  118  26   Dehradun"
      ]
     },
     "execution_count": 812,
     "metadata": {},
     "output_type": "execute_result"
    }
   ],
   "source": [
    "df"
   ]
  },
  {
   "cell_type": "code",
   "execution_count": 814,
   "id": "815b4641-fe8d-43d8-8190-970bc5baf68b",
   "metadata": {},
   "outputs": [],
   "source": [
    "# First three rows"
   ]
  },
  {
   "cell_type": "code",
   "execution_count": 816,
   "id": "baf5085e-9b8a-4bbc-b8fc-bb3261eeba53",
   "metadata": {},
   "outputs": [
    {
     "data": {
      "text/html": [
       "<div>\n",
       "<style scoped>\n",
       "    .dataframe tbody tr th:only-of-type {\n",
       "        vertical-align: middle;\n",
       "    }\n",
       "\n",
       "    .dataframe tbody tr th {\n",
       "        vertical-align: top;\n",
       "    }\n",
       "\n",
       "    .dataframe thead th {\n",
       "        text-align: right;\n",
       "    }\n",
       "</style>\n",
       "<table border=\"1\" class=\"dataframe\">\n",
       "  <thead>\n",
       "    <tr style=\"text-align: right;\">\n",
       "      <th></th>\n",
       "      <th>Name</th>\n",
       "      <th>ID</th>\n",
       "      <th>Age</th>\n",
       "      <th>City</th>\n",
       "    </tr>\n",
       "  </thead>\n",
       "  <tbody>\n",
       "    <tr>\n",
       "      <th>a</th>\n",
       "      <td>Jayanth</td>\n",
       "      <td>111</td>\n",
       "      <td>24</td>\n",
       "      <td>Pune</td>\n",
       "    </tr>\n",
       "    <tr>\n",
       "      <th>b</th>\n",
       "      <td>Suresh</td>\n",
       "      <td>112</td>\n",
       "      <td>26</td>\n",
       "      <td>Bangalore</td>\n",
       "    </tr>\n",
       "    <tr>\n",
       "      <th>c</th>\n",
       "      <td>Megha</td>\n",
       "      <td>113</td>\n",
       "      <td>27</td>\n",
       "      <td>Delhi</td>\n",
       "    </tr>\n",
       "  </tbody>\n",
       "</table>\n",
       "</div>"
      ],
      "text/plain": [
       "      Name   ID Age       City\n",
       "a  Jayanth  111  24       Pune\n",
       "b   Suresh  112  26  Bangalore\n",
       "c    Megha  113  27      Delhi"
      ]
     },
     "execution_count": 816,
     "metadata": {},
     "output_type": "execute_result"
    }
   ],
   "source": [
    "df.iloc[0:3]"
   ]
  },
  {
   "cell_type": "code",
   "execution_count": 818,
   "id": "4c310470-0cb6-4a5c-986b-e87fc715e5e1",
   "metadata": {},
   "outputs": [
    {
     "data": {
      "text/html": [
       "<div>\n",
       "<style scoped>\n",
       "    .dataframe tbody tr th:only-of-type {\n",
       "        vertical-align: middle;\n",
       "    }\n",
       "\n",
       "    .dataframe tbody tr th {\n",
       "        vertical-align: top;\n",
       "    }\n",
       "\n",
       "    .dataframe thead th {\n",
       "        text-align: right;\n",
       "    }\n",
       "</style>\n",
       "<table border=\"1\" class=\"dataframe\">\n",
       "  <thead>\n",
       "    <tr style=\"text-align: right;\">\n",
       "      <th></th>\n",
       "      <th>Name</th>\n",
       "      <th>ID</th>\n",
       "      <th>Age</th>\n",
       "      <th>City</th>\n",
       "    </tr>\n",
       "  </thead>\n",
       "  <tbody>\n",
       "    <tr>\n",
       "      <th>a</th>\n",
       "      <td>Jayanth</td>\n",
       "      <td>111</td>\n",
       "      <td>24</td>\n",
       "      <td>Pune</td>\n",
       "    </tr>\n",
       "    <tr>\n",
       "      <th>b</th>\n",
       "      <td>Suresh</td>\n",
       "      <td>112</td>\n",
       "      <td>26</td>\n",
       "      <td>Bangalore</td>\n",
       "    </tr>\n",
       "    <tr>\n",
       "      <th>c</th>\n",
       "      <td>Megha</td>\n",
       "      <td>113</td>\n",
       "      <td>27</td>\n",
       "      <td>Delhi</td>\n",
       "    </tr>\n",
       "  </tbody>\n",
       "</table>\n",
       "</div>"
      ],
      "text/plain": [
       "      Name   ID Age       City\n",
       "a  Jayanth  111  24       Pune\n",
       "b   Suresh  112  26  Bangalore\n",
       "c    Megha  113  27      Delhi"
      ]
     },
     "execution_count": 818,
     "metadata": {},
     "output_type": "execute_result"
    }
   ],
   "source": [
    "df.loc['a':'c']"
   ]
  },
  {
   "cell_type": "code",
   "execution_count": 820,
   "id": "86af79ae-c0ec-4f8a-8975-e1d0ab66c2d4",
   "metadata": {},
   "outputs": [],
   "source": [
    "# Name of the first four rows"
   ]
  },
  {
   "cell_type": "code",
   "execution_count": 824,
   "id": "17f9b3ba-bdf2-4ee4-9b77-952b06d6b02f",
   "metadata": {},
   "outputs": [
    {
     "data": {
      "text/html": [
       "<div>\n",
       "<style scoped>\n",
       "    .dataframe tbody tr th:only-of-type {\n",
       "        vertical-align: middle;\n",
       "    }\n",
       "\n",
       "    .dataframe tbody tr th {\n",
       "        vertical-align: top;\n",
       "    }\n",
       "\n",
       "    .dataframe thead th {\n",
       "        text-align: right;\n",
       "    }\n",
       "</style>\n",
       "<table border=\"1\" class=\"dataframe\">\n",
       "  <thead>\n",
       "    <tr style=\"text-align: right;\">\n",
       "      <th></th>\n",
       "      <th>Name</th>\n",
       "    </tr>\n",
       "  </thead>\n",
       "  <tbody>\n",
       "    <tr>\n",
       "      <th>a</th>\n",
       "      <td>Jayanth</td>\n",
       "    </tr>\n",
       "    <tr>\n",
       "      <th>b</th>\n",
       "      <td>Suresh</td>\n",
       "    </tr>\n",
       "    <tr>\n",
       "      <th>c</th>\n",
       "      <td>Megha</td>\n",
       "    </tr>\n",
       "    <tr>\n",
       "      <th>d</th>\n",
       "      <td>Deepak</td>\n",
       "    </tr>\n",
       "  </tbody>\n",
       "</table>\n",
       "</div>"
      ],
      "text/plain": [
       "      Name\n",
       "a  Jayanth\n",
       "b   Suresh\n",
       "c    Megha\n",
       "d   Deepak"
      ]
     },
     "execution_count": 824,
     "metadata": {},
     "output_type": "execute_result"
    }
   ],
   "source": [
    "df.iloc[0:4,[0]]"
   ]
  },
  {
   "cell_type": "code",
   "execution_count": 828,
   "id": "318e1537-49fe-4217-b6d3-d91e53839cef",
   "metadata": {},
   "outputs": [
    {
     "data": {
      "text/html": [
       "<div>\n",
       "<style scoped>\n",
       "    .dataframe tbody tr th:only-of-type {\n",
       "        vertical-align: middle;\n",
       "    }\n",
       "\n",
       "    .dataframe tbody tr th {\n",
       "        vertical-align: top;\n",
       "    }\n",
       "\n",
       "    .dataframe thead th {\n",
       "        text-align: right;\n",
       "    }\n",
       "</style>\n",
       "<table border=\"1\" class=\"dataframe\">\n",
       "  <thead>\n",
       "    <tr style=\"text-align: right;\">\n",
       "      <th></th>\n",
       "      <th>Name</th>\n",
       "    </tr>\n",
       "  </thead>\n",
       "  <tbody>\n",
       "    <tr>\n",
       "      <th>a</th>\n",
       "      <td>Jayanth</td>\n",
       "    </tr>\n",
       "    <tr>\n",
       "      <th>b</th>\n",
       "      <td>Suresh</td>\n",
       "    </tr>\n",
       "    <tr>\n",
       "      <th>c</th>\n",
       "      <td>Megha</td>\n",
       "    </tr>\n",
       "    <tr>\n",
       "      <th>d</th>\n",
       "      <td>Deepak</td>\n",
       "    </tr>\n",
       "  </tbody>\n",
       "</table>\n",
       "</div>"
      ],
      "text/plain": [
       "      Name\n",
       "a  Jayanth\n",
       "b   Suresh\n",
       "c    Megha\n",
       "d   Deepak"
      ]
     },
     "execution_count": 828,
     "metadata": {},
     "output_type": "execute_result"
    }
   ],
   "source": [
    "df.loc['a':'d',['Name']]"
   ]
  },
  {
   "cell_type": "code",
   "execution_count": 832,
   "id": "68ea921e-054c-4606-840d-7146d14a1f0e",
   "metadata": {},
   "outputs": [],
   "source": [
    "# df.loc[0:4,'Name']"
   ]
  },
  {
   "cell_type": "code",
   "execution_count": 834,
   "id": "031bc297-8abb-4b3e-b35b-462704145e23",
   "metadata": {},
   "outputs": [],
   "source": [
    "# Give the details from d to h"
   ]
  },
  {
   "cell_type": "code",
   "execution_count": 836,
   "id": "7a3d0374-2d54-43ef-8f33-20285f89595a",
   "metadata": {},
   "outputs": [
    {
     "data": {
      "text/html": [
       "<div>\n",
       "<style scoped>\n",
       "    .dataframe tbody tr th:only-of-type {\n",
       "        vertical-align: middle;\n",
       "    }\n",
       "\n",
       "    .dataframe tbody tr th {\n",
       "        vertical-align: top;\n",
       "    }\n",
       "\n",
       "    .dataframe thead th {\n",
       "        text-align: right;\n",
       "    }\n",
       "</style>\n",
       "<table border=\"1\" class=\"dataframe\">\n",
       "  <thead>\n",
       "    <tr style=\"text-align: right;\">\n",
       "      <th></th>\n",
       "      <th>Name</th>\n",
       "      <th>ID</th>\n",
       "      <th>Age</th>\n",
       "      <th>City</th>\n",
       "    </tr>\n",
       "  </thead>\n",
       "  <tbody>\n",
       "    <tr>\n",
       "      <th>d</th>\n",
       "      <td>Deepak</td>\n",
       "      <td>114</td>\n",
       "      <td>21</td>\n",
       "      <td>Hyderabad</td>\n",
       "    </tr>\n",
       "    <tr>\n",
       "      <th>e</th>\n",
       "      <td>Pallavi</td>\n",
       "      <td>115</td>\n",
       "      <td>28</td>\n",
       "      <td>Chennai</td>\n",
       "    </tr>\n",
       "    <tr>\n",
       "      <th>f</th>\n",
       "      <td>Rahul</td>\n",
       "      <td>116</td>\n",
       "      <td>25</td>\n",
       "      <td>Noida</td>\n",
       "    </tr>\n",
       "    <tr>\n",
       "      <th>g</th>\n",
       "      <td>Dhruv</td>\n",
       "      <td>117</td>\n",
       "      <td>21</td>\n",
       "      <td>Gurugram</td>\n",
       "    </tr>\n",
       "    <tr>\n",
       "      <th>h</th>\n",
       "      <td>Nidhi</td>\n",
       "      <td>118</td>\n",
       "      <td>26</td>\n",
       "      <td>Dehradun</td>\n",
       "    </tr>\n",
       "  </tbody>\n",
       "</table>\n",
       "</div>"
      ],
      "text/plain": [
       "      Name   ID Age       City\n",
       "d   Deepak  114  21  Hyderabad\n",
       "e  Pallavi  115  28    Chennai\n",
       "f    Rahul  116  25      Noida\n",
       "g    Dhruv  117  21   Gurugram\n",
       "h    Nidhi  118  26   Dehradun"
      ]
     },
     "execution_count": 836,
     "metadata": {},
     "output_type": "execute_result"
    }
   ],
   "source": [
    "df.loc['d':'h']"
   ]
  },
  {
   "cell_type": "code",
   "execution_count": 838,
   "id": "db9c354d-dcf0-403e-b5f2-e1463bcb13f9",
   "metadata": {},
   "outputs": [],
   "source": [
    "# Give the details from d to h and Name to Age"
   ]
  },
  {
   "cell_type": "code",
   "execution_count": 844,
   "id": "28e953b5-45b5-4ae7-be8e-1611d8437245",
   "metadata": {},
   "outputs": [
    {
     "data": {
      "text/html": [
       "<div>\n",
       "<style scoped>\n",
       "    .dataframe tbody tr th:only-of-type {\n",
       "        vertical-align: middle;\n",
       "    }\n",
       "\n",
       "    .dataframe tbody tr th {\n",
       "        vertical-align: top;\n",
       "    }\n",
       "\n",
       "    .dataframe thead th {\n",
       "        text-align: right;\n",
       "    }\n",
       "</style>\n",
       "<table border=\"1\" class=\"dataframe\">\n",
       "  <thead>\n",
       "    <tr style=\"text-align: right;\">\n",
       "      <th></th>\n",
       "      <th>Name</th>\n",
       "      <th>ID</th>\n",
       "      <th>Age</th>\n",
       "      <th>City</th>\n",
       "    </tr>\n",
       "  </thead>\n",
       "  <tbody>\n",
       "    <tr>\n",
       "      <th>d</th>\n",
       "      <td>Deepak</td>\n",
       "      <td>114</td>\n",
       "      <td>21</td>\n",
       "      <td>Hyderabad</td>\n",
       "    </tr>\n",
       "    <tr>\n",
       "      <th>e</th>\n",
       "      <td>Pallavi</td>\n",
       "      <td>115</td>\n",
       "      <td>28</td>\n",
       "      <td>Chennai</td>\n",
       "    </tr>\n",
       "    <tr>\n",
       "      <th>f</th>\n",
       "      <td>Rahul</td>\n",
       "      <td>116</td>\n",
       "      <td>25</td>\n",
       "      <td>Noida</td>\n",
       "    </tr>\n",
       "    <tr>\n",
       "      <th>g</th>\n",
       "      <td>Dhruv</td>\n",
       "      <td>117</td>\n",
       "      <td>21</td>\n",
       "      <td>Gurugram</td>\n",
       "    </tr>\n",
       "    <tr>\n",
       "      <th>h</th>\n",
       "      <td>Nidhi</td>\n",
       "      <td>118</td>\n",
       "      <td>26</td>\n",
       "      <td>Dehradun</td>\n",
       "    </tr>\n",
       "  </tbody>\n",
       "</table>\n",
       "</div>"
      ],
      "text/plain": [
       "      Name   ID Age       City\n",
       "d   Deepak  114  21  Hyderabad\n",
       "e  Pallavi  115  28    Chennai\n",
       "f    Rahul  116  25      Noida\n",
       "g    Dhruv  117  21   Gurugram\n",
       "h    Nidhi  118  26   Dehradun"
      ]
     },
     "execution_count": 844,
     "metadata": {},
     "output_type": "execute_result"
    }
   ],
   "source": [
    "df.loc['d':'h','Name':'City']"
   ]
  },
  {
   "cell_type": "markdown",
   "id": "68a06718-6949-48b3-9acb-bebf0d86b480",
   "metadata": {},
   "source": [
    "# Accessing a column or columns"
   ]
  },
  {
   "cell_type": "code",
   "execution_count": 847,
   "id": "f2a3aab2-52ee-4aaf-b1e5-3fbeae34110a",
   "metadata": {},
   "outputs": [],
   "source": [
    "# df.col_name -> series\n",
    "# df['col_name'] -> series\n",
    "# df.loc[::,'col_name'] -> series"
   ]
  },
  {
   "cell_type": "code",
   "execution_count": 849,
   "id": "3dec61ce-bb8a-4975-8b69-3a34b3687d85",
   "metadata": {},
   "outputs": [
    {
     "data": {
      "text/html": [
       "<div>\n",
       "<style scoped>\n",
       "    .dataframe tbody tr th:only-of-type {\n",
       "        vertical-align: middle;\n",
       "    }\n",
       "\n",
       "    .dataframe tbody tr th {\n",
       "        vertical-align: top;\n",
       "    }\n",
       "\n",
       "    .dataframe thead th {\n",
       "        text-align: right;\n",
       "    }\n",
       "</style>\n",
       "<table border=\"1\" class=\"dataframe\">\n",
       "  <thead>\n",
       "    <tr style=\"text-align: right;\">\n",
       "      <th></th>\n",
       "      <th>Name</th>\n",
       "      <th>ID</th>\n",
       "      <th>Age</th>\n",
       "      <th>City</th>\n",
       "    </tr>\n",
       "  </thead>\n",
       "  <tbody>\n",
       "    <tr>\n",
       "      <th>a</th>\n",
       "      <td>Jayanth</td>\n",
       "      <td>111</td>\n",
       "      <td>24</td>\n",
       "      <td>Pune</td>\n",
       "    </tr>\n",
       "    <tr>\n",
       "      <th>b</th>\n",
       "      <td>Suresh</td>\n",
       "      <td>112</td>\n",
       "      <td>26</td>\n",
       "      <td>Bangalore</td>\n",
       "    </tr>\n",
       "    <tr>\n",
       "      <th>c</th>\n",
       "      <td>Megha</td>\n",
       "      <td>113</td>\n",
       "      <td>27</td>\n",
       "      <td>Delhi</td>\n",
       "    </tr>\n",
       "    <tr>\n",
       "      <th>d</th>\n",
       "      <td>Deepak</td>\n",
       "      <td>114</td>\n",
       "      <td>21</td>\n",
       "      <td>Hyderabad</td>\n",
       "    </tr>\n",
       "    <tr>\n",
       "      <th>e</th>\n",
       "      <td>Pallavi</td>\n",
       "      <td>115</td>\n",
       "      <td>28</td>\n",
       "      <td>Chennai</td>\n",
       "    </tr>\n",
       "    <tr>\n",
       "      <th>f</th>\n",
       "      <td>Rahul</td>\n",
       "      <td>116</td>\n",
       "      <td>25</td>\n",
       "      <td>Noida</td>\n",
       "    </tr>\n",
       "    <tr>\n",
       "      <th>g</th>\n",
       "      <td>Dhruv</td>\n",
       "      <td>117</td>\n",
       "      <td>21</td>\n",
       "      <td>Gurugram</td>\n",
       "    </tr>\n",
       "    <tr>\n",
       "      <th>h</th>\n",
       "      <td>Nidhi</td>\n",
       "      <td>118</td>\n",
       "      <td>26</td>\n",
       "      <td>Dehradun</td>\n",
       "    </tr>\n",
       "  </tbody>\n",
       "</table>\n",
       "</div>"
      ],
      "text/plain": [
       "      Name   ID Age       City\n",
       "a  Jayanth  111  24       Pune\n",
       "b   Suresh  112  26  Bangalore\n",
       "c    Megha  113  27      Delhi\n",
       "d   Deepak  114  21  Hyderabad\n",
       "e  Pallavi  115  28    Chennai\n",
       "f    Rahul  116  25      Noida\n",
       "g    Dhruv  117  21   Gurugram\n",
       "h    Nidhi  118  26   Dehradun"
      ]
     },
     "execution_count": 849,
     "metadata": {},
     "output_type": "execute_result"
    }
   ],
   "source": [
    "df"
   ]
  },
  {
   "cell_type": "code",
   "execution_count": 851,
   "id": "9644773a-0dff-4738-af36-753fd1f0baea",
   "metadata": {},
   "outputs": [],
   "source": [
    "# Extract Name column"
   ]
  },
  {
   "cell_type": "code",
   "execution_count": 853,
   "id": "8700b89d-2567-480c-9bae-05bac56496c1",
   "metadata": {},
   "outputs": [
    {
     "data": {
      "text/plain": [
       "a    Jayanth\n",
       "b     Suresh\n",
       "c      Megha\n",
       "d     Deepak\n",
       "e    Pallavi\n",
       "f      Rahul\n",
       "g      Dhruv\n",
       "h      Nidhi\n",
       "Name: Name, dtype: object"
      ]
     },
     "execution_count": 853,
     "metadata": {},
     "output_type": "execute_result"
    }
   ],
   "source": [
    "df.iloc[::,0]"
   ]
  },
  {
   "cell_type": "code",
   "execution_count": 855,
   "id": "adfa219f-4426-4b5b-861d-5e3e0db54eec",
   "metadata": {},
   "outputs": [
    {
     "data": {
      "text/html": [
       "<div>\n",
       "<style scoped>\n",
       "    .dataframe tbody tr th:only-of-type {\n",
       "        vertical-align: middle;\n",
       "    }\n",
       "\n",
       "    .dataframe tbody tr th {\n",
       "        vertical-align: top;\n",
       "    }\n",
       "\n",
       "    .dataframe thead th {\n",
       "        text-align: right;\n",
       "    }\n",
       "</style>\n",
       "<table border=\"1\" class=\"dataframe\">\n",
       "  <thead>\n",
       "    <tr style=\"text-align: right;\">\n",
       "      <th></th>\n",
       "      <th>Name</th>\n",
       "    </tr>\n",
       "  </thead>\n",
       "  <tbody>\n",
       "    <tr>\n",
       "      <th>a</th>\n",
       "      <td>Jayanth</td>\n",
       "    </tr>\n",
       "    <tr>\n",
       "      <th>b</th>\n",
       "      <td>Suresh</td>\n",
       "    </tr>\n",
       "    <tr>\n",
       "      <th>c</th>\n",
       "      <td>Megha</td>\n",
       "    </tr>\n",
       "    <tr>\n",
       "      <th>d</th>\n",
       "      <td>Deepak</td>\n",
       "    </tr>\n",
       "    <tr>\n",
       "      <th>e</th>\n",
       "      <td>Pallavi</td>\n",
       "    </tr>\n",
       "    <tr>\n",
       "      <th>f</th>\n",
       "      <td>Rahul</td>\n",
       "    </tr>\n",
       "    <tr>\n",
       "      <th>g</th>\n",
       "      <td>Dhruv</td>\n",
       "    </tr>\n",
       "    <tr>\n",
       "      <th>h</th>\n",
       "      <td>Nidhi</td>\n",
       "    </tr>\n",
       "  </tbody>\n",
       "</table>\n",
       "</div>"
      ],
      "text/plain": [
       "      Name\n",
       "a  Jayanth\n",
       "b   Suresh\n",
       "c    Megha\n",
       "d   Deepak\n",
       "e  Pallavi\n",
       "f    Rahul\n",
       "g    Dhruv\n",
       "h    Nidhi"
      ]
     },
     "execution_count": 855,
     "metadata": {},
     "output_type": "execute_result"
    }
   ],
   "source": [
    "df.iloc[::,[0]]"
   ]
  },
  {
   "cell_type": "code",
   "execution_count": 859,
   "id": "ccd42a9a-1d0d-4674-81fe-4df7d5318a05",
   "metadata": {},
   "outputs": [
    {
     "data": {
      "text/html": [
       "<div>\n",
       "<style scoped>\n",
       "    .dataframe tbody tr th:only-of-type {\n",
       "        vertical-align: middle;\n",
       "    }\n",
       "\n",
       "    .dataframe tbody tr th {\n",
       "        vertical-align: top;\n",
       "    }\n",
       "\n",
       "    .dataframe thead th {\n",
       "        text-align: right;\n",
       "    }\n",
       "</style>\n",
       "<table border=\"1\" class=\"dataframe\">\n",
       "  <thead>\n",
       "    <tr style=\"text-align: right;\">\n",
       "      <th></th>\n",
       "      <th>Name</th>\n",
       "    </tr>\n",
       "  </thead>\n",
       "  <tbody>\n",
       "    <tr>\n",
       "      <th>a</th>\n",
       "      <td>Jayanth</td>\n",
       "    </tr>\n",
       "    <tr>\n",
       "      <th>b</th>\n",
       "      <td>Suresh</td>\n",
       "    </tr>\n",
       "    <tr>\n",
       "      <th>c</th>\n",
       "      <td>Megha</td>\n",
       "    </tr>\n",
       "    <tr>\n",
       "      <th>d</th>\n",
       "      <td>Deepak</td>\n",
       "    </tr>\n",
       "    <tr>\n",
       "      <th>e</th>\n",
       "      <td>Pallavi</td>\n",
       "    </tr>\n",
       "    <tr>\n",
       "      <th>f</th>\n",
       "      <td>Rahul</td>\n",
       "    </tr>\n",
       "    <tr>\n",
       "      <th>g</th>\n",
       "      <td>Dhruv</td>\n",
       "    </tr>\n",
       "    <tr>\n",
       "      <th>h</th>\n",
       "      <td>Nidhi</td>\n",
       "    </tr>\n",
       "  </tbody>\n",
       "</table>\n",
       "</div>"
      ],
      "text/plain": [
       "      Name\n",
       "a  Jayanth\n",
       "b   Suresh\n",
       "c    Megha\n",
       "d   Deepak\n",
       "e  Pallavi\n",
       "f    Rahul\n",
       "g    Dhruv\n",
       "h    Nidhi"
      ]
     },
     "execution_count": 859,
     "metadata": {},
     "output_type": "execute_result"
    }
   ],
   "source": [
    "df.loc[::,['Name']]"
   ]
  },
  {
   "cell_type": "code",
   "execution_count": 861,
   "id": "7b079785-69f2-4eee-8b53-d5068d602e9a",
   "metadata": {},
   "outputs": [
    {
     "data": {
      "text/plain": [
       "a    Jayanth\n",
       "b     Suresh\n",
       "c      Megha\n",
       "d     Deepak\n",
       "e    Pallavi\n",
       "f      Rahul\n",
       "g      Dhruv\n",
       "h      Nidhi\n",
       "Name: Name, dtype: object"
      ]
     },
     "execution_count": 861,
     "metadata": {},
     "output_type": "execute_result"
    }
   ],
   "source": [
    "df.Name"
   ]
  },
  {
   "cell_type": "code",
   "execution_count": 863,
   "id": "4cebf49e-c25f-4e9b-8c06-c7a859ec4064",
   "metadata": {},
   "outputs": [
    {
     "data": {
      "text/plain": [
       "a    Jayanth\n",
       "b     Suresh\n",
       "c      Megha\n",
       "d     Deepak\n",
       "e    Pallavi\n",
       "f      Rahul\n",
       "g      Dhruv\n",
       "h      Nidhi\n",
       "Name: Name, dtype: object"
      ]
     },
     "execution_count": 863,
     "metadata": {},
     "output_type": "execute_result"
    }
   ],
   "source": [
    "df['Name']"
   ]
  },
  {
   "cell_type": "code",
   "execution_count": 865,
   "id": "41d44f7d-ffaa-4deb-b1e0-94f20e22a644",
   "metadata": {},
   "outputs": [
    {
     "data": {
      "text/html": [
       "<div>\n",
       "<style scoped>\n",
       "    .dataframe tbody tr th:only-of-type {\n",
       "        vertical-align: middle;\n",
       "    }\n",
       "\n",
       "    .dataframe tbody tr th {\n",
       "        vertical-align: top;\n",
       "    }\n",
       "\n",
       "    .dataframe thead th {\n",
       "        text-align: right;\n",
       "    }\n",
       "</style>\n",
       "<table border=\"1\" class=\"dataframe\">\n",
       "  <thead>\n",
       "    <tr style=\"text-align: right;\">\n",
       "      <th></th>\n",
       "      <th>Name</th>\n",
       "    </tr>\n",
       "  </thead>\n",
       "  <tbody>\n",
       "    <tr>\n",
       "      <th>a</th>\n",
       "      <td>Jayanth</td>\n",
       "    </tr>\n",
       "    <tr>\n",
       "      <th>b</th>\n",
       "      <td>Suresh</td>\n",
       "    </tr>\n",
       "    <tr>\n",
       "      <th>c</th>\n",
       "      <td>Megha</td>\n",
       "    </tr>\n",
       "    <tr>\n",
       "      <th>d</th>\n",
       "      <td>Deepak</td>\n",
       "    </tr>\n",
       "    <tr>\n",
       "      <th>e</th>\n",
       "      <td>Pallavi</td>\n",
       "    </tr>\n",
       "    <tr>\n",
       "      <th>f</th>\n",
       "      <td>Rahul</td>\n",
       "    </tr>\n",
       "    <tr>\n",
       "      <th>g</th>\n",
       "      <td>Dhruv</td>\n",
       "    </tr>\n",
       "    <tr>\n",
       "      <th>h</th>\n",
       "      <td>Nidhi</td>\n",
       "    </tr>\n",
       "  </tbody>\n",
       "</table>\n",
       "</div>"
      ],
      "text/plain": [
       "      Name\n",
       "a  Jayanth\n",
       "b   Suresh\n",
       "c    Megha\n",
       "d   Deepak\n",
       "e  Pallavi\n",
       "f    Rahul\n",
       "g    Dhruv\n",
       "h    Nidhi"
      ]
     },
     "execution_count": 865,
     "metadata": {},
     "output_type": "execute_result"
    }
   ],
   "source": [
    "df[['Name']]"
   ]
  },
  {
   "cell_type": "code",
   "execution_count": 867,
   "id": "6ac05dd1-71d5-4538-99de-dc22bd090e85",
   "metadata": {},
   "outputs": [],
   "source": [
    "# Extract Name and Age"
   ]
  },
  {
   "cell_type": "code",
   "execution_count": 869,
   "id": "a2067fe6-564a-4c2a-aafb-3a1123b1fa51",
   "metadata": {},
   "outputs": [
    {
     "data": {
      "text/html": [
       "<div>\n",
       "<style scoped>\n",
       "    .dataframe tbody tr th:only-of-type {\n",
       "        vertical-align: middle;\n",
       "    }\n",
       "\n",
       "    .dataframe tbody tr th {\n",
       "        vertical-align: top;\n",
       "    }\n",
       "\n",
       "    .dataframe thead th {\n",
       "        text-align: right;\n",
       "    }\n",
       "</style>\n",
       "<table border=\"1\" class=\"dataframe\">\n",
       "  <thead>\n",
       "    <tr style=\"text-align: right;\">\n",
       "      <th></th>\n",
       "      <th>Name</th>\n",
       "      <th>Age</th>\n",
       "    </tr>\n",
       "  </thead>\n",
       "  <tbody>\n",
       "    <tr>\n",
       "      <th>a</th>\n",
       "      <td>Jayanth</td>\n",
       "      <td>24</td>\n",
       "    </tr>\n",
       "    <tr>\n",
       "      <th>b</th>\n",
       "      <td>Suresh</td>\n",
       "      <td>26</td>\n",
       "    </tr>\n",
       "    <tr>\n",
       "      <th>c</th>\n",
       "      <td>Megha</td>\n",
       "      <td>27</td>\n",
       "    </tr>\n",
       "    <tr>\n",
       "      <th>d</th>\n",
       "      <td>Deepak</td>\n",
       "      <td>21</td>\n",
       "    </tr>\n",
       "    <tr>\n",
       "      <th>e</th>\n",
       "      <td>Pallavi</td>\n",
       "      <td>28</td>\n",
       "    </tr>\n",
       "    <tr>\n",
       "      <th>f</th>\n",
       "      <td>Rahul</td>\n",
       "      <td>25</td>\n",
       "    </tr>\n",
       "    <tr>\n",
       "      <th>g</th>\n",
       "      <td>Dhruv</td>\n",
       "      <td>21</td>\n",
       "    </tr>\n",
       "    <tr>\n",
       "      <th>h</th>\n",
       "      <td>Nidhi</td>\n",
       "      <td>26</td>\n",
       "    </tr>\n",
       "  </tbody>\n",
       "</table>\n",
       "</div>"
      ],
      "text/plain": [
       "      Name Age\n",
       "a  Jayanth  24\n",
       "b   Suresh  26\n",
       "c    Megha  27\n",
       "d   Deepak  21\n",
       "e  Pallavi  28\n",
       "f    Rahul  25\n",
       "g    Dhruv  21\n",
       "h    Nidhi  26"
      ]
     },
     "execution_count": 869,
     "metadata": {},
     "output_type": "execute_result"
    }
   ],
   "source": [
    "df[['Name','Age']]"
   ]
  },
  {
   "cell_type": "code",
   "execution_count": 871,
   "id": "005010ac-7926-41f1-bd1b-7af5a6fdb7da",
   "metadata": {},
   "outputs": [
    {
     "data": {
      "text/html": [
       "<div>\n",
       "<style scoped>\n",
       "    .dataframe tbody tr th:only-of-type {\n",
       "        vertical-align: middle;\n",
       "    }\n",
       "\n",
       "    .dataframe tbody tr th {\n",
       "        vertical-align: top;\n",
       "    }\n",
       "\n",
       "    .dataframe thead th {\n",
       "        text-align: right;\n",
       "    }\n",
       "</style>\n",
       "<table border=\"1\" class=\"dataframe\">\n",
       "  <thead>\n",
       "    <tr style=\"text-align: right;\">\n",
       "      <th></th>\n",
       "      <th>Age</th>\n",
       "      <th>Name</th>\n",
       "    </tr>\n",
       "  </thead>\n",
       "  <tbody>\n",
       "    <tr>\n",
       "      <th>a</th>\n",
       "      <td>24</td>\n",
       "      <td>Jayanth</td>\n",
       "    </tr>\n",
       "    <tr>\n",
       "      <th>b</th>\n",
       "      <td>26</td>\n",
       "      <td>Suresh</td>\n",
       "    </tr>\n",
       "    <tr>\n",
       "      <th>c</th>\n",
       "      <td>27</td>\n",
       "      <td>Megha</td>\n",
       "    </tr>\n",
       "    <tr>\n",
       "      <th>d</th>\n",
       "      <td>21</td>\n",
       "      <td>Deepak</td>\n",
       "    </tr>\n",
       "    <tr>\n",
       "      <th>e</th>\n",
       "      <td>28</td>\n",
       "      <td>Pallavi</td>\n",
       "    </tr>\n",
       "    <tr>\n",
       "      <th>f</th>\n",
       "      <td>25</td>\n",
       "      <td>Rahul</td>\n",
       "    </tr>\n",
       "    <tr>\n",
       "      <th>g</th>\n",
       "      <td>21</td>\n",
       "      <td>Dhruv</td>\n",
       "    </tr>\n",
       "    <tr>\n",
       "      <th>h</th>\n",
       "      <td>26</td>\n",
       "      <td>Nidhi</td>\n",
       "    </tr>\n",
       "  </tbody>\n",
       "</table>\n",
       "</div>"
      ],
      "text/plain": [
       "  Age     Name\n",
       "a  24  Jayanth\n",
       "b  26   Suresh\n",
       "c  27    Megha\n",
       "d  21   Deepak\n",
       "e  28  Pallavi\n",
       "f  25    Rahul\n",
       "g  21    Dhruv\n",
       "h  26    Nidhi"
      ]
     },
     "execution_count": 871,
     "metadata": {},
     "output_type": "execute_result"
    }
   ],
   "source": [
    "df[['Age','Name']]"
   ]
  },
  {
   "cell_type": "code",
   "execution_count": 873,
   "id": "0155a024-bdff-4297-a427-7f510c539199",
   "metadata": {},
   "outputs": [
    {
     "data": {
      "text/html": [
       "<div>\n",
       "<style scoped>\n",
       "    .dataframe tbody tr th:only-of-type {\n",
       "        vertical-align: middle;\n",
       "    }\n",
       "\n",
       "    .dataframe tbody tr th {\n",
       "        vertical-align: top;\n",
       "    }\n",
       "\n",
       "    .dataframe thead th {\n",
       "        text-align: right;\n",
       "    }\n",
       "</style>\n",
       "<table border=\"1\" class=\"dataframe\">\n",
       "  <thead>\n",
       "    <tr style=\"text-align: right;\">\n",
       "      <th></th>\n",
       "      <th>ID</th>\n",
       "      <th>Name</th>\n",
       "      <th>City</th>\n",
       "    </tr>\n",
       "  </thead>\n",
       "  <tbody>\n",
       "    <tr>\n",
       "      <th>a</th>\n",
       "      <td>111</td>\n",
       "      <td>Jayanth</td>\n",
       "      <td>Pune</td>\n",
       "    </tr>\n",
       "    <tr>\n",
       "      <th>b</th>\n",
       "      <td>112</td>\n",
       "      <td>Suresh</td>\n",
       "      <td>Bangalore</td>\n",
       "    </tr>\n",
       "    <tr>\n",
       "      <th>c</th>\n",
       "      <td>113</td>\n",
       "      <td>Megha</td>\n",
       "      <td>Delhi</td>\n",
       "    </tr>\n",
       "    <tr>\n",
       "      <th>d</th>\n",
       "      <td>114</td>\n",
       "      <td>Deepak</td>\n",
       "      <td>Hyderabad</td>\n",
       "    </tr>\n",
       "    <tr>\n",
       "      <th>e</th>\n",
       "      <td>115</td>\n",
       "      <td>Pallavi</td>\n",
       "      <td>Chennai</td>\n",
       "    </tr>\n",
       "    <tr>\n",
       "      <th>f</th>\n",
       "      <td>116</td>\n",
       "      <td>Rahul</td>\n",
       "      <td>Noida</td>\n",
       "    </tr>\n",
       "    <tr>\n",
       "      <th>g</th>\n",
       "      <td>117</td>\n",
       "      <td>Dhruv</td>\n",
       "      <td>Gurugram</td>\n",
       "    </tr>\n",
       "    <tr>\n",
       "      <th>h</th>\n",
       "      <td>118</td>\n",
       "      <td>Nidhi</td>\n",
       "      <td>Dehradun</td>\n",
       "    </tr>\n",
       "  </tbody>\n",
       "</table>\n",
       "</div>"
      ],
      "text/plain": [
       "    ID     Name       City\n",
       "a  111  Jayanth       Pune\n",
       "b  112   Suresh  Bangalore\n",
       "c  113    Megha      Delhi\n",
       "d  114   Deepak  Hyderabad\n",
       "e  115  Pallavi    Chennai\n",
       "f  116    Rahul      Noida\n",
       "g  117    Dhruv   Gurugram\n",
       "h  118    Nidhi   Dehradun"
      ]
     },
     "execution_count": 873,
     "metadata": {},
     "output_type": "execute_result"
    }
   ],
   "source": [
    "df[['ID','Name','City']]"
   ]
  },
  {
   "cell_type": "markdown",
   "id": "a731a418-cff9-4ac2-8a82-ed7812db3740",
   "metadata": {},
   "source": [
    "# How to modify the values in a dataframe"
   ]
  },
  {
   "cell_type": "code",
   "execution_count": null,
   "id": "9827c359-1a69-4191-a854-fb35f1906489",
   "metadata": {},
   "outputs": [],
   "source": []
  }
 ],
 "metadata": {
  "kernelspec": {
   "display_name": "Python 3 (ipykernel)",
   "language": "python",
   "name": "python3"
  },
  "language_info": {
   "codemirror_mode": {
    "name": "ipython",
    "version": 3
   },
   "file_extension": ".py",
   "mimetype": "text/x-python",
   "name": "python",
   "nbconvert_exporter": "python",
   "pygments_lexer": "ipython3",
   "version": "3.11.4"
  }
 },
 "nbformat": 4,
 "nbformat_minor": 5
}
