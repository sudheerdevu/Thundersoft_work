{
 "cells": [
  {
   "cell_type": "markdown",
   "id": "f5164268-db16-497c-b79a-26cdaefbcbff",
   "metadata": {},
   "source": [
    "# Regex"
   ]
  },
  {
   "cell_type": "code",
   "execution_count": 6,
   "id": "af1de63c-dcd4-4eef-871b-8b63e207f7bb",
   "metadata": {},
   "outputs": [],
   "source": [
    "# Regex stands for Regular Expression"
   ]
  },
  {
   "cell_type": "code",
   "execution_count": 10,
   "id": "16acec2e-3c06-4e66-929b-d40c13d14c5a",
   "metadata": {},
   "outputs": [],
   "source": [
    "# - It is a concept that is used to create, match or update a pattern in a string.\n",
    "# - Regex is applied only on the string objects."
   ]
  },
  {
   "cell_type": "code",
   "execution_count": null,
   "id": "12bf39b4-467b-42c1-b480-3f070b7845fd",
   "metadata": {},
   "outputs": [],
   "source": [
    "'''Machine Learning\n",
    "Date:----, Author:-----, Jounal:-------\n",
    "Contact us- +91-12345667890, +84-5487935486, +55-7895225684\n",
    "Email- abc@hotmail.com\n",
    "PIN- 123456'''"
   ]
  },
  {
   "cell_type": "markdown",
   "id": "dfc9333f-4d16-4be1-b099-7ec1463a98b4",
   "metadata": {},
   "source": [
    "# Components of Regex"
   ]
  },
  {
   "cell_type": "code",
   "execution_count": 15,
   "id": "f6146b62-abe6-4e7f-a4b1-0a7a2f035418",
   "metadata": {},
   "outputs": [],
   "source": [
    "# Pattern\n",
    "# Functions\n",
    "# Metacharacters\n",
    "# Special Sequences\n",
    "# Quantifiers\n",
    "# Practice"
   ]
  },
  {
   "cell_type": "markdown",
   "id": "9b39270b-94c7-4791-898b-82c355b75689",
   "metadata": {},
   "source": [
    "# Regex Pattern "
   ]
  },
  {
   "cell_type": "code",
   "execution_count": 18,
   "id": "d5fa4089-ae19-48c8-9b01-459d38dcd9eb",
   "metadata": {},
   "outputs": [],
   "source": [
    "# - It is a string.\n",
    "# - In Regex pattern we define what we have to match (find) or update (replace)"
   ]
  },
  {
   "cell_type": "markdown",
   "id": "5bf84268-8a22-4bc8-a779-ededdc37045c",
   "metadata": {},
   "source": [
    "### How to write a Regex pattern?"
   ]
  },
  {
   "cell_type": "code",
   "execution_count": null,
   "id": "daed4e84-6394-49f8-8777-44267e11d730",
   "metadata": {},
   "outputs": [],
   "source": [
    "r'pattern'"
   ]
  },
  {
   "cell_type": "code",
   "execution_count": 21,
   "id": "ba6c5967-ab4f-4856-83fd-572327a19b52",
   "metadata": {},
   "outputs": [],
   "source": [
    "# r stands for raw string."
   ]
  },
  {
   "cell_type": "markdown",
   "id": "0533659b-fb37-4ea2-9862-c5f8aeb79f8b",
   "metadata": {},
   "source": [
    "# Functions"
   ]
  },
  {
   "cell_type": "code",
   "execution_count": 30,
   "id": "05506f53-f3ee-4027-bda2-4df2ec6ae7fc",
   "metadata": {},
   "outputs": [],
   "source": [
    "# - All the functions of Regex are available in re module.\n",
    "# - First we have to import the re module to use these functions."
   ]
  },
  {
   "cell_type": "markdown",
   "id": "2bffd8c9-c212-408d-b031-ee01ca72ddd6",
   "metadata": {},
   "source": [
    "# match()"
   ]
  },
  {
   "cell_type": "code",
   "execution_count": 47,
   "id": "26a0004a-1f2d-4bef-99bf-5cab39031231",
   "metadata": {},
   "outputs": [],
   "source": [
    "# - It takes a pattern and a string as arguments.\n",
    "# - It matches the pattern at the beginning of the string.\n",
    "# - If the pattern is found in the beginning then it returns a match object.\n",
    "# - If the pattern is not found then it returns None."
   ]
  },
  {
   "cell_type": "code",
   "execution_count": 34,
   "id": "c1207cb6-4c09-4328-9792-b13e3946a83e",
   "metadata": {},
   "outputs": [],
   "source": [
    "# match(pattern,string)"
   ]
  },
  {
   "cell_type": "code",
   "execution_count": 36,
   "id": "90558671-0684-4280-b7c1-159f1deff5d3",
   "metadata": {},
   "outputs": [],
   "source": [
    "import re"
   ]
  },
  {
   "cell_type": "code",
   "execution_count": 45,
   "id": "30cbba16-0f6c-4546-9790-065b17fd2ec7",
   "metadata": {},
   "outputs": [
    {
     "name": "stdout",
     "output_type": "stream",
     "text": [
      "<re.Match object; span=(0, 5), match='India'>\n"
     ]
    }
   ],
   "source": [
    "text='India is a big country'\n",
    "pattern='India'\n",
    "\n",
    "x=re.match(pattern,text)\n",
    "print(x)"
   ]
  },
  {
   "cell_type": "code",
   "execution_count": 49,
   "id": "7f48cc4f-f600-4dfb-b422-37cf028f10cf",
   "metadata": {},
   "outputs": [
    {
     "name": "stdout",
     "output_type": "stream",
     "text": [
      "None\n"
     ]
    }
   ],
   "source": [
    "text='India is a big country'\n",
    "pattern='big'\n",
    "\n",
    "x=re.match(pattern,text)\n",
    "print(x)"
   ]
  },
  {
   "cell_type": "code",
   "execution_count": 57,
   "id": "58c9b179-5af8-480e-82ed-33f3f03e90a9",
   "metadata": {},
   "outputs": [
    {
     "name": "stdout",
     "output_type": "stream",
     "text": [
      "None\n"
     ]
    }
   ],
   "source": [
    "text='India is a big country'\n",
    "pattern='Indai'\n",
    "\n",
    "x=re.match(pattern,text)\n",
    "print(x)"
   ]
  },
  {
   "cell_type": "markdown",
   "id": "f64f1c0b-4bb0-414f-bd4b-3e5452e2cb18",
   "metadata": {},
   "source": [
    "### match object"
   ]
  },
  {
   "cell_type": "code",
   "execution_count": 60,
   "id": "b06d1757-2c96-4d06-9cc4-890185b0397c",
   "metadata": {},
   "outputs": [],
   "source": [
    "# - In match object we have span and match.\n",
    "# - span is a tuple that contains the start and the stop indexes of the match from the string.\n",
    "# - match contains the string that is matched."
   ]
  },
  {
   "cell_type": "code",
   "execution_count": 66,
   "id": "00be319c-0a72-4d54-8e83-763da74d4293",
   "metadata": {},
   "outputs": [
    {
     "name": "stdout",
     "output_type": "stream",
     "text": [
      "<re.Match object; span=(0, 4), match='Indi'>\n"
     ]
    }
   ],
   "source": [
    "text='India is a big country'\n",
    "pattern='Indi'\n",
    "\n",
    "x=re.match(pattern,text)\n",
    "print(x)"
   ]
  },
  {
   "cell_type": "markdown",
   "id": "2aa245cd-052a-43fe-ba31-3026d0bdb3ac",
   "metadata": {},
   "source": [
    "### span()"
   ]
  },
  {
   "cell_type": "code",
   "execution_count": 71,
   "id": "a78e22c5-cd2a-4a69-aa38-a28f9f0b42c1",
   "metadata": {},
   "outputs": [
    {
     "data": {
      "text/plain": [
       "(0, 4)"
      ]
     },
     "execution_count": 71,
     "metadata": {},
     "output_type": "execute_result"
    }
   ],
   "source": [
    "x.span()"
   ]
  },
  {
   "cell_type": "code",
   "execution_count": 73,
   "id": "bf0ea93d-bae8-4354-babf-6eb914976a4f",
   "metadata": {},
   "outputs": [
    {
     "data": {
      "text/plain": [
       "0"
      ]
     },
     "execution_count": 73,
     "metadata": {},
     "output_type": "execute_result"
    }
   ],
   "source": [
    "x.start()"
   ]
  },
  {
   "cell_type": "code",
   "execution_count": 75,
   "id": "ce2f5ef1-7131-4b2e-b907-a9e4cd150425",
   "metadata": {},
   "outputs": [
    {
     "data": {
      "text/plain": [
       "4"
      ]
     },
     "execution_count": 75,
     "metadata": {},
     "output_type": "execute_result"
    }
   ],
   "source": [
    "x.end()"
   ]
  },
  {
   "cell_type": "code",
   "execution_count": 77,
   "id": "9d349c04-f4c7-4561-9e92-fb312e4cc647",
   "metadata": {},
   "outputs": [
    {
     "data": {
      "text/plain": [
       "'Indi'"
      ]
     },
     "execution_count": 77,
     "metadata": {},
     "output_type": "execute_result"
    }
   ],
   "source": [
    "x.group()"
   ]
  },
  {
   "cell_type": "code",
   "execution_count": 79,
   "id": "6f05fcb4-6509-4b52-9bc0-62128d24721e",
   "metadata": {},
   "outputs": [],
   "source": [
    "names=['Jayanth', 'Deepak', 'Debolina', 'Hemavarthini', 'Amit', 'Aditya']"
   ]
  },
  {
   "cell_type": "code",
   "execution_count": 98,
   "id": "d27039eb-86a4-449e-848e-151e27c57505",
   "metadata": {},
   "outputs": [
    {
     "name": "stdout",
     "output_type": "stream",
     "text": [
      "Deepak\n",
      "Debolina\n"
     ]
    }
   ],
   "source": [
    "for i in names:\n",
    "    if re.match(r'D',i):\n",
    "        print(i)"
   ]
  },
  {
   "cell_type": "code",
   "execution_count": 100,
   "id": "e061e2aa-1bcb-44f0-a1c4-ca71e4e952d5",
   "metadata": {},
   "outputs": [
    {
     "name": "stdout",
     "output_type": "stream",
     "text": [
      "Deepak\n",
      "Debolina\n"
     ]
    }
   ],
   "source": [
    "for i in names:\n",
    "    if i.startswith('D'):\n",
    "        print(i)"
   ]
  },
  {
   "cell_type": "code",
   "execution_count": 102,
   "id": "e690fb50-4020-44b1-9178-1a8451a61763",
   "metadata": {},
   "outputs": [
    {
     "name": "stdout",
     "output_type": "stream",
     "text": [
      "None\n"
     ]
    }
   ],
   "source": [
    "text='I live in India that is a big country'\n",
    "pat=r'India'\n",
    "\n",
    "x=re.match(pat,text)\n",
    "print(x)"
   ]
  },
  {
   "cell_type": "markdown",
   "id": "1527faa6-be6e-4434-8e45-c231bfc151fd",
   "metadata": {},
   "source": [
    "# search()"
   ]
  },
  {
   "cell_type": "code",
   "execution_count": 107,
   "id": "306f1d03-f1f0-4630-846b-10e74d27a1b4",
   "metadata": {},
   "outputs": [],
   "source": [
    "# - It takes a pattern and a string as arguments.\n",
    "# - It matches the first occurence of the pattern from left to right.\n",
    "# - If the pattern is found then it returns a match object.\n",
    "# - If the pattern is not found then it returns None."
   ]
  },
  {
   "cell_type": "code",
   "execution_count": 111,
   "id": "a500ebda-642b-4ef8-bf67-dc6a9bd6e6cd",
   "metadata": {},
   "outputs": [],
   "source": [
    "# re.search(pattern,sting)"
   ]
  },
  {
   "cell_type": "code",
   "execution_count": 115,
   "id": "b8304f08-35dc-4b2f-a5ea-bb49bd775600",
   "metadata": {},
   "outputs": [
    {
     "name": "stdout",
     "output_type": "stream",
     "text": [
      "<re.Match object; span=(10, 15), match='India'>\n"
     ]
    }
   ],
   "source": [
    "text='I live in India that is a big country'\n",
    "pat=r'India'\n",
    "\n",
    "x=re.search(pat,text)\n",
    "print(x)"
   ]
  },
  {
   "cell_type": "code",
   "execution_count": 119,
   "id": "57020248-f1c1-4378-a522-51a4540db751",
   "metadata": {},
   "outputs": [
    {
     "name": "stdout",
     "output_type": "stream",
     "text": [
      "None\n"
     ]
    }
   ],
   "source": [
    "text='I live in India that is a big country'\n",
    "pat=r'Russia'\n",
    "\n",
    "x=re.search(pat,text)\n",
    "print(x)"
   ]
  },
  {
   "cell_type": "code",
   "execution_count": 121,
   "id": "556f4681-f4fb-4ef7-98b9-561daa600f12",
   "metadata": {},
   "outputs": [
    {
     "name": "stdout",
     "output_type": "stream",
     "text": [
      "<re.Match object; span=(0, 5), match='India'>\n"
     ]
    }
   ],
   "source": [
    "text='India is a big country'\n",
    "pattern='India'\n",
    "\n",
    "x=re.search(pattern,text)\n",
    "print(x)"
   ]
  },
  {
   "cell_type": "code",
   "execution_count": 125,
   "id": "982fa6f5-0f36-444f-ad3b-329cacae3016",
   "metadata": {},
   "outputs": [
    {
     "name": "stdout",
     "output_type": "stream",
     "text": [
      "<re.Match object; span=(10, 15), match='India'>\n"
     ]
    }
   ],
   "source": [
    "text='I live in India that is a big country. India is in Asia.'\n",
    "pat=r'India'\n",
    "\n",
    "x=re.search(pat,text)\n",
    "print(x)"
   ]
  },
  {
   "cell_type": "markdown",
   "id": "cdc8e08f-ab03-4880-9509-441f8ee45e4f",
   "metadata": {},
   "source": [
    "# findall()"
   ]
  },
  {
   "cell_type": "code",
   "execution_count": 128,
   "id": "372e5912-e8f6-45f3-a85e-e2a346d3876e",
   "metadata": {},
   "outputs": [],
   "source": [
    "# - It takes a pattern and a string as arguments.\n",
    "# - It matches all the occurences of the pattern in the string and retruns a list\n",
    "# - If the pattern is not found then it returns empty list []."
   ]
  },
  {
   "cell_type": "code",
   "execution_count": 130,
   "id": "8a8fdb7e-3657-4d9b-b2a0-47917291f05f",
   "metadata": {},
   "outputs": [],
   "source": [
    "# re.findall(pattern,text)"
   ]
  },
  {
   "cell_type": "code",
   "execution_count": 136,
   "id": "519df940-10d1-4840-ba7e-f1c31fbf9676",
   "metadata": {},
   "outputs": [
    {
     "name": "stdout",
     "output_type": "stream",
     "text": [
      "['India', 'India', 'India']\n"
     ]
    }
   ],
   "source": [
    "text='I live in India that is a big country. India is in Asia. Have you ever been to India?'\n",
    "pat=r'India'\n",
    "\n",
    "x=re.findall(pat,text)\n",
    "print(x)"
   ]
  },
  {
   "cell_type": "code",
   "execution_count": 138,
   "id": "8abcce63-09cb-4281-b7b6-7a4800d0ac90",
   "metadata": {},
   "outputs": [
    {
     "name": "stdout",
     "output_type": "stream",
     "text": [
      "[]\n"
     ]
    }
   ],
   "source": [
    "text='I live in India that is a big country. India is in Asia. Have you ever been to India?'\n",
    "pat=r'Russia'\n",
    "\n",
    "x=re.findall(pat,text)\n",
    "print(x)"
   ]
  },
  {
   "cell_type": "markdown",
   "id": "a5776455-f790-4cc3-b1fb-36a7affb704a",
   "metadata": {},
   "source": [
    "# finditer()"
   ]
  },
  {
   "cell_type": "code",
   "execution_count": 141,
   "id": "f46c312d-8eb1-47ad-a292-1408af8bf56f",
   "metadata": {},
   "outputs": [],
   "source": [
    "# - It takes a pattern and a string as arguments.\n",
    "# - It matches all the occurences of the pattern in the string and retruns an iterator object.\n",
    "# - Each element of the iterator object is a match object."
   ]
  },
  {
   "cell_type": "code",
   "execution_count": 143,
   "id": "9492b1a9-026d-4091-a4ee-a2ea11b805a4",
   "metadata": {},
   "outputs": [],
   "source": [
    "# re.finditer(pattern,string)"
   ]
  },
  {
   "cell_type": "code",
   "execution_count": 155,
   "id": "d610d1e6-11c1-4b15-acd1-601115b108d8",
   "metadata": {},
   "outputs": [
    {
     "name": "stdout",
     "output_type": "stream",
     "text": [
      "<callable_iterator object at 0x0000018272FF0D30>\n",
      "India\n",
      "(10, 15)\n",
      "India\n",
      "(39, 44)\n",
      "India\n",
      "(79, 84)\n",
      "3\n"
     ]
    }
   ],
   "source": [
    "text='I live in India that is a big country. India is in Asia. Have you ever been to India?'\n",
    "pat=r'India'\n",
    "\n",
    "x=re.finditer(pat,text)\n",
    "print(x)\n",
    "c=0\n",
    "for i in x:\n",
    "    print(i.group())\n",
    "    print(i.span())\n",
    "    c+=1\n",
    "print(c)"
   ]
  },
  {
   "cell_type": "code",
   "execution_count": 159,
   "id": "4169c10b-ee5b-451d-a593-f10bd43d5720",
   "metadata": {},
   "outputs": [
    {
     "data": {
      "text/plain": [
       "3"
      ]
     },
     "execution_count": 159,
     "metadata": {},
     "output_type": "execute_result"
    }
   ],
   "source": [
    "text.count('India')"
   ]
  },
  {
   "cell_type": "code",
   "execution_count": 161,
   "id": "b6e89e64-67f1-44a2-bef2-b39ce13802a3",
   "metadata": {},
   "outputs": [
    {
     "data": {
      "text/plain": [
       "<re.Match object; span=(79, 84), match='India'>"
      ]
     },
     "execution_count": 161,
     "metadata": {},
     "output_type": "execute_result"
    }
   ],
   "source": [
    "i"
   ]
  },
  {
   "cell_type": "code",
   "execution_count": 163,
   "id": "032e58fc-85a9-4aee-a60f-d9a1d395aa21",
   "metadata": {},
   "outputs": [
    {
     "data": {
      "text/plain": [
       "'India'"
      ]
     },
     "execution_count": 163,
     "metadata": {},
     "output_type": "execute_result"
    }
   ],
   "source": [
    "i.group()"
   ]
  },
  {
   "cell_type": "markdown",
   "id": "e9eeb178-fabe-42fd-a2f7-50869726000c",
   "metadata": {},
   "source": [
    "# Metacharacters"
   ]
  },
  {
   "cell_type": "code",
   "execution_count": 166,
   "id": "f32bbe7b-c4ec-4e4d-998f-23bded6c4c77",
   "metadata": {},
   "outputs": [],
   "source": [
    "# - These are special Regex characters. These specific meanning.\n",
    "# - These are uised to match the pattern in a specific fashion."
   ]
  },
  {
   "cell_type": "markdown",
   "id": "551b0a83-6dc3-418e-bfd7-a0523bc90201",
   "metadata": {},
   "source": [
    "# [ ] - Set"
   ]
  },
  {
   "cell_type": "code",
   "execution_count": 249,
   "id": "35e46869-f201-4b25-9623-008dd180ffde",
   "metadata": {},
   "outputs": [],
   "source": [
    "# '[A]' - It will match A in the string one by one.\n",
    "# '[AB]' - It will match A and B separately one by one.\n",
    "# '[A-Z]' - It will match all the upper case letters one by one.\n",
    "# '[a-z]' - It will match all the small case letters one by one.\n",
    "# '[0-9]' - It will match all the digits one by one\n",
    "# '[A-Za-z]' - It will match all the uppercase and the lowercase letters.\n",
    "# '[^A]' - It will match everything except A.\n",
    "# '[^A-Z]' - It means it will match everything except the uppercase letters."
   ]
  },
  {
   "cell_type": "code",
   "execution_count": 181,
   "id": "7a6244ef-2bc3-461f-a549-c77b5ddee064",
   "metadata": {},
   "outputs": [
    {
     "name": "stdout",
     "output_type": "stream",
     "text": [
      "<re.Match object; span=(7, 8), match='A'>\n",
      "<re.Match object; span=(13, 14), match='A'>\n",
      "<re.Match object; span=(18, 19), match='A'>\n",
      "<re.Match object; span=(19, 20), match='A'>\n"
     ]
    }
   ],
   "source": [
    "text='#@# D$$A% 2 2A4R 3AA5 4V6'\n",
    "pat=r'[A]'\n",
    "\n",
    "x=re.finditer(pat,text)\n",
    "for i in x:\n",
    "    print(i)"
   ]
  },
  {
   "cell_type": "code",
   "execution_count": 183,
   "id": "ddfa206c-16eb-43cc-a78c-a99b479bfa9e",
   "metadata": {},
   "outputs": [
    {
     "name": "stdout",
     "output_type": "stream",
     "text": [
      "<re.Match object; span=(7, 8), match='A'>\n",
      "<re.Match object; span=(13, 14), match='A'>\n",
      "<re.Match object; span=(18, 19), match='A'>\n",
      "<re.Match object; span=(19, 20), match='A'>\n"
     ]
    }
   ],
   "source": [
    "text='#@# D$$A% 2 2A4R 3AA5 4V6'\n",
    "pat=r'A'\n",
    "\n",
    "x=re.finditer(pat,text)\n",
    "for i in x:\n",
    "    print(i)"
   ]
  },
  {
   "cell_type": "code",
   "execution_count": 191,
   "id": "cf843f6c-3bc5-4981-a375-692664676e4e",
   "metadata": {},
   "outputs": [
    {
     "name": "stdout",
     "output_type": "stream",
     "text": [
      "<re.Match object; span=(2, 3), match='B'>\n",
      "<re.Match object; span=(8, 9), match='A'>\n",
      "<re.Match object; span=(14, 15), match='A'>\n",
      "<re.Match object; span=(15, 16), match='B'>\n",
      "<re.Match object; span=(20, 21), match='A'>\n",
      "<re.Match object; span=(21, 22), match='A'>\n",
      "<re.Match object; span=(25, 26), match='B'>\n",
      "<re.Match object; span=(29, 30), match='B'>\n"
     ]
    }
   ],
   "source": [
    "text='#@B# D$$A% 2 2AB4R 3AA5 4BV6 B'\n",
    "pat=r'[BA]'\n",
    "\n",
    "x=re.finditer(pat,text)\n",
    "for i in x:\n",
    "    print(i)"
   ]
  },
  {
   "cell_type": "code",
   "execution_count": 189,
   "id": "1a39718e-806d-46b9-b538-216753c7474e",
   "metadata": {},
   "outputs": [
    {
     "name": "stdout",
     "output_type": "stream",
     "text": [
      "<re.Match object; span=(14, 16), match='AB'>\n"
     ]
    }
   ],
   "source": [
    "text='#@B# D$$A% 2 2AB4R 3AA5 4BV6 B'\n",
    "pat=r'AB'\n",
    "\n",
    "x=re.finditer(pat,text)\n",
    "for i in x:\n",
    "    print(i)"
   ]
  },
  {
   "cell_type": "code",
   "execution_count": 209,
   "id": "b1115f2e-6002-4fea-88a6-667c849fb920",
   "metadata": {},
   "outputs": [
    {
     "name": "stdout",
     "output_type": "stream",
     "text": [
      "<re.Match object; span=(2, 3), match='B'>\n",
      "<re.Match object; span=(5, 6), match='D'>\n",
      "<re.Match object; span=(7, 8), match='M'>\n",
      "<re.Match object; span=(9, 10), match='A'>\n",
      "<re.Match object; span=(15, 16), match='A'>\n",
      "<re.Match object; span=(16, 17), match='B'>\n",
      "<re.Match object; span=(18, 19), match='R'>\n",
      "<re.Match object; span=(21, 22), match='A'>\n",
      "<re.Match object; span=(22, 23), match='A'>\n",
      "<re.Match object; span=(26, 27), match='B'>\n",
      "<re.Match object; span=(27, 28), match='V'>\n",
      "<re.Match object; span=(30, 31), match='B'>\n",
      "<re.Match object; span=(32, 33), match='W'>\n",
      "<re.Match object; span=(34, 35), match='G'>\n",
      "<re.Match object; span=(35, 36), match='H'>\n",
      "<re.Match object; span=(36, 37), match='I'>\n",
      "<re.Match object; span=(39, 40), match='R'>\n",
      "<re.Match object; span=(40, 41), match='C'>\n",
      "<re.Match object; span=(41, 42), match='V'>\n",
      "<re.Match object; span=(43, 44), match='D'>\n",
      "<re.Match object; span=(46, 47), match='K'>\n",
      "<re.Match object; span=(48, 49), match='O'>\n",
      "<re.Match object; span=(50, 51), match='P'>\n"
     ]
    }
   ],
   "source": [
    "text='#@B# D$M$A% 2 2AB4R 3AA5 4BV6 B W GHI@ RCV3D %K^O6P'\n",
    "pat=r'[A-Z]'\n",
    "\n",
    "x=re.finditer(pat,text)\n",
    "for i in x:\n",
    "    print(i)"
   ]
  },
  {
   "cell_type": "code",
   "execution_count": 219,
   "id": "687d3b73-b29b-417a-aa51-574d0752d4d2",
   "metadata": {},
   "outputs": [
    {
     "name": "stdout",
     "output_type": "stream",
     "text": [
      "<re.Match object; span=(12, 13), match='2'>\n",
      "<re.Match object; span=(14, 15), match='2'>\n",
      "<re.Match object; span=(17, 18), match='4'>\n",
      "<re.Match object; span=(20, 21), match='3'>\n",
      "<re.Match object; span=(22, 23), match='9'>\n",
      "<re.Match object; span=(25, 26), match='5'>\n",
      "<re.Match object; span=(27, 28), match='4'>\n",
      "<re.Match object; span=(30, 31), match='6'>\n",
      "<re.Match object; span=(37, 38), match='4'>\n",
      "<re.Match object; span=(43, 44), match='2'>\n",
      "<re.Match object; span=(44, 45), match='5'>\n",
      "<re.Match object; span=(45, 46), match='8'>\n",
      "<re.Match object; span=(46, 47), match='6'>\n",
      "<re.Match object; span=(49, 50), match='3'>\n",
      "<re.Match object; span=(56, 57), match='6'>\n",
      "<re.Match object; span=(59, 60), match='1'>\n",
      "<re.Match object; span=(60, 61), match='2'>\n",
      "<re.Match object; span=(61, 62), match='3'>\n",
      "<re.Match object; span=(62, 63), match='5'>\n"
     ]
    }
   ],
   "source": [
    "text='#@B# D$M$A% 2 2AB4R 3A9 A5 4BV6 B W G4HI@ R2586CV3D %K^O6P 1235'\n",
    "pat=r'[0-9]'\n",
    "\n",
    "x=re.finditer(pat,text)\n",
    "for i in x:\n",
    "    print(i)"
   ]
  },
  {
   "cell_type": "code",
   "execution_count": 223,
   "id": "83abc201-d063-481c-8e88-80b7de243446",
   "metadata": {},
   "outputs": [
    {
     "name": "stdout",
     "output_type": "stream",
     "text": [
      "<re.Match object; span=(20, 21), match='a'>\n",
      "<re.Match object; span=(26, 27), match='v'>\n",
      "<re.Match object; span=(29, 30), match='g'>\n",
      "<re.Match object; span=(31, 32), match='j'>\n",
      "<re.Match object; span=(32, 33), match='j'>\n",
      "<re.Match object; span=(36, 37), match='u'>\n",
      "<re.Match object; span=(38, 39), match='u'>\n",
      "<re.Match object; span=(39, 40), match='k'>\n",
      "<re.Match object; span=(42, 43), match='w'>\n",
      "<re.Match object; span=(44, 45), match='r'>\n",
      "<re.Match object; span=(46, 47), match='h'>\n",
      "<re.Match object; span=(48, 49), match='k'>\n",
      "<re.Match object; span=(54, 55), match='o'>\n",
      "<re.Match object; span=(58, 59), match='f'>\n",
      "<re.Match object; span=(61, 62), match='a'>\n",
      "<re.Match object; span=(77, 78), match='a'>\n",
      "<re.Match object; span=(78, 79), match='a'>\n",
      "<re.Match object; span=(79, 80), match='a'>\n",
      "<re.Match object; span=(80, 81), match='a'>\n",
      "<re.Match object; span=(81, 82), match='a'>\n",
      "<re.Match object; span=(82, 83), match='a'>\n",
      "<re.Match object; span=(83, 84), match='a'>\n"
     ]
    }
   ],
   "source": [
    "text='#@B# D$M$A% 2 2AB4R a 3A9 vA5g jj4BVu6uk Bw rWh kG4HI@o R2f58a6 CV3D %K^O6P 1aaaaaaa235'\n",
    "pat=r'[a-z]'\n",
    "\n",
    "x=re.finditer(pat,text)\n",
    "for i in x:\n",
    "    print(i)"
   ]
  },
  {
   "cell_type": "code",
   "execution_count": 229,
   "id": "5f82173a-ed05-468a-afb7-e139a8962327",
   "metadata": {},
   "outputs": [
    {
     "name": "stdout",
     "output_type": "stream",
     "text": [
      "<re.Match object; span=(2, 3), match='B'>\n",
      "<re.Match object; span=(5, 6), match='D'>\n",
      "<re.Match object; span=(7, 8), match='M'>\n",
      "<re.Match object; span=(9, 10), match='A'>\n",
      "<re.Match object; span=(15, 16), match='A'>\n",
      "<re.Match object; span=(16, 17), match='B'>\n",
      "<re.Match object; span=(18, 19), match='R'>\n",
      "<re.Match object; span=(20, 21), match='a'>\n",
      "<re.Match object; span=(23, 24), match='A'>\n",
      "<re.Match object; span=(26, 27), match='v'>\n",
      "<re.Match object; span=(27, 28), match='A'>\n",
      "<re.Match object; span=(29, 30), match='g'>\n",
      "<re.Match object; span=(31, 32), match='j'>\n",
      "<re.Match object; span=(32, 33), match='j'>\n",
      "<re.Match object; span=(34, 35), match='B'>\n",
      "<re.Match object; span=(35, 36), match='V'>\n",
      "<re.Match object; span=(36, 37), match='u'>\n",
      "<re.Match object; span=(38, 39), match='u'>\n",
      "<re.Match object; span=(39, 40), match='k'>\n",
      "<re.Match object; span=(41, 42), match='B'>\n",
      "<re.Match object; span=(42, 43), match='w'>\n",
      "<re.Match object; span=(44, 45), match='r'>\n",
      "<re.Match object; span=(45, 46), match='W'>\n",
      "<re.Match object; span=(46, 47), match='h'>\n",
      "<re.Match object; span=(48, 49), match='k'>\n",
      "<re.Match object; span=(49, 50), match='G'>\n",
      "<re.Match object; span=(51, 52), match='H'>\n",
      "<re.Match object; span=(52, 53), match='I'>\n",
      "<re.Match object; span=(54, 55), match='o'>\n",
      "<re.Match object; span=(56, 57), match='R'>\n",
      "<re.Match object; span=(58, 59), match='f'>\n",
      "<re.Match object; span=(61, 62), match='a'>\n",
      "<re.Match object; span=(64, 65), match='C'>\n",
      "<re.Match object; span=(65, 66), match='V'>\n",
      "<re.Match object; span=(67, 68), match='D'>\n",
      "<re.Match object; span=(70, 71), match='K'>\n",
      "<re.Match object; span=(72, 73), match='O'>\n",
      "<re.Match object; span=(74, 75), match='P'>\n",
      "<re.Match object; span=(77, 78), match='a'>\n",
      "<re.Match object; span=(78, 79), match='a'>\n",
      "<re.Match object; span=(79, 80), match='a'>\n",
      "<re.Match object; span=(80, 81), match='a'>\n",
      "<re.Match object; span=(81, 82), match='a'>\n",
      "<re.Match object; span=(82, 83), match='a'>\n",
      "<re.Match object; span=(83, 84), match='a'>\n"
     ]
    }
   ],
   "source": [
    "text='#@B# D$M$A% 2 2AB4R a 3A9 vA5g jj4BVu6uk Bw rWh kG4HI@o R2f58a6 CV3D %K^O6P 1aaaaaaa235'\n",
    "pat=r'[A-Za-z]'\n",
    "\n",
    "x=re.finditer(pat,text)\n",
    "for i in x:\n",
    "    print(i)"
   ]
  },
  {
   "cell_type": "code",
   "execution_count": 247,
   "id": "47d604c6-dd47-4967-9e12-acb1d893a0ce",
   "metadata": {},
   "outputs": [
    {
     "name": "stdout",
     "output_type": "stream",
     "text": [
      "<re.Match object; span=(0, 1), match='#'>\n",
      "<re.Match object; span=(1, 2), match='@'>\n",
      "<re.Match object; span=(3, 4), match='#'>\n",
      "<re.Match object; span=(6, 7), match='$'>\n",
      "<re.Match object; span=(8, 9), match='$'>\n",
      "<re.Match object; span=(10, 11), match='%'>\n",
      "<re.Match object; span=(51, 52), match='#'>\n",
      "<re.Match object; span=(54, 55), match='@'>\n",
      "<re.Match object; span=(70, 71), match='%'>\n",
      "<re.Match object; span=(72, 73), match='^'>\n"
     ]
    }
   ],
   "source": [
    "text='#@B# D$M$A% 2 2AB4R a 3A9 vA5g jj4BVu6uk Bw rWh kG4#HI@o R2f58a6 CV3D %K^O6P 1aaaaaaa235'\n",
    "pat=r\"[~!@#$%^&*()_+=:;\"\",']\"\n",
    "\n",
    "x=re.finditer(pat,text)\n",
    "for i in x:\n",
    "    print(i)"
   ]
  },
  {
   "cell_type": "code",
   "execution_count": 253,
   "id": "c2eae89b-b44a-4aee-9292-ae2274611be5",
   "metadata": {},
   "outputs": [
    {
     "name": "stdout",
     "output_type": "stream",
     "text": [
      "<re.Match object; span=(7, 8), match='#'>\n",
      "<re.Match object; span=(8, 9), match='@'>\n",
      "<re.Match object; span=(9, 10), match='B'>\n",
      "<re.Match object; span=(10, 11), match='#'>\n",
      "<re.Match object; span=(11, 12), match=' '>\n",
      "<re.Match object; span=(12, 13), match='D'>\n",
      "<re.Match object; span=(13, 14), match='$'>\n",
      "<re.Match object; span=(14, 15), match='M'>\n",
      "<re.Match object; span=(15, 16), match='$'>\n",
      "<re.Match object; span=(17, 18), match='%'>\n",
      "<re.Match object; span=(18, 19), match=' '>\n",
      "<re.Match object; span=(19, 20), match='2'>\n",
      "<re.Match object; span=(20, 21), match=' '>\n",
      "<re.Match object; span=(21, 22), match='2'>\n",
      "<re.Match object; span=(23, 24), match='B'>\n",
      "<re.Match object; span=(24, 25), match='4'>\n",
      "<re.Match object; span=(25, 26), match='R'>\n",
      "<re.Match object; span=(26, 27), match=' '>\n",
      "<re.Match object; span=(27, 28), match='a'>\n",
      "<re.Match object; span=(28, 29), match=' '>\n",
      "<re.Match object; span=(29, 30), match='3'>\n",
      "<re.Match object; span=(31, 32), match='9'>\n",
      "<re.Match object; span=(32, 33), match=' '>\n",
      "<re.Match object; span=(33, 34), match='v'>\n",
      "<re.Match object; span=(35, 36), match='5'>\n",
      "<re.Match object; span=(36, 37), match='g'>\n",
      "<re.Match object; span=(37, 38), match=' '>\n",
      "<re.Match object; span=(38, 39), match='j'>\n",
      "<re.Match object; span=(39, 40), match='j'>\n",
      "<re.Match object; span=(40, 41), match='4'>\n",
      "<re.Match object; span=(41, 42), match='B'>\n",
      "<re.Match object; span=(42, 43), match='V'>\n",
      "<re.Match object; span=(43, 44), match='u'>\n",
      "<re.Match object; span=(44, 45), match='6'>\n",
      "<re.Match object; span=(45, 46), match='u'>\n",
      "<re.Match object; span=(46, 47), match='k'>\n",
      "<re.Match object; span=(47, 48), match=' '>\n",
      "<re.Match object; span=(48, 49), match='B'>\n",
      "<re.Match object; span=(49, 50), match='w'>\n",
      "<re.Match object; span=(50, 51), match=' '>\n",
      "<re.Match object; span=(51, 52), match='r'>\n",
      "<re.Match object; span=(52, 53), match='W'>\n",
      "<re.Match object; span=(53, 54), match='h'>\n",
      "<re.Match object; span=(54, 55), match=' '>\n",
      "<re.Match object; span=(55, 56), match='k'>\n",
      "<re.Match object; span=(56, 57), match='G'>\n",
      "<re.Match object; span=(57, 58), match='4'>\n",
      "<re.Match object; span=(58, 59), match='#'>\n",
      "<re.Match object; span=(59, 60), match='H'>\n",
      "<re.Match object; span=(60, 61), match='I'>\n",
      "<re.Match object; span=(61, 62), match='@'>\n",
      "<re.Match object; span=(62, 63), match='o'>\n",
      "<re.Match object; span=(63, 64), match=' '>\n",
      "<re.Match object; span=(64, 65), match='R'>\n",
      "<re.Match object; span=(65, 66), match='2'>\n",
      "<re.Match object; span=(66, 67), match='f'>\n",
      "<re.Match object; span=(67, 68), match='5'>\n",
      "<re.Match object; span=(68, 69), match='8'>\n",
      "<re.Match object; span=(69, 70), match='a'>\n",
      "<re.Match object; span=(70, 71), match='6'>\n",
      "<re.Match object; span=(71, 72), match=' '>\n",
      "<re.Match object; span=(72, 73), match='C'>\n",
      "<re.Match object; span=(73, 74), match='V'>\n",
      "<re.Match object; span=(74, 75), match='3'>\n",
      "<re.Match object; span=(75, 76), match='D'>\n",
      "<re.Match object; span=(76, 77), match=' '>\n",
      "<re.Match object; span=(77, 78), match='%'>\n",
      "<re.Match object; span=(78, 79), match='K'>\n",
      "<re.Match object; span=(79, 80), match='^'>\n",
      "<re.Match object; span=(80, 81), match='O'>\n",
      "<re.Match object; span=(81, 82), match='6'>\n",
      "<re.Match object; span=(82, 83), match='P'>\n",
      "<re.Match object; span=(83, 84), match=' '>\n",
      "<re.Match object; span=(84, 85), match='1'>\n",
      "<re.Match object; span=(85, 86), match='a'>\n",
      "<re.Match object; span=(86, 87), match='a'>\n",
      "<re.Match object; span=(87, 88), match='a'>\n",
      "<re.Match object; span=(88, 89), match='a'>\n",
      "<re.Match object; span=(89, 90), match='a'>\n",
      "<re.Match object; span=(90, 91), match='a'>\n",
      "<re.Match object; span=(91, 92), match='a'>\n",
      "<re.Match object; span=(92, 93), match='2'>\n",
      "<re.Match object; span=(93, 94), match='3'>\n",
      "<re.Match object; span=(94, 95), match='5'>\n"
     ]
    }
   ],
   "source": [
    "text='AAAAAAA#@B# D$M$A% 2 2AB4R a 3A9 vA5g jj4BVu6uk Bw rWh kG4#HI@o R2f58a6 CV3D %K^O6P 1aaaaaaa235'\n",
    "pat=r\"[^A]\"\n",
    "\n",
    "x=re.finditer(pat,text)\n",
    "for i in x:\n",
    "    print(i)"
   ]
  },
  {
   "cell_type": "code",
   "execution_count": 255,
   "id": "1c47aa6b-afc6-48c6-8ac5-dfe75117aec8",
   "metadata": {},
   "outputs": [
    {
     "name": "stdout",
     "output_type": "stream",
     "text": [
      "<re.Match object; span=(7, 8), match='#'>\n",
      "<re.Match object; span=(8, 9), match='@'>\n",
      "<re.Match object; span=(10, 11), match='#'>\n",
      "<re.Match object; span=(11, 12), match=' '>\n",
      "<re.Match object; span=(13, 14), match='$'>\n",
      "<re.Match object; span=(15, 16), match='$'>\n",
      "<re.Match object; span=(17, 18), match='%'>\n",
      "<re.Match object; span=(18, 19), match=' '>\n",
      "<re.Match object; span=(19, 20), match='2'>\n",
      "<re.Match object; span=(20, 21), match=' '>\n",
      "<re.Match object; span=(21, 22), match='2'>\n",
      "<re.Match object; span=(24, 25), match='4'>\n",
      "<re.Match object; span=(26, 27), match=' '>\n",
      "<re.Match object; span=(27, 28), match='a'>\n",
      "<re.Match object; span=(28, 29), match=' '>\n",
      "<re.Match object; span=(29, 30), match='3'>\n",
      "<re.Match object; span=(31, 32), match='9'>\n",
      "<re.Match object; span=(32, 33), match=' '>\n",
      "<re.Match object; span=(33, 34), match='v'>\n",
      "<re.Match object; span=(35, 36), match='5'>\n",
      "<re.Match object; span=(36, 37), match='g'>\n",
      "<re.Match object; span=(37, 38), match=' '>\n",
      "<re.Match object; span=(38, 39), match='j'>\n",
      "<re.Match object; span=(39, 40), match='j'>\n",
      "<re.Match object; span=(40, 41), match='4'>\n",
      "<re.Match object; span=(43, 44), match='u'>\n",
      "<re.Match object; span=(44, 45), match='6'>\n",
      "<re.Match object; span=(45, 46), match='u'>\n",
      "<re.Match object; span=(46, 47), match='k'>\n",
      "<re.Match object; span=(47, 48), match=' '>\n",
      "<re.Match object; span=(49, 50), match='w'>\n",
      "<re.Match object; span=(50, 51), match=' '>\n",
      "<re.Match object; span=(51, 52), match='r'>\n",
      "<re.Match object; span=(53, 54), match='h'>\n",
      "<re.Match object; span=(54, 55), match=' '>\n",
      "<re.Match object; span=(55, 56), match='k'>\n",
      "<re.Match object; span=(57, 58), match='4'>\n",
      "<re.Match object; span=(58, 59), match='#'>\n",
      "<re.Match object; span=(61, 62), match='@'>\n",
      "<re.Match object; span=(62, 63), match='o'>\n",
      "<re.Match object; span=(63, 64), match=' '>\n",
      "<re.Match object; span=(65, 66), match='2'>\n",
      "<re.Match object; span=(66, 67), match='f'>\n",
      "<re.Match object; span=(67, 68), match='5'>\n",
      "<re.Match object; span=(68, 69), match='8'>\n",
      "<re.Match object; span=(69, 70), match='a'>\n",
      "<re.Match object; span=(70, 71), match='6'>\n",
      "<re.Match object; span=(71, 72), match=' '>\n",
      "<re.Match object; span=(74, 75), match='3'>\n",
      "<re.Match object; span=(76, 77), match=' '>\n",
      "<re.Match object; span=(77, 78), match='%'>\n",
      "<re.Match object; span=(79, 80), match='^'>\n",
      "<re.Match object; span=(81, 82), match='6'>\n",
      "<re.Match object; span=(83, 84), match=' '>\n",
      "<re.Match object; span=(84, 85), match='1'>\n",
      "<re.Match object; span=(85, 86), match='a'>\n",
      "<re.Match object; span=(86, 87), match='a'>\n",
      "<re.Match object; span=(87, 88), match='a'>\n",
      "<re.Match object; span=(88, 89), match='a'>\n",
      "<re.Match object; span=(89, 90), match='a'>\n",
      "<re.Match object; span=(90, 91), match='a'>\n",
      "<re.Match object; span=(91, 92), match='a'>\n",
      "<re.Match object; span=(92, 93), match='2'>\n",
      "<re.Match object; span=(93, 94), match='3'>\n",
      "<re.Match object; span=(94, 95), match='5'>\n"
     ]
    }
   ],
   "source": [
    "text='AAAAAAA#@B# D$M$A% 2 2AB4R a 3A9 vA5g jj4BVu6uk Bw rWh kG4#HI@o R2f58a6 CV3D %K^O6P 1aaaaaaa235'\n",
    "pat=r\"[^A-Z]\"\n",
    "\n",
    "x=re.finditer(pat,text)\n",
    "for i in x:\n",
    "    print(i)"
   ]
  },
  {
   "cell_type": "code",
   "execution_count": 257,
   "id": "226c5118-3e9a-45bc-8c31-e4f3c4dcd016",
   "metadata": {},
   "outputs": [
    {
     "name": "stdout",
     "output_type": "stream",
     "text": [
      "<re.Match object; span=(7, 8), match='#'>\n",
      "<re.Match object; span=(8, 9), match='@'>\n",
      "<re.Match object; span=(10, 11), match='#'>\n",
      "<re.Match object; span=(11, 12), match=' '>\n",
      "<re.Match object; span=(13, 14), match='$'>\n",
      "<re.Match object; span=(15, 16), match='$'>\n",
      "<re.Match object; span=(17, 18), match='%'>\n",
      "<re.Match object; span=(18, 19), match=' '>\n",
      "<re.Match object; span=(19, 20), match='2'>\n",
      "<re.Match object; span=(20, 21), match=' '>\n",
      "<re.Match object; span=(21, 22), match='2'>\n",
      "<re.Match object; span=(24, 25), match='4'>\n",
      "<re.Match object; span=(26, 27), match=' '>\n",
      "<re.Match object; span=(28, 29), match=' '>\n",
      "<re.Match object; span=(29, 30), match='3'>\n",
      "<re.Match object; span=(31, 32), match='9'>\n",
      "<re.Match object; span=(32, 33), match=' '>\n",
      "<re.Match object; span=(35, 36), match='5'>\n",
      "<re.Match object; span=(37, 38), match=' '>\n",
      "<re.Match object; span=(40, 41), match='4'>\n",
      "<re.Match object; span=(44, 45), match='6'>\n",
      "<re.Match object; span=(47, 48), match=' '>\n",
      "<re.Match object; span=(50, 51), match=' '>\n",
      "<re.Match object; span=(54, 55), match=' '>\n",
      "<re.Match object; span=(57, 58), match='4'>\n",
      "<re.Match object; span=(58, 59), match='#'>\n",
      "<re.Match object; span=(61, 62), match='@'>\n",
      "<re.Match object; span=(63, 64), match=' '>\n",
      "<re.Match object; span=(65, 66), match='2'>\n",
      "<re.Match object; span=(67, 68), match='5'>\n",
      "<re.Match object; span=(68, 69), match='8'>\n",
      "<re.Match object; span=(70, 71), match='6'>\n",
      "<re.Match object; span=(71, 72), match=' '>\n",
      "<re.Match object; span=(74, 75), match='3'>\n",
      "<re.Match object; span=(76, 77), match=' '>\n",
      "<re.Match object; span=(77, 78), match='%'>\n",
      "<re.Match object; span=(79, 80), match='^'>\n",
      "<re.Match object; span=(81, 82), match='6'>\n",
      "<re.Match object; span=(83, 84), match=' '>\n",
      "<re.Match object; span=(84, 85), match='1'>\n",
      "<re.Match object; span=(92, 93), match='2'>\n",
      "<re.Match object; span=(93, 94), match='3'>\n",
      "<re.Match object; span=(94, 95), match='5'>\n"
     ]
    }
   ],
   "source": [
    "text='AAAAAAA#@B# D$M$A% 2 2AB4R a 3A9 vA5g jj4BVu6uk Bw rWh kG4#HI@o R2f58a6 CV3D %K^O6P 1aaaaaaa235'\n",
    "pat=r\"[^A-Za-z]\"\n",
    "\n",
    "x=re.finditer(pat,text)\n",
    "for i in x:\n",
    "    print(i)"
   ]
  },
  {
   "cell_type": "code",
   "execution_count": 259,
   "id": "538e1cc0-59e1-4f74-90e4-3c2398368786",
   "metadata": {},
   "outputs": [
    {
     "name": "stdout",
     "output_type": "stream",
     "text": [
      "<re.Match object; span=(7, 8), match='#'>\n",
      "<re.Match object; span=(8, 9), match='@'>\n",
      "<re.Match object; span=(10, 11), match='#'>\n",
      "<re.Match object; span=(11, 12), match=' '>\n",
      "<re.Match object; span=(13, 14), match='$'>\n",
      "<re.Match object; span=(15, 16), match='$'>\n",
      "<re.Match object; span=(17, 18), match='%'>\n",
      "<re.Match object; span=(18, 19), match=' '>\n",
      "<re.Match object; span=(20, 21), match=' '>\n",
      "<re.Match object; span=(26, 27), match=' '>\n",
      "<re.Match object; span=(28, 29), match=' '>\n",
      "<re.Match object; span=(32, 33), match=' '>\n",
      "<re.Match object; span=(37, 38), match=' '>\n",
      "<re.Match object; span=(47, 48), match=' '>\n",
      "<re.Match object; span=(50, 51), match=' '>\n",
      "<re.Match object; span=(54, 55), match=' '>\n",
      "<re.Match object; span=(58, 59), match='#'>\n",
      "<re.Match object; span=(61, 62), match='@'>\n",
      "<re.Match object; span=(63, 64), match=' '>\n",
      "<re.Match object; span=(71, 72), match=' '>\n",
      "<re.Match object; span=(76, 77), match=' '>\n",
      "<re.Match object; span=(77, 78), match='%'>\n",
      "<re.Match object; span=(79, 80), match='^'>\n",
      "<re.Match object; span=(83, 84), match=' '>\n"
     ]
    }
   ],
   "source": [
    "text='AAAAAAA#@B# D$M$A% 2 2AB4R a 3A9 vA5g jj4BVu6uk Bw rWh kG4#HI@o R2f58a6 CV3D %K^O6P 1aaaaaaa235'\n",
    "pat=r\"[^A-Za-z0-9]\"\n",
    "\n",
    "x=re.finditer(pat,text)\n",
    "for i in x:\n",
    "    print(i)"
   ]
  },
  {
   "cell_type": "code",
   "execution_count": 261,
   "id": "3a386df5-efeb-4c41-a7a7-52f73a564827",
   "metadata": {},
   "outputs": [
    {
     "name": "stdout",
     "output_type": "stream",
     "text": [
      "<re.Match object; span=(7, 8), match='#'>\n",
      "<re.Match object; span=(8, 9), match='@'>\n",
      "<re.Match object; span=(10, 11), match='#'>\n",
      "<re.Match object; span=(13, 14), match='$'>\n",
      "<re.Match object; span=(15, 16), match='$'>\n",
      "<re.Match object; span=(17, 18), match='%'>\n",
      "<re.Match object; span=(58, 59), match='#'>\n",
      "<re.Match object; span=(61, 62), match='@'>\n",
      "<re.Match object; span=(77, 78), match='%'>\n",
      "<re.Match object; span=(79, 80), match='^'>\n"
     ]
    }
   ],
   "source": [
    "text='AAAAAAA#@B# D$M$A% 2 2AB4R a 3A9 vA5g jj4BVu6uk Bw rWh kG4#HI@o R2f58a6 CV3D %K^O6P 1aaaaaaa235'\n",
    "pat=r\"[^A-Za-z0-9 ]\"\n",
    "\n",
    "x=re.finditer(pat,text)\n",
    "for i in x:\n",
    "    print(i)"
   ]
  },
  {
   "cell_type": "markdown",
   "id": "6162d04f-cbdb-425f-9113-6fa88e1b663a",
   "metadata": {},
   "source": [
    "# . Dot"
   ]
  },
  {
   "cell_type": "code",
   "execution_count": 264,
   "id": "c6ac921a-8d07-4689-bff5-f5fea19f00c3",
   "metadata": {},
   "outputs": [],
   "source": [
    "# - It matches everything except the \\n"
   ]
  },
  {
   "cell_type": "code",
   "execution_count": 268,
   "id": "f4c6e67e-01d7-4a19-912c-25ea88068f68",
   "metadata": {},
   "outputs": [
    {
     "name": "stdout",
     "output_type": "stream",
     "text": [
      "<re.Match object; span=(0, 1), match='2'>\n",
      "<re.Match object; span=(1, 2), match='A'>\n",
      "<re.Match object; span=(2, 3), match='B'>\n",
      "<re.Match object; span=(4, 5), match='4'>\n",
      "<re.Match object; span=(5, 6), match='R'>\n",
      "<re.Match object; span=(6, 7), match=' '>\n",
      "<re.Match object; span=(7, 8), match='a'>\n",
      "<re.Match object; span=(8, 9), match=' '>\n",
      "<re.Match object; span=(9, 10), match='3'>\n",
      "<re.Match object; span=(10, 11), match='\\t'>\n",
      "<re.Match object; span=(11, 12), match='A'>\n",
      "<re.Match object; span=(12, 13), match='9'>\n",
      "<re.Match object; span=(13, 14), match=' '>\n",
      "<re.Match object; span=(14, 15), match='v'>\n",
      "<re.Match object; span=(15, 16), match='A'>\n",
      "<re.Match object; span=(16, 17), match='5'>\n",
      "<re.Match object; span=(18, 19), match='g'>\n",
      "<re.Match object; span=(19, 20), match=' '>\n",
      "<re.Match object; span=(20, 21), match='j'>\n",
      "<re.Match object; span=(21, 22), match='j'>\n",
      "<re.Match object; span=(22, 23), match='4'>\n",
      "<re.Match object; span=(23, 24), match='B'>\n",
      "<re.Match object; span=(24, 25), match='V'>\n",
      "<re.Match object; span=(25, 26), match='u'>\n",
      "<re.Match object; span=(26, 27), match='6'>\n",
      "<re.Match object; span=(28, 29), match='u'>\n",
      "<re.Match object; span=(29, 30), match='k'>\n",
      "<re.Match object; span=(30, 31), match=' '>\n",
      "<re.Match object; span=(31, 32), match='B'>\n",
      "<re.Match object; span=(32, 33), match='w'>\n",
      "<re.Match object; span=(33, 34), match=' '>\n",
      "<re.Match object; span=(34, 35), match='r'>\n",
      "<re.Match object; span=(35, 36), match='W'>\n",
      "<re.Match object; span=(36, 37), match='h'>\n",
      "<re.Match object; span=(37, 38), match=' '>\n",
      "<re.Match object; span=(38, 39), match='k'>\n",
      "<re.Match object; span=(39, 40), match='G'>\n",
      "<re.Match object; span=(40, 41), match='4'>\n",
      "<re.Match object; span=(41, 42), match='#'>\n",
      "<re.Match object; span=(42, 43), match='H'>\n",
      "<re.Match object; span=(43, 44), match='I'>\n",
      "<re.Match object; span=(44, 45), match='@'>\n",
      "<re.Match object; span=(45, 46), match='o'>\n",
      "<re.Match object; span=(47, 48), match=' '>\n",
      "<re.Match object; span=(48, 49), match='R'>\n",
      "<re.Match object; span=(49, 50), match='2'>\n",
      "<re.Match object; span=(50, 51), match='f'>\n",
      "<re.Match object; span=(51, 52), match='5'>\n",
      "<re.Match object; span=(52, 53), match='8'>\n",
      "<re.Match object; span=(53, 54), match='a'>\n",
      "<re.Match object; span=(54, 55), match='6'>\n",
      "<re.Match object; span=(55, 56), match=' '>\n",
      "<re.Match object; span=(56, 57), match='C'>\n",
      "<re.Match object; span=(57, 58), match='V'>\n",
      "<re.Match object; span=(58, 59), match='3'>\n",
      "<re.Match object; span=(59, 60), match='D'>\n",
      "<re.Match object; span=(60, 61), match=' '>\n",
      "<re.Match object; span=(61, 62), match='%'>\n",
      "<re.Match object; span=(62, 63), match='K'>\n",
      "<re.Match object; span=(63, 64), match='^'>\n",
      "<re.Match object; span=(64, 65), match='O'>\n",
      "<re.Match object; span=(65, 66), match='6'>\n",
      "<re.Match object; span=(66, 67), match='P'>\n",
      "<re.Match object; span=(67, 68), match=' '>\n",
      "<re.Match object; span=(68, 69), match='1'>\n",
      "<re.Match object; span=(69, 70), match='a'>\n",
      "<re.Match object; span=(70, 71), match='a'>\n",
      "<re.Match object; span=(71, 72), match='a'>\n",
      "<re.Match object; span=(72, 73), match='a'>\n",
      "<re.Match object; span=(73, 74), match='a'>\n",
      "<re.Match object; span=(74, 75), match='a'>\n",
      "<re.Match object; span=(75, 76), match='a'>\n",
      "<re.Match object; span=(76, 77), match='2'>\n",
      "<re.Match object; span=(77, 78), match='3'>\n",
      "<re.Match object; span=(78, 79), match='5'>\n"
     ]
    }
   ],
   "source": [
    "text='2AB\\n4R a 3\\tA9 vA5\\ng jj4BVu6\\nuk Bw rWh kG4#HI@o\\n R2f58a6 CV3D %K^O6P 1aaaaaaa235'\n",
    "pat=r'.'\n",
    "\n",
    "x=re.finditer(pat,text)\n",
    "for i in x:\n",
    "    print(i)"
   ]
  },
  {
   "cell_type": "code",
   "execution_count": 272,
   "id": "0a48182a-a25d-4f1b-8fcf-7f4f2ac861e4",
   "metadata": {},
   "outputs": [
    {
     "name": "stdout",
     "output_type": "stream",
     "text": [
      "<re.Match object; span=(0, 1), match='T'>\n",
      "<re.Match object; span=(1, 2), match='h'>\n",
      "<re.Match object; span=(2, 3), match='i'>\n",
      "<re.Match object; span=(3, 4), match='s'>\n",
      "<re.Match object; span=(4, 5), match=' '>\n",
      "<re.Match object; span=(5, 6), match='i'>\n",
      "<re.Match object; span=(6, 7), match='s'>\n",
      "<re.Match object; span=(7, 8), match=' '>\n",
      "<re.Match object; span=(8, 9), match='l'>\n",
      "<re.Match object; span=(9, 10), match='i'>\n",
      "<re.Match object; span=(10, 11), match='n'>\n",
      "<re.Match object; span=(11, 12), match='e'>\n",
      "<re.Match object; span=(12, 13), match=' '>\n",
      "<re.Match object; span=(13, 14), match='1'>\n",
      "<re.Match object; span=(14, 15), match=' '>\n",
      "<re.Match object; span=(15, 16), match='3'>\n",
      "<re.Match object; span=(16, 17), match='2'>\n",
      "<re.Match object; span=(17, 18), match='4'>\n",
      "<re.Match object; span=(18, 19), match='3'>\n",
      "<re.Match object; span=(19, 20), match='5'>\n",
      "<re.Match object; span=(20, 21), match='4'>\n",
      "<re.Match object; span=(21, 22), match='5'>\n",
      "<re.Match object; span=(22, 23), match='#'>\n",
      "<re.Match object; span=(23, 24), match='#'>\n",
      "<re.Match object; span=(24, 25), match='$'>\n",
      "<re.Match object; span=(25, 26), match='#'>\n",
      "<re.Match object; span=(26, 27), match='%'>\n",
      "<re.Match object; span=(28, 29), match='T'>\n",
      "<re.Match object; span=(29, 30), match='h'>\n",
      "<re.Match object; span=(30, 31), match='i'>\n",
      "<re.Match object; span=(31, 32), match='s'>\n",
      "<re.Match object; span=(32, 33), match=' '>\n",
      "<re.Match object; span=(33, 34), match='i'>\n",
      "<re.Match object; span=(34, 35), match='s'>\n",
      "<re.Match object; span=(35, 36), match=' '>\n",
      "<re.Match object; span=(36, 37), match='l'>\n",
      "<re.Match object; span=(37, 38), match='i'>\n",
      "<re.Match object; span=(38, 39), match='n'>\n",
      "<re.Match object; span=(39, 40), match='e'>\n",
      "<re.Match object; span=(40, 41), match=' '>\n",
      "<re.Match object; span=(41, 42), match='2'>\n",
      "<re.Match object; span=(43, 44), match='#'>\n",
      "<re.Match object; span=(44, 45), match='@'>\n",
      "<re.Match object; span=(45, 46), match='#'>\n",
      "<re.Match object; span=(46, 47), match='#'>\n",
      "<re.Match object; span=(47, 48), match='%'>\n",
      "<re.Match object; span=(48, 49), match='$'>\n",
      "<re.Match object; span=(49, 50), match='^'>\n",
      "<re.Match object; span=(51, 52), match='3'>\n",
      "<re.Match object; span=(52, 53), match='3'>\n",
      "<re.Match object; span=(53, 54), match='4'>\n",
      "<re.Match object; span=(54, 55), match='6'>\n",
      "<re.Match object; span=(55, 56), match='5'>\n",
      "<re.Match object; span=(56, 57), match='6'>\n",
      "<re.Match object; span=(57, 58), match='5'>\n",
      "<re.Match object; span=(58, 59), match='7'>\n",
      "<re.Match object; span=(60, 61), match='D'>\n",
      "<re.Match object; span=(61, 62), match='A'>\n",
      "<re.Match object; span=(62, 63), match='S'>\n",
      "<re.Match object; span=(63, 64), match='F'>\n",
      "<re.Match object; span=(64, 65), match='D'>\n",
      "<re.Match object; span=(65, 66), match='T'>\n",
      "<re.Match object; span=(66, 67), match='R'>\n",
      "<re.Match object; span=(67, 68), match='E'>\n",
      "<re.Match object; span=(68, 69), match='T'>\n",
      "<re.Match object; span=(69, 70), match='E'>\n",
      "<re.Match object; span=(70, 71), match='Y'>\n",
      "<re.Match object; span=(72, 73), match='a'>\n",
      "<re.Match object; span=(73, 74), match='D'>\n",
      "<re.Match object; span=(74, 75), match='h'>\n",
      "<re.Match object; span=(75, 76), match='g'>\n",
      "<re.Match object; span=(76, 77), match='h'>\n",
      "<re.Match object; span=(77, 78), match='g'>\n",
      "<re.Match object; span=(78, 79), match='f'>\n",
      "<re.Match object; span=(79, 80), match='h'>\n",
      "<re.Match object; span=(80, 81), match='e'>\n",
      "<re.Match object; span=(81, 82), match='g'>\n",
      "<re.Match object; span=(82, 83), match='w'>\n"
     ]
    }
   ],
   "source": [
    "text='''This is line 1 3243545##$#%\n",
    "This is line 2\n",
    "#@##%$^\n",
    "33465657\n",
    "DASFDTRETEY\n",
    "aDhghgfhegw'''\n",
    "\n",
    "pat=r'.'\n",
    "\n",
    "x=re.finditer(pat,text)\n",
    "for i in x:\n",
    "    print(i)"
   ]
  },
  {
   "cell_type": "markdown",
   "id": "0dbb9371-c796-4476-a373-7948ead4312f",
   "metadata": {},
   "source": [
    "# ^ Caret"
   ]
  },
  {
   "cell_type": "code",
   "execution_count": 275,
   "id": "8f18f13a-c0b8-4039-a5e4-f5bebe509833",
   "metadata": {},
   "outputs": [],
   "source": [
    "# - It matches the pattern at the beginning of the string."
   ]
  },
  {
   "cell_type": "code",
   "execution_count": 338,
   "id": "eecef143-5ce4-4b7c-8fd3-5a2039ecb618",
   "metadata": {},
   "outputs": [],
   "source": [
    "names=['ADITYA',\n",
    " 'SURESH',\n",
    " 'DEBOLINA',\n",
    " 'TANYA',\n",
    " 'REKHA',\n",
    " 'MAHESH',\n",
    "'HEMAVARTHINI',\n",
    " 'DEEPAK',\n",
    " 'JAYANTH',\n",
    " 'PARAM',\n",
    " 'RUPESH']"
   ]
  },
  {
   "cell_type": "code",
   "execution_count": 340,
   "id": "242c4fe5-3188-42fb-a37d-e4f89a9c97fb",
   "metadata": {},
   "outputs": [
    {
     "name": "stdout",
     "output_type": "stream",
     "text": [
      "['ADITYA', 'SURESH', 'DEBOLINA', 'TANYA', 'REKHA', 'MAHESH', 'HEMAVARTHINI', 'DEEPAK', 'JAYANTH', 'PARAM', 'RUPESH']\n"
     ]
    }
   ],
   "source": [
    "print(names)"
   ]
  },
  {
   "cell_type": "code",
   "execution_count": 342,
   "id": "1936aec5-011e-4f75-bc8e-748250124880",
   "metadata": {},
   "outputs": [
    {
     "name": "stdout",
     "output_type": "stream",
     "text": [
      "SURESH\n"
     ]
    }
   ],
   "source": [
    "for i in names:\n",
    "    if re.search('^S',i):\n",
    "        print(i)"
   ]
  },
  {
   "cell_type": "markdown",
   "id": "d814b11a-21e7-430a-b5e1-73f713f2034a",
   "metadata": {},
   "source": [
    "# $ Dollar"
   ]
  },
  {
   "cell_type": "code",
   "execution_count": 316,
   "id": "2705478c-9373-4236-b629-b269450aa7ea",
   "metadata": {},
   "outputs": [],
   "source": [
    "# - It matches the pattern at the end of the string."
   ]
  },
  {
   "cell_type": "code",
   "execution_count": 344,
   "id": "edfea702-1b2f-42ec-a75d-4522fa0e5cf6",
   "metadata": {},
   "outputs": [
    {
     "name": "stdout",
     "output_type": "stream",
     "text": [
      "<re.Match object; span=(15, 20), match='class'>\n"
     ]
    }
   ],
   "source": [
    "text='This is Python class'\n",
    "pat=r'class$'\n",
    "\n",
    "x=re.search(pat,text)\n",
    "print(x)"
   ]
  },
  {
   "cell_type": "code",
   "execution_count": 346,
   "id": "262f77b5-7b27-46f9-80fa-ecebbfe0225f",
   "metadata": {},
   "outputs": [
    {
     "name": "stdout",
     "output_type": "stream",
     "text": [
      "SURESH\n",
      "REKHA\n",
      "MAHESH\n",
      "HEMAVARTHINI\n",
      "JAYANTH\n",
      "RUPESH\n"
     ]
    }
   ],
   "source": [
    "for i in names:\n",
    "    if re.search('H',i):\n",
    "        print(i)"
   ]
  },
  {
   "cell_type": "code",
   "execution_count": 348,
   "id": "578341d9-051d-4869-9c0b-69145e6accb3",
   "metadata": {},
   "outputs": [
    {
     "name": "stdout",
     "output_type": "stream",
     "text": [
      "HEMAVARTHINI\n"
     ]
    }
   ],
   "source": [
    "for i in names:\n",
    "    if re.search('^H',i):\n",
    "        print(i)"
   ]
  },
  {
   "cell_type": "code",
   "execution_count": 350,
   "id": "bb29d8b1-abfb-4659-b8ab-4f670aa7dcf7",
   "metadata": {},
   "outputs": [
    {
     "name": "stdout",
     "output_type": "stream",
     "text": [
      "SURESH\n",
      "MAHESH\n",
      "JAYANTH\n",
      "RUPESH\n"
     ]
    }
   ],
   "source": [
    "for i in names:\n",
    "    if re.search('H$',i):\n",
    "        print(i)"
   ]
  },
  {
   "cell_type": "code",
   "execution_count": 352,
   "id": "5a23437f-047f-4be6-96de-29e7ceab479d",
   "metadata": {},
   "outputs": [
    {
     "name": "stdout",
     "output_type": "stream",
     "text": [
      "SURESH\n",
      "MAHESH\n",
      "RUPESH\n"
     ]
    }
   ],
   "source": [
    "for i in names:\n",
    "    if re.search('SH$',i):\n",
    "        print(i)"
   ]
  },
  {
   "cell_type": "code",
   "execution_count": 354,
   "id": "94810eec-2cdc-4703-a199-1169d7331750",
   "metadata": {},
   "outputs": [
    {
     "name": "stdout",
     "output_type": "stream",
     "text": [
      "JAYANTH\n"
     ]
    }
   ],
   "source": [
    "for i in names:\n",
    "    if re.search('TH$',i):\n",
    "        print(i)"
   ]
  },
  {
   "cell_type": "markdown",
   "id": "1c5fc6f6-c7cd-4144-a033-c2b6f59564a8",
   "metadata": {},
   "source": [
    "# | Or"
   ]
  },
  {
   "cell_type": "code",
   "execution_count": 357,
   "id": "ff68963f-cc15-4dee-a596-5987b546f342",
   "metadata": {},
   "outputs": [],
   "source": [
    "# abc|xyz - It will match abc or xyz whichever is possible."
   ]
  },
  {
   "cell_type": "code",
   "execution_count": 375,
   "id": "68f4f204-86ce-406e-bd76-9391997fadd8",
   "metadata": {},
   "outputs": [
    {
     "name": "stdout",
     "output_type": "stream",
     "text": [
      "<re.Match object; span=(0, 3), match='abc'>\n",
      "<re.Match object; span=(24, 27), match='abc'>\n",
      "<re.Match object; span=(31, 34), match='mno'>\n",
      "<re.Match object; span=(49, 52), match='mno'>\n",
      "<re.Match object; span=(56, 59), match='abc'>\n"
     ]
    }
   ],
   "source": [
    "text='abc.com jkl.in xyz.info abc.co mno.edu pqr.co.in mno.in abc.info'\n",
    "pat=r'abc|mno'\n",
    "\n",
    "for i in re.finditer(pat,text):\n",
    "    print(i)"
   ]
  },
  {
   "cell_type": "markdown",
   "id": "fca5537f-6a54-482f-9dbc-81fc51972bbe",
   "metadata": {},
   "source": [
    "# ( ) Group"
   ]
  },
  {
   "cell_type": "code",
   "execution_count": 378,
   "id": "19e70957-df73-430e-92b6-d93586063c47",
   "metadata": {},
   "outputs": [],
   "source": [
    "# - It is used to group or combine two patterns together."
   ]
  },
  {
   "cell_type": "code",
   "execution_count": 392,
   "id": "d25db087-370a-4d4e-b4d7-e4caa7e76f10",
   "metadata": {},
   "outputs": [
    {
     "name": "stdout",
     "output_type": "stream",
     "text": [
      "<re.Match object; span=(0, 7), match='abc.com'>\n",
      "<re.Match object; span=(24, 30), match='abc.co'>\n",
      "<re.Match object; span=(39, 45), match='abc.in'>\n",
      "<re.Match object; span=(63, 71), match='abc.info'>\n",
      "<re.Match object; span=(72, 79), match='abc.edu'>\n"
     ]
    }
   ],
   "source": [
    "text='abc.com jkl.in xyz.info abc.co mno.edu abc.in pqr.co.in mno.in abc.info abc.edu'\n",
    "# Match all websites of abc\n",
    "\n",
    "pat=r'abc(.com|.co|.info|.in|.edu)'\n",
    "\n",
    "for i in re.finditer(pat,text):\n",
    "    print(i)"
   ]
  },
  {
   "cell_type": "code",
   "execution_count": 400,
   "id": "332eba2d-54c5-4491-9d0d-05d3c5fbcde1",
   "metadata": {},
   "outputs": [
    {
     "name": "stdout",
     "output_type": "stream",
     "text": [
      "<re.Match object; span=(0, 7), match='abc.com'>\n",
      "<re.Match object; span=(8, 14), match='jkl.in'>\n",
      "<re.Match object; span=(24, 30), match='abc.co'>\n",
      "<re.Match object; span=(39, 45), match='jkl.co'>\n",
      "<re.Match object; span=(46, 52), match='abc.in'>\n",
      "<re.Match object; span=(70, 78), match='abc.info'>\n",
      "<re.Match object; span=(79, 86), match='abc.edu'>\n"
     ]
    }
   ],
   "source": [
    "text='abc.com jkl.in xyz.info abc.co mno.edu jkl.co abc.in pqr.co.in mno.in abc.info abc.edu'\n",
    "# Match all websites of abc and jkl\n",
    "\n",
    "pat=r'(abc|jkl)(.com|.co|.info|.in|.edu)'\n",
    "\n",
    "for i in re.finditer(pat,text):\n",
    "    print(i)"
   ]
  },
  {
   "cell_type": "code",
   "execution_count": 408,
   "id": "c0789253-dcef-49f0-9a3e-82640892cf74",
   "metadata": {},
   "outputs": [
    {
     "name": "stdout",
     "output_type": "stream",
     "text": [
      "<re.Match object; span=(0, 3), match='cat'>\n",
      "<re.Match object; span=(4, 7), match='rat'>\n",
      "<re.Match object; span=(20, 23), match='rat'>\n",
      "<re.Match object; span=(28, 31), match='mat'>\n",
      "<re.Match object; span=(36, 39), match='hat'>\n",
      "<re.Match object; span=(40, 43), match='mat'>\n"
     ]
    }
   ],
   "source": [
    "text='cat rat bed bat set rat pet mat red hat mat'\n",
    "# Match hat,cat,mat,rat\n",
    "\n",
    "pat=r'rat|cat|hat|mat'\n",
    "for i in re.finditer(pat,text):\n",
    "    print(i)"
   ]
  },
  {
   "cell_type": "code",
   "execution_count": 414,
   "id": "1b22f436-fcd5-4a9b-9220-fddd87e3d322",
   "metadata": {},
   "outputs": [
    {
     "name": "stdout",
     "output_type": "stream",
     "text": [
      "<re.Match object; span=(0, 1), match='c'>\n",
      "<re.Match object; span=(4, 5), match='r'>\n",
      "<re.Match object; span=(20, 21), match='r'>\n",
      "<re.Match object; span=(28, 31), match='mat'>\n",
      "<re.Match object; span=(32, 33), match='r'>\n",
      "<re.Match object; span=(36, 37), match='h'>\n",
      "<re.Match object; span=(40, 43), match='mat'>\n"
     ]
    }
   ],
   "source": [
    "text='cat rat bed bat set rat pet mat red hat mat'\n",
    "# Match hat,cat,mat,rat\n",
    "\n",
    "pat=r'r|c|h|mat'\n",
    "for i in re.finditer(pat,text):\n",
    "    print(i)"
   ]
  },
  {
   "cell_type": "code",
   "execution_count": 416,
   "id": "65cb331b-0b19-4741-abe4-5e4432d71920",
   "metadata": {},
   "outputs": [
    {
     "name": "stdout",
     "output_type": "stream",
     "text": [
      "<re.Match object; span=(0, 3), match='cat'>\n",
      "<re.Match object; span=(4, 7), match='rat'>\n",
      "<re.Match object; span=(20, 23), match='rat'>\n",
      "<re.Match object; span=(28, 31), match='mat'>\n",
      "<re.Match object; span=(36, 39), match='hat'>\n",
      "<re.Match object; span=(40, 43), match='mat'>\n"
     ]
    }
   ],
   "source": [
    "text='cat rat bed bat set rat pet mat red hat mat'\n",
    "# Match hat,cat,mat,rat\n",
    "\n",
    "pat=r'(r|c|h|m)at'\n",
    "for i in re.finditer(pat,text):\n",
    "    print(i)"
   ]
  },
  {
   "cell_type": "code",
   "execution_count": 430,
   "id": "9f20eaf3-92db-435d-8858-b04ca524f1d3",
   "metadata": {},
   "outputs": [
    {
     "name": "stdout",
     "output_type": "stream",
     "text": [
      "<re.Match object; span=(0, 3), match='cat'>\n",
      "<re.Match object; span=(4, 7), match='rat'>\n",
      "<re.Match object; span=(12, 15), match='bat'>\n",
      "<re.Match object; span=(20, 23), match='rat'>\n",
      "<re.Match object; span=(28, 31), match='mat'>\n",
      "<re.Match object; span=(40, 43), match='mat'>\n"
     ]
    }
   ],
   "source": [
    "text='cat rat bed bat set rat pet mat red hat mat'\n",
    "# Match hat,cat,mat,rat\n",
    "\n",
    "pat=r'[cmrbp]at'\n",
    "for i in re.finditer(pat,text):\n",
    "    print(i)"
   ]
  },
  {
   "cell_type": "markdown",
   "id": "590e1f09-cc61-44b3-b250-0993edfd0575",
   "metadata": {},
   "source": [
    "# Special Sequences"
   ]
  },
  {
   "cell_type": "code",
   "execution_count": 519,
   "id": "3fcace2e-9d11-46af-aa45-2ab67e11bedb",
   "metadata": {},
   "outputs": [],
   "source": [
    "# \\w - It matches all the alphanumeric characters (A-Z, a-z, 0-9, _)\n",
    "# \\W - It matches everything except the alphanumeric characters.\n",
    "\n",
    "# \\d - It matches the digits (0-9).\n",
    "# \\D - It matches evrything except the digits.\n",
    "\n",
    "# \\s - It matches the whitespace characters (space, \\n, \\t, \\r, \\v)\n",
    "# \\S - It matches everything except the whitespace characters\n",
    "\n",
    "# \\b - It matches a boundary character or word.\n",
    "# \\B - It matches not a boundary word."
   ]
  },
  {
   "cell_type": "code",
   "execution_count": 448,
   "id": "e3de79e3-00b2-4eda-ad23-d68cd7e57fc1",
   "metadata": {},
   "outputs": [
    {
     "name": "stdout",
     "output_type": "stream",
     "text": [
      "<re.Match object; span=(0, 1), match='3'>\n",
      "<re.Match object; span=(1, 2), match='D'>\n",
      "<re.Match object; span=(2, 3), match='3'>\n",
      "<re.Match object; span=(3, 4), match='a'>\n",
      "<re.Match object; span=(4, 5), match='G'>\n",
      "<re.Match object; span=(8, 9), match='4'>\n",
      "<re.Match object; span=(9, 10), match='T'>\n",
      "<re.Match object; span=(11, 12), match='_'>\n",
      "<re.Match object; span=(12, 13), match='4'>\n",
      "<re.Match object; span=(13, 14), match='U'>\n",
      "<re.Match object; span=(17, 18), match='_'>\n",
      "<re.Match object; span=(18, 19), match='d'>\n",
      "<re.Match object; span=(19, 20), match='K'>\n",
      "<re.Match object; span=(21, 22), match='5'>\n",
      "<re.Match object; span=(23, 24), match='_'>\n",
      "<re.Match object; span=(24, 25), match='O'>\n",
      "<re.Match object; span=(26, 27), match='g'>\n",
      "<re.Match object; span=(29, 30), match='L'>\n",
      "<re.Match object; span=(31, 32), match='5'>\n",
      "<re.Match object; span=(32, 33), match='h'>\n",
      "<re.Match object; span=(35, 36), match='6'>\n",
      "<re.Match object; span=(36, 37), match='7'>\n",
      "<re.Match object; span=(37, 38), match='j'>\n",
      "<re.Match object; span=(38, 39), match='_'>\n",
      "<re.Match object; span=(39, 40), match='8'>\n"
     ]
    }
   ],
   "source": [
    "text='3D3aG !\\n4T#_4U \\n$_dK%5\\t_O^g \\tL&5h-*67j_8'\n",
    "pat=r'\\w'\n",
    "\n",
    "for i in re.finditer(pat,text):\n",
    "    print(i)"
   ]
  },
  {
   "cell_type": "code",
   "execution_count": 450,
   "id": "abff1a98-4da5-4e79-b669-50e89628a7b4",
   "metadata": {},
   "outputs": [
    {
     "name": "stdout",
     "output_type": "stream",
     "text": [
      "<re.Match object; span=(5, 6), match=' '>\n",
      "<re.Match object; span=(6, 7), match='!'>\n",
      "<re.Match object; span=(7, 8), match='\\n'>\n",
      "<re.Match object; span=(10, 11), match='#'>\n",
      "<re.Match object; span=(14, 15), match=' '>\n",
      "<re.Match object; span=(15, 16), match='\\n'>\n",
      "<re.Match object; span=(16, 17), match='$'>\n",
      "<re.Match object; span=(20, 21), match='%'>\n",
      "<re.Match object; span=(22, 23), match='\\t'>\n",
      "<re.Match object; span=(25, 26), match='^'>\n",
      "<re.Match object; span=(27, 28), match=' '>\n",
      "<re.Match object; span=(28, 29), match='\\t'>\n",
      "<re.Match object; span=(30, 31), match='&'>\n",
      "<re.Match object; span=(33, 34), match='-'>\n",
      "<re.Match object; span=(34, 35), match='*'>\n"
     ]
    }
   ],
   "source": [
    "text='3D3aG !\\n4T#_4U \\n$_dK%5\\t_O^g \\tL&5h-*67j_8'\n",
    "pat=r'\\W'\n",
    "\n",
    "for i in re.finditer(pat,text):\n",
    "    print(i)"
   ]
  },
  {
   "cell_type": "code",
   "execution_count": 452,
   "id": "33d703b4-3544-406c-817e-4edc095e2db6",
   "metadata": {},
   "outputs": [
    {
     "name": "stdout",
     "output_type": "stream",
     "text": [
      "<re.Match object; span=(0, 1), match='3'>\n",
      "<re.Match object; span=(1, 2), match='D'>\n",
      "<re.Match object; span=(2, 3), match='3'>\n",
      "<re.Match object; span=(3, 4), match='a'>\n",
      "<re.Match object; span=(4, 5), match='G'>\n",
      "<re.Match object; span=(8, 9), match='4'>\n",
      "<re.Match object; span=(9, 10), match='T'>\n",
      "<re.Match object; span=(11, 12), match='_'>\n",
      "<re.Match object; span=(12, 13), match='4'>\n",
      "<re.Match object; span=(13, 14), match='U'>\n",
      "<re.Match object; span=(17, 18), match='_'>\n",
      "<re.Match object; span=(18, 19), match='d'>\n",
      "<re.Match object; span=(19, 20), match='K'>\n",
      "<re.Match object; span=(21, 22), match='5'>\n",
      "<re.Match object; span=(23, 24), match='_'>\n",
      "<re.Match object; span=(24, 25), match='O'>\n",
      "<re.Match object; span=(26, 27), match='g'>\n",
      "<re.Match object; span=(29, 30), match='L'>\n",
      "<re.Match object; span=(31, 32), match='5'>\n",
      "<re.Match object; span=(32, 33), match='h'>\n",
      "<re.Match object; span=(35, 36), match='6'>\n",
      "<re.Match object; span=(36, 37), match='7'>\n",
      "<re.Match object; span=(37, 38), match='j'>\n",
      "<re.Match object; span=(38, 39), match='_'>\n",
      "<re.Match object; span=(39, 40), match='8'>\n"
     ]
    }
   ],
   "source": [
    "text='3D3aG !\\n4T#_4U \\n$_dK%5\\t_O^g \\tL&5h-*67j_8'\n",
    "pat=r'[A-Za-z0-9_]'\n",
    "\n",
    "for i in re.finditer(pat,text):\n",
    "    print(i)"
   ]
  },
  {
   "cell_type": "code",
   "execution_count": 454,
   "id": "0cc45468-65a2-4aca-9106-660fd52d44e8",
   "metadata": {},
   "outputs": [
    {
     "name": "stdout",
     "output_type": "stream",
     "text": [
      "<re.Match object; span=(5, 6), match=' '>\n",
      "<re.Match object; span=(6, 7), match='!'>\n",
      "<re.Match object; span=(7, 8), match='\\n'>\n",
      "<re.Match object; span=(10, 11), match='#'>\n",
      "<re.Match object; span=(14, 15), match=' '>\n",
      "<re.Match object; span=(15, 16), match='\\n'>\n",
      "<re.Match object; span=(16, 17), match='$'>\n",
      "<re.Match object; span=(20, 21), match='%'>\n",
      "<re.Match object; span=(22, 23), match='\\t'>\n",
      "<re.Match object; span=(25, 26), match='^'>\n",
      "<re.Match object; span=(27, 28), match=' '>\n",
      "<re.Match object; span=(28, 29), match='\\t'>\n",
      "<re.Match object; span=(30, 31), match='&'>\n",
      "<re.Match object; span=(33, 34), match='-'>\n",
      "<re.Match object; span=(34, 35), match='*'>\n"
     ]
    }
   ],
   "source": [
    "text='3D3aG !\\n4T#_4U \\n$_dK%5\\t_O^g \\tL&5h-*67j_8'\n",
    "pat=r'[^A-Za-z0-9_]'\n",
    "\n",
    "for i in re.finditer(pat,text):\n",
    "    print(i)"
   ]
  },
  {
   "cell_type": "code",
   "execution_count": 460,
   "id": "46221bd9-8705-4183-87df-c0cd087e8abb",
   "metadata": {},
   "outputs": [
    {
     "name": "stdout",
     "output_type": "stream",
     "text": [
      "<re.Match object; span=(0, 1), match='3'>\n",
      "<re.Match object; span=(2, 3), match='3'>\n",
      "<re.Match object; span=(8, 9), match='4'>\n",
      "<re.Match object; span=(12, 13), match='4'>\n",
      "<re.Match object; span=(21, 22), match='5'>\n",
      "<re.Match object; span=(31, 32), match='5'>\n",
      "<re.Match object; span=(35, 36), match='6'>\n",
      "<re.Match object; span=(36, 37), match='7'>\n",
      "<re.Match object; span=(39, 40), match='8'>\n"
     ]
    }
   ],
   "source": [
    "text='3D3aG !\\n4T#_4U \\n$_dK%5\\t_O^g \\tL&5h-*67j_8'\n",
    "pat=r'\\d'\n",
    "\n",
    "for i in re.finditer(pat,text):\n",
    "    print(i)"
   ]
  },
  {
   "cell_type": "code",
   "execution_count": 464,
   "id": "3335069d-cee5-40c3-a91e-b9f095a13b9a",
   "metadata": {},
   "outputs": [
    {
     "name": "stdout",
     "output_type": "stream",
     "text": [
      "<re.Match object; span=(0, 1), match='3'>\n",
      "<re.Match object; span=(2, 3), match='3'>\n",
      "<re.Match object; span=(8, 9), match='4'>\n",
      "<re.Match object; span=(12, 13), match='4'>\n",
      "<re.Match object; span=(21, 22), match='5'>\n",
      "<re.Match object; span=(31, 32), match='5'>\n",
      "<re.Match object; span=(35, 36), match='6'>\n",
      "<re.Match object; span=(36, 37), match='7'>\n",
      "<re.Match object; span=(39, 40), match='8'>\n"
     ]
    }
   ],
   "source": [
    "text='3D3aG !\\n4T#_4U \\n$_dK%5\\t_O^g \\tL&5h-*67j_8'\n",
    "pat=r'[0-9]'\n",
    "\n",
    "for i in re.finditer(pat,text):\n",
    "    print(i)"
   ]
  },
  {
   "cell_type": "code",
   "execution_count": 468,
   "id": "44b77cd5-5a6f-466f-9ad3-80f81647f431",
   "metadata": {},
   "outputs": [
    {
     "name": "stdout",
     "output_type": "stream",
     "text": [
      "<re.Match object; span=(1, 2), match='D'>\n",
      "<re.Match object; span=(3, 4), match='a'>\n",
      "<re.Match object; span=(4, 5), match='G'>\n",
      "<re.Match object; span=(5, 6), match=' '>\n",
      "<re.Match object; span=(6, 7), match='!'>\n",
      "<re.Match object; span=(7, 8), match='\\n'>\n",
      "<re.Match object; span=(9, 10), match='T'>\n",
      "<re.Match object; span=(10, 11), match='#'>\n",
      "<re.Match object; span=(11, 12), match='_'>\n",
      "<re.Match object; span=(13, 14), match='U'>\n",
      "<re.Match object; span=(14, 15), match=' '>\n",
      "<re.Match object; span=(15, 16), match='\\n'>\n",
      "<re.Match object; span=(16, 17), match='$'>\n",
      "<re.Match object; span=(17, 18), match='_'>\n",
      "<re.Match object; span=(18, 19), match='d'>\n",
      "<re.Match object; span=(19, 20), match='K'>\n",
      "<re.Match object; span=(20, 21), match='%'>\n",
      "<re.Match object; span=(22, 23), match='\\t'>\n",
      "<re.Match object; span=(23, 24), match='_'>\n",
      "<re.Match object; span=(24, 25), match='O'>\n",
      "<re.Match object; span=(25, 26), match='^'>\n",
      "<re.Match object; span=(26, 27), match='g'>\n",
      "<re.Match object; span=(27, 28), match=' '>\n",
      "<re.Match object; span=(28, 29), match='\\t'>\n",
      "<re.Match object; span=(29, 30), match='L'>\n",
      "<re.Match object; span=(30, 31), match='&'>\n",
      "<re.Match object; span=(32, 33), match='h'>\n",
      "<re.Match object; span=(33, 34), match='-'>\n",
      "<re.Match object; span=(34, 35), match='*'>\n",
      "<re.Match object; span=(37, 38), match='j'>\n",
      "<re.Match object; span=(38, 39), match='_'>\n"
     ]
    }
   ],
   "source": [
    "text='3D3aG !\\n4T#_4U \\n$_dK%5\\t_O^g \\tL&5h-*67j_8'\n",
    "pat=r'\\D'\n",
    "\n",
    "for i in re.finditer(pat,text):\n",
    "    print(i)"
   ]
  },
  {
   "cell_type": "code",
   "execution_count": 472,
   "id": "23492b5a-4d2f-4100-bee5-e98dd1700685",
   "metadata": {},
   "outputs": [
    {
     "name": "stdout",
     "output_type": "stream",
     "text": [
      "<re.Match object; span=(1, 2), match='D'>\n",
      "<re.Match object; span=(3, 4), match='a'>\n",
      "<re.Match object; span=(4, 5), match='G'>\n",
      "<re.Match object; span=(5, 6), match=' '>\n",
      "<re.Match object; span=(6, 7), match='!'>\n",
      "<re.Match object; span=(7, 8), match='\\n'>\n",
      "<re.Match object; span=(9, 10), match='T'>\n",
      "<re.Match object; span=(10, 11), match='#'>\n",
      "<re.Match object; span=(11, 12), match='_'>\n",
      "<re.Match object; span=(13, 14), match='U'>\n",
      "<re.Match object; span=(14, 15), match=' '>\n",
      "<re.Match object; span=(15, 16), match='\\n'>\n",
      "<re.Match object; span=(16, 17), match='$'>\n",
      "<re.Match object; span=(17, 18), match='_'>\n",
      "<re.Match object; span=(18, 19), match='d'>\n",
      "<re.Match object; span=(19, 20), match='K'>\n",
      "<re.Match object; span=(20, 21), match='%'>\n",
      "<re.Match object; span=(22, 23), match='\\t'>\n",
      "<re.Match object; span=(23, 24), match='_'>\n",
      "<re.Match object; span=(24, 25), match='O'>\n",
      "<re.Match object; span=(25, 26), match='^'>\n",
      "<re.Match object; span=(26, 27), match='g'>\n",
      "<re.Match object; span=(27, 28), match=' '>\n",
      "<re.Match object; span=(28, 29), match='\\t'>\n",
      "<re.Match object; span=(29, 30), match='L'>\n",
      "<re.Match object; span=(30, 31), match='&'>\n",
      "<re.Match object; span=(32, 33), match='h'>\n",
      "<re.Match object; span=(33, 34), match='-'>\n",
      "<re.Match object; span=(34, 35), match='*'>\n",
      "<re.Match object; span=(37, 38), match='j'>\n",
      "<re.Match object; span=(38, 39), match='_'>\n"
     ]
    }
   ],
   "source": [
    "text='3D3aG !\\n4T#_4U \\n$_dK%5\\t_O^g \\tL&5h-*67j_8'\n",
    "pat=r'[^0-9]'\n",
    "\n",
    "for i in re.finditer(pat,text):\n",
    "    print(i)"
   ]
  },
  {
   "cell_type": "code",
   "execution_count": 474,
   "id": "981db8d5-0a05-4b8b-b2d4-da78507d617b",
   "metadata": {},
   "outputs": [
    {
     "name": "stdout",
     "output_type": "stream",
     "text": [
      "<re.Match object; span=(3, 4), match='\\n'>\n",
      "<re.Match object; span=(6, 7), match=' '>\n",
      "<re.Match object; span=(8, 9), match='\\n'>\n",
      "<re.Match object; span=(11, 12), match='\\x0b'>\n",
      "<re.Match object; span=(16, 17), match=' '>\n",
      "<re.Match object; span=(17, 18), match='\\n'>\n",
      "<re.Match object; span=(21, 22), match='\\r'>\n",
      "<re.Match object; span=(25, 26), match='\\t'>\n",
      "<re.Match object; span=(30, 31), match=' '>\n",
      "<re.Match object; span=(31, 32), match='\\t'>\n",
      "<re.Match object; span=(39, 40), match='\\r'>\n",
      "<re.Match object; span=(43, 44), match='\\x0b'>\n"
     ]
    }
   ],
   "source": [
    "text='3D3\\naG !\\n4T\\v#_4U \\n$_d\\rK%5\\t_O^g \\tL&5h-*6\\r7j_\\v8'\n",
    "pat=r'\\s'\n",
    "\n",
    "for i in re.finditer(pat,text):\n",
    "    print(i)"
   ]
  },
  {
   "cell_type": "code",
   "execution_count": 499,
   "id": "83727349-9c33-4054-bca1-a25aaddfdf83",
   "metadata": {},
   "outputs": [
    {
     "name": "stdout",
     "output_type": "stream",
     "text": [
      "ABCDon\n"
     ]
    }
   ],
   "source": [
    "print('Python\\rABCD')"
   ]
  },
  {
   "cell_type": "code",
   "execution_count": 503,
   "id": "37c9cc82-f5a6-41c4-9618-3902c163e6b5",
   "metadata": {},
   "outputs": [
    {
     "name": "stdout",
     "output_type": "stream",
     "text": [
      "<re.Match object; span=(0, 1), match='3'>\n",
      "<re.Match object; span=(1, 2), match='D'>\n",
      "<re.Match object; span=(2, 3), match='3'>\n",
      "<re.Match object; span=(4, 5), match='a'>\n",
      "<re.Match object; span=(5, 6), match='G'>\n",
      "<re.Match object; span=(7, 8), match='!'>\n",
      "<re.Match object; span=(9, 10), match='4'>\n",
      "<re.Match object; span=(10, 11), match='T'>\n",
      "<re.Match object; span=(12, 13), match='#'>\n",
      "<re.Match object; span=(13, 14), match='_'>\n",
      "<re.Match object; span=(14, 15), match='4'>\n",
      "<re.Match object; span=(15, 16), match='U'>\n",
      "<re.Match object; span=(18, 19), match='$'>\n",
      "<re.Match object; span=(19, 20), match='_'>\n",
      "<re.Match object; span=(20, 21), match='d'>\n",
      "<re.Match object; span=(22, 23), match='K'>\n",
      "<re.Match object; span=(23, 24), match='%'>\n",
      "<re.Match object; span=(24, 25), match='5'>\n",
      "<re.Match object; span=(26, 27), match='_'>\n",
      "<re.Match object; span=(27, 28), match='O'>\n",
      "<re.Match object; span=(28, 29), match='^'>\n",
      "<re.Match object; span=(29, 30), match='g'>\n",
      "<re.Match object; span=(32, 33), match='L'>\n",
      "<re.Match object; span=(33, 34), match='&'>\n",
      "<re.Match object; span=(34, 35), match='5'>\n",
      "<re.Match object; span=(35, 36), match='h'>\n",
      "<re.Match object; span=(36, 37), match='-'>\n",
      "<re.Match object; span=(37, 38), match='*'>\n",
      "<re.Match object; span=(38, 39), match='6'>\n",
      "<re.Match object; span=(40, 41), match='7'>\n",
      "<re.Match object; span=(41, 42), match='j'>\n",
      "<re.Match object; span=(42, 43), match='_'>\n",
      "<re.Match object; span=(44, 45), match='8'>\n"
     ]
    }
   ],
   "source": [
    "text='3D3\\naG !\\n4T\\v#_4U \\n$_d\\rK%5\\t_O^g \\tL&5h-*6\\r7j_\\v8'\n",
    "pat=r'\\S'\n",
    "\n",
    "for i in re.finditer(pat,text):\n",
    "    print(i)"
   ]
  },
  {
   "cell_type": "code",
   "execution_count": 507,
   "id": "36497c90-97eb-4de8-a3be-e669137e2701",
   "metadata": {},
   "outputs": [
    {
     "name": "stdout",
     "output_type": "stream",
     "text": [
      "<re.Match object; span=(0, 3), match='cat'>\n",
      "<re.Match object; span=(19, 22), match='cat'>\n",
      "<re.Match object; span=(39, 42), match='cat'>\n",
      "<re.Match object; span=(44, 47), match='cat'>\n",
      "<re.Match object; span=(64, 67), match='cat'>\n"
     ]
    }
   ],
   "source": [
    "text='catherine bought a cat and named it Tomcat. catherine loves the cat a lot.'\n",
    "pat=r'cat'\n",
    "\n",
    "for i in re.finditer(pat,text):\n",
    "    print(i)"
   ]
  },
  {
   "cell_type": "code",
   "execution_count": 509,
   "id": "c17eb173-b687-43f0-a07d-7449dd1d15bd",
   "metadata": {},
   "outputs": [
    {
     "name": "stdout",
     "output_type": "stream",
     "text": [
      "<re.Match object; span=(0, 3), match='cat'>\n",
      "<re.Match object; span=(19, 22), match='cat'>\n",
      "<re.Match object; span=(44, 47), match='cat'>\n",
      "<re.Match object; span=(64, 67), match='cat'>\n"
     ]
    }
   ],
   "source": [
    "text='catherine bought a cat and named it Tomcat. catherine loves the cat a lot.'\n",
    "pat=r'\\bcat'\n",
    "\n",
    "for i in re.finditer(pat,text):\n",
    "    print(i)"
   ]
  },
  {
   "cell_type": "code",
   "execution_count": 511,
   "id": "e1b13013-a067-48d7-bcb3-e4e6c94ed948",
   "metadata": {},
   "outputs": [
    {
     "name": "stdout",
     "output_type": "stream",
     "text": [
      "<re.Match object; span=(19, 22), match='cat'>\n",
      "<re.Match object; span=(39, 42), match='cat'>\n",
      "<re.Match object; span=(64, 67), match='cat'>\n"
     ]
    }
   ],
   "source": [
    "text='catherine bought a cat and named it Tomcat. catherine loves the cat a lot.'\n",
    "pat=r'cat\\b'\n",
    "\n",
    "for i in re.finditer(pat,text):\n",
    "    print(i)"
   ]
  },
  {
   "cell_type": "code",
   "execution_count": 517,
   "id": "6557c978-0214-4664-8b5c-289a093911fa",
   "metadata": {},
   "outputs": [
    {
     "name": "stdout",
     "output_type": "stream",
     "text": [
      "<re.Match object; span=(19, 22), match='cat'>\n",
      "<re.Match object; span=(64, 67), match='cat'>\n"
     ]
    }
   ],
   "source": [
    "text='catherine bought a cat and named it Tomcat. catherine loves the cat a lot.'\n",
    "pat=r'\\bcat\\b'\n",
    "\n",
    "for i in re.finditer(pat,text):\n",
    "    print(i)"
   ]
  },
  {
   "cell_type": "code",
   "execution_count": 523,
   "id": "34fa2fcd-64b7-44ca-b6f7-51f2c43c7111",
   "metadata": {},
   "outputs": [
    {
     "name": "stdout",
     "output_type": "stream",
     "text": [
      "<re.Match object; span=(39, 42), match='cat'>\n"
     ]
    }
   ],
   "source": [
    "text='catherine bought a cat and named it Tomcat. catherine loves the cat a lot.'\n",
    "pat=r'\\Bcat'\n",
    "\n",
    "for i in re.finditer(pat,text):\n",
    "    print(i)"
   ]
  },
  {
   "cell_type": "code",
   "execution_count": 525,
   "id": "4051b116-beb3-4bf3-9f63-7471c00bba81",
   "metadata": {},
   "outputs": [
    {
     "name": "stdout",
     "output_type": "stream",
     "text": [
      "<re.Match object; span=(0, 3), match='cat'>\n",
      "<re.Match object; span=(44, 47), match='cat'>\n"
     ]
    }
   ],
   "source": [
    "text='catherine bought a cat and named it Tomcat. catherine loves the cat a lot.'\n",
    "pat=r'cat\\B'\n",
    "\n",
    "for i in re.finditer(pat,text):\n",
    "    print(i)"
   ]
  },
  {
   "cell_type": "code",
   "execution_count": 529,
   "id": "a3678423-843f-4ace-b6cb-e433303044fc",
   "metadata": {},
   "outputs": [
    {
     "name": "stdout",
     "output_type": "stream",
     "text": [
      "<re.Match object; span=(39, 42), match='cat'>\n"
     ]
    }
   ],
   "source": [
    "text='catherine bought a cat and named it TomcatJerry. catherine loves the cat a lot.'\n",
    "pat=r'\\Bcat\\B'\n",
    "\n",
    "for i in re.finditer(pat,text):\n",
    "    print(i)"
   ]
  },
  {
   "cell_type": "markdown",
   "id": "22184c20-ce1e-475a-8013-89819fc75923",
   "metadata": {},
   "source": [
    "# Quantifiers"
   ]
  },
  {
   "cell_type": "code",
   "execution_count": 532,
   "id": "c41b5d69-bc1e-408d-b931-28bb20936bb6",
   "metadata": {},
   "outputs": [],
   "source": [
    "# - Quantifiers are used to match the continuous repeatitions."
   ]
  },
  {
   "cell_type": "code",
   "execution_count": 611,
   "id": "791000e4-976a-4151-989e-80432229af8c",
   "metadata": {},
   "outputs": [],
   "source": [
    "# {2} - It will match 2 repeatitions.\n",
    "# {3,5} - It will match the repeatitions between 3 and 5\n",
    "\n",
    "# ? - It matches 0 or 1 repeatition.\n",
    "\n",
    "# * - It matches 0 or more repeatitions.\n",
    "\n",
    "# + - It matches 1 or more repeatition."
   ]
  },
  {
   "cell_type": "code",
   "execution_count": 548,
   "id": "b4d40d79-ad08-4bf9-bf56-2c18da198acf",
   "metadata": {},
   "outputs": [
    {
     "name": "stdout",
     "output_type": "stream",
     "text": [
      "<re.Match object; span=(0, 2), match='24'>\n",
      "<re.Match object; span=(3, 5), match='45'>\n",
      "<re.Match object; span=(7, 9), match='25'>\n",
      "<re.Match object; span=(9, 11), match='89'>\n",
      "<re.Match object; span=(12, 14), match='78'>\n",
      "<re.Match object; span=(14, 16), match='94'>\n",
      "<re.Match object; span=(18, 20), match='36'>\n",
      "<re.Match object; span=(20, 22), match='97'>\n",
      "<re.Match object; span=(22, 24), match='45'>\n",
      "<re.Match object; span=(27, 29), match='45'>\n",
      "<re.Match object; span=(30, 32), match='74'>\n"
     ]
    }
   ],
   "source": [
    "text='24 456 2589 78945 369745 2 45 745'\n",
    "pat=r'[0-9]{2}'\n",
    "\n",
    "for i in re.finditer(pat,text):\n",
    "    print(i)"
   ]
  },
  {
   "cell_type": "code",
   "execution_count": 550,
   "id": "de0106f4-518f-456b-9b41-d5e64662c5a7",
   "metadata": {},
   "outputs": [
    {
     "name": "stdout",
     "output_type": "stream",
     "text": [
      "<re.Match object; span=(3, 6), match='456'>\n",
      "<re.Match object; span=(7, 10), match='258'>\n",
      "<re.Match object; span=(12, 15), match='789'>\n",
      "<re.Match object; span=(18, 21), match='369'>\n",
      "<re.Match object; span=(21, 24), match='745'>\n",
      "<re.Match object; span=(30, 33), match='745'>\n"
     ]
    }
   ],
   "source": [
    "text='24 456 2589 78945 369745 2 45 745'\n",
    "pat=r'[0-9]{3}'\n",
    "\n",
    "for i in re.finditer(pat,text):\n",
    "    print(i)"
   ]
  },
  {
   "cell_type": "code",
   "execution_count": 552,
   "id": "cc590d33-4e73-495b-90ab-ffaa9e01fc22",
   "metadata": {},
   "outputs": [
    {
     "name": "stdout",
     "output_type": "stream",
     "text": [
      "<re.Match object; span=(7, 11), match='2589'>\n",
      "<re.Match object; span=(12, 16), match='7894'>\n",
      "<re.Match object; span=(18, 22), match='3697'>\n"
     ]
    }
   ],
   "source": [
    "text='24 456 2589 78945 369745 2 45 745'\n",
    "pat=r'[0-9]{4}'\n",
    "\n",
    "for i in re.finditer(pat,text):\n",
    "    print(i)"
   ]
  },
  {
   "cell_type": "code",
   "execution_count": 556,
   "id": "fa1b6e3b-afd2-4df7-bedf-0bbe02d4d610",
   "metadata": {},
   "outputs": [
    {
     "name": "stdout",
     "output_type": "stream",
     "text": [
      "<re.Match object; span=(3, 6), match='456'>\n",
      "<re.Match object; span=(30, 33), match='745'>\n"
     ]
    }
   ],
   "source": [
    "text='24 456 2589 78945 369745 2 45 745'\n",
    "pat=r'\\b[0-9]{3}\\b'\n",
    "\n",
    "for i in re.finditer(pat,text):\n",
    "    print(i)"
   ]
  },
  {
   "cell_type": "code",
   "execution_count": 572,
   "id": "4117b3e5-f47d-4b30-8ff4-04c4ba717c1f",
   "metadata": {},
   "outputs": [
    {
     "name": "stdout",
     "output_type": "stream",
     "text": [
      "<re.Match object; span=(3, 6), match='456'>\n",
      "<re.Match object; span=(7, 11), match='2589'>\n",
      "<re.Match object; span=(12, 17), match='78945'>\n",
      "<re.Match object; span=(18, 23), match='36974'>\n",
      "<re.Match object; span=(23, 28), match='56688'>\n",
      "<re.Match object; span=(35, 38), match='745'>\n"
     ]
    }
   ],
   "source": [
    "text='24 456 2589 78945 36974566889 2 45 745'\n",
    "pat=r'[0-9]{3,5}'\n",
    "\n",
    "for i in re.finditer(pat,text):\n",
    "    print(i)"
   ]
  },
  {
   "cell_type": "code",
   "execution_count": 576,
   "id": "450322e1-a934-4536-b78d-e23636e5f22c",
   "metadata": {},
   "outputs": [],
   "source": [
    "# ?- If the pattern is there then it will match only only one repeatition.\n",
    "# - If the pattern is not there still it will match and will return empty string."
   ]
  },
  {
   "cell_type": "code",
   "execution_count": 580,
   "id": "08a7779d-a380-4158-9a10-7aa75feef6a2",
   "metadata": {},
   "outputs": [
    {
     "name": "stdout",
     "output_type": "stream",
     "text": [
      "<re.Match object; span=(0, 1), match='a'>\n",
      "<re.Match object; span=(1, 2), match='b'>\n",
      "<re.Match object; span=(2, 2), match=''>\n",
      "<re.Match object; span=(3, 4), match='c'>\n",
      "<re.Match object; span=(4, 4), match=''>\n",
      "<re.Match object; span=(5, 5), match=''>\n",
      "<re.Match object; span=(6, 7), match='d'>\n",
      "<re.Match object; span=(7, 8), match='e'>\n",
      "<re.Match object; span=(8, 8), match=''>\n",
      "<re.Match object; span=(9, 9), match=''>\n",
      "<re.Match object; span=(10, 11), match='k'>\n",
      "<re.Match object; span=(11, 11), match=''>\n"
     ]
    }
   ],
   "source": [
    "text='ab2c45de66k'\n",
    "pat=r'[a-z]?'\n",
    "\n",
    "for i in re.finditer(pat,text):\n",
    "    print(i)"
   ]
  },
  {
   "cell_type": "code",
   "execution_count": 587,
   "id": "04ae48c7-b3fa-4825-9ed0-6a1b8328c113",
   "metadata": {},
   "outputs": [
    {
     "name": "stdout",
     "output_type": "stream",
     "text": [
      "<re.Match object; span=(0, 0), match=''>\n",
      "<re.Match object; span=(1, 1), match=''>\n",
      "<re.Match object; span=(2, 3), match='2'>\n",
      "<re.Match object; span=(3, 3), match=''>\n",
      "<re.Match object; span=(4, 5), match='4'>\n",
      "<re.Match object; span=(5, 6), match='5'>\n",
      "<re.Match object; span=(6, 6), match=''>\n",
      "<re.Match object; span=(7, 7), match=''>\n",
      "<re.Match object; span=(8, 9), match='6'>\n",
      "<re.Match object; span=(9, 10), match='6'>\n",
      "<re.Match object; span=(10, 11), match='6'>\n",
      "<re.Match object; span=(11, 11), match=''>\n",
      "<re.Match object; span=(12, 12), match=''>\n"
     ]
    }
   ],
   "source": [
    "text='ab2c45de666k'\n",
    "pat=r'[0-9]?'\n",
    "\n",
    "for i in re.finditer(pat,text):\n",
    "    print(i)"
   ]
  },
  {
   "cell_type": "code",
   "execution_count": 591,
   "id": "7ed3e494-619d-4796-9063-cd4429039e7a",
   "metadata": {},
   "outputs": [],
   "source": [
    "# * - If the patter is there it will match all the repeatitions.\n",
    "# - If the pattern is not there still it will match and will return the empty string."
   ]
  },
  {
   "cell_type": "code",
   "execution_count": 593,
   "id": "376b6ade-40b5-47ba-aacb-82dd6eaba289",
   "metadata": {},
   "outputs": [
    {
     "name": "stdout",
     "output_type": "stream",
     "text": [
      "<re.Match object; span=(0, 2), match='ab'>\n",
      "<re.Match object; span=(2, 2), match=''>\n",
      "<re.Match object; span=(3, 4), match='c'>\n",
      "<re.Match object; span=(4, 4), match=''>\n",
      "<re.Match object; span=(5, 5), match=''>\n",
      "<re.Match object; span=(6, 12), match='degree'>\n",
      "<re.Match object; span=(12, 12), match=''>\n",
      "<re.Match object; span=(13, 13), match=''>\n",
      "<re.Match object; span=(14, 14), match=''>\n",
      "<re.Match object; span=(15, 19), match='kite'>\n",
      "<re.Match object; span=(19, 19), match=''>\n"
     ]
    }
   ],
   "source": [
    "text='ab2c45degree666kite'\n",
    "pat=r'[a-z]*'\n",
    "\n",
    "for i in re.finditer(pat,text):\n",
    "    print(i)"
   ]
  },
  {
   "cell_type": "code",
   "execution_count": 595,
   "id": "2ac9105e-dcb9-4eaa-8378-21d9172c3fe2",
   "metadata": {},
   "outputs": [
    {
     "name": "stdout",
     "output_type": "stream",
     "text": [
      "<re.Match object; span=(0, 0), match=''>\n",
      "<re.Match object; span=(1, 1), match=''>\n",
      "<re.Match object; span=(2, 3), match='2'>\n",
      "<re.Match object; span=(3, 3), match=''>\n",
      "<re.Match object; span=(4, 6), match='45'>\n",
      "<re.Match object; span=(6, 6), match=''>\n",
      "<re.Match object; span=(7, 7), match=''>\n",
      "<re.Match object; span=(8, 8), match=''>\n",
      "<re.Match object; span=(9, 9), match=''>\n",
      "<re.Match object; span=(10, 10), match=''>\n",
      "<re.Match object; span=(11, 11), match=''>\n",
      "<re.Match object; span=(12, 15), match='666'>\n",
      "<re.Match object; span=(15, 15), match=''>\n",
      "<re.Match object; span=(16, 16), match=''>\n",
      "<re.Match object; span=(17, 17), match=''>\n",
      "<re.Match object; span=(18, 18), match=''>\n",
      "<re.Match object; span=(19, 19), match=''>\n"
     ]
    }
   ],
   "source": [
    "text='ab2c45degree666kite'\n",
    "pat=r'[0-9]*'\n",
    "\n",
    "for i in re.finditer(pat,text):\n",
    "    print(i)"
   ]
  },
  {
   "cell_type": "code",
   "execution_count": 609,
   "id": "3a10857f-e526-4514-943e-ec1e3de3122f",
   "metadata": {},
   "outputs": [
    {
     "name": "stdout",
     "output_type": "stream",
     "text": [
      "<re.Match object; span=(0, 4), match='Amit'>\n",
      "<re.Match object; span=(10, 16), match='Suresh'>\n",
      "<re.Match object; span=(30, 36), match='Mahesh'>\n",
      "<re.Match object; span=(44, 51), match='Jayanth'>\n",
      "<re.Match object; span=(62, 74), match='Hemavarthini'>\n",
      "<re.Match object; span=(81, 87), match='Deepak'>\n",
      "<re.Match object; span=(96, 102), match='Aditya'>\n"
     ]
    }
   ],
   "source": [
    "text='Amit @#$%$Suresh23dafsdfer345 Mahesh #@$#%$^Jayanth @34ffgeg56Hemavarthini 233435Deepak revanth Aditya'\n",
    "pat=r'[A-Z][a-z]*'\n",
    "\n",
    "for i in re.finditer(pat,text):\n",
    "    print(i)"
   ]
  },
  {
   "cell_type": "code",
   "execution_count": 613,
   "id": "f6c09880-2885-4f2b-b063-c8af5fb4ac94",
   "metadata": {},
   "outputs": [],
   "source": [
    "# + If the pattern is there it will match all the repeatitions.\n",
    "# - If the patter is not there then it will not match anything."
   ]
  },
  {
   "cell_type": "code",
   "execution_count": 615,
   "id": "5b4a000e-e2ed-4f4b-9e61-b9be1a1eec40",
   "metadata": {},
   "outputs": [
    {
     "name": "stdout",
     "output_type": "stream",
     "text": [
      "<re.Match object; span=(0, 2), match='ab'>\n",
      "<re.Match object; span=(3, 4), match='c'>\n",
      "<re.Match object; span=(6, 12), match='degree'>\n",
      "<re.Match object; span=(15, 19), match='kite'>\n"
     ]
    }
   ],
   "source": [
    "text='ab2c45degree666kite'\n",
    "pat=r'[a-z]+'\n",
    "\n",
    "for i in re.finditer(pat,text):\n",
    "    print(i)"
   ]
  },
  {
   "cell_type": "code",
   "execution_count": 617,
   "id": "a639ee8a-ad6e-40d8-9095-110f9f92849c",
   "metadata": {},
   "outputs": [
    {
     "name": "stdout",
     "output_type": "stream",
     "text": [
      "<re.Match object; span=(2, 3), match='2'>\n",
      "<re.Match object; span=(4, 6), match='45'>\n",
      "<re.Match object; span=(12, 15), match='666'>\n"
     ]
    }
   ],
   "source": [
    "text='ab2c45degree666kite'\n",
    "pat=r'[0-9]+'\n",
    "\n",
    "for i in re.finditer(pat,text):\n",
    "    print(i)"
   ]
  },
  {
   "cell_type": "code",
   "execution_count": 625,
   "id": "96fc12d2-cb5c-4997-875b-e53b39f3782c",
   "metadata": {},
   "outputs": [
    {
     "name": "stdout",
     "output_type": "stream",
     "text": [
      "<re.Match object; span=(0, 6), match='Aditya'>\n",
      "<re.Match object; span=(7, 13), match='Yogesh'>\n",
      "<re.Match object; span=(14, 20), match='Deepak'>\n",
      "<re.Match object; span=(21, 28), match='Bhavani'>\n",
      "<re.Match object; span=(29, 38), match='Paramdeep'>\n",
      "<re.Match object; span=(39, 44), match='Tania'>\n",
      "<re.Match object; span=(55, 57), match='Dl'>\n"
     ]
    }
   ],
   "source": [
    "text='Aditya Yogesh Deepak Bhavani Paramdeep Tania K W P 123 Dl'\n",
    "pat=r'[A-Z][a-z]+'\n",
    "for i in re.finditer(pat,text):\n",
    "    print(i)"
   ]
  },
  {
   "cell_type": "code",
   "execution_count": 627,
   "id": "690434e7-5e00-4076-a48c-610f08f54737",
   "metadata": {},
   "outputs": [
    {
     "name": "stdout",
     "output_type": "stream",
     "text": [
      "<re.Match object; span=(0, 6), match='Aditya'>\n",
      "<re.Match object; span=(7, 13), match='Yogesh'>\n",
      "<re.Match object; span=(14, 20), match='Deepak'>\n",
      "<re.Match object; span=(21, 28), match='Bhavani'>\n",
      "<re.Match object; span=(29, 38), match='Paramdeep'>\n",
      "<re.Match object; span=(39, 44), match='Tania'>\n",
      "<re.Match object; span=(45, 46), match='K'>\n",
      "<re.Match object; span=(47, 48), match='W'>\n",
      "<re.Match object; span=(49, 50), match='P'>\n",
      "<re.Match object; span=(55, 57), match='Dl'>\n"
     ]
    }
   ],
   "source": [
    "text='Aditya Yogesh Deepak Bhavani Paramdeep Tania K W P 123 Dl'\n",
    "pat=r'[A-Z][a-z]*'\n",
    "for i in re.finditer(pat,text):\n",
    "    print(i)"
   ]
  },
  {
   "cell_type": "code",
   "execution_count": 629,
   "id": "2297a3bd-2159-460f-ba8d-b3b238b29e81",
   "metadata": {},
   "outputs": [],
   "source": [
    "# + -> mandatory\n",
    "# * -> optional"
   ]
  },
  {
   "cell_type": "code",
   "execution_count": 637,
   "id": "5e584ba1-1824-4191-8cfc-d95a2a88f37f",
   "metadata": {},
   "outputs": [
    {
     "name": "stdout",
     "output_type": "stream",
     "text": [
      "<re.Match object; span=(0, 2), match='Mr'>\n",
      "<re.Match object; span=(11, 14), match='Mrs'>\n",
      "<re.Match object; span=(29, 31), match='Ms'>\n",
      "<re.Match object; span=(47, 49), match='Mr'>\n",
      "<re.Match object; span=(66, 68), match='Mr'>\n"
     ]
    }
   ],
   "source": [
    "text='''Mr. Yogesh\n",
    "Mrs_Sarah\n",
    "#@$#%$%\n",
    "Ms_ Tina\n",
    "12435466\n",
    "Mr Param\n",
    "354656676\n",
    "Mr_Harish\n",
    "!#$%$^%&%&\n",
    "Peter\n",
    "Adam'''\n",
    "\n",
    "pat=r'Mrs|Mr|Ms'\n",
    "\n",
    "for i in re.finditer(pat,text):\n",
    "    print(i)"
   ]
  },
  {
   "cell_type": "code",
   "execution_count": 741,
   "id": "77e9cc55-f149-4d51-818d-cd4b3fd4ddad",
   "metadata": {},
   "outputs": [
    {
     "name": "stdout",
     "output_type": "stream",
     "text": [
      "<re.Match object; span=(0, 10), match='Mr. Yogesh'>\n",
      "<re.Match object; span=(11, 20), match='Mrs_Sarah'>\n",
      "<re.Match object; span=(29, 37), match='Ms_ Tina'>\n",
      "<re.Match object; span=(47, 54), match='MrParam'>\n"
     ]
    }
   ],
   "source": [
    "text='''Mr. Yogesh\n",
    "Mrs_Sarah\n",
    "#@$#%$%\n",
    "Ms_ Tina\n",
    "12435466\n",
    "MrParam\n",
    "354656676\n",
    "Mr__________Harish\n",
    "!#$%$^%&%&\n",
    "Peter\n",
    "Mr.............Adam\n",
    "Ms                Rekha\n",
    "D\n",
    "Mr. K123\n",
    "Mrs J'''\n",
    "\n",
    "pat=r'M(rs|r|s)\\.?_? ?[A-Z][a-z]+'\n",
    "\n",
    "for i in re.finditer(pat,text):\n",
    "    print(i)"
   ]
  },
  {
   "cell_type": "code",
   "execution_count": 743,
   "id": "54bafa8e-9c65-4ac4-a820-ede59922ab4c",
   "metadata": {},
   "outputs": [
    {
     "name": "stdout",
     "output_type": "stream",
     "text": [
      "<re.Match object; span=(0, 10), match='Mr. Yogesh'>\n",
      "<re.Match object; span=(11, 20), match='Mrs_Sarah'>\n",
      "<re.Match object; span=(29, 37), match='Ms_ Tina'>\n",
      "<re.Match object; span=(47, 54), match='MrParam'>\n",
      "<re.Match object; span=(65, 83), match='Mr__________Harish'>\n",
      "<re.Match object; span=(101, 120), match='Mr.............Adam'>\n",
      "<re.Match object; span=(121, 144), match='Ms                Rekha'>\n"
     ]
    }
   ],
   "source": [
    "text='''Mr. Yogesh\n",
    "Mrs_Sarah\n",
    "#@$#%$%\n",
    "Ms_ Tina\n",
    "12435466\n",
    "MrParam\n",
    "354656676\n",
    "Mr__________Harish\n",
    "!#$%$^%&%&\n",
    "Peter\n",
    "Mr.............Adam\n",
    "Ms                Rekha\n",
    "D\n",
    "Mr. K123\n",
    "Mrs J'''\n",
    "\n",
    "pat=r'M(rs|r|s)\\.*_* *[A-Z][a-z]+'\n",
    "\n",
    "for i in re.finditer(pat,text):\n",
    "    print(i)"
   ]
  },
  {
   "cell_type": "code",
   "execution_count": 701,
   "id": "2617c0bc-5928-4b00-b5a0-728c5f4799a7",
   "metadata": {},
   "outputs": [
    {
     "name": "stdout",
     "output_type": "stream",
     "text": [
      "<re.Match object; span=(29, 37), match='Ms_ Tina'>\n"
     ]
    }
   ],
   "source": [
    "text='''Mr. Yogesh\n",
    "Mrs_Sarah\n",
    "#@$#%$%\n",
    "Ms_ Tina\n",
    "12435466\n",
    "MrParam\n",
    "354656676\n",
    "Mr__________Harish\n",
    "!#$%$^%&%&\n",
    "Peter\n",
    "Mr.............Adam\n",
    "Ms                Rekha\n",
    "D\n",
    "Mr. K123\n",
    "Mrs J'''\n",
    "\n",
    "pat=r'M(rs|r|s)\\.?_? ?[A-Z][a-z]{3}\\b'\n",
    "\n",
    "for i in re.finditer(pat,text):\n",
    "    print(i)"
   ]
  },
  {
   "cell_type": "code",
   "execution_count": 723,
   "id": "53ad1f3a-6d9e-4109-9c49-8d40e98bad7b",
   "metadata": {},
   "outputs": [
    {
     "name": "stdout",
     "output_type": "stream",
     "text": [
      "<re.Match object; span=(0, 21), match='ashishsom@learnbay.co'>\n",
      "<re.Match object; span=(40, 63), match='jayanth_singh@gmail.com'>\n",
      "<re.Match object; span=(94, 117), match='suresh.1995@hotmail.com'>\n",
      "<re.Match object; span=(147, 172), match='deepak1234@rediffmail.com'>\n",
      "<re.Match object; span=(187, 210), match='university@cambridge.in'>\n",
      "<re.Match object; span=(225, 236), match='info@gov.in'>\n",
      "<re.Match object; span=(237, 258), match='tania.kumar@yahoo.com'>\n"
     ]
    }
   ],
   "source": [
    "text='''ashishsom@learnbay.co\n",
    "abc.com\n",
    "@#@$#%$^&\n",
    "jayanth_singh@gmail.com\n",
    "334565767\n",
    "123@gmail.com\n",
    "@info\n",
    "suresh.1995@hotmail.com\n",
    "23546567688\n",
    "FAKEmail@goahead\n",
    "deepak1234@rediffmail.com\n",
    "SDFGGTHTHYHYT\n",
    "university@cambridge.in\n",
    "##$$%^%&^&*&*\n",
    "info@gov.in\n",
    "tania.kumar@yahoo.com'''\n",
    "\n",
    "pat=r'[a-z]+_?\\.?[0-9]*[a-z]*@[a-z]+(.com|.co|.edu|.in)'\n",
    "\n",
    "for i in re.finditer(pat,text):\n",
    "    print(i)"
   ]
  },
  {
   "cell_type": "code",
   "execution_count": 727,
   "id": "e19c96ca-d3a4-4514-946b-67a7a06f269b",
   "metadata": {},
   "outputs": [
    {
     "name": "stdout",
     "output_type": "stream",
     "text": [
      "<re.Match object; span=(0, 21), match='ashishsom@learnbay.co'>\n",
      "<re.Match object; span=(40, 63), match='jayanth_singh@gmail.com'>\n",
      "<re.Match object; span=(94, 117), match='suresh.1995@hotmail.com'>\n",
      "<re.Match object; span=(147, 172), match='deepak1234@rediffmail.com'>\n",
      "<re.Match object; span=(187, 210), match='university@cambridge.in'>\n",
      "<re.Match object; span=(225, 236), match='info@gov.in'>\n",
      "<re.Match object; span=(237, 258), match='tania.kumar@yahoo.com'>\n"
     ]
    }
   ],
   "source": [
    "pat=r'[a-z]+_?\\.?[0-9]*[a-z]*@[a-z]+\\.(com|co|edu|in)'\n",
    "\n",
    "for i in re.finditer(pat,text):\n",
    "    print(i)"
   ]
  },
  {
   "cell_type": "code",
   "execution_count": 737,
   "id": "98688745-3d3e-42b6-9e76-3a877cddabbb",
   "metadata": {},
   "outputs": [
    {
     "name": "stdout",
     "output_type": "stream",
     "text": [
      "<re.Match object; span=(0, 21), match='ashishsom@learnbay.co'>\n",
      "<re.Match object; span=(40, 63), match='jayanth_singh@gmail.com'>\n",
      "<re.Match object; span=(94, 117), match='suresh.1995@hotmail.com'>\n",
      "<re.Match object; span=(147, 172), match='deepak1234@rediffmail.com'>\n",
      "<re.Match object; span=(187, 210), match='university@cambridge.in'>\n",
      "<re.Match object; span=(225, 236), match='info@gov.in'>\n",
      "<re.Match object; span=(237, 258), match='tania.kumar@yahoo.com'>\n"
     ]
    }
   ],
   "source": [
    "pat=r'[a-z]+_?\\.?[0-9]*[a-z]*@[a-z]+\\.(com|co|edu|in)'\n",
    "\n",
    "for i in re.finditer(pat,text):\n",
    "    print(i)"
   ]
  },
  {
   "cell_type": "markdown",
   "id": "37921c5a-fc37-48a5-b66d-f9880a1bd308",
   "metadata": {},
   "source": [
    "# Matching the metacharacters"
   ]
  },
  {
   "cell_type": "code",
   "execution_count": 754,
   "id": "47b38517-0117-4150-b1b2-3b030281eccf",
   "metadata": {},
   "outputs": [
    {
     "name": "stdout",
     "output_type": "stream",
     "text": [
      "<re.Match object; span=(2, 3), match='$'>\n",
      "<re.Match object; span=(5, 6), match='$'>\n",
      "<re.Match object; span=(12, 13), match='$'>\n",
      "<re.Match object; span=(13, 14), match='$'>\n",
      "<re.Match object; span=(15, 16), match='$'>\n",
      "<re.Match object; span=(19, 20), match='$'>\n",
      "<re.Match object; span=(21, 22), match='$'>\n"
     ]
    }
   ],
   "source": [
    "text='ab$sg$fd!@#@$$#$122$3$34'\n",
    "# Match $\n",
    "\n",
    "pat=r'\\$'\n",
    "\n",
    "for i in re.finditer(pat,text):\n",
    "    print(i)"
   ]
  },
  {
   "cell_type": "code",
   "execution_count": 762,
   "id": "50d5cc3f-d16e-4c07-a603-f2fca44ffd45",
   "metadata": {},
   "outputs": [
    {
     "name": "stdout",
     "output_type": "stream",
     "text": [
      "<re.Match object; span=(13, 14), match='^'>\n",
      "<re.Match object; span=(24, 25), match='^'>\n",
      "<re.Match object; span=(34, 35), match='^'>\n",
      "<re.Match object; span=(39, 40), match='^'>\n",
      "<re.Match object; span=(43, 44), match='^'>\n"
     ]
    }
   ],
   "source": [
    "text='212243@4 %qsh^000&000*00^0000gvdgg^ ASD^DFf^g'\n",
    "# Match ^\n",
    "\n",
    "pat=r'\\^'\n",
    "\n",
    "for i in re.finditer(pat,text):\n",
    "    print(i)"
   ]
  },
  {
   "cell_type": "code",
   "execution_count": 766,
   "id": "f50080c5-94d5-412e-9e80-c1381472d3f8",
   "metadata": {},
   "outputs": [
    {
     "name": "stdout",
     "output_type": "stream",
     "text": [
      "<re.Match object; span=(1, 2), match='.'>\n",
      "<re.Match object; span=(6, 7), match='.'>\n",
      "<re.Match object; span=(13, 14), match='.'>\n",
      "<re.Match object; span=(19, 20), match='.'>\n",
      "<re.Match object; span=(25, 26), match='.'>\n",
      "<re.Match object; span=(31, 32), match='.'>\n",
      "<re.Match object; span=(34, 35), match='.'>\n"
     ]
    }
   ],
   "source": [
    "text='a.bcd .12345 .!@@$#.%$% A.SSDFG.GY.T'\n",
    "# Match .\n",
    "\n",
    "pat=r'\\.'\n",
    "\n",
    "for i in re.finditer(pat,text):\n",
    "    print(i)"
   ]
  },
  {
   "cell_type": "code",
   "execution_count": 778,
   "id": "d5f28999-945c-45c7-89f2-3e10f71a7509",
   "metadata": {},
   "outputs": [
    {
     "name": "stdout",
     "output_type": "stream",
     "text": [
      "<re.Match object; span=(5, 6), match='['>\n",
      "<re.Match object; span=(14, 15), match='['>\n",
      "<re.Match object; span=(15, 16), match=']'>\n",
      "<re.Match object; span=(16, 17), match=']'>\n",
      "<re.Match object; span=(17, 18), match='['>\n"
     ]
    }
   ],
   "source": [
    "text='abcd [  bdhbdh[]][2345S(DF)DGw(re(rr45()46'\n",
    "pat=r'[][]'\n",
    "\n",
    "for i in re.finditer(pat,text):\n",
    "    print(i)"
   ]
  },
  {
   "cell_type": "code",
   "execution_count": null,
   "id": "7d181d9e-7087-41af-8742-057f6c38c5f7",
   "metadata": {},
   "outputs": [],
   "source": []
  }
 ],
 "metadata": {
  "kernelspec": {
   "display_name": "Python 3 (ipykernel)",
   "language": "python",
   "name": "python3"
  },
  "language_info": {
   "codemirror_mode": {
    "name": "ipython",
    "version": 3
   },
   "file_extension": ".py",
   "mimetype": "text/x-python",
   "name": "python",
   "nbconvert_exporter": "python",
   "pygments_lexer": "ipython3",
   "version": "3.11.4"
  }
 },
 "nbformat": 4,
 "nbformat_minor": 5
}
