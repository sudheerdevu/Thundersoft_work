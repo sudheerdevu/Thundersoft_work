{
 "cells": [
  {
   "cell_type": "markdown",
   "id": "0d25b162-0b89-40b8-babf-ffcd84df2c47",
   "metadata": {},
   "source": [
    "# Regex"
   ]
  },
  {
   "cell_type": "code",
   "execution_count": 5,
   "id": "e10b7320-0872-4a21-a616-acdccdd74743",
   "metadata": {},
   "outputs": [],
   "source": [
    "import re"
   ]
  },
  {
   "cell_type": "markdown",
   "id": "0435e434-3718-4d51-a3f7-db9d06bb75de",
   "metadata": {},
   "source": [
    "# re.sub()"
   ]
  },
  {
   "cell_type": "code",
   "execution_count": 8,
   "id": "8c3a9d83-e35a-4ed0-b846-b41ee70afe85",
   "metadata": {},
   "outputs": [],
   "source": [
    "# - It takes a pattern, a replaccement string and a string as arguments.\n",
    "# - It replaces the pattern the replacement string and returns a string."
   ]
  },
  {
   "cell_type": "code",
   "execution_count": 14,
   "id": "7123725d-413b-40b9-b1e1-7825222af6ac",
   "metadata": {},
   "outputs": [],
   "source": [
    "# re.sub(pattern, replacement, string)"
   ]
  },
  {
   "cell_type": "code",
   "execution_count": 12,
   "id": "8afe449e-fdd4-4a2e-a9f0-bf90e810cc89",
   "metadata": {},
   "outputs": [
    {
     "name": "stdout",
     "output_type": "stream",
     "text": [
      "This is Python class\n"
     ]
    }
   ],
   "source": [
    "text='This is Java class'\n",
    "new_text=text.replace('Java','Python')\n",
    "print(new_text)"
   ]
  },
  {
   "cell_type": "code",
   "execution_count": 18,
   "id": "f9b03736-9365-4f18-b8bf-ea0da83d8d65",
   "metadata": {},
   "outputs": [
    {
     "name": "stdout",
     "output_type": "stream",
     "text": [
      "This is Python class\n"
     ]
    }
   ],
   "source": [
    "text='This is Java class'\n",
    "pat=r'Java'\n",
    "new_text=re.sub(pat,'Python',text)\n",
    "print(new_text)"
   ]
  },
  {
   "cell_type": "code",
   "execution_count": 20,
   "id": "5d830fa6-f134-44fa-822e-075be2e91f69",
   "metadata": {},
   "outputs": [
    {
     "data": {
      "text/plain": [
       "'Debolina'"
      ]
     },
     "execution_count": 20,
     "metadata": {},
     "output_type": "execute_result"
    }
   ],
   "source": [
    "text='D$e^bo&lina'\n",
    "pat=r'[@#$%^&]'\n",
    "re.sub(pat,'',text)"
   ]
  },
  {
   "cell_type": "code",
   "execution_count": 24,
   "id": "560754f5-ce1f-4345-a3be-7b9d7960128c",
   "metadata": {},
   "outputs": [
    {
     "name": "stdout",
     "output_type": "stream",
     "text": [
      "Amit Debolina Yogesh Deepak Aditya Tanya Jayanth\n"
     ]
    }
   ],
   "source": [
    "names='A124mit D$e^bo&lina Yo#g#e@s@h Dee3$567pak Aditya T@a#n$ya Jay%an^t&h'\n",
    "pat=r'[~!@#$%^&*()_+:;0-9]'\n",
    "clean_names=re.sub(pat,'',names)\n",
    "print(clean_names)"
   ]
  },
  {
   "cell_type": "code",
   "execution_count": 26,
   "id": "77038a71-e040-4b76-9b07-80485d36cfff",
   "metadata": {},
   "outputs": [
    {
     "name": "stdout",
     "output_type": "stream",
     "text": [
      "Amit Debolina Yogesh Deepak Aditya Tanya Jayanth\n"
     ]
    }
   ],
   "source": [
    "names='A124mit D$e^bo&lina Yo#g#e@s@h Dee3$567pak Aditya T@a#n$ya Jay%an^t&h'\n",
    "pat=r'[^A-Za-z ]'\n",
    "clean_names=re.sub(pat,'',names)\n",
    "print(clean_names)"
   ]
  },
  {
   "cell_type": "markdown",
   "id": "5435e968-39ec-4708-bc64-dc42d2291394",
   "metadata": {},
   "source": [
    "# re.split()"
   ]
  },
  {
   "cell_type": "code",
   "execution_count": 29,
   "id": "53dbbb1c-a200-4761-bb7b-7579e2f7975c",
   "metadata": {},
   "outputs": [],
   "source": [
    "# - It takes a pattern and a string as arguments.\n",
    "# - It splits the string from the pattern and returns a list."
   ]
  },
  {
   "cell_type": "code",
   "execution_count": 31,
   "id": "17942b1c-f1f7-450e-8f69-a9e2e116b1c4",
   "metadata": {},
   "outputs": [],
   "source": [
    "# re.split(pattern,string)"
   ]
  },
  {
   "cell_type": "code",
   "execution_count": 37,
   "id": "ba48f6ef-9af6-4de1-ab1d-6e7e6ab12e23",
   "metadata": {},
   "outputs": [
    {
     "name": "stdout",
     "output_type": "stream",
     "text": [
      "['Amit', 'Debolina', 'Yogesh', 'Deepak', 'Aditya', 'Tanya', 'Jayanth']\n"
     ]
    }
   ],
   "source": [
    "names=\"Amit#Debolina#Yogesh#Deepak#Aditya#Tanya#Jayanth\"\n",
    "print(names.split('#'))"
   ]
  },
  {
   "cell_type": "code",
   "execution_count": 53,
   "id": "b6e5c3db-7636-4607-8862-34605581915e",
   "metadata": {},
   "outputs": [
    {
     "name": "stdout",
     "output_type": "stream",
     "text": [
      "['Amit', 'Debolina@Yogesh!Deepak%Aditya*Tanya$Jayanth']\n"
     ]
    }
   ],
   "source": [
    "names=\"Amit#Debolina@Yogesh!Deepak%Aditya*Tanya$Jayanth\"\n",
    "print(names.split('#'))"
   ]
  },
  {
   "cell_type": "code",
   "execution_count": 55,
   "id": "f63a3da9-903d-4191-9603-79e799f3140e",
   "metadata": {},
   "outputs": [
    {
     "name": "stdout",
     "output_type": "stream",
     "text": [
      "['Amit', 'Debolina', 'Yogesh', 'Deepak', 'Aditya', 'Tanya', 'Jayanth']\n"
     ]
    }
   ],
   "source": [
    "pat=r'[~!@#$%^&*()_+]'\n",
    "print(re.split(pat,names))"
   ]
  },
  {
   "cell_type": "code",
   "execution_count": 61,
   "id": "cc8cc240-3d5d-4b2a-b48b-6acc52f4bcb6",
   "metadata": {},
   "outputs": [
    {
     "name": "stdout",
     "output_type": "stream",
     "text": [
      "['Amit', 'Debolina', 'Yogesh', 'Deepak', 'Aditya', 'Tanya', 'Jayanth']\n"
     ]
    }
   ],
   "source": [
    "names=\"Amit#####Debolina@@Yogesh!!!!!!Deepak%%%%%%Aditya*Tanya$Jayanth\"\n",
    "pat=r'[~!@#$%^&*()_+]+'\n",
    "print(re.split(pat,names))"
   ]
  },
  {
   "cell_type": "markdown",
   "id": "6357129d-de4b-4954-9c16-d5e96da427d1",
   "metadata": {},
   "source": [
    "# re.compile()"
   ]
  },
  {
   "cell_type": "code",
   "execution_count": 66,
   "id": "02c2891b-48e1-4b4f-90df-3905eb73826d",
   "metadata": {},
   "outputs": [],
   "source": [
    "# - It is used to create a regex pattern.\n",
    "# - It returns a regex pattern object."
   ]
  },
  {
   "cell_type": "code",
   "execution_count": 68,
   "id": "05fbddd2-c6e2-491e-81a3-42720ff50ce4",
   "metadata": {},
   "outputs": [
    {
     "data": {
      "text/plain": [
       "<re.Match object; span=(0, 5), match='India'>"
      ]
     },
     "execution_count": 68,
     "metadata": {},
     "output_type": "execute_result"
    }
   ],
   "source": [
    "text='India is my country'\n",
    "pat=r'India'\n",
    "re.match(pat,text)"
   ]
  },
  {
   "cell_type": "code",
   "execution_count": 70,
   "id": "0d5720ce-a4b8-45f5-92c7-255dc3c1eb7d",
   "metadata": {},
   "outputs": [
    {
     "name": "stdout",
     "output_type": "stream",
     "text": [
      "re.compile('India') <class 're.Pattern'>\n"
     ]
    }
   ],
   "source": [
    "text='India is my country'\n",
    "pat=re.compile('India')\n",
    "print(pat,type(pat))"
   ]
  },
  {
   "cell_type": "code",
   "execution_count": 72,
   "id": "55d170f3-86f7-440c-9aa4-aa4b8b332b67",
   "metadata": {},
   "outputs": [
    {
     "data": {
      "text/plain": [
       "<re.Match object; span=(0, 5), match='India'>"
      ]
     },
     "execution_count": 72,
     "metadata": {},
     "output_type": "execute_result"
    }
   ],
   "source": [
    "pat.match(text)"
   ]
  },
  {
   "cell_type": "code",
   "execution_count": 74,
   "id": "1910d2ac-ee34-4d64-bf6d-517c7e8f835a",
   "metadata": {},
   "outputs": [
    {
     "data": {
      "text/plain": [
       "<re.Match object; span=(0, 5), match='India'>"
      ]
     },
     "execution_count": 74,
     "metadata": {},
     "output_type": "execute_result"
    }
   ],
   "source": [
    "text='India is my country, I love India and India is in Asia'\n",
    "pat=re.compile('India')\n",
    "pat.search(text)"
   ]
  },
  {
   "cell_type": "code",
   "execution_count": 76,
   "id": "d708d764-194d-46bb-8079-fc9ce8684675",
   "metadata": {},
   "outputs": [
    {
     "data": {
      "text/plain": [
       "['India', 'India', 'India']"
      ]
     },
     "execution_count": 76,
     "metadata": {},
     "output_type": "execute_result"
    }
   ],
   "source": [
    "pat.findall(text)"
   ]
  },
  {
   "cell_type": "code",
   "execution_count": 80,
   "id": "1b83d36c-4684-4c9b-b9f4-972cd478d1ec",
   "metadata": {},
   "outputs": [
    {
     "name": "stdout",
     "output_type": "stream",
     "text": [
      "<re.Match object; span=(0, 5), match='India'>\n",
      "<re.Match object; span=(28, 33), match='India'>\n",
      "<re.Match object; span=(38, 43), match='India'>\n"
     ]
    }
   ],
   "source": [
    "for i in pat.finditer(text):\n",
    "    print(i)"
   ]
  },
  {
   "cell_type": "markdown",
   "id": "e66647be-e03f-4b03-a639-11a73de71c41",
   "metadata": {},
   "source": [
    "# Significance of r"
   ]
  },
  {
   "cell_type": "code",
   "execution_count": 85,
   "id": "0bd17eb3-e0e2-4264-8346-eacb4c90d746",
   "metadata": {},
   "outputs": [],
   "source": [
    "# Python special sequences- \\n, \\t, \\r, \\v\n",
    "# Regex special sequences- \\w, \\W, \\s, \\S, \\d, \\D, \\b, \\B\n",
    "\n",
    "# Escape sequence (\\) can escape the Python sequence but can not escape the regex sequence.\n",
    "# To escape the regex sequence we have to convert the string into raw string.\n",
    "# r is used to convert a string into raw string."
   ]
  },
  {
   "cell_type": "code",
   "execution_count": 87,
   "id": "4077eb07-57a7-450c-b0ad-0528e53f814c",
   "metadata": {},
   "outputs": [
    {
     "data": {
      "text/plain": [
       "['India', 'India', 'India']"
      ]
     },
     "execution_count": 87,
     "metadata": {},
     "output_type": "execute_result"
    }
   ],
   "source": [
    "text='India is my country, I love India and India is in Asia'\n",
    "pat='India'\n",
    "re.findall(pat,text)"
   ]
  },
  {
   "cell_type": "code",
   "execution_count": 89,
   "id": "1df758d5-64ec-4709-a06d-ff5bd9ae1837",
   "metadata": {},
   "outputs": [
    {
     "name": "stdout",
     "output_type": "stream",
     "text": [
      "['Amit', 'Debolina', 'Yogesh', 'Deepak', 'Aditya', 'Tanya', 'Jayanth']\n"
     ]
    }
   ],
   "source": [
    "names=\"Amit#####Debolina@@Yogesh!!!!!!Deepak%%%%%%Aditya*Tanya$Jayanth\"\n",
    "pat='[~!@#$%^&*()_+]+'\n",
    "print(re.split(pat,names))"
   ]
  },
  {
   "cell_type": "code",
   "execution_count": 95,
   "id": "df7fc66c-2dc5-4703-8e9a-717cec1b6ae2",
   "metadata": {},
   "outputs": [
    {
     "name": "stdout",
     "output_type": "stream",
     "text": [
      "<re.Match object; span=(3, 4), match='\\n'>\n",
      "<re.Match object; span=(6, 7), match='\\t'>\n",
      "<re.Match object; span=(9, 10), match='\\r'>\n",
      "<re.Match object; span=(11, 12), match='\\x0b'>\n"
     ]
    }
   ],
   "source": [
    "text='abc\\nd!\\t@@\\r$\\v$%'\n",
    "pat='[\\n\\r\\v\\t]'\n",
    "for i in re.finditer(pat,text):\n",
    "    print(i)"
   ]
  },
  {
   "cell_type": "code",
   "execution_count": 101,
   "id": "395a62f5-fb56-4895-9887-518735785dbc",
   "metadata": {},
   "outputs": [
    {
     "name": "stdout",
     "output_type": "stream",
     "text": [
      "<re.Match object; span=(1, 3), match='\\\\s'>\n"
     ]
    }
   ],
   "source": [
    "text='a\\sbc\\nd!\\t@@\\r$\\v$%\\d'\n",
    "pat=r'\\\\s'\n",
    "for i in re.finditer(pat,text):\n",
    "    print(i)"
   ]
  },
  {
   "cell_type": "code",
   "execution_count": 111,
   "id": "98fee4e0-c729-4044-ba92-b3a253e2ee73",
   "metadata": {},
   "outputs": [
    {
     "name": "stdout",
     "output_type": "stream",
     "text": [
      "<re.Match object; span=(7, 9), match='\\\\w'>\n"
     ]
    }
   ],
   "source": [
    "text='a\\sbc\\nd\\w!\\t@@\\r$\\v$%\\d1234_##$#%'\n",
    "pat=r'\\\\w'\n",
    "for i in re.finditer(pat,text):\n",
    "    print(i)"
   ]
  },
  {
   "cell_type": "markdown",
   "id": "21a54e7c-9732-4719-a97c-955245b7a66e",
   "metadata": {},
   "source": [
    "# Matching email id's from a text file email.txt"
   ]
  },
  {
   "cell_type": "code",
   "execution_count": 172,
   "id": "8f2f287c-a77b-417f-a5c4-d7e5018bc8a5",
   "metadata": {},
   "outputs": [],
   "source": [
    "with open('emails.txt','r') as f:\n",
    "    text=f.read()"
   ]
  },
  {
   "cell_type": "code",
   "execution_count": 174,
   "id": "39980762-ede4-4278-bab1-26b544df11c9",
   "metadata": {},
   "outputs": [
    {
     "name": "stdout",
     "output_type": "stream",
     "text": [
      "I must use this opportunity and medium to implore you to exercise the utmost indulgence to keep this matter extraordinarily confidential, Whatever your decision, while I await your prompt response. Thank you and God Bless. \n",
      "Best Regards \n",
      "\n",
      "\n",
      "COL. MICHAEL BUNDU(RTD). mikebundu@rediffmail.com\n",
      "\n",
      "N\\B. When you are calling my line, you dial your country Intl. access code, then you dial directly, do not include my country code i.e. (243). Just dial your country Intl. access code + 88216 52098236. You can also contact me through the above email addresses.\n",
      "\n",
      "\n",
      "From r  Thu Nov 14 10:46:28 2002\n",
      "Return-Path: <elixwilliam@usa.com>\n",
      "X-Sieve: cmu-sieve 2.0\n",
      "Return-Path: <elixwilliam@usa.com>\n",
      "Message-Id: <200211141546.gAEFk9eS019479@cs.CU>\n",
      "From: \"MRS MARIAM ABACHA\" <elixwilliam@usa.com>\n",
      "Reply-To: presidentwifeng@indiatimes.com\n",
      "To: webmaster@aclweb.org\n",
      "Date: Thu, 14 Nov 2002 16:46:11 +0100\n",
      "Subject: TRUST TRANSACTION\n",
      "X-Mailer: Microsoft Outlook Express 5.00.2919.6900 DM\n",
      "MIME-Version: 1.0\n",
      "Content-Type: text/plain; charset=\"us-ascii\"\n",
      "Content-Transfer-Encoding: 8bit\n",
      "X-MIME-Autoconverted: from quoted-printable to 8bit by sideshowmel.si.UM id gAEFkKj05391\n",
      "Status: O\n",
      "\n",
      "Dear Sir,\n",
      "\n",
      "A Very Good day to you   \n",
      "\n",
      "I am Mrs Mariam Abacha. I got your contact from a\n",
      "close Associate of mine who works with the Nigerian\n",
      "Chamber of Commerce and Industry  who visited your\n",
      "country for an International Trade Fair upon my quest\n",
      "for a trusted and reliable foreign businessman or\n",
      "company. \n",
      "He however gave me the assurance that you can be\n",
      "trusted to handle a transaction of this magnitude.\n",
      "Following the sudden death of my husband General Sani\n",
      "Abacha the late Former Head of State of Nigeria in\n",
      "1998, I have been thrown into a state of utter\n",
      "confusion, frustration and hopelessness \n",
      "by the present civilian administration, I have been\n",
      "subjected to physical and psychological torture by the\n",
      "security agents in the country. \n",
      "As a widow that is so traumatized, I have lost\n",
      "confidence with anybody within the country. You must\n",
      "have heard over the media reports and the internet on\n",
      "the recovery of various huge sums of money deposited\n",
      "by my husband in different security firms abroad, some\n",
      "companies willingly give up their secrets and\n",
      "disclosed our money confidently lodged there or many\n",
      "outright blackmail. In fact the total sum discovered\n",
      "by\n",
      " the Government so far is in the tune of $700. Million\n",
      "dollars. And they are not relenting to make me poor\n",
      "for life. I will give you more information  as to this\n",
      "regard as soon as you reply. I repose great confidence\n",
      "in you hence my approach to you due to security\n",
      "network placed on my day to day  affairs I cannot\n",
      "afford to visit the embassy so that is why I decided\n",
      "to contact you and I hope you will not betray my\n",
      "confidence in you. I have deposited  the sum of US$35\n",
      "million dollars with a security firm abroad whose name\n",
      "is withheld for now until we open communication. I\n",
      "shall be grateful if you could receive this fund into\n",
      "your account for safekeeping. This arrangement is\n",
      "known to you and my family lawyer who shall deal\n",
      "directly with you as I am still under house arrest. I\n",
      "am seriously considering to settle down abroad as soon\n",
      "as this fund get into your account so that I can start\n",
      "all over again if only you wish, but if it is\n",
      "possible, \n",
      "just help me in diverting this funds into your bank\n",
      "account which will accrue you 20% of this fund. Please\n",
      "honesty is the watchword in this transaction. And\n",
      "should you accept my terms, kindly send me an email\n",
      "signifying your interest to my email box as this is\n",
      "only safe for me now so that we can commence\n",
      " communication immediately. And upon receipt of your\n",
      "message of interest, I shall give you a more detailed\n",
      "picture of things. In case you don't accept please do\n",
      "not let me out to the security as I am giving you this\n",
      "information in total trust and confidence.NO RISK IS\n",
      "INVOLVED AS IAM STILL IN CONTROL OF MY HUSBANDS\n",
      "AFFAIRS. I will greatly appreciate if you accept my\n",
      "proposal in good faith. \n",
      "\n",
      "Please expedite action.    \n",
      "\n",
      "Prefer all further correspondence be sent via\n",
      "presidentwifeng@indiatimes.com but please copy this email:profadams@\n",
      "usa.com\n",
      "\n",
      "sincerely yours   \n",
      "\n",
      "Hajia Mariam Abacha.    \n",
      "for certain comfirmations. Please logg into this internet sites\n",
      "www.swissmoney.net/briefs.htm and www.thisdayonline.com.ng\n",
      "click on archive, then click on 2001, click on march 10th,\n",
      "\n",
      "\n",
      "\n",
      "\n",
      "From r  Thu Nov 14 18:40:51 2002\n",
      "Return-Path: <anayoawka@hotmail.com>\n",
      "X-Sieve: cmu-sieve 2.0\n",
      "Return-Path: <anayoawka@hotmail.com>\n",
      "Message-Id: <200211142340.gAENeXDj026957@bluewhale.cs.CU>\n",
      "From: \" DR. ANAYO AWKA \" <anayoawka@hotmail.com>\n",
      "Date: Fri, 15 Nov 2002 00:40:13\n",
      "To: webmaster@aclweb.org\n",
      "Subject: REQUEST FOR YOUR UNRESERVED ASSISTANCE\n",
      "MIME-Version: 1.0\n",
      "Content-Type: text/plain;charset=\"iso-8859-1\"\n",
      "Content-Transfer-Encoding: 7bit\n",
      "Status: RO\n",
      "\n",
      "FROM: DR. ANAYO AWKA BANK MANAGER \n",
      "(UNION BANK OF NIGERIA PLC)MARINA LAGOS\n",
      " ATTENTION: PRESIDENT/CEO\n",
      " Dear Sir,\n",
      "\n",
      " REQUEST FOR YOUR UNRESERVED ASSISTANCE\n",
      " Firstly, I must solicit your confidence in this transaction, this is by virtue of its nature as being utterly confidential and top secret.Though I know that a transaction of this magnitude will make any oneapprehensive and worried, but I am assuring you that all will be well at theend of the day. We have decided to contact you due to the urgency of thistransaction, as we have been reliably informed of it's swiftness andconfidentiality.\n",
      "\n",
      " Let me start by first introducing myself properly to you. I am DR.ANAYO AWKA , a Manager at the Union Bank Nigeria PLC, Lagos. I came to know of you in my private search for a reliable and reputable person to handle a very confidential transaction, which involves the transfer of a huge sum of money to a foreign account requiring maximum confidence. A foreigner, Late Engineer William Adams, an oil Merchant /contractor with the federal Government of Nigeria, until his death three years ago in a ghastly air crash, banked with us here at the Union Bank PLC ,Lagos, and had a closing balance of USD$22.2M (Twenty-Two Million, Two Hundred Thousand United States Dollars)\n",
      "which the bank now unquestionably expects to be claimed by any of his available foreign next of kin or alternatively be donated to a discredited trust fund for arms and ammunition at a military war collage here in Nigeria.\n",
      "\n",
      " Fervent valuable efforts are being made by the Union Bank to get in touch with any of late Engr. William Adams's next of kin (he had no known wife and children) that the management under the influence of our chairman, board of directors, Retired Major General Kalu Uke Kalu, that an arrangement for the fund to be declared \"UNCLIAMABLE \" and then be subsequently donated to the trust fund for Arms and Ammunition, which will further enhance the\n",
      "course of war in Africa and the world in general. In order to avert this negative development, myself and some of my trusted colleagues in the bank now seek for your permission to have you stand as late Engr.WILLIAMS ADAMSs next of kin so that the fund, USD$22.2M, would be subsequently transferred and paid into your bank account as the\n",
      "beneficiary next of kin. All documents and proves to enable you get this fund have been carefully worked out and we are assuring you a 100% risk free involvement. Your share would be 30% of the total amoun!t.! 10% has been set aside for expenses, while the rest would befor myself and my colleagues for purposes in your country. \n",
      "\n",
      "If this proposal is OK by you and you do not wish to take advantage of the trust we hope to bestow on you and your company, then kindly get to me immediately via my e-mail address furnishing me with your most confidential telephone, fax and e-mail, so that I can forward to you the relevant details of this transaction. Thank you in advance\n",
      "for your anticipated co-operation.\n",
      "\n",
      "Regards.\n",
      " DR. ANAYO AWKA \n",
      "(MANAGER UNION BANK OF NIGERIA PLC). \n",
      "\n",
      "\n",
      "\n",
      "From r  Thu Nov 14 19:19:18 2002\n",
      "Return-Path: <anayoawka@hotmail.com>\n",
      "X-Sieve: cmu-sieve 2.0\n",
      "Return-Path: <anayoawka@hotmail.com>\n",
      "Message-Id: <200211150019.gAF0IvDj027127@bluewhale.cs.CU>\n",
      "From: \" DR. ANAYO AWKA \" <anayoawka@hotmail.com>\n",
      "Date: Fri, 15 Nov 2002 01:18:50\n",
      "To: webmaster@aclweb.org\n",
      "Subject: REQUEST FOR YOUR UNRESERVED ASSISTANCE\n",
      "MIME-Version: 1.0\n",
      "Content-Type: text/plain;charset=\"iso-8859-1\"\n",
      "Content-Transfer-Encoding: 7bit\n",
      "Status: RO\n",
      "\n",
      "FROM: DR. ANAYO AWKA BANK MANAGER \n",
      "(UNION BANK OF NIGERIA PLC)MARINA LAGOS\n",
      " ATTENTION: PRESIDENT/CEO\n",
      " Dear Sir,\n",
      "\n",
      " REQUEST FOR YOUR UNRESERVED ASSISTANCE\n",
      " Firstly, I must solicit your confidence in this transaction, this is by virtue of its nature as being utterly confidential and top secret.Though I know that a transaction of this magnitude will make any oneapprehensive and worried, but I am assuring you that all will be well at theend of the day. We have decided to contact you due to the urgency of thistransaction, as we have been reliably informed of it's swiftness andconfidentiality.\n",
      "\n",
      " Let me start by first introducing myself properly to you. I am DR.ANAYO AWKA , a Manager at the Union Bank Nigeria PLC, Lagos. I came to know of you in my private search for a reliable and reputable person to handle a very confidential transaction, which involves the transfer of a huge sum of money to a foreign account requiring maximum confidence. A foreigner, Late Engineer William Adams, an oil Merchant /contractor with the federal Government of Nigeria, until his death three years ago in a ghastly air crash, banked with us here at the Union Bank PLC ,Lagos, and had a closing balance of USD$22.2M (Twenty-Two Million, Two Hundred Thousand United States Dollars)\n",
      "which the bank now unquestionably expects to be claimed by any of his available foreign next of kin or alternatively be donated to a discredited trust fund for arms and ammunition at a military war collage here in Nigeria.\n",
      "\n",
      " Fervent valuable efforts are being made by the Union Bank to get in touch with any of late Engr. William Adams's next of kin (he had no known wife and children) that the management under the influence of our chairman, board of directors, Retired Major General Kalu Uke Kalu, that an arrangement for the fund to be declared \"UNCLIAMABLE \" and then be subsequently donated to the trust fund for Arms and Ammunition, which will further enhance the\n",
      "course of war in Africa and the world in general. In order to avert this negative development, myself and some of my trusted colleagues in the bank now seek for your permission to have you stand as late Engr.WILLIAMS ADAMSs next of kin so that the fund, USD$22.2M, would be subsequently transferred and paid into your bank account as the\n",
      "beneficiary next of kin. All documents and proves to enable you get this fund have been carefully worked out and we are assuring you a 100% risk free involvement. Your share would be 30% of the total amoun!t.! 10% has been set aside for expenses, while the rest would befor myself and my colleagues for purposes in your country. \n",
      "\n",
      "If this proposal is OK by you and you do not wish to take advantage of the trust we hope to bestow on you and your company, then kindly get to me immediately via my e-mail address furnishing me with your most confidential telephone, fax and e-mail, so that I can forward to you the relevant details of this transaction. Thank you in advance\n",
      "for your anticipated co-operation.\n",
      "\n",
      "Regards.\n",
      " DR. ANAYO AWKA \n",
      "(MANAGER UNION BANK OF NIGERIA PLC). \n",
      "\n",
      "\n",
      "\n",
      "From r  Sat Nov 16 08:28:59 2002\n",
      "Return-Path: <victorloma@netscape.net>\n",
      "X-Sieve: cmu-sieve 2.0\n",
      "Return-Path: <victorloma@netscape.net>\n",
      "\tby mp.op.nii.ac.jp (Mirapoint Messaging Server MOS 3.2.0-GA)\n",
      "\twith ESMTP id AGH01683;\n",
      "\tSat, 16 Nov 2002 22:24:02 +0900 (JST)\n",
      "Message-Id: <200211161324.gAGDO0I05212@nsx.nii.ac.jp>\n",
      "From: \"Victor Aloma\" <victorloma@netscape.net>\n",
      "Date: Sat, 16 Nov 2002 14:06:46\n",
      "To: ntcir-listmem@newns.op.nii.ac.jp\n",
      "Subject: Urgent Assistance\n",
      "MIME-Version: 1.0\n",
      "Content-Type: text/plain;charset=\"iso-8859-1\"\n",
      "Content-Transfer-Encoding: 7bit\n",
      "Status: RO\n",
      "\n",
      "The Director,\n",
      "\n",
      "\n",
      "\n",
      "            SEEKING FOR IMMEDIATE ASSISTANCE \n",
      "              (TRANSFER OF US$15.5MILLION)\n",
      "\n",
      "It is my pleasure to request your assistance on this business proposition which if pursued to its conclusion ,will be of immense benefit to both of us. This request may seem strange but I will crave your indulgence and pray that you view it seriously. My name is Col. Victor Aloma of the Democratic Republic of Congo I am one of close aids to the formal president of Congo Democratic LAURENT KABILA of blessed memory, may his soul rest in peace.\n",
      "\n",
      "For the military of LAURENT KABILA to force out the rebles in my country, I was instructed by him (late president Kabila) to go to the Europe to purchase ARMS\n",
      "AND AMMUNIATION worth us$15.5(fifteen million Five Hundred Thousand us Dollars) to fight the reble groups. But when it became ap! parent  that president\n",
      "Kabila has been killed in a bloody shoot out by one of his aids. I immediately decided to divert the fund ( US$15.5) into  a private security company for safe\n",
      "keeping. The money is presently in Holland (The Netherlands) where I am currently in exile  after the death of president Kabila.\n",
      "\n",
      "I need a reliable and trust worthy foreign partner/national who can assist me to clear and move this money as the beneficiary from the security company.\n",
      "\n",
      "Though we have not seen nor met each other, but I would want this transaction to be properly handled with modesty and honesty to a huge success within two weeks, this money in question is state fund as it is a deal between you and I, hence the need for secrecy considering the security implications.\n",
      "\n",
      "\n",
      "Thus, if you are willing to assist me to move this fund out of the Netherlands, you can contact  me onthe above email addres to enable us discuss more about the deal and what  your percentage will be for assisting me.\n",
      "\n",
      "Please note that you will be required to make a brief trip to the Netherlands for inspection of the fund. I also intend to visit your country soonest in order to inquire areas of possible business investment.\n",
      "\n",
      "I shall be sincerely glad if my request is rendered.\n",
      "\n",
      "Kindest  Regards,\n",
      "\n",
      "COL. Victor Aloma\n",
      "\n",
      "From r  Sat Nov 16 08:34:18 2002\n",
      "Return-Path: <victorloma@netscape.net>\n",
      "X-Sieve: cmu-sieve 2.0\n",
      "Return-Path: <victorloma@netscape.net>\n",
      "Delivered-To: ntcir-outgoing@mail.op.nii.ac.jp\n",
      "\tSat, 16 Nov 2002 22:24:02 +0900 (JST)\n",
      "Message-Id: <200211161324.gAGDO1I05213@nsx.nii.ac.jp>\n",
      "From: \"Victor Aloma\" <victorloma@netscape.net>\n",
      "Date: Sat, 16 Nov 2002 14:06:54\n",
      "To: ntcir-outgoing@nii.ac.jp\n",
      "Subject: Urgent Assistance\n",
      "MIME-Version: 1.0\n",
      "Content-Type: text/plain;charset=\"iso-8859-1\"\n",
      "Content-Transfer-Encoding: 7bit\n",
      "Status: RO\n",
      "\n",
      "The Director,\n",
      "\n",
      "\n",
      "\n",
      "            SEEKING FOR IMMEDIATE ASSISTANCE \n",
      "              (TRANSFER OF US$15.5MILLION)\n",
      "\n",
      "It is my pleasure to request your assistance on this business proposition which if pursued to its conclusion ,will be of immense benefit to both of us. This request may seem strange but I will crave your indulgence and pray that you view it seriously. My name is Col. Victor Aloma of the Democratic Republic of Congo I am one of close aids to the formal president of Congo Democratic LAURENT KABILA of blessed memory, may his soul rest in peace.\n",
      "\n",
      "For the military of LAURENT KABILA to force out the rebles in my country, I was instructed by him (late president Kabila) to go to the Europe to purchase ARMS\n",
      "AND AMMUNIATION worth us$15.5(fifteen million Five Hundred Thousand us Dollars) to fight the reble groups. But when it became ap! parent  that president\n",
      "Kabila has been killed in a bloody shoot out by one of his aids. I immediately decided to divert the fund ( US$15.5) into  a private security company for safe\n",
      "keeping. The money is presently in Holland (The Netherlands) where I am currently in exile  after the death of president Kabila.\n",
      "\n",
      "I need a reliable and trust worthy foreign partner/national who can assist me to clear and move this money as the beneficiary from the security company.\n",
      "\n",
      "Though we have not seen nor met each other, but I would want this transaction to be properly handled with modesty and honesty to a huge success within two weeks, this money in question is state fund as it is a deal between you and I, hence the need for secrecy considering the security implications.\n",
      "\n",
      "\n",
      "Thus, if you are willing to assist me to move this fund out of the Netherlands, you can contact  me onthe above email addres to enable us discuss more about the deal and what  your percentage will be for assisting me.\n",
      "\n",
      "Please note that you will be required to make a brief trip to the Netherlands for inspection of the fund. I also intend to visit your country soonest in order to inquire areas of possible business investment.\n",
      "\n",
      "I shall be sincerely glad if my request is rendered.\n",
      "\n",
      "Kindest  Regards,\n",
      "\n",
      "COL. Victor Aloma\n",
      "\n",
      "From r  Sat Nov 16 20:13:32 2002\n",
      "Return-Path: <james_ngola2002@maktoob.com>\n",
      "X-Sieve: cmu-sieve 2.0\n",
      "Return-Path: <james_ngola2002@maktoob.com>\n",
      "\tfor <R@M>; Sat, 16 Nov 2002 20:13:21 -0500 (EST)\n",
      "Message-Id: <200211170113.gAH1D4l7017226@cs.CU>\n",
      "From: \"JAMES NGOLA\" <james_ngola2002@maktoob.com>\n",
      "Reply-To: james_ngola2002@maktoob.com\n",
      "To: webmaster@aclweb.org\n",
      "Date: Sun, 17 Nov 2002 01:09:22 +0000\n",
      "Subject: URGENT BUSINESS PROPOSAL\n",
      "X-Mailer: Microsoft Outlook Express 5.00.2919.6900 DM\n",
      "MIME-Version: 1.0\n",
      "Content-Type: text/plain; charset=\"us-ascii\"\n",
      "Content-Transfer-Encoding: 8bit\n",
      "X-MIME-Autoconverted: from quoted-printable to 8bit by sideshowmel.si.UM id gAH1DMj19458\n",
      "Status: O\n",
      "\n",
      "FROM: JAMES NGOLA.\n",
      "CONFIDENTIAL TEL: 233-27-587908.\n",
      "E-MAIL:(james_ngola2002@maktoob.com) \n",
      "\n",
      "\n",
      "DEAR RESPECTFUL,\n",
      "I BEG TO SOLICIT FOR YOUR URGENT AND MAXIMUM\n",
      "ASSISTANCE\n",
      "\n",
      "THIS MAIL, I KNOW THIS MAIL MAY EMBARRASS YOU OR SURPRISE YOU BY EMBARRASSMENT, I MEAN COMING FROM SOMEBODY YOU NEVER KNOW OR MET BEFORE, EVEN COMING FROM A COUNTRY PERHAPS YOU DON'T EVEN KNOW (GHANA) NOTED FOR DISHONEST AND FRUADULET PRACTICES. WELL, THIS IS NOT ONE OF THOSE SCAM LETTERS FROM (GHANA OR OTHER AFRICAN COUNTRIES, BUT FROM A FAMILY OF WHO ARE IN DISTRESS AND REQUIRE YOUR ASSISTANCE.LET ME START BY INTRODUCING MYSELF PROPERLY TO YOU.\n",
      "\n",
      " LET ME ATART BY INTRODUCING MYSELF PROPERLY TO YOU, I AM MR. JAMES NGOLA, THE FIRST SON OF BRIDGR. GEN.\n",
      "THEOPHILUS NGOLA (LATE). FORMER CHIEF OF DEFENCE STAFF: NATIONAL REPUBLIC OF LIBERIA. BRIEFLY: MY FATHER, BRIDG. GEN. T. NGOLA BEFORE HIS DEATH DIVERTED THIS FUND (US$25M) TWENTY FIVE MILLION UNITED STATES DOLLARS. MEANT FOR PURCHASE OF AMMUNATION FOR MY COUNTRY \"LIBERIA\" DURING THE PERIOD OF THEETHNIC CIVIL WAR BETWEEN MY COUNTRY AND GUINEA REPUBLIC. AND NOW, THE WAR IS OVER BY THE INTERVENTION OF \"ECOMOG\"FORCES. \n",
      "\n",
      "\n",
      "FOUR MONTHS AFTER THE WAR ENDED, THE RADIO NATIONAL OF LIBERIA WENT ON AIR, ON A WILD BROADCAST, UNCINGAN UNSUCCESSFUL \"COUPD'TAT\" IN MY COUNTRY, ATTEPTED TO OVERTROW THE PRESENT GOVERNMENT IN MY COUNTRY HEADED BY \"PRESIDENT CHARLES TAYLOR\". THIS BROADCAST CONTINUED TO ANNOUNCE THE NAMES OF THOSE IN CONNECTION WITH THE ATTEMPT. BUT UNKNOWINGLY TO ME, MY FATHER WAS INCLUDED AMOUNG THESE GROUP OF MEN ARRESTED IN CONNECTION WITH THIS PLOT AS THE \"MASTERMINDER\" AND THE \"FINANCIER\" OF THIS UNDEMOCRATIC ACT. ALTHOUGH HE WAS EXECUTED ALONG SIDE WITH OTHERS. (MAY THEIR SOULS REST IN PERFECT PEACE)\n",
      "\n",
      "TWO WEEKS AFTER THEIR EXECUTION THE GOVERNMENT OF LIBERIA STIL WENT FURTHER TO PASS JURGEMENT TO CONFISTICATE MY FATHER'S ASSETS AND ALSO TO FREEZE HIS ACCOUNTS. SO WHEN THIS NEWS REACHED ME, I HURRIEDLY GATHERED SOME VALUABLES IN OUR FAMILY VILLA   AND ESCAPED TO (ACCRA), CAPITAL OF GHANA FOR SAFETY, WHILE MY MOTHER AND MY BROTHERS, SISTERS ARE NOW IN COTE D'IVOIRE AS REFUGEES. THIS FILE, WHICH CONTAINING DOCUMENTS OF A CONSIGNMENT (1 METALIC TRUNK BOX) DEPOSITED BY MY LATE FATHER IN ONE OF THE PRIVATE SECURITY COMPANIES, WAS AMOUNG THE VALUBLE THINGS I ESCAPED WITH TO GHANA. HONESTLY SPEAKING, IN THIS\"BOX\" IS THE SUM OF THIS FUND (US$25 M.) TWENTY FIVE MILLION UNITED STATES DOLLARS ONLY\n",
      "DIVERTED BY MY LATE FATHER. HE REGISTERED THIS CONSIGNMENT (BOX) WITH SECURITY COMPANY AS TO CONTAIN (AFRICA ARTS WORK), BUT THERE IS A CLAUSE IN THE DEPOSIT AGREEMENT WITH THE COMPANY THAT SAYS ONLY HIS FOREIGN PARTNER WILL BE ALLOWED TO COLLECT THE CONSIGNMENT ON HIS BEHALF HENCE HE NEVER WANTED TO BE TRACED WITH THE AMOUNT AS A POPULAR PERSON.\n",
      "\n",
      "\n",
      "\n",
      "\n",
      "IT IS ON THIS NOTE THAT I AM CONTACTING YOU TO FAITHFULLY AND CONFIDENTIALY ASSIST ME TO \"FRONT\" AS MY LATE FATHER FOREIGN BUSINESS PARTNER IN ORDER TO NECCESITATE AND FACILITATE THE CLAIM OF THIS CONSIGNMENT FROM THE SECURITY COMPANY. AND THE FUND ALSO BE TRANSFERED\n",
      "INTO YOUR PRIVATE FOREIGN BANK ACCOUNT FOR INVESTMENT PERHAPS IN YOUR COUNTRY FOR I CANNOT INVEST HERE DUE TO ITS NEARNESS.\n",
      "\n",
      "ONCE AGAIN, I AM PRESENTLY LIVING IN GHANA ALSO AS A REFUGEE TOO (ASYLUM SEEKER) FOR THE SAKE OF MY LIFE. BE INFORMED, THAT THE FINANCIAL LAW OF GHANA DOES NOT ALLOW A REFUGEE TO OPERATE AN ACCOUNT NOR INCORPORATE A COMPANY. WITH THIS, COUPLED WITH THE WAY IN WHICH THE MONEY WAS ACQUIRED, AND I DON'T WANT ANYBODY TO KNOW ABOUT THIS DEVELOPMENT THAT IS WHY I DECIDED NOT TO INVEST IN ANYWHERE IN AFRICA OR LIBERIA NOR EVEN GHANA WHERE I AM CURRENTLY RESIDING AS A REFUGEE AND THAT IS WHY I'M SOLICITING FOR YOUR SUPPORT.\n",
      "\n",
      "\n",
      "\n",
      "\n",
      "IF YOU AGREE TO ASSIST US, I WILL COMPENSATE YOU WITH 15% OF THE TOTAL FUND AFTER THIS CONSIGNMENT IS CLEARED AND THE MONEY TRANSFERED INTO YOUR BANK ACCOUNT.\n",
      "\n",
      "MOST IMPORTANT: PROMISE ME TO KEEP THIS TRANSACTION\n",
      "CONFIDETIAL & SECRET BECAUSE THIS FUND IS THE ONLY HOPE OF \n",
      "MY FAMILY.\n",
      "\n",
      "FINALLY, CONSIDER THIS PROPOSAL AND GET BACK TO ME\n",
      "WITH THE E-MAIL ABOVE OR YOU CAN ALSO CALL ME ON THIS NUMBER: 233-27-587908, FOR MORE DETAILS ABOUT THE TRANSACTION AND THE ARRENGMENT ON THE MODALITIES, TO ENSURE QUICK AND SMOOTH TRANSACTION.\n",
      "\n",
      "FURTHER DETAILS WILL BE FORWARDED TO YOU UPON RECEIPT OF YOUR RESPONSE.\n",
      "\n",
      "THANKS AND WISHING THE BEST COOPERATION IN FUTURE.\n",
      "\n",
      " MR. JAMES NGOLA.\n",
      "\n",
      "\n",
      " NB: THIS TRANSACTION IS 100% RISK-FREE AND YOUR SECURITY IS QUITE GAURANTEED. YOUR CONFIDENCE &  TRUST IS OUR WATCHWORD AS WE ARE TO WORK TOGETHER TO THE REALIZATION OF THIS OBJECTIVE.\n",
      "\n",
      " I HEREBY INFORMING THAT I HAVE ALL THE NECESSARY DOCUMENTS AS REGARDS TO THIS CONSIGNMENT, SO BE REST ASSURED.\n",
      "\n",
      " WAITING FOR YOUR QUICK RESPONSE. THANK YOU. AND BEWARE OF IMPERSONATORS. \n",
      "\n",
      "\n",
      "\n",
      "\n",
      "From r  Mon Nov 18 02:09:30 2002\n",
      "Return-Path: <findictment@yahoo.com>\n",
      "X-Sieve: cmu-sieve 2.0\n",
      "Return-Path: <findictment@yahoo.com>\n",
      "Message-ID: <20021118070905.3462.qmail@web14601.mail.yahoo.com>\n",
      "Subject: WANTED FOR FRAUD: Fawwaz Ulaby\n",
      "To: oshea@UM\n",
      "MIME-Version: 1.0\n",
      "Content-Type: text/plain; charset=us-ascii\n",
      "X-Scanned-By: MIMEDefang 2.25 (www . roaringpenguin . com / mimedefang)\n",
      "Status: RO\n",
      "\n",
      "$250,000 FOR INFORMATION:\n",
      "\n",
      "LEADING TO THE CRIMINAL INDICTMENT OF\n",
      "FAWWAZ T. ULABY FOR FRAUD \n",
      "AGAINST THE UNITED STATES OF AMERICA \n",
      "UNDER THE FALSE CLAIMS ACT.\n",
      "\n",
      "__________________________________________________\n",
      "Do you Yahoo!?\n",
      "Yahoo! Web Hosting - Let the expert host your site\n",
      "http://webhosting.yahoo.com\n",
      "\n",
      "From r  Wed Nov 20 01:02:50 2002\n",
      "Return-Path: <martinchime@usa.com>\n",
      "X-Sieve: cmu-sieve 2.0\n",
      "Return-Path: <martinchime@usa.com>\n",
      "\tfor <R@M>; Wed, 20 Nov 2002 01:02:38 -0500 (EST)\n",
      "Message-Id: <200211200602.gAK62WDj009488@bluewhale.cs.CU>\n",
      "From: \"MARTIN CHIME\" <martinchime@usa.com>\n",
      "Reply-To: martinchime@usa.com\n",
      "To: webmaster@aclweb.org\n",
      "Date: Wed, 20 Nov 2002 06:05:30 -0800\n",
      "Subject: URGENT\n",
      "X-Mailer: Microsoft Outlook Express 5.00.2919.6900 DM\n",
      "MIME-Version: 1.0\n",
      "Content-Type: text/plain; charset=\"us-ascii\"\n",
      "Content-Transfer-Encoding: 8bit\n",
      "X-MIME-Autoconverted: from quoted-printable to 8bit by sideshowmel.si.UM id gAK62ej17157\n",
      "Status: RO\n",
      "\n",
      "DATE:20/11/02\n",
      "FROM:MARTIN CHIME\n",
      "PRIVATE Tel: 234-1-7756809\n",
      "Fax: 234-1-7599173\n",
      "E-MAIL:martinchime@usa.com\n",
      "ATTN: MD/CEO\n",
      "\n",
      "AN URGENT BUSINESS PROPOSAL \n",
      "\n",
      "I am pleased to get across to you for a very urgent and profitable Business proposal, though I don't know you neither have I seen you before but my confidence was reposed on you when the Chief Executive of Lagos State chamber of Commerce and Industry handed me your contact for a confidential business. I am a Staff of United Bank\n",
      "for Africa (UBA),Ilupeju branch, Lagos Nigeria.\n",
      "\n",
      "The intended business is thus; we had a customer, a Foreigner (a Turkish) resident in Nigeria, he was a Contractor with one of the Government Parastatals. He has in his Account in my branch the sum of US$21.5 Million (Twenty One Million Five Hundred ThousandU.S.Dollars).Unfortunately, the man died four years ago until today non-of his next of kin has come forward to claim the money. Having noticed this, I in collaboration with two other top Officials of the bank we have covered up the account all this while. Now we want you (being a foreigner) to be fronted as one of his next of kin and forward your account and other relevant documents to be advised to you by us to attest to the Claim. We will use our positions to get all internal documentations to back up the claims .The whole procedures will last only ten working days to get the Fund retrieved successfully Without trace even in future.\n",
      "\n",
      "Your response is only what we are waiting for as we have arranged all necessary things. As soon as this message comes to you kindly get back to me indicating your interest ,Then I will furnish you with the whole procedures to ensure that the deal is successfully Concluded. \n",
      "\n",
      "For your assistance we have agreed to give you thirty percent (30%) of the Total sum at the end of the transaction. It is risk free and a mega fortune. All correspondence towards this transaction will be through the e-mail addresses, Telephone and Fax, until the end of the\n",
      "transaction when we will meet for the sharing of the money based on this agreed percentage.\n",
      "\n",
      "Please reply urgently by e-mail, fax or call me on my private telephone numbers as stated above.\n",
      "\n",
      "I await your earliest response.\n",
      "\n",
      "Thanks, \n",
      "\n",
      "Yours Sincerely\n",
      "\n",
      "MARTIN CHIME\n",
      "\n",
      "\n",
      "From r  Wed Nov 20 02:10:58 2002\n",
      "Return-Path: <mboro1555@post.com>\n",
      "X-Sieve: cmu-sieve 2.0\n",
      "Return-Path: <mboro1555@post.com>\n",
      "\tby magnumforce.mr.itd.UM (3.6u) with ESMTP id gAK7Ar720084\n",
      "\tfor <R@M>; Wed, 20 Nov 2002 02:10:53 -0500 (EST)\n",
      "\tfor <R@M>; Wed, 20 Nov 2002 02:10:47 -0500 (EST)\n",
      "Message-Id: <200211200710.gAK79oDj009797@bluewhale.cs.CU>\n",
      "From: \"Mr George Mboro\" <mboro1555@post.com>\n",
      "Date: Wed, 20 Nov 2002 08:01:52\n",
      "To: webmaster@aclweb.org\n",
      "Subject: Offer\n",
      "MIME-Version: 1.0\n",
      "Content-Type: text/plain;charset=\"iso-8859-1\"\n",
      "Content-Transfer-Encoding: 7bit\n",
      "Status: O\n",
      "\n",
      "Mr George Mboro\n",
      "Confidential Tel :++ 874-76-253-5870 \n",
      "Confidential Fax:++ 874-76-253-5871\n",
      "Office Tel ++ 27-83-49-92446\n",
      " \n",
      "\n",
      "Dear Sir, \n",
      "\n",
      "STRICTLY CONFIDENTIAL & URGENT.\n",
      "\n",
      "I am Mr George Mboro , a native of Cape Town in South Africa and I am an Executive Accountant with the South Africa Department of Mining & Natural Resources. First and foremost, I apologized using this medium to reach you for a transaction/business of this magnitude, but this is due to confidentiality and prompt access reposed on this medium. Be informed that a member of the South Africa Export Promotion Council (SEPC) who was at the Government delegation to your country during a trade exhibition gave your enviable credentials/particulars to me.\n",
      "\n",
      "I have decided to seek a confidential co-operation with you in the execution of the deal described hereunder for the benefit of all parties and hope you will keep it as a top secret because of the nature of this transaction. Within the Department of Mining & Natural Resources where I work as an Executive Accountant and with the cooperation of four other top officials, we have in our possession as overdue payment bills totaling Eighteen Million, Five Hundred Thousand U. S. Dollars (US$18,500,000.00) which we want to transfer abroad with the assistance and cooperation of a foreign company/individual to receive the said fund on our behalf or a reliable foreign non-company account to receive such funds. More so, we are handicapped in the circumstances, as the South Africa Civil Service Code of Conduct does not allow us to operate offshore account hence your importance in the whole transaction.\n",
      "\n",
      "This amount (US$18.5m) represents the balance of the total contract value executed on behalf of my Department by a foreign contracting firm, which we the officials over-invoiced deliberately. Though the actual contract cost have been paid to the original contractor, leaving the balance in the tune of the said amount which we have in principles gotten approval to remit by Telegraphic Transfer (T.T) to any foreign bank account you will provide by filing in an application through the Justice Ministry here in South Africa for the transfer of rights and privileges of the former contractor to you. I have the authority of my partners involved to propose that should you be willing to assist us in the transaction, your share of the sum will be 30% of the US$18.5 million, 60% for us and 10% for taxation and miscellaneous expenses. The business itself is 100% safe, on your part provided you treat it with utmost secrecy and confidentiality. Also your area of specialization is not a hind!\n",
      "rance to the successful execution of this transaction.\n",
      "\n",
      " I have reposed my confidence in you and hope that you will not disappoint me. Endeavor to contact me immediately through my above tel/fax number ,or my email address:mboro@accountant.com whether or not you are interested in this deal. If you are not, it will enable me contact other another Foreign partner with recommendation to carry out this deal. I want to assure you that myself and my partners are in a position to make the payment of this claim possible provided you can give us a very strong assurance and guarantee that our share will be secured and Please remember to treat this matter as very confidential matter; because we will not comprehend with any form of exposure as we are still in active Government Service and remember once again that time is of the essence in this business. \n",
      "\n",
      "I wait in anticipation of your fullest co-operation. I am available to entertain any questions concerning the clarity of this transaction.\n",
      "\n",
      " Yours faithfully,\n",
      "\n",
      "Mr  George  Mboro\n",
      "\n",
      "\n",
      "\n",
      "\n",
      "\n",
      "\n",
      "\n",
      "\n",
      "\n",
      "\n",
      "\n",
      "\n",
      "\n",
      "\n",
      "From r  Wed Nov 20 17:50:29 2002\n",
      "Return-Path: <martinchime@borad.com>\n",
      "X-Sieve: cmu-sieve 2.0\n",
      "Return-Path: <martinchime@borad.com>\n",
      "\tby heartbreakridge.mr.itd.UM (3.6u) with ESMTP id gAKMoRQ05041\n",
      "\tfor <R@M>; Wed, 20 Nov 2002 17:50:27 -0500 (EST)\n",
      "\tfor <R@M>; Wed, 20 Nov 2002 17:50:26 -0500 (EST)\n",
      "Message-Id: <200211202250.gAKMoDl7025496@cs.CU>\n",
      "From: \"MARTIN  CHIME\" <martinchime@borad.com>\n",
      "Reply-To: martinchime@borad.com\n",
      "To: webmaster@aclweb.org\n",
      "Date: Wed, 20 Nov 2002 22:53:16 -0800\n",
      "Subject: URGENT\n",
      "X-Mailer: Microsoft Outlook Express 5.00.2919.6900 DM\n",
      "MIME-Version: 1.0\n",
      "Content-Type: text/plain; charset=\"us-ascii\"\n",
      "Content-Transfer-Encoding: 8bit\n",
      "X-MIME-Autoconverted: from quoted-printable to 8bit by sideshowmel.si.UM id gAKMoRj24271\n",
      "Status: RO\n",
      "\n",
      "DATE:20/11/02\n",
      "FROM:MARTIN CHIME\n",
      "PRIVATE Tel: 234-1-7756809\n",
      "Fax: 234-1-7599173\n",
      "E-MAIL:martinchime@borad.com\n",
      "ATTN: MD/CEO\n",
      "\n",
      "AN URGENT BUSINESS PROPOSAL \n",
      "\n",
      "I am pleased to get across to you for a very urgent and profitable Business proposal, though I don't know you neither have I seen you before but my confidence was reposed on you when the Chief Executive of Lagos State chamber of Commerce and Industry handed me your contact for a confidential business. I am a Staff of United Bank\n",
      "for Africa (UBA),Ilupeju branch, Lagos Nigeria.\n",
      "\n",
      "The intended business is thus; we had a customer, a Foreigner (a Turkish) resident in Nigeria, he was a Contractor with one of the Government Parastatals. He has in his Account in my branch the sum of US$21.5 Million (Twenty One Million Five Hundred ThousandU.S.Dollars).Unfortunately, the man died four years ago until today non-of his next of kin has come forward to claim the money. Having noticed this, I in collaboration with two other top Officials of the bank we have covered up the account all this while. Now we want you (being a foreigner) to be fronted as one of his next of kin and forward your account and other relevant documents to be advised to you by us to attest to the Claim. We will use our positions to get all internal documentations to back up the claims .The whole procedures will last only ten working days to get the Fund retrieved successfully Without trace even in future.\n",
      "\n",
      "Your response is only what we are waiting for as we have arranged all necessary things. As soon as this message comes to you kindly get back to me indicating your interest ,Then I will furnish you with the whole procedures to ensure that the deal is successfully Concluded. \n",
      "\n",
      "For your assistance we have agreed to give you thirty percent (30%) of the Total sum at the end of the transaction. It is risk free and a mega fortune. All correspondence towards this transaction will be through the e-mail addresses, Telephone and Fax, until the end of the\n",
      "transaction when we will meet for the sharing of the money based on this agreed percentage.\n",
      "\n",
      "Please reply urgently by e-mail, fax or call me on my private telephone numbers as stated above.\n",
      "\n",
      "I await your earliest response.\n",
      "\n",
      "Thanks, \n",
      "\n",
      "Yours Sincerely\n",
      "\n",
      "MARTIN CHIME\n",
      "\n",
      "\n",
      "From r  Wed Nov 20 17:50:49 2002\n",
      "Return-Path: <martinchime@borad.com>\n",
      "X-Sieve: cmu-sieve 2.0\n",
      "Return-Path: <martinchime@borad.com>\n",
      "\tby pinkcadillac.mr.itd.UM (3.6u) with SMTP id gAKMoYX17461\n",
      "\tfor <R@M>; Wed, 20 Nov 2002 17:50:35 -0500 (EST)\n",
      "Message-Id: <200211202250.gAKMoYX17461@pinkcadillac.mr.itd.UM>\n",
      "From: \"MARTIN  CHIME\" <martinchime@borad.com>\n",
      "Reply-To: martinchime@borad.com\n",
      "To: R@M\n",
      "Date: Wed, 20 Nov 2002 22:53:35 -0800\n",
      "Subject: URGENT\n",
      "X-Mailer: Microsoft Outlook Express 5.00.2919.6900 DM\n",
      "MIME-Version: 1.0\n",
      "Content-Type: text/plain; charset=\"us-ascii\"\n",
      "Content-Transfer-Encoding: 8bit\n",
      "X-MIME-Autoconverted: from quoted-printable to 8bit by sideshowmel.si.UM id gAKMogj24285\n",
      "Status: RO\n",
      "\n",
      "DATE:20/11/02\n",
      "FROM:MARTIN CHIME\n",
      "PRIVATE Tel: 234-1-7756809\n",
      "Fax: 234-1-7599173\n",
      "E-MAIL:martinchime@borad.com\n",
      "ATTN: MD/CEO\n",
      "\n",
      "AN URGENT BUSINESS PROPOSAL \n",
      "\n",
      "I am pleased to get across to you for a very urgent and profitable Business proposal, though I don't know you neither have I seen you before but my confidence was reposed on you when the Chief Executive of Lagos State chamber of Commerce and Industry handed me your contact for a confidential business. I am a Staff of United Bank\n",
      "for Africa (UBA),Ilupeju branch, Lagos Nigeria.\n",
      "\n",
      "The intended business is thus; we had a customer, a Foreigner (a Turkish) resident in Nigeria, he was a Contractor with one of the Government Parastatals. He has in his Account in my branch the sum of US$21.5 Million (Twenty One Million Five Hundred ThousandU.S.Dollars).Unfortunately, the man died four years ago until today non-of his next of kin has come forward to claim the money. Having noticed this, I in collaboration with two other top Officials of the bank we have covered up the account all this while. Now we want you (being a foreigner) to be fronted as one of his next of kin and forward your account and other relevant documents to be advised to you by us to attest to the Claim. We will use our positions to get all internal documentations to back up the claims .The whole procedures will last only ten working days to get the Fund retrieved successfully Without trace even in future.\n",
      "\n",
      "Your response is only what we are waiting for as we have arranged all necessary things. As soon as this message comes to you kindly get back to me indicating your interest ,Then I will furnish you with the whole procedures to ensure that the deal is successfully Concluded. \n",
      "\n",
      "For your assistance we have agreed to give you thirty percent (30%) of the Total sum at the end of the transaction. It is risk free and a mega fortune. All correspondence towards this transaction will be through the e-mail addresses, Telephone and Fax, until the end of the\n",
      "transaction when we will meet for the sharing of the money based on this agreed percentage.\n",
      "\n",
      "Please reply urgently by e-mail, fax or call me on my private telephone numbers as stated above.\n",
      "\n",
      "I await your earliest response.\n",
      "\n",
      "Thanks, \n",
      "\n",
      "Yours Sincerely\n",
      "\n",
      "MARTIN CHIME\n",
      "\n",
      "\n",
      "From r  Fri Nov 22 08:52:02 2002\n",
      "Return-Path: <edema_mb@phantomemail.com>\n",
      "X-Sieve: cmu-sieve 2.0\n",
      "Return-Path: <edema_mb@phantomemail.com>\n",
      "\tby fistfulofdollars.mr.itd.UM (3.6u) with SMTP id gAMDpoo16054\n",
      "\tfor <R@M>; Fri, 22 Nov 2002 08:51:50 -0500 (EST)\n",
      "From: <edema_mb@phantomemail.com>\n",
      "To: edema_mb@phantomemail.com\n",
      "Subject: BUSINESS RELATIONSHIP\n",
      "Status: RO\n",
      "\n",
      "FROM: Edema Martins.\n",
      "Plot 243 Walter Carrington Crecent\n",
      "Victoria Island\n",
      "Lagos-Nigeria\n",
      "Tel:234-1-260465\n",
      "\n",
      "Attn:President/Ceo. \n",
      "\n",
      "STRICTLY CONFIDENTIAL BUSINESS PROPOSAL \n",
      "RE: TRANSFER OF US$21.5 MILLION (TWENTY ONE MILLION, \n",
      "FIVE HUNDRED THOUSAND US DOLLARS ONLY). \n",
      "\n",
      "I know this email will reach you as a surprise, but need not to worry \n",
      "as we are using the only secured and confidential medium available to \n",
      "seek for foreign assistance/partnership in a business transaction \n",
      "which is of mutual benefit. \n",
      "\n",
      "I am a member of the Federal Government of Nigeria Contract Award and \n",
      "Monitoring Committee in the Nigeria National Petroleum \n",
      "Corporatio(NNPC). Sometime ago, a contract was awarded to a foreign \n",
      "firm in NNPC by my Committee. This contract was over invoiced to the \n",
      "tune of US$21.5M. U.S. Dollars. This was done deliberately. The \n",
      "over-invoicing was a deal by my committee to benefit from the \n",
      "project. We now want to transfer this money which is in a suspense \n",
      "Account with NNPC into any Overseas Account which we expect you to \n",
      "provide for us. \n",
      "\n",
      "SHARE: - \n",
      "For providing the account where we shall remit the money into, you \n",
      "will be entitled to 30% of the money,60% will be for me andmy \n",
      "partners while 10% has been mapped out from the total sum to cover \n",
      "any expenses that maybe incurred by us during the course of this \n",
      "transfer,both locally and international expenses. \n",
      "I would require the following: - \n",
      "\n",
      ". Your company's name,address,telephone and fax numbers. \n",
      "The above information would be used to make formal applications as a \n",
      "matter of procedure for the release of the money and onward transfer \n",
      "to your account. \n",
      "It does not matter whether or not your company does contract projects \n",
      "of this nature described here. The assumption is that your company \n",
      "won the major contract and subcontracted it out to other companies. \n",
      "More often than not,big trading companies or firms of unrelated \n",
      "fields win major contracts and subcontracts to more specialized firms \n",
      "for execution of such contracts. \n",
      "\n",
      "We have strong reliable connections and contacts at the Central Bank \n",
      "of Nigeria, as well as the Federal Ministry of Finance and we have no \n",
      "doubt that all the money will be released and transferred if we get \n",
      "the necessary foreign partner to assist us in this deal. \n",
      "Therefore,when the business is successfully concluded we shall \n",
      "through our same connections withdraw all documents used from all the \n",
      "concerned Government Ministries for 100% security. \n",
      "\n",
      "We are ordinary civil servants and we will not want to miss this once \n",
      "in a lifetime opportunity to get rich. We want this money to be \n",
      "transferred to the overseas Accounts for us, before the present \n",
      "Democratic Government start Auditing all Federal Government owned \n",
      "Parastatals. \n",
      "\n",
      "Please contact me immediately through my telephone number whether or \n",
      "not you are interested in this deal.If you are not,it will enable me \n",
      "scout for another foreign partner to carry out this deal. Butwhere \n",
      "you are interested,send the required documents aforementioned herein \n",
      "through my above telephone number,or \n",
      "email:edema_ma@mauimail.com,because time is of the essence in this \n",
      "business. \n",
      "I wait in anticipation of your fullest co-operation. \n",
      "\n",
      "Yours faithfully, \n",
      "Edema Martins.\n",
      "\n",
      "\n",
      "\n",
      "--------------------------------------------------\n",
      "This email is a free service of Phantom Email\n",
      "available at http://phantomemail.com/.\n",
      "Looking for a date?  Check out http://personalinteractions.com/go/p185.\n",
      "\n",
      "From r  Fri Nov 22 09:02:18 2002\n",
      "Return-Path: <edema_mb@phantomemail.com>\n",
      "X-Sieve: cmu-sieve 2.0\n",
      "Return-Path: <edema_mb@phantomemail.com>\n",
      "\tby truecrime.mr.itd.UM (3.6u) with SMTP id gAME2An10829\n",
      "\tfor <R@M>; Fri, 22 Nov 2002 09:02:10 -0500 (EST)\n",
      "From: <edema_mb@phantomemail.com>\n",
      "To: edema_mb@phantomemail.com\n",
      "Subject: BUSINESS RELATIONSHIP\n",
      "Status: O\n",
      "\n",
      "FROM: Edema Martins.\n",
      "Plot 243 Walter Carrington Crecent\n",
      "Victoria Island\n",
      "Lagos-Nigeria\n",
      "Tel:234-1-260465\n",
      "\n",
      "Attn:President/Ceo. \n",
      "\n",
      "STRICTLY CONFIDENTIAL BUSINESS PROPOSAL \n",
      "RE: TRANSFER OF US$21.5 MILLION (TWENTY ONE MILLION, \n",
      "FIVE HUNDRED THOUSAND US DOLLARS ONLY). \n",
      "\n",
      "I know this email will reach you as a surprise, but need not to worry \n",
      "as we are using the only secured and confidential medium available to \n",
      "seek for foreign assistance/partnership in a business transaction \n",
      "which is of mutual benefit. \n",
      "\n",
      "I am a member of the Federal Government of Nigeria Contract Award and \n",
      "Monitoring Committee in the Nigeria National Petroleum \n",
      "Corporatio(NNPC). Sometime ago, a contract was awarded to a foreign \n",
      "firm in NNPC by my Committee. This contract was over invoiced to the \n",
      "tune of US$21.5M. U.S. Dollars. This was done deliberately. The \n",
      "over-invoicing was a deal by my committee to benefit from the \n",
      "project. We now want to transfer this money which is in a suspense \n",
      "Account with NNPC into any Overseas Account which we expect you to \n",
      "provide for us. \n",
      "\n",
      "SHARE: - \n",
      "For providing the account where we shall remit the money into, you \n",
      "will be entitled to 30% of the money,60% will be for me andmy \n",
      "partners while 10% has been mapped out from the total sum to cover \n",
      "any expenses that maybe incurred by us during the course of this \n",
      "transfer,both locally and international expenses. \n",
      "I would require the following: - \n",
      "\n",
      ". Your company's name,address,telephone and fax numbers. \n",
      "The above information would be used to make formal applications as a \n",
      "matter of procedure for the release of the money and onward transfer \n",
      "to your account. \n",
      "It does not matter whether or not your company does contract projects \n",
      "of this nature described here. The assumption is that your company \n",
      "won the major contract and subcontracted it out to other companies. \n",
      "More often than not,big trading companies or firms of unrelated \n",
      "fields win major contracts and subcontracts to more specialized firms \n",
      "for execution of such contracts. \n",
      "\n",
      "We have strong reliable connections and contacts at the Central Bank \n",
      "of Nigeria, as well as the Federal Ministry of Finance and we have no \n",
      "doubt that all the money will be released and transferred if we get \n",
      "the necessary foreign partner to assist us in this deal. \n",
      "Therefore,when the business is successfully concluded we shall \n",
      "through our same connections withdraw all documents used from all the \n",
      "concerned Government Ministries for 100% security. \n",
      "\n",
      "We are ordinary civil servants and we will not want to miss this once \n",
      "in a lifetime opportunity to get rich. We want this money to be \n",
      "transferred to the overseas Accounts for us, before the present \n",
      "Democratic Government start Auditing all Federal Government owned \n",
      "Parastatals. \n",
      "\n",
      "Please contact me immediately through my telephone number whether or \n",
      "not you are interested in this deal.If you are not,it will enable me \n",
      "scout for another foreign partner to carry out this deal. Butwhere \n",
      "you are interested,send the required documents aforementioned herein \n",
      "through my above telephone number,or \n",
      "email:edema_ma@mauimail.com,because time is of the essence in this \n",
      "business. \n",
      "I wait in anticipation of your fullest co-operation. \n",
      "\n",
      "Yours faithfully, \n",
      "Edema Martins.\n",
      "\n",
      "\n",
      "\n",
      "--------------------------------------------------\n",
      "This email is a free service of Phantom Email\n",
      "available at http://phantomemail.com/.\n",
      "Looking for a date?  Check out http://personalinteractions.com/go/p185.\n",
      "\n",
      "From r  Fri Nov 22 23:37:49 2002\n",
      "Return-Path: <adewilliams_ade@lawyer.com>\n",
      "X-Sieve: cmu-sieve 2.0\n",
      "Return-Path: <adewilliams_ade@lawyer.com>\n",
      "Message-Id: <200211230437.gAN4bLU19397@suddenimpact.mr.itd.UM>\n",
      "From: \"ADE WILLIAMS\" <adewilliams_ade@lawyer.com>\n",
      "Date: Fri, 22 Nov 2002 20:33:44\n",
      "To: R@M\n",
      "Subject: REPLY NOW\n",
      "MIME-Version: 1.0\n",
      "Content-Type: text/plain;charset=\"iso-8859-1\"\n",
      "Content-Transfer-Encoding: 7bit\n",
      "Status: RO\n",
      "\n",
      "FROM ADE WILLIAMS\n",
      "\n",
      "\n",
      "\n",
      "I AM  DIRECTED BY DR. (MRS.) MARYAM ABACHA, WIFE OF LATE GENERAL SANI ABACHA, \n",
      "EX-MILITARY HEAD OF STATE OF NIGERIA WHO DIED ON THE 8TH OF JUNE 1998 OF HEART \n",
      "PROBLEMS.\n",
      "\n",
      "\n",
      "I CONTACTED YOU BECAUSE OF THE NEED TO DEAL WITH PERSONS WHOM THE FAMILY AND I \n",
      "HAVE HAD NO PREVIOUS PERSONAL RELATIONSHIPS.SINCE THE DEATH OF HER HUSBAND, THE \n",
      "FAMILY HAS BEEN SUBJECTED TO ALL SORTS OF HARASSMENT AND INTIMIDATION WITH LOTS \n",
      "OF NEGATIVE REPORTS EMANATING FROM THE GOVERNMENT AND THE PRESS ABOUT HER \n",
      "HUSBAND. \n",
      "\n",
      "THE PRESENT GOVERNMENT HAS ALSO ENSURED THAT OUR BANK ACCOUNTS ARE FROZEN AND \n",
      "ALL ASSETS SEIZED.EVEN EARLY THIS YEAR WE WERE MADE TO PAY THE SUM OF \n",
      "($168MUSD)AND ONLY TWO MONTH AGO THEY WERE FORCED TO SIGN A PACK OF \n",
      "USD2.6BILLION , IT IS IN VIEW OF THIS, THAT I SEEK YOUR CO-OPERATION AND \n",
      "ASSISTANCE IN THE TRANSFER OF THIS SUM OFUS$35,000,000 THIRTY-FIVE MILLION \n",
      "UNITED STATES DOLLARS (ONLY) BEING THE VERY LAST OF THE FAMILY FUND IN OUR \n",
      "POSSESSION AND \n",
      "CONTROL.\n",
      "\n",
      " THE FEDERAL GOVERNMENT SEIZED ALL OUR PROPERTIES AND FROZE ALL OUR ACCOUNTS \n",
      "BOTH LOCAL AND INTERNATIONAL. AFTER THE DEATH OF HER HUSBAND, BUT OUR ONLY HOPE \n",
      "NOW IS THIS AVAILABLE US$35M CASH WHICH I CAREFULLY PACKAGED AND DEPOSITED AS \n",
      "PHOTOGRAPHIC MATERIALS WITH A SECURITY COMPANY IN LOME-TOGO.\n",
      "\n",
      " THAT IS TO SAY THE MONEY IS IN A CODED FORM  WE THEREFORE NEED YOUR URGENT \n",
      "ASSISTANCE TO MOVE THIS MONEY OUTSIDE AFRICA.IF YOU ARE WILLING TO ASSIST US IN \n",
      "RECEIVING THIS MONEY ON OUR BEHALF,PLEASE, CONTACT MY PERSONAL ASSISTANCE VIA \n",
      "THE ABOVE MENTIONED E-MAIL ADDRESS AND I ASSURE YOU, YOU WILL BE SUBSTANTIALLY \n",
      "REWARDED.  \n",
      "\n",
      "PLEASE ENSURE TO KEEP THIS DEAL VERY SECRET AND CONFIDENTIAL FOR OBVIOUS \n",
      "REASONS. WE AWAIT YOUR IMMEDIATE RESPONSE. \n",
      "\n",
      "SINCERELY,  \n",
      "ADE WILLIAMS .\n",
      "FOR DR. (MRS.) MARYAM ABACHA.) \n",
      "\n",
      "PS: THE FUNDS WILL BE INVESTED BY YOU ON BEHALF OF THE FAMILY .  \n",
      "REPLY TO:adewilliams202@fastermail.com\n",
      "\n",
      "\n",
      "\n",
      "From r  Sat Nov 23 08:38:26 2002\n",
      "Return-Path: <smithkam2@post.com>\n",
      "X-Sieve: cmu-sieve 2.0\n",
      "Return-Path: <smithkam2@post.com>\n",
      "Message-Id: <200211231338.gANDcMZ23081@pinkcadillac.mr.itd.UM>\n",
      "From: smithkam2@post.com\n",
      "Subject: MICHAEL!\n",
      "To: R@M\n",
      "Content-Type: text/plain;\n",
      "\tcharset=\"ANSI\"\n",
      "Reply-To: smithkam2@post.com\n",
      "Date: Sat, 23 Nov 2002 15:01:14 +0100\n",
      "X-Priority: 3\n",
      "X-Library: Indy 9.0.3-B\n",
      "X-Mailer: Foxmail\n",
      "Status: RO\n",
      "\n",
      " From;Mr.Michael Kamah and Family,\n",
      "          Johannesburg,South Africa.\n",
      "\n",
      "My Dear ,\n",
      "\n",
      "Good day.This very confidential request should come as a surprise to you.But it is because of the nature of what is happening to me and my family urged me to contact you, and I quite understand that this is not the best way to contact you because of the nature of my request and the attention it requires.I got your contact information from your country's information directory during my desperate search for someone who can assist me secretly and confidentially in relocating and managing some family fortunes.\n",
      "\n",
      "My name is Mr.Michael Kamah, the second son of Mr.Smith  Kamah, of Beitbridge Zimbabwe.At the height of the present political crises in our country,in which the white farmers in our country are being slained and ripped off their belongings by the supporters of our president,Mr.Robert G.Mugabe,in their efforts to reclaim all the white owned farms in our country,my father and my elder brother were brutally slained to a painful death on the 13th of february,2002, in their struggle to protect some white farmers who ran to take refuge in our house.My father,during his life on earth was a prominent business man who trades on diamond and gold from some foreign countries .He publicly opposes the crude policies and crime against humanity on the white farmers by Mr.Robert Mugabe and his followers,which they enforced media law restrictions to protect their wicked acts.That not being enough,the president and his followers after winning the last undemocratic elections decided to block an!\n",
      "d confiscate all accounts and assets of our black indigenes[that included my fathers assets and accounts] who oppose his policies and render support to these white farmers,along with the assets of these white farmers themselves,that are being presently confiscated.I therefore decided to move my mother and younger sister to the Republic of South Africa,where we presently live without anything and without any source of livelyhood.\n",
      "\n",
      "During my fathers life on earth,he had deposited the sum of Seven Million and Four Hundred Thousand United States Dollars[$7.400.000.00]\n"
     ]
    }
   ],
   "source": [
    "print(text)"
   ]
  },
  {
   "cell_type": "code",
   "execution_count": 178,
   "id": "6ae5ed7a-8d8b-4969-aa4b-8c14417d7f87",
   "metadata": {},
   "outputs": [
    {
     "name": "stdout",
     "output_type": "stream",
     "text": [
      "['From: \"MRS MARIAM ABACHA\" <elixwilliam@usa.com>', 'From: \" DR. ANAYO AWKA \" <anayoawka@hotmail.com>', 'From: \" DR. ANAYO AWKA \" <anayoawka@hotmail.com>', 'From: \"Victor Aloma\" <victorloma@netscape.net>', 'From: \"Victor Aloma\" <victorloma@netscape.net>', 'From: \"JAMES NGOLA\" <james_ngola2002@maktoob.com>', 'From: \"MARTIN CHIME\" <martinchime@usa.com>', 'From: \"Mr George Mboro\" <mboro1555@post.com>', 'From: \"MARTIN  CHIME\" <martinchime@borad.com>', 'From: \"MARTIN  CHIME\" <martinchime@borad.com>', 'From: <edema_mb@phantomemail.com>', 'From: <edema_mb@phantomemail.com>', 'From: \"ADE WILLIAMS\" <adewilliams_ade@lawyer.com>', 'From: smithkam2@post.com']\n"
     ]
    }
   ],
   "source": [
    "pat=r'From:.+'\n",
    "lst=re.findall(pat,text)\n",
    "print(lst)"
   ]
  },
  {
   "cell_type": "code",
   "execution_count": 196,
   "id": "107a5306-96c4-4056-b51a-4dc1ba980144",
   "metadata": {},
   "outputs": [],
   "source": [
    "sender_emails=[]\n",
    "for i in lst:\n",
    "    x=re.search(r'<.+>',i)\n",
    "    if x:\n",
    "        sender_emails.append(x.group().strip('<>'))\n",
    "    else:\n",
    "        sender_emails.append(re.search(r' .+',i).group().strip())"
   ]
  },
  {
   "cell_type": "code",
   "execution_count": 198,
   "id": "68d32a50-9a4f-48e4-adfe-f6074bc15ed2",
   "metadata": {},
   "outputs": [
    {
     "data": {
      "text/plain": [
       "['elixwilliam@usa.com',\n",
       " 'anayoawka@hotmail.com',\n",
       " 'anayoawka@hotmail.com',\n",
       " 'victorloma@netscape.net',\n",
       " 'victorloma@netscape.net',\n",
       " 'james_ngola2002@maktoob.com',\n",
       " 'martinchime@usa.com',\n",
       " 'mboro1555@post.com',\n",
       " 'martinchime@borad.com',\n",
       " 'martinchime@borad.com',\n",
       " 'edema_mb@phantomemail.com',\n",
       " 'edema_mb@phantomemail.com',\n",
       " 'adewilliams_ade@lawyer.com',\n",
       " 'smithkam2@post.com']"
      ]
     },
     "execution_count": 198,
     "metadata": {},
     "output_type": "execute_result"
    }
   ],
   "source": [
    "sender_emails"
   ]
  },
  {
   "cell_type": "code",
   "execution_count": null,
   "id": "36e006ee-0078-4db8-89c1-b5c0ecc12ad0",
   "metadata": {},
   "outputs": [],
   "source": []
  },
  {
   "cell_type": "code",
   "execution_count": 152,
   "id": "c863dcbb-3496-4ffc-aaf3-daedbbfaedfb",
   "metadata": {},
   "outputs": [
    {
     "data": {
      "text/plain": [
       "'elixwilliam@usa.com'"
      ]
     },
     "execution_count": 152,
     "metadata": {},
     "output_type": "execute_result"
    }
   ],
   "source": [
    "text='From: \"MRS MARIAM ABACHA\" <elixwilliam@usa.com>'\n",
    "email_pat=r'<.+>'\n",
    "re.findall(email_pat,text)[0].strip('<>')"
   ]
  },
  {
   "cell_type": "markdown",
   "id": "732237d9-ce63-411b-a26a-b86388f9c16f",
   "metadata": {},
   "source": [
    "### names"
   ]
  },
  {
   "cell_type": "code",
   "execution_count": 215,
   "id": "83f43458-58a9-4482-94bd-d7627cba21eb",
   "metadata": {},
   "outputs": [],
   "source": [
    "sender_names=[]\n",
    "for i in lst:\n",
    "    match=re.search(r'\".+\"',i)\n",
    "    if match:\n",
    "        sender_names.append(match.group().strip('\"\" '))"
   ]
  },
  {
   "cell_type": "code",
   "execution_count": 217,
   "id": "0ee7b1ef-b40a-4565-b989-bc336490dceb",
   "metadata": {},
   "outputs": [
    {
     "data": {
      "text/plain": [
       "['MRS MARIAM ABACHA',\n",
       " 'DR. ANAYO AWKA',\n",
       " 'DR. ANAYO AWKA',\n",
       " 'Victor Aloma',\n",
       " 'Victor Aloma',\n",
       " 'JAMES NGOLA',\n",
       " 'MARTIN CHIME',\n",
       " 'Mr George Mboro',\n",
       " 'MARTIN  CHIME',\n",
       " 'MARTIN  CHIME',\n",
       " 'ADE WILLIAMS']"
      ]
     },
     "execution_count": 217,
     "metadata": {},
     "output_type": "execute_result"
    }
   ],
   "source": [
    "sender_names"
   ]
  },
  {
   "cell_type": "code",
   "execution_count": 259,
   "id": "fd39e916-b15d-44d9-ac2a-ae9d7dd1339e",
   "metadata": {},
   "outputs": [],
   "source": [
    "d={}\n",
    "for i in lst:\n",
    "    match=re.search(r'\".+',i)\n",
    "    if match:\n",
    "        ne=match.group().split('<')\n",
    "        d[ne[0].strip('\" ')]=ne[1].strip('<>')"
   ]
  },
  {
   "cell_type": "code",
   "execution_count": 261,
   "id": "9039ce90-b45b-41d4-bd97-0069ca5d482c",
   "metadata": {},
   "outputs": [
    {
     "data": {
      "text/plain": [
       "{'MRS MARIAM ABACHA': 'elixwilliam@usa.com',\n",
       " 'DR. ANAYO AWKA': 'anayoawka@hotmail.com',\n",
       " 'Victor Aloma': 'victorloma@netscape.net',\n",
       " 'JAMES NGOLA': 'james_ngola2002@maktoob.com',\n",
       " 'MARTIN CHIME': 'martinchime@usa.com',\n",
       " 'Mr George Mboro': 'mboro1555@post.com',\n",
       " 'MARTIN  CHIME': 'martinchime@borad.com',\n",
       " 'ADE WILLIAMS': 'adewilliams_ade@lawyer.com'}"
      ]
     },
     "execution_count": 261,
     "metadata": {},
     "output_type": "execute_result"
    }
   ],
   "source": [
    "d"
   ]
  },
  {
   "cell_type": "code",
   "execution_count": 266,
   "id": "5429563a-52c2-4783-be4d-21764db3288c",
   "metadata": {},
   "outputs": [],
   "source": [
    "# text='Fafasff 23424#535 dsfaf12'"
   ]
  },
  {
   "cell_type": "markdown",
   "id": "9c53bf34-8ee7-405c-8cb7-129ede9e0a83",
   "metadata": {},
   "source": [
    "# Numerical Programming"
   ]
  },
  {
   "cell_type": "code",
   "execution_count": 264,
   "id": "efd19c29-7b8c-4c50-8c99-d5d1d25a8e81",
   "metadata": {},
   "outputs": [],
   "source": [
    "# Numpy\n",
    "# Pandas\n",
    "# Matplotlib\n",
    "# Seaborn\n",
    "# OOP's"
   ]
  },
  {
   "cell_type": "markdown",
   "id": "f98ef698-b2bd-45a4-96dd-78640988726d",
   "metadata": {},
   "source": [
    "# Importatnt Topics"
   ]
  },
  {
   "cell_type": "code",
   "execution_count": 269,
   "id": "aa078210-49c7-4217-ada6-07b7753f1b2f",
   "metadata": {},
   "outputs": [],
   "source": [
    "# Loop\n",
    "# Functions + Modules\n",
    "# Regex"
   ]
  },
  {
   "cell_type": "code",
   "execution_count": null,
   "id": "9d4b4575-893d-4a50-8958-7bf653579ab0",
   "metadata": {},
   "outputs": [],
   "source": []
  }
 ],
 "metadata": {
  "kernelspec": {
   "display_name": "Python 3 (ipykernel)",
   "language": "python",
   "name": "python3"
  },
  "language_info": {
   "codemirror_mode": {
    "name": "ipython",
    "version": 3
   },
   "file_extension": ".py",
   "mimetype": "text/x-python",
   "name": "python",
   "nbconvert_exporter": "python",
   "pygments_lexer": "ipython3",
   "version": "3.11.4"
  }
 },
 "nbformat": 4,
 "nbformat_minor": 5
}
