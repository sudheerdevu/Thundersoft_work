{
 "cells": [
  {
   "cell_type": "markdown",
   "id": "37c27237-a8fd-46bf-91e5-82362e71ad60",
   "metadata": {},
   "source": [
    "# return vs print()"
   ]
  },
  {
   "cell_type": "code",
   "execution_count": 78,
   "id": "10249691-6168-445d-bca6-b32e626582d8",
   "metadata": {},
   "outputs": [],
   "source": [
    "# - return statement returns the value back to the function call.\n",
    "# - We can assign the function cll to a variable to hold the returned value.\n",
    "# - print() only prints the value. It does not return anything.\n",
    "# - If any function does not return anything then it returns None by default.\n",
    "# - return statement terminates the function.\n",
    "# - As soon as the return gets executed the control comes out of the function."
   ]
  },
  {
   "cell_type": "code",
   "execution_count": 18,
   "id": "e34a7b8c-c8e7-4735-a014-95f0fcca5ef8",
   "metadata": {},
   "outputs": [],
   "source": [
    "def add(a,b):\n",
    "    c=a+b\n",
    "    print(c)"
   ]
  },
  {
   "cell_type": "code",
   "execution_count": 29,
   "id": "83eea74d-df32-4686-b3a6-f7e1489526a2",
   "metadata": {},
   "outputs": [
    {
     "name": "stdout",
     "output_type": "stream",
     "text": [
      "11\n"
     ]
    }
   ],
   "source": [
    "x=add(5,6)"
   ]
  },
  {
   "cell_type": "code",
   "execution_count": 31,
   "id": "f8464ace-d927-4fc1-b313-763c5f679f64",
   "metadata": {},
   "outputs": [
    {
     "name": "stdout",
     "output_type": "stream",
     "text": [
      "None\n"
     ]
    }
   ],
   "source": [
    "print(x)"
   ]
  },
  {
   "cell_type": "code",
   "execution_count": 62,
   "id": "790b5bc4-0bba-40ce-8771-a6e218612388",
   "metadata": {},
   "outputs": [],
   "source": [
    "def add(a,b):\n",
    "    c=a+b\n",
    "    return c"
   ]
  },
  {
   "cell_type": "code",
   "execution_count": 64,
   "id": "f4959a75-e174-4fa1-a4ab-f11236693e1c",
   "metadata": {},
   "outputs": [],
   "source": [
    "x=add(5,6)"
   ]
  },
  {
   "cell_type": "code",
   "execution_count": 66,
   "id": "96004605-ebe5-4e1f-b96e-31d656afdda6",
   "metadata": {},
   "outputs": [
    {
     "name": "stdout",
     "output_type": "stream",
     "text": [
      "11\n"
     ]
    }
   ],
   "source": [
    "print(x)"
   ]
  },
  {
   "cell_type": "code",
   "execution_count": 68,
   "id": "d7266281-fdc8-482a-9f7f-738d298610d6",
   "metadata": {},
   "outputs": [],
   "source": [
    "lst=[]"
   ]
  },
  {
   "cell_type": "code",
   "execution_count": 70,
   "id": "04a2eeca-19de-46e2-a1ce-d819e6ee7c73",
   "metadata": {},
   "outputs": [],
   "source": [
    "lst.append(x)"
   ]
  },
  {
   "cell_type": "code",
   "execution_count": 72,
   "id": "6b0c92e7-e0f5-4056-a7e2-312eef217191",
   "metadata": {},
   "outputs": [
    {
     "data": {
      "text/plain": [
       "[11]"
      ]
     },
     "execution_count": 72,
     "metadata": {},
     "output_type": "execute_result"
    }
   ],
   "source": [
    "lst"
   ]
  },
  {
   "cell_type": "code",
   "execution_count": 90,
   "id": "7abb4ac0-b6ab-4ebd-a37b-1501b1f2712c",
   "metadata": {},
   "outputs": [],
   "source": [
    "def test():\n",
    "    print('Hello Python')\n",
    "    return 5\n",
    "    return 10\n",
    "    print('Thanks')"
   ]
  },
  {
   "cell_type": "code",
   "execution_count": 92,
   "id": "b64aa18f-d973-4b3b-8fbd-53e8e88f54f2",
   "metadata": {},
   "outputs": [
    {
     "name": "stdout",
     "output_type": "stream",
     "text": [
      "Hello Python\n",
      "5\n"
     ]
    }
   ],
   "source": [
    "x=test()\n",
    "print(x)"
   ]
  },
  {
   "cell_type": "code",
   "execution_count": 74,
   "id": "c766b159-820d-4028-a3a6-4751472e4acd",
   "metadata": {},
   "outputs": [],
   "source": [
    "lst=[(5,7),(4,6),(12,14),(45,32),(7,9)]"
   ]
  },
  {
   "cell_type": "code",
   "execution_count": 118,
   "id": "7c2e0869-9728-4748-becf-971beb2eb660",
   "metadata": {},
   "outputs": [],
   "source": [
    "def add(a,b):\n",
    "    c=a+b\n",
    "    print(c)"
   ]
  },
  {
   "cell_type": "code",
   "execution_count": 120,
   "id": "5a9a914c-cf5e-4f78-9eaa-513095543cf2",
   "metadata": {},
   "outputs": [
    {
     "name": "stdout",
     "output_type": "stream",
     "text": [
      "12\n",
      "10\n",
      "26\n",
      "77\n",
      "16\n",
      "[None, None, None, None, None]\n"
     ]
    }
   ],
   "source": [
    "res=[]\n",
    "for i,j in lst:\n",
    "    res.append(add(i,j))\n",
    "print(res)"
   ]
  },
  {
   "cell_type": "code",
   "execution_count": 110,
   "id": "13630504-5e28-40d9-8cd8-7bc04ae80ced",
   "metadata": {},
   "outputs": [
    {
     "data": {
      "text/plain": [
       "26"
      ]
     },
     "execution_count": 110,
     "metadata": {},
     "output_type": "execute_result"
    }
   ],
   "source": [
    "add(12,14)"
   ]
  },
  {
   "cell_type": "code",
   "execution_count": 124,
   "id": "cab8727d-8e08-40bd-9f71-51706cc3f1c3",
   "metadata": {},
   "outputs": [],
   "source": [
    "def add(a,b):\n",
    "    c=a+b\n",
    "    return c"
   ]
  },
  {
   "cell_type": "code",
   "execution_count": 126,
   "id": "9e7804c0-8ebd-4309-add9-e2d5406eef0d",
   "metadata": {},
   "outputs": [
    {
     "name": "stdout",
     "output_type": "stream",
     "text": [
      "[12, 10, 26, 77, 16]\n"
     ]
    }
   ],
   "source": [
    "res=[]\n",
    "for i,j in lst:\n",
    "    res.append(add(i,j))\n",
    "print(res)"
   ]
  },
  {
   "cell_type": "code",
   "execution_count": 128,
   "id": "ef413b85-bcd7-4864-b03a-76cedee8e32e",
   "metadata": {},
   "outputs": [],
   "source": [
    "lst=[1,2,3,4,5,6]"
   ]
  },
  {
   "cell_type": "code",
   "execution_count": 130,
   "id": "7367ad1b-ff82-42ee-846a-7846375de944",
   "metadata": {},
   "outputs": [],
   "source": [
    "# Create a function square that takes one number as an argument and squares it.\n",
    "# We have a list of numbers, square each number of the list by using square() and store the squares in another list."
   ]
  },
  {
   "cell_type": "code",
   "execution_count": 156,
   "id": "50ea52d4-2822-4e2d-8460-09136aeffb8d",
   "metadata": {},
   "outputs": [],
   "source": [
    "def square(a):\n",
    "    return a**2"
   ]
  },
  {
   "cell_type": "code",
   "execution_count": 158,
   "id": "147d1a55-f98b-4910-9e3c-dd26a28a2951",
   "metadata": {},
   "outputs": [
    {
     "data": {
      "text/plain": [
       "36"
      ]
     },
     "execution_count": 158,
     "metadata": {},
     "output_type": "execute_result"
    }
   ],
   "source": [
    "square(6)"
   ]
  },
  {
   "cell_type": "code",
   "execution_count": 160,
   "id": "840ac76d-bfa4-4265-b880-aa83ada50c3a",
   "metadata": {},
   "outputs": [],
   "source": [
    "sqr_lst=[]\n",
    "for i in lst:\n",
    "    sqr_lst.append(square(i))"
   ]
  },
  {
   "cell_type": "code",
   "execution_count": 162,
   "id": "43509e4a-5d1b-4c4f-af2f-8c2bafc6e74c",
   "metadata": {},
   "outputs": [
    {
     "name": "stdout",
     "output_type": "stream",
     "text": [
      "[1, 4, 9, 16, 25, 36]\n"
     ]
    }
   ],
   "source": [
    "print(sqr_lst)"
   ]
  },
  {
   "cell_type": "markdown",
   "id": "d429b840-1893-46dd-addf-950e2460b778",
   "metadata": {},
   "source": [
    "# Types of Arguments"
   ]
  },
  {
   "cell_type": "code",
   "execution_count": 165,
   "id": "bca3c321-72d8-4e2a-87ee-471c5fced7f8",
   "metadata": {},
   "outputs": [],
   "source": [
    "# - 1- Required Positional Arguments\n",
    "# - 2- Default Arguments\n",
    "# - 3- Keyworded Arguments\n",
    "# - 4- Variable Length Arguments\n",
    "# - 5- Keyworded Variable Length Arguments"
   ]
  },
  {
   "cell_type": "markdown",
   "id": "2f2a7b29-abe4-4a3f-a1f2-e69ab4cc5059",
   "metadata": {},
   "source": [
    "# 1- Required Positional Arguments"
   ]
  },
  {
   "cell_type": "code",
   "execution_count": 194,
   "id": "a979d31d-ee65-4ae7-afb7-28f3195d824b",
   "metadata": {},
   "outputs": [],
   "source": [
    "# - The number of parameters and the arguments have to be the same.\n",
    "# - The values are passed from the arguments to the parameters as per the order they are placed.\n",
    "# - The variable names in the function definition and the function call may be the same or different. It doesn't matter.\n",
    "# - The names do not matter but the order matters."
   ]
  },
  {
   "cell_type": "code",
   "execution_count": 170,
   "id": "7027459d-7776-45fa-be4b-4ec939353a78",
   "metadata": {},
   "outputs": [],
   "source": [
    "def test(a,b,c):\n",
    "    print(a)\n",
    "    print(b)\n",
    "    print(c)"
   ]
  },
  {
   "cell_type": "code",
   "execution_count": 172,
   "id": "9d78313a-e632-430b-a167-37955abe6e0c",
   "metadata": {},
   "outputs": [
    {
     "name": "stdout",
     "output_type": "stream",
     "text": [
      "BBA\n",
      "BCA\n",
      "MBA\n"
     ]
    }
   ],
   "source": [
    "test('BBA','BCA','MBA')"
   ]
  },
  {
   "cell_type": "code",
   "execution_count": 174,
   "id": "497ea52b-daae-4419-9127-5a68c8198296",
   "metadata": {},
   "outputs": [],
   "source": [
    "def test(a,b,c):\n",
    "    print(a)\n",
    "    print(b)\n",
    "    print(c)"
   ]
  },
  {
   "cell_type": "code",
   "execution_count": 178,
   "id": "c7fe1da4-fefd-41a4-b05a-7d94af30a37c",
   "metadata": {},
   "outputs": [
    {
     "ename": "TypeError",
     "evalue": "test() takes 3 positional arguments but 4 were given",
     "output_type": "error",
     "traceback": [
      "\u001b[1;31m---------------------------------------------------------------------------\u001b[0m",
      "\u001b[1;31mTypeError\u001b[0m                                 Traceback (most recent call last)",
      "Cell \u001b[1;32mIn[178], line 1\u001b[0m\n\u001b[1;32m----> 1\u001b[0m test(\u001b[38;5;241m20\u001b[39m,\u001b[38;5;241m30\u001b[39m,\u001b[38;5;241m40\u001b[39m,\u001b[38;5;241m50\u001b[39m)\n",
      "\u001b[1;31mTypeError\u001b[0m: test() takes 3 positional arguments but 4 were given"
     ]
    }
   ],
   "source": [
    "test(20,30,40,50)"
   ]
  },
  {
   "cell_type": "code",
   "execution_count": 180,
   "id": "b2976902-f8f4-464d-a720-f679cbb16099",
   "metadata": {},
   "outputs": [],
   "source": [
    "def test(a,b,c):\n",
    "    print(a)\n",
    "    print(b)\n",
    "    print(c)"
   ]
  },
  {
   "cell_type": "code",
   "execution_count": 182,
   "id": "0a4b2f6a-b75b-4d71-9780-b9f3d39b1b62",
   "metadata": {},
   "outputs": [],
   "source": [
    "x='MCA'\n",
    "y='MBA'\n",
    "z='M.Tech'"
   ]
  },
  {
   "cell_type": "code",
   "execution_count": 184,
   "id": "c24a8b96-11f1-4f06-b858-4990187d27fe",
   "metadata": {},
   "outputs": [
    {
     "name": "stdout",
     "output_type": "stream",
     "text": [
      "MCA\n",
      "MBA\n",
      "M.Tech\n"
     ]
    }
   ],
   "source": [
    "test(x,y,z)"
   ]
  },
  {
   "cell_type": "code",
   "execution_count": 186,
   "id": "b1ec818b-e2cf-460c-b3a6-2a76d224eb8f",
   "metadata": {},
   "outputs": [],
   "source": [
    "def test(a,b,c):\n",
    "    print(a)\n",
    "    print(b)\n",
    "    print(c)"
   ]
  },
  {
   "cell_type": "code",
   "execution_count": 190,
   "id": "dd402e58-6eb0-429d-888d-761a5623c8af",
   "metadata": {},
   "outputs": [],
   "source": [
    "a='MCA'\n",
    "b='MBA'\n",
    "c='M.Tech'"
   ]
  },
  {
   "cell_type": "code",
   "execution_count": 192,
   "id": "d074323e-b1b0-4fe0-8a31-3b4a4e06059d",
   "metadata": {},
   "outputs": [
    {
     "name": "stdout",
     "output_type": "stream",
     "text": [
      "M.Tech\n",
      "MCA\n",
      "MBA\n"
     ]
    }
   ],
   "source": [
    "test(c,a,b)"
   ]
  },
  {
   "cell_type": "markdown",
   "id": "3a3068ce-c0b1-4bc7-b9ad-fd09811a642f",
   "metadata": {},
   "source": [
    "# - 2 Default Arguments"
   ]
  },
  {
   "cell_type": "code",
   "execution_count": 197,
   "id": "be48acbd-5f52-4d75-80c4-095aaa34d5d7",
   "metadata": {},
   "outputs": [],
   "source": [
    "# - When we assign some value to a variable inside the () of the function definition.\n",
    "# - Then it is called default argument.\n",
    "# - If we don't pass any argument for the default argument the it takes the default value.\n",
    "# - If we pass some argument for the default argument then it takes th evalue passed to it.\n",
    "# - The default arguments should be placed after the positional arguments."
   ]
  },
  {
   "cell_type": "code",
   "execution_count": 201,
   "id": "dc44c663-2047-4e7c-97f1-7e794c1b26e9",
   "metadata": {},
   "outputs": [],
   "source": [
    "def test(a,b,c='Data Analysis'): #a,b->positional, c-> default argument\n",
    "    print(a)\n",
    "    print(b)\n",
    "    print(c)"
   ]
  },
  {
   "cell_type": "code",
   "execution_count": 203,
   "id": "4542aca6-db85-45d3-aebd-1e1ffb841fa4",
   "metadata": {},
   "outputs": [
    {
     "name": "stdout",
     "output_type": "stream",
     "text": [
      "Data Science\n",
      "Machine Learning\n",
      "Data Analysis\n"
     ]
    }
   ],
   "source": [
    "test('Data Science','Machine Learning')"
   ]
  },
  {
   "cell_type": "code",
   "execution_count": 205,
   "id": "a0ac7a94-44fb-4b91-b2bb-ed006532ba53",
   "metadata": {},
   "outputs": [
    {
     "name": "stdout",
     "output_type": "stream",
     "text": [
      "Data Science\n",
      "Machine Learning\n",
      "AI\n"
     ]
    }
   ],
   "source": [
    "test('Data Science','Machine Learning','AI')"
   ]
  },
  {
   "cell_type": "code",
   "execution_count": 207,
   "id": "5cf6e244-f389-4e09-ac4a-f89f1586e00b",
   "metadata": {},
   "outputs": [],
   "source": [
    "# - Create a function deposit that takes name and the amount as arguments.\n",
    "# - It should print the amount after deposit.\n",
    "# - If no deposit then balance should be shown as 0"
   ]
  },
  {
   "cell_type": "code",
   "execution_count": 217,
   "id": "d12e6f22-09eb-4191-b7e3-9f2fd4c3b719",
   "metadata": {},
   "outputs": [],
   "source": [
    "def deposit(name,bal=0):\n",
    "    print(f'The name of the customer is {name}')\n",
    "    print(f'The balance of the customer is {bal}')"
   ]
  },
  {
   "cell_type": "code",
   "execution_count": 219,
   "id": "44af8584-eb21-4888-a383-67f780dd6661",
   "metadata": {},
   "outputs": [
    {
     "name": "stdout",
     "output_type": "stream",
     "text": [
      "The name of the customer is Jayanth\n",
      "The balance of the customer is 0\n"
     ]
    }
   ],
   "source": [
    "deposit('Jayanth')"
   ]
  },
  {
   "cell_type": "code",
   "execution_count": 221,
   "id": "5490ad8d-e447-4363-87d9-fc78f4d3ebef",
   "metadata": {},
   "outputs": [
    {
     "name": "stdout",
     "output_type": "stream",
     "text": [
      "The name of the customer is Jayanth\n",
      "The balance of the customer is 5000\n"
     ]
    }
   ],
   "source": [
    "deposit('Jayanth',5000)"
   ]
  },
  {
   "cell_type": "code",
   "execution_count": 232,
   "id": "5a26db3a-3f0b-4207-bcc2-ade2adbaa0d6",
   "metadata": {},
   "outputs": [],
   "source": [
    "def test(a,b,d,e,f,c=100):\n",
    "    print(a)\n",
    "    print(b)\n",
    "    print(c)"
   ]
  },
  {
   "cell_type": "markdown",
   "id": "e569b64d-308d-4129-ac0f-481d14198b59",
   "metadata": {},
   "source": [
    "# 3- Keyworded Arguments"
   ]
  },
  {
   "cell_type": "code",
   "execution_count": 234,
   "id": "13694c96-e0fd-44cc-a054-530acda52caa",
   "metadata": {},
   "outputs": [],
   "source": [
    "# - When we assign the values to the variables inside the () of the function call.\n",
    "# - Such arguments are known as keyworded arguments.\n",
    "# - The values are passed as per the names not as per the order.\n",
    "# - For the keyworded argument the name has to be the same inside the function definition and the function call.\n",
    "# - The name matters, order does not matter.\n",
    "# - Keyworded arguments should be placed after the positional arguments."
   ]
  },
  {
   "cell_type": "code",
   "execution_count": 236,
   "id": "60dedbf8-041f-48c3-89d3-154277cfb9b0",
   "metadata": {},
   "outputs": [],
   "source": [
    "def test(a,b,c):\n",
    "    print(a)\n",
    "    print(b)\n",
    "    print(c)"
   ]
  },
  {
   "cell_type": "code",
   "execution_count": 242,
   "id": "d44b4900-2683-4e65-bf66-448d8e8fb480",
   "metadata": {},
   "outputs": [
    {
     "name": "stdout",
     "output_type": "stream",
     "text": [
      "DA\n",
      "BA\n",
      "DS\n"
     ]
    }
   ],
   "source": [
    "test('DA','BA',c='DS') # c is a keyworded argument"
   ]
  },
  {
   "cell_type": "code",
   "execution_count": 244,
   "id": "d013d98c-0d65-4723-85c3-3e7b6ca58cad",
   "metadata": {},
   "outputs": [],
   "source": [
    "def test(a,b,c,d):\n",
    "    print(a)\n",
    "    print(b)\n",
    "    print(c)\n",
    "    print(d)"
   ]
  },
  {
   "cell_type": "code",
   "execution_count": 246,
   "id": "ba0ce64a-294e-49b9-bd40-ad2963ccc25e",
   "metadata": {},
   "outputs": [
    {
     "name": "stdout",
     "output_type": "stream",
     "text": [
      "BA\n",
      "DA\n",
      "DS\n",
      "ML\n"
     ]
    }
   ],
   "source": [
    "test('BA','DA',d='ML',c='DS')"
   ]
  },
  {
   "cell_type": "code",
   "execution_count": 248,
   "id": "844c5ef2-724a-4e50-846e-a88ec6713c3a",
   "metadata": {},
   "outputs": [],
   "source": [
    "def test(a,b,c,d):\n",
    "    print(a)\n",
    "    print(b)\n",
    "    print(c)\n",
    "    print(d)"
   ]
  },
  {
   "cell_type": "code",
   "execution_count": 250,
   "id": "7f8fe578-ce33-4f9d-80c9-9c6b69825c6d",
   "metadata": {},
   "outputs": [
    {
     "ename": "TypeError",
     "evalue": "test() got multiple values for argument 'c'",
     "output_type": "error",
     "traceback": [
      "\u001b[1;31m---------------------------------------------------------------------------\u001b[0m",
      "\u001b[1;31mTypeError\u001b[0m                                 Traceback (most recent call last)",
      "Cell \u001b[1;32mIn[250], line 1\u001b[0m\n\u001b[1;32m----> 1\u001b[0m test(\u001b[38;5;124m'\u001b[39m\u001b[38;5;124mBA\u001b[39m\u001b[38;5;124m'\u001b[39m,\u001b[38;5;124m'\u001b[39m\u001b[38;5;124mDA\u001b[39m\u001b[38;5;124m'\u001b[39m,\u001b[38;5;124m'\u001b[39m\u001b[38;5;124mML\u001b[39m\u001b[38;5;124m'\u001b[39m,c\u001b[38;5;241m=\u001b[39m\u001b[38;5;124m'\u001b[39m\u001b[38;5;124mDS\u001b[39m\u001b[38;5;124m'\u001b[39m)\n",
      "\u001b[1;31mTypeError\u001b[0m: test() got multiple values for argument 'c'"
     ]
    }
   ],
   "source": [
    "test('BA','DA','ML',c='DS')"
   ]
  },
  {
   "cell_type": "code",
   "execution_count": 252,
   "id": "c84fc921-264e-4235-9378-9f06c1c6f77a",
   "metadata": {},
   "outputs": [],
   "source": [
    "def test(a,b,c,d):\n",
    "    print(a)\n",
    "    print(b)\n",
    "    print(c)\n",
    "    print(d)"
   ]
  },
  {
   "cell_type": "code",
   "execution_count": 254,
   "id": "60dd636f-5b56-4ea3-b487-d51d11c8fcda",
   "metadata": {},
   "outputs": [
    {
     "name": "stdout",
     "output_type": "stream",
     "text": [
      "BBA\n",
      "AI Engineer\n",
      "M.Tech\n",
      "MBA\n"
     ]
    }
   ],
   "source": [
    "test(d='MBA',a='BBA',c='M.Tech',b='AI Engineer')"
   ]
  },
  {
   "cell_type": "code",
   "execution_count": 266,
   "id": "b5ffd8b9-dc0f-4819-9229-06ce381e2518",
   "metadata": {},
   "outputs": [],
   "source": [
    "def test(a,b,c,d):\n",
    "    print(a)\n",
    "    print(b)\n",
    "    print(c)\n",
    "    print(d)"
   ]
  },
  {
   "cell_type": "code",
   "execution_count": 268,
   "id": "1ddaf012-7d77-42fd-9a36-2da2d2295a7d",
   "metadata": {},
   "outputs": [
    {
     "ename": "TypeError",
     "evalue": "test() got an unexpected keyword argument 'e'",
     "output_type": "error",
     "traceback": [
      "\u001b[1;31m---------------------------------------------------------------------------\u001b[0m",
      "\u001b[1;31mTypeError\u001b[0m                                 Traceback (most recent call last)",
      "Cell \u001b[1;32mIn[268], line 1\u001b[0m\n\u001b[1;32m----> 1\u001b[0m test(e\u001b[38;5;241m=\u001b[39m\u001b[38;5;124m'\u001b[39m\u001b[38;5;124mMBA\u001b[39m\u001b[38;5;124m'\u001b[39m,a\u001b[38;5;241m=\u001b[39m\u001b[38;5;124m'\u001b[39m\u001b[38;5;124mBBA\u001b[39m\u001b[38;5;124m'\u001b[39m,c\u001b[38;5;241m=\u001b[39m\u001b[38;5;124m'\u001b[39m\u001b[38;5;124mM.Tech\u001b[39m\u001b[38;5;124m'\u001b[39m,b\u001b[38;5;241m=\u001b[39m\u001b[38;5;124m'\u001b[39m\u001b[38;5;124mAI Engineer\u001b[39m\u001b[38;5;124m'\u001b[39m,d\u001b[38;5;241m=\u001b[39m\u001b[38;5;28;01mNone\u001b[39;00m)\n",
      "\u001b[1;31mTypeError\u001b[0m: test() got an unexpected keyword argument 'e'"
     ]
    }
   ],
   "source": [
    "test(e='MBA',a='BBA',c='M.Tech',b='AI Engineer',d=None)"
   ]
  },
  {
   "cell_type": "code",
   "execution_count": 270,
   "id": "63f3ba08-e31a-446b-a8c0-3d0e4379ffd6",
   "metadata": {},
   "outputs": [],
   "source": [
    "def test(a,b,c,d,e='ML'):\n",
    "    print(a)\n",
    "    print(b)\n",
    "    print(c)\n",
    "    print(d)\n",
    "    print(e)"
   ]
  },
  {
   "cell_type": "code",
   "execution_count": 274,
   "id": "0d524171-834d-4905-a3bb-4a5ab410a6e0",
   "metadata": {},
   "outputs": [
    {
     "name": "stdout",
     "output_type": "stream",
     "text": [
      "DA\n",
      "DS\n",
      "MCA\n",
      "BA\n",
      "M.Tech\n"
     ]
    }
   ],
   "source": [
    "test('DA','DS',e='M.Tech',d='BA',c='MCA')"
   ]
  },
  {
   "cell_type": "markdown",
   "id": "945621a6-88f5-42aa-ad89-d7950c02ce0b",
   "metadata": {},
   "source": [
    "# 4- Variable Length Arguments"
   ]
  },
  {
   "cell_type": "code",
   "execution_count": 287,
   "id": "671a7c54-eea1-4ac1-a8e2-3da10b6ccdfe",
   "metadata": {},
   "outputs": [],
   "source": [
    "# - When we don't know how many arguments might be there then we use variable length arguments.\n",
    "# - In this case the values are stored in a tuple by default."
   ]
  },
  {
   "cell_type": "code",
   "execution_count": 291,
   "id": "04fa13e8-7086-4d5b-8274-93fb88088252",
   "metadata": {},
   "outputs": [],
   "source": [
    "def test(*a): # a is a variable length argument\n",
    "    pass"
   ]
  },
  {
   "cell_type": "code",
   "execution_count": 293,
   "id": "6d39b161-5577-4262-b9e1-96e6d42a91db",
   "metadata": {},
   "outputs": [],
   "source": [
    "def test(*a):\n",
    "    print(a,type(a))"
   ]
  },
  {
   "cell_type": "code",
   "execution_count": 305,
   "id": "7b003c48-2356-499d-bd75-287b02a94b1f",
   "metadata": {},
   "outputs": [
    {
     "name": "stdout",
     "output_type": "stream",
     "text": [
      "(10, 20, 'DA', 'BA', 'DS', 'MBA', 'BA') <class 'tuple'>\n"
     ]
    }
   ],
   "source": [
    "test(10,20,'DA','BA','DS','MBA','BA')"
   ]
  },
  {
   "cell_type": "code",
   "execution_count": 319,
   "id": "46e2ce99-a50f-48c9-968f-3fc32ad3d40a",
   "metadata": {},
   "outputs": [],
   "source": [
    "def add(*a):\n",
    "    s=0\n",
    "    for i in a:\n",
    "        s+=i\n",
    "    return s"
   ]
  },
  {
   "cell_type": "code",
   "execution_count": 333,
   "id": "210d7641-ef54-4b05-8759-b43147ee7714",
   "metadata": {},
   "outputs": [
    {
     "data": {
      "text/plain": [
       "101"
      ]
     },
     "execution_count": 333,
     "metadata": {},
     "output_type": "execute_result"
    }
   ],
   "source": [
    "add(5,6,15,24,45,6)"
   ]
  },
  {
   "cell_type": "code",
   "execution_count": 317,
   "id": "9c8fd495-a22f-47b6-8d45-b6acf9a568cb",
   "metadata": {},
   "outputs": [
    {
     "name": "stdout",
     "output_type": "stream",
     "text": [
      "25\n"
     ]
    }
   ],
   "source": [
    "t=(5, 6, 5, 9)\n",
    "s=0\n",
    "for i in t:\n",
    "    s+=i\n",
    "print(s)"
   ]
  },
  {
   "cell_type": "markdown",
   "id": "16bd4831-d5bc-4922-b00c-c7f25a53c040",
   "metadata": {},
   "source": [
    "# 5- Keyworded Variable Length Arguments"
   ]
  },
  {
   "cell_type": "code",
   "execution_count": 338,
   "id": "d334c56d-5b39-4d0f-b7f5-84d6acf034bb",
   "metadata": {},
   "outputs": [],
   "source": [
    "# - When we don't know how many keyworded arguments might be there then we use keyworded variable length arguments.\n",
    "# - In this case the elements are stored in a dictionary.\n",
    "# - key=value then key becomes the and value becomes the value."
   ]
  },
  {
   "cell_type": "code",
   "execution_count": 342,
   "id": "f6868663-5a7d-46c9-80c6-7524c1a863af",
   "metadata": {},
   "outputs": [],
   "source": [
    "def test(**a): # keyworded variable length argument\n",
    "    pass"
   ]
  },
  {
   "cell_type": "code",
   "execution_count": 344,
   "id": "0919db50-b744-47da-8330-008e28d97677",
   "metadata": {},
   "outputs": [],
   "source": [
    "def test(**a):\n",
    "    print(a,type(a))"
   ]
  },
  {
   "cell_type": "code",
   "execution_count": 356,
   "id": "83cab11e-80f3-41f5-a7a0-138fbc77c03f",
   "metadata": {},
   "outputs": [
    {
     "name": "stdout",
     "output_type": "stream",
     "text": [
      "{'name': 'Amit', 'marks': 88, 'age': 24, 'city': 'Mumbai', 'phone': None} <class 'dict'>\n"
     ]
    }
   ],
   "source": [
    "test(name='Amit',marks=88,age=24,city='Mumbai',phone=None)"
   ]
  },
  {
   "cell_type": "code",
   "execution_count": 362,
   "id": "d8390d8e-ba51-4482-a00d-53d5e93df1dc",
   "metadata": {},
   "outputs": [],
   "source": [
    "def test(a,b,c=10,*d,**e):\n",
    "    print(a)\n",
    "    print(b)\n",
    "    print(c)\n",
    "    print(d)\n",
    "    print(e)"
   ]
  },
  {
   "cell_type": "code",
   "execution_count": 364,
   "id": "88a3840f-68cb-48ae-9d4b-559904a5a80e",
   "metadata": {},
   "outputs": [
    {
     "name": "stdout",
     "output_type": "stream",
     "text": [
      "5\n",
      "6\n",
      "10\n",
      "()\n",
      "{}\n"
     ]
    }
   ],
   "source": [
    "test(5,6)"
   ]
  },
  {
   "cell_type": "code",
   "execution_count": 366,
   "id": "a3758240-514c-49a4-b88f-eb82a36b990d",
   "metadata": {},
   "outputs": [],
   "source": [
    "def test(a,b,c=10,*d,**e):\n",
    "    print(a)\n",
    "    print(b)\n",
    "    print(c)\n",
    "    print(d)\n",
    "    print(e)"
   ]
  },
  {
   "cell_type": "code",
   "execution_count": 378,
   "id": "20dccf84-af6a-4e20-bf02-d6b10da483c0",
   "metadata": {},
   "outputs": [
    {
     "name": "stdout",
     "output_type": "stream",
     "text": [
      "5\n",
      "6\n",
      "15\n",
      "(20, 30, 40, 50, 45, 87, 65)\n",
      "{'k': 77, 'name': 'Amit'}\n"
     ]
    }
   ],
   "source": [
    "test(5,6,15,20,30,40,50,45,87,65,k=77,name='Amit')"
   ]
  },
  {
   "cell_type": "markdown",
   "id": "545cb0cb-311d-4c46-9545-6659c1c64ce2",
   "metadata": {},
   "source": [
    "# Anonymous Function"
   ]
  },
  {
   "cell_type": "code",
   "execution_count": 384,
   "id": "b201dab7-8f3b-4590-8586-0f49fa6b5806",
   "metadata": {},
   "outputs": [],
   "source": [
    "# - The function without any name is known as anonymous function.\n",
    "# - lambda keyword is used to create an anonymous function.\n",
    "# - It is a simple way to create a function.\n",
    "# - It is a one liner code to create a function."
   ]
  },
  {
   "cell_type": "code",
   "execution_count": 386,
   "id": "918412ce-2bcf-4715-9efc-b703cd72dc58",
   "metadata": {},
   "outputs": [],
   "source": [
    "# (lambda arguments:expression) (Function call)"
   ]
  },
  {
   "cell_type": "code",
   "execution_count": 388,
   "id": "5d6522fe-130d-448c-a919-e864d7eff1bf",
   "metadata": {},
   "outputs": [],
   "source": [
    "# Create an anonymous function that adds two numbers."
   ]
  },
  {
   "cell_type": "code",
   "execution_count": 394,
   "id": "6b1be5ae-6d72-4165-b35e-dccf726732c2",
   "metadata": {},
   "outputs": [
    {
     "name": "stdout",
     "output_type": "stream",
     "text": [
      "26\n"
     ]
    }
   ],
   "source": [
    "x=(lambda a,b:a+b) (12,14)\n",
    "print(x)"
   ]
  },
  {
   "cell_type": "code",
   "execution_count": 400,
   "id": "dcf2c279-2791-48a0-8109-f3fd3a507e7a",
   "metadata": {},
   "outputs": [
    {
     "name": "stdout",
     "output_type": "stream",
     "text": [
      "25\n"
     ]
    }
   ],
   "source": [
    "# Get the square of a number\n",
    "x=(lambda a:a**2)(5)\n",
    "print(x)"
   ]
  },
  {
   "cell_type": "code",
   "execution_count": 417,
   "id": "1d9162a6-bd1c-4c70-a09d-3fe42877bbf0",
   "metadata": {},
   "outputs": [],
   "source": [
    "x=lambda x,y:x+y"
   ]
  },
  {
   "cell_type": "code",
   "execution_count": 419,
   "id": "d38ae39f-ec89-4394-a4b6-e749f20472d3",
   "metadata": {},
   "outputs": [
    {
     "name": "stdout",
     "output_type": "stream",
     "text": [
      "<function <lambda> at 0x000001C87D973B00> <class 'function'>\n"
     ]
    }
   ],
   "source": [
    "print(x,type(x))"
   ]
  },
  {
   "cell_type": "code",
   "execution_count": 421,
   "id": "70ba84f8-2362-4a11-97f4-f0bc42de18ff",
   "metadata": {},
   "outputs": [
    {
     "data": {
      "text/plain": [
       "30"
      ]
     },
     "execution_count": 421,
     "metadata": {},
     "output_type": "execute_result"
    }
   ],
   "source": [
    "x(10,20)"
   ]
  },
  {
   "cell_type": "code",
   "execution_count": 423,
   "id": "af759231-7a51-4cb2-8cef-0487eb85e70c",
   "metadata": {},
   "outputs": [],
   "source": [
    "add=lambda x,y:x+y\n",
    "mult=lambda x,y:x*y\n",
    "sub=lambda x,y:x-y\n",
    "div=lambda x,y:x/y"
   ]
  },
  {
   "cell_type": "code",
   "execution_count": 425,
   "id": "9f9904a0-e504-43f2-931b-fa9bbd1b5441",
   "metadata": {},
   "outputs": [
    {
     "data": {
      "text/plain": [
       "6"
      ]
     },
     "execution_count": 425,
     "metadata": {},
     "output_type": "execute_result"
    }
   ],
   "source": [
    "add(2,4)"
   ]
  },
  {
   "cell_type": "code",
   "execution_count": 427,
   "id": "e496e658-a6ed-4f4e-b0e0-eddb21ce6de0",
   "metadata": {},
   "outputs": [
    {
     "data": {
      "text/plain": [
       "-2"
      ]
     },
     "execution_count": 427,
     "metadata": {},
     "output_type": "execute_result"
    }
   ],
   "source": [
    "sub(2,4)"
   ]
  },
  {
   "cell_type": "code",
   "execution_count": 429,
   "id": "66dac408-0de9-45d7-bc89-6a532c5d1861",
   "metadata": {},
   "outputs": [
    {
     "data": {
      "text/plain": [
       "8"
      ]
     },
     "execution_count": 429,
     "metadata": {},
     "output_type": "execute_result"
    }
   ],
   "source": [
    "mult(2,4)"
   ]
  },
  {
   "cell_type": "code",
   "execution_count": 432,
   "id": "bb750423-f9c1-4340-b4ce-f6e7f23cb4ac",
   "metadata": {},
   "outputs": [
    {
     "data": {
      "text/plain": [
       "0.5"
      ]
     },
     "execution_count": 432,
     "metadata": {},
     "output_type": "execute_result"
    }
   ],
   "source": [
    "div(2,4)"
   ]
  },
  {
   "cell_type": "markdown",
   "id": "4967e717-b3e0-4b57-b830-485b845f0928",
   "metadata": {},
   "source": [
    "# Conditions inside a lambda()"
   ]
  },
  {
   "cell_type": "code",
   "execution_count": 435,
   "id": "d24c7987-8e5a-4dd9-86fe-82d111cecbc5",
   "metadata": {},
   "outputs": [],
   "source": [
    "# - We always use the ternary operator to pass the conditions inside the lambda()"
   ]
  },
  {
   "cell_type": "code",
   "execution_count": 437,
   "id": "2ad0f9a6-8847-40da-8b2f-74f7e971d635",
   "metadata": {},
   "outputs": [],
   "source": [
    "# Create a lambda() that finds the maximum of two numbers."
   ]
  },
  {
   "cell_type": "code",
   "execution_count": 441,
   "id": "0cfcc30c-ed46-4cbe-9274-7448ed2c64b1",
   "metadata": {},
   "outputs": [
    {
     "data": {
      "text/plain": [
       "16"
      ]
     },
     "execution_count": 441,
     "metadata": {},
     "output_type": "execute_result"
    }
   ],
   "source": [
    "a=10\n",
    "b=16\n",
    "a if a>b else b"
   ]
  },
  {
   "cell_type": "code",
   "execution_count": 449,
   "id": "2fcba9b8-20f2-4f18-aed9-1239b881df26",
   "metadata": {},
   "outputs": [],
   "source": [
    "mx=lambda x,y:x if x>y else y"
   ]
  },
  {
   "cell_type": "code",
   "execution_count": 453,
   "id": "efbd632f-311c-4ed0-b578-b1ab43d162fe",
   "metadata": {},
   "outputs": [
    {
     "data": {
      "text/plain": [
       "15"
      ]
     },
     "execution_count": 453,
     "metadata": {},
     "output_type": "execute_result"
    }
   ],
   "source": [
    "mx(6,15)"
   ]
  },
  {
   "cell_type": "code",
   "execution_count": 455,
   "id": "033ccb8b-1ce3-4f06-9171-58da874ae18e",
   "metadata": {},
   "outputs": [],
   "source": [
    "# Maximum of 3 numbers"
   ]
  },
  {
   "cell_type": "code",
   "execution_count": 461,
   "id": "e854c30b-fcfe-4819-8cd0-aa90c749d14d",
   "metadata": {},
   "outputs": [
    {
     "data": {
      "text/plain": [
       "25"
      ]
     },
     "execution_count": 461,
     "metadata": {},
     "output_type": "execute_result"
    }
   ],
   "source": [
    "a=10\n",
    "b=16\n",
    "c=25\n",
    "\n",
    "a if a>b and a>c else b if b>a and b>c else c"
   ]
  },
  {
   "cell_type": "code",
   "execution_count": 471,
   "id": "c12b2b31-62e9-404f-a9c6-7af05128970f",
   "metadata": {},
   "outputs": [],
   "source": [
    "x=lambda a,b,c:a if a>b and a>c else b if b>a and b>c else c"
   ]
  },
  {
   "cell_type": "code",
   "execution_count": 477,
   "id": "0c9cb8cf-fe72-4cc7-a0e6-882797dfc444",
   "metadata": {},
   "outputs": [
    {
     "data": {
      "text/plain": [
       "15"
      ]
     },
     "execution_count": 477,
     "metadata": {},
     "output_type": "execute_result"
    }
   ],
   "source": [
    "x(15,2,10)"
   ]
  },
  {
   "cell_type": "code",
   "execution_count": 495,
   "id": "b6c2f40e-8c16-4ea5-a0e2-ee1d032a0563",
   "metadata": {},
   "outputs": [
    {
     "name": "stdout",
     "output_type": "stream",
     "text": [
      "(10, 20, 30, 40, 50, 60)\n"
     ]
    }
   ],
   "source": [
    "t=(lambda *a:a) (10,20,30,40,50,60)\n",
    "print(t)"
   ]
  },
  {
   "cell_type": "code",
   "execution_count": 493,
   "id": "2d9888e4-ac56-4055-a92e-e53c24c84856",
   "metadata": {},
   "outputs": [
    {
     "name": "stdout",
     "output_type": "stream",
     "text": [
      "{'name': 'Amit', 'age': 20, 'city': 'Pune'}\n"
     ]
    }
   ],
   "source": [
    "d=(lambda **a:a)(name='Amit',age=20,city='Pune')\n",
    "print(d)"
   ]
  },
  {
   "cell_type": "code",
   "execution_count": 503,
   "id": "8c1d8fb0-9bc1-4e5e-b0b0-f76ddf37e39f",
   "metadata": {},
   "outputs": [],
   "source": [
    "lst=[1,2,3,4,5,6]\n",
    "res=[]\n",
    "for i in lst:\n",
    "    res.append((lambda x:x**2)(i))"
   ]
  },
  {
   "cell_type": "code",
   "execution_count": 505,
   "id": "b0ba3be8-b629-4576-ab40-7af7392d154a",
   "metadata": {},
   "outputs": [
    {
     "name": "stdout",
     "output_type": "stream",
     "text": [
      "[1, 4, 9, 16, 25, 36]\n"
     ]
    }
   ],
   "source": [
    "print(res)"
   ]
  },
  {
   "cell_type": "code",
   "execution_count": 507,
   "id": "9b187dda-3bbc-4aaf-b492-59424f4a94b9",
   "metadata": {},
   "outputs": [],
   "source": [
    "sqr=lambda x:x**2"
   ]
  },
  {
   "cell_type": "code",
   "execution_count": 509,
   "id": "63afdbba-2a23-4231-8303-70c2e4e4cb87",
   "metadata": {},
   "outputs": [
    {
     "data": {
      "text/plain": [
       "4"
      ]
     },
     "execution_count": 509,
     "metadata": {},
     "output_type": "execute_result"
    }
   ],
   "source": [
    "sqr(2)"
   ]
  },
  {
   "cell_type": "code",
   "execution_count": 517,
   "id": "d041dde4-f405-4175-a02c-e1d5b7b27358",
   "metadata": {},
   "outputs": [],
   "source": [
    "res=[]\n",
    "for i in lst:\n",
    "   res.append(sqr(i))"
   ]
  },
  {
   "cell_type": "code",
   "execution_count": 519,
   "id": "375f41fd-3271-45dc-ab91-830d8d0f2e55",
   "metadata": {},
   "outputs": [
    {
     "name": "stdout",
     "output_type": "stream",
     "text": [
      "[1, 4, 9, 16, 25, 36]\n"
     ]
    }
   ],
   "source": [
    "print(res)"
   ]
  },
  {
   "cell_type": "markdown",
   "id": "a890164d-46eb-4f6b-9b9f-5815a907c079",
   "metadata": {},
   "source": [
    "# filter()"
   ]
  },
  {
   "cell_type": "code",
   "execution_count": 574,
   "id": "da6e8590-279d-406a-ad92-823c63c1a1e2",
   "metadata": {},
   "outputs": [],
   "source": [
    "# - It filters the values from an iterable on the basis of a condition and returns a filter object.\n",
    "# - It takes two arguments. \n",
    "# - The first argument is a function and the second argument is an iterable.\n",
    "# - The function that we pass to the filter() must have only one variable and a condition.\n",
    "# - To fetch the values from the filter object we typecast it to list() or tuple() etc or can apply for loop."
   ]
  },
  {
   "cell_type": "code",
   "execution_count": 524,
   "id": "304ac058-c952-4af2-b16b-29820e069a00",
   "metadata": {},
   "outputs": [],
   "source": [
    "# filter(function,iterable)"
   ]
  },
  {
   "cell_type": "code",
   "execution_count": 526,
   "id": "c70bd0d2-ba1e-43df-b50d-b83a26db6564",
   "metadata": {},
   "outputs": [],
   "source": [
    "lst=[1,2,3,4,5,6,7,8,9,10]\n",
    "# Get the even numbers only from the above list"
   ]
  },
  {
   "cell_type": "code",
   "execution_count": 528,
   "id": "af1c9516-0e57-491b-b443-3e4b6bce8c68",
   "metadata": {},
   "outputs": [],
   "source": [
    "def even(x):\n",
    "    if x%2==0:\n",
    "        return True\n",
    "    else:\n",
    "        return False"
   ]
  },
  {
   "cell_type": "code",
   "execution_count": 546,
   "id": "aebeab89-dd0e-44ca-a490-b2c8a859cff1",
   "metadata": {},
   "outputs": [
    {
     "name": "stdout",
     "output_type": "stream",
     "text": [
      "False\n",
      "True\n",
      "False\n",
      "True\n",
      "False\n",
      "True\n",
      "False\n",
      "True\n",
      "False\n",
      "True\n"
     ]
    }
   ],
   "source": [
    "for i in lst:\n",
    "    print(even(i))"
   ]
  },
  {
   "cell_type": "code",
   "execution_count": 556,
   "id": "b81a3415-3d50-45d6-828b-b3bb1dca2d57",
   "metadata": {},
   "outputs": [
    {
     "name": "stdout",
     "output_type": "stream",
     "text": [
      "<filter object at 0x000001C87BDD09D0> <class 'filter'>\n",
      "[2, 4, 6, 8, 10]\n"
     ]
    }
   ],
   "source": [
    "f=filter(even,lst)\n",
    "print(f,type(f))\n",
    "\n",
    "lst=list(f)\n",
    "print(lst)"
   ]
  },
  {
   "cell_type": "code",
   "execution_count": 558,
   "id": "2014bf9b-e76c-40ba-9409-23d71b31b699",
   "metadata": {},
   "outputs": [],
   "source": [
    "lst=[1,2,3,4,5,6,7,8,9,10]\n",
    "# Get the even numbers only from the above list"
   ]
  },
  {
   "cell_type": "code",
   "execution_count": 564,
   "id": "73e3cee9-6ac4-4469-b285-c9568814e6f2",
   "metadata": {},
   "outputs": [
    {
     "data": {
      "text/plain": [
       "[2, 4, 6, 8, 10]"
      ]
     },
     "execution_count": 564,
     "metadata": {},
     "output_type": "execute_result"
    }
   ],
   "source": [
    "list(filter(lambda x:x%2==0,lst))"
   ]
  },
  {
   "cell_type": "code",
   "execution_count": 568,
   "id": "568cb06e-6c62-4b19-83ca-049018b258a4",
   "metadata": {},
   "outputs": [],
   "source": [
    "eve=lambda x:x%2==0"
   ]
  },
  {
   "cell_type": "code",
   "execution_count": 572,
   "id": "186646d8-fc8a-4dbc-8e5c-81481e0134ac",
   "metadata": {},
   "outputs": [
    {
     "data": {
      "text/plain": [
       "True"
      ]
     },
     "execution_count": 572,
     "metadata": {},
     "output_type": "execute_result"
    }
   ],
   "source": [
    "eve(2)"
   ]
  },
  {
   "cell_type": "code",
   "execution_count": 578,
   "id": "f0d489b2-0b8f-48d5-8965-da5c0302b13c",
   "metadata": {},
   "outputs": [
    {
     "name": "stdout",
     "output_type": "stream",
     "text": [
      "2\n",
      "4\n",
      "6\n",
      "8\n",
      "10\n"
     ]
    }
   ],
   "source": [
    "for i in filter(lambda x:x%2==0,lst):\n",
    "    print(i)"
   ]
  },
  {
   "cell_type": "code",
   "execution_count": 580,
   "id": "35118f83-932c-411f-b91e-b3b7998564dc",
   "metadata": {},
   "outputs": [],
   "source": [
    "names=['amit','Jayanth','suresh','tina','Amandeep','Erica','sumit','Gaurav']"
   ]
  },
  {
   "cell_type": "code",
   "execution_count": 592,
   "id": "8d2b86ed-706e-4146-8a8f-ae2a698d4d7c",
   "metadata": {},
   "outputs": [
    {
     "name": "stdout",
     "output_type": "stream",
     "text": [
      "['Jayanth', 'Amandeep', 'Erica', 'Gaurav']\n"
     ]
    }
   ],
   "source": [
    "res=list(filter(lambda x:x.istitle(),names))\n",
    "print(res)"
   ]
  },
  {
   "cell_type": "code",
   "execution_count": 590,
   "id": "ea04541b-af0e-45c9-81ec-9b62a797dab5",
   "metadata": {},
   "outputs": [
    {
     "name": "stdout",
     "output_type": "stream",
     "text": [
      "['Jayanth', 'Amandeep', 'Erica', 'Gaurav']\n"
     ]
    }
   ],
   "source": [
    "res=[]\n",
    "for i in names:\n",
    "    if i.istitle():\n",
    "        res.append(i)\n",
    "print(res)"
   ]
  },
  {
   "cell_type": "code",
   "execution_count": 594,
   "id": "2aeb6669-6458-403c-9602-fab2954e761b",
   "metadata": {},
   "outputs": [],
   "source": [
    "def t_name(name):\n",
    "    if name.istitle():\n",
    "        return True"
   ]
  },
  {
   "cell_type": "code",
   "execution_count": 598,
   "id": "49761aae-1e74-407f-b66b-b42bd596d284",
   "metadata": {},
   "outputs": [
    {
     "data": {
      "text/plain": [
       "['Jayanth', 'Amandeep', 'Erica', 'Gaurav']"
      ]
     },
     "execution_count": 598,
     "metadata": {},
     "output_type": "execute_result"
    }
   ],
   "source": [
    "list(filter(t_name,names))"
   ]
  },
  {
   "cell_type": "code",
   "execution_count": 600,
   "id": "094429b1-cf3b-46da-aa93-b5e9750c8229",
   "metadata": {},
   "outputs": [],
   "source": [
    "emp={'Amit':'Male','Tina':'Female','Suresh':'Male','Sarah':'Female','Erica':'Female'}"
   ]
  },
  {
   "cell_type": "code",
   "execution_count": 606,
   "id": "043fc2a5-ef8b-4fe4-9342-738b909c969b",
   "metadata": {},
   "outputs": [
    {
     "data": {
      "text/plain": [
       "['Female', 'Female', 'Female']"
      ]
     },
     "execution_count": 606,
     "metadata": {},
     "output_type": "execute_result"
    }
   ],
   "source": [
    "list(filter(lambda x:x=='Female',emp.values()))"
   ]
  },
  {
   "cell_type": "code",
   "execution_count": 608,
   "id": "fae307c1-3a85-4060-8005-3452a6255762",
   "metadata": {},
   "outputs": [],
   "source": [
    "def gender(g):\n",
    "    if g=='Male':\n",
    "        return True"
   ]
  },
  {
   "cell_type": "code",
   "execution_count": 612,
   "id": "579e374c-f5df-414b-8127-820a411c3f24",
   "metadata": {},
   "outputs": [
    {
     "data": {
      "text/plain": [
       "['Male', 'Male']"
      ]
     },
     "execution_count": 612,
     "metadata": {},
     "output_type": "execute_result"
    }
   ],
   "source": [
    "list(filter(gender,emp.values()))"
   ]
  },
  {
   "cell_type": "code",
   "execution_count": 614,
   "id": "5e5b0f49-45e8-476e-8304-1b41cf85f17b",
   "metadata": {},
   "outputs": [],
   "source": [
    "text='We are learning Python'"
   ]
  },
  {
   "cell_type": "code",
   "execution_count": 620,
   "id": "c04a3303-76ae-49a8-8cae-2b89b3d3cf6a",
   "metadata": {},
   "outputs": [
    {
     "data": {
      "text/plain": [
       "'eaeeaio'"
      ]
     },
     "execution_count": 620,
     "metadata": {},
     "output_type": "execute_result"
    }
   ],
   "source": [
    "''.join(list(filter(lambda x:x in 'AEIOUaeiou',text)))"
   ]
  },
  {
   "cell_type": "code",
   "execution_count": 624,
   "id": "e0d83f5f-6c55-4f1b-bedc-989a64678ed0",
   "metadata": {},
   "outputs": [
    {
     "name": "stdout",
     "output_type": "stream",
     "text": [
      "eaeeaio\n"
     ]
    }
   ],
   "source": [
    "s=''\n",
    "for i in text:\n",
    "    if i in 'AEIOUaeiou':\n",
    "        s=s+i\n",
    "print(s)"
   ]
  },
  {
   "cell_type": "code",
   "execution_count": 633,
   "id": "2659cfc6-183c-439c-98bc-8e4079126d55",
   "metadata": {},
   "outputs": [],
   "source": [
    "lst=['Male','Female','Male','Female','Female']"
   ]
  },
  {
   "cell_type": "code",
   "execution_count": 635,
   "id": "a355a491-a584-48e8-99f4-e289eafd7151",
   "metadata": {},
   "outputs": [],
   "source": [
    "def gender(g):\n",
    "    if g=='Male':\n",
    "        return True"
   ]
  },
  {
   "cell_type": "code",
   "execution_count": 637,
   "id": "972c56c9-9a4a-4091-a676-4729cd00bc4f",
   "metadata": {},
   "outputs": [
    {
     "data": {
      "text/plain": [
       "['Male', 'Male']"
      ]
     },
     "execution_count": 637,
     "metadata": {},
     "output_type": "execute_result"
    }
   ],
   "source": [
    "list(filter(gender,lst))"
   ]
  },
  {
   "cell_type": "markdown",
   "id": "e5a0362c-87ec-498f-9bd6-8588af03c359",
   "metadata": {},
   "source": [
    "# map()"
   ]
  },
  {
   "cell_type": "code",
   "execution_count": 639,
   "id": "1a601175-979c-4c26-8583-9ba5170fed31",
   "metadata": {},
   "outputs": [],
   "source": [
    "# - It is used to apply the element by element operation on an iterable.\n",
    "# - We can map multiple iterables using map.\n",
    "# - It takes two or more arguments.\n",
    "# - The first argument is a function and the rest of the arguments are iterables.\n",
    "# - It returns a map object.\n",
    "# - We can typecast map object to list(), tuple() etc. or we can apply loop"
   ]
  },
  {
   "cell_type": "code",
   "execution_count": 641,
   "id": "c77b02c2-805d-4687-ad0f-72102562c5fc",
   "metadata": {},
   "outputs": [],
   "source": [
    "# map(function,iterable)"
   ]
  },
  {
   "cell_type": "code",
   "execution_count": 643,
   "id": "e469ee75-fe7b-4d81-8822-8a3e769fdf48",
   "metadata": {},
   "outputs": [],
   "source": [
    "lst=[1,2,3,4,5,6]\n",
    "# Square all the numbers."
   ]
  },
  {
   "cell_type": "code",
   "execution_count": 649,
   "id": "82514ec3-a864-4c02-aea8-57d0e1eb51cf",
   "metadata": {},
   "outputs": [
    {
     "name": "stdout",
     "output_type": "stream",
     "text": [
      "[1, 4, 9, 16, 25, 36]\n"
     ]
    }
   ],
   "source": [
    "res=[]\n",
    "for i in lst:\n",
    "    res.append(i**2)\n",
    "print(res)"
   ]
  },
  {
   "cell_type": "code",
   "execution_count": 651,
   "id": "af0665b6-2296-4970-84be-0d020f981919",
   "metadata": {},
   "outputs": [],
   "source": [
    "def square(x):\n",
    "    return x**2"
   ]
  },
  {
   "cell_type": "code",
   "execution_count": 657,
   "id": "e20bbb47-fe9a-4412-8d59-53c025a802f4",
   "metadata": {},
   "outputs": [
    {
     "name": "stdout",
     "output_type": "stream",
     "text": [
      "[1, 4, 9, 16, 25, 36]\n"
     ]
    }
   ],
   "source": [
    "res=[]\n",
    "for i in lst:\n",
    "    res.append(square(i))\n",
    "print(res)"
   ]
  },
  {
   "cell_type": "code",
   "execution_count": 665,
   "id": "322ebdb5-e2bb-48ea-ab61-5f7a2280998c",
   "metadata": {},
   "outputs": [
    {
     "name": "stdout",
     "output_type": "stream",
     "text": [
      "<map object at 0x000001C87BDBD510> <class 'map'>\n",
      "[1, 4, 9, 16, 25, 36]\n"
     ]
    }
   ],
   "source": [
    "m=map(square,lst)\n",
    "print(m,type(m))\n",
    "\n",
    "res=list(m)\n",
    "print(res)"
   ]
  },
  {
   "cell_type": "code",
   "execution_count": 673,
   "id": "3ca0410e-00d5-4190-8863-011c735b34fc",
   "metadata": {},
   "outputs": [
    {
     "name": "stdout",
     "output_type": "stream",
     "text": [
      "[1, 4, 9, 16, 25, 36]\n"
     ]
    }
   ],
   "source": [
    "res=list(map(lambda x:x**2,lst))\n",
    "print(res)"
   ]
  },
  {
   "cell_type": "code",
   "execution_count": 677,
   "id": "7ee6f7b8-8dfa-486c-86cf-c2e80ef2b924",
   "metadata": {},
   "outputs": [],
   "source": [
    "lst=[1,2,3,4,5,6,7,8,9,10]\n",
    "# Square the even numbers and cube the odd numbers"
   ]
  },
  {
   "cell_type": "code",
   "execution_count": 679,
   "id": "9445d7c3-84f2-42c4-8464-77bf8c6e3d2b",
   "metadata": {},
   "outputs": [],
   "source": [
    "def sqr_cube(x):\n",
    "    if x%2==0:\n",
    "        return x**2\n",
    "    else:\n",
    "        return x**3"
   ]
  },
  {
   "cell_type": "code",
   "execution_count": 685,
   "id": "188ac776-e909-4514-83c4-a0317eb50b61",
   "metadata": {},
   "outputs": [
    {
     "data": {
      "text/plain": [
       "27"
      ]
     },
     "execution_count": 685,
     "metadata": {},
     "output_type": "execute_result"
    }
   ],
   "source": [
    "sqr_cube(3)"
   ]
  },
  {
   "cell_type": "code",
   "execution_count": 691,
   "id": "09102de1-5ef1-4d77-96d6-fc1ad98de23e",
   "metadata": {},
   "outputs": [
    {
     "name": "stdout",
     "output_type": "stream",
     "text": [
      "[1, 4, 27, 16, 125, 36, 343, 64, 729, 100]\n"
     ]
    }
   ],
   "source": [
    "res=list(map(sqr_cube,lst))\n",
    "print(res)"
   ]
  },
  {
   "cell_type": "code",
   "execution_count": 699,
   "id": "2afc07bd-110e-4fdc-a896-58f82ee23d2b",
   "metadata": {},
   "outputs": [
    {
     "name": "stdout",
     "output_type": "stream",
     "text": [
      "[1, 4, 27, 16, 125, 36, 343, 64, 729, 100]\n"
     ]
    }
   ],
   "source": [
    "res=list(map(lambda x:x**2 if x%2==0 else x**3,lst))\n",
    "print(res)"
   ]
  },
  {
   "cell_type": "code",
   "execution_count": 703,
   "id": "699cdb5c-33f0-49e4-a670-909290459529",
   "metadata": {},
   "outputs": [],
   "source": [
    "nums_1=[10,20,30,40,50]\n",
    "nums_2=[15,25,14,26,75]\n",
    "# Output- res=[25,45,44,66,125]"
   ]
  },
  {
   "cell_type": "code",
   "execution_count": 711,
   "id": "2d269e89-10f1-48d5-8cce-0c800e2b29d3",
   "metadata": {},
   "outputs": [],
   "source": [
    "def add(x,y):\n",
    "    return x+y"
   ]
  },
  {
   "cell_type": "code",
   "execution_count": 719,
   "id": "4a96a2d3-1b11-4e47-a348-07d94963cefe",
   "metadata": {},
   "outputs": [
    {
     "name": "stdout",
     "output_type": "stream",
     "text": [
      "[25, 45, 44, 66, 125]\n"
     ]
    }
   ],
   "source": [
    "res=[]\n",
    "for i,j in list(zip(nums_1,nums_2)):\n",
    "    res.append(add(i,j))\n",
    "print(res)"
   ]
  },
  {
   "cell_type": "code",
   "execution_count": 723,
   "id": "d904576c-238b-414c-b8f3-eb2f3467ccef",
   "metadata": {},
   "outputs": [
    {
     "data": {
      "text/plain": [
       "[25, 45, 44, 66, 125]"
      ]
     },
     "execution_count": 723,
     "metadata": {},
     "output_type": "execute_result"
    }
   ],
   "source": [
    "list(map(add,nums_1,nums_2))"
   ]
  },
  {
   "cell_type": "code",
   "execution_count": 729,
   "id": "80650b02-9218-4511-9cc8-f3b196b434a3",
   "metadata": {},
   "outputs": [
    {
     "data": {
      "text/plain": [
       "[25, 45, 44, 66, 125]"
      ]
     },
     "execution_count": 729,
     "metadata": {},
     "output_type": "execute_result"
    }
   ],
   "source": [
    "list(map(lambda x,y:x+y,nums_1,nums_2))"
   ]
  },
  {
   "cell_type": "code",
   "execution_count": 767,
   "id": "ad3be0e7-8ff7-414d-963d-74c22b228e57",
   "metadata": {},
   "outputs": [],
   "source": [
    "names=['Amit','Suresh','Kuldeep','Jayanth','Aditya']\n",
    "sur_names=('Kumar','Shetty','Singh','Kumar','Rao')"
   ]
  },
  {
   "cell_type": "code",
   "execution_count": 769,
   "id": "509be270-515b-4e9f-9d65-01ce562543ed",
   "metadata": {},
   "outputs": [
    {
     "name": "stdout",
     "output_type": "stream",
     "text": [
      "['Amit Kumar', 'Suresh Shetty', 'Kuldeep Singh', 'Jayanth Kumar', 'Aditya Rao']\n"
     ]
    }
   ],
   "source": [
    "res=[]\n",
    "for i,j in zip(names,sur_names):\n",
    "    res.append(i+' '+j)\n",
    "print(res)"
   ]
  },
  {
   "cell_type": "code",
   "execution_count": 771,
   "id": "507eff59-432a-4326-a5b1-560a3bc9fa8e",
   "metadata": {},
   "outputs": [
    {
     "name": "stdout",
     "output_type": "stream",
     "text": [
      "['Amit Kumar', 'Suresh Shetty', 'Kuldeep Singh', 'Jayanth Kumar', 'Aditya Rao']\n"
     ]
    }
   ],
   "source": [
    "res=list(map(lambda x,y:x+' '+y,names,sur_names))\n",
    "print(res)"
   ]
  },
  {
   "cell_type": "code",
   "execution_count": 776,
   "id": "34c6bbc5-2739-451a-9285-625bba986573",
   "metadata": {},
   "outputs": [
    {
     "data": {
      "text/plain": [
       "{'Amit': 'Kumar',\n",
       " 'Suresh': 'Shetty',\n",
       " 'Kuldeep': 'Singh',\n",
       " 'Jayanth': 'Kumar',\n",
       " 'Aditya': 'Rao'}"
      ]
     },
     "execution_count": 776,
     "metadata": {},
     "output_type": "execute_result"
    }
   ],
   "source": [
    "d=dict(zip(names,sur_names))\n",
    "d"
   ]
  },
  {
   "cell_type": "code",
   "execution_count": 778,
   "id": "f8cc95b0-11ab-467b-a448-7d31cc2e2cbd",
   "metadata": {},
   "outputs": [],
   "source": [
    "# Output- ['Amit Kumar', 'Suresh Shetty', 'Kuldeep Singh', 'Jayanth Kumar', 'Aditya Rao']"
   ]
  },
  {
   "cell_type": "code",
   "execution_count": 786,
   "id": "74cbebd8-1f4c-45ac-b358-c6cf62f98ff1",
   "metadata": {},
   "outputs": [
    {
     "data": {
      "text/plain": [
       "['Amit Kumar', 'Suresh Shetty', 'Kuldeep Singh', 'Jayanth Kumar', 'Aditya Rao']"
      ]
     },
     "execution_count": 786,
     "metadata": {},
     "output_type": "execute_result"
    }
   ],
   "source": [
    "list(map(lambda x,y:x+' '+y,d.keys(),d.values()))"
   ]
  },
  {
   "cell_type": "code",
   "execution_count": 788,
   "id": "166b2aa4-e999-44f5-8f44-95d50073df3d",
   "metadata": {},
   "outputs": [
    {
     "data": {
      "text/plain": [
       "{'Amit': 'Kumar',\n",
       " 'Suresh': 'Shetty',\n",
       " 'Kuldeep': 'Singh',\n",
       " 'Jayanth': 'Kumar',\n",
       " 'Aditya': 'Rao'}"
      ]
     },
     "execution_count": 788,
     "metadata": {},
     "output_type": "execute_result"
    }
   ],
   "source": [
    "d"
   ]
  },
  {
   "cell_type": "code",
   "execution_count": 790,
   "id": "cf989a7d-732b-4ed4-bd64-8ad49ed47bd2",
   "metadata": {},
   "outputs": [],
   "source": [
    "codes=[101,102,103,104,105]\n",
    "city=['Mumbai','Chennai','Bhopal','Pune','Noida']"
   ]
  },
  {
   "cell_type": "code",
   "execution_count": 808,
   "id": "1a4957e2-859e-4ce6-928d-2ae7e0f5a6bf",
   "metadata": {},
   "outputs": [],
   "source": [
    "dt={}\n",
    "for i in list(map(lambda n,s,c,ct:{c:[n+' '+s,ct]},d,d.values(),codes,city)):\n",
    "    dt.update(i)"
   ]
  },
  {
   "cell_type": "code",
   "execution_count": 800,
   "id": "70ba4d43-a6da-4330-82b6-25c045e43482",
   "metadata": {},
   "outputs": [],
   "source": [
    "# {101:['A'......],\n",
    "# 101,:['S'].....}"
   ]
  },
  {
   "cell_type": "code",
   "execution_count": 812,
   "id": "18c35c22-66af-4c34-83ce-aac5a7220cf3",
   "metadata": {},
   "outputs": [
    {
     "name": "stdout",
     "output_type": "stream",
     "text": [
      "{101: ['Amit Kumar', 'Mumbai'], 102: ['Suresh Shetty', 'Chennai'], 103: ['Kuldeep Singh', 'Bhopal'], 104: ['Jayanth Kumar', 'Pune'], 105: ['Aditya Rao', 'Noida']}\n"
     ]
    }
   ],
   "source": [
    "print(dt)"
   ]
  },
  {
   "cell_type": "code",
   "execution_count": 814,
   "id": "099b9a42-02da-4f19-9907-03f1482e3939",
   "metadata": {},
   "outputs": [],
   "source": [
    "gender=['Male','Female','Male','Female','Male','Male','Female']\n",
    "# 'Male'-1\n",
    "# 'Female'-0"
   ]
  },
  {
   "cell_type": "code",
   "execution_count": 818,
   "id": "416fd54d-3d52-444c-8a31-7cc8c0146fc5",
   "metadata": {},
   "outputs": [
    {
     "data": {
      "text/plain": [
       "[1, 0, 1, 0, 1, 1, 0]"
      ]
     },
     "execution_count": 818,
     "metadata": {},
     "output_type": "execute_result"
    }
   ],
   "source": [
    "list(map(lambda x:1 if x=='Male' else 0,gender))"
   ]
  },
  {
   "cell_type": "code",
   "execution_count": 820,
   "id": "799aecf4-9ca7-4ca8-8678-10b8d212bf72",
   "metadata": {},
   "outputs": [],
   "source": [
    "lst=[1,2,3,4,5,6]"
   ]
  },
  {
   "cell_type": "code",
   "execution_count": 828,
   "id": "98a50788-fb39-44aa-88ec-f4d63c293369",
   "metadata": {},
   "outputs": [
    {
     "data": {
      "text/plain": [
       "[2, 4, 6]"
      ]
     },
     "execution_count": 828,
     "metadata": {},
     "output_type": "execute_result"
    }
   ],
   "source": [
    "list(filter(lambda x:x%2==0,lst))"
   ]
  },
  {
   "cell_type": "code",
   "execution_count": 830,
   "id": "65577010-6d1f-4d53-bce7-37bbd2033282",
   "metadata": {},
   "outputs": [
    {
     "data": {
      "text/plain": [
       "[False, True, False, True, False, True]"
      ]
     },
     "execution_count": 830,
     "metadata": {},
     "output_type": "execute_result"
    }
   ],
   "source": [
    "list(map(lambda x:x%2==0,lst))"
   ]
  },
  {
   "cell_type": "code",
   "execution_count": 832,
   "id": "21ff2c3c-b713-4eff-95c6-59fef14a2c4a",
   "metadata": {},
   "outputs": [],
   "source": [
    "lst=[1,2,3,4,5,6]"
   ]
  },
  {
   "cell_type": "code",
   "execution_count": 836,
   "id": "32378611-a6a0-4633-b95c-906d06015402",
   "metadata": {},
   "outputs": [
    {
     "data": {
      "text/plain": [
       "[1, 4, 9, 16, 25, 36]"
      ]
     },
     "execution_count": 836,
     "metadata": {},
     "output_type": "execute_result"
    }
   ],
   "source": [
    "list(map(lambda x:x**2,lst))"
   ]
  },
  {
   "cell_type": "code",
   "execution_count": 838,
   "id": "17ca8159-f7fe-4998-ada8-b0afa9937b11",
   "metadata": {},
   "outputs": [
    {
     "data": {
      "text/plain": [
       "[1, 2, 3, 4, 5, 6]"
      ]
     },
     "execution_count": 838,
     "metadata": {},
     "output_type": "execute_result"
    }
   ],
   "source": [
    "list(filter(lambda x:x**2,lst))"
   ]
  },
  {
   "cell_type": "markdown",
   "id": "f1c17896-7166-4edd-b352-cd3f6746630b",
   "metadata": {},
   "source": [
    "# reduce()"
   ]
  },
  {
   "cell_type": "code",
   "execution_count": 843,
   "id": "254deca7-c314-41e0-a3e1-f2c4e229cf92",
   "metadata": {},
   "outputs": [],
   "source": [
    "# - It is used to perform the aggregation operation on an iterable.\n",
    "# - Aggregations- Sum, Min, Max, Average\n",
    "# - It takes two arguments.\n",
    "# - The first argument is a function and the second argument is an iterable.\n",
    "# - The function that we pass to reduce() must have two arguments.\n",
    "# - To use reduce() we have to import it from the functools module."
   ]
  },
  {
   "cell_type": "code",
   "execution_count": 845,
   "id": "66e9ae9c-9b47-417c-8694-6a7af5823a7d",
   "metadata": {},
   "outputs": [],
   "source": [
    "from functools import reduce"
   ]
  },
  {
   "cell_type": "code",
   "execution_count": 847,
   "id": "68519006-a696-46e5-8221-09ac706770e1",
   "metadata": {},
   "outputs": [
    {
     "data": {
      "text/plain": [
       "<function _functools.reduce>"
      ]
     },
     "execution_count": 847,
     "metadata": {},
     "output_type": "execute_result"
    }
   ],
   "source": [
    "reduce"
   ]
  },
  {
   "cell_type": "code",
   "execution_count": 849,
   "id": "d577b984-c466-48b5-ae85-d9697b287cff",
   "metadata": {},
   "outputs": [],
   "source": [
    "# reduce(function,iterable)"
   ]
  },
  {
   "cell_type": "code",
   "execution_count": 851,
   "id": "7cb0c141-03e8-4dd1-b981-4cc13afbc351",
   "metadata": {},
   "outputs": [],
   "source": [
    "lst=[1,2,3,4,5,6,7,8,9,10]\n",
    "# Sum of the list"
   ]
  },
  {
   "cell_type": "code",
   "execution_count": 853,
   "id": "8bd3875e-dea5-4abf-9008-ca9eecb5d850",
   "metadata": {},
   "outputs": [
    {
     "name": "stdout",
     "output_type": "stream",
     "text": [
      "55\n"
     ]
    }
   ],
   "source": [
    "s=0\n",
    "for i in lst:\n",
    "    s+=i\n",
    "print(s)"
   ]
  },
  {
   "cell_type": "code",
   "execution_count": 855,
   "id": "7d9f4cfa-734a-4bb8-9737-62347ac4dd8d",
   "metadata": {},
   "outputs": [],
   "source": [
    "def add(x,y):\n",
    "    return x+y"
   ]
  },
  {
   "cell_type": "code",
   "execution_count": 857,
   "id": "d84038e3-f3ca-4eb6-a8b6-e9873eea66fc",
   "metadata": {},
   "outputs": [
    {
     "data": {
      "text/plain": [
       "55"
      ]
     },
     "execution_count": 857,
     "metadata": {},
     "output_type": "execute_result"
    }
   ],
   "source": [
    "reduce(add,lst)"
   ]
  },
  {
   "cell_type": "code",
   "execution_count": 859,
   "id": "49e02cf1-7b89-473c-8e3f-05bdb4257d00",
   "metadata": {},
   "outputs": [
    {
     "data": {
      "text/plain": [
       "55"
      ]
     },
     "execution_count": 859,
     "metadata": {},
     "output_type": "execute_result"
    }
   ],
   "source": [
    "reduce(lambda x,y:x+y,lst)"
   ]
  },
  {
   "cell_type": "code",
   "execution_count": 863,
   "id": "d712e4cf-d2e1-43ff-99c1-6bc0a99843fa",
   "metadata": {},
   "outputs": [
    {
     "data": {
      "text/plain": [
       "3628800"
      ]
     },
     "execution_count": 863,
     "metadata": {},
     "output_type": "execute_result"
    }
   ],
   "source": [
    "reduce(lambda x,y:x*y,lst)"
   ]
  },
  {
   "cell_type": "code",
   "execution_count": 865,
   "id": "d7f8a1e1-8e7b-4e34-a306-0e52e3deaea7",
   "metadata": {},
   "outputs": [
    {
     "name": "stdout",
     "output_type": "stream",
     "text": [
      "3628800\n"
     ]
    }
   ],
   "source": [
    "m=1\n",
    "for i in lst:\n",
    "    m*=i\n",
    "print(m)"
   ]
  },
  {
   "cell_type": "code",
   "execution_count": 867,
   "id": "af449c67-c951-441d-b341-6b9b2cf263a6",
   "metadata": {},
   "outputs": [],
   "source": [
    "# Maximum of a list"
   ]
  },
  {
   "cell_type": "code",
   "execution_count": 869,
   "id": "520b6fe5-6320-4d1c-a2ad-d150c48b8797",
   "metadata": {},
   "outputs": [],
   "source": [
    "lst=[2,8,4,6,12,4,32,14,52,41,0,4]"
   ]
  },
  {
   "cell_type": "code",
   "execution_count": 871,
   "id": "9991a9ab-818f-421e-9c76-6afe3b0e3d04",
   "metadata": {},
   "outputs": [],
   "source": [
    "def mx(x,y):\n",
    "    if x>y:\n",
    "        return x\n",
    "    else:\n",
    "        return y"
   ]
  },
  {
   "cell_type": "code",
   "execution_count": 873,
   "id": "c4d5c167-1e81-412e-9b58-40f914934544",
   "metadata": {},
   "outputs": [
    {
     "data": {
      "text/plain": [
       "52"
      ]
     },
     "execution_count": 873,
     "metadata": {},
     "output_type": "execute_result"
    }
   ],
   "source": [
    "reduce(mx,lst)"
   ]
  },
  {
   "cell_type": "code",
   "execution_count": 875,
   "id": "5fe7ed6d-2015-4805-b049-6009d9666613",
   "metadata": {},
   "outputs": [
    {
     "data": {
      "text/plain": [
       "52"
      ]
     },
     "execution_count": 875,
     "metadata": {},
     "output_type": "execute_result"
    }
   ],
   "source": [
    "reduce(lambda x,y:x if x>y else y, lst)"
   ]
  },
  {
   "cell_type": "code",
   "execution_count": 877,
   "id": "5a470979-5094-49ef-a657-a02175f590a3",
   "metadata": {},
   "outputs": [],
   "source": [
    "def mn(x,y):\n",
    "    if x<y:\n",
    "        return x\n",
    "    else:\n",
    "        return y"
   ]
  },
  {
   "cell_type": "code",
   "execution_count": 879,
   "id": "4901839e-f5f9-4ae2-adb7-ebfaebf2a32b",
   "metadata": {},
   "outputs": [
    {
     "data": {
      "text/plain": [
       "0"
      ]
     },
     "execution_count": 879,
     "metadata": {},
     "output_type": "execute_result"
    }
   ],
   "source": [
    "reduce(mn,lst)"
   ]
  },
  {
   "cell_type": "code",
   "execution_count": 881,
   "id": "a3e60b01-5bbc-48a7-9146-91c8d9fdae99",
   "metadata": {},
   "outputs": [
    {
     "data": {
      "text/plain": [
       "0"
      ]
     },
     "execution_count": 881,
     "metadata": {},
     "output_type": "execute_result"
    }
   ],
   "source": [
    "reduce(lambda x,y:x if x<y else y,lst)"
   ]
  },
  {
   "cell_type": "code",
   "execution_count": 883,
   "id": "39c102dc-1511-4336-ae08-5fafa824a60a",
   "metadata": {},
   "outputs": [],
   "source": [
    "lst=[1,2,3,4,5,6,7,8,9]"
   ]
  },
  {
   "cell_type": "code",
   "execution_count": 885,
   "id": "fab2c1c7-2f26-4b13-852c-d211c9418766",
   "metadata": {},
   "outputs": [
    {
     "data": {
      "text/plain": [
       "45"
      ]
     },
     "execution_count": 885,
     "metadata": {},
     "output_type": "execute_result"
    }
   ],
   "source": [
    "reduce(lambda x,y:x+y,lst)"
   ]
  },
  {
   "cell_type": "code",
   "execution_count": 887,
   "id": "3f3254ef-ac3d-4cac-a5de-0f4641049204",
   "metadata": {},
   "outputs": [
    {
     "data": {
      "text/plain": [
       "45"
      ]
     },
     "execution_count": 887,
     "metadata": {},
     "output_type": "execute_result"
    }
   ],
   "source": [
    "x=1\n",
    "y=2\n",
    "# (x),y\n",
    "(1),2\n",
    "(1+2),3\n",
    "(3+3),4\n",
    "(6+4),5\n",
    "(10+5),6\n",
    "(15+6),7\n",
    "(21+7),8\n",
    "(28+8),9\n",
    "(36+9)"
   ]
  },
  {
   "cell_type": "code",
   "execution_count": 889,
   "id": "1fd4fc4c-b788-49b9-8530-25e09c1704c0",
   "metadata": {},
   "outputs": [],
   "source": [
    "lst=[2,8,4,6,12,4,32,14,52,41,0,4]"
   ]
  },
  {
   "cell_type": "code",
   "execution_count": 891,
   "id": "543cb1ec-d049-4b7b-ae52-c21c9242f7bc",
   "metadata": {},
   "outputs": [],
   "source": [
    "# x if x>y else y"
   ]
  },
  {
   "cell_type": "code",
   "execution_count": 899,
   "id": "f43c4e2e-f957-4ce7-8ed7-d8e914f30a14",
   "metadata": {},
   "outputs": [],
   "source": [
    "x=2\n",
    "y=8\n",
    "# x>y\n",
    "(2>8)-F\n",
    "x=8\n",
    "y=4\n",
    "(8>4)-T\n",
    "x=8\n",
    "y=6\n",
    "(8>6)-T\n",
    "x=8\n",
    "y=12\n",
    "(8>12)-F\n",
    "x=12\n",
    "y=4\n",
    "(12>4)-T\n",
    "x=12\n",
    "y=32\n",
    "(12>32)-F\n",
    "x=32\n",
    "y=14\n",
    "(32>14)-T\n",
    "x=32\n",
    "y=52\n",
    "(32>52)-F\n",
    "x=52\n",
    "y=41\n",
    "(52>41)-T\n",
    "x=52\n",
    "y=0\n",
    "(52>0)-T\n",
    "x=52\n",
    "y=4\n",
    "(52>4)-T\n",
    "x=52"
   ]
  },
  {
   "cell_type": "code",
   "execution_count": 901,
   "id": "8000048d-9320-4e5b-9786-ddf83ae315b7",
   "metadata": {},
   "outputs": [],
   "source": [
    "# Function Properties\n",
    "# Function Decorators"
   ]
  },
  {
   "cell_type": "code",
   "execution_count": null,
   "id": "198a75d2-93f0-4c32-b9ce-6c612b6d75ae",
   "metadata": {},
   "outputs": [],
   "source": []
  }
 ],
 "metadata": {
  "kernelspec": {
   "display_name": "Python 3 (ipykernel)",
   "language": "python",
   "name": "python3"
  },
  "language_info": {
   "codemirror_mode": {
    "name": "ipython",
    "version": 3
   },
   "file_extension": ".py",
   "mimetype": "text/x-python",
   "name": "python",
   "nbconvert_exporter": "python",
   "pygments_lexer": "ipython3",
   "version": "3.11.4"
  }
 },
 "nbformat": 4,
 "nbformat_minor": 5
}
