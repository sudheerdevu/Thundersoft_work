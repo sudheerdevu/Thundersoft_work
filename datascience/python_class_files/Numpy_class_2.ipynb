{
 "cells": [
  {
   "cell_type": "code",
   "execution_count": 1,
   "id": "21bb0739-7c02-43f1-a40a-b2c3d7bd5b88",
   "metadata": {},
   "outputs": [],
   "source": [
    "import numpy as np"
   ]
  },
  {
   "cell_type": "markdown",
   "id": "98460567-d835-49b1-a84b-284a8d939080",
   "metadata": {},
   "source": [
    "# Creating 2-D arrays"
   ]
  },
  {
   "cell_type": "markdown",
   "id": "67c70ff0-5306-49c5-8e8d-c2759b97c258",
   "metadata": {},
   "source": [
    "### 1- By using a 2-D list "
   ]
  },
  {
   "cell_type": "code",
   "execution_count": 5,
   "id": "d7be5964-3eea-4626-8c71-28b43f02936d",
   "metadata": {},
   "outputs": [],
   "source": [
    "# - A list within a list is known as a 2-D list.\n",
    "# - When we repeat a list, we get a 2-D list."
   ]
  },
  {
   "cell_type": "code",
   "execution_count": 7,
   "id": "eae88eb8-dfc4-4a5b-beb2-3ec738190aa9",
   "metadata": {},
   "outputs": [],
   "source": [
    "# [[]]"
   ]
  },
  {
   "cell_type": "code",
   "execution_count": 9,
   "id": "f4bab206-a5b0-431a-b049-bbb712477e16",
   "metadata": {},
   "outputs": [],
   "source": [
    "lst=[[10,20,30,40],[1,2,3,4],[100,200,300,400]]"
   ]
  },
  {
   "cell_type": "code",
   "execution_count": 11,
   "id": "3694f678-f28b-4d49-80ae-c3d8bbce85e4",
   "metadata": {},
   "outputs": [],
   "source": [
    "# - The number of lists inside the outer list are the number of rows.\n",
    "# - The number of elements in a list will be the number of columns."
   ]
  },
  {
   "cell_type": "code",
   "execution_count": 15,
   "id": "ea8edfc6-8173-4174-996d-f1c0abcdb6ef",
   "metadata": {},
   "outputs": [
    {
     "data": {
      "text/plain": [
       "array([[ 10,  20,  30,  40],\n",
       "       [  1,   2,   3,   4],\n",
       "       [100, 200, 300, 400]])"
      ]
     },
     "execution_count": 15,
     "metadata": {},
     "output_type": "execute_result"
    }
   ],
   "source": [
    "x=np.array(lst)\n",
    "x"
   ]
  },
  {
   "cell_type": "code",
   "execution_count": 17,
   "id": "a1ad9da2-d364-43dd-a51f-578d9033a0d3",
   "metadata": {},
   "outputs": [
    {
     "data": {
      "text/plain": [
       "(3, 4)"
      ]
     },
     "execution_count": 17,
     "metadata": {},
     "output_type": "execute_result"
    }
   ],
   "source": [
    "x.shape"
   ]
  },
  {
   "cell_type": "code",
   "execution_count": 21,
   "id": "1c51c032-2106-435f-af35-9f290543d549",
   "metadata": {},
   "outputs": [],
   "source": [
    "lst=[[2,4],[6,8],[7,9],[4,4],[6,8]]"
   ]
  },
  {
   "cell_type": "code",
   "execution_count": 25,
   "id": "77522af9-57ab-4ceb-b619-3b08a267e7ff",
   "metadata": {},
   "outputs": [
    {
     "data": {
      "text/plain": [
       "array([[2, 4],\n",
       "       [6, 8],\n",
       "       [7, 9],\n",
       "       [4, 4],\n",
       "       [6, 8]])"
      ]
     },
     "execution_count": 25,
     "metadata": {},
     "output_type": "execute_result"
    }
   ],
   "source": [
    "x=np.array(lst)\n",
    "x"
   ]
  },
  {
   "cell_type": "code",
   "execution_count": 27,
   "id": "2dccaab9-c4ed-469d-b043-ca47f8e09097",
   "metadata": {},
   "outputs": [
    {
     "data": {
      "text/plain": [
       "(5, 2)"
      ]
     },
     "execution_count": 27,
     "metadata": {},
     "output_type": "execute_result"
    }
   ],
   "source": [
    "x.shape"
   ]
  },
  {
   "cell_type": "code",
   "execution_count": 29,
   "id": "bbf3ddce-1d93-45d3-90d7-b4f9811f7909",
   "metadata": {},
   "outputs": [],
   "source": [
    "lst=[[2,4],[6,8],[7,9],[4,4],[6]]"
   ]
  },
  {
   "cell_type": "code",
   "execution_count": 31,
   "id": "8edab3d8-26ec-46f7-bb05-3d8c0901227f",
   "metadata": {},
   "outputs": [
    {
     "ename": "ValueError",
     "evalue": "setting an array element with a sequence. The requested array has an inhomogeneous shape after 1 dimensions. The detected shape was (5,) + inhomogeneous part.",
     "output_type": "error",
     "traceback": [
      "\u001b[1;31m---------------------------------------------------------------------------\u001b[0m",
      "\u001b[1;31mValueError\u001b[0m                                Traceback (most recent call last)",
      "Cell \u001b[1;32mIn[31], line 1\u001b[0m\n\u001b[1;32m----> 1\u001b[0m np\u001b[38;5;241m.\u001b[39marray(lst)\n",
      "\u001b[1;31mValueError\u001b[0m: setting an array element with a sequence. The requested array has an inhomogeneous shape after 1 dimensions. The detected shape was (5,) + inhomogeneous part."
     ]
    }
   ],
   "source": [
    "np.array(lst)"
   ]
  },
  {
   "cell_type": "markdown",
   "id": "e1a8d5e6-2faf-4429-a44f-b60b3c6131bf",
   "metadata": {},
   "source": [
    "### 2- By rehshaping an array"
   ]
  },
  {
   "cell_type": "code",
   "execution_count": 36,
   "id": "1986d4f9-c620-46ff-8042-b1c49d8d29d0",
   "metadata": {},
   "outputs": [],
   "source": [
    "# - We reshape a 1-D array into a 2-D array."
   ]
  },
  {
   "cell_type": "code",
   "execution_count": 38,
   "id": "354eff78-d813-48d8-9050-049b95a973b5",
   "metadata": {},
   "outputs": [],
   "source": [
    "# Create a 3*5 array of the numbers from 1 to 15."
   ]
  },
  {
   "cell_type": "code",
   "execution_count": 42,
   "id": "e8388d28-17ed-4ba7-b9c0-a2d43f832ced",
   "metadata": {},
   "outputs": [
    {
     "data": {
      "text/plain": [
       "array([ 1,  2,  3,  4,  5,  6,  7,  8,  9, 10, 11, 12, 13, 14, 15])"
      ]
     },
     "execution_count": 42,
     "metadata": {},
     "output_type": "execute_result"
    }
   ],
   "source": [
    "x=np.arange(1,16)\n",
    "x"
   ]
  },
  {
   "cell_type": "markdown",
   "id": "856b98c4-bae9-4447-8c98-7d23c4b6a3eb",
   "metadata": {},
   "source": [
    "### reshape()"
   ]
  },
  {
   "cell_type": "code",
   "execution_count": 45,
   "id": "97523e4d-e3c8-4ae9-9c9e-f02fc3c3d8e1",
   "metadata": {},
   "outputs": [],
   "source": [
    "# - It is invoked on an array object.\n",
    "# - It reshapes the aray as per the given dimension and returns a new array.\n",
    "# - It does not make the changes in the existing array."
   ]
  },
  {
   "cell_type": "code",
   "execution_count": 49,
   "id": "1edd6125-395e-497b-b504-5c61b4a35a6c",
   "metadata": {},
   "outputs": [],
   "source": [
    "# arr.reshape(rows,cols)"
   ]
  },
  {
   "cell_type": "code",
   "execution_count": 57,
   "id": "37ece60d-bba7-4711-8dfa-f660238e7b62",
   "metadata": {},
   "outputs": [
    {
     "data": {
      "text/plain": [
       "array([[ 1,  2,  3,  4,  5],\n",
       "       [ 6,  7,  8,  9, 10],\n",
       "       [11, 12, 13, 14, 15]])"
      ]
     },
     "execution_count": 57,
     "metadata": {},
     "output_type": "execute_result"
    }
   ],
   "source": [
    "y=x.reshape(3,5)\n",
    "y"
   ]
  },
  {
   "cell_type": "code",
   "execution_count": 59,
   "id": "7fa6ec46-f1a0-4711-a943-a3ad90f0460a",
   "metadata": {},
   "outputs": [
    {
     "data": {
      "text/plain": [
       "array([ 1,  2,  3,  4,  5,  6,  7,  8,  9, 10, 11, 12, 13, 14, 15])"
      ]
     },
     "execution_count": 59,
     "metadata": {},
     "output_type": "execute_result"
    }
   ],
   "source": [
    "x"
   ]
  },
  {
   "cell_type": "code",
   "execution_count": 63,
   "id": "68820bfe-010b-4f50-af57-93868139dbb9",
   "metadata": {},
   "outputs": [
    {
     "data": {
      "text/plain": [
       "(3, 5)"
      ]
     },
     "execution_count": 63,
     "metadata": {},
     "output_type": "execute_result"
    }
   ],
   "source": [
    "y.shape"
   ]
  },
  {
   "cell_type": "code",
   "execution_count": 65,
   "id": "ab23d9f4-d9bd-4aa0-be8d-7297200b5388",
   "metadata": {},
   "outputs": [],
   "source": [
    "# Create a 4*6 array of numbers from 1 to 24"
   ]
  },
  {
   "cell_type": "code",
   "execution_count": 79,
   "id": "f69c034a-6d2e-4f41-8d54-2d0e6eb5cfc8",
   "metadata": {},
   "outputs": [],
   "source": [
    "x=np.arange(1,25).reshape(4,6)"
   ]
  },
  {
   "cell_type": "code",
   "execution_count": 81,
   "id": "c7d23252-2a96-4753-8e99-af517409d8fb",
   "metadata": {},
   "outputs": [
    {
     "data": {
      "text/plain": [
       "array([[ 1,  2,  3,  4,  5,  6],\n",
       "       [ 7,  8,  9, 10, 11, 12],\n",
       "       [13, 14, 15, 16, 17, 18],\n",
       "       [19, 20, 21, 22, 23, 24]])"
      ]
     },
     "execution_count": 81,
     "metadata": {},
     "output_type": "execute_result"
    }
   ],
   "source": [
    "x"
   ]
  },
  {
   "cell_type": "markdown",
   "id": "77da6301-f084-4d1a-a238-77af67f55152",
   "metadata": {},
   "source": [
    "### shape=(rows,cols)"
   ]
  },
  {
   "cell_type": "code",
   "execution_count": 87,
   "id": "3653411b-f0c1-4298-af2d-98dbfafad8e7",
   "metadata": {},
   "outputs": [],
   "source": [
    "# - We keep the dimension in a tuple and assign it to shape attribute.\n",
    "# - It makes the changes in the existing array.\n",
    "# - It does not return anything."
   ]
  },
  {
   "cell_type": "code",
   "execution_count": 89,
   "id": "b73693a5-48ad-4d8e-a703-eb7a65ebfc0e",
   "metadata": {},
   "outputs": [],
   "source": [
    "# arr.shape=(rows,cols)"
   ]
  },
  {
   "cell_type": "code",
   "execution_count": 91,
   "id": "167e3b16-04e0-451f-8be2-29a908273f6a",
   "metadata": {},
   "outputs": [
    {
     "data": {
      "text/plain": [
       "array([ 1,  2,  3,  4,  5,  6,  7,  8,  9, 10, 11, 12, 13, 14, 15])"
      ]
     },
     "execution_count": 91,
     "metadata": {},
     "output_type": "execute_result"
    }
   ],
   "source": [
    "x=np.arange(1,16)\n",
    "x"
   ]
  },
  {
   "cell_type": "code",
   "execution_count": 93,
   "id": "e2516424-cab4-474c-b338-6318451ee7e2",
   "metadata": {},
   "outputs": [],
   "source": [
    "x.shape=(3,5)"
   ]
  },
  {
   "cell_type": "code",
   "execution_count": 95,
   "id": "5cb485d6-7b51-4d6b-8ecb-a10e5d7f157d",
   "metadata": {},
   "outputs": [
    {
     "data": {
      "text/plain": [
       "array([[ 1,  2,  3,  4,  5],\n",
       "       [ 6,  7,  8,  9, 10],\n",
       "       [11, 12, 13, 14, 15]])"
      ]
     },
     "execution_count": 95,
     "metadata": {},
     "output_type": "execute_result"
    }
   ],
   "source": [
    "x"
   ]
  },
  {
   "cell_type": "code",
   "execution_count": 97,
   "id": "37239a47-e179-46fc-bacd-7b6caf0f40b6",
   "metadata": {},
   "outputs": [
    {
     "data": {
      "text/plain": [
       "array([[ 1,  2,  3,  4,  5],\n",
       "       [ 6,  7,  8,  9, 10],\n",
       "       [11, 12, 13, 14, 15]])"
      ]
     },
     "execution_count": 97,
     "metadata": {},
     "output_type": "execute_result"
    }
   ],
   "source": [
    "x"
   ]
  },
  {
   "cell_type": "markdown",
   "id": "7883fa43-5f93-48ce-90c3-5a0ce9e8ce56",
   "metadata": {},
   "source": [
    "# Creating a 3-D array"
   ]
  },
  {
   "cell_type": "code",
   "execution_count": 100,
   "id": "633b27c8-47ab-4b7d-b233-c0ee01afe1f2",
   "metadata": {},
   "outputs": [],
   "source": [
    "# - When we repeat a 2-D array, we get a 3-D array."
   ]
  },
  {
   "cell_type": "markdown",
   "id": "c0d9b70a-64c5-42fe-ba66-d94f97677773",
   "metadata": {},
   "source": [
    "### 1- By using a 3-D list"
   ]
  },
  {
   "cell_type": "code",
   "execution_count": 103,
   "id": "28fc44e6-82b2-46cd-b8d3-ca350b31ef45",
   "metadata": {},
   "outputs": [],
   "source": [
    "# - When we repeat a 2-D list we get a 3-D list."
   ]
  },
  {
   "cell_type": "code",
   "execution_count": 105,
   "id": "34ef96ec-ba6b-4a3f-af01-d362f33cca57",
   "metadata": {},
   "outputs": [],
   "source": [
    "lst=[[[1,2,3],[1,2,3]],[[1,2,3],[1,2,3]]]"
   ]
  },
  {
   "cell_type": "code",
   "execution_count": 107,
   "id": "2be0910c-263a-427b-be76-3268cb7f1fdf",
   "metadata": {},
   "outputs": [],
   "source": [
    "# - The number of 2-D lists = The number of layers.\n",
    "# - The number of lists in a 2-D list = The number of rows in each layer.\n",
    "# - The number of elements in a 1-D list = The number of columns in each layer."
   ]
  },
  {
   "cell_type": "code",
   "execution_count": 109,
   "id": "5b1bd4d2-0601-4e0c-bff8-29ddbf31dbe1",
   "metadata": {},
   "outputs": [],
   "source": [
    "# (2,2,3)"
   ]
  },
  {
   "cell_type": "code",
   "execution_count": 115,
   "id": "9e449c73-ded9-4a1f-8257-b8a81a2b278e",
   "metadata": {},
   "outputs": [
    {
     "data": {
      "text/plain": [
       "array([[[1, 2, 3],\n",
       "        [1, 2, 3]],\n",
       "\n",
       "       [[1, 2, 3],\n",
       "        [1, 2, 3]]])"
      ]
     },
     "execution_count": 115,
     "metadata": {},
     "output_type": "execute_result"
    }
   ],
   "source": [
    "x=np.array(lst)\n",
    "x"
   ]
  },
  {
   "cell_type": "code",
   "execution_count": 117,
   "id": "7b08b834-b8f2-46d5-8db5-cb2b6bc10fe3",
   "metadata": {},
   "outputs": [
    {
     "data": {
      "text/plain": [
       "(2, 2, 3)"
      ]
     },
     "execution_count": 117,
     "metadata": {},
     "output_type": "execute_result"
    }
   ],
   "source": [
    "x.shape"
   ]
  },
  {
   "cell_type": "code",
   "execution_count": 121,
   "id": "837e0c71-e057-44ae-a275-3364d76cf608",
   "metadata": {},
   "outputs": [],
   "source": [
    "lst=[[[1,2],[4,5],[6,8]],[[1,2],[4,5],[6,8]],[[1,2],[4,5],[6,8]],[[1,2],[4,5],[6,8]]]"
   ]
  },
  {
   "cell_type": "code",
   "execution_count": 123,
   "id": "3f476b8e-b057-40d1-bec6-a57d5d292be9",
   "metadata": {},
   "outputs": [
    {
     "data": {
      "text/plain": [
       "array([[[1, 2],\n",
       "        [4, 5],\n",
       "        [6, 8]],\n",
       "\n",
       "       [[1, 2],\n",
       "        [4, 5],\n",
       "        [6, 8]],\n",
       "\n",
       "       [[1, 2],\n",
       "        [4, 5],\n",
       "        [6, 8]],\n",
       "\n",
       "       [[1, 2],\n",
       "        [4, 5],\n",
       "        [6, 8]]])"
      ]
     },
     "execution_count": 123,
     "metadata": {},
     "output_type": "execute_result"
    }
   ],
   "source": [
    "x=np.array(lst)\n",
    "x"
   ]
  },
  {
   "cell_type": "code",
   "execution_count": 125,
   "id": "304d60ae-48c8-46eb-a030-5ce15b743627",
   "metadata": {},
   "outputs": [
    {
     "data": {
      "text/plain": [
       "(4, 3, 2)"
      ]
     },
     "execution_count": 125,
     "metadata": {},
     "output_type": "execute_result"
    }
   ],
   "source": [
    "x.shape"
   ]
  },
  {
   "cell_type": "markdown",
   "id": "909ad0ed-d36a-41f5-973e-7f8c6f8e29b0",
   "metadata": {},
   "source": [
    "### 2- By reshaping"
   ]
  },
  {
   "cell_type": "code",
   "execution_count": 128,
   "id": "f97777b3-4fe9-456e-80ee-7efd898d9f3b",
   "metadata": {},
   "outputs": [],
   "source": [
    "# Create a 3*4*2 array of numbers."
   ]
  },
  {
   "cell_type": "code",
   "execution_count": 134,
   "id": "0b416dad-cffc-4460-b7a4-a9f32e8978d1",
   "metadata": {},
   "outputs": [],
   "source": [
    "# arr.reshape(layers,rows,cols)"
   ]
  },
  {
   "cell_type": "code",
   "execution_count": 144,
   "id": "d6062f04-663b-4bf0-b341-b2100f9119b4",
   "metadata": {},
   "outputs": [
    {
     "data": {
      "text/plain": [
       "array([[[ 1,  2],\n",
       "        [ 3,  4],\n",
       "        [ 5,  6],\n",
       "        [ 7,  8]],\n",
       "\n",
       "       [[ 9, 10],\n",
       "        [11, 12],\n",
       "        [13, 14],\n",
       "        [15, 16]],\n",
       "\n",
       "       [[17, 18],\n",
       "        [19, 20],\n",
       "        [21, 22],\n",
       "        [23, 24]]])"
      ]
     },
     "execution_count": 144,
     "metadata": {},
     "output_type": "execute_result"
    }
   ],
   "source": [
    "x=np.arange(1,25).reshape(3,4,2)\n",
    "x"
   ]
  },
  {
   "cell_type": "code",
   "execution_count": 146,
   "id": "a88dd9d0-8251-4061-aa81-5bf5effd8662",
   "metadata": {},
   "outputs": [
    {
     "data": {
      "text/plain": [
       "(3, 4, 2)"
      ]
     },
     "execution_count": 146,
     "metadata": {},
     "output_type": "execute_result"
    }
   ],
   "source": [
    "x.shape"
   ]
  },
  {
   "cell_type": "code",
   "execution_count": 148,
   "id": "f1f2553f-b055-4f58-a4e1-d007151b83ac",
   "metadata": {},
   "outputs": [
    {
     "data": {
      "text/plain": [
       "array([1, 2, 3, 4, 5, 6, 7, 8])"
      ]
     },
     "execution_count": 148,
     "metadata": {},
     "output_type": "execute_result"
    }
   ],
   "source": [
    "x=np.arange(1,9)\n",
    "x"
   ]
  },
  {
   "cell_type": "code",
   "execution_count": 150,
   "id": "2cfb3945-8a0d-4060-8ada-5120e0df924d",
   "metadata": {},
   "outputs": [],
   "source": [
    "x.shape=(2,2,2)"
   ]
  },
  {
   "cell_type": "code",
   "execution_count": 152,
   "id": "5c8495d0-100e-4d58-b242-2a88271a47fc",
   "metadata": {},
   "outputs": [
    {
     "data": {
      "text/plain": [
       "array([[[1, 2],\n",
       "        [3, 4]],\n",
       "\n",
       "       [[5, 6],\n",
       "        [7, 8]]])"
      ]
     },
     "execution_count": 152,
     "metadata": {},
     "output_type": "execute_result"
    }
   ],
   "source": [
    "x"
   ]
  },
  {
   "cell_type": "markdown",
   "id": "0cc0205e-b84e-44d5-bd8f-da9a51afe2d0",
   "metadata": {},
   "source": [
    "# Indexing and Slicing of arrays"
   ]
  },
  {
   "cell_type": "markdown",
   "id": "5f376ede-00c4-4dce-8bb2-4141dfc6a24c",
   "metadata": {},
   "source": [
    "## Indexing and slicing of a 1-D array"
   ]
  },
  {
   "cell_type": "code",
   "execution_count": 167,
   "id": "e20587d0-de01-4fa7-bb74-2582ef0a531a",
   "metadata": {},
   "outputs": [],
   "source": [
    "# - The indexing and slicing of a 1-D array is exact the same as a list.\n",
    "# - Array supports +ive and -ive indexing both."
   ]
  },
  {
   "cell_type": "code",
   "execution_count": 180,
   "id": "6d3aa33f-8fa8-406f-96a7-db466f80a10d",
   "metadata": {},
   "outputs": [],
   "source": [
    "# len(1-D array) - It returns the number of elements in the array."
   ]
  },
  {
   "cell_type": "markdown",
   "id": "7a879144-f422-463d-bbc8-da45d5b8a001",
   "metadata": {},
   "source": [
    "### Indexing"
   ]
  },
  {
   "cell_type": "code",
   "execution_count": 172,
   "id": "13a41da4-672b-4d5c-980b-eb70d6d33c5b",
   "metadata": {},
   "outputs": [],
   "source": [
    "# arr[index]"
   ]
  },
  {
   "cell_type": "code",
   "execution_count": 169,
   "id": "c2edbcbc-1ee8-47d3-82cb-4e7b8f3280ac",
   "metadata": {},
   "outputs": [],
   "source": [
    "x=np.array([10,20,30,40,50,60,70,80])"
   ]
  },
  {
   "cell_type": "code",
   "execution_count": 186,
   "id": "f2bba922-9cf8-4f53-ad80-84f59be5df32",
   "metadata": {},
   "outputs": [
    {
     "name": "stdout",
     "output_type": "stream",
     "text": [
      "10\n",
      "10\n",
      "10\n"
     ]
    }
   ],
   "source": [
    "# First element\n",
    "print(x[0])\n",
    "print(x[-8])\n",
    "print(x[-len(x)])"
   ]
  },
  {
   "cell_type": "code",
   "execution_count": 184,
   "id": "32996f00-ccfc-491c-bd3d-365361283c54",
   "metadata": {},
   "outputs": [
    {
     "data": {
      "text/plain": [
       "-8"
      ]
     },
     "execution_count": 184,
     "metadata": {},
     "output_type": "execute_result"
    }
   ],
   "source": [
    "-len(x)"
   ]
  },
  {
   "cell_type": "code",
   "execution_count": 196,
   "id": "88c516e3-5c8e-4646-a667-4830a10861a9",
   "metadata": {},
   "outputs": [
    {
     "name": "stdout",
     "output_type": "stream",
     "text": [
      "80\n",
      "80\n",
      "80\n"
     ]
    }
   ],
   "source": [
    "# Last element\n",
    "print(x[-1])\n",
    "print(x[7])\n",
    "print(x[len(x)-1])"
   ]
  },
  {
   "cell_type": "code",
   "execution_count": 194,
   "id": "c5abc5ce-4c76-4e4f-b6ed-9e77ec91f066",
   "metadata": {},
   "outputs": [
    {
     "data": {
      "text/plain": [
       "7"
      ]
     },
     "execution_count": 194,
     "metadata": {},
     "output_type": "execute_result"
    }
   ],
   "source": [
    "len(x)-1"
   ]
  },
  {
   "cell_type": "markdown",
   "id": "97b806ae-e88c-437a-a8f1-8d3c3b46b9b4",
   "metadata": {},
   "source": [
    "### Slicing"
   ]
  },
  {
   "cell_type": "code",
   "execution_count": 207,
   "id": "7b618154-e2cb-4773-a101-2f9c2d3909fb",
   "metadata": {},
   "outputs": [],
   "source": [
    "# arr[start:stop:setp]\n",
    "# stop is excluded\n",
    "# 1 is the default step"
   ]
  },
  {
   "cell_type": "code",
   "execution_count": 201,
   "id": "4f1e120a-8d0a-4ccc-9fc4-5ebd07ce80f9",
   "metadata": {},
   "outputs": [
    {
     "data": {
      "text/plain": [
       "array([10, 20, 30, 40, 50, 60, 70, 80])"
      ]
     },
     "execution_count": 201,
     "metadata": {},
     "output_type": "execute_result"
    }
   ],
   "source": [
    "x"
   ]
  },
  {
   "cell_type": "code",
   "execution_count": 211,
   "id": "2050b59b-629b-44c8-9928-374b9c0f354a",
   "metadata": {},
   "outputs": [
    {
     "name": "stdout",
     "output_type": "stream",
     "text": [
      "[10 20 30]\n",
      "[10 20 30]\n",
      "[10 20 30]\n"
     ]
    }
   ],
   "source": [
    "# First three elements.\n",
    "print(x[0:3])\n",
    "print(x[0:3:1])\n",
    "print(x[:3])"
   ]
  },
  {
   "cell_type": "code",
   "execution_count": 225,
   "id": "5d921985-28ca-45d9-b20d-68cee3f65899",
   "metadata": {},
   "outputs": [
    {
     "name": "stdout",
     "output_type": "stream",
     "text": [
      "[60 70 80]\n",
      "[60 70 80]\n"
     ]
    }
   ],
   "source": [
    "# Last 3 elements\n",
    "print(x[-3:len(x)])\n",
    "print(x[-3::])"
   ]
  },
  {
   "cell_type": "code",
   "execution_count": 231,
   "id": "c8dbd8bc-096d-4904-925c-b009f899973d",
   "metadata": {},
   "outputs": [
    {
     "name": "stdout",
     "output_type": "stream",
     "text": [
      "[10 20 30 40 50]\n",
      "[10 20 30 40 50]\n"
     ]
    }
   ],
   "source": [
    "# All elements except the last 3\n",
    "# [10.......50]\n",
    "\n",
    "print(x[0:-3])\n",
    "print(x[:-3])"
   ]
  },
  {
   "cell_type": "markdown",
   "id": "1442b7ff-4b63-4013-93fb-da20a5c8c819",
   "metadata": {},
   "source": [
    "### Indexing and slicing of a 2-D array"
   ]
  },
  {
   "cell_type": "markdown",
   "id": "62aad83e-0ef3-441d-979b-e5109aff68de",
   "metadata": {},
   "source": [
    "### Indexing"
   ]
  },
  {
   "cell_type": "code",
   "execution_count": 236,
   "id": "ea59db92-3d83-41b4-bbc2-bbcc5dab6b8f",
   "metadata": {},
   "outputs": [],
   "source": [
    "# arr[row_index]\n",
    "# arr[row_index,col_index]"
   ]
  },
  {
   "cell_type": "code",
   "execution_count": 242,
   "id": "57d85ff6-4440-4a8d-845c-7316d4bfaf12",
   "metadata": {},
   "outputs": [
    {
     "data": {
      "text/plain": [
       "array([[10, 20, 30, 40],\n",
       "       [50, 60, 70, 80],\n",
       "       [90, 25, 65, 45]])"
      ]
     },
     "execution_count": 242,
     "metadata": {},
     "output_type": "execute_result"
    }
   ],
   "source": [
    "x=np.array([10,20,30,40,50,60,70,80,90,25,65,45]).reshape(3,4)\n",
    "x"
   ]
  },
  {
   "cell_type": "code",
   "execution_count": 250,
   "id": "706cddb2-fc15-43ef-ac1f-90b65e69424c",
   "metadata": {},
   "outputs": [],
   "source": [
    "# len(2-D array)- It return the number of rows."
   ]
  },
  {
   "cell_type": "code",
   "execution_count": 258,
   "id": "c3d9a3e3-4f74-4bfe-be2e-ec3330eb8cd1",
   "metadata": {},
   "outputs": [
    {
     "name": "stdout",
     "output_type": "stream",
     "text": [
      "[10 20 30 40]\n",
      "[10 20 30 40]\n",
      "[10 20 30 40]\n"
     ]
    }
   ],
   "source": [
    "# First row\n",
    "print(x[0])\n",
    "print(x[-3])\n",
    "print(x[-len(x)])"
   ]
  },
  {
   "cell_type": "code",
   "execution_count": 256,
   "id": "f001c19d-c9e2-4348-8f03-34e43864535a",
   "metadata": {},
   "outputs": [
    {
     "data": {
      "text/plain": [
       "-3"
      ]
     },
     "execution_count": 256,
     "metadata": {},
     "output_type": "execute_result"
    }
   ],
   "source": [
    "-len(x)"
   ]
  },
  {
   "cell_type": "code",
   "execution_count": 260,
   "id": "daff2a91-5912-4dcc-bd4a-640a312dcc36",
   "metadata": {},
   "outputs": [
    {
     "data": {
      "text/plain": [
       "array([[10, 20, 30, 40],\n",
       "       [50, 60, 70, 80],\n",
       "       [90, 25, 65, 45]])"
      ]
     },
     "execution_count": 260,
     "metadata": {},
     "output_type": "execute_result"
    }
   ],
   "source": [
    "x"
   ]
  },
  {
   "cell_type": "code",
   "execution_count": 264,
   "id": "125ca8fe-2685-4ed5-8aa9-91ee0587a2c3",
   "metadata": {},
   "outputs": [
    {
     "name": "stdout",
     "output_type": "stream",
     "text": [
      "30\n",
      "70\n"
     ]
    }
   ],
   "source": [
    "print(x[0,2])\n",
    "# Fetch 70\n",
    "print(x[1,2])"
   ]
  },
  {
   "cell_type": "code",
   "execution_count": 266,
   "id": "d4ad1b53-bf3f-4178-8b11-51c266077240",
   "metadata": {},
   "outputs": [
    {
     "name": "stdout",
     "output_type": "stream",
     "text": [
      "65\n"
     ]
    }
   ],
   "source": [
    "print(x[-1,-2])"
   ]
  },
  {
   "cell_type": "code",
   "execution_count": 274,
   "id": "ac4194f1-e5ef-419b-a5a1-6dccb01e84e5",
   "metadata": {},
   "outputs": [
    {
     "name": "stdout",
     "output_type": "stream",
     "text": [
      "50\n",
      "25\n"
     ]
    }
   ],
   "source": [
    "# Fetch 50\n",
    "print(x[1,0])\n",
    "\n",
    "# Fetch 25\n",
    "print(x[-1,1])"
   ]
  },
  {
   "cell_type": "markdown",
   "id": "0d425b58-87e4-44e9-9ebd-ac969c40f797",
   "metadata": {},
   "source": [
    "### Slicing"
   ]
  },
  {
   "cell_type": "code",
   "execution_count": 277,
   "id": "13a27efe-f2e6-47c6-a583-fb5c58f30dcf",
   "metadata": {},
   "outputs": [],
   "source": [
    "# arr[row_slicing]\n",
    "# arr[row_slicing,col_slicing]\n",
    "\n",
    "# arr[start:stop:step]\n",
    "# arr[start:stop:step,start:stop:step]"
   ]
  },
  {
   "cell_type": "code",
   "execution_count": 279,
   "id": "df1fb67b-efdf-4380-ae1b-bd40867b8a34",
   "metadata": {},
   "outputs": [
    {
     "data": {
      "text/plain": [
       "array([[10, 20, 30, 40],\n",
       "       [50, 60, 70, 80],\n",
       "       [90, 25, 65, 45]])"
      ]
     },
     "execution_count": 279,
     "metadata": {},
     "output_type": "execute_result"
    }
   ],
   "source": [
    "x"
   ]
  },
  {
   "cell_type": "code",
   "execution_count": 283,
   "id": "7b5fe530-77c5-4f05-95aa-10f34d839513",
   "metadata": {},
   "outputs": [
    {
     "data": {
      "text/plain": [
       "array([[10, 20, 30, 40],\n",
       "       [50, 60, 70, 80]])"
      ]
     },
     "execution_count": 283,
     "metadata": {},
     "output_type": "execute_result"
    }
   ],
   "source": [
    "# First two rows\n",
    "x[0:2]"
   ]
  },
  {
   "cell_type": "code",
   "execution_count": 285,
   "id": "dbd285c2-a52e-4c4d-861a-ef5248529631",
   "metadata": {},
   "outputs": [
    {
     "data": {
      "text/plain": [
       "array([[10, 20, 30, 40],\n",
       "       [50, 60, 70, 80]])"
      ]
     },
     "execution_count": 285,
     "metadata": {},
     "output_type": "execute_result"
    }
   ],
   "source": [
    "x[:2]"
   ]
  },
  {
   "cell_type": "code",
   "execution_count": 287,
   "id": "1d6b924d-f203-435b-aec9-f41ed62dc030",
   "metadata": {},
   "outputs": [
    {
     "data": {
      "text/plain": [
       "array([[10, 20, 30, 40],\n",
       "       [50, 60, 70, 80]])"
      ]
     },
     "execution_count": 287,
     "metadata": {},
     "output_type": "execute_result"
    }
   ],
   "source": [
    "x[0:2:1]"
   ]
  },
  {
   "cell_type": "code",
   "execution_count": 289,
   "id": "5b4b9daa-14c2-4b1e-a5d9-feb46076d6e6",
   "metadata": {},
   "outputs": [
    {
     "data": {
      "text/plain": [
       "array([[10, 20, 30, 40],\n",
       "       [50, 60, 70, 80],\n",
       "       [90, 25, 65, 45]])"
      ]
     },
     "execution_count": 289,
     "metadata": {},
     "output_type": "execute_result"
    }
   ],
   "source": [
    "x"
   ]
  },
  {
   "cell_type": "code",
   "execution_count": 291,
   "id": "7d9fd825-05a6-4693-9d5b-bf15bbabf1d5",
   "metadata": {},
   "outputs": [],
   "source": [
    "# Reverse the rows"
   ]
  },
  {
   "cell_type": "code",
   "execution_count": 293,
   "id": "a56c4c2b-8210-40c6-9865-dfbeeb3d3b4d",
   "metadata": {},
   "outputs": [
    {
     "data": {
      "text/plain": [
       "array([[90, 25, 65, 45],\n",
       "       [50, 60, 70, 80],\n",
       "       [10, 20, 30, 40]])"
      ]
     },
     "execution_count": 293,
     "metadata": {},
     "output_type": "execute_result"
    }
   ],
   "source": [
    "x[::-1]"
   ]
  },
  {
   "cell_type": "code",
   "execution_count": 295,
   "id": "410ceebf-7646-4e33-8db2-c25d55dca8a2",
   "metadata": {},
   "outputs": [
    {
     "data": {
      "text/plain": [
       "array([[10, 20, 30, 40],\n",
       "       [50, 60, 70, 80],\n",
       "       [90, 25, 65, 45]])"
      ]
     },
     "execution_count": 295,
     "metadata": {},
     "output_type": "execute_result"
    }
   ],
   "source": [
    "x"
   ]
  },
  {
   "cell_type": "code",
   "execution_count": 299,
   "id": "3957785e-0614-4a29-b442-4f95a7cf1fc8",
   "metadata": {},
   "outputs": [
    {
     "data": {
      "text/plain": [
       "array([[10, 20, 30, 40],\n",
       "       [90, 25, 65, 45]])"
      ]
     },
     "execution_count": 299,
     "metadata": {},
     "output_type": "execute_result"
    }
   ],
   "source": [
    "# Get the first and the last row only.\n",
    "x[::2]"
   ]
  },
  {
   "cell_type": "code",
   "execution_count": 313,
   "id": "b7de49de-51dd-4c48-8156-38245ac9dceb",
   "metadata": {},
   "outputs": [
    {
     "data": {
      "text/plain": [
       "array([[90, 25, 65, 45],\n",
       "       [10, 20, 30, 40]])"
      ]
     },
     "execution_count": 313,
     "metadata": {},
     "output_type": "execute_result"
    }
   ],
   "source": [
    "# Get the last and the first row.\n",
    "x[::-2]"
   ]
  },
  {
   "cell_type": "code",
   "execution_count": 315,
   "id": "51c4bfe6-f11b-4c14-ab4b-76a6961b8256",
   "metadata": {},
   "outputs": [
    {
     "data": {
      "text/plain": [
       "array([[10, 20, 30, 40],\n",
       "       [50, 60, 70, 80],\n",
       "       [90, 25, 65, 45]])"
      ]
     },
     "execution_count": 315,
     "metadata": {},
     "output_type": "execute_result"
    }
   ],
   "source": [
    "x"
   ]
  },
  {
   "cell_type": "code",
   "execution_count": 325,
   "id": "06a69e52-d3f2-4e8d-b9b6-db0300f7e7dd",
   "metadata": {},
   "outputs": [
    {
     "data": {
      "text/plain": [
       "array([[10, 20],\n",
       "       [50, 60],\n",
       "       [90, 25]])"
      ]
     },
     "execution_count": 325,
     "metadata": {},
     "output_type": "execute_result"
    }
   ],
   "source": [
    "# Get the first two columns.\n",
    "x[::,0:2]"
   ]
  },
  {
   "cell_type": "code",
   "execution_count": 329,
   "id": "3f74f931-bac5-4d54-9509-f746ccf2e864",
   "metadata": {},
   "outputs": [
    {
     "data": {
      "text/plain": [
       "array([[10, 30],\n",
       "       [50, 70],\n",
       "       [90, 65]])"
      ]
     },
     "execution_count": 329,
     "metadata": {},
     "output_type": "execute_result"
    }
   ],
   "source": [
    "# Get the alternate columns\n",
    "x[::,::2]"
   ]
  },
  {
   "cell_type": "code",
   "execution_count": 331,
   "id": "430fbb5b-007f-44a8-a17e-955ec7a05dea",
   "metadata": {},
   "outputs": [
    {
     "data": {
      "text/plain": [
       "array([[10, 20, 30, 40],\n",
       "       [50, 60, 70, 80],\n",
       "       [90, 25, 65, 45]])"
      ]
     },
     "execution_count": 331,
     "metadata": {},
     "output_type": "execute_result"
    }
   ],
   "source": [
    "x"
   ]
  },
  {
   "cell_type": "code",
   "execution_count": 337,
   "id": "4e6d72ed-c3de-4cfc-a98d-2c5063cae0d2",
   "metadata": {},
   "outputs": [
    {
     "data": {
      "text/plain": [
       "array([[40, 30, 20, 10],\n",
       "       [80, 70, 60, 50],\n",
       "       [45, 65, 25, 90]])"
      ]
     },
     "execution_count": 337,
     "metadata": {},
     "output_type": "execute_result"
    }
   ],
   "source": [
    "# Reverse the columns.\n",
    "x[::,::-1]"
   ]
  },
  {
   "cell_type": "code",
   "execution_count": 341,
   "id": "f8ed435f-aab3-4fbc-848d-53ed6a7d3536",
   "metadata": {},
   "outputs": [
    {
     "data": {
      "text/plain": [
       "array([[10, 20, 30, 40],\n",
       "       [50, 60, 70, 80],\n",
       "       [90, 25, 65, 45]])"
      ]
     },
     "execution_count": 341,
     "metadata": {},
     "output_type": "execute_result"
    }
   ],
   "source": [
    "x"
   ]
  },
  {
   "cell_type": "code",
   "execution_count": 343,
   "id": "8b544ce6-44d1-4473-b409-99eaedd4f351",
   "metadata": {},
   "outputs": [
    {
     "data": {
      "text/plain": [
       "array([[45, 65, 25, 90],\n",
       "       [80, 70, 60, 50],\n",
       "       [40, 30, 20, 10]])"
      ]
     },
     "execution_count": 343,
     "metadata": {},
     "output_type": "execute_result"
    }
   ],
   "source": [
    "# Reverse the rows and the columns both.\n",
    "x[::-1,::-1]"
   ]
  },
  {
   "cell_type": "code",
   "execution_count": 345,
   "id": "8c6d4572-4f18-4020-b1b9-4b3e25a79ac2",
   "metadata": {},
   "outputs": [
    {
     "data": {
      "text/plain": [
       "array([[10, 20, 30, 40],\n",
       "       [50, 60, 70, 80],\n",
       "       [90, 25, 65, 45]])"
      ]
     },
     "execution_count": 345,
     "metadata": {},
     "output_type": "execute_result"
    }
   ],
   "source": [
    "x"
   ]
  },
  {
   "cell_type": "code",
   "execution_count": 347,
   "id": "1df43600-4fce-45a7-952a-ae5b65b8ac42",
   "metadata": {},
   "outputs": [],
   "source": [
    "# Get the first column only."
   ]
  },
  {
   "cell_type": "code",
   "execution_count": 357,
   "id": "addf5bd3-f9bb-43fd-8067-c024f53bff7d",
   "metadata": {},
   "outputs": [
    {
     "data": {
      "text/plain": [
       "array([[10],\n",
       "       [50],\n",
       "       [90]])"
      ]
     },
     "execution_count": 357,
     "metadata": {},
     "output_type": "execute_result"
    }
   ],
   "source": [
    "x[::,[0]]"
   ]
  },
  {
   "cell_type": "code",
   "execution_count": 367,
   "id": "353c193a-3bef-44a5-ada2-51ff79257a53",
   "metadata": {},
   "outputs": [
    {
     "data": {
      "text/plain": [
       "array([[10],\n",
       "       [50],\n",
       "       [90]])"
      ]
     },
     "execution_count": 367,
     "metadata": {},
     "output_type": "execute_result"
    }
   ],
   "source": [
    "x[::,0:1]"
   ]
  },
  {
   "cell_type": "code",
   "execution_count": 369,
   "id": "d6c4504b-f5d7-4acf-86c0-aff63e74d6d0",
   "metadata": {},
   "outputs": [
    {
     "data": {
      "text/plain": [
       "array([[10, 20, 30, 40],\n",
       "       [50, 60, 70, 80],\n",
       "       [90, 25, 65, 45]])"
      ]
     },
     "execution_count": 369,
     "metadata": {},
     "output_type": "execute_result"
    }
   ],
   "source": [
    "x"
   ]
  },
  {
   "cell_type": "code",
   "execution_count": 373,
   "id": "4305a711-83bd-4e40-aa84-f12af447245c",
   "metadata": {},
   "outputs": [
    {
     "data": {
      "text/plain": [
       "array([40, 80, 45])"
      ]
     },
     "execution_count": 373,
     "metadata": {},
     "output_type": "execute_result"
    }
   ],
   "source": [
    "# Get the last column only.\n",
    "x[::,-1]"
   ]
  },
  {
   "cell_type": "code",
   "execution_count": 375,
   "id": "41bc4a1a-fd27-478c-8056-02cbf811b2ce",
   "metadata": {},
   "outputs": [
    {
     "data": {
      "text/plain": [
       "array([[40],\n",
       "       [80],\n",
       "       [45]])"
      ]
     },
     "execution_count": 375,
     "metadata": {},
     "output_type": "execute_result"
    }
   ],
   "source": [
    "x[::,[-1]]"
   ]
  },
  {
   "cell_type": "code",
   "execution_count": 377,
   "id": "c7a1d5f8-beb6-4e23-bf0d-efa52870d273",
   "metadata": {},
   "outputs": [
    {
     "data": {
      "text/plain": [
       "array([[40],\n",
       "       [80],\n",
       "       [45]])"
      ]
     },
     "execution_count": 377,
     "metadata": {},
     "output_type": "execute_result"
    }
   ],
   "source": [
    "x[::,-1:]"
   ]
  },
  {
   "cell_type": "code",
   "execution_count": 379,
   "id": "c3c3d402-0908-4308-93d6-d1a6220aaa85",
   "metadata": {},
   "outputs": [
    {
     "data": {
      "text/plain": [
       "array([[10, 20, 30, 40],\n",
       "       [50, 60, 70, 80],\n",
       "       [90, 25, 65, 45]])"
      ]
     },
     "execution_count": 379,
     "metadata": {},
     "output_type": "execute_result"
    }
   ],
   "source": [
    "x"
   ]
  },
  {
   "cell_type": "code",
   "execution_count": 389,
   "id": "2f7a5b2b-1984-45e7-87f1-4f628c743ce9",
   "metadata": {},
   "outputs": [
    {
     "data": {
      "text/plain": [
       "array([[50, 60],\n",
       "       [90, 25]])"
      ]
     },
     "execution_count": 389,
     "metadata": {},
     "output_type": "execute_result"
    }
   ],
   "source": [
    "# [[50,60],\n",
    "# [90,25]]\n",
    "\n",
    "x[1::,0:2]"
   ]
  },
  {
   "cell_type": "code",
   "execution_count": 393,
   "id": "cf9a385c-8cb3-4bd0-a158-c1549b20c707",
   "metadata": {},
   "outputs": [],
   "source": [
    "x=np.random.randint(10,100,size=(5,5))"
   ]
  },
  {
   "cell_type": "code",
   "execution_count": 395,
   "id": "3c300fec-6b52-4b18-893d-45c507c12df8",
   "metadata": {},
   "outputs": [
    {
     "data": {
      "text/plain": [
       "array([[30, 81, 73, 52, 13],\n",
       "       [53, 49, 26, 20, 70],\n",
       "       [77, 10, 65, 54, 56],\n",
       "       [52, 11, 94, 81, 10],\n",
       "       [46, 47, 81, 85, 42]])"
      ]
     },
     "execution_count": 395,
     "metadata": {},
     "output_type": "execute_result"
    }
   ],
   "source": [
    "x"
   ]
  },
  {
   "cell_type": "code",
   "execution_count": 411,
   "id": "91eccda1-10f5-4e93-b482-c9fe4fe11fc4",
   "metadata": {},
   "outputs": [
    {
     "data": {
      "text/plain": [
       "array([[10, 56],\n",
       "       [47, 42]])"
      ]
     },
     "execution_count": 411,
     "metadata": {},
     "output_type": "execute_result"
    }
   ],
   "source": [
    "# [[10,56],\n",
    "# [47,42]]\n",
    "x[2::2,1::3]"
   ]
  },
  {
   "cell_type": "code",
   "execution_count": 413,
   "id": "7d679270-53c9-4ae4-848c-635f5ebc1628",
   "metadata": {},
   "outputs": [
    {
     "data": {
      "text/plain": [
       "array([[30, 81, 73, 52, 13],\n",
       "       [53, 49, 26, 20, 70],\n",
       "       [77, 10, 65, 54, 56],\n",
       "       [52, 11, 94, 81, 10],\n",
       "       [46, 47, 81, 85, 42]])"
      ]
     },
     "execution_count": 413,
     "metadata": {},
     "output_type": "execute_result"
    }
   ],
   "source": [
    "x"
   ]
  },
  {
   "cell_type": "code",
   "execution_count": 427,
   "id": "1fba16f0-7b46-4c40-8492-f371d37ca048",
   "metadata": {},
   "outputs": [
    {
     "data": {
      "text/plain": [
       "array([[54, 65, 10],\n",
       "       [81, 94, 11]])"
      ]
     },
     "execution_count": 427,
     "metadata": {},
     "output_type": "execute_result"
    }
   ],
   "source": [
    "# [[54,65,10],\n",
    "# [81,94,11]]\n",
    "\n",
    "x[2:4,-2:-5:-1]"
   ]
  },
  {
   "cell_type": "code",
   "execution_count": 437,
   "id": "9004f56a-da75-4398-b46d-8fd39fb9003a",
   "metadata": {},
   "outputs": [
    {
     "data": {
      "text/plain": [
       "array([[30, 81, 73, 52, 13],\n",
       "       [53, 49, 26, 20, 70],\n",
       "       [77, 10, 65, 54, 56],\n",
       "       [52, 11, 94, 81, 10],\n",
       "       [46, 47, 81, 85, 42]])"
      ]
     },
     "execution_count": 437,
     "metadata": {},
     "output_type": "execute_result"
    }
   ],
   "source": [
    "x"
   ]
  },
  {
   "cell_type": "code",
   "execution_count": 445,
   "id": "165dc56b-0fc4-4575-aac0-97725f97d845",
   "metadata": {},
   "outputs": [
    {
     "data": {
      "text/plain": [
       "array([[81, 52],\n",
       "       [20, 53]])"
      ]
     },
     "execution_count": 445,
     "metadata": {},
     "output_type": "execute_result"
    }
   ],
   "source": [
    "# [[81,52],\n",
    "# [20,53]]\n",
    "\n",
    "x[-2:-5:-2,-2::-3]"
   ]
  },
  {
   "cell_type": "markdown",
   "id": "1939f914-f534-4895-9277-e51f89828634",
   "metadata": {},
   "source": [
    "## Indexing and Slcing of a 3-D array"
   ]
  },
  {
   "cell_type": "markdown",
   "id": "70ae942f-8f01-4bfb-8c9a-3f9b10c9f1e7",
   "metadata": {},
   "source": [
    "### Indexing"
   ]
  },
  {
   "cell_type": "code",
   "execution_count": 449,
   "id": "c1f956e9-f9d0-42f5-a975-01a2608abadd",
   "metadata": {},
   "outputs": [],
   "source": [
    "# arr[array_index]\n",
    "# arr[array_index,row_index]\n",
    "# arr[array_index,row_index,col_index]"
   ]
  },
  {
   "cell_type": "code",
   "execution_count": 451,
   "id": "c5f34f55-2dee-4c27-8b1f-673677639689",
   "metadata": {},
   "outputs": [],
   "source": [
    "x=np.random.randint(10,100,size=(3,3,4))"
   ]
  },
  {
   "cell_type": "code",
   "execution_count": 453,
   "id": "a11b17c1-b2ec-46d1-8a40-5b2fb1029a3c",
   "metadata": {},
   "outputs": [
    {
     "data": {
      "text/plain": [
       "array([[[26, 40, 13, 70],\n",
       "        [90, 60, 75, 48],\n",
       "        [70, 30, 91, 88]],\n",
       "\n",
       "       [[57, 14, 70, 77],\n",
       "        [84, 86, 52, 49],\n",
       "        [97, 95, 74, 80]],\n",
       "\n",
       "       [[72, 38, 16, 10],\n",
       "        [38, 26, 56, 84],\n",
       "        [55, 96, 10, 43]]])"
      ]
     },
     "execution_count": 453,
     "metadata": {},
     "output_type": "execute_result"
    }
   ],
   "source": [
    "x"
   ]
  },
  {
   "cell_type": "code",
   "execution_count": 461,
   "id": "dd3c710b-1851-4a6b-b6fe-eb9fbb965c74",
   "metadata": {},
   "outputs": [],
   "source": [
    "# len(3-D array)- It returns the number of layers."
   ]
  },
  {
   "cell_type": "code",
   "execution_count": 457,
   "id": "b36c1949-ab50-44bb-a83b-f60d3d2e46f0",
   "metadata": {},
   "outputs": [
    {
     "data": {
      "text/plain": [
       "array([[26, 40, 13, 70],\n",
       "       [90, 60, 75, 48],\n",
       "       [70, 30, 91, 88]])"
      ]
     },
     "execution_count": 457,
     "metadata": {},
     "output_type": "execute_result"
    }
   ],
   "source": [
    "# Fetch the first array\n",
    "x[0]"
   ]
  },
  {
   "cell_type": "code",
   "execution_count": 459,
   "id": "4ba4d199-774c-45c9-b277-dd79e211688f",
   "metadata": {},
   "outputs": [
    {
     "data": {
      "text/plain": [
       "array([[26, 40, 13, 70],\n",
       "       [90, 60, 75, 48],\n",
       "       [70, 30, 91, 88]])"
      ]
     },
     "execution_count": 459,
     "metadata": {},
     "output_type": "execute_result"
    }
   ],
   "source": [
    "x[-3]"
   ]
  },
  {
   "cell_type": "code",
   "execution_count": 467,
   "id": "ab63e4b4-c994-4884-8880-8bf25a31897c",
   "metadata": {},
   "outputs": [
    {
     "data": {
      "text/plain": [
       "array([[26, 40, 13, 70],\n",
       "       [90, 60, 75, 48],\n",
       "       [70, 30, 91, 88]])"
      ]
     },
     "execution_count": 467,
     "metadata": {},
     "output_type": "execute_result"
    }
   ],
   "source": [
    "x[-len(x)]"
   ]
  },
  {
   "cell_type": "code",
   "execution_count": 465,
   "id": "bae2b124-885a-4c1f-b40e-c604bbd1dd72",
   "metadata": {},
   "outputs": [
    {
     "data": {
      "text/plain": [
       "-3"
      ]
     },
     "execution_count": 465,
     "metadata": {},
     "output_type": "execute_result"
    }
   ],
   "source": [
    "-len(x)"
   ]
  },
  {
   "cell_type": "code",
   "execution_count": 469,
   "id": "43af05ef-288c-461d-9a6a-e7ef3166c1c0",
   "metadata": {},
   "outputs": [
    {
     "data": {
      "text/plain": [
       "array([[[26, 40, 13, 70],\n",
       "        [90, 60, 75, 48],\n",
       "        [70, 30, 91, 88]],\n",
       "\n",
       "       [[57, 14, 70, 77],\n",
       "        [84, 86, 52, 49],\n",
       "        [97, 95, 74, 80]],\n",
       "\n",
       "       [[72, 38, 16, 10],\n",
       "        [38, 26, 56, 84],\n",
       "        [55, 96, 10, 43]]])"
      ]
     },
     "execution_count": 469,
     "metadata": {},
     "output_type": "execute_result"
    }
   ],
   "source": [
    "x"
   ]
  },
  {
   "cell_type": "code",
   "execution_count": 471,
   "id": "a198ec92-734f-4a3b-83ce-b010d9ace845",
   "metadata": {},
   "outputs": [
    {
     "data": {
      "text/plain": [
       "array([[72, 38, 16, 10],\n",
       "       [38, 26, 56, 84],\n",
       "       [55, 96, 10, 43]])"
      ]
     },
     "execution_count": 471,
     "metadata": {},
     "output_type": "execute_result"
    }
   ],
   "source": [
    "# Fetch the last array.\n",
    "x[-1]"
   ]
  },
  {
   "cell_type": "code",
   "execution_count": 473,
   "id": "d2e65b4a-90cc-4b53-8eb9-8f7c70f41eaf",
   "metadata": {},
   "outputs": [
    {
     "data": {
      "text/plain": [
       "array([[72, 38, 16, 10],\n",
       "       [38, 26, 56, 84],\n",
       "       [55, 96, 10, 43]])"
      ]
     },
     "execution_count": 473,
     "metadata": {},
     "output_type": "execute_result"
    }
   ],
   "source": [
    "x[2]"
   ]
  },
  {
   "cell_type": "code",
   "execution_count": 477,
   "id": "6b9b50e3-3243-4ca6-9f28-a8e9aba06dc4",
   "metadata": {},
   "outputs": [
    {
     "data": {
      "text/plain": [
       "2"
      ]
     },
     "execution_count": 477,
     "metadata": {},
     "output_type": "execute_result"
    }
   ],
   "source": [
    "len(x)-1"
   ]
  },
  {
   "cell_type": "code",
   "execution_count": 479,
   "id": "4ef5d54b-d6d9-437a-86e0-714b252230fd",
   "metadata": {},
   "outputs": [
    {
     "data": {
      "text/plain": [
       "array([[72, 38, 16, 10],\n",
       "       [38, 26, 56, 84],\n",
       "       [55, 96, 10, 43]])"
      ]
     },
     "execution_count": 479,
     "metadata": {},
     "output_type": "execute_result"
    }
   ],
   "source": [
    "x[len(x)-1]"
   ]
  },
  {
   "cell_type": "code",
   "execution_count": 481,
   "id": "a8aa9cc8-09b8-4798-ac6a-3d66e66d3eed",
   "metadata": {},
   "outputs": [
    {
     "data": {
      "text/plain": [
       "array([[[26, 40, 13, 70],\n",
       "        [90, 60, 75, 48],\n",
       "        [70, 30, 91, 88]],\n",
       "\n",
       "       [[57, 14, 70, 77],\n",
       "        [84, 86, 52, 49],\n",
       "        [97, 95, 74, 80]],\n",
       "\n",
       "       [[72, 38, 16, 10],\n",
       "        [38, 26, 56, 84],\n",
       "        [55, 96, 10, 43]]])"
      ]
     },
     "execution_count": 481,
     "metadata": {},
     "output_type": "execute_result"
    }
   ],
   "source": [
    "x"
   ]
  },
  {
   "cell_type": "code",
   "execution_count": 487,
   "id": "5d4b384c-169b-44b9-8bdb-5ee833128a5a",
   "metadata": {},
   "outputs": [
    {
     "data": {
      "text/plain": [
       "array([57, 14, 70, 77])"
      ]
     },
     "execution_count": 487,
     "metadata": {},
     "output_type": "execute_result"
    }
   ],
   "source": [
    "# First row from the second array\n",
    "x[1,0]"
   ]
  },
  {
   "cell_type": "code",
   "execution_count": 491,
   "id": "f2fa8c8f-b13f-4ed5-ad4a-6630b69308ca",
   "metadata": {},
   "outputs": [
    {
     "data": {
      "text/plain": [
       "array([38, 26, 56, 84])"
      ]
     },
     "execution_count": 491,
     "metadata": {},
     "output_type": "execute_result"
    }
   ],
   "source": [
    "# Secomnd rpw from the last array.\n",
    "x[-1,1]"
   ]
  },
  {
   "cell_type": "code",
   "execution_count": 497,
   "id": "b8b77964-de18-4bf5-88fb-484e0a23b443",
   "metadata": {},
   "outputs": [
    {
     "data": {
      "text/plain": [
       "84"
      ]
     },
     "execution_count": 497,
     "metadata": {},
     "output_type": "execute_result"
    }
   ],
   "source": [
    "# 84 from the second array\n",
    "x[1,1,0]"
   ]
  },
  {
   "cell_type": "code",
   "execution_count": 503,
   "id": "eb9d26ed-3eeb-42fe-b0b8-0d2fefa02af1",
   "metadata": {},
   "outputs": [
    {
     "data": {
      "text/plain": [
       "91"
      ]
     },
     "execution_count": 503,
     "metadata": {},
     "output_type": "execute_result"
    }
   ],
   "source": [
    "# 91 from the first array\n",
    "x[0,-1,-2]"
   ]
  },
  {
   "cell_type": "markdown",
   "id": "55de0d96-a658-4a25-96ea-de1c5332691b",
   "metadata": {},
   "source": [
    "### Slicing"
   ]
  },
  {
   "cell_type": "code",
   "execution_count": 506,
   "id": "27af4a52-5fa5-47e3-abd3-bbd0f27e6f10",
   "metadata": {},
   "outputs": [],
   "source": [
    "# x[arr_slicing]\n",
    "# x[start:stop:step]\n",
    "\n",
    "# x[arr_slicing,row_slicing]\n",
    "# x[start:stop:step,start:stop:step]\n",
    "\n",
    "# x[arr_slicing,row_slicing,col_slicing]\n",
    "# x[start:stop:step,start:stop:step,start:stop:step]"
   ]
  },
  {
   "cell_type": "code",
   "execution_count": 508,
   "id": "f4bac57f-a652-4a4f-9d21-bb8e4477bdaf",
   "metadata": {},
   "outputs": [
    {
     "data": {
      "text/plain": [
       "array([[[26, 40, 13, 70],\n",
       "        [90, 60, 75, 48],\n",
       "        [70, 30, 91, 88]],\n",
       "\n",
       "       [[57, 14, 70, 77],\n",
       "        [84, 86, 52, 49],\n",
       "        [97, 95, 74, 80]],\n",
       "\n",
       "       [[72, 38, 16, 10],\n",
       "        [38, 26, 56, 84],\n",
       "        [55, 96, 10, 43]]])"
      ]
     },
     "execution_count": 508,
     "metadata": {},
     "output_type": "execute_result"
    }
   ],
   "source": [
    "x"
   ]
  },
  {
   "cell_type": "code",
   "execution_count": 512,
   "id": "84d5dd5a-4500-4dff-a92e-0c1527b454e6",
   "metadata": {},
   "outputs": [
    {
     "data": {
      "text/plain": [
       "array([[[26, 40, 13, 70],\n",
       "        [90, 60, 75, 48],\n",
       "        [70, 30, 91, 88]],\n",
       "\n",
       "       [[57, 14, 70, 77],\n",
       "        [84, 86, 52, 49],\n",
       "        [97, 95, 74, 80]]])"
      ]
     },
     "execution_count": 512,
     "metadata": {},
     "output_type": "execute_result"
    }
   ],
   "source": [
    "# First two arrays\n",
    "x[0:2]"
   ]
  },
  {
   "cell_type": "code",
   "execution_count": 514,
   "id": "565dfdac-f478-4a5d-bc07-445e338702f9",
   "metadata": {},
   "outputs": [
    {
     "data": {
      "text/plain": [
       "array([[[26, 40, 13, 70],\n",
       "        [90, 60, 75, 48],\n",
       "        [70, 30, 91, 88]],\n",
       "\n",
       "       [[72, 38, 16, 10],\n",
       "        [38, 26, 56, 84],\n",
       "        [55, 96, 10, 43]]])"
      ]
     },
     "execution_count": 514,
     "metadata": {},
     "output_type": "execute_result"
    }
   ],
   "source": [
    "# Alternate arrays\n",
    "x[::2]"
   ]
  },
  {
   "cell_type": "code",
   "execution_count": 518,
   "id": "6e895bb8-0082-476a-a746-5e3d1441e151",
   "metadata": {},
   "outputs": [
    {
     "data": {
      "text/plain": [
       "array([[[72, 38, 16, 10],\n",
       "        [38, 26, 56, 84],\n",
       "        [55, 96, 10, 43]],\n",
       "\n",
       "       [[57, 14, 70, 77],\n",
       "        [84, 86, 52, 49],\n",
       "        [97, 95, 74, 80]],\n",
       "\n",
       "       [[26, 40, 13, 70],\n",
       "        [90, 60, 75, 48],\n",
       "        [70, 30, 91, 88]]])"
      ]
     },
     "execution_count": 518,
     "metadata": {},
     "output_type": "execute_result"
    }
   ],
   "source": [
    "# Reverse the arrays\n",
    "x[::-1]"
   ]
  },
  {
   "cell_type": "code",
   "execution_count": 520,
   "id": "09873810-72b4-46bc-b354-361344e6d8be",
   "metadata": {},
   "outputs": [
    {
     "data": {
      "text/plain": [
       "array([[[26, 40, 13, 70],\n",
       "        [90, 60, 75, 48],\n",
       "        [70, 30, 91, 88]],\n",
       "\n",
       "       [[57, 14, 70, 77],\n",
       "        [84, 86, 52, 49],\n",
       "        [97, 95, 74, 80]],\n",
       "\n",
       "       [[72, 38, 16, 10],\n",
       "        [38, 26, 56, 84],\n",
       "        [55, 96, 10, 43]]])"
      ]
     },
     "execution_count": 520,
     "metadata": {},
     "output_type": "execute_result"
    }
   ],
   "source": [
    "x"
   ]
  },
  {
   "cell_type": "code",
   "execution_count": 526,
   "id": "32ea5375-2ae2-4040-9184-c997a5f76604",
   "metadata": {},
   "outputs": [
    {
     "data": {
      "text/plain": [
       "array([[[26, 40, 13, 70]],\n",
       "\n",
       "       [[57, 14, 70, 77]],\n",
       "\n",
       "       [[72, 38, 16, 10]]])"
      ]
     },
     "execution_count": 526,
     "metadata": {},
     "output_type": "execute_result"
    }
   ],
   "source": [
    "# First row from all the arrays\n",
    "x[::,[0]]"
   ]
  },
  {
   "cell_type": "code",
   "execution_count": 528,
   "id": "6a1c041a-9d57-4833-b287-47d2b0ae39d2",
   "metadata": {},
   "outputs": [
    {
     "data": {
      "text/plain": [
       "array([[[26, 40, 13, 70]],\n",
       "\n",
       "       [[57, 14, 70, 77]],\n",
       "\n",
       "       [[72, 38, 16, 10]]])"
      ]
     },
     "execution_count": 528,
     "metadata": {},
     "output_type": "execute_result"
    }
   ],
   "source": [
    "x[::,0:1]"
   ]
  },
  {
   "cell_type": "code",
   "execution_count": 532,
   "id": "30bc5fc2-8b13-41b0-89ae-0b026c90156a",
   "metadata": {},
   "outputs": [
    {
     "data": {
      "text/plain": [
       "array([[[26, 40, 13, 70],\n",
       "        [90, 60, 75, 48]],\n",
       "\n",
       "       [[57, 14, 70, 77],\n",
       "        [84, 86, 52, 49]],\n",
       "\n",
       "       [[72, 38, 16, 10],\n",
       "        [38, 26, 56, 84]]])"
      ]
     },
     "execution_count": 532,
     "metadata": {},
     "output_type": "execute_result"
    }
   ],
   "source": [
    "# First two rows from all the arrays\n",
    "x[::,0:2]"
   ]
  },
  {
   "cell_type": "code",
   "execution_count": 536,
   "id": "f98e3bdc-133f-41fb-ba75-acade82ace99",
   "metadata": {},
   "outputs": [
    {
     "data": {
      "text/plain": [
       "array([[[26, 40, 13, 70],\n",
       "        [90, 60, 75, 48],\n",
       "        [70, 30, 91, 88]],\n",
       "\n",
       "       [[57, 14, 70, 77],\n",
       "        [84, 86, 52, 49],\n",
       "        [97, 95, 74, 80]],\n",
       "\n",
       "       [[72, 38, 16, 10],\n",
       "        [38, 26, 56, 84],\n",
       "        [55, 96, 10, 43]]])"
      ]
     },
     "execution_count": 536,
     "metadata": {},
     "output_type": "execute_result"
    }
   ],
   "source": [
    "x"
   ]
  },
  {
   "cell_type": "code",
   "execution_count": 540,
   "id": "97cc57aa-8767-4aaf-bea8-cfab984489fb",
   "metadata": {},
   "outputs": [
    {
     "data": {
      "text/plain": [
       "array([[[70, 30, 91, 88],\n",
       "        [90, 60, 75, 48],\n",
       "        [26, 40, 13, 70]],\n",
       "\n",
       "       [[97, 95, 74, 80],\n",
       "        [84, 86, 52, 49],\n",
       "        [57, 14, 70, 77]],\n",
       "\n",
       "       [[55, 96, 10, 43],\n",
       "        [38, 26, 56, 84],\n",
       "        [72, 38, 16, 10]]])"
      ]
     },
     "execution_count": 540,
     "metadata": {},
     "output_type": "execute_result"
    }
   ],
   "source": [
    "# Reverse the rows in each array\n",
    "x[::,::-1]"
   ]
  },
  {
   "cell_type": "code",
   "execution_count": 544,
   "id": "4e4394d0-818f-4777-aa4e-cd17df400a99",
   "metadata": {},
   "outputs": [
    {
     "data": {
      "text/plain": [
       "array([[[26, 40, 13, 70],\n",
       "        [90, 60, 75, 48],\n",
       "        [70, 30, 91, 88]],\n",
       "\n",
       "       [[57, 14, 70, 77],\n",
       "        [84, 86, 52, 49],\n",
       "        [97, 95, 74, 80]],\n",
       "\n",
       "       [[72, 38, 16, 10],\n",
       "        [38, 26, 56, 84],\n",
       "        [55, 96, 10, 43]]])"
      ]
     },
     "execution_count": 544,
     "metadata": {},
     "output_type": "execute_result"
    }
   ],
   "source": [
    "x"
   ]
  },
  {
   "cell_type": "code",
   "execution_count": 548,
   "id": "72733f4c-3c18-40af-a6ab-3c2e8ed7e412",
   "metadata": {},
   "outputs": [
    {
     "data": {
      "text/plain": [
       "array([[[57, 14, 70, 77],\n",
       "        [97, 95, 74, 80]],\n",
       "\n",
       "       [[72, 38, 16, 10],\n",
       "        [55, 96, 10, 43]]])"
      ]
     },
     "execution_count": 548,
     "metadata": {},
     "output_type": "execute_result"
    }
   ],
   "source": [
    "# Alternate rows from second and the third array\n",
    "x[1:,::2]"
   ]
  },
  {
   "cell_type": "code",
   "execution_count": 550,
   "id": "d3263b5e-275f-438d-947f-c61c35f91a97",
   "metadata": {},
   "outputs": [
    {
     "data": {
      "text/plain": [
       "array([[[26, 40, 13, 70],\n",
       "        [90, 60, 75, 48],\n",
       "        [70, 30, 91, 88]],\n",
       "\n",
       "       [[57, 14, 70, 77],\n",
       "        [84, 86, 52, 49],\n",
       "        [97, 95, 74, 80]],\n",
       "\n",
       "       [[72, 38, 16, 10],\n",
       "        [38, 26, 56, 84],\n",
       "        [55, 96, 10, 43]]])"
      ]
     },
     "execution_count": 550,
     "metadata": {},
     "output_type": "execute_result"
    }
   ],
   "source": [
    "x"
   ]
  },
  {
   "cell_type": "code",
   "execution_count": 556,
   "id": "9996b60d-57b3-49cb-b216-bbdc8b198a5b",
   "metadata": {},
   "outputs": [
    {
     "data": {
      "text/plain": [
       "array([[[26, 40],\n",
       "        [90, 60],\n",
       "        [70, 30]],\n",
       "\n",
       "       [[57, 14],\n",
       "        [84, 86],\n",
       "        [97, 95]],\n",
       "\n",
       "       [[72, 38],\n",
       "        [38, 26],\n",
       "        [55, 96]]])"
      ]
     },
     "execution_count": 556,
     "metadata": {},
     "output_type": "execute_result"
    }
   ],
   "source": [
    "# First two columns from all the arrays\n",
    "x[::,::,0:2]"
   ]
  },
  {
   "cell_type": "code",
   "execution_count": 558,
   "id": "9e9f4100-642a-4048-9b27-4cba0f079f2d",
   "metadata": {},
   "outputs": [
    {
     "data": {
      "text/plain": [
       "array([[[26, 40, 13, 70],\n",
       "        [90, 60, 75, 48],\n",
       "        [70, 30, 91, 88]],\n",
       "\n",
       "       [[57, 14, 70, 77],\n",
       "        [84, 86, 52, 49],\n",
       "        [97, 95, 74, 80]],\n",
       "\n",
       "       [[72, 38, 16, 10],\n",
       "        [38, 26, 56, 84],\n",
       "        [55, 96, 10, 43]]])"
      ]
     },
     "execution_count": 558,
     "metadata": {},
     "output_type": "execute_result"
    }
   ],
   "source": [
    "x"
   ]
  },
  {
   "cell_type": "code",
   "execution_count": 566,
   "id": "8a40bf13-1312-4aa7-919a-69fcf49ae568",
   "metadata": {},
   "outputs": [
    {
     "data": {
      "text/plain": [
       "array([[[70, 13, 40, 26],\n",
       "        [48, 75, 60, 90],\n",
       "        [88, 91, 30, 70]],\n",
       "\n",
       "       [[77, 70, 14, 57],\n",
       "        [49, 52, 86, 84],\n",
       "        [80, 74, 95, 97]],\n",
       "\n",
       "       [[10, 16, 38, 72],\n",
       "        [84, 56, 26, 38],\n",
       "        [43, 10, 96, 55]]])"
      ]
     },
     "execution_count": 566,
     "metadata": {},
     "output_type": "execute_result"
    }
   ],
   "source": [
    "# Reverse the columns in all the arrays.\n",
    "x[::,::,::-1]"
   ]
  },
  {
   "cell_type": "markdown",
   "id": "94586054-0926-4634-903a-815c0364c446",
   "metadata": {},
   "source": [
    "# Changing the dimension of arrays"
   ]
  },
  {
   "cell_type": "code",
   "execution_count": 570,
   "id": "a2421c7f-3f79-4f82-8496-4f13accddb14",
   "metadata": {},
   "outputs": [],
   "source": [
    "# We can easily do by using shape attribute and reshape()"
   ]
  },
  {
   "cell_type": "code",
   "execution_count": 572,
   "id": "b7343d56-e968-4ffa-8156-319c0365b56a",
   "metadata": {},
   "outputs": [
    {
     "data": {
      "text/plain": [
       "array([[[26, 40, 13, 70],\n",
       "        [90, 60, 75, 48],\n",
       "        [70, 30, 91, 88]],\n",
       "\n",
       "       [[57, 14, 70, 77],\n",
       "        [84, 86, 52, 49],\n",
       "        [97, 95, 74, 80]],\n",
       "\n",
       "       [[72, 38, 16, 10],\n",
       "        [38, 26, 56, 84],\n",
       "        [55, 96, 10, 43]]])"
      ]
     },
     "execution_count": 572,
     "metadata": {},
     "output_type": "execute_result"
    }
   ],
   "source": [
    "x"
   ]
  },
  {
   "cell_type": "code",
   "execution_count": 574,
   "id": "9e49c1be-921d-40e3-908b-71e65547ebc8",
   "metadata": {},
   "outputs": [],
   "source": [
    "# Convert the above array into a 2-D array"
   ]
  },
  {
   "cell_type": "code",
   "execution_count": 576,
   "id": "82848b38-d153-41e6-aeb2-8d52426e8a17",
   "metadata": {},
   "outputs": [
    {
     "data": {
      "text/plain": [
       "(3, 3, 4)"
      ]
     },
     "execution_count": 576,
     "metadata": {},
     "output_type": "execute_result"
    }
   ],
   "source": [
    "x.shape"
   ]
  },
  {
   "cell_type": "code",
   "execution_count": 578,
   "id": "e9bccaf4-1b33-43f5-9460-d8a71b58f1a3",
   "metadata": {},
   "outputs": [],
   "source": [
    "# 6*6"
   ]
  },
  {
   "cell_type": "code",
   "execution_count": 580,
   "id": "2fcd5b02-d664-4318-80d9-1e56fbb5b941",
   "metadata": {},
   "outputs": [
    {
     "data": {
      "text/plain": [
       "array([[26, 40, 13, 70, 90, 60],\n",
       "       [75, 48, 70, 30, 91, 88],\n",
       "       [57, 14, 70, 77, 84, 86],\n",
       "       [52, 49, 97, 95, 74, 80],\n",
       "       [72, 38, 16, 10, 38, 26],\n",
       "       [56, 84, 55, 96, 10, 43]])"
      ]
     },
     "execution_count": 580,
     "metadata": {},
     "output_type": "execute_result"
    }
   ],
   "source": [
    "x.reshape(6,6)"
   ]
  },
  {
   "cell_type": "code",
   "execution_count": 582,
   "id": "ccbca880-ae94-4930-8034-40a1c25cd70d",
   "metadata": {},
   "outputs": [
    {
     "data": {
      "text/plain": [
       "array([[[26, 40, 13, 70],\n",
       "        [90, 60, 75, 48],\n",
       "        [70, 30, 91, 88]],\n",
       "\n",
       "       [[57, 14, 70, 77],\n",
       "        [84, 86, 52, 49],\n",
       "        [97, 95, 74, 80]],\n",
       "\n",
       "       [[72, 38, 16, 10],\n",
       "        [38, 26, 56, 84],\n",
       "        [55, 96, 10, 43]]])"
      ]
     },
     "execution_count": 582,
     "metadata": {},
     "output_type": "execute_result"
    }
   ],
   "source": [
    "x"
   ]
  },
  {
   "cell_type": "code",
   "execution_count": 586,
   "id": "74be13f7-d258-43f1-b199-5676398f4a7a",
   "metadata": {},
   "outputs": [],
   "source": [
    "x=np.array([[26, 40, 13, 70],\n",
    "        [90, 60, 75, 48],\n",
    "        [70, 30, 91, 88]])"
   ]
  },
  {
   "cell_type": "code",
   "execution_count": 588,
   "id": "283cbe01-ee29-43da-8dc4-aaeeb81298ca",
   "metadata": {},
   "outputs": [
    {
     "data": {
      "text/plain": [
       "array([[26, 40, 13, 70],\n",
       "       [90, 60, 75, 48],\n",
       "       [70, 30, 91, 88]])"
      ]
     },
     "execution_count": 588,
     "metadata": {},
     "output_type": "execute_result"
    }
   ],
   "source": [
    "x"
   ]
  },
  {
   "cell_type": "code",
   "execution_count": 590,
   "id": "72e96d8f-4be7-4a76-92f7-8afeda9692ee",
   "metadata": {},
   "outputs": [],
   "source": [
    "# Convert the above array into a 3-D array."
   ]
  },
  {
   "cell_type": "code",
   "execution_count": 592,
   "id": "76c42a66-275c-447f-a56d-6ebb103dc8e0",
   "metadata": {},
   "outputs": [
    {
     "data": {
      "text/plain": [
       "(3, 4)"
      ]
     },
     "execution_count": 592,
     "metadata": {},
     "output_type": "execute_result"
    }
   ],
   "source": [
    "x.shape"
   ]
  },
  {
   "cell_type": "code",
   "execution_count": 594,
   "id": "de657a5d-7227-4f0b-9dcb-aa7a5e39981e",
   "metadata": {},
   "outputs": [],
   "source": [
    "# 2*2*3"
   ]
  },
  {
   "cell_type": "code",
   "execution_count": 596,
   "id": "0411de41-4d9f-424f-af2c-fd8276988768",
   "metadata": {},
   "outputs": [
    {
     "data": {
      "text/plain": [
       "array([[[26, 40, 13],\n",
       "        [70, 90, 60]],\n",
       "\n",
       "       [[75, 48, 70],\n",
       "        [30, 91, 88]]])"
      ]
     },
     "execution_count": 596,
     "metadata": {},
     "output_type": "execute_result"
    }
   ],
   "source": [
    "x.reshape(2,2,3)"
   ]
  },
  {
   "cell_type": "markdown",
   "id": "d025c4a4-e072-4889-82f5-8ee7cd3d6c31",
   "metadata": {},
   "source": [
    "### ravel()"
   ]
  },
  {
   "cell_type": "code",
   "execution_count": 599,
   "id": "040cfd6c-df5b-4b21-a073-7cf1e38a09a8",
   "metadata": {},
   "outputs": [],
   "source": [
    "# - It convets an n-D array into a 1-D array.\n",
    "# - It returns a new array. It does not make the changes in the existing array."
   ]
  },
  {
   "cell_type": "code",
   "execution_count": 601,
   "id": "88b971cb-75cf-4710-a701-78daca3a853f",
   "metadata": {},
   "outputs": [
    {
     "data": {
      "text/plain": [
       "array([[26, 40, 13, 70],\n",
       "       [90, 60, 75, 48],\n",
       "       [70, 30, 91, 88]])"
      ]
     },
     "execution_count": 601,
     "metadata": {},
     "output_type": "execute_result"
    }
   ],
   "source": [
    "x"
   ]
  },
  {
   "cell_type": "code",
   "execution_count": 603,
   "id": "a4ca24e2-8d02-42e1-8033-7d02dac478df",
   "metadata": {},
   "outputs": [
    {
     "data": {
      "text/plain": [
       "array([26, 40, 13, 70, 90, 60, 75, 48, 70, 30, 91, 88])"
      ]
     },
     "execution_count": 603,
     "metadata": {},
     "output_type": "execute_result"
    }
   ],
   "source": [
    "x.ravel()"
   ]
  },
  {
   "cell_type": "code",
   "execution_count": 605,
   "id": "bce4a730-239b-499a-bb00-e2488936f563",
   "metadata": {},
   "outputs": [
    {
     "data": {
      "text/plain": [
       "array([[26, 40, 13, 70],\n",
       "       [90, 60, 75, 48],\n",
       "       [70, 30, 91, 88]])"
      ]
     },
     "execution_count": 605,
     "metadata": {},
     "output_type": "execute_result"
    }
   ],
   "source": [
    "x"
   ]
  },
  {
   "cell_type": "code",
   "execution_count": 607,
   "id": "507cbe02-c2e5-4eba-bd3b-421f3973178f",
   "metadata": {},
   "outputs": [],
   "source": [
    "x=np.random.randint(10,100,size=(3,3,4))"
   ]
  },
  {
   "cell_type": "code",
   "execution_count": 609,
   "id": "ead940f6-4c49-418c-be1f-36a04d068024",
   "metadata": {},
   "outputs": [
    {
     "data": {
      "text/plain": [
       "array([[[66, 51, 10, 73],\n",
       "        [10, 72, 41, 11],\n",
       "        [86, 45, 21, 60]],\n",
       "\n",
       "       [[70, 13, 60, 49],\n",
       "        [72, 54, 32, 40],\n",
       "        [92, 73, 24, 77]],\n",
       "\n",
       "       [[54, 20, 37, 62],\n",
       "        [76, 32, 12, 23],\n",
       "        [62, 97, 42, 79]]])"
      ]
     },
     "execution_count": 609,
     "metadata": {},
     "output_type": "execute_result"
    }
   ],
   "source": [
    "x"
   ]
  },
  {
   "cell_type": "code",
   "execution_count": 613,
   "id": "20f6c049-7fba-43d2-b07d-2a9b1bc1f30b",
   "metadata": {},
   "outputs": [],
   "source": [
    "x_1d=x.ravel()"
   ]
  },
  {
   "cell_type": "code",
   "execution_count": 615,
   "id": "ff191e27-b05e-479e-9570-3cf4abb573d4",
   "metadata": {},
   "outputs": [
    {
     "data": {
      "text/plain": [
       "array([66, 51, 10, 73, 10, 72, 41, 11, 86, 45, 21, 60, 70, 13, 60, 49, 72,\n",
       "       54, 32, 40, 92, 73, 24, 77, 54, 20, 37, 62, 76, 32, 12, 23, 62, 97,\n",
       "       42, 79])"
      ]
     },
     "execution_count": 615,
     "metadata": {},
     "output_type": "execute_result"
    }
   ],
   "source": [
    "x_1d"
   ]
  },
  {
   "cell_type": "code",
   "execution_count": 617,
   "id": "ff7b2a0f-8035-4fc6-a2ca-ef4037855d47",
   "metadata": {},
   "outputs": [
    {
     "data": {
      "text/plain": [
       "(36,)"
      ]
     },
     "execution_count": 617,
     "metadata": {},
     "output_type": "execute_result"
    }
   ],
   "source": [
    "x_1d.shape"
   ]
  },
  {
   "cell_type": "markdown",
   "id": "ca5ad541-5e61-43f5-bf81-6b2ab7be6184",
   "metadata": {},
   "source": [
    "# Arrays of random values"
   ]
  },
  {
   "cell_type": "code",
   "execution_count": 621,
   "id": "dba6fa4a-de2c-4eaf-aa57-e4b93dde0e73",
   "metadata": {},
   "outputs": [],
   "source": [
    "# - In Numpy there is a module random.\n",
    "# - random module provides many functions to create different types of arrays of random values."
   ]
  },
  {
   "cell_type": "markdown",
   "id": "0a4f350f-c755-4cd4-a669-4a179d2c8bc4",
   "metadata": {},
   "source": [
    "### random()"
   ]
  },
  {
   "cell_type": "code",
   "execution_count": 624,
   "id": "023c1e23-2caf-4468-ad04-acd9cce8e178",
   "metadata": {},
   "outputs": [],
   "source": [
    "# -It creates a 1-D array of the specified number of random values.\n",
    "# - A random value is always between 0 and 1"
   ]
  },
  {
   "cell_type": "code",
   "execution_count": 626,
   "id": "9d012616-fb1c-438a-a9df-02c123cdc11b",
   "metadata": {},
   "outputs": [],
   "source": [
    "# np.random.random(number_of_values)"
   ]
  },
  {
   "cell_type": "code",
   "execution_count": 628,
   "id": "1d2f984a-6ee0-413d-81de-43d9b47cdbd5",
   "metadata": {},
   "outputs": [],
   "source": [
    "# Create an array of 1 random value."
   ]
  },
  {
   "cell_type": "code",
   "execution_count": 630,
   "id": "74dc4e82-f0f8-43e3-aafe-2ba936a1b210",
   "metadata": {},
   "outputs": [
    {
     "data": {
      "text/plain": [
       "array([0.62958194])"
      ]
     },
     "execution_count": 630,
     "metadata": {},
     "output_type": "execute_result"
    }
   ],
   "source": [
    "np.random.random(1)"
   ]
  },
  {
   "cell_type": "code",
   "execution_count": 632,
   "id": "de062ed4-515b-48b1-8dbc-612e5aaacb85",
   "metadata": {},
   "outputs": [],
   "source": [
    "# Create an array of 10 random values."
   ]
  },
  {
   "cell_type": "code",
   "execution_count": 638,
   "id": "f3d33478-1236-4861-b5fb-ed2a78e8b46a",
   "metadata": {},
   "outputs": [
    {
     "data": {
      "text/plain": [
       "array([0.30312116, 0.66606712, 0.48685645, 0.94743734, 0.59901257,\n",
       "       0.02283861, 0.79669262, 0.27059944, 0.32411565, 0.87143704])"
      ]
     },
     "execution_count": 638,
     "metadata": {},
     "output_type": "execute_result"
    }
   ],
   "source": [
    "np.random.random(10)"
   ]
  },
  {
   "cell_type": "markdown",
   "id": "ea0b5902-a0e3-4115-bc3b-ab1c84845281",
   "metadata": {},
   "source": [
    "### rand()"
   ]
  },
  {
   "cell_type": "code",
   "execution_count": 642,
   "id": "fcca3dbd-110b-4f80-b47b-949150e96059",
   "metadata": {},
   "outputs": [],
   "source": [
    "# - It creates an array of the specified shape of random values."
   ]
  },
  {
   "cell_type": "code",
   "execution_count": 644,
   "id": "a7e3e963-e369-4759-848f-572a04637b9a",
   "metadata": {},
   "outputs": [],
   "source": [
    "# np.random.rand(rows,cols)\n",
    "# np.random.rand(layers,rows,cols)"
   ]
  },
  {
   "cell_type": "code",
   "execution_count": 646,
   "id": "4ca7eec3-2692-42ee-a9b5-aa443ec6a8d8",
   "metadata": {},
   "outputs": [],
   "source": [
    "# Create a 3*4 array of random values."
   ]
  },
  {
   "cell_type": "code",
   "execution_count": 652,
   "id": "2ad6b319-744c-4bc7-8f56-ad933572f694",
   "metadata": {},
   "outputs": [
    {
     "data": {
      "text/plain": [
       "array([[0.37502453, 0.28469995, 0.25728706, 0.41389272],\n",
       "       [0.65418081, 0.35598494, 0.43805675, 0.53543497],\n",
       "       [0.4281156 , 0.69601022, 0.81706654, 0.08231061]])"
      ]
     },
     "execution_count": 652,
     "metadata": {},
     "output_type": "execute_result"
    }
   ],
   "source": [
    "np.random.random(3*4).reshape(3,4)"
   ]
  },
  {
   "cell_type": "code",
   "execution_count": 654,
   "id": "ac96bf9f-bf29-4a14-997b-3cbfb44db799",
   "metadata": {},
   "outputs": [
    {
     "data": {
      "text/plain": [
       "array([[0.83715169, 0.18313329, 0.92813698, 0.04785804],\n",
       "       [0.40558568, 0.24994877, 0.19478834, 0.37974506],\n",
       "       [0.36476971, 0.81874786, 0.34261614, 0.8482614 ]])"
      ]
     },
     "execution_count": 654,
     "metadata": {},
     "output_type": "execute_result"
    }
   ],
   "source": [
    "np.random.rand(3,4)"
   ]
  },
  {
   "cell_type": "code",
   "execution_count": 656,
   "id": "9035ca47-7bbc-4d76-b2a6-50de42d4c295",
   "metadata": {},
   "outputs": [],
   "source": [
    "# Create a 2*3*4 array of random values."
   ]
  },
  {
   "cell_type": "code",
   "execution_count": 658,
   "id": "583c9820-7751-4d17-a652-40eb89946431",
   "metadata": {},
   "outputs": [
    {
     "data": {
      "text/plain": [
       "array([[[0.48055245, 0.52042012, 0.59619037, 0.2306921 ],\n",
       "        [0.08451796, 0.63125454, 0.24161087, 0.03096175],\n",
       "        [0.6931147 , 0.75925919, 0.2338486 , 0.69624173]],\n",
       "\n",
       "       [[0.43550149, 0.84401492, 0.6946114 , 0.9648614 ],\n",
       "        [0.88927926, 0.70760991, 0.02480333, 0.03641975],\n",
       "        [0.20334147, 0.83678891, 0.24577145, 0.8773807 ]]])"
      ]
     },
     "execution_count": 658,
     "metadata": {},
     "output_type": "execute_result"
    }
   ],
   "source": [
    "np.random.rand(2,3,4)"
   ]
  },
  {
   "cell_type": "markdown",
   "id": "4ea67ddb-741b-4aba-913f-b9086316a2e7",
   "metadata": {},
   "source": [
    "### randint()"
   ]
  },
  {
   "cell_type": "code",
   "execution_count": 661,
   "id": "23ce9812-5ed9-4fa5-adfe-f50e49e01797",
   "metadata": {},
   "outputs": [],
   "source": [
    "# - It creates an array of random int values between two numbers."
   ]
  },
  {
   "cell_type": "code",
   "execution_count": 683,
   "id": "efe3e689-b9d7-4f99-9b8d-92386be58af6",
   "metadata": {},
   "outputs": [],
   "source": [
    "# np.random.randint(start,stop,the number of elements)\n",
    "# stop value is excluded.\n",
    "# start value may be there or may not be there."
   ]
  },
  {
   "cell_type": "code",
   "execution_count": 671,
   "id": "a59b7805-f499-427b-a44e-601df6df1e7f",
   "metadata": {},
   "outputs": [],
   "source": [
    "# Create an array of 10 random int values between 1 and 100."
   ]
  },
  {
   "cell_type": "code",
   "execution_count": 673,
   "id": "d65accb9-cd6c-4284-8d33-e82e0cd50198",
   "metadata": {},
   "outputs": [
    {
     "data": {
      "text/plain": [
       "array([77, 18, 86, 53, 99,  5, 42, 20, 36, 26])"
      ]
     },
     "execution_count": 673,
     "metadata": {},
     "output_type": "execute_result"
    }
   ],
   "source": [
    "np.random.randint(1,100,10)"
   ]
  },
  {
   "cell_type": "code",
   "execution_count": 675,
   "id": "85cf206d-10f5-4b4b-9854-a46fc22cbd8a",
   "metadata": {},
   "outputs": [],
   "source": [
    "# Create an array of 6 random int values between 1 and 4."
   ]
  },
  {
   "cell_type": "code",
   "execution_count": 681,
   "id": "55e8094e-c298-44a6-bc66-fff402573fe5",
   "metadata": {},
   "outputs": [
    {
     "data": {
      "text/plain": [
       "array([3, 2, 4, 3, 1, 4])"
      ]
     },
     "execution_count": 681,
     "metadata": {},
     "output_type": "execute_result"
    }
   ],
   "source": [
    "np.random.randint(1,5,6)"
   ]
  },
  {
   "cell_type": "code",
   "execution_count": 691,
   "id": "0213c37b-666f-4c28-9c35-6844669aa982",
   "metadata": {},
   "outputs": [
    {
     "data": {
      "text/plain": [
       "array([1, 2, 1, 2, 2, 1])"
      ]
     },
     "execution_count": 691,
     "metadata": {},
     "output_type": "execute_result"
    }
   ],
   "source": [
    "np.random.randint(1,3,6)"
   ]
  },
  {
   "cell_type": "code",
   "execution_count": 699,
   "id": "2c1341ab-37b2-48ff-b127-cd9046ae7d0d",
   "metadata": {},
   "outputs": [
    {
     "data": {
      "text/plain": [
       "array([[90, 59, 82, 45],\n",
       "       [12, 54, 32, 12],\n",
       "       [76, 88, 62, 20]])"
      ]
     },
     "execution_count": 699,
     "metadata": {},
     "output_type": "execute_result"
    }
   ],
   "source": [
    "# Create a 3*4 array of 2 digit random int values.\n",
    "# 2 digit numbers (10-99)\n",
    "\n",
    "np.random.randint(10,100,12).reshape(3,4)"
   ]
  },
  {
   "cell_type": "code",
   "execution_count": 705,
   "id": "1cc558e7-6710-46c2-ac4e-bdf28c804ece",
   "metadata": {},
   "outputs": [
    {
     "data": {
      "text/plain": [
       "array([[56, 87, 74, 29],\n",
       "       [57, 44, 70, 86],\n",
       "       [63, 70, 15, 38]])"
      ]
     },
     "execution_count": 705,
     "metadata": {},
     "output_type": "execute_result"
    }
   ],
   "source": [
    "np.random.randint(10,100,size=(3,4))"
   ]
  },
  {
   "cell_type": "markdown",
   "id": "aa6e8770-f3c8-4957-8f7c-0cd985078fdd",
   "metadata": {},
   "source": [
    "### Shuffling of an array"
   ]
  },
  {
   "cell_type": "code",
   "execution_count": 708,
   "id": "353f7647-e9b0-4256-b911-c369a93f5499",
   "metadata": {},
   "outputs": [],
   "source": [
    "x=np.array([10,20,30,40,50,60,70,80,90])"
   ]
  },
  {
   "cell_type": "code",
   "execution_count": 710,
   "id": "76a603c0-b977-4681-a4c1-3721dea84f6b",
   "metadata": {},
   "outputs": [],
   "source": [
    "np.random.shuffle(x)"
   ]
  },
  {
   "cell_type": "code",
   "execution_count": 712,
   "id": "3c0fc3af-af5e-4341-935a-f6f1bca4746d",
   "metadata": {},
   "outputs": [
    {
     "data": {
      "text/plain": [
       "array([60, 80, 70, 90, 10, 50, 30, 20, 40])"
      ]
     },
     "execution_count": 712,
     "metadata": {},
     "output_type": "execute_result"
    }
   ],
   "source": [
    "x"
   ]
  },
  {
   "cell_type": "markdown",
   "id": "3a365adf-f340-447d-935f-fd188428b756",
   "metadata": {},
   "source": [
    "### Choosing a random value from an array."
   ]
  },
  {
   "cell_type": "code",
   "execution_count": 716,
   "id": "2331b830-d895-4998-b655-8edeee5169a1",
   "metadata": {},
   "outputs": [
    {
     "data": {
      "text/plain": [
       "array([60, 80, 70, 90, 10, 50, 30, 20, 40])"
      ]
     },
     "execution_count": 716,
     "metadata": {},
     "output_type": "execute_result"
    }
   ],
   "source": [
    "x"
   ]
  },
  {
   "cell_type": "code",
   "execution_count": 730,
   "id": "830f1847-a6d2-4eaf-870e-d5059fc2ea45",
   "metadata": {},
   "outputs": [
    {
     "data": {
      "text/plain": [
       "array([40, 60, 30, 30, 10, 90])"
      ]
     },
     "execution_count": 730,
     "metadata": {},
     "output_type": "execute_result"
    }
   ],
   "source": [
    "np.random.choice(x,6)"
   ]
  },
  {
   "cell_type": "code",
   "execution_count": 736,
   "id": "26294848-6e45-4a0a-8cc9-2a49fe27461c",
   "metadata": {},
   "outputs": [
    {
     "data": {
      "text/plain": [
       "array([90, 30, 50, 30, 80, 50, 20, 20, 10, 30, 90, 20])"
      ]
     },
     "execution_count": 736,
     "metadata": {},
     "output_type": "execute_result"
    }
   ],
   "source": [
    "np.random.choice(x,12,replace=True)"
   ]
  },
  {
   "cell_type": "code",
   "execution_count": 738,
   "id": "4013e98d-8538-453d-8d68-ebc060a2e2dc",
   "metadata": {},
   "outputs": [],
   "source": [
    "# - In Numpy we can generate the random values according to a specific probability distribution.\n",
    "# - Normal distribution\n",
    "# - Uniform distribution\n",
    "# - Poisson distribution\n",
    "# - Binomial distribution\n",
    "# - Exponential distribution\n",
    "# etc."
   ]
  },
  {
   "cell_type": "code",
   "execution_count": 740,
   "id": "3fd84edb-a9f9-4ba8-9153-f3791d3946e1",
   "metadata": {},
   "outputs": [],
   "source": [
    "# Generate 1000 random values that follow the normal distribution.\n",
    "# the mean is 50 and standard deviation i 3"
   ]
  },
  {
   "cell_type": "code",
   "execution_count": 778,
   "id": "2d103ff8-bd5c-4318-87e1-bf9e8ed63c52",
   "metadata": {},
   "outputs": [
    {
     "data": {
      "text/plain": [
       "array([53.16379819, 44.82794349, 47.2939425 , ..., 48.36117427,\n",
       "       55.74443882, 52.46727762])"
      ]
     },
     "execution_count": 778,
     "metadata": {},
     "output_type": "execute_result"
    }
   ],
   "source": [
    "x=np.random.normal(50,3,100000)\n",
    "x"
   ]
  },
  {
   "cell_type": "code",
   "execution_count": 780,
   "id": "0a5bcae5-3da9-476f-b4b2-f7027e0b2b26",
   "metadata": {},
   "outputs": [],
   "source": [
    "import seaborn as sns\n",
    "import matplotlib.pyplot as plt"
   ]
  },
  {
   "cell_type": "code",
   "execution_count": 782,
   "id": "585785ba-ad4b-4d6d-bd81-5dbe6fe261b8",
   "metadata": {},
   "outputs": [
    {
     "data": {
      "image/png": "[encoded data removed]",
      "text/plain": [
       "<Figure size 640x480 with 1 Axes>"
      ]
     },
     "metadata": {},
     "output_type": "display_data"
    }
   ],
   "source": [
    "sns.kdeplot(x)\n",
    "plt.show()"
   ]
  },
  {
   "cell_type": "code",
   "execution_count": 768,
   "id": "93562832-2eb9-485d-b238-887ed2f26a22",
   "metadata": {},
   "outputs": [],
   "source": [
    "x=np.random.random(1000)"
   ]
  },
  {
   "cell_type": "code",
   "execution_count": 770,
   "id": "3df49a49-3642-4abd-b42a-a4cec4cf54ea",
   "metadata": {},
   "outputs": [
    {
     "data": {
      "image/png": "[encoded data removed]",
      "text/plain": [
       "<Figure size 640x480 with 1 Axes>"
      ]
     },
     "metadata": {},
     "output_type": "display_data"
    }
   ],
   "source": [
    "sns.kdeplot(x)\n",
    "plt.show()"
   ]
  },
  {
   "cell_type": "code",
   "execution_count": 804,
   "id": "f5f2869c-4a25-4768-b7a0-27c3cc369818",
   "metadata": {},
   "outputs": [],
   "source": [
    "x=np.random.uniform(1,10,1000000)"
   ]
  },
  {
   "cell_type": "code",
   "execution_count": 806,
   "id": "2374259d-b10a-423f-8c32-54b3e41d0067",
   "metadata": {},
   "outputs": [
    {
     "data": {
      "image/png": "[encoded data removed]",
      "text/plain": [
       "<Figure size 640x480 with 1 Axes>"
      ]
     },
     "metadata": {},
     "output_type": "display_data"
    }
   ],
   "source": [
    "sns.kdeplot(x)\n",
    "plt.show()"
   ]
  },
  {
   "cell_type": "markdown",
   "id": "27f80b9c-9f96-419c-bca7-c3c7102f4a53",
   "metadata": {},
   "source": [
    "### seed()"
   ]
  },
  {
   "cell_type": "code",
   "execution_count": 809,
   "id": "bbb4eb91-8c33-420a-a9ad-c72d966a7227",
   "metadata": {},
   "outputs": [],
   "source": [
    "# - It is used to fix the random state.\n",
    "# - It fixes the random state for the 1 execution only.\n",
    "# - A random state is an int value.\n",
    "# - Random state is in between 0 to 2**32-1"
   ]
  },
  {
   "cell_type": "code",
   "execution_count": 811,
   "id": "0068271b-2d3d-4eed-9d43-e2a4cb5b2c2e",
   "metadata": {},
   "outputs": [],
   "source": [
    "# np.random.seed(random_state)"
   ]
  },
  {
   "cell_type": "code",
   "execution_count": 823,
   "id": "7a6620d9-d1a3-48e2-aee3-c1c2e2551800",
   "metadata": {},
   "outputs": [
    {
     "data": {
      "text/plain": [
       "array([0.10211779, 0.9439926 , 0.97985809, 0.69326462, 0.48792622])"
      ]
     },
     "execution_count": 823,
     "metadata": {},
     "output_type": "execute_result"
    }
   ],
   "source": [
    "np.random.random(5)"
   ]
  },
  {
   "cell_type": "code",
   "execution_count": 815,
   "id": "63b16db5-d72a-4557-bc5e-e3673bf47a95",
   "metadata": {},
   "outputs": [],
   "source": [
    "# array([0.96018171, 0.35289159, 0.44029322, 0.57880735, 0.98545652])"
   ]
  },
  {
   "cell_type": "code",
   "execution_count": 825,
   "id": "3586cf76-1bc5-4003-93d4-7f4f2cef3c2d",
   "metadata": {},
   "outputs": [],
   "source": [
    "# array([0.02109289, 0.29829087, 0.22592231, 0.46375782, 0.77432655])"
   ]
  },
  {
   "cell_type": "code",
   "execution_count": 839,
   "id": "b26b671d-3bab-4bee-95ab-0a2ca946442b",
   "metadata": {},
   "outputs": [
    {
     "data": {
      "text/plain": [
       "array([[0.46390115, 0.72989169, 0.91857559],\n",
       "       [0.06617687, 0.7350638 , 0.93503181],\n",
       "       [0.81627958, 0.50868486, 0.22160061]])"
      ]
     },
     "execution_count": 839,
     "metadata": {},
     "output_type": "execute_result"
    }
   ],
   "source": [
    "np.random.rand(3,3)"
   ]
  },
  {
   "cell_type": "code",
   "execution_count": 829,
   "id": "77c72e63-1b81-45d0-ab67-0a4ee0a9f2d0",
   "metadata": {},
   "outputs": [],
   "source": [
    "# array([[0.98498941, 0.18083648, 0.88089297],\n",
    "#        [0.42426709, 0.13857046, 0.88509325],\n",
    "#        [0.27175208, 0.52772634, 0.60870604]])"
   ]
  },
  {
   "cell_type": "code",
   "execution_count": 877,
   "id": "58ef4d59-c83f-44f8-8d22-61d533096574",
   "metadata": {},
   "outputs": [],
   "source": [
    "np.random.seed(45)"
   ]
  },
  {
   "cell_type": "code",
   "execution_count": 881,
   "id": "7def4896-7c47-4373-a8b3-fb53eb7eab87",
   "metadata": {},
   "outputs": [
    {
     "data": {
      "text/plain": [
       "array([0.28266721, 0.97600332, 0.673068  , 0.44053089, 0.28968734,\n",
       "       0.50969968, 0.1124609 , 0.22695479, 0.4785523 , 0.24275816,\n",
       "       0.38798252, 0.81887343, 0.07454079, 0.92314954, 0.22489608])"
      ]
     },
     "execution_count": 881,
     "metadata": {},
     "output_type": "execute_result"
    }
   ],
   "source": [
    "np.random.random(15)"
   ]
  },
  {
   "cell_type": "code",
   "execution_count": 855,
   "id": "b311a3b8-b0b3-46b6-ad3b-dea0877307b7",
   "metadata": {},
   "outputs": [],
   "source": [
    "# array([0.98901151, 0.54954473, 0.2814473 , 0.07728957, 0.4444695 ])"
   ]
  },
  {
   "cell_type": "code",
   "execution_count": 7,
   "id": "a0e936c1-d7fb-4c5f-aefe-6c51b258ac06",
   "metadata": {},
   "outputs": [],
   "source": [
    "# array([0.98901151, 0.54954473, 0.2814473 , 0.07728957, 0.4444695 ,\n",
    "#        0.47280797, 0.048522  , 0.16332445, 0.11595071, 0.62739168])"
   ]
  },
  {
   "cell_type": "code",
   "execution_count": 893,
   "id": "6ade9936-8048-46b6-9833-8f075f29e4f1",
   "metadata": {},
   "outputs": [
    {
     "data": {
      "text/plain": [
       "array([0.98901151, 0.54954473, 0.2814473 , 0.07728957, 0.4444695 ,\n",
       "       0.47280797, 0.048522  , 0.16332445, 0.11595071, 0.62739168])"
      ]
     },
     "execution_count": 893,
     "metadata": {},
     "output_type": "execute_result"
    }
   ],
   "source": [
    "np.random.seed(45)\n",
    "np.random.random(10)"
   ]
  },
  {
   "cell_type": "code",
   "execution_count": 901,
   "id": "2b085787-a83f-49a9-93f4-fa8b1e4bfa68",
   "metadata": {},
   "outputs": [
    {
     "data": {
      "text/plain": [
       "array([0.65358959, 0.11500694, 0.95028286, 0.4821914 , 0.87247454,\n",
       "       0.21233268, 0.04070962, 0.39719446, 0.2331322 , 0.84174072])"
      ]
     },
     "execution_count": 901,
     "metadata": {},
     "output_type": "execute_result"
    }
   ],
   "source": [
    "np.random.seed(1000)\n",
    "np.random.random(10)"
   ]
  },
  {
   "cell_type": "code",
   "execution_count": 3,
   "id": "61d6b077-225c-418d-af9c-e481e086bde0",
   "metadata": {},
   "outputs": [],
   "source": [
    "import numpy as np"
   ]
  },
  {
   "cell_type": "code",
   "execution_count": 5,
   "id": "1322eece-36a1-4c2f-9145-de5edf6cc6df",
   "metadata": {},
   "outputs": [
    {
     "data": {
      "text/plain": [
       "array([0.98901151, 0.54954473, 0.2814473 , 0.07728957, 0.4444695 ,\n",
       "       0.47280797, 0.048522  , 0.16332445, 0.11595071, 0.62739168])"
      ]
     },
     "execution_count": 5,
     "metadata": {},
     "output_type": "execute_result"
    }
   ],
   "source": [
    "np.random.seed(45)\n",
    "np.random.random(10)"
   ]
  },
  {
   "cell_type": "code",
   "execution_count": 21,
   "id": "77e3490c-ae3b-424b-b673-57444c1cc4c8",
   "metadata": {},
   "outputs": [],
   "source": [
    "np.random.seed(429962)"
   ]
  },
  {
   "cell_type": "code",
   "execution_count": 9,
   "id": "800529c1-986b-426c-aa28-10e3c984553b",
   "metadata": {},
   "outputs": [
    {
     "data": {
      "text/plain": [
       "4294967295"
      ]
     },
     "execution_count": 9,
     "metadata": {},
     "output_type": "execute_result"
    }
   ],
   "source": [
    "2**32-1"
   ]
  },
  {
   "cell_type": "markdown",
   "id": "1b1187e1-f6a3-4925-b607-7e06d8ca00bc",
   "metadata": {},
   "source": [
    "# Arithmetic and Statictical Functions"
   ]
  },
  {
   "cell_type": "markdown",
   "id": "738eb0e1-9f11-4953-897a-3aa25471a71e",
   "metadata": {},
   "source": [
    "### np.sum()"
   ]
  },
  {
   "cell_type": "code",
   "execution_count": 50,
   "id": "5f1465f8-2e57-4180-9239-6698ec1bda9d",
   "metadata": {},
   "outputs": [],
   "source": [
    "# np.sum(arr,axis=0/1)\n",
    "# arr.sum(axis=0/1)"
   ]
  },
  {
   "cell_type": "code",
   "execution_count": 26,
   "id": "a436d579-fdfc-4d01-b50b-ebeb9defa1f9",
   "metadata": {},
   "outputs": [],
   "source": [
    "# - It returns the sum of all the elements of an array"
   ]
  },
  {
   "cell_type": "code",
   "execution_count": 34,
   "id": "3ed36430-683a-4053-a280-7729efa1da0c",
   "metadata": {},
   "outputs": [],
   "source": [
    "np.random.seed(45)\n",
    "x=np.random.randint(10,100,12)"
   ]
  },
  {
   "cell_type": "code",
   "execution_count": 36,
   "id": "37cd078f-cad1-47c3-b23c-83c687fcc4e7",
   "metadata": {},
   "outputs": [
    {
     "data": {
      "text/plain": [
       "array([85, 40, 13, 42, 71, 95, 45, 78, 25, 75, 24, 63])"
      ]
     },
     "execution_count": 36,
     "metadata": {},
     "output_type": "execute_result"
    }
   ],
   "source": [
    "x"
   ]
  },
  {
   "cell_type": "code",
   "execution_count": 38,
   "id": "6f5f3e9b-bd7c-48e3-8909-47df52a6cb9b",
   "metadata": {},
   "outputs": [
    {
     "data": {
      "text/plain": [
       "656"
      ]
     },
     "execution_count": 38,
     "metadata": {},
     "output_type": "execute_result"
    }
   ],
   "source": [
    "np.sum(x)"
   ]
  },
  {
   "cell_type": "code",
   "execution_count": 40,
   "id": "18043371-7f14-4403-9d92-9107792b23ce",
   "metadata": {},
   "outputs": [
    {
     "data": {
      "text/plain": [
       "656"
      ]
     },
     "execution_count": 40,
     "metadata": {},
     "output_type": "execute_result"
    }
   ],
   "source": [
    "x.sum()"
   ]
  },
  {
   "cell_type": "code",
   "execution_count": 42,
   "id": "e9093afd-40e6-40f4-948b-350de2684c69",
   "metadata": {},
   "outputs": [],
   "source": [
    "np.random.seed(45)\n",
    "x=np.random.randint(10,100,12).reshape(3,4)"
   ]
  },
  {
   "cell_type": "code",
   "execution_count": 44,
   "id": "6ea47313-2df0-45cb-983d-3176730b8c14",
   "metadata": {},
   "outputs": [
    {
     "data": {
      "text/plain": [
       "array([[85, 40, 13, 42],\n",
       "       [71, 95, 45, 78],\n",
       "       [25, 75, 24, 63]])"
      ]
     },
     "execution_count": 44,
     "metadata": {},
     "output_type": "execute_result"
    }
   ],
   "source": [
    "x"
   ]
  },
  {
   "cell_type": "code",
   "execution_count": 46,
   "id": "79007a2f-9866-4be7-8a59-9dfbaf689525",
   "metadata": {},
   "outputs": [
    {
     "data": {
      "text/plain": [
       "656"
      ]
     },
     "execution_count": 46,
     "metadata": {},
     "output_type": "execute_result"
    }
   ],
   "source": [
    "np.sum(x)"
   ]
  },
  {
   "cell_type": "code",
   "execution_count": 48,
   "id": "f36c70ca-1379-4853-9d35-71a0624e15c3",
   "metadata": {},
   "outputs": [
    {
     "data": {
      "text/plain": [
       "656"
      ]
     },
     "execution_count": 48,
     "metadata": {},
     "output_type": "execute_result"
    }
   ],
   "source": [
    "x.sum()"
   ]
  },
  {
   "cell_type": "code",
   "execution_count": 56,
   "id": "afd740a8-0e14-45bb-a5fa-73c6c6f6a515",
   "metadata": {},
   "outputs": [],
   "source": [
    "# axis=0- It is called as row wise operation as to calculate one value all the rows are covered.\n",
    "# axis=1- It is called as column wise operation as to calculate one value all the columns are covered.\n",
    "\n",
    "# For our understanding\n",
    "\n",
    "# axis=0- Top to bottom operation (vertical)\n",
    "# axis=1- Left to right operation (Horizontal)"
   ]
  },
  {
   "cell_type": "code",
   "execution_count": 58,
   "id": "1858969b-d6de-4251-bf8f-3fd59bec779f",
   "metadata": {},
   "outputs": [
    {
     "data": {
      "text/plain": [
       "array([[85, 40, 13, 42],\n",
       "       [71, 95, 45, 78],\n",
       "       [25, 75, 24, 63]])"
      ]
     },
     "execution_count": 58,
     "metadata": {},
     "output_type": "execute_result"
    }
   ],
   "source": [
    "x"
   ]
  },
  {
   "cell_type": "code",
   "execution_count": 52,
   "id": "5d62e55f-b716-4e69-8be4-923559315daa",
   "metadata": {},
   "outputs": [
    {
     "data": {
      "text/plain": [
       "array([181, 210,  82, 183])"
      ]
     },
     "execution_count": 52,
     "metadata": {},
     "output_type": "execute_result"
    }
   ],
   "source": [
    "np.sum(x,axis=0)"
   ]
  },
  {
   "cell_type": "code",
   "execution_count": 54,
   "id": "e4cfd8b5-a462-43d7-b09d-878e7bbcdcb2",
   "metadata": {},
   "outputs": [
    {
     "data": {
      "text/plain": [
       "181"
      ]
     },
     "execution_count": 54,
     "metadata": {},
     "output_type": "execute_result"
    }
   ],
   "source": [
    "85+71+25"
   ]
  },
  {
   "cell_type": "code",
   "execution_count": 62,
   "id": "70b58946-575e-4d70-ada0-a2e30e1245c0",
   "metadata": {},
   "outputs": [
    {
     "data": {
      "text/plain": [
       "array([181, 210,  82, 183])"
      ]
     },
     "execution_count": 62,
     "metadata": {},
     "output_type": "execute_result"
    }
   ],
   "source": [
    "x.sum(axis=0)"
   ]
  },
  {
   "cell_type": "code",
   "execution_count": 64,
   "id": "f1f7367f-984c-440a-aeff-d8c5bdd83822",
   "metadata": {},
   "outputs": [
    {
     "data": {
      "text/plain": [
       "array([[85, 40, 13, 42],\n",
       "       [71, 95, 45, 78],\n",
       "       [25, 75, 24, 63]])"
      ]
     },
     "execution_count": 64,
     "metadata": {},
     "output_type": "execute_result"
    }
   ],
   "source": [
    "x"
   ]
  },
  {
   "cell_type": "code",
   "execution_count": 66,
   "id": "dc3461b8-9da1-4536-90cf-6d448c77ff7d",
   "metadata": {},
   "outputs": [
    {
     "data": {
      "text/plain": [
       "array([180, 289, 187])"
      ]
     },
     "execution_count": 66,
     "metadata": {},
     "output_type": "execute_result"
    }
   ],
   "source": [
    "np.sum(x,axis=1)"
   ]
  },
  {
   "cell_type": "code",
   "execution_count": 68,
   "id": "248dd51e-1319-4c98-a32b-884988a64c3b",
   "metadata": {},
   "outputs": [
    {
     "data": {
      "text/plain": [
       "180"
      ]
     },
     "execution_count": 68,
     "metadata": {},
     "output_type": "execute_result"
    }
   ],
   "source": [
    "85+40+13+42"
   ]
  },
  {
   "cell_type": "code",
   "execution_count": 70,
   "id": "4d65119a-de1f-40d6-91df-e9e57aa84351",
   "metadata": {},
   "outputs": [
    {
     "data": {
      "text/plain": [
       "array([180, 289, 187])"
      ]
     },
     "execution_count": 70,
     "metadata": {},
     "output_type": "execute_result"
    }
   ],
   "source": [
    "x.sum(axis=1)"
   ]
  },
  {
   "cell_type": "code",
   "execution_count": 72,
   "id": "c39a9bd1-1105-49b3-ad56-66b5ce554843",
   "metadata": {},
   "outputs": [],
   "source": [
    "# max()\n",
    "# min()\n",
    "# mean()\n",
    "# median()\n",
    "# std()\n",
    "# var()\n",
    "# percentile()\n",
    "# det()\n",
    "# inv()\n",
    "# rank()\n",
    "# transpose()\n",
    "# argmin()\n",
    "# argmax()\n",
    "# argwhere()\n",
    "# where()\n",
    "# select()\n",
    "# clip()"
   ]
  },
  {
   "cell_type": "code",
   "execution_count": null,
   "id": "73453448-4f58-4ccb-8a60-d52685ee1daf",
   "metadata": {},
   "outputs": [],
   "source": [
    "# Missing values in numpy\n",
    "# Conditions on arrays\n",
    "# Mutability of arrays\n",
    "# Iterating over arrays\n",
    "# Array concatenation\n",
    "# Array broadcasting"
   ]
  }
 ],
 "metadata": {
  "kernelspec": {
   "display_name": "Python 3 (ipykernel)",
   "language": "python",
   "name": "python3"
  },
  "language_info": {
   "codemirror_mode": {
    "name": "ipython",
    "version": 3
   },
   "file_extension": ".py",
   "mimetype": "text/x-python",
   "name": "python",
   "nbconvert_exporter": "python",
   "pygments_lexer": "ipython3",
   "version": "3.11.4"
  }
 },
 "nbformat": 4,
 "nbformat_minor": 5
}
