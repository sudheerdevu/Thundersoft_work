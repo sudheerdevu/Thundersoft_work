{
 "cells": [
  {
   "cell_type": "markdown",
   "id": "ee459db0-2f4a-4c7c-a1c0-7c89a86ad0c9",
   "metadata": {},
   "source": [
    "# Object Oriented Programming (OOP or OOP's)"
   ]
  },
  {
   "cell_type": "markdown",
   "id": "34481028-fdb2-45f7-a4e0-1fc2d026bc13",
   "metadata": {},
   "source": [
    "- It is a different programming paradigm.\n",
    "- In this paradigm everyhing is considered as object and we write the code keeping a particular object into account."
   ]
  },
  {
   "cell_type": "code",
   "execution_count": 11,
   "id": "4a198a22-5f3c-4c57-b83c-7c9b0d9b567c",
   "metadata": {},
   "outputs": [],
   "source": [
    "# Class \n",
    "# Object"
   ]
  },
  {
   "cell_type": "markdown",
   "id": "d185e68d-b4df-4f5b-bb7a-fc82cdeb7fe4",
   "metadata": {},
   "source": [
    "# Class"
   ]
  },
  {
   "cell_type": "code",
   "execution_count": 21,
   "id": "6536afe8-1c15-4199-a1b8-5d2151d0325a",
   "metadata": {},
   "outputs": [],
   "source": [
    "# - It is a blueprint or plan.\n",
    "# - Using the blueprint we can build or create n number of objects."
   ]
  },
  {
   "cell_type": "code",
   "execution_count": 19,
   "id": "73002c0d-9333-4ef6-8659-26fb07658677",
   "metadata": {},
   "outputs": [],
   "source": [
    "# Suppose we have to construct a building.\n",
    "# - First we need a plan (blueprint)"
   ]
  },
  {
   "cell_type": "markdown",
   "id": "9dff3eb5-3ed0-4016-801c-541cfe9dd807",
   "metadata": {},
   "source": [
    "# Object"
   ]
  },
  {
   "cell_type": "code",
   "execution_count": 24,
   "id": "84f585ec-5690-4018-934f-89c6e76b97cf",
   "metadata": {},
   "outputs": [],
   "source": [
    "# - The physical existence of a plan in known as object."
   ]
  },
  {
   "cell_type": "code",
   "execution_count": 26,
   "id": "fbd01964-f2e1-4600-878c-7c74b6a4688c",
   "metadata": {},
   "outputs": [],
   "source": [
    "# list- class.\n",
    "# Using list class we can create a list object.\n",
    "# How many list object we can create- n-number"
   ]
  },
  {
   "cell_type": "code",
   "execution_count": 29,
   "id": "e38646ce-cf30-414d-aac0-1913da9a6f97",
   "metadata": {},
   "outputs": [],
   "source": [
    "# Create a plan for car.\n",
    "# - Number of seats - 5\n",
    "# - Engine power - 1200\n",
    "# - milage - 15-18\n",
    "# - Maximum speed - 180\n",
    "# - Safety measures - \n",
    "# - Target customers - middle class\n",
    "# - Type- Mini- suv"
   ]
  },
  {
   "cell_type": "markdown",
   "id": "1a2c7018-4a94-4c63-b029-d5d961528d88",
   "metadata": {},
   "source": [
    "# Use of class"
   ]
  },
  {
   "cell_type": "code",
   "execution_count": 34,
   "id": "e6805bf0-5e9b-44c7-be9b-916d35de5948",
   "metadata": {},
   "outputs": [],
   "source": [
    "# - We use a class to define the features and functionalities of the object.\n",
    "# - In other words we say a class is used to define the attributes and the behaviour of an object."
   ]
  },
  {
   "cell_type": "code",
   "execution_count": 36,
   "id": "f7ee0093-f0be-413c-a87f-ad26d7c0bb14",
   "metadata": {},
   "outputs": [],
   "source": [
    "# Class- Car\n",
    "# Car- 1200 cc (fetaure / attribute)\n",
    "# Car- runs (functionality / behaviour)"
   ]
  },
  {
   "cell_type": "markdown",
   "id": "a059d9b5-f3b0-4014-811b-7a5dd6270b2d",
   "metadata": {},
   "source": [
    "# How to create a class"
   ]
  },
  {
   "cell_type": "code",
   "execution_count": null,
   "id": "9d2ff7c6-692a-40b3-9a6f-500fa5f1fc64",
   "metadata": {},
   "outputs": [],
   "source": [
    "class class_name:\n",
    "    code\n",
    "    code"
   ]
  },
  {
   "cell_type": "code",
   "execution_count": 39,
   "id": "9c89bc85-5f6c-4bb7-a718-357850affed2",
   "metadata": {},
   "outputs": [],
   "source": [
    "# Create a class Student"
   ]
  },
  {
   "cell_type": "code",
   "execution_count": 45,
   "id": "b0c2e21f-20ad-4a28-b868-cfc701a9aada",
   "metadata": {},
   "outputs": [],
   "source": [
    "class Student:\n",
    "    pass"
   ]
  },
  {
   "cell_type": "code",
   "execution_count": 49,
   "id": "42397c67-5db3-4785-a64f-5d3dfa578bb8",
   "metadata": {},
   "outputs": [],
   "source": [
    "# class Student:\n",
    "    # attribute\n",
    "    # behaviour"
   ]
  },
  {
   "cell_type": "code",
   "execution_count": 51,
   "id": "de96ea19-29b1-45d4-8892-d65a4d9cec9b",
   "metadata": {},
   "outputs": [],
   "source": [
    "# attribute- Name, Age, Roll_no, Gender, std, sec, mark etc.\n",
    "# behaviour- read, study, write, learn, play, dance, sleep, talk etc."
   ]
  },
  {
   "cell_type": "code",
   "execution_count": 55,
   "id": "3a872f23-9fe5-4e21-a0f7-70c9e0a1556a",
   "metadata": {},
   "outputs": [],
   "source": [
    "# class Student:\n",
    "    # attribute- variables\n",
    "    # behaviour- methods"
   ]
  },
  {
   "cell_type": "code",
   "execution_count": 57,
   "id": "80ab5fe5-46bb-44a1-be26-ad3d623850ab",
   "metadata": {},
   "outputs": [],
   "source": [
    "# Create a class Student"
   ]
  },
  {
   "cell_type": "code",
   "execution_count": 61,
   "id": "9461c616-7234-4b89-8bcd-2948ceee182e",
   "metadata": {},
   "outputs": [],
   "source": [
    "class Student:\n",
    "    def __init__(self):\n",
    "        self.name='Amit'    # Attributes\n",
    "        self.roll=15        # Attributes"
   ]
  },
  {
   "cell_type": "markdown",
   "id": "fd8be936-f7a1-4489-9a82-aa9f3df04a3e",
   "metadata": {},
   "source": [
    "# Creating an object frrm a class"
   ]
  },
  {
   "cell_type": "code",
   "execution_count": 64,
   "id": "25a82692-5354-4414-8f33-3263d3176ab6",
   "metadata": {},
   "outputs": [],
   "source": [
    "# obj_name=class_name()"
   ]
  },
  {
   "cell_type": "code",
   "execution_count": 66,
   "id": "396d00fe-db59-4bd5-a5cb-53b7bcd952e1",
   "metadata": {},
   "outputs": [],
   "source": [
    "s1=Student()"
   ]
  },
  {
   "cell_type": "code",
   "execution_count": 70,
   "id": "e9149fd1-2cbc-44fd-bd7b-bdaaa6e6bca0",
   "metadata": {},
   "outputs": [
    {
     "name": "stdout",
     "output_type": "stream",
     "text": [
      "<__main__.Student object at 0x0000014E7F456490> <class '__main__.Student'>\n"
     ]
    }
   ],
   "source": [
    "print(s1,type(s1))"
   ]
  },
  {
   "cell_type": "code",
   "execution_count": 72,
   "id": "ba3a03d9-1f81-431b-8ef4-2865f89a9504",
   "metadata": {},
   "outputs": [
    {
     "data": {
      "text/plain": [
       "'Amit'"
      ]
     },
     "execution_count": 72,
     "metadata": {},
     "output_type": "execute_result"
    }
   ],
   "source": [
    "s1.name"
   ]
  },
  {
   "cell_type": "code",
   "execution_count": 74,
   "id": "9ba678cb-923d-4783-9210-7a2fb2df67fc",
   "metadata": {},
   "outputs": [
    {
     "data": {
      "text/plain": [
       "15"
      ]
     },
     "execution_count": 74,
     "metadata": {},
     "output_type": "execute_result"
    }
   ],
   "source": [
    "s1.roll"
   ]
  },
  {
   "cell_type": "code",
   "execution_count": 76,
   "id": "b3a69966-f8cc-46f8-b172-8e592d8d7120",
   "metadata": {},
   "outputs": [],
   "source": [
    "s2=Student()"
   ]
  },
  {
   "cell_type": "code",
   "execution_count": 78,
   "id": "e76a589f-0efc-4cc3-92b1-b66f6a9da56e",
   "metadata": {},
   "outputs": [
    {
     "name": "stdout",
     "output_type": "stream",
     "text": [
      "<__main__.Student object at 0x0000014E7F434250> <class '__main__.Student'>\n"
     ]
    }
   ],
   "source": [
    "print(s2, type(s2))"
   ]
  },
  {
   "cell_type": "code",
   "execution_count": 80,
   "id": "d519e521-a9cf-48f3-ae29-f06cd7cf1faf",
   "metadata": {},
   "outputs": [
    {
     "data": {
      "text/plain": [
       "'Amit'"
      ]
     },
     "execution_count": 80,
     "metadata": {},
     "output_type": "execute_result"
    }
   ],
   "source": [
    "s2.name"
   ]
  },
  {
   "cell_type": "code",
   "execution_count": 82,
   "id": "469f9cdc-e64b-4494-bca6-bfb0dd8755f4",
   "metadata": {},
   "outputs": [
    {
     "data": {
      "text/plain": [
       "15"
      ]
     },
     "execution_count": 82,
     "metadata": {},
     "output_type": "execute_result"
    }
   ],
   "source": [
    "s2.roll"
   ]
  },
  {
   "cell_type": "code",
   "execution_count": 86,
   "id": "54851c14-0f41-404d-b2d9-b691f69ac025",
   "metadata": {},
   "outputs": [],
   "source": [
    "class Student:\n",
    "    def __init__(self):\n",
    "        self.name='Amit'    # Attribute\n",
    "        self.roll=15        # Attribute\n",
    "\n",
    "    def read(self):\n",
    "        print(f'{self.name} can read')     # behaviour\n",
    "\n",
    "    def write(self): \n",
    "        print(f'{self.name} can write')    # behaviour"
   ]
  },
  {
   "cell_type": "code",
   "execution_count": 88,
   "id": "29bcbdb6-40eb-4dfe-9e71-47fd0b75975d",
   "metadata": {},
   "outputs": [],
   "source": [
    "s1=Student()"
   ]
  },
  {
   "cell_type": "code",
   "execution_count": 90,
   "id": "e8d359fd-2dfe-4748-a247-895b1753ecda",
   "metadata": {},
   "outputs": [
    {
     "data": {
      "text/plain": [
       "'Amit'"
      ]
     },
     "execution_count": 90,
     "metadata": {},
     "output_type": "execute_result"
    }
   ],
   "source": [
    "s1.name"
   ]
  },
  {
   "cell_type": "code",
   "execution_count": 92,
   "id": "c3c1248f-629f-49cf-8950-5d066bca1c61",
   "metadata": {},
   "outputs": [
    {
     "data": {
      "text/plain": [
       "15"
      ]
     },
     "execution_count": 92,
     "metadata": {},
     "output_type": "execute_result"
    }
   ],
   "source": [
    "s1.roll"
   ]
  },
  {
   "cell_type": "code",
   "execution_count": 94,
   "id": "7a2a7010-1df4-406b-9f54-3c39b97cf3f3",
   "metadata": {},
   "outputs": [
    {
     "name": "stdout",
     "output_type": "stream",
     "text": [
      "Amit can read\n"
     ]
    }
   ],
   "source": [
    "s1.read()"
   ]
  },
  {
   "cell_type": "code",
   "execution_count": 98,
   "id": "a478baef-2d8b-445f-af7d-0aee0ccb64ca",
   "metadata": {},
   "outputs": [
    {
     "name": "stdout",
     "output_type": "stream",
     "text": [
      "Amit can write\n"
     ]
    }
   ],
   "source": [
    "s1.write()"
   ]
  },
  {
   "cell_type": "code",
   "execution_count": 100,
   "id": "ba2eb375-2323-46f1-b4f4-3a02b5d2de59",
   "metadata": {},
   "outputs": [],
   "source": [
    "# Attributes- Variables\n",
    "# Behaviour- Methods"
   ]
  },
  {
   "cell_type": "markdown",
   "id": "b4035862-0de3-4dba-8463-81ba018dce6c",
   "metadata": {},
   "source": [
    "# Types of variables inside a class"
   ]
  },
  {
   "cell_type": "code",
   "execution_count": 104,
   "id": "87e267ed-674f-433c-8106-38d1517f0380",
   "metadata": {},
   "outputs": [],
   "source": [
    "# - 1- Instance variables\n",
    "# - 2- Static variables\n",
    "# - 3- Local variables"
   ]
  },
  {
   "cell_type": "markdown",
   "id": "b87ab5c0-833a-4801-ada5-daa2ed3d2a7f",
   "metadata": {},
   "source": [
    "# Types of methods inside a class"
   ]
  },
  {
   "cell_type": "code",
   "execution_count": 107,
   "id": "d159d273-a489-4640-9f5f-052eaeb8868c",
   "metadata": {},
   "outputs": [],
   "source": [
    "# - 1- Instance methods\n",
    "# - 2- Class methods\n",
    "# - 3- Static methods"
   ]
  },
  {
   "cell_type": "markdown",
   "id": "bc55e33b-fd89-4511-9998-a4a2b247f8ea",
   "metadata": {},
   "source": [
    "# Instance variables"
   ]
  },
  {
   "cell_type": "code",
   "execution_count": 114,
   "id": "37759f15-77d9-48b9-9dad-5f1da57c0461",
   "metadata": {},
   "outputs": [],
   "source": [
    "# - These variables are sued to define the attributes.\n",
    "# - To define the instance variables we use a special method i.e. __init__() and we call it as constructor"
   ]
  },
  {
   "cell_type": "markdown",
   "id": "4443a2d6-9a48-4346-959b-d31d68519a01",
   "metadata": {},
   "source": [
    "# Constructor"
   ]
  },
  {
   "cell_type": "code",
   "execution_count": 137,
   "id": "b6629de9-7b8d-40f0-a540-82dcfa134d3e",
   "metadata": {},
   "outputs": [],
   "source": [
    "# - It is a special method that we use to define instance variables (attributes).\n",
    "# - It is Python defined method and the name is fixed i.e. __init__().\n",
    "# - Whenever we create any object a constructor gets executed automatically.\n",
    "# - For one object the constructor gets executed only once.\n",
    "\n",
    "# - The constructor has atleast one argument always that is genearally.\n",
    "# - Using self variable we create the instance variables.\n",
    "# - self.intance_variable_name"
   ]
  },
  {
   "cell_type": "code",
   "execution_count": 125,
   "id": "f9a0c32d-bbda-43b5-a2ca-0b4ac927c562",
   "metadata": {},
   "outputs": [],
   "source": [
    "# Create a class Student that has the attributes, name, roll and age and has the behaviour read and write."
   ]
  },
  {
   "cell_type": "code",
   "execution_count": 169,
   "id": "cc8968e3-a54f-4040-82be-df9b3601c794",
   "metadata": {},
   "outputs": [],
   "source": [
    "class Student:\n",
    "    def __init__(self):\n",
    "        self.name='Akshay'\n",
    "        self.age=25\n",
    "        self.roll=10"
   ]
  },
  {
   "cell_type": "code",
   "execution_count": 171,
   "id": "b9ebb0c0-ac4d-416d-9c6b-f31b63d0fa37",
   "metadata": {},
   "outputs": [],
   "source": [
    "s=Student()"
   ]
  },
  {
   "cell_type": "code",
   "execution_count": 173,
   "id": "deb67ae0-851d-4cd1-8ca5-ec3981d86546",
   "metadata": {},
   "outputs": [
    {
     "data": {
      "text/plain": [
       "'Akshay'"
      ]
     },
     "execution_count": 173,
     "metadata": {},
     "output_type": "execute_result"
    }
   ],
   "source": [
    "s.name"
   ]
  },
  {
   "cell_type": "code",
   "execution_count": 175,
   "id": "5610652f-f6df-4aac-9ef4-d47804b40433",
   "metadata": {},
   "outputs": [
    {
     "data": {
      "text/plain": [
       "25"
      ]
     },
     "execution_count": 175,
     "metadata": {},
     "output_type": "execute_result"
    }
   ],
   "source": [
    "s.age"
   ]
  },
  {
   "cell_type": "code",
   "execution_count": 177,
   "id": "55e9a5c2-da9e-48f0-87a4-ef729fbbb82e",
   "metadata": {},
   "outputs": [
    {
     "data": {
      "text/plain": [
       "10"
      ]
     },
     "execution_count": 177,
     "metadata": {},
     "output_type": "execute_result"
    }
   ],
   "source": [
    "s.roll"
   ]
  },
  {
   "cell_type": "code",
   "execution_count": 180,
   "id": "7be611e3-dda2-4cd3-a44f-22c10237dfff",
   "metadata": {},
   "outputs": [],
   "source": [
    "s2=Student()"
   ]
  },
  {
   "cell_type": "code",
   "execution_count": 182,
   "id": "b6b3c713-1c81-4038-a40b-56b87d162001",
   "metadata": {},
   "outputs": [
    {
     "data": {
      "text/plain": [
       "'Akshay'"
      ]
     },
     "execution_count": 182,
     "metadata": {},
     "output_type": "execute_result"
    }
   ],
   "source": [
    "s2.name"
   ]
  },
  {
   "cell_type": "code",
   "execution_count": 184,
   "id": "4fc466e1-0ce5-4d70-873b-eeafda879d70",
   "metadata": {},
   "outputs": [
    {
     "data": {
      "text/plain": [
       "25"
      ]
     },
     "execution_count": 184,
     "metadata": {},
     "output_type": "execute_result"
    }
   ],
   "source": [
    "s2.age"
   ]
  },
  {
   "cell_type": "code",
   "execution_count": 186,
   "id": "994bd420-0782-41c4-957f-888084e1e5e6",
   "metadata": {},
   "outputs": [
    {
     "data": {
      "text/plain": [
       "10"
      ]
     },
     "execution_count": 186,
     "metadata": {},
     "output_type": "execute_result"
    }
   ],
   "source": [
    "s2.roll"
   ]
  },
  {
   "cell_type": "markdown",
   "id": "cc1d3494-b312-41d6-9cef-ac99e59a7913",
   "metadata": {},
   "source": [
    "# Passing the arguments to a constructor"
   ]
  },
  {
   "cell_type": "code",
   "execution_count": 191,
   "id": "651fea95-fe49-495d-96ec-98ea83f6f9f5",
   "metadata": {},
   "outputs": [],
   "source": [
    "class Student:\n",
    "    def __init__(self,name,age,roll):\n",
    "        self.name=name\n",
    "        self.age=age\n",
    "        self.roll=roll\n",
    "\n",
    "    def info(self):\n",
    "        print(f'The name is {self.name}')\n",
    "        print(f'The age is {self.age}')\n",
    "        print(f'The roll is {self.roll}')"
   ]
  },
  {
   "cell_type": "code",
   "execution_count": 195,
   "id": "74e4902f-fd55-46a5-8b43-f7c7272a1bd2",
   "metadata": {},
   "outputs": [],
   "source": [
    "s1=Student('Akshay', 25, 10)\n",
    "s2=Student('Nidhi', 26, 12)\n",
    "s3=Student('Jayanth', 24, 15)"
   ]
  },
  {
   "cell_type": "code",
   "execution_count": 197,
   "id": "4dae55ab-0607-4dce-89fe-088e2eb1a78a",
   "metadata": {},
   "outputs": [
    {
     "name": "stdout",
     "output_type": "stream",
     "text": [
      "The name is Akshay\n",
      "The age is 25\n",
      "The roll is 10\n"
     ]
    }
   ],
   "source": [
    "s1.info()"
   ]
  },
  {
   "cell_type": "code",
   "execution_count": 199,
   "id": "9d5cdbbb-1865-4872-bc73-aa306c10bc4c",
   "metadata": {},
   "outputs": [
    {
     "data": {
      "text/plain": [
       "'Akshay'"
      ]
     },
     "execution_count": 199,
     "metadata": {},
     "output_type": "execute_result"
    }
   ],
   "source": [
    "s1.name"
   ]
  },
  {
   "cell_type": "code",
   "execution_count": 201,
   "id": "9828b15b-bab4-458e-9287-eb45d4f1fe13",
   "metadata": {},
   "outputs": [
    {
     "data": {
      "text/plain": [
       "25"
      ]
     },
     "execution_count": 201,
     "metadata": {},
     "output_type": "execute_result"
    }
   ],
   "source": [
    "s1.age"
   ]
  },
  {
   "cell_type": "code",
   "execution_count": 203,
   "id": "29e04f4d-1d49-4fab-bf45-fbe86dd6c3a9",
   "metadata": {},
   "outputs": [
    {
     "name": "stdout",
     "output_type": "stream",
     "text": [
      "The name is Nidhi\n",
      "The age is 26\n",
      "The roll is 12\n"
     ]
    }
   ],
   "source": [
    "s2.info()"
   ]
  },
  {
   "cell_type": "code",
   "execution_count": 205,
   "id": "0da50c44-8e7b-47a9-ab57-ccaecff48cec",
   "metadata": {},
   "outputs": [
    {
     "data": {
      "text/plain": [
       "'Nidhi'"
      ]
     },
     "execution_count": 205,
     "metadata": {},
     "output_type": "execute_result"
    }
   ],
   "source": [
    "s2.name"
   ]
  },
  {
   "cell_type": "code",
   "execution_count": 207,
   "id": "dcd7da83-e770-4a60-9bff-9b43fe068818",
   "metadata": {},
   "outputs": [
    {
     "data": {
      "text/plain": [
       "12"
      ]
     },
     "execution_count": 207,
     "metadata": {},
     "output_type": "execute_result"
    }
   ],
   "source": [
    "s2.roll"
   ]
  },
  {
   "cell_type": "code",
   "execution_count": 209,
   "id": "77b616bb-f8c9-4999-8d21-fc6ce4d265fa",
   "metadata": {},
   "outputs": [
    {
     "name": "stdout",
     "output_type": "stream",
     "text": [
      "The name is Jayanth\n",
      "The age is 24\n",
      "The roll is 15\n"
     ]
    }
   ],
   "source": [
    "s3.info()"
   ]
  },
  {
   "cell_type": "code",
   "execution_count": 211,
   "id": "3adc2244-9a73-4abe-bf56-8430454e6ab2",
   "metadata": {},
   "outputs": [
    {
     "data": {
      "text/plain": [
       "24"
      ]
     },
     "execution_count": 211,
     "metadata": {},
     "output_type": "execute_result"
    }
   ],
   "source": [
    "s3.age"
   ]
  },
  {
   "cell_type": "markdown",
   "id": "a9a61705-2329-4ad8-a474-2c15bd0f86e7",
   "metadata": {},
   "source": [
    "# self"
   ]
  },
  {
   "cell_type": "code",
   "execution_count": 214,
   "id": "979d3f18-e77d-4187-8ddc-2359635d04a2",
   "metadata": {},
   "outputs": [],
   "source": [
    "# - It is a special variable that always referes to the current object.\n",
    "# - When we create an object Python by default pass the address of that object to the constructor.\n",
    "# - To hold that address we need some variable and that is self.\n",
    "# - self is not a kyword and we can use any variable of our choice."
   ]
  },
  {
   "cell_type": "code",
   "execution_count": 216,
   "id": "670b1e16-c5c4-4a7a-96bd-22e97b871d59",
   "metadata": {},
   "outputs": [],
   "source": [
    "class Test:\n",
    "    def __init__():\n",
    "        pass"
   ]
  },
  {
   "cell_type": "code",
   "execution_count": 218,
   "id": "4cdfdb04-35ff-4136-bab3-c6488bf7274a",
   "metadata": {},
   "outputs": [
    {
     "ename": "TypeError",
     "evalue": "Test.__init__() takes 0 positional arguments but 1 was given",
     "output_type": "error",
     "traceback": [
      "\u001b[1;31m---------------------------------------------------------------------------\u001b[0m",
      "\u001b[1;31mTypeError\u001b[0m                                 Traceback (most recent call last)",
      "Cell \u001b[1;32mIn[218], line 1\u001b[0m\n\u001b[1;32m----> 1\u001b[0m t\u001b[38;5;241m=\u001b[39mTest()\n",
      "\u001b[1;31mTypeError\u001b[0m: Test.__init__() takes 0 positional arguments but 1 was given"
     ]
    }
   ],
   "source": [
    "t=Test()"
   ]
  },
  {
   "cell_type": "code",
   "execution_count": 222,
   "id": "35b2d152-f0f8-4888-906c-38d40aaed19f",
   "metadata": {},
   "outputs": [],
   "source": [
    "class Test:\n",
    "    def __init__(self):\n",
    "        print(id(self))"
   ]
  },
  {
   "cell_type": "code",
   "execution_count": 224,
   "id": "cccc7d92-f476-4092-8fdf-a66e85d3e90d",
   "metadata": {},
   "outputs": [
    {
     "name": "stdout",
     "output_type": "stream",
     "text": [
      "1434566698960\n"
     ]
    }
   ],
   "source": [
    "t=Test()"
   ]
  },
  {
   "cell_type": "code",
   "execution_count": 226,
   "id": "c7cb5c64-132e-4291-9e4a-9c1d286027b7",
   "metadata": {},
   "outputs": [
    {
     "name": "stdout",
     "output_type": "stream",
     "text": [
      "1434566698960\n"
     ]
    }
   ],
   "source": [
    "print(id(t))"
   ]
  },
  {
   "cell_type": "code",
   "execution_count": 228,
   "id": "a7898abc-08d1-497e-ac19-47b3c3cba66b",
   "metadata": {},
   "outputs": [
    {
     "name": "stdout",
     "output_type": "stream",
     "text": [
      "1434564443472\n"
     ]
    }
   ],
   "source": [
    "t2=Test()"
   ]
  },
  {
   "cell_type": "code",
   "execution_count": 230,
   "id": "b42c0350-2df3-448d-8365-0ebed630f904",
   "metadata": {},
   "outputs": [
    {
     "name": "stdout",
     "output_type": "stream",
     "text": [
      "1434564443472\n"
     ]
    }
   ],
   "source": [
    "print(id(t2))"
   ]
  },
  {
   "cell_type": "code",
   "execution_count": 236,
   "id": "cf7cecaa-3aa4-499f-aaa2-d3221a7a9090",
   "metadata": {},
   "outputs": [],
   "source": [
    "class Test:\n",
    "    def __init__(abc,name,age):\n",
    "        abc.name=name\n",
    "        abc.age=age\n",
    "        print(id(abc))"
   ]
  },
  {
   "cell_type": "code",
   "execution_count": 238,
   "id": "e826448a-aef7-4336-8082-ca5967bd787b",
   "metadata": {},
   "outputs": [
    {
     "name": "stdout",
     "output_type": "stream",
     "text": [
      "1434535649872\n"
     ]
    }
   ],
   "source": [
    "t1=Test('Debolina', 24)"
   ]
  },
  {
   "cell_type": "code",
   "execution_count": 240,
   "id": "fc81f13f-11c0-4139-b997-e648d288618d",
   "metadata": {},
   "outputs": [
    {
     "name": "stdout",
     "output_type": "stream",
     "text": [
      "1434535649872\n"
     ]
    }
   ],
   "source": [
    "print(id(t1))"
   ]
  },
  {
   "cell_type": "code",
   "execution_count": 242,
   "id": "76e60b87-972a-4da6-bff1-ae8b50f19668",
   "metadata": {},
   "outputs": [
    {
     "name": "stdout",
     "output_type": "stream",
     "text": [
      "1434566698768\n"
     ]
    }
   ],
   "source": [
    "t2=Test('Manish',22)"
   ]
  },
  {
   "cell_type": "code",
   "execution_count": 244,
   "id": "68af7bb7-3409-4097-ab99-706d6333485e",
   "metadata": {},
   "outputs": [
    {
     "name": "stdout",
     "output_type": "stream",
     "text": [
      "1434566698768\n"
     ]
    }
   ],
   "source": [
    "print(id(t2))"
   ]
  },
  {
   "cell_type": "code",
   "execution_count": 248,
   "id": "98266293-47f1-45b2-afc0-dc066030feba",
   "metadata": {},
   "outputs": [],
   "source": [
    "class Test:\n",
    "    def __init__(self,a,b):\n",
    "        self.name=a\n",
    "        self.age=b"
   ]
  },
  {
   "cell_type": "code",
   "execution_count": 250,
   "id": "4afb0b54-4718-47e3-a863-b6f3e54ad831",
   "metadata": {},
   "outputs": [],
   "source": [
    "t1=Test('Nidhi', 22)"
   ]
  },
  {
   "cell_type": "code",
   "execution_count": 254,
   "id": "ba017e06-d207-4a5c-b0bb-a5ca63b46dc4",
   "metadata": {},
   "outputs": [
    {
     "data": {
      "text/plain": [
       "'Nidhi'"
      ]
     },
     "execution_count": 254,
     "metadata": {},
     "output_type": "execute_result"
    }
   ],
   "source": [
    "t1.name"
   ]
  },
  {
   "cell_type": "code",
   "execution_count": 256,
   "id": "3916edcc-1d1d-4913-b8f8-aee8fd34073a",
   "metadata": {},
   "outputs": [
    {
     "data": {
      "text/plain": [
       "22"
      ]
     },
     "execution_count": 256,
     "metadata": {},
     "output_type": "execute_result"
    }
   ],
   "source": [
    "t1.age"
   ]
  },
  {
   "cell_type": "code",
   "execution_count": 285,
   "id": "aee21f1b-9fff-46fd-973b-540b3df3f277",
   "metadata": {},
   "outputs": [],
   "source": [
    "class Test:\n",
    "    def __init__(self,a,b):\n",
    "        print(a)\n",
    "        print(b)"
   ]
  },
  {
   "cell_type": "code",
   "execution_count": 287,
   "id": "d4043209-d64a-464b-b8a5-cfc871bfa753",
   "metadata": {},
   "outputs": [
    {
     "name": "stdout",
     "output_type": "stream",
     "text": [
      "24\n",
      "25\n"
     ]
    }
   ],
   "source": [
    "t1=Test(24,25)"
   ]
  },
  {
   "cell_type": "code",
   "execution_count": null,
   "id": "8999a14f-e183-4477-a5af-b73e8d2a14af",
   "metadata": {},
   "outputs": [],
   "source": []
  }
 ],
 "metadata": {
  "kernelspec": {
   "display_name": "Python 3 (ipykernel)",
   "language": "python",
   "name": "python3"
  },
  "language_info": {
   "codemirror_mode": {
    "name": "ipython",
    "version": 3
   },
   "file_extension": ".py",
   "mimetype": "text/x-python",
   "name": "python",
   "nbconvert_exporter": "python",
   "pygments_lexer": "ipython3",
   "version": "3.11.4"
  }
 },
 "nbformat": 4,
 "nbformat_minor": 5
}
