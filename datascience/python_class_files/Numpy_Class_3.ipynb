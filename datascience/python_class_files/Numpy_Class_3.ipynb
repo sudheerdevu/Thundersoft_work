{
 "cells": [
  {
   "cell_type": "code",
   "execution_count": 1,
   "id": "d35435ca-d1db-408d-ba89-59156e5a7870",
   "metadata": {},
   "outputs": [],
   "source": [
    "import numpy as np"
   ]
  },
  {
   "cell_type": "markdown",
   "id": "36130817-91c6-4660-80cf-ce1dabd26181",
   "metadata": {},
   "source": [
    "# Arithmetic and Statictical Functions"
   ]
  },
  {
   "cell_type": "markdown",
   "id": "56732538-936e-4d3a-b57c-d663034c6ab1",
   "metadata": {},
   "source": [
    "### np.max()"
   ]
  },
  {
   "cell_type": "code",
   "execution_count": 5,
   "id": "25bc7f62-4e74-4445-a250-6b2395c97ea0",
   "metadata": {},
   "outputs": [],
   "source": [
    "# - It returns the maximum value of an array."
   ]
  },
  {
   "cell_type": "code",
   "execution_count": 19,
   "id": "84043051-77fa-4b5f-ab80-a3dd738948d4",
   "metadata": {},
   "outputs": [],
   "source": [
    "# np.max(arr,axis=0/1)\n",
    "# arr.max(axis=0/1)"
   ]
  },
  {
   "cell_type": "code",
   "execution_count": 13,
   "id": "12804318-c116-484f-958c-0d6d22ce0216",
   "metadata": {},
   "outputs": [],
   "source": [
    "np.random.seed(115)\n",
    "x=np.random.randint(10,100,size=(3,4))"
   ]
  },
  {
   "cell_type": "code",
   "execution_count": 15,
   "id": "c99ea631-bf76-4333-9dee-59fab4faeb13",
   "metadata": {},
   "outputs": [
    {
     "data": {
      "text/plain": [
       "array([[28, 42, 16, 26],\n",
       "       [24, 41, 51, 72],\n",
       "       [56, 22, 75, 17]])"
      ]
     },
     "execution_count": 15,
     "metadata": {},
     "output_type": "execute_result"
    }
   ],
   "source": [
    "x"
   ]
  },
  {
   "cell_type": "code",
   "execution_count": 17,
   "id": "65b1ebc1-d5eb-4920-9a09-e6d339b09a10",
   "metadata": {},
   "outputs": [
    {
     "data": {
      "text/plain": [
       "75"
      ]
     },
     "execution_count": 17,
     "metadata": {},
     "output_type": "execute_result"
    }
   ],
   "source": [
    "np.max(x)"
   ]
  },
  {
   "cell_type": "code",
   "execution_count": 21,
   "id": "7da623a8-1f8e-44f9-bbd4-985dd4e08294",
   "metadata": {},
   "outputs": [
    {
     "data": {
      "text/plain": [
       "75"
      ]
     },
     "execution_count": 21,
     "metadata": {},
     "output_type": "execute_result"
    }
   ],
   "source": [
    "x.max()"
   ]
  },
  {
   "cell_type": "code",
   "execution_count": 23,
   "id": "b4dd63e5-2612-494e-9a94-d542d9e2fcc4",
   "metadata": {},
   "outputs": [
    {
     "data": {
      "text/plain": [
       "array([56, 42, 75, 72])"
      ]
     },
     "execution_count": 23,
     "metadata": {},
     "output_type": "execute_result"
    }
   ],
   "source": [
    "np.max(x,axis=0)"
   ]
  },
  {
   "cell_type": "code",
   "execution_count": 25,
   "id": "d8c960d5-1495-4744-94b1-8dc8fc789c5d",
   "metadata": {},
   "outputs": [
    {
     "data": {
      "text/plain": [
       "array([42, 72, 75])"
      ]
     },
     "execution_count": 25,
     "metadata": {},
     "output_type": "execute_result"
    }
   ],
   "source": [
    "np.max(x,axis=1)"
   ]
  },
  {
   "cell_type": "code",
   "execution_count": 29,
   "id": "38e08e2b-c62d-4b01-8a72-9a9e398e2e05",
   "metadata": {},
   "outputs": [
    {
     "data": {
      "text/plain": [
       "array([56, 42, 75, 72])"
      ]
     },
     "execution_count": 29,
     "metadata": {},
     "output_type": "execute_result"
    }
   ],
   "source": [
    "x.max(axis=0)"
   ]
  },
  {
   "cell_type": "code",
   "execution_count": 33,
   "id": "c39c5a3a-2403-483a-bbc1-fcd570e47444",
   "metadata": {},
   "outputs": [
    {
     "data": {
      "text/plain": [
       "array([42, 72, 75])"
      ]
     },
     "execution_count": 33,
     "metadata": {},
     "output_type": "execute_result"
    }
   ],
   "source": [
    "x.max(axis=1)"
   ]
  },
  {
   "cell_type": "markdown",
   "id": "24591e15-6746-4a52-b9d3-b7a6f435631d",
   "metadata": {},
   "source": [
    "### np.min()"
   ]
  },
  {
   "cell_type": "code",
   "execution_count": 36,
   "id": "d11bc3f3-d526-4cee-b3d9-6ea112683553",
   "metadata": {},
   "outputs": [],
   "source": [
    "# - It returns the minimum of an array."
   ]
  },
  {
   "cell_type": "code",
   "execution_count": 38,
   "id": "7d3d4e68-f9c7-4235-b070-38d69a205bd0",
   "metadata": {},
   "outputs": [],
   "source": [
    "# np.min(arr,axis=0/1)\n",
    "# arr.min(axis=0/1)"
   ]
  },
  {
   "cell_type": "code",
   "execution_count": 40,
   "id": "75c9537a-0332-470b-a911-68d64706ac30",
   "metadata": {},
   "outputs": [
    {
     "data": {
      "text/plain": [
       "array([[28, 42, 16, 26],\n",
       "       [24, 41, 51, 72],\n",
       "       [56, 22, 75, 17]])"
      ]
     },
     "execution_count": 40,
     "metadata": {},
     "output_type": "execute_result"
    }
   ],
   "source": [
    "x"
   ]
  },
  {
   "cell_type": "code",
   "execution_count": 42,
   "id": "888c8580-b67b-4244-8142-885d703f410b",
   "metadata": {},
   "outputs": [
    {
     "data": {
      "text/plain": [
       "16"
      ]
     },
     "execution_count": 42,
     "metadata": {},
     "output_type": "execute_result"
    }
   ],
   "source": [
    "np.min(x)"
   ]
  },
  {
   "cell_type": "code",
   "execution_count": 44,
   "id": "127cda21-3990-4a2c-a155-8d3372e3389b",
   "metadata": {},
   "outputs": [
    {
     "data": {
      "text/plain": [
       "16"
      ]
     },
     "execution_count": 44,
     "metadata": {},
     "output_type": "execute_result"
    }
   ],
   "source": [
    "x.min()"
   ]
  },
  {
   "cell_type": "code",
   "execution_count": 46,
   "id": "b61b5723-804f-4fed-ae47-f51ddf278d55",
   "metadata": {},
   "outputs": [
    {
     "data": {
      "text/plain": [
       "array([24, 22, 16, 17])"
      ]
     },
     "execution_count": 46,
     "metadata": {},
     "output_type": "execute_result"
    }
   ],
   "source": [
    "np.min(x,axis=0)"
   ]
  },
  {
   "cell_type": "code",
   "execution_count": 48,
   "id": "f7c68584-7f67-485b-952f-91f3a7af632c",
   "metadata": {},
   "outputs": [
    {
     "data": {
      "text/plain": [
       "array([16, 24, 17])"
      ]
     },
     "execution_count": 48,
     "metadata": {},
     "output_type": "execute_result"
    }
   ],
   "source": [
    "np.min(x,axis=1)"
   ]
  },
  {
   "cell_type": "code",
   "execution_count": 52,
   "id": "7ec28af5-8bf9-46a5-8630-b9a4de897e4c",
   "metadata": {},
   "outputs": [
    {
     "data": {
      "text/plain": [
       "array([24, 22, 16, 17])"
      ]
     },
     "execution_count": 52,
     "metadata": {},
     "output_type": "execute_result"
    }
   ],
   "source": [
    "x.min(axis=0)"
   ]
  },
  {
   "cell_type": "code",
   "execution_count": 54,
   "id": "d9946957-27f7-4a26-a0c8-d6375a17a709",
   "metadata": {},
   "outputs": [
    {
     "data": {
      "text/plain": [
       "array([16, 24, 17])"
      ]
     },
     "execution_count": 54,
     "metadata": {},
     "output_type": "execute_result"
    }
   ],
   "source": [
    "x.min(axis=1)"
   ]
  },
  {
   "cell_type": "markdown",
   "id": "1db165b3-92a1-4013-acdc-f514f04ebc30",
   "metadata": {},
   "source": [
    "### np.mean()"
   ]
  },
  {
   "cell_type": "code",
   "execution_count": 57,
   "id": "342b7c9a-1ab4-43cc-9ec5-6fa1b819b63c",
   "metadata": {},
   "outputs": [],
   "source": [
    "# - It returns the mean (average) of an array."
   ]
  },
  {
   "cell_type": "code",
   "execution_count": 69,
   "id": "27133db0-c1d3-460e-b71b-93300b220791",
   "metadata": {},
   "outputs": [],
   "source": [
    "# np.mean(arr,axis=0/1)\n",
    "# arr.mean(axis=0/1)"
   ]
  },
  {
   "cell_type": "code",
   "execution_count": 59,
   "id": "2d92f7a9-2371-4cf2-bd50-41e0dea5988c",
   "metadata": {},
   "outputs": [
    {
     "data": {
      "text/plain": [
       "array([[28, 42, 16, 26],\n",
       "       [24, 41, 51, 72],\n",
       "       [56, 22, 75, 17]])"
      ]
     },
     "execution_count": 59,
     "metadata": {},
     "output_type": "execute_result"
    }
   ],
   "source": [
    "x"
   ]
  },
  {
   "cell_type": "code",
   "execution_count": 61,
   "id": "0714e344-4b8d-4306-873b-cb42f680d74d",
   "metadata": {},
   "outputs": [
    {
     "data": {
      "text/plain": [
       "39.166666666666664"
      ]
     },
     "execution_count": 61,
     "metadata": {},
     "output_type": "execute_result"
    }
   ],
   "source": [
    "np.mean(x)"
   ]
  },
  {
   "cell_type": "code",
   "execution_count": 63,
   "id": "cc09e9d4-ce41-4b12-8867-51b059cf6e34",
   "metadata": {},
   "outputs": [],
   "source": [
    "# Total_of_values/number_of_values"
   ]
  },
  {
   "cell_type": "code",
   "execution_count": 67,
   "id": "eb3479f1-68f1-43bd-8ef9-07659f488cf5",
   "metadata": {},
   "outputs": [
    {
     "data": {
      "text/plain": [
       "39.166666666666664"
      ]
     },
     "execution_count": 67,
     "metadata": {},
     "output_type": "execute_result"
    }
   ],
   "source": [
    "np.sum(x)/x.size"
   ]
  },
  {
   "cell_type": "code",
   "execution_count": 71,
   "id": "0139a99d-485e-4021-8cd8-c12fc3cb41d5",
   "metadata": {},
   "outputs": [
    {
     "data": {
      "text/plain": [
       "array([28. , 47. , 42.5])"
      ]
     },
     "execution_count": 71,
     "metadata": {},
     "output_type": "execute_result"
    }
   ],
   "source": [
    "np.mean(x,axis=1)"
   ]
  },
  {
   "cell_type": "code",
   "execution_count": 79,
   "id": "0ba3b55e-b3f8-41e6-8ab0-9b1a6b264caf",
   "metadata": {},
   "outputs": [
    {
     "data": {
      "text/plain": [
       "(28.0, 47.0, 42.5)"
      ]
     },
     "execution_count": 79,
     "metadata": {},
     "output_type": "execute_result"
    }
   ],
   "source": [
    "x[0].sum()/x[0].size,x[1].sum()/x[1].size,x[2].sum()/x[2].size"
   ]
  },
  {
   "cell_type": "code",
   "execution_count": 81,
   "id": "3cd95d82-2e6c-4b0c-a123-364b1542522b",
   "metadata": {},
   "outputs": [
    {
     "data": {
      "text/plain": [
       "array([36.        , 35.        , 47.33333333, 38.33333333])"
      ]
     },
     "execution_count": 81,
     "metadata": {},
     "output_type": "execute_result"
    }
   ],
   "source": [
    "np.mean(x,axis=0)"
   ]
  },
  {
   "cell_type": "code",
   "execution_count": 83,
   "id": "f668566c-0abe-49fd-a0f7-cac691d4b771",
   "metadata": {},
   "outputs": [
    {
     "data": {
      "text/plain": [
       "array([36.        , 35.        , 47.33333333, 38.33333333])"
      ]
     },
     "execution_count": 83,
     "metadata": {},
     "output_type": "execute_result"
    }
   ],
   "source": [
    "x.mean(axis=0)"
   ]
  },
  {
   "cell_type": "code",
   "execution_count": 85,
   "id": "53c41023-ec57-4e5c-86bc-341ab29e533f",
   "metadata": {},
   "outputs": [
    {
     "data": {
      "text/plain": [
       "array([28. , 47. , 42.5])"
      ]
     },
     "execution_count": 85,
     "metadata": {},
     "output_type": "execute_result"
    }
   ],
   "source": [
    "x.mean(axis=1)"
   ]
  },
  {
   "cell_type": "markdown",
   "id": "ada04034-5244-4691-a370-e5f7a95e2d73",
   "metadata": {},
   "source": [
    "### np.median()"
   ]
  },
  {
   "cell_type": "code",
   "execution_count": 90,
   "id": "e1573619-bde4-4ab5-a42f-5df3a2939c26",
   "metadata": {},
   "outputs": [],
   "source": [
    "# - It returns the median of an array.\n",
    "# - Median is the middle value or the 50th percentile value."
   ]
  },
  {
   "cell_type": "code",
   "execution_count": 92,
   "id": "be1ec0b3-dbe4-4ede-a697-2bc2d0179b01",
   "metadata": {},
   "outputs": [],
   "source": [
    "# vals=[1,5,9,12,15]\n",
    "# med=9"
   ]
  },
  {
   "cell_type": "code",
   "execution_count": 96,
   "id": "ff92ba96-a7cf-4749-8ce2-785b9d09ff53",
   "metadata": {},
   "outputs": [],
   "source": [
    "# vals=[1,5,9,12,15,20]\n",
    "# (9+12)/2\n",
    "# med=10.5"
   ]
  },
  {
   "cell_type": "code",
   "execution_count": 100,
   "id": "f6ce1a9d-1ca7-441b-9899-ae2ca7cc2a9f",
   "metadata": {},
   "outputs": [],
   "source": [
    "# np.median(arr,axis=0/1)\n",
    "# arr.median() is not possible"
   ]
  },
  {
   "cell_type": "code",
   "execution_count": 102,
   "id": "7779b28f-bf15-43b2-ac68-ad52fdf5e4fc",
   "metadata": {},
   "outputs": [
    {
     "data": {
      "text/plain": [
       "array([[28, 42, 16, 26],\n",
       "       [24, 41, 51, 72],\n",
       "       [56, 22, 75, 17]])"
      ]
     },
     "execution_count": 102,
     "metadata": {},
     "output_type": "execute_result"
    }
   ],
   "source": [
    "x"
   ]
  },
  {
   "cell_type": "code",
   "execution_count": 104,
   "id": "f5fa990e-3605-49ec-a79f-49c6e5aabf57",
   "metadata": {},
   "outputs": [
    {
     "data": {
      "text/plain": [
       "34.5"
      ]
     },
     "execution_count": 104,
     "metadata": {},
     "output_type": "execute_result"
    }
   ],
   "source": [
    "np.median(x)"
   ]
  },
  {
   "cell_type": "code",
   "execution_count": 108,
   "id": "6007ad32-93a1-4324-b55e-6d7e83947c52",
   "metadata": {},
   "outputs": [],
   "source": [
    "# x.median() -> AttributeError"
   ]
  },
  {
   "cell_type": "code",
   "execution_count": 112,
   "id": "bcfa253b-1845-4e0b-a19b-f301fd4bfc20",
   "metadata": {},
   "outputs": [],
   "source": [
    "# data=[24,28,56]\n",
    "# mean=(28+24+56)/3\n",
    "# mean -> 36\n",
    "# median -> 28"
   ]
  },
  {
   "cell_type": "code",
   "execution_count": 116,
   "id": "48a4a1bf-7c4b-412a-b7d3-20df527cf69c",
   "metadata": {},
   "outputs": [
    {
     "data": {
      "text/plain": [
       "array([28., 41., 51., 26.])"
      ]
     },
     "execution_count": 116,
     "metadata": {},
     "output_type": "execute_result"
    }
   ],
   "source": [
    "np.median(x,axis=0)"
   ]
  },
  {
   "cell_type": "code",
   "execution_count": 118,
   "id": "c0803233-9c85-4b7d-b366-74ab581b58af",
   "metadata": {},
   "outputs": [
    {
     "data": {
      "text/plain": [
       "array([27., 46., 39.])"
      ]
     },
     "execution_count": 118,
     "metadata": {},
     "output_type": "execute_result"
    }
   ],
   "source": [
    "np.median(x,axis=1)"
   ]
  },
  {
   "cell_type": "code",
   "execution_count": 120,
   "id": "db4c21e4-a03d-4cb0-ac2e-7504f5be113a",
   "metadata": {},
   "outputs": [
    {
     "data": {
      "text/plain": [
       "27.0"
      ]
     },
     "execution_count": 120,
     "metadata": {},
     "output_type": "execute_result"
    }
   ],
   "source": [
    "data=[28, 42, 16, 26]\n",
    "ascending=[16,26,28,42]\n",
    "med=(26+28)/2\n",
    "med"
   ]
  },
  {
   "cell_type": "markdown",
   "id": "972a7312-8702-4bb1-9b22-5deec3d1af03",
   "metadata": {},
   "source": [
    "### mode()"
   ]
  },
  {
   "cell_type": "code",
   "execution_count": 123,
   "id": "a9c53335-fefc-4b25-8e2e-81d7578769ec",
   "metadata": {},
   "outputs": [],
   "source": [
    "# - mode() is not available in Numpy.\n",
    "# - To calculate mode we can use Scipy.\n",
    "# - Scipy stands for Scientific Python.\n",
    "# - It is a sister of Numpy"
   ]
  },
  {
   "cell_type": "code",
   "execution_count": 125,
   "id": "510d4996-df70-40d2-a381-80190e9f16b7",
   "metadata": {},
   "outputs": [],
   "source": [
    "from scipy import stats"
   ]
  },
  {
   "cell_type": "code",
   "execution_count": 129,
   "id": "edb668a3-8193-4caa-a500-3e2f199b12a3",
   "metadata": {},
   "outputs": [],
   "source": [
    "# stats.mode(arr,axis=0/1,keepdims=True/False)"
   ]
  },
  {
   "cell_type": "code",
   "execution_count": 131,
   "id": "28fe1e28-f68d-4054-99f3-2d619d18c744",
   "metadata": {},
   "outputs": [
    {
     "data": {
      "text/plain": [
       "array([[28, 42, 16, 26],\n",
       "       [24, 41, 51, 72],\n",
       "       [56, 22, 75, 17]])"
      ]
     },
     "execution_count": 131,
     "metadata": {},
     "output_type": "execute_result"
    }
   ],
   "source": [
    "x"
   ]
  },
  {
   "cell_type": "code",
   "execution_count": 135,
   "id": "58b2faa7-c893-43d2-81a7-186130b7c379",
   "metadata": {},
   "outputs": [
    {
     "data": {
      "text/plain": [
       "ModeResult(mode=array([24, 22, 16, 17]), count=array([1, 1, 1, 1]))"
      ]
     },
     "execution_count": 135,
     "metadata": {},
     "output_type": "execute_result"
    }
   ],
   "source": [
    "stats.mode(x,keepdims=False)"
   ]
  },
  {
   "cell_type": "code",
   "execution_count": 139,
   "id": "127b7767-ed4b-4ff1-80a2-1f7dfe871dcc",
   "metadata": {},
   "outputs": [
    {
     "data": {
      "text/plain": [
       "array([[10, 20, 30, 40],\n",
       "       [20, 20, 50, 20],\n",
       "       [10, 10, 20, 20]])"
      ]
     },
     "execution_count": 139,
     "metadata": {},
     "output_type": "execute_result"
    }
   ],
   "source": [
    "arr=np.array([10,20,30,40,20,20,50,20,10,10,20,20]).reshape(3,4)\n",
    "arr"
   ]
  },
  {
   "cell_type": "code",
   "execution_count": 155,
   "id": "f6c23698-cb89-4452-b3da-5f1cfe6e19e4",
   "metadata": {},
   "outputs": [
    {
     "data": {
      "text/plain": [
       "ModeResult(mode=array([10, 20, 20, 20]), count=array([2, 2, 1, 2]))"
      ]
     },
     "execution_count": 155,
     "metadata": {},
     "output_type": "execute_result"
    }
   ],
   "source": [
    "stats.mode(arr,keepdims=False,axis=0)"
   ]
  },
  {
   "cell_type": "code",
   "execution_count": 157,
   "id": "6a61f76a-edb5-425e-8a1f-9f0a7e7f9965",
   "metadata": {},
   "outputs": [
    {
     "data": {
      "text/plain": [
       "ModeResult(mode=array([10, 20, 10]), count=array([1, 3, 2]))"
      ]
     },
     "execution_count": 157,
     "metadata": {},
     "output_type": "execute_result"
    }
   ],
   "source": [
    "stats.mode(arr,keepdims=False,axis=1)"
   ]
  },
  {
   "cell_type": "markdown",
   "id": "2ebf4dee-9449-4751-bdc7-b1c5cead86c7",
   "metadata": {},
   "source": [
    "### np.var()"
   ]
  },
  {
   "cell_type": "code",
   "execution_count": 161,
   "id": "7dbfc3b5-5aa2-4ab9-b995-076ad94fb932",
   "metadata": {},
   "outputs": [],
   "source": [
    "# - It returns the variance of an array."
   ]
  },
  {
   "cell_type": "code",
   "execution_count": 169,
   "id": "0adcac1c-b703-4f19-ac71-8d56a8fce34e",
   "metadata": {},
   "outputs": [],
   "source": [
    "# np.var(arr,axis=0/1)\n",
    "# arr.var(axis=0/1)"
   ]
  },
  {
   "cell_type": "code",
   "execution_count": 163,
   "id": "f2077c99-c34c-46dc-b118-5a5a66c8b7da",
   "metadata": {},
   "outputs": [
    {
     "data": {
      "text/plain": [
       "array([[28, 42, 16, 26],\n",
       "       [24, 41, 51, 72],\n",
       "       [56, 22, 75, 17]])"
      ]
     },
     "execution_count": 163,
     "metadata": {},
     "output_type": "execute_result"
    }
   ],
   "source": [
    "x"
   ]
  },
  {
   "cell_type": "code",
   "execution_count": 167,
   "id": "36994e76-73d7-4f33-b293-f0dfc0ebc6a2",
   "metadata": {},
   "outputs": [
    {
     "data": {
      "text/plain": [
       "387.3055555555556"
      ]
     },
     "execution_count": 167,
     "metadata": {},
     "output_type": "execute_result"
    }
   ],
   "source": [
    "np.var(x)"
   ]
  },
  {
   "cell_type": "code",
   "execution_count": 171,
   "id": "407cf31c-3b4a-448c-a309-3a322ca587e3",
   "metadata": {},
   "outputs": [
    {
     "data": {
      "text/plain": [
       "387.3055555555556"
      ]
     },
     "execution_count": 171,
     "metadata": {},
     "output_type": "execute_result"
    }
   ],
   "source": [
    "x.var()"
   ]
  },
  {
   "cell_type": "code",
   "execution_count": 175,
   "id": "fdd7d8f9-495e-4dc9-a1a7-53b6cef7f04e",
   "metadata": {},
   "outputs": [
    {
     "data": {
      "text/plain": [
       "387.3055555555556"
      ]
     },
     "execution_count": 175,
     "metadata": {},
     "output_type": "execute_result"
    }
   ],
   "source": [
    "np.sum(((x-x.mean())**2))/x.size"
   ]
  },
  {
   "cell_type": "code",
   "execution_count": 178,
   "id": "39befafa-a2a9-47ef-bb8a-31e341f775e2",
   "metadata": {},
   "outputs": [
    {
     "data": {
      "text/plain": [
       "array([202.66666667,  84.66666667, 586.88888889, 580.22222222])"
      ]
     },
     "execution_count": 178,
     "metadata": {},
     "output_type": "execute_result"
    }
   ],
   "source": [
    "np.var(x,axis=0)"
   ]
  },
  {
   "cell_type": "code",
   "execution_count": 180,
   "id": "d4ae4ce1-d69d-4278-ad3d-8f68b620385c",
   "metadata": {},
   "outputs": [
    {
     "data": {
      "text/plain": [
       "array([ 86.  , 301.5 , 577.25])"
      ]
     },
     "execution_count": 180,
     "metadata": {},
     "output_type": "execute_result"
    }
   ],
   "source": [
    "np.var(x,axis=1)"
   ]
  },
  {
   "cell_type": "code",
   "execution_count": 182,
   "id": "5e42ed65-35d9-4c02-b934-143f9bb51eee",
   "metadata": {},
   "outputs": [
    {
     "data": {
      "text/plain": [
       "387.3055555555556"
      ]
     },
     "execution_count": 182,
     "metadata": {},
     "output_type": "execute_result"
    }
   ],
   "source": [
    "x.var()"
   ]
  },
  {
   "cell_type": "code",
   "execution_count": 184,
   "id": "00a477a1-f77e-4ef6-9c17-9258e0f9c86b",
   "metadata": {},
   "outputs": [
    {
     "data": {
      "text/plain": [
       "array([202.66666667,  84.66666667, 586.88888889, 580.22222222])"
      ]
     },
     "execution_count": 184,
     "metadata": {},
     "output_type": "execute_result"
    }
   ],
   "source": [
    "x.var(axis=0)"
   ]
  },
  {
   "cell_type": "code",
   "execution_count": 186,
   "id": "749ea543-e0ff-475a-9c77-7144d68e3071",
   "metadata": {},
   "outputs": [
    {
     "data": {
      "text/plain": [
       "array([ 86.  , 301.5 , 577.25])"
      ]
     },
     "execution_count": 186,
     "metadata": {},
     "output_type": "execute_result"
    }
   ],
   "source": [
    "x.var(axis=1)"
   ]
  },
  {
   "cell_type": "markdown",
   "id": "91a4978b-55d5-4fad-a967-267e27cd71ce",
   "metadata": {},
   "source": [
    "### np.std()"
   ]
  },
  {
   "cell_type": "code",
   "execution_count": 190,
   "id": "751fd659-c21c-4e43-9cc2-1779e79460e1",
   "metadata": {},
   "outputs": [],
   "source": [
    "# - It returns Standard deviation of an array.\n",
    "# - Standard deviation is the square root of variance."
   ]
  },
  {
   "cell_type": "code",
   "execution_count": 198,
   "id": "03418280-6d87-4cdf-b130-8d18fd8a89ca",
   "metadata": {},
   "outputs": [],
   "source": [
    "# np.std(arr,axis=0/1)\n",
    "# arr.std(axis=0/1)"
   ]
  },
  {
   "cell_type": "code",
   "execution_count": 192,
   "id": "8e664e8a-cad0-4fef-b625-f5ae6c3b030c",
   "metadata": {},
   "outputs": [
    {
     "data": {
      "text/plain": [
       "array([[28, 42, 16, 26],\n",
       "       [24, 41, 51, 72],\n",
       "       [56, 22, 75, 17]])"
      ]
     },
     "execution_count": 192,
     "metadata": {},
     "output_type": "execute_result"
    }
   ],
   "source": [
    "x"
   ]
  },
  {
   "cell_type": "code",
   "execution_count": 194,
   "id": "66bd1119-4077-4263-a97b-287041d94021",
   "metadata": {},
   "outputs": [
    {
     "data": {
      "text/plain": [
       "19.68008017147175"
      ]
     },
     "execution_count": 194,
     "metadata": {},
     "output_type": "execute_result"
    }
   ],
   "source": [
    "np.std(x)"
   ]
  },
  {
   "cell_type": "code",
   "execution_count": 196,
   "id": "b8b21354-fec3-4509-a859-fe28f4dab8f5",
   "metadata": {},
   "outputs": [
    {
     "data": {
      "text/plain": [
       "19.68008017147175"
      ]
     },
     "execution_count": 196,
     "metadata": {},
     "output_type": "execute_result"
    }
   ],
   "source": [
    "x.std()"
   ]
  },
  {
   "cell_type": "code",
   "execution_count": 202,
   "id": "4f89d423-0f76-4981-94c9-c1c003a54dbd",
   "metadata": {},
   "outputs": [
    {
     "data": {
      "text/plain": [
       "19.68008017147175"
      ]
     },
     "execution_count": 202,
     "metadata": {},
     "output_type": "execute_result"
    }
   ],
   "source": [
    "np.sqrt(x.var())"
   ]
  },
  {
   "cell_type": "code",
   "execution_count": 208,
   "id": "6aa4fc66-db5e-4ded-9b1e-bd43b62a5fca",
   "metadata": {},
   "outputs": [
    {
     "data": {
      "text/plain": [
       "19.68008017147175"
      ]
     },
     "execution_count": 208,
     "metadata": {},
     "output_type": "execute_result"
    }
   ],
   "source": [
    "np.sqrt(np.sum((x-x.mean())**2)/x.size)"
   ]
  },
  {
   "cell_type": "code",
   "execution_count": 210,
   "id": "593e17f0-2f9e-4d29-aea2-87b6183926dc",
   "metadata": {},
   "outputs": [
    {
     "data": {
      "text/plain": [
       "array([14.23610434,  9.20144916, 24.22578975, 24.08780235])"
      ]
     },
     "execution_count": 210,
     "metadata": {},
     "output_type": "execute_result"
    }
   ],
   "source": [
    "np.std(x,axis=0)"
   ]
  },
  {
   "cell_type": "code",
   "execution_count": 212,
   "id": "2d32f196-4b3f-4ef7-8bf9-8d443769ba23",
   "metadata": {},
   "outputs": [
    {
     "data": {
      "text/plain": [
       "array([ 9.2736185 , 17.36375535, 24.02602755])"
      ]
     },
     "execution_count": 212,
     "metadata": {},
     "output_type": "execute_result"
    }
   ],
   "source": [
    "np.std(x,axis=1)"
   ]
  },
  {
   "cell_type": "code",
   "execution_count": 214,
   "id": "bcc3a3a8-f068-4fc6-9f43-85b4bad0374e",
   "metadata": {},
   "outputs": [
    {
     "data": {
      "text/plain": [
       "array([14.23610434,  9.20144916, 24.22578975, 24.08780235])"
      ]
     },
     "execution_count": 214,
     "metadata": {},
     "output_type": "execute_result"
    }
   ],
   "source": [
    "x.std(axis=0)"
   ]
  },
  {
   "cell_type": "code",
   "execution_count": 216,
   "id": "8317d032-b495-4e98-a442-980fcdd73a4a",
   "metadata": {},
   "outputs": [
    {
     "data": {
      "text/plain": [
       "array([ 9.2736185 , 17.36375535, 24.02602755])"
      ]
     },
     "execution_count": 216,
     "metadata": {},
     "output_type": "execute_result"
    }
   ],
   "source": [
    "x.std(axis=1)"
   ]
  },
  {
   "cell_type": "markdown",
   "id": "690aa40b-cd69-4a27-a6a3-a58b948a78c4",
   "metadata": {},
   "source": [
    "### np.percentile()"
   ]
  },
  {
   "cell_type": "code",
   "execution_count": 219,
   "id": "0a1be205-e277-460e-bc0a-75a30fe6f29b",
   "metadata": {},
   "outputs": [],
   "source": [
    "# - It returns the specified percentile value from an array."
   ]
  },
  {
   "cell_type": "code",
   "execution_count": 224,
   "id": "e56cd5e3-a42d-41d9-b15f-7295faeb9d00",
   "metadata": {},
   "outputs": [],
   "source": [
    "# np.percentile(arr,percentile_value)"
   ]
  },
  {
   "cell_type": "code",
   "execution_count": 226,
   "id": "070f79e6-2c92-4046-9d7f-173dac43ccbb",
   "metadata": {},
   "outputs": [
    {
     "data": {
      "text/plain": [
       "array([[28, 42, 16, 26],\n",
       "       [24, 41, 51, 72],\n",
       "       [56, 22, 75, 17]])"
      ]
     },
     "execution_count": 226,
     "metadata": {},
     "output_type": "execute_result"
    }
   ],
   "source": [
    "x"
   ]
  },
  {
   "cell_type": "code",
   "execution_count": 228,
   "id": "71d8c256-d328-4d74-b87d-78cbb8279530",
   "metadata": {},
   "outputs": [
    {
     "data": {
      "text/plain": [
       "23.5"
      ]
     },
     "execution_count": 228,
     "metadata": {},
     "output_type": "execute_result"
    }
   ],
   "source": [
    "np.percentile(x,25)"
   ]
  },
  {
   "cell_type": "code",
   "execution_count": 230,
   "id": "4388a15c-fd17-4faf-bd82-ea3fc3f547de",
   "metadata": {},
   "outputs": [
    {
     "data": {
      "text/plain": [
       "34.5"
      ]
     },
     "execution_count": 230,
     "metadata": {},
     "output_type": "execute_result"
    }
   ],
   "source": [
    "np.percentile(x,50)"
   ]
  },
  {
   "cell_type": "code",
   "execution_count": 232,
   "id": "ba53227e-9cb3-4af7-99cc-9bb40c8c5dd6",
   "metadata": {},
   "outputs": [
    {
     "data": {
      "text/plain": [
       "34.5"
      ]
     },
     "execution_count": 232,
     "metadata": {},
     "output_type": "execute_result"
    }
   ],
   "source": [
    "np.median(x)"
   ]
  },
  {
   "cell_type": "code",
   "execution_count": 234,
   "id": "321cf1c2-b25c-4a0d-83c8-2d1eb696297f",
   "metadata": {},
   "outputs": [
    {
     "data": {
      "text/plain": [
       "52.25"
      ]
     },
     "execution_count": 234,
     "metadata": {},
     "output_type": "execute_result"
    }
   ],
   "source": [
    "np.percentile(x,75)"
   ]
  },
  {
   "cell_type": "code",
   "execution_count": 236,
   "id": "e682c308-d439-4e47-8288-c42723c1e15a",
   "metadata": {},
   "outputs": [
    {
     "data": {
      "text/plain": [
       "array([17.5 , 23.5 , 34.5 , 52.25, 73.35, 74.67])"
      ]
     },
     "execution_count": 236,
     "metadata": {},
     "output_type": "execute_result"
    }
   ],
   "source": [
    "np.percentile(x,[10,25,50,75,95,99])"
   ]
  },
  {
   "cell_type": "markdown",
   "id": "b208e3f2-eb56-4b4b-8321-5e1489aa6a10",
   "metadata": {},
   "source": [
    "### Transpose of an array"
   ]
  },
  {
   "cell_type": "code",
   "execution_count": 239,
   "id": "a741bb2b-f20a-4c5b-a780-a8639de008e4",
   "metadata": {},
   "outputs": [],
   "source": [
    "# - Converting the rows into columns and vide versa is known as the transpose of an array."
   ]
  },
  {
   "cell_type": "code",
   "execution_count": 245,
   "id": "bd9d637e-cf0b-4c17-978a-f036ecb9d80d",
   "metadata": {},
   "outputs": [],
   "source": [
    "# arr.T\n",
    "# - It retsuns a new array."
   ]
  },
  {
   "cell_type": "code",
   "execution_count": 241,
   "id": "1ee0e87e-f08f-4a76-8d1e-13324c49c0d7",
   "metadata": {},
   "outputs": [
    {
     "data": {
      "text/plain": [
       "array([[28, 42, 16, 26],\n",
       "       [24, 41, 51, 72],\n",
       "       [56, 22, 75, 17]])"
      ]
     },
     "execution_count": 241,
     "metadata": {},
     "output_type": "execute_result"
    }
   ],
   "source": [
    "x"
   ]
  },
  {
   "cell_type": "code",
   "execution_count": 247,
   "id": "ff14c814-0bbd-4f0b-af50-c01763270344",
   "metadata": {},
   "outputs": [
    {
     "data": {
      "text/plain": [
       "array([[28, 24, 56],\n",
       "       [42, 41, 22],\n",
       "       [16, 51, 75],\n",
       "       [26, 72, 17]])"
      ]
     },
     "execution_count": 247,
     "metadata": {},
     "output_type": "execute_result"
    }
   ],
   "source": [
    "x.T"
   ]
  },
  {
   "cell_type": "code",
   "execution_count": 249,
   "id": "b12a402f-fc3a-4a4d-b1d4-05e7e008a8a0",
   "metadata": {},
   "outputs": [
    {
     "data": {
      "text/plain": [
       "array([[28, 42, 16, 26],\n",
       "       [24, 41, 51, 72],\n",
       "       [56, 22, 75, 17]])"
      ]
     },
     "execution_count": 249,
     "metadata": {},
     "output_type": "execute_result"
    }
   ],
   "source": [
    "x"
   ]
  },
  {
   "cell_type": "markdown",
   "id": "defdcdbf-e233-46c6-a023-da3fed1133e2",
   "metadata": {},
   "source": [
    "### Determinant of a matrix"
   ]
  },
  {
   "cell_type": "code",
   "execution_count": 252,
   "id": "32380646-ecd3-469f-abfa-e0cbfacf34b3",
   "metadata": {},
   "outputs": [],
   "source": [
    "# - Determinant can be calculated of the square matrix only.\n",
    "# - Square matrix- rows=cols"
   ]
  },
  {
   "cell_type": "code",
   "execution_count": 258,
   "id": "a0afee5e-50cd-477d-8d5e-20ede1dc3f5f",
   "metadata": {},
   "outputs": [],
   "source": [
    "# np.linalg.det(arr)"
   ]
  },
  {
   "cell_type": "code",
   "execution_count": 254,
   "id": "4ef76f47-7571-4297-8f85-7e6296ba928b",
   "metadata": {},
   "outputs": [],
   "source": [
    "np.random.seed(55)\n",
    "arr=np.random.randint(10,100,size=(3,3))"
   ]
  },
  {
   "cell_type": "code",
   "execution_count": 256,
   "id": "6e38ac63-ff75-450c-8c36-cb2b12991790",
   "metadata": {},
   "outputs": [
    {
     "data": {
      "text/plain": [
       "array([[87, 36, 49],\n",
       "       [82, 39, 71],\n",
       "       [65, 47, 43]])"
      ]
     },
     "execution_count": 256,
     "metadata": {},
     "output_type": "execute_result"
    }
   ],
   "source": [
    "arr"
   ]
  },
  {
   "cell_type": "code",
   "execution_count": 260,
   "id": "f801e6c5-e3a6-4eb9-9987-26cecd1e99a6",
   "metadata": {},
   "outputs": [
    {
     "data": {
      "text/plain": [
       "-40585.00000000003"
      ]
     },
     "execution_count": 260,
     "metadata": {},
     "output_type": "execute_result"
    }
   ],
   "source": [
    "np.linalg.det(arr)"
   ]
  },
  {
   "cell_type": "markdown",
   "id": "c462cae3-ee3e-4ae3-9789-9542532cc58d",
   "metadata": {},
   "source": [
    "### Inverse of an array"
   ]
  },
  {
   "cell_type": "code",
   "execution_count": 263,
   "id": "ec0bbf8d-1a5f-4292-b2f1-874f06df5641",
   "metadata": {},
   "outputs": [],
   "source": [
    "# - Inverse can be calculated of the square matrix only.\n",
    "# - Square matrix- rows=cols"
   ]
  },
  {
   "cell_type": "code",
   "execution_count": 265,
   "id": "1198f792-f495-4bac-ae36-dff13f396c5f",
   "metadata": {},
   "outputs": [],
   "source": [
    "# np.linalg.inv(arr)"
   ]
  },
  {
   "cell_type": "code",
   "execution_count": 269,
   "id": "48887a9a-6299-4171-8a0a-1f6bcd410313",
   "metadata": {},
   "outputs": [
    {
     "data": {
      "text/plain": [
       "array([[87, 36, 49],\n",
       "       [82, 39, 71],\n",
       "       [65, 47, 43]])"
      ]
     },
     "execution_count": 269,
     "metadata": {},
     "output_type": "execute_result"
    }
   ],
   "source": [
    "arr"
   ]
  },
  {
   "cell_type": "code",
   "execution_count": 271,
   "id": "43dfc0b3-40a9-4a51-a128-355a168b80bf",
   "metadata": {},
   "outputs": [
    {
     "data": {
      "text/plain": [
       "array([[ 0.04090181, -0.01860293, -0.01589257],\n",
       "       [-0.02683257, -0.01369964,  0.05319699],\n",
       "       [-0.03249969,  0.04309474, -0.01086608]])"
      ]
     },
     "execution_count": 271,
     "metadata": {},
     "output_type": "execute_result"
    }
   ],
   "source": [
    "np.linalg.inv(arr)"
   ]
  },
  {
   "cell_type": "markdown",
   "id": "eeec4317-10d6-45e5-a085-dce7f1bcddf4",
   "metadata": {},
   "source": [
    "### Dot product of two arrays"
   ]
  },
  {
   "cell_type": "code",
   "execution_count": 276,
   "id": "645b90b7-00b9-4856-bf33-0c149b4b2d6d",
   "metadata": {},
   "outputs": [],
   "source": [
    "# - The number of columns in the first array should be equal to the number of rows in the second array."
   ]
  },
  {
   "cell_type": "code",
   "execution_count": 274,
   "id": "21f15a89-48d8-4a4e-8358-f2195ab1a2b1",
   "metadata": {},
   "outputs": [],
   "source": [
    "# arr_1.dot(arr_2)"
   ]
  },
  {
   "cell_type": "code",
   "execution_count": 278,
   "id": "a5f568b2-ddbd-4d92-aa56-3b99a53a4ed1",
   "metadata": {},
   "outputs": [
    {
     "data": {
      "text/plain": [
       "array([[1, 2, 3],\n",
       "       [4, 5, 6]])"
      ]
     },
     "execution_count": 278,
     "metadata": {},
     "output_type": "execute_result"
    }
   ],
   "source": [
    "A=np.array([[1,2,3],[4,5,6]])\n",
    "A"
   ]
  },
  {
   "cell_type": "code",
   "execution_count": 280,
   "id": "f05bc722-d04b-4d05-bae5-c0a7a5552257",
   "metadata": {},
   "outputs": [
    {
     "data": {
      "text/plain": [
       "array([[2],\n",
       "       [4],\n",
       "       [6]])"
      ]
     },
     "execution_count": 280,
     "metadata": {},
     "output_type": "execute_result"
    }
   ],
   "source": [
    "B=np.array([[2],[4],[6]])\n",
    "B"
   ]
  },
  {
   "cell_type": "code",
   "execution_count": 282,
   "id": "e03e88c6-88c3-4313-a825-ad73bac08793",
   "metadata": {},
   "outputs": [
    {
     "data": {
      "text/plain": [
       "(2, 3)"
      ]
     },
     "execution_count": 282,
     "metadata": {},
     "output_type": "execute_result"
    }
   ],
   "source": [
    "A.shape"
   ]
  },
  {
   "cell_type": "code",
   "execution_count": 284,
   "id": "9a8150ac-80e3-416b-9f3c-fe931c7daf59",
   "metadata": {},
   "outputs": [
    {
     "data": {
      "text/plain": [
       "(3, 1)"
      ]
     },
     "execution_count": 284,
     "metadata": {},
     "output_type": "execute_result"
    }
   ],
   "source": [
    "B.shape"
   ]
  },
  {
   "cell_type": "code",
   "execution_count": 286,
   "id": "4ac88353-8e21-4248-b1c4-cf1ef921fcd7",
   "metadata": {},
   "outputs": [
    {
     "data": {
      "text/plain": [
       "array([[28],\n",
       "       [64]])"
      ]
     },
     "execution_count": 286,
     "metadata": {},
     "output_type": "execute_result"
    }
   ],
   "source": [
    "A.dot(B)"
   ]
  },
  {
   "cell_type": "code",
   "execution_count": 288,
   "id": "1e64fba4-c1e9-416d-8fd0-a985784b30e7",
   "metadata": {},
   "outputs": [
    {
     "data": {
      "text/plain": [
       "(3, 1)"
      ]
     },
     "execution_count": 288,
     "metadata": {},
     "output_type": "execute_result"
    }
   ],
   "source": [
    "B.shape"
   ]
  },
  {
   "cell_type": "code",
   "execution_count": 290,
   "id": "cadad05d-a7f0-4ab9-917f-7c2f239ed3dc",
   "metadata": {},
   "outputs": [
    {
     "data": {
      "text/plain": [
       "(2, 3)"
      ]
     },
     "execution_count": 290,
     "metadata": {},
     "output_type": "execute_result"
    }
   ],
   "source": [
    "A.shape"
   ]
  },
  {
   "cell_type": "code",
   "execution_count": 294,
   "id": "9f0702fc-6b84-421c-9991-7fb593b27a19",
   "metadata": {},
   "outputs": [
    {
     "ename": "ValueError",
     "evalue": "shapes (3,1) and (2,3) not aligned: 1 (dim 1) != 2 (dim 0)",
     "output_type": "error",
     "traceback": [
      "\u001b[1;31m---------------------------------------------------------------------------\u001b[0m",
      "\u001b[1;31mValueError\u001b[0m                                Traceback (most recent call last)",
      "Cell \u001b[1;32mIn[294], line 1\u001b[0m\n\u001b[1;32m----> 1\u001b[0m B\u001b[38;5;241m.\u001b[39mdot(A)\n",
      "\u001b[1;31mValueError\u001b[0m: shapes (3,1) and (2,3) not aligned: 1 (dim 1) != 2 (dim 0)"
     ]
    }
   ],
   "source": [
    "B.dot(A)"
   ]
  },
  {
   "cell_type": "code",
   "execution_count": 296,
   "id": "84d69f17-0641-4906-919e-39c88ddf27d7",
   "metadata": {},
   "outputs": [
    {
     "data": {
      "text/plain": [
       "array([[ 1,  2],\n",
       "       [ 2, -2]])"
      ]
     },
     "execution_count": 296,
     "metadata": {},
     "output_type": "execute_result"
    }
   ],
   "source": [
    "A=np.array([[1,2],[2,-2]])\n",
    "A"
   ]
  },
  {
   "cell_type": "code",
   "execution_count": 298,
   "id": "8859a5a3-a262-472d-bbb0-7789e4c14724",
   "metadata": {},
   "outputs": [
    {
     "data": {
      "text/plain": [
       "array([[10],\n",
       "       [35]])"
      ]
     },
     "execution_count": 298,
     "metadata": {},
     "output_type": "execute_result"
    }
   ],
   "source": [
    "B=np.array([[10],[35]])\n",
    "B"
   ]
  },
  {
   "cell_type": "code",
   "execution_count": 304,
   "id": "0f1fb07c-d998-4ce0-9c20-1c61e4c8071a",
   "metadata": {},
   "outputs": [],
   "source": [
    "x,y=np.linalg.inv(A).dot(B)"
   ]
  },
  {
   "cell_type": "code",
   "execution_count": 306,
   "id": "91b68b60-9e50-438f-8bd2-e2d9d6441f75",
   "metadata": {},
   "outputs": [
    {
     "data": {
      "text/plain": [
       "array([15.])"
      ]
     },
     "execution_count": 306,
     "metadata": {},
     "output_type": "execute_result"
    }
   ],
   "source": [
    "x"
   ]
  },
  {
   "cell_type": "code",
   "execution_count": 308,
   "id": "8b913d44-9762-48cf-aa27-9abe58f6d995",
   "metadata": {},
   "outputs": [
    {
     "data": {
      "text/plain": [
       "array([-2.5])"
      ]
     },
     "execution_count": 308,
     "metadata": {},
     "output_type": "execute_result"
    }
   ],
   "source": [
    "y"
   ]
  },
  {
   "cell_type": "markdown",
   "id": "39577b34-10a4-4996-974f-7a054a8b654c",
   "metadata": {},
   "source": [
    "### np.argmin()"
   ]
  },
  {
   "cell_type": "code",
   "execution_count": 311,
   "id": "208ad449-2c0b-46ac-9224-991242754bb4",
   "metadata": {},
   "outputs": [],
   "source": [
    "# - It returns the index of the minimum number.\n",
    "# - In case of two minimums it returns the index of the first minimum.\n",
    "# - If an aray is a 2-D or 3-D array then it first converts that into 1-D array and then checks the index."
   ]
  },
  {
   "cell_type": "code",
   "execution_count": 315,
   "id": "2eba91f1-9789-4c57-a79b-533acd733fd1",
   "metadata": {},
   "outputs": [
    {
     "data": {
      "text/plain": [
       "array([ 7,  4,  9,  2, 11,  6, 14,  3,  8])"
      ]
     },
     "execution_count": 315,
     "metadata": {},
     "output_type": "execute_result"
    }
   ],
   "source": [
    "x=np.array([7,4,9,2,11,6,14,3,8])\n",
    "x"
   ]
  },
  {
   "cell_type": "code",
   "execution_count": 317,
   "id": "0d53a3c8-566d-4598-881c-941adcf8d8f3",
   "metadata": {},
   "outputs": [
    {
     "data": {
      "text/plain": [
       "3"
      ]
     },
     "execution_count": 317,
     "metadata": {},
     "output_type": "execute_result"
    }
   ],
   "source": [
    "np.argmin(x)"
   ]
  },
  {
   "cell_type": "code",
   "execution_count": 319,
   "id": "b7487241-6804-4827-888d-28ce9f541054",
   "metadata": {},
   "outputs": [
    {
     "data": {
      "text/plain": [
       "2"
      ]
     },
     "execution_count": 319,
     "metadata": {},
     "output_type": "execute_result"
    }
   ],
   "source": [
    "x[np.argmin(x)]"
   ]
  },
  {
   "cell_type": "code",
   "execution_count": 321,
   "id": "6583b438-8021-4cc9-a4e3-95a321d1956a",
   "metadata": {},
   "outputs": [
    {
     "data": {
      "text/plain": [
       "array([ 7,  4,  9,  2, 11,  6,  2, 14,  3,  8])"
      ]
     },
     "execution_count": 321,
     "metadata": {},
     "output_type": "execute_result"
    }
   ],
   "source": [
    "x=np.array([7,4,9,2,11,6,2,14,3,8])\n",
    "x"
   ]
  },
  {
   "cell_type": "code",
   "execution_count": 323,
   "id": "0e42ee90-16ca-4a35-ae82-10c01f0b3ded",
   "metadata": {},
   "outputs": [
    {
     "data": {
      "text/plain": [
       "3"
      ]
     },
     "execution_count": 323,
     "metadata": {},
     "output_type": "execute_result"
    }
   ],
   "source": [
    "np.argmin(x)"
   ]
  },
  {
   "cell_type": "code",
   "execution_count": 325,
   "id": "e4ecb41f-a723-45aa-bd1f-ccde20a57f9d",
   "metadata": {},
   "outputs": [
    {
     "data": {
      "text/plain": [
       "array([[ 5,  9, 14],\n",
       "       [ 3, 17,  4],\n",
       "       [ 1,  8,  9]])"
      ]
     },
     "execution_count": 325,
     "metadata": {},
     "output_type": "execute_result"
    }
   ],
   "source": [
    "x=np.array([[5,9,14],[3,17,4],[1,8,9]])\n",
    "x"
   ]
  },
  {
   "cell_type": "code",
   "execution_count": 327,
   "id": "010bb90b-5541-4f32-93d1-cba6020dd37c",
   "metadata": {},
   "outputs": [
    {
     "data": {
      "text/plain": [
       "6"
      ]
     },
     "execution_count": 327,
     "metadata": {},
     "output_type": "execute_result"
    }
   ],
   "source": [
    "np.argmin(x)"
   ]
  },
  {
   "cell_type": "code",
   "execution_count": 329,
   "id": "a7de95e6-ce34-44ad-bcd9-b388c1e7deb5",
   "metadata": {},
   "outputs": [
    {
     "data": {
      "text/plain": [
       "array([ 5,  9, 14,  3, 17,  4,  1,  8,  9])"
      ]
     },
     "execution_count": 329,
     "metadata": {},
     "output_type": "execute_result"
    }
   ],
   "source": [
    "x.ravel()"
   ]
  },
  {
   "cell_type": "code",
   "execution_count": 331,
   "id": "4181b98b-f55a-4e5c-9db7-a7488bd057aa",
   "metadata": {},
   "outputs": [
    {
     "data": {
      "text/plain": [
       "array([[ 5,  9, 14],\n",
       "       [ 3,  1,  4],\n",
       "       [ 1,  8,  9]])"
      ]
     },
     "execution_count": 331,
     "metadata": {},
     "output_type": "execute_result"
    }
   ],
   "source": [
    "x=np.array([[5,9,14],[3,1,4],[1,8,9]])\n",
    "x"
   ]
  },
  {
   "cell_type": "code",
   "execution_count": 333,
   "id": "abb6c611-afcf-4f6f-b0d2-cbf532c2b135",
   "metadata": {},
   "outputs": [
    {
     "data": {
      "text/plain": [
       "4"
      ]
     },
     "execution_count": 333,
     "metadata": {},
     "output_type": "execute_result"
    }
   ],
   "source": [
    "np.argmin(x)"
   ]
  },
  {
   "cell_type": "code",
   "execution_count": 335,
   "id": "a94a095b-655b-409e-bd8f-31ae2cbe5b3d",
   "metadata": {},
   "outputs": [
    {
     "data": {
      "text/plain": [
       "array([ 5,  9, 14,  3,  1,  4,  1,  8,  9])"
      ]
     },
     "execution_count": 335,
     "metadata": {},
     "output_type": "execute_result"
    }
   ],
   "source": [
    "x.ravel()"
   ]
  },
  {
   "cell_type": "markdown",
   "id": "792867e7-5433-4b6e-bdf4-e8a2afd95299",
   "metadata": {},
   "source": [
    "### np.argmax()"
   ]
  },
  {
   "cell_type": "code",
   "execution_count": 338,
   "id": "ebdf2b0b-d7ce-403c-9853-0bf286180b06",
   "metadata": {},
   "outputs": [],
   "source": [
    "# - It returns the index of the maximum number.\n",
    "# - In case of two maximums it returns the index of the first maximum.\n",
    "# - If an aray is a 2-D or 3-D array then it first converts that into 1-D array and then checks the index."
   ]
  },
  {
   "cell_type": "code",
   "execution_count": 342,
   "id": "ce8bb80f-0e01-4f60-92d4-feb29af46c98",
   "metadata": {},
   "outputs": [
    {
     "data": {
      "text/plain": [
       "array([ 7,  4,  9,  2, 11,  6,  2, 14,  3,  8])"
      ]
     },
     "execution_count": 342,
     "metadata": {},
     "output_type": "execute_result"
    }
   ],
   "source": [
    "x=np.array([7,4,9,2,11,6,2,14,3,8])\n",
    "x"
   ]
  },
  {
   "cell_type": "code",
   "execution_count": 344,
   "id": "6cff343b-4d88-4cdb-91e7-c1e0a9340f45",
   "metadata": {},
   "outputs": [
    {
     "data": {
      "text/plain": [
       "7"
      ]
     },
     "execution_count": 344,
     "metadata": {},
     "output_type": "execute_result"
    }
   ],
   "source": [
    "np.argmax(x)"
   ]
  },
  {
   "cell_type": "code",
   "execution_count": 348,
   "id": "5b140dcb-8864-4d80-88bb-6e93e990856e",
   "metadata": {},
   "outputs": [
    {
     "data": {
      "text/plain": [
       "array([ 7,  4,  9, 14, 11,  6,  2, 14,  3,  8])"
      ]
     },
     "execution_count": 348,
     "metadata": {},
     "output_type": "execute_result"
    }
   ],
   "source": [
    "x=np.array([7,4,9,14,11,6,2,14,3,8])\n",
    "x"
   ]
  },
  {
   "cell_type": "code",
   "execution_count": 350,
   "id": "a28726d8-499f-4699-a526-0b141448a53b",
   "metadata": {},
   "outputs": [
    {
     "data": {
      "text/plain": [
       "3"
      ]
     },
     "execution_count": 350,
     "metadata": {},
     "output_type": "execute_result"
    }
   ],
   "source": [
    "np.argmax(x)"
   ]
  },
  {
   "cell_type": "code",
   "execution_count": 352,
   "id": "77fcf817-df8e-48d0-a8a3-96cc593f8785",
   "metadata": {},
   "outputs": [
    {
     "data": {
      "text/plain": [
       "array([[ 5,  9, 14],\n",
       "       [ 3, 17,  4],\n",
       "       [ 1,  8,  9]])"
      ]
     },
     "execution_count": 352,
     "metadata": {},
     "output_type": "execute_result"
    }
   ],
   "source": [
    "x=np.array([[5,9,14],[3,17,4],[1,8,9]])\n",
    "x"
   ]
  },
  {
   "cell_type": "code",
   "execution_count": 354,
   "id": "db28eeca-a1ee-4126-8d5d-707c22e5833c",
   "metadata": {},
   "outputs": [
    {
     "data": {
      "text/plain": [
       "4"
      ]
     },
     "execution_count": 354,
     "metadata": {},
     "output_type": "execute_result"
    }
   ],
   "source": [
    "np.argmax(x)"
   ]
  },
  {
   "cell_type": "code",
   "execution_count": 356,
   "id": "f7ac8961-ed80-421e-bd6f-5404d7549e7b",
   "metadata": {},
   "outputs": [
    {
     "data": {
      "text/plain": [
       "array([ 5,  9, 14,  3, 17,  4,  1,  8,  9])"
      ]
     },
     "execution_count": 356,
     "metadata": {},
     "output_type": "execute_result"
    }
   ],
   "source": [
    "x.ravel()"
   ]
  },
  {
   "cell_type": "markdown",
   "id": "a97bf56e-f953-4696-8ca2-e5691f96a3c7",
   "metadata": {},
   "source": [
    "### np.argwhere()"
   ]
  },
  {
   "cell_type": "code",
   "execution_count": 385,
   "id": "e18520d7-94ae-4002-b5f9-81f1a490fdd6",
   "metadata": {},
   "outputs": [],
   "source": [
    "# - It returns the index of the non-zero elements.\n",
    "# - It returns a 2-D array.\n",
    "# - In case of 1-D array the columns would be 1 (representing indexes of non-zero elements)\n",
    "# - In case of 2-D array the columns would be 2 (First column row indexes, second column column indexes of non-zero elements)"
   ]
  },
  {
   "cell_type": "code",
   "execution_count": 387,
   "id": "f10eb9a2-5e22-4f5b-b05f-728adf4c51d6",
   "metadata": {},
   "outputs": [
    {
     "data": {
      "text/plain": [
       "array([7, 4, 0, 2, 0, 6, 2, 0, 0, 8])"
      ]
     },
     "execution_count": 387,
     "metadata": {},
     "output_type": "execute_result"
    }
   ],
   "source": [
    "x=np.array([7,4,0,2,0,6,2,0,0,8])\n",
    "x"
   ]
  },
  {
   "cell_type": "code",
   "execution_count": 390,
   "id": "9e3c962b-5d0f-47b5-a259-72588a57b45a",
   "metadata": {},
   "outputs": [
    {
     "data": {
      "text/plain": [
       "array([[0],\n",
       "       [1],\n",
       "       [3],\n",
       "       [5],\n",
       "       [6],\n",
       "       [9]], dtype=int64)"
      ]
     },
     "execution_count": 390,
     "metadata": {},
     "output_type": "execute_result"
    }
   ],
   "source": [
    "np.argwhere(x)"
   ]
  },
  {
   "cell_type": "code",
   "execution_count": 392,
   "id": "a97ab2a0-0a3a-48d6-b39f-31b2bc7f3fbb",
   "metadata": {},
   "outputs": [
    {
     "data": {
      "text/plain": [
       "array([[ 5,  9,  0],\n",
       "       [ 0, 17,  0],\n",
       "       [ 1,  0,  9]])"
      ]
     },
     "execution_count": 392,
     "metadata": {},
     "output_type": "execute_result"
    }
   ],
   "source": [
    "x=np.array([[5,9,0],[0,17,0],[1,0,9]])\n",
    "x"
   ]
  },
  {
   "cell_type": "code",
   "execution_count": 394,
   "id": "fe82cfc0-f059-40a4-b9b7-90476a4d0caa",
   "metadata": {},
   "outputs": [
    {
     "data": {
      "text/plain": [
       "array([[0, 0],\n",
       "       [0, 1],\n",
       "       [1, 1],\n",
       "       [2, 0],\n",
       "       [2, 2]], dtype=int64)"
      ]
     },
     "execution_count": 394,
     "metadata": {},
     "output_type": "execute_result"
    }
   ],
   "source": [
    "np.argwhere(x)"
   ]
  },
  {
   "cell_type": "markdown",
   "id": "02f32c74-ae2b-4da0-9a3a-bf3455deca27",
   "metadata": {},
   "source": [
    "# np.where()"
   ]
  },
  {
   "cell_type": "markdown",
   "id": "b9ef5bfa-6f45-4234-9159-25827fbca006",
   "metadata": {},
   "source": [
    "### Case_1\n",
    "- np.where(condition)"
   ]
  },
  {
   "cell_type": "code",
   "execution_count": 403,
   "id": "3bbafa14-b6ea-4051-a356-7b3800d3c044",
   "metadata": {},
   "outputs": [],
   "source": [
    "# - It returns the indexes of the values where the condition is True.\n",
    "# - In case of a 1-D array it returns a tuple of single array that contains the indexes.\n",
    "# - In case of a 2-D array it returns a tuple of two arrays \n",
    "# - The first array contains the row indexes and the second array contains the columns indexes."
   ]
  },
  {
   "cell_type": "code",
   "execution_count": 417,
   "id": "57bb91ac-08e0-45b2-b6da-692a6ee5d430",
   "metadata": {},
   "outputs": [
    {
     "data": {
      "text/plain": [
       "array([87, 36, 49, 82, 39, 71, 65, 47, 43, 64, 45, 56, 71, 87, 22])"
      ]
     },
     "execution_count": 417,
     "metadata": {},
     "output_type": "execute_result"
    }
   ],
   "source": [
    "np.random.seed(55)\n",
    "x=np.random.randint(10,100,15)\n",
    "x"
   ]
  },
  {
   "cell_type": "code",
   "execution_count": 419,
   "id": "8df9a493-3505-4c32-88b9-387fa919ac73",
   "metadata": {},
   "outputs": [
    {
     "data": {
      "text/plain": [
       "(array([ 0,  3, 13], dtype=int64),)"
      ]
     },
     "execution_count": 419,
     "metadata": {},
     "output_type": "execute_result"
    }
   ],
   "source": [
    "np.where(x>80)"
   ]
  },
  {
   "cell_type": "code",
   "execution_count": 421,
   "id": "74f79ca1-04ae-47b0-8756-59e91e760bd7",
   "metadata": {},
   "outputs": [
    {
     "data": {
      "text/plain": [
       "(array([ 1,  3,  9, 11, 14], dtype=int64),)"
      ]
     },
     "execution_count": 421,
     "metadata": {},
     "output_type": "execute_result"
    }
   ],
   "source": [
    "np.where(x%2==0)"
   ]
  },
  {
   "cell_type": "code",
   "execution_count": 423,
   "id": "6ecf240e-95e5-4749-a072-a761ebb4deb7",
   "metadata": {},
   "outputs": [
    {
     "data": {
      "text/plain": [
       "array([[87, 36, 49, 82, 39],\n",
       "       [71, 65, 47, 43, 64],\n",
       "       [45, 56, 71, 87, 22]])"
      ]
     },
     "execution_count": 423,
     "metadata": {},
     "output_type": "execute_result"
    }
   ],
   "source": [
    "arr=x.reshape(3,5)\n",
    "arr"
   ]
  },
  {
   "cell_type": "code",
   "execution_count": 425,
   "id": "7ac9690b-e03a-475a-a2f8-b92f020cfadc",
   "metadata": {},
   "outputs": [
    {
     "data": {
      "text/plain": [
       "(array([0, 0, 0, 1, 1, 2, 2], dtype=int64),\n",
       " array([1, 2, 4, 2, 3, 0, 4], dtype=int64))"
      ]
     },
     "execution_count": 425,
     "metadata": {},
     "output_type": "execute_result"
    }
   ],
   "source": [
    "np.where(arr<50)"
   ]
  },
  {
   "cell_type": "code",
   "execution_count": 435,
   "id": "20219b73-834e-4169-bdc3-d25312e9dc50",
   "metadata": {},
   "outputs": [
    {
     "data": {
      "text/plain": [
       "array([36, 49, 39, 47, 43, 45, 22])"
      ]
     },
     "execution_count": 435,
     "metadata": {},
     "output_type": "execute_result"
    }
   ],
   "source": [
    "arr[np.where(arr<50)]"
   ]
  },
  {
   "cell_type": "code",
   "execution_count": 429,
   "id": "3c9551ab-b308-4a28-b946-0bb252f8f75a",
   "metadata": {},
   "outputs": [
    {
     "data": {
      "text/plain": [
       "(array([0, 0, 0, 1, 1, 1, 1, 2, 2, 2], dtype=int64),\n",
       " array([0, 2, 4, 0, 1, 2, 3, 0, 2, 3], dtype=int64))"
      ]
     },
     "execution_count": 429,
     "metadata": {},
     "output_type": "execute_result"
    }
   ],
   "source": [
    "np.where(arr%2!=0)"
   ]
  },
  {
   "cell_type": "code",
   "execution_count": 433,
   "id": "fc6b1953-b765-4783-b4c2-822f08307bd0",
   "metadata": {},
   "outputs": [
    {
     "data": {
      "text/plain": [
       "array([87, 49, 39, 71, 65, 47, 43, 45, 71, 87])"
      ]
     },
     "execution_count": 433,
     "metadata": {},
     "output_type": "execute_result"
    }
   ],
   "source": [
    "arr[np.where(arr%2!=0)]"
   ]
  },
  {
   "cell_type": "markdown",
   "id": "d0143059-56e1-4083-b720-39e1dd697707",
   "metadata": {},
   "source": [
    "### Case_2\n",
    "- np.where(condition, x, y)"
   ]
  },
  {
   "cell_type": "code",
   "execution_count": 439,
   "id": "a9df5e24-72a1-4583-8e4d-440a2ff1f6c7",
   "metadata": {},
   "outputs": [],
   "source": [
    "# - If the condition is True then x is the result else y is the result."
   ]
  },
  {
   "cell_type": "code",
   "execution_count": 441,
   "id": "6d91c141-1828-4429-9031-6801d2d338d4",
   "metadata": {},
   "outputs": [
    {
     "data": {
      "text/plain": [
       "array([87, 36, 49, 82, 39, 71, 65, 47, 43, 64, 45, 56, 71, 87, 22])"
      ]
     },
     "execution_count": 441,
     "metadata": {},
     "output_type": "execute_result"
    }
   ],
   "source": [
    "x"
   ]
  },
  {
   "cell_type": "code",
   "execution_count": 443,
   "id": "c3ea206d-77d2-4ca8-bbe6-ae46cb64aa8e",
   "metadata": {},
   "outputs": [],
   "source": [
    "# Convert all the even numbers to 1 and all the odd numbers to 0"
   ]
  },
  {
   "cell_type": "code",
   "execution_count": 447,
   "id": "f619f9da-c503-41cf-8fa7-6e37737d1220",
   "metadata": {},
   "outputs": [
    {
     "data": {
      "text/plain": [
       "array([0, 1, 0, 1, 0, 0, 0, 0, 0, 1, 0, 1, 0, 0, 1])"
      ]
     },
     "execution_count": 447,
     "metadata": {},
     "output_type": "execute_result"
    }
   ],
   "source": [
    "np.where(x%2==0,1,0)"
   ]
  },
  {
   "cell_type": "code",
   "execution_count": 451,
   "id": "d131d03f-6c00-47ac-aa2a-c63439b991e1",
   "metadata": {},
   "outputs": [
    {
     "data": {
      "text/plain": [
       "array(['male', 'female', 'female', 'male', 'female', 'male', 'male',\n",
       "       'female'], dtype='<U6')"
      ]
     },
     "execution_count": 451,
     "metadata": {},
     "output_type": "execute_result"
    }
   ],
   "source": [
    "gender=np.array(['male','female','female','male','female','male','male','female'])\n",
    "gender"
   ]
  },
  {
   "cell_type": "code",
   "execution_count": 453,
   "id": "5b833311-2079-451e-a2da-9cbbd6731a88",
   "metadata": {},
   "outputs": [],
   "source": [
    "# male-1\n",
    "# female-0"
   ]
  },
  {
   "cell_type": "code",
   "execution_count": 455,
   "id": "73268f00-270b-435f-b0dc-7f68b38e4474",
   "metadata": {},
   "outputs": [
    {
     "data": {
      "text/plain": [
       "array([1, 0, 0, 1, 0, 1, 1, 0])"
      ]
     },
     "execution_count": 455,
     "metadata": {},
     "output_type": "execute_result"
    }
   ],
   "source": [
    "np.where(gender=='male',1,0)"
   ]
  },
  {
   "cell_type": "markdown",
   "id": "55b89414-f77c-48db-b64f-f6273b96416e",
   "metadata": {},
   "source": [
    "### Case_3\n",
    "- np.where(condition, x, arr)"
   ]
  },
  {
   "cell_type": "code",
   "execution_count": 458,
   "id": "d4f71059-d179-4eb8-9e2c-a3135f4984e3",
   "metadata": {},
   "outputs": [],
   "source": [
    "# - Where the condition is True, x is the result else there will not be any change."
   ]
  },
  {
   "cell_type": "code",
   "execution_count": 460,
   "id": "ea80e7bd-c232-4648-b3a6-885037e24bc6",
   "metadata": {},
   "outputs": [
    {
     "data": {
      "text/plain": [
       "array([87, 36, 49, 82, 39, 71, 65, 47, 43, 64, 45, 56, 71, 87, 22])"
      ]
     },
     "execution_count": 460,
     "metadata": {},
     "output_type": "execute_result"
    }
   ],
   "source": [
    "x"
   ]
  },
  {
   "cell_type": "code",
   "execution_count": 462,
   "id": "55ce08ac-83f5-4895-ad47-f96bf3d15bfe",
   "metadata": {},
   "outputs": [],
   "source": [
    "# All the evens should be 1 rest should remain the same."
   ]
  },
  {
   "cell_type": "code",
   "execution_count": 464,
   "id": "0f6eed99-2db4-4841-bc9e-e13d2385e3e2",
   "metadata": {},
   "outputs": [
    {
     "data": {
      "text/plain": [
       "array([87,  1, 49,  1, 39, 71, 65, 47, 43,  1, 45,  1, 71, 87,  1])"
      ]
     },
     "execution_count": 464,
     "metadata": {},
     "output_type": "execute_result"
    }
   ],
   "source": [
    "np.where(x%2==0,1,x)"
   ]
  },
  {
   "cell_type": "code",
   "execution_count": 466,
   "id": "78d2e348-7cbe-483a-83db-e4e5caa86164",
   "metadata": {},
   "outputs": [
    {
     "data": {
      "text/plain": [
       "array(['male', 'female', 'female', 'male', 'female', 'male', 'male',\n",
       "       'female'], dtype='<U6')"
      ]
     },
     "execution_count": 466,
     "metadata": {},
     "output_type": "execute_result"
    }
   ],
   "source": [
    "gender"
   ]
  },
  {
   "cell_type": "code",
   "execution_count": 468,
   "id": "ef4c617f-f2f9-4fad-8c11-4cdd555cafa6",
   "metadata": {},
   "outputs": [],
   "source": [
    "# male-1 and female no change"
   ]
  },
  {
   "cell_type": "code",
   "execution_count": 470,
   "id": "6b595db0-68d4-48d1-ba77-918d4ad28a01",
   "metadata": {},
   "outputs": [
    {
     "data": {
      "text/plain": [
       "array(['1', 'female', 'female', '1', 'female', '1', '1', 'female'],\n",
       "      dtype='<U6')"
      ]
     },
     "execution_count": 470,
     "metadata": {},
     "output_type": "execute_result"
    }
   ],
   "source": [
    "np.where(gender=='male',1,gender)"
   ]
  },
  {
   "cell_type": "markdown",
   "id": "4c7212bc-3bc7-49fb-a18e-522f91900ee6",
   "metadata": {},
   "source": [
    "### Case_4\n",
    "- capping"
   ]
  },
  {
   "cell_type": "code",
   "execution_count": 475,
   "id": "9a524d77-f71e-4670-bcca-3c8222fe58df",
   "metadata": {},
   "outputs": [],
   "source": [
    "data=[1,4,6,8,9,12,18,21,25,32,44,51,56,62,64,75]\n",
    "\n",
    "# Cap the values in between 8 and 56.\n",
    "# It means any value that is less than 8 should be 8.\n",
    "# Any value that is greater than 56 should be 56.\n",
    "\n",
    "Capped_data=[8,8,8,8,9,12,18,21,25,32,44,51,56,56,56,56]"
   ]
  },
  {
   "cell_type": "code",
   "execution_count": 477,
   "id": "29bfbbc2-599a-448a-8211-9222ec2191a8",
   "metadata": {},
   "outputs": [
    {
     "data": {
      "text/plain": [
       "array([ 1,  4,  6,  8,  9, 12, 18, 21, 25, 32, 44, 51, 56, 62, 64, 75])"
      ]
     },
     "execution_count": 477,
     "metadata": {},
     "output_type": "execute_result"
    }
   ],
   "source": [
    "data=np.array([1,4,6,8,9,12,18,21,25,32,44,51,56,62,64,75])\n",
    "data"
   ]
  },
  {
   "cell_type": "code",
   "execution_count": 481,
   "id": "8fff76ef-0dbf-48e5-9349-e6a7337a1564",
   "metadata": {},
   "outputs": [
    {
     "data": {
      "text/plain": [
       "array([ 8,  8,  8,  8,  9, 12, 18, 21, 25, 32, 44, 51, 56, 62, 64, 75])"
      ]
     },
     "execution_count": 481,
     "metadata": {},
     "output_type": "execute_result"
    }
   ],
   "source": [
    "int=np.where(data<8,8,data)\n",
    "int"
   ]
  },
  {
   "cell_type": "code",
   "execution_count": 485,
   "id": "39e0a54f-ae65-4ffd-a448-89f36463ae9c",
   "metadata": {},
   "outputs": [],
   "source": [
    "capped_data=np.where(int>56,56,int)"
   ]
  },
  {
   "cell_type": "code",
   "execution_count": 487,
   "id": "1a3f9dbb-25b5-4d43-9183-1c84d84a686b",
   "metadata": {},
   "outputs": [
    {
     "data": {
      "text/plain": [
       "array([ 8,  8,  8,  8,  9, 12, 18, 21, 25, 32, 44, 51, 56, 56, 56, 56])"
      ]
     },
     "execution_count": 487,
     "metadata": {},
     "output_type": "execute_result"
    }
   ],
   "source": [
    "capped_data"
   ]
  },
  {
   "cell_type": "code",
   "execution_count": 489,
   "id": "6658ce22-9876-4a9b-a705-e74b297fe61d",
   "metadata": {},
   "outputs": [
    {
     "data": {
      "text/plain": [
       "array([ 1,  4,  6,  8,  9, 12, 18, 21, 25, 32, 44, 51, 56, 62, 64, 75])"
      ]
     },
     "execution_count": 489,
     "metadata": {},
     "output_type": "execute_result"
    }
   ],
   "source": [
    "data"
   ]
  },
  {
   "cell_type": "code",
   "execution_count": 497,
   "id": "f13d04c1-131a-4bce-98c2-5fd0a82bab43",
   "metadata": {},
   "outputs": [
    {
     "data": {
      "text/plain": [
       "array([ 8,  8,  8,  8,  9, 12, 18, 21, 25, 32, 44, 51, 56, 56, 56, 56])"
      ]
     },
     "execution_count": 497,
     "metadata": {},
     "output_type": "execute_result"
    }
   ],
   "source": [
    "capped_data=np.where(data<8,8,np.where(data>56,56,data))\n",
    "capped_data"
   ]
  },
  {
   "cell_type": "markdown",
   "id": "b403a5ea-164c-4bdc-a50b-7bb3dc9172bf",
   "metadata": {},
   "source": [
    "# np.clip()"
   ]
  },
  {
   "cell_type": "code",
   "execution_count": 500,
   "id": "78f2ec9a-f6bd-4a8a-89ad-f8e12ece1925",
   "metadata": {},
   "outputs": [],
   "source": [
    "# - It capps the values between two limits."
   ]
  },
  {
   "cell_type": "code",
   "execution_count": 510,
   "id": "7a57ae6a-24a6-4918-89ab-4ef009ab5aa1",
   "metadata": {},
   "outputs": [],
   "source": [
    "# np.clip(arr,lower_limit,upper_limit)"
   ]
  },
  {
   "cell_type": "code",
   "execution_count": 504,
   "id": "a0595b90-d4bc-4d84-860e-7273f997934b",
   "metadata": {},
   "outputs": [
    {
     "data": {
      "text/plain": [
       "array([ 1,  4,  6,  8,  9, 12, 18, 21, 25, 32, 44, 51, 56, 62, 64, 75])"
      ]
     },
     "execution_count": 504,
     "metadata": {},
     "output_type": "execute_result"
    }
   ],
   "source": [
    "data"
   ]
  },
  {
   "cell_type": "code",
   "execution_count": 508,
   "id": "12bc4c3b-00df-465c-b1bf-c52d849c2b01",
   "metadata": {},
   "outputs": [
    {
     "data": {
      "text/plain": [
       "array([ 8,  8,  8,  8,  9, 12, 18, 21, 25, 32, 44, 51, 56, 56, 56, 56])"
      ]
     },
     "execution_count": 508,
     "metadata": {},
     "output_type": "execute_result"
    }
   ],
   "source": [
    "np.clip(data,8,56)"
   ]
  },
  {
   "cell_type": "markdown",
   "id": "ef974737-dbbc-4c22-8f3a-d3e81062bf79",
   "metadata": {},
   "source": [
    "# np.select()"
   ]
  },
  {
   "cell_type": "code",
   "execution_count": 517,
   "id": "993648d0-9639-45aa-bf7b-1299983289f3",
   "metadata": {},
   "outputs": [],
   "source": [
    "# - It is used when we want to manipulate an array with multiple conditions."
   ]
  },
  {
   "cell_type": "code",
   "execution_count": 519,
   "id": "e1765557-4413-48c1-9409-56b3ac4db5e7",
   "metadata": {},
   "outputs": [],
   "source": [
    "# np.select(cond_list,choice_list,default_value)"
   ]
  },
  {
   "cell_type": "code",
   "execution_count": 529,
   "id": "fc7a4fd4-ed09-4ad8-aa0c-caa048cf4128",
   "metadata": {},
   "outputs": [],
   "source": [
    "mar_status=np.array(['single','unmarried','married','divorced','married','unmarried','widowed','single','divorced'])"
   ]
  },
  {
   "cell_type": "code",
   "execution_count": 531,
   "id": "fe4225f4-8b10-4eee-aa4d-a23abdd5d248",
   "metadata": {},
   "outputs": [
    {
     "data": {
      "text/plain": [
       "array(['single', 'unmarried', 'married', 'divorced', 'married',\n",
       "       'unmarried', 'widowed', 'single', 'divorced'], dtype='<U9')"
      ]
     },
     "execution_count": 531,
     "metadata": {},
     "output_type": "execute_result"
    }
   ],
   "source": [
    "mar_status"
   ]
  },
  {
   "cell_type": "code",
   "execution_count": 527,
   "id": "2cf02ed2-6dec-4840-9050-7f6b22c96c5a",
   "metadata": {},
   "outputs": [],
   "source": [
    "# single,unmarrued -> unmarried\n",
    "# married,divorced,widowed -> married"
   ]
  },
  {
   "cell_type": "code",
   "execution_count": 541,
   "id": "958d1c27-8de1-4ac3-980f-044589460b25",
   "metadata": {},
   "outputs": [],
   "source": [
    "conditions=[mar_status=='single',mar_status=='unmarried',mar_status=='widowed',mar_status=='divorced']\n",
    "choices=['unmarried','unmarried','married','married']\n",
    "default_value='married'"
   ]
  },
  {
   "cell_type": "code",
   "execution_count": 543,
   "id": "1f161987-c70c-4510-9891-15179810cca7",
   "metadata": {},
   "outputs": [
    {
     "data": {
      "text/plain": [
       "array(['unmarried', 'unmarried', 'married', 'married', 'married',\n",
       "       'unmarried', 'married', 'unmarried', 'married'], dtype='<U9')"
      ]
     },
     "execution_count": 543,
     "metadata": {},
     "output_type": "execute_result"
    }
   ],
   "source": [
    "np.select(conditions,choices,default_value)"
   ]
  },
  {
   "cell_type": "code",
   "execution_count": 549,
   "id": "595ea101-d25f-485f-a413-4d24012444ee",
   "metadata": {},
   "outputs": [
    {
     "data": {
      "text/plain": [
       "array(['unmarried', 'unmarried', 'married', 'married', 'married',\n",
       "       'unmarried', 'married', 'unmarried', 'married'], dtype='<U9')"
      ]
     },
     "execution_count": 549,
     "metadata": {},
     "output_type": "execute_result"
    }
   ],
   "source": [
    "np.where(mar_status=='single','unmarried',\n",
    "        np.where(mar_status=='divorced','married',\n",
    "                 np.where(mar_status=='married','married',\n",
    "                np.where(mar_status=='widowed','married','unmarried'))))"
   ]
  },
  {
   "cell_type": "markdown",
   "id": "cb5f47ae-e9d9-4b74-94ba-b267620d9065",
   "metadata": {},
   "source": [
    "# Missing values in array"
   ]
  },
  {
   "cell_type": "code",
   "execution_count": 554,
   "id": "1957d870-7fc6-4ffe-8983-63c099ffacea",
   "metadata": {},
   "outputs": [],
   "source": [
    "# In Numpy the missing values are represented by np.nan\n",
    "# np.nan is of float type."
   ]
  },
  {
   "cell_type": "code",
   "execution_count": 556,
   "id": "b61ae935-8035-4aa4-93b6-cea083fe3eed",
   "metadata": {},
   "outputs": [
    {
     "data": {
      "text/plain": [
       "float"
      ]
     },
     "execution_count": 556,
     "metadata": {},
     "output_type": "execute_result"
    }
   ],
   "source": [
    "type(np.nan)"
   ]
  },
  {
   "cell_type": "code",
   "execution_count": 558,
   "id": "df7ea23e-5fac-4ac3-8f67-2a92b9b7b773",
   "metadata": {},
   "outputs": [
    {
     "name": "stdout",
     "output_type": "stream",
     "text": [
      "nan\n"
     ]
    }
   ],
   "source": [
    "print(np.nan)"
   ]
  },
  {
   "cell_type": "code",
   "execution_count": 564,
   "id": "3952211c-0fec-4567-897d-fb029c423842",
   "metadata": {},
   "outputs": [
    {
     "data": {
      "text/plain": [
       "array([10, 20, 30, 40])"
      ]
     },
     "execution_count": 564,
     "metadata": {},
     "output_type": "execute_result"
    }
   ],
   "source": [
    "arr=np.array([10,20,30,40])\n",
    "arr"
   ]
  },
  {
   "cell_type": "code",
   "execution_count": 566,
   "id": "56d481c7-f70d-4417-82cc-1a62a4ea9a1c",
   "metadata": {},
   "outputs": [
    {
     "data": {
      "text/plain": [
       "dtype('int32')"
      ]
     },
     "execution_count": 566,
     "metadata": {},
     "output_type": "execute_result"
    }
   ],
   "source": [
    "arr.dtype"
   ]
  },
  {
   "cell_type": "code",
   "execution_count": 568,
   "id": "6014ee97-72c2-47d4-bf07-e7da033df736",
   "metadata": {},
   "outputs": [
    {
     "data": {
      "text/plain": [
       "array([10., 20., nan, 40.])"
      ]
     },
     "execution_count": 568,
     "metadata": {},
     "output_type": "execute_result"
    }
   ],
   "source": [
    "arr=np.array([10,20,np.nan,40])\n",
    "arr"
   ]
  },
  {
   "cell_type": "code",
   "execution_count": 570,
   "id": "f47afde6-807c-436d-9c8c-5fec2522b8fb",
   "metadata": {},
   "outputs": [
    {
     "data": {
      "text/plain": [
       "dtype('float64')"
      ]
     },
     "execution_count": 570,
     "metadata": {},
     "output_type": "execute_result"
    }
   ],
   "source": [
    "arr.dtype"
   ]
  },
  {
   "cell_type": "code",
   "execution_count": 579,
   "id": "ec605de0-b41f-4ecd-aacd-4d2fc18a34bc",
   "metadata": {},
   "outputs": [
    {
     "data": {
      "text/plain": [
       "array([10., nan, 30., 40., nan, nan, 70., 80., nan])"
      ]
     },
     "execution_count": 579,
     "metadata": {},
     "output_type": "execute_result"
    }
   ],
   "source": [
    "arr=np.array([10,np.nan,30,40,np.nan,np.nan,70,80,np.nan])\n",
    "arr"
   ]
  },
  {
   "cell_type": "code",
   "execution_count": 581,
   "id": "399ce57b-fa75-4086-91aa-bb62ce3ae103",
   "metadata": {},
   "outputs": [
    {
     "data": {
      "text/plain": [
       "dtype('float64')"
      ]
     },
     "execution_count": 581,
     "metadata": {},
     "output_type": "execute_result"
    }
   ],
   "source": [
    "arr.dtype"
   ]
  },
  {
   "cell_type": "markdown",
   "id": "25c8b807-4144-4c34-b24b-b0442c042f81",
   "metadata": {},
   "source": [
    "### np.isnan()"
   ]
  },
  {
   "cell_type": "code",
   "execution_count": 575,
   "id": "5b29af6f-89b6-40a4-863d-5a3406a9ab16",
   "metadata": {},
   "outputs": [],
   "source": [
    "# - It checkes for np.nan values in an array and returns a boolean array."
   ]
  },
  {
   "cell_type": "code",
   "execution_count": 583,
   "id": "a4020a7e-9bb5-4dc1-932c-a502f9e462ac",
   "metadata": {},
   "outputs": [
    {
     "data": {
      "text/plain": [
       "array([10., nan, 30., 40., nan, nan, 70., 80., nan])"
      ]
     },
     "execution_count": 583,
     "metadata": {},
     "output_type": "execute_result"
    }
   ],
   "source": [
    "arr"
   ]
  },
  {
   "cell_type": "code",
   "execution_count": 585,
   "id": "e428a5ef-8d7f-4e91-b305-1f11ee11f289",
   "metadata": {},
   "outputs": [
    {
     "data": {
      "text/plain": [
       "array([False,  True, False, False,  True,  True, False, False,  True])"
      ]
     },
     "execution_count": 585,
     "metadata": {},
     "output_type": "execute_result"
    }
   ],
   "source": [
    "np.isnan(arr)"
   ]
  },
  {
   "cell_type": "markdown",
   "id": "033bf7f1-95fe-4e96-b680-7b6c8c6f209e",
   "metadata": {},
   "source": [
    "### Count of missing values"
   ]
  },
  {
   "cell_type": "code",
   "execution_count": 588,
   "id": "6315392f-0317-4f99-b8dc-ec7544b62c5e",
   "metadata": {},
   "outputs": [
    {
     "data": {
      "text/plain": [
       "array([10., nan, 30., 40., nan, nan, 70., 80., nan])"
      ]
     },
     "execution_count": 588,
     "metadata": {},
     "output_type": "execute_result"
    }
   ],
   "source": [
    "arr"
   ]
  },
  {
   "cell_type": "code",
   "execution_count": 592,
   "id": "bab49917-c588-4570-a9f5-63b407745daf",
   "metadata": {},
   "outputs": [
    {
     "data": {
      "text/plain": [
       "4"
      ]
     },
     "execution_count": 592,
     "metadata": {},
     "output_type": "execute_result"
    }
   ],
   "source": [
    "np.isnan(arr).sum()"
   ]
  },
  {
   "cell_type": "markdown",
   "id": "19ae5658-5274-49c0-8370-9ec7d03aca82",
   "metadata": {},
   "source": [
    "### Count of non-missing values"
   ]
  },
  {
   "cell_type": "code",
   "execution_count": 595,
   "id": "9e65e3aa-3c46-443a-a89e-1d07348fa199",
   "metadata": {},
   "outputs": [
    {
     "data": {
      "text/plain": [
       "array([10., nan, 30., 40., nan, nan, 70., 80., nan])"
      ]
     },
     "execution_count": 595,
     "metadata": {},
     "output_type": "execute_result"
    }
   ],
   "source": [
    "arr"
   ]
  },
  {
   "cell_type": "code",
   "execution_count": 597,
   "id": "eeabbecc-2258-46ef-90e8-2153b2373d3e",
   "metadata": {},
   "outputs": [
    {
     "data": {
      "text/plain": [
       "array([False,  True, False, False,  True,  True, False, False,  True])"
      ]
     },
     "execution_count": 597,
     "metadata": {},
     "output_type": "execute_result"
    }
   ],
   "source": [
    "np.isnan(arr)"
   ]
  },
  {
   "cell_type": "code",
   "execution_count": 605,
   "id": "484ea823-7e31-4b8c-93e8-5acf445df96a",
   "metadata": {},
   "outputs": [
    {
     "data": {
      "text/plain": [
       "5"
      ]
     },
     "execution_count": 605,
     "metadata": {},
     "output_type": "execute_result"
    }
   ],
   "source": [
    "(~np.isnan(arr)).sum()"
   ]
  },
  {
   "cell_type": "markdown",
   "id": "b799843d-27e4-4f82-8da0-2659e7eaa6f2",
   "metadata": {},
   "source": [
    "### Extract the missing values"
   ]
  },
  {
   "cell_type": "code",
   "execution_count": 608,
   "id": "85334293-e44e-44a1-8a23-2db355c0a771",
   "metadata": {},
   "outputs": [
    {
     "data": {
      "text/plain": [
       "array([10., nan, 30., 40., nan, nan, 70., 80., nan])"
      ]
     },
     "execution_count": 608,
     "metadata": {},
     "output_type": "execute_result"
    }
   ],
   "source": [
    "arr"
   ]
  },
  {
   "cell_type": "code",
   "execution_count": 612,
   "id": "065a8778-81e7-4c55-9804-201f2336771a",
   "metadata": {},
   "outputs": [
    {
     "data": {
      "text/plain": [
       "array([False,  True, False, False,  True,  True, False, False,  True])"
      ]
     },
     "execution_count": 612,
     "metadata": {},
     "output_type": "execute_result"
    }
   ],
   "source": [
    "np.isnan(arr)"
   ]
  },
  {
   "cell_type": "code",
   "execution_count": 614,
   "id": "9af59a2e-ee94-4d03-a752-684388eabc29",
   "metadata": {},
   "outputs": [
    {
     "data": {
      "text/plain": [
       "array([nan, nan, nan, nan])"
      ]
     },
     "execution_count": 614,
     "metadata": {},
     "output_type": "execute_result"
    }
   ],
   "source": [
    "arr[np.isnan(arr)]"
   ]
  },
  {
   "cell_type": "markdown",
   "id": "b5f4d449-58bd-42dc-86cf-c28d40b6ca3d",
   "metadata": {},
   "source": [
    "### Extract the non-missing values"
   ]
  },
  {
   "cell_type": "code",
   "execution_count": 617,
   "id": "8a9816aa-8325-442e-9fbf-7d4f53b5aded",
   "metadata": {},
   "outputs": [
    {
     "data": {
      "text/plain": [
       "array([10., nan, 30., 40., nan, nan, 70., 80., nan])"
      ]
     },
     "execution_count": 617,
     "metadata": {},
     "output_type": "execute_result"
    }
   ],
   "source": [
    "arr"
   ]
  },
  {
   "cell_type": "code",
   "execution_count": 621,
   "id": "5c25fe1a-0068-4c41-a3b5-45d435a065a5",
   "metadata": {},
   "outputs": [
    {
     "data": {
      "text/plain": [
       "array([ True, False,  True,  True, False, False,  True,  True, False])"
      ]
     },
     "execution_count": 621,
     "metadata": {},
     "output_type": "execute_result"
    }
   ],
   "source": [
    "~np.isnan(arr)"
   ]
  },
  {
   "cell_type": "code",
   "execution_count": 623,
   "id": "ee3f69a7-b75a-4575-b832-842d5c6385b8",
   "metadata": {},
   "outputs": [
    {
     "data": {
      "text/plain": [
       "array([10., 30., 40., 70., 80.])"
      ]
     },
     "execution_count": 623,
     "metadata": {},
     "output_type": "execute_result"
    }
   ],
   "source": [
    "arr[~np.isnan(arr)]"
   ]
  },
  {
   "cell_type": "code",
   "execution_count": 625,
   "id": "0dcf287f-1dfa-457d-bac7-6aa660aab496",
   "metadata": {},
   "outputs": [
    {
     "data": {
      "text/plain": [
       "array([10., nan, 30., 40., nan, nan, 70., 80., nan])"
      ]
     },
     "execution_count": 625,
     "metadata": {},
     "output_type": "execute_result"
    }
   ],
   "source": [
    "arr"
   ]
  },
  {
   "cell_type": "code",
   "execution_count": 627,
   "id": "487c05e6-1170-4063-887e-935c162425b0",
   "metadata": {},
   "outputs": [
    {
     "data": {
      "text/plain": [
       "array([False, False, False, False, False, False, False, False, False])"
      ]
     },
     "execution_count": 627,
     "metadata": {},
     "output_type": "execute_result"
    }
   ],
   "source": [
    "arr==np.nan"
   ]
  },
  {
   "cell_type": "markdown",
   "id": "143e644f-6aa3-4e61-a6f7-638d4e5c080f",
   "metadata": {},
   "source": [
    "### Indexes of the missing values"
   ]
  },
  {
   "cell_type": "code",
   "execution_count": 651,
   "id": "e6b65e91-4f67-4366-b232-572e96cbb438",
   "metadata": {},
   "outputs": [
    {
     "data": {
      "text/plain": [
       "array([10., nan, 30., 40., nan, nan, 70., 80., nan])"
      ]
     },
     "execution_count": 651,
     "metadata": {},
     "output_type": "execute_result"
    }
   ],
   "source": [
    "arr"
   ]
  },
  {
   "cell_type": "code",
   "execution_count": 655,
   "id": "a9fbe6ef-1984-4bf3-bc0c-7b9a175a0208",
   "metadata": {},
   "outputs": [
    {
     "data": {
      "text/plain": [
       "array([nan, nan, nan, nan])"
      ]
     },
     "execution_count": 655,
     "metadata": {},
     "output_type": "execute_result"
    }
   ],
   "source": [
    "arr[np.isnan(arr)]"
   ]
  },
  {
   "cell_type": "code",
   "execution_count": 659,
   "id": "628cc864-2340-4ca5-96fb-a02928d86e6c",
   "metadata": {},
   "outputs": [
    {
     "data": {
      "text/plain": [
       "(array([1, 4, 5, 8], dtype=int64),)"
      ]
     },
     "execution_count": 659,
     "metadata": {},
     "output_type": "execute_result"
    }
   ],
   "source": [
    "np.where(np.isnan(arr))"
   ]
  },
  {
   "cell_type": "code",
   "execution_count": 661,
   "id": "30c3e313-3416-4f9e-a63e-897a92eed778",
   "metadata": {},
   "outputs": [
    {
     "data": {
      "text/plain": [
       "array([nan, nan, nan, nan])"
      ]
     },
     "execution_count": 661,
     "metadata": {},
     "output_type": "execute_result"
    }
   ],
   "source": [
    "arr[np.where(np.isnan(arr))]"
   ]
  },
  {
   "cell_type": "markdown",
   "id": "27bcc225-ea7e-4e93-8cb7-0f978eb4502e",
   "metadata": {},
   "source": [
    "### Indexes of the non-missing values"
   ]
  },
  {
   "cell_type": "code",
   "execution_count": 670,
   "id": "14fdac83-7a8f-41e2-9c62-09e4d67c0663",
   "metadata": {},
   "outputs": [
    {
     "data": {
      "text/plain": [
       "array([10., nan, 30., 40., nan, nan, 70., 80., nan])"
      ]
     },
     "execution_count": 670,
     "metadata": {},
     "output_type": "execute_result"
    }
   ],
   "source": [
    "arr"
   ]
  },
  {
   "cell_type": "code",
   "execution_count": 668,
   "id": "14b2efba-4aed-4b4c-a7a3-d835f7868a2f",
   "metadata": {},
   "outputs": [
    {
     "data": {
      "text/plain": [
       "(array([0, 2, 3, 6, 7], dtype=int64),)"
      ]
     },
     "execution_count": 668,
     "metadata": {},
     "output_type": "execute_result"
    }
   ],
   "source": [
    "np.where(~np.isnan(arr))"
   ]
  },
  {
   "cell_type": "markdown",
   "id": "d6459acb-3c49-45be-915e-24559477a6e2",
   "metadata": {},
   "source": [
    "### Replacing the missing values"
   ]
  },
  {
   "cell_type": "code",
   "execution_count": 673,
   "id": "a0db2e23-4765-44c9-82b3-928ca1acb828",
   "metadata": {},
   "outputs": [
    {
     "data": {
      "text/plain": [
       "array([10., nan, 30., 40., nan, nan, 70., 80., nan])"
      ]
     },
     "execution_count": 673,
     "metadata": {},
     "output_type": "execute_result"
    }
   ],
   "source": [
    "arr"
   ]
  },
  {
   "cell_type": "code",
   "execution_count": 679,
   "id": "dc828a60-b48a-491d-9fba-7969812ac12b",
   "metadata": {},
   "outputs": [],
   "source": [
    "arr[np.isnan(arr)]=0"
   ]
  },
  {
   "cell_type": "code",
   "execution_count": 681,
   "id": "cb0e044c-0d88-4b40-a442-cbe9c954d412",
   "metadata": {},
   "outputs": [
    {
     "data": {
      "text/plain": [
       "array([10.,  0., 30., 40.,  0.,  0., 70., 80.,  0.])"
      ]
     },
     "execution_count": 681,
     "metadata": {},
     "output_type": "execute_result"
    }
   ],
   "source": [
    "arr"
   ]
  },
  {
   "cell_type": "markdown",
   "id": "89e36dae-320a-4210-a590-8a575776f8a3",
   "metadata": {},
   "source": [
    "# Arrays are mutable"
   ]
  },
  {
   "cell_type": "code",
   "execution_count": 684,
   "id": "4be67877-f1ab-4454-a396-bb0ac8418b84",
   "metadata": {},
   "outputs": [
    {
     "data": {
      "text/plain": [
       "array([10.,  0., 30., 40.,  0.,  0., 70., 80.,  0.])"
      ]
     },
     "execution_count": 684,
     "metadata": {},
     "output_type": "execute_result"
    }
   ],
   "source": [
    "arr"
   ]
  },
  {
   "cell_type": "code",
   "execution_count": 688,
   "id": "c845be47-02ae-485c-9e84-97078786d9ca",
   "metadata": {},
   "outputs": [],
   "source": [
    "arr[0]=45"
   ]
  },
  {
   "cell_type": "code",
   "execution_count": 690,
   "id": "ab61332a-1c44-4306-a821-ac6024763288",
   "metadata": {},
   "outputs": [
    {
     "data": {
      "text/plain": [
       "array([45.,  0., 30., 40.,  0.,  0., 70., 80.,  0.])"
      ]
     },
     "execution_count": 690,
     "metadata": {},
     "output_type": "execute_result"
    }
   ],
   "source": [
    "arr"
   ]
  },
  {
   "cell_type": "code",
   "execution_count": 694,
   "id": "4db52db4-9952-4c07-b1ba-acd8b2858501",
   "metadata": {},
   "outputs": [],
   "source": [
    "arr[-1]=500"
   ]
  },
  {
   "cell_type": "code",
   "execution_count": 696,
   "id": "2cf5c791-09b7-4d3d-a592-cbf1bb97be35",
   "metadata": {},
   "outputs": [
    {
     "data": {
      "text/plain": [
       "array([ 45.,   0.,  30.,  40.,   0.,   0.,  70.,  80., 500.])"
      ]
     },
     "execution_count": 696,
     "metadata": {},
     "output_type": "execute_result"
    }
   ],
   "source": [
    "arr"
   ]
  },
  {
   "cell_type": "markdown",
   "id": "d896026a-3c27-4869-9b8d-23cfee8c0307",
   "metadata": {},
   "source": [
    "# Type conversion of arrays"
   ]
  },
  {
   "cell_type": "markdown",
   "id": "efbbd267-3984-4fe7-a14d-3fd62d291413",
   "metadata": {},
   "source": [
    "### astype()"
   ]
  },
  {
   "cell_type": "code",
   "execution_count": 706,
   "id": "fe203108-41e7-49d9-b3e7-aabdbfa4496f",
   "metadata": {},
   "outputs": [],
   "source": [
    "# arr.astype(type)\n",
    "# - It returns a new array"
   ]
  },
  {
   "cell_type": "code",
   "execution_count": 699,
   "id": "a9fdb27d-65cc-4029-b45f-7f396d481add",
   "metadata": {},
   "outputs": [
    {
     "data": {
      "text/plain": [
       "array([ 45.,   0.,  30.,  40.,   0.,   0.,  70.,  80., 500.])"
      ]
     },
     "execution_count": 699,
     "metadata": {},
     "output_type": "execute_result"
    }
   ],
   "source": [
    "arr"
   ]
  },
  {
   "cell_type": "code",
   "execution_count": 703,
   "id": "50219ab8-7f9f-4ff2-a132-797c9de204cb",
   "metadata": {},
   "outputs": [
    {
     "data": {
      "text/plain": [
       "dtype('float64')"
      ]
     },
     "execution_count": 703,
     "metadata": {},
     "output_type": "execute_result"
    }
   ],
   "source": [
    "arr.dtype"
   ]
  },
  {
   "cell_type": "code",
   "execution_count": 730,
   "id": "cfcd6c1b-4fc3-44b7-958e-a2fa1d2fb117",
   "metadata": {},
   "outputs": [
    {
     "ename": "TypeError",
     "evalue": "Cannot construct a dtype from an array",
     "output_type": "error",
     "traceback": [
      "\u001b[1;31m---------------------------------------------------------------------------\u001b[0m",
      "\u001b[1;31mTypeError\u001b[0m                                 Traceback (most recent call last)",
      "Cell \u001b[1;32mIn[730], line 1\u001b[0m\n\u001b[1;32m----> 1\u001b[0m arr\u001b[38;5;241m.\u001b[39mastype(\u001b[38;5;28mint\u001b[39m)\n",
      "\u001b[1;31mTypeError\u001b[0m: Cannot construct a dtype from an array"
     ]
    }
   ],
   "source": [
    "arr.astype(int)"
   ]
  },
  {
   "cell_type": "code",
   "execution_count": 732,
   "id": "54d45794-5eec-4884-ac17-3dcd82bf4f21",
   "metadata": {},
   "outputs": [
    {
     "data": {
      "text/plain": [
       "array([ 45,   0,  30,  40,   0,   0,  70,  80, 500])"
      ]
     },
     "execution_count": 732,
     "metadata": {},
     "output_type": "execute_result"
    }
   ],
   "source": [
    "arr.astype('int')"
   ]
  },
  {
   "cell_type": "code",
   "execution_count": 736,
   "id": "c647d783-7368-4ef6-9306-781602f355e8",
   "metadata": {},
   "outputs": [
    {
     "data": {
      "text/plain": [
       "array([ 45,   0,  30,  40,   0,   0,  70,  80, 500])"
      ]
     },
     "execution_count": 736,
     "metadata": {},
     "output_type": "execute_result"
    }
   ],
   "source": [
    "arr=np.array([ 45,   0,  30,  40,   0,   0,  70,  80, 500])\n",
    "arr"
   ]
  },
  {
   "cell_type": "code",
   "execution_count": 738,
   "id": "c6b41e9f-6354-4c08-88ca-c432aace5b8f",
   "metadata": {},
   "outputs": [
    {
     "data": {
      "text/plain": [
       "dtype('int32')"
      ]
     },
     "execution_count": 738,
     "metadata": {},
     "output_type": "execute_result"
    }
   ],
   "source": [
    "arr.dtype"
   ]
  },
  {
   "cell_type": "code",
   "execution_count": 746,
   "id": "f8437df9-b6c0-40f4-9c53-7cbc640003fe",
   "metadata": {},
   "outputs": [
    {
     "data": {
      "text/plain": [
       "array(['(45+0j)', '0j', '(30+0j)', '(40+0j)', '0j', '0j', '(70+0j)',\n",
       "       '(80+0j)', '(500+0j)'], dtype=object)"
      ]
     },
     "execution_count": 746,
     "metadata": {},
     "output_type": "execute_result"
    }
   ],
   "source": [
    "arr.astype('complex').astype('str').astype('object')"
   ]
  },
  {
   "cell_type": "code",
   "execution_count": 748,
   "id": "e8883c4e-b28b-426a-a3a2-ded527e2b87e",
   "metadata": {},
   "outputs": [
    {
     "data": {
      "text/plain": [
       "'1.24.3'"
      ]
     },
     "execution_count": 748,
     "metadata": {},
     "output_type": "execute_result"
    }
   ],
   "source": [
    "np.__version__"
   ]
  },
  {
   "cell_type": "code",
   "execution_count": 750,
   "id": "72210e23-fbaa-465e-bc5f-be7ea1882e75",
   "metadata": {},
   "outputs": [
    {
     "data": {
      "text/plain": [
       "array([ 45.+0.j,   0.+0.j,  30.+0.j,  40.+0.j,   0.+0.j,   0.+0.j,\n",
       "        70.+0.j,  80.+0.j, 500.+0.j])"
      ]
     },
     "execution_count": 750,
     "metadata": {},
     "output_type": "execute_result"
    }
   ],
   "source": [
    "arr.astype('complex')"
   ]
  },
  {
   "cell_type": "code",
   "execution_count": 6,
   "id": "41717666-0e28-4556-b7c6-e83f23ab9018",
   "metadata": {},
   "outputs": [],
   "source": [
    "arr=np.array([ 45.+0.j,   0.+0.j,  30.+0.j,  40.+0.j,   0.+0.j,   0.+0.j,\n",
    "        70.+0.j,  80.+0.j, 500.+0.j])"
   ]
  },
  {
   "cell_type": "code",
   "execution_count": 754,
   "id": "34241cc0-9e38-49f8-8266-58a42b3e1c8b",
   "metadata": {},
   "outputs": [
    {
     "data": {
      "text/plain": [
       "array([ 45.+0.j,   0.+0.j,  30.+0.j,  40.+0.j,   0.+0.j,   0.+0.j,\n",
       "        70.+0.j,  80.+0.j, 500.+0.j])"
      ]
     },
     "execution_count": 754,
     "metadata": {},
     "output_type": "execute_result"
    }
   ],
   "source": [
    "arr"
   ]
  },
  {
   "cell_type": "code",
   "execution_count": 756,
   "id": "debde293-6fd7-4c36-8572-386266f7cd3f",
   "metadata": {},
   "outputs": [
    {
     "data": {
      "text/plain": [
       "dtype('complex128')"
      ]
     },
     "execution_count": 756,
     "metadata": {},
     "output_type": "execute_result"
    }
   ],
   "source": [
    "arr.dtype"
   ]
  },
  {
   "cell_type": "code",
   "execution_count": 1,
   "id": "205897eb-52bf-4250-a9d6-215dfe90c638",
   "metadata": {},
   "outputs": [
    {
     "name": "stdout",
     "output_type": "stream",
     "text": [
      "(5+5j) <class 'complex'>\n"
     ]
    }
   ],
   "source": [
    "a=5+5j\n",
    "print(a,type(a))"
   ]
  },
  {
   "cell_type": "code",
   "execution_count": 2,
   "id": "40c842f1-e94d-4866-b4f9-7b90bd5a2511",
   "metadata": {},
   "outputs": [
    {
     "ename": "TypeError",
     "evalue": "int() argument must be a string, a bytes-like object or a real number, not 'complex'",
     "output_type": "error",
     "traceback": [
      "\u001b[1;31m---------------------------------------------------------------------------\u001b[0m",
      "\u001b[1;31mTypeError\u001b[0m                                 Traceback (most recent call last)",
      "Cell \u001b[1;32mIn[2], line 1\u001b[0m\n\u001b[1;32m----> 1\u001b[0m \u001b[38;5;28mint\u001b[39m(a)\n",
      "\u001b[1;31mTypeError\u001b[0m: int() argument must be a string, a bytes-like object or a real number, not 'complex'"
     ]
    }
   ],
   "source": [
    "int(a)"
   ]
  },
  {
   "cell_type": "code",
   "execution_count": 4,
   "id": "57e13425-1d36-46c9-b7c5-ba538289033b",
   "metadata": {},
   "outputs": [],
   "source": [
    "import numpy as np"
   ]
  },
  {
   "cell_type": "code",
   "execution_count": 8,
   "id": "e867cdf4-5109-4b15-8394-0334f8b53cf8",
   "metadata": {},
   "outputs": [
    {
     "data": {
      "text/plain": [
       "array([ 45.+0.j,   0.+0.j,  30.+0.j,  40.+0.j,   0.+0.j,   0.+0.j,\n",
       "        70.+0.j,  80.+0.j, 500.+0.j])"
      ]
     },
     "execution_count": 8,
     "metadata": {},
     "output_type": "execute_result"
    }
   ],
   "source": [
    "arr"
   ]
  },
  {
   "cell_type": "code",
   "execution_count": 12,
   "id": "421e25cf-9f49-4956-95c8-ef607640fe28",
   "metadata": {},
   "outputs": [
    {
     "name": "stderr",
     "output_type": "stream",
     "text": [
      "C:\\Users\\ashis\\AppData\\Local\\Temp\\ipykernel_17176\\3414054417.py:1: ComplexWarning: Casting complex values to real discards the imaginary part\n",
      "  arr.astype('int')\n"
     ]
    },
    {
     "data": {
      "text/plain": [
       "array([ 45,   0,  30,  40,   0,   0,  70,  80, 500])"
      ]
     },
     "execution_count": 12,
     "metadata": {},
     "output_type": "execute_result"
    }
   ],
   "source": [
    "arr.astype('int')"
   ]
  },
  {
   "cell_type": "code",
   "execution_count": 17,
   "id": "3c1ed391-9bcb-45b0-a801-aa33fa618388",
   "metadata": {},
   "outputs": [
    {
     "name": "stdout",
     "output_type": "stream",
     "text": [
      "Help on built-in function astype:\n",
      "\n",
      "astype(...) method of numpy.ndarray instance\n",
      "    a.astype(dtype, order='K', casting='unsafe', subok=True, copy=True)\n",
      "    \n",
      "    Copy of the array, cast to a specified type.\n",
      "    \n",
      "    Parameters\n",
      "    ----------\n",
      "    dtype : str or dtype\n",
      "        Typecode or data-type to which the array is cast.\n",
      "    order : {'C', 'F', 'A', 'K'}, optional\n",
      "        Controls the memory layout order of the result.\n",
      "        'C' means C order, 'F' means Fortran order, 'A'\n",
      "        means 'F' order if all the arrays are Fortran contiguous,\n",
      "        'C' order otherwise, and 'K' means as close to the\n",
      "        order the array elements appear in memory as possible.\n",
      "        Default is 'K'.\n",
      "    casting : {'no', 'equiv', 'safe', 'same_kind', 'unsafe'}, optional\n",
      "        Controls what kind of data casting may occur. Defaults to 'unsafe'\n",
      "        for backwards compatibility.\n",
      "    \n",
      "          * 'no' means the data types should not be cast at all.\n",
      "          * 'equiv' means only byte-order changes are allowed.\n",
      "          * 'safe' means only casts which can preserve values are allowed.\n",
      "          * 'same_kind' means only safe casts or casts within a kind,\n",
      "            like float64 to float32, are allowed.\n",
      "          * 'unsafe' means any data conversions may be done.\n",
      "    subok : bool, optional\n",
      "        If True, then sub-classes will be passed-through (default), otherwise\n",
      "        the returned array will be forced to be a base-class array.\n",
      "    copy : bool, optional\n",
      "        By default, astype always returns a newly allocated array. If this\n",
      "        is set to false, and the `dtype`, `order`, and `subok`\n",
      "        requirements are satisfied, the input array is returned instead\n",
      "        of a copy.\n",
      "    \n",
      "    Returns\n",
      "    -------\n",
      "    arr_t : ndarray\n",
      "        Unless `copy` is False and the other conditions for returning the input\n",
      "        array are satisfied (see description for `copy` input parameter), `arr_t`\n",
      "        is a new array of the same shape as the input array, with dtype, order\n",
      "        given by `dtype`, `order`.\n",
      "    \n",
      "    Notes\n",
      "    -----\n",
      "    .. versionchanged:: 1.17.0\n",
      "       Casting between a simple data type and a structured one is possible only\n",
      "       for \"unsafe\" casting.  Casting to multiple fields is allowed, but\n",
      "       casting from multiple fields is not.\n",
      "    \n",
      "    .. versionchanged:: 1.9.0\n",
      "       Casting from numeric to string types in 'safe' casting mode requires\n",
      "       that the string dtype length is long enough to store the max\n",
      "       integer/float value converted.\n",
      "    \n",
      "    Raises\n",
      "    ------\n",
      "    ComplexWarning\n",
      "        When casting from complex to float or int. To avoid this,\n",
      "        one should use ``a.real.astype(t)``.\n",
      "    \n",
      "    Examples\n",
      "    --------\n",
      "    >>> x = np.array([1, 2, 2.5])\n",
      "    >>> x\n",
      "    array([1. ,  2. ,  2.5])\n",
      "    \n",
      "    >>> x.astype(int)\n",
      "    array([1, 2, 2])\n",
      "\n"
     ]
    }
   ],
   "source": [
    "help(arr.astype)"
   ]
  },
  {
   "cell_type": "markdown",
   "id": "901411c3-e3ba-4995-8c88-3f7a02e90a17",
   "metadata": {},
   "source": [
    "# Condition on arrays"
   ]
  },
  {
   "cell_type": "code",
   "execution_count": 21,
   "id": "3d7876e9-77a0-4ffd-b06f-becec2cd0ffb",
   "metadata": {},
   "outputs": [],
   "source": [
    "# Conditions on arrays (h_stact, v_stack)\n",
    "# Iterating over arrays\n",
    "# Array concatenation\n",
    "# Sorting of arrays\n",
    "# Splitting of arrays\n",
    "# Array broadcasting"
   ]
  },
  {
   "cell_type": "code",
   "execution_count": null,
   "id": "a04436a0-050e-4f45-a178-f63d3688c553",
   "metadata": {},
   "outputs": [],
   "source": []
  }
 ],
 "metadata": {
  "kernelspec": {
   "display_name": "Python 3 (ipykernel)",
   "language": "python",
   "name": "python3"
  },
  "language_info": {
   "codemirror_mode": {
    "name": "ipython",
    "version": 3
   },
   "file_extension": ".py",
   "mimetype": "text/x-python",
   "name": "python",
   "nbconvert_exporter": "python",
   "pygments_lexer": "ipython3",
   "version": "3.11.4"
  }
 },
 "nbformat": 4,
 "nbformat_minor": 5
}
