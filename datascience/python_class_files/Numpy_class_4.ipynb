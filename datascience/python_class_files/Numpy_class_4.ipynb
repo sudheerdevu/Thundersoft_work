{
 "cells": [
  {
   "cell_type": "code",
   "execution_count": 44,
   "id": "8c031f4a-e38e-433e-a3d1-9212b453e0d0",
   "metadata": {},
   "outputs": [],
   "source": [
    "# Conditions on arrays \n",
    "# Iterating over arrays\n",
    "# Array concatenation\n",
    "# Sorting of arrays\n",
    "# Splitting of arrays\n",
    "# Array broadcasting\n",
    "# (h_stact, v_stack)"
   ]
  },
  {
   "cell_type": "code",
   "execution_count": 3,
   "id": "6d5eccdc-c4fd-4844-8fe1-84a5dfdc8c73",
   "metadata": {},
   "outputs": [],
   "source": [
    "import numpy as np"
   ]
  },
  {
   "cell_type": "markdown",
   "id": "ff08b2bc-8f9f-4a25-8aab-dabbca8d540a",
   "metadata": {},
   "source": [
    "# Concatenation of arrays"
   ]
  },
  {
   "cell_type": "code",
   "execution_count": 6,
   "id": "649b322b-8c20-4c0f-8e10-adbf72110c81",
   "metadata": {},
   "outputs": [],
   "source": [
    "# np.concatenate((arr_1m,arr_2),axis=0/1)"
   ]
  },
  {
   "cell_type": "code",
   "execution_count": 8,
   "id": "e0a4733f-3208-4523-bab4-cd808557cecf",
   "metadata": {},
   "outputs": [],
   "source": [
    "# vertical concatenation\n",
    "# - The number of columns have to be equal.\n",
    "# - axis=0"
   ]
  },
  {
   "cell_type": "code",
   "execution_count": 12,
   "id": "7224e365-3856-4998-9725-29146c883455",
   "metadata": {},
   "outputs": [],
   "source": [
    "# Horizontal concatenation\n",
    "# - The number of rows have to be equal.\n",
    "# - axis=1"
   ]
  },
  {
   "cell_type": "code",
   "execution_count": 14,
   "id": "f15d107a-175e-4d3f-878d-d0d71e348334",
   "metadata": {},
   "outputs": [
    {
     "data": {
      "text/plain": [
       "array([[10, 20, 30],\n",
       "       [ 4,  5,  6]])"
      ]
     },
     "execution_count": 14,
     "metadata": {},
     "output_type": "execute_result"
    }
   ],
   "source": [
    "x=np.array([[10,20,30],[4,5,6]])\n",
    "x"
   ]
  },
  {
   "cell_type": "code",
   "execution_count": 16,
   "id": "37736e82-14b2-4867-8afc-83aec4ccd0a9",
   "metadata": {},
   "outputs": [
    {
     "data": {
      "text/plain": [
       "array([[2, 4, 6]])"
      ]
     },
     "execution_count": 16,
     "metadata": {},
     "output_type": "execute_result"
    }
   ],
   "source": [
    "y=np.array([[2,4,6]])\n",
    "y"
   ]
  },
  {
   "cell_type": "code",
   "execution_count": 18,
   "id": "8c24157d-f8cb-45a8-ac0c-37267bb63e5f",
   "metadata": {},
   "outputs": [
    {
     "data": {
      "text/plain": [
       "array([[10, 20, 30],\n",
       "       [ 4,  5,  6],\n",
       "       [ 2,  4,  6]])"
      ]
     },
     "execution_count": 18,
     "metadata": {},
     "output_type": "execute_result"
    }
   ],
   "source": [
    "np.concatenate((x,y),axis=0)"
   ]
  },
  {
   "cell_type": "code",
   "execution_count": 20,
   "id": "ddf3844d-019d-41b1-9afe-a8aa75b50fab",
   "metadata": {},
   "outputs": [
    {
     "data": {
      "text/plain": [
       "array([[10, 20, 30],\n",
       "       [ 4,  5,  6],\n",
       "       [ 2,  4,  6]])"
      ]
     },
     "execution_count": 20,
     "metadata": {},
     "output_type": "execute_result"
    }
   ],
   "source": [
    "np.concatenate((x,y))"
   ]
  },
  {
   "cell_type": "code",
   "execution_count": 24,
   "id": "294c45c8-ff2f-4b91-9225-4632a7cb3327",
   "metadata": {},
   "outputs": [],
   "source": [
    "# np.concatenate((x,y),axis=1)"
   ]
  },
  {
   "cell_type": "code",
   "execution_count": 26,
   "id": "b412aa2f-6262-4c0b-9460-7969a717420f",
   "metadata": {},
   "outputs": [
    {
     "data": {
      "text/plain": [
       "array([[1, 2],\n",
       "       [3, 4]])"
      ]
     },
     "execution_count": 26,
     "metadata": {},
     "output_type": "execute_result"
    }
   ],
   "source": [
    "z=np.array([[1,2],[3,4]])\n",
    "z"
   ]
  },
  {
   "cell_type": "code",
   "execution_count": 28,
   "id": "0b9cdbc3-cb5e-45d7-9ae5-d0865b8b159c",
   "metadata": {},
   "outputs": [
    {
     "data": {
      "text/plain": [
       "array([[10, 20, 30],\n",
       "       [ 4,  5,  6]])"
      ]
     },
     "execution_count": 28,
     "metadata": {},
     "output_type": "execute_result"
    }
   ],
   "source": [
    "x"
   ]
  },
  {
   "cell_type": "code",
   "execution_count": 34,
   "id": "92f006bd-40d9-43a6-8c0c-62e1618403ad",
   "metadata": {},
   "outputs": [
    {
     "data": {
      "text/plain": [
       "array([[10, 20, 30,  1,  2],\n",
       "       [ 4,  5,  6,  3,  4]])"
      ]
     },
     "execution_count": 34,
     "metadata": {},
     "output_type": "execute_result"
    }
   ],
   "source": [
    "np.concatenate((x,z),axis=1)"
   ]
  },
  {
   "cell_type": "code",
   "execution_count": 42,
   "id": "3a586816-fdf6-4ac6-9a40-143e1fb9fb04",
   "metadata": {},
   "outputs": [],
   "source": [
    "# np.hstack((arr_1,arr_2)) -> horizontal concatenation\n",
    "# np.vstack((arr_1,arr_2)) -> vertical concatenation"
   ]
  },
  {
   "cell_type": "code",
   "execution_count": 38,
   "id": "c88a930f-da76-4b05-882b-0ce4221ca44c",
   "metadata": {},
   "outputs": [
    {
     "data": {
      "text/plain": [
       "array([[10, 20, 30,  1,  2],\n",
       "       [ 4,  5,  6,  3,  4]])"
      ]
     },
     "execution_count": 38,
     "metadata": {},
     "output_type": "execute_result"
    }
   ],
   "source": [
    "np.hstack((x,z))"
   ]
  },
  {
   "cell_type": "code",
   "execution_count": 40,
   "id": "bcb486ef-c4fa-453f-9209-4cb0f0f150b0",
   "metadata": {},
   "outputs": [
    {
     "data": {
      "text/plain": [
       "array([[10, 20, 30],\n",
       "       [ 4,  5,  6],\n",
       "       [ 2,  4,  6]])"
      ]
     },
     "execution_count": 40,
     "metadata": {},
     "output_type": "execute_result"
    }
   ],
   "source": [
    "np.vstack((x,y))"
   ]
  },
  {
   "cell_type": "markdown",
   "id": "356d2ca3-a40a-421e-856f-74feb4cf5cdd",
   "metadata": {},
   "source": [
    "# Conditions on arrays"
   ]
  },
  {
   "cell_type": "code",
   "execution_count": 49,
   "id": "9c99342f-5778-4fd9-84e2-21e85bf3bd99",
   "metadata": {},
   "outputs": [],
   "source": [
    "np.random.seed(48)\n",
    "x=np.random.randint(10,100,size=(3,4))"
   ]
  },
  {
   "cell_type": "code",
   "execution_count": 51,
   "id": "79ad652b-dd94-41ab-8cef-9ad32fcb05e7",
   "metadata": {},
   "outputs": [
    {
     "data": {
      "text/plain": [
       "array([[10, 61, 91, 78],\n",
       "       [58, 74, 80, 80],\n",
       "       [44, 90, 39, 16]])"
      ]
     },
     "execution_count": 51,
     "metadata": {},
     "output_type": "execute_result"
    }
   ],
   "source": [
    "x"
   ]
  },
  {
   "cell_type": "code",
   "execution_count": 59,
   "id": "d0e383dd-7fd0-4640-8a02-2ae63a3d5742",
   "metadata": {},
   "outputs": [
    {
     "data": {
      "text/plain": [
       "array([[False,  True,  True,  True],\n",
       "       [ True,  True,  True,  True],\n",
       "       [False,  True, False, False]])"
      ]
     },
     "execution_count": 59,
     "metadata": {},
     "output_type": "execute_result"
    }
   ],
   "source": [
    "# Get the values>55\n",
    "x>55"
   ]
  },
  {
   "cell_type": "code",
   "execution_count": 61,
   "id": "1e42b8d1-de30-4b9f-9a6a-a83722405039",
   "metadata": {},
   "outputs": [
    {
     "data": {
      "text/plain": [
       "array([61, 91, 78, 58, 74, 80, 80, 90])"
      ]
     },
     "execution_count": 61,
     "metadata": {},
     "output_type": "execute_result"
    }
   ],
   "source": [
    "x[x>55]"
   ]
  },
  {
   "cell_type": "code",
   "execution_count": 67,
   "id": "344de4b8-ce8c-4e3e-8fae-c44e7219bc95",
   "metadata": {},
   "outputs": [
    {
     "data": {
      "text/plain": [
       "array([10, 44, 39, 16])"
      ]
     },
     "execution_count": 67,
     "metadata": {},
     "output_type": "execute_result"
    }
   ],
   "source": [
    "# Get the values<55\n",
    "x[x<55]"
   ]
  },
  {
   "cell_type": "code",
   "execution_count": 69,
   "id": "52257640-295a-4814-9b8f-3c378b8f1c22",
   "metadata": {},
   "outputs": [
    {
     "data": {
      "text/plain": [
       "(array([0, 2, 2, 2], dtype=int64), array([0, 0, 2, 3], dtype=int64))"
      ]
     },
     "execution_count": 69,
     "metadata": {},
     "output_type": "execute_result"
    }
   ],
   "source": [
    "np.where(x<55)"
   ]
  },
  {
   "cell_type": "code",
   "execution_count": 73,
   "id": "edacfdbf-f6cc-4feb-9408-b4cfc7f84419",
   "metadata": {},
   "outputs": [
    {
     "data": {
      "text/plain": [
       "array([[10,  0,  0],\n",
       "       [ 4,  6,  0],\n",
       "       [ 0,  0,  8]])"
      ]
     },
     "execution_count": 73,
     "metadata": {},
     "output_type": "execute_result"
    }
   ],
   "source": [
    "x=np.array([[10,0,0],[4,6,0],[0,0,8]])\n",
    "x"
   ]
  },
  {
   "cell_type": "code",
   "execution_count": 77,
   "id": "733b822b-873e-4de1-9e59-8c7e0b479bec",
   "metadata": {},
   "outputs": [
    {
     "data": {
      "text/plain": [
       "5"
      ]
     },
     "execution_count": 77,
     "metadata": {},
     "output_type": "execute_result"
    }
   ],
   "source": [
    "(x==0).sum()"
   ]
  },
  {
   "cell_type": "code",
   "execution_count": 81,
   "id": "aa6a9bc1-f728-4ff3-af11-1db95f4bf255",
   "metadata": {},
   "outputs": [
    {
     "data": {
      "text/plain": [
       "array([10,  4,  6,  8])"
      ]
     },
     "execution_count": 81,
     "metadata": {},
     "output_type": "execute_result"
    }
   ],
   "source": [
    "x[x!=0]"
   ]
  },
  {
   "cell_type": "code",
   "execution_count": 85,
   "id": "854dc220-3869-4051-8fc6-e333c145f167",
   "metadata": {},
   "outputs": [
    {
     "data": {
      "text/plain": [
       "array([0, 0, 0, 0, 0])"
      ]
     },
     "execution_count": 85,
     "metadata": {},
     "output_type": "execute_result"
    }
   ],
   "source": [
    "x[x==0]"
   ]
  },
  {
   "cell_type": "markdown",
   "id": "4b5f0343-94a0-4444-ac9a-8768edbabbd2",
   "metadata": {},
   "source": [
    "# Iterating over arrays"
   ]
  },
  {
   "cell_type": "code",
   "execution_count": 90,
   "id": "5aa46717-8ac0-42c1-88e0-5e54662a3f7a",
   "metadata": {},
   "outputs": [],
   "source": [
    "# - Applying loop on arrays"
   ]
  },
  {
   "cell_type": "code",
   "execution_count": 92,
   "id": "8bf160a7-dc79-4313-8513-7ebf6933a810",
   "metadata": {},
   "outputs": [
    {
     "data": {
      "text/plain": [
       "array([10, 20, 30, 40, 50, 60, 70, 80])"
      ]
     },
     "execution_count": 92,
     "metadata": {},
     "output_type": "execute_result"
    }
   ],
   "source": [
    "x=np.array([10,20,30,40,50,60,70,80])\n",
    "x"
   ]
  },
  {
   "cell_type": "code",
   "execution_count": 94,
   "id": "ce30b7b3-0bc0-4807-85a9-289eddd36e55",
   "metadata": {},
   "outputs": [
    {
     "name": "stdout",
     "output_type": "stream",
     "text": [
      "10\n",
      "20\n",
      "30\n",
      "40\n",
      "50\n",
      "60\n",
      "70\n",
      "80\n"
     ]
    }
   ],
   "source": [
    "for i in x:\n",
    "    print(i)"
   ]
  },
  {
   "cell_type": "code",
   "execution_count": 98,
   "id": "d54f57f4-7f8f-484f-82e6-e4f317499865",
   "metadata": {},
   "outputs": [
    {
     "data": {
      "text/plain": [
       "array([[10, 20, 30, 40],\n",
       "       [50, 60, 70, 90],\n",
       "       [15, 25, 45, 55]])"
      ]
     },
     "execution_count": 98,
     "metadata": {},
     "output_type": "execute_result"
    }
   ],
   "source": [
    "x=np.array([10,20,30,40,50,60,70,90,15,25,45,55]).reshape(3,4)\n",
    "x"
   ]
  },
  {
   "cell_type": "code",
   "execution_count": 104,
   "id": "61ea9aa5-d536-4fb7-9d2d-1bd4bca2892f",
   "metadata": {},
   "outputs": [
    {
     "name": "stdout",
     "output_type": "stream",
     "text": [
      "[10 20 30 40]\n",
      "[50 60 70 90]\n",
      "[15 25 45 55]\n"
     ]
    }
   ],
   "source": [
    "for i in x:\n",
    "    print(i)\n",
    "    # break"
   ]
  },
  {
   "cell_type": "code",
   "execution_count": 106,
   "id": "70612adf-0003-4753-8640-98219bc776a4",
   "metadata": {},
   "outputs": [
    {
     "name": "stdout",
     "output_type": "stream",
     "text": [
      "10\n",
      "30\n",
      "30\n",
      "40\n"
     ]
    }
   ],
   "source": [
    "i=np.array([10,30,30,40])\n",
    "for j in i:\n",
    "    print(j)"
   ]
  },
  {
   "cell_type": "code",
   "execution_count": 110,
   "id": "ceb42b41-f27b-4706-be29-88b383563fd0",
   "metadata": {},
   "outputs": [
    {
     "name": "stdout",
     "output_type": "stream",
     "text": [
      "10\n",
      "20\n",
      "30\n",
      "40\n",
      "50\n",
      "60\n",
      "70\n",
      "90\n",
      "15\n",
      "25\n",
      "45\n",
      "55\n"
     ]
    }
   ],
   "source": [
    "for i in x:\n",
    "    for j in i:\n",
    "        print(j)"
   ]
  },
  {
   "cell_type": "code",
   "execution_count": 112,
   "id": "bcd5c4d0-b7c5-4362-9195-e1ed15906373",
   "metadata": {},
   "outputs": [
    {
     "data": {
      "text/plain": [
       "array([[10, 20, 30, 40],\n",
       "       [50, 60, 70, 90],\n",
       "       [15, 25, 45, 55]])"
      ]
     },
     "execution_count": 112,
     "metadata": {},
     "output_type": "execute_result"
    }
   ],
   "source": [
    "x"
   ]
  },
  {
   "cell_type": "code",
   "execution_count": 114,
   "id": "36692767-1033-4843-af69-4188ffd5376e",
   "metadata": {},
   "outputs": [
    {
     "data": {
      "text/plain": [
       "array([10, 20, 30, 40, 50, 60, 70, 90, 15, 25, 45, 55])"
      ]
     },
     "execution_count": 114,
     "metadata": {},
     "output_type": "execute_result"
    }
   ],
   "source": [
    "x.ravel()"
   ]
  },
  {
   "cell_type": "code",
   "execution_count": 116,
   "id": "1de5e181-dfaf-4945-8473-925fba4a41e8",
   "metadata": {},
   "outputs": [
    {
     "name": "stdout",
     "output_type": "stream",
     "text": [
      "10\n",
      "20\n",
      "30\n",
      "40\n",
      "50\n",
      "60\n",
      "70\n",
      "90\n",
      "15\n",
      "25\n",
      "45\n",
      "55\n"
     ]
    }
   ],
   "source": [
    "for i in x.ravel():\n",
    "    print(i)"
   ]
  },
  {
   "cell_type": "code",
   "execution_count": 118,
   "id": "8e6c436e-64ad-4ae6-b2a2-21139e26bd6b",
   "metadata": {},
   "outputs": [
    {
     "data": {
      "text/plain": [
       "array([[10, 20, 30, 40],\n",
       "       [50, 60, 70, 90],\n",
       "       [15, 25, 45, 55]])"
      ]
     },
     "execution_count": 118,
     "metadata": {},
     "output_type": "execute_result"
    }
   ],
   "source": [
    "x"
   ]
  },
  {
   "cell_type": "code",
   "execution_count": 120,
   "id": "7736a8c1-57b3-4839-ba1b-a18928d2a4c1",
   "metadata": {},
   "outputs": [
    {
     "data": {
      "text/plain": [
       "array([[10, 50, 15],\n",
       "       [20, 60, 25],\n",
       "       [30, 70, 45],\n",
       "       [40, 90, 55]])"
      ]
     },
     "execution_count": 120,
     "metadata": {},
     "output_type": "execute_result"
    }
   ],
   "source": [
    "x.T"
   ]
  },
  {
   "cell_type": "code",
   "execution_count": 122,
   "id": "e5709761-0e29-4e81-9656-318d3d96404a",
   "metadata": {},
   "outputs": [
    {
     "name": "stdout",
     "output_type": "stream",
     "text": [
      "[10 50 15]\n",
      "[20 60 25]\n",
      "[30 70 45]\n",
      "[40 90 55]\n"
     ]
    }
   ],
   "source": [
    "for i in x.T:\n",
    "    print(i)"
   ]
  },
  {
   "cell_type": "code",
   "execution_count": 126,
   "id": "de331122-9a40-4af0-820b-e9bd05f3909c",
   "metadata": {},
   "outputs": [
    {
     "data": {
      "text/plain": [
       "array([[10, 20, 30, 40],\n",
       "       [50, 60, 70, 90],\n",
       "       [15, 25, 45, 55]])"
      ]
     },
     "execution_count": 126,
     "metadata": {},
     "output_type": "execute_result"
    }
   ],
   "source": [
    "x"
   ]
  },
  {
   "cell_type": "code",
   "execution_count": 124,
   "id": "24e6899c-49a3-4dba-a6e9-be1d45a9c9cf",
   "metadata": {},
   "outputs": [
    {
     "name": "stdout",
     "output_type": "stream",
     "text": [
      "10\n",
      "50\n",
      "15\n",
      "20\n",
      "60\n",
      "25\n",
      "30\n",
      "70\n",
      "45\n",
      "40\n",
      "90\n",
      "55\n"
     ]
    }
   ],
   "source": [
    "for i in x.T.ravel():\n",
    "    print(i)"
   ]
  },
  {
   "cell_type": "markdown",
   "id": "2163572e-9b7f-4c10-9922-1dcff7a12c55",
   "metadata": {},
   "source": [
    "# Sorting an array"
   ]
  },
  {
   "cell_type": "markdown",
   "id": "4d513b80-273b-48f5-9f54-d63bafa3df65",
   "metadata": {},
   "source": [
    "### np.sort()"
   ]
  },
  {
   "cell_type": "code",
   "execution_count": 140,
   "id": "a9c0331f-0d69-4fad-aab7-b6727cc6ed0f",
   "metadata": {},
   "outputs": [],
   "source": [
    "# - It sorts an array in the ascending order and return a new array."
   ]
  },
  {
   "cell_type": "code",
   "execution_count": 131,
   "id": "5d55ec80-733e-45c5-bc67-b5ec7d863e1f",
   "metadata": {},
   "outputs": [
    {
     "data": {
      "text/plain": [
       "array([2, 8, 4, 6, 9, 7, 4, 6])"
      ]
     },
     "execution_count": 131,
     "metadata": {},
     "output_type": "execute_result"
    }
   ],
   "source": [
    "x=np.array([2,8,4,6,9,7,4,6])\n",
    "x"
   ]
  },
  {
   "cell_type": "code",
   "execution_count": 142,
   "id": "485f1847-41c0-4216-88bf-67efa1cafca4",
   "metadata": {},
   "outputs": [
    {
     "data": {
      "text/plain": [
       "array([2, 4, 4, 6, 6, 7, 8, 9])"
      ]
     },
     "execution_count": 142,
     "metadata": {},
     "output_type": "execute_result"
    }
   ],
   "source": [
    "np.sort(x)"
   ]
  },
  {
   "cell_type": "code",
   "execution_count": 144,
   "id": "201e2bde-e720-4aea-be0a-2732e50ed99c",
   "metadata": {},
   "outputs": [
    {
     "data": {
      "text/plain": [
       "array([2, 8, 4, 6, 9, 7, 4, 6])"
      ]
     },
     "execution_count": 144,
     "metadata": {},
     "output_type": "execute_result"
    }
   ],
   "source": [
    "x"
   ]
  },
  {
   "cell_type": "code",
   "execution_count": 146,
   "id": "95d1fd73-ef11-453c-916f-23ddc7e7db26",
   "metadata": {},
   "outputs": [
    {
     "data": {
      "text/plain": [
       "array([2, 8, 4, 6, 9, 7, 4, 6])"
      ]
     },
     "execution_count": 146,
     "metadata": {},
     "output_type": "execute_result"
    }
   ],
   "source": [
    "x"
   ]
  },
  {
   "cell_type": "code",
   "execution_count": 150,
   "id": "9f7211f4-c09a-426c-85a6-b6c8150ca3af",
   "metadata": {},
   "outputs": [
    {
     "data": {
      "text/plain": [
       "array([9, 8, 7, 6, 6, 4, 4, 2])"
      ]
     },
     "execution_count": 150,
     "metadata": {},
     "output_type": "execute_result"
    }
   ],
   "source": [
    "np.sort(x)[::-1]"
   ]
  },
  {
   "cell_type": "code",
   "execution_count": 152,
   "id": "89c9a6ba-6691-4946-a553-f045870dc006",
   "metadata": {},
   "outputs": [
    {
     "data": {
      "text/plain": [
       "array([2, 8, 4, 6, 9, 7, 4, 6])"
      ]
     },
     "execution_count": 152,
     "metadata": {},
     "output_type": "execute_result"
    }
   ],
   "source": [
    "x"
   ]
  },
  {
   "cell_type": "markdown",
   "id": "f2275c0a-b87d-45d2-ac61-6979eb96bb83",
   "metadata": {},
   "source": [
    "### arr.sort()"
   ]
  },
  {
   "cell_type": "code",
   "execution_count": 156,
   "id": "36c6ab77-144e-48a6-a0a6-9a295681882a",
   "metadata": {},
   "outputs": [],
   "source": [
    "# - It sorts the array in ascending order.\n",
    "# - It makes the changes in the existing array. It does not return anything."
   ]
  },
  {
   "cell_type": "code",
   "execution_count": 158,
   "id": "1d10fb98-3b41-4f7f-9c71-500e232db84b",
   "metadata": {},
   "outputs": [
    {
     "data": {
      "text/plain": [
       "array([2, 8, 4, 6, 9, 7, 4, 6])"
      ]
     },
     "execution_count": 158,
     "metadata": {},
     "output_type": "execute_result"
    }
   ],
   "source": [
    "x"
   ]
  },
  {
   "cell_type": "code",
   "execution_count": 160,
   "id": "4e7c26ec-0aa9-4350-9cc2-160c040423bc",
   "metadata": {},
   "outputs": [],
   "source": [
    "x.sort()"
   ]
  },
  {
   "cell_type": "code",
   "execution_count": 162,
   "id": "56266825-bf11-48ab-bd27-406a07ce61f2",
   "metadata": {},
   "outputs": [
    {
     "data": {
      "text/plain": [
       "array([2, 4, 4, 6, 6, 7, 8, 9])"
      ]
     },
     "execution_count": 162,
     "metadata": {},
     "output_type": "execute_result"
    }
   ],
   "source": [
    "x"
   ]
  },
  {
   "cell_type": "code",
   "execution_count": 166,
   "id": "20f3b48a-a84d-46d9-a2f9-8e5dac727ee1",
   "metadata": {},
   "outputs": [
    {
     "data": {
      "text/plain": [
       "array([9, 8, 7, 6, 6, 4, 4, 2])"
      ]
     },
     "execution_count": 166,
     "metadata": {},
     "output_type": "execute_result"
    }
   ],
   "source": [
    "x[::-1]"
   ]
  },
  {
   "cell_type": "code",
   "execution_count": 168,
   "id": "5ff07606-7a1e-4eee-a217-67d766a38d64",
   "metadata": {},
   "outputs": [],
   "source": [
    "np.random.seed(48)\n",
    "x=np.random.randint(10,100,size=(3,4))"
   ]
  },
  {
   "cell_type": "code",
   "execution_count": 170,
   "id": "2a0910b6-3de7-4127-9570-fa00047a751c",
   "metadata": {},
   "outputs": [
    {
     "data": {
      "text/plain": [
       "array([[10, 61, 91, 78],\n",
       "       [58, 74, 80, 80],\n",
       "       [44, 90, 39, 16]])"
      ]
     },
     "execution_count": 170,
     "metadata": {},
     "output_type": "execute_result"
    }
   ],
   "source": [
    "x"
   ]
  },
  {
   "cell_type": "code",
   "execution_count": 180,
   "id": "bccd4d3e-1049-433e-abeb-41b4b13e2a4d",
   "metadata": {},
   "outputs": [
    {
     "data": {
      "text/plain": [
       "array([[10, 61, 78, 91],\n",
       "       [58, 74, 80, 80],\n",
       "       [16, 39, 44, 90]])"
      ]
     },
     "execution_count": 180,
     "metadata": {},
     "output_type": "execute_result"
    }
   ],
   "source": [
    "np.sort(x,axis=1)"
   ]
  },
  {
   "cell_type": "code",
   "execution_count": 174,
   "id": "af54fc09-5810-4346-aceb-71650766cb5f",
   "metadata": {},
   "outputs": [
    {
     "data": {
      "text/plain": [
       "array([[10, 61, 91, 78],\n",
       "       [58, 74, 80, 80],\n",
       "       [44, 90, 39, 16]])"
      ]
     },
     "execution_count": 174,
     "metadata": {},
     "output_type": "execute_result"
    }
   ],
   "source": [
    "x"
   ]
  },
  {
   "cell_type": "code",
   "execution_count": 178,
   "id": "a664b8bc-395e-40cd-bd2e-2368b049a5cf",
   "metadata": {},
   "outputs": [
    {
     "data": {
      "text/plain": [
       "array([[10, 61, 39, 16],\n",
       "       [44, 74, 80, 78],\n",
       "       [58, 90, 91, 80]])"
      ]
     },
     "execution_count": 178,
     "metadata": {},
     "output_type": "execute_result"
    }
   ],
   "source": [
    "np.sort(x,axis=0)"
   ]
  },
  {
   "cell_type": "code",
   "execution_count": 182,
   "id": "42cfdceb-5ec0-451c-ab59-f918eb77ff43",
   "metadata": {},
   "outputs": [
    {
     "data": {
      "text/plain": [
       "array([[10, 61, 91, 78],\n",
       "       [58, 74, 80, 80],\n",
       "       [44, 90, 39, 16]])"
      ]
     },
     "execution_count": 182,
     "metadata": {},
     "output_type": "execute_result"
    }
   ],
   "source": [
    "x"
   ]
  },
  {
   "cell_type": "code",
   "execution_count": 186,
   "id": "ba924200-7fb1-454c-a349-1e5b1c58dd08",
   "metadata": {},
   "outputs": [
    {
     "data": {
      "text/plain": [
       "array([[58, 90, 91, 80],\n",
       "       [44, 74, 80, 78],\n",
       "       [10, 61, 39, 16]])"
      ]
     },
     "execution_count": 186,
     "metadata": {},
     "output_type": "execute_result"
    }
   ],
   "source": [
    "np.sort(x,axis=0)[::-1]"
   ]
  },
  {
   "cell_type": "code",
   "execution_count": 188,
   "id": "39c17859-3bf9-4faa-8df4-270dd9aba4b8",
   "metadata": {},
   "outputs": [
    {
     "data": {
      "text/plain": [
       "array([[10, 61, 91, 78],\n",
       "       [58, 74, 80, 80],\n",
       "       [44, 90, 39, 16]])"
      ]
     },
     "execution_count": 188,
     "metadata": {},
     "output_type": "execute_result"
    }
   ],
   "source": [
    "x"
   ]
  },
  {
   "cell_type": "code",
   "execution_count": 190,
   "id": "8a2895f5-4abe-4e60-a303-bb1d455add20",
   "metadata": {},
   "outputs": [
    {
     "data": {
      "text/plain": [
       "array([[10, 61, 78, 91],\n",
       "       [58, 74, 80, 80],\n",
       "       [16, 39, 44, 90]])"
      ]
     },
     "execution_count": 190,
     "metadata": {},
     "output_type": "execute_result"
    }
   ],
   "source": [
    "np.sort(x,axis=1)"
   ]
  },
  {
   "cell_type": "code",
   "execution_count": 192,
   "id": "51bdd1c3-dbf0-4faf-b79b-b1084e918d3f",
   "metadata": {},
   "outputs": [
    {
     "data": {
      "text/plain": [
       "array([[91, 78, 61, 10],\n",
       "       [80, 80, 74, 58],\n",
       "       [90, 44, 39, 16]])"
      ]
     },
     "execution_count": 192,
     "metadata": {},
     "output_type": "execute_result"
    }
   ],
   "source": [
    "np.sort(x,axis=1)[::,::-1]"
   ]
  },
  {
   "cell_type": "markdown",
   "id": "2b58078d-3c98-48d5-8ab5-4adc9cfb419a",
   "metadata": {},
   "source": [
    "# Array Broadcasting"
   ]
  },
  {
   "cell_type": "code",
   "execution_count": 195,
   "id": "f46201eb-3a5a-4188-b193-a65a30e81ce0",
   "metadata": {},
   "outputs": [],
   "source": [
    "# - When we perform some operation with two arrays and their shape is not the same.\n",
    "# - Then numpy automatically adds the summy rows or dummy columns to match the shape.\n",
    "# - Once the shape is matched then it performs vectorised operation (index to index) operation.\n",
    "# - This enables us to perform operations on the arrays of different shape."
   ]
  },
  {
   "cell_type": "code",
   "execution_count": 197,
   "id": "b90e77e7-1a8f-4e58-b9b4-d0d839a18e4f",
   "metadata": {},
   "outputs": [],
   "source": [
    "# Conditions\n",
    "# - Either of the dimension has to be the same in both the arrays.\n",
    "# - The other diemension has to be one in either of the arrays."
   ]
  },
  {
   "cell_type": "code",
   "execution_count": 201,
   "id": "e24427fb-c7d0-47ad-8eba-20ffa0f9dbec",
   "metadata": {},
   "outputs": [
    {
     "data": {
      "text/plain": [
       "array([[1, 2, 3],\n",
       "       [4, 5, 6],\n",
       "       [7, 8, 9]])"
      ]
     },
     "execution_count": 201,
     "metadata": {},
     "output_type": "execute_result"
    }
   ],
   "source": [
    "x=np.arange(1,10).reshape(3,3)\n",
    "x"
   ]
  },
  {
   "cell_type": "code",
   "execution_count": 205,
   "id": "fe2bb196-3e80-4a02-bd20-a10c51e26963",
   "metadata": {},
   "outputs": [
    {
     "data": {
      "text/plain": [
       "array([[10, 20, 30]])"
      ]
     },
     "execution_count": 205,
     "metadata": {},
     "output_type": "execute_result"
    }
   ],
   "source": [
    "y=np.array([[10,20,30]])\n",
    "y"
   ]
  },
  {
   "cell_type": "code",
   "execution_count": 207,
   "id": "569b86f5-4093-4b76-a217-8db9bb7b9e4b",
   "metadata": {},
   "outputs": [
    {
     "data": {
      "text/plain": [
       "(3, 3)"
      ]
     },
     "execution_count": 207,
     "metadata": {},
     "output_type": "execute_result"
    }
   ],
   "source": [
    "x.shape"
   ]
  },
  {
   "cell_type": "code",
   "execution_count": 211,
   "id": "3d7a4f0f-755d-4978-af57-5883e9a3e951",
   "metadata": {},
   "outputs": [
    {
     "data": {
      "text/plain": [
       "(1, 3)"
      ]
     },
     "execution_count": 211,
     "metadata": {},
     "output_type": "execute_result"
    }
   ],
   "source": [
    "y.shape"
   ]
  },
  {
   "cell_type": "code",
   "execution_count": 213,
   "id": "563f0156-2f56-4d7b-9665-61b4a9837d35",
   "metadata": {},
   "outputs": [
    {
     "data": {
      "text/plain": [
       "array([[11, 22, 33],\n",
       "       [14, 25, 36],\n",
       "       [17, 28, 39]])"
      ]
     },
     "execution_count": 213,
     "metadata": {},
     "output_type": "execute_result"
    }
   ],
   "source": [
    "x+y"
   ]
  },
  {
   "cell_type": "code",
   "execution_count": 215,
   "id": "8d36d132-2fb8-45ba-97f8-246888bdbf15",
   "metadata": {},
   "outputs": [
    {
     "data": {
      "text/plain": [
       "array([[1, 2, 3],\n",
       "       [4, 5, 6],\n",
       "       [7, 8, 9]])"
      ]
     },
     "execution_count": 215,
     "metadata": {},
     "output_type": "execute_result"
    }
   ],
   "source": [
    "x"
   ]
  },
  {
   "cell_type": "code",
   "execution_count": 217,
   "id": "63bcc24b-fa7f-4fc6-b814-8732f8accdb5",
   "metadata": {},
   "outputs": [
    {
     "data": {
      "text/plain": [
       "array([[2],\n",
       "       [4],\n",
       "       [8]])"
      ]
     },
     "execution_count": 217,
     "metadata": {},
     "output_type": "execute_result"
    }
   ],
   "source": [
    "y=np.array([[2],[4],[8]])\n",
    "y"
   ]
  },
  {
   "cell_type": "code",
   "execution_count": 219,
   "id": "6a185291-cb72-41da-8e62-9c73eb7dc22d",
   "metadata": {},
   "outputs": [
    {
     "data": {
      "text/plain": [
       "(3, 3)"
      ]
     },
     "execution_count": 219,
     "metadata": {},
     "output_type": "execute_result"
    }
   ],
   "source": [
    "x.shape"
   ]
  },
  {
   "cell_type": "code",
   "execution_count": 221,
   "id": "3eac9a08-e361-4a1d-85b8-f26348b77c41",
   "metadata": {},
   "outputs": [
    {
     "data": {
      "text/plain": [
       "(3, 1)"
      ]
     },
     "execution_count": 221,
     "metadata": {},
     "output_type": "execute_result"
    }
   ],
   "source": [
    "y.shape"
   ]
  },
  {
   "cell_type": "code",
   "execution_count": 223,
   "id": "ebbbb1da-afa3-4dbf-887b-e3da1fd84689",
   "metadata": {},
   "outputs": [
    {
     "data": {
      "text/plain": [
       "array([[ 2,  4,  6],\n",
       "       [16, 20, 24],\n",
       "       [56, 64, 72]])"
      ]
     },
     "execution_count": 223,
     "metadata": {},
     "output_type": "execute_result"
    }
   ],
   "source": [
    "x*y"
   ]
  },
  {
   "cell_type": "code",
   "execution_count": 225,
   "id": "87023434-fc73-40e8-8da7-47a4381c4f97",
   "metadata": {},
   "outputs": [
    {
     "data": {
      "text/plain": [
       "array([[1, 2, 3],\n",
       "       [4, 5, 6],\n",
       "       [7, 8, 9]])"
      ]
     },
     "execution_count": 225,
     "metadata": {},
     "output_type": "execute_result"
    }
   ],
   "source": [
    "x"
   ]
  },
  {
   "cell_type": "code",
   "execution_count": 229,
   "id": "197f5227-31f1-48be-ac35-fa95331f36e2",
   "metadata": {},
   "outputs": [
    {
     "data": {
      "text/plain": [
       "array([[10, 20, 30],\n",
       "       [ 4,  4,  6]])"
      ]
     },
     "execution_count": 229,
     "metadata": {},
     "output_type": "execute_result"
    }
   ],
   "source": [
    "y=np.array([[10,20,30],[4,4,6]])\n",
    "y"
   ]
  },
  {
   "cell_type": "code",
   "execution_count": 231,
   "id": "74eeb2b6-0356-4c90-9dd4-91bdddb3ad0d",
   "metadata": {},
   "outputs": [
    {
     "data": {
      "text/plain": [
       "(3, 3)"
      ]
     },
     "execution_count": 231,
     "metadata": {},
     "output_type": "execute_result"
    }
   ],
   "source": [
    "x.shape"
   ]
  },
  {
   "cell_type": "code",
   "execution_count": 233,
   "id": "5a7a9d2a-4180-400e-b944-56e676f6ae12",
   "metadata": {},
   "outputs": [
    {
     "data": {
      "text/plain": [
       "(2, 3)"
      ]
     },
     "execution_count": 233,
     "metadata": {},
     "output_type": "execute_result"
    }
   ],
   "source": [
    "y.shape"
   ]
  },
  {
   "cell_type": "code",
   "execution_count": 235,
   "id": "9badd7a0-228c-447b-82a7-ba7f35276bbd",
   "metadata": {},
   "outputs": [
    {
     "ename": "ValueError",
     "evalue": "operands could not be broadcast together with shapes (3,3) (2,3) ",
     "output_type": "error",
     "traceback": [
      "\u001b[1;31m---------------------------------------------------------------------------\u001b[0m",
      "\u001b[1;31mValueError\u001b[0m                                Traceback (most recent call last)",
      "Cell \u001b[1;32mIn[235], line 1\u001b[0m\n\u001b[1;32m----> 1\u001b[0m x\u001b[38;5;241m*\u001b[39my\n",
      "\u001b[1;31mValueError\u001b[0m: operands could not be broadcast together with shapes (3,3) (2,3) "
     ]
    }
   ],
   "source": [
    "x*y"
   ]
  },
  {
   "cell_type": "code",
   "execution_count": null,
   "id": "de8a7474-475f-4d71-8fb5-82483144ca2b",
   "metadata": {},
   "outputs": [],
   "source": []
  }
 ],
 "metadata": {
  "kernelspec": {
   "display_name": "Python 3 (ipykernel)",
   "language": "python",
   "name": "python3"
  },
  "language_info": {
   "codemirror_mode": {
    "name": "ipython",
    "version": 3
   },
   "file_extension": ".py",
   "mimetype": "text/x-python",
   "name": "python",
   "nbconvert_exporter": "python",
   "pygments_lexer": "ipython3",
   "version": "3.11.4"
  }
 },
 "nbformat": 4,
 "nbformat_minor": 5
}
