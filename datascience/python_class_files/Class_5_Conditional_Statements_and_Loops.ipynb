{
 "cells": [
  {
   "cell_type": "markdown",
   "id": "3012290c-1c81-46b7-ba48-fb9c3f1967e0",
   "metadata": {},
   "source": [
    "# Conditional Statements"
   ]
  },
  {
   "cell_type": "code",
   "execution_count": 1,
   "id": "0e9eb21f-6a6a-4f89-b916-2cc1e0e3e4f4",
   "metadata": {},
   "outputs": [],
   "source": [
    "# The condtional statements are used to execute ornot to execute a piece of code on the basis of some condition."
   ]
  },
  {
   "cell_type": "code",
   "execution_count": 2,
   "id": "1758ee68-e8a4-41bc-b884-5f74167fd094",
   "metadata": {},
   "outputs": [],
   "source": [
    "# if statement\n",
    "\n",
    "# if....else statement\n",
    "\n",
    "# Multiple if statements\n",
    "\n",
    "# if.....elif.....else statement\n",
    "\n",
    "# Nested if statement\n",
    "\n",
    "# Ternary operator"
   ]
  },
  {
   "cell_type": "markdown",
   "id": "6c332355-fee0-4c8f-9680-f5229685f3eb",
   "metadata": {},
   "source": [
    "# if Statement"
   ]
  },
  {
   "cell_type": "code",
   "execution_count": null,
   "id": "ea8bf21d-7b85-484a-bd2c-82be25b3dabe",
   "metadata": {},
   "outputs": [],
   "source": [
    "if condition:\n",
    "    code_1\n",
    "    code_2"
   ]
  },
  {
   "cell_type": "code",
   "execution_count": 3,
   "id": "f7d2abab-d265-4f6d-a764-5286d653a323",
   "metadata": {},
   "outputs": [],
   "source": [
    "# When the if condition is True then the code inside the if block gets executed.\n",
    "# When the if condition is False then the code inside the if block does not gets executed."
   ]
  },
  {
   "cell_type": "code",
   "execution_count": 5,
   "id": "019c1261-b4e7-41e0-9c54-0c20786b5ffb",
   "metadata": {},
   "outputs": [
    {
     "name": "stdout",
     "output_type": "stream",
     "text": [
      "Hello Python\n"
     ]
    }
   ],
   "source": [
    "if 2==2:\n",
    "    print('Hello Python')"
   ]
  },
  {
   "cell_type": "code",
   "execution_count": 4,
   "id": "4c6929f9-a0f5-4f19-9736-8792c0ca3e09",
   "metadata": {},
   "outputs": [
    {
     "data": {
      "text/plain": [
       "True"
      ]
     },
     "execution_count": 4,
     "metadata": {},
     "output_type": "execute_result"
    }
   ],
   "source": [
    "2==2"
   ]
  },
  {
   "cell_type": "code",
   "execution_count": 6,
   "id": "a9defd27",
   "metadata": {},
   "outputs": [],
   "source": [
    "if 2==6:\n",
    "    print('Hello')"
   ]
  },
  {
   "cell_type": "code",
   "execution_count": 10,
   "id": "6723393e",
   "metadata": {},
   "outputs": [
    {
     "name": "stdout",
     "output_type": "stream",
     "text": [
      "Hello Python\n",
      "We are learning Data Science\n",
      "Thanks\n"
     ]
    }
   ],
   "source": [
    "if 2==2:\n",
    "    print('Hello Python')\n",
    "    print('We are learning Data Science')\n",
    "print('Thanks')"
   ]
  },
  {
   "cell_type": "code",
   "execution_count": 9,
   "id": "3c9ea5be",
   "metadata": {},
   "outputs": [
    {
     "name": "stdout",
     "output_type": "stream",
     "text": [
      "Thanks\n"
     ]
    }
   ],
   "source": [
    "if 2==6:\n",
    "    print('Hello Python')\n",
    "    print('We are learning Data Science')\n",
    "print('Thanks')"
   ]
  },
  {
   "cell_type": "markdown",
   "id": "f2e779f8",
   "metadata": {},
   "source": [
    "# if....else....statement"
   ]
  },
  {
   "cell_type": "code",
   "execution_count": null,
   "id": "eff89c69",
   "metadata": {},
   "outputs": [],
   "source": [
    "if condition:\n",
    "    code_1\n",
    "    code_2\n",
    "    .\n",
    "    .\n",
    "    code_n\n",
    "else:\n",
    "    code_3\n",
    "    code_4\n",
    "    .\n",
    "    .\n",
    "    code_n"
   ]
  },
  {
   "cell_type": "code",
   "execution_count": 11,
   "id": "7753a5db",
   "metadata": {},
   "outputs": [],
   "source": [
    "# When the if condition id True then the if block gets executed.\n",
    "# When the if condition is False then else block gets executed."
   ]
  },
  {
   "cell_type": "code",
   "execution_count": 12,
   "id": "602dad2f",
   "metadata": {},
   "outputs": [
    {
     "name": "stdout",
     "output_type": "stream",
     "text": [
      "We are inside the if block\n",
      "Hello Python\n"
     ]
    }
   ],
   "source": [
    "if 2==2:\n",
    "    print('We are inside the if block')\n",
    "    print('Hello Python')\n",
    "else:\n",
    "    print('We are inside the else block')\n",
    "    print('Thanks')"
   ]
  },
  {
   "cell_type": "code",
   "execution_count": 13,
   "id": "bf306457",
   "metadata": {},
   "outputs": [
    {
     "name": "stdout",
     "output_type": "stream",
     "text": [
      "We are inside the else block\n",
      "Thanks\n"
     ]
    }
   ],
   "source": [
    "if 2==4:\n",
    "    print('We are inside the if block')\n",
    "    print('Hello Python')\n",
    "else:\n",
    "    print('We are inside the else block')\n",
    "    print('Thanks')"
   ]
  },
  {
   "cell_type": "code",
   "execution_count": 6,
   "id": "a77dbe56",
   "metadata": {},
   "outputs": [
    {
     "name": "stdout",
     "output_type": "stream",
     "text": [
      "54 is even\n"
     ]
    }
   ],
   "source": [
    "# Take a number from the user and check whether it is even or odd.\n",
    "\n",
    "a=int(input('Enter a number- '))\n",
    "\n",
    "if a%2==0:\n",
    "    print(f'{a} is even')\n",
    "else:\n",
    "    print(f'{a} is odd')"
   ]
  },
  {
   "cell_type": "code",
   "execution_count": 4,
   "id": "6b43e628",
   "metadata": {},
   "outputs": [
    {
     "data": {
      "text/plain": [
       "False"
      ]
     },
     "execution_count": 4,
     "metadata": {},
     "output_type": "execute_result"
    }
   ],
   "source": [
    "5%2==0"
   ]
  },
  {
   "cell_type": "code",
   "execution_count": 17,
   "id": "c5fb633c",
   "metadata": {},
   "outputs": [
    {
     "data": {
      "text/plain": [
       "1"
      ]
     },
     "execution_count": 17,
     "metadata": {},
     "output_type": "execute_result"
    }
   ],
   "source": [
    "5%2"
   ]
  },
  {
   "cell_type": "code",
   "execution_count": 12,
   "id": "61e898b7",
   "metadata": {},
   "outputs": [
    {
     "name": "stdout",
     "output_type": "stream",
     "text": [
      "100 is maximum\n"
     ]
    }
   ],
   "source": [
    "# Take two numbers from the user and print the maximum number.\n",
    "\n",
    "a=100\n",
    "b=65\n",
    "\n",
    "if a>b:\n",
    "    print(f'{a} is maximum')\n",
    "else:\n",
    "    print(f'{b} is maximum')"
   ]
  },
  {
   "cell_type": "code",
   "execution_count": 11,
   "id": "aee44454",
   "metadata": {},
   "outputs": [
    {
     "data": {
      "text/plain": [
       "True"
      ]
     },
     "execution_count": 11,
     "metadata": {},
     "output_type": "execute_result"
    }
   ],
   "source": [
    "100>65"
   ]
  },
  {
   "cell_type": "markdown",
   "id": "022a0879",
   "metadata": {},
   "source": [
    "# Multiple if statements"
   ]
  },
  {
   "cell_type": "code",
   "execution_count": null,
   "id": "15852b8c",
   "metadata": {},
   "outputs": [],
   "source": [
    "if condition:\n",
    "    code\n",
    "if condition:\n",
    "    code\n",
    "if condition:\n",
    "    code\n",
    "if condition:\n",
    "    code\n",
    "if condition:\n",
    "    code\n",
    "if condition:\n",
    "    code"
   ]
  },
  {
   "cell_type": "code",
   "execution_count": 15,
   "id": "347ec41a",
   "metadata": {},
   "outputs": [],
   "source": [
    "# Take a number from the user between 1 and 5\n",
    "# If the input is 1 then it should print 'One' and so on."
   ]
  },
  {
   "cell_type": "code",
   "execution_count": 18,
   "id": "905cb4eb",
   "metadata": {},
   "outputs": [
    {
     "name": "stdout",
     "output_type": "stream",
     "text": [
      "One\n"
     ]
    }
   ],
   "source": [
    "a=1\n",
    "\n",
    "if a==1:\n",
    "    print('One')\n",
    "if a==2:\n",
    "    print('Two')\n",
    "if a==3:\n",
    "    print('Three')\n",
    "if a==4:\n",
    "    print('Four')\n",
    "if a==5:\n",
    "    print('Five')"
   ]
  },
  {
   "cell_type": "markdown",
   "id": "bac892d5",
   "metadata": {},
   "source": [
    "# if....elif....else statement"
   ]
  },
  {
   "cell_type": "code",
   "execution_count": null,
   "id": "9b709fdc",
   "metadata": {},
   "outputs": [],
   "source": [
    "if condition:\n",
    "    code_1\n",
    "    code_2\n",
    "elif condition:\n",
    "    code_3\n",
    "    code_4\n",
    "else:\n",
    "    code_5"
   ]
  },
  {
   "cell_type": "code",
   "execution_count": 20,
   "id": "f3d9d9ef",
   "metadata": {},
   "outputs": [],
   "source": [
    "# When if condition is True then if block gets executed and it does not check further.\n",
    "# When if condition is False then the control goes to the elif condition and it will check elif condition.else\n",
    "# Suppose elif condition is True then elif block will get executed.\n",
    "# Suppose elif condition is False then else block will get executed.\n",
    "# else block will get executed when all the conditions are False."
   ]
  },
  {
   "cell_type": "code",
   "execution_count": 21,
   "id": "1c641c0e",
   "metadata": {},
   "outputs": [
    {
     "name": "stdout",
     "output_type": "stream",
     "text": [
      "One\n"
     ]
    }
   ],
   "source": [
    "a=1\n",
    "\n",
    "if a==1:\n",
    "    print('One')\n",
    "elif a==2:\n",
    "    print('Two')\n",
    "elif a==3:\n",
    "    print('Three')\n",
    "elif a==4:\n",
    "    print('Four')\n",
    "elif a==5:\n",
    "    print('Five')\n",
    "else:\n",
    "    print('Invalid input')"
   ]
  },
  {
   "cell_type": "markdown",
   "id": "6b399bdf",
   "metadata": {},
   "source": [
    "# Nested if...else statements"
   ]
  },
  {
   "cell_type": "code",
   "execution_count": 22,
   "id": "14ea2fc5",
   "metadata": {},
   "outputs": [],
   "source": [
    "# When we have an if statement within another if statement then we call it as nested if statement"
   ]
  },
  {
   "cell_type": "code",
   "execution_count": null,
   "id": "04e005f9",
   "metadata": {},
   "outputs": [],
   "source": [
    "if condition:\n",
    "    if condition:\n",
    "        code_1\n",
    "        code_2\n",
    "    else:\n",
    "        code_3\n",
    "else:\n",
    "    code_4"
   ]
  },
  {
   "cell_type": "code",
   "execution_count": 23,
   "id": "c7adb721",
   "metadata": {},
   "outputs": [
    {
     "name": "stdout",
     "output_type": "stream",
     "text": [
      "Outer if block\n",
      "Inner if block\n"
     ]
    }
   ],
   "source": [
    "if 4==4:\n",
    "    print('Outer if block')\n",
    "    if 3==3:\n",
    "        print('Inner if block')\n",
    "    else:\n",
    "        print('Inner else block')\n",
    "else:\n",
    "    print('Outer else block')"
   ]
  },
  {
   "cell_type": "code",
   "execution_count": 24,
   "id": "053de091",
   "metadata": {},
   "outputs": [
    {
     "name": "stdout",
     "output_type": "stream",
     "text": [
      "Outer if block\n",
      "Inner else block\n"
     ]
    }
   ],
   "source": [
    "if 4==4:\n",
    "    print('Outer if block')\n",
    "    if 3==6:\n",
    "        print('Inner if block')\n",
    "    else:\n",
    "        print('Inner else block')\n",
    "else:\n",
    "    print('Outer else block')"
   ]
  },
  {
   "cell_type": "code",
   "execution_count": 25,
   "id": "0e1de2bb",
   "metadata": {},
   "outputs": [
    {
     "name": "stdout",
     "output_type": "stream",
     "text": [
      "Outer else block\n"
     ]
    }
   ],
   "source": [
    "if 4==5:\n",
    "    print('Outer if block')\n",
    "    if 3==6:\n",
    "        print('Inner if block')\n",
    "    else:\n",
    "        print('Inner else block')\n",
    "else:\n",
    "    print('Outer else block')"
   ]
  },
  {
   "cell_type": "code",
   "execution_count": 33,
   "id": "c8508549",
   "metadata": {},
   "outputs": [
    {
     "name": "stdout",
     "output_type": "stream",
     "text": [
      "Consonant\n"
     ]
    }
   ],
   "source": [
    "# Take a letter from the user and check whether it is a vowel or a consonant.\n",
    "\n",
    "char='5'\n",
    "\n",
    "if char in 'AEIOUaeiou':\n",
    "    print('Vowel')\n",
    "else:\n",
    "    print('Consonant')"
   ]
  },
  {
   "cell_type": "code",
   "execution_count": 32,
   "id": "aabe3482",
   "metadata": {},
   "outputs": [
    {
     "data": {
      "text/plain": [
       "False"
      ]
     },
     "execution_count": 32,
     "metadata": {},
     "output_type": "execute_result"
    }
   ],
   "source": [
    "'5' in 'AEIOUaeiou'"
   ]
  },
  {
   "cell_type": "code",
   "execution_count": 42,
   "id": "57812211",
   "metadata": {},
   "outputs": [
    {
     "name": "stdout",
     "output_type": "stream",
     "text": [
      "Vowel\n"
     ]
    }
   ],
   "source": [
    "char='I'\n",
    "\n",
    "if char.isalpha():\n",
    "    if char in 'AEIOUaeiou':\n",
    "        print('Vowel')\n",
    "    else:\n",
    "        print('Consonant')\n",
    "else:\n",
    "    print('Pass an alphabet only')"
   ]
  },
  {
   "cell_type": "code",
   "execution_count": 40,
   "id": "2183cec1",
   "metadata": {},
   "outputs": [
    {
     "data": {
      "text/plain": [
       "True"
      ]
     },
     "execution_count": 40,
     "metadata": {},
     "output_type": "execute_result"
    }
   ],
   "source": [
    "'k'.isalpha()"
   ]
  },
  {
   "cell_type": "code",
   "execution_count": 44,
   "id": "a09eb196",
   "metadata": {},
   "outputs": [],
   "source": [
    "# Take two numbers and print the maximum or equal if equal"
   ]
  },
  {
   "cell_type": "code",
   "execution_count": 47,
   "id": "197f422b",
   "metadata": {},
   "outputs": [
    {
     "name": "stdout",
     "output_type": "stream",
     "text": [
      "12 and 12 are equal\n"
     ]
    }
   ],
   "source": [
    "a=12\n",
    "b=12\n",
    "\n",
    "if a>b:\n",
    "    print(f'{a} is maximum')\n",
    "elif b>a:\n",
    "    print(f'{b} is maximum')\n",
    "else:\n",
    "    print(f'{a} and {b} are equal')"
   ]
  },
  {
   "cell_type": "code",
   "execution_count": 62,
   "id": "042908b5",
   "metadata": {},
   "outputs": [
    {
     "name": "stdout",
     "output_type": "stream",
     "text": [
      "30 is maximum\n"
     ]
    }
   ],
   "source": [
    "# Maximum of three numbers\n",
    "\n",
    "a=10\n",
    "b=15\n",
    "c=30\n",
    "\n",
    "if a>b and a>c:\n",
    "    print(f'{a} is maximum')\n",
    "elif b>a and b>c:\n",
    "    print(f'{b} is maximum')\n",
    "else:\n",
    "    print(f'{c} is maximum')"
   ]
  },
  {
   "cell_type": "code",
   "execution_count": 54,
   "id": "b3228e25",
   "metadata": {},
   "outputs": [
    {
     "data": {
      "text/plain": [
       "False"
      ]
     },
     "execution_count": 54,
     "metadata": {},
     "output_type": "execute_result"
    }
   ],
   "source": [
    "10>15 and  10>3"
   ]
  },
  {
   "cell_type": "code",
   "execution_count": 56,
   "id": "075c252b",
   "metadata": {},
   "outputs": [
    {
     "data": {
      "text/plain": [
       "True"
      ]
     },
     "execution_count": 56,
     "metadata": {},
     "output_type": "execute_result"
    }
   ],
   "source": [
    "15>10 and 15>3"
   ]
  },
  {
   "cell_type": "code",
   "execution_count": 59,
   "id": "d26d1cb9",
   "metadata": {},
   "outputs": [
    {
     "data": {
      "text/plain": [
       "False"
      ]
     },
     "execution_count": 59,
     "metadata": {},
     "output_type": "execute_result"
    }
   ],
   "source": [
    "10>15 and 10>30"
   ]
  },
  {
   "cell_type": "code",
   "execution_count": 61,
   "id": "3f174951",
   "metadata": {},
   "outputs": [
    {
     "data": {
      "text/plain": [
       "False"
      ]
     },
     "execution_count": 61,
     "metadata": {},
     "output_type": "execute_result"
    }
   ],
   "source": [
    "15>10 and 15>30"
   ]
  },
  {
   "cell_type": "markdown",
   "id": "6e83f62a",
   "metadata": {},
   "source": [
    "# Ternary Operator"
   ]
  },
  {
   "cell_type": "code",
   "execution_count": 64,
   "id": "a8ae37e6",
   "metadata": {},
   "outputs": [],
   "source": [
    "# - It is a substitute to if....else statement.\n",
    "# - It is a one-liner code to implement if...else statement.\n",
    "# - Weherever we have to pass a conditional statement in a single line, we use ternary operator."
   ]
  },
  {
   "cell_type": "code",
   "execution_count": 65,
   "id": "812f3fec",
   "metadata": {},
   "outputs": [],
   "source": [
    "# exp_1 if condition else exp_2"
   ]
  },
  {
   "cell_type": "code",
   "execution_count": 66,
   "id": "6fc8f858",
   "metadata": {},
   "outputs": [],
   "source": [
    "# When the if condition is True then exp_1 will get executed.\n",
    "# When the if condition is False then exp_2 will get executed."
   ]
  },
  {
   "cell_type": "code",
   "execution_count": 68,
   "id": "6d881eb2",
   "metadata": {},
   "outputs": [
    {
     "name": "stdout",
     "output_type": "stream",
     "text": [
      "Odd\n"
     ]
    }
   ],
   "source": [
    "# Even or odd\n",
    "\n",
    "num=41\n",
    "\n",
    "print('Even') if num%2==0 else print('Odd')"
   ]
  },
  {
   "cell_type": "code",
   "execution_count": 69,
   "id": "bb63cf47",
   "metadata": {},
   "outputs": [],
   "source": [
    "# exp_1 if condition else exp_2  if condition else exp_3 if condition else exp_4"
   ]
  },
  {
   "cell_type": "code",
   "execution_count": 76,
   "id": "92273e25",
   "metadata": {},
   "outputs": [
    {
     "name": "stdout",
     "output_type": "stream",
     "text": [
      "30\n"
     ]
    }
   ],
   "source": [
    "# Maximum of three numbers\n",
    "\n",
    "a=10\n",
    "b=15\n",
    "c=30\n",
    "\n",
    "print(a) if a>b and a>c else print(b) if b>a and b>c else print(c)"
   ]
  },
  {
   "cell_type": "markdown",
   "id": "4ecf13d5",
   "metadata": {},
   "source": [
    "# Loops"
   ]
  },
  {
   "cell_type": "code",
   "execution_count": 78,
   "id": "34526c53",
   "metadata": {},
   "outputs": [
    {
     "name": "stdout",
     "output_type": "stream",
     "text": [
      "Ashish\n",
      "Ashish\n",
      "Ashish\n",
      "Ashish\n",
      "Ashish\n"
     ]
    }
   ],
   "source": [
    "# Print your name 5 times\n",
    "\n",
    "print('Ashish')\n",
    "print('Ashish')\n",
    "print('Ashish')\n",
    "print('Ashish')\n",
    "print('Ashish')"
   ]
  },
  {
   "cell_type": "code",
   "execution_count": 82,
   "id": "ccb28764",
   "metadata": {},
   "outputs": [
    {
     "name": "stdout",
     "output_type": "stream",
     "text": [
      "Ashish\n",
      "Ashish\n",
      "Ashish\n",
      "Ashish\n",
      "Ashish\n"
     ]
    }
   ],
   "source": [
    "for i in range(5):\n",
    "    print('Ashish')"
   ]
  },
  {
   "cell_type": "code",
   "execution_count": 83,
   "id": "eb3b8e8c",
   "metadata": {},
   "outputs": [],
   "source": [
    "# - When we want to repeat a piece of code n times then we can use loop.\n",
    "# - Loop is used to execute a piece of code repeatedly."
   ]
  },
  {
   "cell_type": "markdown",
   "id": "9769dd29",
   "metadata": {},
   "source": [
    "# Type of loops"
   ]
  },
  {
   "cell_type": "code",
   "execution_count": 84,
   "id": "583e5e85",
   "metadata": {},
   "outputs": [],
   "source": [
    "# - 1- for Loop\n",
    "# - 2- while loop"
   ]
  },
  {
   "cell_type": "markdown",
   "id": "bbd5d7db",
   "metadata": {},
   "source": [
    "# for loop"
   ]
  },
  {
   "cell_type": "code",
   "execution_count": 86,
   "id": "8c2f7f4e",
   "metadata": {},
   "outputs": [],
   "source": [
    "# - for loops are applied on the iterables only.\n",
    "# - for loop traverses upon the elements of an iterable element by element from the beginning to the end.\n",
    "\n",
    "# Iterables- String, List, Tuple, Dictionary, Set, Frozenset, Range"
   ]
  },
  {
   "cell_type": "markdown",
   "id": "85297e5d",
   "metadata": {},
   "source": [
    "### Syntax"
   ]
  },
  {
   "cell_type": "code",
   "execution_count": null,
   "id": "7923b37d",
   "metadata": {},
   "outputs": [],
   "source": [
    "for positioner in iterable:\n",
    "    code\n",
    "    code"
   ]
  },
  {
   "cell_type": "code",
   "execution_count": 89,
   "id": "353648a5",
   "metadata": {},
   "outputs": [
    {
     "name": "stdout",
     "output_type": "stream",
     "text": [
      "Python <class 'str'>\n",
      "P\n",
      "y\n",
      "t\n",
      "h\n",
      "o\n",
      "n\n"
     ]
    }
   ],
   "source": [
    "my_str='Python'\n",
    "print(my_str,type(my_str))\n",
    "\n",
    "for i in my_str:\n",
    "    print(i)"
   ]
  },
  {
   "cell_type": "code",
   "execution_count": 90,
   "id": "cdfc347b",
   "metadata": {},
   "outputs": [
    {
     "name": "stdout",
     "output_type": "stream",
     "text": [
      "10\n",
      "20\n",
      "30\n",
      "40\n",
      "50\n"
     ]
    }
   ],
   "source": [
    "lst=[10,20,30,40,50]\n",
    "\n",
    "for i in lst:\n",
    "    print(i)"
   ]
  },
  {
   "cell_type": "code",
   "execution_count": 91,
   "id": "0660b500",
   "metadata": {},
   "outputs": [
    {
     "name": "stdout",
     "output_type": "stream",
     "text": [
      "True\n",
      "Python\n",
      "(5+6j)\n",
      "False\n",
      "6000\n",
      "None\n",
      "2.8888\n"
     ]
    }
   ],
   "source": [
    "t=(True, 'Python', 5+6j, False, 6000, None, 2.8888)\n",
    "\n",
    "for x in t:\n",
    "    print(x)"
   ]
  },
  {
   "cell_type": "code",
   "execution_count": 95,
   "id": "b43533b2",
   "metadata": {},
   "outputs": [
    {
     "name": "stdout",
     "output_type": "stream",
     "text": [
      "True <class 'bool'>\n",
      "Python <class 'str'>\n",
      "(5+6j) <class 'complex'>\n",
      "False <class 'bool'>\n",
      "6000 <class 'int'>\n",
      "None <class 'NoneType'>\n",
      "2.8888 <class 'float'>\n"
     ]
    }
   ],
   "source": [
    "t=(True, 'Python', 5+6j, False, 6000, None, 2.8888)\n",
    "\n",
    "# Print all the elements of the tuple and their type.\n",
    "\n",
    "for i in t:\n",
    "    print(i,type(i))"
   ]
  },
  {
   "cell_type": "code",
   "execution_count": 96,
   "id": "7fe907bf",
   "metadata": {},
   "outputs": [
    {
     "name": "stdout",
     "output_type": "stream",
     "text": [
      "1\n",
      "2\n",
      "3\n",
      "4\n"
     ]
    }
   ],
   "source": [
    "d={1:100,2:200,3:300,4:400}\n",
    "\n",
    "for i in d:\n",
    "    print(i)"
   ]
  },
  {
   "cell_type": "code",
   "execution_count": 97,
   "id": "6ad4507d",
   "metadata": {},
   "outputs": [
    {
     "name": "stdout",
     "output_type": "stream",
     "text": [
      "100\n",
      "200\n",
      "300\n",
      "400\n"
     ]
    }
   ],
   "source": [
    "d={1:100,2:200,3:300,4:400}\n",
    "\n",
    "for i in d.values():\n",
    "    print(i)"
   ]
  },
  {
   "cell_type": "code",
   "execution_count": 99,
   "id": "66c3a302",
   "metadata": {},
   "outputs": [
    {
     "name": "stdout",
     "output_type": "stream",
     "text": [
      "{50, 20, 40, 10, 30}\n",
      "50\n",
      "20\n",
      "40\n",
      "10\n",
      "30\n"
     ]
    }
   ],
   "source": [
    "s={10,20,30,40,50}\n",
    "print(s)\n",
    "\n",
    "for i in s:\n",
    "    print(i)"
   ]
  },
  {
   "cell_type": "code",
   "execution_count": 101,
   "id": "7b3b2e2d",
   "metadata": {},
   "outputs": [
    {
     "name": "stdout",
     "output_type": "stream",
     "text": [
      "frozenset({40, 10, 50, 20, 60, 30})\n",
      "40\n",
      "10\n",
      "50\n",
      "20\n",
      "60\n",
      "30\n"
     ]
    }
   ],
   "source": [
    "f=frozenset([10,20,30,40,50,60])\n",
    "print(f)\n",
    "\n",
    "for i in f:\n",
    "    print(i)"
   ]
  },
  {
   "cell_type": "code",
   "execution_count": 103,
   "id": "59aec1b9",
   "metadata": {},
   "outputs": [
    {
     "name": "stdout",
     "output_type": "stream",
     "text": [
      "1\n",
      "2\n",
      "3\n",
      "4\n",
      "5\n",
      "6\n",
      "7\n",
      "8\n",
      "9\n",
      "10\n"
     ]
    }
   ],
   "source": [
    "for i in range(1,11,1):\n",
    "    print(i)"
   ]
  },
  {
   "cell_type": "code",
   "execution_count": 104,
   "id": "c9f3c9a5",
   "metadata": {},
   "outputs": [
    {
     "name": "stdout",
     "output_type": "stream",
     "text": [
      "0\n",
      "1\n",
      "2\n",
      "3\n",
      "4\n",
      "5\n"
     ]
    }
   ],
   "source": [
    "for i in range(6):\n",
    "    print(i)"
   ]
  },
  {
   "cell_type": "code",
   "execution_count": 106,
   "id": "fcb2426a",
   "metadata": {},
   "outputs": [
    {
     "name": "stdout",
     "output_type": "stream",
     "text": [
      "10 <class 'int'>\n"
     ]
    },
    {
     "ename": "TypeError",
     "evalue": "'int' object is not iterable",
     "output_type": "error",
     "traceback": [
      "\u001b[1;31m---------------------------------------------------------------------------\u001b[0m",
      "\u001b[1;31mTypeError\u001b[0m                                 Traceback (most recent call last)",
      "Cell \u001b[1;32mIn[106], line 4\u001b[0m\n\u001b[0;32m      1\u001b[0m a\u001b[38;5;241m=\u001b[39m\u001b[38;5;241m10\u001b[39m\n\u001b[0;32m      2\u001b[0m \u001b[38;5;28mprint\u001b[39m(a,\u001b[38;5;28mtype\u001b[39m(a))\n\u001b[1;32m----> 4\u001b[0m \u001b[38;5;28;01mfor\u001b[39;00m i \u001b[38;5;129;01min\u001b[39;00m a:\n\u001b[0;32m      5\u001b[0m     \u001b[38;5;28mprint\u001b[39m(i)\n",
      "\u001b[1;31mTypeError\u001b[0m: 'int' object is not iterable"
     ]
    }
   ],
   "source": [
    "a=10\n",
    "print(a,type(a))\n",
    "\n",
    "for i in a:\n",
    "    print(i)"
   ]
  },
  {
   "cell_type": "code",
   "execution_count": 107,
   "id": "82cc262e",
   "metadata": {},
   "outputs": [
    {
     "ename": "TypeError",
     "evalue": "'float' object is not iterable",
     "output_type": "error",
     "traceback": [
      "\u001b[1;31m---------------------------------------------------------------------------\u001b[0m",
      "\u001b[1;31mTypeError\u001b[0m                                 Traceback (most recent call last)",
      "Cell \u001b[1;32mIn[107], line 1\u001b[0m\n\u001b[1;32m----> 1\u001b[0m \u001b[38;5;28;01mfor\u001b[39;00m i \u001b[38;5;129;01min\u001b[39;00m \u001b[38;5;241m2.5\u001b[39m:\n\u001b[0;32m      2\u001b[0m     \u001b[38;5;28mprint\u001b[39m(i)\n",
      "\u001b[1;31mTypeError\u001b[0m: 'float' object is not iterable"
     ]
    }
   ],
   "source": [
    "for i in 2.5:\n",
    "    print(i)"
   ]
  },
  {
   "cell_type": "code",
   "execution_count": 108,
   "id": "d08effcf",
   "metadata": {},
   "outputs": [
    {
     "ename": "TypeError",
     "evalue": "'complex' object is not iterable",
     "output_type": "error",
     "traceback": [
      "\u001b[1;31m---------------------------------------------------------------------------\u001b[0m",
      "\u001b[1;31mTypeError\u001b[0m                                 Traceback (most recent call last)",
      "Cell \u001b[1;32mIn[108], line 1\u001b[0m\n\u001b[1;32m----> 1\u001b[0m \u001b[38;5;28;01mfor\u001b[39;00m i \u001b[38;5;129;01min\u001b[39;00m \u001b[38;5;241m5\u001b[39m\u001b[38;5;241m+\u001b[39m\u001b[38;5;241m5\u001b[39mj:\n\u001b[0;32m      2\u001b[0m     \u001b[38;5;28mprint\u001b[39m(i)\n",
      "\u001b[1;31mTypeError\u001b[0m: 'complex' object is not iterable"
     ]
    }
   ],
   "source": [
    "for i in 5+5j:\n",
    "    print(i)"
   ]
  },
  {
   "cell_type": "code",
   "execution_count": 113,
   "id": "f0d8c2e5",
   "metadata": {},
   "outputs": [
    {
     "name": "stdout",
     "output_type": "stream",
     "text": [
      "0 P\n",
      "1 y\n",
      "2 t\n",
      "3 h\n",
      "4 o\n",
      "5 n\n"
     ]
    }
   ],
   "source": [
    "my_str='Python' # indexes- [0,1,2,3,4,5]\n",
    "\n",
    "# Print all the elements along with their indexes.\n",
    "print(0,my_str[0])\n",
    "print(1,my_str[1])\n",
    "print(2,my_str[2])\n",
    "print(3,my_str[3])\n",
    "print(4,my_str[4])\n",
    "print(5,my_str[5])"
   ]
  },
  {
   "cell_type": "code",
   "execution_count": 117,
   "id": "3d6e33c2",
   "metadata": {},
   "outputs": [
    {
     "name": "stdout",
     "output_type": "stream",
     "text": [
      "0 P\n",
      "1 y\n",
      "2 t\n",
      "3 h\n",
      "4 o\n",
      "5 n\n"
     ]
    }
   ],
   "source": [
    "my_str='Python' # indexes- [0,1,2,3,4,5]\n",
    "\n",
    "# Print all the elements along with their indexes.\n",
    "\n",
    "for i in range(6):\n",
    "    print(i,my_str[i])"
   ]
  },
  {
   "cell_type": "code",
   "execution_count": 118,
   "id": "1211af74",
   "metadata": {},
   "outputs": [
    {
     "data": {
      "text/plain": [
       "6"
      ]
     },
     "execution_count": 118,
     "metadata": {},
     "output_type": "execute_result"
    }
   ],
   "source": [
    "len(my_str)"
   ]
  },
  {
   "cell_type": "code",
   "execution_count": 120,
   "id": "384b5160",
   "metadata": {},
   "outputs": [
    {
     "name": "stdout",
     "output_type": "stream",
     "text": [
      "0 P\n",
      "1 y\n",
      "2 t\n",
      "3 h\n",
      "4 o\n",
      "5 n\n"
     ]
    }
   ],
   "source": [
    "for i in range(len(my_str)):\n",
    "    print(i,my_str[i])"
   ]
  },
  {
   "cell_type": "code",
   "execution_count": 123,
   "id": "d3d3c0d0",
   "metadata": {},
   "outputs": [
    {
     "name": "stdout",
     "output_type": "stream",
     "text": [
      "n\n",
      "o\n",
      "h\n",
      "t\n",
      "y\n",
      "P\n"
     ]
    }
   ],
   "source": [
    "# Reversing using loop\n",
    "\n",
    "my_str='Python'\n",
    "\n",
    "# Indexes in reverse order -> [5,4,3,2,1,0] or [-1,-2,-3,-4,-5,-6]\n",
    "\n",
    "print(my_str[5])\n",
    "print(my_str[4])\n",
    "print(my_str[3])\n",
    "print(my_str[2])\n",
    "print(my_str[1])\n",
    "print(my_str[0])"
   ]
  },
  {
   "cell_type": "code",
   "execution_count": 126,
   "id": "d2d2aa94",
   "metadata": {},
   "outputs": [
    {
     "name": "stdout",
     "output_type": "stream",
     "text": [
      "n\n",
      "o\n",
      "h\n",
      "t\n",
      "y\n",
      "P\n"
     ]
    }
   ],
   "source": [
    "for i in range(5,-1,-1):\n",
    "    print(my_str[i])"
   ]
  },
  {
   "cell_type": "code",
   "execution_count": 128,
   "id": "d5b09cf0",
   "metadata": {},
   "outputs": [
    {
     "data": {
      "text/plain": [
       "5"
      ]
     },
     "execution_count": 128,
     "metadata": {},
     "output_type": "execute_result"
    }
   ],
   "source": [
    "len(my_str)-1"
   ]
  },
  {
   "cell_type": "code",
   "execution_count": 130,
   "id": "186f9395",
   "metadata": {},
   "outputs": [
    {
     "name": "stdout",
     "output_type": "stream",
     "text": [
      "5 n\n",
      "4 o\n",
      "3 h\n",
      "2 t\n",
      "1 y\n",
      "0 P\n"
     ]
    }
   ],
   "source": [
    "for i in range(len(my_str)-1,-1,-1):\n",
    "    print(i,my_str[i])"
   ]
  },
  {
   "cell_type": "code",
   "execution_count": 133,
   "id": "30125d36",
   "metadata": {},
   "outputs": [
    {
     "name": "stdout",
     "output_type": "stream",
     "text": [
      "n\n",
      "o\n",
      "h\n",
      "t\n",
      "y\n",
      "P\n"
     ]
    }
   ],
   "source": [
    "print(my_str[-1])\n",
    "print(my_str[-2])\n",
    "print(my_str[-3])\n",
    "print(my_str[-4])\n",
    "print(my_str[-5])\n",
    "print(my_str[-6])"
   ]
  },
  {
   "cell_type": "code",
   "execution_count": 136,
   "id": "9bb64064",
   "metadata": {},
   "outputs": [
    {
     "name": "stdout",
     "output_type": "stream",
     "text": [
      "-1 n\n",
      "-2 o\n",
      "-3 h\n",
      "-4 t\n",
      "-5 y\n",
      "-6 P\n"
     ]
    }
   ],
   "source": [
    "for i in range(-1,-7,-1):\n",
    "    print(i,my_str[i])"
   ]
  },
  {
   "cell_type": "code",
   "execution_count": 144,
   "id": "f77a425d",
   "metadata": {},
   "outputs": [
    {
     "data": {
      "text/plain": [
       "-7"
      ]
     },
     "execution_count": 144,
     "metadata": {},
     "output_type": "execute_result"
    }
   ],
   "source": [
    "-len(my_str)-1"
   ]
  },
  {
   "cell_type": "code",
   "execution_count": 147,
   "id": "6e4e2867",
   "metadata": {},
   "outputs": [
    {
     "name": "stdout",
     "output_type": "stream",
     "text": [
      "-1 n\n",
      "-2 o\n",
      "-3 h\n",
      "-4 t\n",
      "-5 y\n",
      "-6 P\n"
     ]
    }
   ],
   "source": [
    "for i in range(-1,-len(my_str)-1,-1):\n",
    "    print(i,my_str[i])"
   ]
  },
  {
   "cell_type": "code",
   "execution_count": 153,
   "id": "0b2f5f68",
   "metadata": {},
   "outputs": [
    {
     "name": "stdout",
     "output_type": "stream",
     "text": [
      "[12, 16, 20, 26, 47, 65]\n",
      "1 12\n",
      "3 16\n",
      "5 20\n",
      "7 26\n",
      "9 47\n",
      "11 65\n"
     ]
    }
   ],
   "source": [
    "lst=[10,12,15,16,18,20,14,26,31,47,52,65]\n",
    "\n",
    "# Get the values from the above list that are avaliable at the odd index also print the indexes.\n",
    "\n",
    "print(lst[1::2])\n",
    "\n",
    "for i in range(1,len(lst),2):\n",
    "    print(i,lst[i])"
   ]
  },
  {
   "cell_type": "code",
   "execution_count": 157,
   "id": "67d1acf4",
   "metadata": {},
   "outputs": [
    {
     "name": "stdout",
     "output_type": "stream",
     "text": [
      "1 12\n",
      "3 16\n",
      "5 20\n",
      "7 26\n",
      "9 47\n",
      "11 65\n"
     ]
    }
   ],
   "source": [
    "for i in range(len(lst)):\n",
    "    if i%2!=0:\n",
    "        print(i,lst[i])"
   ]
  },
  {
   "cell_type": "code",
   "execution_count": 170,
   "id": "2ef4903a",
   "metadata": {},
   "outputs": [
    {
     "name": "stdout",
     "output_type": "stream",
     "text": [
      "eaeeaiooai\n"
     ]
    }
   ],
   "source": [
    "my_str='We are learning Python programming'\n",
    "\n",
    "# Get all the vowels from the above string and store them in a string.\n",
    "s=''\n",
    "\n",
    "for i in my_str:\n",
    "    if i in 'AEIOUaeiou':\n",
    "        s=s+i\n",
    "print(s)"
   ]
  },
  {
   "cell_type": "code",
   "execution_count": 165,
   "id": "733d944e",
   "metadata": {},
   "outputs": [
    {
     "data": {
      "text/plain": [
       "False"
      ]
     },
     "execution_count": 165,
     "metadata": {},
     "output_type": "execute_result"
    }
   ],
   "source": [
    "i=' '\n",
    "i in 'AEIOUaeiou'"
   ]
  },
  {
   "cell_type": "code",
   "execution_count": 182,
   "id": "ffb4ad47",
   "metadata": {},
   "outputs": [
    {
     "name": "stdout",
     "output_type": "stream",
     "text": [
      "55\n"
     ]
    }
   ],
   "source": [
    "# Get the addition of the numbers from 1 to 10\n",
    "s=0\n",
    "\n",
    "for i in range(1,11):\n",
    "    s=s+i\n",
    "print(s)"
   ]
  },
  {
   "cell_type": "code",
   "execution_count": 179,
   "id": "ef37566b",
   "metadata": {},
   "outputs": [
    {
     "name": "stdout",
     "output_type": "stream",
     "text": [
      "0\n",
      "1\n",
      "3\n",
      "6\n",
      "10\n"
     ]
    }
   ],
   "source": [
    "s=0\n",
    "print(s)\n",
    "\n",
    "i=1\n",
    "s=s+i # 0+1\n",
    "print(s)\n",
    "\n",
    "i=2\n",
    "s=s+i # 1+2\n",
    "print(s)\n",
    "\n",
    "i=3\n",
    "s=s+i # 3+3\n",
    "print(s)\n",
    "\n",
    "i=4\n",
    "s=s+i # 6+4\n",
    "print(s)"
   ]
  },
  {
   "cell_type": "code",
   "execution_count": 191,
   "id": "aa736a30",
   "metadata": {},
   "outputs": [
    {
     "name": "stdout",
     "output_type": "stream",
     "text": [
      "120\n"
     ]
    }
   ],
   "source": [
    "# Get the multiplication of the numbers from 1 to 5\n",
    "m=1\n",
    "for i in range(1,6):\n",
    "    m=m*i\n",
    "print(m)"
   ]
  },
  {
   "cell_type": "code",
   "execution_count": 189,
   "id": "3211a2fb",
   "metadata": {},
   "outputs": [
    {
     "name": "stdout",
     "output_type": "stream",
     "text": [
      "1\n",
      "2\n",
      "6\n",
      "24\n",
      "120\n"
     ]
    }
   ],
   "source": [
    "m=1\n",
    "\n",
    "i=1\n",
    "m=m*i\n",
    "print(m)\n",
    "\n",
    "i=2\n",
    "m=m*i # 1*2\n",
    "print(m)\n",
    "\n",
    "i=3\n",
    "m=m*3 # 2*3\n",
    "print(m)\n",
    "\n",
    "i=4\n",
    "m=m*i\n",
    "print(m) # 6*4\n",
    "\n",
    "i=5\n",
    "m=m*i # 24*5\n",
    "print(m)"
   ]
  },
  {
   "cell_type": "code",
   "execution_count": 200,
   "id": "846727ef",
   "metadata": {},
   "outputs": [
    {
     "name": "stdout",
     "output_type": "stream",
     "text": [
      "40320\n"
     ]
    }
   ],
   "source": [
    "# Factorial of any number-\n",
    "\n",
    "# 5!= 5*4*3*2*1*1\n",
    "\n",
    "num=8\n",
    "f=1\n",
    "\n",
    "for i in range(1,num+1):\n",
    "    f=f*i\n",
    "print(f)\n"
   ]
  },
  {
   "cell_type": "code",
   "execution_count": 201,
   "id": "21a4bcec",
   "metadata": {},
   "outputs": [
    {
     "data": {
      "text/plain": [
       "40320"
      ]
     },
     "execution_count": 201,
     "metadata": {},
     "output_type": "execute_result"
    }
   ],
   "source": [
    "8*7*6*5*4*3*2*1"
   ]
  },
  {
   "cell_type": "code",
   "execution_count": 206,
   "id": "3c7059f8",
   "metadata": {},
   "outputs": [
    {
     "name": "stdout",
     "output_type": "stream",
     "text": [
      "40320\n"
     ]
    }
   ],
   "source": [
    "num=8\n",
    "f=1\n",
    "for i in range(num,0,-1):\n",
    "    f=f*i\n",
    "print(f)"
   ]
  },
  {
   "cell_type": "code",
   "execution_count": 213,
   "id": "a57d2906",
   "metadata": {},
   "outputs": [
    {
     "name": "stdout",
     "output_type": "stream",
     "text": [
      "1\n",
      "2\n",
      "3\n",
      "5\n",
      "8\n",
      "13\n",
      "21\n",
      "34\n",
      "55\n"
     ]
    }
   ],
   "source": [
    "# Fibonnici series\n",
    "\n",
    "# 0,1,1,2,3,5,8,13,21,34,55........\n",
    "\n",
    "\n",
    "# Print the Fibonnici series upto 11 digits.\n",
    "\n",
    "a=0\n",
    "b=1\n",
    "\n",
    "for i in range(9):\n",
    "    s=a+b\n",
    "    a=b\n",
    "    b=s\n",
    "    print(s)"
   ]
  },
  {
   "cell_type": "code",
   "execution_count": 218,
   "id": "8b255e6f",
   "metadata": {},
   "outputs": [],
   "source": [
    "my_str='Peter piper picked a pack of pickeled peppers'\n",
    "\n",
    "# Output-['We', 'are', 'learning', 'Python', 'programming'] using loop"
   ]
  },
  {
   "cell_type": "code",
   "execution_count": 216,
   "id": "1bcd3d3d",
   "metadata": {},
   "outputs": [],
   "source": [
    "# 'P'\n",
    "# 'Pe'\n",
    "# 'Pet'\n",
    "# 'Pete'\n",
    "# 'Peter'\n",
    "# space\n",
    "# ['Peter']\n",
    "\n",
    "# 'p'\n",
    "# 'pi'\n",
    "# 'pip'\n",
    "# 'pipe'\n",
    "# 'piper'\n",
    "# space\n",
    "# ['Peter','piper']"
   ]
  },
  {
   "cell_type": "code",
   "execution_count": 243,
   "id": "992a71fc",
   "metadata": {},
   "outputs": [
    {
     "name": "stdout",
     "output_type": "stream",
     "text": [
      "peppers\n",
      "['Peter', 'piper', 'picked', 'a', 'pack', 'of', 'pickeled', 'peppers']\n"
     ]
    }
   ],
   "source": [
    "my_str='Peter piper picked a pack of pickeled peppers'\n",
    "\n",
    "lst=[]\n",
    "s=''\n",
    "for i in my_str:\n",
    "    if i!=' ':\n",
    "        s+=i\n",
    "    else:\n",
    "        lst.append(s)\n",
    "        # print(lst)\n",
    "        s=''\n",
    "\n",
    "print(s)\n",
    "lst.append(s)\n",
    "print(lst)\n"
   ]
  },
  {
   "cell_type": "code",
   "execution_count": 224,
   "id": "772772b4",
   "metadata": {},
   "outputs": [
    {
     "name": "stdout",
     "output_type": "stream",
     "text": [
      "[]\n",
      "[10]\n",
      "[10, 'Peter']\n"
     ]
    }
   ],
   "source": [
    "lst=[]\n",
    "print(lst)\n",
    "\n",
    "lst.append(10)\n",
    "print(lst)\n",
    "\n",
    "lst.append('Peter')\n",
    "print(lst)"
   ]
  },
  {
   "cell_type": "code",
   "execution_count": 237,
   "id": "42e9a6cb",
   "metadata": {},
   "outputs": [
    {
     "name": "stdout",
     "output_type": "stream",
     "text": [
      "['Peter']\n",
      "p\n",
      "pi\n",
      "pip\n",
      "pipe\n",
      "piper\n",
      "['Peter', 'piper']\n",
      "p\n",
      "pi\n"
     ]
    }
   ],
   "source": [
    "lst=[]\n",
    "s='P'\n",
    "s='Pe'\n",
    "s='Pet'\n",
    "s='Pete'\n",
    "s='Peter'\n",
    "lst.append(s)\n",
    "print(lst)\n",
    "s=''\n",
    "\n",
    "s+='p'\n",
    "print(s)\n",
    "s+='i'\n",
    "print(s)\n",
    "s+='p'\n",
    "print(s)\n",
    "s+='e'\n",
    "print(s)\n",
    "s+='r'\n",
    "print(s)\n",
    "lst.append(s)\n",
    "print(lst)\n",
    "s=''\n",
    "\n",
    "s+='p'\n",
    "print(s)\n",
    "s+='i'\n",
    "print(s)"
   ]
  },
  {
   "cell_type": "code",
   "execution_count": 247,
   "id": "55c62ceb",
   "metadata": {},
   "outputs": [],
   "source": [
    "my_str='Peter piper picked a pack of pickeled peppers'\n",
    "\n",
    "# Output- ['peppers', 'pickeled', 'of', 'pack', 'a', 'picked', 'piper', 'Peter']\n",
    "\n",
    "# Approach- Convert the string to the list word by word ->\n",
    "#   ['Peter', 'piper', 'picked', 'a', 'pack', 'of', 'pickeled', 'peppers']\n",
    "\n",
    "# Reverse the list"
   ]
  },
  {
   "cell_type": "code",
   "execution_count": 253,
   "id": "3382a0b3",
   "metadata": {},
   "outputs": [
    {
     "name": "stdout",
     "output_type": "stream",
     "text": [
      "['Peter', 'piper', 'picked', 'a', 'pack', 'of', 'pickeled', 'peppers']\n",
      "['peppers', 'pickeled', 'of', 'pack', 'a', 'picked', 'piper', 'Peter']\n"
     ]
    }
   ],
   "source": [
    "my_str='Peter piper picked a pack of pickeled peppers'\n",
    "lst=[]\n",
    "s=''\n",
    "\n",
    "for i in my_str:\n",
    "    if i!=' ':\n",
    "        s+=i\n",
    "    else:\n",
    "        lst.append(s)\n",
    "        s=''\n",
    "lst.append(s)\n",
    "print(lst)\n",
    "##################################################\n",
    "\n",
    "res=[]\n",
    "for i in range(len(lst)-1,-1,-1):\n",
    "    res.append(lst[i])\n",
    "print(res)"
   ]
  },
  {
   "cell_type": "code",
   "execution_count": 260,
   "id": "3b7c2a6e",
   "metadata": {},
   "outputs": [
    {
     "name": "stdout",
     "output_type": "stream",
     "text": [
      "['Peter', 'piper', 'picked', 'a', 'pack', 'of', 'pickeled', 'peppers']\n",
      "['peppers']\n",
      "['peppers', 'pickeled']\n"
     ]
    }
   ],
   "source": [
    "res=[]\n",
    "print(lst)\n",
    "i=7\n",
    "res.append(lst[i])\n",
    "print(res)\n",
    "\n",
    "i=6\n",
    "res.append(lst[i])\n",
    "print(res)"
   ]
  },
  {
   "cell_type": "code",
   "execution_count": 274,
   "id": "b0dead42",
   "metadata": {},
   "outputs": [
    {
     "name": "stdout",
     "output_type": "stream",
     "text": [
      "['Peter', 'piper', 'picked', 'a', 'pack', 'of', 'pickeled', 'peppers']\n"
     ]
    },
    {
     "data": {
      "text/plain": [
       "'peppers pickeled of pack a picked piper Peter'"
      ]
     },
     "execution_count": 274,
     "metadata": {},
     "output_type": "execute_result"
    }
   ],
   "source": [
    "my_str='Peter piper picked a pack of pickeled peppers'\n",
    "# Output- 'peppers pickeled of pack a picked piper Peter'\n",
    "\n",
    "# Approach- Convert the string to the list.\n",
    "# Reverse the list and store in a string.\n",
    "\n",
    "lst=[]\n",
    "s=''\n",
    "\n",
    "for i in my_str:\n",
    "    if i!=' ':\n",
    "        s+=i\n",
    "    else:\n",
    "        lst.append(s)\n",
    "        s=''\n",
    "lst.append(s)\n",
    "print(lst)\n",
    "\n",
    "##################################################\n",
    "s=''\n",
    "\n",
    "for i in range(len(lst)-1,-1,-1):\n",
    "    s+=lst[i]\n",
    "    \n",
    "    if i!=0:\n",
    "        s+=' '\n",
    "\n",
    "s"
   ]
  },
  {
   "cell_type": "code",
   "execution_count": 277,
   "id": "6f11280c",
   "metadata": {},
   "outputs": [
    {
     "name": "stdout",
     "output_type": "stream",
     "text": [
      "7 peppers\n",
      "6 pickeled\n",
      "5 of\n",
      "4 pack\n",
      "3 a\n",
      "2 picked\n",
      "1 piper\n",
      "0 Peter\n"
     ]
    }
   ],
   "source": [
    "for i in range(len(lst)-1,-1,-1):\n",
    "    print(i,lst[i])"
   ]
  },
  {
   "cell_type": "code",
   "execution_count": 281,
   "id": "78d8bec9",
   "metadata": {},
   "outputs": [],
   "source": [
    "# PF-1 (Assignment) Class-1 (Introduction)- Assignemnt - pdf of 10 questions\n",
    "# MCQ- 20 (Quiz)- Practice"
   ]
  },
  {
   "cell_type": "code",
   "execution_count": 2,
   "id": "cd8b5474",
   "metadata": {},
   "outputs": [
    {
     "name": "stdout",
     "output_type": "stream",
     "text": [
      "Hello\n"
     ]
    }
   ],
   "source": [
    "print('Hello')"
   ]
  },
  {
   "cell_type": "markdown",
   "id": "8f44b3b9-8213-45f3-ac1a-23ec08e95fb3",
   "metadata": {},
   "source": [
    "print('Hello')"
   ]
  },
  {
   "cell_type": "markdown",
   "id": "571c4f8d-76c8-4e5a-861d-66ab7de149d4",
   "metadata": {},
   "source": [
    "# Hello"
   ]
  },
  {
   "cell_type": "code",
   "execution_count": 5,
   "id": "667a2cf8-52ec-4a3b-82c9-d1f0e238402a",
   "metadata": {},
   "outputs": [
    {
     "name": "stdout",
     "output_type": "stream",
     "text": [
      "Requirement already satisfied: notebook in c:\\users\\ashis\\anaconda3\\lib\\site-packages (7.2.1)\n",
      "Requirement already satisfied: jupyter-server<3,>=2.4.0 in c:\\users\\ashis\\anaconda3\\lib\\site-packages (from notebook) (2.14.1)\n",
      "Requirement already satisfied: jupyterlab-server<3,>=2.27.1 in c:\\users\\ashis\\anaconda3\\lib\\site-packages (from notebook) (2.27.2)\n",
      "Requirement already satisfied: jupyterlab<4.3,>=4.2.0 in c:\\users\\ashis\\anaconda3\\lib\\site-packages (from notebook) (4.2.2)\n",
      "Requirement already satisfied: notebook-shim<0.3,>=0.2 in c:\\users\\ashis\\anaconda3\\lib\\site-packages (from notebook) (0.2.2)\n",
      "Requirement already satisfied: tornado>=6.2.0 in c:\\users\\ashis\\anaconda3\\lib\\site-packages (from notebook) (6.3.2)\n",
      "Requirement already satisfied: anyio>=3.1.0 in c:\\users\\ashis\\anaconda3\\lib\\site-packages (from jupyter-server<3,>=2.4.0->notebook) (3.5.0)\n",
      "Requirement already satisfied: argon2-cffi>=21.1 in c:\\users\\ashis\\anaconda3\\lib\\site-packages (from jupyter-server<3,>=2.4.0->notebook) (21.3.0)\n",
      "Requirement already satisfied: jinja2>=3.0.3 in c:\\users\\ashis\\anaconda3\\lib\\site-packages (from jupyter-server<3,>=2.4.0->notebook) (3.1.2)\n",
      "Requirement already satisfied: jupyter-client>=7.4.4 in c:\\users\\ashis\\anaconda3\\lib\\site-packages (from jupyter-server<3,>=2.4.0->notebook) (7.4.9)\n",
      "Requirement already satisfied: jupyter-core!=5.0.*,>=4.12 in c:\\users\\ashis\\anaconda3\\lib\\site-packages (from jupyter-server<3,>=2.4.0->notebook) (5.3.0)\n",
      "Requirement already satisfied: jupyter-events>=0.9.0 in c:\\users\\ashis\\anaconda3\\lib\\site-packages (from jupyter-server<3,>=2.4.0->notebook) (0.10.0)\n",
      "Requirement already satisfied: jupyter-server-terminals>=0.4.4 in c:\\users\\ashis\\anaconda3\\lib\\site-packages (from jupyter-server<3,>=2.4.0->notebook) (0.5.3)\n",
      "Requirement already satisfied: nbconvert>=6.4.4 in c:\\users\\ashis\\anaconda3\\lib\\site-packages (from jupyter-server<3,>=2.4.0->notebook) (6.5.4)\n",
      "Requirement already satisfied: nbformat>=5.3.0 in c:\\users\\ashis\\anaconda3\\lib\\site-packages (from jupyter-server<3,>=2.4.0->notebook) (5.7.0)\n",
      "Requirement already satisfied: overrides>=5.0 in c:\\users\\ashis\\anaconda3\\lib\\site-packages (from jupyter-server<3,>=2.4.0->notebook) (7.7.0)\n",
      "Requirement already satisfied: packaging>=22.0 in c:\\users\\ashis\\anaconda3\\lib\\site-packages (from jupyter-server<3,>=2.4.0->notebook) (23.0)\n",
      "Requirement already satisfied: prometheus-client>=0.9 in c:\\users\\ashis\\anaconda3\\lib\\site-packages (from jupyter-server<3,>=2.4.0->notebook) (0.14.1)\n",
      "Requirement already satisfied: pywinpty>=2.0.1 in c:\\users\\ashis\\anaconda3\\lib\\site-packages (from jupyter-server<3,>=2.4.0->notebook) (2.0.10)\n",
      "Requirement already satisfied: pyzmq>=24 in c:\\users\\ashis\\anaconda3\\lib\\site-packages (from jupyter-server<3,>=2.4.0->notebook) (26.0.3)\n",
      "Requirement already satisfied: send2trash>=1.8.2 in c:\\users\\ashis\\anaconda3\\lib\\site-packages (from jupyter-server<3,>=2.4.0->notebook) (1.8.3)\n",
      "Requirement already satisfied: terminado>=0.8.3 in c:\\users\\ashis\\anaconda3\\lib\\site-packages (from jupyter-server<3,>=2.4.0->notebook) (0.17.1)\n",
      "Requirement already satisfied: traitlets>=5.6.0 in c:\\users\\ashis\\anaconda3\\lib\\site-packages (from jupyter-server<3,>=2.4.0->notebook) (5.7.1)\n",
      "Requirement already satisfied: websocket-client>=1.7 in c:\\users\\ashis\\anaconda3\\lib\\site-packages (from jupyter-server<3,>=2.4.0->notebook) (1.8.0)\n",
      "Requirement already satisfied: async-lru>=1.0.0 in c:\\users\\ashis\\anaconda3\\lib\\site-packages (from jupyterlab<4.3,>=4.2.0->notebook) (2.0.4)\n",
      "Requirement already satisfied: httpx>=0.25.0 in c:\\users\\ashis\\anaconda3\\lib\\site-packages (from jupyterlab<4.3,>=4.2.0->notebook) (0.27.0)\n",
      "Requirement already satisfied: ipykernel>=6.5.0 in c:\\users\\ashis\\anaconda3\\lib\\site-packages (from jupyterlab<4.3,>=4.2.0->notebook) (6.19.2)\n",
      "Requirement already satisfied: jupyter-lsp>=2.0.0 in c:\\users\\ashis\\anaconda3\\lib\\site-packages (from jupyterlab<4.3,>=4.2.0->notebook) (2.2.5)\n",
      "Requirement already satisfied: setuptools>=40.1.0 in c:\\users\\ashis\\anaconda3\\lib\\site-packages (from jupyterlab<4.3,>=4.2.0->notebook) (68.0.0)\n",
      "Requirement already satisfied: babel>=2.10 in c:\\users\\ashis\\anaconda3\\lib\\site-packages (from jupyterlab-server<3,>=2.27.1->notebook) (2.11.0)\n",
      "Requirement already satisfied: json5>=0.9.0 in c:\\users\\ashis\\anaconda3\\lib\\site-packages (from jupyterlab-server<3,>=2.27.1->notebook) (0.9.6)\n",
      "Requirement already satisfied: jsonschema>=4.18.0 in c:\\users\\ashis\\anaconda3\\lib\\site-packages (from jupyterlab-server<3,>=2.27.1->notebook) (4.22.0)\n",
      "Requirement already satisfied: requests>=2.31 in c:\\users\\ashis\\anaconda3\\lib\\site-packages (from jupyterlab-server<3,>=2.27.1->notebook) (2.31.0)\n",
      "Requirement already satisfied: idna>=2.8 in c:\\users\\ashis\\anaconda3\\lib\\site-packages (from anyio>=3.1.0->jupyter-server<3,>=2.4.0->notebook) (3.4)\n",
      "Requirement already satisfied: sniffio>=1.1 in c:\\users\\ashis\\anaconda3\\lib\\site-packages (from anyio>=3.1.0->jupyter-server<3,>=2.4.0->notebook) (1.2.0)\n",
      "Requirement already satisfied: argon2-cffi-bindings in c:\\users\\ashis\\anaconda3\\lib\\site-packages (from argon2-cffi>=21.1->jupyter-server<3,>=2.4.0->notebook) (21.2.0)\n",
      "Requirement already satisfied: pytz>=2015.7 in c:\\users\\ashis\\anaconda3\\lib\\site-packages (from babel>=2.10->jupyterlab-server<3,>=2.27.1->notebook) (2022.7)\n",
      "Requirement already satisfied: certifi in c:\\users\\ashis\\anaconda3\\lib\\site-packages (from httpx>=0.25.0->jupyterlab<4.3,>=4.2.0->notebook) (2024.6.2)\n",
      "Requirement already satisfied: httpcore==1.* in c:\\users\\ashis\\anaconda3\\lib\\site-packages (from httpx>=0.25.0->jupyterlab<4.3,>=4.2.0->notebook) (1.0.5)\n",
      "Requirement already satisfied: h11<0.15,>=0.13 in c:\\users\\ashis\\anaconda3\\lib\\site-packages (from httpcore==1.*->httpx>=0.25.0->jupyterlab<4.3,>=4.2.0->notebook) (0.14.0)\n",
      "Requirement already satisfied: comm>=0.1.1 in c:\\users\\ashis\\anaconda3\\lib\\site-packages (from ipykernel>=6.5.0->jupyterlab<4.3,>=4.2.0->notebook) (0.1.2)\n",
      "Requirement already satisfied: debugpy>=1.0 in c:\\users\\ashis\\anaconda3\\lib\\site-packages (from ipykernel>=6.5.0->jupyterlab<4.3,>=4.2.0->notebook) (1.6.7)\n",
      "Requirement already satisfied: ipython>=7.23.1 in c:\\users\\ashis\\anaconda3\\lib\\site-packages (from ipykernel>=6.5.0->jupyterlab<4.3,>=4.2.0->notebook) (8.12.0)\n",
      "Requirement already satisfied: matplotlib-inline>=0.1 in c:\\users\\ashis\\anaconda3\\lib\\site-packages (from ipykernel>=6.5.0->jupyterlab<4.3,>=4.2.0->notebook) (0.1.6)\n",
      "Requirement already satisfied: nest-asyncio in c:\\users\\ashis\\anaconda3\\lib\\site-packages (from ipykernel>=6.5.0->jupyterlab<4.3,>=4.2.0->notebook) (1.5.6)\n",
      "Requirement already satisfied: psutil in c:\\users\\ashis\\anaconda3\\lib\\site-packages (from ipykernel>=6.5.0->jupyterlab<4.3,>=4.2.0->notebook) (5.9.0)\n",
      "Requirement already satisfied: MarkupSafe>=2.0 in c:\\users\\ashis\\anaconda3\\lib\\site-packages (from jinja2>=3.0.3->jupyter-server<3,>=2.4.0->notebook) (2.1.1)\n",
      "Requirement already satisfied: attrs>=22.2.0 in c:\\users\\ashis\\anaconda3\\lib\\site-packages (from jsonschema>=4.18.0->jupyterlab-server<3,>=2.27.1->notebook) (23.2.0)\n",
      "Requirement already satisfied: jsonschema-specifications>=2023.03.6 in c:\\users\\ashis\\anaconda3\\lib\\site-packages (from jsonschema>=4.18.0->jupyterlab-server<3,>=2.27.1->notebook) (2023.12.1)\n",
      "Requirement already satisfied: referencing>=0.28.4 in c:\\users\\ashis\\anaconda3\\lib\\site-packages (from jsonschema>=4.18.0->jupyterlab-server<3,>=2.27.1->notebook) (0.35.1)\n",
      "Requirement already satisfied: rpds-py>=0.7.1 in c:\\users\\ashis\\anaconda3\\lib\\site-packages (from jsonschema>=4.18.0->jupyterlab-server<3,>=2.27.1->notebook) (0.18.1)\n",
      "Requirement already satisfied: entrypoints in c:\\users\\ashis\\anaconda3\\lib\\site-packages (from jupyter-client>=7.4.4->jupyter-server<3,>=2.4.0->notebook) (0.4)\n",
      "Requirement already satisfied: python-dateutil>=2.8.2 in c:\\users\\ashis\\anaconda3\\lib\\site-packages (from jupyter-client>=7.4.4->jupyter-server<3,>=2.4.0->notebook) (2.8.2)\n",
      "Requirement already satisfied: platformdirs>=2.5 in c:\\users\\ashis\\anaconda3\\lib\\site-packages (from jupyter-core!=5.0.*,>=4.12->jupyter-server<3,>=2.4.0->notebook) (2.5.2)\n",
      "Requirement already satisfied: pywin32>=300 in c:\\users\\ashis\\anaconda3\\lib\\site-packages (from jupyter-core!=5.0.*,>=4.12->jupyter-server<3,>=2.4.0->notebook) (305.1)\n",
      "Requirement already satisfied: python-json-logger>=2.0.4 in c:\\users\\ashis\\anaconda3\\lib\\site-packages (from jupyter-events>=0.9.0->jupyter-server<3,>=2.4.0->notebook) (2.0.7)\n",
      "Requirement already satisfied: pyyaml>=5.3 in c:\\users\\ashis\\anaconda3\\lib\\site-packages (from jupyter-events>=0.9.0->jupyter-server<3,>=2.4.0->notebook) (6.0)\n",
      "Requirement already satisfied: rfc3339-validator in c:\\users\\ashis\\anaconda3\\lib\\site-packages (from jupyter-events>=0.9.0->jupyter-server<3,>=2.4.0->notebook) (0.1.4)\n",
      "Requirement already satisfied: rfc3986-validator>=0.1.1 in c:\\users\\ashis\\anaconda3\\lib\\site-packages (from jupyter-events>=0.9.0->jupyter-server<3,>=2.4.0->notebook) (0.1.1)\n",
      "Requirement already satisfied: lxml in c:\\users\\ashis\\anaconda3\\lib\\site-packages (from nbconvert>=6.4.4->jupyter-server<3,>=2.4.0->notebook) (4.9.2)\n",
      "Requirement already satisfied: beautifulsoup4 in c:\\users\\ashis\\anaconda3\\lib\\site-packages (from nbconvert>=6.4.4->jupyter-server<3,>=2.4.0->notebook) (4.12.2)\n",
      "Requirement already satisfied: bleach in c:\\users\\ashis\\anaconda3\\lib\\site-packages (from nbconvert>=6.4.4->jupyter-server<3,>=2.4.0->notebook) (4.1.0)\n",
      "Requirement already satisfied: defusedxml in c:\\users\\ashis\\anaconda3\\lib\\site-packages (from nbconvert>=6.4.4->jupyter-server<3,>=2.4.0->notebook) (0.7.1)\n",
      "Requirement already satisfied: jupyterlab-pygments in c:\\users\\ashis\\anaconda3\\lib\\site-packages (from nbconvert>=6.4.4->jupyter-server<3,>=2.4.0->notebook) (0.1.2)\n",
      "Requirement already satisfied: mistune<2,>=0.8.1 in c:\\users\\ashis\\anaconda3\\lib\\site-packages (from nbconvert>=6.4.4->jupyter-server<3,>=2.4.0->notebook) (0.8.4)\n",
      "Requirement already satisfied: nbclient>=0.5.0 in c:\\users\\ashis\\anaconda3\\lib\\site-packages (from nbconvert>=6.4.4->jupyter-server<3,>=2.4.0->notebook) (0.5.13)\n",
      "Requirement already satisfied: pandocfilters>=1.4.1 in c:\\users\\ashis\\anaconda3\\lib\\site-packages (from nbconvert>=6.4.4->jupyter-server<3,>=2.4.0->notebook) (1.5.0)\n",
      "Requirement already satisfied: pygments>=2.4.1 in c:\\users\\ashis\\anaconda3\\lib\\site-packages (from nbconvert>=6.4.4->jupyter-server<3,>=2.4.0->notebook) (2.15.1)\n",
      "Requirement already satisfied: tinycss2 in c:\\users\\ashis\\anaconda3\\lib\\site-packages (from nbconvert>=6.4.4->jupyter-server<3,>=2.4.0->notebook) (1.2.1)\n",
      "Requirement already satisfied: fastjsonschema in c:\\users\\ashis\\anaconda3\\lib\\site-packages (from nbformat>=5.3.0->jupyter-server<3,>=2.4.0->notebook) (2.16.2)\n",
      "Requirement already satisfied: charset-normalizer<4,>=2 in c:\\users\\ashis\\anaconda3\\lib\\site-packages (from requests>=2.31->jupyterlab-server<3,>=2.27.1->notebook) (2.0.4)\n",
      "Requirement already satisfied: urllib3<3,>=1.21.1 in c:\\users\\ashis\\anaconda3\\lib\\site-packages (from requests>=2.31->jupyterlab-server<3,>=2.27.1->notebook) (1.26.16)\n",
      "Requirement already satisfied: backcall in c:\\users\\ashis\\anaconda3\\lib\\site-packages (from ipython>=7.23.1->ipykernel>=6.5.0->jupyterlab<4.3,>=4.2.0->notebook) (0.2.0)\n",
      "Requirement already satisfied: decorator in c:\\users\\ashis\\anaconda3\\lib\\site-packages (from ipython>=7.23.1->ipykernel>=6.5.0->jupyterlab<4.3,>=4.2.0->notebook) (5.1.1)\n",
      "Requirement already satisfied: jedi>=0.16 in c:\\users\\ashis\\anaconda3\\lib\\site-packages (from ipython>=7.23.1->ipykernel>=6.5.0->jupyterlab<4.3,>=4.2.0->notebook) (0.18.1)\n",
      "Requirement already satisfied: pickleshare in c:\\users\\ashis\\anaconda3\\lib\\site-packages (from ipython>=7.23.1->ipykernel>=6.5.0->jupyterlab<4.3,>=4.2.0->notebook) (0.7.5)\n",
      "Requirement already satisfied: prompt-toolkit!=3.0.37,<3.1.0,>=3.0.30 in c:\\users\\ashis\\anaconda3\\lib\\site-packages (from ipython>=7.23.1->ipykernel>=6.5.0->jupyterlab<4.3,>=4.2.0->notebook) (3.0.36)\n",
      "Requirement already satisfied: stack-data in c:\\users\\ashis\\anaconda3\\lib\\site-packages (from ipython>=7.23.1->ipykernel>=6.5.0->jupyterlab<4.3,>=4.2.0->notebook) (0.2.0)\n",
      "Requirement already satisfied: colorama in c:\\users\\ashis\\anaconda3\\lib\\site-packages (from ipython>=7.23.1->ipykernel>=6.5.0->jupyterlab<4.3,>=4.2.0->notebook) (0.4.6)\n",
      "Requirement already satisfied: fqdn in c:\\users\\ashis\\anaconda3\\lib\\site-packages (from jsonschema>=4.18.0->jupyterlab-server<3,>=2.27.1->notebook) (1.5.1)\n",
      "Requirement already satisfied: isoduration in c:\\users\\ashis\\anaconda3\\lib\\site-packages (from jsonschema>=4.18.0->jupyterlab-server<3,>=2.27.1->notebook) (20.11.0)\n",
      "Requirement already satisfied: jsonpointer>1.13 in c:\\users\\ashis\\anaconda3\\lib\\site-packages (from jsonschema>=4.18.0->jupyterlab-server<3,>=2.27.1->notebook) (2.1)\n",
      "Requirement already satisfied: uri-template in c:\\users\\ashis\\anaconda3\\lib\\site-packages (from jsonschema>=4.18.0->jupyterlab-server<3,>=2.27.1->notebook) (1.3.0)\n",
      "Requirement already satisfied: webcolors>=1.11 in c:\\users\\ashis\\anaconda3\\lib\\site-packages (from jsonschema>=4.18.0->jupyterlab-server<3,>=2.27.1->notebook) (24.6.0)\n",
      "Requirement already satisfied: six>=1.5 in c:\\users\\ashis\\anaconda3\\lib\\site-packages (from python-dateutil>=2.8.2->jupyter-client>=7.4.4->jupyter-server<3,>=2.4.0->notebook) (1.16.0)\n",
      "Requirement already satisfied: cffi>=1.0.1 in c:\\users\\ashis\\anaconda3\\lib\\site-packages (from argon2-cffi-bindings->argon2-cffi>=21.1->jupyter-server<3,>=2.4.0->notebook) (1.15.1)\n",
      "Requirement already satisfied: soupsieve>1.2 in c:\\users\\ashis\\anaconda3\\lib\\site-packages (from beautifulsoup4->nbconvert>=6.4.4->jupyter-server<3,>=2.4.0->notebook) (2.4)\n",
      "Requirement already satisfied: webencodings in c:\\users\\ashis\\anaconda3\\lib\\site-packages (from bleach->nbconvert>=6.4.4->jupyter-server<3,>=2.4.0->notebook) (0.5.1)\n",
      "Requirement already satisfied: pycparser in c:\\users\\ashis\\anaconda3\\lib\\site-packages (from cffi>=1.0.1->argon2-cffi-bindings->argon2-cffi>=21.1->jupyter-server<3,>=2.4.0->notebook) (2.21)\n",
      "Requirement already satisfied: parso<0.9.0,>=0.8.0 in c:\\users\\ashis\\anaconda3\\lib\\site-packages (from jedi>=0.16->ipython>=7.23.1->ipykernel>=6.5.0->jupyterlab<4.3,>=4.2.0->notebook) (0.8.3)\n",
      "Requirement already satisfied: wcwidth in c:\\users\\ashis\\anaconda3\\lib\\site-packages (from prompt-toolkit!=3.0.37,<3.1.0,>=3.0.30->ipython>=7.23.1->ipykernel>=6.5.0->jupyterlab<4.3,>=4.2.0->notebook) (0.2.5)\n",
      "Requirement already satisfied: arrow>=0.15.0 in c:\\users\\ashis\\anaconda3\\lib\\site-packages (from isoduration->jsonschema>=4.18.0->jupyterlab-server<3,>=2.27.1->notebook) (1.2.3)\n",
      "Requirement already satisfied: executing in c:\\users\\ashis\\anaconda3\\lib\\site-packages (from stack-data->ipython>=7.23.1->ipykernel>=6.5.0->jupyterlab<4.3,>=4.2.0->notebook) (0.8.3)\n",
      "Requirement already satisfied: asttokens in c:\\users\\ashis\\anaconda3\\lib\\site-packages (from stack-data->ipython>=7.23.1->ipykernel>=6.5.0->jupyterlab<4.3,>=4.2.0->notebook) (2.0.5)\n",
      "Requirement already satisfied: pure-eval in c:\\users\\ashis\\anaconda3\\lib\\site-packages (from stack-data->ipython>=7.23.1->ipykernel>=6.5.0->jupyterlab<4.3,>=4.2.0->notebook) (0.2.2)\n"
     ]
    },
    {
     "name": "stderr",
     "output_type": "stream",
     "text": [
      "WARNING: There was an error checking the latest version of pip.\n"
     ]
    }
   ],
   "source": [
    "!pip install notebook"
   ]
  },
  {
   "cell_type": "code",
   "execution_count": null,
   "id": "c7ffd292-f87f-4b07-80bb-10d661718668",
   "metadata": {},
   "outputs": [],
   "source": []
  }
 ],
 "metadata": {
  "kernelspec": {
   "display_name": "Python 3 (ipykernel)",
   "language": "python",
   "name": "python3"
  },
  "language_info": {
   "codemirror_mode": {
    "name": "ipython",
    "version": 3
   },
   "file_extension": ".py",
   "mimetype": "text/x-python",
   "name": "python",
   "nbconvert_exporter": "python",
   "pygments_lexer": "ipython3",
   "version": "3.11.4"
  }
 },
 "nbformat": 4,
 "nbformat_minor": 5
}
