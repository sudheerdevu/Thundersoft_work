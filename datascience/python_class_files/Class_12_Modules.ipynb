{
 "cells": [
  {
   "cell_type": "markdown",
   "id": "79b888f9-bea9-462b-a658-a00b8b21bbf4",
   "metadata": {},
   "source": [
    "# Modules"
   ]
  },
  {
   "cell_type": "code",
   "execution_count": 6,
   "id": "2d4607be-f567-4dd9-8d41-a5ce0a423f72",
   "metadata": {},
   "outputs": [],
   "source": [
    "# - A function can be used in only the program which it has been defined in.\n",
    "# - We can not use it outside the program which it has been defined in.\n",
    "# - To overcome this problem module is used."
   ]
  },
  {
   "cell_type": "code",
   "execution_count": 8,
   "id": "93f0f069-cadd-427f-a7bd-1b58c670d3f9",
   "metadata": {},
   "outputs": [],
   "source": [
    "# - A module is a collection of functions.\n",
    "# - We can use any function of a module in any program.\n",
    "# - To use a mnodule we have to import it first."
   ]
  },
  {
   "cell_type": "markdown",
   "id": "e7e73894-9b65-4300-bbf9-d5cba2e8757a",
   "metadata": {},
   "source": [
    "# Types of Module"
   ]
  },
  {
   "cell_type": "code",
   "execution_count": 13,
   "id": "687600d6-6d05-436a-9ac3-bdefbe2c5093",
   "metadata": {},
   "outputs": [],
   "source": [
    "# - 1- Built-in modules\n",
    "# - 2- User defined modules"
   ]
  },
  {
   "cell_type": "markdown",
   "id": "957579b1-650b-4ce6-aaf8-95cb46d65f60",
   "metadata": {},
   "source": [
    "# 1- Built-in modules"
   ]
  },
  {
   "cell_type": "code",
   "execution_count": 16,
   "id": "365d04e7-eac4-4b9b-942d-be5abded68c9",
   "metadata": {},
   "outputs": [],
   "source": [
    "# - The modules that are predefined in Python are known as built-in modules.\n",
    "# - Examples- math, os, sys, keyword, functools, datetime etc."
   ]
  },
  {
   "cell_type": "markdown",
   "id": "10df3317-affd-4cc0-a4f2-a74012d4112a",
   "metadata": {},
   "source": [
    "## Library"
   ]
  },
  {
   "cell_type": "code",
   "execution_count": 21,
   "id": "38da7699-0f69-4342-abc1-edb04a5543a4",
   "metadata": {},
   "outputs": [],
   "source": [
    "# - A library is a collection of modules, classes and functions.\n",
    "# - Examples- NumPy, SciPy, Spacy, Pandas, Matplotlib, Seaborn, Scikit Learn etc."
   ]
  },
  {
   "cell_type": "markdown",
   "id": "83b9f86d-9167-44c8-8569-3f405097e7a7",
   "metadata": {},
   "source": [
    "# How to import a module"
   ]
  },
  {
   "cell_type": "markdown",
   "id": "933df73e-e62e-4bd8-bca2-67061d1741f7",
   "metadata": {},
   "source": [
    "### Case_1"
   ]
  },
  {
   "cell_type": "code",
   "execution_count": 5,
   "id": "9c5079c3-e569-4f71-a675-a611a7594223",
   "metadata": {},
   "outputs": [],
   "source": [
    "# import module_name\n",
    "\n",
    "# module_name.function_name()"
   ]
  },
  {
   "cell_type": "code",
   "execution_count": 1,
   "id": "d844a2a7-9a04-4203-8d30-4258c936944a",
   "metadata": {},
   "outputs": [],
   "source": [
    "import math"
   ]
  },
  {
   "cell_type": "code",
   "execution_count": 3,
   "id": "951d3b40-5530-4ae9-9469-7e3fef716cf4",
   "metadata": {},
   "outputs": [
    {
     "name": "stdout",
     "output_type": "stream",
     "text": [
      "['In', 'Out', '_', '_2', '__', '___', '__builtin__', '__builtins__', '__doc__', '__loader__', '__name__', '__package__', '__pandas', '__spec__', '_dh', '_i', '_i1', '_i2', '_i3', '_ih', '_ii', '_iii', '_oh', 'dataframe_columns', 'dataframe_hash', 'dtypes_str', 'exit', 'get_dataframes', 'get_ipython', 'getpass', 'hashlib', 'import_pandas_safely', 'is_data_frame', 'json', 'math', 'open', 'quit']\n"
     ]
    }
   ],
   "source": [
    "print(dir())"
   ]
  },
  {
   "cell_type": "code",
   "execution_count": 9,
   "id": "9a0b1dbb-aa6c-4711-93ed-f24aaaf4cefe",
   "metadata": {},
   "outputs": [
    {
     "data": {
      "text/plain": [
       "4.0"
      ]
     },
     "execution_count": 9,
     "metadata": {},
     "output_type": "execute_result"
    }
   ],
   "source": [
    "math.sqrt(16)"
   ]
  },
  {
   "cell_type": "code",
   "execution_count": 11,
   "id": "06cae94f-4dc3-446e-99c7-3eccb664cc2a",
   "metadata": {},
   "outputs": [
    {
     "name": "stdout",
     "output_type": "stream",
     "text": [
      "['__doc__', '__loader__', '__name__', '__package__', '__spec__', 'acos', 'acosh', 'asin', 'asinh', 'atan', 'atan2', 'atanh', 'cbrt', 'ceil', 'comb', 'copysign', 'cos', 'cosh', 'degrees', 'dist', 'e', 'erf', 'erfc', 'exp', 'exp2', 'expm1', 'fabs', 'factorial', 'floor', 'fmod', 'frexp', 'fsum', 'gamma', 'gcd', 'hypot', 'inf', 'isclose', 'isfinite', 'isinf', 'isnan', 'isqrt', 'lcm', 'ldexp', 'lgamma', 'log', 'log10', 'log1p', 'log2', 'modf', 'nan', 'nextafter', 'perm', 'pi', 'pow', 'prod', 'radians', 'remainder', 'sin', 'sinh', 'sqrt', 'tan', 'tanh', 'tau', 'trunc', 'ulp']\n"
     ]
    }
   ],
   "source": [
    "print(dir(math))"
   ]
  },
  {
   "cell_type": "code",
   "execution_count": 13,
   "id": "c0834882-ce6f-4a34-bedd-a03e13062754",
   "metadata": {},
   "outputs": [],
   "source": [
    "import sys"
   ]
  },
  {
   "cell_type": "code",
   "execution_count": 15,
   "id": "c7a0196e-ff98-4ec0-bd87-cc4e9134d7fb",
   "metadata": {},
   "outputs": [],
   "source": [
    "a=10"
   ]
  },
  {
   "cell_type": "code",
   "execution_count": 17,
   "id": "065d89d9-dbd9-4749-b622-ac4acb065b6b",
   "metadata": {},
   "outputs": [
    {
     "data": {
      "text/plain": [
       "28"
      ]
     },
     "execution_count": 17,
     "metadata": {},
     "output_type": "execute_result"
    }
   ],
   "source": [
    "sys.getsizeof(a)"
   ]
  },
  {
   "cell_type": "code",
   "execution_count": 19,
   "id": "cdb70938-70de-4328-b754-b0bff6d8e76a",
   "metadata": {},
   "outputs": [
    {
     "name": "stdout",
     "output_type": "stream",
     "text": [
      "['__breakpointhook__', '__displayhook__', '__doc__', '__excepthook__', '__interactivehook__', '__loader__', '__name__', '__package__', '__spec__', '__stderr__', '__stdin__', '__stdout__', '__unraisablehook__', '_base_executable', '_clear_type_cache', '_current_exceptions', '_current_frames', '_debugmallocstats', '_enablelegacywindowsfsencoding', '_framework', '_getframe', '_getquickenedcount', '_git', '_home', '_stdlib_dir', '_vpath', '_xoptions', 'addaudithook', 'api_version', 'argv', 'audit', 'base_exec_prefix', 'base_prefix', 'breakpointhook', 'builtin_module_names', 'byteorder', 'call_tracing', 'copyright', 'displayhook', 'dllhandle', 'dont_write_bytecode', 'exc_info', 'excepthook', 'exception', 'exec_prefix', 'executable', 'exit', 'flags', 'float_info', 'float_repr_style', 'get_asyncgen_hooks', 'get_coroutine_origin_tracking_depth', 'get_int_max_str_digits', 'getallocatedblocks', 'getdefaultencoding', 'getfilesystemencodeerrors', 'getfilesystemencoding', 'getprofile', 'getrecursionlimit', 'getrefcount', 'getsizeof', 'getswitchinterval', 'gettrace', 'getwindowsversion', 'hash_info', 'hexversion', 'implementation', 'int_info', 'intern', 'is_finalizing', 'last_traceback', 'last_type', 'last_value', 'maxsize', 'maxunicode', 'meta_path', 'modules', 'orig_argv', 'path', 'path_hooks', 'path_importer_cache', 'platform', 'platlibdir', 'prefix', 'ps1', 'ps2', 'ps3', 'pycache_prefix', 'set_asyncgen_hooks', 'set_coroutine_origin_tracking_depth', 'set_int_max_str_digits', 'setprofile', 'setrecursionlimit', 'setswitchinterval', 'settrace', 'stderr', 'stdin', 'stdlib_module_names', 'stdout', 'thread_info', 'unraisablehook', 'version', 'version_info', 'warnoptions', 'winver']\n"
     ]
    }
   ],
   "source": [
    "print(dir(sys))"
   ]
  },
  {
   "cell_type": "markdown",
   "id": "3fd3ec6a-9bc2-45e7-8a00-e631e07e693d",
   "metadata": {},
   "source": [
    "### Case_2"
   ]
  },
  {
   "cell_type": "code",
   "execution_count": 22,
   "id": "f37c8f61-642e-460a-9be6-dd0ba1a307ab",
   "metadata": {},
   "outputs": [],
   "source": [
    "# - We cab import a specific function or a set of functions from a module. "
   ]
  },
  {
   "cell_type": "code",
   "execution_count": 26,
   "id": "346da4fd-9037-4769-80fa-92c306925668",
   "metadata": {},
   "outputs": [],
   "source": [
    "# from moduke_name import function_name, function_name.....functiona_name"
   ]
  },
  {
   "cell_type": "code",
   "execution_count": 1,
   "id": "cfbaf572-564c-439e-a161-b797a6b5425d",
   "metadata": {},
   "outputs": [
    {
     "name": "stdout",
     "output_type": "stream",
     "text": [
      "['In', 'Out', '_', '__', '___', '__builtin__', '__builtins__', '__doc__', '__loader__', '__name__', '__package__', '__spec__', '_dh', '_i', '_i1', '_ih', '_ii', '_iii', '_oh', 'exit', 'get_ipython', 'open', 'quit']\n"
     ]
    }
   ],
   "source": [
    "print(dir())"
   ]
  },
  {
   "cell_type": "code",
   "execution_count": 3,
   "id": "c977e3b2-c934-49ff-a5a7-39f189cf2e77",
   "metadata": {},
   "outputs": [],
   "source": [
    "import math"
   ]
  },
  {
   "cell_type": "code",
   "execution_count": 5,
   "id": "e1da1811-d2f8-453c-8fd1-6b2c9f0f2eef",
   "metadata": {},
   "outputs": [
    {
     "name": "stdout",
     "output_type": "stream",
     "text": [
      "['In', 'Out', '_', '_2', '_4', '__', '___', '__builtin__', '__builtins__', '__doc__', '__loader__', '__name__', '__package__', '__pandas', '__spec__', '_dh', '_i', '_i1', '_i2', '_i3', '_i4', '_i5', '_ih', '_ii', '_iii', '_oh', 'dataframe_columns', 'dataframe_hash', 'dtypes_str', 'exit', 'get_dataframes', 'get_ipython', 'getpass', 'hashlib', 'import_pandas_safely', 'is_data_frame', 'json', 'math', 'open', 'quit']\n"
     ]
    }
   ],
   "source": [
    "print(dir())"
   ]
  },
  {
   "cell_type": "code",
   "execution_count": 7,
   "id": "63fc6830-bdaf-4ac0-bc9d-fb283316dce4",
   "metadata": {},
   "outputs": [
    {
     "data": {
      "text/plain": [
       "120"
      ]
     },
     "execution_count": 7,
     "metadata": {},
     "output_type": "execute_result"
    }
   ],
   "source": [
    "math.factorial(5)"
   ]
  },
  {
   "cell_type": "code",
   "execution_count": 1,
   "id": "84502f21-d6ab-414d-8649-7b37d512aae4",
   "metadata": {},
   "outputs": [],
   "source": [
    "from math import factorial"
   ]
  },
  {
   "cell_type": "code",
   "execution_count": 3,
   "id": "f71b158f-782d-4746-9640-a6fb8e874785",
   "metadata": {},
   "outputs": [
    {
     "name": "stdout",
     "output_type": "stream",
     "text": [
      "['In', 'Out', '_', '_2', '__', '___', '__builtin__', '__builtins__', '__doc__', '__loader__', '__name__', '__package__', '__pandas', '__spec__', '_dh', '_i', '_i1', '_i2', '_i3', '_ih', '_ii', '_iii', '_oh', 'dataframe_columns', 'dataframe_hash', 'dtypes_str', 'exit', 'factorial', 'get_dataframes', 'get_ipython', 'getpass', 'hashlib', 'import_pandas_safely', 'is_data_frame', 'json', 'open', 'quit']\n"
     ]
    }
   ],
   "source": [
    "print(dir())"
   ]
  },
  {
   "cell_type": "code",
   "execution_count": 7,
   "id": "5ac375fa-03dd-47fa-ba8a-60ea810082d6",
   "metadata": {},
   "outputs": [
    {
     "data": {
      "text/plain": [
       "120"
      ]
     },
     "execution_count": 7,
     "metadata": {},
     "output_type": "execute_result"
    }
   ],
   "source": [
    "factorial(5)"
   ]
  },
  {
   "cell_type": "code",
   "execution_count": null,
   "id": "09bde174-71c1-4738-83ef-2cf0c0947b38",
   "metadata": {},
   "outputs": [],
   "source": [
    "# Kernel is restarted"
   ]
  },
  {
   "cell_type": "code",
   "execution_count": 3,
   "id": "74f81005-a855-4699-b286-a3196b90505f",
   "metadata": {},
   "outputs": [],
   "source": [
    "from math import factorial, sqrt, pow, ceil, floor"
   ]
  },
  {
   "cell_type": "code",
   "execution_count": 5,
   "id": "85209f17-6a4f-401a-a0bb-69215b3e87c2",
   "metadata": {},
   "outputs": [
    {
     "name": "stdout",
     "output_type": "stream",
     "text": [
      "['In', 'Out', '_', '_2', '_4', '__', '___', '__builtin__', '__builtins__', '__doc__', '__loader__', '__name__', '__package__', '__pandas', '__spec__', '_dh', '_i', '_i1', '_i2', '_i3', '_i4', '_i5', '_ih', '_ii', '_iii', '_oh', 'ceil', 'dataframe_columns', 'dataframe_hash', 'dtypes_str', 'exit', 'factorial', 'floor', 'get_dataframes', 'get_ipython', 'getpass', 'hashlib', 'import_pandas_safely', 'is_data_frame', 'json', 'open', 'pow', 'quit', 'sqrt']\n"
     ]
    }
   ],
   "source": [
    "print(dir())"
   ]
  },
  {
   "cell_type": "code",
   "execution_count": 9,
   "id": "70ee270e-42bc-4757-b6bf-82b5dd742592",
   "metadata": {},
   "outputs": [
    {
     "data": {
      "text/plain": [
       "5.0"
      ]
     },
     "execution_count": 9,
     "metadata": {},
     "output_type": "execute_result"
    }
   ],
   "source": [
    "sqrt(25)"
   ]
  },
  {
   "cell_type": "code",
   "execution_count": 11,
   "id": "f83519b8-4356-4c39-a668-9a8f3059086f",
   "metadata": {},
   "outputs": [
    {
     "data": {
      "text/plain": [
       "32.0"
      ]
     },
     "execution_count": 11,
     "metadata": {},
     "output_type": "execute_result"
    }
   ],
   "source": [
    "pow(2,5)"
   ]
  },
  {
   "cell_type": "code",
   "execution_count": 13,
   "id": "e6d47c53-c4d8-4825-a312-1116aac4e90e",
   "metadata": {},
   "outputs": [
    {
     "data": {
      "text/plain": [
       "2"
      ]
     },
     "execution_count": 13,
     "metadata": {},
     "output_type": "execute_result"
    }
   ],
   "source": [
    "floor(2.8)"
   ]
  },
  {
   "cell_type": "code",
   "execution_count": 15,
   "id": "bc633a00-f1bd-41fe-8e16-fef52c1f8064",
   "metadata": {},
   "outputs": [
    {
     "data": {
      "text/plain": [
       "4"
      ]
     },
     "execution_count": 15,
     "metadata": {},
     "output_type": "execute_result"
    }
   ],
   "source": [
    "ceil(3.7)"
   ]
  },
  {
   "cell_type": "markdown",
   "id": "bd1c7004-e92f-46fa-b172-6a833b64c958",
   "metadata": {},
   "source": [
    "### Case_3"
   ]
  },
  {
   "cell_type": "code",
   "execution_count": 18,
   "id": "6b5a8751-ca75-45e0-b04e-d6a4cfbf2b83",
   "metadata": {},
   "outputs": [],
   "source": [
    "# - We can import all the functions from a module in the memeory namesapce."
   ]
  },
  {
   "cell_type": "code",
   "execution_count": 20,
   "id": "d01dc446-e567-4cbd-ba62-b0562d017ec9",
   "metadata": {},
   "outputs": [],
   "source": [
    "# from module_name import *"
   ]
  },
  {
   "cell_type": "code",
   "execution_count": 22,
   "id": "0ba58ec3-764f-42a2-9a38-92aab4196f49",
   "metadata": {},
   "outputs": [],
   "source": [
    "# Kernel is restarted"
   ]
  },
  {
   "cell_type": "code",
   "execution_count": 1,
   "id": "1133ff46-2ab7-4f63-913c-ce315851db5c",
   "metadata": {},
   "outputs": [
    {
     "name": "stdout",
     "output_type": "stream",
     "text": [
      "['In', 'Out', '_', '__', '___', '__builtin__', '__builtins__', '__doc__', '__loader__', '__name__', '__package__', '__spec__', '_dh', '_i', '_i1', '_ih', '_ii', '_iii', '_oh', 'exit', 'get_ipython', 'open', 'quit']\n"
     ]
    }
   ],
   "source": [
    "print(dir())"
   ]
  },
  {
   "cell_type": "code",
   "execution_count": 3,
   "id": "e8fea99d-9ccd-472d-8d02-eb407214515c",
   "metadata": {},
   "outputs": [],
   "source": [
    "from math import *"
   ]
  },
  {
   "cell_type": "code",
   "execution_count": 5,
   "id": "f99c492d-d227-4df3-8bb6-7ba7ad506529",
   "metadata": {},
   "outputs": [
    {
     "name": "stdout",
     "output_type": "stream",
     "text": [
      "['In', 'Out', '_', '_2', '_4', '__', '___', '__builtin__', '__builtins__', '__doc__', '__loader__', '__name__', '__package__', '__pandas', '__spec__', '_dh', '_i', '_i1', '_i2', '_i3', '_i4', '_i5', '_ih', '_ii', '_iii', '_oh', 'acos', 'acosh', 'asin', 'asinh', 'atan', 'atan2', 'atanh', 'cbrt', 'ceil', 'comb', 'copysign', 'cos', 'cosh', 'dataframe_columns', 'dataframe_hash', 'degrees', 'dist', 'dtypes_str', 'e', 'erf', 'erfc', 'exit', 'exp', 'exp2', 'expm1', 'fabs', 'factorial', 'floor', 'fmod', 'frexp', 'fsum', 'gamma', 'gcd', 'get_dataframes', 'get_ipython', 'getpass', 'hashlib', 'hypot', 'import_pandas_safely', 'inf', 'is_data_frame', 'isclose', 'isfinite', 'isinf', 'isnan', 'isqrt', 'json', 'lcm', 'ldexp', 'lgamma', 'log', 'log10', 'log1p', 'log2', 'modf', 'nan', 'nextafter', 'open', 'perm', 'pi', 'pow', 'prod', 'quit', 'radians', 'remainder', 'sin', 'sinh', 'sqrt', 'tan', 'tanh', 'tau', 'trunc', 'ulp']\n"
     ]
    }
   ],
   "source": [
    "print(dir())"
   ]
  },
  {
   "cell_type": "code",
   "execution_count": 7,
   "id": "96d46c8f-5503-46f1-92e2-78c2356b2787",
   "metadata": {},
   "outputs": [
    {
     "data": {
      "text/plain": [
       "720"
      ]
     },
     "execution_count": 7,
     "metadata": {},
     "output_type": "execute_result"
    }
   ],
   "source": [
    "factorial(6)"
   ]
  },
  {
   "cell_type": "code",
   "execution_count": 9,
   "id": "b040bcf8-b90a-435c-8093-2171555d59ff",
   "metadata": {},
   "outputs": [
    {
     "data": {
      "text/plain": [
       "2.302585092994046"
      ]
     },
     "execution_count": 9,
     "metadata": {},
     "output_type": "execute_result"
    }
   ],
   "source": [
    "log(10)"
   ]
  },
  {
   "cell_type": "code",
   "execution_count": 1,
   "id": "6008d98e-7cc9-4244-9fc0-f3f25d3a0f57",
   "metadata": {},
   "outputs": [],
   "source": [
    "from pandas import *\n",
    "from numpy import *\n",
    "from math import *\n",
    "from sys import *\n",
    "from os import *"
   ]
  },
  {
   "cell_type": "code",
   "execution_count": 3,
   "id": "e2a78799-3d5f-4fdd-a1bd-26e7c9086a0f",
   "metadata": {},
   "outputs": [
    {
     "name": "stdout",
     "output_type": "stream",
     "text": [
      "['ALLOW_THREADS', 'ArrowDtype', 'AxisError', 'BUFSIZE', 'BooleanDtype', 'CLIP', 'Categorical', 'CategoricalDtype', 'CategoricalIndex', 'ComplexWarning', 'DataFrame', 'DataSource', 'DateOffset', 'DatetimeIndex', 'DatetimeTZDtype', 'DirEntry', 'ERR_CALL', 'ERR_DEFAULT', 'ERR_IGNORE', 'ERR_LOG', 'ERR_PRINT', 'ERR_RAISE', 'ERR_WARN', 'EX_OK', 'ExcelFile', 'ExcelWriter', 'FLOATING_POINT_SUPPORT', 'FPE_DIVIDEBYZERO', 'FPE_INVALID', 'FPE_OVERFLOW', 'FPE_UNDERFLOW', 'F_OK', 'False_', 'Flags', 'Float32Dtype', 'Float64Dtype', 'Grouper', 'HDFStore', 'In', 'Index', 'IndexSlice', 'Inf', 'Infinity', 'Int16Dtype', 'Int32Dtype', 'Int64Dtype', 'Int8Dtype', 'Interval', 'IntervalDtype', 'IntervalIndex', 'MAXDIMS', 'MAY_SHARE_BOUNDS', 'MAY_SHARE_EXACT', 'ModuleDeprecationWarning', 'MultiIndex', 'NA', 'NAN', 'NINF', 'NZERO', 'NaN', 'NaT', 'NamedAgg', 'O_APPEND', 'O_BINARY', 'O_CREAT', 'O_EXCL', 'O_NOINHERIT', 'O_RANDOM', 'O_RDONLY', 'O_RDWR', 'O_SEQUENTIAL', 'O_SHORT_LIVED', 'O_TEMPORARY', 'O_TEXT', 'O_TRUNC', 'O_WRONLY', 'Out', 'PINF', 'PZERO', 'P_DETACH', 'P_NOWAIT', 'P_NOWAITO', 'P_OVERLAY', 'P_WAIT', 'Period', 'PeriodDtype', 'PeriodIndex', 'RAISE', 'R_OK', 'RangeIndex', 'RankWarning', 'SEEK_CUR', 'SEEK_END', 'SEEK_SET', 'SHIFT_DIVIDEBYZERO', 'SHIFT_INVALID', 'SHIFT_OVERFLOW', 'SHIFT_UNDERFLOW', 'ScalarType', 'Series', 'SparseDtype', 'StringDtype', 'TMP_MAX', 'Timedelta', 'TimedeltaIndex', 'Timestamp', 'TooHardError', 'True_', 'UFUNC_BUFSIZE_DEFAULT', 'UFUNC_PYVALS_NAME', 'UInt16Dtype', 'UInt32Dtype', 'UInt64Dtype', 'UInt8Dtype', 'VisibleDeprecationWarning', 'WRAP', 'W_OK', 'X_OK', '_', '_UFUNC_API', '__', '___', '__builtin__', '__builtins__', '__doc__', '__loader__', '__name__', '__package__', '__pandas', '__spec__', '__version__', '_add_newdoc_ufunc', '_dh', '_exit', '_get_promotion_state', '_i', '_i1', '_i2', '_i3', '_ih', '_ii', '_iii', '_no_nep50_warning', '_oh', '_set_promotion_state', 'abort', 'absolute', 'access', 'acos', 'acosh', 'add', 'add_docstring', 'add_newdoc', 'add_newdoc_ufunc', 'addaudithook', 'all', 'allclose', 'alltrue', 'altsep', 'amax', 'amin', 'angle', 'any', 'api', 'api_version', 'append', 'apply_along_axis', 'apply_over_axes', 'arange', 'arccos', 'arccosh', 'arcsin', 'arcsinh', 'arctan', 'arctan2', 'arctanh', 'argmax', 'argmin', 'argpartition', 'argsort', 'argv', 'argwhere', 'around', 'array', 'array2string', 'array_equal', 'array_equiv', 'array_repr', 'array_split', 'array_str', 'arrays', 'asanyarray', 'asarray', 'asarray_chkfinite', 'ascontiguousarray', 'asfarray', 'asfortranarray', 'asin', 'asinh', 'asmatrix', 'atan', 'atan2', 'atanh', 'atleast_1d', 'atleast_2d', 'atleast_3d', 'audit', 'average', 'bartlett', 'base_exec_prefix', 'base_prefix', 'base_repr', 'bdate_range', 'binary_repr', 'bincount', 'bitwise_and', 'bitwise_not', 'bitwise_or', 'bitwise_xor', 'blackman', 'block', 'bmat', 'bool_', 'breakpointhook', 'broadcast', 'broadcast_arrays', 'broadcast_shapes', 'broadcast_to', 'builtin_module_names', 'busday_count', 'busday_offset', 'busdaycalendar', 'byte', 'byte_bounds', 'byteorder', 'bytes_', 'c_', 'call_tracing', 'can_cast', 'cast', 'cbrt', 'cdouble', 'ceil', 'cfloat', 'char', 'character', 'chararray', 'chdir', 'chmod', 'choose', 'clip', 'clongdouble', 'clongfloat', 'close', 'closerange', 'column_stack', 'comb', 'common_type', 'compare_chararrays', 'complex128', 'complex64', 'complex_', 'complexfloating', 'compress', 'concat', 'concatenate', 'conj', 'conjugate', 'convolve', 'copy', 'copyright', 'copysign', 'copyto', 'corrcoef', 'correlate', 'cos', 'cosh', 'count_nonzero', 'cov', 'cpu_count', 'cross', 'crosstab', 'csingle', 'ctypeslib', 'cumprod', 'cumproduct', 'cumsum', 'curdir', 'cut', 'dataframe_columns', 'dataframe_hash', 'date_range', 'datetime64', 'datetime_as_string', 'datetime_data', 'defpath', 'deg2rad', 'degrees', 'delete', 'deprecate', 'deprecate_with_doc', 'describe_option', 'device_encoding', 'devnull', 'diag', 'diag_indices', 'diag_indices_from', 'diagflat', 'diagonal', 'diff', 'digitize', 'disp', 'displayhook', 'dist', 'divide', 'divmod', 'dllhandle', 'dont_write_bytecode', 'dot', 'double', 'dsplit', 'dstack', 'dtype', 'dtypes_str', 'dup', 'dup2', 'e', 'ediff1d', 'einsum', 'einsum_path', 'emath', 'empty', 'empty_like', 'environ', 'equal', 'erf', 'erfc', 'error', 'errors', 'errstate', 'euler_gamma', 'eval', 'exc_info', 'excepthook', 'exception', 'exec_prefix', 'execl', 'execle', 'execlp', 'execlpe', 'executable', 'execv', 'execve', 'execvp', 'execvpe', 'exit', 'exp', 'exp2', 'expand_dims', 'expm1', 'extract', 'extsep', 'eye', 'fabs', 'factorial', 'factorize', 'fastCopyAndTranspose', 'fdopen', 'fft', 'fill_diagonal', 'find_common_type', 'finfo', 'fix', 'flags', 'flatiter', 'flatnonzero', 'flexible', 'flip', 'fliplr', 'flipud', 'float16', 'float32', 'float64', 'float_', 'float_info', 'float_power', 'float_repr_style', 'floating', 'floor', 'floor_divide', 'fmax', 'fmin', 'fmod', 'format_float_positional', 'format_float_scientific', 'format_parser', 'frexp', 'from_dlpack', 'from_dummies', 'frombuffer', 'fromfile', 'fromfunction', 'fromiter', 'frompyfunc', 'fromregex', 'fromstring', 'fsdecode', 'fsencode', 'fspath', 'fstat', 'fsum', 'fsync', 'ftruncate', 'full', 'full_like', 'gamma', 'gcd', 'generic', 'genfromtxt', 'geomspace', 'get_array_wrap', 'get_asyncgen_hooks', 'get_coroutine_origin_tracking_depth', 'get_dataframes', 'get_dummies', 'get_exec_path', 'get_handle_inheritable', 'get_include', 'get_inheritable', 'get_int_max_str_digits', 'get_ipython', 'get_option', 'get_printoptions', 'get_terminal_size', 'getallocatedblocks', 'getbufsize', 'getcwd', 'getcwdb', 'getdefaultencoding', 'getenv', 'geterr', 'geterrcall', 'geterrobj', 'getfilesystemencodeerrors', 'getfilesystemencoding', 'getlogin', 'getpass', 'getpid', 'getppid', 'getprofile', 'getrecursionlimit', 'getrefcount', 'getsizeof', 'getswitchinterval', 'gettrace', 'getwindowsversion', 'gradient', 'greater', 'greater_equal', 'half', 'hamming', 'hanning', 'hash_info', 'hashlib', 'heaviside', 'hexversion', 'histogram', 'histogram2d', 'histogram_bin_edges', 'histogramdd', 'hsplit', 'hstack', 'hypot', 'i0', 'identity', 'iinfo', 'imag', 'implementation', 'import_pandas_safely', 'in1d', 'index_exp', 'indices', 'inexact', 'inf', 'infer_freq', 'info', 'infty', 'inner', 'insert', 'int16', 'int32', 'int64', 'int8', 'int_', 'int_info', 'intc', 'integer', 'intern', 'interp', 'intersect1d', 'interval_range', 'intp', 'invert', 'io', 'is_busday', 'is_data_frame', 'is_finalizing', 'isatty', 'isclose', 'iscomplex', 'iscomplexobj', 'isfinite', 'isfortran', 'isin', 'isinf', 'isna', 'isnan', 'isnat', 'isneginf', 'isnull', 'isposinf', 'isqrt', 'isreal', 'isrealobj', 'isscalar', 'issctype', 'issubclass_', 'issubdtype', 'issubsctype', 'iterable', 'ix_', 'json', 'json_normalize', 'kaiser', 'kill', 'kron', 'lcm', 'ldexp', 'left_shift', 'less', 'less_equal', 'lexsort', 'lgamma', 'linalg', 'linesep', 'link', 'linspace', 'listdir', 'little_endian', 'load', 'loadtxt', 'log', 'log10', 'log1p', 'log2', 'logaddexp', 'logaddexp2', 'logical_and', 'logical_not', 'logical_or', 'logical_xor', 'logspace', 'longcomplex', 'longdouble', 'longfloat', 'longlong', 'lookfor', 'lreshape', 'lseek', 'lstat', 'ma', 'makedirs', 'mask_indices', 'mat', 'math', 'matmul', 'matrix', 'maximum', 'maximum_sctype', 'maxsize', 'maxunicode', 'may_share_memory', 'mean', 'median', 'melt', 'memmap', 'merge', 'merge_asof', 'merge_ordered', 'meshgrid', 'meta_path', 'mgrid', 'min_scalar_type', 'minimum', 'mintypecode', 'mkdir', 'mod', 'modf', 'modules', 'moveaxis', 'msort', 'multiply', 'name', 'nan', 'nan_to_num', 'nanargmax', 'nanargmin', 'nancumprod', 'nancumsum', 'nanmax', 'nanmean', 'nanmedian', 'nanmin', 'nanpercentile', 'nanprod', 'nanquantile', 'nanstd', 'nansum', 'nanvar', 'nbytes', 'ndarray', 'ndenumerate', 'ndim', 'ndindex', 'nditer', 'negative', 'nested_iters', 'newaxis', 'nextafter', 'nonzero', 'not_equal', 'notna', 'notnull', 'number', 'obj2sctype', 'object_', 'offsets', 'ogrid', 'ones', 'ones_like', 'open', 'option_context', 'options', 'orig_argv', 'outer', 'packbits', 'pad', 'pardir', 'partition', 'path', 'path_hooks', 'path_importer_cache', 'pathsep', 'percentile', 'period_range', 'perm', 'pi', 'piecewise', 'pipe', 'pivot', 'pivot_table', 'place', 'platform', 'platlibdir', 'plotting', 'poly', 'poly1d', 'polyadd', 'polyder', 'polydiv', 'polyfit', 'polyint', 'polymul', 'polysub', 'polyval', 'popen', 'positive', 'pow', 'power', 'prefix', 'printoptions', 'prod', 'product', 'promote_types', 'ps1', 'ps2', 'ps3', 'ptp', 'put', 'put_along_axis', 'putenv', 'putmask', 'pycache_prefix', 'qcut', 'quantile', 'quit', 'r_', 'rad2deg', 'radians', 'random', 'ravel', 'ravel_multi_index', 'read', 'read_clipboard', 'read_csv', 'read_excel', 'read_feather', 'read_fwf', 'read_gbq', 'read_hdf', 'read_html', 'read_json', 'read_orc', 'read_parquet', 'read_pickle', 'read_sas', 'read_spss', 'read_sql', 'read_sql_query', 'read_sql_table', 'read_stata', 'read_table', 'read_xml', 'readlink', 'real', 'real_if_close', 'rec', 'recarray', 'recfromcsv', 'recfromtxt', 'reciprocal', 'record', 'remainder', 'remove', 'removedirs', 'rename', 'renames', 'repeat', 'replace', 'require', 'reset_option', 'reshape', 'resize', 'result_type', 'right_shift', 'rint', 'rmdir', 'roll', 'rollaxis', 'roots', 'rot90', 'round_', 'row_stack', 's_', 'safe_eval', 'save', 'savetxt', 'savez', 'savez_compressed', 'scandir', 'sctype2char', 'sctypeDict', 'sctypes', 'searchsorted', 'select', 'sep', 'set_asyncgen_hooks', 'set_coroutine_origin_tracking_depth', 'set_eng_float_format', 'set_handle_inheritable', 'set_inheritable', 'set_int_max_str_digits', 'set_numeric_ops', 'set_option', 'set_printoptions', 'set_string_function', 'setbufsize', 'setdiff1d', 'seterr', 'seterrcall', 'seterrobj', 'setprofile', 'setrecursionlimit', 'setswitchinterval', 'settrace', 'setxor1d', 'shape', 'shares_memory', 'short', 'show_config', 'show_runtime', 'show_versions', 'sign', 'signbit', 'signedinteger', 'sin', 'sinc', 'single', 'singlecomplex', 'sinh', 'size', 'sometrue', 'sort', 'sort_complex', 'source', 'spacing', 'spawnl', 'spawnle', 'spawnv', 'spawnve', 'split', 'sqrt', 'square', 'squeeze', 'stack', 'startfile', 'stat', 'stat_result', 'statvfs_result', 'std', 'stderr', 'stdin', 'stdlib_module_names', 'stdout', 'str_', 'strerror', 'string_', 'subtract', 'sum', 'supports_bytes_environ', 'swapaxes', 'symlink', 'system', 'take', 'take_along_axis', 'tan', 'tanh', 'tau', 'tensordot', 'terminal_size', 'test', 'testing', 'thread_info', 'tile', 'timedelta64', 'timedelta_range', 'times', 'times_result', 'to_datetime', 'to_numeric', 'to_pickle', 'to_timedelta', 'trace', 'tracemalloc_domain', 'transpose', 'trapz', 'tri', 'tril', 'tril_indices', 'tril_indices_from', 'trim_zeros', 'triu', 'triu_indices', 'triu_indices_from', 'true_divide', 'trunc', 'truncate', 'tseries', 'typecodes', 'typename', 'ubyte', 'ufunc', 'uint', 'uint16', 'uint32', 'uint64', 'uint8', 'uintc', 'uintp', 'ulonglong', 'ulp', 'umask', 'uname_result', 'unicode_', 'union1d', 'unique', 'unlink', 'unpackbits', 'unraisablehook', 'unravel_index', 'unsetenv', 'unsignedinteger', 'unwrap', 'urandom', 'ushort', 'utime', 'value_counts', 'vander', 'var', 'vdot', 'vectorize', 'version', 'version_info', 'void', 'vsplit', 'vstack', 'waitpid', 'waitstatus_to_exitcode', 'walk', 'warnoptions', 'where', 'who', 'wide_to_long', 'winver', 'write', 'zeros', 'zeros_like']\n"
     ]
    }
   ],
   "source": [
    "print(dir())"
   ]
  },
  {
   "cell_type": "markdown",
   "id": "2cb17ed9-5a61-4174-bce8-df277d321dc4",
   "metadata": {},
   "source": [
    "### Case_4\n",
    "- Module aliasing"
   ]
  },
  {
   "cell_type": "code",
   "execution_count": 7,
   "id": "b76f687e-12d5-4e40-9253-1bc80d79583a",
   "metadata": {},
   "outputs": [],
   "source": [
    "# - We generally give some name to a module for the ease of use."
   ]
  },
  {
   "cell_type": "code",
   "execution_count": 9,
   "id": "b2dfce64-b18c-4b75-a024-f7e6ede2537e",
   "metadata": {},
   "outputs": [],
   "source": [
    "# import module_name as given_name"
   ]
  },
  {
   "cell_type": "code",
   "execution_count": 1,
   "id": "cf2ebae2-fe96-47f9-9fab-2ec2811c31c1",
   "metadata": {},
   "outputs": [],
   "source": [
    "# Kernel is restarted"
   ]
  },
  {
   "cell_type": "code",
   "execution_count": 1,
   "id": "00da55f0-276d-4a52-b2c0-0cf523906ef8",
   "metadata": {},
   "outputs": [
    {
     "name": "stdout",
     "output_type": "stream",
     "text": [
      "['In', 'Out', '_', '__', '___', '__builtin__', '__builtins__', '__doc__', '__loader__', '__name__', '__package__', '__spec__', '_dh', '_i', '_i1', '_ih', '_ii', '_iii', '_oh', 'exit', 'get_ipython', 'open', 'quit']\n"
     ]
    }
   ],
   "source": [
    "print(dir())"
   ]
  },
  {
   "cell_type": "code",
   "execution_count": 3,
   "id": "eaeb77d8-f159-4149-a2be-d87fcf793076",
   "metadata": {},
   "outputs": [],
   "source": [
    "import math as mt"
   ]
  },
  {
   "cell_type": "code",
   "execution_count": 5,
   "id": "6f7c4efa-6f11-4015-ae62-e935484b0c97",
   "metadata": {},
   "outputs": [
    {
     "name": "stdout",
     "output_type": "stream",
     "text": [
      "['In', 'Out', '_', '_2', '_4', '__', '___', '__builtin__', '__builtins__', '__doc__', '__loader__', '__name__', '__package__', '__pandas', '__spec__', '_dh', '_i', '_i1', '_i2', '_i3', '_i4', '_i5', '_ih', '_ii', '_iii', '_oh', 'dataframe_columns', 'dataframe_hash', 'dtypes_str', 'exit', 'get_dataframes', 'get_ipython', 'getpass', 'hashlib', 'import_pandas_safely', 'is_data_frame', 'json', 'mt', 'open', 'quit']\n"
     ]
    }
   ],
   "source": [
    "print(dir())"
   ]
  },
  {
   "cell_type": "code",
   "execution_count": 7,
   "id": "475f0dbc-aac0-47cd-9fb2-ea79f9cf37e2",
   "metadata": {},
   "outputs": [
    {
     "data": {
      "text/plain": [
       "11.0"
      ]
     },
     "execution_count": 7,
     "metadata": {},
     "output_type": "execute_result"
    }
   ],
   "source": [
    "mt.sqrt(121)"
   ]
  },
  {
   "cell_type": "code",
   "execution_count": 9,
   "id": "ac23d864-1a4a-4142-af54-9e76803e6c27",
   "metadata": {},
   "outputs": [
    {
     "data": {
      "text/plain": [
       "5040"
      ]
     },
     "execution_count": 9,
     "metadata": {},
     "output_type": "execute_result"
    }
   ],
   "source": [
    "mt.factorial(7)"
   ]
  },
  {
   "cell_type": "code",
   "execution_count": 11,
   "id": "a72013b4-969a-4ec1-a673-60c16813f1b7",
   "metadata": {},
   "outputs": [
    {
     "data": {
      "text/plain": [
       "1024.0"
      ]
     },
     "execution_count": 11,
     "metadata": {},
     "output_type": "execute_result"
    }
   ],
   "source": [
    "mt.pow(4,5)"
   ]
  },
  {
   "cell_type": "code",
   "execution_count": 13,
   "id": "1aa05a78-dec0-49e2-a7ae-baf9bebe0eb7",
   "metadata": {},
   "outputs": [
    {
     "ename": "NameError",
     "evalue": "name 'math' is not defined",
     "output_type": "error",
     "traceback": [
      "\u001b[1;31m---------------------------------------------------------------------------\u001b[0m",
      "\u001b[1;31mNameError\u001b[0m                                 Traceback (most recent call last)",
      "Cell \u001b[1;32mIn[13], line 1\u001b[0m\n\u001b[1;32m----> 1\u001b[0m math\u001b[38;5;241m.\u001b[39msqrt(\u001b[38;5;241m25\u001b[39m)\n",
      "\u001b[1;31mNameError\u001b[0m: name 'math' is not defined"
     ]
    }
   ],
   "source": [
    "math.sqrt(25)"
   ]
  },
  {
   "cell_type": "code",
   "execution_count": 15,
   "id": "47f3f0f9-9698-43e2-bc55-f8e2f75f88a7",
   "metadata": {},
   "outputs": [],
   "source": [
    "import numpy as np"
   ]
  },
  {
   "cell_type": "code",
   "execution_count": 17,
   "id": "3dfc9161-342e-498a-82ea-cbbff631fd65",
   "metadata": {},
   "outputs": [
    {
     "data": {
      "text/plain": [
       "array([1, 2, 3, 4, 5, 6])"
      ]
     },
     "execution_count": 17,
     "metadata": {},
     "output_type": "execute_result"
    }
   ],
   "source": [
    "np.array([1,2,3,4,5,6])"
   ]
  },
  {
   "cell_type": "code",
   "execution_count": 19,
   "id": "408ed6c4-5299-4b06-b365-7b007eaec3d3",
   "metadata": {},
   "outputs": [],
   "source": [
    "import pandas as pd"
   ]
  },
  {
   "cell_type": "code",
   "execution_count": 21,
   "id": "c632961e-f966-44f2-8964-b9ab3b3a1eeb",
   "metadata": {},
   "outputs": [
    {
     "data": {
      "text/plain": [
       "0    1\n",
       "1    2\n",
       "2    3\n",
       "3    4\n",
       "4    5\n",
       "5    6\n",
       "6    7\n",
       "7    8\n",
       "8    9\n",
       "dtype: int64"
      ]
     },
     "execution_count": 21,
     "metadata": {},
     "output_type": "execute_result"
    }
   ],
   "source": [
    "pd.Series([1,2,3,4,5,6,7,8,9])"
   ]
  },
  {
   "cell_type": "code",
   "execution_count": 23,
   "id": "ecc7a00c-388e-4ea4-88b3-b8fc709de8c0",
   "metadata": {},
   "outputs": [],
   "source": [
    "import matplotlib.pyplot"
   ]
  },
  {
   "cell_type": "code",
   "execution_count": 27,
   "id": "fafdc28d-9e7d-4fc5-ab5d-e8d6d22a8b02",
   "metadata": {},
   "outputs": [
    {
     "data": {
      "image/png": "[encoded data removed]",
      "text/plain": [
       "<Figure size 640x480 with 1 Axes>"
      ]
     },
     "metadata": {},
     "output_type": "display_data"
    }
   ],
   "source": [
    "matplotlib.pyplot.plot([1,2,3,4,5,6])\n",
    "matplotlib.pyplot.show()"
   ]
  },
  {
   "cell_type": "code",
   "execution_count": 1,
   "id": "c178fd58-2bd3-474c-9a5b-1be6e5318ee8",
   "metadata": {},
   "outputs": [],
   "source": [
    "import matplotlib.pyplot as plt"
   ]
  },
  {
   "cell_type": "code",
   "execution_count": 7,
   "id": "add23df1-65a2-4eda-b6af-2d5cf205270a",
   "metadata": {},
   "outputs": [
    {
     "data": {
      "image/png": "[encoded data removed]",
      "text/plain": [
       "<Figure size 640x480 with 1 Axes>"
      ]
     },
     "metadata": {},
     "output_type": "display_data"
    }
   ],
   "source": [
    "plt.plot([1,2,3,4,5,6,7,8,9])\n",
    "plt.show()"
   ]
  },
  {
   "cell_type": "markdown",
   "id": "51163715-a01c-469f-91e4-81c752aec31a",
   "metadata": {},
   "source": [
    "# User defined module"
   ]
  },
  {
   "cell_type": "code",
   "execution_count": 12,
   "id": "dcb131ee-27be-4afc-8bc6-9ecf646ebee7",
   "metadata": {},
   "outputs": [],
   "source": [
    "# - The module created by a programmar is known as a user defined module.\n",
    "# - A module is a .py file that contains function definitions."
   ]
  },
  {
   "cell_type": "code",
   "execution_count": 14,
   "id": "dcbcafc5-bb65-4f47-969b-011dd2cf0780",
   "metadata": {},
   "outputs": [],
   "source": [
    "# Create a module that has add(), square(), intro(), mult()"
   ]
  },
  {
   "cell_type": "code",
   "execution_count": 16,
   "id": "81fbbda2-d317-4225-953d-146f88b78fa6",
   "metadata": {},
   "outputs": [],
   "source": [
    "# - Create a .py file with some given name and keep the function definitions inside that.\n",
    "# - Generally a module should not have any free executable code."
   ]
  },
  {
   "cell_type": "code",
   "execution_count": 23,
   "id": "b5eddcd8-f2d8-4edb-b714-02ff3ad09ca1",
   "metadata": {},
   "outputs": [
    {
     "name": "stdout",
     "output_type": "stream",
     "text": [
      " Volume in drive C is OS\n",
      " Volume Serial Number is 1212-0B91\n",
      "\n",
      " Directory of C:\\Users\\ashis\\OneDrive\\Desktop\\Woolf Batches\\Woolf Python 1st June Batch\n",
      "\n",
      "07/14/2024  10:15 AM    <DIR>          .\n",
      "06/02/2024  09:20 AM    <DIR>          ..\n",
      "07/14/2024  10:14 AM    <DIR>          .ipynb_checkpoints\n",
      "06/14/2024  09:04 AM            79,485 Class_1_Introduction.ipynb\n",
      "07/07/2024  12:59 PM            67,078 Class_10_Functions.ipynb\n",
      "07/13/2024  01:03 PM            58,227 Class_11_Decorators.ipynb\n",
      "07/14/2024  10:13 AM            77,825 Class_12_Modules.ipynb\n",
      "06/08/2024  12:59 PM            98,970 Class_2_Data_Types.ipynb\n",
      "06/09/2024  12:58 PM            92,327 Class_3_Operators.ipynb\n",
      "06/16/2024  09:43 AM            90,794 Class_4_String_Methods.ipynb\n",
      "06/23/2024  09:36 AM            46,158 Class_5_Conditional_Statements_and_Loops.ipynb\n",
      "06/23/2024  01:03 PM            71,364 Class_6_Loops_and_Transfer_Statements.ipynb\n",
      "06/29/2024  12:53 PM            57,071 Class_7_List.ipynb\n",
      "06/30/2024  01:03 PM            88,115 Class_8_Tuple_and_Dictionary.ipynb\n",
      "07/06/2024  01:06 PM           168,282 Class_9_Dictionary_Methods.ipynb\n",
      "07/14/2024  10:15 AM               157 june.py\n",
      "07/06/2024  11:42 AM           109,462 List-of-Acronyms.pdf\n",
      "06/09/2024  10:05 AM                27 test.py\n",
      "07/14/2024  09:41 AM             1,359 Untitled.ipynb\n",
      "              16 File(s)      1,106,701 bytes\n",
      "               3 Dir(s)  139,992,821,760 bytes free\n"
     ]
    }
   ],
   "source": [
    "ls"
   ]
  },
  {
   "cell_type": "code",
   "execution_count": 1,
   "id": "0fbf11a9-054e-40d3-8916-766c37569988",
   "metadata": {},
   "outputs": [],
   "source": [
    "# Kernel is restarted"
   ]
  },
  {
   "cell_type": "code",
   "execution_count": 5,
   "id": "67c5ca68-2ae9-4eac-94d6-7c0f4f1a87ad",
   "metadata": {},
   "outputs": [],
   "source": [
    "import june"
   ]
  },
  {
   "cell_type": "code",
   "execution_count": 7,
   "id": "b14ba814-aae1-4ab6-b746-03ed3c774571",
   "metadata": {},
   "outputs": [
    {
     "name": "stdout",
     "output_type": "stream",
     "text": [
      "['In', 'Out', '_', '_3', '_4', '_6', '__', '___', '__builtin__', '__builtins__', '__doc__', '__loader__', '__name__', '__package__', '__pandas', '__spec__', '_dh', '_i', '_i1', '_i2', '_i3', '_i4', '_i5', '_i6', '_i7', '_ih', '_ii', '_iii', '_oh', 'dataframe_columns', 'dataframe_hash', 'dtypes_str', 'exit', 'get_dataframes', 'get_ipython', 'getpass', 'hashlib', 'import_pandas_safely', 'is_data_frame', 'json', 'june', 'open', 'quit']\n"
     ]
    }
   ],
   "source": [
    "print(dir())"
   ]
  },
  {
   "cell_type": "code",
   "execution_count": 9,
   "id": "0195e845-f667-4ccd-821c-5aeef88927e4",
   "metadata": {},
   "outputs": [
    {
     "name": "stdout",
     "output_type": "stream",
     "text": [
      "['__builtins__', '__cached__', '__doc__', '__file__', '__loader__', '__name__', '__package__', '__spec__', 'add', 'intro', 'power', 'square']\n"
     ]
    }
   ],
   "source": [
    "print(dir(june))"
   ]
  },
  {
   "cell_type": "code",
   "execution_count": 15,
   "id": "c2f8aaa4-c919-4451-a524-63d449f11954",
   "metadata": {},
   "outputs": [
    {
     "data": {
      "text/plain": [
       "10"
      ]
     },
     "execution_count": 15,
     "metadata": {},
     "output_type": "execute_result"
    }
   ],
   "source": [
    "june.add(4,6)"
   ]
  },
  {
   "cell_type": "code",
   "execution_count": 17,
   "id": "98aac500-b613-4b70-9e93-c7d825c970a5",
   "metadata": {},
   "outputs": [
    {
     "data": {
      "text/plain": [
       "'It is a module that we have created.'"
      ]
     },
     "execution_count": 17,
     "metadata": {},
     "output_type": "execute_result"
    }
   ],
   "source": [
    "june.intro()"
   ]
  },
  {
   "cell_type": "code",
   "execution_count": 19,
   "id": "3ba2f92a-d506-4b6a-aff0-9c327a10d4cb",
   "metadata": {},
   "outputs": [
    {
     "data": {
      "text/plain": [
       "36"
      ]
     },
     "execution_count": 19,
     "metadata": {},
     "output_type": "execute_result"
    }
   ],
   "source": [
    "june.square(6)"
   ]
  },
  {
   "cell_type": "code",
   "execution_count": 21,
   "id": "f5de3501-c490-459b-84ff-aa4ca67bf5cf",
   "metadata": {},
   "outputs": [
    {
     "data": {
      "text/plain": [
       "216"
      ]
     },
     "execution_count": 21,
     "metadata": {},
     "output_type": "execute_result"
    }
   ],
   "source": [
    "june.power(6,3)"
   ]
  },
  {
   "cell_type": "code",
   "execution_count": 3,
   "id": "9e588a65-0ad1-4a9e-b614-dfd0d1110b06",
   "metadata": {},
   "outputs": [],
   "source": [
    "import june as jj"
   ]
  },
  {
   "cell_type": "code",
   "execution_count": 2,
   "id": "a6498f46-7b29-408c-b640-cf17d11a4690",
   "metadata": {},
   "outputs": [
    {
     "name": "stdout",
     "output_type": "stream",
     "text": [
      "['In', 'Out', '_', '__', '___', '__builtin__', '__builtins__', '__doc__', '__loader__', '__name__', '__package__', '__spec__', '_dh', '_i', '_i1', '_i2', '_ih', '_ii', '_iii', '_oh', 'exit', 'get_ipython', 'jj', 'open', 'quit']\n"
     ]
    }
   ],
   "source": [
    "print(dir())"
   ]
  },
  {
   "cell_type": "code",
   "execution_count": 7,
   "id": "64794313-5bbb-441f-b4dd-8b01858eb5ba",
   "metadata": {},
   "outputs": [],
   "source": [
    "# june.intro()"
   ]
  },
  {
   "cell_type": "code",
   "execution_count": 9,
   "id": "247fe7fe-51aa-4ab2-8f9b-866a146e6279",
   "metadata": {},
   "outputs": [
    {
     "data": {
      "text/plain": [
       "'It is a module that we have created.'"
      ]
     },
     "execution_count": 9,
     "metadata": {},
     "output_type": "execute_result"
    }
   ],
   "source": [
    "jj.intro()"
   ]
  },
  {
   "cell_type": "code",
   "execution_count": 5,
   "id": "82bfeb10-3546-4a62-a05e-05823bbc3489",
   "metadata": {},
   "outputs": [
    {
     "data": {
      "text/plain": [
       "11"
      ]
     },
     "execution_count": 5,
     "metadata": {},
     "output_type": "execute_result"
    }
   ],
   "source": [
    "jj.add(5,6)"
   ]
  },
  {
   "cell_type": "code",
   "execution_count": 7,
   "id": "e06e9365-09ad-4668-b1dd-5075fe884aaf",
   "metadata": {},
   "outputs": [],
   "source": [
    "# Global namespace"
   ]
  },
  {
   "cell_type": "code",
   "execution_count": 5,
   "id": "45c207fd-0069-461d-9019-bbc6175d1867",
   "metadata": {},
   "outputs": [
    {
     "name": "stdout",
     "output_type": "stream",
     "text": [
      "['In', 'Out', '_', '_2', '_4', '__', '___', '__builtin__', '__builtins__', '__doc__', '__loader__', '__name__', '__package__', '__pandas', '__spec__', '_dh', '_i', '_i1', '_i2', '_i3', '_i4', '_i5', '_ih', '_ii', '_iii', '_oh', 'dataframe_columns', 'dataframe_hash', 'dtypes_str', 'exit', 'get_dataframes', 'get_ipython', 'getpass', 'hashlib', 'import_pandas_safely', 'is_data_frame', 'jj', 'json', 'open', 'quit']\n"
     ]
    }
   ],
   "source": [
    "print(dir())"
   ]
  },
  {
   "cell_type": "code",
   "execution_count": 9,
   "id": "7b577529-2b5f-4628-b7f5-e5f9e5306650",
   "metadata": {},
   "outputs": [],
   "source": [
    "# Builtin Namespace"
   ]
  },
  {
   "cell_type": "code",
   "execution_count": 11,
   "id": "cb51d54e-f535-4644-a5d7-ea0ecb1704ce",
   "metadata": {},
   "outputs": [
    {
     "name": "stdout",
     "output_type": "stream",
     "text": [
      "['ArithmeticError', 'AssertionError', 'AttributeError', 'BaseException', 'BaseExceptionGroup', 'BlockingIOError', 'BrokenPipeError', 'BufferError', 'BytesWarning', 'ChildProcessError', 'ConnectionAbortedError', 'ConnectionError', 'ConnectionRefusedError', 'ConnectionResetError', 'DeprecationWarning', 'EOFError', 'Ellipsis', 'EncodingWarning', 'EnvironmentError', 'Exception', 'ExceptionGroup', 'False', 'FileExistsError', 'FileNotFoundError', 'FloatingPointError', 'FutureWarning', 'GeneratorExit', 'IOError', 'ImportError', 'ImportWarning', 'IndentationError', 'IndexError', 'InterruptedError', 'IsADirectoryError', 'KeyError', 'KeyboardInterrupt', 'LookupError', 'MemoryError', 'ModuleNotFoundError', 'NameError', 'None', 'NotADirectoryError', 'NotImplemented', 'NotImplementedError', 'OSError', 'OverflowError', 'PendingDeprecationWarning', 'PermissionError', 'ProcessLookupError', 'RecursionError', 'ReferenceError', 'ResourceWarning', 'RuntimeError', 'RuntimeWarning', 'StopAsyncIteration', 'StopIteration', 'SyntaxError', 'SyntaxWarning', 'SystemError', 'SystemExit', 'TabError', 'TimeoutError', 'True', 'TypeError', 'UnboundLocalError', 'UnicodeDecodeError', 'UnicodeEncodeError', 'UnicodeError', 'UnicodeTranslateError', 'UnicodeWarning', 'UserWarning', 'ValueError', 'Warning', 'WindowsError', 'ZeroDivisionError', '__IPYTHON__', '__build_class__', '__debug__', '__doc__', '__import__', '__loader__', '__name__', '__package__', '__spec__', 'abs', 'aiter', 'all', 'anext', 'any', 'ascii', 'bin', 'bool', 'breakpoint', 'bytearray', 'bytes', 'callable', 'chr', 'classmethod', 'compile', 'complex', 'copyright', 'credits', 'delattr', 'dict', 'dir', 'display', 'divmod', 'enumerate', 'eval', 'exec', 'execfile', 'filter', 'float', 'format', 'frozenset', 'get_ipython', 'getattr', 'globals', 'hasattr', 'hash', 'help', 'hex', 'id', 'input', 'int', 'isinstance', 'issubclass', 'iter', 'len', 'license', 'list', 'locals', 'map', 'max', 'memoryview', 'min', 'next', 'object', 'oct', 'open', 'ord', 'pow', 'print', 'property', 'range', 'repr', 'reversed', 'round', 'runfile', 'set', 'setattr', 'slice', 'sorted', 'staticmethod', 'str', 'sum', 'super', 'tuple', 'type', 'vars', 'zip']\n"
     ]
    }
   ],
   "source": [
    "print(dir(__builtins__))"
   ]
  },
  {
   "cell_type": "code",
   "execution_count": 20,
   "id": "191bd0cc-abd3-4195-8dd9-6b5426bd3986",
   "metadata": {},
   "outputs": [
    {
     "name": "stdout",
     "output_type": "stream",
     "text": [
      " Volume in drive C is OS\n",
      " Volume Serial Number is 1212-0B91\n",
      "\n",
      " Directory of C:\\Users\\ashis\\OneDrive\\Desktop\\Woolf Batches\\Woolf Python 1st June Batch\n",
      "\n",
      "07/14/2024  10:46 AM    <DIR>          .\n",
      "06/02/2024  09:20 AM    <DIR>          ..\n",
      "07/14/2024  10:14 AM    <DIR>          .ipynb_checkpoints\n",
      "07/14/2024  10:23 AM    <DIR>          __pycache__\n",
      "06/14/2024  09:04 AM            79,485 Class_1_Introduction.ipynb\n",
      "07/07/2024  12:59 PM            67,078 Class_10_Functions.ipynb\n",
      "07/13/2024  01:03 PM            58,227 Class_11_Decorators.ipynb\n",
      "07/14/2024  10:41 AM            89,092 Class_12_Modules.ipynb\n",
      "06/08/2024  12:59 PM            98,970 Class_2_Data_Types.ipynb\n",
      "06/09/2024  12:58 PM            92,327 Class_3_Operators.ipynb\n",
      "06/16/2024  09:43 AM            90,794 Class_4_String_Methods.ipynb\n",
      "06/23/2024  09:36 AM            46,158 Class_5_Conditional_Statements_and_Loops.ipynb\n",
      "06/23/2024  01:03 PM            71,364 Class_6_Loops_and_Transfer_Statements.ipynb\n",
      "06/29/2024  12:53 PM            57,071 Class_7_List.ipynb\n",
      "06/30/2024  01:03 PM            88,115 Class_8_Tuple_and_Dictionary.ipynb\n",
      "07/06/2024  01:06 PM           168,282 Class_9_Dictionary_Methods.ipynb\n",
      "07/14/2024  10:23 AM               157 june.py\n",
      "07/06/2024  11:42 AM           109,462 List-of-Acronyms.pdf\n",
      "06/09/2024  10:05 AM                27 test.py\n",
      "07/14/2024  10:48 AM               135 test_mod.py\n",
      "07/14/2024  10:20 AM             3,417 Untitled.ipynb\n",
      "              17 File(s)      1,120,161 bytes\n",
      "               4 Dir(s)  139,976,646,656 bytes free\n"
     ]
    }
   ],
   "source": [
    "ls"
   ]
  },
  {
   "cell_type": "code",
   "execution_count": 22,
   "id": "059546b5-ab5c-4473-bfd8-3bf40b4230e5",
   "metadata": {},
   "outputs": [],
   "source": [
    "import test_mod as tt"
   ]
  },
  {
   "cell_type": "code",
   "execution_count": 24,
   "id": "bab0a81f-d055-42ab-97e4-2f3a022617ea",
   "metadata": {},
   "outputs": [
    {
     "name": "stdout",
     "output_type": "stream",
     "text": [
      "['__builtins__', '__cached__', '__doc__', '__file__', '__loader__', '__name__', '__package__', '__spec__', 'fact', 'intro']\n"
     ]
    }
   ],
   "source": [
    "print(dir(tt))"
   ]
  },
  {
   "cell_type": "code",
   "execution_count": 26,
   "id": "452f7b8b-296a-4d13-83a2-83eb721cecad",
   "metadata": {},
   "outputs": [
    {
     "data": {
      "text/plain": [
       "120"
      ]
     },
     "execution_count": 26,
     "metadata": {},
     "output_type": "execute_result"
    }
   ],
   "source": [
    "tt.fact(5)"
   ]
  },
  {
   "cell_type": "code",
   "execution_count": 28,
   "id": "c9cda510-4792-4c85-8488-d087ccb1394e",
   "metadata": {},
   "outputs": [
    {
     "data": {
      "text/plain": [
       "'It is a new module that we have created'"
      ]
     },
     "execution_count": 28,
     "metadata": {},
     "output_type": "execute_result"
    }
   ],
   "source": [
    "tt.intro()"
   ]
  },
  {
   "cell_type": "markdown",
   "id": "ffae7dd0-fac5-4b2e-bf5a-c8d92ca4c2d2",
   "metadata": {},
   "source": [
    "# How to import a module from some other directory"
   ]
  },
  {
   "cell_type": "code",
   "execution_count": 31,
   "id": "44ab7c8a-186b-4786-bcac-5f490b9db9dc",
   "metadata": {},
   "outputs": [
    {
     "name": "stdout",
     "output_type": "stream",
     "text": [
      " Volume in drive C is OS\n",
      " Volume Serial Number is 1212-0B91\n",
      "\n",
      " Directory of C:\\Users\\ashis\\OneDrive\\Desktop\\Woolf Batches\\Woolf Python 1st June Batch\n",
      "\n",
      "07/14/2024  10:51 AM    <DIR>          .\n",
      "06/02/2024  09:20 AM    <DIR>          ..\n",
      "07/14/2024  10:14 AM    <DIR>          .ipynb_checkpoints\n",
      "07/14/2024  10:48 AM    <DIR>          __pycache__\n",
      "06/14/2024  09:04 AM            79,485 Class_1_Introduction.ipynb\n",
      "07/07/2024  12:59 PM            67,078 Class_10_Functions.ipynb\n",
      "07/13/2024  01:03 PM            58,227 Class_11_Decorators.ipynb\n",
      "07/14/2024  10:51 AM            91,740 Class_12_Modules.ipynb\n",
      "06/08/2024  12:59 PM            98,970 Class_2_Data_Types.ipynb\n",
      "06/09/2024  12:58 PM            92,327 Class_3_Operators.ipynb\n",
      "06/16/2024  09:43 AM            90,794 Class_4_String_Methods.ipynb\n",
      "06/23/2024  09:36 AM            46,158 Class_5_Conditional_Statements_and_Loops.ipynb\n",
      "06/23/2024  01:03 PM            71,364 Class_6_Loops_and_Transfer_Statements.ipynb\n",
      "06/29/2024  12:53 PM            57,071 Class_7_List.ipynb\n",
      "06/30/2024  01:03 PM            88,115 Class_8_Tuple_and_Dictionary.ipynb\n",
      "07/06/2024  01:06 PM           168,282 Class_9_Dictionary_Methods.ipynb\n",
      "07/14/2024  10:23 AM               157 june.py\n",
      "07/06/2024  11:42 AM           109,462 List-of-Acronyms.pdf\n",
      "06/09/2024  10:05 AM                27 test.py\n",
      "07/14/2024  10:48 AM               135 test_mod.py\n",
      "07/14/2024  10:20 AM             3,417 Untitled.ipynb\n",
      "              17 File(s)      1,122,809 bytes\n",
      "               4 Dir(s)  139,972,567,040 bytes free\n"
     ]
    }
   ],
   "source": [
    "ls"
   ]
  },
  {
   "cell_type": "code",
   "execution_count": 33,
   "id": "b13a0d0e-3b27-4e22-92c8-063cf314291d",
   "metadata": {},
   "outputs": [
    {
     "ename": "ModuleNotFoundError",
     "evalue": "No module named 'desk'",
     "output_type": "error",
     "traceback": [
      "\u001b[1;31m---------------------------------------------------------------------------\u001b[0m",
      "\u001b[1;31mModuleNotFoundError\u001b[0m                       Traceback (most recent call last)",
      "Cell \u001b[1;32mIn[33], line 1\u001b[0m\n\u001b[1;32m----> 1\u001b[0m \u001b[38;5;28;01mimport\u001b[39;00m \u001b[38;5;21;01mdesk\u001b[39;00m\n",
      "\u001b[1;31mModuleNotFoundError\u001b[0m: No module named 'desk'"
     ]
    }
   ],
   "source": [
    "import desk"
   ]
  },
  {
   "cell_type": "code",
   "execution_count": 1,
   "id": "79edc9d8-60e2-4d5a-a9e2-8c88351af684",
   "metadata": {},
   "outputs": [],
   "source": [
    "import sys"
   ]
  },
  {
   "cell_type": "code",
   "execution_count": 3,
   "id": "fa3462df-5d4f-4e60-8462-5c1a723ae517",
   "metadata": {},
   "outputs": [
    {
     "data": {
      "text/plain": [
       "['C:\\\\Users\\\\ashis\\\\OneDrive\\\\Desktop\\\\Woolf Batches\\\\Woolf Python 1st June Batch',\n",
       " 'C:\\\\Users\\\\ashis\\\\anaconda3\\\\python311.zip',\n",
       " 'C:\\\\Users\\\\ashis\\\\anaconda3\\\\DLLs',\n",
       " 'C:\\\\Users\\\\ashis\\\\anaconda3\\\\Lib',\n",
       " 'C:\\\\Users\\\\ashis\\\\anaconda3',\n",
       " '',\n",
       " 'C:\\\\Users\\\\ashis\\\\anaconda3\\\\Lib\\\\site-packages',\n",
       " 'C:\\\\Users\\\\ashis\\\\anaconda3\\\\Lib\\\\site-packages\\\\win32',\n",
       " 'C:\\\\Users\\\\ashis\\\\anaconda3\\\\Lib\\\\site-packages\\\\win32\\\\lib',\n",
       " 'C:\\\\Users\\\\ashis\\\\anaconda3\\\\Lib\\\\site-packages\\\\Pythonwin']"
      ]
     },
     "execution_count": 3,
     "metadata": {},
     "output_type": "execute_result"
    }
   ],
   "source": [
    "sys.path"
   ]
  },
  {
   "cell_type": "markdown",
   "id": "a93370ef-5d9c-47dd-9408-0712a5cdfcfe",
   "metadata": {},
   "source": [
    "### Adding the path"
   ]
  },
  {
   "cell_type": "code",
   "execution_count": 5,
   "id": "2ecb1c78-9592-44e8-889c-d52bf7ead98e",
   "metadata": {},
   "outputs": [
    {
     "name": "stdout",
     "output_type": "stream",
     "text": [
      "<class 'list'>\n"
     ]
    }
   ],
   "source": [
    "print(type(sys.path))"
   ]
  },
  {
   "cell_type": "code",
   "execution_count": 7,
   "id": "aad29821-965c-49c4-920a-b73b75a53c2e",
   "metadata": {},
   "outputs": [],
   "source": [
    "# sys.path.append(path)"
   ]
  },
  {
   "cell_type": "code",
   "execution_count": 9,
   "id": "23ef6aed-ba49-4808-ab16-95ecf7abe108",
   "metadata": {},
   "outputs": [
    {
     "data": {
      "text/plain": [
       "'C:\\\\Users\\\\ashis\\\\OneDrive\\\\Desktop\\\\desk.py'"
      ]
     },
     "execution_count": 9,
     "metadata": {},
     "output_type": "execute_result"
    }
   ],
   "source": [
    "r\"C:\\Users\\ashis\\OneDrive\\Desktop\\desk.py\""
   ]
  },
  {
   "cell_type": "code",
   "execution_count": 11,
   "id": "f7e10247-9d57-4086-92f1-64d4a79f57ad",
   "metadata": {},
   "outputs": [],
   "source": [
    "sys.path.append(r\"C:\\Users\\ashis\\OneDrive\\Desktop\")"
   ]
  },
  {
   "cell_type": "code",
   "execution_count": 13,
   "id": "6ea360a4-b4ae-4565-9ce7-87ad35e18bf3",
   "metadata": {},
   "outputs": [
    {
     "data": {
      "text/plain": [
       "['C:\\\\Users\\\\ashis\\\\OneDrive\\\\Desktop\\\\Woolf Batches\\\\Woolf Python 1st June Batch',\n",
       " 'C:\\\\Users\\\\ashis\\\\anaconda3\\\\python311.zip',\n",
       " 'C:\\\\Users\\\\ashis\\\\anaconda3\\\\DLLs',\n",
       " 'C:\\\\Users\\\\ashis\\\\anaconda3\\\\Lib',\n",
       " 'C:\\\\Users\\\\ashis\\\\anaconda3',\n",
       " '',\n",
       " 'C:\\\\Users\\\\ashis\\\\anaconda3\\\\Lib\\\\site-packages',\n",
       " 'C:\\\\Users\\\\ashis\\\\anaconda3\\\\Lib\\\\site-packages\\\\win32',\n",
       " 'C:\\\\Users\\\\ashis\\\\anaconda3\\\\Lib\\\\site-packages\\\\win32\\\\lib',\n",
       " 'C:\\\\Users\\\\ashis\\\\anaconda3\\\\Lib\\\\site-packages\\\\Pythonwin',\n",
       " 'C:\\\\Users\\\\ashis\\\\OneDrive\\\\Desktop']"
      ]
     },
     "execution_count": 13,
     "metadata": {},
     "output_type": "execute_result"
    }
   ],
   "source": [
    "sys.path"
   ]
  },
  {
   "cell_type": "code",
   "execution_count": 15,
   "id": "bf6462f9-40e7-4312-8ad2-06164e19d886",
   "metadata": {},
   "outputs": [],
   "source": [
    "import desk as dd"
   ]
  },
  {
   "cell_type": "code",
   "execution_count": 17,
   "id": "75713599-30c7-4082-b41d-9bf33e2daf20",
   "metadata": {},
   "outputs": [
    {
     "name": "stdout",
     "output_type": "stream",
     "text": [
      "['In', 'Out', '_', '_10', '_12', '_13', '_14', '_16', '_2', '_3', '_4', '_6', '_8', '_9', '__', '___', '__builtin__', '__builtins__', '__doc__', '__loader__', '__name__', '__package__', '__pandas', '__spec__', '_dh', '_i', '_i1', '_i10', '_i11', '_i12', '_i13', '_i14', '_i15', '_i16', '_i17', '_i2', '_i3', '_i4', '_i5', '_i6', '_i7', '_i8', '_i9', '_ih', '_ii', '_iii', '_oh', 'dataframe_columns', 'dataframe_hash', 'dd', 'dtypes_str', 'exit', 'get_dataframes', 'get_ipython', 'getpass', 'hashlib', 'import_pandas_safely', 'is_data_frame', 'json', 'open', 'quit', 'sys']\n"
     ]
    }
   ],
   "source": [
    "print(dir())"
   ]
  },
  {
   "cell_type": "code",
   "execution_count": 19,
   "id": "ed0d68f5-78e3-4378-8f24-d323df0d3f32",
   "metadata": {},
   "outputs": [
    {
     "name": "stdout",
     "output_type": "stream",
     "text": [
      "['__builtins__', '__cached__', '__doc__', '__file__', '__loader__', '__name__', '__package__', '__spec__', 'intro', 'learn']\n"
     ]
    }
   ],
   "source": [
    "print(dir(dd))"
   ]
  },
  {
   "cell_type": "code",
   "execution_count": 21,
   "id": "c1a16662-5d33-4cc4-b769-4892e30a63a5",
   "metadata": {},
   "outputs": [
    {
     "data": {
      "text/plain": [
       "'I am a module at Desktop'"
      ]
     },
     "execution_count": 21,
     "metadata": {},
     "output_type": "execute_result"
    }
   ],
   "source": [
    "dd.intro()"
   ]
  },
  {
   "cell_type": "code",
   "execution_count": 23,
   "id": "94c19e0a-2376-47c6-9ba5-389bb5796c44",
   "metadata": {},
   "outputs": [
    {
     "data": {
      "text/plain": [
       "'We are learning how to create a module'"
      ]
     },
     "execution_count": 23,
     "metadata": {},
     "output_type": "execute_result"
    }
   ],
   "source": [
    "dd.learn()"
   ]
  },
  {
   "cell_type": "markdown",
   "id": "2f8b1622-6944-4570-945d-d48dfe7dfe1d",
   "metadata": {},
   "source": [
    "# Module vs Script"
   ]
  },
  {
   "cell_type": "code",
   "execution_count": 27,
   "id": "5ecf563a-c634-4436-abfc-6dfa6f5478dd",
   "metadata": {},
   "outputs": [],
   "source": [
    "# - A module should not have any free executable code."
   ]
  },
  {
   "cell_type": "code",
   "execution_count": 1,
   "id": "b4262fbc-ad2d-418c-8faa-aed23f902854",
   "metadata": {},
   "outputs": [
    {
     "name": "stdout",
     "output_type": "stream",
     "text": [
      "Hello everyone!\n",
      "How are you?\n"
     ]
    }
   ],
   "source": [
    "import test_mod as tt"
   ]
  },
  {
   "cell_type": "code",
   "execution_count": 3,
   "id": "db0679de-162a-4869-8800-cdfcc45bcb58",
   "metadata": {},
   "outputs": [
    {
     "name": "stdout",
     "output_type": "stream",
     "text": [
      "['In', 'Out', '_', '_2', '__', '___', '__builtin__', '__builtins__', '__doc__', '__loader__', '__name__', '__package__', '__pandas', '__spec__', '_dh', '_i', '_i1', '_i2', '_i3', '_ih', '_ii', '_iii', '_oh', 'dataframe_columns', 'dataframe_hash', 'dtypes_str', 'exit', 'get_dataframes', 'get_ipython', 'getpass', 'hashlib', 'import_pandas_safely', 'is_data_frame', 'json', 'open', 'quit', 'tt']\n"
     ]
    }
   ],
   "source": [
    "print(dir())"
   ]
  },
  {
   "cell_type": "code",
   "execution_count": 5,
   "id": "c1b903d6-75aa-45bf-aade-017897daab19",
   "metadata": {},
   "outputs": [
    {
     "data": {
      "text/plain": [
       "'It is a new module that we have created'"
      ]
     },
     "execution_count": 5,
     "metadata": {},
     "output_type": "execute_result"
    }
   ],
   "source": [
    "tt.intro()"
   ]
  },
  {
   "cell_type": "code",
   "execution_count": 9,
   "id": "1893f120-a4fb-4ef1-b6d3-d1ba12aa7062",
   "metadata": {},
   "outputs": [
    {
     "data": {
      "text/plain": [
       "120"
      ]
     },
     "execution_count": 9,
     "metadata": {},
     "output_type": "execute_result"
    }
   ],
   "source": [
    "tt.fact(5)"
   ]
  },
  {
   "cell_type": "code",
   "execution_count": 1,
   "id": "45dd639e-cefe-46c7-9369-385f52e1c13b",
   "metadata": {},
   "outputs": [],
   "source": [
    "import test_mod as tt"
   ]
  },
  {
   "cell_type": "code",
   "execution_count": 3,
   "id": "288ac340-bd1b-4e53-9dd1-4408520e423b",
   "metadata": {},
   "outputs": [
    {
     "data": {
      "text/plain": [
       "'It is a new module that we have created'"
      ]
     },
     "execution_count": 3,
     "metadata": {},
     "output_type": "execute_result"
    }
   ],
   "source": [
    "tt.intro()"
   ]
  },
  {
   "cell_type": "code",
   "execution_count": 5,
   "id": "17e26702-6c82-4d84-9fdc-1458e78d141e",
   "metadata": {},
   "outputs": [
    {
     "data": {
      "text/plain": [
       "720"
      ]
     },
     "execution_count": 5,
     "metadata": {},
     "output_type": "execute_result"
    }
   ],
   "source": [
    "tt.fact(6)"
   ]
  },
  {
   "cell_type": "code",
   "execution_count": 28,
   "id": "0083c405-7f06-4b49-b555-a1d793b8edd3",
   "metadata": {},
   "outputs": [
    {
     "name": "stdout",
     "output_type": "stream",
     "text": [
      "Hello\n",
      "30\n",
      "I am a module at Desktop\n",
      "We are learning how to create a module\n",
      "Thanks\n"
     ]
    }
   ],
   "source": [
    "import desk as dd"
   ]
  },
  {
   "cell_type": "code",
   "execution_count": 15,
   "id": "10764e71-cf04-4c18-a591-e63b7a271e72",
   "metadata": {},
   "outputs": [],
   "source": [
    "import desk as dd"
   ]
  },
  {
   "cell_type": "code",
   "execution_count": 17,
   "id": "c86f9725-ffd8-4352-b87c-8afbabc0d815",
   "metadata": {},
   "outputs": [
    {
     "data": {
      "text/plain": [
       "'I am a module at Desktop'"
      ]
     },
     "execution_count": 17,
     "metadata": {},
     "output_type": "execute_result"
    }
   ],
   "source": [
    "dd.intro()"
   ]
  },
  {
   "cell_type": "code",
   "execution_count": 25,
   "id": "c10e4a08-a05a-48c8-ae8c-f6b8ef7b6f6a",
   "metadata": {},
   "outputs": [
    {
     "data": {
      "text/plain": [
       "'We are learning how to create a module'"
      ]
     },
     "execution_count": 25,
     "metadata": {},
     "output_type": "execute_result"
    }
   ],
   "source": [
    "dd.learn()"
   ]
  },
  {
   "cell_type": "code",
   "execution_count": 27,
   "id": "0748c200-54ba-44d3-bd1c-de378b0bc3d7",
   "metadata": {},
   "outputs": [
    {
     "data": {
      "text/plain": [
       "'desk'"
      ]
     },
     "execution_count": 27,
     "metadata": {},
     "output_type": "execute_result"
    }
   ],
   "source": [
    "dd.__name__"
   ]
  },
  {
   "cell_type": "code",
   "execution_count": 29,
   "id": "552c8e74-90ed-4fd6-8a1a-124d3262e658",
   "metadata": {},
   "outputs": [
    {
     "data": {
      "text/plain": [
       "False"
      ]
     },
     "execution_count": 29,
     "metadata": {},
     "output_type": "execute_result"
    }
   ],
   "source": [
    "'desk'=='__main__'"
   ]
  },
  {
   "cell_type": "markdown",
   "id": "ee1f777a-8481-4582-bf60-d2f72a60f88a",
   "metadata": {},
   "source": [
    "# Creating a package"
   ]
  },
  {
   "cell_type": "code",
   "execution_count": 35,
   "id": "14c99f4e-426b-4c2b-a322-217fcf02d1f7",
   "metadata": {},
   "outputs": [],
   "source": [
    "# - Collection of modules is known as a package."
   ]
  },
  {
   "cell_type": "code",
   "execution_count": 1,
   "id": "ae744f1f-e30b-48c6-8d07-cd21a7165299",
   "metadata": {},
   "outputs": [
    {
     "name": "stdout",
     "output_type": "stream",
     "text": [
      "I am the init file\n"
     ]
    }
   ],
   "source": [
    "import my_package as pp"
   ]
  },
  {
   "cell_type": "code",
   "execution_count": 3,
   "id": "b34350ca-5642-461d-8071-09669caee429",
   "metadata": {},
   "outputs": [
    {
     "name": "stdout",
     "output_type": "stream",
     "text": [
      "['__builtins__', '__cached__', '__doc__', '__file__', '__loader__', '__name__', '__package__', '__path__', '__spec__']\n"
     ]
    }
   ],
   "source": [
    "print(dir(pp))"
   ]
  },
  {
   "cell_type": "code",
   "execution_count": 5,
   "id": "6c50b3dc-6855-45af-b64f-3850823f5cc8",
   "metadata": {},
   "outputs": [
    {
     "ename": "AttributeError",
     "evalue": "module 'my_package' has no attribute 'm1'",
     "output_type": "error",
     "traceback": [
      "\u001b[1;31m---------------------------------------------------------------------------\u001b[0m",
      "\u001b[1;31mAttributeError\u001b[0m                            Traceback (most recent call last)",
      "Cell \u001b[1;32mIn[5], line 1\u001b[0m\n\u001b[1;32m----> 1\u001b[0m pp\u001b[38;5;241m.\u001b[39mm1\n",
      "\u001b[1;31mAttributeError\u001b[0m: module 'my_package' has no attribute 'm1'"
     ]
    }
   ],
   "source": [
    "pp.m1"
   ]
  },
  {
   "cell_type": "code",
   "execution_count": 7,
   "id": "c4f2ee48-a074-4f08-a748-5fc31cf6bc65",
   "metadata": {},
   "outputs": [
    {
     "ename": "AttributeError",
     "evalue": "module 'my_package' has no attribute 'm2'",
     "output_type": "error",
     "traceback": [
      "\u001b[1;31m---------------------------------------------------------------------------\u001b[0m",
      "\u001b[1;31mAttributeError\u001b[0m                            Traceback (most recent call last)",
      "Cell \u001b[1;32mIn[7], line 1\u001b[0m\n\u001b[1;32m----> 1\u001b[0m pp\u001b[38;5;241m.\u001b[39mm2\n",
      "\u001b[1;31mAttributeError\u001b[0m: module 'my_package' has no attribute 'm2'"
     ]
    }
   ],
   "source": [
    "pp.m2"
   ]
  },
  {
   "cell_type": "code",
   "execution_count": 1,
   "id": "7e90103d-96ad-45e9-87ff-d9d345bcebcf",
   "metadata": {},
   "outputs": [],
   "source": [
    "import my_package as pp"
   ]
  },
  {
   "cell_type": "code",
   "execution_count": 3,
   "id": "5aa0fa57-941d-48ec-87f7-a6c7e71028cb",
   "metadata": {},
   "outputs": [
    {
     "name": "stdout",
     "output_type": "stream",
     "text": [
      "['__builtins__', '__cached__', '__doc__', '__file__', '__loader__', '__name__', '__package__', '__path__', '__spec__', 'm1', 'm2']\n"
     ]
    }
   ],
   "source": [
    "print(dir(pp))"
   ]
  },
  {
   "cell_type": "code",
   "execution_count": 11,
   "id": "d0113119-f915-4f3e-9781-04dc528119aa",
   "metadata": {},
   "outputs": [
    {
     "name": "stdout",
     "output_type": "stream",
     "text": [
      "['__builtins__', '__cached__', '__doc__', '__file__', '__loader__', '__name__', '__package__', '__spec__', 'f1', 'f2']\n"
     ]
    }
   ],
   "source": [
    "print(dir(pp.m1))"
   ]
  },
  {
   "cell_type": "code",
   "execution_count": 13,
   "id": "7e5d80cc-729c-4e63-a31a-fda3c5c44639",
   "metadata": {},
   "outputs": [
    {
     "name": "stdout",
     "output_type": "stream",
     "text": [
      "['__builtins__', '__cached__', '__doc__', '__file__', '__loader__', '__name__', '__package__', '__spec__', 'func_1', 'func_2']\n"
     ]
    }
   ],
   "source": [
    "print(dir(pp.m2))"
   ]
  },
  {
   "cell_type": "code",
   "execution_count": 15,
   "id": "5107f2e3-bb80-4964-bb4f-44b06f4ba217",
   "metadata": {},
   "outputs": [
    {
     "data": {
      "text/plain": [
       "'Function-1'"
      ]
     },
     "execution_count": 15,
     "metadata": {},
     "output_type": "execute_result"
    }
   ],
   "source": [
    "pp.m1.f1()"
   ]
  },
  {
   "cell_type": "code",
   "execution_count": 17,
   "id": "aa9fa6c6-5aa9-4801-986c-cbb9e4a6d639",
   "metadata": {},
   "outputs": [
    {
     "data": {
      "text/plain": [
       "'Function-2'"
      ]
     },
     "execution_count": 17,
     "metadata": {},
     "output_type": "execute_result"
    }
   ],
   "source": [
    "pp.m1.f2()"
   ]
  },
  {
   "cell_type": "code",
   "execution_count": 19,
   "id": "a9249d15-598c-4215-a845-c1a09a0fa72c",
   "metadata": {},
   "outputs": [
    {
     "data": {
      "text/plain": [
       "'Some function'"
      ]
     },
     "execution_count": 19,
     "metadata": {},
     "output_type": "execute_result"
    }
   ],
   "source": [
    "pp.m2.func_1()"
   ]
  },
  {
   "cell_type": "code",
   "execution_count": 21,
   "id": "fd85f2ec-6e9d-4c96-a7a2-58c5ea4b7f3a",
   "metadata": {},
   "outputs": [
    {
     "data": {
      "text/plain": [
       "'Some other function'"
      ]
     },
     "execution_count": 21,
     "metadata": {},
     "output_type": "execute_result"
    }
   ],
   "source": [
    "pp.m2.func_2()"
   ]
  },
  {
   "cell_type": "code",
   "execution_count": 1,
   "id": "f0ae3f94-7ead-4591-9bb9-f2f772f9bda3",
   "metadata": {},
   "outputs": [],
   "source": [
    "from my_package import m1,m2"
   ]
  },
  {
   "cell_type": "code",
   "execution_count": 3,
   "id": "17317787-2685-4574-9c81-51b84ac2a1e5",
   "metadata": {},
   "outputs": [
    {
     "data": {
      "text/plain": [
       "'Function-1'"
      ]
     },
     "execution_count": 3,
     "metadata": {},
     "output_type": "execute_result"
    }
   ],
   "source": [
    "m1.f1()"
   ]
  },
  {
   "cell_type": "code",
   "execution_count": 5,
   "id": "c4504bd5-62ca-480a-86b0-8d77e6cce655",
   "metadata": {},
   "outputs": [
    {
     "data": {
      "text/plain": [
       "'Some function'"
      ]
     },
     "execution_count": 5,
     "metadata": {},
     "output_type": "execute_result"
    }
   ],
   "source": [
    "m2.func_1()"
   ]
  },
  {
   "cell_type": "code",
   "execution_count": 7,
   "id": "b6a0d949-21d8-4e20-a82c-917692d37873",
   "metadata": {},
   "outputs": [],
   "source": [
    "# What is a module?\n",
    "# How to import a module?\n",
    "# How to create a module?\n",
    "# Script vs module\n",
    "# if __name__=='__main__'"
   ]
  },
  {
   "cell_type": "markdown",
   "id": "df4f9292-6223-4156-a2b5-16ab090c69a5",
   "metadata": {},
   "source": [
    "# File Handling"
   ]
  },
  {
   "cell_type": "markdown",
   "id": "214ee3d1-0be7-4e1f-ac73-b501975b5bad",
   "metadata": {},
   "source": [
    "# File"
   ]
  },
  {
   "cell_type": "code",
   "execution_count": 13,
   "id": "30f0f70d-348f-4905-9e23-1b5354e58c88",
   "metadata": {},
   "outputs": [],
   "source": [
    "# - A file is a disk space in which we keep the code that we want to reuse later.\n",
    "# - A file is a disk space which we can store data in."
   ]
  },
  {
   "cell_type": "markdown",
   "id": "8a32621e-1493-42b6-8566-0fff54563bfa",
   "metadata": {},
   "source": [
    "# File Handling"
   ]
  },
  {
   "cell_type": "code",
   "execution_count": 16,
   "id": "e85c1256-f0fc-4bbb-8bfc-e216b50398b3",
   "metadata": {},
   "outputs": [],
   "source": [
    "# - To perform the file related operations using Python is known as file handling."
   ]
  },
  {
   "cell_type": "markdown",
   "id": "73b07a2f-9cd5-4527-930c-8ffb93bd500b",
   "metadata": {},
   "source": [
    "# Operations on a file"
   ]
  },
  {
   "cell_type": "code",
   "execution_count": 19,
   "id": "ddff06ac-3a34-4202-8056-3bd09f3ace38",
   "metadata": {},
   "outputs": [],
   "source": [
    "# C.R.U.D.\n",
    "# C- Create a file\n",
    "# R- Read the data from a file\n",
    "# U- Update (Edit) the data in a file\n",
    "# D- Delete a file"
   ]
  },
  {
   "cell_type": "markdown",
   "id": "8580b287-e233-440c-8cf2-f8328ce5e1d7",
   "metadata": {},
   "source": [
    "### In Python we handle two types of files"
   ]
  },
  {
   "cell_type": "markdown",
   "id": "71df0e57-6c9d-414b-916d-26badc708b9f",
   "metadata": {},
   "source": [
    "- 1- Text files\n",
    "- 2- Binary files"
   ]
  },
  {
   "cell_type": "markdown",
   "id": "f39e840b-7767-452f-90cf-9a6643d66ca3",
   "metadata": {},
   "source": [
    "# Text Files"
   ]
  },
  {
   "cell_type": "code",
   "execution_count": 28,
   "id": "02b79a27-bb5d-400f-8684-0c51c16c5531",
   "metadata": {},
   "outputs": [],
   "source": [
    "# .txt file, .py file, .pdf file, .csv file etc.- Text files"
   ]
  },
  {
   "cell_type": "markdown",
   "id": "db656b38-1fef-4bde-85c6-ea428a81a901",
   "metadata": {},
   "source": [
    "# Binary Files"
   ]
  },
  {
   "cell_type": "code",
   "execution_count": 31,
   "id": "ca6a9233-d6b3-46a4-ada9-822b7187b352",
   "metadata": {},
   "outputs": [],
   "source": [
    "# - If it is not a text file then it is a binary file.\n",
    "# - Image files, audio files, video files etc."
   ]
  },
  {
   "cell_type": "markdown",
   "id": "7544e4b0-2c7b-4f60-a2ae-b6e1ca4ff776",
   "metadata": {},
   "source": [
    "# Handling Text Files"
   ]
  },
  {
   "cell_type": "code",
   "execution_count": 34,
   "id": "e9f5fecf-1d2a-4674-923c-013e1305b901",
   "metadata": {},
   "outputs": [],
   "source": [
    "# - In Python we have to open a file before performing any operation.\n",
    "# - A file has to be closed after performing the operation."
   ]
  },
  {
   "cell_type": "markdown",
   "id": "d5db7eca-a022-4c6f-9fd6-5e48f92efa11",
   "metadata": {},
   "source": [
    "### How to open a file"
   ]
  },
  {
   "cell_type": "markdown",
   "id": "2336b4bc-d1e1-4899-83bf-3465d04af23e",
   "metadata": {},
   "source": [
    "#### open()"
   ]
  },
  {
   "cell_type": "code",
   "execution_count": 38,
   "id": "d41f6762-06ef-4ae4-926a-5b5f91b25f36",
   "metadata": {},
   "outputs": [],
   "source": [
    "# f=open('file_name.extension','mode')\n",
    "\n",
    "# f- file object"
   ]
  },
  {
   "cell_type": "markdown",
   "id": "072b0d06-ce78-4558-ba0a-7c332ca7c5bb",
   "metadata": {},
   "source": [
    "### How to close a file"
   ]
  },
  {
   "cell_type": "markdown",
   "id": "cd5149b6-fd11-429c-b625-6f55952120a1",
   "metadata": {},
   "source": [
    "#### close()"
   ]
  },
  {
   "cell_type": "code",
   "execution_count": 43,
   "id": "627be242-e3b5-4188-99b2-158a0ff4c851",
   "metadata": {},
   "outputs": [],
   "source": [
    "# file_object.close()"
   ]
  },
  {
   "cell_type": "markdown",
   "id": "cde23b98-1ead-4fbd-ab8c-cdecefd44729",
   "metadata": {},
   "source": [
    "# Functions for reading and writing"
   ]
  },
  {
   "cell_type": "markdown",
   "id": "ee7eec82-ce0e-416e-a158-f677cb533bd9",
   "metadata": {},
   "source": [
    "### read()"
   ]
  },
  {
   "cell_type": "code",
   "execution_count": 87,
   "id": "3c66eae9-dc28-4f9d-972c-3013b1c09b83",
   "metadata": {},
   "outputs": [],
   "source": [
    "# - It reads the file from the cursor's position upto the end of the file and returns a string.\n",
    "# - After the read operation the cursor's position is at the end of the file."
   ]
  },
  {
   "cell_type": "markdown",
   "id": "fb1e2208-aa40-436d-87c0-d295528f3822",
   "metadata": {},
   "source": [
    "### read(int)"
   ]
  },
  {
   "cell_type": "code",
   "execution_count": 50,
   "id": "f0740367-fbfa-4af4-80ae-fc419361aae0",
   "metadata": {},
   "outputs": [],
   "source": [
    "# - It starts reading from the cursor's position and reads the specified number of characters."
   ]
  },
  {
   "cell_type": "markdown",
   "id": "51c182d1-91dd-455a-9b33-6a9c8bf39157",
   "metadata": {},
   "source": [
    "### readline()"
   ]
  },
  {
   "cell_type": "code",
   "execution_count": 53,
   "id": "6245733f-6341-4561-b365-dd23158028f0",
   "metadata": {},
   "outputs": [],
   "source": [
    "# - It reads from the cursor's position upto the end of the current line and returns a string object.\n",
    "# - It reads one line at a time."
   ]
  },
  {
   "cell_type": "markdown",
   "id": "8e8f7b8f-ceaf-40d4-8a7c-9f920e540521",
   "metadata": {},
   "source": [
    "### readlines()"
   ]
  },
  {
   "cell_type": "code",
   "execution_count": 56,
   "id": "248fd91a-a953-4326-9602-9b5edccfac75",
   "metadata": {},
   "outputs": [],
   "source": [
    "# - It reads all the lines in a file and returns a list.\n",
    "# - Each element in a list is a line from the file."
   ]
  },
  {
   "cell_type": "markdown",
   "id": "b08f816a-bb61-436c-8b21-f06a9994742b",
   "metadata": {},
   "source": [
    "### write()"
   ]
  },
  {
   "cell_type": "code",
   "execution_count": 59,
   "id": "882f577c-e3f9-4eb1-bdd3-9d5b7f5faca1",
   "metadata": {},
   "outputs": [],
   "source": [
    "# - It takes a string as an argument and it writes that into a file."
   ]
  },
  {
   "cell_type": "markdown",
   "id": "f6675d0d-cb90-4ca3-b2ce-396859064a51",
   "metadata": {},
   "source": [
    "### writelines()"
   ]
  },
  {
   "cell_type": "code",
   "execution_count": 62,
   "id": "1dcb4283-52f9-49ed-8764-4ee2c62e6788",
   "metadata": {},
   "outputs": [],
   "source": [
    "# - It takes a list of strings as an arguement and writes the string values of the list into a file."
   ]
  },
  {
   "cell_type": "markdown",
   "id": "feccd12a-d9c7-46ed-ae7f-da68443233fc",
   "metadata": {},
   "source": [
    "### tell()"
   ]
  },
  {
   "cell_type": "code",
   "execution_count": 65,
   "id": "bafe4848-cd7c-4d3e-8600-38467dd5b513",
   "metadata": {},
   "outputs": [],
   "source": [
    "# - It returns the cursor's current position."
   ]
  },
  {
   "cell_type": "markdown",
   "id": "2b68679e-448e-4dd3-9cf9-00c1da4f8ec0",
   "metadata": {},
   "source": [
    "### seek(int)"
   ]
  },
  {
   "cell_type": "code",
   "execution_count": 68,
   "id": "ec5b3642-72f6-45b6-96bf-18dcb90e32e0",
   "metadata": {},
   "outputs": [],
   "source": [
    "# - It shifts the cursor at the specified index."
   ]
  },
  {
   "cell_type": "markdown",
   "id": "0c1462db-5f68-42ae-a4e5-c3c862c2b704",
   "metadata": {},
   "source": [
    "**Note-** All the above functions are invoked using the file_object"
   ]
  },
  {
   "cell_type": "markdown",
   "id": "1d53918d-6c4f-445b-a309-fec2f426295b",
   "metadata": {},
   "source": [
    "# Modes on a text file"
   ]
  },
  {
   "cell_type": "markdown",
   "id": "1f14d1f0-c896-430c-8e1d-7a25ef2bfde2",
   "metadata": {},
   "source": [
    "### 1- read mode - 'r'"
   ]
  },
  {
   "cell_type": "code",
   "execution_count": 73,
   "id": "9e36f02b-45bc-42c8-a2f0-ea6015b4516c",
   "metadata": {},
   "outputs": [],
   "source": [
    "# - If the already exists then it opens a file in read mode and places the cursor at the beginning of the file.\n",
    "# - If the file does not exist then it raises FileNotFoundError.\n",
    "# - We are allowed to read from the file but we are not allowed to write into the file.\n",
    "# - The default mode is read mode."
   ]
  },
  {
   "cell_type": "code",
   "execution_count": 79,
   "id": "93fe56d3-7b46-453d-a1ee-04730e3c9f02",
   "metadata": {},
   "outputs": [],
   "source": [
    "# ls"
   ]
  },
  {
   "cell_type": "code",
   "execution_count": 81,
   "id": "ff2b31b7-412c-4ec7-836f-431d1630fead",
   "metadata": {},
   "outputs": [],
   "source": [
    "f=open('intro.txt','r')"
   ]
  },
  {
   "cell_type": "code",
   "execution_count": 83,
   "id": "417b0236-aba7-43de-a919-b6b6f81394d2",
   "metadata": {},
   "outputs": [
    {
     "name": "stdout",
     "output_type": "stream",
     "text": [
      "<_io.TextIOWrapper name='intro.txt' mode='r' encoding='cp1252'> <class '_io.TextIOWrapper'>\n"
     ]
    }
   ],
   "source": [
    "print(f,type(f))"
   ]
  },
  {
   "cell_type": "code",
   "execution_count": 85,
   "id": "0cc7137b-72bd-44e4-a618-e3031f49f2dc",
   "metadata": {},
   "outputs": [
    {
     "name": "stdout",
     "output_type": "stream",
     "text": [
      "0\n"
     ]
    }
   ],
   "source": [
    "print(f.tell())"
   ]
  },
  {
   "cell_type": "code",
   "execution_count": 89,
   "id": "299f4e3a-1b22-4316-b790-6ccee508e7f1",
   "metadata": {},
   "outputs": [
    {
     "name": "stdout",
     "output_type": "stream",
     "text": [
      "Hello everyone!\n",
      "How are you?\n",
      "How is your learning going on?\n",
      "We are learning File Handling now.\n",
      "Happy learning\n"
     ]
    }
   ],
   "source": [
    "print(f.read())"
   ]
  },
  {
   "cell_type": "code",
   "execution_count": 91,
   "id": "c84b9ea1-a2c8-4dc0-be0d-f6fdc1384a35",
   "metadata": {},
   "outputs": [
    {
     "name": "stdout",
     "output_type": "stream",
     "text": [
      "109\n"
     ]
    }
   ],
   "source": [
    "print(f.tell())"
   ]
  },
  {
   "cell_type": "code",
   "execution_count": 93,
   "id": "accd3ed7-c777-4df0-88e1-4e86b76fcd14",
   "metadata": {},
   "outputs": [
    {
     "name": "stdout",
     "output_type": "stream",
     "text": [
      "\n"
     ]
    }
   ],
   "source": [
    "print(f.read())"
   ]
  },
  {
   "cell_type": "code",
   "execution_count": 99,
   "id": "b666d136-4512-474a-9e73-7cc6c2f3dc6c",
   "metadata": {},
   "outputs": [
    {
     "data": {
      "text/plain": [
       "17"
      ]
     },
     "execution_count": 99,
     "metadata": {},
     "output_type": "execute_result"
    }
   ],
   "source": [
    "f.seek(17)"
   ]
  },
  {
   "cell_type": "code",
   "execution_count": 101,
   "id": "b92e517d-97cd-4234-b49d-91460f1f7123",
   "metadata": {},
   "outputs": [
    {
     "name": "stdout",
     "output_type": "stream",
     "text": [
      "17\n"
     ]
    }
   ],
   "source": [
    "print(f.tell())"
   ]
  },
  {
   "cell_type": "code",
   "execution_count": 103,
   "id": "bf294b72-f712-424c-9809-729f4868fd2c",
   "metadata": {},
   "outputs": [
    {
     "name": "stdout",
     "output_type": "stream",
     "text": [
      "ow are you?\n",
      "How is your learning going on?\n",
      "We are learning File Handling now.\n",
      "Happy learning\n"
     ]
    }
   ],
   "source": [
    "print(f.read())"
   ]
  },
  {
   "cell_type": "code",
   "execution_count": 105,
   "id": "22121592-1673-4b09-9c30-17f40a28b700",
   "metadata": {},
   "outputs": [
    {
     "name": "stdout",
     "output_type": "stream",
     "text": [
      "109\n"
     ]
    }
   ],
   "source": [
    "print(f.tell())"
   ]
  },
  {
   "cell_type": "code",
   "execution_count": 107,
   "id": "597c9727-db50-4159-aaf9-e8a5d28257cd",
   "metadata": {},
   "outputs": [
    {
     "data": {
      "text/plain": [
       "0"
      ]
     },
     "execution_count": 107,
     "metadata": {},
     "output_type": "execute_result"
    }
   ],
   "source": [
    "f.seek(0)"
   ]
  },
  {
   "cell_type": "code",
   "execution_count": 109,
   "id": "66bd41cd-4f7c-45a8-8cbd-d1cfbd6e3887",
   "metadata": {},
   "outputs": [
    {
     "name": "stdout",
     "output_type": "stream",
     "text": [
      "0\n"
     ]
    }
   ],
   "source": [
    "print(f.tell())"
   ]
  },
  {
   "cell_type": "code",
   "execution_count": 111,
   "id": "2f715fc9-1474-4536-8737-6414595ae421",
   "metadata": {},
   "outputs": [
    {
     "name": "stdout",
     "output_type": "stream",
     "text": [
      "Hello\n"
     ]
    }
   ],
   "source": [
    "print(f.read(5))"
   ]
  },
  {
   "cell_type": "code",
   "execution_count": 115,
   "id": "a135c798-710f-42cc-867b-5c6bfe0ee4cf",
   "metadata": {},
   "outputs": [
    {
     "name": "stdout",
     "output_type": "stream",
     "text": [
      "5\n"
     ]
    }
   ],
   "source": [
    "print(f.tell())"
   ]
  },
  {
   "cell_type": "code",
   "execution_count": 117,
   "id": "7861040d-8579-4e52-9425-bebfe2915244",
   "metadata": {},
   "outputs": [],
   "source": [
    "content=f.read()"
   ]
  },
  {
   "cell_type": "code",
   "execution_count": 119,
   "id": "ae058426-efd3-4e4f-8085-7d0c89896623",
   "metadata": {},
   "outputs": [
    {
     "name": "stdout",
     "output_type": "stream",
     "text": [
      " everyone!\n",
      "How are you?\n",
      "How is your learning going on?\n",
      "We are learning File Handling now.\n",
      "Happy learning <class 'str'>\n"
     ]
    }
   ],
   "source": [
    "print(content,type(content))"
   ]
  },
  {
   "cell_type": "code",
   "execution_count": 121,
   "id": "ed393c5a-7b35-401b-8cee-44ab254ec1f3",
   "metadata": {},
   "outputs": [],
   "source": [
    "f.close()"
   ]
  },
  {
   "cell_type": "code",
   "execution_count": 123,
   "id": "a79f8700-9274-4319-acc5-0da7f8ec310c",
   "metadata": {},
   "outputs": [
    {
     "data": {
      "text/plain": [
       "True"
      ]
     },
     "execution_count": 123,
     "metadata": {},
     "output_type": "execute_result"
    }
   ],
   "source": [
    "f.closed"
   ]
  },
  {
   "cell_type": "code",
   "execution_count": 125,
   "id": "a40116fe-8d85-4f49-842d-556be6b620f2",
   "metadata": {},
   "outputs": [
    {
     "ename": "FileNotFoundError",
     "evalue": "[Errno 2] No such file or directory: 'abc.txt'",
     "output_type": "error",
     "traceback": [
      "\u001b[1;31m---------------------------------------------------------------------------\u001b[0m",
      "\u001b[1;31mFileNotFoundError\u001b[0m                         Traceback (most recent call last)",
      "Cell \u001b[1;32mIn[125], line 1\u001b[0m\n\u001b[1;32m----> 1\u001b[0m f\u001b[38;5;241m=\u001b[39m\u001b[38;5;28mopen\u001b[39m(\u001b[38;5;124m'\u001b[39m\u001b[38;5;124mabc.txt\u001b[39m\u001b[38;5;124m'\u001b[39m,\u001b[38;5;124m'\u001b[39m\u001b[38;5;124mr\u001b[39m\u001b[38;5;124m'\u001b[39m)\n",
      "File \u001b[1;32m~\\anaconda3\\Lib\\site-packages\\IPython\\core\\interactiveshell.py:284\u001b[0m, in \u001b[0;36m_modified_open\u001b[1;34m(file, *args, **kwargs)\u001b[0m\n\u001b[0;32m    277\u001b[0m \u001b[38;5;28;01mif\u001b[39;00m file \u001b[38;5;129;01min\u001b[39;00m {\u001b[38;5;241m0\u001b[39m, \u001b[38;5;241m1\u001b[39m, \u001b[38;5;241m2\u001b[39m}:\n\u001b[0;32m    278\u001b[0m     \u001b[38;5;28;01mraise\u001b[39;00m \u001b[38;5;167;01mValueError\u001b[39;00m(\n\u001b[0;32m    279\u001b[0m         \u001b[38;5;124mf\u001b[39m\u001b[38;5;124m\"\u001b[39m\u001b[38;5;124mIPython won\u001b[39m\u001b[38;5;124m'\u001b[39m\u001b[38;5;124mt let you open fd=\u001b[39m\u001b[38;5;132;01m{\u001b[39;00mfile\u001b[38;5;132;01m}\u001b[39;00m\u001b[38;5;124m by default \u001b[39m\u001b[38;5;124m\"\u001b[39m\n\u001b[0;32m    280\u001b[0m         \u001b[38;5;124m\"\u001b[39m\u001b[38;5;124mas it is likely to crash IPython. If you know what you are doing, \u001b[39m\u001b[38;5;124m\"\u001b[39m\n\u001b[0;32m    281\u001b[0m         \u001b[38;5;124m\"\u001b[39m\u001b[38;5;124myou can use builtins\u001b[39m\u001b[38;5;124m'\u001b[39m\u001b[38;5;124m open.\u001b[39m\u001b[38;5;124m\"\u001b[39m\n\u001b[0;32m    282\u001b[0m     )\n\u001b[1;32m--> 284\u001b[0m \u001b[38;5;28;01mreturn\u001b[39;00m io_open(file, \u001b[38;5;241m*\u001b[39margs, \u001b[38;5;241m*\u001b[39m\u001b[38;5;241m*\u001b[39mkwargs)\n",
      "\u001b[1;31mFileNotFoundError\u001b[0m: [Errno 2] No such file or directory: 'abc.txt'"
     ]
    }
   ],
   "source": [
    "f=open('abc.txt','r')"
   ]
  },
  {
   "cell_type": "code",
   "execution_count": 127,
   "id": "2848c323-6cbd-4937-9b24-19197947b110",
   "metadata": {},
   "outputs": [],
   "source": [
    "f=open('intro.txt','r')"
   ]
  },
  {
   "cell_type": "code",
   "execution_count": 129,
   "id": "8f7b6978-d11f-49e5-91c2-60d34fb7874a",
   "metadata": {},
   "outputs": [
    {
     "name": "stdout",
     "output_type": "stream",
     "text": [
      "Hello e\n"
     ]
    }
   ],
   "source": [
    "print(f.read(7))"
   ]
  },
  {
   "cell_type": "code",
   "execution_count": 131,
   "id": "53803edc-6b73-43df-b967-b847620b6d0e",
   "metadata": {},
   "outputs": [
    {
     "ename": "UnsupportedOperation",
     "evalue": "not writable",
     "output_type": "error",
     "traceback": [
      "\u001b[1;31m---------------------------------------------------------------------------\u001b[0m",
      "\u001b[1;31mUnsupportedOperation\u001b[0m                      Traceback (most recent call last)",
      "Cell \u001b[1;32mIn[131], line 1\u001b[0m\n\u001b[1;32m----> 1\u001b[0m f\u001b[38;5;241m.\u001b[39mwrite(\u001b[38;5;124m'\u001b[39m\u001b[38;5;124mBatman\u001b[39m\u001b[38;5;124m'\u001b[39m)\n",
      "\u001b[1;31mUnsupportedOperation\u001b[0m: not writable"
     ]
    }
   ],
   "source": [
    "f.write('Batman')"
   ]
  },
  {
   "cell_type": "code",
   "execution_count": 133,
   "id": "4eee3e02-b415-4f98-8537-0d7799f471ca",
   "metadata": {},
   "outputs": [],
   "source": [
    "f=open('intro.txt')"
   ]
  },
  {
   "cell_type": "code",
   "execution_count": 135,
   "id": "07d86b9f-d3fe-4651-9afe-f67a455a78e5",
   "metadata": {},
   "outputs": [
    {
     "name": "stdout",
     "output_type": "stream",
     "text": [
      "0\n"
     ]
    }
   ],
   "source": [
    "print(f.tell())"
   ]
  },
  {
   "cell_type": "code",
   "execution_count": 137,
   "id": "d13f765f-9936-47c0-a987-a4e9b420d661",
   "metadata": {},
   "outputs": [
    {
     "name": "stdout",
     "output_type": "stream",
     "text": [
      "Hello eve\n"
     ]
    }
   ],
   "source": [
    "print(f.read(9))"
   ]
  },
  {
   "cell_type": "code",
   "execution_count": 139,
   "id": "a50eed7b-846c-470f-b19b-2d574ebfe52d",
   "metadata": {},
   "outputs": [
    {
     "name": "stdout",
     "output_type": "stream",
     "text": [
      "9\n"
     ]
    }
   ],
   "source": [
    "print(f.tell())"
   ]
  },
  {
   "cell_type": "code",
   "execution_count": 141,
   "id": "4f2c78d7-0503-47bb-b497-9196b3bb3e10",
   "metadata": {},
   "outputs": [],
   "source": [
    "f.close()"
   ]
  },
  {
   "cell_type": "code",
   "execution_count": null,
   "id": "84ed7f40-5734-4d13-bcb5-8be7e1879b5a",
   "metadata": {},
   "outputs": [],
   "source": []
  }
 ],
 "metadata": {
  "kernelspec": {
   "display_name": "Python 3 (ipykernel)",
   "language": "python",
   "name": "python3"
  },
  "language_info": {
   "codemirror_mode": {
    "name": "ipython",
    "version": 3
   },
   "file_extension": ".py",
   "mimetype": "text/x-python",
   "name": "python",
   "nbconvert_exporter": "python",
   "pygments_lexer": "ipython3",
   "version": "3.11.4"
  }
 },
 "nbformat": 4,
 "nbformat_minor": 5
}
