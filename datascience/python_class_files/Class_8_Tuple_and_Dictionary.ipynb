{
 "cells": [
  {
   "cell_type": "markdown",
   "id": "acb712fa-fc87-4c9d-8d21-60df0d7c6037",
   "metadata": {},
   "source": [
    "# Tuple"
   ]
  },
  {
   "cell_type": "code",
   "execution_count": 10,
   "id": "7a53c5be-cbee-4b1c-a3ed-ef124603eddb",
   "metadata": {},
   "outputs": [],
   "source": [
    "# - A tuple is a collection of elements kept inside the ().\n",
    "# - Each element in a tuple is seperated by a comma.\n",
    "# - A tuple can have heterogenous elements.\n",
    "# - A tuple may have duplicated elements as well."
   ]
  },
  {
   "cell_type": "code",
   "execution_count": 4,
   "id": "58e8c78d-f9c2-4a9d-89f8-679bb9cdcc7a",
   "metadata": {},
   "outputs": [
    {
     "name": "stdout",
     "output_type": "stream",
     "text": [
      "(10, 20, 30, 40, 50, 60, 70, 80) <class 'tuple'>\n"
     ]
    }
   ],
   "source": [
    "t=(10,20,30,40,50,60,70,80)\n",
    "print(t,type(t))"
   ]
  },
  {
   "cell_type": "code",
   "execution_count": 8,
   "id": "ae214a4d-0caa-458f-b94f-c6dc83496fe8",
   "metadata": {},
   "outputs": [
    {
     "name": "stdout",
     "output_type": "stream",
     "text": [
      "(True, 'Python', 5000, (6+8j), [1, 2, 3, 4, 5], None, {1: 100, 2: 200}) <class 'tuple'>\n"
     ]
    }
   ],
   "source": [
    "t=(True, 'Python', 5000, 6+8j, [1,2,3,4,5], None, {1:100,2:200})\n",
    "print(t,type(t))"
   ]
  },
  {
   "cell_type": "code",
   "execution_count": 12,
   "id": "498fa45e-6f46-4b18-873d-66958c6aad33",
   "metadata": {},
   "outputs": [
    {
     "name": "stdout",
     "output_type": "stream",
     "text": [
      "{1, 2, 4, 5} <class 'set'>\n"
     ]
    }
   ],
   "source": [
    "s={1,2,5,2,2,2,2,2,2,5,5,5,5,2,2,1,4,4,5,5,5,5}\n",
    "print(s,type(s))"
   ]
  },
  {
   "cell_type": "code",
   "execution_count": 14,
   "id": "84b3443f-206b-4a86-af9a-68a4e0ead0bc",
   "metadata": {},
   "outputs": [
    {
     "name": "stdout",
     "output_type": "stream",
     "text": [
      "(1, 2, 5, 2, 2, 2, 2, 2, 2, 5, 5, 5, 5, 2, 2, 1, 4, 4, 5, 5, 5, 5) <class 'tuple'>\n"
     ]
    }
   ],
   "source": [
    "t=(1,2,5,2,2,2,2,2,2,5,5,5,5,2,2,1,4,4,5,5,5,5)\n",
    "print(t,type(t))"
   ]
  },
  {
   "cell_type": "markdown",
   "id": "44520133-3e58-437e-a1c4-c90339b845d2",
   "metadata": {},
   "source": [
    "# Operations on a tuple"
   ]
  },
  {
   "cell_type": "code",
   "execution_count": 17,
   "id": "fcdb2574-e6e5-40a3-be77-18dc5c6c2fad",
   "metadata": {},
   "outputs": [],
   "source": [
    "# - Concatenation\n",
    "# - Repeatition\n",
    "# - Length\n",
    "# - Indexing and slicing\n",
    "# - Membership"
   ]
  },
  {
   "cell_type": "markdown",
   "id": "e3b7429a-ba84-4df5-a6b1-2aa1a00bd2ee",
   "metadata": {},
   "source": [
    "# Concatenation"
   ]
  },
  {
   "cell_type": "code",
   "execution_count": 20,
   "id": "a731b5a1-b10a-4e77-b9c7-828bf97764be",
   "metadata": {},
   "outputs": [],
   "source": [
    "# - Joining two or more tuples together is known as concatenation of the tuples.\n",
    "# - A tuple can be concatenated with a tuple only.\n",
    "# - If we concatenate a tuple with some other type then we get type error.\n",
    "# - + operator is used to concatenate two tuples together."
   ]
  },
  {
   "cell_type": "code",
   "execution_count": 26,
   "id": "b7e180c5-0014-483b-89f9-7460e0eb2806",
   "metadata": {},
   "outputs": [
    {
     "name": "stdout",
     "output_type": "stream",
     "text": [
      "(10, 20, 100, 300)\n"
     ]
    }
   ],
   "source": [
    "t1=(10,20)\n",
    "t2=(100,300)\n",
    "t=t1+t2\n",
    "print(t)"
   ]
  },
  {
   "cell_type": "code",
   "execution_count": 28,
   "id": "36cf3e17-d19d-4a7d-8b7d-035870b07f2b",
   "metadata": {},
   "outputs": [
    {
     "ename": "TypeError",
     "evalue": "can only concatenate tuple (not \"list\") to tuple",
     "output_type": "error",
     "traceback": [
      "\u001b[1;31m---------------------------------------------------------------------------\u001b[0m",
      "\u001b[1;31mTypeError\u001b[0m                                 Traceback (most recent call last)",
      "Cell \u001b[1;32mIn[28], line 3\u001b[0m\n\u001b[0;32m      1\u001b[0m t\u001b[38;5;241m=\u001b[39m(\u001b[38;5;241m10\u001b[39m,\u001b[38;5;241m20\u001b[39m)\n\u001b[0;32m      2\u001b[0m l\u001b[38;5;241m=\u001b[39m[\u001b[38;5;241m1\u001b[39m,\u001b[38;5;241m2\u001b[39m]\n\u001b[1;32m----> 3\u001b[0m \u001b[38;5;28mprint\u001b[39m(t\u001b[38;5;241m+\u001b[39ml)\n",
      "\u001b[1;31mTypeError\u001b[0m: can only concatenate tuple (not \"list\") to tuple"
     ]
    }
   ],
   "source": [
    "t=(10,20)\n",
    "l=[1,2]\n",
    "print(t+l)"
   ]
  },
  {
   "cell_type": "code",
   "execution_count": 43,
   "id": "6ebbf128-7f28-4bc4-a31c-0f0144ac9a3b",
   "metadata": {},
   "outputs": [
    {
     "name": "stdout",
     "output_type": "stream",
     "text": [
      "(10, 20, 5, 6)\n"
     ]
    }
   ],
   "source": [
    "print((10,20)+(5,6))"
   ]
  },
  {
   "cell_type": "markdown",
   "id": "3f3418f6-0af7-410c-a36c-dbdeccaebfbc",
   "metadata": {},
   "source": [
    "# Repeatition"
   ]
  },
  {
   "cell_type": "code",
   "execution_count": 31,
   "id": "f91470d8-90c0-46c8-be49-24723d9dc55e",
   "metadata": {},
   "outputs": [],
   "source": [
    "# - * operator is used to repeat a tuple"
   ]
  },
  {
   "cell_type": "code",
   "execution_count": 33,
   "id": "3998488f-a624-4775-9036-f05125adaa7e",
   "metadata": {},
   "outputs": [
    {
     "name": "stdout",
     "output_type": "stream",
     "text": [
      "(10, 20, 30, 10, 20, 30, 10, 20, 30, 10, 20, 30, 10, 20, 30)\n"
     ]
    }
   ],
   "source": [
    "t=(10,20,30)\n",
    "print(t*5)"
   ]
  },
  {
   "cell_type": "markdown",
   "id": "43dcffc5-98e3-4115-99d4-da6cfeac1fbc",
   "metadata": {},
   "source": [
    "# Length"
   ]
  },
  {
   "cell_type": "code",
   "execution_count": 46,
   "id": "13a35634-2710-4713-a4aa-5bbef300c56d",
   "metadata": {},
   "outputs": [],
   "source": [
    "# - The number of elements in a tuple is the length of the tuple.\n",
    "# - len()- It returns the length of the tuple."
   ]
  },
  {
   "cell_type": "code",
   "execution_count": 48,
   "id": "b8e3a897-5660-420f-b2a3-6124a10f1c47",
   "metadata": {},
   "outputs": [
    {
     "name": "stdout",
     "output_type": "stream",
     "text": [
      "10\n"
     ]
    }
   ],
   "source": [
    "t=(10,20,30,40,50,20,81,60,40,18)\n",
    "print(len(t))"
   ]
  },
  {
   "cell_type": "markdown",
   "id": "eec1285a-40ed-4504-b7ed-856cdb735d0d",
   "metadata": {},
   "source": [
    "# Indexing and Slicing of a tuple"
   ]
  },
  {
   "cell_type": "markdown",
   "id": "de2633c9-c5e4-4909-88f5-670e92ed69fa",
   "metadata": {},
   "source": [
    "### Indexing"
   ]
  },
  {
   "cell_type": "code",
   "execution_count": 52,
   "id": "b91da4c0-22f1-4c66-9553-9733e6fedb0a",
   "metadata": {},
   "outputs": [],
   "source": [
    "# - A tuple is a =n ordered collection of data as each element is stored at a particular index in a tuple.\n",
    "# - It is also known as sequence type as it follows indexing.\n",
    "# - A tuple supports +ive and -ive indexing both."
   ]
  },
  {
   "cell_type": "code",
   "execution_count": 54,
   "id": "a2dd9f89-7eab-4137-8f5c-9cbd9cdd2947",
   "metadata": {},
   "outputs": [
    {
     "name": "stdout",
     "output_type": "stream",
     "text": [
      "(10, 20, 30, 40, 50, 60, 70, 80) <class 'tuple'>\n"
     ]
    }
   ],
   "source": [
    "t=(10,20,30,40,50,60,70,80)\n",
    "print(t,type(t))"
   ]
  },
  {
   "cell_type": "code",
   "execution_count": 64,
   "id": "cea2a0e0-a208-4943-aada-c0423c28b3f7",
   "metadata": {},
   "outputs": [
    {
     "name": "stdout",
     "output_type": "stream",
     "text": [
      "10\n",
      "10\n",
      "10\n"
     ]
    }
   ],
   "source": [
    "# First element\n",
    "print(t[0])\n",
    "print(t[-8])\n",
    "print(t[-len(t)])"
   ]
  },
  {
   "cell_type": "code",
   "execution_count": 62,
   "id": "7a9565b0-383e-41ee-9ed7-6cca774f3bf7",
   "metadata": {},
   "outputs": [
    {
     "data": {
      "text/plain": [
       "-8"
      ]
     },
     "execution_count": 62,
     "metadata": {},
     "output_type": "execute_result"
    }
   ],
   "source": [
    "-len(t)"
   ]
  },
  {
   "cell_type": "code",
   "execution_count": 76,
   "id": "90b6e480-0fe9-4f1d-83d3-d614ae742a3e",
   "metadata": {},
   "outputs": [
    {
     "name": "stdout",
     "output_type": "stream",
     "text": [
      "80\n",
      "80\n",
      "80\n"
     ]
    }
   ],
   "source": [
    "# Last element\n",
    "print(t[-1])\n",
    "print(t[7])\n",
    "print(t[len(t)-1])"
   ]
  },
  {
   "cell_type": "code",
   "execution_count": 72,
   "id": "e54bfde8-7fc8-4cd4-bde2-f85fddb88f07",
   "metadata": {},
   "outputs": [
    {
     "data": {
      "text/plain": [
       "7"
      ]
     },
     "execution_count": 72,
     "metadata": {},
     "output_type": "execute_result"
    }
   ],
   "source": [
    "len(t)-1"
   ]
  },
  {
   "cell_type": "markdown",
   "id": "fb93cc0b-37da-4c32-a5a8-55158d73150e",
   "metadata": {},
   "source": [
    "# Slicing"
   ]
  },
  {
   "cell_type": "code",
   "execution_count": 79,
   "id": "5909bdaa-ee9e-4f49-bb89-b9f1b11b8a9a",
   "metadata": {},
   "outputs": [],
   "source": [
    "# Extracting a sub part of a tuple is known as tuple slicing."
   ]
  },
  {
   "cell_type": "code",
   "execution_count": 81,
   "id": "a887085f-0a23-4d0b-bcae-efab948d7857",
   "metadata": {},
   "outputs": [
    {
     "name": "stdout",
     "output_type": "stream",
     "text": [
      "(10, 20, 30, 40, 50, 60, 70, 80) <class 'tuple'>\n"
     ]
    }
   ],
   "source": [
    "t=(10,20,30,40,50,60,70,80)\n",
    "print(t,type(t))"
   ]
  },
  {
   "cell_type": "code",
   "execution_count": 87,
   "id": "58006939-612b-4c19-9ced-0df99053bef2",
   "metadata": {},
   "outputs": [
    {
     "name": "stdout",
     "output_type": "stream",
     "text": [
      "(10, 20, 30, 40)\n",
      "(10, 20, 30, 40)\n",
      "(10, 20, 30, 40)\n"
     ]
    }
   ],
   "source": [
    "# First four elements\n",
    "print(t[0:4])\n",
    "print(t[0:4:1])\n",
    "print(t[:4])"
   ]
  },
  {
   "cell_type": "code",
   "execution_count": 89,
   "id": "457f27e8-ba72-4091-af68-d2e291eb946d",
   "metadata": {},
   "outputs": [
    {
     "name": "stdout",
     "output_type": "stream",
     "text": [
      "(80, 70, 60, 50, 40, 30, 20, 10)\n"
     ]
    }
   ],
   "source": [
    "# Reverse the tuple\n",
    "print(t[::-1])"
   ]
  },
  {
   "cell_type": "code",
   "execution_count": 95,
   "id": "0d936fc0-2d10-4265-822c-56e633832c2d",
   "metadata": {},
   "outputs": [
    {
     "name": "stdout",
     "output_type": "stream",
     "text": [
      "(10, 20, 30, 40, 50, 60, 70, 80)\n"
     ]
    }
   ],
   "source": [
    "t=(10,20,30,40,50,60,70,80)\n",
    "print(t)"
   ]
  },
  {
   "cell_type": "code",
   "execution_count": 97,
   "id": "462ac6b3-2f2a-4880-afc2-47561aac9184",
   "metadata": {},
   "outputs": [
    {
     "name": "stdout",
     "output_type": "stream",
     "text": [
      "(70, 50, 30)\n"
     ]
    }
   ],
   "source": [
    "print(t[-2:1:-2])"
   ]
  },
  {
   "cell_type": "markdown",
   "id": "95e88299-d95a-4360-a458-376f9c7ad658",
   "metadata": {},
   "source": [
    "# How to create a tuple"
   ]
  },
  {
   "cell_type": "markdown",
   "id": "0e603a02-a8d8-49ca-b03d-65504716ee1b",
   "metadata": {},
   "source": [
    "# Case_1\n",
    "- When we already know the elements"
   ]
  },
  {
   "cell_type": "code",
   "execution_count": 101,
   "id": "5edef1b8-235b-41b1-b8a6-21e0be94a577",
   "metadata": {},
   "outputs": [
    {
     "name": "stdout",
     "output_type": "stream",
     "text": [
      "(10, 20, 30, 40, 50) <class 'tuple'>\n"
     ]
    }
   ],
   "source": [
    "t=(10,20,30,40,50)\n",
    "print(t,type(t))"
   ]
  },
  {
   "cell_type": "markdown",
   "id": "41076300-d568-4728-b03d-8e128272a380",
   "metadata": {},
   "source": [
    "# Case_2\n",
    "- By using the tuple()"
   ]
  },
  {
   "cell_type": "code",
   "execution_count": 104,
   "id": "01aa4e7b-590f-49cc-8ab1-12b69eb6fccc",
   "metadata": {},
   "outputs": [],
   "source": [
    "# tuple(iterable)- It returns a tuple (Typecasting)"
   ]
  },
  {
   "cell_type": "code",
   "execution_count": 108,
   "id": "7c1e0101-29a3-47a4-85f1-440638cd315c",
   "metadata": {},
   "outputs": [
    {
     "name": "stdout",
     "output_type": "stream",
     "text": [
      "Python class <class 'str'>\n",
      "('P', 'y', 't', 'h', 'o', 'n', ' ', 'c', 'l', 'a', 's', 's') <class 'tuple'>\n"
     ]
    }
   ],
   "source": [
    "my_str='Python class'\n",
    "print(my_str,type(my_str))\n",
    "\n",
    "t=tuple(my_str)\n",
    "print(t,type(t))"
   ]
  },
  {
   "cell_type": "code",
   "execution_count": 112,
   "id": "b6e12721-c644-4519-9ffe-29ef8f2801ec",
   "metadata": {},
   "outputs": [
    {
     "name": "stdout",
     "output_type": "stream",
     "text": [
      "[True, None, 'Hello', (5+5j), {1: 100, 2: 200}] <class 'list'>\n",
      "(True, None, 'Hello', (5+5j), {1: 100, 2: 200}) <class 'tuple'>\n"
     ]
    }
   ],
   "source": [
    "lst=[True, None, 'Hello', 5+5j, {1:100,2:200}]\n",
    "print(lst,type(lst))\n",
    "\n",
    "t=tuple(lst)\n",
    "print(t,type(t))"
   ]
  },
  {
   "cell_type": "code",
   "execution_count": 122,
   "id": "a7048632-253f-47e3-b0b5-f4e5e92486a1",
   "metadata": {},
   "outputs": [
    {
     "name": "stdout",
     "output_type": "stream",
     "text": [
      "{1: 100, 2: 200, 3: 300, 4: 400} <class 'dict'>\n",
      "(1, 2, 3, 4) <class 'tuple'>\n",
      "(100, 200, 300, 400) <class 'tuple'>\n"
     ]
    }
   ],
   "source": [
    "d={1:100,2:200,3:300,4:400}\n",
    "print(d,type(d))\n",
    "\n",
    "t=tuple(d)\n",
    "print(t,type(t))\n",
    "\n",
    "t=tuple(d.values())\n",
    "print(t,type(t))"
   ]
  },
  {
   "cell_type": "code",
   "execution_count": 126,
   "id": "d358f59f-190c-419e-8548-4fac6df7d073",
   "metadata": {},
   "outputs": [
    {
     "name": "stdout",
     "output_type": "stream",
     "text": [
      "{'Python', True, 55, (6+6j), None} <class 'set'>\n",
      "('Python', True, 55, (6+6j), None) <class 'tuple'>\n"
     ]
    }
   ],
   "source": [
    "s={True, 'Python', 55, 6+6j, None}\n",
    "print(s,type(s))\n",
    "\n",
    "t=tuple(s)\n",
    "print(t,type(t))"
   ]
  },
  {
   "cell_type": "code",
   "execution_count": 130,
   "id": "3070ea82-fd24-43b0-9855-61dba720e26c",
   "metadata": {},
   "outputs": [
    {
     "name": "stdout",
     "output_type": "stream",
     "text": [
      "frozenset({True, 8.444444, None, 'Python', 55, (6+6j)}) <class 'frozenset'>\n",
      "(True, 8.444444, None, 'Python', 55, (6+6j)) <class 'tuple'>\n"
     ]
    }
   ],
   "source": [
    "f=frozenset([True, 'Python', 55, 6+6j, None, 8.444444])\n",
    "print(f,type(f))\n",
    "\n",
    "t=tuple(f)\n",
    "print(t,type(t))"
   ]
  },
  {
   "cell_type": "code",
   "execution_count": 138,
   "id": "b722896d-300a-4c0c-9d93-c16c764fe8aa",
   "metadata": {},
   "outputs": [
    {
     "name": "stdout",
     "output_type": "stream",
     "text": [
      "range(1, 11) <class 'range'>\n",
      "(1, 2, 3, 4, 5, 6, 7, 8, 9, 10) <class 'tuple'>\n"
     ]
    }
   ],
   "source": [
    "r=range(1,11)\n",
    "print(r,type(r))\n",
    "\n",
    "t=tuple(r)\n",
    "print(t,type(t))"
   ]
  },
  {
   "cell_type": "code",
   "execution_count": 142,
   "id": "94466ccb-ae3a-48bf-903f-477ad910562f",
   "metadata": {},
   "outputs": [
    {
     "name": "stdout",
     "output_type": "stream",
     "text": [
      "<enumerate object at 0x000001BEF7D6D800> <class 'enumerate'>\n",
      "((0, 'P'), (1, 'y'), (2, 't'), (3, 'h'), (4, 'o'), (5, 'n')) <class 'tuple'>\n"
     ]
    }
   ],
   "source": [
    "e=enumerate('Python')\n",
    "print(e,type(e))\n",
    "\n",
    "t=tuple(e)\n",
    "print(t,type(t))"
   ]
  },
  {
   "cell_type": "code",
   "execution_count": 146,
   "id": "21655a6e-44db-4028-a554-14d2903e3c23",
   "metadata": {},
   "outputs": [
    {
     "name": "stdout",
     "output_type": "stream",
     "text": [
      "<zip object at 0x000001BEF9EABC00> <class 'zip'>\n",
      "((1, 'Amit'), (2, 'Jayanth'), (3, 'Suresh'), (4, 'Tania'), (5, 'Kabir')) <class 'tuple'>\n"
     ]
    }
   ],
   "source": [
    "z=zip([1,2,3,4,5],['Amit','Jayanth','Suresh','Tania','Kabir'])\n",
    "print(z,type(z))\n",
    "\n",
    "t=tuple(z)\n",
    "print(t,type(t))"
   ]
  },
  {
   "cell_type": "code",
   "execution_count": 150,
   "id": "aebc0c84-8a74-48ec-8d7d-a0a6f114961a",
   "metadata": {},
   "outputs": [
    {
     "name": "stdout",
     "output_type": "stream",
     "text": [
      "<filter object at 0x000001BEFA9D1120> <class 'filter'>\n",
      "(2, 4, 6, 8, 10) <class 'tuple'>\n"
     ]
    }
   ],
   "source": [
    "f=filter(lambda x:x%2==0, [1,2,3,4,5,6,7,8,9,10])\n",
    "print(f,type(f))\n",
    "\n",
    "t=tuple(f)\n",
    "print(t,type(t))"
   ]
  },
  {
   "cell_type": "code",
   "execution_count": 154,
   "id": "4363c51c-9b51-488a-b92e-3aba1ebd8a49",
   "metadata": {},
   "outputs": [
    {
     "name": "stdout",
     "output_type": "stream",
     "text": [
      "<map object at 0x000001BEFA9D25F0> <class 'map'>\n",
      "(1, 4, 9, 16, 25) <class 'tuple'>\n"
     ]
    }
   ],
   "source": [
    "m=map(lambda x:x**2,[1,2,3,4,5])\n",
    "print(m,type(m))\n",
    "\n",
    "t=tuple(m)\n",
    "print(t,type(t))"
   ]
  },
  {
   "cell_type": "code",
   "execution_count": 156,
   "id": "ebda4778-e0bf-46d1-a642-a69c2ded1b29",
   "metadata": {},
   "outputs": [
    {
     "ename": "TypeError",
     "evalue": "'int' object is not iterable",
     "output_type": "error",
     "traceback": [
      "\u001b[1;31m---------------------------------------------------------------------------\u001b[0m",
      "\u001b[1;31mTypeError\u001b[0m                                 Traceback (most recent call last)",
      "Cell \u001b[1;32mIn[156], line 1\u001b[0m\n\u001b[1;32m----> 1\u001b[0m t\u001b[38;5;241m=\u001b[39m\u001b[38;5;28mtuple\u001b[39m(\u001b[38;5;241m25\u001b[39m)\n",
      "\u001b[1;31mTypeError\u001b[0m: 'int' object is not iterable"
     ]
    }
   ],
   "source": [
    "t=tuple(25)"
   ]
  },
  {
   "cell_type": "code",
   "execution_count": 158,
   "id": "5008fe48-efb5-44f4-9502-8299a3398689",
   "metadata": {},
   "outputs": [
    {
     "ename": "TypeError",
     "evalue": "'float' object is not iterable",
     "output_type": "error",
     "traceback": [
      "\u001b[1;31m---------------------------------------------------------------------------\u001b[0m",
      "\u001b[1;31mTypeError\u001b[0m                                 Traceback (most recent call last)",
      "Cell \u001b[1;32mIn[158], line 1\u001b[0m\n\u001b[1;32m----> 1\u001b[0m t\u001b[38;5;241m=\u001b[39m\u001b[38;5;28mtuple\u001b[39m(\u001b[38;5;241m2.8\u001b[39m)\n",
      "\u001b[1;31mTypeError\u001b[0m: 'float' object is not iterable"
     ]
    }
   ],
   "source": [
    "t=tuple(2.8)"
   ]
  },
  {
   "cell_type": "code",
   "execution_count": 160,
   "id": "ed6e622c-d708-4c0e-a3c0-f4797448f99b",
   "metadata": {},
   "outputs": [
    {
     "ename": "TypeError",
     "evalue": "'complex' object is not iterable",
     "output_type": "error",
     "traceback": [
      "\u001b[1;31m---------------------------------------------------------------------------\u001b[0m",
      "\u001b[1;31mTypeError\u001b[0m                                 Traceback (most recent call last)",
      "Cell \u001b[1;32mIn[160], line 1\u001b[0m\n\u001b[1;32m----> 1\u001b[0m t\u001b[38;5;241m=\u001b[39m\u001b[38;5;28mtuple\u001b[39m(\u001b[38;5;241m5\u001b[39m\u001b[38;5;241m+\u001b[39m\u001b[38;5;241m4\u001b[39mj)\n",
      "\u001b[1;31mTypeError\u001b[0m: 'complex' object is not iterable"
     ]
    }
   ],
   "source": [
    "t=tuple(5+4j)"
   ]
  },
  {
   "cell_type": "code",
   "execution_count": 162,
   "id": "f087d91f-47cb-4cff-ad5a-fb214a99c372",
   "metadata": {},
   "outputs": [
    {
     "ename": "TypeError",
     "evalue": "'bool' object is not iterable",
     "output_type": "error",
     "traceback": [
      "\u001b[1;31m---------------------------------------------------------------------------\u001b[0m",
      "\u001b[1;31mTypeError\u001b[0m                                 Traceback (most recent call last)",
      "Cell \u001b[1;32mIn[162], line 1\u001b[0m\n\u001b[1;32m----> 1\u001b[0m t\u001b[38;5;241m=\u001b[39m\u001b[38;5;28mtuple\u001b[39m(\u001b[38;5;28;01mTrue\u001b[39;00m)\n",
      "\u001b[1;31mTypeError\u001b[0m: 'bool' object is not iterable"
     ]
    }
   ],
   "source": [
    "t=tuple(True)"
   ]
  },
  {
   "cell_type": "markdown",
   "id": "d979b39e-7246-48bb-9ef2-72890e02b0f8",
   "metadata": {},
   "source": [
    "# Case_3\n",
    "- Creating a tuple of single element"
   ]
  },
  {
   "cell_type": "code",
   "execution_count": 165,
   "id": "f0d19b15-a0ca-4f4b-b382-314facb96e18",
   "metadata": {},
   "outputs": [],
   "source": [
    "# - When we have a single element inside the () then it is not a tuple but the element itself.\n",
    "# - If we have to create a tuple of single element then we have to pass the , after the single element inside the ()."
   ]
  },
  {
   "cell_type": "code",
   "execution_count": 167,
   "id": "46146dd8-578e-406d-bfd1-e14ca3127ab6",
   "metadata": {},
   "outputs": [
    {
     "name": "stdout",
     "output_type": "stream",
     "text": [
      "5 <class 'int'>\n"
     ]
    }
   ],
   "source": [
    "t=(5)\n",
    "print(t,type(t))"
   ]
  },
  {
   "cell_type": "code",
   "execution_count": 169,
   "id": "95027efc-e4cf-4a85-8302-06422bc9c0a3",
   "metadata": {},
   "outputs": [
    {
     "name": "stdout",
     "output_type": "stream",
     "text": [
      "(5,) <class 'tuple'>\n"
     ]
    }
   ],
   "source": [
    "t=(5,)\n",
    "print(t,type(t))"
   ]
  },
  {
   "cell_type": "code",
   "execution_count": 171,
   "id": "5c990d4b-3f68-4390-bc74-e7f5de6441ad",
   "metadata": {},
   "outputs": [
    {
     "name": "stdout",
     "output_type": "stream",
     "text": [
      "2.8 <class 'float'>\n"
     ]
    }
   ],
   "source": [
    "t=(2.8)\n",
    "print(t,type(t))"
   ]
  },
  {
   "cell_type": "code",
   "execution_count": 188,
   "id": "4b2f86e5-0c3b-4259-b07e-3074042e46f1",
   "metadata": {},
   "outputs": [
    {
     "name": "stdout",
     "output_type": "stream",
     "text": [
      "(2.8,) <class 'tuple'>\n"
     ]
    }
   ],
   "source": [
    "t=(2.8,)\n",
    "print(t,type(t))"
   ]
  },
  {
   "cell_type": "code",
   "execution_count": 175,
   "id": "a9bf3d6a-6b57-4c87-b829-06266cbcce76",
   "metadata": {},
   "outputs": [
    {
     "name": "stdout",
     "output_type": "stream",
     "text": [
      "Python <class 'str'>\n"
     ]
    }
   ],
   "source": [
    "t=('Python')\n",
    "print(t,type(t))"
   ]
  },
  {
   "cell_type": "code",
   "execution_count": 177,
   "id": "23a8e231-71ae-4a4c-8aab-23dbdd803a53",
   "metadata": {},
   "outputs": [
    {
     "name": "stdout",
     "output_type": "stream",
     "text": [
      "('Python',) <class 'tuple'>\n"
     ]
    }
   ],
   "source": [
    "t=('Python',)\n",
    "print(t,type(t))"
   ]
  },
  {
   "cell_type": "code",
   "execution_count": 179,
   "id": "26251b1a-a262-4216-aa98-5eaef4eaa0d2",
   "metadata": {},
   "outputs": [
    {
     "name": "stdout",
     "output_type": "stream",
     "text": [
      "[1, 2, 3, 4, 5] <class 'list'>\n"
     ]
    }
   ],
   "source": [
    "t=([1,2,3,4,5])\n",
    "print(t,type(t))"
   ]
  },
  {
   "cell_type": "code",
   "execution_count": 181,
   "id": "f2840148-9660-47c5-bb0b-c6d7a63fb0f7",
   "metadata": {},
   "outputs": [
    {
     "name": "stdout",
     "output_type": "stream",
     "text": [
      "([1, 2, 3, 4, 5],) <class 'tuple'>\n"
     ]
    }
   ],
   "source": [
    "t=([1,2,3,4,5],)\n",
    "print(t,type(t))"
   ]
  },
  {
   "cell_type": "markdown",
   "id": "cc41baca-918a-481b-8f77-ea4d1e09c8db",
   "metadata": {},
   "source": [
    "### We can create a tuple without ( ) as well"
   ]
  },
  {
   "cell_type": "code",
   "execution_count": 192,
   "id": "337dda89-4863-4125-b4db-f85aed178d60",
   "metadata": {},
   "outputs": [
    {
     "name": "stdout",
     "output_type": "stream",
     "text": [
      "1\n"
     ]
    }
   ],
   "source": [
    "# 2,4,8,6,1\n",
    "\n",
    "a=2\n",
    "a=4\n",
    "a=8\n",
    "a=6\n",
    "a=1\n",
    "print(a)"
   ]
  },
  {
   "cell_type": "code",
   "execution_count": 194,
   "id": "25d34304-fd03-4ab3-928f-c350a106fc5f",
   "metadata": {},
   "outputs": [
    {
     "name": "stdout",
     "output_type": "stream",
     "text": [
      "(2, 4, 6, 8, 1) <class 'tuple'>\n"
     ]
    }
   ],
   "source": [
    "a=2,4,6,8,1\n",
    "print(a,type(a))"
   ]
  },
  {
   "cell_type": "markdown",
   "id": "c8a2790b-590d-43ec-bb73-2d0aee61e876",
   "metadata": {},
   "source": [
    "# Packing and Unpacking"
   ]
  },
  {
   "cell_type": "markdown",
   "id": "e38228e7-ecc3-4520-a7e7-42b79f3467e2",
   "metadata": {},
   "source": [
    "#### Packing"
   ]
  },
  {
   "cell_type": "code",
   "execution_count": 197,
   "id": "d43072fb-5917-4fec-bf11-4d723fc97846",
   "metadata": {},
   "outputs": [],
   "source": [
    "# - Storing multiple values inside a single variable is known as packing.\n",
    "# - In Python packing is supported by tuple by default."
   ]
  },
  {
   "cell_type": "code",
   "execution_count": 200,
   "id": "723b62cd-0aa3-4c17-a5d0-518256ae5d6e",
   "metadata": {},
   "outputs": [
    {
     "name": "stdout",
     "output_type": "stream",
     "text": [
      "('Jayanth', 24, 'Pune', 88000) <class 'tuple'>\n"
     ]
    }
   ],
   "source": [
    "a='Jayanth',24,'Pune',88000\n",
    "print(a,type(a))"
   ]
  },
  {
   "cell_type": "code",
   "execution_count": 214,
   "id": "f244df70-2a22-462e-b93a-f4ca4c3410aa",
   "metadata": {},
   "outputs": [
    {
     "name": "stdout",
     "output_type": "stream",
     "text": [
      "(5,) <class 'tuple'>\n"
     ]
    }
   ],
   "source": [
    "a=5,\n",
    "print(a,type(a))"
   ]
  },
  {
   "cell_type": "markdown",
   "id": "7031bbbb-54ae-4d47-af5d-22265838c28b",
   "metadata": {},
   "source": [
    "#### Unpacking"
   ]
  },
  {
   "cell_type": "code",
   "execution_count": 217,
   "id": "587f0d1d-b802-41b3-9a1c-6cd1c3704cef",
   "metadata": {},
   "outputs": [],
   "source": [
    "# - To extract all the values from a container is known as unpacking"
   ]
  },
  {
   "cell_type": "code",
   "execution_count": 219,
   "id": "74137a4e-0cdd-462f-bc0c-16b9894646e6",
   "metadata": {},
   "outputs": [
    {
     "name": "stdout",
     "output_type": "stream",
     "text": [
      "('Jayanth', 24, 'Pune', 88000) <class 'tuple'>\n"
     ]
    }
   ],
   "source": [
    "t=('Jayanth',24,'Pune',88000)\n",
    "print(t,type(t))"
   ]
  },
  {
   "cell_type": "code",
   "execution_count": 229,
   "id": "33652622-5f8b-4ca2-ab8b-cdf4516378a1",
   "metadata": {},
   "outputs": [
    {
     "name": "stdout",
     "output_type": "stream",
     "text": [
      "Jayanth\n",
      "24\n",
      "Pune\n",
      "88000\n",
      "('Jayanth', 24, 'Pune', 88000)\n"
     ]
    }
   ],
   "source": [
    "a,b,c,d=t\n",
    "print(a)\n",
    "print(b)\n",
    "print(c)\n",
    "print(d)\n",
    "print(t)"
   ]
  },
  {
   "cell_type": "code",
   "execution_count": 231,
   "id": "4000caf0-98c9-4265-bb7a-062119934d29",
   "metadata": {},
   "outputs": [],
   "source": [
    "name,age,city,salary=('Amit', 28, 'Mumbai', 96000)"
   ]
  },
  {
   "cell_type": "code",
   "execution_count": 241,
   "id": "c15ad2a1-cecb-43bc-8f57-292711799229",
   "metadata": {},
   "outputs": [
    {
     "name": "stdout",
     "output_type": "stream",
     "text": [
      "Amit\n",
      "28\n",
      "Mumbai\n",
      "96000\n"
     ]
    }
   ],
   "source": [
    "print(name)\n",
    "print(age)\n",
    "print(city)\n",
    "print(salary)"
   ]
  },
  {
   "cell_type": "code",
   "execution_count": 245,
   "id": "a74ff2ea-1a97-4a19-a98d-9afacc3079b3",
   "metadata": {},
   "outputs": [
    {
     "ename": "ValueError",
     "evalue": "too many values to unpack (expected 3)",
     "output_type": "error",
     "traceback": [
      "\u001b[1;31m---------------------------------------------------------------------------\u001b[0m",
      "\u001b[1;31mValueError\u001b[0m                                Traceback (most recent call last)",
      "Cell \u001b[1;32mIn[245], line 1\u001b[0m\n\u001b[1;32m----> 1\u001b[0m a,b,c\u001b[38;5;241m=\u001b[39m(\u001b[38;5;241m10\u001b[39m,\u001b[38;5;241m20\u001b[39m,\u001b[38;5;241m30\u001b[39m,\u001b[38;5;241m40\u001b[39m)\n",
      "\u001b[1;31mValueError\u001b[0m: too many values to unpack (expected 3)"
     ]
    }
   ],
   "source": [
    "a,b,c=(10,20,30,40)"
   ]
  },
  {
   "cell_type": "code",
   "execution_count": 247,
   "id": "44b0cab1-72f9-44d5-8780-b843a61a8b2d",
   "metadata": {},
   "outputs": [
    {
     "ename": "ValueError",
     "evalue": "not enough values to unpack (expected 5, got 4)",
     "output_type": "error",
     "traceback": [
      "\u001b[1;31m---------------------------------------------------------------------------\u001b[0m",
      "\u001b[1;31mValueError\u001b[0m                                Traceback (most recent call last)",
      "Cell \u001b[1;32mIn[247], line 1\u001b[0m\n\u001b[1;32m----> 1\u001b[0m a,b,c,d,e\u001b[38;5;241m=\u001b[39m(\u001b[38;5;241m10\u001b[39m,\u001b[38;5;241m20\u001b[39m,\u001b[38;5;241m30\u001b[39m,\u001b[38;5;241m40\u001b[39m)\n",
      "\u001b[1;31mValueError\u001b[0m: not enough values to unpack (expected 5, got 4)"
     ]
    }
   ],
   "source": [
    "a,b,c,d,e=(10,20,30,40)"
   ]
  },
  {
   "cell_type": "code",
   "execution_count": 255,
   "id": "8c7ac6bc-445f-4eac-aa17-75e34127f8dd",
   "metadata": {},
   "outputs": [
    {
     "name": "stdout",
     "output_type": "stream",
     "text": [
      "10\n",
      "20\n",
      "30\n",
      "40\n"
     ]
    }
   ],
   "source": [
    "a,b,c,d=[10,20,30,40]\n",
    "print(a)\n",
    "print(b)\n",
    "print(c)\n",
    "print(d)"
   ]
  },
  {
   "cell_type": "code",
   "execution_count": 257,
   "id": "7b397b9a-98e1-41ee-bcbf-e668e6d3b559",
   "metadata": {},
   "outputs": [],
   "source": [
    "a,b,c,d={1:100,2:200,3:300,4:400}"
   ]
  },
  {
   "cell_type": "code",
   "execution_count": 265,
   "id": "a9019c8e-b111-46f0-b13e-8e5e5f8c0568",
   "metadata": {},
   "outputs": [
    {
     "name": "stdout",
     "output_type": "stream",
     "text": [
      "1\n",
      "2\n",
      "3\n",
      "4\n"
     ]
    }
   ],
   "source": [
    "print(a)\n",
    "print(b)\n",
    "print(c)\n",
    "print(d)"
   ]
  },
  {
   "cell_type": "code",
   "execution_count": 267,
   "id": "4ff77487-b5c4-40f0-b4ab-7540a206ce1b",
   "metadata": {},
   "outputs": [],
   "source": [
    "a,b,c,d={1:100,2:200,3:300,4:400}.values()"
   ]
  },
  {
   "cell_type": "code",
   "execution_count": 269,
   "id": "f8c3fb33-9cc2-4ad2-8b44-950f0ab97a93",
   "metadata": {},
   "outputs": [
    {
     "name": "stdout",
     "output_type": "stream",
     "text": [
      "100\n",
      "200\n",
      "300\n",
      "400\n"
     ]
    }
   ],
   "source": [
    "print(a)\n",
    "print(b)\n",
    "print(c)\n",
    "print(d)"
   ]
  },
  {
   "cell_type": "code",
   "execution_count": 275,
   "id": "675beb89-9b17-4ca8-98f3-c8ff6d89f614",
   "metadata": {},
   "outputs": [
    {
     "data": {
      "text/plain": [
       "[('h', 'P'), ('e', 'y'), ('l', 't'), ('l', 'h'), ('o', 'o')]"
      ]
     },
     "execution_count": 275,
     "metadata": {},
     "output_type": "execute_result"
    }
   ],
   "source": [
    "list(zip('hello','Python'))"
   ]
  },
  {
   "cell_type": "markdown",
   "id": "48fc3b49-728b-4d4f-885b-7b23bd5c3490",
   "metadata": {},
   "source": [
    "# Case_4\n",
    "- By taking the input from the user"
   ]
  },
  {
   "cell_type": "code",
   "execution_count": 278,
   "id": "b6d620d0-0200-473a-b580-030c9969f7a0",
   "metadata": {},
   "outputs": [
    {
     "name": "stdin",
     "output_type": "stream",
     "text": [
      "Enter some values-  12345\n"
     ]
    },
    {
     "name": "stdout",
     "output_type": "stream",
     "text": [
      "('1', '2', '3', '4', '5') <class 'tuple'>\n"
     ]
    }
   ],
   "source": [
    "t=tuple(input('Enter some values- '))\n",
    "print(t,type(t))"
   ]
  },
  {
   "cell_type": "code",
   "execution_count": 280,
   "id": "b2a73d3f-f523-4810-bbd0-4cf2a138a477",
   "metadata": {},
   "outputs": [
    {
     "name": "stdin",
     "output_type": "stream",
     "text": [
      "Enter some values-  Python\n"
     ]
    },
    {
     "name": "stdout",
     "output_type": "stream",
     "text": [
      "('P', 'y', 't', 'h', 'o', 'n') <class 'tuple'>\n"
     ]
    }
   ],
   "source": [
    "t=tuple(input('Enter some values- '))\n",
    "print(t,type(t))"
   ]
  },
  {
   "cell_type": "code",
   "execution_count": 284,
   "id": "4b0b6e5e-224f-405b-af53-32b5b052e7f3",
   "metadata": {},
   "outputs": [
    {
     "name": "stdin",
     "output_type": "stream",
     "text": [
      "Enter some values-  10,20,30,40,50\n"
     ]
    },
    {
     "name": "stdout",
     "output_type": "stream",
     "text": [
      "('1', '0', ',', '2', '0', ',', '3', '0', ',', '4', '0', ',', '5', '0') <class 'tuple'>\n"
     ]
    }
   ],
   "source": [
    "t=tuple(input('Enter some values- '))\n",
    "print(t,type(t))"
   ]
  },
  {
   "cell_type": "code",
   "execution_count": 286,
   "id": "da5ba57d-676e-4086-ae7f-b3f3f7e4e746",
   "metadata": {},
   "outputs": [
    {
     "data": {
      "text/plain": [
       "('1', '0', ',', '2', '0', ',', '3', '0', ',', '4', '0', ',', '5', '0')"
      ]
     },
     "execution_count": 286,
     "metadata": {},
     "output_type": "execute_result"
    }
   ],
   "source": [
    "tuple('10,20,30,40,50')"
   ]
  },
  {
   "cell_type": "markdown",
   "id": "784361df-1d91-4076-b2ce-dcf259b2a562",
   "metadata": {},
   "source": [
    "### eval()"
   ]
  },
  {
   "cell_type": "code",
   "execution_count": 289,
   "id": "5f737d1b-8878-4db1-81ed-5a0f8babf009",
   "metadata": {},
   "outputs": [
    {
     "name": "stdin",
     "output_type": "stream",
     "text": [
      "Enter some values-  (10,20,30,40,50)\n"
     ]
    },
    {
     "name": "stdout",
     "output_type": "stream",
     "text": [
      "(10, 20, 30, 40, 50) <class 'tuple'>\n"
     ]
    }
   ],
   "source": [
    "t=eval(input('Enter some values- '))\n",
    "print(t,type(t))"
   ]
  },
  {
   "cell_type": "code",
   "execution_count": 293,
   "id": "99dc8581-0e5a-4d3e-bd9c-c1a978bdd1c1",
   "metadata": {},
   "outputs": [
    {
     "name": "stdin",
     "output_type": "stream",
     "text": [
      "Enter some values-  ('Python','Class')\n"
     ]
    },
    {
     "name": "stdout",
     "output_type": "stream",
     "text": [
      "('Python', 'Class') <class 'tuple'>\n"
     ]
    }
   ],
   "source": [
    "t=eval(input('Enter some values- '))\n",
    "print(t,type(t))"
   ]
  },
  {
   "cell_type": "markdown",
   "id": "06f77e04-12f8-44e5-9c04-20fa54326fc9",
   "metadata": {},
   "source": [
    "# Creating a tuple using loop"
   ]
  },
  {
   "cell_type": "code",
   "execution_count": 322,
   "id": "50204898-49fa-46a3-a005-89ec91e38ee8",
   "metadata": {},
   "outputs": [
    {
     "name": "stdout",
     "output_type": "stream",
     "text": [
      "(1, 2, 3, 4, 5, 6, 7, 8, 9, 10)\n"
     ]
    }
   ],
   "source": [
    "# Create a tuple of the numbers from 1 to 10 using loop\n",
    "\n",
    "t=()\n",
    "\n",
    "for i in range(1,11):\n",
    "    t=t+(i,)\n",
    "print(t)"
   ]
  },
  {
   "cell_type": "code",
   "execution_count": 314,
   "id": "a0ed258b-7622-4e86-bf2a-300b276b5bc9",
   "metadata": {},
   "outputs": [
    {
     "data": {
      "text/plain": [
       "(1, 2)"
      ]
     },
     "execution_count": 314,
     "metadata": {},
     "output_type": "execute_result"
    }
   ],
   "source": [
    "t=()\n",
    "t=t+(1,)\n",
    "t=t+(2,)\n",
    "t"
   ]
  },
  {
   "cell_type": "code",
   "execution_count": 306,
   "id": "9b083fac-9ece-4c2b-818c-b23d7c69b4e8",
   "metadata": {},
   "outputs": [
    {
     "data": {
      "text/plain": [
       "[5]"
      ]
     },
     "execution_count": 306,
     "metadata": {},
     "output_type": "execute_result"
    }
   ],
   "source": [
    "lst=[]\n",
    "lst+[5]"
   ]
  },
  {
   "cell_type": "code",
   "execution_count": 327,
   "id": "f17f91dc-bd49-4911-ae73-b22fbbcc393c",
   "metadata": {},
   "outputs": [
    {
     "name": "stdin",
     "output_type": "stream",
     "text": [
      "Enter a value 10\n",
      "Enter a value 2.8\n",
      "Enter a value True\n",
      "Enter a value None\n",
      "Enter a value 5+5j\n"
     ]
    },
    {
     "name": "stdout",
     "output_type": "stream",
     "text": [
      "(10, 2.8, True, None, (5+5j))\n"
     ]
    }
   ],
   "source": [
    "t=()\n",
    "\n",
    "for i in range(5):\n",
    "    val=eval(input('Enter a value'))\n",
    "    t+=(val,)\n",
    "\n",
    "print(t)"
   ]
  },
  {
   "cell_type": "markdown",
   "id": "27d72f6e-b94d-4411-94d5-732873c60dd3",
   "metadata": {},
   "source": [
    "# Tuple is immutable"
   ]
  },
  {
   "cell_type": "markdown",
   "id": "5442cf4d-3af1-441f-b8ef-90432fae5dd3",
   "metadata": {},
   "source": [
    "### Immutability"
   ]
  },
  {
   "cell_type": "code",
   "execution_count": 331,
   "id": "656cee38-40d6-4a6a-ac34-a7fd0fe4b302",
   "metadata": {},
   "outputs": [],
   "source": [
    "# - We can not modify the element in a container.\n",
    "# - Item assignment is not possible\n",
    "# - The address will be different before and after the modification."
   ]
  },
  {
   "cell_type": "code",
   "execution_count": 333,
   "id": "3c55b50c-5803-43a9-ad98-937bf94ad2c1",
   "metadata": {},
   "outputs": [
    {
     "name": "stdout",
     "output_type": "stream",
     "text": [
      "(10, 20, 30)\n"
     ]
    }
   ],
   "source": [
    "t=(10,20,30)\n",
    "print(t)"
   ]
  },
  {
   "cell_type": "code",
   "execution_count": 337,
   "id": "239cf907-49ad-48b9-a95e-a8aba217f0f6",
   "metadata": {},
   "outputs": [
    {
     "ename": "TypeError",
     "evalue": "'tuple' object does not support item assignment",
     "output_type": "error",
     "traceback": [
      "\u001b[1;31m---------------------------------------------------------------------------\u001b[0m",
      "\u001b[1;31mTypeError\u001b[0m                                 Traceback (most recent call last)",
      "Cell \u001b[1;32mIn[337], line 1\u001b[0m\n\u001b[1;32m----> 1\u001b[0m t[\u001b[38;5;241m0\u001b[39m]\u001b[38;5;241m=\u001b[39m\u001b[38;5;28;01mNone\u001b[39;00m\n",
      "\u001b[1;31mTypeError\u001b[0m: 'tuple' object does not support item assignment"
     ]
    }
   ],
   "source": [
    "t[0]=None"
   ]
  },
  {
   "cell_type": "code",
   "execution_count": 339,
   "id": "8fedca03-cad1-47a4-9681-27b79b645da5",
   "metadata": {},
   "outputs": [
    {
     "name": "stdout",
     "output_type": "stream",
     "text": [
      "Python\n"
     ]
    }
   ],
   "source": [
    "my_str='Python'\n",
    "print(my_str)"
   ]
  },
  {
   "cell_type": "code",
   "execution_count": 343,
   "id": "6e1501dc-036d-469f-889b-cbfdb7b33c9f",
   "metadata": {},
   "outputs": [
    {
     "ename": "TypeError",
     "evalue": "'str' object does not support item assignment",
     "output_type": "error",
     "traceback": [
      "\u001b[1;31m---------------------------------------------------------------------------\u001b[0m",
      "\u001b[1;31mTypeError\u001b[0m                                 Traceback (most recent call last)",
      "Cell \u001b[1;32mIn[343], line 1\u001b[0m\n\u001b[1;32m----> 1\u001b[0m my_str[\u001b[38;5;241m0\u001b[39m]\u001b[38;5;241m=\u001b[39m\u001b[38;5;124m'\u001b[39m\u001b[38;5;124mJ\u001b[39m\u001b[38;5;124m'\u001b[39m\n",
      "\u001b[1;31mTypeError\u001b[0m: 'str' object does not support item assignment"
     ]
    }
   ],
   "source": [
    "my_str[0]='J'"
   ]
  },
  {
   "cell_type": "code",
   "execution_count": 353,
   "id": "a55b78a2-d287-4e48-863e-d6b10488ed34",
   "metadata": {},
   "outputs": [
    {
     "name": "stdout",
     "output_type": "stream",
     "text": [
      "Python 140720362644304\n"
     ]
    }
   ],
   "source": [
    "my_str='Python'\n",
    "print(my_str,id(my_str))"
   ]
  },
  {
   "cell_type": "code",
   "execution_count": 355,
   "id": "a28fb278-cc39-4173-af69-1d7469c76b83",
   "metadata": {},
   "outputs": [
    {
     "name": "stdout",
     "output_type": "stream",
     "text": [
      "Jython 1919748214448\n"
     ]
    }
   ],
   "source": [
    "my_str=my_str.replace('P','J')\n",
    "print(my_str,id(my_str))"
   ]
  },
  {
   "cell_type": "code",
   "execution_count": 406,
   "id": "a0dafa1e-2925-4092-a687-05cae6d17030",
   "metadata": {},
   "outputs": [
    {
     "name": "stdout",
     "output_type": "stream",
     "text": [
      "(1,) 1919756850256\n",
      "(1, 2) 1919755672640\n",
      "(1, 2, 3) 1919752983168\n",
      "(1, 2, 3, 4) 1919755140640\n",
      "(1, 2, 3, 4, 5) 1919747070192\n",
      "(1, 2, 3, 4, 5, 6) 1919758548224\n",
      "(1, 2, 3, 4, 5, 6, 7) 1919757303424\n",
      "(1, 2, 3, 4, 5, 6, 7, 8) 1919753695808\n",
      "(1, 2, 3, 4, 5, 6, 7, 8, 9) 1919754011456\n",
      "(1, 2, 3, 4, 5, 6, 7, 8, 9, 10) 1919753694656\n"
     ]
    }
   ],
   "source": [
    "# Create a tuple of the numbers from 1 to 10 using loop\n",
    "t=()\n",
    "for i in range(1,11):\n",
    "    t=t+(i,)\n",
    "    print(t,id(t))"
   ]
  },
  {
   "cell_type": "markdown",
   "id": "3e2f3a75-62ec-44f4-84a1-015fe4e81bbc",
   "metadata": {},
   "source": [
    "# Tuple Methods"
   ]
  },
  {
   "cell_type": "code",
   "execution_count": 366,
   "id": "cfc049f6-c152-46cf-a2f3-e7b101fa92d2",
   "metadata": {},
   "outputs": [
    {
     "name": "stdout",
     "output_type": "stream",
     "text": [
      "['__add__', '__class__', '__class_getitem__', '__contains__', '__delattr__', '__dir__', '__doc__', '__eq__', '__format__', '__ge__', '__getattribute__', '__getitem__', '__getnewargs__', '__getstate__', '__gt__', '__hash__', '__init__', '__init_subclass__', '__iter__', '__le__', '__len__', '__lt__', '__mul__', '__ne__', '__new__', '__reduce__', '__reduce_ex__', '__repr__', '__rmul__', '__setattr__', '__sizeof__', '__str__', '__subclasshook__', 'count', 'index']\n"
     ]
    }
   ],
   "source": [
    "print(dir(tuple))"
   ]
  },
  {
   "cell_type": "code",
   "execution_count": 368,
   "id": "e76b187a-4040-4ae4-b0a1-25fc272df5f3",
   "metadata": {},
   "outputs": [],
   "source": [
    "# 'count', 'index'"
   ]
  },
  {
   "cell_type": "markdown",
   "id": "15813e9e-9138-40d9-864a-d49b146ed7c8",
   "metadata": {},
   "source": [
    "# count()"
   ]
  },
  {
   "cell_type": "code",
   "execution_count": 375,
   "id": "0f810db4-7f47-4ef7-859c-78370e3c584b",
   "metadata": {},
   "outputs": [],
   "source": [
    "# - It returns the count of the specified element inside the tuple.\n",
    "# - If the element is not available then it returns 0."
   ]
  },
  {
   "cell_type": "code",
   "execution_count": 391,
   "id": "d575eb83-4e05-4017-863c-48e01b00bcad",
   "metadata": {},
   "outputs": [
    {
     "name": "stdout",
     "output_type": "stream",
     "text": [
      "4\n",
      "5\n",
      "7\n",
      "6\n"
     ]
    }
   ],
   "source": [
    "t=(1,2,2,2,1,1,1,4,4,4,4,4,5,5,5,55,5,5,6,6,6,1,1,6,6,6,6,6,6,2,6,8,8,8,9,9,9,9,9,9,9)\n",
    "print(t.count(2))\n",
    "print(t.count(5))\n",
    "print(t.count(9))\n",
    "print(t.count(1))"
   ]
  },
  {
   "cell_type": "markdown",
   "id": "3f1f6af8-5c68-4a6c-a33b-ef00deed3371",
   "metadata": {},
   "source": [
    "# index()"
   ]
  },
  {
   "cell_type": "code",
   "execution_count": 394,
   "id": "0fe76d29-68f8-4eb3-a1e5-a815a41445bd",
   "metadata": {},
   "outputs": [],
   "source": [
    "# - It returns the index of the first occurence of an element from left to right.\n",
    "# - If the element is not available then it raises value error."
   ]
  },
  {
   "cell_type": "code",
   "execution_count": 400,
   "id": "f39b8ee2-1372-4ae3-b370-b4a0ef12cd89",
   "metadata": {},
   "outputs": [
    {
     "name": "stdout",
     "output_type": "stream",
     "text": [
      "1\n",
      "8\n"
     ]
    }
   ],
   "source": [
    "t=(1,2,2,2,1,1,1,4,4,4,4,4,5,5,5,55,5,5,6,6,6,1,1,6,6,6,6,6,6,2,6,8,8,8,9,9,9,9,9,9,9)\n",
    "print(t.index(2))\n",
    "print(t.index(4,8))"
   ]
  },
  {
   "cell_type": "code",
   "execution_count": 404,
   "id": "f9de7238-b6c6-484c-83e6-2bdc243e267b",
   "metadata": {},
   "outputs": [
    {
     "ename": "ValueError",
     "evalue": "tuple.index(x): x not in tuple",
     "output_type": "error",
     "traceback": [
      "\u001b[1;31m---------------------------------------------------------------------------\u001b[0m",
      "\u001b[1;31mValueError\u001b[0m                                Traceback (most recent call last)",
      "Cell \u001b[1;32mIn[404], line 1\u001b[0m\n\u001b[1;32m----> 1\u001b[0m \u001b[38;5;28mprint\u001b[39m(t\u001b[38;5;241m.\u001b[39mindex(\u001b[38;5;241m1000\u001b[39m))\n",
      "\u001b[1;31mValueError\u001b[0m: tuple.index(x): x not in tuple"
     ]
    }
   ],
   "source": [
    "print(t.index(1000))"
   ]
  },
  {
   "cell_type": "markdown",
   "id": "af6d80b0-cc24-4212-a6a8-39e6f5b90286",
   "metadata": {},
   "source": [
    "# Dictionary"
   ]
  },
  {
   "cell_type": "code",
   "execution_count": 415,
   "id": "57239fd9-d2f8-4b01-bcdc-b9d00c0a37de",
   "metadata": {},
   "outputs": [],
   "source": [
    "# - It is a collection of key value pairs kept inside the {}.\n",
    "# - key and value are seperated by :\n",
    "# - Each key:value pair is known as an item or element of a dictionary.\n",
    "# - Each element in a dictionary is seperated by a comma.\n",
    "# - Keys can not be duplicated.\n",
    "# - If we duplicate the keys then the last value at that particular key is updated.\n",
    "# - Values can be duplicated."
   ]
  },
  {
   "cell_type": "code",
   "execution_count": 411,
   "id": "d7324608-ff6e-4630-9ad5-3260542ba5ae",
   "metadata": {},
   "outputs": [],
   "source": [
    "# {key:value,key:value......key:value}"
   ]
  },
  {
   "cell_type": "code",
   "execution_count": 413,
   "id": "4d0b147c-ef33-49f5-bf99-fbd0e15dde52",
   "metadata": {},
   "outputs": [
    {
     "name": "stdout",
     "output_type": "stream",
     "text": [
      "{1: 100, 2: 200, 3: 300, 4: 400} <class 'dict'>\n"
     ]
    }
   ],
   "source": [
    "d={1:100,2:200,3:300,4:400}\n",
    "print(d,type(d))"
   ]
  },
  {
   "cell_type": "code",
   "execution_count": 417,
   "id": "d1648416-9a47-4529-8aa2-7753dd7e00bd",
   "metadata": {},
   "outputs": [
    {
     "name": "stdout",
     "output_type": "stream",
     "text": [
      "{1: 500, 2: 200, 3: 300, 4: 400} <class 'dict'>\n"
     ]
    }
   ],
   "source": [
    "d={1:100,2:200,3:300,4:400,1:500}\n",
    "print(d,type(d))"
   ]
  },
  {
   "cell_type": "code",
   "execution_count": 419,
   "id": "3a42ef94-d3b3-42e4-a549-b3fde0f352a1",
   "metadata": {},
   "outputs": [
    {
     "name": "stdout",
     "output_type": "stream",
     "text": [
      "{1: 400} <class 'dict'>\n"
     ]
    }
   ],
   "source": [
    "d={1:100,1:200,1:300,1:400}\n",
    "print(d,type(d))"
   ]
  },
  {
   "cell_type": "code",
   "execution_count": 421,
   "id": "df1ba6bc-c244-4ee0-8213-43956dbc01dd",
   "metadata": {},
   "outputs": [
    {
     "name": "stdout",
     "output_type": "stream",
     "text": [
      "{'Name': 'Suresh', 'Age': 25, 'City': 'Pune', 'Salary': 75000} <class 'dict'>\n"
     ]
    }
   ],
   "source": [
    "emp={'Name':'Suresh','Age':25,'City':'Pune','Salary':75000}\n",
    "print(emp,type(emp))"
   ]
  },
  {
   "cell_type": "code",
   "execution_count": 423,
   "id": "ae75ffb1-fb5c-4797-8ab1-d40cd563d1ae",
   "metadata": {},
   "outputs": [
    {
     "name": "stdout",
     "output_type": "stream",
     "text": [
      "{'Name': 'Amit', 'Age': 25, 'City': 'Pune', 'Salary': 75000} <class 'dict'>\n"
     ]
    }
   ],
   "source": [
    "emp={'Name':'Suresh','Age':25,'City':'Pune','Salary':75000,'Name':'Amit'}\n",
    "print(emp,type(emp))"
   ]
  },
  {
   "cell_type": "code",
   "execution_count": 425,
   "id": "dff91665-033a-448d-8062-32790562586a",
   "metadata": {},
   "outputs": [
    {
     "name": "stdout",
     "output_type": "stream",
     "text": [
      "{'Name': 'Suresh', 'Age': 25, 'City': 'Pune', 'Salary': 75000, 'name': 'Amit'} <class 'dict'>\n"
     ]
    }
   ],
   "source": [
    "emp={'Name':'Suresh','Age':25,'City':'Pune','Salary':75000,'name':'Amit'}\n",
    "print(emp,type(emp))"
   ]
  },
  {
   "cell_type": "code",
   "execution_count": 427,
   "id": "01f0f48c-cfeb-4530-ae1b-f0a9e124089b",
   "metadata": {},
   "outputs": [
    {
     "name": "stdout",
     "output_type": "stream",
     "text": [
      "{1: 100, 2: 100, 3: 100, 4: 100} <class 'dict'>\n"
     ]
    }
   ],
   "source": [
    "d={1:100,2:100,3:100,4:100}\n",
    "print(d,type(d))"
   ]
  },
  {
   "cell_type": "code",
   "execution_count": 429,
   "id": "8f8cedad-4812-43c4-8ce5-973c2af66f40",
   "metadata": {},
   "outputs": [
    {
     "name": "stdout",
     "output_type": "stream",
     "text": [
      "{'Ashish': 'Data', 'Jayanth': 'Data', 'Suresh': 'Data', 'Amit': 'Data'} <class 'dict'>\n"
     ]
    }
   ],
   "source": [
    "emp={'Ashish':'Data','Jayanth':'Data','Suresh':'Data','Amit':'Data'}\n",
    "print(emp,type(emp))"
   ]
  },
  {
   "cell_type": "markdown",
   "id": "988a0871-0b9b-4bbe-aa93-de682689f02f",
   "metadata": {},
   "source": [
    "# Operations on a dictionary"
   ]
  },
  {
   "cell_type": "code",
   "execution_count": 432,
   "id": "26e1436b-616a-4227-8de4-5e8db8adbe01",
   "metadata": {},
   "outputs": [],
   "source": [
    "# - Concatenation, Repeatition, Indexing and Slicing are not possible with a dictionary.\n",
    "# - Length operation is possible."
   ]
  },
  {
   "cell_type": "markdown",
   "id": "c5058869-6815-47fc-b731-f0afb3a8695b",
   "metadata": {},
   "source": [
    "# Length"
   ]
  },
  {
   "cell_type": "code",
   "execution_count": 435,
   "id": "bb76f457-4703-477f-8e6b-ec02abbd7f40",
   "metadata": {},
   "outputs": [],
   "source": [
    "# - The number of items or elements in a dictionary is the length of the dictinoary.\n",
    "# - len()- It returns the length of a dictionary."
   ]
  },
  {
   "cell_type": "code",
   "execution_count": 439,
   "id": "11214909-a1bc-4ea1-9a76-412c5e43c6e0",
   "metadata": {},
   "outputs": [
    {
     "name": "stdout",
     "output_type": "stream",
     "text": [
      "{'Name': 'Suresh', 'Age': 25, 'City': 'Pune', 'Salary': 75000} <class 'dict'>\n",
      "4\n"
     ]
    }
   ],
   "source": [
    "emp={'Name':'Suresh','Age':25,'City':'Pune','Salary':75000}\n",
    "print(emp,type(emp))\n",
    "\n",
    "print(len(emp))"
   ]
  },
  {
   "cell_type": "code",
   "execution_count": 443,
   "id": "d3cdc709-8137-493c-a9a7-6d271c8f162a",
   "metadata": {},
   "outputs": [
    {
     "name": "stdout",
     "output_type": "stream",
     "text": [
      "{1: 100, 2: 200} <class 'dict'>\n",
      "2\n"
     ]
    }
   ],
   "source": [
    "d={1:100,2:200}\n",
    "print(d,type(d))\n",
    "\n",
    "print(len(d))"
   ]
  },
  {
   "cell_type": "code",
   "execution_count": 449,
   "id": "ae2e1d1a-800a-4f4e-9844-4db550a4810a",
   "metadata": {},
   "outputs": [],
   "source": [
    "# - Dictionary does not support indexing.\n",
    "# - In a dictionary the values are mapped to the keys.\n",
    "# - We can access any value using the key.\n",
    "# - For any invalid key it raises key error."
   ]
  },
  {
   "cell_type": "code",
   "execution_count": 462,
   "id": "3e4c76da-8897-4c0e-8705-5b1905f454e6",
   "metadata": {},
   "outputs": [],
   "source": [
    "# dictionary[key]-> Value"
   ]
  },
  {
   "cell_type": "code",
   "execution_count": 447,
   "id": "974599e3-86c5-4c6e-a86b-72f63e730bc6",
   "metadata": {},
   "outputs": [
    {
     "name": "stdout",
     "output_type": "stream",
     "text": [
      "{'Name': 'Suresh', 'Age': 25, 'City': 'Pune', 'Salary': 75000} <class 'dict'>\n"
     ]
    }
   ],
   "source": [
    "emp={'Name':'Suresh','Age':25,'City':'Pune','Salary':75000}\n",
    "print(emp,type(emp))"
   ]
  },
  {
   "cell_type": "code",
   "execution_count": 457,
   "id": "704965a0-d258-4ba1-b6e9-52114bf5efee",
   "metadata": {},
   "outputs": [
    {
     "name": "stdout",
     "output_type": "stream",
     "text": [
      "Suresh\n",
      "Pune\n",
      "25\n",
      "75000\n"
     ]
    }
   ],
   "source": [
    "print(emp['Name'])\n",
    "print(emp['City'])\n",
    "print(emp['Age'])\n",
    "print(emp['Salary'])"
   ]
  },
  {
   "cell_type": "code",
   "execution_count": 459,
   "id": "555ba8b6-d940-4f68-a6d9-28aad4eb5a45",
   "metadata": {},
   "outputs": [
    {
     "ename": "KeyError",
     "evalue": "'Address'",
     "output_type": "error",
     "traceback": [
      "\u001b[1;31m---------------------------------------------------------------------------\u001b[0m",
      "\u001b[1;31mKeyError\u001b[0m                                  Traceback (most recent call last)",
      "Cell \u001b[1;32mIn[459], line 1\u001b[0m\n\u001b[1;32m----> 1\u001b[0m \u001b[38;5;28mprint\u001b[39m(emp[\u001b[38;5;124m'\u001b[39m\u001b[38;5;124mAddress\u001b[39m\u001b[38;5;124m'\u001b[39m])\n",
      "\u001b[1;31mKeyError\u001b[0m: 'Address'"
     ]
    }
   ],
   "source": [
    "print(emp['Address'])"
   ]
  },
  {
   "cell_type": "markdown",
   "id": "7dff5b80-4382-40d2-9a91-ad9f7707b8dc",
   "metadata": {},
   "source": [
    "# How to create a dictionary?"
   ]
  },
  {
   "cell_type": "markdown",
   "id": "93fe57b3-fb4b-4e6d-8234-e02dbbd450b7",
   "metadata": {},
   "source": [
    "# Case_1\n",
    "- When we already know the elements"
   ]
  },
  {
   "cell_type": "code",
   "execution_count": 470,
   "id": "495a95f4-f03f-41d3-9921-0477c2387185",
   "metadata": {},
   "outputs": [
    {
     "name": "stdout",
     "output_type": "stream",
     "text": [
      "{'Name': 'Amit', 'Age': 25, 'City': 'Mumbai', 'Company': 'Infosys'} <class 'dict'>\n"
     ]
    }
   ],
   "source": [
    "emp={'Name':'Amit','Age':25,'City':'Mumbai','Company':'Infosys'}\n",
    "print(emp,type(emp))"
   ]
  },
  {
   "cell_type": "markdown",
   "id": "7c0d7108-91c7-46e8-9f31-34c6fc8550dc",
   "metadata": {},
   "source": [
    "# Case_2\n",
    "- By using dict()"
   ]
  },
  {
   "cell_type": "markdown",
   "id": "561142ac-606a-448d-beef-0a444fa5fe4f",
   "metadata": {},
   "source": [
    "### dict(Iterable)"
   ]
  },
  {
   "cell_type": "code",
   "execution_count": 477,
   "id": "cbd4bcc5-8a85-4ee9-a8f4-11c694c06d55",
   "metadata": {},
   "outputs": [],
   "source": [
    "# - The iterable that we pass inside the dict() must have one more iterable inside it.\n",
    "# - The inner iterable must have two elements.\n",
    "# - The first element becomes the key in the dictionary and the second element becomes the value in the dictionary."
   ]
  },
  {
   "cell_type": "code",
   "execution_count": 483,
   "id": "2899a3b6-f2cd-4f49-8be8-b502c6bf1e6e",
   "metadata": {},
   "outputs": [
    {
     "name": "stdout",
     "output_type": "stream",
     "text": [
      "{1: 100}\n"
     ]
    }
   ],
   "source": [
    "# {1:100}\n",
    "\n",
    "d=dict([(1,100)])\n",
    "print(d)"
   ]
  },
  {
   "cell_type": "code",
   "execution_count": 489,
   "id": "5c654dd0-5cac-433b-b534-81aa35847d5e",
   "metadata": {},
   "outputs": [
    {
     "name": "stdout",
     "output_type": "stream",
     "text": [
      "{1: 100}\n"
     ]
    }
   ],
   "source": [
    "d=dict([[1,100]])\n",
    "print(d)"
   ]
  },
  {
   "cell_type": "code",
   "execution_count": 495,
   "id": "4cab7322-a552-45b0-97a3-79e9cf492a7f",
   "metadata": {},
   "outputs": [
    {
     "name": "stdout",
     "output_type": "stream",
     "text": [
      "{'Name': 'Amit', 'Age': 22}\n"
     ]
    }
   ],
   "source": [
    "# {'Name':'Amit','Age':22}\n",
    "\n",
    "d=dict([['Name','Amit'],('Age',22)])\n",
    "print(d)"
   ]
  },
  {
   "cell_type": "code",
   "execution_count": 507,
   "id": "f72506b7-e127-4b1d-94ba-304f298f4116",
   "metadata": {},
   "outputs": [
    {
     "name": "stdout",
     "output_type": "stream",
     "text": [
      "{'Name': 'Suresh'}\n"
     ]
    }
   ],
   "source": [
    "d=dict((['Name','Suresh'],))\n",
    "print(d)"
   ]
  },
  {
   "cell_type": "code",
   "execution_count": 501,
   "id": "aede43fc-a181-49bc-bddd-be32bc6d8cac",
   "metadata": {},
   "outputs": [
    {
     "data": {
      "text/plain": [
       "(['Name', 'Suresh'],)"
      ]
     },
     "execution_count": 501,
     "metadata": {},
     "output_type": "execute_result"
    }
   ],
   "source": [
    "(['Name','Suresh'],)"
   ]
  },
  {
   "cell_type": "markdown",
   "id": "59a5cb31-f333-4ab2-a9cd-e32559c89a9a",
   "metadata": {},
   "source": [
    "### dict(enumerate)"
   ]
  },
  {
   "cell_type": "code",
   "execution_count": 512,
   "id": "6d336d4b-3dbd-40d3-af39-573f8389f30f",
   "metadata": {},
   "outputs": [
    {
     "name": "stdout",
     "output_type": "stream",
     "text": [
      "[(0, 'Amit'), (1, 'Sumit'), (2, 'Deepak'), (3, 'Jayanth'), (4, 'Suresh')]\n"
     ]
    }
   ],
   "source": [
    "names=['Amit','Sumit','Deepak','Jayanth','Suresh']\n",
    "e=enumerate(names)\n",
    "print(list(e))"
   ]
  },
  {
   "cell_type": "code",
   "execution_count": 518,
   "id": "d66f5aa5-d93c-4006-a1a6-ee9d01eb3454",
   "metadata": {},
   "outputs": [
    {
     "name": "stdout",
     "output_type": "stream",
     "text": [
      "{0: 'Amit', 1: 'Sumit', 2: 'Deepak', 3: 'Jayanth', 4: 'Suresh'} <class 'dict'>\n"
     ]
    }
   ],
   "source": [
    "names=['Amit','Sumit','Deepak','Jayanth','Suresh']\n",
    "d=dict(enumerate(names))\n",
    "print(d,type(d))"
   ]
  },
  {
   "cell_type": "markdown",
   "id": "ae88e773-b119-452b-bf70-e76aa9381186",
   "metadata": {},
   "source": [
    "### dict(zip)"
   ]
  },
  {
   "cell_type": "code",
   "execution_count": 533,
   "id": "33d286a2-7430-4015-81db-631c6efe434f",
   "metadata": {},
   "outputs": [
    {
     "name": "stdout",
     "output_type": "stream",
     "text": [
      "{111: 'Amit', 112: 'Sumit', 113: 'Deepak', 114: 'Jayanth', 115: 'Suresh'} <class 'dict'>\n"
     ]
    }
   ],
   "source": [
    "codes=[111,112,113,114,115]\n",
    "names=['Amit','Sumit','Deepak','Jayanth','Suresh']\n",
    "\n",
    "# Codes should be the keys and names should be the values.\n",
    "d=dict(zip(codes,names))\n",
    "print(d,type(d))"
   ]
  },
  {
   "cell_type": "code",
   "execution_count": 541,
   "id": "2ce3f56d-8691-4608-b309-1470c4207acf",
   "metadata": {},
   "outputs": [
    {
     "name": "stdout",
     "output_type": "stream",
     "text": [
      "{'India': 'Rupee', 'Russia': 'Rubel', 'Vietnam': 'VND', 'Hongkong': 'HKD', 'China': 'Yuan', 'USA': 'Dollar', 'Thailand': 'Bhath'}\n"
     ]
    }
   ],
   "source": [
    "country=['India','Russia','Vietnam','Hongkong','China','USA','Thailand']\n",
    "currency=['Rupee','Rubel','VND','HKD','Yuan','Dollar','Bhath']\n",
    "\n",
    "# Countries should be the key and the currency should be the value.\n",
    "\n",
    "d=dict(zip(country,currency))\n",
    "print(d)"
   ]
  },
  {
   "cell_type": "code",
   "execution_count": 551,
   "id": "c068062b-8f94-459f-b2ce-c6d1eca561c3",
   "metadata": {},
   "outputs": [
    {
     "name": "stdout",
     "output_type": "stream",
     "text": [
      "Rupee\n",
      "Dollar\n",
      "VND\n",
      "Yuan\n"
     ]
    }
   ],
   "source": [
    "print(d['India'])\n",
    "print(d['USA'])\n",
    "print(d['Vietnam'])\n",
    "print(d['China'])"
   ]
  },
  {
   "cell_type": "markdown",
   "id": "5245ebf6-e399-498a-8cec-6083dbe15560",
   "metadata": {},
   "source": [
    "# Case_3\n",
    "- By taking the input from the user"
   ]
  },
  {
   "cell_type": "code",
   "execution_count": 559,
   "id": "86e33c9f-332e-4890-a588-5e99d5d3d970",
   "metadata": {},
   "outputs": [
    {
     "name": "stdin",
     "output_type": "stream",
     "text": [
      "Enter a dictionary-  {1:100,2:200}\n"
     ]
    },
    {
     "name": "stdout",
     "output_type": "stream",
     "text": [
      "{1: 100, 2: 200} <class 'dict'>\n"
     ]
    }
   ],
   "source": [
    "d=eval(input('Enter a dictionary- '))\n",
    "print(d,type(d))"
   ]
  },
  {
   "cell_type": "code",
   "execution_count": 561,
   "id": "a9af2810-dfac-4bdc-9e40-22baf6752786",
   "metadata": {},
   "outputs": [
    {
     "name": "stdin",
     "output_type": "stream",
     "text": [
      "Enter a dictionary-  {\"Name\":\"Amit\",'Age':22}\n"
     ]
    },
    {
     "name": "stdout",
     "output_type": "stream",
     "text": [
      "{'Name': 'Amit', 'Age': 22} <class 'dict'>\n"
     ]
    }
   ],
   "source": [
    "d=eval(input('Enter a dictionary- '))\n",
    "print(d,type(d))"
   ]
  },
  {
   "cell_type": "code",
   "execution_count": 563,
   "id": "dd615d09-0025-40ef-90ec-a7303fb235cc",
   "metadata": {},
   "outputs": [
    {
     "name": "stdin",
     "output_type": "stream",
     "text": [
      "Enter the key-  1\n",
      "Enter the value-  100\n",
      "Enter the key-  2\n",
      "Enter the value-  200\n",
      "Enter the key-  3\n",
      "Enter the value-  300\n",
      "Enter the key-  4\n",
      "Enter the value-  400\n",
      "Enter the key-  5\n",
      "Enter the value-  500\n"
     ]
    },
    {
     "name": "stdout",
     "output_type": "stream",
     "text": [
      "{1: 100, 2: 200, 3: 300, 4: 400, 5: 500} <class 'dict'>\n"
     ]
    }
   ],
   "source": [
    "keys=[]\n",
    "vals=[]\n",
    "\n",
    "for i in range(5):\n",
    "    k=eval(input('Enter the key- '))\n",
    "    v=eval(input('Enter the value- '))\n",
    "    keys.append(k)\n",
    "    vals.append(v)\n",
    "\n",
    "d=dict(zip(keys,vals))\n",
    "print(d,type(d))"
   ]
  },
  {
   "cell_type": "code",
   "execution_count": 565,
   "id": "f6a8b25a-65f0-477a-8bfe-0852ebaeef02",
   "metadata": {},
   "outputs": [
    {
     "name": "stdin",
     "output_type": "stream",
     "text": [
      "Enter the key-  \"Name\"\n",
      "Enter the value-  'Ashish'\n",
      "Enter the key-  'Age'\n",
      "Enter the value-  28\n",
      "Enter the key-  'Code'\n",
      "Enter the value-  111\n",
      "Enter the key-  'City'\n",
      "Enter the value-  'Bangalore'\n",
      "Enter the key-  'Salary'\n",
      "Enter the value-  95000\n"
     ]
    },
    {
     "name": "stdout",
     "output_type": "stream",
     "text": [
      "{'Name': 'Ashish', 'Age': 28, 'Code': 111, 'City': 'Bangalore', 'Salary': 95000} <class 'dict'>\n"
     ]
    }
   ],
   "source": [
    "keys=[]\n",
    "vals=[]\n",
    "\n",
    "for i in range(5):\n",
    "    k=eval(input('Enter the key- '))\n",
    "    v=eval(input('Enter the value- '))\n",
    "    keys.append(k)\n",
    "    vals.append(v)\n",
    "\n",
    "d=dict(zip(keys,vals))\n",
    "print(d,type(d))"
   ]
  },
  {
   "cell_type": "markdown",
   "id": "7b0a1931-d1b1-4d30-95a3-3865626ee189",
   "metadata": {},
   "source": [
    "### Creating a dictionary using loop"
   ]
  },
  {
   "cell_type": "code",
   "execution_count": 582,
   "id": "30fe6bbf-d944-4240-9e2b-5eab0d24d490",
   "metadata": {},
   "outputs": [
    {
     "name": "stdout",
     "output_type": "stream",
     "text": [
      "{'Name': 'Amit', 'Age': 28}\n"
     ]
    }
   ],
   "source": [
    "d={'Name':'Amit','Age':28}\n",
    "print(d)"
   ]
  },
  {
   "cell_type": "code",
   "execution_count": 584,
   "id": "dd236284-01ce-4423-8344-c56f39329d8f",
   "metadata": {},
   "outputs": [],
   "source": [
    "# dictionary[key]=value"
   ]
  },
  {
   "cell_type": "code",
   "execution_count": 590,
   "id": "54dbc57c-362d-4ecf-949f-ce6c91a9bd82",
   "metadata": {},
   "outputs": [],
   "source": [
    "d['Salary']=82000"
   ]
  },
  {
   "cell_type": "code",
   "execution_count": 592,
   "id": "c7ae1834-13da-46f7-b7f4-f31258047263",
   "metadata": {},
   "outputs": [
    {
     "name": "stdout",
     "output_type": "stream",
     "text": [
      "{'Name': 'Amit', 'Age': 28, 'Salary': 82000}\n"
     ]
    }
   ],
   "source": [
    "print(d)"
   ]
  },
  {
   "cell_type": "code",
   "execution_count": 596,
   "id": "3ea76022-2d28-466d-adb5-4e713a48c588",
   "metadata": {},
   "outputs": [],
   "source": [
    "d['Company']='TCS'"
   ]
  },
  {
   "cell_type": "code",
   "execution_count": 598,
   "id": "4d2fa15d-d99a-4881-88fd-8007d3d0c1ab",
   "metadata": {},
   "outputs": [
    {
     "name": "stdout",
     "output_type": "stream",
     "text": [
      "{'Name': 'Amit', 'Age': 28, 'Salary': 82000, 'Company': 'TCS'}\n"
     ]
    }
   ],
   "source": [
    "print(d)"
   ]
  },
  {
   "cell_type": "code",
   "execution_count": 622,
   "id": "816939cf-1089-4dd7-b8d3-4addf2b43583",
   "metadata": {},
   "outputs": [
    {
     "name": "stdout",
     "output_type": "stream",
     "text": [
      "{1: 1, 2: 4, 3: 9, 4: 16, 5: 25}\n"
     ]
    }
   ],
   "source": [
    "# Create a dictionary where the numbers from 1 to 5 are the keys and their squares are the values\n",
    "# Output- {1:1,2:4,3:9,4:16,5:25}\n",
    "d={}\n",
    "\n",
    "for i in range(1,6):\n",
    "    d[i]=i**2\n",
    "print(d)"
   ]
  },
  {
   "cell_type": "code",
   "execution_count": 616,
   "id": "2fec50d4-0507-43ac-a6fe-0244cda5fc30",
   "metadata": {},
   "outputs": [
    {
     "name": "stdout",
     "output_type": "stream",
     "text": [
      "{1: 1}\n",
      "{1: 1, 2: 4}\n",
      "{1: 1, 2: 4, 3: 9}\n",
      "{1: 1, 2: 4, 3: 9, 4: 16}\n",
      "{1: 1, 2: 4, 3: 9, 4: 16, 5: 25}\n"
     ]
    }
   ],
   "source": [
    "d={}\n",
    "d[1]=1**2\n",
    "print(d)\n",
    "\n",
    "d[2]=2**2\n",
    "print(d)\n",
    "\n",
    "d[3]=3**2\n",
    "print(d)\n",
    "\n",
    "d[4]=4**2\n",
    "print(d)\n",
    "\n",
    "d[5]=5**2\n",
    "print(d)"
   ]
  },
  {
   "cell_type": "markdown",
   "id": "892ac589-9187-4b82-bb84-0995a633a9be",
   "metadata": {},
   "source": [
    "# Case_4\n",
    "- Dictionary Comprehension"
   ]
  },
  {
   "cell_type": "markdown",
   "id": "9c1d88ff-2c31-4cbb-a341-cf8ae42d2d1c",
   "metadata": {},
   "source": [
    "### Dictionary Comprehension"
   ]
  },
  {
   "cell_type": "code",
   "execution_count": 624,
   "id": "28d8e027-77e1-4abe-aaf0-4f233a622d9a",
   "metadata": {},
   "outputs": [],
   "source": [
    "# - It is a one liner code to create a dictionary.\n",
    "# - It is an easier way to create a dictionary using loop."
   ]
  },
  {
   "cell_type": "markdown",
   "id": "0d2b8405-4405-47f8-9a58-a2f3289aff66",
   "metadata": {},
   "source": [
    "#### Syntax"
   ]
  },
  {
   "cell_type": "code",
   "execution_count": 627,
   "id": "23b57de6-bb06-48d8-847f-4f76626f4edd",
   "metadata": {},
   "outputs": [],
   "source": [
    "# {key:value for loop}"
   ]
  },
  {
   "cell_type": "code",
   "execution_count": 637,
   "id": "638dd8c3-ea3c-408a-afe1-5f2f5efff9a2",
   "metadata": {},
   "outputs": [
    {
     "name": "stdout",
     "output_type": "stream",
     "text": [
      "{1: 1, 2: 4, 3: 9, 4: 16, 5: 25}\n"
     ]
    }
   ],
   "source": [
    "# Create a dictionary where the numbers from 1 to 5 are the keys and their squares are the values\n",
    "# Output- {1:1,2:4,3:9,4:16,5:25}\n",
    "\n",
    "d={i:i**2 for i in range(1,6)}\n",
    "print(d)"
   ]
  },
  {
   "cell_type": "code",
   "execution_count": 641,
   "id": "b8568373-6141-4563-b004-db2e7be53716",
   "metadata": {},
   "outputs": [],
   "source": [
    "# Create a dictionary where the numbers from 1 to 5 are the values and their squares are the keys.\n",
    "# Output- {1:1,4:2,9:3,16:4,25:5}"
   ]
  },
  {
   "cell_type": "code",
   "execution_count": 649,
   "id": "b8910d57-c2f8-4f51-93dd-00e48ac8d299",
   "metadata": {},
   "outputs": [
    {
     "name": "stdout",
     "output_type": "stream",
     "text": [
      "{1: 1, 4: 2, 9: 3, 16: 4, 25: 5}\n"
     ]
    }
   ],
   "source": [
    "# Using loop\n",
    "\n",
    "d={}\n",
    "for i in range(1,6):\n",
    "    d[i**2]=i\n",
    "print(d)"
   ]
  },
  {
   "cell_type": "code",
   "execution_count": 655,
   "id": "820189d7-5b25-406f-9ac2-269d12d6de1f",
   "metadata": {},
   "outputs": [
    {
     "name": "stdout",
     "output_type": "stream",
     "text": [
      "{1: 1, 4: 2, 9: 3, 16: 4, 25: 5} <class 'dict'>\n"
     ]
    }
   ],
   "source": [
    "d={i**2:i for i in range(1,6)}\n",
    "print(d,type(d))"
   ]
  },
  {
   "cell_type": "code",
   "execution_count": 657,
   "id": "18bbcb12-a055-4577-b4da-8a3a91d9b806",
   "metadata": {},
   "outputs": [],
   "source": [
    "# {key:value for loop if condition}"
   ]
  },
  {
   "cell_type": "code",
   "execution_count": 677,
   "id": "78941fe0-acca-4986-9f1b-bdab81e6e2b8",
   "metadata": {},
   "outputs": [],
   "source": [
    "# Create a dictionary where-\n",
    "# - the numbers that can be divided by 3 and 5 both between 1 and 50 are the keys and their doubles are the values"
   ]
  },
  {
   "cell_type": "code",
   "execution_count": 671,
   "id": "029b43b7-9b6c-4eda-8200-37e0118bef59",
   "metadata": {},
   "outputs": [
    {
     "name": "stdout",
     "output_type": "stream",
     "text": [
      "{15: 30, 30: 60, 45: 90}\n"
     ]
    }
   ],
   "source": [
    "d={}\n",
    "\n",
    "for i in range(1,51):\n",
    "    if i%3==0 and i%5==0:\n",
    "        d[i]=i*2\n",
    "print(d)"
   ]
  },
  {
   "cell_type": "code",
   "execution_count": 681,
   "id": "63d3942e-95d0-465b-ba67-e6b2b98e2ddb",
   "metadata": {},
   "outputs": [
    {
     "name": "stdout",
     "output_type": "stream",
     "text": [
      "{15: 30, 30: 60, 45: 90}\n"
     ]
    }
   ],
   "source": [
    "d={i:i*2 for i in range(1,51) if i%3==0 and i%5==0}\n",
    "print(d)"
   ]
  },
  {
   "cell_type": "code",
   "execution_count": 691,
   "id": "6777e497-5a07-4af9-ab48-86dd9fb44e56",
   "metadata": {},
   "outputs": [
    {
     "name": "stdout",
     "output_type": "stream",
     "text": [
      "{2: 8, 8: 512, 4: 64, 6: 216}\n"
     ]
    }
   ],
   "source": [
    "lst=[2,5,8,7,4,6,9,2,1,4]\n",
    "# Create a dictionary where the even numbers from the above list are the keys and their cubes are the values.\n",
    "\n",
    "d={}\n",
    "\n",
    "for i in lst:\n",
    "    if i%2==0:\n",
    "        d[i]=i**3\n",
    "print(d)"
   ]
  },
  {
   "cell_type": "code",
   "execution_count": 699,
   "id": "e8a1584e-b5b9-4c43-8fba-2322aaca334f",
   "metadata": {},
   "outputs": [
    {
     "name": "stdout",
     "output_type": "stream",
     "text": [
      "{2: 8, 8: 512, 4: 64, 6: 216} <class 'dict'>\n"
     ]
    }
   ],
   "source": [
    "d={i:i**3 for i in lst if i%2==0}\n",
    "print(d,type(d))"
   ]
  },
  {
   "cell_type": "code",
   "execution_count": 701,
   "id": "fc5d40ac-04cb-4d14-8938-e1f51d40b131",
   "metadata": {},
   "outputs": [],
   "source": [
    "# {ternary operator for loop}"
   ]
  },
  {
   "cell_type": "code",
   "execution_count": 722,
   "id": "ef7daf7e-f118-49d1-ae6e-e3c7de996eeb",
   "metadata": {},
   "outputs": [
    {
     "name": "stdout",
     "output_type": "stream",
     "text": [
      "{1: 1, 2: 4, 3: 27, 4: 16, 5: 125, 6: 36, 7: 343, 8: 64, 9: 729, 10: 100}\n"
     ]
    }
   ],
   "source": [
    "# - Create a dictionary where the numbers from 1 to 10 are the keys.\n",
    "# - The values are the squares of the even keys and the cubes of the odd keys.\n",
    "\n",
    "# Output- {1:1,2:4,3:27,4:16,5:125,6:36,7:343,8:64,9:729,10:100}\n",
    "\n",
    "d={}\n",
    "\n",
    "for i in range(1,11):\n",
    "    if i%2==0:\n",
    "        d[i]=i**2\n",
    "    else:\n",
    "        d[i]=i**3\n",
    "\n",
    "print(d)"
   ]
  },
  {
   "cell_type": "code",
   "execution_count": 742,
   "id": "627e5f5d-be3a-47fa-a8af-53b4b5ba5a2b",
   "metadata": {},
   "outputs": [
    {
     "name": "stdout",
     "output_type": "stream",
     "text": [
      "{1: 1, 2: 4, 3: 27, 4: 16, 5: 125, 6: 36, 7: 343, 8: 64, 9: 729, 10: 100} <class 'dict'>\n"
     ]
    }
   ],
   "source": [
    "d={i:i**2 if i%2==0 else i**3 for i in range(1,11)}\n",
    "print(d,type(d))"
   ]
  },
  {
   "cell_type": "code",
   "execution_count": 738,
   "id": "1774dc91-be3e-46e5-a633-8fc6dacbdb8c",
   "metadata": {},
   "outputs": [
    {
     "data": {
      "text/plain": [
       "125"
      ]
     },
     "execution_count": 738,
     "metadata": {},
     "output_type": "execute_result"
    }
   ],
   "source": [
    "i=5\n",
    "i**2 if i%2==0 else i**3"
   ]
  },
  {
   "cell_type": "code",
   "execution_count": 748,
   "id": "21a4713b-4436-417d-86f1-67e6cf993877",
   "metadata": {},
   "outputs": [
    {
     "data": {
      "text/plain": [
       "{1: 1, 4: 2, 27: 3, 16: 4, 125: 5, 36: 6, 343: 7, 64: 8, 729: 9, 100: 10}"
      ]
     },
     "execution_count": 748,
     "metadata": {},
     "output_type": "execute_result"
    }
   ],
   "source": [
    "{i**2 if i%2==0 else i**3:i for i in range(1,11)}"
   ]
  },
  {
   "cell_type": "code",
   "execution_count": 768,
   "id": "536e0a16-9be9-4c52-82f1-8749d0ad5b8c",
   "metadata": {},
   "outputs": [
    {
     "name": "stdout",
     "output_type": "stream",
     "text": [
      "{'A': 65, 'B': 66, 'C': 67, 'D': 68, 'E': 69, 'F': 70, 'G': 71, 'H': 72, 'I': 73, 'J': 74, 'K': 75, 'L': 76, 'M': 77, 'N': 78, 'O': 79, 'P': 80, 'Q': 81, 'R': 82, 'S': 83, 'T': 84, 'U': 85, 'V': 86, 'W': 87, 'X': 88, 'Y': 89, 'Z': 90}\n"
     ]
    }
   ],
   "source": [
    "# Create a dictionary where the letters from A-Z are the keys and their ASCII Codes are the values.\n",
    "# A-Z, 65-90\n",
    "\n",
    "d={}\n",
    "\n",
    "for i in range(65,91):\n",
    "    d[chr(i)]=i\n",
    "print(d)"
   ]
  },
  {
   "cell_type": "code",
   "execution_count": 772,
   "id": "a6356849-00fd-4b1e-b01c-16ee2ef97c83",
   "metadata": {},
   "outputs": [
    {
     "data": {
      "text/plain": [
       "{'A': 65,\n",
       " 'B': 66,\n",
       " 'C': 67,\n",
       " 'D': 68,\n",
       " 'E': 69,\n",
       " 'F': 70,\n",
       " 'G': 71,\n",
       " 'H': 72,\n",
       " 'I': 73,\n",
       " 'J': 74,\n",
       " 'K': 75,\n",
       " 'L': 76,\n",
       " 'M': 77,\n",
       " 'N': 78,\n",
       " 'O': 79,\n",
       " 'P': 80,\n",
       " 'Q': 81,\n",
       " 'R': 82,\n",
       " 'S': 83,\n",
       " 'T': 84,\n",
       " 'U': 85,\n",
       " 'V': 86,\n",
       " 'W': 87,\n",
       " 'X': 88,\n",
       " 'Y': 89,\n",
       " 'Z': 90}"
      ]
     },
     "execution_count": 772,
     "metadata": {},
     "output_type": "execute_result"
    }
   ],
   "source": [
    "{chr(i):i for i in range(65,91)}"
   ]
  },
  {
   "cell_type": "code",
   "execution_count": 792,
   "id": "ed8a9a9f-92f9-40cd-8f21-36b4286da6df",
   "metadata": {},
   "outputs": [
    {
     "name": "stdout",
     "output_type": "stream",
     "text": [
      "{'B': 66, 'C': 67, 'D': 68, 'F': 70, 'G': 71, 'H': 72, 'J': 74, 'K': 75, 'L': 76, 'M': 77, 'N': 78, 'P': 80, 'Q': 81, 'R': 82, 'S': 83, 'T': 84, 'V': 86, 'W': 87, 'X': 88, 'Y': 89, 'Z': 90}\n"
     ]
    }
   ],
   "source": [
    "# Consonants should be the keys and their ASCII codes should be the values.\n",
    "\n",
    "d={}\n",
    "\n",
    "for i in range(65,91):\n",
    "    if chr(i) not in 'AEIOU':\n",
    "        d[chr(i)]=i\n",
    "print(d)"
   ]
  },
  {
   "cell_type": "code",
   "execution_count": 800,
   "id": "254df886-b8af-4a80-954b-f277ae3e63f4",
   "metadata": {},
   "outputs": [
    {
     "name": "stdout",
     "output_type": "stream",
     "text": [
      "{'B': 66, 'C': 67, 'D': 68, 'F': 70, 'G': 71, 'H': 72, 'J': 74, 'K': 75, 'L': 76, 'M': 77, 'N': 78, 'P': 80, 'Q': 81, 'R': 82, 'S': 83, 'T': 84, 'V': 86, 'W': 87, 'X': 88, 'Y': 89, 'Z': 90} <class 'dict'>\n"
     ]
    }
   ],
   "source": [
    "d={chr(i):i for i in range(65,91) if chr(i) not in 'AEIOU'}\n",
    "print(d,type(d))"
   ]
  },
  {
   "cell_type": "markdown",
   "id": "0b4b657d-ba03-4010-ab6b-1daad2774e52",
   "metadata": {},
   "source": [
    "# Dictionary is mutable"
   ]
  },
  {
   "cell_type": "code",
   "execution_count": 803,
   "id": "a66210d6-3d25-4ae7-b4ba-e4417ed467f5",
   "metadata": {},
   "outputs": [],
   "source": [
    "# - We can modify the value at a particular key"
   ]
  },
  {
   "cell_type": "code",
   "execution_count": 807,
   "id": "533c109c-ad3b-4253-ad52-c4a03b32d993",
   "metadata": {},
   "outputs": [],
   "source": [
    "# dictionary[key]=value\n",
    "\n",
    "# - If the exists then it will update the value on that particular key.\n",
    "# - If the key does not exist then it will add a key:value pair at the end in the dictionary."
   ]
  },
  {
   "cell_type": "code",
   "execution_count": 827,
   "id": "a7a2093d-381b-4113-afe7-486dfdf015ea",
   "metadata": {},
   "outputs": [
    {
     "name": "stdout",
     "output_type": "stream",
     "text": [
      "{'Name': 'Ashish', 'Age': 24, 'City': 'Mumbai', 'Company': 'Wipro'} 1919751156800\n",
      "{'Name': 'Deepak', 'Age': 24, 'City': 'Mumbai', 'Company': 'Wipro'}\n",
      "{'Name': 'Deepak', 'Age': 24, 'City': 'Bhopal', 'Company': 'Wipro'}\n",
      "{'Name': 'Deepak', 'Age': 24, 'City': 'Bhopal', 'Company': 'Wipro', 'Salary': 78000}\n",
      "{'Name': 'Deepak', 'Age': 24, 'City': 'Bhopal', 'Company': 'Wipro', 'Salary': 78000, 'Phone': 9876543210} 1919751156800\n"
     ]
    }
   ],
   "source": [
    "emp={'Name':'Ashish','Age':24,'City':'Mumbai','Company':'Wipro'}\n",
    "print(emp,id(emp))\n",
    "\n",
    "emp['Name']='Deepak'\n",
    "print(emp)\n",
    "\n",
    "emp['City']='Bhopal'\n",
    "print(emp)\n",
    "\n",
    "emp['Salary']=78000\n",
    "print(emp)\n",
    "\n",
    "emp['Phone']=9876543210\n",
    "print(emp,id(emp))"
   ]
  },
  {
   "cell_type": "code",
   "execution_count": 833,
   "id": "fb28af17-07ac-4d78-bc19-182831f65911",
   "metadata": {},
   "outputs": [
    {
     "name": "stdout",
     "output_type": "stream",
     "text": [
      "{1: 100, 2: 200} 1919746911936\n",
      "{1: None, 2: 200} 1919746911936\n"
     ]
    }
   ],
   "source": [
    "d={1:100,2:200}\n",
    "print(d,id(d))\n",
    "d[1]=None\n",
    "print(d,id(d))"
   ]
  },
  {
   "cell_type": "markdown",
   "id": "8aabc6a3-5488-47f4-999b-5e58b2ca5160",
   "metadata": {},
   "source": [
    "# We can map multiple values to a single key"
   ]
  },
  {
   "cell_type": "code",
   "execution_count": 836,
   "id": "2c387cee-86bb-4e3a-a1a7-94af22576f33",
   "metadata": {},
   "outputs": [],
   "source": [
    "# Name-5 names\n",
    "# Age- 5 ages\n",
    "# ID- 5 id's\n",
    "# City- 5 cities"
   ]
  },
  {
   "cell_type": "code",
   "execution_count": 840,
   "id": "738a22ae-4cd0-4ebc-9277-0fa2b87171a7",
   "metadata": {},
   "outputs": [],
   "source": [
    "details={'Name':['Deepak','Aditya','Abhishek','Rohit','Suresh'],\n",
    "        'Age':[25,27,31,24,29],\n",
    "        'ID':[111,112,113,114,115],\n",
    "        'City':['Bangalore','Pune', 'Noida', 'Chennai', 'Mumbai']}"
   ]
  },
  {
   "cell_type": "code",
   "execution_count": 842,
   "id": "4de2d02d-05b4-4eb4-90c3-84b442605bb5",
   "metadata": {},
   "outputs": [
    {
     "data": {
      "text/plain": [
       "{'Name': ['Deepak', 'Aditya', 'Abhishek', 'Rohit', 'Suresh'],\n",
       " 'Age': [25, 27, 31, 24, 29],\n",
       " 'ID': [111, 112, 113, 114, 115],\n",
       " 'City': ['Bangalore', 'Pune', 'Noida', 'Chennai', 'Mumbai']}"
      ]
     },
     "execution_count": 842,
     "metadata": {},
     "output_type": "execute_result"
    }
   ],
   "source": [
    "details"
   ]
  },
  {
   "cell_type": "code",
   "execution_count": 848,
   "id": "0664b561-e58d-41cb-b23e-12ef29786a5f",
   "metadata": {},
   "outputs": [
    {
     "data": {
      "text/plain": [
       "['Bangalore', 'Pune', 'Noida', 'Chennai', 'Mumbai']"
      ]
     },
     "execution_count": 848,
     "metadata": {},
     "output_type": "execute_result"
    }
   ],
   "source": [
    "details['City']"
   ]
  },
  {
   "cell_type": "code",
   "execution_count": 850,
   "id": "15eed7fa-3487-4fa9-ae6c-2caa840f88f7",
   "metadata": {},
   "outputs": [],
   "source": [
    "name=['Deepak','Aditya','Abhishek','Rohit','Suresh']\n",
    "age=[25,27,31,24,29]\n",
    "codes=[111,112,113,114,115]\n",
    "city=['Bangalore','Pune', 'Noida', 'Chennai', 'Mumbai']"
   ]
  },
  {
   "cell_type": "code",
   "execution_count": 852,
   "id": "a76aa98c-585c-4a6c-aec8-2cd292b5fb32",
   "metadata": {},
   "outputs": [],
   "source": [
    "details={'Name':name,\n",
    "        'Age':age,\n",
    "        'ID':codes,\n",
    "        'City':city}"
   ]
  },
  {
   "cell_type": "code",
   "execution_count": 854,
   "id": "195b257a-fd97-4919-abd8-6c4809d21222",
   "metadata": {},
   "outputs": [
    {
     "name": "stdout",
     "output_type": "stream",
     "text": [
      "{'Name': ['Deepak', 'Aditya', 'Abhishek', 'Rohit', 'Suresh'], 'Age': [25, 27, 31, 24, 29], 'ID': [111, 112, 113, 114, 115], 'City': ['Bangalore', 'Pune', 'Noida', 'Chennai', 'Mumbai']}\n"
     ]
    }
   ],
   "source": [
    "print(details)"
   ]
  },
  {
   "cell_type": "code",
   "execution_count": 856,
   "id": "e21efa30-28f6-41c3-b81c-f780cdcd5257",
   "metadata": {},
   "outputs": [],
   "source": [
    "import pandas as pd"
   ]
  },
  {
   "cell_type": "code",
   "execution_count": 858,
   "id": "2e87ba0e-a743-4c22-8b6b-639a22db46f7",
   "metadata": {},
   "outputs": [
    {
     "data": {
      "text/html": [
       "<div>\n",
       "<style scoped>\n",
       "    .dataframe tbody tr th:only-of-type {\n",
       "        vertical-align: middle;\n",
       "    }\n",
       "\n",
       "    .dataframe tbody tr th {\n",
       "        vertical-align: top;\n",
       "    }\n",
       "\n",
       "    .dataframe thead th {\n",
       "        text-align: right;\n",
       "    }\n",
       "</style>\n",
       "<table border=\"1\" class=\"dataframe\">\n",
       "  <thead>\n",
       "    <tr style=\"text-align: right;\">\n",
       "      <th></th>\n",
       "      <th>Name</th>\n",
       "      <th>Age</th>\n",
       "      <th>ID</th>\n",
       "      <th>City</th>\n",
       "    </tr>\n",
       "  </thead>\n",
       "  <tbody>\n",
       "    <tr>\n",
       "      <th>0</th>\n",
       "      <td>Deepak</td>\n",
       "      <td>25</td>\n",
       "      <td>111</td>\n",
       "      <td>Bangalore</td>\n",
       "    </tr>\n",
       "    <tr>\n",
       "      <th>1</th>\n",
       "      <td>Aditya</td>\n",
       "      <td>27</td>\n",
       "      <td>112</td>\n",
       "      <td>Pune</td>\n",
       "    </tr>\n",
       "    <tr>\n",
       "      <th>2</th>\n",
       "      <td>Abhishek</td>\n",
       "      <td>31</td>\n",
       "      <td>113</td>\n",
       "      <td>Noida</td>\n",
       "    </tr>\n",
       "    <tr>\n",
       "      <th>3</th>\n",
       "      <td>Rohit</td>\n",
       "      <td>24</td>\n",
       "      <td>114</td>\n",
       "      <td>Chennai</td>\n",
       "    </tr>\n",
       "    <tr>\n",
       "      <th>4</th>\n",
       "      <td>Suresh</td>\n",
       "      <td>29</td>\n",
       "      <td>115</td>\n",
       "      <td>Mumbai</td>\n",
       "    </tr>\n",
       "  </tbody>\n",
       "</table>\n",
       "</div>"
      ],
      "text/plain": [
       "       Name  Age   ID       City\n",
       "0    Deepak   25  111  Bangalore\n",
       "1    Aditya   27  112       Pune\n",
       "2  Abhishek   31  113      Noida\n",
       "3     Rohit   24  114    Chennai\n",
       "4    Suresh   29  115     Mumbai"
      ]
     },
     "execution_count": 858,
     "metadata": {},
     "output_type": "execute_result"
    }
   ],
   "source": [
    "pd.DataFrame(details)"
   ]
  },
  {
   "cell_type": "markdown",
   "id": "b6370540-f3d9-406b-be68-32671a816218",
   "metadata": {},
   "source": [
    "# Nested Dictionary"
   ]
  },
  {
   "cell_type": "code",
   "execution_count": 861,
   "id": "a21f885e-31c0-40f9-a8ce-b81374e7270d",
   "metadata": {},
   "outputs": [],
   "source": [
    "# - When a dictionary key is mapped to another dictionary then we call it as nested dictionary"
   ]
  },
  {
   "cell_type": "code",
   "execution_count": 863,
   "id": "6d03b16f-42b4-48e0-9abb-9486784c661b",
   "metadata": {},
   "outputs": [],
   "source": [
    "emp_details={'emp_1':{'Name':'Amit',\n",
    "          'ID':111,\n",
    "          'Age':24,\n",
    "          'City':'Pune'},\n",
    " \n",
    " 'emp_2':{'Name':'Siddharth',\n",
    "         'ID':112,\n",
    "         'City':'Noida'},\n",
    " \n",
    " 'emp_3':{'Name':'Suresh',\n",
    "         'ID':113,\n",
    "         'City':'Bhopal'},\n",
    " \n",
    " 'emp_4':{'Name':'Abhishek',\n",
    "         'ID':114,\n",
    "         'City':'Pune'},\n",
    "}"
   ]
  },
  {
   "cell_type": "code",
   "execution_count": 865,
   "id": "91b9d864-8047-4d5c-82d6-175fc60c6d03",
   "metadata": {},
   "outputs": [
    {
     "name": "stdout",
     "output_type": "stream",
     "text": [
      "{'emp_1': {'Name': 'Amit', 'ID': 111, 'Age': 24, 'City': 'Pune'}, 'emp_2': {'Name': 'Siddharth', 'ID': 112, 'City': 'Noida'}, 'emp_3': {'Name': 'Suresh', 'ID': 113, 'City': 'Bhopal'}, 'emp_4': {'Name': 'Abhishek', 'ID': 114, 'City': 'Pune'}}\n"
     ]
    }
   ],
   "source": [
    "print(emp_details)"
   ]
  },
  {
   "cell_type": "code",
   "execution_count": 867,
   "id": "65ba24bf-94ea-425e-a325-aa385a59d9c4",
   "metadata": {},
   "outputs": [
    {
     "data": {
      "text/plain": [
       "{'Name': 'Amit', 'ID': 111, 'Age': 24, 'City': 'Pune'}"
      ]
     },
     "execution_count": 867,
     "metadata": {},
     "output_type": "execute_result"
    }
   ],
   "source": [
    "emp_details['emp_1']"
   ]
  },
  {
   "cell_type": "code",
   "execution_count": 869,
   "id": "b68b5be7-273f-4a47-9403-4369a065c26b",
   "metadata": {},
   "outputs": [
    {
     "data": {
      "text/plain": [
       "{'Name': 'Siddharth', 'ID': 112, 'City': 'Noida'}"
      ]
     },
     "execution_count": 869,
     "metadata": {},
     "output_type": "execute_result"
    }
   ],
   "source": [
    "emp_details['emp_2']"
   ]
  },
  {
   "cell_type": "code",
   "execution_count": 871,
   "id": "c550732b-600a-44b2-8166-998bfeef0a8c",
   "metadata": {},
   "outputs": [
    {
     "data": {
      "text/plain": [
       "{'Name': 'Suresh', 'ID': 113, 'City': 'Bhopal'}"
      ]
     },
     "execution_count": 871,
     "metadata": {},
     "output_type": "execute_result"
    }
   ],
   "source": [
    "emp_details['emp_3']"
   ]
  },
  {
   "cell_type": "code",
   "execution_count": 873,
   "id": "b1c599e1-3840-475d-884f-b395051ec3b1",
   "metadata": {},
   "outputs": [
    {
     "data": {
      "text/plain": [
       "{'Name': 'Abhishek', 'ID': 114, 'City': 'Pune'}"
      ]
     },
     "execution_count": 873,
     "metadata": {},
     "output_type": "execute_result"
    }
   ],
   "source": [
    "emp_details['emp_4']"
   ]
  },
  {
   "cell_type": "code",
   "execution_count": null,
   "id": "f10086ac-f5b9-42b5-8d38-0e746db3cff5",
   "metadata": {},
   "outputs": [],
   "source": []
  }
 ],
 "metadata": {
  "kernelspec": {
   "display_name": "Python 3 (ipykernel)",
   "language": "python",
   "name": "python3"
  },
  "language_info": {
   "codemirror_mode": {
    "name": "ipython",
    "version": 3
   },
   "file_extension": ".py",
   "mimetype": "text/x-python",
   "name": "python",
   "nbconvert_exporter": "python",
   "pygments_lexer": "ipython3",
   "version": "3.11.4"
  }
 },
 "nbformat": 4,
 "nbformat_minor": 5
}
