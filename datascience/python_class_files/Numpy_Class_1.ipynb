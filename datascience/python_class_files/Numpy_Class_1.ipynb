{
 "cells": [
  {
   "cell_type": "markdown",
   "id": "514c1ce1-6329-46b2-84aa-15f42ac9de33",
   "metadata": {},
   "source": [
    "# NumPy"
   ]
  },
  {
   "cell_type": "code",
   "execution_count": 6,
   "id": "552b9539-d188-455b-a9da-50fe1fe75aaa",
   "metadata": {},
   "outputs": [],
   "source": [
    "# - Numpy stands for numerical Python.\n",
    "# - It is a Python library that is used to perform advanced mathematical computations on the large datsets.\n",
    "# - Using Numpy we can perform statistical, linear algebric, trignometric operations on the large datasets.\n",
    "# - Using Numpy we can simualate random data\n",
    "# - To use Numpy we have to import it first."
   ]
  },
  {
   "cell_type": "markdown",
   "id": "5ae7d643-19be-4206-babb-1714d8040245",
   "metadata": {},
   "source": [
    "# Importing Numpy"
   ]
  },
  {
   "cell_type": "code",
   "execution_count": 10,
   "id": "d3a86d5d-7fb8-4f52-9455-0503d66de231",
   "metadata": {},
   "outputs": [],
   "source": [
    "import numpy as np"
   ]
  },
  {
   "cell_type": "code",
   "execution_count": 12,
   "id": "f0118aee-82b7-418f-808d-e9486bc73267",
   "metadata": {},
   "outputs": [
    {
     "name": "stdout",
     "output_type": "stream",
     "text": [
      "['In', 'Out', '_', '_1', '_11', '_3', '_5', '_7', '_8', '_9', '__', '___', '__builtin__', '__builtins__', '__doc__', '__loader__', '__name__', '__package__', '__pandas', '__spec__', '_dh', '_i', '_i1', '_i10', '_i11', '_i12', '_i2', '_i3', '_i4', '_i5', '_i6', '_i7', '_i8', '_i9', '_ih', '_ii', '_iii', '_oh', 'dataframe_columns', 'dataframe_hash', 'dtypes_str', 'exit', 'get_dataframes', 'get_ipython', 'getpass', 'hashlib', 'import_pandas_safely', 'is_data_frame', 'json', 'np', 'open', 'quit']\n"
     ]
    }
   ],
   "source": [
    "print(dir())"
   ]
  },
  {
   "cell_type": "markdown",
   "id": "33444494-6d3f-4eff-bf2d-daa45daeb2eb",
   "metadata": {},
   "source": [
    "# Version"
   ]
  },
  {
   "cell_type": "code",
   "execution_count": 15,
   "id": "e8aec1fd-dac3-4efb-8ac7-f4fb210e700b",
   "metadata": {},
   "outputs": [
    {
     "data": {
      "text/plain": [
       "'1.24.3'"
      ]
     },
     "execution_count": 15,
     "metadata": {},
     "output_type": "execute_result"
    }
   ],
   "source": [
    "np.__version__"
   ]
  },
  {
   "cell_type": "markdown",
   "id": "560b73a4-a5e1-4e1a-8ed7-966315c16bde",
   "metadata": {},
   "source": [
    "# Version of Python"
   ]
  },
  {
   "cell_type": "code",
   "execution_count": 1,
   "id": "10aa6387-09d6-49bf-a3fb-f87d535cfe71",
   "metadata": {},
   "outputs": [
    {
     "name": "stdout",
     "output_type": "stream",
     "text": [
      "zsh:1: command not found: pip\n"
     ]
    }
   ],
   "source": [
    "!pip -V"
   ]
  },
  {
   "cell_type": "code",
   "execution_count": 24,
   "id": "43026cf7-1fdf-4a3f-a7d8-ee3da02629c6",
   "metadata": {},
   "outputs": [],
   "source": [
    "import sys"
   ]
  },
  {
   "cell_type": "code",
   "execution_count": 26,
   "id": "f62e4390-629e-4d07-9795-70356069c626",
   "metadata": {},
   "outputs": [
    {
     "data": {
      "text/plain": [
       "'3.11.4 | packaged by Anaconda, Inc. | (main, Jul  5 2023, 13:38:37) [MSC v.1916 64 bit (AMD64)]'"
      ]
     },
     "execution_count": 26,
     "metadata": {},
     "output_type": "execute_result"
    }
   ],
   "source": [
    "sys.version"
   ]
  },
  {
   "cell_type": "code",
   "execution_count": 32,
   "id": "114eba4d-04bb-414a-af13-e2b99f86ad0a",
   "metadata": {},
   "outputs": [],
   "source": [
    "# - Numpy works with a special data structure known as array."
   ]
  },
  {
   "cell_type": "markdown",
   "id": "cb545aae-9ba3-4a11-826b-ca2bc7b44ca8",
   "metadata": {},
   "source": [
    "# Array"
   ]
  },
  {
   "cell_type": "code",
   "execution_count": 39,
   "id": "4e3bcbe9-47b9-408c-9d75-d759386ca694",
   "metadata": {},
   "outputs": [],
   "source": [
    "# - It is a collection of homogenous (same type) elements.\n",
    "# - Array is a data structure provided by Numpy.\n",
    "# - Using arrays we can perform operations on the large data with less lines of code.\n",
    "# - Arrays are faster compared to list so they become very useful with the large data."
   ]
  },
  {
   "cell_type": "markdown",
   "id": "94d74753-39e4-41db-afc2-ea35f8f9585d",
   "metadata": {},
   "source": [
    "# How to create an array?"
   ]
  },
  {
   "cell_type": "code",
   "execution_count": 44,
   "id": "8e3036bc-fdb7-4328-a9a1-508992694ea0",
   "metadata": {},
   "outputs": [],
   "source": [
    "# np.array(value/iterable)- It returns an array object"
   ]
  },
  {
   "cell_type": "code",
   "execution_count": 46,
   "id": "f09b5d18-2b04-4d23-88c3-3a026c9efa7c",
   "metadata": {},
   "outputs": [
    {
     "data": {
      "text/plain": [
       "array(45)"
      ]
     },
     "execution_count": 46,
     "metadata": {},
     "output_type": "execute_result"
    }
   ],
   "source": [
    "x=np.array(45)\n",
    "x"
   ]
  },
  {
   "cell_type": "code",
   "execution_count": 48,
   "id": "f32512b9-a1ab-41c2-8a6d-52b9de56b1aa",
   "metadata": {},
   "outputs": [
    {
     "name": "stdout",
     "output_type": "stream",
     "text": [
      "45 <class 'numpy.ndarray'>\n"
     ]
    }
   ],
   "source": [
    "print(x,type(x))"
   ]
  },
  {
   "cell_type": "code",
   "execution_count": 50,
   "id": "aebd329b-07c3-4fa5-913c-45d70fe3e48a",
   "metadata": {},
   "outputs": [
    {
     "data": {
      "text/plain": [
       "array(True)"
      ]
     },
     "execution_count": 50,
     "metadata": {},
     "output_type": "execute_result"
    }
   ],
   "source": [
    "x=np.array(True)\n",
    "x"
   ]
  },
  {
   "cell_type": "code",
   "execution_count": 54,
   "id": "81163aa2-6cc3-4e30-9dbd-ace16bdd159b",
   "metadata": {},
   "outputs": [
    {
     "data": {
      "text/plain": [
       "array([10, 20, 30, 40, 50])"
      ]
     },
     "execution_count": 54,
     "metadata": {},
     "output_type": "execute_result"
    }
   ],
   "source": [
    "x=np.array([10,20,30,40,50])\n",
    "x"
   ]
  },
  {
   "cell_type": "code",
   "execution_count": 56,
   "id": "3fd049e4-8976-4a12-aee9-3a5666c52295",
   "metadata": {},
   "outputs": [
    {
     "name": "stdout",
     "output_type": "stream",
     "text": [
      "[10 20 30 40 50]\n"
     ]
    }
   ],
   "source": [
    "print(x)"
   ]
  },
  {
   "cell_type": "code",
   "execution_count": 58,
   "id": "8a7f2a84-6c88-421a-b1f1-47ee54e8cde2",
   "metadata": {},
   "outputs": [
    {
     "name": "stdout",
     "output_type": "stream",
     "text": [
      "[10, 20, 30, 40, 50]\n"
     ]
    }
   ],
   "source": [
    "print([10,20,30,40,50])"
   ]
  },
  {
   "cell_type": "code",
   "execution_count": 60,
   "id": "eb9f10dd-b10a-4076-afbe-ea4790228bbc",
   "metadata": {},
   "outputs": [
    {
     "data": {
      "text/plain": [
       "array([10, 20, 30, 40, 50])"
      ]
     },
     "execution_count": 60,
     "metadata": {},
     "output_type": "execute_result"
    }
   ],
   "source": [
    "x=np.array((10,20,30,40,50))\n",
    "x"
   ]
  },
  {
   "cell_type": "code",
   "execution_count": 64,
   "id": "bc2a96e1-da3f-4769-9a87-4bddcd48e1c8",
   "metadata": {},
   "outputs": [
    {
     "data": {
      "text/plain": [
       "array({1: 100, 2: 200}, dtype=object)"
      ]
     },
     "execution_count": 64,
     "metadata": {},
     "output_type": "execute_result"
    }
   ],
   "source": [
    "x=np.array({1:100,2:200})\n",
    "x"
   ]
  },
  {
   "cell_type": "code",
   "execution_count": 68,
   "id": "27a67e43-fde6-4ba4-878b-fff4e909dd43",
   "metadata": {},
   "outputs": [
    {
     "data": {
      "text/plain": [
       "array({1, 2, 3, 4, 5}, dtype=object)"
      ]
     },
     "execution_count": 68,
     "metadata": {},
     "output_type": "execute_result"
    }
   ],
   "source": [
    "x=np.array({1,2,3,4,5})\n",
    "x"
   ]
  },
  {
   "cell_type": "markdown",
   "id": "7329514f-35b9-47aa-abf4-e22c8b340798",
   "metadata": {},
   "source": [
    "# List vs Arrays"
   ]
  },
  {
   "cell_type": "code",
   "execution_count": 71,
   "id": "c605e29c-5b50-4f6f-a671-8c45b446aa0f",
   "metadata": {},
   "outputs": [],
   "source": [
    "# - Arrays need less code to perform operations.\n",
    "# - Arrays are faster than list."
   ]
  },
  {
   "cell_type": "code",
   "execution_count": 79,
   "id": "c6ac8d56-9d74-42a2-9cd1-b848753370f9",
   "metadata": {},
   "outputs": [
    {
     "name": "stdout",
     "output_type": "stream",
     "text": [
      "[5, 10, 15, 20, 25, 30, 35, 40, 45, 50]\n"
     ]
    }
   ],
   "source": [
    "lst=[1,2,3,4,5,6,7,8,9,10]\n",
    "# Multiply each element of the above list by 5\n",
    "res=[]\n",
    "for i in lst:\n",
    "    res.append(i*5)\n",
    "print(res)"
   ]
  },
  {
   "cell_type": "code",
   "execution_count": 81,
   "id": "65ca6c42-f6b6-40e4-9454-88c9036d0cda",
   "metadata": {},
   "outputs": [
    {
     "name": "stdout",
     "output_type": "stream",
     "text": [
      "[5, 10, 15, 20, 25, 30, 35, 40, 45, 50]\n"
     ]
    }
   ],
   "source": [
    "lst=[1,2,3,4,5,6,7,8,9,10]\n",
    "# Multiply each element of the above list by 5\n",
    "\n",
    "for i in range(len(lst)):\n",
    "    lst[i]=lst[i]*5\n",
    "print(lst)"
   ]
  },
  {
   "cell_type": "code",
   "execution_count": 93,
   "id": "907e07cb-255e-4a91-a2bd-ce9ef5af9b83",
   "metadata": {},
   "outputs": [
    {
     "data": {
      "text/plain": [
       "[1, 2, 3, 4, 1, 2, 3, 4, 1, 2, 3, 4, 1, 2, 3, 4, 1, 2, 3, 4]"
      ]
     },
     "execution_count": 93,
     "metadata": {},
     "output_type": "execute_result"
    }
   ],
   "source": [
    "lst=[1,2,3,4]\n",
    "lst*5 # Repeatition"
   ]
  },
  {
   "cell_type": "code",
   "execution_count": 87,
   "id": "c0a797fe-c988-45eb-9d46-e9521806c9c9",
   "metadata": {},
   "outputs": [
    {
     "data": {
      "text/plain": [
       "array([ 5, 10, 15, 20, 25, 30, 35, 40, 45, 50])"
      ]
     },
     "execution_count": 87,
     "metadata": {},
     "output_type": "execute_result"
    }
   ],
   "source": [
    "x=np.array([1,2,3,4,5,6,7,8,9,10])\n",
    "x*5 # Multiplication"
   ]
  },
  {
   "cell_type": "code",
   "execution_count": 89,
   "id": "b018fd34-0aac-484b-8d05-36c3d299a2fd",
   "metadata": {},
   "outputs": [
    {
     "data": {
      "text/plain": [
       "array([  1,   4,   9,  16,  25,  36,  49,  64,  81, 100])"
      ]
     },
     "execution_count": 89,
     "metadata": {},
     "output_type": "execute_result"
    }
   ],
   "source": [
    "x**2"
   ]
  },
  {
   "cell_type": "code",
   "execution_count": 91,
   "id": "60bc3d3f-c239-4882-8d51-24ab1d066cda",
   "metadata": {},
   "outputs": [
    {
     "data": {
      "text/plain": [
       "array([0.5, 1. , 1.5, 2. , 2.5, 3. , 3.5, 4. , 4.5, 5. ])"
      ]
     },
     "execution_count": 91,
     "metadata": {},
     "output_type": "execute_result"
    }
   ],
   "source": [
    "x/2"
   ]
  },
  {
   "cell_type": "code",
   "execution_count": 101,
   "id": "17ffc98d-bbb9-4bd9-a0e5-af2809727d99",
   "metadata": {},
   "outputs": [
    {
     "data": {
      "text/plain": [
       "array([1, 0, 1, 0, 1, 0, 1, 0, 1, 0], dtype=int32)"
      ]
     },
     "execution_count": 101,
     "metadata": {},
     "output_type": "execute_result"
    }
   ],
   "source": [
    "x%2"
   ]
  },
  {
   "cell_type": "code",
   "execution_count": 109,
   "id": "e312c0d1-b06f-4dab-b058-1b8c1985f940",
   "metadata": {},
   "outputs": [],
   "source": [
    "import time"
   ]
  },
  {
   "cell_type": "code",
   "execution_count": 111,
   "id": "b4999a06-61ba-47cc-96fe-b1db36563e49",
   "metadata": {},
   "outputs": [
    {
     "name": "stdout",
     "output_type": "stream",
     "text": [
      "0 4999995\n",
      "0.1506025791168213\n"
     ]
    }
   ],
   "source": [
    "st=time.time()\n",
    "lst=[i for i in range(1000000)]\n",
    "for i in range(len(lst)):\n",
    "    lst[i]=lst[i]*5\n",
    "print(lst[0],lst[-1])\n",
    "tt=time.time()-st\n",
    "print(tt)"
   ]
  },
  {
   "cell_type": "code",
   "execution_count": 113,
   "id": "f56325f7-d616-4c5a-ab80-40c33b6cbbe7",
   "metadata": {},
   "outputs": [
    {
     "name": "stdout",
     "output_type": "stream",
     "text": [
      "0.0030035972595214844\n"
     ]
    }
   ],
   "source": [
    "st=time.time()\n",
    "x=np.arange(1000000)\n",
    "x*5\n",
    "tt=time.time()-st\n",
    "print(tt)"
   ]
  },
  {
   "cell_type": "code",
   "execution_count": 115,
   "id": "1ede3084-03b4-46ed-a5a4-e0e21a740729",
   "metadata": {},
   "outputs": [],
   "source": [
    "# - List is a collection of heterogenous elements.\n",
    "# - Array is the collection of homogenous elements."
   ]
  },
  {
   "cell_type": "code",
   "execution_count": 117,
   "id": "c41c6c6d-618c-4ceb-8a36-98610e69c405",
   "metadata": {},
   "outputs": [
    {
     "data": {
      "text/plain": [
       "array([10, 20, 30, 40, 50])"
      ]
     },
     "execution_count": 117,
     "metadata": {},
     "output_type": "execute_result"
    }
   ],
   "source": [
    "x=np.array([10,20,30,40,50])\n",
    "x"
   ]
  },
  {
   "cell_type": "code",
   "execution_count": 119,
   "id": "b8328e87-5552-4104-b69b-fe5cc9a91424",
   "metadata": {},
   "outputs": [],
   "source": [
    "lst=[True, 'Python', 5+5j, {1:100,2:200}, 2.8888]"
   ]
  },
  {
   "cell_type": "markdown",
   "id": "73db1302-c540-4cc5-8170-6bd753fd7573",
   "metadata": {},
   "source": [
    "# Array Upcasting"
   ]
  },
  {
   "cell_type": "code",
   "execution_count": 124,
   "id": "39658a83-48db-4805-b0e7-9cb05848d7fb",
   "metadata": {},
   "outputs": [],
   "source": [
    "# int -> float -> complex -> string -> object"
   ]
  },
  {
   "cell_type": "code",
   "execution_count": 130,
   "id": "6774888d-daa0-448e-a2f1-1b30cb2f01c9",
   "metadata": {},
   "outputs": [
    {
     "data": {
      "text/plain": [
       "array([1, 2, 3, 4, 5])"
      ]
     },
     "execution_count": 130,
     "metadata": {},
     "output_type": "execute_result"
    }
   ],
   "source": [
    "x=np.array([1,2,3,4,5])\n",
    "x"
   ]
  },
  {
   "cell_type": "code",
   "execution_count": 132,
   "id": "cbf3ae7c-9640-4392-9ae8-153d33c56b95",
   "metadata": {},
   "outputs": [
    {
     "data": {
      "text/plain": [
       "dtype('int32')"
      ]
     },
     "execution_count": 132,
     "metadata": {},
     "output_type": "execute_result"
    }
   ],
   "source": [
    "x.dtype"
   ]
  },
  {
   "cell_type": "code",
   "execution_count": 134,
   "id": "c2d3f8e3-34a0-4f1e-a93d-b5c029659d10",
   "metadata": {},
   "outputs": [
    {
     "data": {
      "text/plain": [
       "array([1. , 2. , 3.6, 4. , 5. ])"
      ]
     },
     "execution_count": 134,
     "metadata": {},
     "output_type": "execute_result"
    }
   ],
   "source": [
    "x=np.array([1,2,3.6,4,5])\n",
    "x"
   ]
  },
  {
   "cell_type": "code",
   "execution_count": 136,
   "id": "8e097763-95b9-4db6-8525-ffb03ebff38d",
   "metadata": {},
   "outputs": [
    {
     "data": {
      "text/plain": [
       "dtype('float64')"
      ]
     },
     "execution_count": 136,
     "metadata": {},
     "output_type": "execute_result"
    }
   ],
   "source": [
    "x.dtype"
   ]
  },
  {
   "cell_type": "code",
   "execution_count": 138,
   "id": "5005d6bf-73a5-43d0-9091-9bd9c249a33c",
   "metadata": {},
   "outputs": [
    {
     "data": {
      "text/plain": [
       "array([1. +0.j, 2. +0.j, 3.6+0.j, 4. +4.j, 5. +0.j])"
      ]
     },
     "execution_count": 138,
     "metadata": {},
     "output_type": "execute_result"
    }
   ],
   "source": [
    "x=np.array([1,2,3.6,4+4j,5])\n",
    "x"
   ]
  },
  {
   "cell_type": "code",
   "execution_count": 140,
   "id": "30153b23-3396-4c66-a9e4-2fc31da2858a",
   "metadata": {},
   "outputs": [
    {
     "data": {
      "text/plain": [
       "dtype('complex128')"
      ]
     },
     "execution_count": 140,
     "metadata": {},
     "output_type": "execute_result"
    }
   ],
   "source": [
    "x.dtype"
   ]
  },
  {
   "cell_type": "code",
   "execution_count": 142,
   "id": "2ce9935c-bf63-4851-be7b-cd894055e331",
   "metadata": {},
   "outputs": [
    {
     "data": {
      "text/plain": [
       "array([1.+0.j, 2.+0.j, 3.+6.j, 4.+0.j, 5.+0.j])"
      ]
     },
     "execution_count": 142,
     "metadata": {},
     "output_type": "execute_result"
    }
   ],
   "source": [
    "x=np.array([1,2,3+6j,4,5])\n",
    "x"
   ]
  },
  {
   "cell_type": "code",
   "execution_count": 144,
   "id": "2b3afd7e-a95e-4bd4-8eb1-d858a2657f67",
   "metadata": {},
   "outputs": [
    {
     "data": {
      "text/plain": [
       "array(['1', '(2+5j)', '3.6', '4', '5'], dtype='<U64')"
      ]
     },
     "execution_count": 144,
     "metadata": {},
     "output_type": "execute_result"
    }
   ],
   "source": [
    "x=np.array([1,2+5j,3.6,'4',5])\n",
    "x"
   ]
  },
  {
   "cell_type": "code",
   "execution_count": 150,
   "id": "0998b47d-5d46-45f4-8f10-4a86f0ecae72",
   "metadata": {},
   "outputs": [
    {
     "data": {
      "text/plain": [
       "array([1, list([2, 3.6]), 4, 5], dtype=object)"
      ]
     },
     "execution_count": 150,
     "metadata": {},
     "output_type": "execute_result"
    }
   ],
   "source": [
    "x=np.array([1,[2,3.6],4,5],dtype=object)\n",
    "x"
   ]
  },
  {
   "cell_type": "code",
   "execution_count": 154,
   "id": "a122824f-4490-4291-a76b-9112b024fafa",
   "metadata": {},
   "outputs": [
    {
     "data": {
      "text/plain": [
       "array([1, 2, 3, 4, 5, 1])"
      ]
     },
     "execution_count": 154,
     "metadata": {},
     "output_type": "execute_result"
    }
   ],
   "source": [
    "x=np.array([1,2,3,4,5, True])\n",
    "x"
   ]
  },
  {
   "cell_type": "code",
   "execution_count": 156,
   "id": "0b877de7-e484-4be2-bae5-b3f5da50eac0",
   "metadata": {},
   "outputs": [
    {
     "data": {
      "text/plain": [
       "array([1. , 0. , 2. , 3.6, 4. , 5. ])"
      ]
     },
     "execution_count": 156,
     "metadata": {},
     "output_type": "execute_result"
    }
   ],
   "source": [
    "x=np.array([1,False,2,3.6,4,5])\n",
    "x"
   ]
  },
  {
   "cell_type": "code",
   "execution_count": 158,
   "id": "81a7d05f-0ab8-4664-95e9-7f2326e968ae",
   "metadata": {},
   "outputs": [
    {
     "data": {
      "text/plain": [
       "array([1, 2, 3.6, 4, 5, None], dtype=object)"
      ]
     },
     "execution_count": 158,
     "metadata": {},
     "output_type": "execute_result"
    }
   ],
   "source": [
    "x=np.array([1,2,3.6,4,5, None])\n",
    "x"
   ]
  },
  {
   "cell_type": "markdown",
   "id": "41b29979-cdd5-419a-8799-de3e50ee0b6b",
   "metadata": {},
   "source": [
    "# Attributes on arrays"
   ]
  },
  {
   "cell_type": "code",
   "execution_count": 161,
   "id": "cc391617-4542-4389-884f-53c92dfd27af",
   "metadata": {},
   "outputs": [],
   "source": [
    "# shape\n",
    "# size\n",
    "# dtype\n",
    "# ndim"
   ]
  },
  {
   "cell_type": "markdown",
   "id": "d97d0f08-1ff4-4fae-9047-2ccd9e5f9455",
   "metadata": {},
   "source": [
    "### dtype"
   ]
  },
  {
   "cell_type": "code",
   "execution_count": 164,
   "id": "e975753c-69ae-473d-8f10-c91dccc50bd5",
   "metadata": {},
   "outputs": [],
   "source": [
    "# - It returns the type of the elements the array contains."
   ]
  },
  {
   "cell_type": "code",
   "execution_count": 166,
   "id": "1ad6683a-454f-403b-bfe6-b0f772e3fab2",
   "metadata": {},
   "outputs": [
    {
     "data": {
      "text/plain": [
       "array([1. , 0. , 2. , 3.6, 4. , 5. ])"
      ]
     },
     "execution_count": 166,
     "metadata": {},
     "output_type": "execute_result"
    }
   ],
   "source": [
    "x=np.array([1,False,2,3.6,4,5])\n",
    "x"
   ]
  },
  {
   "cell_type": "code",
   "execution_count": 168,
   "id": "df6e29b7-4308-40b6-a0d5-35544a17cc3f",
   "metadata": {},
   "outputs": [
    {
     "data": {
      "text/plain": [
       "dtype('float64')"
      ]
     },
     "execution_count": 168,
     "metadata": {},
     "output_type": "execute_result"
    }
   ],
   "source": [
    "x.dtype"
   ]
  },
  {
   "cell_type": "markdown",
   "id": "5fa7ca23-1a78-4118-bafe-09e67f7e393a",
   "metadata": {},
   "source": [
    "### size"
   ]
  },
  {
   "cell_type": "code",
   "execution_count": 171,
   "id": "1fff3b2e-cdb7-4142-879e-d15f8f6a4c60",
   "metadata": {},
   "outputs": [],
   "source": [
    "# - It returns the number of elements in an array."
   ]
  },
  {
   "cell_type": "code",
   "execution_count": 173,
   "id": "657da101-e7d6-4082-ba3f-024370eda388",
   "metadata": {},
   "outputs": [
    {
     "data": {
      "text/plain": [
       "array([10, 20, 30, 40, 50, 60, 70, 80])"
      ]
     },
     "execution_count": 173,
     "metadata": {},
     "output_type": "execute_result"
    }
   ],
   "source": [
    "x=np.array([10,20,30,40,50,60,70,80])\n",
    "x"
   ]
  },
  {
   "cell_type": "code",
   "execution_count": 175,
   "id": "af23b4e8-45da-4fb9-a27f-f602248151c2",
   "metadata": {},
   "outputs": [
    {
     "data": {
      "text/plain": [
       "8"
      ]
     },
     "execution_count": 175,
     "metadata": {},
     "output_type": "execute_result"
    }
   ],
   "source": [
    "x.size"
   ]
  },
  {
   "cell_type": "code",
   "execution_count": 177,
   "id": "33bf0670-ffde-4d24-acf7-6580bc4ce9d5",
   "metadata": {},
   "outputs": [
    {
     "data": {
      "text/plain": [
       "8"
      ]
     },
     "execution_count": 177,
     "metadata": {},
     "output_type": "execute_result"
    }
   ],
   "source": [
    "len(x)"
   ]
  },
  {
   "cell_type": "markdown",
   "id": "6f77f2f8-0bf3-4a08-9c28-cb05200f8549",
   "metadata": {},
   "source": [
    "### shape"
   ]
  },
  {
   "cell_type": "code",
   "execution_count": 188,
   "id": "9975bbb9-de6d-47d6-a36d-006da7cda9b5",
   "metadata": {},
   "outputs": [],
   "source": [
    "# - It returns a tuple that represents the shape of the array.\n",
    "# (int,) -> Number of elements in the array\n",
    "# (int,int) -> Number of rows and the number of columns in the array."
   ]
  },
  {
   "cell_type": "code",
   "execution_count": 182,
   "id": "29c0d5ea-5d40-4611-ab1b-252b5ad060f7",
   "metadata": {},
   "outputs": [
    {
     "data": {
      "text/plain": [
       "array([10, 20, 30, 40, 50, 60, 70, 80])"
      ]
     },
     "execution_count": 182,
     "metadata": {},
     "output_type": "execute_result"
    }
   ],
   "source": [
    "x=np.array([10,20,30,40,50,60,70,80])\n",
    "x"
   ]
  },
  {
   "cell_type": "code",
   "execution_count": 186,
   "id": "6c8dc629-e58a-4a83-80d9-30670456eb13",
   "metadata": {},
   "outputs": [
    {
     "data": {
      "text/plain": [
       "(8,)"
      ]
     },
     "execution_count": 186,
     "metadata": {},
     "output_type": "execute_result"
    }
   ],
   "source": [
    "x.shape"
   ]
  },
  {
   "cell_type": "code",
   "execution_count": 192,
   "id": "a063c6e1-49c0-4413-a380-6f62d47a1f9e",
   "metadata": {},
   "outputs": [
    {
     "data": {
      "text/plain": [
       "array([[10, 20],\n",
       "       [30, 40],\n",
       "       [50, 60],\n",
       "       [70, 80]])"
      ]
     },
     "execution_count": 192,
     "metadata": {},
     "output_type": "execute_result"
    }
   ],
   "source": [
    "x=np.array([[10,20],[30,40],[50,60],[70,80]])\n",
    "x"
   ]
  },
  {
   "cell_type": "code",
   "execution_count": 196,
   "id": "b78c3a1e-3d61-4241-9b10-f7332369a381",
   "metadata": {},
   "outputs": [
    {
     "data": {
      "text/plain": [
       "(4, 2)"
      ]
     },
     "execution_count": 196,
     "metadata": {},
     "output_type": "execute_result"
    }
   ],
   "source": [
    "x.shape"
   ]
  },
  {
   "cell_type": "markdown",
   "id": "03ccbf5c-e1d4-4548-b9e8-e708c31db6e3",
   "metadata": {},
   "source": [
    "### ndim"
   ]
  },
  {
   "cell_type": "code",
   "execution_count": 199,
   "id": "08ea4158-f1ae-46a8-9b8f-d64f65590868",
   "metadata": {},
   "outputs": [],
   "source": [
    "# - It returns the dimension of the array."
   ]
  },
  {
   "cell_type": "code",
   "execution_count": 205,
   "id": "5a1ddea0-15f8-4095-88b0-75d573366c32",
   "metadata": {},
   "outputs": [
    {
     "data": {
      "text/plain": [
       "array([10, 20, 30, 40, 50, 60, 70, 80])"
      ]
     },
     "execution_count": 205,
     "metadata": {},
     "output_type": "execute_result"
    }
   ],
   "source": [
    "x=np.array([10,20,30,40,50,60,70,80])\n",
    "x"
   ]
  },
  {
   "cell_type": "code",
   "execution_count": 207,
   "id": "1cf9ba88-f7a1-4d52-8da9-6f6bd75c779e",
   "metadata": {},
   "outputs": [
    {
     "data": {
      "text/plain": [
       "1"
      ]
     },
     "execution_count": 207,
     "metadata": {},
     "output_type": "execute_result"
    }
   ],
   "source": [
    "x.ndim"
   ]
  },
  {
   "cell_type": "code",
   "execution_count": 209,
   "id": "32a6e66e-15cd-4b4f-8c60-8bc337e1ab2b",
   "metadata": {},
   "outputs": [
    {
     "data": {
      "text/plain": [
       "array([[10, 20],\n",
       "       [30, 40],\n",
       "       [50, 60],\n",
       "       [70, 80]])"
      ]
     },
     "execution_count": 209,
     "metadata": {},
     "output_type": "execute_result"
    }
   ],
   "source": [
    "x=np.array([[10,20],[30,40],[50,60],[70,80]])\n",
    "x"
   ]
  },
  {
   "cell_type": "code",
   "execution_count": 211,
   "id": "453422fb-aef2-4b80-aca9-8b309d5f3df2",
   "metadata": {},
   "outputs": [
    {
     "data": {
      "text/plain": [
       "2"
      ]
     },
     "execution_count": 211,
     "metadata": {},
     "output_type": "execute_result"
    }
   ],
   "source": [
    "x.ndim"
   ]
  },
  {
   "cell_type": "code",
   "execution_count": 213,
   "id": "aba8ae9b-4e31-4c64-8367-5f871262dec6",
   "metadata": {},
   "outputs": [
    {
     "data": {
      "text/plain": [
       "8"
      ]
     },
     "execution_count": 213,
     "metadata": {},
     "output_type": "execute_result"
    }
   ],
   "source": [
    "x.size"
   ]
  },
  {
   "cell_type": "markdown",
   "id": "1b64e75e-84bb-4cd1-be93-826b1de5ec4b",
   "metadata": {},
   "source": [
    "# Creating different kind of arrays"
   ]
  },
  {
   "cell_type": "markdown",
   "id": "8d57e356-1800-4dce-bbe4-92b55f772e43",
   "metadata": {},
   "source": [
    "### np.arange()"
   ]
  },
  {
   "cell_type": "code",
   "execution_count": 220,
   "id": "1d0e33c9-b099-4783-8026-27ddbecb7d60",
   "metadata": {},
   "outputs": [],
   "source": [
    "# - It creates an array of numbers within a given range."
   ]
  },
  {
   "cell_type": "code",
   "execution_count": 222,
   "id": "0a490e19-e0bf-47d8-afbc-d18cedf0ff9e",
   "metadata": {},
   "outputs": [],
   "source": [
    "# np.arange(start,stop,step)\n",
    "# stop value is exluded"
   ]
  },
  {
   "cell_type": "code",
   "execution_count": 224,
   "id": "d46a2f2a-f1d5-4359-a9b5-b54a02ce9c44",
   "metadata": {},
   "outputs": [],
   "source": [
    "# Create an array of number from 1 to 10"
   ]
  },
  {
   "cell_type": "code",
   "execution_count": 228,
   "id": "12800ee1-52c4-4f95-a6d1-8c52c927c287",
   "metadata": {},
   "outputs": [
    {
     "data": {
      "text/plain": [
       "array([ 1,  2,  3,  4,  5,  6,  7,  8,  9, 10])"
      ]
     },
     "execution_count": 228,
     "metadata": {},
     "output_type": "execute_result"
    }
   ],
   "source": [
    "lst=[i for i in range(1,11)]\n",
    "x=np.array(lst)\n",
    "x"
   ]
  },
  {
   "cell_type": "code",
   "execution_count": 232,
   "id": "55b49ec5-c2e2-4255-8225-b84df41d3a53",
   "metadata": {},
   "outputs": [
    {
     "data": {
      "text/plain": [
       "array([ 1,  2,  3,  4,  5,  6,  7,  8,  9, 10])"
      ]
     },
     "execution_count": 232,
     "metadata": {},
     "output_type": "execute_result"
    }
   ],
   "source": [
    "x=np.arange(1,11)\n",
    "x"
   ]
  },
  {
   "cell_type": "code",
   "execution_count": 234,
   "id": "51c9fa70-c519-48eb-905c-66d4c12124d1",
   "metadata": {},
   "outputs": [],
   "source": [
    "# Create an array of even numbers from 2 to 20."
   ]
  },
  {
   "cell_type": "code",
   "execution_count": 238,
   "id": "040ce9ba-4ee1-4264-9431-85cb0beed784",
   "metadata": {},
   "outputs": [
    {
     "data": {
      "text/plain": [
       "array([ 2,  4,  6,  8, 10, 12, 14, 16, 18, 20])"
      ]
     },
     "execution_count": 238,
     "metadata": {},
     "output_type": "execute_result"
    }
   ],
   "source": [
    "x=np.arange(2,21,2)\n",
    "x"
   ]
  },
  {
   "cell_type": "code",
   "execution_count": 240,
   "id": "8a3069f0-45a1-4dde-9baf-772858c4a906",
   "metadata": {},
   "outputs": [],
   "source": [
    "# [1,1.5,2,2.5,3,3.5,4,4.5,5,5.5,6,6.5,7,7.5,8]"
   ]
  },
  {
   "cell_type": "code",
   "execution_count": 258,
   "id": "4495b6d0-ab34-44fd-85d2-a26dcb50216c",
   "metadata": {},
   "outputs": [
    {
     "data": {
      "text/plain": [
       "array([1. , 1.5, 2. , 2.5, 3. , 3.5, 4. , 4.5, 5. , 5.5, 6. , 6.5, 7. ,\n",
       "       7.5, 8. ])"
      ]
     },
     "execution_count": 258,
     "metadata": {},
     "output_type": "execute_result"
    }
   ],
   "source": [
    "x=np.arange(1,8.1,.5)\n",
    "x"
   ]
  },
  {
   "cell_type": "markdown",
   "id": "82f3a73b-17b4-403d-adc8-cc1d9f908c13",
   "metadata": {},
   "source": [
    "### np.linspace()"
   ]
  },
  {
   "cell_type": "code",
   "execution_count": 261,
   "id": "d5abd4a7-1b1e-49ee-9f7b-e03375f36e4a",
   "metadata": {},
   "outputs": [],
   "source": [
    "# - It creates an array of the equally spaced values."
   ]
  },
  {
   "cell_type": "code",
   "execution_count": 265,
   "id": "d1b8e990-f8c5-47c7-861b-3ccec410ef75",
   "metadata": {},
   "outputs": [],
   "source": [
    "# np.linspace(start,stop, the number of values)\n",
    "# start and stop both are included."
   ]
  },
  {
   "cell_type": "code",
   "execution_count": 267,
   "id": "1e5b4cb1-10bb-41fc-8973-bbd55799ddbb",
   "metadata": {},
   "outputs": [],
   "source": [
    "# Create an array of equally spaced 5 numbers between 1 and 10.\n",
    "# Create a an array of 5 numbers from 1 to 10.\n",
    "# The difference between any two consecutive numbers has to be the same."
   ]
  },
  {
   "cell_type": "code",
   "execution_count": 269,
   "id": "b56c849c-cd2d-436e-ae1c-9281f20606b4",
   "metadata": {},
   "outputs": [
    {
     "data": {
      "text/plain": [
       "array([ 1.  ,  3.25,  5.5 ,  7.75, 10.  ])"
      ]
     },
     "execution_count": 269,
     "metadata": {},
     "output_type": "execute_result"
    }
   ],
   "source": [
    "np.linspace(1,10,5)"
   ]
  },
  {
   "cell_type": "code",
   "execution_count": 271,
   "id": "9b19ba38-fed7-4db4-9019-b93f35914a39",
   "metadata": {},
   "outputs": [
    {
     "data": {
      "text/plain": [
       "2.25"
      ]
     },
     "execution_count": 271,
     "metadata": {},
     "output_type": "execute_result"
    }
   ],
   "source": [
    "3.25-1"
   ]
  },
  {
   "cell_type": "code",
   "execution_count": 275,
   "id": "fd762d12-d0b1-4bcf-bc1e-50ce35cf873c",
   "metadata": {},
   "outputs": [
    {
     "data": {
      "text/plain": [
       "2.25"
      ]
     },
     "execution_count": 275,
     "metadata": {},
     "output_type": "execute_result"
    }
   ],
   "source": [
    "5.5-3.25"
   ]
  },
  {
   "cell_type": "code",
   "execution_count": 277,
   "id": "39db7d91-5174-41f4-863f-3df0aa643ca8",
   "metadata": {},
   "outputs": [
    {
     "data": {
      "text/plain": [
       "2.25"
      ]
     },
     "execution_count": 277,
     "metadata": {},
     "output_type": "execute_result"
    }
   ],
   "source": [
    "7.75-5.5"
   ]
  },
  {
   "cell_type": "code",
   "execution_count": 279,
   "id": "918ff0fc-db27-4127-bc20-656417e2aa21",
   "metadata": {},
   "outputs": [
    {
     "data": {
      "text/plain": [
       "2.25"
      ]
     },
     "execution_count": 279,
     "metadata": {},
     "output_type": "execute_result"
    }
   ],
   "source": [
    "10-7.75"
   ]
  },
  {
   "cell_type": "code",
   "execution_count": 293,
   "id": "ecec1666-d229-4aa1-b27c-7569a7861d6a",
   "metadata": {},
   "outputs": [
    {
     "data": {
      "text/plain": [
       "array([ 1.        ,  1.00180036,  1.00360072, ...,  9.99639928,\n",
       "        9.99819964, 10.        ])"
      ]
     },
     "execution_count": 293,
     "metadata": {},
     "output_type": "execute_result"
    }
   ],
   "source": [
    "np.linspace(1,10,5000)"
   ]
  },
  {
   "cell_type": "code",
   "execution_count": 303,
   "id": "c42b3367-cd2e-495b-b089-aa3e33875cc0",
   "metadata": {},
   "outputs": [],
   "source": [
    "# Arithmetic Progression\n",
    "# l=a+(n-1)d\n",
    "# l- last element\n",
    "# a- first element\n",
    "# d- common difference (step size)\n",
    "# n- The number of values"
   ]
  },
  {
   "cell_type": "code",
   "execution_count": 297,
   "id": "9547d0b6-2244-4bf3-a47d-0e4e8f4c1834",
   "metadata": {},
   "outputs": [
    {
     "data": {
      "text/plain": [
       "array([ 1.  ,  3.25,  5.5 ,  7.75, 10.  ])"
      ]
     },
     "execution_count": 297,
     "metadata": {},
     "output_type": "execute_result"
    }
   ],
   "source": [
    "np.linspace(1,10,5)"
   ]
  },
  {
   "cell_type": "code",
   "execution_count": 305,
   "id": "1ce12da8-7498-4693-859c-519a09e79b19",
   "metadata": {},
   "outputs": [],
   "source": [
    "a=1\n",
    "l=10\n",
    "n=5\n",
    "# d=?"
   ]
  },
  {
   "cell_type": "code",
   "execution_count": 309,
   "id": "b9f8bf51-445a-44b6-8e43-60b31c379ce4",
   "metadata": {},
   "outputs": [
    {
     "data": {
      "text/plain": [
       "2.25"
      ]
     },
     "execution_count": 309,
     "metadata": {},
     "output_type": "execute_result"
    }
   ],
   "source": [
    "# 10=1+(5-1)d\n",
    "# 10=1+4d\n",
    "# 4d=9\n",
    "d=9/4\n",
    "d"
   ]
  },
  {
   "cell_type": "code",
   "execution_count": 311,
   "id": "e378e4ea-db78-4902-9444-6d4763bbae88",
   "metadata": {},
   "outputs": [
    {
     "data": {
      "text/plain": [
       "array([  1.        ,   8.07142857,  15.14285714,  22.21428571,\n",
       "        29.28571429,  36.35714286,  43.42857143,  50.5       ,\n",
       "        57.57142857,  64.64285714,  71.71428571,  78.78571429,\n",
       "        85.85714286,  92.92857143, 100.        ])"
      ]
     },
     "execution_count": 311,
     "metadata": {},
     "output_type": "execute_result"
    }
   ],
   "source": [
    "np.linspace(1,100,15)"
   ]
  },
  {
   "cell_type": "code",
   "execution_count": 315,
   "id": "170d9c91-ca8a-497d-9e3c-86c7f7f7a035",
   "metadata": {},
   "outputs": [
    {
     "data": {
      "text/plain": [
       "7.071428571428571"
      ]
     },
     "execution_count": 315,
     "metadata": {},
     "output_type": "execute_result"
    }
   ],
   "source": [
    "d=(100-1)/(15-1)\n",
    "d"
   ]
  },
  {
   "cell_type": "markdown",
   "id": "c60498c0-3f19-49e9-9d51-444a66df27a8",
   "metadata": {},
   "source": [
    "### en.eye()"
   ]
  },
  {
   "cell_type": "code",
   "execution_count": 320,
   "id": "7daa25a0-2990-43ec-adf6-c9eec3fc7312",
   "metadata": {},
   "outputs": [],
   "source": [
    "# - It is used to create an identity matrix.\n",
    "# - An identity matrix is a square matrix in which the diagonals are 1's and the rest are 0's\n",
    "# - Though an identity matrix is a square matrix but in numpy we can create of any shape"
   ]
  },
  {
   "cell_type": "code",
   "execution_count": 322,
   "id": "21cf166b-534b-4814-94ce-ca0901bd2b90",
   "metadata": {},
   "outputs": [],
   "source": [
    "# np.eye(rows,cols)"
   ]
  },
  {
   "cell_type": "code",
   "execution_count": 324,
   "id": "5bc1add1-5acc-4e42-9ab1-53963a7c2d03",
   "metadata": {},
   "outputs": [],
   "source": [
    "# Create a 3*3 identity matrix"
   ]
  },
  {
   "cell_type": "code",
   "execution_count": 328,
   "id": "3a659361-6817-4950-8a7c-135d3de2b4d3",
   "metadata": {},
   "outputs": [
    {
     "data": {
      "text/plain": [
       "array([[1., 0., 0.],\n",
       "       [0., 1., 0.],\n",
       "       [0., 0., 1.]])"
      ]
     },
     "execution_count": 328,
     "metadata": {},
     "output_type": "execute_result"
    }
   ],
   "source": [
    "x=np.eye(3,3)\n",
    "x"
   ]
  },
  {
   "cell_type": "code",
   "execution_count": 330,
   "id": "26b8a0be-6444-4641-b887-8993cde54406",
   "metadata": {},
   "outputs": [
    {
     "data": {
      "text/plain": [
       "dtype('float64')"
      ]
     },
     "execution_count": 330,
     "metadata": {},
     "output_type": "execute_result"
    }
   ],
   "source": [
    "x.dtype"
   ]
  },
  {
   "cell_type": "code",
   "execution_count": 332,
   "id": "c6b01ee2-8294-44a7-8356-05419606a099",
   "metadata": {},
   "outputs": [
    {
     "data": {
      "text/plain": [
       "array([[1, 0, 0],\n",
       "       [0, 1, 0],\n",
       "       [0, 0, 1]])"
      ]
     },
     "execution_count": 332,
     "metadata": {},
     "output_type": "execute_result"
    }
   ],
   "source": [
    "x=np.eye(3,3,dtype=int)\n",
    "x"
   ]
  },
  {
   "cell_type": "code",
   "execution_count": 334,
   "id": "cf2b4de6-c5ca-47f7-8efe-cdb7c938778f",
   "metadata": {},
   "outputs": [
    {
     "data": {
      "text/plain": [
       "array([[1., 0., 0., 0., 0.],\n",
       "       [0., 1., 0., 0., 0.],\n",
       "       [0., 0., 1., 0., 0.],\n",
       "       [0., 0., 0., 1., 0.],\n",
       "       [0., 0., 0., 0., 1.]])"
      ]
     },
     "execution_count": 334,
     "metadata": {},
     "output_type": "execute_result"
    }
   ],
   "source": [
    "np.eye(5,5)"
   ]
  },
  {
   "cell_type": "code",
   "execution_count": 349,
   "id": "46a25b3f-f5ac-4857-b558-e1b453108cf8",
   "metadata": {},
   "outputs": [
    {
     "data": {
      "text/plain": [
       "array([[1, 0, 0, 0, 0],\n",
       "       [0, 1, 0, 0, 0],\n",
       "       [0, 0, 1, 0, 0]])"
      ]
     },
     "execution_count": 349,
     "metadata": {},
     "output_type": "execute_result"
    }
   ],
   "source": [
    "np.eye(3,5,dtype=int)"
   ]
  },
  {
   "cell_type": "markdown",
   "id": "8823fb29-e80c-4d09-87ec-9939ea65fc35",
   "metadata": {},
   "source": [
    "### np.zeros()"
   ]
  },
  {
   "cell_type": "code",
   "execution_count": 339,
   "id": "da44b1a0-591a-4865-bf45-80f2a220b192",
   "metadata": {},
   "outputs": [],
   "source": [
    "# - It creates an array of 0's"
   ]
  },
  {
   "cell_type": "code",
   "execution_count": 351,
   "id": "fa161560-10d0-47af-b442-8b64330621fd",
   "metadata": {},
   "outputs": [],
   "source": [
    "# np.zeros((rows,cols),dtype=)"
   ]
  },
  {
   "cell_type": "code",
   "execution_count": 353,
   "id": "41cd9e01-bb50-4f5c-a365-9f2e556c124b",
   "metadata": {},
   "outputs": [],
   "source": [
    "# Create a 3*3 array of 0's"
   ]
  },
  {
   "cell_type": "code",
   "execution_count": 357,
   "id": "78afddd3-a6fb-4c72-ad42-bbcda60c34a3",
   "metadata": {},
   "outputs": [
    {
     "data": {
      "text/plain": [
       "array([[0., 0., 0.],\n",
       "       [0., 0., 0.],\n",
       "       [0., 0., 0.]])"
      ]
     },
     "execution_count": 357,
     "metadata": {},
     "output_type": "execute_result"
    }
   ],
   "source": [
    "x=np.zeros((3,3))\n",
    "x"
   ]
  },
  {
   "cell_type": "code",
   "execution_count": 359,
   "id": "f54671b2-707b-4e6a-a827-ea44366ec6be",
   "metadata": {},
   "outputs": [
    {
     "data": {
      "text/plain": [
       "dtype('float64')"
      ]
     },
     "execution_count": 359,
     "metadata": {},
     "output_type": "execute_result"
    }
   ],
   "source": [
    "x.dtype"
   ]
  },
  {
   "cell_type": "code",
   "execution_count": 363,
   "id": "3cdd223f-a915-47fb-9b82-18deb250b86f",
   "metadata": {},
   "outputs": [
    {
     "data": {
      "text/plain": [
       "array([[0, 0, 0],\n",
       "       [0, 0, 0],\n",
       "       [0, 0, 0]])"
      ]
     },
     "execution_count": 363,
     "metadata": {},
     "output_type": "execute_result"
    }
   ],
   "source": [
    "x=np.zeros((3,3),dtype=int)\n",
    "x"
   ]
  },
  {
   "cell_type": "code",
   "execution_count": 365,
   "id": "8a21d24f-94d2-42e0-80a7-618d13159726",
   "metadata": {},
   "outputs": [
    {
     "data": {
      "text/plain": [
       "dtype('int32')"
      ]
     },
     "execution_count": 365,
     "metadata": {},
     "output_type": "execute_result"
    }
   ],
   "source": [
    "x.dtype"
   ]
  },
  {
   "cell_type": "markdown",
   "id": "a876e4f4-0eaa-467c-b4d3-f97849415ff0",
   "metadata": {},
   "source": [
    "## np.ones()"
   ]
  },
  {
   "cell_type": "code",
   "execution_count": 368,
   "id": "307d3a36-1fac-4512-ae1e-c763623d8fa4",
   "metadata": {},
   "outputs": [],
   "source": [
    "# - It creates an array of 1's"
   ]
  },
  {
   "cell_type": "code",
   "execution_count": 370,
   "id": "47457aa8-d0fc-4c11-8d78-7942b37f152d",
   "metadata": {},
   "outputs": [],
   "source": [
    "# np.ones((rows,cols),dtype=)"
   ]
  },
  {
   "cell_type": "code",
   "execution_count": 372,
   "id": "ef6ee864-3da0-4d22-ad4c-57fd6c7a5778",
   "metadata": {},
   "outputs": [],
   "source": [
    "# Create a 4*4 array of 1's"
   ]
  },
  {
   "cell_type": "code",
   "execution_count": 376,
   "id": "fa571ade-7890-484c-9f35-f62f73782b49",
   "metadata": {},
   "outputs": [
    {
     "data": {
      "text/plain": [
       "array([[1., 1., 1., 1.],\n",
       "       [1., 1., 1., 1.],\n",
       "       [1., 1., 1., 1.],\n",
       "       [1., 1., 1., 1.]])"
      ]
     },
     "execution_count": 376,
     "metadata": {},
     "output_type": "execute_result"
    }
   ],
   "source": [
    "x=np.ones((4,4))\n",
    "x"
   ]
  },
  {
   "cell_type": "code",
   "execution_count": 378,
   "id": "799100b9-7123-4600-801d-6bef99adf0f5",
   "metadata": {},
   "outputs": [
    {
     "data": {
      "text/plain": [
       "dtype('float64')"
      ]
     },
     "execution_count": 378,
     "metadata": {},
     "output_type": "execute_result"
    }
   ],
   "source": [
    "x.dtype"
   ]
  },
  {
   "cell_type": "code",
   "execution_count": 380,
   "id": "2d8d1ba8-50f8-4248-82df-6c21079bcbe7",
   "metadata": {},
   "outputs": [
    {
     "data": {
      "text/plain": [
       "array([[1, 1, 1, 1],\n",
       "       [1, 1, 1, 1],\n",
       "       [1, 1, 1, 1],\n",
       "       [1, 1, 1, 1]])"
      ]
     },
     "execution_count": 380,
     "metadata": {},
     "output_type": "execute_result"
    }
   ],
   "source": [
    "x=np.ones((4,4),dtype=int)\n",
    "x"
   ]
  },
  {
   "cell_type": "code",
   "execution_count": 382,
   "id": "13d497ad-2a2c-4a6c-892a-65393802c3a6",
   "metadata": {},
   "outputs": [
    {
     "data": {
      "text/plain": [
       "dtype('int32')"
      ]
     },
     "execution_count": 382,
     "metadata": {},
     "output_type": "execute_result"
    }
   ],
   "source": [
    "x.dtype"
   ]
  },
  {
   "cell_type": "code",
   "execution_count": 386,
   "id": "6b1a1520-1b9d-40d3-9405-9a9d1978a180",
   "metadata": {},
   "outputs": [
    {
     "data": {
      "text/plain": [
       "array([[1, 1, 1, 1, 1, 1, 1],\n",
       "       [1, 1, 1, 1, 1, 1, 1],\n",
       "       [1, 1, 1, 1, 1, 1, 1]])"
      ]
     },
     "execution_count": 386,
     "metadata": {},
     "output_type": "execute_result"
    }
   ],
   "source": [
    "x=np.ones((3,7),dtype=int)\n",
    "x"
   ]
  },
  {
   "cell_type": "code",
   "execution_count": 388,
   "id": "396c3f15-6612-4ea5-a116-a4a2d34d5099",
   "metadata": {},
   "outputs": [],
   "source": [
    "# Create a 3*4 array that has all the values to be 2.5"
   ]
  },
  {
   "cell_type": "code",
   "execution_count": 394,
   "id": "00c2b232-8b8e-4550-b449-57583aa854de",
   "metadata": {},
   "outputs": [
    {
     "data": {
      "text/plain": [
       "array([[2.5, 2.5, 2.5, 2.5],\n",
       "       [2.5, 2.5, 2.5, 2.5],\n",
       "       [2.5, 2.5, 2.5, 2.5]])"
      ]
     },
     "execution_count": 394,
     "metadata": {},
     "output_type": "execute_result"
    }
   ],
   "source": [
    "x=np.ones((3,4))*2.5\n",
    "x"
   ]
  },
  {
   "cell_type": "code",
   "execution_count": 400,
   "id": "483c5e56-ef07-40d6-9758-7a5b0b276c8e",
   "metadata": {},
   "outputs": [
    {
     "data": {
      "text/plain": [
       "array([[2.5, 2.5, 2.5, 2.5],\n",
       "       [2.5, 2.5, 2.5, 2.5],\n",
       "       [2.5, 2.5, 2.5, 2.5]])"
      ]
     },
     "execution_count": 400,
     "metadata": {},
     "output_type": "execute_result"
    }
   ],
   "source": [
    "x=np.zeros((3,4))+2.5\n",
    "x"
   ]
  },
  {
   "cell_type": "markdown",
   "id": "5cd4e2b5-195a-4d91-8d63-c446f8f19df8",
   "metadata": {},
   "source": [
    "### np.full()"
   ]
  },
  {
   "cell_type": "code",
   "execution_count": 403,
   "id": "7ed3dee3-8067-41d1-b8af-fa05544cf5c1",
   "metadata": {},
   "outputs": [],
   "source": [
    "# - It creates an array of the given shape and the given value."
   ]
  },
  {
   "cell_type": "code",
   "execution_count": 405,
   "id": "03a2ebfc-b54f-4330-8196-4a368a89bdd7",
   "metadata": {},
   "outputs": [],
   "source": [
    "# np.full((rows,cols),value)"
   ]
  },
  {
   "cell_type": "code",
   "execution_count": 407,
   "id": "705aa863-8614-4798-b731-7faea74b6f86",
   "metadata": {},
   "outputs": [],
   "source": [
    "# Create a 3*4 array that has all the values to be 2.5"
   ]
  },
  {
   "cell_type": "code",
   "execution_count": 411,
   "id": "afe25188-97c2-4188-81a3-d0e7da4db08b",
   "metadata": {},
   "outputs": [
    {
     "data": {
      "text/plain": [
       "array([[2.5, 2.5, 2.5, 2.5],\n",
       "       [2.5, 2.5, 2.5, 2.5],\n",
       "       [2.5, 2.5, 2.5, 2.5]])"
      ]
     },
     "execution_count": 411,
     "metadata": {},
     "output_type": "execute_result"
    }
   ],
   "source": [
    "x=np.full((3,4),2.5)\n",
    "x"
   ]
  },
  {
   "cell_type": "code",
   "execution_count": 427,
   "id": "41cd9ab1-8a17-41ee-b7b5-d76298b540e1",
   "metadata": {},
   "outputs": [
    {
     "data": {
      "text/plain": [
       "array([[5, 5],\n",
       "       [5, 5]])"
      ]
     },
     "execution_count": 427,
     "metadata": {},
     "output_type": "execute_result"
    }
   ],
   "source": [
    "np.full((2,2),5)"
   ]
  },
  {
   "cell_type": "markdown",
   "id": "4c0f4077-51b9-45d5-90ee-c155dbeddf2c",
   "metadata": {},
   "source": [
    "### np.zeros_like()"
   ]
  },
  {
   "cell_type": "code",
   "execution_count": 430,
   "id": "989248d1-b7b8-4351-ad24-e3f8ffc432a6",
   "metadata": {},
   "outputs": [],
   "source": [
    "# - It takes an array as an argument.\n",
    "# - It creates an array of 0's of the shape of the given array."
   ]
  },
  {
   "cell_type": "code",
   "execution_count": 434,
   "id": "609b58eb-c7ea-4638-8f1f-7c4fe737cf9c",
   "metadata": {},
   "outputs": [
    {
     "data": {
      "text/plain": [
       "array([[5, 7, 9],\n",
       "       [8, 8, 4]])"
      ]
     },
     "execution_count": 434,
     "metadata": {},
     "output_type": "execute_result"
    }
   ],
   "source": [
    "x=np.array([[5,7,9],[8,8,4]])\n",
    "x"
   ]
  },
  {
   "cell_type": "code",
   "execution_count": 436,
   "id": "f9332b3c-62c9-4f82-b149-d2d0a95bd468",
   "metadata": {},
   "outputs": [
    {
     "data": {
      "text/plain": [
       "(2, 3)"
      ]
     },
     "execution_count": 436,
     "metadata": {},
     "output_type": "execute_result"
    }
   ],
   "source": [
    "x.shape"
   ]
  },
  {
   "cell_type": "code",
   "execution_count": 438,
   "id": "b55b9e85-2739-4089-a84d-c11257d8a9b9",
   "metadata": {},
   "outputs": [
    {
     "data": {
      "text/plain": [
       "array([[0, 0, 0],\n",
       "       [0, 0, 0]])"
      ]
     },
     "execution_count": 438,
     "metadata": {},
     "output_type": "execute_result"
    }
   ],
   "source": [
    "np.zeros_like(x)"
   ]
  },
  {
   "cell_type": "code",
   "execution_count": 446,
   "id": "d85b37a8-441d-48cb-8873-0623a4a14c06",
   "metadata": {},
   "outputs": [
    {
     "data": {
      "text/plain": [
       "array([[1, 2],\n",
       "       [8, 9],\n",
       "       [7, 7],\n",
       "       [4, 2]])"
      ]
     },
     "execution_count": 446,
     "metadata": {},
     "output_type": "execute_result"
    }
   ],
   "source": [
    "x=np.array([[1,2],[8,9],[7,7],[4,2]])\n",
    "x"
   ]
  },
  {
   "cell_type": "code",
   "execution_count": 448,
   "id": "e547a6f5-62f8-42db-9cd6-201324dc3d4d",
   "metadata": {},
   "outputs": [
    {
     "data": {
      "text/plain": [
       "(4, 2)"
      ]
     },
     "execution_count": 448,
     "metadata": {},
     "output_type": "execute_result"
    }
   ],
   "source": [
    "x.shape"
   ]
  },
  {
   "cell_type": "code",
   "execution_count": 450,
   "id": "c2357478-16e1-433c-b244-20c540a57001",
   "metadata": {},
   "outputs": [
    {
     "data": {
      "text/plain": [
       "array([[0, 0],\n",
       "       [0, 0],\n",
       "       [0, 0],\n",
       "       [0, 0]])"
      ]
     },
     "execution_count": 450,
     "metadata": {},
     "output_type": "execute_result"
    }
   ],
   "source": [
    "np.zeros_like(x)"
   ]
  },
  {
   "cell_type": "markdown",
   "id": "38d76d43-c895-4e0a-b84b-42d7af1bf666",
   "metadata": {},
   "source": [
    "### np.ones_like()"
   ]
  },
  {
   "cell_type": "code",
   "execution_count": 453,
   "id": "1a5ebe70-5551-47f1-b88e-e88966f35d0e",
   "metadata": {},
   "outputs": [],
   "source": [
    "# - It takes an array as an argument.\n",
    "# - It creates the array of 1's of the shape of the given array."
   ]
  },
  {
   "cell_type": "code",
   "execution_count": 455,
   "id": "5aae0a4e-3d03-42aa-8876-6645f803f108",
   "metadata": {},
   "outputs": [],
   "source": [
    "# np.ones_like(arr)"
   ]
  },
  {
   "cell_type": "code",
   "execution_count": 457,
   "id": "65943260-26ae-4c1c-a87d-59b77eb0f707",
   "metadata": {},
   "outputs": [
    {
     "data": {
      "text/plain": [
       "array([[1, 2],\n",
       "       [8, 9],\n",
       "       [7, 7],\n",
       "       [4, 2]])"
      ]
     },
     "execution_count": 457,
     "metadata": {},
     "output_type": "execute_result"
    }
   ],
   "source": [
    "x"
   ]
  },
  {
   "cell_type": "code",
   "execution_count": 459,
   "id": "76b7354d-f8e6-4ba4-a71d-96bd9760531c",
   "metadata": {},
   "outputs": [
    {
     "data": {
      "text/plain": [
       "(4, 2)"
      ]
     },
     "execution_count": 459,
     "metadata": {},
     "output_type": "execute_result"
    }
   ],
   "source": [
    "x.shape"
   ]
  },
  {
   "cell_type": "code",
   "execution_count": 461,
   "id": "339a92b0-0856-4d69-b200-d8fad2977898",
   "metadata": {},
   "outputs": [
    {
     "data": {
      "text/plain": [
       "array([[1, 1],\n",
       "       [1, 1],\n",
       "       [1, 1],\n",
       "       [1, 1]])"
      ]
     },
     "execution_count": 461,
     "metadata": {},
     "output_type": "execute_result"
    }
   ],
   "source": [
    "np.ones_like(x)"
   ]
  },
  {
   "cell_type": "code",
   "execution_count": 463,
   "id": "0ca8d848-eed2-431e-9ef0-0771d9b0c024",
   "metadata": {},
   "outputs": [
    {
     "data": {
      "text/plain": [
       "array([[5, 7, 9],\n",
       "       [8, 8, 4]])"
      ]
     },
     "execution_count": 463,
     "metadata": {},
     "output_type": "execute_result"
    }
   ],
   "source": [
    "x=np.array([[5,7,9],[8,8,4]])\n",
    "x"
   ]
  },
  {
   "cell_type": "code",
   "execution_count": 465,
   "id": "ebe27e8f-d5c6-46fa-8e85-2a764f35f2d5",
   "metadata": {},
   "outputs": [
    {
     "data": {
      "text/plain": [
       "(2, 3)"
      ]
     },
     "execution_count": 465,
     "metadata": {},
     "output_type": "execute_result"
    }
   ],
   "source": [
    "x.shape"
   ]
  },
  {
   "cell_type": "code",
   "execution_count": 467,
   "id": "0211ce5e-1b26-4983-adf0-a78af35aeae6",
   "metadata": {},
   "outputs": [
    {
     "data": {
      "text/plain": [
       "array([[1, 1, 1],\n",
       "       [1, 1, 1]])"
      ]
     },
     "execution_count": 467,
     "metadata": {},
     "output_type": "execute_result"
    }
   ],
   "source": [
    "np.ones_like(x)"
   ]
  },
  {
   "cell_type": "markdown",
   "id": "47656270-0b88-416b-9f4b-97a36d471868",
   "metadata": {},
   "source": [
    "### np.full_like()"
   ]
  },
  {
   "cell_type": "code",
   "execution_count": 470,
   "id": "546dd9e3-799c-4106-b375-d9918ec6364e",
   "metadata": {},
   "outputs": [],
   "source": [
    "# - It takes an array and a value as arguments.\n",
    "# - It creates an array of the given value and of the shape of the given array."
   ]
  },
  {
   "cell_type": "code",
   "execution_count": 472,
   "id": "3408f5fc-098b-447e-8563-1c38b2cfdfda",
   "metadata": {},
   "outputs": [],
   "source": [
    "# np.full_like(arr,value)"
   ]
  },
  {
   "cell_type": "code",
   "execution_count": 474,
   "id": "a9e0be8a-c2d0-4245-a5fa-ab0b498f9c85",
   "metadata": {},
   "outputs": [
    {
     "data": {
      "text/plain": [
       "array([[5, 7, 9],\n",
       "       [8, 8, 4]])"
      ]
     },
     "execution_count": 474,
     "metadata": {},
     "output_type": "execute_result"
    }
   ],
   "source": [
    "x"
   ]
  },
  {
   "cell_type": "code",
   "execution_count": 476,
   "id": "b6c8d8f7-db66-443b-9f8c-cb7f5f0dcb78",
   "metadata": {},
   "outputs": [
    {
     "data": {
      "text/plain": [
       "array([[24, 24, 24],\n",
       "       [24, 24, 24]])"
      ]
     },
     "execution_count": 476,
     "metadata": {},
     "output_type": "execute_result"
    }
   ],
   "source": [
    "np.full_like(x,24)"
   ]
  },
  {
   "cell_type": "code",
   "execution_count": 478,
   "id": "946f72c8-4e17-46d3-86bd-67233ef29cbb",
   "metadata": {},
   "outputs": [
    {
     "data": {
      "text/plain": [
       "array([[4, 4, 4],\n",
       "       [4, 4, 4]])"
      ]
     },
     "execution_count": 478,
     "metadata": {},
     "output_type": "execute_result"
    }
   ],
   "source": [
    "np.full_like(x,4.8)"
   ]
  },
  {
   "cell_type": "code",
   "execution_count": 480,
   "id": "9abe260b-6b12-480b-87fd-ce4f1e08809f",
   "metadata": {},
   "outputs": [
    {
     "data": {
      "text/plain": [
       "array([[4.8, 4.8, 4.8],\n",
       "       [4.8, 4.8, 4.8]])"
      ]
     },
     "execution_count": 480,
     "metadata": {},
     "output_type": "execute_result"
    }
   ],
   "source": [
    "np.full_like(x,4.8,dtype=float)"
   ]
  },
  {
   "cell_type": "code",
   "execution_count": 482,
   "id": "509c00c5-6013-4ea4-8c7f-ef1247491fbf",
   "metadata": {},
   "outputs": [
    {
     "data": {
      "text/plain": [
       "array([[5, 7, 9],\n",
       "       [8, 8, 4]])"
      ]
     },
     "execution_count": 482,
     "metadata": {},
     "output_type": "execute_result"
    }
   ],
   "source": [
    "x"
   ]
  },
  {
   "cell_type": "code",
   "execution_count": 484,
   "id": "3d6f04dd-722f-44c9-b44f-f5628722907e",
   "metadata": {},
   "outputs": [
    {
     "data": {
      "text/plain": [
       "dtype('int32')"
      ]
     },
     "execution_count": 484,
     "metadata": {},
     "output_type": "execute_result"
    }
   ],
   "source": [
    "x.dtype"
   ]
  },
  {
   "cell_type": "code",
   "execution_count": 490,
   "id": "1ff14bdc-f744-4e48-9449-ad51d5b373ca",
   "metadata": {},
   "outputs": [
    {
     "data": {
      "text/plain": [
       "array([['a', 'a', 'a'],\n",
       "       ['a', 'a', 'a']], dtype='<U1')"
      ]
     },
     "execution_count": 490,
     "metadata": {},
     "output_type": "execute_result"
    }
   ],
   "source": [
    "np.full_like(x,'a',dtype=str)"
   ]
  },
  {
   "cell_type": "code",
   "execution_count": 492,
   "id": "62974a0a-8532-40df-920c-e9dd0e642ea3",
   "metadata": {},
   "outputs": [],
   "source": [
    "# int('a')"
   ]
  },
  {
   "cell_type": "markdown",
   "id": "96bfd656-8703-46a0-98d9-14e528aae8ec",
   "metadata": {},
   "source": [
    "### np.diag()"
   ]
  },
  {
   "cell_type": "code",
   "execution_count": 497,
   "id": "79c2a05e-c9ca-4693-94bb-d80f8a228059",
   "metadata": {},
   "outputs": [],
   "source": [
    "# - It creates a diagonal array.\n",
    "# - In a diagonal array all the non-diagonal elements are 0's."
   ]
  },
  {
   "cell_type": "code",
   "execution_count": 501,
   "id": "c7dd19cd-e55c-4675-99a0-8bf31748748d",
   "metadata": {},
   "outputs": [],
   "source": [
    "# np.diagonal([diagonal_elements])"
   ]
  },
  {
   "cell_type": "code",
   "execution_count": 503,
   "id": "5af318ce-3672-4461-a582-cd759ca6da76",
   "metadata": {},
   "outputs": [],
   "source": [
    "lst=[5,10,15,20]"
   ]
  },
  {
   "cell_type": "code",
   "execution_count": 518,
   "id": "7cd0c546-fa94-43e1-bbac-7d17927d17ae",
   "metadata": {},
   "outputs": [
    {
     "data": {
      "text/plain": [
       "array([[ 5,  0,  0,  0],\n",
       "       [ 0, 10,  0,  0],\n",
       "       [ 0,  0, 15,  0],\n",
       "       [ 0,  0,  0, 20]])"
      ]
     },
     "execution_count": 518,
     "metadata": {},
     "output_type": "execute_result"
    }
   ],
   "source": [
    "x=np.diag(lst)\n",
    "x"
   ]
  },
  {
   "cell_type": "code",
   "execution_count": 520,
   "id": "d3f5b7c8-2d40-4400-a4d1-7c08c94b0a3a",
   "metadata": {},
   "outputs": [
    {
     "data": {
      "text/plain": [
       "(4, 4)"
      ]
     },
     "execution_count": 520,
     "metadata": {},
     "output_type": "execute_result"
    }
   ],
   "source": [
    "x.shape"
   ]
  },
  {
   "cell_type": "code",
   "execution_count": 514,
   "id": "cd43b441-b01d-4e0b-abf0-5e3143407d03",
   "metadata": {},
   "outputs": [
    {
     "data": {
      "text/plain": [
       "array([[4, 0, 0, 0, 0],\n",
       "       [0, 6, 0, 0, 0],\n",
       "       [0, 0, 8, 0, 0],\n",
       "       [0, 0, 0, 7, 0],\n",
       "       [0, 0, 0, 0, 2]])"
      ]
     },
     "execution_count": 514,
     "metadata": {},
     "output_type": "execute_result"
    }
   ],
   "source": [
    "x=np.diag(np.array([4,6,8,7,2]))\n",
    "x"
   ]
  },
  {
   "cell_type": "code",
   "execution_count": 516,
   "id": "52cd1ebe-6946-41cc-a070-b703eee86395",
   "metadata": {},
   "outputs": [
    {
     "data": {
      "text/plain": [
       "(5, 5)"
      ]
     },
     "execution_count": 516,
     "metadata": {},
     "output_type": "execute_result"
    }
   ],
   "source": [
    "x.shape"
   ]
  },
  {
   "cell_type": "code",
   "execution_count": 565,
   "id": "0011b79b-5b88-41d7-9a87-6d72092cea4e",
   "metadata": {},
   "outputs": [
    {
     "data": {
      "text/plain": [
       "array([[0, 1, 0, 0, 0],\n",
       "       [0, 0, 2, 0, 0],\n",
       "       [0, 0, 0, 3, 0],\n",
       "       [0, 0, 0, 0, 4],\n",
       "       [0, 0, 0, 0, 0]])"
      ]
     },
     "execution_count": 565,
     "metadata": {},
     "output_type": "execute_result"
    }
   ],
   "source": [
    "np.diag([1,2,3,4],k=1)"
   ]
  },
  {
   "cell_type": "code",
   "execution_count": 567,
   "id": "61e5cac8-1c81-4106-92d8-58963d4775c4",
   "metadata": {},
   "outputs": [
    {
     "data": {
      "text/plain": [
       "array([[0, 0, 0, 0, 0, 0],\n",
       "       [0, 0, 0, 0, 0, 0],\n",
       "       [1, 0, 0, 0, 0, 0],\n",
       "       [0, 2, 0, 0, 0, 0],\n",
       "       [0, 0, 3, 0, 0, 0],\n",
       "       [0, 0, 0, 4, 0, 0]])"
      ]
     },
     "execution_count": 567,
     "metadata": {},
     "output_type": "execute_result"
    }
   ],
   "source": [
    "np.diag([1,2,3,4],k=-2)"
   ]
  },
  {
   "cell_type": "markdown",
   "id": "d184a0af-5de3-473d-991f-48ec302eca06",
   "metadata": {},
   "source": [
    "### np.diagonal()"
   ]
  },
  {
   "cell_type": "code",
   "execution_count": 523,
   "id": "fd3c5508-5dfe-4a0a-9cb9-b620761544c0",
   "metadata": {},
   "outputs": [],
   "source": [
    "# - It returns the main diagonal from an array."
   ]
  },
  {
   "cell_type": "code",
   "execution_count": 527,
   "id": "ef976c34-f071-4955-a98e-6030fc7bbdf6",
   "metadata": {},
   "outputs": [],
   "source": [
    "x=np.random.randint(10,100,size=(5,5))"
   ]
  },
  {
   "cell_type": "code",
   "execution_count": 529,
   "id": "40cf0d1e-2000-4947-93ec-fa2df1a5c3eb",
   "metadata": {},
   "outputs": [
    {
     "data": {
      "text/plain": [
       "array([[29, 23, 41, 45, 36],\n",
       "       [53, 24, 92, 76, 19],\n",
       "       [96, 71, 33, 39, 60],\n",
       "       [31, 56, 79, 68, 66],\n",
       "       [24, 45, 93, 35, 66]])"
      ]
     },
     "execution_count": 529,
     "metadata": {},
     "output_type": "execute_result"
    }
   ],
   "source": [
    "x"
   ]
  },
  {
   "cell_type": "code",
   "execution_count": 531,
   "id": "f8b3914b-b4b2-4848-9bf1-15f71a70096d",
   "metadata": {},
   "outputs": [
    {
     "data": {
      "text/plain": [
       "array([29, 24, 33, 68, 66])"
      ]
     },
     "execution_count": 531,
     "metadata": {},
     "output_type": "execute_result"
    }
   ],
   "source": [
    "np.diagonal(x)"
   ]
  },
  {
   "cell_type": "code",
   "execution_count": 533,
   "id": "97151556-574f-4c21-9b54-5dc2f6503379",
   "metadata": {},
   "outputs": [
    {
     "data": {
      "text/plain": [
       "array([23, 92, 39, 66])"
      ]
     },
     "execution_count": 533,
     "metadata": {},
     "output_type": "execute_result"
    }
   ],
   "source": [
    "np.diagonal(x,offset=1)"
   ]
  },
  {
   "cell_type": "code",
   "execution_count": 535,
   "id": "34cbdbae-2e83-4d58-8fd8-d624457cc50c",
   "metadata": {},
   "outputs": [
    {
     "data": {
      "text/plain": [
       "array([41, 76, 60])"
      ]
     },
     "execution_count": 535,
     "metadata": {},
     "output_type": "execute_result"
    }
   ],
   "source": [
    "np.diagonal(x,offset=2)"
   ]
  },
  {
   "cell_type": "code",
   "execution_count": 537,
   "id": "30a25d90-fcb8-4b04-9498-a2903785e927",
   "metadata": {},
   "outputs": [
    {
     "data": {
      "text/plain": [
       "array([45, 19])"
      ]
     },
     "execution_count": 537,
     "metadata": {},
     "output_type": "execute_result"
    }
   ],
   "source": [
    "np.diagonal(x,offset=3)"
   ]
  },
  {
   "cell_type": "code",
   "execution_count": 539,
   "id": "58f33882-30fd-4c5d-9a8d-60538de7c762",
   "metadata": {},
   "outputs": [
    {
     "data": {
      "text/plain": [
       "array([36])"
      ]
     },
     "execution_count": 539,
     "metadata": {},
     "output_type": "execute_result"
    }
   ],
   "source": [
    "np.diagonal(x,offset=4)"
   ]
  },
  {
   "cell_type": "code",
   "execution_count": 541,
   "id": "bfad9422-37c9-48ad-a096-2efbb21d60e7",
   "metadata": {},
   "outputs": [
    {
     "data": {
      "text/plain": [
       "array([], dtype=int32)"
      ]
     },
     "execution_count": 541,
     "metadata": {},
     "output_type": "execute_result"
    }
   ],
   "source": [
    "np.diagonal(x,offset=5)"
   ]
  },
  {
   "cell_type": "code",
   "execution_count": 543,
   "id": "8c62b3d9-2e2a-4c05-afb0-1e8f11f580bf",
   "metadata": {},
   "outputs": [
    {
     "data": {
      "text/plain": [
       "array([53, 71, 79, 35])"
      ]
     },
     "execution_count": 543,
     "metadata": {},
     "output_type": "execute_result"
    }
   ],
   "source": [
    "np.diagonal(x,offset=-1)"
   ]
  },
  {
   "cell_type": "code",
   "execution_count": 545,
   "id": "247fdd29-1481-4cdc-b70d-937872c3d464",
   "metadata": {},
   "outputs": [
    {
     "data": {
      "text/plain": [
       "array([96, 56, 93])"
      ]
     },
     "execution_count": 545,
     "metadata": {},
     "output_type": "execute_result"
    }
   ],
   "source": [
    "np.diagonal(x,offset=-2)"
   ]
  },
  {
   "cell_type": "code",
   "execution_count": 547,
   "id": "af1dbd60-8317-449d-adbb-e8a9bd1a7a6d",
   "metadata": {},
   "outputs": [
    {
     "data": {
      "text/plain": [
       "array([31, 45])"
      ]
     },
     "execution_count": 547,
     "metadata": {},
     "output_type": "execute_result"
    }
   ],
   "source": [
    "np.diagonal(x,offset=-3)"
   ]
  },
  {
   "cell_type": "code",
   "execution_count": 549,
   "id": "e3cb2dc4-5914-4e56-9997-e41d7e6e84a5",
   "metadata": {},
   "outputs": [
    {
     "data": {
      "text/plain": [
       "array([24])"
      ]
     },
     "execution_count": 549,
     "metadata": {},
     "output_type": "execute_result"
    }
   ],
   "source": [
    "np.diagonal(x,offset=-4)"
   ]
  },
  {
   "cell_type": "code",
   "execution_count": 551,
   "id": "07ef2e44-b331-4c77-bb77-9cd6b6c129b4",
   "metadata": {},
   "outputs": [
    {
     "data": {
      "text/plain": [
       "array([], dtype=int32)"
      ]
     },
     "execution_count": 551,
     "metadata": {},
     "output_type": "execute_result"
    }
   ],
   "source": [
    "np.diagonal(x,offset=-5)"
   ]
  },
  {
   "cell_type": "code",
   "execution_count": 553,
   "id": "2ea29d20-744c-4eea-982a-9aa69cd82549",
   "metadata": {},
   "outputs": [],
   "source": [
    "x=np.random.randint(10,100,size=(3,5))"
   ]
  },
  {
   "cell_type": "code",
   "execution_count": 555,
   "id": "83b3aad1-55d5-43c5-b7ff-60eba4cbe04c",
   "metadata": {},
   "outputs": [
    {
     "data": {
      "text/plain": [
       "array([[75, 91, 13, 90, 71],\n",
       "       [32, 68, 79, 17, 73],\n",
       "       [92, 18, 80, 80, 17]])"
      ]
     },
     "execution_count": 555,
     "metadata": {},
     "output_type": "execute_result"
    }
   ],
   "source": [
    "x"
   ]
  },
  {
   "cell_type": "code",
   "execution_count": 557,
   "id": "7e7ac3e2-9297-4923-9bf2-e8f53f51f941",
   "metadata": {},
   "outputs": [
    {
     "data": {
      "text/plain": [
       "array([75, 68, 80])"
      ]
     },
     "execution_count": 557,
     "metadata": {},
     "output_type": "execute_result"
    }
   ],
   "source": [
    "np.diagonal(x)"
   ]
  },
  {
   "cell_type": "code",
   "execution_count": 559,
   "id": "aec9f9a0-93a7-4116-821f-14b002afc8ef",
   "metadata": {},
   "outputs": [
    {
     "data": {
      "text/plain": [
       "array([91, 79, 80])"
      ]
     },
     "execution_count": 559,
     "metadata": {},
     "output_type": "execute_result"
    }
   ],
   "source": [
    "np.diagonal(x,offset=1)"
   ]
  },
  {
   "cell_type": "markdown",
   "id": "8f6f67ef-1c1b-47da-bdea-fb3aa855c1fc",
   "metadata": {},
   "source": [
    "### np.trace()"
   ]
  },
  {
   "cell_type": "code",
   "execution_count": 570,
   "id": "e3c48fec-4bac-4f35-9daf-bfc8a2a8be4a",
   "metadata": {},
   "outputs": [],
   "source": [
    "# - It returns the sum of the diagonal of an array."
   ]
  },
  {
   "cell_type": "code",
   "execution_count": 572,
   "id": "dcb096fa-460f-4ea9-a60d-da25fa901460",
   "metadata": {},
   "outputs": [],
   "source": [
    "x=np.random.randint(10,100,size=(5,5))"
   ]
  },
  {
   "cell_type": "code",
   "execution_count": 574,
   "id": "e9133eed-fa06-447c-be24-1ea7ae7b8c1a",
   "metadata": {},
   "outputs": [
    {
     "data": {
      "text/plain": [
       "array([[23, 97, 21, 28, 61],\n",
       "       [26, 80, 75, 69, 68],\n",
       "       [81, 59, 48, 16, 80],\n",
       "       [32, 50, 69, 63, 69],\n",
       "       [34, 25, 69, 15, 93]])"
      ]
     },
     "execution_count": 574,
     "metadata": {},
     "output_type": "execute_result"
    }
   ],
   "source": [
    "x"
   ]
  },
  {
   "cell_type": "code",
   "execution_count": 576,
   "id": "ad9de129-b8a7-40c2-82b2-df48c3973936",
   "metadata": {},
   "outputs": [
    {
     "data": {
      "text/plain": [
       "307"
      ]
     },
     "execution_count": 576,
     "metadata": {},
     "output_type": "execute_result"
    }
   ],
   "source": [
    "np.trace(x)"
   ]
  },
  {
   "cell_type": "code",
   "execution_count": 580,
   "id": "f7c807c3-4666-42a5-a431-6487132d5eff",
   "metadata": {},
   "outputs": [
    {
     "data": {
      "text/plain": [
       "307"
      ]
     },
     "execution_count": 580,
     "metadata": {},
     "output_type": "execute_result"
    }
   ],
   "source": [
    "np.diagonal(x).sum()"
   ]
  },
  {
   "cell_type": "code",
   "execution_count": 582,
   "id": "8df563bb-4bb7-4ba4-8bdd-93cbdebd14e6",
   "metadata": {},
   "outputs": [
    {
     "data": {
      "text/plain": [
       "257"
      ]
     },
     "execution_count": 582,
     "metadata": {},
     "output_type": "execute_result"
    }
   ],
   "source": [
    "np.trace(x,offset=1)"
   ]
  },
  {
   "cell_type": "code",
   "execution_count": 586,
   "id": "3e1873b7-0fbd-4b71-9cba-0d4c7a68ec03",
   "metadata": {},
   "outputs": [
    {
     "data": {
      "text/plain": [
       "257"
      ]
     },
     "execution_count": 586,
     "metadata": {},
     "output_type": "execute_result"
    }
   ],
   "source": [
    "np.diagonal(x,offset=1).sum()"
   ]
  },
  {
   "cell_type": "code",
   "execution_count": 588,
   "id": "2a0b6b12-2552-4517-8b63-65e87008ef83",
   "metadata": {},
   "outputs": [
    {
     "data": {
      "text/plain": [
       "169"
      ]
     },
     "execution_count": 588,
     "metadata": {},
     "output_type": "execute_result"
    }
   ],
   "source": [
    "np.trace(x,offset=-1)"
   ]
  },
  {
   "cell_type": "code",
   "execution_count": 592,
   "id": "87aca8d2-e201-413f-8ab3-8b5bdfea33b7",
   "metadata": {},
   "outputs": [
    {
     "data": {
      "text/plain": [
       "169"
      ]
     },
     "execution_count": 592,
     "metadata": {},
     "output_type": "execute_result"
    }
   ],
   "source": [
    "np.diagonal(x,offset=-1).sum()"
   ]
  },
  {
   "cell_type": "markdown",
   "id": "fe6f88bc-7e5e-45a0-b458-dfe6571984da",
   "metadata": {},
   "source": [
    "# Creating 0-D"
   ]
  },
  {
   "cell_type": "code",
   "execution_count": 595,
   "id": "4cf37879-0b56-4fce-a215-5e95e69a967b",
   "metadata": {},
   "outputs": [],
   "source": [
    "# 0-D- The array with no dimension"
   ]
  },
  {
   "cell_type": "code",
   "execution_count": 597,
   "id": "9c262999-8b44-4919-8466-fb73e1479ed3",
   "metadata": {},
   "outputs": [],
   "source": [
    "# np.array(element)"
   ]
  },
  {
   "cell_type": "code",
   "execution_count": 601,
   "id": "68f804bd-d5cc-4c9e-8a86-22b1a985d9c8",
   "metadata": {},
   "outputs": [
    {
     "data": {
      "text/plain": [
       "array(1500)"
      ]
     },
     "execution_count": 601,
     "metadata": {},
     "output_type": "execute_result"
    }
   ],
   "source": [
    "x=np.array(1500)\n",
    "x"
   ]
  },
  {
   "cell_type": "code",
   "execution_count": 603,
   "id": "2f40a097-ae07-4750-ad9a-ef211eacbe90",
   "metadata": {},
   "outputs": [
    {
     "data": {
      "text/plain": [
       "()"
      ]
     },
     "execution_count": 603,
     "metadata": {},
     "output_type": "execute_result"
    }
   ],
   "source": [
    "x.shape"
   ]
  },
  {
   "cell_type": "code",
   "execution_count": 605,
   "id": "a79940a3-3a48-4a4c-8fe7-c2c48597ae5c",
   "metadata": {},
   "outputs": [
    {
     "data": {
      "text/plain": [
       "0"
      ]
     },
     "execution_count": 605,
     "metadata": {},
     "output_type": "execute_result"
    }
   ],
   "source": [
    "x.ndim"
   ]
  },
  {
   "cell_type": "markdown",
   "id": "1d1804af-83a9-4c18-abcf-fcd0862a48c2",
   "metadata": {},
   "source": [
    "# Creating 1-D arrays"
   ]
  },
  {
   "cell_type": "code",
   "execution_count": 609,
   "id": "a54bc205-c61a-489e-b8fd-f114d579bffc",
   "metadata": {},
   "outputs": [],
   "source": [
    "# - A 1-D array can be created using a single list or tuple."
   ]
  },
  {
   "cell_type": "code",
   "execution_count": 613,
   "id": "83d8c969-5174-4c92-b93a-01447b240c46",
   "metadata": {},
   "outputs": [
    {
     "data": {
      "text/plain": [
       "array([10, 20, 30, 40, 50, 60, 70, 80])"
      ]
     },
     "execution_count": 613,
     "metadata": {},
     "output_type": "execute_result"
    }
   ],
   "source": [
    "lst=[10,20,30,40,50,60,70,80]\n",
    "x=np.array(lst)\n",
    "x"
   ]
  },
  {
   "cell_type": "code",
   "execution_count": 617,
   "id": "65f99850-ead5-48a8-9995-45c174b32661",
   "metadata": {},
   "outputs": [
    {
     "data": {
      "text/plain": [
       "(8,)"
      ]
     },
     "execution_count": 617,
     "metadata": {},
     "output_type": "execute_result"
    }
   ],
   "source": [
    "x.shape"
   ]
  },
  {
   "cell_type": "code",
   "execution_count": 619,
   "id": "2fd213b8-cb5f-4b02-b959-da143a9ab264",
   "metadata": {},
   "outputs": [
    {
     "data": {
      "text/plain": [
       "1"
      ]
     },
     "execution_count": 619,
     "metadata": {},
     "output_type": "execute_result"
    }
   ],
   "source": [
    "x.ndim"
   ]
  },
  {
   "cell_type": "code",
   "execution_count": 621,
   "id": "80684878-d028-4b90-8698-3a9490b7758c",
   "metadata": {},
   "outputs": [
    {
     "data": {
      "text/plain": [
       "array([10, 20, 30, 40, 50, 60, 70, 80])"
      ]
     },
     "execution_count": 621,
     "metadata": {},
     "output_type": "execute_result"
    }
   ],
   "source": [
    "lst=(10,20,30,40,50,60,70,80)\n",
    "x=np.array(lst)\n",
    "x"
   ]
  },
  {
   "cell_type": "code",
   "execution_count": 623,
   "id": "6110ce20-aec8-4ea0-9932-d30b9f77cd0d",
   "metadata": {},
   "outputs": [
    {
     "data": {
      "text/plain": [
       "1"
      ]
     },
     "execution_count": 623,
     "metadata": {},
     "output_type": "execute_result"
    }
   ],
   "source": [
    "x.ndim"
   ]
  },
  {
   "cell_type": "code",
   "execution_count": 625,
   "id": "04638b25-e3ce-46f8-b682-058e5a305e0f",
   "metadata": {},
   "outputs": [
    {
     "data": {
      "text/plain": [
       "(8,)"
      ]
     },
     "execution_count": 625,
     "metadata": {},
     "output_type": "execute_result"
    }
   ],
   "source": [
    "x.shape"
   ]
  },
  {
   "cell_type": "markdown",
   "id": "fc49c8de-8513-4fca-a3cb-bec7a2f32a19",
   "metadata": {},
   "source": [
    "# Creating a 2-D array"
   ]
  },
  {
   "cell_type": "code",
   "execution_count": null,
   "id": "d3cf6e76-12ae-4643-b51f-c7ca8c38435f",
   "metadata": {},
   "outputs": [],
   "source": []
  }
 ],
 "metadata": {
  "kernelspec": {
   "display_name": "Python 3",
   "language": "python",
   "name": "python3"
  },
  "language_info": {
   "codemirror_mode": {
    "name": "ipython",
    "version": 3
   },
   "file_extension": ".py",
   "mimetype": "text/x-python",
   "name": "python",
   "nbconvert_exporter": "python",
   "pygments_lexer": "ipython3",
   "version": "3.13.0"
  }
 },
 "nbformat": 4,
 "nbformat_minor": 5
}
