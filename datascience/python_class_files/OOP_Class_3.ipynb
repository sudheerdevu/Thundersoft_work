{
 "cells": [
  {
   "cell_type": "markdown",
   "id": "2e0dd2ea-eb8b-4a29-9d0c-4c56bee57c15",
   "metadata": {},
   "source": [
    "# Calling an object of one class inside another class"
   ]
  },
  {
   "cell_type": "code",
   "execution_count": 2,
   "id": "648827f9-852f-4627-8e19-d9fe9b9467a3",
   "metadata": {},
   "outputs": [],
   "source": [
    "class A:\n",
    "    pass"
   ]
  },
  {
   "cell_type": "code",
   "execution_count": 4,
   "id": "999ee75b-7fc8-42cb-82ae-feee9adf1df2",
   "metadata": {},
   "outputs": [],
   "source": [
    "class B:\n",
    "    pass"
   ]
  },
  {
   "cell_type": "code",
   "execution_count": 10,
   "id": "5c8bf3a3-e68b-4748-8607-294778d6721d",
   "metadata": {},
   "outputs": [],
   "source": [
    "class Employee:\n",
    "    def __init__(self):\n",
    "        self.name='Megha'\n",
    "        self.salary=60000\n",
    "\n",
    "    def details(self):\n",
    "        print('Name-',self.name)\n",
    "        print('Salary-',self.salary)"
   ]
  },
  {
   "cell_type": "code",
   "execution_count": 12,
   "id": "1e0a9851-f113-49f9-ae34-ed203cee4023",
   "metadata": {},
   "outputs": [],
   "source": [
    "e=Employee()"
   ]
  },
  {
   "cell_type": "code",
   "execution_count": 14,
   "id": "57ebf72a-0198-4fac-97af-6c64d7fec475",
   "metadata": {},
   "outputs": [
    {
     "name": "stdout",
     "output_type": "stream",
     "text": [
      "Name- Megha\n",
      "Salary- 60000\n"
     ]
    }
   ],
   "source": [
    "e.details()"
   ]
  },
  {
   "cell_type": "code",
   "execution_count": 18,
   "id": "10e9096d-8ec5-4baa-82cd-d3d700505e02",
   "metadata": {},
   "outputs": [
    {
     "data": {
      "text/plain": [
       "60000"
      ]
     },
     "execution_count": 18,
     "metadata": {},
     "output_type": "execute_result"
    }
   ],
   "source": [
    "e.salary"
   ]
  },
  {
   "cell_type": "code",
   "execution_count": 22,
   "id": "a4503e88-6778-4537-a545-5e7f4501bdd0",
   "metadata": {},
   "outputs": [],
   "source": [
    "class Appraisal:\n",
    "    def increment(emp,inc):\n",
    "        emp.salary+=inc"
   ]
  },
  {
   "cell_type": "code",
   "execution_count": 24,
   "id": "2465f122-35c3-44fe-a243-b65fe319adbc",
   "metadata": {},
   "outputs": [],
   "source": [
    "Appraisal.increment(e,12000)"
   ]
  },
  {
   "cell_type": "code",
   "execution_count": 26,
   "id": "3aa6f853-d793-40ac-aabb-e86dbe660bcd",
   "metadata": {},
   "outputs": [
    {
     "name": "stdout",
     "output_type": "stream",
     "text": [
      "Name- Megha\n",
      "Salary- 72000\n"
     ]
    }
   ],
   "source": [
    "e.details()"
   ]
  },
  {
   "cell_type": "code",
   "execution_count": 28,
   "id": "205a99a9-57ca-4da0-a8b4-b1ebf11e9107",
   "metadata": {},
   "outputs": [],
   "source": [
    "# - When we call the object of one class into another class the it can be done in two ways-\n",
    "# - We can call the method by using the class name or the reference variable.\n",
    "# - We pass the object one class as the argument to the method of another class."
   ]
  },
  {
   "cell_type": "code",
   "execution_count": 35,
   "id": "792d0ca7-3d1a-4d5e-b847-def956973351",
   "metadata": {},
   "outputs": [],
   "source": [
    "class Employee:\n",
    "    def __init__(self):\n",
    "        self.name='Deepak'\n",
    "        self.salary=78000"
   ]
  },
  {
   "cell_type": "code",
   "execution_count": 37,
   "id": "ca0301aa-46a8-46f0-813c-6acc1b0cec86",
   "metadata": {},
   "outputs": [],
   "source": [
    "class Appraisal:\n",
    "    def increment(obj,inc):\n",
    "        print(id(obj))"
   ]
  },
  {
   "cell_type": "code",
   "execution_count": 39,
   "id": "62e21917-9df7-4769-8b2f-7cbb2225169e",
   "metadata": {},
   "outputs": [],
   "source": [
    "e=Employee()"
   ]
  },
  {
   "cell_type": "code",
   "execution_count": 41,
   "id": "d52482d8-f852-4eda-aee8-98750bba3e61",
   "metadata": {},
   "outputs": [
    {
     "name": "stdout",
     "output_type": "stream",
     "text": [
      "3106555783440\n"
     ]
    }
   ],
   "source": [
    "print(id(e))"
   ]
  },
  {
   "cell_type": "code",
   "execution_count": 43,
   "id": "1a2be4cb-1d75-488c-bb84-d9916c442ef5",
   "metadata": {},
   "outputs": [
    {
     "name": "stdout",
     "output_type": "stream",
     "text": [
      "3106555783440\n"
     ]
    }
   ],
   "source": [
    "Appraisal.increment(e,2000)"
   ]
  },
  {
   "cell_type": "code",
   "execution_count": 47,
   "id": "fbcaf5a1-1094-4263-94b7-31fbfd743411",
   "metadata": {},
   "outputs": [],
   "source": [
    "def dummy(a):\n",
    "    print(id(a))"
   ]
  },
  {
   "cell_type": "code",
   "execution_count": 51,
   "id": "aa1d59b0-02a8-46ae-8a19-d8f4664ebb79",
   "metadata": {},
   "outputs": [
    {
     "name": "stdout",
     "output_type": "stream",
     "text": [
      "140726391903624\n",
      "140726391903624\n"
     ]
    }
   ],
   "source": [
    "x=20\n",
    "dummy(x)\n",
    "print(id(x))"
   ]
  },
  {
   "cell_type": "code",
   "execution_count": 53,
   "id": "05dd9e46-2c9d-4b89-bd7d-94ccefb29f03",
   "metadata": {},
   "outputs": [],
   "source": [
    "class Employee:\n",
    "    def __init__(self):\n",
    "        self.name='Abhilash'\n",
    "        self.salary=75000"
   ]
  },
  {
   "cell_type": "code",
   "execution_count": 59,
   "id": "707f5bbe-0958-4253-9d23-f68d5cbb5ff4",
   "metadata": {},
   "outputs": [],
   "source": [
    "class Appraisal:\n",
    "    def increment(a,b):\n",
    "        a.salary+=b"
   ]
  },
  {
   "cell_type": "code",
   "execution_count": 57,
   "id": "537d8d92-26dd-4909-8ce5-c64bb4501b71",
   "metadata": {},
   "outputs": [],
   "source": [
    "# class_name.method() - Static method (self is not required)\n",
    "# reference_variable.method() - Instance method (self is required)"
   ]
  },
  {
   "cell_type": "code",
   "execution_count": 87,
   "id": "1a0a02ac-7970-4593-9db0-6b09bc9fffa1",
   "metadata": {},
   "outputs": [],
   "source": [
    "emp=Employee()"
   ]
  },
  {
   "cell_type": "code",
   "execution_count": 65,
   "id": "dc521158-68aa-42c6-8aaa-3db8056e4e11",
   "metadata": {},
   "outputs": [],
   "source": [
    "Appraisal.increment(emp,6000) # Static method"
   ]
  },
  {
   "cell_type": "code",
   "execution_count": 67,
   "id": "a24e0794-bb57-4937-a8ca-2cd9c807840e",
   "metadata": {},
   "outputs": [],
   "source": [
    "a=Appraisal()"
   ]
  },
  {
   "cell_type": "code",
   "execution_count": 69,
   "id": "faa606ad-2200-48a2-86dd-eb17e6471529",
   "metadata": {},
   "outputs": [],
   "source": [
    "# a- reference variable"
   ]
  },
  {
   "cell_type": "code",
   "execution_count": 71,
   "id": "4f5ef0d2-6ec7-45de-9fed-f86c35dae2cb",
   "metadata": {},
   "outputs": [
    {
     "ename": "TypeError",
     "evalue": "Appraisal.increment() takes 2 positional arguments but 3 were given",
     "output_type": "error",
     "traceback": [
      "\u001b[1;31m---------------------------------------------------------------------------\u001b[0m",
      "\u001b[1;31mTypeError\u001b[0m                                 Traceback (most recent call last)",
      "Cell \u001b[1;32mIn[71], line 1\u001b[0m\n\u001b[1;32m----> 1\u001b[0m a\u001b[38;5;241m.\u001b[39mincrement(emp,\u001b[38;5;241m2000\u001b[39m)\n",
      "\u001b[1;31mTypeError\u001b[0m: Appraisal.increment() takes 2 positional arguments but 3 were given"
     ]
    }
   ],
   "source": [
    "a.increment(emp,2000) # Instance method"
   ]
  },
  {
   "cell_type": "code",
   "execution_count": 89,
   "id": "b51fb091-675c-4e41-82d2-8871325e1e1d",
   "metadata": {},
   "outputs": [],
   "source": [
    "class Appraisal:\n",
    "    def increment(self,emp,inc):\n",
    "        emp.salary+=inc"
   ]
  },
  {
   "cell_type": "code",
   "execution_count": 91,
   "id": "484ac525-197b-4310-ae43-7e0d9a8f248e",
   "metadata": {},
   "outputs": [],
   "source": [
    "a=Appraisal()"
   ]
  },
  {
   "cell_type": "code",
   "execution_count": 93,
   "id": "c1c7ccaa-d9c1-4da9-9db0-42fcb37c08dc",
   "metadata": {},
   "outputs": [],
   "source": [
    "a.increment(emp,6000)"
   ]
  },
  {
   "cell_type": "code",
   "execution_count": 95,
   "id": "5bc6db75-e978-49b3-8219-13adc42e54e0",
   "metadata": {},
   "outputs": [
    {
     "data": {
      "text/plain": [
       "81000"
      ]
     },
     "execution_count": 95,
     "metadata": {},
     "output_type": "execute_result"
    }
   ],
   "source": [
    "emp.salary"
   ]
  },
  {
   "cell_type": "code",
   "execution_count": 97,
   "id": "454d413e-50dc-4d7c-9fe7-78e2b3e692e1",
   "metadata": {},
   "outputs": [
    {
     "ename": "TypeError",
     "evalue": "Appraisal.increment() missing 1 required positional argument: 'inc'",
     "output_type": "error",
     "traceback": [
      "\u001b[1;31m---------------------------------------------------------------------------\u001b[0m",
      "\u001b[1;31mTypeError\u001b[0m                                 Traceback (most recent call last)",
      "Cell \u001b[1;32mIn[97], line 1\u001b[0m\n\u001b[1;32m----> 1\u001b[0m Appraisal\u001b[38;5;241m.\u001b[39mincrement(emp,\u001b[38;5;241m5000\u001b[39m)\n",
      "\u001b[1;31mTypeError\u001b[0m: Appraisal.increment() missing 1 required positional argument: 'inc'"
     ]
    }
   ],
   "source": [
    "Appraisal.increment(emp,5000)"
   ]
  },
  {
   "cell_type": "code",
   "execution_count": 99,
   "id": "dc40d0ec-f648-4da9-b6e4-2e1a2678a6e9",
   "metadata": {},
   "outputs": [],
   "source": [
    "class Appraisal:\n",
    "    @staticmethod\n",
    "    def increment(emp,inc):\n",
    "        emp.salary+=inc"
   ]
  },
  {
   "cell_type": "code",
   "execution_count": 103,
   "id": "48f04c18-ac5d-4026-8c08-8f87848fe7f5",
   "metadata": {},
   "outputs": [
    {
     "data": {
      "text/plain": [
       "81000"
      ]
     },
     "execution_count": 103,
     "metadata": {},
     "output_type": "execute_result"
    }
   ],
   "source": [
    "emp.salary"
   ]
  },
  {
   "cell_type": "code",
   "execution_count": 105,
   "id": "de628f59-3dc7-448e-bfae-87cb90e009e0",
   "metadata": {},
   "outputs": [],
   "source": [
    "Appraisal.increment(emp,6000)"
   ]
  },
  {
   "cell_type": "code",
   "execution_count": 107,
   "id": "7d2bc94f-64a0-45c6-90ff-c10fddfb031f",
   "metadata": {},
   "outputs": [
    {
     "data": {
      "text/plain": [
       "87000"
      ]
     },
     "execution_count": 107,
     "metadata": {},
     "output_type": "execute_result"
    }
   ],
   "source": [
    "emp.salary"
   ]
  },
  {
   "cell_type": "code",
   "execution_count": 109,
   "id": "71fc1ce4-2eb9-4d90-a369-060147ba54ad",
   "metadata": {},
   "outputs": [],
   "source": [
    "a=Appraisal()"
   ]
  },
  {
   "cell_type": "code",
   "execution_count": 111,
   "id": "769eb17d-3bd6-4d92-9636-1ffb8a86585f",
   "metadata": {},
   "outputs": [],
   "source": [
    "a.increment(emp,3000)"
   ]
  },
  {
   "cell_type": "code",
   "execution_count": 113,
   "id": "605de678-e926-45c3-b39c-d5d0541e4f57",
   "metadata": {},
   "outputs": [
    {
     "data": {
      "text/plain": [
       "90000"
      ]
     },
     "execution_count": 113,
     "metadata": {},
     "output_type": "execute_result"
    }
   ],
   "source": [
    "emp.salary"
   ]
  },
  {
   "cell_type": "code",
   "execution_count": 119,
   "id": "d931c4f3-b2f2-4290-978e-a7b02a89b2e6",
   "metadata": {},
   "outputs": [],
   "source": [
    "class Customer:\n",
    "    def __init__(self,name,bal):\n",
    "        self.name=name\n",
    "        self.balance=bal"
   ]
  },
  {
   "cell_type": "code",
   "execution_count": 141,
   "id": "77cb24b8-7c5a-4f92-ac4c-60a36d3c3cd9",
   "metadata": {},
   "outputs": [],
   "source": [
    "class Banking:\n",
    "    @staticmethod\n",
    "    def current_balance(cst):\n",
    "        print(cst.balance)\n",
    "        \n",
    "    @staticmethod\n",
    "    def deposit(cst,amt):\n",
    "        cst.balance+=amt\n",
    "    \n",
    "    @staticmethod\n",
    "    def withdrawl(cst,amt):\n",
    "        if amt>cst.balance:\n",
    "            print('Insufficient balance')\n",
    "        else:\n",
    "            cst.balance-=amt"
   ]
  },
  {
   "cell_type": "code",
   "execution_count": 143,
   "id": "1588a367-7ee0-4417-8cc3-80a16e4e6fe3",
   "metadata": {},
   "outputs": [],
   "source": [
    "c1=Customer('Akshay',50000)\n",
    "c2=Customer('Ashwini',70000)"
   ]
  },
  {
   "cell_type": "code",
   "execution_count": 145,
   "id": "10c51d13-fac4-40f7-80d0-73163464eba0",
   "metadata": {},
   "outputs": [
    {
     "data": {
      "text/plain": [
       "'Akshay'"
      ]
     },
     "execution_count": 145,
     "metadata": {},
     "output_type": "execute_result"
    }
   ],
   "source": [
    "c1.name"
   ]
  },
  {
   "cell_type": "code",
   "execution_count": 147,
   "id": "a0293f38-0edd-4048-be56-0324ab5d98f2",
   "metadata": {},
   "outputs": [
    {
     "data": {
      "text/plain": [
       "50000"
      ]
     },
     "execution_count": 147,
     "metadata": {},
     "output_type": "execute_result"
    }
   ],
   "source": [
    "c1.balance"
   ]
  },
  {
   "cell_type": "code",
   "execution_count": 149,
   "id": "b0595d85-8698-481c-a0fe-0f34f3415dc7",
   "metadata": {},
   "outputs": [
    {
     "data": {
      "text/plain": [
       "'Ashwini'"
      ]
     },
     "execution_count": 149,
     "metadata": {},
     "output_type": "execute_result"
    }
   ],
   "source": [
    "c2.name"
   ]
  },
  {
   "cell_type": "code",
   "execution_count": 151,
   "id": "c19a0ff0-d0d8-48f5-a79c-0f9cc419d3d1",
   "metadata": {},
   "outputs": [
    {
     "data": {
      "text/plain": [
       "70000"
      ]
     },
     "execution_count": 151,
     "metadata": {},
     "output_type": "execute_result"
    }
   ],
   "source": [
    "c2.balance"
   ]
  },
  {
   "cell_type": "code",
   "execution_count": 153,
   "id": "1287f82d-b7a4-4913-ada1-4fac44934dd4",
   "metadata": {},
   "outputs": [],
   "source": [
    "Banking.deposit(c1,25000)"
   ]
  },
  {
   "cell_type": "code",
   "execution_count": 135,
   "id": "a24134b9-b3b9-4427-a72e-4af43b851a5e",
   "metadata": {},
   "outputs": [
    {
     "data": {
      "text/plain": [
       "('Akshay', 75000)"
      ]
     },
     "execution_count": 135,
     "metadata": {},
     "output_type": "execute_result"
    }
   ],
   "source": [
    "c1.name,c1.balance"
   ]
  },
  {
   "cell_type": "code",
   "execution_count": 155,
   "id": "5c7d0647-284c-4d9e-8cc9-8910541232ef",
   "metadata": {},
   "outputs": [],
   "source": [
    "b=Banking()"
   ]
  },
  {
   "cell_type": "code",
   "execution_count": 157,
   "id": "707508ab-ff70-4e48-929b-51e37a8404f0",
   "metadata": {},
   "outputs": [],
   "source": [
    "b.deposit(c2,10000)"
   ]
  },
  {
   "cell_type": "code",
   "execution_count": 159,
   "id": "da907ecc-e472-496e-ac9b-4bb4c6b513fb",
   "metadata": {},
   "outputs": [
    {
     "data": {
      "text/plain": [
       "('Ashwini', 80000)"
      ]
     },
     "execution_count": 159,
     "metadata": {},
     "output_type": "execute_result"
    }
   ],
   "source": [
    "c2.name,c2.balance"
   ]
  },
  {
   "cell_type": "markdown",
   "id": "bdf169ad-98b0-409f-b30d-25fd8e746040",
   "metadata": {},
   "source": [
    "# Nested class"
   ]
  },
  {
   "cell_type": "code",
   "execution_count": 162,
   "id": "2e7bc009-6e09-41d0-ba67-6e8882a995f2",
   "metadata": {},
   "outputs": [],
   "source": [
    "# - A class within another class is known as nested class."
   ]
  },
  {
   "cell_type": "code",
   "execution_count": 166,
   "id": "f182aceb-d739-46a1-b05b-96658a8829e3",
   "metadata": {},
   "outputs": [],
   "source": [
    "class A: # Outer class\n",
    "    class B: # Inner class\n",
    "        pass"
   ]
  },
  {
   "cell_type": "code",
   "execution_count": 168,
   "id": "aff170c7-bbe5-4a2f-a10f-de81ca950bf4",
   "metadata": {},
   "outputs": [],
   "source": [
    "# - Without creating the outer class, the inner class is object is not possible."
   ]
  },
  {
   "cell_type": "code",
   "execution_count": 179,
   "id": "80c680cf-5002-42be-8916-2565d65d90ed",
   "metadata": {},
   "outputs": [],
   "source": [
    "class Outer:\n",
    "    class Inner:\n",
    "        def m1(self):\n",
    "            print('Inner class method')"
   ]
  },
  {
   "cell_type": "code",
   "execution_count": 183,
   "id": "70e8b315-606a-4a90-a269-efe5823e8b49",
   "metadata": {},
   "outputs": [],
   "source": [
    "o=Outer() # o is the outer class object"
   ]
  },
  {
   "cell_type": "code",
   "execution_count": 189,
   "id": "791d70c7-33e7-4ecb-a5d4-adcac874cc5d",
   "metadata": {},
   "outputs": [],
   "source": [
    "i=o.Inner() # i is the inner class object"
   ]
  },
  {
   "cell_type": "code",
   "execution_count": 191,
   "id": "be9b2f11-6f25-460d-a607-14cbde7c566c",
   "metadata": {},
   "outputs": [
    {
     "name": "stdout",
     "output_type": "stream",
     "text": [
      "Inner class method\n"
     ]
    }
   ],
   "source": [
    "i.m1()"
   ]
  },
  {
   "cell_type": "code",
   "execution_count": 193,
   "id": "973e0cc0-7199-410d-b6ec-08aadd072a8e",
   "metadata": {},
   "outputs": [],
   "source": [
    "class Outer:\n",
    "    class Inner:\n",
    "        def m1(self):\n",
    "            print('Inner class method')"
   ]
  },
  {
   "cell_type": "code",
   "execution_count": 201,
   "id": "e2f03d49-84ad-46a5-8524-869caa906d1e",
   "metadata": {},
   "outputs": [
    {
     "name": "stdout",
     "output_type": "stream",
     "text": [
      "Inner class method\n"
     ]
    }
   ],
   "source": [
    "Outer.Inner.m1(0) # static"
   ]
  },
  {
   "cell_type": "code",
   "execution_count": 225,
   "id": "e598b9f5-469d-46cd-bbb0-9b2c45f58f88",
   "metadata": {},
   "outputs": [],
   "source": [
    "class Outer:\n",
    "    class Inner:\n",
    "        @staticmethod\n",
    "        def m1():\n",
    "            print('Inner class method')"
   ]
  },
  {
   "cell_type": "code",
   "execution_count": 227,
   "id": "4fe073da-2388-47d2-8ac9-8808f09bedab",
   "metadata": {},
   "outputs": [
    {
     "name": "stdout",
     "output_type": "stream",
     "text": [
      "Inner class method\n"
     ]
    }
   ],
   "source": [
    "o=Outer()\n",
    "i=o.Inner()\n",
    "i.m1()   # By reference"
   ]
  },
  {
   "cell_type": "code",
   "execution_count": 229,
   "id": "f4e86b33-fde0-4e7b-93f3-647b1b574e77",
   "metadata": {},
   "outputs": [
    {
     "name": "stdout",
     "output_type": "stream",
     "text": [
      "Inner class method\n"
     ]
    }
   ],
   "source": [
    "Outer.Inner.m1() # By class name"
   ]
  },
  {
   "cell_type": "code",
   "execution_count": 231,
   "id": "d707e465-9291-4cfa-a88c-ad97eb098462",
   "metadata": {},
   "outputs": [
    {
     "name": "stdout",
     "output_type": "stream",
     "text": [
      "Inner class method\n"
     ]
    }
   ],
   "source": [
    "Outer().Inner().m1() # Calling by reference"
   ]
  },
  {
   "cell_type": "code",
   "execution_count": 233,
   "id": "e8a9b192-7455-4f55-a292-d4752abe259b",
   "metadata": {},
   "outputs": [
    {
     "name": "stdout",
     "output_type": "stream",
     "text": [
      "Inner class method\n"
     ]
    }
   ],
   "source": [
    "Outer.Inner.m1() # Calling by class name"
   ]
  },
  {
   "cell_type": "code",
   "execution_count": 235,
   "id": "6692c23f-c4e0-4639-85ab-64f186c27d2d",
   "metadata": {},
   "outputs": [
    {
     "name": "stdout",
     "output_type": "stream",
     "text": [
      "Inner class method\n"
     ]
    }
   ],
   "source": [
    "Outer.Inner().m1() # Call by reference"
   ]
  },
  {
   "cell_type": "markdown",
   "id": "97743104-8fa8-4f9a-b0e9-3d93f11628a6",
   "metadata": {},
   "source": [
    "### When to nested class?"
   ]
  },
  {
   "cell_type": "code",
   "execution_count": 239,
   "id": "4401a5b3-863a-42cf-b4e9-c31fae068242",
   "metadata": {},
   "outputs": [],
   "source": [
    "# - If without creation of the outer class the inner class object is not possible then we use nested class."
   ]
  },
  {
   "cell_type": "code",
   "execution_count": 243,
   "id": "bd6e78f3-ca9c-40d9-a6b1-798fafeb55bc",
   "metadata": {},
   "outputs": [],
   "source": [
    "class University:\n",
    "    class College:\n",
    "        class Course:\n",
    "            pass"
   ]
  },
  {
   "cell_type": "code",
   "execution_count": 247,
   "id": "59cfe5a9-8ac0-45cd-93ec-eb286aee7aac",
   "metadata": {},
   "outputs": [],
   "source": [
    "class Human:\n",
    "    class Head:\n",
    "        class Brain:\n",
    "            pass"
   ]
  },
  {
   "cell_type": "code",
   "execution_count": 249,
   "id": "8d54025c-2cdc-4327-80d6-5c6c0cb21bde",
   "metadata": {},
   "outputs": [],
   "source": [
    "class Person:\n",
    "    class DOB:\n",
    "        pass"
   ]
  },
  {
   "cell_type": "code",
   "execution_count": 251,
   "id": "daf46b17-4d5d-4be5-b437-3af9ec3657f8",
   "metadata": {},
   "outputs": [],
   "source": [
    "class Company:\n",
    "    class Department:\n",
    "        class Employee:\n",
    "            class Workprofiles:\n",
    "                pass"
   ]
  },
  {
   "cell_type": "code",
   "execution_count": 5,
   "id": "78064956-ec8b-454e-a08c-b2d3c15dd089",
   "metadata": {},
   "outputs": [],
   "source": [
    "class Employee:\n",
    "    def __init__(self,name,d,m,y):\n",
    "        self.name=name\n",
    "        self.dob=self.DOB(d,m,y)\n",
    "\n",
    "    def info(self):\n",
    "        print(f'My name is {self.name}')\n",
    "        print(f'My date of birth is {self.dob.day}/{self.dob.month}/{self.dob.year}')\n",
    "\n",
    "    class DOB:\n",
    "        def __init__(self,d,m,y):\n",
    "            self.day=d\n",
    "            self.month=m\n",
    "            self.year=y"
   ]
  },
  {
   "cell_type": "code",
   "execution_count": 7,
   "id": "ac273aa5-a881-4a62-8a85-136a7375df8a",
   "metadata": {},
   "outputs": [],
   "source": [
    "e=Employee('Rahul', 1, 6, 2002)"
   ]
  },
  {
   "cell_type": "code",
   "execution_count": 9,
   "id": "081e17f0-2fbf-414e-b599-ed3b5bee6e23",
   "metadata": {},
   "outputs": [
    {
     "name": "stdout",
     "output_type": "stream",
     "text": [
      "My name is Rahul\n",
      "My date of birth is 1/6/2002\n"
     ]
    }
   ],
   "source": [
    "e.info()"
   ]
  },
  {
   "cell_type": "code",
   "execution_count": 11,
   "id": "9369ca09-3c15-4577-832f-a67fdb98b14c",
   "metadata": {},
   "outputs": [],
   "source": [
    "e2=Employee('Uday Kumar', 2, 8, 2005)"
   ]
  },
  {
   "cell_type": "code",
   "execution_count": 13,
   "id": "2ed44897-8dc2-425b-8559-7d3c514442f4",
   "metadata": {},
   "outputs": [
    {
     "name": "stdout",
     "output_type": "stream",
     "text": [
      "My name is Uday Kumar\n",
      "My date of birth is 2/8/2005\n"
     ]
    }
   ],
   "source": [
    "e2.info()"
   ]
  },
  {
   "cell_type": "code",
   "execution_count": 15,
   "id": "201aa2ce-9628-4ee1-97a2-6f060cc8c926",
   "metadata": {},
   "outputs": [],
   "source": [
    "class Human:\n",
    "    def __init__(self):\n",
    "        self.name='Rahul'\n",
    "        self.head=self.Head()\n",
    "        self.brain=self.Brain()\n",
    "\n",
    "    def display(self):\n",
    "        print(f'I am {self.name}')\n",
    "        self.head.think()\n",
    "        self.brain.meditate()\n",
    "\n",
    "    class Head:\n",
    "        def think(self):\n",
    "            print('I can think')\n",
    "    \n",
    "    class Brain:\n",
    "        def meditate(self):\n",
    "            print('I can meditate')"
   ]
  },
  {
   "cell_type": "code",
   "execution_count": 296,
   "id": "eaab4592-6555-48ab-a5de-b2f08e14e2ab",
   "metadata": {},
   "outputs": [],
   "source": [
    "h=Human()"
   ]
  },
  {
   "cell_type": "code",
   "execution_count": 298,
   "id": "8855c7af-660c-4833-bb13-7387e05fe99f",
   "metadata": {},
   "outputs": [
    {
     "name": "stdout",
     "output_type": "stream",
     "text": [
      "I am Rahul\n",
      "I can think\n",
      "I can meditate\n"
     ]
    }
   ],
   "source": [
    "h.display()"
   ]
  },
  {
   "cell_type": "code",
   "execution_count": 17,
   "id": "a7fdc564-1bcf-43d2-9078-e5d8eb8b8d27",
   "metadata": {},
   "outputs": [],
   "source": [
    "# - Whenever we call the inner class inside the outer class, we have to use the self variable."
   ]
  },
  {
   "cell_type": "code",
   "execution_count": 26,
   "id": "1581c315-6ed4-4582-aee3-12d98ac54daa",
   "metadata": {},
   "outputs": [],
   "source": [
    "class Outer:\n",
    "    def __init__(self):\n",
    "        print('Ouetr class object is created')\n",
    "        print(id(self))\n",
    "        \n",
    "    class Inner:\n",
    "        def __init__(self):\n",
    "            print('Inner class object is created')"
   ]
  },
  {
   "cell_type": "code",
   "execution_count": 28,
   "id": "0a4ea56f-c5b3-4680-bb9e-ddeefe59dc42",
   "metadata": {},
   "outputs": [
    {
     "name": "stdout",
     "output_type": "stream",
     "text": [
      "Ouetr class object is created\n",
      "1791497001808\n"
     ]
    }
   ],
   "source": [
    "o=Outer()"
   ]
  },
  {
   "cell_type": "code",
   "execution_count": 30,
   "id": "9d92f92b-ee16-4406-a82a-850da278bab1",
   "metadata": {},
   "outputs": [
    {
     "name": "stdout",
     "output_type": "stream",
     "text": [
      "1791497001808\n"
     ]
    }
   ],
   "source": [
    "print(id(o))"
   ]
  },
  {
   "cell_type": "code",
   "execution_count": 37,
   "id": "67cc67b4-3f59-4c87-b4ed-8eaf1ec0206a",
   "metadata": {},
   "outputs": [
    {
     "name": "stdout",
     "output_type": "stream",
     "text": [
      "Inner class object is created\n"
     ]
    }
   ],
   "source": [
    "i=o.Inner()"
   ]
  },
  {
   "cell_type": "code",
   "execution_count": 39,
   "id": "651ad169-b255-4fe2-9a76-861455874ca6",
   "metadata": {},
   "outputs": [],
   "source": [
    "class Outer:\n",
    "    def __init__(self):\n",
    "        print('Ouetr class object is created')\n",
    "        # print(id(self))\n",
    "        self.Inner()\n",
    "        \n",
    "    class Inner:\n",
    "        def __init__(self):\n",
    "            print('Inner class object is created')"
   ]
  },
  {
   "cell_type": "code",
   "execution_count": 41,
   "id": "b938ed91-d5ab-4045-9815-5fd5d8b1f619",
   "metadata": {},
   "outputs": [
    {
     "name": "stdout",
     "output_type": "stream",
     "text": [
      "Ouetr class object is created\n",
      "Inner class object is created\n"
     ]
    }
   ],
   "source": [
    "o=Outer()"
   ]
  },
  {
   "cell_type": "markdown",
   "id": "8c4372ee-eb97-4f46-8de4-e0e1d42ea108",
   "metadata": {},
   "source": [
    "# Nestedc Methods"
   ]
  },
  {
   "cell_type": "code",
   "execution_count": 20,
   "id": "20a39ded-fec6-4b95-bc7c-725d3f0c0741",
   "metadata": {},
   "outputs": [],
   "source": [
    "# - A method within another method is known as nested method."
   ]
  },
  {
   "cell_type": "code",
   "execution_count": 43,
   "id": "d20e43ad-397b-4f65-8fd8-64eecdda6622",
   "metadata": {},
   "outputs": [],
   "source": [
    "class A:\n",
    "    def m1(self):\n",
    "        def m2():\n",
    "            pass"
   ]
  },
  {
   "cell_type": "code",
   "execution_count": 45,
   "id": "b65ea8f2-5f72-4b65-ac2a-7c470bc37724",
   "metadata": {},
   "outputs": [],
   "source": [
    "# - Nested methods are used when we want to execute a piece of code repeatedly."
   ]
  },
  {
   "cell_type": "code",
   "execution_count": 82,
   "id": "97ab857a-7ca1-46c5-a839-9b9676bf33a8",
   "metadata": {},
   "outputs": [],
   "source": [
    "class Test:\n",
    "    def calculator(self):\n",
    "        a=10\n",
    "        b=20\n",
    "        print(a+b)\n",
    "\n",
    "        a=100\n",
    "        b=200\n",
    "        print(a+b)"
   ]
  },
  {
   "cell_type": "code",
   "execution_count": 77,
   "id": "a0220831-df3d-41b5-ac53-2a65e8a30371",
   "metadata": {},
   "outputs": [],
   "source": [
    "t=Test()"
   ]
  },
  {
   "cell_type": "code",
   "execution_count": 84,
   "id": "44fcfdff-3754-4690-a3f8-2ae1c02d1dd1",
   "metadata": {},
   "outputs": [
    {
     "name": "stdout",
     "output_type": "stream",
     "text": [
      "30\n",
      "300\n"
     ]
    }
   ],
   "source": [
    "t.calculator()"
   ]
  },
  {
   "cell_type": "code",
   "execution_count": 88,
   "id": "3e504379-05c4-44eb-a1c6-15722ed7f214",
   "metadata": {},
   "outputs": [],
   "source": [
    "class Test:\n",
    "    def method(self):\n",
    "        def calculator(a,b):\n",
    "            print(a+b)\n",
    "\n",
    "        calculator(10,20)\n",
    "        calculator(100,200)\n",
    "        calculator(1000,2000)\n",
    "        calculator(150,250)"
   ]
  },
  {
   "cell_type": "code",
   "execution_count": 90,
   "id": "c7dbcb0b-2782-42bc-9a0f-105a600a1679",
   "metadata": {},
   "outputs": [],
   "source": [
    "t=Test()"
   ]
  },
  {
   "cell_type": "code",
   "execution_count": 94,
   "id": "dbbac19c-480d-43e8-8a43-4bed12e71875",
   "metadata": {},
   "outputs": [
    {
     "name": "stdout",
     "output_type": "stream",
     "text": [
      "30\n",
      "300\n",
      "3000\n",
      "400\n"
     ]
    }
   ],
   "source": [
    "t.method()"
   ]
  },
  {
   "cell_type": "code",
   "execution_count": 96,
   "id": "41c69283-2059-4213-8312-6cfafae761d3",
   "metadata": {},
   "outputs": [],
   "source": [
    "lst=[(10,20),(30,40),(50,60),(100,200),(80,20)]"
   ]
  },
  {
   "cell_type": "code",
   "execution_count": 110,
   "id": "6f57efa6-61cc-4710-b348-18b0ece11ab8",
   "metadata": {},
   "outputs": [],
   "source": [
    "class Test:\n",
    "    def method(self,lst):\n",
    "        def calculator(a,b):\n",
    "            print(a+b)\n",
    "        for i in lst:\n",
    "            calculator(*i)"
   ]
  },
  {
   "cell_type": "code",
   "execution_count": 112,
   "id": "ed925a82-c5b1-456b-b2e2-6837d2933e88",
   "metadata": {},
   "outputs": [],
   "source": [
    "t=Test()"
   ]
  },
  {
   "cell_type": "code",
   "execution_count": 114,
   "id": "1fd13da3-4353-4c3a-bac1-509ee969515d",
   "metadata": {},
   "outputs": [
    {
     "name": "stdout",
     "output_type": "stream",
     "text": [
      "30\n",
      "70\n",
      "110\n",
      "300\n",
      "100\n"
     ]
    }
   ],
   "source": [
    "t.method(lst)"
   ]
  },
  {
   "cell_type": "code",
   "execution_count": 116,
   "id": "5fa4325d-1f4a-4c79-bd01-4511ca545cc0",
   "metadata": {},
   "outputs": [],
   "source": [
    "class Test:\n",
    "    def show_details(self,name,emp_code):\n",
    "        print(name,emp_code)"
   ]
  },
  {
   "cell_type": "code",
   "execution_count": 118,
   "id": "26980d23-a80b-4561-a75d-b9c1bc8a7e90",
   "metadata": {},
   "outputs": [],
   "source": [
    "names=['Rahul', 'Megha', 'Uday', 'Ashish', 'Aditya']\n",
    "codes=[101,102,103,104,105]"
   ]
  },
  {
   "cell_type": "code",
   "execution_count": 120,
   "id": "c15a2e83-1a45-422d-8896-3e5dd5f8ca41",
   "metadata": {},
   "outputs": [],
   "source": [
    "t=Test()"
   ]
  },
  {
   "cell_type": "code",
   "execution_count": 122,
   "id": "9303f798-bb0c-4564-8370-ca61ff58d4ef",
   "metadata": {},
   "outputs": [
    {
     "name": "stdout",
     "output_type": "stream",
     "text": [
      "Rahul 101\n"
     ]
    }
   ],
   "source": [
    "t.show_details(names[0],codes[0])"
   ]
  },
  {
   "cell_type": "code",
   "execution_count": 124,
   "id": "3624f140-ed98-4d08-99d6-68e1e9faa3a6",
   "metadata": {},
   "outputs": [
    {
     "name": "stdout",
     "output_type": "stream",
     "text": [
      "Rahul 101\n",
      "Megha 102\n",
      "Uday 103\n",
      "Ashish 104\n",
      "Aditya 105\n"
     ]
    }
   ],
   "source": [
    "for i,j in zip(names,codes):\n",
    "    t.show_details(i,j)"
   ]
  },
  {
   "cell_type": "code",
   "execution_count": 150,
   "id": "bed7b847-97af-4b7c-8552-14575f842430",
   "metadata": {},
   "outputs": [],
   "source": [
    "class Test:\n",
    "    def show_details(self,names,codes):\n",
    "        \n",
    "        def info(name,code):\n",
    "            print('Name-',name)\n",
    "            print('Code-',code)\n",
    "        \n",
    "        for i,j in zip(names,codes):\n",
    "            info(i,j)\n",
    "            print('------------------------')"
   ]
  },
  {
   "cell_type": "code",
   "execution_count": 152,
   "id": "23667583-67d2-4438-8a60-3d64016c6e8d",
   "metadata": {},
   "outputs": [],
   "source": [
    "t=Test()"
   ]
  },
  {
   "cell_type": "code",
   "execution_count": 154,
   "id": "1d870517-356f-4d70-be8a-39790a633bbf",
   "metadata": {},
   "outputs": [
    {
     "name": "stdout",
     "output_type": "stream",
     "text": [
      "Name- Rahul\n",
      "Code- 101\n",
      "------------------------\n",
      "Name- Megha\n",
      "Code- 102\n",
      "------------------------\n",
      "Name- Uday\n",
      "Code- 103\n",
      "------------------------\n",
      "Name- Ashish\n",
      "Code- 104\n",
      "------------------------\n",
      "Name- Aditya\n",
      "Code- 105\n",
      "------------------------\n"
     ]
    }
   ],
   "source": [
    "t.show_details(names,codes)"
   ]
  },
  {
   "cell_type": "markdown",
   "id": "e6adbac6-f85c-4b48-a6b8-9a1f96b97cb0",
   "metadata": {},
   "source": [
    "# Inheritance"
   ]
  },
  {
   "cell_type": "code",
   "execution_count": 157,
   "id": "4e29ba27-bbde-4af3-81a0-aa9d92ac07a5",
   "metadata": {},
   "outputs": [],
   "source": [
    "# - When two or more classes have the parent child relationship then we call it as inheritance."
   ]
  },
  {
   "cell_type": "markdown",
   "id": "a3ca5c9f-5b68-49ae-9c40-4274eb652318",
   "metadata": {},
   "source": [
    "### Calling the members of one class into another class"
   ]
  },
  {
   "cell_type": "code",
   "execution_count": 160,
   "id": "34221286-37b2-4c9f-a152-99fc58f404bb",
   "metadata": {},
   "outputs": [],
   "source": [
    "# - We can achive this by two ways.\n",
    "# - 1- By composition (has a relationship) \n",
    "# - 2- By inheritance (is a relationship)"
   ]
  },
  {
   "cell_type": "markdown",
   "id": "2ce8b936-2b72-473a-a0fd-06818e5e0b8f",
   "metadata": {},
   "source": [
    "### By Composition"
   ]
  },
  {
   "cell_type": "code",
   "execution_count": 166,
   "id": "9b2ac32c-df68-4d39-b9f3-f88ab5859859",
   "metadata": {},
   "outputs": [],
   "source": [
    "# - If we call the memebers of one class into another class by using the class name or the reference variable.\n",
    "# - Then we call it as composition."
   ]
  },
  {
   "cell_type": "code",
   "execution_count": 168,
   "id": "64e09c1c-2ad3-4ed6-81bc-278d23db4b72",
   "metadata": {},
   "outputs": [],
   "source": [
    "class Engine:\n",
    "    'Engine related functionaliries'"
   ]
  },
  {
   "cell_type": "code",
   "execution_count": 170,
   "id": "92a30619-03fe-4232-b806-7d7753bea574",
   "metadata": {},
   "outputs": [],
   "source": [
    "class Car:\n",
    "    'It uses some engine related functionalities'"
   ]
  },
  {
   "cell_type": "code",
   "execution_count": 174,
   "id": "786dbc8c-db3e-4c46-83ba-9632e8433c7a",
   "metadata": {},
   "outputs": [],
   "source": [
    "class Engine:\n",
    "    \n",
    "    def f1(self):\n",
    "        print('Engine functionality-1')\n",
    "\n",
    "    def f2(self):\n",
    "        print('Engine functionality-2')"
   ]
  },
  {
   "cell_type": "code",
   "execution_count": 178,
   "id": "e140b4b2-d179-4f0e-bc9f-183cc469afbd",
   "metadata": {},
   "outputs": [
    {
     "name": "stdout",
     "output_type": "stream",
     "text": [
      "Engine functionality-1\n",
      "Engine functionality-2\n"
     ]
    }
   ],
   "source": [
    "class Car:\n",
    "    e=Engine()\n",
    "    e.f1()\n",
    "    e.f2()"
   ]
  },
  {
   "cell_type": "code",
   "execution_count": 190,
   "id": "c79e936a-dcfc-47d1-9f57-5c5053f3d005",
   "metadata": {},
   "outputs": [],
   "source": [
    "class Engine:\n",
    "    a=10\n",
    "    def __init__(self):\n",
    "        self.b=20\n",
    "\n",
    "    def m1(self):\n",
    "        print('Engine related functionality')"
   ]
  },
  {
   "cell_type": "code",
   "execution_count": 198,
   "id": "c98e0090-cf1a-4dbb-b8f8-76b64056ce3d",
   "metadata": {},
   "outputs": [],
   "source": [
    "class Car:\n",
    "    def __init__(self):\n",
    "        self.engine=Engine()\n",
    "\n",
    "    def show(self):\n",
    "        print('Car is using Engine class functionalities')\n",
    "        print(self.engine.a)\n",
    "        print(self.engine.b)\n",
    "        self.engine.m1()"
   ]
  },
  {
   "cell_type": "code",
   "execution_count": 200,
   "id": "f8135761-48da-46a3-bbd8-1010369c3f22",
   "metadata": {},
   "outputs": [],
   "source": [
    "c=Car()"
   ]
  },
  {
   "cell_type": "code",
   "execution_count": 202,
   "id": "187a6c16-6531-4ed6-ad1c-2628c18e0ef5",
   "metadata": {},
   "outputs": [
    {
     "name": "stdout",
     "output_type": "stream",
     "text": [
      "Car is using Engine class functionalities\n",
      "10\n",
      "20\n",
      "Engine related functionality\n"
     ]
    }
   ],
   "source": [
    "c.show()"
   ]
  },
  {
   "cell_type": "code",
   "execution_count": 227,
   "id": "1060aea8-1902-4203-bd34-4e622c88e5ba",
   "metadata": {},
   "outputs": [],
   "source": [
    "class Employee:\n",
    "    def __init__(self,name,number,car):\n",
    "        self.e_name=name\n",
    "        self.e_no=number\n",
    "        self.car=car\n",
    "\n",
    "    def empinfo(self):\n",
    "        print(f'Name of the employee- {self.e_name}')\n",
    "        print(f'Employee code is- {self.e_no}')\n",
    "        print('-------------Car info---------------')\n",
    "        print(self.car.name)\n",
    "        print(self.car.model)\n",
    "        print(self.car.color)"
   ]
  },
  {
   "cell_type": "code",
   "execution_count": 239,
   "id": "3aefaf8f-5577-4275-a409-46230a3fd8b2",
   "metadata": {},
   "outputs": [],
   "source": [
    "class Car:\n",
    "    def __init__(self,name,model,color):\n",
    "        self.name=name\n",
    "        self.model=model\n",
    "        self.color=color"
   ]
  },
  {
   "cell_type": "code",
   "execution_count": 241,
   "id": "10dff099-a8bf-4fed-8217-f66f90d15d52",
   "metadata": {},
   "outputs": [],
   "source": [
    "c=Car('Scorpio',2024,'Black')"
   ]
  },
  {
   "cell_type": "code",
   "execution_count": 243,
   "id": "7b5d43d6-693a-49e0-9c16-4481fb4ca3d7",
   "metadata": {},
   "outputs": [],
   "source": [
    "e=Employee('Dhruv', 111, c)"
   ]
  },
  {
   "cell_type": "code",
   "execution_count": 245,
   "id": "92f8a01b-9c50-4dd9-9579-2e6cc6c90868",
   "metadata": {},
   "outputs": [
    {
     "name": "stdout",
     "output_type": "stream",
     "text": [
      "Name of the employee- Dhruv\n",
      "Employee code is- 111\n",
      "-------------Car info---------------\n",
      "Scorpio\n",
      "2024\n",
      "Black\n"
     ]
    }
   ],
   "source": [
    "e.empinfo()"
   ]
  },
  {
   "cell_type": "code",
   "execution_count": 247,
   "id": "f9245378-5cb8-46ab-b89a-4fae3bb8227e",
   "metadata": {},
   "outputs": [],
   "source": [
    "class Car:\n",
    "    def __init__(self,name,model,color):\n",
    "        self.name=name\n",
    "        self.model=model\n",
    "        self.color=color\n",
    "    \n",
    "    def car_info(self):\n",
    "        print(f'Car name- {self.name}')\n",
    "        print(f'Car model- {self.model}')\n",
    "        print(f'Car color- {self.color}')"
   ]
  },
  {
   "cell_type": "code",
   "execution_count": 255,
   "id": "72495197-f853-4863-a6df-77478058bc23",
   "metadata": {},
   "outputs": [],
   "source": [
    "slt=Car('Seltos','GT', 'Cherry')"
   ]
  },
  {
   "cell_type": "code",
   "execution_count": 257,
   "id": "515c0ac1-792b-4676-a2ea-d5b95d6c8684",
   "metadata": {},
   "outputs": [
    {
     "name": "stdout",
     "output_type": "stream",
     "text": [
      "Car name- Seltos\n",
      "Car model- GT\n",
      "Car color- Cherry\n"
     ]
    }
   ],
   "source": [
    "slt.car_info()"
   ]
  },
  {
   "cell_type": "code",
   "execution_count": 270,
   "id": "c96ecddb-0e3e-4788-b435-c44bdfde6d04",
   "metadata": {},
   "outputs": [],
   "source": [
    "class Employee:\n",
    "    def __init__(self,name,number,car):\n",
    "        self.e_name=name\n",
    "        self.e_no=number\n",
    "        self.car=car\n",
    "\n",
    "    def empinfo(self):\n",
    "        print(f'Name of the employee- {self.e_name}')\n",
    "        print(f'Employee code is- {self.e_no}')\n",
    "        \n",
    "        print('-------------Car info---------------')\n",
    "        self.car.car_info()"
   ]
  },
  {
   "cell_type": "code",
   "execution_count": 272,
   "id": "1af5f666-11c1-4027-a380-4e8391a397da",
   "metadata": {},
   "outputs": [],
   "source": [
    "e=Employee('Dhruv',111,slt)"
   ]
  },
  {
   "cell_type": "code",
   "execution_count": 274,
   "id": "74221b9f-6072-4253-a55f-55b1a1331d80",
   "metadata": {},
   "outputs": [
    {
     "name": "stdout",
     "output_type": "stream",
     "text": [
      "Name of the employee- Dhruv\n",
      "Employee code is- 111\n",
      "-------------Car info---------------\n",
      "Car name- Seltos\n",
      "Car model- GT\n",
      "Car color- Cherry\n"
     ]
    }
   ],
   "source": [
    "e.empinfo()"
   ]
  },
  {
   "cell_type": "markdown",
   "id": "d4e80e4f-2b77-45f7-9c1f-68b5a00a1058",
   "metadata": {},
   "source": [
    "### By Inheritance"
   ]
  },
  {
   "cell_type": "code",
   "execution_count": 332,
   "id": "176087bf-a31c-4815-a60f-94f945eef658",
   "metadata": {},
   "outputs": [],
   "source": [
    "# - It is also known as is a relationship.\n",
    "# - Here two classes have the parent child relationship.\n",
    "# - The child class inherits the properties of the parent class.\n",
    "# - The child class can use all the variables or methods available in the parent class.\n",
    "# - Parent class can not use the properties of the child class."
   ]
  },
  {
   "cell_type": "code",
   "execution_count": 298,
   "id": "18ae7c35-805a-4e20-8327-7616d4b2aedb",
   "metadata": {},
   "outputs": [],
   "source": [
    "class P:\n",
    "    pass"
   ]
  },
  {
   "cell_type": "code",
   "execution_count": 288,
   "id": "70f95156-ac62-47c0-beb5-77a755285e02",
   "metadata": {},
   "outputs": [],
   "source": [
    "class C:\n",
    "    pass"
   ]
  },
  {
   "cell_type": "code",
   "execution_count": null,
   "id": "d9414c2c-ceb2-47c1-a4c4-dfcbfd26d288",
   "metadata": {},
   "outputs": [],
   "source": []
  },
  {
   "cell_type": "code",
   "execution_count": 302,
   "id": "884ed3b3-bea3-4ad7-80ba-ed5b383284bc",
   "metadata": {},
   "outputs": [],
   "source": [
    "class P:\n",
    "    pass"
   ]
  },
  {
   "cell_type": "code",
   "execution_count": 304,
   "id": "cae1b75a-7766-4621-b257-59471c2851cb",
   "metadata": {},
   "outputs": [],
   "source": [
    "class C(P):\n",
    "    pass"
   ]
  },
  {
   "cell_type": "code",
   "execution_count": 306,
   "id": "2efc7afd-e350-4c90-b7d4-994a5e3d262d",
   "metadata": {},
   "outputs": [],
   "source": [
    "# Class C is the child class of class P"
   ]
  },
  {
   "cell_type": "code",
   "execution_count": 316,
   "id": "d28200fa-68e1-4036-87f8-f2eed399679a",
   "metadata": {},
   "outputs": [],
   "source": [
    "class P:\n",
    "    a=10\n",
    "    \n",
    "    def __init__(self):\n",
    "        self.b=20\n",
    "\n",
    "    def m1(self):\n",
    "        print('Instance method of paret class')\n",
    "\n",
    "    @staticmethod\n",
    "    def m2():\n",
    "        print('Static method of parent class')\n",
    "\n",
    "    @classmethod\n",
    "    def m3(cls):\n",
    "        print('class method of parent class')"
   ]
  },
  {
   "cell_type": "code",
   "execution_count": 318,
   "id": "eeeaa6ca-7664-4953-ac94-0a9f9f9de44e",
   "metadata": {},
   "outputs": [],
   "source": [
    "class C(P):\n",
    "    pass"
   ]
  },
  {
   "cell_type": "code",
   "execution_count": 320,
   "id": "31414d95-acd5-4008-b0b2-53888d8cc14f",
   "metadata": {},
   "outputs": [],
   "source": [
    "c=C()"
   ]
  },
  {
   "cell_type": "code",
   "execution_count": 322,
   "id": "5dcbf19b-2bf5-4f33-9c21-24e0b5aaffae",
   "metadata": {},
   "outputs": [
    {
     "data": {
      "text/plain": [
       "10"
      ]
     },
     "execution_count": 322,
     "metadata": {},
     "output_type": "execute_result"
    }
   ],
   "source": [
    "c.a"
   ]
  },
  {
   "cell_type": "code",
   "execution_count": 324,
   "id": "3551dea9-0c93-44ff-b90e-ad772956a0c2",
   "metadata": {},
   "outputs": [
    {
     "data": {
      "text/plain": [
       "20"
      ]
     },
     "execution_count": 324,
     "metadata": {},
     "output_type": "execute_result"
    }
   ],
   "source": [
    "c.b"
   ]
  },
  {
   "cell_type": "code",
   "execution_count": 326,
   "id": "a332ad6c-1d26-4686-91ee-c3aa73116067",
   "metadata": {},
   "outputs": [
    {
     "name": "stdout",
     "output_type": "stream",
     "text": [
      "Instance method of paret class\n"
     ]
    }
   ],
   "source": [
    "c.m1()"
   ]
  },
  {
   "cell_type": "code",
   "execution_count": 328,
   "id": "e2754a0f-72d2-464b-837e-92b4814b0aab",
   "metadata": {},
   "outputs": [
    {
     "name": "stdout",
     "output_type": "stream",
     "text": [
      "Static method of parent class\n"
     ]
    }
   ],
   "source": [
    "c.m2()"
   ]
  },
  {
   "cell_type": "code",
   "execution_count": 330,
   "id": "4699bf42-d7fd-4b70-86c3-badd8610342b",
   "metadata": {},
   "outputs": [
    {
     "name": "stdout",
     "output_type": "stream",
     "text": [
      "class method of parent class\n"
     ]
    }
   ],
   "source": [
    "c.m3()"
   ]
  },
  {
   "cell_type": "code",
   "execution_count": 334,
   "id": "b90dc212-1bc4-4222-9e48-505476e88638",
   "metadata": {},
   "outputs": [],
   "source": [
    "class P:\n",
    "    a=10\n",
    "    \n",
    "    def __init__(self):\n",
    "        self.b=20\n",
    "\n",
    "    def m1(self):\n",
    "        print('Instance method of paret class')\n",
    "\n",
    "    @staticmethod\n",
    "    def m2():\n",
    "        print('Static method of parent class')\n",
    "\n",
    "    @classmethod\n",
    "    def m3(cls):\n",
    "        print('class method of parent class')"
   ]
  },
  {
   "cell_type": "code",
   "execution_count": 336,
   "id": "a66003ed-cd22-4129-b5d1-837657937bf2",
   "metadata": {},
   "outputs": [],
   "source": [
    "class C(P):\n",
    "    x=100\n",
    "    def f1(self):\n",
    "        print('Instance method of child class')"
   ]
  },
  {
   "cell_type": "code",
   "execution_count": 338,
   "id": "f1517353-e0d7-4c1c-b9cc-18805087cbbf",
   "metadata": {},
   "outputs": [],
   "source": [
    "p=P()"
   ]
  },
  {
   "cell_type": "code",
   "execution_count": 340,
   "id": "2668f316-e1a3-453b-9599-54158448a223",
   "metadata": {},
   "outputs": [
    {
     "ename": "AttributeError",
     "evalue": "'P' object has no attribute 'x'",
     "output_type": "error",
     "traceback": [
      "\u001b[1;31m---------------------------------------------------------------------------\u001b[0m",
      "\u001b[1;31mAttributeError\u001b[0m                            Traceback (most recent call last)",
      "Cell \u001b[1;32mIn[340], line 1\u001b[0m\n\u001b[1;32m----> 1\u001b[0m p\u001b[38;5;241m.\u001b[39mx\n",
      "\u001b[1;31mAttributeError\u001b[0m: 'P' object has no attribute 'x'"
     ]
    }
   ],
   "source": [
    "p.x"
   ]
  },
  {
   "cell_type": "code",
   "execution_count": 342,
   "id": "8e08674a-2fe1-45f1-b4f9-d21eb98831f4",
   "metadata": {},
   "outputs": [
    {
     "ename": "AttributeError",
     "evalue": "'P' object has no attribute 'f1'",
     "output_type": "error",
     "traceback": [
      "\u001b[1;31m---------------------------------------------------------------------------\u001b[0m",
      "\u001b[1;31mAttributeError\u001b[0m                            Traceback (most recent call last)",
      "Cell \u001b[1;32mIn[342], line 1\u001b[0m\n\u001b[1;32m----> 1\u001b[0m p\u001b[38;5;241m.\u001b[39mf1()\n",
      "\u001b[1;31mAttributeError\u001b[0m: 'P' object has no attribute 'f1'"
     ]
    }
   ],
   "source": [
    "p.f1()"
   ]
  },
  {
   "cell_type": "code",
   "execution_count": 344,
   "id": "b4e0d274-40f2-4945-8457-8212cfdca626",
   "metadata": {},
   "outputs": [],
   "source": [
    "c=C()"
   ]
  },
  {
   "cell_type": "code",
   "execution_count": 346,
   "id": "b660f505-e3ee-47ca-8128-c6000f0cbf75",
   "metadata": {},
   "outputs": [
    {
     "data": {
      "text/plain": [
       "100"
      ]
     },
     "execution_count": 346,
     "metadata": {},
     "output_type": "execute_result"
    }
   ],
   "source": [
    "c.x"
   ]
  },
  {
   "cell_type": "code",
   "execution_count": 348,
   "id": "99309ffc-01d9-4165-bed1-85a85748a43a",
   "metadata": {},
   "outputs": [
    {
     "name": "stdout",
     "output_type": "stream",
     "text": [
      "Instance method of paret class\n"
     ]
    }
   ],
   "source": [
    "c.m1()"
   ]
  },
  {
   "cell_type": "code",
   "execution_count": 350,
   "id": "54b34deb-449b-46de-ba99-54e3ee9e850c",
   "metadata": {},
   "outputs": [
    {
     "data": {
      "text/plain": [
       "10"
      ]
     },
     "execution_count": 350,
     "metadata": {},
     "output_type": "execute_result"
    }
   ],
   "source": [
    "c.a"
   ]
  },
  {
   "cell_type": "code",
   "execution_count": 352,
   "id": "8348066a-3fa5-48b3-a32d-985290aacf92",
   "metadata": {},
   "outputs": [
    {
     "name": "stdout",
     "output_type": "stream",
     "text": [
      "Instance method of paret class\n"
     ]
    }
   ],
   "source": [
    "c.m1()"
   ]
  },
  {
   "cell_type": "code",
   "execution_count": 354,
   "id": "34136100-d1ce-4a03-b9ea-efeca93a4897",
   "metadata": {},
   "outputs": [
    {
     "name": "stdout",
     "output_type": "stream",
     "text": [
      "Static method of parent class\n"
     ]
    }
   ],
   "source": [
    "c.m2()"
   ]
  },
  {
   "cell_type": "code",
   "execution_count": 356,
   "id": "e8be06a6-b068-4775-8daa-acad78dac72f",
   "metadata": {},
   "outputs": [
    {
     "name": "stdout",
     "output_type": "stream",
     "text": [
      "class method of parent class\n"
     ]
    }
   ],
   "source": [
    "c.m3()"
   ]
  },
  {
   "cell_type": "code",
   "execution_count": 359,
   "id": "f0915714-f34b-44bd-a334-c8c265e85fb1",
   "metadata": {},
   "outputs": [],
   "source": [
    "class P:\n",
    "    def __init__(self):\n",
    "        self.a=20"
   ]
  },
  {
   "cell_type": "code",
   "execution_count": 361,
   "id": "b7638e10-1846-4a2c-8e5e-ff1ec4595a24",
   "metadata": {},
   "outputs": [],
   "source": [
    "class C(P):\n",
    "    pass"
   ]
  },
  {
   "cell_type": "code",
   "execution_count": 363,
   "id": "e0dc2929-4176-47d9-b00d-0d12c3155b6f",
   "metadata": {},
   "outputs": [],
   "source": [
    "c=C()"
   ]
  },
  {
   "cell_type": "code",
   "execution_count": 365,
   "id": "058d3a4c-027f-4660-b9bc-d377028abad3",
   "metadata": {},
   "outputs": [
    {
     "data": {
      "text/plain": [
       "20"
      ]
     },
     "execution_count": 365,
     "metadata": {},
     "output_type": "execute_result"
    }
   ],
   "source": [
    "c.a"
   ]
  },
  {
   "cell_type": "code",
   "execution_count": 373,
   "id": "c3dd67e0-0af7-42bc-a3cd-d1e436823e12",
   "metadata": {},
   "outputs": [],
   "source": [
    "class P:\n",
    "    def __init__(self):\n",
    "        self.a=10"
   ]
  },
  {
   "cell_type": "code",
   "execution_count": 393,
   "id": "ced3a92f-f792-43ee-8da0-8bfc3778e1b1",
   "metadata": {},
   "outputs": [],
   "source": [
    "class C(P):\n",
    "    def __init__(self):\n",
    "        self.b=20"
   ]
  },
  {
   "cell_type": "code",
   "execution_count": 395,
   "id": "9db8b653-4acf-403d-82e9-7fc9191ac87a",
   "metadata": {},
   "outputs": [],
   "source": [
    "c=C()"
   ]
  },
  {
   "cell_type": "code",
   "execution_count": 397,
   "id": "1fb1ac53-f51d-4c9e-b4d3-4d709bc1c97e",
   "metadata": {},
   "outputs": [
    {
     "data": {
      "text/plain": [
       "20"
      ]
     },
     "execution_count": 397,
     "metadata": {},
     "output_type": "execute_result"
    }
   ],
   "source": [
    "c.b"
   ]
  },
  {
   "cell_type": "code",
   "execution_count": 399,
   "id": "3bedc256-63cb-4d09-8aa5-1097ebb12e81",
   "metadata": {},
   "outputs": [
    {
     "ename": "AttributeError",
     "evalue": "'C' object has no attribute 'a'",
     "output_type": "error",
     "traceback": [
      "\u001b[1;31m---------------------------------------------------------------------------\u001b[0m",
      "\u001b[1;31mAttributeError\u001b[0m                            Traceback (most recent call last)",
      "Cell \u001b[1;32mIn[399], line 1\u001b[0m\n\u001b[1;32m----> 1\u001b[0m c\u001b[38;5;241m.\u001b[39ma\n",
      "\u001b[1;31mAttributeError\u001b[0m: 'C' object has no attribute 'a'"
     ]
    }
   ],
   "source": [
    "c.a"
   ]
  },
  {
   "cell_type": "markdown",
   "id": "c2a4baaf-d355-4559-b3f8-65559c2ac5d4",
   "metadata": {},
   "source": [
    "# When the child class and the parent both have the constructors"
   ]
  },
  {
   "cell_type": "code",
   "execution_count": 410,
   "id": "fba153e0-5d78-4845-8001-57ab492f0af8",
   "metadata": {},
   "outputs": [],
   "source": [
    "# - When both the classes have the constructor then only the child class constructor gets executed.\n",
    "# - If we want the parent class constructor to be executed as well then we use super()"
   ]
  },
  {
   "cell_type": "code",
   "execution_count": 404,
   "id": "87c793fa-9660-4a5b-9014-cdd57805abeb",
   "metadata": {},
   "outputs": [],
   "source": [
    "class P:\n",
    "    def __init__():\n",
    "        prit('Parent class constructor')"
   ]
  },
  {
   "cell_type": "code",
   "execution_count": 406,
   "id": "16925a57-292b-4bdf-b29c-7444ae8096a8",
   "metadata": {},
   "outputs": [],
   "source": [
    "class C(P):\n",
    "    def __init__(self):\n",
    "        print('Child class constructor')"
   ]
  },
  {
   "cell_type": "code",
   "execution_count": 408,
   "id": "541e801d-5d1b-44ed-8df9-0a6d101db320",
   "metadata": {},
   "outputs": [
    {
     "name": "stdout",
     "output_type": "stream",
     "text": [
      "Child class constructor\n"
     ]
    }
   ],
   "source": [
    "c=C()"
   ]
  },
  {
   "cell_type": "code",
   "execution_count": 437,
   "id": "ecaeb376-827a-4765-bb7a-281fc0ad4962",
   "metadata": {},
   "outputs": [],
   "source": [
    "class P:\n",
    "    def __init__(self):\n",
    "        print('Parent class constructor')"
   ]
  },
  {
   "cell_type": "code",
   "execution_count": 439,
   "id": "d49702a2-f906-4e8e-a265-c3d1cfa3215d",
   "metadata": {},
   "outputs": [],
   "source": [
    "class C(P):\n",
    "    def __init__(self):\n",
    "        super().__init__()\n",
    "        print('Child class constructor')"
   ]
  },
  {
   "cell_type": "code",
   "execution_count": 441,
   "id": "ff186c72-bc9f-421e-ab54-ee96c81f6197",
   "metadata": {},
   "outputs": [
    {
     "name": "stdout",
     "output_type": "stream",
     "text": [
      "Parent class constructor\n",
      "Child class constructor\n"
     ]
    }
   ],
   "source": [
    "c=C()"
   ]
  },
  {
   "cell_type": "code",
   "execution_count": 463,
   "id": "1045eff5-73dd-4330-abe4-9f4cdd863c1a",
   "metadata": {},
   "outputs": [],
   "source": [
    "class Person:\n",
    "    def __init__(self):\n",
    "        self.name='Rahul'\n",
    "        self.gender='male'\n",
    "\n",
    "    def per_info(self):\n",
    "        print(self.name)\n",
    "        print(self.gender)"
   ]
  },
  {
   "cell_type": "code",
   "execution_count": 491,
   "id": "beb21402-74ca-4d15-b310-3a450af15460",
   "metadata": {},
   "outputs": [],
   "source": [
    "class Employee(Person):\n",
    "    def __init__(self):\n",
    "        super().__init__()\n",
    "        self.e_no=111\n",
    "        self.department='Data'\n",
    "\n",
    "    def emp_info(self):\n",
    "        print(self.name)\n",
    "        print(self.gender)\n",
    "        print(self.e_no)\n",
    "        print(self.department)"
   ]
  },
  {
   "cell_type": "code",
   "execution_count": 483,
   "id": "f29319d4-07df-4a9f-9609-f4450e1e9b8d",
   "metadata": {},
   "outputs": [],
   "source": [
    "p=Person()"
   ]
  },
  {
   "cell_type": "code",
   "execution_count": 485,
   "id": "438121e7-e0ec-42ee-a8a2-e500159df3ab",
   "metadata": {},
   "outputs": [
    {
     "name": "stdout",
     "output_type": "stream",
     "text": [
      "Rahul\n",
      "male\n"
     ]
    }
   ],
   "source": [
    "p.per_info()"
   ]
  },
  {
   "cell_type": "code",
   "execution_count": 493,
   "id": "a8fe281f-5bac-41e1-93dd-10d05f942137",
   "metadata": {},
   "outputs": [],
   "source": [
    "e=Employee()"
   ]
  },
  {
   "cell_type": "code",
   "execution_count": 495,
   "id": "29150ba3-19fc-48be-8f96-fdf40d8b8665",
   "metadata": {},
   "outputs": [
    {
     "name": "stdout",
     "output_type": "stream",
     "text": [
      "Rahul\n",
      "male\n",
      "111\n",
      "Data\n"
     ]
    }
   ],
   "source": [
    "e.emp_info()"
   ]
  },
  {
   "cell_type": "markdown",
   "id": "cc8eac78-37e7-4524-b05b-41980923fcc5",
   "metadata": {},
   "source": [
    "### Suppose we have the same methods in both the classes"
   ]
  },
  {
   "cell_type": "code",
   "execution_count": 506,
   "id": "f68dadad-62b5-41e7-97f4-096ddff54262",
   "metadata": {},
   "outputs": [],
   "source": [
    "class P:\n",
    "    def __init__(self):\n",
    "        print('Parent class constructor')\n",
    "\n",
    "    def m1(self):\n",
    "        print('Parent class m1 method')"
   ]
  },
  {
   "cell_type": "code",
   "execution_count": 520,
   "id": "1072a578-9dc2-4ebe-b7c2-3716a8d99451",
   "metadata": {},
   "outputs": [],
   "source": [
    "class C(P):\n",
    "    def __init__(self):\n",
    "        print('Child class constructor')\n",
    "\n",
    "    def m1(self):\n",
    "        print('Child class m1 method')"
   ]
  },
  {
   "cell_type": "code",
   "execution_count": 510,
   "id": "1ace30b8-8353-4f91-beb1-44e1ab254494",
   "metadata": {},
   "outputs": [
    {
     "name": "stdout",
     "output_type": "stream",
     "text": [
      "Child class constructor\n"
     ]
    }
   ],
   "source": [
    "c=C()"
   ]
  },
  {
   "cell_type": "code",
   "execution_count": 512,
   "id": "edb906f4-ed86-406e-87b5-043a6a6b60d6",
   "metadata": {},
   "outputs": [
    {
     "name": "stdout",
     "output_type": "stream",
     "text": [
      "Parent class m1 method\n"
     ]
    }
   ],
   "source": [
    "c.m1()"
   ]
  },
  {
   "cell_type": "code",
   "execution_count": 514,
   "id": "bfedb266-e56b-47c6-8a9b-8d8f13bc878a",
   "metadata": {},
   "outputs": [],
   "source": [
    "# Child -> Parent"
   ]
  },
  {
   "cell_type": "code",
   "execution_count": 518,
   "id": "5ca97543-4fd7-445a-8965-f6400ea14250",
   "metadata": {},
   "outputs": [],
   "source": [
    "class P:\n",
    "    def __init__(self):\n",
    "        print('Parent class constructor')\n",
    "\n",
    "    def m1(self):\n",
    "        print('Parent class m1 method')"
   ]
  },
  {
   "cell_type": "code",
   "execution_count": 524,
   "id": "8b4ebcaa-92d3-4e80-a548-c361b3e25b65",
   "metadata": {},
   "outputs": [],
   "source": [
    "class C(P):\n",
    "    def __init__(self):\n",
    "        print('Child class constructor')\n",
    "\n",
    "    def m1(self):\n",
    "        super().m1()\n",
    "        print('Child class m1 method')"
   ]
  },
  {
   "cell_type": "code",
   "execution_count": 526,
   "id": "533877fe-08a1-4440-8ac9-572d54f1bf83",
   "metadata": {},
   "outputs": [
    {
     "name": "stdout",
     "output_type": "stream",
     "text": [
      "Child class constructor\n"
     ]
    }
   ],
   "source": [
    "c=C()"
   ]
  },
  {
   "cell_type": "code",
   "execution_count": 528,
   "id": "22d59578-871a-48c2-bdd8-5147754a3db6",
   "metadata": {},
   "outputs": [
    {
     "name": "stdout",
     "output_type": "stream",
     "text": [
      "Parent class m1 method\n",
      "Child class m1 method\n"
     ]
    }
   ],
   "source": [
    "c.m1()"
   ]
  },
  {
   "cell_type": "code",
   "execution_count": 595,
   "id": "7a13ca00-b206-4720-8626-e32940b5b5b1",
   "metadata": {},
   "outputs": [],
   "source": [
    "class Person:\n",
    "    def __init__(self):\n",
    "        self.name='Deepak'\n",
    "        self.gender='male'\n",
    "\n",
    "    def info(self):\n",
    "        print(f'Name- {self.name}')\n",
    "        print(f'Gender- {self.gender}')"
   ]
  },
  {
   "cell_type": "code",
   "execution_count": 597,
   "id": "3c9da685-fc04-4cab-8693-85c473f1ff1d",
   "metadata": {},
   "outputs": [],
   "source": [
    "class Employee(Person):\n",
    "    def __init__(self):\n",
    "        super().__init__()\n",
    "        self.code=111\n",
    "        self.salary=82000\n",
    "\n",
    "    def info(self):\n",
    "        super().info()\n",
    "        print(f'Employee code- {self.code}')\n",
    "        print(f'Employee salary- {self.salary}')"
   ]
  },
  {
   "cell_type": "code",
   "execution_count": 599,
   "id": "9dd9f4de-d4b1-4146-870c-4e68a274e180",
   "metadata": {},
   "outputs": [],
   "source": [
    "e=Employee()"
   ]
  },
  {
   "cell_type": "code",
   "execution_count": 601,
   "id": "934c88b6-9891-4d1d-88c4-bba4a2bb9c1d",
   "metadata": {},
   "outputs": [
    {
     "name": "stdout",
     "output_type": "stream",
     "text": [
      "Name- Deepak\n",
      "Gender- male\n",
      "Employee code- 111\n",
      "Employee salary- 82000\n"
     ]
    }
   ],
   "source": [
    "e.info()"
   ]
  },
  {
   "cell_type": "markdown",
   "id": "9c380e0c-6469-4ecb-be39-8472c33b72d9",
   "metadata": {},
   "source": [
    "### Constructors with arguments"
   ]
  },
  {
   "cell_type": "code",
   "execution_count": 608,
   "id": "b9ccf87e-4b14-4a3f-84f8-e6d736a4c266",
   "metadata": {},
   "outputs": [],
   "source": [
    "class Person:\n",
    "    def __init__(self,name,gender):\n",
    "        self.name=name\n",
    "        self.gender=gender\n",
    "\n",
    "    def info(self):\n",
    "        print(f'Name- {self.name}')\n",
    "        print(f'Gender- {self.gender}')"
   ]
  },
  {
   "cell_type": "code",
   "execution_count": 610,
   "id": "31ce35c6-5a27-45bb-a51e-2a93500a21ed",
   "metadata": {},
   "outputs": [],
   "source": [
    "class Employee(Person):\n",
    "    def __init__(self,code,sal):\n",
    "        super().__init__()\n",
    "        self.code=code\n",
    "        self.salary=sal\n",
    "\n",
    "    def info(self):\n",
    "        super().info()\n",
    "        print(f'Employee code- {self.code}')\n",
    "        print(f'Employee salary- {self.salary}')"
   ]
  },
  {
   "cell_type": "code",
   "execution_count": 612,
   "id": "27997e27-c485-4ba3-a1a6-82a3d5c09c62",
   "metadata": {},
   "outputs": [
    {
     "ename": "TypeError",
     "evalue": "Person.__init__() missing 2 required positional arguments: 'name' and 'gender'",
     "output_type": "error",
     "traceback": [
      "\u001b[1;31m---------------------------------------------------------------------------\u001b[0m",
      "\u001b[1;31mTypeError\u001b[0m                                 Traceback (most recent call last)",
      "Cell \u001b[1;32mIn[612], line 1\u001b[0m\n\u001b[1;32m----> 1\u001b[0m e\u001b[38;5;241m=\u001b[39mEmployee(\u001b[38;5;241m111\u001b[39m,\u001b[38;5;241m77000\u001b[39m)\n",
      "Cell \u001b[1;32mIn[610], line 3\u001b[0m, in \u001b[0;36mEmployee.__init__\u001b[1;34m(self, code, sal)\u001b[0m\n\u001b[0;32m      2\u001b[0m \u001b[38;5;28;01mdef\u001b[39;00m \u001b[38;5;21m__init__\u001b[39m(\u001b[38;5;28mself\u001b[39m,code,sal):\n\u001b[1;32m----> 3\u001b[0m     \u001b[38;5;28msuper\u001b[39m()\u001b[38;5;241m.\u001b[39m\u001b[38;5;21m__init__\u001b[39m()\n\u001b[0;32m      4\u001b[0m     \u001b[38;5;28mself\u001b[39m\u001b[38;5;241m.\u001b[39mcode\u001b[38;5;241m=\u001b[39mcode\n\u001b[0;32m      5\u001b[0m     \u001b[38;5;28mself\u001b[39m\u001b[38;5;241m.\u001b[39msalary\u001b[38;5;241m=\u001b[39msal\n",
      "\u001b[1;31mTypeError\u001b[0m: Person.__init__() missing 2 required positional arguments: 'name' and 'gender'"
     ]
    }
   ],
   "source": [
    "e=Employee(111,77000)"
   ]
  },
  {
   "cell_type": "code",
   "execution_count": 618,
   "id": "5c7e8ede-8ec3-42c1-a7a3-90fe78285451",
   "metadata": {},
   "outputs": [],
   "source": [
    "class Person:\n",
    "    def __init__(self,name,gender):\n",
    "        self.name=name\n",
    "        self.gender=gender\n",
    "\n",
    "    def info(self):\n",
    "        print(f'Name- {self.name}')\n",
    "        print(f'Gender- {self.gender}')"
   ]
  },
  {
   "cell_type": "code",
   "execution_count": 620,
   "id": "09514c43-c5fe-4b61-9d68-1323fba2671f",
   "metadata": {},
   "outputs": [],
   "source": [
    "class Employee(Person):\n",
    "    def __init__(self,name,gender,code,sal):\n",
    "        super().__init__(name,gender)\n",
    "        self.code=code\n",
    "        self.salary=sal\n",
    "\n",
    "    def info(self):\n",
    "        super().info()\n",
    "        print(f'Employee code- {self.code}')\n",
    "        print(f'Employee salary- {self.salary}')"
   ]
  },
  {
   "cell_type": "code",
   "execution_count": 622,
   "id": "d9d78eb0-335a-4f1d-b2ae-2f19c7e72e78",
   "metadata": {},
   "outputs": [],
   "source": [
    "e=Employee('Uday','Male',111,84000)"
   ]
  },
  {
   "cell_type": "code",
   "execution_count": 624,
   "id": "c84d291f-6ed4-4314-aa8f-ac53de0b06d9",
   "metadata": {},
   "outputs": [
    {
     "name": "stdout",
     "output_type": "stream",
     "text": [
      "Name- Uday\n",
      "Gender- Male\n",
      "Employee code- 111\n",
      "Employee salary- 84000\n"
     ]
    }
   ],
   "source": [
    "e.info()"
   ]
  },
  {
   "cell_type": "markdown",
   "id": "91f6ae71-a860-45f4-a42b-01cccba807d5",
   "metadata": {},
   "source": [
    "### When to use Inheritance"
   ]
  },
  {
   "cell_type": "code",
   "execution_count": 627,
   "id": "4242a316-7127-4674-9830-acd56eab0981",
   "metadata": {},
   "outputs": [],
   "source": [
    "# - When we want incremental functionalities then we use inheritence."
   ]
  },
  {
   "cell_type": "code",
   "execution_count": 633,
   "id": "6e5b57f0-6826-407c-97ae-c3a68ce5fc97",
   "metadata": {},
   "outputs": [],
   "source": [
    "# Seltos\n",
    "# Base Model- 2 fetaures\n",
    "# Base+1 model- 3 fetaures (b from base + 1 additional)\n",
    "# HTK+- 5 features (2-base + 1-(base+1) 2 additional )\n",
    "# Top model- 7 features (All features from the previous models + 2 additional)"
   ]
  },
  {
   "cell_type": "markdown",
   "id": "cc6acc34-e05b-4ee6-9bbe-c6c16ed7c930",
   "metadata": {},
   "source": [
    "### When to use composition"
   ]
  },
  {
   "cell_type": "code",
   "execution_count": 637,
   "id": "3396bdbb-ff59-4c35-bdb4-762a6bd8c597",
   "metadata": {},
   "outputs": [],
   "source": [
    "# - When there is no generational relationship.\n",
    "# - We just borrow or use functionalities from some other class."
   ]
  },
  {
   "cell_type": "code",
   "execution_count": 639,
   "id": "6cd12680-6e3d-4552-87dd-abed7ff139ba",
   "metadata": {},
   "outputs": [],
   "source": [
    "# Employee + Car -> Composition\n",
    "# Person + Employee -> Inheritance"
   ]
  },
  {
   "cell_type": "markdown",
   "id": "c4f09a6f-a2f2-4ded-9381-5230cc64adbb",
   "metadata": {},
   "source": [
    "# Types of Inheritance"
   ]
  },
  {
   "cell_type": "code",
   "execution_count": 642,
   "id": "cc206456-6df9-4c0c-81ae-63d9bfb3e883",
   "metadata": {},
   "outputs": [],
   "source": [
    "# - 1- Single Inheritance\n",
    "# - 2- Hiearchical Inheritance\n",
    "# - 3- Multilevel Inheritance\n",
    "# - 4- Multiple Inheritance\n",
    "# - 5- Cyclic Inheritance\n",
    "# - 6- Hybrid Inheritance"
   ]
  },
  {
   "cell_type": "markdown",
   "id": "6f71bf16-278d-4f9c-96b1-2e639f3644dc",
   "metadata": {},
   "source": [
    "# Single Inheritance"
   ]
  },
  {
   "cell_type": "code",
   "execution_count": 645,
   "id": "12600a39-fb5a-4e50-84f0-dc0815369e40",
   "metadata": {},
   "outputs": [],
   "source": [
    "# - When we have one parent and one child of it then it is single Inheritance."
   ]
  },
  {
   "cell_type": "code",
   "execution_count": 647,
   "id": "42e3708c-e117-4e15-a37b-6534e867d491",
   "metadata": {},
   "outputs": [],
   "source": [
    "class P:\n",
    "    pass"
   ]
  },
  {
   "cell_type": "code",
   "execution_count": 649,
   "id": "663f5796-6adb-46e6-a7df-6610e367cba0",
   "metadata": {},
   "outputs": [],
   "source": [
    "class C(P):\n",
    "    pass"
   ]
  },
  {
   "cell_type": "markdown",
   "id": "49dcc6f3-43e3-4428-91be-d14c180eedb5",
   "metadata": {},
   "source": [
    "# Hierarchical Inheritance"
   ]
  },
  {
   "cell_type": "code",
   "execution_count": 652,
   "id": "ba2214e7-0330-438b-a820-c0733a686c3d",
   "metadata": {},
   "outputs": [],
   "source": [
    "# - It is also known as one to many relationship.\n",
    "# - One parent class has multiple child classed.\n",
    "# - All the child classes can access the properties of the parent class."
   ]
  },
  {
   "cell_type": "code",
   "execution_count": 654,
   "id": "1f35d924-5615-441e-9558-9b723c1de280",
   "metadata": {},
   "outputs": [],
   "source": [
    "class P:\n",
    "    pass"
   ]
  },
  {
   "cell_type": "code",
   "execution_count": 656,
   "id": "57a43d45-eb71-4fc8-a2ae-84512e55b722",
   "metadata": {},
   "outputs": [],
   "source": [
    "class C1(P):\n",
    "    pass"
   ]
  },
  {
   "cell_type": "code",
   "execution_count": 658,
   "id": "7b86c0a9-a3e9-456f-9111-3c41b84dbf2a",
   "metadata": {},
   "outputs": [],
   "source": [
    "class C2(P):\n",
    "    pass"
   ]
  },
  {
   "cell_type": "code",
   "execution_count": 660,
   "id": "2cc0f4dc-aed5-4eb3-8bac-439dfceae6a8",
   "metadata": {},
   "outputs": [],
   "source": [
    "class C3(P):\n",
    "    pass"
   ]
  },
  {
   "cell_type": "code",
   "execution_count": 662,
   "id": "41979001-3fcd-4fe0-8b53-bfd2db6a635b",
   "metadata": {},
   "outputs": [],
   "source": [
    "class Parent:\n",
    "    a=10\n",
    "\n",
    "    def __init__(self):\n",
    "        self.b=20\n",
    "\n",
    "    def m1(self):\n",
    "        print('m1 method')\n",
    "\n",
    "    @staticmethod\n",
    "    def m2():\n",
    "        print('m2 method')\n",
    "\n",
    "    @classmethod\n",
    "    def m3(cls):\n",
    "        print('m3 method')"
   ]
  },
  {
   "cell_type": "code",
   "execution_count": 666,
   "id": "66d5ae76-2ed3-476d-a5d5-db2f1c002a66",
   "metadata": {},
   "outputs": [],
   "source": [
    "class C1(Parent):\n",
    "    pass\n",
    "\n",
    "class C2(Parent):\n",
    "    pass\n",
    "\n",
    "class C3(Parent):\n",
    "    pass"
   ]
  },
  {
   "cell_type": "code",
   "execution_count": 668,
   "id": "9810db36-27c4-4b83-8407-4a3d9baf0207",
   "metadata": {},
   "outputs": [],
   "source": [
    "j=C1()\n",
    "k=C2()\n",
    "l=C3()"
   ]
  },
  {
   "cell_type": "code",
   "execution_count": 670,
   "id": "3c83f200-d909-4847-bda1-9a7620984a8f",
   "metadata": {},
   "outputs": [
    {
     "data": {
      "text/plain": [
       "10"
      ]
     },
     "execution_count": 670,
     "metadata": {},
     "output_type": "execute_result"
    }
   ],
   "source": [
    "j.a"
   ]
  },
  {
   "cell_type": "code",
   "execution_count": 672,
   "id": "513681cf-9a8c-49da-a567-8a6719926320",
   "metadata": {},
   "outputs": [
    {
     "name": "stdout",
     "output_type": "stream",
     "text": [
      "m1 method\n"
     ]
    }
   ],
   "source": [
    "j.m1()"
   ]
  },
  {
   "cell_type": "code",
   "execution_count": 674,
   "id": "f372d656-e79c-4c03-897b-7aa09efeac49",
   "metadata": {},
   "outputs": [
    {
     "name": "stdout",
     "output_type": "stream",
     "text": [
      "m2 method\n"
     ]
    }
   ],
   "source": [
    "j.m2()"
   ]
  },
  {
   "cell_type": "code",
   "execution_count": 676,
   "id": "c694c257-ff40-4f32-a7ad-a059a0d0271f",
   "metadata": {},
   "outputs": [
    {
     "name": "stdout",
     "output_type": "stream",
     "text": [
      "m3 method\n"
     ]
    }
   ],
   "source": [
    "j.m3()"
   ]
  },
  {
   "cell_type": "code",
   "execution_count": 678,
   "id": "6472bf43-d207-4aa3-b1b0-0699768d271a",
   "metadata": {},
   "outputs": [
    {
     "data": {
      "text/plain": [
       "10"
      ]
     },
     "execution_count": 678,
     "metadata": {},
     "output_type": "execute_result"
    }
   ],
   "source": [
    "k.a"
   ]
  },
  {
   "cell_type": "code",
   "execution_count": 680,
   "id": "65df8ecf-6dfa-43a1-af1c-d5e9006f5a67",
   "metadata": {},
   "outputs": [
    {
     "name": "stdout",
     "output_type": "stream",
     "text": [
      "m1 method\n"
     ]
    }
   ],
   "source": [
    "k.m1()"
   ]
  },
  {
   "cell_type": "code",
   "execution_count": 682,
   "id": "37a5e7bd-322f-4603-8537-0ba614dd08f0",
   "metadata": {},
   "outputs": [
    {
     "name": "stdout",
     "output_type": "stream",
     "text": [
      "m2 method\n"
     ]
    }
   ],
   "source": [
    "k.m2()"
   ]
  },
  {
   "cell_type": "code",
   "execution_count": 684,
   "id": "0333f5a7-ecfa-4a2a-8662-8b22d40323ea",
   "metadata": {},
   "outputs": [
    {
     "data": {
      "text/plain": [
       "10"
      ]
     },
     "execution_count": 684,
     "metadata": {},
     "output_type": "execute_result"
    }
   ],
   "source": [
    "l.a"
   ]
  },
  {
   "cell_type": "code",
   "execution_count": 686,
   "id": "1884bdf4-a96a-4134-9a2f-90b5a130ba8c",
   "metadata": {},
   "outputs": [
    {
     "name": "stdout",
     "output_type": "stream",
     "text": [
      "m1 method\n"
     ]
    }
   ],
   "source": [
    "l.m1()"
   ]
  },
  {
   "cell_type": "code",
   "execution_count": 688,
   "id": "67433c2e-5c10-4e86-a9ea-4a9bcaff5037",
   "metadata": {},
   "outputs": [
    {
     "name": "stdout",
     "output_type": "stream",
     "text": [
      "m2 method\n"
     ]
    }
   ],
   "source": [
    "l.m2()"
   ]
  },
  {
   "cell_type": "code",
   "execution_count": 734,
   "id": "e0865540-f25b-4a93-b6b7-18a4d77cb159",
   "metadata": {},
   "outputs": [],
   "source": [
    "class P:\n",
    "    def m1(self):\n",
    "        print('Parent class method')"
   ]
  },
  {
   "cell_type": "code",
   "execution_count": 736,
   "id": "7ce354ac-c8c0-4f16-a5ea-f4802ff3f462",
   "metadata": {},
   "outputs": [],
   "source": [
    "class C1(P):\n",
    "    def j(self):\n",
    "        print('Class C1 method')"
   ]
  },
  {
   "cell_type": "code",
   "execution_count": 737,
   "id": "852d7ade-48b9-44b8-a484-96b2e19bfd98",
   "metadata": {},
   "outputs": [],
   "source": [
    "class C2(P):\n",
    "    def k(self):\n",
    "        print('Class C2 method')"
   ]
  },
  {
   "cell_type": "code",
   "execution_count": 740,
   "id": "b040f736-35b8-42f5-92e3-812323d63f64",
   "metadata": {},
   "outputs": [],
   "source": [
    "class C3(P):\n",
    "    def l(self):\n",
    "        print('Class C3 method')"
   ]
  },
  {
   "cell_type": "code",
   "execution_count": 742,
   "id": "7b33cbb4-2a62-4394-ab6d-8638c6edeb1f",
   "metadata": {},
   "outputs": [],
   "source": [
    "c1=C1()\n",
    "c2=C2()\n",
    "c3=C3()"
   ]
  },
  {
   "cell_type": "code",
   "execution_count": 744,
   "id": "8f819fbb-afca-468c-838c-979382bb7e79",
   "metadata": {},
   "outputs": [
    {
     "name": "stdout",
     "output_type": "stream",
     "text": [
      "Parent class method\n"
     ]
    }
   ],
   "source": [
    "c1.m1()"
   ]
  },
  {
   "cell_type": "code",
   "execution_count": 746,
   "id": "2b5a1095-f4a4-4e37-b030-d052407fc72f",
   "metadata": {},
   "outputs": [
    {
     "name": "stdout",
     "output_type": "stream",
     "text": [
      "Parent class method\n"
     ]
    }
   ],
   "source": [
    "c2.m1()"
   ]
  },
  {
   "cell_type": "code",
   "execution_count": 748,
   "id": "4e207c3b-569c-4d67-9b2e-e1e1f2c474ed",
   "metadata": {},
   "outputs": [
    {
     "name": "stdout",
     "output_type": "stream",
     "text": [
      "Parent class method\n"
     ]
    }
   ],
   "source": [
    "c3.m1()"
   ]
  },
  {
   "cell_type": "code",
   "execution_count": 750,
   "id": "70314be3-2663-4787-82ab-47b8593dadba",
   "metadata": {},
   "outputs": [
    {
     "name": "stdout",
     "output_type": "stream",
     "text": [
      "Class C1 method\n"
     ]
    }
   ],
   "source": [
    "c1.j()"
   ]
  },
  {
   "cell_type": "code",
   "execution_count": 752,
   "id": "15928ad2-62b4-451f-9fa6-78b11910c72d",
   "metadata": {},
   "outputs": [
    {
     "name": "stdout",
     "output_type": "stream",
     "text": [
      "Class C2 method\n"
     ]
    }
   ],
   "source": [
    "c2.k()"
   ]
  },
  {
   "cell_type": "code",
   "execution_count": 754,
   "id": "4837f7b3-832f-4008-b877-b872eb263028",
   "metadata": {},
   "outputs": [
    {
     "name": "stdout",
     "output_type": "stream",
     "text": [
      "Class C3 method\n"
     ]
    }
   ],
   "source": [
    "c3.l()"
   ]
  },
  {
   "cell_type": "code",
   "execution_count": 756,
   "id": "2676f3c4-4131-4ffb-9494-67841227a25f",
   "metadata": {},
   "outputs": [
    {
     "ename": "AttributeError",
     "evalue": "'C1' object has no attribute 'k'",
     "output_type": "error",
     "traceback": [
      "\u001b[1;31m---------------------------------------------------------------------------\u001b[0m",
      "\u001b[1;31mAttributeError\u001b[0m                            Traceback (most recent call last)",
      "Cell \u001b[1;32mIn[756], line 1\u001b[0m\n\u001b[1;32m----> 1\u001b[0m c1\u001b[38;5;241m.\u001b[39mk()\n",
      "\u001b[1;31mAttributeError\u001b[0m: 'C1' object has no attribute 'k'"
     ]
    }
   ],
   "source": [
    "c1.k()"
   ]
  },
  {
   "cell_type": "code",
   "execution_count": 758,
   "id": "42ccbd25-66a1-45a4-b554-d5469b72bb25",
   "metadata": {},
   "outputs": [
    {
     "ename": "AttributeError",
     "evalue": "'C1' object has no attribute 'l'",
     "output_type": "error",
     "traceback": [
      "\u001b[1;31m---------------------------------------------------------------------------\u001b[0m",
      "\u001b[1;31mAttributeError\u001b[0m                            Traceback (most recent call last)",
      "Cell \u001b[1;32mIn[758], line 1\u001b[0m\n\u001b[1;32m----> 1\u001b[0m c1\u001b[38;5;241m.\u001b[39ml()\n",
      "\u001b[1;31mAttributeError\u001b[0m: 'C1' object has no attribute 'l'"
     ]
    }
   ],
   "source": [
    "c1.l()"
   ]
  },
  {
   "cell_type": "code",
   "execution_count": 760,
   "id": "47af1537-7c03-4510-b034-58457da4cacb",
   "metadata": {},
   "outputs": [
    {
     "ename": "AttributeError",
     "evalue": "'C2' object has no attribute 'l'",
     "output_type": "error",
     "traceback": [
      "\u001b[1;31m---------------------------------------------------------------------------\u001b[0m",
      "\u001b[1;31mAttributeError\u001b[0m                            Traceback (most recent call last)",
      "Cell \u001b[1;32mIn[760], line 1\u001b[0m\n\u001b[1;32m----> 1\u001b[0m c2\u001b[38;5;241m.\u001b[39ml()\n",
      "\u001b[1;31mAttributeError\u001b[0m: 'C2' object has no attribute 'l'"
     ]
    }
   ],
   "source": [
    "c2.l()"
   ]
  },
  {
   "cell_type": "code",
   "execution_count": 762,
   "id": "115786ab-f537-4fef-afb5-723b5bd472ec",
   "metadata": {},
   "outputs": [
    {
     "ename": "AttributeError",
     "evalue": "'C2' object has no attribute 'j'",
     "output_type": "error",
     "traceback": [
      "\u001b[1;31m---------------------------------------------------------------------------\u001b[0m",
      "\u001b[1;31mAttributeError\u001b[0m                            Traceback (most recent call last)",
      "Cell \u001b[1;32mIn[762], line 1\u001b[0m\n\u001b[1;32m----> 1\u001b[0m c2\u001b[38;5;241m.\u001b[39mj()\n",
      "\u001b[1;31mAttributeError\u001b[0m: 'C2' object has no attribute 'j'"
     ]
    }
   ],
   "source": [
    "c2.j()"
   ]
  },
  {
   "cell_type": "code",
   "execution_count": 764,
   "id": "3948adbf-c221-43a0-900b-f840acf03d86",
   "metadata": {},
   "outputs": [
    {
     "ename": "AttributeError",
     "evalue": "'C3' object has no attribute 'k'",
     "output_type": "error",
     "traceback": [
      "\u001b[1;31m---------------------------------------------------------------------------\u001b[0m",
      "\u001b[1;31mAttributeError\u001b[0m                            Traceback (most recent call last)",
      "Cell \u001b[1;32mIn[764], line 1\u001b[0m\n\u001b[1;32m----> 1\u001b[0m c3\u001b[38;5;241m.\u001b[39mk()\n",
      "\u001b[1;31mAttributeError\u001b[0m: 'C3' object has no attribute 'k'"
     ]
    }
   ],
   "source": [
    "c3.k()"
   ]
  },
  {
   "cell_type": "code",
   "execution_count": 766,
   "id": "c4ca0c98-2c58-4a17-9676-1d472ca0c470",
   "metadata": {},
   "outputs": [
    {
     "ename": "AttributeError",
     "evalue": "'C3' object has no attribute 'j'",
     "output_type": "error",
     "traceback": [
      "\u001b[1;31m---------------------------------------------------------------------------\u001b[0m",
      "\u001b[1;31mAttributeError\u001b[0m                            Traceback (most recent call last)",
      "Cell \u001b[1;32mIn[766], line 1\u001b[0m\n\u001b[1;32m----> 1\u001b[0m c3\u001b[38;5;241m.\u001b[39mj()\n",
      "\u001b[1;31mAttributeError\u001b[0m: 'C3' object has no attribute 'j'"
     ]
    }
   ],
   "source": [
    "c3.j()"
   ]
  },
  {
   "cell_type": "code",
   "execution_count": 768,
   "id": "fa1bcda9-d0b6-4cb3-8abc-0e32dabc0ae9",
   "metadata": {},
   "outputs": [],
   "source": [
    "class Company:\n",
    "    pass"
   ]
  },
  {
   "cell_type": "code",
   "execution_count": 770,
   "id": "ab9d1fc8-4cb3-4701-9e1b-ac81b7480999",
   "metadata": {},
   "outputs": [],
   "source": [
    "class HR(Company):\n",
    "    pass"
   ]
  },
  {
   "cell_type": "code",
   "execution_count": 772,
   "id": "dab27858-1320-4b8f-a233-d0fa30627662",
   "metadata": {},
   "outputs": [],
   "source": [
    "class Marketing(Company):\n",
    "    pass"
   ]
  },
  {
   "cell_type": "code",
   "execution_count": 774,
   "id": "20e36d4a-2d6b-4ca0-8c0c-af0a15cfc469",
   "metadata": {},
   "outputs": [],
   "source": [
    "class Finance(Company):\n",
    "    pass"
   ]
  },
  {
   "cell_type": "markdown",
   "id": "73105797-d59c-4f26-9ef7-187b6ccbca57",
   "metadata": {},
   "source": [
    "# Multiple Inheritance"
   ]
  },
  {
   "cell_type": "code",
   "execution_count": 779,
   "id": "80dd6ab4-f7e2-413a-af20-c49330b3678c",
   "metadata": {},
   "outputs": [],
   "source": [
    "# - It is also known as many to one relationship.\n",
    "# - In this a child clas has multiple parent class."
   ]
  },
  {
   "cell_type": "code",
   "execution_count": 781,
   "id": "fe6f1158-bd92-473a-b284-09eb2ff4de45",
   "metadata": {},
   "outputs": [],
   "source": [
    "class P1:\n",
    "    pass"
   ]
  },
  {
   "cell_type": "code",
   "execution_count": 783,
   "id": "bdd07c99-167b-4bb8-8542-5ad5f95b80ac",
   "metadata": {},
   "outputs": [],
   "source": [
    "class P2:\n",
    "    pass"
   ]
  },
  {
   "cell_type": "code",
   "execution_count": 787,
   "id": "db9ec842-746e-4b0a-8a7f-22d7bd3cfd8b",
   "metadata": {},
   "outputs": [],
   "source": [
    "class C(P1,P2):\n",
    "    pass"
   ]
  },
  {
   "cell_type": "code",
   "execution_count": 823,
   "id": "951db48d-a5b0-44a4-9a3f-9d24ccd08d99",
   "metadata": {},
   "outputs": [],
   "source": [
    "class P1:\n",
    "    def __init__(self):\n",
    "        self.a=10\n",
    "\n",
    "    def m1(self):\n",
    "        print('m1 method')\n",
    "\n",
    "    @staticmethod\n",
    "    def m2():\n",
    "        print('m2 method')\n",
    "\n",
    "    @classmethod\n",
    "    def m3(cls):\n",
    "        print('m3 method')"
   ]
  },
  {
   "cell_type": "code",
   "execution_count": 844,
   "id": "01f66c68-e87a-41ee-a540-9e833c2c4745",
   "metadata": {},
   "outputs": [],
   "source": [
    "class P2:\n",
    "#     def __init__(self):\n",
    "#         self.b=10\n",
    "\n",
    "    def j1(self):\n",
    "        print('j1 method')\n",
    "\n",
    "    @staticmethod\n",
    "    def j2():\n",
    "        print('j2 method')\n",
    "\n",
    "    @classmethod\n",
    "    def j3(cls):\n",
    "        print('j3 method')"
   ]
  },
  {
   "cell_type": "code",
   "execution_count": 846,
   "id": "88078eb5-85b9-4e82-b233-9ae71a53496c",
   "metadata": {},
   "outputs": [],
   "source": [
    "class C(P1,P2):\n",
    "    pass"
   ]
  },
  {
   "cell_type": "code",
   "execution_count": 848,
   "id": "5c791f28-01e2-41d6-a1d5-266b73274cef",
   "metadata": {},
   "outputs": [],
   "source": [
    "c=C()"
   ]
  },
  {
   "cell_type": "code",
   "execution_count": 850,
   "id": "8f4a3453-7faf-428f-bd25-c16442eec534",
   "metadata": {},
   "outputs": [
    {
     "data": {
      "text/plain": [
       "10"
      ]
     },
     "execution_count": 850,
     "metadata": {},
     "output_type": "execute_result"
    }
   ],
   "source": [
    "c.a"
   ]
  },
  {
   "cell_type": "code",
   "execution_count": 852,
   "id": "6f63c566-3268-40f3-818e-f6dd7b3f7327",
   "metadata": {},
   "outputs": [
    {
     "name": "stdout",
     "output_type": "stream",
     "text": [
      "j1 method\n"
     ]
    }
   ],
   "source": [
    "c.j1()"
   ]
  },
  {
   "cell_type": "code",
   "execution_count": 854,
   "id": "ac7428e8-f79a-4ee8-96db-4622fd8cb31b",
   "metadata": {},
   "outputs": [
    {
     "name": "stdout",
     "output_type": "stream",
     "text": [
      "m1 method\n"
     ]
    }
   ],
   "source": [
    "c.m1()"
   ]
  },
  {
   "cell_type": "code",
   "execution_count": 856,
   "id": "435cac54-7ce6-4336-a755-f3ccf342ad43",
   "metadata": {},
   "outputs": [
    {
     "name": "stdout",
     "output_type": "stream",
     "text": [
      "m2 method\n"
     ]
    }
   ],
   "source": [
    "c.m2()"
   ]
  },
  {
   "cell_type": "code",
   "execution_count": 858,
   "id": "53095a7f-bc1c-49ef-b4e4-2f430ece992d",
   "metadata": {},
   "outputs": [
    {
     "name": "stdout",
     "output_type": "stream",
     "text": [
      "m3 method\n"
     ]
    }
   ],
   "source": [
    "c.m3()"
   ]
  },
  {
   "cell_type": "code",
   "execution_count": 860,
   "id": "af62297e-3e68-487d-aa64-3f9f45467790",
   "metadata": {},
   "outputs": [
    {
     "name": "stdout",
     "output_type": "stream",
     "text": [
      "j3 method\n"
     ]
    }
   ],
   "source": [
    "c.j3()"
   ]
  },
  {
   "cell_type": "markdown",
   "id": "c24bda66-c4ea-4bf2-bc67-65308992caa5",
   "metadata": {},
   "source": [
    "### If both the parents have the same methods?"
   ]
  },
  {
   "cell_type": "code",
   "execution_count": 864,
   "id": "f3ea407f-ea8f-4d58-838c-436d8c4a87d3",
   "metadata": {},
   "outputs": [],
   "source": [
    "class P1:\n",
    "    def m1(self):\n",
    "        print('P1 method')"
   ]
  },
  {
   "cell_type": "code",
   "execution_count": 866,
   "id": "745ef28c-2afc-418c-a003-46252c5a794d",
   "metadata": {},
   "outputs": [],
   "source": [
    "class P2:\n",
    "    def m1(self):\n",
    "        print('P2 method')"
   ]
  },
  {
   "cell_type": "code",
   "execution_count": 870,
   "id": "2627a64e-1145-49dc-9d96-1812b6c5d469",
   "metadata": {},
   "outputs": [],
   "source": [
    "class C(P1,P2):\n",
    "    pass"
   ]
  },
  {
   "cell_type": "code",
   "execution_count": 872,
   "id": "dfde473e-1bb4-481c-a8e9-50653b1349c3",
   "metadata": {},
   "outputs": [],
   "source": [
    "c=C()"
   ]
  },
  {
   "cell_type": "code",
   "execution_count": 874,
   "id": "f4f0b781-9a4c-48ae-ad5d-80d2eb5147a9",
   "metadata": {},
   "outputs": [
    {
     "name": "stdout",
     "output_type": "stream",
     "text": [
      "P1 method\n"
     ]
    }
   ],
   "source": [
    "c.m1()"
   ]
  },
  {
   "cell_type": "code",
   "execution_count": 876,
   "id": "509323da-b50f-4a8f-8a17-764310360585",
   "metadata": {},
   "outputs": [],
   "source": [
    "class C(P2,P1):\n",
    "    pass"
   ]
  },
  {
   "cell_type": "code",
   "execution_count": 878,
   "id": "e96f0e76-0993-441f-a168-4cf8c2b9fa74",
   "metadata": {},
   "outputs": [],
   "source": [
    "c=C()"
   ]
  },
  {
   "cell_type": "code",
   "execution_count": 880,
   "id": "7d9435b2-4ef1-4233-b3ba-403ac4e76708",
   "metadata": {},
   "outputs": [
    {
     "name": "stdout",
     "output_type": "stream",
     "text": [
      "P2 method\n"
     ]
    }
   ],
   "source": [
    "c.m1()"
   ]
  },
  {
   "cell_type": "code",
   "execution_count": 882,
   "id": "a7214e06-c544-40f6-a267-b4f0d3088a8e",
   "metadata": {},
   "outputs": [],
   "source": [
    "class P1:\n",
    "    def __init__(self):\n",
    "        print('P1 constructor')"
   ]
  },
  {
   "cell_type": "code",
   "execution_count": 884,
   "id": "e363a84c-eaa1-4ab1-98c9-5c9394b5fe08",
   "metadata": {},
   "outputs": [],
   "source": [
    "class P2:\n",
    "    def __init__(self):\n",
    "        print('P2 constructor')"
   ]
  },
  {
   "cell_type": "code",
   "execution_count": 888,
   "id": "28ec644e-35b0-4fcf-9fe5-19320ebab65b",
   "metadata": {},
   "outputs": [],
   "source": [
    "class C(P1,P2):\n",
    "    pass"
   ]
  },
  {
   "cell_type": "code",
   "execution_count": 890,
   "id": "87a0cd2c-3dc6-4c73-8628-1d7c2d26362d",
   "metadata": {},
   "outputs": [
    {
     "name": "stdout",
     "output_type": "stream",
     "text": [
      "P1 constructor\n"
     ]
    }
   ],
   "source": [
    "c=C()"
   ]
  },
  {
   "cell_type": "code",
   "execution_count": 892,
   "id": "f5e8f3ff-2280-4b35-9922-fcee1f17fb39",
   "metadata": {},
   "outputs": [],
   "source": [
    "class C(P2,P1):\n",
    "    pass"
   ]
  },
  {
   "cell_type": "code",
   "execution_count": 894,
   "id": "348d6b1e-1615-42cc-83fb-8f849a7bb151",
   "metadata": {},
   "outputs": [
    {
     "name": "stdout",
     "output_type": "stream",
     "text": [
      "P2 constructor\n"
     ]
    }
   ],
   "source": [
    "c=C()"
   ]
  },
  {
   "cell_type": "code",
   "execution_count": 896,
   "id": "4c8508e7-cc3a-4d86-b23e-a914ed2d3c0c",
   "metadata": {},
   "outputs": [],
   "source": [
    "class P1:\n",
    "    def __init__(self):\n",
    "        self.a=10"
   ]
  },
  {
   "cell_type": "code",
   "execution_count": 898,
   "id": "8bf35b65-137a-4a98-85d4-8e5c0c1ee4a7",
   "metadata": {},
   "outputs": [],
   "source": [
    "class P2:\n",
    "    def __init__(self):\n",
    "        self.b=20"
   ]
  },
  {
   "cell_type": "code",
   "execution_count": 904,
   "id": "c4700c2d-715b-46cb-bb76-21c6c01a28d3",
   "metadata": {},
   "outputs": [],
   "source": [
    "class C(P1,P2):\n",
    "    pass"
   ]
  },
  {
   "cell_type": "code",
   "execution_count": 906,
   "id": "5a433123-8e75-463d-8555-4d04b9fb3e28",
   "metadata": {},
   "outputs": [],
   "source": [
    "c=C()"
   ]
  },
  {
   "cell_type": "code",
   "execution_count": 908,
   "id": "51100f44-ff4d-4b36-94a9-7bae8aacf48b",
   "metadata": {},
   "outputs": [
    {
     "ename": "AttributeError",
     "evalue": "'C' object has no attribute 'b'",
     "output_type": "error",
     "traceback": [
      "\u001b[1;31m---------------------------------------------------------------------------\u001b[0m",
      "\u001b[1;31mAttributeError\u001b[0m                            Traceback (most recent call last)",
      "Cell \u001b[1;32mIn[908], line 1\u001b[0m\n\u001b[1;32m----> 1\u001b[0m c\u001b[38;5;241m.\u001b[39mb\n",
      "\u001b[1;31mAttributeError\u001b[0m: 'C' object has no attribute 'b'"
     ]
    }
   ],
   "source": [
    "c.b"
   ]
  },
  {
   "cell_type": "code",
   "execution_count": 910,
   "id": "82b9376f-2067-4635-bea8-61c90a0692ef",
   "metadata": {},
   "outputs": [
    {
     "data": {
      "text/plain": [
       "10"
      ]
     },
     "execution_count": 910,
     "metadata": {},
     "output_type": "execute_result"
    }
   ],
   "source": [
    "c.a"
   ]
  },
  {
   "cell_type": "markdown",
   "id": "55975e76-a3ea-4d7a-9d9b-81100cb44921",
   "metadata": {},
   "source": [
    "# Multilevel Inheritance"
   ]
  },
  {
   "cell_type": "code",
   "execution_count": 913,
   "id": "77cd2e27-0b86-4428-b995-e1fa15d0dd59",
   "metadata": {},
   "outputs": [],
   "source": [
    "# - When a child class has another child class then we call it as multilevel inheritance."
   ]
  },
  {
   "cell_type": "code",
   "execution_count": 915,
   "id": "2a2d9f24-7ebe-429a-9d83-9b3b90c45f61",
   "metadata": {},
   "outputs": [],
   "source": [
    "class P:\n",
    "    pass"
   ]
  },
  {
   "cell_type": "code",
   "execution_count": 917,
   "id": "d088b1b5-4fbe-4185-8eea-c745ebf09ed8",
   "metadata": {},
   "outputs": [],
   "source": [
    "class C(P):\n",
    "    pass"
   ]
  },
  {
   "cell_type": "code",
   "execution_count": 919,
   "id": "36026af0-063b-4ed6-a800-cf381c223b40",
   "metadata": {},
   "outputs": [],
   "source": [
    "class CC(C):\n",
    "    pass"
   ]
  },
  {
   "cell_type": "code",
   "execution_count": 923,
   "id": "d389e560-ab67-4c20-9360-fa7dcd556c16",
   "metadata": {},
   "outputs": [],
   "source": [
    "# p -> C -> CC"
   ]
  },
  {
   "cell_type": "code",
   "execution_count": 925,
   "id": "c4b133a1-db4a-4927-a2c6-012cc2b66067",
   "metadata": {},
   "outputs": [],
   "source": [
    "class P:\n",
    "    def m1(self):\n",
    "        print('Parent method')"
   ]
  },
  {
   "cell_type": "code",
   "execution_count": 927,
   "id": "f015eca5-f2d1-4a33-8131-74406d5b392c",
   "metadata": {},
   "outputs": [],
   "source": [
    "class C(P):\n",
    "    def m2(self):\n",
    "        print('Child method')"
   ]
  },
  {
   "cell_type": "code",
   "execution_count": 929,
   "id": "943cb977-759d-4fa8-bc05-c6897e0486ec",
   "metadata": {},
   "outputs": [],
   "source": [
    "class CC(C):\n",
    "    def m3(self):\n",
    "        print('Sub-Child method')"
   ]
  },
  {
   "cell_type": "code",
   "execution_count": 931,
   "id": "bc94f1de-dfd3-4fe4-a69c-f63556a30164",
   "metadata": {},
   "outputs": [],
   "source": [
    "c=CC()"
   ]
  },
  {
   "cell_type": "code",
   "execution_count": 933,
   "id": "c4ea8756-f2ae-4050-8277-aa54b3462190",
   "metadata": {},
   "outputs": [
    {
     "name": "stdout",
     "output_type": "stream",
     "text": [
      "Sub-Child method\n"
     ]
    }
   ],
   "source": [
    "c.m3()"
   ]
  },
  {
   "cell_type": "code",
   "execution_count": 935,
   "id": "87fb9218-5413-4640-9119-c7498c481299",
   "metadata": {},
   "outputs": [
    {
     "name": "stdout",
     "output_type": "stream",
     "text": [
      "Child method\n"
     ]
    }
   ],
   "source": [
    "c.m2()"
   ]
  },
  {
   "cell_type": "code",
   "execution_count": 937,
   "id": "e6600155-ed45-4f79-905e-c308bc36a2e9",
   "metadata": {},
   "outputs": [
    {
     "name": "stdout",
     "output_type": "stream",
     "text": [
      "Parent method\n"
     ]
    }
   ],
   "source": [
    "c.m1()"
   ]
  },
  {
   "cell_type": "code",
   "execution_count": 939,
   "id": "c9bf4857-14e0-4191-9924-961e26814a47",
   "metadata": {},
   "outputs": [],
   "source": [
    "c2=C()"
   ]
  },
  {
   "cell_type": "code",
   "execution_count": 941,
   "id": "135c2cf2-2f33-44f4-92cd-a0dd99e55353",
   "metadata": {},
   "outputs": [
    {
     "name": "stdout",
     "output_type": "stream",
     "text": [
      "Child method\n"
     ]
    }
   ],
   "source": [
    "c2.m2()"
   ]
  },
  {
   "cell_type": "code",
   "execution_count": 943,
   "id": "4da97202-58fc-4854-b049-59df121f1d43",
   "metadata": {},
   "outputs": [
    {
     "name": "stdout",
     "output_type": "stream",
     "text": [
      "Parent method\n"
     ]
    }
   ],
   "source": [
    "c2.m1()"
   ]
  },
  {
   "cell_type": "code",
   "execution_count": 945,
   "id": "8f0409ab-452b-41e1-8826-1c638746d7b4",
   "metadata": {},
   "outputs": [
    {
     "ename": "AttributeError",
     "evalue": "'C' object has no attribute 'm3'",
     "output_type": "error",
     "traceback": [
      "\u001b[1;31m---------------------------------------------------------------------------\u001b[0m",
      "\u001b[1;31mAttributeError\u001b[0m                            Traceback (most recent call last)",
      "Cell \u001b[1;32mIn[945], line 1\u001b[0m\n\u001b[1;32m----> 1\u001b[0m c2\u001b[38;5;241m.\u001b[39mm3()\n",
      "\u001b[1;31mAttributeError\u001b[0m: 'C' object has no attribute 'm3'"
     ]
    }
   ],
   "source": [
    "c2.m3()"
   ]
  },
  {
   "cell_type": "code",
   "execution_count": 947,
   "id": "39b0d0cc-90f2-41e5-9f02-9a45f970a482",
   "metadata": {},
   "outputs": [],
   "source": [
    "p=P()"
   ]
  },
  {
   "cell_type": "code",
   "execution_count": 949,
   "id": "1575d0d0-6237-4436-8d93-b891f5f7826b",
   "metadata": {},
   "outputs": [
    {
     "name": "stdout",
     "output_type": "stream",
     "text": [
      "Parent method\n"
     ]
    }
   ],
   "source": [
    "p.m1()"
   ]
  },
  {
   "cell_type": "code",
   "execution_count": 951,
   "id": "d5803058-9ab4-4a7a-881f-d1b74d97c6dd",
   "metadata": {},
   "outputs": [
    {
     "ename": "AttributeError",
     "evalue": "'P' object has no attribute 'm2'",
     "output_type": "error",
     "traceback": [
      "\u001b[1;31m---------------------------------------------------------------------------\u001b[0m",
      "\u001b[1;31mAttributeError\u001b[0m                            Traceback (most recent call last)",
      "Cell \u001b[1;32mIn[951], line 1\u001b[0m\n\u001b[1;32m----> 1\u001b[0m p\u001b[38;5;241m.\u001b[39mm2()\n",
      "\u001b[1;31mAttributeError\u001b[0m: 'P' object has no attribute 'm2'"
     ]
    }
   ],
   "source": [
    "p.m2()"
   ]
  },
  {
   "cell_type": "code",
   "execution_count": 953,
   "id": "a9961030-d897-4982-bede-44f35141cb0a",
   "metadata": {},
   "outputs": [
    {
     "ename": "AttributeError",
     "evalue": "'P' object has no attribute 'm3'",
     "output_type": "error",
     "traceback": [
      "\u001b[1;31m---------------------------------------------------------------------------\u001b[0m",
      "\u001b[1;31mAttributeError\u001b[0m                            Traceback (most recent call last)",
      "Cell \u001b[1;32mIn[953], line 1\u001b[0m\n\u001b[1;32m----> 1\u001b[0m p\u001b[38;5;241m.\u001b[39mm3()\n",
      "\u001b[1;31mAttributeError\u001b[0m: 'P' object has no attribute 'm3'"
     ]
    }
   ],
   "source": [
    "p.m3()"
   ]
  },
  {
   "cell_type": "markdown",
   "id": "e452bce6-2cd8-4599-a372-1da762779c9c",
   "metadata": {},
   "source": [
    "# Cyclic Inheritance"
   ]
  },
  {
   "cell_type": "code",
   "execution_count": 958,
   "id": "57b6c65b-7b61-4ba2-891c-231245869338",
   "metadata": {},
   "outputs": [],
   "source": [
    "# - When the child class is the parent class of its own parent class.\n",
    "# - It is just a concept and haven't been implemented in any of the languages yet."
   ]
  },
  {
   "cell_type": "markdown",
   "id": "2155955b-8e10-486c-a6f8-f7b9c3303b4d",
   "metadata": {},
   "source": [
    "# Hybrid Inheritance"
   ]
  },
  {
   "cell_type": "code",
   "execution_count": 961,
   "id": "3f82dbe6-b5bc-4c28-b4a9-67aa1464fbcf",
   "metadata": {},
   "outputs": [],
   "source": [
    "# - When we have more than one type of inheritance then we call it as hybrid inheritance."
   ]
  },
  {
   "cell_type": "code",
   "execution_count": 963,
   "id": "f26c210f-f078-4165-ab9f-5c20620ded5e",
   "metadata": {},
   "outputs": [],
   "source": [
    "class A:\n",
    "    pass\n",
    "\n",
    "class B:\n",
    "    pass\n",
    "\n",
    "class C:\n",
    "    pass"
   ]
  },
  {
   "cell_type": "code",
   "execution_count": 965,
   "id": "4179c4be-4102-460f-827d-36bc48d66c65",
   "metadata": {},
   "outputs": [],
   "source": [
    "class D(A,B,C):\n",
    "    pass"
   ]
  },
  {
   "cell_type": "code",
   "execution_count": 967,
   "id": "505c9c03-cae5-4fef-ae7a-9c91329bb969",
   "metadata": {},
   "outputs": [],
   "source": [
    "class E(D):\n",
    "    pass"
   ]
  },
  {
   "cell_type": "code",
   "execution_count": 969,
   "id": "5ea64a85-8e31-4a99-9f9c-c6be683e91b9",
   "metadata": {},
   "outputs": [],
   "source": [
    "class F(E):\n",
    "    pass"
   ]
  },
  {
   "cell_type": "code",
   "execution_count": 971,
   "id": "f0f5c327-da81-4764-ab63-2dd9df5a3369",
   "metadata": {},
   "outputs": [],
   "source": [
    "class G(E):\n",
    "    pass"
   ]
  },
  {
   "cell_type": "code",
   "execution_count": 975,
   "id": "306c5fde-b798-41fa-849a-3aba507b4527",
   "metadata": {},
   "outputs": [],
   "source": [
    "# MRO\n",
    "# C3 Algorithm\n",
    "# Polymorphism\n",
    "# Abstract class\n",
    "# Encapsulation\n",
    "# Garbage Collection"
   ]
  },
  {
   "cell_type": "code",
   "execution_count": null,
   "id": "eb5fd256-0c5f-47d4-b80e-678995609512",
   "metadata": {},
   "outputs": [],
   "source": []
  }
 ],
 "metadata": {
  "kernelspec": {
   "display_name": "Python 3 (ipykernel)",
   "language": "python",
   "name": "python3"
  },
  "language_info": {
   "codemirror_mode": {
    "name": "ipython",
    "version": 3
   },
   "file_extension": ".py",
   "mimetype": "text/x-python",
   "name": "python",
   "nbconvert_exporter": "python",
   "pygments_lexer": "ipython3",
   "version": "3.11.4"
  }
 },
 "nbformat": 4,
 "nbformat_minor": 5
}
