{
 "cells": [
  {
   "cell_type": "markdown",
   "id": "f7af138e-92ea-4b29-9075-43031d2af1fb",
   "metadata": {},
   "source": [
    "# MRO"
   ]
  },
  {
   "cell_type": "code",
   "execution_count": 2,
   "id": "70a7d582-5dcd-4be4-b576-8beb016a5343",
   "metadata": {},
   "outputs": [],
   "source": [
    "# Method Resolution Order"
   ]
  },
  {
   "cell_type": "code",
   "execution_count": 6,
   "id": "2f704d21-9b83-4c81-bf79-0cb471c0905c",
   "metadata": {},
   "outputs": [],
   "source": [
    "class A:\n",
    "    def m1(self):\n",
    "        print('A class')\n",
    "\n",
    "class B:\n",
    "    def m1(self):\n",
    "        print('B class')\n",
    "\n",
    "class C(A,B):\n",
    "    def m1(self):\n",
    "        print('C class')\n",
    "\n",
    "class D(C,B):\n",
    "    pass"
   ]
  },
  {
   "cell_type": "code",
   "execution_count": 8,
   "id": "d193e0d6-444d-4ec0-a78c-faf0d13c2862",
   "metadata": {},
   "outputs": [],
   "source": [
    "# - MRO is a concept thats is used to decide which method will get executed in a hierarchy of class.\n",
    "# - It is basically used with inheritance.\n",
    "# - MRO uses an algorithm to decide the order. The algorithm is known as C3 algorithm."
   ]
  },
  {
   "cell_type": "code",
   "execution_count": 10,
   "id": "9dbba5f9-2fb1-4ba0-8702-e982480fba84",
   "metadata": {},
   "outputs": [],
   "source": [
    "class A:\n",
    "    pass\n",
    "class B(A):\n",
    "    pass\n",
    "class C(A):\n",
    "    pass\n",
    "class D(B,C):\n",
    "    pass"
   ]
  },
  {
   "cell_type": "code",
   "execution_count": 12,
   "id": "0d20f7d5-4f5c-47df-804f-348f87e1ccdc",
   "metadata": {},
   "outputs": [
    {
     "data": {
      "text/plain": [
       "[__main__.A, object]"
      ]
     },
     "execution_count": 12,
     "metadata": {},
     "output_type": "execute_result"
    }
   ],
   "source": [
    "A.mro()"
   ]
  },
  {
   "cell_type": "code",
   "execution_count": 14,
   "id": "cb7f5c97-0df4-4adf-a0a9-2f707af02c8f",
   "metadata": {},
   "outputs": [
    {
     "data": {
      "text/plain": [
       "[__main__.B, __main__.A, object]"
      ]
     },
     "execution_count": 14,
     "metadata": {},
     "output_type": "execute_result"
    }
   ],
   "source": [
    "B.mro()"
   ]
  },
  {
   "cell_type": "code",
   "execution_count": 16,
   "id": "3cd0a4d9-a251-4056-beed-e7015cea3eb6",
   "metadata": {},
   "outputs": [
    {
     "data": {
      "text/plain": [
       "[__main__.C, __main__.A, object]"
      ]
     },
     "execution_count": 16,
     "metadata": {},
     "output_type": "execute_result"
    }
   ],
   "source": [
    "C.mro()"
   ]
  },
  {
   "cell_type": "code",
   "execution_count": 18,
   "id": "8165ef0f-9812-4224-be18-d641e8127bbf",
   "metadata": {},
   "outputs": [
    {
     "data": {
      "text/plain": [
       "[__main__.D, __main__.B, __main__.C, __main__.A, object]"
      ]
     },
     "execution_count": 18,
     "metadata": {},
     "output_type": "execute_result"
    }
   ],
   "source": [
    "D.mro()"
   ]
  },
  {
   "cell_type": "code",
   "execution_count": 20,
   "id": "1e4afc8a-80b1-48d5-b085-582176c259a1",
   "metadata": {},
   "outputs": [],
   "source": [
    "class A:\n",
    "    def m1():\n",
    "        print('A class method')\n",
    "class B(A):\n",
    "    def m1():\n",
    "        print('B class method')\n",
    "class C(A):\n",
    "    def m1():\n",
    "        print('C class method')\n",
    "class D(B,C):\n",
    "    def m1():\n",
    "        print('D class method')"
   ]
  },
  {
   "cell_type": "code",
   "execution_count": 22,
   "id": "4947bb5e-d1d9-4492-aa56-82454dcec2a3",
   "metadata": {},
   "outputs": [
    {
     "name": "stdout",
     "output_type": "stream",
     "text": [
      "D class method\n"
     ]
    }
   ],
   "source": [
    "D.m1()"
   ]
  },
  {
   "cell_type": "code",
   "execution_count": 24,
   "id": "064dbbeb-68b4-41ca-9c96-406903ef149f",
   "metadata": {},
   "outputs": [],
   "source": [
    "class A:\n",
    "    def m1():\n",
    "        print('A class method')\n",
    "class B(A):\n",
    "    def m1():\n",
    "        print('B class method')\n",
    "class C(A):\n",
    "    def m1():\n",
    "        print('C class method')\n",
    "class D(B,C):\n",
    "    pass"
   ]
  },
  {
   "cell_type": "code",
   "execution_count": 26,
   "id": "d81f2372-7e8a-4edf-a49d-141c8ea7b85a",
   "metadata": {},
   "outputs": [
    {
     "name": "stdout",
     "output_type": "stream",
     "text": [
      "B class method\n"
     ]
    }
   ],
   "source": [
    "D.m1()"
   ]
  },
  {
   "cell_type": "code",
   "execution_count": 28,
   "id": "0f2ec650-138c-44a1-9a7d-da52f93fc45d",
   "metadata": {},
   "outputs": [],
   "source": [
    "class A:\n",
    "    def m1():\n",
    "        print('A class method')\n",
    "class B(A):\n",
    "    pass\n",
    "class C(A):\n",
    "    def m1():\n",
    "        print('C class method')\n",
    "class D(B,C):\n",
    "    pass"
   ]
  },
  {
   "cell_type": "code",
   "execution_count": 30,
   "id": "65c99380-7ddb-4e11-b456-31a6c6a432e8",
   "metadata": {},
   "outputs": [
    {
     "name": "stdout",
     "output_type": "stream",
     "text": [
      "C class method\n"
     ]
    }
   ],
   "source": [
    "D.m1()"
   ]
  },
  {
   "cell_type": "code",
   "execution_count": 32,
   "id": "e0b04e57-3399-44ca-a249-9c0c6043d1db",
   "metadata": {},
   "outputs": [],
   "source": [
    "class A:\n",
    "    def m1():\n",
    "        print('A class method')\n",
    "class B(A):\n",
    "    pass\n",
    "class C(A):\n",
    "    pass\n",
    "class D(B,C):\n",
    "    pass"
   ]
  },
  {
   "cell_type": "code",
   "execution_count": 34,
   "id": "4b4a3476-bea7-44c7-a112-f0c3ef49a5cd",
   "metadata": {},
   "outputs": [
    {
     "name": "stdout",
     "output_type": "stream",
     "text": [
      "A class method\n"
     ]
    }
   ],
   "source": [
    "D.m1()"
   ]
  },
  {
   "cell_type": "code",
   "execution_count": 36,
   "id": "28d1fce8-8f9f-4ad3-8be1-ca229e1d517a",
   "metadata": {},
   "outputs": [],
   "source": [
    "class A:\n",
    "    pass\n",
    "class B(A):\n",
    "    pass\n",
    "class C(A):\n",
    "    pass\n",
    "class D(B,C):\n",
    "    pass"
   ]
  },
  {
   "cell_type": "code",
   "execution_count": 38,
   "id": "01c82169-0e66-4480-b8c4-f3ba543c7078",
   "metadata": {},
   "outputs": [
    {
     "ename": "AttributeError",
     "evalue": "type object 'D' has no attribute 'm1'",
     "output_type": "error",
     "traceback": [
      "\u001b[1;31m---------------------------------------------------------------------------\u001b[0m",
      "\u001b[1;31mAttributeError\u001b[0m                            Traceback (most recent call last)",
      "Cell \u001b[1;32mIn[38], line 1\u001b[0m\n\u001b[1;32m----> 1\u001b[0m D\u001b[38;5;241m.\u001b[39mm1()\n",
      "\u001b[1;31mAttributeError\u001b[0m: type object 'D' has no attribute 'm1'"
     ]
    }
   ],
   "source": [
    "D.m1()"
   ]
  },
  {
   "cell_type": "code",
   "execution_count": 42,
   "id": "4d1bd49d-7833-4136-91a0-40bf7540812d",
   "metadata": {},
   "outputs": [],
   "source": [
    "class A:\n",
    "    pass\n",
    "\n",
    "class B:\n",
    "    pass\n",
    "\n",
    "class C:\n",
    "    pass\n",
    "\n",
    "class X(A,B):\n",
    "    pass\n",
    "\n",
    "class Y(B,C):\n",
    "    pass\n",
    "\n",
    "class P(X,Y,C):\n",
    "    pass"
   ]
  },
  {
   "cell_type": "code",
   "execution_count": 44,
   "id": "3be89f72-218f-46c3-943d-69814d63d8dc",
   "metadata": {},
   "outputs": [
    {
     "data": {
      "text/plain": [
       "[__main__.A, object]"
      ]
     },
     "execution_count": 44,
     "metadata": {},
     "output_type": "execute_result"
    }
   ],
   "source": [
    "A.mro()"
   ]
  },
  {
   "cell_type": "code",
   "execution_count": 46,
   "id": "f7f9d3f1-1a5d-4722-9ec2-a698ce2a149a",
   "metadata": {},
   "outputs": [
    {
     "data": {
      "text/plain": [
       "[__main__.B, object]"
      ]
     },
     "execution_count": 46,
     "metadata": {},
     "output_type": "execute_result"
    }
   ],
   "source": [
    "B.mro()"
   ]
  },
  {
   "cell_type": "code",
   "execution_count": 48,
   "id": "355bda4f-da59-4cf9-8f33-ca8671d9c552",
   "metadata": {},
   "outputs": [
    {
     "data": {
      "text/plain": [
       "[__main__.C, object]"
      ]
     },
     "execution_count": 48,
     "metadata": {},
     "output_type": "execute_result"
    }
   ],
   "source": [
    "C.mro()"
   ]
  },
  {
   "cell_type": "code",
   "execution_count": 50,
   "id": "52cf3db3-b94e-4cc2-8f07-efdd6dcc7e3e",
   "metadata": {},
   "outputs": [
    {
     "data": {
      "text/plain": [
       "[__main__.X, __main__.A, __main__.B, object]"
      ]
     },
     "execution_count": 50,
     "metadata": {},
     "output_type": "execute_result"
    }
   ],
   "source": [
    "X.mro()"
   ]
  },
  {
   "cell_type": "code",
   "execution_count": 52,
   "id": "d7510c8c-cea0-4458-904c-535078fb4664",
   "metadata": {},
   "outputs": [
    {
     "data": {
      "text/plain": [
       "[__main__.Y, __main__.B, __main__.C, object]"
      ]
     },
     "execution_count": 52,
     "metadata": {},
     "output_type": "execute_result"
    }
   ],
   "source": [
    "Y.mro()"
   ]
  },
  {
   "cell_type": "code",
   "execution_count": 54,
   "id": "5ce215c0-71f6-4875-9d51-9e9abd75c0d1",
   "metadata": {},
   "outputs": [
    {
     "data": {
      "text/plain": [
       "[__main__.P,\n",
       " __main__.X,\n",
       " __main__.A,\n",
       " __main__.Y,\n",
       " __main__.B,\n",
       " __main__.C,\n",
       " object]"
      ]
     },
     "execution_count": 54,
     "metadata": {},
     "output_type": "execute_result"
    }
   ],
   "source": [
    "P.mro()"
   ]
  },
  {
   "cell_type": "markdown",
   "id": "3c452842-4160-4c55-ab0b-d428dcd09017",
   "metadata": {},
   "source": [
    "### C3 Algorithm"
   ]
  },
  {
   "cell_type": "code",
   "execution_count": 57,
   "id": "7eb2e541-362b-47f3-bbf3-308ab8eec4cd",
   "metadata": {},
   "outputs": [],
   "source": [
    "# - It is proposed by Samuel Pedroni.\n",
    "# - It uses DLR method for the method resolution order."
   ]
  },
  {
   "cell_type": "markdown",
   "id": "d64e88e1-b575-42b4-8454-5ada2fd75c1f",
   "metadata": {},
   "source": [
    "### DLR"
   ]
  },
  {
   "cell_type": "code",
   "execution_count": 60,
   "id": "194e51b3-f233-49f8-9318-5aca409d1ca8",
   "metadata": {},
   "outputs": [],
   "source": [
    "# D- Depth\n",
    "# L- Immediate Left Parent\n",
    "# R- Immediate Right Parent"
   ]
  },
  {
   "cell_type": "code",
   "execution_count": 62,
   "id": "57396597-1fa1-4717-9405-3e357fa0c503",
   "metadata": {},
   "outputs": [],
   "source": [
    "class A:\n",
    "    pass\n",
    "class B:\n",
    "    pass\n",
    "class C(A,B):\n",
    "    pass"
   ]
  },
  {
   "cell_type": "code",
   "execution_count": 64,
   "id": "2b8ef73c-ca31-47f1-8bd1-75bd12852aa5",
   "metadata": {},
   "outputs": [],
   "source": [
    "# DLR?"
   ]
  },
  {
   "cell_type": "code",
   "execution_count": 68,
   "id": "5eaef06c-7c6a-4efd-9ee2-f043903b4e91",
   "metadata": {},
   "outputs": [],
   "source": [
    "# D- C class\n",
    "# L- A class\n",
    "# R- B class"
   ]
  },
  {
   "cell_type": "markdown",
   "id": "f5a8d9e8-70a4-485a-a9a6-ecfc69258304",
   "metadata": {},
   "source": [
    "### How C3 algorithm works?"
   ]
  },
  {
   "cell_type": "code",
   "execution_count": 75,
   "id": "a5ab0cf6-5ae4-4a05-848a-204967d1b181",
   "metadata": {},
   "outputs": [],
   "source": [
    "# Suppose the mro is XABCD\n",
    "# X- Head\n",
    "# ABCD- Tail"
   ]
  },
  {
   "cell_type": "code",
   "execution_count": 79,
   "id": "1dbc838b-7233-4742-be38-c63e878d73b8",
   "metadata": {},
   "outputs": [],
   "source": [
    "# MRO(X)-?\n",
    "# X+merge(mro(A),mro(B), mro(C),mro(D)...parent list)"
   ]
  },
  {
   "cell_type": "code",
   "execution_count": 83,
   "id": "57b1a838-ee78-4c9e-8569-939f0c92531b",
   "metadata": {},
   "outputs": [],
   "source": [
    "# P1- First parent\n",
    "# P2- Second parent\n",
    "# X- Child"
   ]
  },
  {
   "cell_type": "code",
   "execution_count": 85,
   "id": "9e94df64-ef2e-41de-a126-2b7e7f3f2f47",
   "metadata": {},
   "outputs": [],
   "source": [
    "# mro(X)-?"
   ]
  },
  {
   "cell_type": "code",
   "execution_count": 87,
   "id": "40ab962a-2de2-40e7-8844-3809ddca5292",
   "metadata": {},
   "outputs": [],
   "source": [
    "# X+merge(mro(P1),mro(P2),parent list)"
   ]
  },
  {
   "cell_type": "code",
   "execution_count": 89,
   "id": "2b41389a-b643-4877-b1ae-1a6cc7a0e73b",
   "metadata": {},
   "outputs": [],
   "source": [
    "# mro(P)-?"
   ]
  },
  {
   "cell_type": "code",
   "execution_count": 91,
   "id": "b95e91e7-bb6e-4b8e-ab8a-32006cd55534",
   "metadata": {},
   "outputs": [],
   "source": [
    "# P+merge(mro(X),mro(Y),mro(C),XYC)"
   ]
  },
  {
   "cell_type": "code",
   "execution_count": 93,
   "id": "2de5056a-d308-49b2-a09f-445ce7f9c5c6",
   "metadata": {},
   "outputs": [],
   "source": [
    "# mro(X)- XABO\n",
    "# mro(Y)- YBCO\n",
    "# mro(C)- CO"
   ]
  },
  {
   "cell_type": "code",
   "execution_count": 95,
   "id": "981b63e1-9736-456f-b84d-458b6f06c4c7",
   "metadata": {},
   "outputs": [],
   "source": [
    "# P+merge(XABO,YBCO,CO,XYC)"
   ]
  },
  {
   "cell_type": "code",
   "execution_count": 103,
   "id": "fb4314f5-4255-4eb6-8967-a13c123b11f8",
   "metadata": {},
   "outputs": [],
   "source": [
    "# - Take the first list and consider the head element.\n",
    "# - If the head of the first list is not avaiable in tails of other lists then\n",
    "# - Take the head of the list out and remove from every list.\n",
    "# - If the heead of the list is avaialable in the tail of any of the lists then\n",
    "# - We ignore this list and consider the head of the next list.\n",
    "# - Repeat this process for all the lists."
   ]
  },
  {
   "cell_type": "code",
   "execution_count": 109,
   "id": "b88bd168-f2ff-404f-91d9-cccd6656fbba",
   "metadata": {},
   "outputs": [],
   "source": [
    "# P+merge(XABO,YBCO,CO,XYC)\n",
    "# PX+merge(ABO,YBCO,CO,YC)\n",
    "# PXA+merge(BO,YBCO,CO,YC)\n",
    "# PXAY+merge(BO,BCO,CO,C)\n",
    "# PXAYB+merge(O,CO,CO,C)\n",
    "# PXAYBC+merge(O,O,O)\n",
    "# PXAYBCO"
   ]
  },
  {
   "cell_type": "code",
   "execution_count": 111,
   "id": "bd329708-a51c-4279-849e-e6e3a83036c5",
   "metadata": {},
   "outputs": [],
   "source": [
    "class A:\n",
    "    pass\n",
    "\n",
    "class B:\n",
    "    pass\n",
    "\n",
    "class C:\n",
    "    pass\n",
    "\n",
    "class X(A,B):\n",
    "    pass\n",
    "\n",
    "class Y(B,C):\n",
    "    pass\n",
    "\n",
    "class P(X,Y,C):\n",
    "    pass"
   ]
  },
  {
   "cell_type": "code",
   "execution_count": 113,
   "id": "c0c80237-0824-4c6d-a484-f6b979313401",
   "metadata": {},
   "outputs": [
    {
     "data": {
      "text/plain": [
       "[__main__.P,\n",
       " __main__.X,\n",
       " __main__.A,\n",
       " __main__.Y,\n",
       " __main__.B,\n",
       " __main__.C,\n",
       " object]"
      ]
     },
     "execution_count": 113,
     "metadata": {},
     "output_type": "execute_result"
    }
   ],
   "source": [
    "P.mro()"
   ]
  },
  {
   "cell_type": "code",
   "execution_count": 115,
   "id": "649037e1-8ed9-4632-a3f4-316c98d72234",
   "metadata": {},
   "outputs": [],
   "source": [
    "# P+merge(XABO,YBCO,CO,XYC)\n",
    "# PX+merge(ABO,YBCO,CO,YC)\n",
    "# PXA+merge(BO,YBCO,CO,YC)\n",
    "# PXAY+merge(BO,BCO,CO,C)\n",
    "# PXAYB+merge(O,CO,CO,C)\n",
    "# PXAYBC+merge(O,O,O)\n",
    "# PXAYBCO"
   ]
  },
  {
   "cell_type": "code",
   "execution_count": 117,
   "id": "4630af2b-47ca-4f57-83c7-0bf669028c8e",
   "metadata": {},
   "outputs": [],
   "source": [
    "class D:\n",
    "    pass\n",
    "class E:\n",
    "    pass\n",
    "class F:\n",
    "    pass\n",
    "class B(D,E):\n",
    "    pass\n",
    "class C(D,F):\n",
    "    pass\n",
    "class A(B,C):\n",
    "    pass"
   ]
  },
  {
   "cell_type": "code",
   "execution_count": 119,
   "id": "d3bb20c3-3de8-4fe4-90cf-8a8412b4791b",
   "metadata": {},
   "outputs": [],
   "source": [
    "# mro(D)- DO"
   ]
  },
  {
   "cell_type": "code",
   "execution_count": 121,
   "id": "bc353622-0c51-4040-9aea-6082798ebc1b",
   "metadata": {},
   "outputs": [
    {
     "data": {
      "text/plain": [
       "[__main__.D, object]"
      ]
     },
     "execution_count": 121,
     "metadata": {},
     "output_type": "execute_result"
    }
   ],
   "source": [
    "D.mro()"
   ]
  },
  {
   "cell_type": "code",
   "execution_count": 123,
   "id": "dd42138f-e5c5-4e1e-bf45-713b3f4ce0f7",
   "metadata": {},
   "outputs": [],
   "source": [
    "# mro(E)- EO"
   ]
  },
  {
   "cell_type": "code",
   "execution_count": 125,
   "id": "f7e23969-eebb-4d23-a5b2-4f73fcebff0a",
   "metadata": {},
   "outputs": [
    {
     "data": {
      "text/plain": [
       "[__main__.E, object]"
      ]
     },
     "execution_count": 125,
     "metadata": {},
     "output_type": "execute_result"
    }
   ],
   "source": [
    "E.mro()"
   ]
  },
  {
   "cell_type": "code",
   "execution_count": 127,
   "id": "cf200b50-e7ea-4a7f-a8dd-e212b554dc07",
   "metadata": {},
   "outputs": [],
   "source": [
    "# mro(F)- FO"
   ]
  },
  {
   "cell_type": "code",
   "execution_count": 129,
   "id": "9f469c2b-14d2-4000-9c73-336dd48dfbe9",
   "metadata": {},
   "outputs": [
    {
     "data": {
      "text/plain": [
       "[__main__.F, object]"
      ]
     },
     "execution_count": 129,
     "metadata": {},
     "output_type": "execute_result"
    }
   ],
   "source": [
    "F.mro()"
   ]
  },
  {
   "cell_type": "code",
   "execution_count": 131,
   "id": "b4c71561-2fc4-49aa-bf99-c1bef5db88cb",
   "metadata": {},
   "outputs": [],
   "source": [
    "# mro(B)- BDEO"
   ]
  },
  {
   "cell_type": "code",
   "execution_count": 133,
   "id": "dbc94ee1-f62b-4ae6-aaf4-d39a16e6f402",
   "metadata": {},
   "outputs": [
    {
     "data": {
      "text/plain": [
       "[__main__.B, __main__.D, __main__.E, object]"
      ]
     },
     "execution_count": 133,
     "metadata": {},
     "output_type": "execute_result"
    }
   ],
   "source": [
    "B.mro()"
   ]
  },
  {
   "cell_type": "code",
   "execution_count": 135,
   "id": "a8ae47a3-23f3-4b8e-a960-a71c1de4a459",
   "metadata": {},
   "outputs": [],
   "source": [
    "# mro(C)- CDFO"
   ]
  },
  {
   "cell_type": "code",
   "execution_count": 137,
   "id": "76655e9f-923d-4b0f-8338-8dd019b61fa3",
   "metadata": {},
   "outputs": [
    {
     "data": {
      "text/plain": [
       "[__main__.C, __main__.D, __main__.F, object]"
      ]
     },
     "execution_count": 137,
     "metadata": {},
     "output_type": "execute_result"
    }
   ],
   "source": [
    "C.mro()"
   ]
  },
  {
   "cell_type": "code",
   "execution_count": 139,
   "id": "26f6c73c-fb7c-4ea4-a9f0-86416afcaec3",
   "metadata": {},
   "outputs": [],
   "source": [
    "# mro(A)-?"
   ]
  },
  {
   "cell_type": "code",
   "execution_count": 143,
   "id": "5eb38fa3-0814-4191-9ec8-93134097d29a",
   "metadata": {},
   "outputs": [],
   "source": [
    "# A+ merge(mro(B), mro(C), B,C)\n",
    "\n",
    "# A+ merge(BDEO, CDFO, BC)\n",
    "# AB+ merge(DEO,CDFO,C)\n",
    "# ABC+ merge(DEO,DFO)\n",
    "# ABCD+ merge(EO,FO)\n",
    "# ABCDE+ merge(O,FO)\n",
    "# ABCDEF+ merge(O,O)\n",
    "# ABCDEFO"
   ]
  },
  {
   "cell_type": "code",
   "execution_count": 145,
   "id": "b3673114-3f8a-435b-8eb8-ccbc5cee0ab0",
   "metadata": {},
   "outputs": [
    {
     "data": {
      "text/plain": [
       "[__main__.A,\n",
       " __main__.B,\n",
       " __main__.C,\n",
       " __main__.D,\n",
       " __main__.E,\n",
       " __main__.F,\n",
       " object]"
      ]
     },
     "execution_count": 145,
     "metadata": {},
     "output_type": "execute_result"
    }
   ],
   "source": [
    "A.mro()"
   ]
  },
  {
   "cell_type": "markdown",
   "id": "b19260ab-a114-4fd8-a37a-07e783b62574",
   "metadata": {},
   "source": [
    "# Super Function"
   ]
  },
  {
   "cell_type": "markdown",
   "id": "dbd4efc6-9556-43c4-ae56-d60cc96d2682",
   "metadata": {},
   "source": [
    "### super()"
   ]
  },
  {
   "cell_type": "code",
   "execution_count": 150,
   "id": "e7bfbbff-4bc2-4745-a5f9-f17e0083bfac",
   "metadata": {},
   "outputs": [],
   "source": [
    "# - It is used to call the parent class constructor, methods or variables from the child class."
   ]
  },
  {
   "cell_type": "code",
   "execution_count": 160,
   "id": "c2939784-8741-4124-9986-71f44fb5d898",
   "metadata": {},
   "outputs": [],
   "source": [
    "class Person:\n",
    "    def __init__(self):\n",
    "        self.name='Rahul'\n",
    "        self.age=22"
   ]
  },
  {
   "cell_type": "code",
   "execution_count": 162,
   "id": "65d1857e-7afb-4ca7-aed2-310067fe7b73",
   "metadata": {},
   "outputs": [],
   "source": [
    "class Student(Person):\n",
    "    def __init__(self,roll,marks):\n",
    "        self.roll=roll\n",
    "        self.marks=marks\n",
    "\n",
    "    def info(self):\n",
    "        print(self.name)\n",
    "        print(self.age)\n",
    "        print(self.roll)\n",
    "        print(self.marks)"
   ]
  },
  {
   "cell_type": "code",
   "execution_count": 164,
   "id": "be5592eb-6669-4ea9-8778-eb8235db3a9d",
   "metadata": {},
   "outputs": [],
   "source": [
    "s=Student(12,88)"
   ]
  },
  {
   "cell_type": "code",
   "execution_count": 166,
   "id": "21721a5e-809c-493f-abd6-d90dfc8ba576",
   "metadata": {},
   "outputs": [
    {
     "ename": "AttributeError",
     "evalue": "'Student' object has no attribute 'name'",
     "output_type": "error",
     "traceback": [
      "\u001b[1;31m---------------------------------------------------------------------------\u001b[0m",
      "\u001b[1;31mAttributeError\u001b[0m                            Traceback (most recent call last)",
      "Cell \u001b[1;32mIn[166], line 1\u001b[0m\n\u001b[1;32m----> 1\u001b[0m s\u001b[38;5;241m.\u001b[39minfo()\n",
      "Cell \u001b[1;32mIn[162], line 7\u001b[0m, in \u001b[0;36mStudent.info\u001b[1;34m(self)\u001b[0m\n\u001b[0;32m      6\u001b[0m \u001b[38;5;28;01mdef\u001b[39;00m \u001b[38;5;21minfo\u001b[39m(\u001b[38;5;28mself\u001b[39m):\n\u001b[1;32m----> 7\u001b[0m     \u001b[38;5;28mprint\u001b[39m(\u001b[38;5;28mself\u001b[39m\u001b[38;5;241m.\u001b[39mname)\n\u001b[0;32m      8\u001b[0m     \u001b[38;5;28mprint\u001b[39m(\u001b[38;5;28mself\u001b[39m\u001b[38;5;241m.\u001b[39mage)\n\u001b[0;32m      9\u001b[0m     \u001b[38;5;28mprint\u001b[39m(\u001b[38;5;28mself\u001b[39m\u001b[38;5;241m.\u001b[39mroll)\n",
      "\u001b[1;31mAttributeError\u001b[0m: 'Student' object has no attribute 'name'"
     ]
    }
   ],
   "source": [
    "s.info()"
   ]
  },
  {
   "cell_type": "code",
   "execution_count": 168,
   "id": "9415fdf3-93b9-41be-933b-0fc9e886203c",
   "metadata": {},
   "outputs": [],
   "source": [
    "class Person:\n",
    "    def __init__(self):\n",
    "        self.name='Rahul'\n",
    "        self.age=22"
   ]
  },
  {
   "cell_type": "code",
   "execution_count": 170,
   "id": "0af79395-fa14-4a3e-a8a7-8d57ac885e91",
   "metadata": {},
   "outputs": [],
   "source": [
    "class Student(Person):\n",
    "    def __init__(self,roll,marks):\n",
    "        super().__init__()\n",
    "        self.roll=roll\n",
    "        self.marks=marks\n",
    "\n",
    "    def info(self):\n",
    "        print(self.name)\n",
    "        print(self.age)\n",
    "        print(self.roll)\n",
    "        print(self.marks)"
   ]
  },
  {
   "cell_type": "code",
   "execution_count": 174,
   "id": "66da9ddc-874c-4755-aa64-f7d88aad49ec",
   "metadata": {},
   "outputs": [],
   "source": [
    "s=Student(12,88)"
   ]
  },
  {
   "cell_type": "code",
   "execution_count": 176,
   "id": "737e742b-d3e9-4405-8ac2-fecc2985bc1a",
   "metadata": {},
   "outputs": [
    {
     "name": "stdout",
     "output_type": "stream",
     "text": [
      "Rahul\n",
      "22\n",
      "12\n",
      "88\n"
     ]
    }
   ],
   "source": [
    "s.info()"
   ]
  },
  {
   "cell_type": "code",
   "execution_count": 230,
   "id": "0999928e-cf5a-4ea1-b0d9-06d4c5f4fc4b",
   "metadata": {},
   "outputs": [],
   "source": [
    "class Person:\n",
    "    def __init__(self):\n",
    "        self.name='Rahul'\n",
    "        self.age=22\n",
    "\n",
    "    def info(self):\n",
    "        print(f'Name- {self.name}')\n",
    "        print(f'Age- {self.age}')"
   ]
  },
  {
   "cell_type": "code",
   "execution_count": 232,
   "id": "841dab99-474e-4c0e-9335-ff58f8046387",
   "metadata": {},
   "outputs": [],
   "source": [
    "class Student(Person):\n",
    "    def __init__(self,roll,marks):\n",
    "        super().__init__()\n",
    "        self.roll=roll\n",
    "        self.marks=marks\n",
    "\n",
    "    def info(self):\n",
    "        super().info()\n",
    "        print(f'Roll Number- {self.roll}')\n",
    "        print(f'Marks- {self.marks}')"
   ]
  },
  {
   "cell_type": "code",
   "execution_count": 234,
   "id": "2ad4f4f8-330c-4d0a-b562-3f8a8e9edc4b",
   "metadata": {},
   "outputs": [],
   "source": [
    "s=Student(10,77)"
   ]
  },
  {
   "cell_type": "code",
   "execution_count": 236,
   "id": "160ca575-b017-4f21-abae-f083edd0587a",
   "metadata": {},
   "outputs": [
    {
     "name": "stdout",
     "output_type": "stream",
     "text": [
      "Name- Rahul\n",
      "Age- 22\n",
      "Roll Number- 10\n",
      "Marks- 77\n"
     ]
    }
   ],
   "source": [
    "s.info()"
   ]
  },
  {
   "cell_type": "markdown",
   "id": "dbd6fcb2-6130-4365-b613-a7faedeafa7b",
   "metadata": {},
   "source": [
    "### How to accesss different properties "
   ]
  },
  {
   "cell_type": "code",
   "execution_count": 264,
   "id": "fb3e6ba7-bb7d-4cfb-ac90-39682d47a35d",
   "metadata": {},
   "outputs": [],
   "source": [
    "class P:\n",
    "    a=10\n",
    "    def __init__(self):\n",
    "        self.b=20\n",
    "\n",
    "    def m1(self):\n",
    "        print('Instance method of parent class')\n",
    "\n",
    "    @staticmethod\n",
    "    def m2():\n",
    "        print('Static method of parent class')\n",
    "\n",
    "    @classmethod\n",
    "    def m3(cls):\n",
    "        print('Class method of parent class')"
   ]
  },
  {
   "cell_type": "code",
   "execution_count": 246,
   "id": "a7067ea1-01f7-4431-8c91-db5bd53a2e92",
   "metadata": {},
   "outputs": [],
   "source": [
    "class C(P):\n",
    "    a=888\n",
    "    def __init__(self):\n",
    "        self.b=999"
   ]
  },
  {
   "cell_type": "code",
   "execution_count": 248,
   "id": "e5fa3ff4-0885-43a8-bf58-1a48de126480",
   "metadata": {},
   "outputs": [],
   "source": [
    "c=C()"
   ]
  },
  {
   "cell_type": "code",
   "execution_count": 250,
   "id": "5860c0aa-8dc3-478e-86fe-10ee04217161",
   "metadata": {},
   "outputs": [
    {
     "name": "stdout",
     "output_type": "stream",
     "text": [
      "888\n"
     ]
    }
   ],
   "source": [
    "print(c.a)"
   ]
  },
  {
   "cell_type": "code",
   "execution_count": 252,
   "id": "3ead9f61-890b-4e7f-8376-85254bf9e066",
   "metadata": {},
   "outputs": [
    {
     "name": "stdout",
     "output_type": "stream",
     "text": [
      "999\n"
     ]
    }
   ],
   "source": [
    "print(c.b)"
   ]
  },
  {
   "cell_type": "code",
   "execution_count": 266,
   "id": "dc83b99c-8c3c-4706-96d3-a85d273d1dd8",
   "metadata": {},
   "outputs": [],
   "source": [
    "class C(P):\n",
    "    a=888\n",
    "    def __init__(self):\n",
    "        self.b=999\n",
    "        print(super().a)"
   ]
  },
  {
   "cell_type": "code",
   "execution_count": 268,
   "id": "ffcaf223-2daa-4b84-b1da-9a683574eae3",
   "metadata": {},
   "outputs": [
    {
     "name": "stdout",
     "output_type": "stream",
     "text": [
      "10\n"
     ]
    }
   ],
   "source": [
    "c=C()"
   ]
  },
  {
   "cell_type": "code",
   "execution_count": 270,
   "id": "2f4cb3a3-9a46-466f-84e4-50ace186d121",
   "metadata": {},
   "outputs": [
    {
     "name": "stdout",
     "output_type": "stream",
     "text": [
      "999\n"
     ]
    }
   ],
   "source": [
    "print(c.b)"
   ]
  },
  {
   "cell_type": "code",
   "execution_count": 274,
   "id": "ebb84050-bea2-468c-8dbe-d0b07b80a354",
   "metadata": {},
   "outputs": [
    {
     "data": {
      "text/plain": [
       "888"
      ]
     },
     "execution_count": 274,
     "metadata": {},
     "output_type": "execute_result"
    }
   ],
   "source": [
    "c.a"
   ]
  },
  {
   "cell_type": "code",
   "execution_count": 278,
   "id": "98e5332e-3732-489b-9c03-ef2a116fea98",
   "metadata": {},
   "outputs": [],
   "source": [
    "class P:\n",
    "    a=10\n",
    "    def __init__(self):\n",
    "        self.b=20\n",
    "\n",
    "    def m1(self):\n",
    "        print('Instance method of parent class')\n",
    "\n",
    "    @staticmethod\n",
    "    def m2():\n",
    "        print('Static method of parent class')\n",
    "\n",
    "    @classmethod\n",
    "    def m3(cls):\n",
    "        print('Class method of parent class')"
   ]
  },
  {
   "cell_type": "code",
   "execution_count": 286,
   "id": "54dffe8b-ae77-436d-a3c5-655c92939b4e",
   "metadata": {},
   "outputs": [],
   "source": [
    "class C(P):\n",
    "    a=888\n",
    "    def __init__(self):\n",
    "        self.b=999\n",
    "        super().m1()\n",
    "        super().m2()\n",
    "        super().m3()"
   ]
  },
  {
   "cell_type": "code",
   "execution_count": 288,
   "id": "12e29fbb-1997-4438-b1ca-c5b31ec34b22",
   "metadata": {},
   "outputs": [
    {
     "name": "stdout",
     "output_type": "stream",
     "text": [
      "Instance method of parent class\n",
      "Static method of parent class\n",
      "Class method of parent class\n"
     ]
    }
   ],
   "source": [
    "c=C()"
   ]
  },
  {
   "cell_type": "code",
   "execution_count": 284,
   "id": "d623a428-2cb3-48ad-9771-bd88a6b1c8a8",
   "metadata": {},
   "outputs": [
    {
     "name": "stdout",
     "output_type": "stream",
     "text": [
      "Instance method of parent class\n"
     ]
    }
   ],
   "source": [
    "c.m1()"
   ]
  },
  {
   "cell_type": "code",
   "execution_count": 296,
   "id": "a87c9d25-7397-4e62-a5b1-82506ef79649",
   "metadata": {},
   "outputs": [],
   "source": [
    "class P:\n",
    "    def __init__(self):\n",
    "        self.a=10"
   ]
  },
  {
   "cell_type": "code",
   "execution_count": 298,
   "id": "aac77f7e-7722-41f3-a2bf-df2ef859bad4",
   "metadata": {},
   "outputs": [],
   "source": [
    "class C(P):\n",
    "    def __init__(self):\n",
    "        self.a=888"
   ]
  },
  {
   "cell_type": "code",
   "execution_count": 300,
   "id": "970aa908-47c6-405d-bcfe-bdc6bec64c99",
   "metadata": {},
   "outputs": [],
   "source": [
    "c=C()"
   ]
  },
  {
   "cell_type": "code",
   "execution_count": 302,
   "id": "db6fc304-9c82-4745-b029-9c5d85be46e1",
   "metadata": {},
   "outputs": [
    {
     "name": "stdout",
     "output_type": "stream",
     "text": [
      "888\n"
     ]
    }
   ],
   "source": [
    "print(c.a)"
   ]
  },
  {
   "cell_type": "code",
   "execution_count": 314,
   "id": "24608080-6483-43bf-b8b6-016e3b454537",
   "metadata": {},
   "outputs": [],
   "source": [
    "class P:\n",
    "    def __init__(self):\n",
    "        self.a=10"
   ]
  },
  {
   "cell_type": "code",
   "execution_count": 316,
   "id": "81432cca-f7b8-476c-b601-cc2429d13300",
   "metadata": {},
   "outputs": [],
   "source": [
    "class C(P):\n",
    "    def __init__(self):\n",
    "        self.a=888\n",
    "        super().__init__()"
   ]
  },
  {
   "cell_type": "code",
   "execution_count": 318,
   "id": "dde49de1-7c1c-4e4b-b95b-248c97ae0882",
   "metadata": {},
   "outputs": [],
   "source": [
    "c=C()"
   ]
  },
  {
   "cell_type": "code",
   "execution_count": 320,
   "id": "5a30111e-5f8f-4cfe-b4b0-05e99e1db88a",
   "metadata": {},
   "outputs": [
    {
     "name": "stdout",
     "output_type": "stream",
     "text": [
      "10\n"
     ]
    }
   ],
   "source": [
    "print(c.a)"
   ]
  },
  {
   "cell_type": "code",
   "execution_count": 322,
   "id": "9bf99731-b7a0-4275-a60e-9e9359f28d6a",
   "metadata": {},
   "outputs": [],
   "source": [
    "class P:\n",
    "    def __init__(self):\n",
    "        self.a=10"
   ]
  },
  {
   "cell_type": "code",
   "execution_count": 326,
   "id": "06569faa-50f8-4e73-bb40-7bda647e6c7c",
   "metadata": {},
   "outputs": [],
   "source": [
    "class C(P):\n",
    "    def __init__(self):\n",
    "        super().__init__()\n",
    "        self.a=888  "
   ]
  },
  {
   "cell_type": "code",
   "execution_count": 328,
   "id": "2230a225-fc60-46a6-9ab8-f0ce62a5f10d",
   "metadata": {},
   "outputs": [],
   "source": [
    "c=C()"
   ]
  },
  {
   "cell_type": "code",
   "execution_count": 330,
   "id": "a7b4cf41-e8a6-4a6c-9036-4bcc285d0c36",
   "metadata": {},
   "outputs": [
    {
     "name": "stdout",
     "output_type": "stream",
     "text": [
      "888\n"
     ]
    }
   ],
   "source": [
    "print(c.a)"
   ]
  },
  {
   "cell_type": "code",
   "execution_count": 332,
   "id": "b76e8ff7-95d8-4b9a-9915-6ccedaa60771",
   "metadata": {},
   "outputs": [],
   "source": [
    "class P:\n",
    "    def __init__(self):\n",
    "        self.a=20"
   ]
  },
  {
   "cell_type": "code",
   "execution_count": 334,
   "id": "6aa7914f-53e8-4710-b038-87700faf46a4",
   "metadata": {},
   "outputs": [],
   "source": [
    "class C(P):\n",
    "    def m1(self):\n",
    "        print(super().a)"
   ]
  },
  {
   "cell_type": "code",
   "execution_count": 336,
   "id": "694600d3-4a19-46ea-b573-a041298e188c",
   "metadata": {},
   "outputs": [],
   "source": [
    "c=C()"
   ]
  },
  {
   "cell_type": "code",
   "execution_count": 340,
   "id": "c7eeada8-ddb3-4e1a-a195-b29c812afff8",
   "metadata": {},
   "outputs": [
    {
     "name": "stdout",
     "output_type": "stream",
     "text": [
      "20\n"
     ]
    }
   ],
   "source": [
    "print(c.a)"
   ]
  },
  {
   "cell_type": "code",
   "execution_count": 342,
   "id": "a4a4bdfb-460c-4848-ae42-ef61feebc196",
   "metadata": {},
   "outputs": [
    {
     "ename": "AttributeError",
     "evalue": "'super' object has no attribute 'a'",
     "output_type": "error",
     "traceback": [
      "\u001b[1;31m---------------------------------------------------------------------------\u001b[0m",
      "\u001b[1;31mAttributeError\u001b[0m                            Traceback (most recent call last)",
      "Cell \u001b[1;32mIn[342], line 1\u001b[0m\n\u001b[1;32m----> 1\u001b[0m c\u001b[38;5;241m.\u001b[39mm1()\n",
      "Cell \u001b[1;32mIn[334], line 3\u001b[0m, in \u001b[0;36mC.m1\u001b[1;34m(self)\u001b[0m\n\u001b[0;32m      2\u001b[0m \u001b[38;5;28;01mdef\u001b[39;00m \u001b[38;5;21mm1\u001b[39m(\u001b[38;5;28mself\u001b[39m):\n\u001b[1;32m----> 3\u001b[0m     \u001b[38;5;28mprint\u001b[39m(\u001b[38;5;28msuper\u001b[39m()\u001b[38;5;241m.\u001b[39ma)\n",
      "\u001b[1;31mAttributeError\u001b[0m: 'super' object has no attribute 'a'"
     ]
    }
   ],
   "source": [
    "c.m1()"
   ]
  },
  {
   "cell_type": "code",
   "execution_count": 344,
   "id": "f3aaefec-bdba-4a33-8fab-aacdab313e35",
   "metadata": {},
   "outputs": [],
   "source": [
    "# - To acees the instance variable from the parent class, we use self not super().\n",
    "# - Because only one instance variable with a name can exist for a particular object."
   ]
  },
  {
   "cell_type": "code",
   "execution_count": 346,
   "id": "18e1a9de-b747-47c6-b3dd-2cb41ff3a392",
   "metadata": {},
   "outputs": [],
   "source": [
    "class P:\n",
    "    def __init__(self):\n",
    "        self.a=20"
   ]
  },
  {
   "cell_type": "code",
   "execution_count": 348,
   "id": "ea4152e8-0d28-4f71-a31f-701994cf412b",
   "metadata": {},
   "outputs": [],
   "source": [
    "class C(P):\n",
    "    def m1(self):\n",
    "        print(self.a)"
   ]
  },
  {
   "cell_type": "code",
   "execution_count": 350,
   "id": "3077ed58-7786-4520-8564-e4477213f4aa",
   "metadata": {},
   "outputs": [],
   "source": [
    "c=C()"
   ]
  },
  {
   "cell_type": "code",
   "execution_count": 352,
   "id": "02c76249-fc0c-4f12-87f3-e7c7cd05e6ae",
   "metadata": {},
   "outputs": [
    {
     "name": "stdout",
     "output_type": "stream",
     "text": [
      "20\n"
     ]
    }
   ],
   "source": [
    "c.m1()"
   ]
  },
  {
   "cell_type": "code",
   "execution_count": 354,
   "id": "6633f65c-0a1c-41c4-828e-7a9b03437fb4",
   "metadata": {},
   "outputs": [],
   "source": [
    "class P:\n",
    "    def m1(self):\n",
    "        print('Instance method from the parent class')"
   ]
  },
  {
   "cell_type": "code",
   "execution_count": 375,
   "id": "bd5dd36c-e17d-4121-a006-0ff5ec73d643",
   "metadata": {},
   "outputs": [],
   "source": [
    "class C(P):\n",
    "    def m1(self):\n",
    "        super().m1()\n",
    "        print('Instance method from the child class')"
   ]
  },
  {
   "cell_type": "code",
   "execution_count": 377,
   "id": "513a139a-5a92-4367-ad86-a2a1c4331f3a",
   "metadata": {},
   "outputs": [],
   "source": [
    "c=C()"
   ]
  },
  {
   "cell_type": "code",
   "execution_count": 379,
   "id": "beead492-01e0-4fb6-81a1-33e3e5e49172",
   "metadata": {},
   "outputs": [
    {
     "name": "stdout",
     "output_type": "stream",
     "text": [
      "Instance method from the parent class\n",
      "Instance method from the child class\n"
     ]
    }
   ],
   "source": [
    "c.m1()"
   ]
  },
  {
   "cell_type": "markdown",
   "id": "c1f1c6ca-c7e2-4367-864f-9c5ab1afa494",
   "metadata": {},
   "source": [
    "### How to call a method of a particular parent class?"
   ]
  },
  {
   "cell_type": "code",
   "execution_count": 396,
   "id": "aa25e880-4fe5-45b6-a77d-4c277886e617",
   "metadata": {},
   "outputs": [],
   "source": [
    "class A:\n",
    "    def m1(self):\n",
    "        print('A class method')\n",
    "class B(A):\n",
    "    def m1(self):\n",
    "        print('B class method')\n",
    "class C(B):\n",
    "    def m1(self):\n",
    "        print('C class method')\n",
    "class D(C):\n",
    "    def m1(self):\n",
    "        print('D class method')\n",
    "class E(D):\n",
    "    def m1(self):\n",
    "        super().m1()\n",
    "        print('E class method')"
   ]
  },
  {
   "cell_type": "code",
   "execution_count": 400,
   "id": "66881205-c58c-4490-aecf-7ff54bc35f62",
   "metadata": {},
   "outputs": [],
   "source": [
    "e=E()"
   ]
  },
  {
   "cell_type": "code",
   "execution_count": 402,
   "id": "26ffd7d2-2e7f-4257-9157-9a2b67d8f352",
   "metadata": {},
   "outputs": [
    {
     "name": "stdout",
     "output_type": "stream",
     "text": [
      "D class method\n",
      "E class method\n"
     ]
    }
   ],
   "source": [
    "e.m1()"
   ]
  },
  {
   "cell_type": "code",
   "execution_count": 410,
   "id": "2c3c8b36-628d-4401-b957-0eb1b2aad047",
   "metadata": {},
   "outputs": [],
   "source": [
    "class A:\n",
    "    def m1(self):\n",
    "        print('A class method')\n",
    "class B(A):\n",
    "    def m1(self):\n",
    "        print('B class method')\n",
    "class C(B):\n",
    "    def m1(self):\n",
    "        print('C class method')\n",
    "class D(C):\n",
    "    def m1(self):\n",
    "        print('D class method')\n",
    "class E(D):\n",
    "    def m1(self):\n",
    "        super(B,self).m1()\n",
    "        print('E class method')"
   ]
  },
  {
   "cell_type": "code",
   "execution_count": 412,
   "id": "39873f51-944b-45ac-808c-6bedbda6f55a",
   "metadata": {},
   "outputs": [],
   "source": [
    "e=E()"
   ]
  },
  {
   "cell_type": "code",
   "execution_count": 414,
   "id": "a60d283e-40e9-4b04-8afe-2133b7865fb1",
   "metadata": {},
   "outputs": [
    {
     "name": "stdout",
     "output_type": "stream",
     "text": [
      "A class method\n",
      "E class method\n"
     ]
    }
   ],
   "source": [
    "e.m1()"
   ]
  },
  {
   "cell_type": "markdown",
   "id": "aa0f565e-928c-4f12-bfa5-62ba14c732b1",
   "metadata": {},
   "source": [
    "# Polymorphism"
   ]
  },
  {
   "cell_type": "code",
   "execution_count": 420,
   "id": "6446cd38-798a-47d2-bd5c-fb9a46f340f2",
   "metadata": {},
   "outputs": [],
   "source": [
    "# Poly- Many\n",
    "# Morph- Forms"
   ]
  },
  {
   "cell_type": "code",
   "execution_count": 422,
   "id": "6ddca392-87d8-4b94-ab4b-18201922c3af",
   "metadata": {},
   "outputs": [],
   "source": [
    "# + -> addition / concatenation\n",
    "# * -> multiplication / repeations"
   ]
  },
  {
   "cell_type": "markdown",
   "id": "4e9afc36-cba7-43e0-8d6d-a437a7fb7139",
   "metadata": {},
   "source": [
    "#### Duck typing\n",
    "#### Overloading\n",
    "- Operator overloading\n",
    "- Method overloading\n",
    "- Constructor Overloading\n",
    "### Overriding\n",
    "- Method overriding\n",
    "- Constructor overriding"
   ]
  },
  {
   "cell_type": "markdown",
   "id": "5ba28d7f-05fe-41f3-bef6-cc4be99f447d",
   "metadata": {},
   "source": [
    "### Duck typing"
   ]
  },
  {
   "cell_type": "code",
   "execution_count": 432,
   "id": "99c9ecca-0bcc-427e-99c9-b6970370c57a",
   "metadata": {},
   "outputs": [],
   "source": [
    "# - When we create any object what will be the type of that object?\n",
    "# - It may be anything like employee object, customer object, test object, banking object etc."
   ]
  },
  {
   "cell_type": "code",
   "execution_count": 434,
   "id": "641ef714-c673-4f20-baed-305a122394f1",
   "metadata": {},
   "outputs": [],
   "source": [
    "class Test:\n",
    "    pass"
   ]
  },
  {
   "cell_type": "code",
   "execution_count": 436,
   "id": "d1c31ecc-43cc-47b3-b472-fe97733c8a14",
   "metadata": {},
   "outputs": [],
   "source": [
    "t=Test()"
   ]
  },
  {
   "cell_type": "code",
   "execution_count": 438,
   "id": "0e501849-1a22-491b-8138-4e2ed5f7b27f",
   "metadata": {},
   "outputs": [
    {
     "name": "stdout",
     "output_type": "stream",
     "text": [
      "<class '__main__.Test'>\n"
     ]
    }
   ],
   "source": [
    "print(type(t))"
   ]
  },
  {
   "cell_type": "code",
   "execution_count": 440,
   "id": "d2a79bb8-edb7-447b-8beb-9a63a16634c8",
   "metadata": {},
   "outputs": [],
   "source": [
    "# - We can not identify the behavioir of the object t"
   ]
  },
  {
   "cell_type": "code",
   "execution_count": 442,
   "id": "cdc9364a-306e-47c8-a56d-9b4b978384a8",
   "metadata": {},
   "outputs": [],
   "source": [
    "# - Duck typing says if it walks like a duck then it is a duck.\n",
    "# - It means how a particular object behaves according to that we can identify the type."
   ]
  },
  {
   "cell_type": "code",
   "execution_count": 458,
   "id": "c0a0daa1-ac51-49d4-b118-271dcefbde5c",
   "metadata": {},
   "outputs": [],
   "source": [
    "class Duck:\n",
    "    def talk(self):\n",
    "        print('Quack Quack')\n",
    "class Dog:\n",
    "    def talk(self):\n",
    "        print('Bow Bow')\n",
    "\n",
    "class Cat:\n",
    "    def talk(self):\n",
    "        print('Meow Meow')\n",
    "\n",
    "class Goat:\n",
    "    def talk(self):\n",
    "        print('Myah, Myah')"
   ]
  },
  {
   "cell_type": "code",
   "execution_count": 460,
   "id": "5e4a6739-d88e-42c2-8666-0182b50358bd",
   "metadata": {},
   "outputs": [],
   "source": [
    "def f1(obj):\n",
    "    obj.talk()"
   ]
  },
  {
   "cell_type": "code",
   "execution_count": 462,
   "id": "72cdf0ac-f84f-4295-ae30-54e50a8bae36",
   "metadata": {},
   "outputs": [
    {
     "name": "stdout",
     "output_type": "stream",
     "text": [
      "Quack Quack\n"
     ]
    }
   ],
   "source": [
    "f1(Duck())"
   ]
  },
  {
   "cell_type": "code",
   "execution_count": 464,
   "id": "44033b49-ed21-4313-99f1-09dc4b0aa8bc",
   "metadata": {},
   "outputs": [],
   "source": [
    "lst=[Duck(), Dog(), Cat(), Goat()]"
   ]
  },
  {
   "cell_type": "code",
   "execution_count": 466,
   "id": "ef1c506c-78db-4a6c-8e08-6e7734f9224b",
   "metadata": {},
   "outputs": [
    {
     "name": "stdout",
     "output_type": "stream",
     "text": [
      "Quack Quack\n",
      "Bow Bow\n",
      "Meow Meow\n",
      "Myah, Myah\n"
     ]
    }
   ],
   "source": [
    "for i in lst:\n",
    "    f1(i)"
   ]
  },
  {
   "cell_type": "code",
   "execution_count": 471,
   "id": "66530d27-6bbe-435a-a423-b437465937f8",
   "metadata": {},
   "outputs": [],
   "source": [
    "class Duck:\n",
    "    def talk(self):\n",
    "        print('Quack Quack')\n",
    "\n",
    "class Dog:\n",
    "    def bark(self):\n",
    "        print('Bow Bow')"
   ]
  },
  {
   "cell_type": "code",
   "execution_count": 473,
   "id": "89d4d0df-01f4-4e8e-9d6e-5d4182cbca69",
   "metadata": {},
   "outputs": [],
   "source": [
    "def f1(obj):\n",
    "    obj.talk()"
   ]
  },
  {
   "cell_type": "code",
   "execution_count": 475,
   "id": "64f9b089-1795-4ec7-ae33-2d2e22e059fa",
   "metadata": {},
   "outputs": [
    {
     "name": "stdout",
     "output_type": "stream",
     "text": [
      "Quack Quack\n"
     ]
    }
   ],
   "source": [
    "f1(Duck())"
   ]
  },
  {
   "cell_type": "code",
   "execution_count": 477,
   "id": "c5dbd1f6-66f6-4b0d-9ad6-347f438fd735",
   "metadata": {},
   "outputs": [
    {
     "ename": "AttributeError",
     "evalue": "'Dog' object has no attribute 'talk'",
     "output_type": "error",
     "traceback": [
      "\u001b[1;31m---------------------------------------------------------------------------\u001b[0m",
      "\u001b[1;31mAttributeError\u001b[0m                            Traceback (most recent call last)",
      "Cell \u001b[1;32mIn[477], line 1\u001b[0m\n\u001b[1;32m----> 1\u001b[0m f1(Dog())\n",
      "Cell \u001b[1;32mIn[473], line 2\u001b[0m, in \u001b[0;36mf1\u001b[1;34m(obj)\u001b[0m\n\u001b[0;32m      1\u001b[0m \u001b[38;5;28;01mdef\u001b[39;00m \u001b[38;5;21mf1\u001b[39m(obj):\n\u001b[1;32m----> 2\u001b[0m     obj\u001b[38;5;241m.\u001b[39mtalk()\n",
      "\u001b[1;31mAttributeError\u001b[0m: 'Dog' object has no attribute 'talk'"
     ]
    }
   ],
   "source": [
    "f1(Dog())"
   ]
  },
  {
   "cell_type": "code",
   "execution_count": 479,
   "id": "dbffe0f3-20e1-4d72-b0fa-5c2781dfe396",
   "metadata": {},
   "outputs": [],
   "source": [
    "lst=[Duck(), Dog()]"
   ]
  },
  {
   "cell_type": "code",
   "execution_count": 481,
   "id": "a3f38cd1-5592-458e-81e6-5b8d95608b3b",
   "metadata": {},
   "outputs": [
    {
     "name": "stdout",
     "output_type": "stream",
     "text": [
      "Quack Quack\n"
     ]
    },
    {
     "ename": "AttributeError",
     "evalue": "'Dog' object has no attribute 'talk'",
     "output_type": "error",
     "traceback": [
      "\u001b[1;31m---------------------------------------------------------------------------\u001b[0m",
      "\u001b[1;31mAttributeError\u001b[0m                            Traceback (most recent call last)",
      "Cell \u001b[1;32mIn[481], line 2\u001b[0m\n\u001b[0;32m      1\u001b[0m \u001b[38;5;28;01mfor\u001b[39;00m i \u001b[38;5;129;01min\u001b[39;00m lst:\n\u001b[1;32m----> 2\u001b[0m     f1(i)\n",
      "Cell \u001b[1;32mIn[473], line 2\u001b[0m, in \u001b[0;36mf1\u001b[1;34m(obj)\u001b[0m\n\u001b[0;32m      1\u001b[0m \u001b[38;5;28;01mdef\u001b[39;00m \u001b[38;5;21mf1\u001b[39m(obj):\n\u001b[1;32m----> 2\u001b[0m     obj\u001b[38;5;241m.\u001b[39mtalk()\n",
      "\u001b[1;31mAttributeError\u001b[0m: 'Dog' object has no attribute 'talk'"
     ]
    }
   ],
   "source": [
    "for i in lst:\n",
    "    f1(i)"
   ]
  },
  {
   "cell_type": "code",
   "execution_count": 485,
   "id": "411dfcaf-c00a-4d55-9f35-ac389edc14e7",
   "metadata": {},
   "outputs": [],
   "source": [
    "# hashattr method"
   ]
  },
  {
   "cell_type": "code",
   "execution_count": 487,
   "id": "f57cd6bf-5196-4f1b-a096-578c9e64868b",
   "metadata": {},
   "outputs": [],
   "source": [
    "def f1(obj):\n",
    "    if hasattr(obj,'talk'):\n",
    "        print(True)\n",
    "    else:\n",
    "        print(False)"
   ]
  },
  {
   "cell_type": "code",
   "execution_count": 489,
   "id": "3f195729-78c8-457f-9fe8-85a3d82a11a9",
   "metadata": {},
   "outputs": [
    {
     "name": "stdout",
     "output_type": "stream",
     "text": [
      "True\n"
     ]
    }
   ],
   "source": [
    "f1(Duck())"
   ]
  },
  {
   "cell_type": "code",
   "execution_count": 491,
   "id": "60ab7c92-fea3-437f-ae55-a5d05973ae90",
   "metadata": {},
   "outputs": [
    {
     "name": "stdout",
     "output_type": "stream",
     "text": [
      "False\n"
     ]
    }
   ],
   "source": [
    "f1(Dog())"
   ]
  },
  {
   "cell_type": "code",
   "execution_count": 499,
   "id": "e1650d3f-e310-4f74-a56f-757aacceedb9",
   "metadata": {},
   "outputs": [],
   "source": [
    "def f1(obj):\n",
    "    if hasattr(obj,'talk'):\n",
    "        obj.talk()\n",
    "    elif hasattr(obj,'bark'):\n",
    "        obj.bark()\n",
    "    else:\n",
    "        print('No attribute avaialble')"
   ]
  },
  {
   "cell_type": "code",
   "execution_count": 501,
   "id": "633d0644-3523-451d-8f09-eed88f4eb1d7",
   "metadata": {},
   "outputs": [
    {
     "name": "stdout",
     "output_type": "stream",
     "text": [
      "Quack Quack\n"
     ]
    }
   ],
   "source": [
    "f1(Duck())"
   ]
  },
  {
   "cell_type": "code",
   "execution_count": 503,
   "id": "f2af387e-37c2-486f-849a-a3ac9d8ddfd2",
   "metadata": {},
   "outputs": [
    {
     "name": "stdout",
     "output_type": "stream",
     "text": [
      "Bow Bow\n"
     ]
    }
   ],
   "source": [
    "f1(Dog())"
   ]
  },
  {
   "cell_type": "code",
   "execution_count": 507,
   "id": "13c2b3e2-c3d7-46f6-83e8-df552ba4ca0b",
   "metadata": {},
   "outputs": [
    {
     "name": "stdout",
     "output_type": "stream",
     "text": [
      "No attribute avaialble\n"
     ]
    }
   ],
   "source": [
    "f1(Test())"
   ]
  },
  {
   "cell_type": "markdown",
   "id": "c8c526ca-0419-4381-a8cb-95e06b069400",
   "metadata": {},
   "source": [
    "### Operator overloading"
   ]
  },
  {
   "cell_type": "code",
   "execution_count": 510,
   "id": "425f0dec-3341-403d-bca3-bd294a1072a5",
   "metadata": {},
   "outputs": [],
   "source": [
    "# - When an operator can be used to perform different kind of operations then we call it as operator overloading."
   ]
  },
  {
   "cell_type": "code",
   "execution_count": 512,
   "id": "4affb3e3-7ee0-4088-ba25-f13cfaa0a8fa",
   "metadata": {},
   "outputs": [],
   "source": [
    "# + > addition/concatenation"
   ]
  },
  {
   "cell_type": "code",
   "execution_count": 514,
   "id": "2c32659d-da7c-4290-abe6-eeed2e9389d9",
   "metadata": {},
   "outputs": [],
   "source": [
    "class Book:\n",
    "    def __init__(self,pages):\n",
    "        self.pages=pages"
   ]
  },
  {
   "cell_type": "code",
   "execution_count": 516,
   "id": "14b27a64-9682-433e-949e-5262b4bf081a",
   "metadata": {},
   "outputs": [],
   "source": [
    "b1=Book(150)"
   ]
  },
  {
   "cell_type": "code",
   "execution_count": 518,
   "id": "3bcdf696-f7b3-4c79-8b8a-e15634a94e42",
   "metadata": {},
   "outputs": [],
   "source": [
    "b2=Book(200)"
   ]
  },
  {
   "cell_type": "code",
   "execution_count": 520,
   "id": "3be0fcbc-704f-4df2-b53c-ef50aa19b0de",
   "metadata": {},
   "outputs": [
    {
     "name": "stdout",
     "output_type": "stream",
     "text": [
      "<__main__.Book object at 0x000002422AD75910>\n"
     ]
    }
   ],
   "source": [
    "print(b1)"
   ]
  },
  {
   "cell_type": "code",
   "execution_count": 522,
   "id": "306416ec-a0b4-47be-b5fb-c5b4c01c99a1",
   "metadata": {},
   "outputs": [
    {
     "name": "stdout",
     "output_type": "stream",
     "text": [
      "<__main__.Book object at 0x000002422AD8F010>\n"
     ]
    }
   ],
   "source": [
    "print(b2)"
   ]
  },
  {
   "cell_type": "code",
   "execution_count": 524,
   "id": "4ba385e6-7c67-4499-be81-3011ffa41f87",
   "metadata": {},
   "outputs": [
    {
     "ename": "TypeError",
     "evalue": "unsupported operand type(s) for +: 'Book' and 'Book'",
     "output_type": "error",
     "traceback": [
      "\u001b[1;31m---------------------------------------------------------------------------\u001b[0m",
      "\u001b[1;31mTypeError\u001b[0m                                 Traceback (most recent call last)",
      "Cell \u001b[1;32mIn[524], line 1\u001b[0m\n\u001b[1;32m----> 1\u001b[0m b1\u001b[38;5;241m+\u001b[39mb2\n",
      "\u001b[1;31mTypeError\u001b[0m: unsupported operand type(s) for +: 'Book' and 'Book'"
     ]
    }
   ],
   "source": [
    "b1+b2"
   ]
  },
  {
   "cell_type": "code",
   "execution_count": 526,
   "id": "94f61469-7531-4e78-8311-48be1ce58e31",
   "metadata": {},
   "outputs": [
    {
     "data": {
      "text/plain": [
       "150"
      ]
     },
     "execution_count": 526,
     "metadata": {},
     "output_type": "execute_result"
    }
   ],
   "source": [
    "b1.pages"
   ]
  },
  {
   "cell_type": "code",
   "execution_count": 528,
   "id": "caa93fc6-8b7b-4ae8-9ea4-11fc0fa551ce",
   "metadata": {},
   "outputs": [
    {
     "data": {
      "text/plain": [
       "200"
      ]
     },
     "execution_count": 528,
     "metadata": {},
     "output_type": "execute_result"
    }
   ],
   "source": [
    "b2.pages"
   ]
  },
  {
   "cell_type": "code",
   "execution_count": 530,
   "id": "1c2676ab-b433-4997-baca-97693b361286",
   "metadata": {},
   "outputs": [
    {
     "data": {
      "text/plain": [
       "350"
      ]
     },
     "execution_count": 530,
     "metadata": {},
     "output_type": "execute_result"
    }
   ],
   "source": [
    "b1.pages+b2.pages"
   ]
  },
  {
   "cell_type": "code",
   "execution_count": 536,
   "id": "077cbc51-6fd6-4d28-88f0-b25effb7a41e",
   "metadata": {},
   "outputs": [
    {
     "ename": "TypeError",
     "evalue": "unsupported operand type(s) for +: 'Book' and 'Book'",
     "output_type": "error",
     "traceback": [
      "\u001b[1;31m---------------------------------------------------------------------------\u001b[0m",
      "\u001b[1;31mTypeError\u001b[0m                                 Traceback (most recent call last)",
      "Cell \u001b[1;32mIn[536], line 1\u001b[0m\n\u001b[1;32m----> 1\u001b[0m b1\u001b[38;5;241m+\u001b[39mb2\n",
      "\u001b[1;31mTypeError\u001b[0m: unsupported operand type(s) for +: 'Book' and 'Book'"
     ]
    }
   ],
   "source": [
    "b1+b2"
   ]
  },
  {
   "cell_type": "code",
   "execution_count": 565,
   "id": "f1d7305c-0990-4933-9ab2-5c79b7c96748",
   "metadata": {},
   "outputs": [],
   "source": [
    "class Book:\n",
    "    def __init__(self,pages):\n",
    "        self.pages=pages\n",
    "\n",
    "    def __add__(a,b):\n",
    "        return a.pages+b.pages"
   ]
  },
  {
   "cell_type": "code",
   "execution_count": 567,
   "id": "5d5f4b2f-0bb9-4088-aa68-209cc2e378fd",
   "metadata": {},
   "outputs": [],
   "source": [
    "b1=Book(150)\n",
    "b2=Book(200)"
   ]
  },
  {
   "cell_type": "code",
   "execution_count": 569,
   "id": "fcfd6af6-92cf-48c6-8338-e88be165e7e8",
   "metadata": {},
   "outputs": [
    {
     "data": {
      "text/plain": [
       "350"
      ]
     },
     "execution_count": 569,
     "metadata": {},
     "output_type": "execute_result"
    }
   ],
   "source": [
    "b1+b2"
   ]
  },
  {
   "cell_type": "code",
   "execution_count": 544,
   "id": "56632d83-3d36-4ed8-a891-165e9a008498",
   "metadata": {},
   "outputs": [],
   "source": [
    "# - Python supports opertaor overloading using the magic methods.\n",
    "# - For different opearors different magic methods are defined.\n",
    "# - When we use an opeartor, then Python looks for its magic method inside the class and it excecutes the method.\n",
    "# - We can say an operator acts a function call for the magic method.\n",
    "# - Whatever output we want, that we have to deine inside the magic method."
   ]
  },
  {
   "cell_type": "markdown",
   "id": "2d37338d-01a7-4f62-9941-eaa219cfcdbf",
   "metadata": {},
   "source": [
    "# List of magic methods"
   ]
  },
  {
   "cell_type": "code",
   "execution_count": 571,
   "id": "cdf024b8-6c2b-4a3e-a759-f848b2ab86ed",
   "metadata": {},
   "outputs": [],
   "source": [
    "# + -> __add__(a,b)\n",
    "# - -> __sub__(a,b)\n",
    "# * -> __mul__(a,b)\n",
    "# / -> __div__(a,b)\n",
    "# // -> __floordiv__(a,b)\n",
    "# % -> __mod__(a,b)\n",
    "# ** -> __pow__(a,b)\n",
    "\n",
    "# += -> __iadd__(a,b)\n",
    "# -= -> __isub__(a,b)\n",
    "# *= -> __imul__(a,b)\n",
    "# /= -> __idiv__(a,b)\n",
    "# //= -> __ifloordiv__(a,b)\n",
    "# %= -> __imod__(a,b)\n",
    "# **= -> __ipow__(a,b)"
   ]
  },
  {
   "cell_type": "code",
   "execution_count": 573,
   "id": "dd49d643-d40a-4809-aaf9-2310d9204700",
   "metadata": {},
   "outputs": [],
   "source": [
    "# < -> __lt__(a,b)\n",
    "# <= -> __le__(a,b)\n",
    "# > -> __gt__(a,b)\n",
    "# >= -> __ge__(a,b)\n",
    "# == -> __eq__(a,b)\n",
    "# != -> __ne__(a,b)"
   ]
  },
  {
   "cell_type": "code",
   "execution_count": 575,
   "id": "e581e9fe-813f-447d-88c7-b2047d6f2465",
   "metadata": {},
   "outputs": [],
   "source": [
    "class Student:\n",
    "    def __init__(self,name,marks):\n",
    "        self.name=name\n",
    "        self.marks=marks"
   ]
  },
  {
   "cell_type": "code",
   "execution_count": 577,
   "id": "c4d8819e-a50f-4419-b1ac-66f062ea5a0d",
   "metadata": {},
   "outputs": [],
   "source": [
    "s1=Student('Rahul',88)\n",
    "s2=Student('Suresj',75)"
   ]
  },
  {
   "cell_type": "code",
   "execution_count": 579,
   "id": "c2a8417b-a5c8-4352-ac02-9b41f8a9d3a6",
   "metadata": {},
   "outputs": [
    {
     "ename": "TypeError",
     "evalue": "'<' not supported between instances of 'Student' and 'Student'",
     "output_type": "error",
     "traceback": [
      "\u001b[1;31m---------------------------------------------------------------------------\u001b[0m",
      "\u001b[1;31mTypeError\u001b[0m                                 Traceback (most recent call last)",
      "Cell \u001b[1;32mIn[579], line 1\u001b[0m\n\u001b[1;32m----> 1\u001b[0m s1\u001b[38;5;241m<\u001b[39ms2\n",
      "\u001b[1;31mTypeError\u001b[0m: '<' not supported between instances of 'Student' and 'Student'"
     ]
    }
   ],
   "source": [
    "s1<s2"
   ]
  },
  {
   "cell_type": "code",
   "execution_count": 581,
   "id": "aa3233d5-cfdc-4ca6-878f-d196794d1c5b",
   "metadata": {},
   "outputs": [
    {
     "data": {
      "text/plain": [
       "False"
      ]
     },
     "execution_count": 581,
     "metadata": {},
     "output_type": "execute_result"
    }
   ],
   "source": [
    "s1.marks<s2.marks"
   ]
  },
  {
   "cell_type": "code",
   "execution_count": 585,
   "id": "e3857507-c930-480e-a748-a94cadff9aa4",
   "metadata": {},
   "outputs": [],
   "source": [
    "class Student:\n",
    "    def __init__(self,name,marks):\n",
    "        self.name=name\n",
    "        self.marks=marks\n",
    "\n",
    "    def __lt__(a,b):\n",
    "        return a.marks<b.marks\n",
    "\n",
    "    def __gt__(a,b):\n",
    "        return a.marks>b.marks\n",
    "\n",
    "    def __le__(a,b):\n",
    "        return a.marks<=b.marks\n",
    "\n",
    "    def __ge__(a,b):\n",
    "        return a.marks>=b.marks\n",
    "\n",
    "    def __eq__(a,b):\n",
    "        return a.marks==b.marks\n",
    "\n",
    "    def __ne__(a,b):\n",
    "        return a.marks!=b.marks"
   ]
  },
  {
   "cell_type": "code",
   "execution_count": 587,
   "id": "563ad1e5-a659-4326-b6b4-51b99d551997",
   "metadata": {},
   "outputs": [],
   "source": [
    "s1=Student('Rahul',88)\n",
    "s2=Student('Suresj',75)"
   ]
  },
  {
   "cell_type": "code",
   "execution_count": 589,
   "id": "5fa03556-6d60-4194-b522-91c1c1421514",
   "metadata": {},
   "outputs": [
    {
     "data": {
      "text/plain": [
       "False"
      ]
     },
     "execution_count": 589,
     "metadata": {},
     "output_type": "execute_result"
    }
   ],
   "source": [
    "s1<s2"
   ]
  },
  {
   "cell_type": "code",
   "execution_count": 591,
   "id": "52ae3d71-080e-4486-bd1b-7cebb43972b1",
   "metadata": {},
   "outputs": [
    {
     "data": {
      "text/plain": [
       "True"
      ]
     },
     "execution_count": 591,
     "metadata": {},
     "output_type": "execute_result"
    }
   ],
   "source": [
    "s1>s2"
   ]
  },
  {
   "cell_type": "code",
   "execution_count": 593,
   "id": "f6d3c1a5-4932-4c06-be2e-e62bd37a14a5",
   "metadata": {},
   "outputs": [],
   "source": [
    "s1=Student('Rahul',88)\n",
    "s2=Student('Suresj',88)"
   ]
  },
  {
   "cell_type": "code",
   "execution_count": 595,
   "id": "b0d8a594-deae-4338-9d1e-da72f3488e38",
   "metadata": {},
   "outputs": [
    {
     "data": {
      "text/plain": [
       "True"
      ]
     },
     "execution_count": 595,
     "metadata": {},
     "output_type": "execute_result"
    }
   ],
   "source": [
    "s1==s2"
   ]
  },
  {
   "cell_type": "code",
   "execution_count": 597,
   "id": "218d43be-da43-452e-aa9d-c26ffc57a6eb",
   "metadata": {},
   "outputs": [],
   "source": [
    "class Book:\n",
    "    def __init__(self,pages):\n",
    "        self.pages=pages\n",
    "\n",
    "    def __add__(a,b):\n",
    "        return a.pages+b.pages"
   ]
  },
  {
   "cell_type": "code",
   "execution_count": 599,
   "id": "1bfff33b-930e-43c4-a6ea-7bb03b1e89ad",
   "metadata": {},
   "outputs": [],
   "source": [
    "b1=Book(120)\n",
    "b2=Book(150)"
   ]
  },
  {
   "cell_type": "code",
   "execution_count": 601,
   "id": "ee0033ef-3c47-4d12-beef-b7c6a639dce9",
   "metadata": {},
   "outputs": [
    {
     "data": {
      "text/plain": [
       "270"
      ]
     },
     "execution_count": 601,
     "metadata": {},
     "output_type": "execute_result"
    }
   ],
   "source": [
    "b1+b2"
   ]
  },
  {
   "cell_type": "code",
   "execution_count": 603,
   "id": "0bb32514-d6c3-427c-9c00-c4c9d9591c37",
   "metadata": {},
   "outputs": [],
   "source": [
    "b3=Book(130)"
   ]
  },
  {
   "cell_type": "code",
   "execution_count": 609,
   "id": "5f8110a8-90ae-4078-8756-b6fbb3f683a6",
   "metadata": {},
   "outputs": [
    {
     "ename": "TypeError",
     "evalue": "unsupported operand type(s) for +: 'int' and 'Book'",
     "output_type": "error",
     "traceback": [
      "\u001b[1;31m---------------------------------------------------------------------------\u001b[0m",
      "\u001b[1;31mTypeError\u001b[0m                                 Traceback (most recent call last)",
      "Cell \u001b[1;32mIn[609], line 1\u001b[0m\n\u001b[1;32m----> 1\u001b[0m b1\u001b[38;5;241m+\u001b[39mb2\u001b[38;5;241m+\u001b[39mb3\n",
      "\u001b[1;31mTypeError\u001b[0m: unsupported operand type(s) for +: 'int' and 'Book'"
     ]
    }
   ],
   "source": [
    "b1+b2+b3"
   ]
  },
  {
   "cell_type": "code",
   "execution_count": 627,
   "id": "7baa1e7e-89d1-46f5-9f57-5e766dd48ea6",
   "metadata": {},
   "outputs": [],
   "source": [
    "class Book:\n",
    "    def __init__(self,pages):\n",
    "        self.pages=pages\n",
    "\n",
    "    def __add__(a,b):\n",
    "        total=a.pages+b.pages\n",
    "        return Book(total)\n",
    "\n",
    "    def __str__(self):\n",
    "        return str(self.pages)"
   ]
  },
  {
   "cell_type": "code",
   "execution_count": 629,
   "id": "58b6438c-c9aa-456b-8b3b-694ef0bc1c37",
   "metadata": {},
   "outputs": [],
   "source": [
    "b1=Book(120)\n",
    "b2=Book(150)\n",
    "b3=Book(130)"
   ]
  },
  {
   "cell_type": "code",
   "execution_count": 631,
   "id": "1ca6baa1-31be-4d00-a52f-3cc381846fe3",
   "metadata": {},
   "outputs": [
    {
     "name": "stdout",
     "output_type": "stream",
     "text": [
      "400\n"
     ]
    }
   ],
   "source": [
    "print(b1+b2+b3)"
   ]
  },
  {
   "cell_type": "code",
   "execution_count": 633,
   "id": "f4ba8352-1703-4067-83ea-b172026e74ff",
   "metadata": {},
   "outputs": [],
   "source": [
    "### __str__()"
   ]
  },
  {
   "cell_type": "code",
   "execution_count": 639,
   "id": "937b3da4-7693-4a9f-9b16-b075a286ab83",
   "metadata": {},
   "outputs": [],
   "source": [
    "# - When we don't have __str__ method defined in outr class then Python looks for this method in the super class (object class).\n",
    "# - I this case it executed the method from the super class and we get the output like __main__object at xa145555 etc.\n",
    "# - If we want to change the print behaviour then we have override __str__ method.\n",
    "# - It always gets executed when we use print statement.\n",
    "# - It should always return the string value.\n",
    "# - How we want to print the output we have to define inside the __str__() method."
   ]
  },
  {
   "cell_type": "code",
   "execution_count": 645,
   "id": "45eadc69-1c2e-4a09-ba73-44567b42a70c",
   "metadata": {},
   "outputs": [],
   "source": [
    "class Book:\n",
    "    def __init__(self,pages):\n",
    "        self.pages=pages\n",
    "\n",
    "    def __add__(a,b):\n",
    "        total=a.pages+b.pages\n",
    "        return Book(total)\n",
    "\n",
    "    def __str__(self):\n",
    "        return str(self.pages)"
   ]
  },
  {
   "cell_type": "code",
   "execution_count": 647,
   "id": "aaaf7b7a-2d9e-405d-bf20-d94341fa1aed",
   "metadata": {},
   "outputs": [],
   "source": [
    "b1=Book(220)\n",
    "b2=Book(120)\n",
    "b3=Book(150)"
   ]
  },
  {
   "cell_type": "code",
   "execution_count": 651,
   "id": "4aa311d1-7919-4457-94bf-6131803dbdf8",
   "metadata": {},
   "outputs": [
    {
     "name": "stdout",
     "output_type": "stream",
     "text": [
      "490\n"
     ]
    }
   ],
   "source": [
    "print(b1+b2+b3)"
   ]
  },
  {
   "cell_type": "code",
   "execution_count": 659,
   "id": "e6cb6079-158a-4612-8d5f-d0a6d286cfc7",
   "metadata": {},
   "outputs": [],
   "source": [
    "class Book:\n",
    "    def __init__(self,pages):\n",
    "        self.pages=pages\n",
    "\n",
    "    def __add__(a,b):\n",
    "        total=a.pages+b.pages\n",
    "        return Book(total)\n",
    "\n",
    "    def __str__(self):\n",
    "        return str(self.pages)"
   ]
  },
  {
   "cell_type": "code",
   "execution_count": 661,
   "id": "d4220c50-4547-4939-ac07-4fcf9200d183",
   "metadata": {},
   "outputs": [],
   "source": [
    "b1=Book(220)\n",
    "b2=Book(120)\n",
    "b3=Book(150)"
   ]
  },
  {
   "cell_type": "code",
   "execution_count": 663,
   "id": "c206d53e-aa72-4e8f-825b-6a66844d8a6b",
   "metadata": {},
   "outputs": [
    {
     "name": "stdout",
     "output_type": "stream",
     "text": [
      "490\n"
     ]
    }
   ],
   "source": [
    "print(b1+b2+b3)"
   ]
  },
  {
   "cell_type": "code",
   "execution_count": 667,
   "id": "5385537a-22a7-46af-bf53-dafd62ffc6ab",
   "metadata": {},
   "outputs": [],
   "source": [
    "class Book:\n",
    "    def __init__(self,pages):\n",
    "        self.pages=pages\n",
    "\n",
    "    def __add__(a,b):\n",
    "        total=a.pages+b.pages\n",
    "        return Book(total)\n",
    "\n",
    "    def __str__(self):\n",
    "        return f'The total number of pages- {self.pages}'"
   ]
  },
  {
   "cell_type": "code",
   "execution_count": 674,
   "id": "32744ac4-f1cf-47cc-b3bf-09c2ca051788",
   "metadata": {},
   "outputs": [],
   "source": [
    "b1=Book(220)\n",
    "b2=Book(120)\n",
    "b3=Book(140)"
   ]
  },
  {
   "cell_type": "code",
   "execution_count": 676,
   "id": "441d193a-1ab2-48a2-97db-1328e0778e77",
   "metadata": {},
   "outputs": [
    {
     "name": "stdout",
     "output_type": "stream",
     "text": [
      "The total number of pages- 480\n"
     ]
    }
   ],
   "source": [
    "print(b1+b2+b3)"
   ]
  },
  {
   "cell_type": "markdown",
   "id": "f8c831f2-4104-4b1e-840e-abfe832cfb6b",
   "metadata": {},
   "source": [
    "### method overloading"
   ]
  },
  {
   "cell_type": "code",
   "execution_count": 679,
   "id": "72d43951-0a3f-408a-b100-30b0c43d0e8b",
   "metadata": {},
   "outputs": [],
   "source": [
    "# - When we have more than one methods with the same name in a class then we call it as method overloading."
   ]
  },
  {
   "cell_type": "code",
   "execution_count": 681,
   "id": "9c55adaf-3854-49be-b2ab-9e50b001a02d",
   "metadata": {},
   "outputs": [],
   "source": [
    "class Test:\n",
    "    def m1(self):\n",
    "        print('Hello')\n",
    "\n",
    "    def m1(self):\n",
    "        print('Thanks')"
   ]
  },
  {
   "cell_type": "code",
   "execution_count": 683,
   "id": "49bb89db-4a8d-4d20-b68b-6c8529685471",
   "metadata": {},
   "outputs": [],
   "source": [
    "t=Test()"
   ]
  },
  {
   "cell_type": "code",
   "execution_count": 685,
   "id": "d060abfa-c5e3-49b4-81d8-8a82a20b8de7",
   "metadata": {},
   "outputs": [
    {
     "name": "stdout",
     "output_type": "stream",
     "text": [
      "Thanks\n"
     ]
    }
   ],
   "source": [
    "t.m1()"
   ]
  },
  {
   "cell_type": "code",
   "execution_count": 699,
   "id": "e792a564-9a79-4b80-91a5-f011e33c0691",
   "metadata": {},
   "outputs": [],
   "source": [
    "class Test:\n",
    "    def m1(self):\n",
    "        print('No argument')\n",
    "\n",
    "    def m1(self,a):\n",
    "        print('One argument')"
   ]
  },
  {
   "cell_type": "code",
   "execution_count": 701,
   "id": "f7cdc9f8-5efd-421e-bd57-f2b2ac210075",
   "metadata": {},
   "outputs": [],
   "source": [
    "t=Test()"
   ]
  },
  {
   "cell_type": "code",
   "execution_count": 705,
   "id": "5ff3045f-07ed-41cd-a6a2-277e067d57e0",
   "metadata": {},
   "outputs": [
    {
     "name": "stdout",
     "output_type": "stream",
     "text": [
      "One argument\n"
     ]
    }
   ],
   "source": [
    "t.m1(2)"
   ]
  },
  {
   "cell_type": "code",
   "execution_count": 707,
   "id": "e07a1340-2427-49e9-bf59-c360bc0fe717",
   "metadata": {},
   "outputs": [],
   "source": [
    "# - In Python method overloading is not possible.\n",
    "# - Th reason is the name will refer to the latest object and will drop the previous reference."
   ]
  },
  {
   "cell_type": "markdown",
   "id": "0540159b-d480-475a-8ec1-501ca66f1f40",
   "metadata": {},
   "source": [
    "### constructor overloading"
   ]
  },
  {
   "cell_type": "code",
   "execution_count": 710,
   "id": "139e891a-f6a6-4932-be29-8a115903f48d",
   "metadata": {},
   "outputs": [],
   "source": [
    "# - When we have two constructors in the same class then we call it as constructor overloading."
   ]
  },
  {
   "cell_type": "code",
   "execution_count": 712,
   "id": "767209a4-1466-4d3a-a9f0-977b900fce4b",
   "metadata": {},
   "outputs": [],
   "source": [
    "class Test:\n",
    "    def __init__(self):\n",
    "        print('First constructor')\n",
    "\n",
    "    def __init__(self):\n",
    "        print('Second constructor')"
   ]
  },
  {
   "cell_type": "code",
   "execution_count": 714,
   "id": "83f043d3-cbe3-4c38-b78a-e2cd571576eb",
   "metadata": {},
   "outputs": [
    {
     "name": "stdout",
     "output_type": "stream",
     "text": [
      "Second constructor\n"
     ]
    }
   ],
   "source": [
    "t=Test()"
   ]
  },
  {
   "cell_type": "code",
   "execution_count": 716,
   "id": "040c1427-0dc4-4937-beb5-104b1bc08cda",
   "metadata": {},
   "outputs": [],
   "source": [
    "class Test:\n",
    "    def __init__(self):\n",
    "        print('First constructor')\n",
    "\n",
    "    def __init__(self,a):\n",
    "        print('Second constructor')"
   ]
  },
  {
   "cell_type": "code",
   "execution_count": 718,
   "id": "84635eec-9d89-4996-8dbd-692eb467e580",
   "metadata": {},
   "outputs": [
    {
     "ename": "TypeError",
     "evalue": "Test.__init__() missing 1 required positional argument: 'a'",
     "output_type": "error",
     "traceback": [
      "\u001b[1;31m---------------------------------------------------------------------------\u001b[0m",
      "\u001b[1;31mTypeError\u001b[0m                                 Traceback (most recent call last)",
      "Cell \u001b[1;32mIn[718], line 1\u001b[0m\n\u001b[1;32m----> 1\u001b[0m t\u001b[38;5;241m=\u001b[39mTest()\n",
      "\u001b[1;31mTypeError\u001b[0m: Test.__init__() missing 1 required positional argument: 'a'"
     ]
    }
   ],
   "source": [
    "t=Test()"
   ]
  },
  {
   "cell_type": "code",
   "execution_count": 720,
   "id": "d267a433-d01d-4dcf-8513-38d9eff92d05",
   "metadata": {},
   "outputs": [
    {
     "name": "stdout",
     "output_type": "stream",
     "text": [
      "Second constructor\n"
     ]
    }
   ],
   "source": [
    "t=Test(2)"
   ]
  },
  {
   "cell_type": "code",
   "execution_count": 722,
   "id": "132b8c26-fde6-459b-8835-e35b50fba222",
   "metadata": {},
   "outputs": [],
   "source": [
    "# - In Python constructor overloading is not possible."
   ]
  },
  {
   "cell_type": "markdown",
   "id": "77e5313b-b449-4dd4-bbd0-222a1a84cc0a",
   "metadata": {},
   "source": [
    "# Overriding"
   ]
  },
  {
   "cell_type": "code",
   "execution_count": 725,
   "id": "a0985100-ea73-4c81-a345-e60a0abb45da",
   "metadata": {},
   "outputs": [],
   "source": [
    "# - Method overriding\n",
    "# - Constructor overriding"
   ]
  },
  {
   "cell_type": "markdown",
   "id": "335563c1-e194-4ebd-b495-2162059fcc51",
   "metadata": {},
   "source": [
    "### 1- Method overriding"
   ]
  },
  {
   "cell_type": "code",
   "execution_count": 728,
   "id": "786b2893-f818-4529-9020-aa37d40d9d12",
   "metadata": {},
   "outputs": [],
   "source": [
    "# - Sometimes the child class may not be satisfied with what is provided by the parnt class.\n",
    "# - When a child class overrides a method defined inside the parent class then we call it as method overriding"
   ]
  },
  {
   "cell_type": "code",
   "execution_count": 730,
   "id": "f7d48918-9500-4ea3-9039-03425ae48b83",
   "metadata": {},
   "outputs": [],
   "source": [
    "class P:\n",
    "    def property(self):\n",
    "        print('Land, Cash, Gold')\n",
    "    def study(self):\n",
    "        print('Study nmedicine')\n",
    "    def marriage(self):\n",
    "        print('Marry the girl A')"
   ]
  },
  {
   "cell_type": "code",
   "execution_count": 734,
   "id": "7fb56dc5-8d42-4274-9a55-359976c06560",
   "metadata": {},
   "outputs": [],
   "source": [
    "class C(P):\n",
    "    pass"
   ]
  },
  {
   "cell_type": "code",
   "execution_count": 736,
   "id": "e46e9c79-fa98-4930-a770-9394172b6823",
   "metadata": {},
   "outputs": [],
   "source": [
    "c=C()"
   ]
  },
  {
   "cell_type": "code",
   "execution_count": 738,
   "id": "412fadac-58d9-4ef2-a354-9847309da9a4",
   "metadata": {},
   "outputs": [
    {
     "name": "stdout",
     "output_type": "stream",
     "text": [
      "Land, Cash, Gold\n"
     ]
    }
   ],
   "source": [
    "c.property()"
   ]
  },
  {
   "cell_type": "code",
   "execution_count": 740,
   "id": "3a047b58-388c-47bb-93ae-240db71f1438",
   "metadata": {},
   "outputs": [
    {
     "name": "stdout",
     "output_type": "stream",
     "text": [
      "Study nmedicine\n"
     ]
    }
   ],
   "source": [
    "c.study()"
   ]
  },
  {
   "cell_type": "code",
   "execution_count": 742,
   "id": "537df7ba-d0ca-412d-a9c8-1defa6973bc3",
   "metadata": {},
   "outputs": [
    {
     "name": "stdout",
     "output_type": "stream",
     "text": [
      "Marry the girl A\n"
     ]
    }
   ],
   "source": [
    "c.marriage()"
   ]
  },
  {
   "cell_type": "code",
   "execution_count": 744,
   "id": "71bb0c29-b08c-4b2d-8dfe-bd66c0f983fb",
   "metadata": {},
   "outputs": [],
   "source": [
    "class P:\n",
    "    def property(self):\n",
    "        print('Land, Cash, Gold')\n",
    "    def study(self):\n",
    "        print('Study nmedicine')\n",
    "    def marriage(self):\n",
    "        print('Marry the girl A')"
   ]
  },
  {
   "cell_type": "code",
   "execution_count": 746,
   "id": "f33e7f45-9131-4d95-8668-276a05c0f1fa",
   "metadata": {},
   "outputs": [],
   "source": [
    "class C(P):\n",
    "    def study(self):\n",
    "        print('Study Photography')\n",
    "    def marriage(self):\n",
    "        print('I will marry girl B')"
   ]
  },
  {
   "cell_type": "code",
   "execution_count": 748,
   "id": "03886651-e7d5-4bc2-a6e7-cd64401418c5",
   "metadata": {},
   "outputs": [],
   "source": [
    "c=C()"
   ]
  },
  {
   "cell_type": "code",
   "execution_count": 750,
   "id": "5ba9ac35-fafb-48bd-86be-982a0b45f3c2",
   "metadata": {},
   "outputs": [
    {
     "name": "stdout",
     "output_type": "stream",
     "text": [
      "Land, Cash, Gold\n"
     ]
    }
   ],
   "source": [
    "c.property()"
   ]
  },
  {
   "cell_type": "code",
   "execution_count": 752,
   "id": "06a5f073-4724-4860-a637-463468b9b4a1",
   "metadata": {},
   "outputs": [
    {
     "name": "stdout",
     "output_type": "stream",
     "text": [
      "Study Photography\n"
     ]
    }
   ],
   "source": [
    "c.study()"
   ]
  },
  {
   "cell_type": "code",
   "execution_count": 754,
   "id": "96dbef2f-429f-495a-82f4-c22a714762f2",
   "metadata": {},
   "outputs": [
    {
     "name": "stdout",
     "output_type": "stream",
     "text": [
      "I will marry girl B\n"
     ]
    }
   ],
   "source": [
    "c.marriage()"
   ]
  },
  {
   "cell_type": "code",
   "execution_count": 756,
   "id": "37409acc-cea5-4e49-b1f1-edc29903ef2d",
   "metadata": {},
   "outputs": [],
   "source": [
    "class P:\n",
    "    def property(self):\n",
    "        print('Land, Cash, Gold')\n",
    "    def study(self):\n",
    "        print('Study nmedicine')\n",
    "    def marriage(self):\n",
    "        print('Marry the girl A')"
   ]
  },
  {
   "cell_type": "code",
   "execution_count": 758,
   "id": "78175f14-bf78-4170-840b-fc5f151a10d0",
   "metadata": {},
   "outputs": [],
   "source": [
    "class C(P):\n",
    "    def study(self):\n",
    "        super().study()\n",
    "        print('Study Photography')\n",
    "    def marriage(self):\n",
    "        super().marriage()\n",
    "        print('I will marry girl B')"
   ]
  },
  {
   "cell_type": "code",
   "execution_count": 760,
   "id": "9c512cd7-1076-4517-94dd-8140cb8695fe",
   "metadata": {},
   "outputs": [],
   "source": [
    "c=C()"
   ]
  },
  {
   "cell_type": "code",
   "execution_count": 762,
   "id": "7f351bb6-3e81-4a60-b955-8004dddf8c86",
   "metadata": {},
   "outputs": [
    {
     "name": "stdout",
     "output_type": "stream",
     "text": [
      "Land, Cash, Gold\n"
     ]
    }
   ],
   "source": [
    "c.property()"
   ]
  },
  {
   "cell_type": "code",
   "execution_count": 764,
   "id": "5e99e47f-183d-457b-b809-739416994301",
   "metadata": {},
   "outputs": [
    {
     "name": "stdout",
     "output_type": "stream",
     "text": [
      "Study nmedicine\n",
      "Study Photography\n"
     ]
    }
   ],
   "source": [
    "c.study()"
   ]
  },
  {
   "cell_type": "code",
   "execution_count": 766,
   "id": "aba15c09-56de-4a62-a268-0e9a310ec0a8",
   "metadata": {},
   "outputs": [
    {
     "name": "stdout",
     "output_type": "stream",
     "text": [
      "Marry the girl A\n",
      "I will marry girl B\n"
     ]
    }
   ],
   "source": [
    "c.marriage()"
   ]
  },
  {
   "cell_type": "markdown",
   "id": "13a97893-b11c-427d-ba6c-f3114d2a051a",
   "metadata": {},
   "source": [
    "### Constructor overriding"
   ]
  },
  {
   "cell_type": "code",
   "execution_count": 769,
   "id": "46962015-f3c8-4626-9cff-6379dc6cea2f",
   "metadata": {},
   "outputs": [],
   "source": [
    "# - When only the parent class has the constructor then parent class constructor gets executed.\n",
    "# - When parent and child both the classes have the constructor then child class constructor gets executed.\n",
    "# - This is known as constructor overriding."
   ]
  },
  {
   "cell_type": "code",
   "execution_count": 771,
   "id": "f5d8d76b-4d1e-47bc-b272-cfffdc0686ac",
   "metadata": {},
   "outputs": [],
   "source": [
    "class P:\n",
    "    def __init__(self):\n",
    "        print('Parent class constructor')"
   ]
  },
  {
   "cell_type": "code",
   "execution_count": 773,
   "id": "b146a7d4-ae53-48f6-97db-e3c03861aedb",
   "metadata": {},
   "outputs": [],
   "source": [
    "\n",
    "class C(P):\n",
    "    pass"
   ]
  },
  {
   "cell_type": "code",
   "execution_count": 775,
   "id": "93294a4a-ed24-4bec-bee1-ee1aba5636ec",
   "metadata": {},
   "outputs": [
    {
     "name": "stdout",
     "output_type": "stream",
     "text": [
      "Parent class constructor\n"
     ]
    }
   ],
   "source": [
    "c=C()"
   ]
  },
  {
   "cell_type": "code",
   "execution_count": 777,
   "id": "369b0478-a209-4247-9f64-2ba12a0b91e2",
   "metadata": {},
   "outputs": [],
   "source": [
    "class P:\n",
    "    def __init__(self):\n",
    "        print('Parent class constructor')"
   ]
  },
  {
   "cell_type": "code",
   "execution_count": 779,
   "id": "3a7b3b5d-a484-4d0e-9c67-cb4477dab261",
   "metadata": {},
   "outputs": [],
   "source": [
    "\n",
    "class C(P):\n",
    "    def __init__(self):\n",
    "        print('Child class constructor')"
   ]
  },
  {
   "cell_type": "code",
   "execution_count": 781,
   "id": "2cb0a79a-1721-4ad0-8cf2-211b07828e90",
   "metadata": {},
   "outputs": [
    {
     "name": "stdout",
     "output_type": "stream",
     "text": [
      "Child class constructor\n"
     ]
    }
   ],
   "source": [
    "c=C()"
   ]
  },
  {
   "cell_type": "code",
   "execution_count": 783,
   "id": "0033300c-aec7-4819-a73b-ca91c379d6e9",
   "metadata": {},
   "outputs": [],
   "source": [
    "class P:\n",
    "    def __init__(self):\n",
    "        print('Parent class constructor')"
   ]
  },
  {
   "cell_type": "code",
   "execution_count": 787,
   "id": "43d44426-80c4-454a-b2ef-63dc3c73d5b4",
   "metadata": {},
   "outputs": [],
   "source": [
    "\n",
    "class C(P):\n",
    "    def __init__(self):\n",
    "        super().__init__()\n",
    "        print('Child class constructor')"
   ]
  },
  {
   "cell_type": "code",
   "execution_count": 789,
   "id": "1c6322b1-40f4-4c08-aa62-7b1fdee01712",
   "metadata": {},
   "outputs": [
    {
     "name": "stdout",
     "output_type": "stream",
     "text": [
      "Parent class constructor\n",
      "Child class constructor\n"
     ]
    }
   ],
   "source": [
    "c=C()"
   ]
  },
  {
   "cell_type": "code",
   "execution_count": 791,
   "id": "f25f3011-d3a7-4351-82de-dc6f86379433",
   "metadata": {},
   "outputs": [],
   "source": [
    "# Abstract Classes\n",
    "# Encapsulation- Public, private and protected\n",
    "# Garbage collection"
   ]
  },
  {
   "cell_type": "code",
   "execution_count": null,
   "id": "272588dc-6a20-457a-8d12-012a983c0c66",
   "metadata": {},
   "outputs": [],
   "source": []
  }
 ],
 "metadata": {
  "kernelspec": {
   "display_name": "Python 3 (ipykernel)",
   "language": "python",
   "name": "python3"
  },
  "language_info": {
   "codemirror_mode": {
    "name": "ipython",
    "version": 3
   },
   "file_extension": ".py",
   "mimetype": "text/x-python",
   "name": "python",
   "nbconvert_exporter": "python",
   "pygments_lexer": "ipython3",
   "version": "3.11.4"
  }
 },
 "nbformat": 4,
 "nbformat_minor": 5
}
