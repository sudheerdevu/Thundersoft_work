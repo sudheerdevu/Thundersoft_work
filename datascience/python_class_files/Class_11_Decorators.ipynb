{
 "cells": [
  {
   "cell_type": "markdown",
   "id": "ee4b9618-a724-4a4f-87ca-bb21fd344c10",
   "metadata": {},
   "source": [
    "# Function Properties"
   ]
  },
  {
   "cell_type": "markdown",
   "id": "3779ed26-0e8a-4045-b88a-b522f79bc858",
   "metadata": {},
   "source": [
    "- 1- Function aliasing\n",
    "- 2- A function may be passed as an argument to another function.\n",
    "- 3- A function may be defined inside another function (nested function)\n",
    "- 4- A function may be called inside another function.\n",
    "- 5- A function may return another function."
   ]
  },
  {
   "cell_type": "markdown",
   "id": "1021d989-bc1c-4834-992e-8cbfa718857a",
   "metadata": {},
   "source": [
    "# 1- Function aliasing"
   ]
  },
  {
   "cell_type": "code",
   "execution_count": 14,
   "id": "84efc5d9-b09a-4b31-b514-df169f01d167",
   "metadata": {},
   "outputs": [],
   "source": [
    "# - When we give some name to an existing function then it is function aliasing."
   ]
  },
  {
   "cell_type": "code",
   "execution_count": 16,
   "id": "c784b61c-497f-493e-9ed9-3dc1e09006ac",
   "metadata": {},
   "outputs": [],
   "source": [
    "# variable=function_name"
   ]
  },
  {
   "cell_type": "code",
   "execution_count": 30,
   "id": "5dc45bd1-3a0f-4bf3-84b6-6438c7391a5d",
   "metadata": {},
   "outputs": [],
   "source": [
    "x=print"
   ]
  },
  {
   "cell_type": "code",
   "execution_count": 32,
   "id": "7223bfa2-4106-4446-bbce-44ae2a8b7806",
   "metadata": {},
   "outputs": [
    {
     "name": "stdout",
     "output_type": "stream",
     "text": [
      "Hello\n"
     ]
    }
   ],
   "source": [
    "x('Hello')"
   ]
  },
  {
   "cell_type": "code",
   "execution_count": 34,
   "id": "fe9da3f1-6deb-47ac-8ea3-cfa2da445c24",
   "metadata": {},
   "outputs": [
    {
     "name": "stdout",
     "output_type": "stream",
     "text": [
      "<built-in function print> <class 'builtin_function_or_method'>\n"
     ]
    }
   ],
   "source": [
    "print(x,type(x))"
   ]
  },
  {
   "cell_type": "code",
   "execution_count": 36,
   "id": "92ae7be2-9e16-4e53-a0ba-11fccf95492b",
   "metadata": {},
   "outputs": [],
   "source": [
    "def add(x,y):\n",
    "    return x+y"
   ]
  },
  {
   "cell_type": "code",
   "execution_count": 38,
   "id": "26857c40-b478-4ded-a8f8-debfc1f69577",
   "metadata": {},
   "outputs": [
    {
     "name": "stdout",
     "output_type": "stream",
     "text": [
      "<function add at 0x000001FEE78740E0> <class 'function'>\n"
     ]
    }
   ],
   "source": [
    "print(add,type(add))"
   ]
  },
  {
   "cell_type": "code",
   "execution_count": 40,
   "id": "5841d8c1-bfcc-45a9-afad-5783bf75b2d4",
   "metadata": {},
   "outputs": [],
   "source": [
    "x=add # function aliasing"
   ]
  },
  {
   "cell_type": "code",
   "execution_count": 42,
   "id": "32bfe12d-ca3b-4005-9376-4f0c9c40ec56",
   "metadata": {},
   "outputs": [
    {
     "name": "stdout",
     "output_type": "stream",
     "text": [
      "<function add at 0x000001FEE78740E0> <class 'function'>\n"
     ]
    }
   ],
   "source": [
    "print(x,type(x))"
   ]
  },
  {
   "cell_type": "code",
   "execution_count": 46,
   "id": "8dbdfa41-65fd-4087-a361-97ce353a04f4",
   "metadata": {},
   "outputs": [
    {
     "data": {
      "text/plain": [
       "14"
      ]
     },
     "execution_count": 46,
     "metadata": {},
     "output_type": "execute_result"
    }
   ],
   "source": [
    "add(6,8)"
   ]
  },
  {
   "cell_type": "code",
   "execution_count": 50,
   "id": "9d009d56-7ab4-4acf-8e6e-ea54c1c9e7b3",
   "metadata": {},
   "outputs": [
    {
     "data": {
      "text/plain": [
       "14"
      ]
     },
     "execution_count": 50,
     "metadata": {},
     "output_type": "execute_result"
    }
   ],
   "source": [
    "x(5,9)"
   ]
  },
  {
   "cell_type": "markdown",
   "id": "4174d4f3-4c2e-4f2a-ab29-278cd2bbf0bf",
   "metadata": {},
   "source": [
    "### Function call vs function aliasing"
   ]
  },
  {
   "cell_type": "code",
   "execution_count": 53,
   "id": "bad7fb1d-42c3-4137-826c-2d1a47190f65",
   "metadata": {},
   "outputs": [],
   "source": [
    "a=add # Function aliasing"
   ]
  },
  {
   "cell_type": "code",
   "execution_count": 55,
   "id": "a51cbce4-ddaf-4e0c-81e9-8cd5bf45d72d",
   "metadata": {},
   "outputs": [
    {
     "data": {
      "text/plain": [
       "26"
      ]
     },
     "execution_count": 55,
     "metadata": {},
     "output_type": "execute_result"
    }
   ],
   "source": [
    "a(12,14)"
   ]
  },
  {
   "cell_type": "code",
   "execution_count": 59,
   "id": "4c8edf7b-fadb-485c-b1b4-bb0fe866914d",
   "metadata": {},
   "outputs": [],
   "source": [
    "a=add(6,4) # Function call"
   ]
  },
  {
   "cell_type": "code",
   "execution_count": 61,
   "id": "5a7e2a1e-6479-4956-af89-a92520a720b1",
   "metadata": {},
   "outputs": [
    {
     "name": "stdout",
     "output_type": "stream",
     "text": [
      "10\n"
     ]
    }
   ],
   "source": [
    "print(a)"
   ]
  },
  {
   "cell_type": "markdown",
   "id": "d49d6fd6-22b5-4822-b709-842615dc4588",
   "metadata": {},
   "source": [
    "# 2- Passing a function as an argument"
   ]
  },
  {
   "cell_type": "code",
   "execution_count": 78,
   "id": "5609e900-7abd-4c7a-88ec-7b621c9a7805",
   "metadata": {},
   "outputs": [],
   "source": [
    "def test(a,b):\n",
    "    print(a,type(a))\n",
    "    print(b,type(b))\n",
    "    print(b(2,6))"
   ]
  },
  {
   "cell_type": "code",
   "execution_count": 80,
   "id": "cb7f4678-b9f1-48e2-a654-dd292744216c",
   "metadata": {},
   "outputs": [
    {
     "name": "stdout",
     "output_type": "stream",
     "text": [
      "(5+6j) <class 'complex'>\n",
      "<function add at 0x000001FEE78740E0> <class 'function'>\n",
      "8\n"
     ]
    }
   ],
   "source": [
    "test(5+6j,add)"
   ]
  },
  {
   "cell_type": "code",
   "execution_count": 72,
   "id": "96a55f5f-d9a0-43cb-a3d0-b09cd1f0872c",
   "metadata": {},
   "outputs": [
    {
     "data": {
      "text/plain": [
       "<function __main__.add(x, y)>"
      ]
     },
     "execution_count": 72,
     "metadata": {},
     "output_type": "execute_result"
    }
   ],
   "source": [
    "add"
   ]
  },
  {
   "cell_type": "code",
   "execution_count": 76,
   "id": "8e4ac373-90b4-488f-afdc-2f887718ed7a",
   "metadata": {},
   "outputs": [
    {
     "data": {
      "text/plain": [
       "11"
      ]
     },
     "execution_count": 76,
     "metadata": {},
     "output_type": "execute_result"
    }
   ],
   "source": [
    "add(5,6)"
   ]
  },
  {
   "cell_type": "code",
   "execution_count": 82,
   "id": "5d21e9d0-68e8-4444-aed6-e2cf191e1ec6",
   "metadata": {},
   "outputs": [],
   "source": [
    "# Create a function add that takes two numbers as arguments and adds them.\n",
    "# Create another function main that takes 3 arguments.\n",
    "# The first argument is the function add and the rest two arguments are numbers.\n",
    "# The main function should return the cube of the addtion of both the numbers."
   ]
  },
  {
   "cell_type": "code",
   "execution_count": 84,
   "id": "d6f9dbb9-19e0-49df-bede-f327c6fb5dda",
   "metadata": {},
   "outputs": [],
   "source": [
    "def add(x,y):\n",
    "    return x+y"
   ]
  },
  {
   "cell_type": "code",
   "execution_count": 104,
   "id": "2e102714-458a-4102-bc92-d34ac4327718",
   "metadata": {},
   "outputs": [],
   "source": [
    "def main(a,b,c):\n",
    "    print(a,id(a))"
   ]
  },
  {
   "cell_type": "code",
   "execution_count": 106,
   "id": "690966ae-24dd-46bb-a12b-b91438bdc1a6",
   "metadata": {},
   "outputs": [
    {
     "name": "stdout",
     "output_type": "stream",
     "text": [
      "<function add at 0x000001FEE92D3600> 2194345375232\n"
     ]
    }
   ],
   "source": [
    "main(add,6,8)"
   ]
  },
  {
   "cell_type": "code",
   "execution_count": 108,
   "id": "203aff54-e151-42f7-ad99-f5da6d3e7c2d",
   "metadata": {},
   "outputs": [
    {
     "name": "stdout",
     "output_type": "stream",
     "text": [
      "<function add at 0x000001FEE92D3600> 2194345375232\n"
     ]
    }
   ],
   "source": [
    "print(add,id(add))"
   ]
  },
  {
   "cell_type": "code",
   "execution_count": 110,
   "id": "040a72d2-f2b5-4a33-bd52-ab5ea4d3ec8f",
   "metadata": {},
   "outputs": [],
   "source": [
    "a=add"
   ]
  },
  {
   "cell_type": "code",
   "execution_count": 112,
   "id": "3b84536d-f46c-4aaa-ae91-1f8273f4ae54",
   "metadata": {},
   "outputs": [
    {
     "name": "stdout",
     "output_type": "stream",
     "text": [
      "<function add at 0x000001FEE92D3600> 2194345375232\n",
      "<function add at 0x000001FEE92D3600> 2194345375232\n"
     ]
    }
   ],
   "source": [
    "print(add,id(add))\n",
    "print(a,id(add))"
   ]
  },
  {
   "cell_type": "code",
   "execution_count": 114,
   "id": "25f41409-3cc5-4d68-adcb-a1768dd534b1",
   "metadata": {},
   "outputs": [],
   "source": [
    "def add(x,y):\n",
    "    return x+y"
   ]
  },
  {
   "cell_type": "code",
   "execution_count": 116,
   "id": "13f6953d-2a14-4c38-b215-6fa4b5ef3b95",
   "metadata": {},
   "outputs": [],
   "source": [
    "def main(a,b,c):\n",
    "    r=a(b,c)**3\n",
    "    return r"
   ]
  },
  {
   "cell_type": "code",
   "execution_count": 122,
   "id": "792a545e-a377-4b9b-9c16-3a176d7f9970",
   "metadata": {},
   "outputs": [],
   "source": [
    "res=main(add,3,1)"
   ]
  },
  {
   "cell_type": "code",
   "execution_count": 124,
   "id": "bbd5d353-1697-421e-a78e-eaebda517dcf",
   "metadata": {},
   "outputs": [
    {
     "name": "stdout",
     "output_type": "stream",
     "text": [
      "64\n"
     ]
    }
   ],
   "source": [
    "print(res)"
   ]
  },
  {
   "cell_type": "markdown",
   "id": "883a9304-678e-41c2-8502-e8b037ab94f6",
   "metadata": {},
   "source": [
    "# 3- Defining a function inside another function (Nested Function)"
   ]
  },
  {
   "cell_type": "code",
   "execution_count": 127,
   "id": "22b4725f-4f1d-427b-94b7-ef1f30277706",
   "metadata": {},
   "outputs": [],
   "source": [
    "def outer():\n",
    "    def inner():\n",
    "        pass"
   ]
  },
  {
   "cell_type": "code",
   "execution_count": 129,
   "id": "5b36089e-27b2-45a7-a017-01edfa53cd91",
   "metadata": {},
   "outputs": [],
   "source": [
    "# - Innner function is a local function"
   ]
  },
  {
   "cell_type": "code",
   "execution_count": 131,
   "id": "1d06a005-1cbb-463d-bead-273e409c9ca5",
   "metadata": {},
   "outputs": [],
   "source": [
    "def outer():\n",
    "    print('I am an outer function')\n",
    "    def inner():\n",
    "        print('I am an inner function')"
   ]
  },
  {
   "cell_type": "code",
   "execution_count": 133,
   "id": "a30f943e-7c7f-478f-b63f-db0ec8d90de7",
   "metadata": {},
   "outputs": [
    {
     "name": "stdout",
     "output_type": "stream",
     "text": [
      "I am an outer function\n"
     ]
    }
   ],
   "source": [
    "outer()"
   ]
  },
  {
   "cell_type": "code",
   "execution_count": 135,
   "id": "feec8453-b1c6-48d8-934d-d37c31298ee2",
   "metadata": {},
   "outputs": [],
   "source": [
    "def outer():\n",
    "    print('I am an outer function')\n",
    "    def inner():\n",
    "        print('I am an inner function')\n",
    "    print(inner)"
   ]
  },
  {
   "cell_type": "code",
   "execution_count": 137,
   "id": "9e964133-28be-4847-885d-2b2c432e3693",
   "metadata": {},
   "outputs": [
    {
     "name": "stdout",
     "output_type": "stream",
     "text": [
      "I am an outer function\n",
      "<function outer.<locals>.inner at 0x000001FEE92D3A60>\n"
     ]
    }
   ],
   "source": [
    "outer()"
   ]
  },
  {
   "cell_type": "code",
   "execution_count": 139,
   "id": "f907efa3-a55d-4dae-a39a-93abf4a0831c",
   "metadata": {},
   "outputs": [
    {
     "ename": "NameError",
     "evalue": "name 'inner' is not defined",
     "output_type": "error",
     "traceback": [
      "\u001b[1;31m---------------------------------------------------------------------------\u001b[0m",
      "\u001b[1;31mNameError\u001b[0m                                 Traceback (most recent call last)",
      "Cell \u001b[1;32mIn[139], line 1\u001b[0m\n\u001b[1;32m----> 1\u001b[0m inner()\n",
      "\u001b[1;31mNameError\u001b[0m: name 'inner' is not defined"
     ]
    }
   ],
   "source": [
    "inner()"
   ]
  },
  {
   "cell_type": "code",
   "execution_count": 143,
   "id": "af8465f5-e1e5-42fa-9d96-d316c38e2d10",
   "metadata": {},
   "outputs": [],
   "source": [
    "def outer():\n",
    "    print('I am an outer function')\n",
    "    \n",
    "    def inner():\n",
    "        print('I am an inner function')\n",
    "    \n",
    "    inner()"
   ]
  },
  {
   "cell_type": "code",
   "execution_count": 145,
   "id": "232b9859-90bc-4df8-b2c6-5e7829781714",
   "metadata": {},
   "outputs": [
    {
     "name": "stdout",
     "output_type": "stream",
     "text": [
      "I am an outer function\n",
      "I am an inner function\n"
     ]
    }
   ],
   "source": [
    "outer()"
   ]
  },
  {
   "cell_type": "code",
   "execution_count": 147,
   "id": "5f209eba-33e9-4968-b8cb-dabb8fdf6db2",
   "metadata": {},
   "outputs": [],
   "source": [
    "def test():\n",
    "    print('Hello Python')\n",
    "    def dummy():\n",
    "        print('Thanks!')"
   ]
  },
  {
   "cell_type": "code",
   "execution_count": 149,
   "id": "4f17fddb-a5b2-4be8-a099-9bab9b74d6ba",
   "metadata": {},
   "outputs": [
    {
     "name": "stdout",
     "output_type": "stream",
     "text": [
      "Hello Python\n"
     ]
    }
   ],
   "source": [
    "test()"
   ]
  },
  {
   "cell_type": "code",
   "execution_count": 151,
   "id": "3f227189-10db-43be-85d4-1783232e2f3c",
   "metadata": {},
   "outputs": [],
   "source": [
    "def test():\n",
    "    print('Hello Python')\n",
    "    def dummy():\n",
    "        print('Thanks!')\n",
    "    dummy()"
   ]
  },
  {
   "cell_type": "code",
   "execution_count": 153,
   "id": "4324e75a-d936-4646-a729-297ef3f59db5",
   "metadata": {},
   "outputs": [
    {
     "name": "stdout",
     "output_type": "stream",
     "text": [
      "Hello Python\n",
      "Thanks!\n"
     ]
    }
   ],
   "source": [
    "test()"
   ]
  },
  {
   "cell_type": "code",
   "execution_count": 163,
   "id": "c130ad96-bbb8-4417-89bc-ebd5a9946119",
   "metadata": {},
   "outputs": [],
   "source": [
    "num_1=[10,20,30,40,50,60]\n",
    "num_2=[4,5,6,7,10,9]"
   ]
  },
  {
   "cell_type": "code",
   "execution_count": 169,
   "id": "fdca4cfb-d263-42b1-8c55-207ede4b7ddb",
   "metadata": {},
   "outputs": [],
   "source": [
    "def lst_add(l_1,l_2):\n",
    "    \n",
    "    def add(x,y):\n",
    "        return x+y\n",
    "\n",
    "    return list(map(add,l_1,l_2))"
   ]
  },
  {
   "cell_type": "code",
   "execution_count": 171,
   "id": "e7888552-f156-4452-9630-21c2db085979",
   "metadata": {},
   "outputs": [
    {
     "data": {
      "text/plain": [
       "[14, 25, 36, 47, 60, 69]"
      ]
     },
     "execution_count": 171,
     "metadata": {},
     "output_type": "execute_result"
    }
   ],
   "source": [
    "lst_add(num_1,num_2)"
   ]
  },
  {
   "cell_type": "markdown",
   "id": "561f91f0-d0cc-426c-9ceb-0b9a418346d7",
   "metadata": {},
   "source": [
    "# 4- Calling a function inside another function"
   ]
  },
  {
   "cell_type": "code",
   "execution_count": 174,
   "id": "6e72a474-a463-47e9-b7ca-871e2b8087ff",
   "metadata": {},
   "outputs": [],
   "source": [
    "def square(x):\n",
    "    return x**2"
   ]
  },
  {
   "cell_type": "code",
   "execution_count": 176,
   "id": "fa1c3dbe-eb4a-40f3-9a1a-e9443d7bb8c3",
   "metadata": {},
   "outputs": [
    {
     "data": {
      "text/plain": [
       "25"
      ]
     },
     "execution_count": 176,
     "metadata": {},
     "output_type": "execute_result"
    }
   ],
   "source": [
    "square(5)"
   ]
  },
  {
   "cell_type": "code",
   "execution_count": 182,
   "id": "f68f45a6-a168-4271-899b-2d1d0e384e54",
   "metadata": {},
   "outputs": [],
   "source": [
    "def plus(x,y):\n",
    "    return x+y"
   ]
  },
  {
   "cell_type": "code",
   "execution_count": 184,
   "id": "80e043df-9518-4628-b004-2d8523d9c595",
   "metadata": {},
   "outputs": [
    {
     "data": {
      "text/plain": [
       "8"
      ]
     },
     "execution_count": 184,
     "metadata": {},
     "output_type": "execute_result"
    }
   ],
   "source": [
    "plus(2,6)"
   ]
  },
  {
   "cell_type": "code",
   "execution_count": 190,
   "id": "3004347a-6e7d-41eb-b0e8-997dc6b31d47",
   "metadata": {},
   "outputs": [],
   "source": [
    "def lst_manimulator(l_1,l_2):\n",
    "    return list(map(square,(map(plus,l_1,l_2))))"
   ]
  },
  {
   "cell_type": "code",
   "execution_count": 192,
   "id": "9b5ebc62-6201-4f78-8915-9642855b0280",
   "metadata": {},
   "outputs": [
    {
     "data": {
      "text/plain": [
       "[196, 625, 1296, 2209, 3600, 4761]"
      ]
     },
     "execution_count": 192,
     "metadata": {},
     "output_type": "execute_result"
    }
   ],
   "source": [
    "lst_manimulator(num_1,num_2)"
   ]
  },
  {
   "cell_type": "markdown",
   "id": "5492126c-55d4-4eba-9554-87508823d54a",
   "metadata": {},
   "source": [
    "# 5- A function may return another function"
   ]
  },
  {
   "cell_type": "code",
   "execution_count": 233,
   "id": "ba590a07-86ba-44d5-9863-3ce0cb47a401",
   "metadata": {},
   "outputs": [],
   "source": [
    "def outer():\n",
    "    def inner():\n",
    "        print('I am inner function')\n",
    "    return inner"
   ]
  },
  {
   "cell_type": "code",
   "execution_count": 235,
   "id": "36d0111c-af94-4ca4-8c05-177f84f444df",
   "metadata": {},
   "outputs": [],
   "source": [
    "res=outer()"
   ]
  },
  {
   "cell_type": "code",
   "execution_count": 237,
   "id": "e0875331-8674-4022-820d-c3d054e70d3e",
   "metadata": {},
   "outputs": [
    {
     "name": "stdout",
     "output_type": "stream",
     "text": [
      "<function outer.<locals>.inner at 0x000001FEEB0E1440> <class 'function'>\n"
     ]
    }
   ],
   "source": [
    "print(res,type(res))"
   ]
  },
  {
   "cell_type": "code",
   "execution_count": 240,
   "id": "65454bb9-86cd-4bfa-bcd8-d50eecd69167",
   "metadata": {},
   "outputs": [
    {
     "name": "stdout",
     "output_type": "stream",
     "text": [
      "I am inner function\n"
     ]
    }
   ],
   "source": [
    "res()"
   ]
  },
  {
   "cell_type": "code",
   "execution_count": 257,
   "id": "938907d7-b7ad-400f-9d51-6d41b21318a1",
   "metadata": {},
   "outputs": [],
   "source": [
    "def outer():\n",
    "    def inner():\n",
    "        return 500\n",
    "    print(inner)"
   ]
  },
  {
   "cell_type": "code",
   "execution_count": 259,
   "id": "a4ac118e-260f-42a3-ab71-078485e7d0da",
   "metadata": {},
   "outputs": [
    {
     "name": "stdout",
     "output_type": "stream",
     "text": [
      "<function outer.<locals>.inner at 0x000001FEEB0E1940>\n"
     ]
    }
   ],
   "source": [
    "outer()"
   ]
  },
  {
   "cell_type": "code",
   "execution_count": 261,
   "id": "3f8231b0-03b0-4686-ac86-aec6fcb8a0de",
   "metadata": {},
   "outputs": [],
   "source": [
    "def outer():\n",
    "    def inner():\n",
    "        return 500\n",
    "    return inner"
   ]
  },
  {
   "cell_type": "code",
   "execution_count": 267,
   "id": "e007fdfd-410c-4b1f-b6af-73d3afc7506b",
   "metadata": {},
   "outputs": [
    {
     "name": "stdout",
     "output_type": "stream",
     "text": [
      "<function outer.<locals>.inner at 0x000001FEEB0E3880>\n"
     ]
    }
   ],
   "source": [
    "res=outer()\n",
    "print(res)"
   ]
  },
  {
   "cell_type": "code",
   "execution_count": 269,
   "id": "379e9d7d-42c7-4458-bfc0-6a6b13f896fd",
   "metadata": {},
   "outputs": [],
   "source": [
    "x=res() # Internally inner() is getting called and returning 500"
   ]
  },
  {
   "cell_type": "code",
   "execution_count": 271,
   "id": "257f1ed3-9f1e-4313-9816-26c746cc096e",
   "metadata": {},
   "outputs": [
    {
     "name": "stdout",
     "output_type": "stream",
     "text": [
      "500\n"
     ]
    }
   ],
   "source": [
    "print(x)"
   ]
  },
  {
   "cell_type": "code",
   "execution_count": 281,
   "id": "fb3b6908-37df-4324-b571-d994df057cbb",
   "metadata": {},
   "outputs": [
    {
     "name": "stdout",
     "output_type": "stream",
     "text": [
      "<function outer.<locals>.inner at 0x000001FEEB0E09A0>\n",
      "500\n"
     ]
    }
   ],
   "source": [
    "x=outer()\n",
    "print(x)\n",
    "\n",
    "y=x()\n",
    "print(y)"
   ]
  },
  {
   "cell_type": "code",
   "execution_count": 287,
   "id": "320b384f-87e7-40cd-9187-800a9377872f",
   "metadata": {},
   "outputs": [
    {
     "name": "stdout",
     "output_type": "stream",
     "text": [
      "500\n"
     ]
    }
   ],
   "source": [
    "x=outer()()\n",
    "print(x)"
   ]
  },
  {
   "cell_type": "code",
   "execution_count": 297,
   "id": "0971a016-7f43-4c7f-b6f5-80d2d6ab6d73",
   "metadata": {},
   "outputs": [],
   "source": [
    "def outer():\n",
    "    def inner():\n",
    "        return 500\n",
    "    return inner()"
   ]
  },
  {
   "cell_type": "code",
   "execution_count": 299,
   "id": "e7546064-8adb-4853-bcf9-d0d256c597eb",
   "metadata": {},
   "outputs": [
    {
     "name": "stdout",
     "output_type": "stream",
     "text": [
      "500\n"
     ]
    }
   ],
   "source": [
    "res=outer()\n",
    "print(res)"
   ]
  },
  {
   "cell_type": "code",
   "execution_count": 301,
   "id": "aa978d1b-ace1-4b95-ad5b-f64f134690f0",
   "metadata": {},
   "outputs": [],
   "source": [
    "def outer():\n",
    "    def inner():\n",
    "        print(500)\n",
    "    return inner"
   ]
  },
  {
   "cell_type": "code",
   "execution_count": 303,
   "id": "2abee1ac-d2cb-4bb5-9d37-c2ce4c3c88d5",
   "metadata": {},
   "outputs": [],
   "source": [
    "res=outer()"
   ]
  },
  {
   "cell_type": "code",
   "execution_count": 305,
   "id": "47f48533-c033-40bc-ad0c-14891429ac74",
   "metadata": {},
   "outputs": [
    {
     "name": "stdout",
     "output_type": "stream",
     "text": [
      "<function outer.<locals>.inner at 0x000001FEEB0E3880>\n"
     ]
    }
   ],
   "source": [
    "print(res)"
   ]
  },
  {
   "cell_type": "code",
   "execution_count": 307,
   "id": "5b64e3a1-3adc-4b58-a4a0-8e3cbf1ab2dd",
   "metadata": {},
   "outputs": [
    {
     "name": "stdout",
     "output_type": "stream",
     "text": [
      "500\n"
     ]
    }
   ],
   "source": [
    "res()"
   ]
  },
  {
   "cell_type": "code",
   "execution_count": 309,
   "id": "8aa3d180-174b-4359-8a23-78904f52cab6",
   "metadata": {},
   "outputs": [
    {
     "name": "stdout",
     "output_type": "stream",
     "text": [
      "500\n"
     ]
    }
   ],
   "source": [
    "x=res()"
   ]
  },
  {
   "cell_type": "code",
   "execution_count": 311,
   "id": "4f8ca798-07ba-4bfb-8643-d83a552ab13f",
   "metadata": {},
   "outputs": [
    {
     "name": "stdout",
     "output_type": "stream",
     "text": [
      "None\n"
     ]
    }
   ],
   "source": [
    "print(x)"
   ]
  },
  {
   "cell_type": "code",
   "execution_count": 313,
   "id": "c5eb3059-c86b-4677-b752-ad1e1ccf5dd4",
   "metadata": {},
   "outputs": [],
   "source": [
    "def outer():\n",
    "    def inner():\n",
    "        print(500)\n",
    "    return inner()"
   ]
  },
  {
   "cell_type": "code",
   "execution_count": 315,
   "id": "a0dfd511-f93e-4afb-a500-fb3af43a8a59",
   "metadata": {},
   "outputs": [
    {
     "name": "stdout",
     "output_type": "stream",
     "text": [
      "500\n"
     ]
    }
   ],
   "source": [
    "res=outer()"
   ]
  },
  {
   "cell_type": "code",
   "execution_count": 317,
   "id": "c28ee825-53f2-4646-a742-7af09576eef2",
   "metadata": {},
   "outputs": [
    {
     "name": "stdout",
     "output_type": "stream",
     "text": [
      "None\n"
     ]
    }
   ],
   "source": [
    "print(res)"
   ]
  },
  {
   "cell_type": "markdown",
   "id": "888ebafc-b44f-4102-b20b-ad002a4d0b36",
   "metadata": {},
   "source": [
    "# Recursive Function"
   ]
  },
  {
   "cell_type": "code",
   "execution_count": 320,
   "id": "c0fdd1be-bae6-417f-bd5d-c64b382da810",
   "metadata": {},
   "outputs": [],
   "source": [
    "# - If a function calls itself then we call it as a recursive function.\n",
    "# - If a function call is written inside its own definition then we call it as recursive function.\n",
    "# - It may execute the code infinite times if not terminated."
   ]
  },
  {
   "cell_type": "code",
   "execution_count": 326,
   "id": "2806f52f-a05f-431b-8e50-cee1bacd2240",
   "metadata": {},
   "outputs": [],
   "source": [
    "def test():\n",
    "    test()\n",
    "    pass"
   ]
  },
  {
   "cell_type": "code",
   "execution_count": 332,
   "id": "7c3f7c08-8c6f-4896-8a5e-4ea6e8d38254",
   "metadata": {},
   "outputs": [],
   "source": [
    "def rec():\n",
    "    print('Hello')\n",
    "    rec()"
   ]
  },
  {
   "cell_type": "code",
   "execution_count": 336,
   "id": "3af24629-117b-44eb-a608-f336527f6201",
   "metadata": {},
   "outputs": [],
   "source": [
    "# rec()"
   ]
  },
  {
   "cell_type": "code",
   "execution_count": 338,
   "id": "f4f93845-7b2c-4027-8453-8805249e4770",
   "metadata": {},
   "outputs": [],
   "source": [
    "# - Take password from the user and match it with the existing password.\n",
    "# - If the password is matched then say- Password Matched.\n",
    "# - If not matched then say- Incoorect Password and should ask for the password again."
   ]
  },
  {
   "cell_type": "code",
   "execution_count": 344,
   "id": "7bbbe3ef-829f-4901-9611-0967fe8f6208",
   "metadata": {},
   "outputs": [],
   "source": [
    "def pass_match(pas):\n",
    "    password='ABC@123'\n",
    "    if pas==password:\n",
    "        print('Password matched')\n",
    "    else:\n",
    "        print('Incorrect Password')\n",
    "        pas=input('Enter your password again- ')\n",
    "        pass_match(pas) # Function call"
   ]
  },
  {
   "cell_type": "code",
   "execution_count": 346,
   "id": "4cb473f6-d560-4c95-a44b-230798252b67",
   "metadata": {},
   "outputs": [
    {
     "name": "stdout",
     "output_type": "stream",
     "text": [
      "Incorrect Password\n"
     ]
    },
    {
     "name": "stdin",
     "output_type": "stream",
     "text": [
      "Enter your password again-  456\n"
     ]
    },
    {
     "name": "stdout",
     "output_type": "stream",
     "text": [
      "Incorrect Password\n"
     ]
    },
    {
     "name": "stdin",
     "output_type": "stream",
     "text": [
      "Enter your password again-  abc\n"
     ]
    },
    {
     "name": "stdout",
     "output_type": "stream",
     "text": [
      "Incorrect Password\n"
     ]
    },
    {
     "name": "stdin",
     "output_type": "stream",
     "text": [
      "Enter your password again-  ABC\n"
     ]
    },
    {
     "name": "stdout",
     "output_type": "stream",
     "text": [
      "Incorrect Password\n"
     ]
    },
    {
     "name": "stdin",
     "output_type": "stream",
     "text": [
      "Enter your password again-  ABC@123\n"
     ]
    },
    {
     "name": "stdout",
     "output_type": "stream",
     "text": [
      "Password matched\n"
     ]
    }
   ],
   "source": [
    "pass_match(123)"
   ]
  },
  {
   "cell_type": "code",
   "execution_count": 348,
   "id": "74af3514-aa4d-4643-957c-840c25c62caf",
   "metadata": {},
   "outputs": [],
   "source": [
    "# Recusrive function to calculate the factorial of a number"
   ]
  },
  {
   "cell_type": "markdown",
   "id": "15e0582e-0e37-4b26-a81e-0683c537aab2",
   "metadata": {},
   "source": [
    "# Function Decorators"
   ]
  },
  {
   "cell_type": "code",
   "execution_count": 351,
   "id": "6882be7d-23b8-4085-9862-0e2a1b1c835a",
   "metadata": {},
   "outputs": [],
   "source": [
    "# - When we try to change the behaviour of a function without changing its definition then we call it as function overloading.\n",
    "# - Function overloading can be achieved by using decorators.\n",
    "\n",
    "# - A decorator is a function itself that takes a normal function as an input and returns a function with added features.\n",
    "# - A decorator is a function that takes a function as an argument and returns a function."
   ]
  },
  {
   "cell_type": "code",
   "execution_count": 359,
   "id": "01d95977-19bf-4e1b-b7be-97dba39225ab",
   "metadata": {},
   "outputs": [],
   "source": [
    "def outer(func):\n",
    "    def inner():\n",
    "        pass\n",
    "        # Adding the features to the function\n",
    "    return inner"
   ]
  },
  {
   "cell_type": "code",
   "execution_count": 364,
   "id": "fdb4c7ae-d4f8-4968-b6f1-8f33c3e21888",
   "metadata": {},
   "outputs": [],
   "source": [
    "# - A decorator function always has one inner function that we call it as wrapper.\n",
    "# - Inside the wrapper we add the functionalities to the function passed to the decorator.\n",
    "# - The decorator returns the wrapper."
   ]
  },
  {
   "cell_type": "code",
   "execution_count": 372,
   "id": "f8d50f37-6b4d-41ea-acc5-93a8f1835c49",
   "metadata": {},
   "outputs": [],
   "source": [
    "def decorator(norn_f):\n",
    "    def wrapper():\n",
    "    # Adding features to function norm_f\n",
    "        pass\n",
    "    return wrapper"
   ]
  },
  {
   "cell_type": "code",
   "execution_count": 374,
   "id": "e60d6ea7-78d0-4208-bdb6-1776933688d8",
   "metadata": {},
   "outputs": [],
   "source": [
    "def greet():\n",
    "    return 'Hello'"
   ]
  },
  {
   "cell_type": "code",
   "execution_count": 376,
   "id": "99f3e4cb-5139-4efd-b378-8a17b76e5dcb",
   "metadata": {},
   "outputs": [
    {
     "data": {
      "text/plain": [
       "'Hello'"
      ]
     },
     "execution_count": 376,
     "metadata": {},
     "output_type": "execute_result"
    }
   ],
   "source": [
    "greet()"
   ]
  },
  {
   "cell_type": "code",
   "execution_count": 378,
   "id": "d00b5c4f-2da0-4924-8a17-fe7b5c9db18c",
   "metadata": {},
   "outputs": [],
   "source": [
    "# Output- Hello everyone! Have a good day!"
   ]
  },
  {
   "cell_type": "code",
   "execution_count": 384,
   "id": "6c1c12a6-dc2d-42a2-9b95-22a44e2abba9",
   "metadata": {},
   "outputs": [],
   "source": [
    "def greet_decorator(f):\n",
    "    def wrapper():\n",
    "        print(f)\n",
    "    return wrapper"
   ]
  },
  {
   "cell_type": "code",
   "execution_count": 386,
   "id": "6e6681c3-aeb7-4f9b-b765-99b5aeb6ba52",
   "metadata": {},
   "outputs": [],
   "source": [
    "res=greet_decorator(greet)"
   ]
  },
  {
   "cell_type": "code",
   "execution_count": 390,
   "id": "339755fc-1649-4a39-9b85-1e692de53f6b",
   "metadata": {},
   "outputs": [
    {
     "name": "stdout",
     "output_type": "stream",
     "text": [
      "<function greet_decorator.<locals>.wrapper at 0x000001FEEB1718A0>\n"
     ]
    }
   ],
   "source": [
    "print(res)"
   ]
  },
  {
   "cell_type": "code",
   "execution_count": 392,
   "id": "1b1e615a-bb61-4c88-b49a-8714a4e3f1a0",
   "metadata": {},
   "outputs": [
    {
     "name": "stdout",
     "output_type": "stream",
     "text": [
      "<function greet at 0x000001FEEB4FD940>\n"
     ]
    }
   ],
   "source": [
    "res()"
   ]
  },
  {
   "cell_type": "code",
   "execution_count": 440,
   "id": "979b49c6-c68f-4c1f-810d-e6e8b4c629e4",
   "metadata": {},
   "outputs": [],
   "source": [
    "def greet_decorator(f):\n",
    "    def wrapper():\n",
    "        res=f()\n",
    "        res+=' everyone! Have a good day!'  # Decoration\n",
    "        return res\n",
    "    return wrapper"
   ]
  },
  {
   "cell_type": "code",
   "execution_count": 442,
   "id": "6c250d40-0341-48e9-bb89-551b406c2547",
   "metadata": {},
   "outputs": [],
   "source": [
    "res=greet_decorator(greet)"
   ]
  },
  {
   "cell_type": "code",
   "execution_count": 444,
   "id": "c1e03f39-80ce-48b2-af3b-31fcd2450fe7",
   "metadata": {},
   "outputs": [
    {
     "name": "stdout",
     "output_type": "stream",
     "text": [
      "<function greet_decorator.<locals>.wrapper at 0x000001FEEB153E20>\n"
     ]
    }
   ],
   "source": [
    "print(res)"
   ]
  },
  {
   "cell_type": "code",
   "execution_count": 446,
   "id": "d2ec9c8d-3d0c-4385-996f-86c7fff7f608",
   "metadata": {},
   "outputs": [],
   "source": [
    "fr=res()"
   ]
  },
  {
   "cell_type": "code",
   "execution_count": 448,
   "id": "4c784749-79cb-4c2a-891c-a2900889bc1b",
   "metadata": {},
   "outputs": [
    {
     "name": "stdout",
     "output_type": "stream",
     "text": [
      "Hello everyone! Have a good day!\n"
     ]
    }
   ],
   "source": [
    "print(fr)"
   ]
  },
  {
   "cell_type": "code",
   "execution_count": 454,
   "id": "88376348-d93f-4734-b293-d3b137dab760",
   "metadata": {},
   "outputs": [
    {
     "data": {
      "text/plain": [
       "'Hello everyone! Have a good day!'"
      ]
     },
     "execution_count": 454,
     "metadata": {},
     "output_type": "execute_result"
    }
   ],
   "source": [
    "res()"
   ]
  },
  {
   "cell_type": "code",
   "execution_count": 456,
   "id": "79cc25e3-aa63-41b6-b076-d7d64f6aa727",
   "metadata": {},
   "outputs": [
    {
     "data": {
      "text/plain": [
       "'Hello everyone! Have a good day!'"
      ]
     },
     "execution_count": 456,
     "metadata": {},
     "output_type": "execute_result"
    }
   ],
   "source": [
    "res()"
   ]
  },
  {
   "cell_type": "code",
   "execution_count": 458,
   "id": "a9596047-bd7e-4a79-b830-fdcf933c2238",
   "metadata": {},
   "outputs": [
    {
     "data": {
      "text/plain": [
       "'Hello'"
      ]
     },
     "execution_count": 458,
     "metadata": {},
     "output_type": "execute_result"
    }
   ],
   "source": [
    "greet()"
   ]
  },
  {
   "cell_type": "code",
   "execution_count": 460,
   "id": "d568ec10-5ee7-426b-bc65-b79056228369",
   "metadata": {},
   "outputs": [],
   "source": [
    "def normal():\n",
    "    return 'Normal result'"
   ]
  },
  {
   "cell_type": "code",
   "execution_count": 474,
   "id": "6d882180-1339-4d1a-82a8-0c0aa2fae035",
   "metadata": {},
   "outputs": [],
   "source": [
    "def decorator(f):\n",
    "    def wrapper():\n",
    "        res=f()+' Adding decoration'\n",
    "        return res\n",
    "\n",
    "    return wrapper"
   ]
  },
  {
   "cell_type": "code",
   "execution_count": 476,
   "id": "b145c3a6-eeac-45e3-afce-4e12599ada0b",
   "metadata": {},
   "outputs": [
    {
     "data": {
      "text/plain": [
       "'Normal result Adding decoration'"
      ]
     },
     "execution_count": 476,
     "metadata": {},
     "output_type": "execute_result"
    }
   ],
   "source": [
    "decorator(normal)()"
   ]
  },
  {
   "cell_type": "markdown",
   "id": "6e49008c-b35f-47ae-8ef3-44465a25661a",
   "metadata": {},
   "source": [
    "# Passing arguments to a decorator"
   ]
  },
  {
   "cell_type": "code",
   "execution_count": 479,
   "id": "00539df6-7360-44a2-9f2f-996f1a95d823",
   "metadata": {},
   "outputs": [],
   "source": [
    "def add(x,y):\n",
    "    return x+y"
   ]
  },
  {
   "cell_type": "code",
   "execution_count": 481,
   "id": "d2f5ee7f-a942-45c8-8c63-f301e42ab6f8",
   "metadata": {},
   "outputs": [
    {
     "data": {
      "text/plain": [
       "11"
      ]
     },
     "execution_count": 481,
     "metadata": {},
     "output_type": "execute_result"
    }
   ],
   "source": [
    "add(5,6)"
   ]
  },
  {
   "cell_type": "code",
   "execution_count": 483,
   "id": "0c29f7d1-2a65-4ee0-93f8-4d7637158346",
   "metadata": {},
   "outputs": [],
   "source": [
    "# First square the numbers then add"
   ]
  },
  {
   "cell_type": "code",
   "execution_count": 485,
   "id": "e830ba7e-e6d0-4705-a9d4-e8ec3088b6e6",
   "metadata": {},
   "outputs": [],
   "source": [
    "def add(x,y):\n",
    "    return x**2+y**2"
   ]
  },
  {
   "cell_type": "code",
   "execution_count": 487,
   "id": "6449c056-928b-4dab-b2c4-33532b53888a",
   "metadata": {},
   "outputs": [
    {
     "data": {
      "text/plain": [
       "61"
      ]
     },
     "execution_count": 487,
     "metadata": {},
     "output_type": "execute_result"
    }
   ],
   "source": [
    "add(5,6)"
   ]
  },
  {
   "cell_type": "code",
   "execution_count": 489,
   "id": "393a9219-5555-4af2-b84b-ebd2b50d5b07",
   "metadata": {},
   "outputs": [],
   "source": [
    "def add(x,y):\n",
    "    return x+y"
   ]
  },
  {
   "cell_type": "code",
   "execution_count": 491,
   "id": "7555e4c3-f2e8-494d-8354-d6f460a19908",
   "metadata": {},
   "outputs": [
    {
     "data": {
      "text/plain": [
       "9"
      ]
     },
     "execution_count": 491,
     "metadata": {},
     "output_type": "execute_result"
    }
   ],
   "source": [
    "add(4,5)"
   ]
  },
  {
   "cell_type": "code",
   "execution_count": 495,
   "id": "14f9562f-8356-44b0-bd41-8e0ca44156b7",
   "metadata": {},
   "outputs": [],
   "source": [
    "def decorator(f):\n",
    "    def wrapper():\n",
    "        pass # Decoration takes place here\n",
    "    return wrapper"
   ]
  },
  {
   "cell_type": "code",
   "execution_count": 535,
   "id": "484c35db-c368-46db-8cc6-1901a0693d2a",
   "metadata": {},
   "outputs": [],
   "source": [
    "def decorator(f):\n",
    "    def wrapper(x,y):\n",
    "        x=x**2\n",
    "        y=y**2\n",
    "        return f(x,y)\n",
    "    return wrapper"
   ]
  },
  {
   "cell_type": "code",
   "execution_count": 537,
   "id": "59e3cc96-7b1a-4dee-b248-132b5e503fb2",
   "metadata": {},
   "outputs": [],
   "source": [
    "res=decorator(add)"
   ]
  },
  {
   "cell_type": "code",
   "execution_count": 539,
   "id": "283d48b9-0fe9-44f7-8d22-1e977d46c8a4",
   "metadata": {},
   "outputs": [
    {
     "name": "stdout",
     "output_type": "stream",
     "text": [
      "<function decorator.<locals>.wrapper at 0x000001FEEB8FDF80>\n"
     ]
    }
   ],
   "source": [
    "print(res)"
   ]
  },
  {
   "cell_type": "code",
   "execution_count": 541,
   "id": "e6a0a15c-a52c-4ed1-81e2-cfcb95d0439f",
   "metadata": {},
   "outputs": [
    {
     "data": {
      "text/plain": [
       "61"
      ]
     },
     "execution_count": 541,
     "metadata": {},
     "output_type": "execute_result"
    }
   ],
   "source": [
    "res(5,6)"
   ]
  },
  {
   "cell_type": "code",
   "execution_count": 543,
   "id": "b5878e85-6057-407e-8b1a-0c415290ff9e",
   "metadata": {},
   "outputs": [
    {
     "data": {
      "text/plain": [
       "11"
      ]
     },
     "execution_count": 543,
     "metadata": {},
     "output_type": "execute_result"
    }
   ],
   "source": [
    "add(5,6)"
   ]
  },
  {
   "cell_type": "code",
   "execution_count": 545,
   "id": "57a96dfa-00a4-4492-beb0-b8e303f5d863",
   "metadata": {},
   "outputs": [
    {
     "data": {
      "text/plain": [
       "61"
      ]
     },
     "execution_count": 545,
     "metadata": {},
     "output_type": "execute_result"
    }
   ],
   "source": [
    "res(5,6)"
   ]
  },
  {
   "cell_type": "code",
   "execution_count": 548,
   "id": "466e998e-941b-405e-88a1-d05906cb904c",
   "metadata": {},
   "outputs": [],
   "source": [
    "def my_name(name):\n",
    "    return name"
   ]
  },
  {
   "cell_type": "code",
   "execution_count": 550,
   "id": "5a2ccab7-3c7c-4ef9-94cb-f301ae481437",
   "metadata": {},
   "outputs": [
    {
     "data": {
      "text/plain": [
       "'Amit'"
      ]
     },
     "execution_count": 550,
     "metadata": {},
     "output_type": "execute_result"
    }
   ],
   "source": [
    "my_name('Amit')"
   ]
  },
  {
   "cell_type": "code",
   "execution_count": 552,
   "id": "c6080f27-21ce-4b48-b30c-74ea53eafff8",
   "metadata": {},
   "outputs": [],
   "source": [
    "# Output- My name is Amit"
   ]
  },
  {
   "cell_type": "code",
   "execution_count": 570,
   "id": "f2a65bc0-0866-4d8f-89b1-fed69c63c130",
   "metadata": {},
   "outputs": [],
   "source": [
    "def decorate_name(f):\n",
    "    def wrapper(x):\n",
    "        return 'My name is '+f(x)\n",
    "    return wrapper"
   ]
  },
  {
   "cell_type": "code",
   "execution_count": 576,
   "id": "18fbaf77-f10d-4bb2-851d-dfea36c603f7",
   "metadata": {},
   "outputs": [],
   "source": [
    "mod_name=decorate_name(my_name)"
   ]
  },
  {
   "cell_type": "code",
   "execution_count": 580,
   "id": "f4a319bb-1a65-4d13-88b6-3740b19ecbc8",
   "metadata": {},
   "outputs": [
    {
     "data": {
      "text/plain": [
       "'Sonu'"
      ]
     },
     "execution_count": 580,
     "metadata": {},
     "output_type": "execute_result"
    }
   ],
   "source": [
    "my_name('Sonu')"
   ]
  },
  {
   "cell_type": "code",
   "execution_count": 582,
   "id": "ceab2491-ff84-47d8-9bdb-67d25a820468",
   "metadata": {},
   "outputs": [
    {
     "data": {
      "text/plain": [
       "'My name is Sonu'"
      ]
     },
     "execution_count": 582,
     "metadata": {},
     "output_type": "execute_result"
    }
   ],
   "source": [
    "mod_name('Sonu')"
   ]
  },
  {
   "cell_type": "code",
   "execution_count": 614,
   "id": "bed6922f-a95a-4f2b-a596-79434feed647",
   "metadata": {},
   "outputs": [],
   "source": [
    "def record(**x):\n",
    "    return x"
   ]
  },
  {
   "cell_type": "code",
   "execution_count": 616,
   "id": "c535af8b-a2ea-4bb6-a787-af9034ea044c",
   "metadata": {},
   "outputs": [
    {
     "data": {
      "text/plain": [
       "{'name': 'Suresh', 'age': 25, 'city': 'Pune'}"
      ]
     },
     "execution_count": 616,
     "metadata": {},
     "output_type": "execute_result"
    }
   ],
   "source": [
    "record(name='Suresh',age=25,city='Pune')"
   ]
  },
  {
   "cell_type": "code",
   "execution_count": 618,
   "id": "a3e58328-3155-4ad4-b371-410538d36564",
   "metadata": {},
   "outputs": [],
   "source": [
    "# Output- The name is Suresh\n",
    "# Suresh is 25 years old\n",
    "# Suresh belongs to Pune"
   ]
  },
  {
   "cell_type": "code",
   "execution_count": 642,
   "id": "39ac6a38-99f6-48a4-85a3-9b8eb6f7de67",
   "metadata": {},
   "outputs": [],
   "source": [
    "def record_decorat(f):\n",
    "    def wrapper(**x):\n",
    "        d=f(**x)\n",
    "        for i in d:\n",
    "            if i=='name':\n",
    "                print(f'The name is {d[i]}')\n",
    "            elif i=='age':\n",
    "                print(f\"{d['name']} is {d[i]} years old\")\n",
    "            elif i=='city':\n",
    "                print(f\"{d['name']} belongs to {d[i]}\")\n",
    "    return wrapper"
   ]
  },
  {
   "cell_type": "code",
   "execution_count": 644,
   "id": "28afefda-2ccf-4ded-88c3-035fc7021d80",
   "metadata": {},
   "outputs": [],
   "source": [
    "res=record_decorat(record)"
   ]
  },
  {
   "cell_type": "code",
   "execution_count": 649,
   "id": "7e4d7af6-9364-4cdc-8526-62122c82fd64",
   "metadata": {},
   "outputs": [
    {
     "name": "stdout",
     "output_type": "stream",
     "text": [
      "The name is Amit\n",
      "Amit is 24 years old\n",
      "Amit belongs to Pune\n"
     ]
    }
   ],
   "source": [
    "res(name='Amit',age=24,city='Pune')"
   ]
  },
  {
   "cell_type": "code",
   "execution_count": 652,
   "id": "168e04cf-425e-4573-9294-c897e69c5235",
   "metadata": {},
   "outputs": [
    {
     "data": {
      "text/plain": [
       "{'name': 'Amit', 'age': 24, 'city': 'Pune'}"
      ]
     },
     "execution_count": 652,
     "metadata": {},
     "output_type": "execute_result"
    }
   ],
   "source": [
    "record(name='Amit',age=24,city='Pune')"
   ]
  },
  {
   "cell_type": "code",
   "execution_count": 654,
   "id": "d7c79f8e-952a-4b8a-beb7-1741eded61ff",
   "metadata": {},
   "outputs": [
    {
     "name": "stdout",
     "output_type": "stream",
     "text": [
      "The name is Amit\n",
      "Amit is 24 years old\n",
      "Amit belongs to Pune\n"
     ]
    }
   ],
   "source": [
    "res(name='Amit',age=24,city='Pune')"
   ]
  },
  {
   "cell_type": "code",
   "execution_count": 656,
   "id": "a566d44f-f356-4434-83d4-83b21b2ed54f",
   "metadata": {},
   "outputs": [],
   "source": [
    "def div(x,y):\n",
    "    return x/y"
   ]
  },
  {
   "cell_type": "code",
   "execution_count": 673,
   "id": "ccf5fdcb-30f1-49a4-bf21-bdd1dff0caf7",
   "metadata": {},
   "outputs": [
    {
     "data": {
      "text/plain": [
       "3.0"
      ]
     },
     "execution_count": 673,
     "metadata": {},
     "output_type": "execute_result"
    }
   ],
   "source": [
    "div(12,4)"
   ]
  },
  {
   "cell_type": "code",
   "execution_count": 687,
   "id": "1aca11d3-5aba-402d-8d8c-1b0246ef765c",
   "metadata": {},
   "outputs": [],
   "source": [
    "def div_decorator(f):\n",
    "    def wrapper(n,d):\n",
    "        if d==0:\n",
    "            print(\"We can not divide by zero\")\n",
    "        else:\n",
    "            return f(n,d)\n",
    "    return wrapper"
   ]
  },
  {
   "cell_type": "code",
   "execution_count": 689,
   "id": "c33dc507-c159-473d-9548-c9db1ccca7df",
   "metadata": {},
   "outputs": [],
   "source": [
    "res=div_decorator(div)"
   ]
  },
  {
   "cell_type": "code",
   "execution_count": 693,
   "id": "25b48b22-4cae-412d-9674-302190b55299",
   "metadata": {},
   "outputs": [
    {
     "data": {
      "text/plain": [
       "2.5"
      ]
     },
     "execution_count": 693,
     "metadata": {},
     "output_type": "execute_result"
    }
   ],
   "source": [
    "res(5,2)"
   ]
  },
  {
   "cell_type": "code",
   "execution_count": 695,
   "id": "211bf180-7bc7-432d-a399-38acb322a797",
   "metadata": {},
   "outputs": [
    {
     "ename": "ZeroDivisionError",
     "evalue": "division by zero",
     "output_type": "error",
     "traceback": [
      "\u001b[1;31m---------------------------------------------------------------------------\u001b[0m",
      "\u001b[1;31mZeroDivisionError\u001b[0m                         Traceback (most recent call last)",
      "Cell \u001b[1;32mIn[695], line 1\u001b[0m\n\u001b[1;32m----> 1\u001b[0m div(\u001b[38;5;241m3\u001b[39m,\u001b[38;5;241m0\u001b[39m)\n",
      "Cell \u001b[1;32mIn[656], line 2\u001b[0m, in \u001b[0;36mdiv\u001b[1;34m(x, y)\u001b[0m\n\u001b[0;32m      1\u001b[0m \u001b[38;5;28;01mdef\u001b[39;00m \u001b[38;5;21mdiv\u001b[39m(x,y):\n\u001b[1;32m----> 2\u001b[0m     \u001b[38;5;28;01mreturn\u001b[39;00m x\u001b[38;5;241m/\u001b[39my\n",
      "\u001b[1;31mZeroDivisionError\u001b[0m: division by zero"
     ]
    }
   ],
   "source": [
    "div(3,0)"
   ]
  },
  {
   "cell_type": "code",
   "execution_count": 697,
   "id": "b23cdf52-787d-4233-8646-cc2616bcdc21",
   "metadata": {},
   "outputs": [
    {
     "name": "stdout",
     "output_type": "stream",
     "text": [
      "We can not divide by zero\n"
     ]
    }
   ],
   "source": [
    "res(3,0)"
   ]
  },
  {
   "cell_type": "code",
   "execution_count": 699,
   "id": "98ef3543-ef4e-4be0-8eee-c641e9b5bfd8",
   "metadata": {},
   "outputs": [
    {
     "data": {
      "text/plain": [
       "1.5"
      ]
     },
     "execution_count": 699,
     "metadata": {},
     "output_type": "execute_result"
    }
   ],
   "source": [
    "div(3,2)"
   ]
  },
  {
   "cell_type": "code",
   "execution_count": 701,
   "id": "e6d25028-cfe5-43f2-b583-4a62ed1c6b56",
   "metadata": {},
   "outputs": [
    {
     "data": {
      "text/plain": [
       "1.5"
      ]
     },
     "execution_count": 701,
     "metadata": {},
     "output_type": "execute_result"
    }
   ],
   "source": [
    "res(3,2)"
   ]
  },
  {
   "cell_type": "markdown",
   "id": "f0a5b0e4-178a-418b-b076-314cad93b2e5",
   "metadata": {},
   "source": [
    "# Another way of calling a decorator"
   ]
  },
  {
   "cell_type": "code",
   "execution_count": 704,
   "id": "ac980304-5ced-432c-99e1-eea993c8bcef",
   "metadata": {},
   "outputs": [],
   "source": [
    "# @decorator_name\n",
    "# function definition"
   ]
  },
  {
   "cell_type": "code",
   "execution_count": 706,
   "id": "ed6d328e-17be-47f1-b923-232bd2db9463",
   "metadata": {},
   "outputs": [],
   "source": [
    "def greet_decorater(f):\n",
    "    def wrapper():\n",
    "        return f()+'! Have a good day!'\n",
    "    return wrapper"
   ]
  },
  {
   "cell_type": "code",
   "execution_count": 708,
   "id": "a2727ab7-1eee-45da-b0a6-3dff80267bf3",
   "metadata": {},
   "outputs": [],
   "source": [
    "def greet():\n",
    "    return 'Hello'"
   ]
  },
  {
   "cell_type": "code",
   "execution_count": 712,
   "id": "3d54b71a-6d8e-44a6-a412-819ab8adb4f5",
   "metadata": {},
   "outputs": [
    {
     "data": {
      "text/plain": [
       "'Hello! Have a good day!'"
      ]
     },
     "execution_count": 712,
     "metadata": {},
     "output_type": "execute_result"
    }
   ],
   "source": [
    "greet_decorater(greet)()"
   ]
  },
  {
   "cell_type": "code",
   "execution_count": 714,
   "id": "2467b67b-83aa-46ea-80b0-812647b9d571",
   "metadata": {},
   "outputs": [
    {
     "data": {
      "text/plain": [
       "'Hello'"
      ]
     },
     "execution_count": 714,
     "metadata": {},
     "output_type": "execute_result"
    }
   ],
   "source": [
    "greet()"
   ]
  },
  {
   "cell_type": "code",
   "execution_count": 716,
   "id": "9e2ec9e8-004a-410b-92fd-951b283b2e5e",
   "metadata": {},
   "outputs": [],
   "source": [
    "@greet_decorater\n",
    "def greetings():\n",
    "    return 'Hello'"
   ]
  },
  {
   "cell_type": "code",
   "execution_count": 718,
   "id": "ed6bffc5-a32f-4b0b-8085-f0f83046cbce",
   "metadata": {},
   "outputs": [
    {
     "data": {
      "text/plain": [
       "'Hello! Have a good day!'"
      ]
     },
     "execution_count": 718,
     "metadata": {},
     "output_type": "execute_result"
    }
   ],
   "source": [
    "greetings()"
   ]
  },
  {
   "cell_type": "code",
   "execution_count": 720,
   "id": "18aef2f5-e59e-41df-bb86-39840f40a464",
   "metadata": {},
   "outputs": [
    {
     "data": {
      "text/plain": [
       "'Hello! Have a good day!'"
      ]
     },
     "execution_count": 720,
     "metadata": {},
     "output_type": "execute_result"
    }
   ],
   "source": [
    "greetings()"
   ]
  },
  {
   "cell_type": "code",
   "execution_count": 724,
   "id": "6c2a7138-e053-4b53-b2df-e786c592d0c3",
   "metadata": {},
   "outputs": [],
   "source": [
    "def name_decorator(f):\n",
    "    def wrapper(name):\n",
    "        return 'My name is '+f(name)\n",
    "    return wrapper"
   ]
  },
  {
   "cell_type": "code",
   "execution_count": 730,
   "id": "82490f85-88ce-477c-aba9-0810fe079da0",
   "metadata": {},
   "outputs": [],
   "source": [
    "@name_decorator\n",
    "def my_name(name):\n",
    "    return name"
   ]
  },
  {
   "cell_type": "code",
   "execution_count": 732,
   "id": "1120ad5f-2e72-4a75-aa8f-13f2f8aa2555",
   "metadata": {},
   "outputs": [
    {
     "data": {
      "text/plain": [
       "'My name is Amit'"
      ]
     },
     "execution_count": 732,
     "metadata": {},
     "output_type": "execute_result"
    }
   ],
   "source": [
    "my_name('Amit')"
   ]
  },
  {
   "cell_type": "code",
   "execution_count": 734,
   "id": "b173c125-7501-4475-9e85-6cc63d046f4b",
   "metadata": {},
   "outputs": [
    {
     "data": {
      "text/plain": [
       "'My name is Tina'"
      ]
     },
     "execution_count": 734,
     "metadata": {},
     "output_type": "execute_result"
    }
   ],
   "source": [
    "my_name('Tina')"
   ]
  },
  {
   "cell_type": "markdown",
   "id": "ace4f289-e3b5-4eee-85e6-07f3f7b497bf",
   "metadata": {},
   "source": [
    "# Decorator Chain"
   ]
  },
  {
   "cell_type": "code",
   "execution_count": 737,
   "id": "2b06d387-d65a-4c38-91ce-b7939e7b2a9c",
   "metadata": {},
   "outputs": [],
   "source": [
    "# We can apply more than one decorator on a function"
   ]
  },
  {
   "cell_type": "code",
   "execution_count": 739,
   "id": "289f66ff-a755-4cf2-b2be-e22ded19ee19",
   "metadata": {},
   "outputs": [],
   "source": [
    "# @decorator1\n",
    "# @decorator2\n",
    "# function definition"
   ]
  },
  {
   "cell_type": "code",
   "execution_count": 745,
   "id": "c0ba0a1d-7d67-4dcd-9d93-a12f2b779eaa",
   "metadata": {},
   "outputs": [],
   "source": [
    "# Fisrt decorator2 will be applied on the function.\n",
    "# Whatever result is generated from decorator2 will go to decorator1"
   ]
  },
  {
   "cell_type": "code",
   "execution_count": 769,
   "id": "5a16d2d4-f588-4a76-89ae-5525f3a698d4",
   "metadata": {},
   "outputs": [],
   "source": [
    "def deco_1(f):\n",
    "    def wrapper(x,y):\n",
    "        return f(x,y)*2\n",
    "    return wrapper"
   ]
  },
  {
   "cell_type": "code",
   "execution_count": 771,
   "id": "cca6713f-07dc-4cfe-8d85-b0c1d8c4f220",
   "metadata": {},
   "outputs": [],
   "source": [
    "def deco_2(f):\n",
    "    def wrapper(x,y):\n",
    "        return f(x,y)**2\n",
    "    return wrapper"
   ]
  },
  {
   "cell_type": "code",
   "execution_count": 773,
   "id": "79fe678a-9049-4433-8b00-44dd6c389331",
   "metadata": {},
   "outputs": [],
   "source": [
    "@deco_1\n",
    "def add(x,y):\n",
    "    return x+y"
   ]
  },
  {
   "cell_type": "code",
   "execution_count": 775,
   "id": "1874732c-e56c-423a-949f-bacd7b35055a",
   "metadata": {},
   "outputs": [
    {
     "data": {
      "text/plain": [
       "16"
      ]
     },
     "execution_count": 775,
     "metadata": {},
     "output_type": "execute_result"
    }
   ],
   "source": [
    "add(2,6)"
   ]
  },
  {
   "cell_type": "code",
   "execution_count": 777,
   "id": "670aa1a9-a173-4a0b-9c0b-82884adc2e81",
   "metadata": {},
   "outputs": [],
   "source": [
    "@deco_2\n",
    "def add(x,y):\n",
    "    return x+y"
   ]
  },
  {
   "cell_type": "code",
   "execution_count": 779,
   "id": "c4543729-9e1b-4118-9fa4-ca80d6f02e27",
   "metadata": {},
   "outputs": [
    {
     "data": {
      "text/plain": [
       "25"
      ]
     },
     "execution_count": 779,
     "metadata": {},
     "output_type": "execute_result"
    }
   ],
   "source": [
    "add(2,3)"
   ]
  },
  {
   "cell_type": "code",
   "execution_count": 781,
   "id": "6f6841a2-f7ea-4970-a5f1-c5b356a82bed",
   "metadata": {},
   "outputs": [],
   "source": [
    "@deco_1\n",
    "@deco_2\n",
    "def add(x,y):\n",
    "    return x+y"
   ]
  },
  {
   "cell_type": "code",
   "execution_count": 783,
   "id": "804eafb6-73e4-4b20-939f-014a083cfa67",
   "metadata": {},
   "outputs": [
    {
     "data": {
      "text/plain": [
       "50"
      ]
     },
     "execution_count": 783,
     "metadata": {},
     "output_type": "execute_result"
    }
   ],
   "source": [
    "add(2,3)"
   ]
  },
  {
   "cell_type": "code",
   "execution_count": 785,
   "id": "05557de6-20e2-4e18-b730-44223cb47b71",
   "metadata": {},
   "outputs": [
    {
     "data": {
      "text/plain": [
       "50"
      ]
     },
     "execution_count": 785,
     "metadata": {},
     "output_type": "execute_result"
    }
   ],
   "source": [
    "25*2"
   ]
  },
  {
   "cell_type": "code",
   "execution_count": 787,
   "id": "06f50646-c710-4c29-b65d-75a0c0a2954f",
   "metadata": {},
   "outputs": [],
   "source": [
    "@deco_2\n",
    "@deco_1\n",
    "def add(x,y):\n",
    "    return x+y"
   ]
  },
  {
   "cell_type": "code",
   "execution_count": 789,
   "id": "c53e9591-3da0-4351-abcf-6ff1aae2a012",
   "metadata": {},
   "outputs": [
    {
     "data": {
      "text/plain": [
       "100"
      ]
     },
     "execution_count": 789,
     "metadata": {},
     "output_type": "execute_result"
    }
   ],
   "source": [
    "add(2,3)"
   ]
  },
  {
   "cell_type": "code",
   "execution_count": 798,
   "id": "6570a5cb-6c18-4097-aaed-c099c95dfd25",
   "metadata": {},
   "outputs": [],
   "source": [
    "choice=0"
   ]
  },
  {
   "cell_type": "code",
   "execution_count": 800,
   "id": "0ac9fdc3-2cb0-414e-ad82-bc8429f703c8",
   "metadata": {},
   "outputs": [],
   "source": [
    "if choice==1:\n",
    "    @deco_1\n",
    "    def add(x,y):\n",
    "        return x+y\n",
    "else:\n",
    "    @deco_2\n",
    "    def add(x,y):\n",
    "        return x+y"
   ]
  },
  {
   "cell_type": "code",
   "execution_count": 802,
   "id": "5d9880ae-7e4d-44eb-bf95-56c99a30cc54",
   "metadata": {},
   "outputs": [
    {
     "data": {
      "text/plain": [
       "25"
      ]
     },
     "execution_count": 802,
     "metadata": {},
     "output_type": "execute_result"
    }
   ],
   "source": [
    "add(2,3)"
   ]
  },
  {
   "cell_type": "code",
   "execution_count": 811,
   "id": "89b4ef4f-2e5c-4047-a0c0-8b6d2ee50ea4",
   "metadata": {},
   "outputs": [],
   "source": [
    "def dict_to_vector(d):\n",
    "    v=[]\n",
    "    for i in range(max(d.keys())+1):\n",
    "        if i in d:\n",
    "            v.append(d[i])\n",
    "        else:\n",
    "            v.append(0)\n",
    "    return v"
   ]
  },
  {
   "cell_type": "code",
   "execution_count": 807,
   "id": "c206bb8d-cb4a-41d8-ba1a-c029d4005190",
   "metadata": {},
   "outputs": [],
   "source": [
    "def _vector_to_dict(v):\n",
    "    pass"
   ]
  },
  {
   "cell_type": "code",
   "execution_count": 813,
   "id": "bfd411e1-a0c6-47f3-81dc-3282fc94ab28",
   "metadata": {},
   "outputs": [],
   "source": [
    "d={0:5,6:8,9:2,15:4}"
   ]
  },
  {
   "cell_type": "code",
   "execution_count": 817,
   "id": "339ca3bf-1eb7-43de-aeb1-747b2c767288",
   "metadata": {},
   "outputs": [
    {
     "name": "stdout",
     "output_type": "stream",
     "text": [
      "[5, 0, 0, 0, 0, 0, 8, 0, 0, 2, 0, 0, 0, 0, 0, 4]\n"
     ]
    }
   ],
   "source": [
    "vector=dict_to_vector(d)\n",
    "print(vector)"
   ]
  },
  {
   "cell_type": "code",
   "execution_count": null,
   "id": "51b1a321-86a0-4b2f-94df-96ef45f94745",
   "metadata": {},
   "outputs": [],
   "source": []
  }
 ],
 "metadata": {
  "kernelspec": {
   "display_name": "Python 3 (ipykernel)",
   "language": "python",
   "name": "python3"
  },
  "language_info": {
   "codemirror_mode": {
    "name": "ipython",
    "version": 3
   },
   "file_extension": ".py",
   "mimetype": "text/x-python",
   "name": "python",
   "nbconvert_exporter": "python",
   "pygments_lexer": "ipython3",
   "version": "3.11.4"
  }
 },
 "nbformat": 4,
 "nbformat_minor": 5
}
