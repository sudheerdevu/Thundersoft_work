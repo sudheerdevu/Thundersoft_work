{
 "cells": [
  {
   "cell_type": "code",
   "execution_count": 1,
   "id": "08d6079e-115a-4295-8469-072443d4f724",
   "metadata": {},
   "outputs": [],
   "source": [
    "# - What is a class?\n",
    "# - What is an object?\n",
    "# - What are attributes and behaviour?\n",
    "# - What is a constructor?\n",
    "# - Why do we need a constructor?\n",
    "# - What is self and use of it?"
   ]
  },
  {
   "cell_type": "markdown",
   "id": "464bb5a8-29b1-4118-80c3-056916001067",
   "metadata": {},
   "source": [
    "# User defined constructor"
   ]
  },
  {
   "cell_type": "code",
   "execution_count": 6,
   "id": "43cb8e64-4e94-467e-9837-2a061e761572",
   "metadata": {},
   "outputs": [],
   "source": [
    "class Student:\n",
    "    def __init__(self):\n",
    "        self.name='Rahul'\n",
    "        self.age=22\n",
    "\n",
    "    def display(self):\n",
    "        print(f'Name- {self.name}')\n",
    "        print(f'Age- {self.age}')"
   ]
  },
  {
   "cell_type": "code",
   "execution_count": 8,
   "id": "fa1096f5-7471-4e6f-a9d0-20731fa9f492",
   "metadata": {},
   "outputs": [],
   "source": [
    "s=Student()"
   ]
  },
  {
   "cell_type": "code",
   "execution_count": 10,
   "id": "99144f46-fd5d-48a6-88f8-d2c18512a814",
   "metadata": {},
   "outputs": [
    {
     "name": "stdout",
     "output_type": "stream",
     "text": [
      "Name- Rahul\n",
      "Age- 22\n"
     ]
    }
   ],
   "source": [
    "s.display()"
   ]
  },
  {
   "cell_type": "code",
   "execution_count": 14,
   "id": "e334fcf9-a174-46c7-bcb1-5fbb324d5d82",
   "metadata": {},
   "outputs": [
    {
     "name": "stdout",
     "output_type": "stream",
     "text": [
      "Rahul\n"
     ]
    }
   ],
   "source": [
    "print(s.name)"
   ]
  },
  {
   "cell_type": "code",
   "execution_count": 16,
   "id": "928b6e7b-b338-4bf3-87b7-b8a17233b00b",
   "metadata": {},
   "outputs": [],
   "source": [
    "# Define your own constructor with the name my_constructotr()"
   ]
  },
  {
   "cell_type": "code",
   "execution_count": 34,
   "id": "8c2dc20a-d77b-4e52-ba27-faa28b76f836",
   "metadata": {},
   "outputs": [],
   "source": [
    "class Test:\n",
    "    def my_constructor(self):\n",
    "        self.name='Rahul'\n",
    "        self.age=22\n",
    "\n",
    "    def display(self):\n",
    "        print(f'Name- {self.name}')\n",
    "        print(f'Age- {self.age}')"
   ]
  },
  {
   "cell_type": "code",
   "execution_count": 36,
   "id": "d248c772-0b30-4c99-9624-74542298dee1",
   "metadata": {},
   "outputs": [],
   "source": [
    "t=Test()"
   ]
  },
  {
   "cell_type": "code",
   "execution_count": 38,
   "id": "a0a1a931-847b-4768-8f07-a810aa465de3",
   "metadata": {},
   "outputs": [
    {
     "name": "stdout",
     "output_type": "stream",
     "text": [
      "<__main__.Test object at 0x000001D0B8BFE8D0> <class '__main__.Test'>\n"
     ]
    }
   ],
   "source": [
    "print(t,type(t))"
   ]
  },
  {
   "cell_type": "code",
   "execution_count": 40,
   "id": "5c646dd3-ffb2-45eb-86fb-18cd4590f487",
   "metadata": {},
   "outputs": [
    {
     "ename": "AttributeError",
     "evalue": "'Test' object has no attribute 'name'",
     "output_type": "error",
     "traceback": [
      "\u001b[1;31m---------------------------------------------------------------------------\u001b[0m",
      "\u001b[1;31mAttributeError\u001b[0m                            Traceback (most recent call last)",
      "Cell \u001b[1;32mIn[40], line 1\u001b[0m\n\u001b[1;32m----> 1\u001b[0m t\u001b[38;5;241m.\u001b[39mdisplay()\n",
      "Cell \u001b[1;32mIn[34], line 7\u001b[0m, in \u001b[0;36mTest.display\u001b[1;34m(self)\u001b[0m\n\u001b[0;32m      6\u001b[0m \u001b[38;5;28;01mdef\u001b[39;00m \u001b[38;5;21mdisplay\u001b[39m(\u001b[38;5;28mself\u001b[39m):\n\u001b[1;32m----> 7\u001b[0m     \u001b[38;5;28mprint\u001b[39m(\u001b[38;5;124mf\u001b[39m\u001b[38;5;124m'\u001b[39m\u001b[38;5;124mName- \u001b[39m\u001b[38;5;132;01m{\u001b[39;00m\u001b[38;5;28mself\u001b[39m\u001b[38;5;241m.\u001b[39mname\u001b[38;5;132;01m}\u001b[39;00m\u001b[38;5;124m'\u001b[39m)\n\u001b[0;32m      8\u001b[0m     \u001b[38;5;28mprint\u001b[39m(\u001b[38;5;124mf\u001b[39m\u001b[38;5;124m'\u001b[39m\u001b[38;5;124mAge- \u001b[39m\u001b[38;5;132;01m{\u001b[39;00m\u001b[38;5;28mself\u001b[39m\u001b[38;5;241m.\u001b[39mage\u001b[38;5;132;01m}\u001b[39;00m\u001b[38;5;124m'\u001b[39m)\n",
      "\u001b[1;31mAttributeError\u001b[0m: 'Test' object has no attribute 'name'"
     ]
    }
   ],
   "source": [
    "t.display()"
   ]
  },
  {
   "cell_type": "code",
   "execution_count": 42,
   "id": "039c6ccd-2d8e-45d6-a122-5b8a35863bf2",
   "metadata": {},
   "outputs": [],
   "source": [
    "t.my_constructor()"
   ]
  },
  {
   "cell_type": "code",
   "execution_count": 44,
   "id": "c404456b-f848-4bed-bfbc-4ca12d5b684f",
   "metadata": {},
   "outputs": [
    {
     "name": "stdout",
     "output_type": "stream",
     "text": [
      "Name- Rahul\n",
      "Age- 22\n"
     ]
    }
   ],
   "source": [
    "t.display()"
   ]
  },
  {
   "cell_type": "code",
   "execution_count": 48,
   "id": "1076cb9f-7d35-4575-bb48-b756ba8d7da2",
   "metadata": {},
   "outputs": [
    {
     "data": {
      "text/plain": [
       "'Rahul'"
      ]
     },
     "execution_count": 48,
     "metadata": {},
     "output_type": "execute_result"
    }
   ],
   "source": [
    "t.name"
   ]
  },
  {
   "cell_type": "code",
   "execution_count": 50,
   "id": "385d1872-3567-4bfb-b174-3917d80501d2",
   "metadata": {},
   "outputs": [
    {
     "data": {
      "text/plain": [
       "22"
      ]
     },
     "execution_count": 50,
     "metadata": {},
     "output_type": "execute_result"
    }
   ],
   "source": [
    "t.age"
   ]
  },
  {
   "cell_type": "markdown",
   "id": "c416b60b-3f4c-444f-9372-a5db1afe29fa",
   "metadata": {},
   "source": [
    "# Method"
   ]
  },
  {
   "cell_type": "code",
   "execution_count": 63,
   "id": "8fe6125c-1ed3-452a-bc94-d6959a3c1133",
   "metadata": {},
   "outputs": [],
   "source": [
    "# - A method is a function defined inside a class.\n",
    "# - A method is used to define the behaviour of an object inside the class"
   ]
  },
  {
   "cell_type": "code",
   "execution_count": 59,
   "id": "aa720912-ca4a-42fa-b98f-2c529d80bd77",
   "metadata": {},
   "outputs": [],
   "source": [
    "def dummy(): # simple function\n",
    "    pass"
   ]
  },
  {
   "cell_type": "code",
   "execution_count": 61,
   "id": "20a931a7-aa18-4555-9727-ce187b6e587c",
   "metadata": {},
   "outputs": [],
   "source": [
    "class Test:\n",
    "    def dummy(): # method of test class\n",
    "        pass"
   ]
  },
  {
   "cell_type": "markdown",
   "id": "b501c5d9-480d-4062-bfdf-f5f4a80a7674",
   "metadata": {},
   "source": [
    "# Reference variable"
   ]
  },
  {
   "cell_type": "code",
   "execution_count": 68,
   "id": "5a786900-ddcb-4062-8616-45981fa07d71",
   "metadata": {},
   "outputs": [],
   "source": [
    "# - The variable that referes to an object of a class is the reference variable.\n",
    "# - It is the variable outside the class."
   ]
  },
  {
   "cell_type": "code",
   "execution_count": 72,
   "id": "9c54d47d-c22e-41a5-9c72-be2bbd2e391b",
   "metadata": {},
   "outputs": [],
   "source": [
    "class Student:\n",
    "    def __init__(self):\n",
    "        self.name='Rahul'\n",
    "        self.age=22\n",
    "\n",
    "    def display(self):\n",
    "        print(f'Name- {self.name}')\n",
    "        print(f'Age- {self.age}')"
   ]
  },
  {
   "cell_type": "code",
   "execution_count": 74,
   "id": "5fb120c5-14f2-493e-859e-f87e25477470",
   "metadata": {},
   "outputs": [],
   "source": [
    "s=Student()"
   ]
  },
  {
   "cell_type": "code",
   "execution_count": 76,
   "id": "070d91e3-27b9-4a7b-8d88-f40577b59530",
   "metadata": {},
   "outputs": [],
   "source": [
    "# s- reference variable"
   ]
  },
  {
   "cell_type": "markdown",
   "id": "1cc0caac-7971-4841-8520-492c934533e7",
   "metadata": {},
   "source": [
    "# Types of variables inside a class"
   ]
  },
  {
   "cell_type": "code",
   "execution_count": 80,
   "id": "c9be184f-0ad9-4a35-87d0-2f550a81f2b5",
   "metadata": {},
   "outputs": [],
   "source": [
    "# - Instance variables (Object level variables)\n",
    "# - Static variables (Class level variables)\n",
    "# - Local variables (Method level variables)"
   ]
  },
  {
   "cell_type": "markdown",
   "id": "06548560-6e33-46d9-ab39-7f4327e74f8c",
   "metadata": {},
   "source": [
    "# Instance Variables"
   ]
  },
  {
   "cell_type": "code",
   "execution_count": 83,
   "id": "72bd9723-e83f-4f6b-bcb5-f8f3e9bddb8b",
   "metadata": {},
   "outputs": [],
   "source": [
    "# - The variables that are used to define the attributes of a class.\n",
    "# - If the values of a variable varies object to object then it is an instance variable.\n",
    "# - If we want some variable to be shared by all the objects we call it as instance variable."
   ]
  },
  {
   "cell_type": "code",
   "execution_count": 85,
   "id": "62d246f2-fe79-4eca-bb39-97b9d1a52ca8",
   "metadata": {},
   "outputs": [],
   "source": [
    "# - Declaration and Intialisation of the variable.\n",
    "# - Accessing the variable.\n",
    "# - Modification of the variable.\n",
    "# - Deletion of the variable."
   ]
  },
  {
   "cell_type": "code",
   "execution_count": 89,
   "id": "4b4c7fec-46ab-4991-b454-86a09044387b",
   "metadata": {},
   "outputs": [],
   "source": [
    "# class Student:\n",
    "    # Attributes- Name, roll"
   ]
  },
  {
   "cell_type": "code",
   "execution_count": 91,
   "id": "9ae0634a-cb16-46f9-923c-c28ebd7fea62",
   "metadata": {},
   "outputs": [],
   "source": [
    "# s1=Student(), Name, roll\n",
    "# s2=Student(), Name, roll"
   ]
  },
  {
   "cell_type": "code",
   "execution_count": 93,
   "id": "eba74ffe-f764-4fd1-a74a-31a9f99079a3",
   "metadata": {},
   "outputs": [],
   "source": [
    "class Student:\n",
    "    def __init__(self,name,age):\n",
    "        self.name=name\n",
    "        self.age=age\n",
    "\n",
    "    def display(self):\n",
    "        print(f'Name- {self.name}')\n",
    "        print(f'Age- {self.age}')"
   ]
  },
  {
   "cell_type": "code",
   "execution_count": 99,
   "id": "a96bb631-5d57-41eb-ac23-09b3fc9a7e45",
   "metadata": {},
   "outputs": [],
   "source": [
    "s1=Student('Aditya',24)\n",
    "s2=Student('Rahul',25)"
   ]
  },
  {
   "cell_type": "code",
   "execution_count": 101,
   "id": "f510c53b-cf80-4061-9c63-05968225ffd6",
   "metadata": {},
   "outputs": [
    {
     "name": "stdout",
     "output_type": "stream",
     "text": [
      "Name- Aditya\n",
      "Age- 24\n"
     ]
    }
   ],
   "source": [
    "s1.display()"
   ]
  },
  {
   "cell_type": "code",
   "execution_count": 103,
   "id": "43098483-8ea0-4ac7-a2de-87229ac81010",
   "metadata": {},
   "outputs": [
    {
     "name": "stdout",
     "output_type": "stream",
     "text": [
      "Name- Rahul\n",
      "Age- 25\n"
     ]
    }
   ],
   "source": [
    "s2.display()"
   ]
  },
  {
   "cell_type": "markdown",
   "id": "85506cff-259c-49f3-bf4a-49aba51629bf",
   "metadata": {},
   "source": [
    "### Declaration and initialisation of instance variables"
   ]
  },
  {
   "cell_type": "code",
   "execution_count": 107,
   "id": "2d21c297-6779-47b2-b9e8-dfeece40c84a",
   "metadata": {},
   "outputs": [],
   "source": [
    "# - Inside the constructor using self variable.\n",
    "# - Inside the instance method using the self variable.\n",
    "# - Outside the class using the reference variable."
   ]
  },
  {
   "cell_type": "code",
   "execution_count": 109,
   "id": "f3eb5a6d-c794-41ee-8c9e-08c4e2178f22",
   "metadata": {},
   "outputs": [],
   "source": [
    "class Test:\n",
    "    def __init__(self):\n",
    "        self.a=10"
   ]
  },
  {
   "cell_type": "code",
   "execution_count": 111,
   "id": "239176e4-5308-4566-9453-57d8af89b32f",
   "metadata": {},
   "outputs": [],
   "source": [
    "t=Test()"
   ]
  },
  {
   "cell_type": "code",
   "execution_count": 113,
   "id": "ba6a16e7-b538-47c1-bac5-4b4a3e7ffc73",
   "metadata": {},
   "outputs": [
    {
     "data": {
      "text/plain": [
       "{'a': 10}"
      ]
     },
     "execution_count": 113,
     "metadata": {},
     "output_type": "execute_result"
    }
   ],
   "source": [
    "t.__dict__"
   ]
  },
  {
   "cell_type": "code",
   "execution_count": 115,
   "id": "aabcb37b-927d-4e4e-952c-6eb8322a9e2c",
   "metadata": {},
   "outputs": [],
   "source": [
    "class Test:\n",
    "    def m1(self): # instance method\n",
    "        self.x=15"
   ]
  },
  {
   "cell_type": "code",
   "execution_count": 117,
   "id": "ee93104b-0a0d-48f1-bb0f-b26e3bec4433",
   "metadata": {},
   "outputs": [],
   "source": [
    "t=Test()"
   ]
  },
  {
   "cell_type": "code",
   "execution_count": 119,
   "id": "04bcd42b-706f-44e3-989f-2a83baa71217",
   "metadata": {},
   "outputs": [
    {
     "data": {
      "text/plain": [
       "{}"
      ]
     },
     "execution_count": 119,
     "metadata": {},
     "output_type": "execute_result"
    }
   ],
   "source": [
    "t.__dict__"
   ]
  },
  {
   "cell_type": "code",
   "execution_count": 121,
   "id": "d4b4d186-37bf-42b7-b840-7f60f577f5b2",
   "metadata": {},
   "outputs": [],
   "source": [
    "t.m1()"
   ]
  },
  {
   "cell_type": "code",
   "execution_count": 125,
   "id": "6b9d7eca-607d-4e59-8133-cee047decf53",
   "metadata": {},
   "outputs": [
    {
     "data": {
      "text/plain": [
       "{'x': 15}"
      ]
     },
     "execution_count": 125,
     "metadata": {},
     "output_type": "execute_result"
    }
   ],
   "source": [
    "t.__dict__"
   ]
  },
  {
   "cell_type": "code",
   "execution_count": 127,
   "id": "82f8d4b8-231d-4709-9d3a-fb5ee27ee3b1",
   "metadata": {},
   "outputs": [],
   "source": [
    "class Test:\n",
    "    def __init__(self):\n",
    "        self.a=10\n",
    "\n",
    "    def m1(self): # instance method\n",
    "        self.b=20"
   ]
  },
  {
   "cell_type": "code",
   "execution_count": 129,
   "id": "09e04f96-7b07-4cdd-aba1-1696b02eaabe",
   "metadata": {},
   "outputs": [],
   "source": [
    "t=Test()"
   ]
  },
  {
   "cell_type": "code",
   "execution_count": 131,
   "id": "061e57f7-e666-47f9-b76b-6dadd372b17b",
   "metadata": {},
   "outputs": [
    {
     "data": {
      "text/plain": [
       "{'a': 10}"
      ]
     },
     "execution_count": 131,
     "metadata": {},
     "output_type": "execute_result"
    }
   ],
   "source": [
    "t.__dict__"
   ]
  },
  {
   "cell_type": "code",
   "execution_count": 133,
   "id": "877f0482-8776-4513-8b22-0a33b857b5ad",
   "metadata": {},
   "outputs": [],
   "source": [
    "t.m1()"
   ]
  },
  {
   "cell_type": "code",
   "execution_count": 135,
   "id": "c4545632-0582-4803-b426-e2350c45c421",
   "metadata": {},
   "outputs": [
    {
     "data": {
      "text/plain": [
       "{'a': 10, 'b': 20}"
      ]
     },
     "execution_count": 135,
     "metadata": {},
     "output_type": "execute_result"
    }
   ],
   "source": [
    "t.__dict__"
   ]
  },
  {
   "cell_type": "code",
   "execution_count": 139,
   "id": "ed126a21-1ebc-40fb-b1fa-cfcf6c6e02c5",
   "metadata": {},
   "outputs": [],
   "source": [
    "t.c=30"
   ]
  },
  {
   "cell_type": "code",
   "execution_count": 141,
   "id": "969ee893-86aa-42de-8380-6fa7de2bd39b",
   "metadata": {},
   "outputs": [
    {
     "data": {
      "text/plain": [
       "{'a': 10, 'b': 20, 'c': 30}"
      ]
     },
     "execution_count": 141,
     "metadata": {},
     "output_type": "execute_result"
    }
   ],
   "source": [
    "t.__dict__"
   ]
  },
  {
   "cell_type": "markdown",
   "id": "ffaab99d-b6dc-427f-b272-b3988682bd61",
   "metadata": {},
   "source": [
    "### Accessing the instance variables"
   ]
  },
  {
   "cell_type": "code",
   "execution_count": 146,
   "id": "23b8dc60-b8c8-495f-a3dc-e8cde50c8572",
   "metadata": {},
   "outputs": [],
   "source": [
    "# - Inside the constructor using self -> self.instance_variable\n",
    "# - Inside the instance method using self -> self.instance_variable\n",
    "# - Outside the class using the reference variable -> reference_variable.instance_variable"
   ]
  },
  {
   "cell_type": "code",
   "execution_count": 148,
   "id": "fb94fa44-2755-4688-8d2f-299381fe23a7",
   "metadata": {},
   "outputs": [],
   "source": [
    "class Test:\n",
    "    def __init__(self):\n",
    "        self.a=10\n",
    "        print(self.a)"
   ]
  },
  {
   "cell_type": "code",
   "execution_count": 150,
   "id": "15d7d25e-38f7-445e-98cc-30ee16e0a1c1",
   "metadata": {},
   "outputs": [
    {
     "name": "stdout",
     "output_type": "stream",
     "text": [
      "10\n"
     ]
    }
   ],
   "source": [
    "t=Test()"
   ]
  },
  {
   "cell_type": "code",
   "execution_count": 152,
   "id": "fadc21ab-b505-4a8f-9015-8000208e8f74",
   "metadata": {},
   "outputs": [],
   "source": [
    "class Test:\n",
    "    def __init__(self):\n",
    "        self.a=10\n",
    "        print(a)"
   ]
  },
  {
   "cell_type": "code",
   "execution_count": 154,
   "id": "a28d861c-8f9c-4601-97eb-23cfac5d95dc",
   "metadata": {},
   "outputs": [
    {
     "ename": "NameError",
     "evalue": "name 'a' is not defined",
     "output_type": "error",
     "traceback": [
      "\u001b[1;31m---------------------------------------------------------------------------\u001b[0m",
      "\u001b[1;31mNameError\u001b[0m                                 Traceback (most recent call last)",
      "Cell \u001b[1;32mIn[154], line 1\u001b[0m\n\u001b[1;32m----> 1\u001b[0m t\u001b[38;5;241m=\u001b[39mTest()\n",
      "Cell \u001b[1;32mIn[152], line 4\u001b[0m, in \u001b[0;36mTest.__init__\u001b[1;34m(self)\u001b[0m\n\u001b[0;32m      2\u001b[0m \u001b[38;5;28;01mdef\u001b[39;00m \u001b[38;5;21m__init__\u001b[39m(\u001b[38;5;28mself\u001b[39m):\n\u001b[0;32m      3\u001b[0m     \u001b[38;5;28mself\u001b[39m\u001b[38;5;241m.\u001b[39ma\u001b[38;5;241m=\u001b[39m\u001b[38;5;241m10\u001b[39m\n\u001b[1;32m----> 4\u001b[0m     \u001b[38;5;28mprint\u001b[39m(a)\n",
      "\u001b[1;31mNameError\u001b[0m: name 'a' is not defined"
     ]
    }
   ],
   "source": [
    "t=Test()"
   ]
  },
  {
   "cell_type": "code",
   "execution_count": 156,
   "id": "ea13157a-c67f-4140-a15d-c69480d141e5",
   "metadata": {},
   "outputs": [],
   "source": [
    "class Test:\n",
    "    def __init__(self):\n",
    "        self.name='Amit'\n",
    "\n",
    "    def show(self): # instance method\n",
    "        print(self.name)"
   ]
  },
  {
   "cell_type": "code",
   "execution_count": 158,
   "id": "d7a9e294-abcb-412d-8c0d-f6a152bc1bc0",
   "metadata": {},
   "outputs": [],
   "source": [
    "t=Test()"
   ]
  },
  {
   "cell_type": "code",
   "execution_count": 160,
   "id": "62c1b295-1d7f-4dea-994e-ed380c32b752",
   "metadata": {},
   "outputs": [
    {
     "name": "stdout",
     "output_type": "stream",
     "text": [
      "Amit\n"
     ]
    }
   ],
   "source": [
    "t.show()"
   ]
  },
  {
   "cell_type": "code",
   "execution_count": 175,
   "id": "df2547cd-580a-4122-9db7-c7c5acecf549",
   "metadata": {},
   "outputs": [],
   "source": [
    "class Employee:\n",
    "    def __init__(self):\n",
    "        self.name='Megha'\n",
    "        self.age=24\n",
    "        self.salary=82000\n",
    "\n",
    "    def info(self): # instance method\n",
    "        print(f'Name-{self.name}')\n",
    "        print(f'Age-{self.age}')\n",
    "        print(f'Salary-{self.salary}')"
   ]
  },
  {
   "cell_type": "code",
   "execution_count": 177,
   "id": "531cc018-2ce4-45fc-b298-3918749f7d96",
   "metadata": {},
   "outputs": [],
   "source": [
    "e=Employee()"
   ]
  },
  {
   "cell_type": "code",
   "execution_count": 179,
   "id": "7c702307-588b-4ee1-bd1e-854773f762de",
   "metadata": {},
   "outputs": [
    {
     "name": "stdout",
     "output_type": "stream",
     "text": [
      "Name-Megha\n",
      "Age-24\n",
      "Salary-82000\n"
     ]
    }
   ],
   "source": [
    "e.info()"
   ]
  },
  {
   "cell_type": "code",
   "execution_count": 183,
   "id": "36559f61-6903-45a1-9afb-4a0af826ca7b",
   "metadata": {},
   "outputs": [
    {
     "name": "stdout",
     "output_type": "stream",
     "text": [
      "Megha\n"
     ]
    }
   ],
   "source": [
    "print(e.name)"
   ]
  },
  {
   "cell_type": "code",
   "execution_count": 185,
   "id": "4ef7624f-051c-4766-847b-52148fd6c203",
   "metadata": {},
   "outputs": [
    {
     "name": "stdout",
     "output_type": "stream",
     "text": [
      "24\n"
     ]
    }
   ],
   "source": [
    "print(e.age)"
   ]
  },
  {
   "cell_type": "code",
   "execution_count": 187,
   "id": "623a0a88-47bd-4a40-8968-bdf65075c3cd",
   "metadata": {},
   "outputs": [
    {
     "name": "stdout",
     "output_type": "stream",
     "text": [
      "82000\n"
     ]
    }
   ],
   "source": [
    "print(e.salary)"
   ]
  },
  {
   "cell_type": "markdown",
   "id": "b19a6356-2b4f-47e8-ab04-6be6e9df9ce4",
   "metadata": {},
   "source": [
    "### Modifying an instance variable"
   ]
  },
  {
   "cell_type": "code",
   "execution_count": 190,
   "id": "84ac1a43-1757-4948-b692-58f4a2f413bb",
   "metadata": {},
   "outputs": [],
   "source": [
    "# - Inside the constructor using self -> self.instance_variable=value.\n",
    "# - Inside the instance method using self -> self.instance_variable=value.\n",
    "# - Outside the class using the reference variable -> reference_variable.instance_variable=value"
   ]
  },
  {
   "cell_type": "code",
   "execution_count": 200,
   "id": "3d5ceaad-642d-4779-bcf4-d799c3e0af57",
   "metadata": {},
   "outputs": [],
   "source": [
    "class Employee:\n",
    "    def __init__(self):\n",
    "        self.name='Suresh'\n",
    "        self.name='Hema'"
   ]
  },
  {
   "cell_type": "code",
   "execution_count": 202,
   "id": "c6aa3639-da32-48d4-a7af-f0e572d5df9b",
   "metadata": {},
   "outputs": [],
   "source": [
    "e=Employee()"
   ]
  },
  {
   "cell_type": "code",
   "execution_count": 204,
   "id": "a8ba821e-08d7-4980-af05-5efea5611aa6",
   "metadata": {},
   "outputs": [
    {
     "data": {
      "text/plain": [
       "'Hema'"
      ]
     },
     "execution_count": 204,
     "metadata": {},
     "output_type": "execute_result"
    }
   ],
   "source": [
    "e.name"
   ]
  },
  {
   "cell_type": "code",
   "execution_count": 214,
   "id": "53415528-0cb7-45c4-abc3-3550edfb6e09",
   "metadata": {},
   "outputs": [],
   "source": [
    "class Employee:\n",
    "    def __init__(self):\n",
    "        self.name='Hema'\n",
    "\n",
    "    def name_modifier(self): # instance method\n",
    "        self.name='Aditya'\n",
    "\n",
    "    def display(self):\n",
    "        print('Name-',self.name)"
   ]
  },
  {
   "cell_type": "code",
   "execution_count": 216,
   "id": "380844bd-9292-47f6-97f8-72daa54f8402",
   "metadata": {},
   "outputs": [],
   "source": [
    "e=Employee()"
   ]
  },
  {
   "cell_type": "code",
   "execution_count": 218,
   "id": "a2819139-6fd3-44fd-9046-15818f551155",
   "metadata": {},
   "outputs": [
    {
     "name": "stdout",
     "output_type": "stream",
     "text": [
      "Name- Hema\n"
     ]
    }
   ],
   "source": [
    "e.display()"
   ]
  },
  {
   "cell_type": "code",
   "execution_count": 220,
   "id": "55e0bf83-24b7-4f5c-8155-337a0d9f0878",
   "metadata": {},
   "outputs": [],
   "source": [
    "e.name_modifier()"
   ]
  },
  {
   "cell_type": "code",
   "execution_count": 222,
   "id": "efc1b3ba-0bfc-4c26-90a8-c7050a35445b",
   "metadata": {},
   "outputs": [
    {
     "name": "stdout",
     "output_type": "stream",
     "text": [
      "Name- Aditya\n"
     ]
    }
   ],
   "source": [
    "e.display()"
   ]
  },
  {
   "cell_type": "code",
   "execution_count": 226,
   "id": "3015242b-db31-4a35-a120-f704a06dec73",
   "metadata": {},
   "outputs": [],
   "source": [
    "e.name='Dhruv'"
   ]
  },
  {
   "cell_type": "code",
   "execution_count": 228,
   "id": "f8c45b97-6c5d-4560-b63b-bd79d24757f7",
   "metadata": {},
   "outputs": [
    {
     "name": "stdout",
     "output_type": "stream",
     "text": [
      "Name- Dhruv\n"
     ]
    }
   ],
   "source": [
    "e.display()"
   ]
  },
  {
   "cell_type": "markdown",
   "id": "02012e8b-d87a-446c-94c9-d85ab8b71876",
   "metadata": {},
   "source": [
    "### Deletion of an instance variable"
   ]
  },
  {
   "cell_type": "code",
   "execution_count": 231,
   "id": "bde155a5-71b1-4813-b536-9ba38ce919b5",
   "metadata": {},
   "outputs": [],
   "source": [
    "# - Inside the constructor using self -> del self.instance_variable.\n",
    "# - Inside the instance method using self -> del self.instance_variable.\n",
    "# - Outside the class using the reference variable -> del reference_variable.instance_variable."
   ]
  },
  {
   "cell_type": "code",
   "execution_count": 233,
   "id": "e39f6409-413f-4276-838a-800865128251",
   "metadata": {},
   "outputs": [],
   "source": [
    "class Test:\n",
    "    def __init__(self):\n",
    "        self.a=10\n",
    "        self.b=20\n",
    "        self.c=30\n",
    "        del self.a"
   ]
  },
  {
   "cell_type": "code",
   "execution_count": 237,
   "id": "4a0a381c-4421-4798-9f1a-a70e02b0fa36",
   "metadata": {},
   "outputs": [],
   "source": [
    "t=Test()"
   ]
  },
  {
   "cell_type": "code",
   "execution_count": 239,
   "id": "0502f5b3-26ba-49d6-844c-fed326dbb4bf",
   "metadata": {},
   "outputs": [
    {
     "data": {
      "text/plain": [
       "{'b': 20, 'c': 30}"
      ]
     },
     "execution_count": 239,
     "metadata": {},
     "output_type": "execute_result"
    }
   ],
   "source": [
    "t.__dict__"
   ]
  },
  {
   "cell_type": "code",
   "execution_count": 241,
   "id": "eb4d87ce-0647-41cc-b7c4-9f68e9ec062b",
   "metadata": {},
   "outputs": [],
   "source": [
    "class Test:\n",
    "    def __init__(self):\n",
    "        self.a=10\n",
    "        self.b=20\n",
    "        self.c=30\n",
    "    \n",
    "    def remover(self): # instance method\n",
    "        del self.b"
   ]
  },
  {
   "cell_type": "code",
   "execution_count": 243,
   "id": "5b5d9693-c9d5-443d-927b-3856e6ab9a84",
   "metadata": {},
   "outputs": [],
   "source": [
    "t=Test()"
   ]
  },
  {
   "cell_type": "code",
   "execution_count": 245,
   "id": "3e289da3-d5e9-40b2-8363-d507198aa380",
   "metadata": {},
   "outputs": [
    {
     "data": {
      "text/plain": [
       "{'a': 10, 'b': 20, 'c': 30}"
      ]
     },
     "execution_count": 245,
     "metadata": {},
     "output_type": "execute_result"
    }
   ],
   "source": [
    "t.__dict__"
   ]
  },
  {
   "cell_type": "code",
   "execution_count": 247,
   "id": "9916bea8-e26b-4102-a4bb-03297f13ce33",
   "metadata": {},
   "outputs": [],
   "source": [
    "t.remover()"
   ]
  },
  {
   "cell_type": "code",
   "execution_count": 249,
   "id": "fcc3e21b-b1ad-452e-9eb4-13e0e38b622a",
   "metadata": {},
   "outputs": [
    {
     "data": {
      "text/plain": [
       "{'a': 10, 'c': 30}"
      ]
     },
     "execution_count": 249,
     "metadata": {},
     "output_type": "execute_result"
    }
   ],
   "source": [
    "t.__dict__"
   ]
  },
  {
   "cell_type": "code",
   "execution_count": 251,
   "id": "69a68826-197f-4801-9181-a5f93feef792",
   "metadata": {},
   "outputs": [],
   "source": [
    "del t.c"
   ]
  },
  {
   "cell_type": "code",
   "execution_count": 253,
   "id": "3b27f7ec-35ed-4034-ac47-a8e69465a242",
   "metadata": {},
   "outputs": [
    {
     "data": {
      "text/plain": [
       "{'a': 10}"
      ]
     },
     "execution_count": 253,
     "metadata": {},
     "output_type": "execute_result"
    }
   ],
   "source": [
    "t.__dict__"
   ]
  },
  {
   "cell_type": "code",
   "execution_count": 256,
   "id": "1751f69e-3fea-4c5b-ada6-5dccdcaf0d04",
   "metadata": {},
   "outputs": [],
   "source": [
    "class Test:\n",
    "    pass"
   ]
  },
  {
   "cell_type": "code",
   "execution_count": 258,
   "id": "bf38dd21-6a3f-450c-acb0-85afba25e78b",
   "metadata": {},
   "outputs": [],
   "source": [
    "t=Test()"
   ]
  },
  {
   "cell_type": "code",
   "execution_count": 260,
   "id": "7761375f-e711-4e99-99d5-eb144184c661",
   "metadata": {},
   "outputs": [
    {
     "name": "stdout",
     "output_type": "stream",
     "text": [
      "<class '__main__.Test'>\n"
     ]
    }
   ],
   "source": [
    "print(type(t))"
   ]
  },
  {
   "cell_type": "code",
   "execution_count": 268,
   "id": "288ccd0c-38be-4935-add4-2c29eeb62682",
   "metadata": {},
   "outputs": [],
   "source": [
    "# - Create class that has a method greet and it displays good morning (Constructor is not required)\n",
    "# - Becasue no instance variable is required."
   ]
  },
  {
   "cell_type": "markdown",
   "id": "07dfdd0d-3281-4f7f-a568-b1f35c936f1d",
   "metadata": {},
   "source": [
    "# Static variables"
   ]
  },
  {
   "cell_type": "code",
   "execution_count": 275,
   "id": "c8e82709-8854-4ad1-bbd1-3ece8533c4cb",
   "metadata": {},
   "outputs": [],
   "source": [
    "class Banking:\n",
    "    def __init__(self,name,amt):\n",
    "        self.bank='SBI'\n",
    "        self.name=name\n",
    "        self.amount=amt\n",
    "\n",
    "    def display(self):\n",
    "        print('Bank-',self.bank)\n",
    "        print('Customer name-',self.name)\n",
    "        print('Amount-',self.amount)"
   ]
  },
  {
   "cell_type": "code",
   "execution_count": 281,
   "id": "a36ebbbc-b9aa-4dc6-9076-bace002f4c67",
   "metadata": {},
   "outputs": [],
   "source": [
    "c1=Banking('Ashok',2500)\n",
    "c2=Banking('Debolina',2600)"
   ]
  },
  {
   "cell_type": "code",
   "execution_count": 283,
   "id": "caafe692-e3a3-4547-9369-5af5ac6aa189",
   "metadata": {},
   "outputs": [
    {
     "name": "stdout",
     "output_type": "stream",
     "text": [
      "Bank- SBI\n",
      "Customer name- Ashok\n",
      "Amount- 2500\n"
     ]
    }
   ],
   "source": [
    "c1.display()"
   ]
  },
  {
   "cell_type": "code",
   "execution_count": 286,
   "id": "de98ead9-6e31-4763-ace9-b45c2495cb09",
   "metadata": {},
   "outputs": [
    {
     "name": "stdout",
     "output_type": "stream",
     "text": [
      "Bank- SBI\n",
      "Customer name- Debolina\n",
      "Amount- 2600\n"
     ]
    }
   ],
   "source": [
    "c2.display()"
   ]
  },
  {
   "cell_type": "code",
   "execution_count": 288,
   "id": "0cd9495a-f200-421e-939e-2e391d363082",
   "metadata": {},
   "outputs": [],
   "source": [
    "# - If the value of a variable remains constant object to object then instance variable is not recommended.\n",
    "# - In this case we define that variable as static variable.\n",
    "# - It gets stored only once and its copy is shared with all the objects.\n",
    "# - A static variable remains the same for a partcular class."
   ]
  },
  {
   "cell_type": "markdown",
   "id": "52ed5a15-a45f-4d3e-8ae1-eb7e29138741",
   "metadata": {},
   "source": [
    "### Declaration and intialsiation of a static variable"
   ]
  },
  {
   "cell_type": "code",
   "execution_count": 305,
   "id": "8e0085a9-82f1-4aed-b64c-c292498da8a4",
   "metadata": {},
   "outputs": [],
   "source": [
    "# - Inside the class before any method.\n",
    "# - Inside the constructor using class name.\n",
    "# - Inside the instance method using class name.\n",
    "# - Inside the class method using the class name or the cls variable.\n",
    "# - Inside the static method using the class name.\n",
    "# - Outside the class using the class name."
   ]
  },
  {
   "cell_type": "code",
   "execution_count": 297,
   "id": "2709c6b2-ab7c-4c44-b900-dd4e84425d02",
   "metadata": {},
   "outputs": [],
   "source": [
    "class Banking:\n",
    "    bank='SBI' # static variable\n",
    "    def __init__(self):\n",
    "        pass"
   ]
  },
  {
   "cell_type": "code",
   "execution_count": 299,
   "id": "03fddb02-3f5e-47fd-9a6b-19fa7750b4d1",
   "metadata": {},
   "outputs": [],
   "source": [
    "b=Banking()"
   ]
  },
  {
   "cell_type": "code",
   "execution_count": 301,
   "id": "e49b4069-14fc-4089-bcb6-571c4f7a7640",
   "metadata": {},
   "outputs": [
    {
     "data": {
      "text/plain": [
       "mappingproxy({'__module__': '__main__',\n",
       "              'bank': 'SBI',\n",
       "              '__init__': <function __main__.Banking.__init__(self)>,\n",
       "              '__dict__': <attribute '__dict__' of 'Banking' objects>,\n",
       "              '__weakref__': <attribute '__weakref__' of 'Banking' objects>,\n",
       "              '__doc__': None})"
      ]
     },
     "execution_count": 301,
     "metadata": {},
     "output_type": "execute_result"
    }
   ],
   "source": [
    "Banking.__dict__"
   ]
  },
  {
   "cell_type": "code",
   "execution_count": 303,
   "id": "238225cb-7b19-4e66-b594-f192224e1394",
   "metadata": {},
   "outputs": [],
   "source": [
    "# reference_variable.__dict__-> Dict of instance variables.\n",
    "# class_name.__dict__-> Dict of static variables."
   ]
  },
  {
   "cell_type": "code",
   "execution_count": 317,
   "id": "a8d8a907-a245-46cd-8109-e5423129a626",
   "metadata": {},
   "outputs": [],
   "source": [
    "class Test:\n",
    "    a=10\n",
    "    def __init__(self):\n",
    "        Test.b=20"
   ]
  },
  {
   "cell_type": "code",
   "execution_count": 319,
   "id": "18043587-be2c-4bce-be8d-7b63f38dc4c6",
   "metadata": {},
   "outputs": [],
   "source": [
    "t=Test()"
   ]
  },
  {
   "cell_type": "code",
   "execution_count": 321,
   "id": "a8a6af79-a139-4ff7-8e69-e305f28ac3ce",
   "metadata": {},
   "outputs": [
    {
     "data": {
      "text/plain": [
       "mappingproxy({'__module__': '__main__',\n",
       "              'a': 10,\n",
       "              '__init__': <function __main__.Test.__init__(self)>,\n",
       "              '__dict__': <attribute '__dict__' of 'Test' objects>,\n",
       "              '__weakref__': <attribute '__weakref__' of 'Test' objects>,\n",
       "              '__doc__': None,\n",
       "              'b': 20})"
      ]
     },
     "execution_count": 321,
     "metadata": {},
     "output_type": "execute_result"
    }
   ],
   "source": [
    "Test.__dict__"
   ]
  },
  {
   "cell_type": "code",
   "execution_count": 323,
   "id": "2a45eda4-8e05-4f1d-8aa9-8a802326bef4",
   "metadata": {},
   "outputs": [],
   "source": [
    "class Test:\n",
    "    def m1(self):\n",
    "        Test.a=100"
   ]
  },
  {
   "cell_type": "code",
   "execution_count": 325,
   "id": "3cd4a5e4-add3-4b44-86f3-b7f7ef4f3ce5",
   "metadata": {},
   "outputs": [],
   "source": [
    "t=Test()"
   ]
  },
  {
   "cell_type": "code",
   "execution_count": 327,
   "id": "2a28a984-00b3-462a-9c64-aeca8c69d13b",
   "metadata": {},
   "outputs": [],
   "source": [
    "t.m1()"
   ]
  },
  {
   "cell_type": "code",
   "execution_count": 329,
   "id": "aa723fe2-9c46-42e0-960b-74b96811cc39",
   "metadata": {},
   "outputs": [
    {
     "data": {
      "text/plain": [
       "mappingproxy({'__module__': '__main__',\n",
       "              'm1': <function __main__.Test.m1(self)>,\n",
       "              '__dict__': <attribute '__dict__' of 'Test' objects>,\n",
       "              '__weakref__': <attribute '__weakref__' of 'Test' objects>,\n",
       "              '__doc__': None,\n",
       "              'a': 100})"
      ]
     },
     "execution_count": 329,
     "metadata": {},
     "output_type": "execute_result"
    }
   ],
   "source": [
    "Test.__dict__"
   ]
  },
  {
   "cell_type": "code",
   "execution_count": 341,
   "id": "6a7b388b-53d6-4a49-8621-79ec5d2a82f4",
   "metadata": {},
   "outputs": [],
   "source": [
    "class Customer:\n",
    "    p1='Laptop'\n",
    "\n",
    "    def __init__(self):\n",
    "        Customer.p2='Desktop'\n",
    "\n",
    "    def m1(self):\n",
    "        Customer.p3='Tablet'"
   ]
  },
  {
   "cell_type": "code",
   "execution_count": 343,
   "id": "7f587ce1-ad72-4838-bc92-634f02d12f53",
   "metadata": {},
   "outputs": [
    {
     "data": {
      "text/plain": [
       "mappingproxy({'__module__': '__main__',\n",
       "              'p1': 'Laptop',\n",
       "              '__init__': <function __main__.Customer.__init__(self)>,\n",
       "              'm1': <function __main__.Customer.m1(self)>,\n",
       "              '__dict__': <attribute '__dict__' of 'Customer' objects>,\n",
       "              '__weakref__': <attribute '__weakref__' of 'Customer' objects>,\n",
       "              '__doc__': None})"
      ]
     },
     "execution_count": 343,
     "metadata": {},
     "output_type": "execute_result"
    }
   ],
   "source": [
    "Customer.__dict__"
   ]
  },
  {
   "cell_type": "code",
   "execution_count": 345,
   "id": "5b645fbb-58e8-46ba-990d-18205b962892",
   "metadata": {},
   "outputs": [],
   "source": [
    "c1=Customer()"
   ]
  },
  {
   "cell_type": "code",
   "execution_count": 347,
   "id": "fc1073d8-f236-4b4c-a4d2-34febd60ad9f",
   "metadata": {},
   "outputs": [
    {
     "data": {
      "text/plain": [
       "mappingproxy({'__module__': '__main__',\n",
       "              'p1': 'Laptop',\n",
       "              '__init__': <function __main__.Customer.__init__(self)>,\n",
       "              'm1': <function __main__.Customer.m1(self)>,\n",
       "              '__dict__': <attribute '__dict__' of 'Customer' objects>,\n",
       "              '__weakref__': <attribute '__weakref__' of 'Customer' objects>,\n",
       "              '__doc__': None,\n",
       "              'p2': 'Desktop'})"
      ]
     },
     "execution_count": 347,
     "metadata": {},
     "output_type": "execute_result"
    }
   ],
   "source": [
    "Customer.__dict__"
   ]
  },
  {
   "cell_type": "code",
   "execution_count": 352,
   "id": "c21fadd8-05e5-4761-aa24-c2471e768a78",
   "metadata": {},
   "outputs": [],
   "source": [
    "c1.m1()"
   ]
  },
  {
   "cell_type": "code",
   "execution_count": 354,
   "id": "76ccdf3c-0903-4434-a06c-562d470299be",
   "metadata": {},
   "outputs": [
    {
     "data": {
      "text/plain": [
       "mappingproxy({'__module__': '__main__',\n",
       "              'p1': 'Laptop',\n",
       "              '__init__': <function __main__.Customer.__init__(self)>,\n",
       "              'm1': <function __main__.Customer.m1(self)>,\n",
       "              '__dict__': <attribute '__dict__' of 'Customer' objects>,\n",
       "              '__weakref__': <attribute '__weakref__' of 'Customer' objects>,\n",
       "              '__doc__': None,\n",
       "              'p2': 'Desktop',\n",
       "              'p3': 'Tablet'})"
      ]
     },
     "execution_count": 354,
     "metadata": {},
     "output_type": "execute_result"
    }
   ],
   "source": [
    "Customer.__dict__"
   ]
  },
  {
   "cell_type": "code",
   "execution_count": 356,
   "id": "9d482597-03ff-4d51-b67e-6898e5267683",
   "metadata": {},
   "outputs": [],
   "source": [
    "class Test:\n",
    "    a=10\n",
    "\n",
    "    def __init__(self):\n",
    "        Test.b=20\n",
    "\n",
    "    def m1(self): # instance method\n",
    "        Test.c=23"
   ]
  },
  {
   "cell_type": "code",
   "execution_count": 358,
   "id": "ca3bacc0-c0b1-42ad-a5f7-164d975aa4b6",
   "metadata": {},
   "outputs": [],
   "source": [
    "t=Test()"
   ]
  },
  {
   "cell_type": "code",
   "execution_count": 362,
   "id": "44f4c505-5919-4905-b3ad-5d46293279e7",
   "metadata": {},
   "outputs": [],
   "source": [
    "t.m1()"
   ]
  },
  {
   "cell_type": "code",
   "execution_count": 364,
   "id": "c6f4fa91-7f49-452d-b432-a887a7398aaa",
   "metadata": {},
   "outputs": [
    {
     "data": {
      "text/plain": [
       "mappingproxy({'__module__': '__main__',\n",
       "              'a': 10,\n",
       "              '__init__': <function __main__.Test.__init__(self)>,\n",
       "              'm1': <function __main__.Test.m1(self)>,\n",
       "              '__dict__': <attribute '__dict__' of 'Test' objects>,\n",
       "              '__weakref__': <attribute '__weakref__' of 'Test' objects>,\n",
       "              '__doc__': None,\n",
       "              'b': 20,\n",
       "              'c': 23})"
      ]
     },
     "execution_count": 364,
     "metadata": {},
     "output_type": "execute_result"
    }
   ],
   "source": [
    "Test.__dict__"
   ]
  },
  {
   "cell_type": "code",
   "execution_count": 366,
   "id": "34c8c92f-43ad-44dc-be01-9b05ebc6e58f",
   "metadata": {},
   "outputs": [],
   "source": [
    "class Test:\n",
    "    a=10\n",
    "\n",
    "    def __init__(self):\n",
    "        Test.b=20\n",
    "\n",
    "    def m1(self): # instance method\n",
    "        Test.c=23\n",
    "\n",
    "    @classmethod\n",
    "    def m2(cls): # class method\n",
    "        Test.d=100\n",
    "        cls.e=200"
   ]
  },
  {
   "cell_type": "code",
   "execution_count": 368,
   "id": "94947f6b-646a-4b6a-9f6b-cea9d159fa19",
   "metadata": {},
   "outputs": [],
   "source": [
    "t=Test()\n",
    "t.m1()\n",
    "t.m2()"
   ]
  },
  {
   "cell_type": "code",
   "execution_count": 370,
   "id": "12127a66-547d-40ec-a6f4-17af58bef135",
   "metadata": {},
   "outputs": [
    {
     "data": {
      "text/plain": [
       "mappingproxy({'__module__': '__main__',\n",
       "              'a': 10,\n",
       "              '__init__': <function __main__.Test.__init__(self)>,\n",
       "              'm1': <function __main__.Test.m1(self)>,\n",
       "              'm2': <classmethod(<function Test.m2 at 0x000001D0B8D1A700>)>,\n",
       "              '__dict__': <attribute '__dict__' of 'Test' objects>,\n",
       "              '__weakref__': <attribute '__weakref__' of 'Test' objects>,\n",
       "              '__doc__': None,\n",
       "              'b': 20,\n",
       "              'c': 23,\n",
       "              'd': 100,\n",
       "              'e': 200})"
      ]
     },
     "execution_count": 370,
     "metadata": {},
     "output_type": "execute_result"
    }
   ],
   "source": [
    "Test.__dict__"
   ]
  },
  {
   "cell_type": "code",
   "execution_count": 372,
   "id": "e8dd1af2-4be2-45d0-9966-88f4aed0aeea",
   "metadata": {},
   "outputs": [],
   "source": [
    "class Test:\n",
    "    @classmethod\n",
    "    def dummy(cls):\n",
    "        Test.a=10"
   ]
  },
  {
   "cell_type": "code",
   "execution_count": 374,
   "id": "1a2ef510-9345-40bb-bf86-f7d06ed32b1f",
   "metadata": {},
   "outputs": [],
   "source": [
    "t=Test()"
   ]
  },
  {
   "cell_type": "code",
   "execution_count": 376,
   "id": "8e04d8f9-6c0e-4adf-9579-734acb9551ae",
   "metadata": {},
   "outputs": [],
   "source": [
    "t.dummy()"
   ]
  },
  {
   "cell_type": "code",
   "execution_count": 378,
   "id": "0370a180-26f6-4d8a-a82d-306630c1f640",
   "metadata": {},
   "outputs": [
    {
     "data": {
      "text/plain": [
       "mappingproxy({'__module__': '__main__',\n",
       "              'dummy': <classmethod(<function Test.dummy at 0x000001D0B8D1ADE0>)>,\n",
       "              '__dict__': <attribute '__dict__' of 'Test' objects>,\n",
       "              '__weakref__': <attribute '__weakref__' of 'Test' objects>,\n",
       "              '__doc__': None,\n",
       "              'a': 10})"
      ]
     },
     "execution_count": 378,
     "metadata": {},
     "output_type": "execute_result"
    }
   ],
   "source": [
    "Test.__dict__"
   ]
  },
  {
   "cell_type": "code",
   "execution_count": 380,
   "id": "e622dd03-3301-43c6-b713-b1b969025234",
   "metadata": {},
   "outputs": [],
   "source": [
    "class Test:\n",
    "    @classmethod\n",
    "    def dummy(cls):\n",
    "        Test.a=10\n",
    "        cls.b=20"
   ]
  },
  {
   "cell_type": "code",
   "execution_count": 382,
   "id": "7988aff7-51f7-49c5-8bf7-18e9ab920b30",
   "metadata": {},
   "outputs": [],
   "source": [
    "Test.dummy()"
   ]
  },
  {
   "cell_type": "code",
   "execution_count": 384,
   "id": "98a92e36-1f87-44dc-9303-1df20f7dbfde",
   "metadata": {},
   "outputs": [
    {
     "data": {
      "text/plain": [
       "mappingproxy({'__module__': '__main__',\n",
       "              'dummy': <classmethod(<function Test.dummy at 0x000001D0B8C73880>)>,\n",
       "              '__dict__': <attribute '__dict__' of 'Test' objects>,\n",
       "              '__weakref__': <attribute '__weakref__' of 'Test' objects>,\n",
       "              '__doc__': None,\n",
       "              'a': 10,\n",
       "              'b': 20})"
      ]
     },
     "execution_count": 384,
     "metadata": {},
     "output_type": "execute_result"
    }
   ],
   "source": [
    "Test.__dict__"
   ]
  },
  {
   "cell_type": "code",
   "execution_count": 386,
   "id": "89778ca1-bcc4-49d3-9fec-2398a83f9b1e",
   "metadata": {},
   "outputs": [],
   "source": [
    "class Test:\n",
    "    @classmethod\n",
    "    def dummy(cls):\n",
    "        Test.a=10\n",
    "        cls.b=20\n",
    "        Test.c=30\n",
    "        cls.d=40\n",
    "        "
   ]
  },
  {
   "cell_type": "code",
   "execution_count": 388,
   "id": "8b553294-7bd4-482d-aeba-1264b15d7d07",
   "metadata": {},
   "outputs": [],
   "source": [
    "Test.dummy()"
   ]
  },
  {
   "cell_type": "code",
   "execution_count": 390,
   "id": "01e8976b-0bd1-4596-ac54-e63f02830045",
   "metadata": {},
   "outputs": [
    {
     "data": {
      "text/plain": [
       "mappingproxy({'__module__': '__main__',\n",
       "              'dummy': <classmethod(<function Test.dummy at 0x000001D0B8C73E20>)>,\n",
       "              '__dict__': <attribute '__dict__' of 'Test' objects>,\n",
       "              '__weakref__': <attribute '__weakref__' of 'Test' objects>,\n",
       "              '__doc__': None,\n",
       "              'a': 10,\n",
       "              'b': 20,\n",
       "              'c': 30,\n",
       "              'd': 40})"
      ]
     },
     "execution_count": 390,
     "metadata": {},
     "output_type": "execute_result"
    }
   ],
   "source": [
    "Test.__dict__"
   ]
  },
  {
   "cell_type": "code",
   "execution_count": 392,
   "id": "ae23eb1e-bf01-406c-9f4e-0ef53b3469e5",
   "metadata": {},
   "outputs": [],
   "source": [
    "t=Test()"
   ]
  },
  {
   "cell_type": "code",
   "execution_count": 394,
   "id": "fdb51577-efc6-4350-88c8-cacabec65462",
   "metadata": {},
   "outputs": [],
   "source": [
    "t.dummy()"
   ]
  },
  {
   "cell_type": "code",
   "execution_count": 396,
   "id": "64b9e8fb-4743-4806-a35a-f94f6f07ee56",
   "metadata": {},
   "outputs": [],
   "source": [
    "Test.dummy()"
   ]
  },
  {
   "cell_type": "code",
   "execution_count": 398,
   "id": "374f2a66-95fd-4d2e-adae-402067a13089",
   "metadata": {},
   "outputs": [],
   "source": [
    "class Test:\n",
    "    @staticmethod\n",
    "    def m1():\n",
    "        Test.a=10"
   ]
  },
  {
   "cell_type": "code",
   "execution_count": 412,
   "id": "1426023f-f61c-4fcf-9c4e-f2a086f49d35",
   "metadata": {},
   "outputs": [],
   "source": [
    "t=Test()"
   ]
  },
  {
   "cell_type": "code",
   "execution_count": 414,
   "id": "98349549-90ac-4654-99fc-8e82b3d2ff0f",
   "metadata": {},
   "outputs": [],
   "source": [
    "t.m1()"
   ]
  },
  {
   "cell_type": "code",
   "execution_count": 416,
   "id": "30407cc9-75dd-4354-9d1e-7097e83f4e0d",
   "metadata": {},
   "outputs": [],
   "source": [
    "Test.m1()"
   ]
  },
  {
   "cell_type": "code",
   "execution_count": 418,
   "id": "000a291a-c558-4f18-b162-e8122faf60c5",
   "metadata": {},
   "outputs": [
    {
     "data": {
      "text/plain": [
       "mappingproxy({'__module__': '__main__',\n",
       "              'm1': <staticmethod(<function Test.m1 at 0x000001D0B8D54B80>)>,\n",
       "              '__dict__': <attribute '__dict__' of 'Test' objects>,\n",
       "              '__weakref__': <attribute '__weakref__' of 'Test' objects>,\n",
       "              '__doc__': None,\n",
       "              'a': 10})"
      ]
     },
     "execution_count": 418,
     "metadata": {},
     "output_type": "execute_result"
    }
   ],
   "source": [
    "Test.__dict__"
   ]
  },
  {
   "cell_type": "code",
   "execution_count": null,
   "id": "4d1f072a-9e35-457d-9ed3-8d2a5ce1d1c7",
   "metadata": {},
   "outputs": [],
   "source": []
  },
  {
   "cell_type": "code",
   "execution_count": 421,
   "id": "f880300c-abfe-4482-8e9e-8230e8df7775",
   "metadata": {},
   "outputs": [],
   "source": [
    "class Test:\n",
    "    a=10\n",
    "    def __init__(self):\n",
    "        self.b=20\n",
    "        Test.c=100\n",
    "\n",
    "    def m1(self):\n",
    "        self.j=30\n",
    "        Test.d=40\n",
    "\n",
    "    @classmethod\n",
    "    def m2(cls):\n",
    "        Test.e=200\n",
    "        cls.f=250\n",
    "\n",
    "    @staticmethod\n",
    "    def m3():\n",
    "        Test.g=500"
   ]
  },
  {
   "cell_type": "code",
   "execution_count": 423,
   "id": "97716e1f-95a3-494a-acee-f3f30b2589fe",
   "metadata": {},
   "outputs": [],
   "source": [
    "t=Test()"
   ]
  },
  {
   "cell_type": "code",
   "execution_count": 425,
   "id": "bdac440d-de8f-47c2-91b2-122526632adc",
   "metadata": {},
   "outputs": [],
   "source": [
    "t.m1()\n",
    "t.m2()\n",
    "t.m3()"
   ]
  },
  {
   "cell_type": "code",
   "execution_count": 427,
   "id": "6d9fe5aa-02cf-483b-8c2a-e737436d4f9f",
   "metadata": {},
   "outputs": [
    {
     "data": {
      "text/plain": [
       "{'b': 20, 'j': 30}"
      ]
     },
     "execution_count": 427,
     "metadata": {},
     "output_type": "execute_result"
    }
   ],
   "source": [
    "t.__dict__"
   ]
  },
  {
   "cell_type": "code",
   "execution_count": 429,
   "id": "c510c555-9745-47d3-81ce-57e994ebebac",
   "metadata": {},
   "outputs": [
    {
     "data": {
      "text/plain": [
       "mappingproxy({'__module__': '__main__',\n",
       "              'a': 10,\n",
       "              '__init__': <function __main__.Test.__init__(self)>,\n",
       "              'm1': <function __main__.Test.m1(self)>,\n",
       "              'm2': <classmethod(<function Test.m2 at 0x000001D0B8D55300>)>,\n",
       "              'm3': <staticmethod(<function Test.m3 at 0x000001D0B8D54860>)>,\n",
       "              '__dict__': <attribute '__dict__' of 'Test' objects>,\n",
       "              '__weakref__': <attribute '__weakref__' of 'Test' objects>,\n",
       "              '__doc__': None,\n",
       "              'c': 100,\n",
       "              'd': 40,\n",
       "              'e': 200,\n",
       "              'f': 250,\n",
       "              'g': 500})"
      ]
     },
     "execution_count": 429,
     "metadata": {},
     "output_type": "execute_result"
    }
   ],
   "source": [
    "Test.__dict__"
   ]
  },
  {
   "cell_type": "code",
   "execution_count": 431,
   "id": "e1a8df6c-a5d2-45d5-8948-f17d2a942112",
   "metadata": {},
   "outputs": [],
   "source": [
    "Test.m=1000"
   ]
  },
  {
   "cell_type": "code",
   "execution_count": 433,
   "id": "39e949c2-0155-490b-bd76-46ff034cebcc",
   "metadata": {},
   "outputs": [
    {
     "data": {
      "text/plain": [
       "mappingproxy({'__module__': '__main__',\n",
       "              'a': 10,\n",
       "              '__init__': <function __main__.Test.__init__(self)>,\n",
       "              'm1': <function __main__.Test.m1(self)>,\n",
       "              'm2': <classmethod(<function Test.m2 at 0x000001D0B8D55300>)>,\n",
       "              'm3': <staticmethod(<function Test.m3 at 0x000001D0B8D54860>)>,\n",
       "              '__dict__': <attribute '__dict__' of 'Test' objects>,\n",
       "              '__weakref__': <attribute '__weakref__' of 'Test' objects>,\n",
       "              '__doc__': None,\n",
       "              'c': 100,\n",
       "              'd': 40,\n",
       "              'e': 200,\n",
       "              'f': 250,\n",
       "              'g': 500,\n",
       "              'm': 1000})"
      ]
     },
     "execution_count": 433,
     "metadata": {},
     "output_type": "execute_result"
    }
   ],
   "source": [
    "Test.__dict__"
   ]
  },
  {
   "cell_type": "code",
   "execution_count": 435,
   "id": "2b1068f4-2458-4948-bbae-4c8da2c6766b",
   "metadata": {},
   "outputs": [],
   "source": [
    "t.p=55"
   ]
  },
  {
   "cell_type": "code",
   "execution_count": 437,
   "id": "f02fdca7-12a9-4cac-95ca-bdc530df5079",
   "metadata": {},
   "outputs": [
    {
     "data": {
      "text/plain": [
       "{'b': 20, 'j': 30, 'p': 55}"
      ]
     },
     "execution_count": 437,
     "metadata": {},
     "output_type": "execute_result"
    }
   ],
   "source": [
    "t.__dict__"
   ]
  },
  {
   "cell_type": "markdown",
   "id": "d253ca9e-fae7-4e82-9049-e046d516dc85",
   "metadata": {},
   "source": [
    "### Accessing the static variables"
   ]
  },
  {
   "cell_type": "code",
   "execution_count": 482,
   "id": "2554ac1f-6010-46b2-98af-af2cfe14e4d1",
   "metadata": {},
   "outputs": [],
   "source": [
    "# - Inside the constructor using the class name or the self variable.\n",
    "# - Inside the instance method using the class name or the self variable.\n",
    "# - Inside the class method using the class name or the cls variable.\n",
    "# - Inside the static method using the class name.\n",
    "# - Outside the class using the class name or the reference variable."
   ]
  },
  {
   "cell_type": "code",
   "execution_count": 511,
   "id": "c62d0abd-d630-426a-8392-fd65607c3e29",
   "metadata": {},
   "outputs": [],
   "source": [
    "class Test:\n",
    "    a=10\n",
    "    def __init__(self):\n",
    "        print('class name',Test.a)\n",
    "        print('self',self.a)\n",
    "\n",
    "    def m1(self):\n",
    "        print('class name',Test.a)\n",
    "        print('self',self.a)\n",
    "\n",
    "    @classmethod\n",
    "    def m2(cls):\n",
    "        print('class name',Test.a)\n",
    "        print('cls',cls.a)\n",
    "\n",
    "    @staticmethod\n",
    "    def m3():\n",
    "        print('class name', Test.a)"
   ]
  },
  {
   "cell_type": "code",
   "execution_count": 513,
   "id": "3166a268-b2d2-4ca1-a4f9-1e75a95c58a5",
   "metadata": {},
   "outputs": [
    {
     "name": "stdout",
     "output_type": "stream",
     "text": [
      "class name 10\n",
      "self 10\n"
     ]
    }
   ],
   "source": [
    "t=Test()"
   ]
  },
  {
   "cell_type": "code",
   "execution_count": 506,
   "id": "76f40163-ff3d-405c-a14d-39e7a0fe44af",
   "metadata": {},
   "outputs": [
    {
     "name": "stdout",
     "output_type": "stream",
     "text": [
      "class name 10\n",
      "self 10\n"
     ]
    }
   ],
   "source": [
    "t.m1()"
   ]
  },
  {
   "cell_type": "code",
   "execution_count": 509,
   "id": "f5b4bfea-e398-4607-80da-3c101e40a1d7",
   "metadata": {},
   "outputs": [
    {
     "name": "stdout",
     "output_type": "stream",
     "text": [
      "class name 10\n",
      "cls 10\n"
     ]
    }
   ],
   "source": [
    "t.m2()"
   ]
  },
  {
   "cell_type": "code",
   "execution_count": 515,
   "id": "9dfd2ac5-0be8-4380-a805-41facd693096",
   "metadata": {},
   "outputs": [
    {
     "name": "stdout",
     "output_type": "stream",
     "text": [
      "class name 10\n"
     ]
    }
   ],
   "source": [
    "t.m3()"
   ]
  },
  {
   "cell_type": "code",
   "execution_count": 521,
   "id": "4adbe620-ce01-4aeb-aca2-fd5b45fab87b",
   "metadata": {},
   "outputs": [
    {
     "name": "stdout",
     "output_type": "stream",
     "text": [
      "10\n"
     ]
    }
   ],
   "source": [
    "print(t.a)"
   ]
  },
  {
   "cell_type": "code",
   "execution_count": 523,
   "id": "8fa5ef48-f1c9-4b9c-845c-fb7b923143f8",
   "metadata": {},
   "outputs": [
    {
     "name": "stdout",
     "output_type": "stream",
     "text": [
      "10\n"
     ]
    }
   ],
   "source": [
    "print(Test.a)"
   ]
  },
  {
   "cell_type": "markdown",
   "id": "7468ecb3-7900-48c1-a8d4-303afc51437c",
   "metadata": {},
   "source": [
    "### Modifying the static variables"
   ]
  },
  {
   "cell_type": "code",
   "execution_count": 525,
   "id": "f09d238f-f045-48a9-b565-1ae7d9436749",
   "metadata": {},
   "outputs": [],
   "source": [
    "# - Anywhere using the class name\n",
    "# - Inside the class method using the class name or the cls variable"
   ]
  },
  {
   "cell_type": "code",
   "execution_count": 541,
   "id": "ee0b7a43-db11-4558-af43-f2d2b4e9a53e",
   "metadata": {},
   "outputs": [],
   "source": [
    "class Test:\n",
    "    a=10\n",
    "    def __init__(self):\n",
    "        Test.b=20\n",
    "        Test.a=50"
   ]
  },
  {
   "cell_type": "code",
   "execution_count": 543,
   "id": "b59975bf-04df-4e0b-b01b-3bac4496da58",
   "metadata": {},
   "outputs": [
    {
     "data": {
      "text/plain": [
       "mappingproxy({'__module__': '__main__',\n",
       "              'a': 10,\n",
       "              '__init__': <function __main__.Test.__init__(self)>,\n",
       "              '__dict__': <attribute '__dict__' of 'Test' objects>,\n",
       "              '__weakref__': <attribute '__weakref__' of 'Test' objects>,\n",
       "              '__doc__': None})"
      ]
     },
     "execution_count": 543,
     "metadata": {},
     "output_type": "execute_result"
    }
   ],
   "source": [
    "Test.__dict__"
   ]
  },
  {
   "cell_type": "code",
   "execution_count": 545,
   "id": "99c7d48d-5d5e-46ef-a2f9-5fbdf1d0f60a",
   "metadata": {},
   "outputs": [],
   "source": [
    "t=Test()"
   ]
  },
  {
   "cell_type": "code",
   "execution_count": 547,
   "id": "1ee5f33d-cf39-4150-ae44-954989553bdd",
   "metadata": {},
   "outputs": [
    {
     "data": {
      "text/plain": [
       "mappingproxy({'__module__': '__main__',\n",
       "              'a': 50,\n",
       "              '__init__': <function __main__.Test.__init__(self)>,\n",
       "              '__dict__': <attribute '__dict__' of 'Test' objects>,\n",
       "              '__weakref__': <attribute '__weakref__' of 'Test' objects>,\n",
       "              '__doc__': None,\n",
       "              'b': 20})"
      ]
     },
     "execution_count": 547,
     "metadata": {},
     "output_type": "execute_result"
    }
   ],
   "source": [
    "Test.__dict__"
   ]
  },
  {
   "cell_type": "code",
   "execution_count": 573,
   "id": "c2674f0a-2feb-473f-bf4d-c1a46084a85a",
   "metadata": {},
   "outputs": [],
   "source": [
    "class Test:\n",
    "    a=10\n",
    "    def __init__(self):\n",
    "        Test.b=20\n",
    "        Test.a=50\n",
    "    \n",
    "    def m1(self):\n",
    "        Test.c=30\n",
    "        Test.b=0"
   ]
  },
  {
   "cell_type": "code",
   "execution_count": 575,
   "id": "19857554-b0b2-4658-a4e8-232b569bacb5",
   "metadata": {},
   "outputs": [],
   "source": [
    "t=Test()"
   ]
  },
  {
   "cell_type": "code",
   "execution_count": 577,
   "id": "89327cb5-f0c5-4b97-888c-f156564d4ce2",
   "metadata": {},
   "outputs": [
    {
     "data": {
      "text/plain": [
       "mappingproxy({'__module__': '__main__',\n",
       "              'a': 50,\n",
       "              '__init__': <function __main__.Test.__init__(self)>,\n",
       "              'm1': <function __main__.Test.m1(self)>,\n",
       "              '__dict__': <attribute '__dict__' of 'Test' objects>,\n",
       "              '__weakref__': <attribute '__weakref__' of 'Test' objects>,\n",
       "              '__doc__': None,\n",
       "              'b': 20})"
      ]
     },
     "execution_count": 577,
     "metadata": {},
     "output_type": "execute_result"
    }
   ],
   "source": [
    "Test.__dict__"
   ]
  },
  {
   "cell_type": "code",
   "execution_count": 579,
   "id": "62a5d411-1e97-4e85-973b-77601835a49c",
   "metadata": {},
   "outputs": [],
   "source": [
    "t.m1()"
   ]
  },
  {
   "cell_type": "code",
   "execution_count": 581,
   "id": "7b7a4db9-d50b-46a2-9861-de78e421ec45",
   "metadata": {},
   "outputs": [
    {
     "data": {
      "text/plain": [
       "mappingproxy({'__module__': '__main__',\n",
       "              'a': 50,\n",
       "              '__init__': <function __main__.Test.__init__(self)>,\n",
       "              'm1': <function __main__.Test.m1(self)>,\n",
       "              '__dict__': <attribute '__dict__' of 'Test' objects>,\n",
       "              '__weakref__': <attribute '__weakref__' of 'Test' objects>,\n",
       "              '__doc__': None,\n",
       "              'b': 0,\n",
       "              'c': 30})"
      ]
     },
     "execution_count": 581,
     "metadata": {},
     "output_type": "execute_result"
    }
   ],
   "source": [
    "Test.__dict__"
   ]
  },
  {
   "cell_type": "code",
   "execution_count": 615,
   "id": "301bcec5-15a7-41f5-bda7-8db8c10fb493",
   "metadata": {},
   "outputs": [],
   "source": [
    "class Test:\n",
    "    a=10\n",
    "    def __init__(self):\n",
    "        Test.b=20\n",
    "        Test.a=50\n",
    "    \n",
    "    def m1(self):\n",
    "        Test.c=30\n",
    "        Test.b=0\n",
    "        \n",
    "    @classmethod\n",
    "    def m2(cls):\n",
    "        Test.a=1000\n",
    "        Test.b=250\n",
    "        Test.c=400\n",
    "        cls.a=0"
   ]
  },
  {
   "cell_type": "code",
   "execution_count": 617,
   "id": "fc1ec968-b43b-4791-92ca-e7e17d1f88de",
   "metadata": {},
   "outputs": [
    {
     "data": {
      "text/plain": [
       "mappingproxy({'__module__': '__main__',\n",
       "              'a': 10,\n",
       "              '__init__': <function __main__.Test.__init__(self)>,\n",
       "              'm1': <function __main__.Test.m1(self)>,\n",
       "              'm2': <classmethod(<function Test.m2 at 0x000001D0B8DA9E40>)>,\n",
       "              '__dict__': <attribute '__dict__' of 'Test' objects>,\n",
       "              '__weakref__': <attribute '__weakref__' of 'Test' objects>,\n",
       "              '__doc__': None})"
      ]
     },
     "execution_count": 617,
     "metadata": {},
     "output_type": "execute_result"
    }
   ],
   "source": [
    "Test.__dict__"
   ]
  },
  {
   "cell_type": "code",
   "execution_count": 619,
   "id": "3d5b2389-34fa-4845-bfa0-3dd89d8797b2",
   "metadata": {},
   "outputs": [],
   "source": [
    "t=Test()"
   ]
  },
  {
   "cell_type": "code",
   "execution_count": 621,
   "id": "330fcf9b-c9e2-4aef-902e-6345fc446461",
   "metadata": {},
   "outputs": [
    {
     "data": {
      "text/plain": [
       "mappingproxy({'__module__': '__main__',\n",
       "              'a': 50,\n",
       "              '__init__': <function __main__.Test.__init__(self)>,\n",
       "              'm1': <function __main__.Test.m1(self)>,\n",
       "              'm2': <classmethod(<function Test.m2 at 0x000001D0B8DA9E40>)>,\n",
       "              '__dict__': <attribute '__dict__' of 'Test' objects>,\n",
       "              '__weakref__': <attribute '__weakref__' of 'Test' objects>,\n",
       "              '__doc__': None,\n",
       "              'b': 20})"
      ]
     },
     "execution_count": 621,
     "metadata": {},
     "output_type": "execute_result"
    }
   ],
   "source": [
    "Test.__dict__"
   ]
  },
  {
   "cell_type": "code",
   "execution_count": 623,
   "id": "73761163-8bb5-4a4e-8763-e6f282f45177",
   "metadata": {},
   "outputs": [],
   "source": [
    "t.m1()"
   ]
  },
  {
   "cell_type": "code",
   "execution_count": 625,
   "id": "7d69fd9a-f77e-40c6-8d91-7a12dbea6872",
   "metadata": {},
   "outputs": [
    {
     "data": {
      "text/plain": [
       "mappingproxy({'__module__': '__main__',\n",
       "              'a': 50,\n",
       "              '__init__': <function __main__.Test.__init__(self)>,\n",
       "              'm1': <function __main__.Test.m1(self)>,\n",
       "              'm2': <classmethod(<function Test.m2 at 0x000001D0B8DA9E40>)>,\n",
       "              '__dict__': <attribute '__dict__' of 'Test' objects>,\n",
       "              '__weakref__': <attribute '__weakref__' of 'Test' objects>,\n",
       "              '__doc__': None,\n",
       "              'b': 0,\n",
       "              'c': 30})"
      ]
     },
     "execution_count": 625,
     "metadata": {},
     "output_type": "execute_result"
    }
   ],
   "source": [
    "Test.__dict__"
   ]
  },
  {
   "cell_type": "code",
   "execution_count": 627,
   "id": "a1939f81-3696-4847-94b0-3388b6637e22",
   "metadata": {},
   "outputs": [],
   "source": [
    "t.m2()"
   ]
  },
  {
   "cell_type": "code",
   "execution_count": 629,
   "id": "a3f2782e-b883-45a9-a30f-4aee25da6782",
   "metadata": {},
   "outputs": [
    {
     "data": {
      "text/plain": [
       "mappingproxy({'__module__': '__main__',\n",
       "              'a': 0,\n",
       "              '__init__': <function __main__.Test.__init__(self)>,\n",
       "              'm1': <function __main__.Test.m1(self)>,\n",
       "              'm2': <classmethod(<function Test.m2 at 0x000001D0B8DA9E40>)>,\n",
       "              '__dict__': <attribute '__dict__' of 'Test' objects>,\n",
       "              '__weakref__': <attribute '__weakref__' of 'Test' objects>,\n",
       "              '__doc__': None,\n",
       "              'b': 250,\n",
       "              'c': 400})"
      ]
     },
     "execution_count": 629,
     "metadata": {},
     "output_type": "execute_result"
    }
   ],
   "source": [
    "Test.__dict__"
   ]
  },
  {
   "cell_type": "code",
   "execution_count": 633,
   "id": "f0b3fc38-1c8b-4b4d-ba40-c3ec9765ddc6",
   "metadata": {},
   "outputs": [],
   "source": [
    "class Test:\n",
    "    a=10\n",
    "    def __init__(self):\n",
    "        Test.b=20\n",
    "        Test.a=50\n",
    "    \n",
    "    def m1(self):\n",
    "        Test.c=30\n",
    "        Test.b=0\n",
    "        \n",
    "    @classmethod\n",
    "    def m2(cls):\n",
    "        Test.a=1000\n",
    "        Test.b=250\n",
    "        Test.c=400\n",
    "        cls.a=0\n",
    "    \n",
    "    @staticmethod\n",
    "    def m3():\n",
    "        Test.c=5000"
   ]
  },
  {
   "cell_type": "code",
   "execution_count": 635,
   "id": "15c84422-8101-4ace-b6aa-a8161f273e45",
   "metadata": {},
   "outputs": [],
   "source": [
    "t=Test()"
   ]
  },
  {
   "cell_type": "code",
   "execution_count": 637,
   "id": "92a947ae-5fa6-4dbc-ad0b-7bc2c40d9a05",
   "metadata": {},
   "outputs": [],
   "source": [
    "t.m1()\n",
    "t.m2()\n",
    "t.m3()"
   ]
  },
  {
   "cell_type": "code",
   "execution_count": 639,
   "id": "cfd08f09-aad1-4f4b-9fe0-2952d8b96364",
   "metadata": {},
   "outputs": [
    {
     "data": {
      "text/plain": [
       "mappingproxy({'__module__': '__main__',\n",
       "              'a': 0,\n",
       "              '__init__': <function __main__.Test.__init__(self)>,\n",
       "              'm1': <function __main__.Test.m1(self)>,\n",
       "              'm2': <classmethod(<function Test.m2 at 0x000001D0B8DA8F40>)>,\n",
       "              'm3': <staticmethod(<function Test.m3 at 0x000001D0B8DA8A40>)>,\n",
       "              '__dict__': <attribute '__dict__' of 'Test' objects>,\n",
       "              '__weakref__': <attribute '__weakref__' of 'Test' objects>,\n",
       "              '__doc__': None,\n",
       "              'b': 250,\n",
       "              'c': 5000})"
      ]
     },
     "execution_count": 639,
     "metadata": {},
     "output_type": "execute_result"
    }
   ],
   "source": [
    "Test.__dict__"
   ]
  },
  {
   "cell_type": "code",
   "execution_count": 641,
   "id": "060a84ef-59cb-452b-9dd5-e6b93e21214f",
   "metadata": {},
   "outputs": [],
   "source": [
    "Test.c=100"
   ]
  },
  {
   "cell_type": "code",
   "execution_count": 643,
   "id": "ceffa3da-48d2-43c4-a33c-35fc4d546f0f",
   "metadata": {},
   "outputs": [
    {
     "data": {
      "text/plain": [
       "mappingproxy({'__module__': '__main__',\n",
       "              'a': 0,\n",
       "              '__init__': <function __main__.Test.__init__(self)>,\n",
       "              'm1': <function __main__.Test.m1(self)>,\n",
       "              'm2': <classmethod(<function Test.m2 at 0x000001D0B8DA8F40>)>,\n",
       "              'm3': <staticmethod(<function Test.m3 at 0x000001D0B8DA8A40>)>,\n",
       "              '__dict__': <attribute '__dict__' of 'Test' objects>,\n",
       "              '__weakref__': <attribute '__weakref__' of 'Test' objects>,\n",
       "              '__doc__': None,\n",
       "              'b': 250,\n",
       "              'c': 100})"
      ]
     },
     "execution_count": 643,
     "metadata": {},
     "output_type": "execute_result"
    }
   ],
   "source": [
    "Test.__dict__"
   ]
  },
  {
   "cell_type": "code",
   "execution_count": 645,
   "id": "c3f6dc8b-5c63-4b0b-bcfa-05e4d7db36ca",
   "metadata": {},
   "outputs": [],
   "source": [
    "Test.a='Hello'"
   ]
  },
  {
   "cell_type": "code",
   "execution_count": 647,
   "id": "0ee902ed-6533-488b-9e68-0000868c5db0",
   "metadata": {},
   "outputs": [
    {
     "data": {
      "text/plain": [
       "mappingproxy({'__module__': '__main__',\n",
       "              'a': 'Hello',\n",
       "              '__init__': <function __main__.Test.__init__(self)>,\n",
       "              'm1': <function __main__.Test.m1(self)>,\n",
       "              'm2': <classmethod(<function Test.m2 at 0x000001D0B8DA8F40>)>,\n",
       "              'm3': <staticmethod(<function Test.m3 at 0x000001D0B8DA8A40>)>,\n",
       "              '__dict__': <attribute '__dict__' of 'Test' objects>,\n",
       "              '__weakref__': <attribute '__weakref__' of 'Test' objects>,\n",
       "              '__doc__': None,\n",
       "              'b': 250,\n",
       "              'c': 100})"
      ]
     },
     "execution_count": 647,
     "metadata": {},
     "output_type": "execute_result"
    }
   ],
   "source": [
    "Test.__dict__"
   ]
  },
  {
   "cell_type": "markdown",
   "id": "2debe165-a5fe-436b-b1ea-11eb5cce2eab",
   "metadata": {},
   "source": [
    "### Deletion of a static varible"
   ]
  },
  {
   "cell_type": "code",
   "execution_count": 652,
   "id": "c622086b-5af1-4ddf-9e1d-51803e1e2e5d",
   "metadata": {},
   "outputs": [],
   "source": [
    "# - Anywhere using the class name. -> del class_name.static_variable\n",
    "# - Inside the class method using the class name or the sls variable."
   ]
  },
  {
   "cell_type": "code",
   "execution_count": 656,
   "id": "64c7a13f-98c8-41f0-a533-e6ca5d025476",
   "metadata": {},
   "outputs": [],
   "source": [
    "class Test:\n",
    "    a=10\n",
    "    def __init__(self):\n",
    "        Test.b=20\n",
    "        del Test.a"
   ]
  },
  {
   "cell_type": "code",
   "execution_count": 658,
   "id": "4dfd9aa5-8228-4cf9-9fbd-30ddc2b00550",
   "metadata": {},
   "outputs": [
    {
     "data": {
      "text/plain": [
       "mappingproxy({'__module__': '__main__',\n",
       "              'a': 10,\n",
       "              '__init__': <function __main__.Test.__init__(self)>,\n",
       "              '__dict__': <attribute '__dict__' of 'Test' objects>,\n",
       "              '__weakref__': <attribute '__weakref__' of 'Test' objects>,\n",
       "              '__doc__': None})"
      ]
     },
     "execution_count": 658,
     "metadata": {},
     "output_type": "execute_result"
    }
   ],
   "source": [
    "Test.__dict__"
   ]
  },
  {
   "cell_type": "code",
   "execution_count": 660,
   "id": "f8b1061f-bf48-45e8-9903-64e3791475ef",
   "metadata": {},
   "outputs": [],
   "source": [
    "t=Test()"
   ]
  },
  {
   "cell_type": "code",
   "execution_count": 662,
   "id": "8974125f-b907-4f7b-9511-efc409d4a8ed",
   "metadata": {},
   "outputs": [
    {
     "data": {
      "text/plain": [
       "mappingproxy({'__module__': '__main__',\n",
       "              '__init__': <function __main__.Test.__init__(self)>,\n",
       "              '__dict__': <attribute '__dict__' of 'Test' objects>,\n",
       "              '__weakref__': <attribute '__weakref__' of 'Test' objects>,\n",
       "              '__doc__': None,\n",
       "              'b': 20})"
      ]
     },
     "execution_count": 662,
     "metadata": {},
     "output_type": "execute_result"
    }
   ],
   "source": [
    "Test.__dict__"
   ]
  },
  {
   "cell_type": "code",
   "execution_count": 664,
   "id": "3122e0e7-ad1c-47dd-95a1-8cc65f3d11f4",
   "metadata": {},
   "outputs": [],
   "source": [
    "class Test:\n",
    "    a=10\n",
    "    def m1(self):\n",
    "        Test.b=20\n",
    "        del Test.a"
   ]
  },
  {
   "cell_type": "code",
   "execution_count": 666,
   "id": "7d3d8978-7557-423a-91f8-991e4e14387e",
   "metadata": {},
   "outputs": [
    {
     "data": {
      "text/plain": [
       "mappingproxy({'__module__': '__main__',\n",
       "              'a': 10,\n",
       "              'm1': <function __main__.Test.m1(self)>,\n",
       "              '__dict__': <attribute '__dict__' of 'Test' objects>,\n",
       "              '__weakref__': <attribute '__weakref__' of 'Test' objects>,\n",
       "              '__doc__': None})"
      ]
     },
     "execution_count": 666,
     "metadata": {},
     "output_type": "execute_result"
    }
   ],
   "source": [
    "Test.__dict__"
   ]
  },
  {
   "cell_type": "code",
   "execution_count": 668,
   "id": "412d5aa3-ea47-4e8b-ac43-583be5d6177f",
   "metadata": {},
   "outputs": [],
   "source": [
    "t=Test()"
   ]
  },
  {
   "cell_type": "code",
   "execution_count": 670,
   "id": "b2488739-e6fd-4484-8328-ae8aad852fba",
   "metadata": {},
   "outputs": [
    {
     "data": {
      "text/plain": [
       "mappingproxy({'__module__': '__main__',\n",
       "              'a': 10,\n",
       "              'm1': <function __main__.Test.m1(self)>,\n",
       "              '__dict__': <attribute '__dict__' of 'Test' objects>,\n",
       "              '__weakref__': <attribute '__weakref__' of 'Test' objects>,\n",
       "              '__doc__': None})"
      ]
     },
     "execution_count": 670,
     "metadata": {},
     "output_type": "execute_result"
    }
   ],
   "source": [
    "Test.__dict__"
   ]
  },
  {
   "cell_type": "code",
   "execution_count": 672,
   "id": "1512e1af-9354-4e3b-8e30-f9372a9a3801",
   "metadata": {},
   "outputs": [],
   "source": [
    "t.m1()"
   ]
  },
  {
   "cell_type": "code",
   "execution_count": 674,
   "id": "48beb859-cfdd-4e77-bb85-4445872408b8",
   "metadata": {},
   "outputs": [
    {
     "data": {
      "text/plain": [
       "mappingproxy({'__module__': '__main__',\n",
       "              'm1': <function __main__.Test.m1(self)>,\n",
       "              '__dict__': <attribute '__dict__' of 'Test' objects>,\n",
       "              '__weakref__': <attribute '__weakref__' of 'Test' objects>,\n",
       "              '__doc__': None,\n",
       "              'b': 20})"
      ]
     },
     "execution_count": 674,
     "metadata": {},
     "output_type": "execute_result"
    }
   ],
   "source": [
    "Test.__dict__"
   ]
  },
  {
   "cell_type": "code",
   "execution_count": 684,
   "id": "219b2fdb-dfbd-450e-ab8d-4d6e9cbe4026",
   "metadata": {},
   "outputs": [],
   "source": [
    "class Test:\n",
    "    a=10\n",
    "    \n",
    "    @classmethod\n",
    "    def m1(cls):\n",
    "        Test.b=20\n",
    "        del Test.a\n",
    "        cls.c=300\n",
    "        del cls.b"
   ]
  },
  {
   "cell_type": "code",
   "execution_count": 686,
   "id": "ced08310-c91e-4166-8691-5f3f9c53aed7",
   "metadata": {},
   "outputs": [
    {
     "data": {
      "text/plain": [
       "mappingproxy({'__module__': '__main__',\n",
       "              'a': 10,\n",
       "              'm1': <classmethod(<function Test.m1 at 0x000001D0B8DA80E0>)>,\n",
       "              '__dict__': <attribute '__dict__' of 'Test' objects>,\n",
       "              '__weakref__': <attribute '__weakref__' of 'Test' objects>,\n",
       "              '__doc__': None})"
      ]
     },
     "execution_count": 686,
     "metadata": {},
     "output_type": "execute_result"
    }
   ],
   "source": [
    "Test.__dict__"
   ]
  },
  {
   "cell_type": "code",
   "execution_count": 688,
   "id": "5902956e-3dd7-47a8-9d6f-acd08c080d5f",
   "metadata": {},
   "outputs": [],
   "source": [
    "t=Test()"
   ]
  },
  {
   "cell_type": "code",
   "execution_count": 690,
   "id": "4af60c24-5806-497a-9325-eb6a42f2e3a2",
   "metadata": {},
   "outputs": [],
   "source": [
    "t.m1()"
   ]
  },
  {
   "cell_type": "code",
   "execution_count": 692,
   "id": "fe4548f0-315a-46b3-a55f-5dc4aa99e3d5",
   "metadata": {},
   "outputs": [
    {
     "data": {
      "text/plain": [
       "mappingproxy({'__module__': '__main__',\n",
       "              'm1': <classmethod(<function Test.m1 at 0x000001D0B8DA80E0>)>,\n",
       "              '__dict__': <attribute '__dict__' of 'Test' objects>,\n",
       "              '__weakref__': <attribute '__weakref__' of 'Test' objects>,\n",
       "              '__doc__': None,\n",
       "              'c': 300})"
      ]
     },
     "execution_count": 692,
     "metadata": {},
     "output_type": "execute_result"
    }
   ],
   "source": [
    "Test.__dict__"
   ]
  },
  {
   "cell_type": "code",
   "execution_count": 694,
   "id": "5a32bf1b-d4a8-4c8a-8084-6a605a00b215",
   "metadata": {},
   "outputs": [],
   "source": [
    "class Test:\n",
    "    a=10\n",
    "    @staticmethod\n",
    "    def m2():\n",
    "        del Test.a\n",
    "        Test.b=20"
   ]
  },
  {
   "cell_type": "code",
   "execution_count": 696,
   "id": "899b78de-b3f0-49e6-addb-e1777c63312c",
   "metadata": {},
   "outputs": [
    {
     "data": {
      "text/plain": [
       "mappingproxy({'__module__': '__main__',\n",
       "              'a': 10,\n",
       "              'm2': <staticmethod(<function Test.m2 at 0x000001D0B8DCD080>)>,\n",
       "              '__dict__': <attribute '__dict__' of 'Test' objects>,\n",
       "              '__weakref__': <attribute '__weakref__' of 'Test' objects>,\n",
       "              '__doc__': None})"
      ]
     },
     "execution_count": 696,
     "metadata": {},
     "output_type": "execute_result"
    }
   ],
   "source": [
    "Test.__dict__"
   ]
  },
  {
   "cell_type": "code",
   "execution_count": 698,
   "id": "ec7b063f-b6c7-454a-93d4-196f58078d40",
   "metadata": {},
   "outputs": [],
   "source": [
    "t=Test()"
   ]
  },
  {
   "cell_type": "code",
   "execution_count": 700,
   "id": "4cafd568-7fa9-4364-8cc0-7303cb6e4ab3",
   "metadata": {},
   "outputs": [],
   "source": [
    "t.m2()"
   ]
  },
  {
   "cell_type": "code",
   "execution_count": 702,
   "id": "e31eaea9-e637-4772-8cc3-48626c8e6f23",
   "metadata": {},
   "outputs": [
    {
     "data": {
      "text/plain": [
       "mappingproxy({'__module__': '__main__',\n",
       "              'm2': <staticmethod(<function Test.m2 at 0x000001D0B8DCD080>)>,\n",
       "              '__dict__': <attribute '__dict__' of 'Test' objects>,\n",
       "              '__weakref__': <attribute '__weakref__' of 'Test' objects>,\n",
       "              '__doc__': None,\n",
       "              'b': 20})"
      ]
     },
     "execution_count": 702,
     "metadata": {},
     "output_type": "execute_result"
    }
   ],
   "source": [
    "Test.__dict__"
   ]
  },
  {
   "cell_type": "code",
   "execution_count": 706,
   "id": "5ba38307-e061-41c6-8b47-1c94cf5e6497",
   "metadata": {},
   "outputs": [],
   "source": [
    "Test.c=100\n",
    "del Test.b"
   ]
  },
  {
   "cell_type": "code",
   "execution_count": 708,
   "id": "9a313bfc-186e-4d2a-94d8-77f5f21a701c",
   "metadata": {},
   "outputs": [
    {
     "data": {
      "text/plain": [
       "mappingproxy({'__module__': '__main__',\n",
       "              'm2': <staticmethod(<function Test.m2 at 0x000001D0B8DCD080>)>,\n",
       "              '__dict__': <attribute '__dict__' of 'Test' objects>,\n",
       "              '__weakref__': <attribute '__weakref__' of 'Test' objects>,\n",
       "              '__doc__': None,\n",
       "              'c': 100})"
      ]
     },
     "execution_count": 708,
     "metadata": {},
     "output_type": "execute_result"
    }
   ],
   "source": [
    "Test.__dict__"
   ]
  },
  {
   "cell_type": "markdown",
   "id": "13de89d5-d888-432b-a754-cecf7d5f975b",
   "metadata": {},
   "source": [
    "# Local variables"
   ]
  },
  {
   "cell_type": "code",
   "execution_count": 760,
   "id": "1c5dad34-bc70-483c-80c6-10637e3efbd0",
   "metadata": {},
   "outputs": [],
   "source": [
    "# - These are also known as method level variables.\n",
    "# - These variables are defined inside the methods \n",
    "# - These variables can only be accessed inside the method that they have been defined in."
   ]
  },
  {
   "cell_type": "code",
   "execution_count": 15,
   "id": "8f27cc8a-f9a5-4631-b204-908e9e330820",
   "metadata": {},
   "outputs": [],
   "source": [
    "class Test:\n",
    "    def __init__(self):\n",
    "        self.a=10 # instance variable\n",
    "        b=20 # local variable\n",
    "        print('b-',b)"
   ]
  },
  {
   "cell_type": "code",
   "execution_count": 17,
   "id": "bfaff624-0c97-4012-8a8d-a3c5430cc488",
   "metadata": {},
   "outputs": [
    {
     "name": "stdout",
     "output_type": "stream",
     "text": [
      "b- 20\n"
     ]
    }
   ],
   "source": [
    "t=Test()"
   ]
  },
  {
   "cell_type": "code",
   "execution_count": 19,
   "id": "31c58441-faec-4905-9f24-af1fc534beb5",
   "metadata": {},
   "outputs": [
    {
     "name": "stdout",
     "output_type": "stream",
     "text": [
      "10\n"
     ]
    }
   ],
   "source": [
    "print(t.a)"
   ]
  },
  {
   "cell_type": "code",
   "execution_count": 23,
   "id": "c6ec7a95-1cb9-4803-8da6-791f43568ba9",
   "metadata": {},
   "outputs": [],
   "source": [
    "# b"
   ]
  },
  {
   "cell_type": "code",
   "execution_count": 47,
   "id": "9ee2e5b5-a4f6-49e3-aa2c-05ea8dab9fc9",
   "metadata": {},
   "outputs": [],
   "source": [
    "class Test:\n",
    "    def m1(self):\n",
    "        self.x=100\n",
    "        y=200\n",
    "        print('y-',y)"
   ]
  },
  {
   "cell_type": "code",
   "execution_count": 49,
   "id": "eb213671-050b-462f-a16c-1d38d20aa01e",
   "metadata": {},
   "outputs": [],
   "source": [
    "t=Test()"
   ]
  },
  {
   "cell_type": "code",
   "execution_count": 51,
   "id": "ac7f2ed8-ef77-4a42-af67-28e5ccebc2c0",
   "metadata": {},
   "outputs": [
    {
     "name": "stdout",
     "output_type": "stream",
     "text": [
      "y- 200\n"
     ]
    }
   ],
   "source": [
    "t.m1()"
   ]
  },
  {
   "cell_type": "code",
   "execution_count": 53,
   "id": "01fe9cfe-08a6-4280-9ebb-14bc7a07eedc",
   "metadata": {},
   "outputs": [
    {
     "data": {
      "text/plain": [
       "100"
      ]
     },
     "execution_count": 53,
     "metadata": {},
     "output_type": "execute_result"
    }
   ],
   "source": [
    "t.x"
   ]
  },
  {
   "cell_type": "code",
   "execution_count": 55,
   "id": "90856c0e-66a9-4440-8ac7-e25f8e5c4a65",
   "metadata": {},
   "outputs": [
    {
     "ename": "AttributeError",
     "evalue": "'Test' object has no attribute 'y'",
     "output_type": "error",
     "traceback": [
      "\u001b[1;31m---------------------------------------------------------------------------\u001b[0m",
      "\u001b[1;31mAttributeError\u001b[0m                            Traceback (most recent call last)",
      "Cell \u001b[1;32mIn[55], line 1\u001b[0m\n\u001b[1;32m----> 1\u001b[0m t\u001b[38;5;241m.\u001b[39my\n",
      "\u001b[1;31mAttributeError\u001b[0m: 'Test' object has no attribute 'y'"
     ]
    }
   ],
   "source": [
    "t.y"
   ]
  },
  {
   "cell_type": "code",
   "execution_count": 57,
   "id": "042e9669-7722-458c-b3c1-e2b77b932671",
   "metadata": {},
   "outputs": [
    {
     "ename": "NameError",
     "evalue": "name 'y' is not defined",
     "output_type": "error",
     "traceback": [
      "\u001b[1;31m---------------------------------------------------------------------------\u001b[0m",
      "\u001b[1;31mNameError\u001b[0m                                 Traceback (most recent call last)",
      "Cell \u001b[1;32mIn[57], line 1\u001b[0m\n\u001b[1;32m----> 1\u001b[0m y\n",
      "\u001b[1;31mNameError\u001b[0m: name 'y' is not defined"
     ]
    }
   ],
   "source": [
    "y"
   ]
  },
  {
   "cell_type": "code",
   "execution_count": 59,
   "id": "baeaec1b-f298-464a-8a82-78c60a251a60",
   "metadata": {},
   "outputs": [],
   "source": [
    "class Test:\n",
    "    a=10\n",
    "    def __init__(self):\n",
    "        self.b=20\n",
    "        x=100\n",
    "\n",
    "    def m1(self):\n",
    "        self.c=30\n",
    "        y=150\n",
    "\n",
    "    @classmethod\n",
    "    def m2(cls):\n",
    "        k=200\n",
    "\n",
    "    @staticmethod\n",
    "    def m3():\n",
    "        l=250"
   ]
  },
  {
   "cell_type": "code",
   "execution_count": 61,
   "id": "0232d2e0-bbb9-4e17-9b55-f753f182c815",
   "metadata": {},
   "outputs": [],
   "source": [
    "# static variables- a\n",
    "# instance variables- b,c\n",
    "# local variables- x,y,kl"
   ]
  },
  {
   "cell_type": "code",
   "execution_count": 73,
   "id": "26ba35b6-3c0e-484c-afaf-5e72306361f5",
   "metadata": {},
   "outputs": [],
   "source": [
    "class Test:\n",
    "    def __init__(self):\n",
    "        self.a=10\n",
    "        b=20\n",
    "        print(dir())"
   ]
  },
  {
   "cell_type": "code",
   "execution_count": 75,
   "id": "e32895c3-6591-417a-8bbb-da10fffbf006",
   "metadata": {},
   "outputs": [
    {
     "name": "stdout",
     "output_type": "stream",
     "text": [
      "['b', 'self']\n"
     ]
    }
   ],
   "source": [
    "t=Test()"
   ]
  },
  {
   "cell_type": "code",
   "execution_count": 77,
   "id": "f3b13b31-9e59-4ac4-b6c8-5e862b6acbbb",
   "metadata": {},
   "outputs": [
    {
     "data": {
      "text/plain": [
       "{'a': 10}"
      ]
     },
     "execution_count": 77,
     "metadata": {},
     "output_type": "execute_result"
    }
   ],
   "source": [
    "t.__dict__"
   ]
  },
  {
   "cell_type": "code",
   "execution_count": 79,
   "id": "04ff2c2a-efad-4c1e-b3fa-c52238bc9f80",
   "metadata": {},
   "outputs": [
    {
     "data": {
      "text/plain": [
       "mappingproxy({'__module__': '__main__',\n",
       "              '__init__': <function __main__.Test.__init__(self)>,\n",
       "              '__dict__': <attribute '__dict__' of 'Test' objects>,\n",
       "              '__weakref__': <attribute '__weakref__' of 'Test' objects>,\n",
       "              '__doc__': None})"
      ]
     },
     "execution_count": 79,
     "metadata": {},
     "output_type": "execute_result"
    }
   ],
   "source": [
    "Test.__dict__"
   ]
  },
  {
   "cell_type": "code",
   "execution_count": 85,
   "id": "44f8d569-395a-455f-8d45-3eaea4244497",
   "metadata": {},
   "outputs": [],
   "source": [
    "class Test:\n",
    "    s=5000\n",
    "    def __init__(self):\n",
    "        self.a=10\n",
    "        b=20\n",
    "        print(dir())\n",
    "\n",
    "    def m1(self):\n",
    "        self.c=30\n",
    "        x=50\n",
    "        print(dir())"
   ]
  },
  {
   "cell_type": "code",
   "execution_count": 87,
   "id": "16bdf049-3230-45a4-859d-ad93f42d4cac",
   "metadata": {},
   "outputs": [
    {
     "name": "stdout",
     "output_type": "stream",
     "text": [
      "['b', 'self']\n"
     ]
    }
   ],
   "source": [
    "t=Test()"
   ]
  },
  {
   "cell_type": "code",
   "execution_count": 89,
   "id": "e7546b0e-16d0-4d9c-87f1-6ef910d87888",
   "metadata": {},
   "outputs": [
    {
     "data": {
      "text/plain": [
       "{'a': 10}"
      ]
     },
     "execution_count": 89,
     "metadata": {},
     "output_type": "execute_result"
    }
   ],
   "source": [
    "t.__dict__"
   ]
  },
  {
   "cell_type": "code",
   "execution_count": 91,
   "id": "30810e3e-3592-41de-8ba9-45d487fd28de",
   "metadata": {},
   "outputs": [
    {
     "data": {
      "text/plain": [
       "mappingproxy({'__module__': '__main__',\n",
       "              's': 5000,\n",
       "              '__init__': <function __main__.Test.__init__(self)>,\n",
       "              'm1': <function __main__.Test.m1(self)>,\n",
       "              '__dict__': <attribute '__dict__' of 'Test' objects>,\n",
       "              '__weakref__': <attribute '__weakref__' of 'Test' objects>,\n",
       "              '__doc__': None})"
      ]
     },
     "execution_count": 91,
     "metadata": {},
     "output_type": "execute_result"
    }
   ],
   "source": [
    "Test.__dict__"
   ]
  },
  {
   "cell_type": "code",
   "execution_count": 93,
   "id": "1753ca8f-d99a-49e5-b8b7-3bdca5bdc6e4",
   "metadata": {},
   "outputs": [
    {
     "name": "stdout",
     "output_type": "stream",
     "text": [
      "['self', 'x']\n"
     ]
    }
   ],
   "source": [
    "t.m1()"
   ]
  },
  {
   "cell_type": "code",
   "execution_count": 95,
   "id": "d30425c6-61cb-4130-8c65-324b337fcab1",
   "metadata": {},
   "outputs": [],
   "source": [
    "class Test:\n",
    "    s=5000\n",
    "    def __init__(self):\n",
    "        self.a=10\n",
    "        b=20\n",
    "        print(dir())\n",
    "    \n",
    "    @classmethod\n",
    "    def m1(cls):\n",
    "        cls.t=4000\n",
    "        x=50\n",
    "        print(dir())"
   ]
  },
  {
   "cell_type": "code",
   "execution_count": 97,
   "id": "0e5cb527-f96e-40e5-b728-16ab70a7a69b",
   "metadata": {},
   "outputs": [
    {
     "name": "stdout",
     "output_type": "stream",
     "text": [
      "['b', 'self']\n"
     ]
    }
   ],
   "source": [
    "t=Test()"
   ]
  },
  {
   "cell_type": "code",
   "execution_count": 99,
   "id": "f6e8433c-47b4-4900-b605-015eda2c2cae",
   "metadata": {},
   "outputs": [
    {
     "data": {
      "text/plain": [
       "mappingproxy({'__module__': '__main__',\n",
       "              's': 5000,\n",
       "              '__init__': <function __main__.Test.__init__(self)>,\n",
       "              'm1': <classmethod(<function Test.m1 at 0x000002258FAAB060>)>,\n",
       "              '__dict__': <attribute '__dict__' of 'Test' objects>,\n",
       "              '__weakref__': <attribute '__weakref__' of 'Test' objects>,\n",
       "              '__doc__': None})"
      ]
     },
     "execution_count": 99,
     "metadata": {},
     "output_type": "execute_result"
    }
   ],
   "source": [
    "Test.__dict__"
   ]
  },
  {
   "cell_type": "code",
   "execution_count": 101,
   "id": "274bde82-ccd4-41e7-8d28-877e5b5c60fd",
   "metadata": {},
   "outputs": [
    {
     "data": {
      "text/plain": [
       "{'a': 10}"
      ]
     },
     "execution_count": 101,
     "metadata": {},
     "output_type": "execute_result"
    }
   ],
   "source": [
    "t.__dict__"
   ]
  },
  {
   "cell_type": "code",
   "execution_count": 103,
   "id": "1c650375-a4df-48f9-bbdb-18bc25ab576f",
   "metadata": {},
   "outputs": [
    {
     "name": "stdout",
     "output_type": "stream",
     "text": [
      "['cls', 'x']\n"
     ]
    }
   ],
   "source": [
    "t.m1()"
   ]
  },
  {
   "cell_type": "code",
   "execution_count": 105,
   "id": "04de2195-4b32-442f-bac1-6b00c96848bb",
   "metadata": {},
   "outputs": [
    {
     "data": {
      "text/plain": [
       "mappingproxy({'__module__': '__main__',\n",
       "              's': 5000,\n",
       "              '__init__': <function __main__.Test.__init__(self)>,\n",
       "              'm1': <classmethod(<function Test.m1 at 0x000002258FAAB060>)>,\n",
       "              '__dict__': <attribute '__dict__' of 'Test' objects>,\n",
       "              '__weakref__': <attribute '__weakref__' of 'Test' objects>,\n",
       "              '__doc__': None,\n",
       "              't': 4000})"
      ]
     },
     "execution_count": 105,
     "metadata": {},
     "output_type": "execute_result"
    }
   ],
   "source": [
    "Test.__dict__"
   ]
  },
  {
   "cell_type": "code",
   "execution_count": 123,
   "id": "9f0c1812-4832-4632-b785-b320d84309c5",
   "metadata": {},
   "outputs": [],
   "source": [
    "class Test:\n",
    "    s=5000\n",
    "    def __init__(self):\n",
    "        self.a=10\n",
    "        b=20\n",
    "        print(dir())\n",
    "    \n",
    "    @classmethod\n",
    "    def m1(cls):\n",
    "        cls.t=4000\n",
    "        x=50\n",
    "        print(dir())\n",
    "\n",
    "    @staticmethod\n",
    "    def m2():\n",
    "        p=200\n",
    "        print(dir())\n",
    "        # print(x)"
   ]
  },
  {
   "cell_type": "code",
   "execution_count": 125,
   "id": "f1254f11-525e-4ece-acd7-b84e111df1b8",
   "metadata": {},
   "outputs": [
    {
     "name": "stdout",
     "output_type": "stream",
     "text": [
      "['b', 'self']\n"
     ]
    }
   ],
   "source": [
    "t=Test()"
   ]
  },
  {
   "cell_type": "code",
   "execution_count": 127,
   "id": "a94194c1-2b09-4bdf-b9da-5857ef95be7e",
   "metadata": {},
   "outputs": [
    {
     "name": "stdout",
     "output_type": "stream",
     "text": [
      "['p']\n"
     ]
    }
   ],
   "source": [
    "t.m2()"
   ]
  },
  {
   "cell_type": "code",
   "execution_count": 129,
   "id": "a9a0c88f-4ca8-4646-9178-ca4806b94272",
   "metadata": {},
   "outputs": [
    {
     "ename": "NameError",
     "evalue": "name 'p' is not defined",
     "output_type": "error",
     "traceback": [
      "\u001b[1;31m---------------------------------------------------------------------------\u001b[0m",
      "\u001b[1;31mNameError\u001b[0m                                 Traceback (most recent call last)",
      "Cell \u001b[1;32mIn[129], line 1\u001b[0m\n\u001b[1;32m----> 1\u001b[0m \u001b[38;5;28mprint\u001b[39m(p)\n",
      "\u001b[1;31mNameError\u001b[0m: name 'p' is not defined"
     ]
    }
   ],
   "source": [
    "print(p)"
   ]
  },
  {
   "cell_type": "markdown",
   "id": "62a965b9-4c4c-4dcd-b2fd-0e2e3bbd6e5b",
   "metadata": {},
   "source": [
    "### Hierarchy"
   ]
  },
  {
   "cell_type": "code",
   "execution_count": 145,
   "id": "deb4b018-d4ab-4fd8-afb6-955bbb96518e",
   "metadata": {},
   "outputs": [],
   "source": [
    "class Test:\n",
    "    a=10 # static variable\n",
    "    def __init__(self):\n",
    "        self.a=20 # instance variable\n",
    "        a=30 # local\n",
    "        print(a)"
   ]
  },
  {
   "cell_type": "code",
   "execution_count": 147,
   "id": "2f2e0519-18e6-4f2b-a78b-5779ce8c781a",
   "metadata": {},
   "outputs": [],
   "source": [
    "# Local -> Instance -> Static"
   ]
  },
  {
   "cell_type": "code",
   "execution_count": 149,
   "id": "21cc12fe-981b-4b7b-a4db-8bcb4e202a78",
   "metadata": {},
   "outputs": [
    {
     "name": "stdout",
     "output_type": "stream",
     "text": [
      "30\n"
     ]
    }
   ],
   "source": [
    "t=Test()"
   ]
  },
  {
   "cell_type": "code",
   "execution_count": 151,
   "id": "f9dd4fb9-d5b7-4715-acd5-7760a9b6fa1b",
   "metadata": {},
   "outputs": [
    {
     "data": {
      "text/plain": [
       "20"
      ]
     },
     "execution_count": 151,
     "metadata": {},
     "output_type": "execute_result"
    }
   ],
   "source": [
    "t.a # Instance variable"
   ]
  },
  {
   "cell_type": "code",
   "execution_count": 153,
   "id": "88a2c3e9-c5e9-46a2-a06b-4fa8b0ea7227",
   "metadata": {},
   "outputs": [
    {
     "data": {
      "text/plain": [
       "10"
      ]
     },
     "execution_count": 153,
     "metadata": {},
     "output_type": "execute_result"
    }
   ],
   "source": [
    "Test.a # Static variable"
   ]
  },
  {
   "cell_type": "code",
   "execution_count": 163,
   "id": "cfb2a74b-c6c6-4155-b851-ba766f26ea7c",
   "metadata": {},
   "outputs": [],
   "source": [
    "class Test:\n",
    "    def __init__(self):\n",
    "        self.a=20 # instance variable\n",
    "        a=30 # local\n",
    "        print(a)"
   ]
  },
  {
   "cell_type": "code",
   "execution_count": 165,
   "id": "8f651be8-0e93-4433-9d4a-ef3869a04dac",
   "metadata": {},
   "outputs": [
    {
     "name": "stdout",
     "output_type": "stream",
     "text": [
      "30\n"
     ]
    }
   ],
   "source": [
    "t=Test()"
   ]
  },
  {
   "cell_type": "code",
   "execution_count": 167,
   "id": "3a2cae60-d729-493c-844a-46347322d524",
   "metadata": {},
   "outputs": [
    {
     "data": {
      "text/plain": [
       "20"
      ]
     },
     "execution_count": 167,
     "metadata": {},
     "output_type": "execute_result"
    }
   ],
   "source": [
    "t.a"
   ]
  },
  {
   "cell_type": "code",
   "execution_count": 169,
   "id": "874a58eb-4f27-4ecd-9b48-4ed7a4bb143f",
   "metadata": {},
   "outputs": [],
   "source": [
    "class Test:\n",
    "    a=10\n",
    "    def __init__(self):\n",
    "        a=30 # local\n",
    "        print(a)"
   ]
  },
  {
   "cell_type": "code",
   "execution_count": 171,
   "id": "0a210f28-4cc6-4217-92b3-b0a5c012eddd",
   "metadata": {},
   "outputs": [
    {
     "name": "stdout",
     "output_type": "stream",
     "text": [
      "30\n"
     ]
    }
   ],
   "source": [
    "t=Test()"
   ]
  },
  {
   "cell_type": "code",
   "execution_count": 173,
   "id": "d9f06056-d8b0-4a53-b061-00438062c732",
   "metadata": {},
   "outputs": [
    {
     "data": {
      "text/plain": [
       "10"
      ]
     },
     "execution_count": 173,
     "metadata": {},
     "output_type": "execute_result"
    }
   ],
   "source": [
    "t.a"
   ]
  },
  {
   "cell_type": "code",
   "execution_count": 177,
   "id": "62620d3b-2524-48b5-837f-0dea9ab50626",
   "metadata": {},
   "outputs": [],
   "source": [
    "# Create a banking class.\n",
    "# bank name- Will be the same for all customers -> static variables\n",
    "# name and amount- to be stored for each customer -> attributes- instance variables\n",
    "# deposit and withdrawl facilities -> behaviour - methods"
   ]
  },
  {
   "cell_type": "code",
   "execution_count": 221,
   "id": "a19f7d3e-f912-4778-b31c-be1fc17bbda9",
   "metadata": {},
   "outputs": [],
   "source": [
    "class Banking:\n",
    "    bank='BOI'\n",
    "    def __init__(self,name,bal=0):\n",
    "        self.name=name\n",
    "        self.balance=bal\n",
    "    \n",
    "    def deposit(self,amt):\n",
    "        print(f'Welcome {self.name} to {self.bank}')\n",
    "        self.balance+=amt\n",
    "        print('The amount after deposit is',self.balance)\n",
    "\n",
    "    def withdrawl(self,amt):\n",
    "        print(f'Welcome {self.name} to {self.bank}')\n",
    "        if amt>self.balance:\n",
    "            print('Insufficient amount')\n",
    "        else:\n",
    "            self.balance-=amt\n",
    "            print('The amount after withdrawl is',self.balance)\n",
    "\n",
    "    def current_balance(self):\n",
    "        print(f'Welcome {self.name} to {self.bank}')\n",
    "        print('The current blance is',self.balance)"
   ]
  },
  {
   "cell_type": "code",
   "execution_count": 223,
   "id": "48eafbee-137b-4704-bc11-0b4d082a3219",
   "metadata": {},
   "outputs": [],
   "source": [
    "c1=Banking('Ashish')"
   ]
  },
  {
   "cell_type": "code",
   "execution_count": 225,
   "id": "d92bbcb0-b8ba-4de8-b06f-4cb98a99f993",
   "metadata": {},
   "outputs": [
    {
     "name": "stdout",
     "output_type": "stream",
     "text": [
      "Welcome Ashish to BOI\n",
      "The current blance is 0\n"
     ]
    }
   ],
   "source": [
    "c1.current_balance()"
   ]
  },
  {
   "cell_type": "code",
   "execution_count": 227,
   "id": "4f11a38d-8225-4768-90ea-475355b240e6",
   "metadata": {},
   "outputs": [
    {
     "name": "stdout",
     "output_type": "stream",
     "text": [
      "Welcome Ashish to BOI\n",
      "The amount after deposit is 1000\n"
     ]
    }
   ],
   "source": [
    "c1.deposit(1000)"
   ]
  },
  {
   "cell_type": "code",
   "execution_count": 229,
   "id": "fc3b9a8d-f03f-46c3-b596-525d2155670b",
   "metadata": {},
   "outputs": [
    {
     "name": "stdout",
     "output_type": "stream",
     "text": [
      "Welcome Ashish to BOI\n",
      "Insufficient amount\n"
     ]
    }
   ],
   "source": [
    "c1.withdrawl(2000)"
   ]
  },
  {
   "cell_type": "code",
   "execution_count": 209,
   "id": "ee119a3b-297c-4b44-b251-704912a2c14e",
   "metadata": {},
   "outputs": [
    {
     "name": "stdout",
     "output_type": "stream",
     "text": [
      "Welcome to BOI\n",
      "The amount after withdrawl is 800\n"
     ]
    }
   ],
   "source": [
    "c1.withdrawl(200)"
   ]
  },
  {
   "cell_type": "code",
   "execution_count": 213,
   "id": "2143d88b-a507-4fe5-8516-3c60b69df4bb",
   "metadata": {},
   "outputs": [
    {
     "name": "stdout",
     "output_type": "stream",
     "text": [
      "Welcome to BOI\n",
      "The current blance is 800\n"
     ]
    }
   ],
   "source": [
    "c1.current_balance()"
   ]
  },
  {
   "cell_type": "code",
   "execution_count": 239,
   "id": "c02d3772-b181-462c-8fda-712244db8934",
   "metadata": {},
   "outputs": [],
   "source": [
    "names=['Dhruv', 'Ashish', 'Deepak', 'Uday', 'Siddhant', 'Akshay', 'Megha']\n",
    "in_balance=[1200,1500,1600,1800,1400,1250,1630]"
   ]
  },
  {
   "cell_type": "code",
   "execution_count": 241,
   "id": "3dceef5b-60a9-4079-bf5c-8b3e209fca30",
   "metadata": {},
   "outputs": [],
   "source": [
    "c1=Banking(names[0])"
   ]
  },
  {
   "cell_type": "code",
   "execution_count": 243,
   "id": "4a7a4aa2-4cdd-4b72-a041-bdaa58d0e627",
   "metadata": {},
   "outputs": [
    {
     "data": {
      "text/plain": [
       "'Dhruv'"
      ]
     },
     "execution_count": 243,
     "metadata": {},
     "output_type": "execute_result"
    }
   ],
   "source": [
    "c1.name"
   ]
  },
  {
   "cell_type": "code",
   "execution_count": 245,
   "id": "f3572888-933a-4085-989f-e5309abfc2a3",
   "metadata": {},
   "outputs": [
    {
     "name": "stdout",
     "output_type": "stream",
     "text": [
      "Welcome Dhruv to BOI\n",
      "The current blance is 0\n"
     ]
    }
   ],
   "source": [
    "c1.current_balance()"
   ]
  },
  {
   "cell_type": "code",
   "execution_count": 264,
   "id": "538f9020-c9de-45ce-ab52-83542ecfc450",
   "metadata": {},
   "outputs": [],
   "source": [
    "customers=[]\n",
    "for name in names:\n",
    "    customers.append(Banking(name))"
   ]
  },
  {
   "cell_type": "code",
   "execution_count": 266,
   "id": "74f10b0d-b4b4-4e3e-9cab-d205caf4f0ce",
   "metadata": {},
   "outputs": [
    {
     "data": {
      "text/plain": [
       "[<__main__.Banking at 0x22591ab2890>,\n",
       " <__main__.Banking at 0x22591650390>,\n",
       " <__main__.Banking at 0x22591ad30d0>,\n",
       " <__main__.Banking at 0x22591ad1e10>,\n",
       " <__main__.Banking at 0x22591ad3c90>,\n",
       " <__main__.Banking at 0x22591ae71d0>,\n",
       " <__main__.Banking at 0x22591ae4ed0>]"
      ]
     },
     "execution_count": 266,
     "metadata": {},
     "output_type": "execute_result"
    }
   ],
   "source": [
    "customers"
   ]
  },
  {
   "cell_type": "code",
   "execution_count": 272,
   "id": "1046ae3a-f0b9-4f9a-87d3-e64ac47817f4",
   "metadata": {},
   "outputs": [
    {
     "name": "stdout",
     "output_type": "stream",
     "text": [
      "Dhruv 0\n",
      "Ashish 0\n",
      "Deepak 0\n",
      "Uday 0\n",
      "Siddhant 0\n",
      "Akshay 0\n",
      "Megha 0\n"
     ]
    }
   ],
   "source": [
    "for c in customers:\n",
    "    print(c.name,c.balance)"
   ]
  },
  {
   "cell_type": "code",
   "execution_count": 280,
   "id": "e3dd95b1-75a5-4dc7-9295-c6ece85a92d9",
   "metadata": {},
   "outputs": [],
   "source": [
    "customers=[]\n",
    "for c,b in zip(names,in_balance):\n",
    "    customers.append(Banking(c,b))"
   ]
  },
  {
   "cell_type": "code",
   "execution_count": 282,
   "id": "c5e5cde8-6afd-43de-a546-fdce459204f8",
   "metadata": {},
   "outputs": [
    {
     "data": {
      "text/plain": [
       "[<__main__.Banking at 0x2258f9abf50>,\n",
       " <__main__.Banking at 0x22591b04550>,\n",
       " <__main__.Banking at 0x22591b07ad0>,\n",
       " <__main__.Banking at 0x22591b07750>,\n",
       " <__main__.Banking at 0x22591b07290>,\n",
       " <__main__.Banking at 0x22591b04dd0>,\n",
       " <__main__.Banking at 0x22591b04ad0>]"
      ]
     },
     "execution_count": 282,
     "metadata": {},
     "output_type": "execute_result"
    }
   ],
   "source": [
    "customers"
   ]
  },
  {
   "cell_type": "code",
   "execution_count": 286,
   "id": "80abc287-4587-4013-9aad-85d9c5b1ef98",
   "metadata": {},
   "outputs": [
    {
     "name": "stdout",
     "output_type": "stream",
     "text": [
      "Dhruv 1200\n",
      "Ashish 1500\n",
      "Deepak 1600\n",
      "Uday 1800\n",
      "Siddhant 1400\n",
      "Akshay 1250\n",
      "Megha 1630\n"
     ]
    }
   ],
   "source": [
    "for c in customers:\n",
    "    print(c.name,c.balance)"
   ]
  },
  {
   "cell_type": "code",
   "execution_count": 288,
   "id": "badd1497-22e7-4072-802a-ac4e0f34094f",
   "metadata": {},
   "outputs": [],
   "source": [
    "# Show the current balance of all the customers"
   ]
  },
  {
   "cell_type": "code",
   "execution_count": 290,
   "id": "8d6ded34-6758-407f-b773-769613484bfe",
   "metadata": {},
   "outputs": [
    {
     "name": "stdout",
     "output_type": "stream",
     "text": [
      "1200\n",
      "1500\n",
      "1600\n",
      "1800\n",
      "1400\n",
      "1250\n",
      "1630\n"
     ]
    }
   ],
   "source": [
    "for c in customers:\n",
    "    print(c.balance)"
   ]
  },
  {
   "cell_type": "code",
   "execution_count": 296,
   "id": "b6038c8b-eaa3-446a-a90b-dacfbd39d28f",
   "metadata": {},
   "outputs": [
    {
     "name": "stdout",
     "output_type": "stream",
     "text": [
      "Welcome Dhruv to BOI\n",
      "The current blance is 1200\n",
      "---------------------\n",
      "\n",
      "Welcome Ashish to BOI\n",
      "The current blance is 1500\n",
      "---------------------\n",
      "\n",
      "Welcome Deepak to BOI\n",
      "The current blance is 1600\n",
      "---------------------\n",
      "\n",
      "Welcome Uday to BOI\n",
      "The current blance is 1800\n",
      "---------------------\n",
      "\n",
      "Welcome Siddhant to BOI\n",
      "The current blance is 1400\n",
      "---------------------\n",
      "\n",
      "Welcome Akshay to BOI\n",
      "The current blance is 1250\n",
      "---------------------\n",
      "\n",
      "Welcome Megha to BOI\n",
      "The current blance is 1630\n",
      "---------------------\n",
      "\n"
     ]
    }
   ],
   "source": [
    "for c in customers:\n",
    "    c.current_balance()\n",
    "    print('---------------------\\n')"
   ]
  },
  {
   "cell_type": "code",
   "execution_count": 298,
   "id": "dd08c0dd-a44e-4257-a9e7-66440206a716",
   "metadata": {},
   "outputs": [],
   "source": [
    "# Show the current balance of Deepak"
   ]
  },
  {
   "cell_type": "code",
   "execution_count": 304,
   "id": "18bed27f-46ba-4549-940a-7ec181eaa619",
   "metadata": {},
   "outputs": [
    {
     "name": "stdout",
     "output_type": "stream",
     "text": [
      "Welcome Deepak to BOI\n",
      "The current blance is 1600\n"
     ]
    }
   ],
   "source": [
    "for c in customers:\n",
    "    if c.name=='Deepak':\n",
    "        c.current_balance()"
   ]
  },
  {
   "cell_type": "code",
   "execution_count": 306,
   "id": "ffbaa204-a7f5-4ad3-b29d-ef4c173481b9",
   "metadata": {},
   "outputs": [],
   "source": [
    "# Deposit 1200 in Deepak's account"
   ]
  },
  {
   "cell_type": "code",
   "execution_count": 310,
   "id": "066b49c1-c445-45e8-a368-ad23a9e04a68",
   "metadata": {},
   "outputs": [
    {
     "name": "stdout",
     "output_type": "stream",
     "text": [
      "Welcome Deepak to BOI\n",
      "The amount after deposit is 2800\n"
     ]
    }
   ],
   "source": [
    "for c in customers:\n",
    "    if c.name=='Deepak':\n",
    "        c.deposit(1200)"
   ]
  },
  {
   "cell_type": "code",
   "execution_count": 312,
   "id": "a72ea07e-8b39-43d6-818d-521beab4f67e",
   "metadata": {},
   "outputs": [
    {
     "name": "stdout",
     "output_type": "stream",
     "text": [
      "Welcome Deepak to BOI\n",
      "The current blance is 2800\n"
     ]
    }
   ],
   "source": [
    "for c in customers:\n",
    "    if c.name=='Deepak':\n",
    "        c.current_balance()"
   ]
  },
  {
   "cell_type": "code",
   "execution_count": 314,
   "id": "49c5bf42-4c2d-4fd8-8cc3-d46e285ba92b",
   "metadata": {},
   "outputs": [],
   "source": [
    "# Current balance of Megha"
   ]
  },
  {
   "cell_type": "code",
   "execution_count": 316,
   "id": "23d462cf-338b-4c07-aa9d-72d9abc0a038",
   "metadata": {},
   "outputs": [
    {
     "name": "stdout",
     "output_type": "stream",
     "text": [
      "Welcome Megha to BOI\n",
      "The current blance is 1630\n"
     ]
    }
   ],
   "source": [
    "for c in customers:\n",
    "    if c.name=='Megha':\n",
    "        c.current_balance()"
   ]
  },
  {
   "cell_type": "code",
   "execution_count": 318,
   "id": "69e5f754-3caa-4c64-94f0-51bc71783d8d",
   "metadata": {},
   "outputs": [],
   "source": [
    "# Withdraw 130 from Mmegha's account."
   ]
  },
  {
   "cell_type": "code",
   "execution_count": 320,
   "id": "27c928d6-0606-4c0d-a0e8-32733dda5849",
   "metadata": {},
   "outputs": [
    {
     "name": "stdout",
     "output_type": "stream",
     "text": [
      "Welcome Megha to BOI\n",
      "The amount after withdrawl is 1500\n"
     ]
    }
   ],
   "source": [
    "for c in customers:\n",
    "    if c.name=='Megha':\n",
    "        c.withdrawl(130)"
   ]
  },
  {
   "cell_type": "code",
   "execution_count": 322,
   "id": "dfdf38fc-beaa-4fe6-b002-f30782034a38",
   "metadata": {},
   "outputs": [
    {
     "name": "stdout",
     "output_type": "stream",
     "text": [
      "Welcome Megha to BOI\n",
      "The current blance is 1500\n"
     ]
    }
   ],
   "source": [
    "for c in customers:\n",
    "    if c.name=='Megha':\n",
    "        c.current_balance()"
   ]
  },
  {
   "cell_type": "code",
   "execution_count": 332,
   "id": "fd2a5a6d-de37-4478-8a4f-779683452ef8",
   "metadata": {},
   "outputs": [],
   "source": [
    "# Increase the balance by 5% of all customers."
   ]
  },
  {
   "cell_type": "code",
   "execution_count": 338,
   "id": "4c7a239c-5240-4932-a73f-9abf767a9fa3",
   "metadata": {},
   "outputs": [
    {
     "name": "stdout",
     "output_type": "stream",
     "text": [
      "Welcome Dhruv to BOI\n",
      "The amount after deposit is 1260.0\n",
      "Welcome Ashish to BOI\n",
      "The amount after deposit is 1575.0\n",
      "Welcome Deepak to BOI\n",
      "The amount after deposit is 2940.0\n",
      "Welcome Uday to BOI\n",
      "The amount after deposit is 1890.0\n",
      "Welcome Siddhant to BOI\n",
      "The amount after deposit is 1470.0\n",
      "Welcome Akshay to BOI\n",
      "The amount after deposit is 1312.5\n",
      "Welcome Megha to BOI\n",
      "The amount after deposit is 1575.0\n"
     ]
    }
   ],
   "source": [
    "for c in customers:\n",
    "    inc=c.balance*5/100\n",
    "    c.deposit(inc)"
   ]
  },
  {
   "cell_type": "code",
   "execution_count": 340,
   "id": "cef9c44c-948e-49f1-9905-99c308f4f1b3",
   "metadata": {},
   "outputs": [
    {
     "name": "stdout",
     "output_type": "stream",
     "text": [
      "Welcome Dhruv to BOI\n",
      "The current blance is 1260.0\n",
      "Welcome Ashish to BOI\n",
      "The current blance is 1575.0\n",
      "Welcome Deepak to BOI\n",
      "The current blance is 2940.0\n",
      "Welcome Uday to BOI\n",
      "The current blance is 1890.0\n",
      "Welcome Siddhant to BOI\n",
      "The current blance is 1470.0\n",
      "Welcome Akshay to BOI\n",
      "The current blance is 1312.5\n",
      "Welcome Megha to BOI\n",
      "The current blance is 1575.0\n"
     ]
    }
   ],
   "source": [
    "for c in customers:\n",
    "    c.current_balance()"
   ]
  },
  {
   "cell_type": "markdown",
   "id": "8ae5abe4-6a60-4b44-9521-7f8d84fb016d",
   "metadata": {},
   "source": [
    "# Types of Methods"
   ]
  },
  {
   "cell_type": "code",
   "execution_count": 344,
   "id": "3fb41569-a6a8-4e1c-9af4-7da5ea08e37c",
   "metadata": {},
   "outputs": [],
   "source": [
    "# - Instance methods\n",
    "# - Class methods\n",
    "# - Static methods"
   ]
  },
  {
   "cell_type": "markdown",
   "id": "d032d32e-0ed9-448b-8127-40bd9bb1cb02",
   "metadata": {},
   "source": [
    "# Instance methods"
   ]
  },
  {
   "cell_type": "code",
   "execution_count": 347,
   "id": "032333c5-efbe-4353-8053-25fa08db753a",
   "metadata": {},
   "outputs": [],
   "source": [
    "# - The methods that use, access, modify or delete any instance variable are known as instance methods.\n",
    "# - Instance methods always have atleast 1 argument that is self."
   ]
  },
  {
   "cell_type": "code",
   "execution_count": 371,
   "id": "5666f491-ac5a-40cc-8c96-0646a9950065",
   "metadata": {},
   "outputs": [],
   "source": [
    "class Test:\n",
    "    def __init__(self):\n",
    "        self.name='Tejdeep'\n",
    "        self.age=22\n",
    "\n",
    "    def info(self): # instance method\n",
    "        print(self.name)\n",
    "        print(self.age)"
   ]
  },
  {
   "cell_type": "code",
   "execution_count": 373,
   "id": "e297b087-e475-4b17-8af9-b04d612a5a56",
   "metadata": {},
   "outputs": [],
   "source": [
    "t=Test()"
   ]
  },
  {
   "cell_type": "code",
   "execution_count": 375,
   "id": "051bab73-f2dd-4eba-a603-10b0b57c0cbc",
   "metadata": {},
   "outputs": [
    {
     "data": {
      "text/plain": [
       "'Tejdeep'"
      ]
     },
     "execution_count": 375,
     "metadata": {},
     "output_type": "execute_result"
    }
   ],
   "source": [
    "t.name"
   ]
  },
  {
   "cell_type": "code",
   "execution_count": 377,
   "id": "c5ce8d58-d1ec-4ded-a4cd-05e28a090954",
   "metadata": {},
   "outputs": [
    {
     "data": {
      "text/plain": [
       "22"
      ]
     },
     "execution_count": 377,
     "metadata": {},
     "output_type": "execute_result"
    }
   ],
   "source": [
    "t.age"
   ]
  },
  {
   "cell_type": "code",
   "execution_count": 379,
   "id": "3f6ffd7d-e75e-4610-82fd-d79bbb31cee2",
   "metadata": {},
   "outputs": [
    {
     "name": "stdout",
     "output_type": "stream",
     "text": [
      "Tejdeep\n",
      "22\n"
     ]
    }
   ],
   "source": [
    "t.info()"
   ]
  },
  {
   "cell_type": "markdown",
   "id": "0c2b9a28-e37b-4714-88f8-78055e3a224f",
   "metadata": {},
   "source": [
    "# Getter and Setter methods"
   ]
  },
  {
   "cell_type": "code",
   "execution_count": 384,
   "id": "2a60f4c7-fd4f-497f-8bd3-e1293b247255",
   "metadata": {},
   "outputs": [],
   "source": [
    "# - The getter methods are used to access the instance variables.\n",
    "# - The setter methods are used to modify or to create an instance method."
   ]
  },
  {
   "cell_type": "code",
   "execution_count": 400,
   "id": "7a6085be-becb-4b0a-a3ec-b2131e7e684e",
   "metadata": {},
   "outputs": [],
   "source": [
    "class Employee:\n",
    "    \n",
    "    def __init__(self):\n",
    "        self.name='Uday Kumar'\n",
    "    \n",
    "    def get_name(self): # getter method\n",
    "        print(self.name)\n",
    "\n",
    "    def set_name(self,name): # setter method\n",
    "        self.name=name"
   ]
  },
  {
   "cell_type": "code",
   "execution_count": 402,
   "id": "5973387c-3ed9-40ab-89c0-81598f6ecd4e",
   "metadata": {},
   "outputs": [],
   "source": [
    "e=Employee()"
   ]
  },
  {
   "cell_type": "code",
   "execution_count": 404,
   "id": "412fbea1-d532-4773-9e49-9f45898b9d3c",
   "metadata": {},
   "outputs": [
    {
     "name": "stdout",
     "output_type": "stream",
     "text": [
      "Uday Kumar\n"
     ]
    }
   ],
   "source": [
    "e.get_name()"
   ]
  },
  {
   "cell_type": "code",
   "execution_count": 406,
   "id": "71293def-2db1-4b7d-9a73-d1e8cbc0c5a6",
   "metadata": {},
   "outputs": [],
   "source": [
    "e.set_name('Sumit')"
   ]
  },
  {
   "cell_type": "code",
   "execution_count": 408,
   "id": "8b6c5e72-f229-4c5a-8bd6-5449be490163",
   "metadata": {},
   "outputs": [
    {
     "name": "stdout",
     "output_type": "stream",
     "text": [
      "Sumit\n"
     ]
    }
   ],
   "source": [
    "e.get_name()"
   ]
  },
  {
   "cell_type": "code",
   "execution_count": 410,
   "id": "bf8b592a-c66c-4336-a235-b19b8664068b",
   "metadata": {},
   "outputs": [
    {
     "data": {
      "text/plain": [
       "'Sumit'"
      ]
     },
     "execution_count": 410,
     "metadata": {},
     "output_type": "execute_result"
    }
   ],
   "source": [
    "e.name"
   ]
  },
  {
   "cell_type": "code",
   "execution_count": 422,
   "id": "9f091701-1049-4260-a2b7-8da33faf7662",
   "metadata": {},
   "outputs": [],
   "source": [
    "# We can call an instance method inside another instance method or inside the constructor as well by using self."
   ]
  },
  {
   "cell_type": "code",
   "execution_count": 438,
   "id": "b16958eb-04ed-45ca-a898-cd3db8826e05",
   "metadata": {},
   "outputs": [],
   "source": [
    "class Student:\n",
    "    def __init__(self):\n",
    "        self.name='Amit'\n",
    "        self.age=22\n",
    "        self.marks=78\n",
    "        self.display()\n",
    "\n",
    "    def display(self):\n",
    "        print(f'My name is {self.name}')\n",
    "        print(f'My age is {self.age}')\n",
    "        print(f'My marks are {self.marks}')"
   ]
  },
  {
   "cell_type": "code",
   "execution_count": 440,
   "id": "65038a5a-0844-42e2-9209-4d2974fcf568",
   "metadata": {},
   "outputs": [
    {
     "name": "stdout",
     "output_type": "stream",
     "text": [
      "My name is Amit\n",
      "My age is 22\n",
      "My marks are 78\n"
     ]
    }
   ],
   "source": [
    "s=Student()"
   ]
  },
  {
   "cell_type": "code",
   "execution_count": 442,
   "id": "cc24cc02-c1bd-47e1-80f6-d86f95261634",
   "metadata": {},
   "outputs": [],
   "source": [
    "class Student:\n",
    "    def __init__(self):\n",
    "        self.name='Amit'\n",
    "        self.age=22\n",
    "        self.marks=78\n",
    "    \n",
    "    def display(self):\n",
    "        print(f'My name is {self.name}')\n",
    "        print(f'My age is {self.age}')\n",
    "        print(f'My marks are {self.marks}')\n",
    "\n",
    "    def grade(self):\n",
    "        if self.marks>=60:\n",
    "            print('First Division')\n",
    "        elif self.marks>=45:\n",
    "            print('Second Division')\n",
    "        elif self.marks>=33:\n",
    "            print('Third Division')\n",
    "        else:\n",
    "            print('Fail')"
   ]
  },
  {
   "cell_type": "code",
   "execution_count": 446,
   "id": "813b8205-8546-4ac9-822e-7bae556b91c0",
   "metadata": {},
   "outputs": [],
   "source": [
    "s=Student()"
   ]
  },
  {
   "cell_type": "code",
   "execution_count": 448,
   "id": "149be5ab-ba0f-4386-a202-24359671bdf9",
   "metadata": {},
   "outputs": [
    {
     "name": "stdout",
     "output_type": "stream",
     "text": [
      "My name is Amit\n",
      "My age is 22\n",
      "My marks are 78\n"
     ]
    }
   ],
   "source": [
    "s.display()"
   ]
  },
  {
   "cell_type": "code",
   "execution_count": 450,
   "id": "7ef1b773-08cf-4b0f-b7dc-07f462e926a5",
   "metadata": {},
   "outputs": [
    {
     "name": "stdout",
     "output_type": "stream",
     "text": [
      "First Division\n"
     ]
    }
   ],
   "source": [
    "s.grade()"
   ]
  },
  {
   "cell_type": "code",
   "execution_count": 454,
   "id": "ced52daf-04ad-418c-ac20-6272ea2634bd",
   "metadata": {},
   "outputs": [],
   "source": [
    "class Student:\n",
    "    def __init__(self):\n",
    "        self.name='Amit'\n",
    "        self.age=22\n",
    "        self.marks=78\n",
    "    \n",
    "    def display(self):\n",
    "        print(f'My name is {self.name}')\n",
    "        print(f'My age is {self.age}')\n",
    "        print(f'My marks are {self.marks}')\n",
    "        self.grade()\n",
    "\n",
    "    def grade(self):\n",
    "        if self.marks>=60:\n",
    "            print('First Division')\n",
    "        elif self.marks>=45:\n",
    "            print('Second Division')\n",
    "        elif self.marks>=33:\n",
    "            print('Third Division')\n",
    "        else:\n",
    "            print('Fail')"
   ]
  },
  {
   "cell_type": "code",
   "execution_count": 456,
   "id": "c78ccac3-f49e-43d3-95d3-1ad8bb053604",
   "metadata": {},
   "outputs": [],
   "source": [
    "s=Student()"
   ]
  },
  {
   "cell_type": "code",
   "execution_count": 458,
   "id": "917c07c1-f5b0-4959-8411-00f47281f074",
   "metadata": {},
   "outputs": [
    {
     "name": "stdout",
     "output_type": "stream",
     "text": [
      "My name is Amit\n",
      "My age is 22\n",
      "My marks are 78\n",
      "First Division\n"
     ]
    }
   ],
   "source": [
    "s.display()"
   ]
  },
  {
   "cell_type": "code",
   "execution_count": 460,
   "id": "6e6b2bd8-41ff-47d1-9015-34222e2b5d4f",
   "metadata": {},
   "outputs": [],
   "source": [
    "class Student:\n",
    "    def __init__(self):\n",
    "        self.name='Amit'\n",
    "        self.age=22\n",
    "        self.marks=78\n",
    "        self.display()\n",
    "    \n",
    "    def display(self):\n",
    "        print(f'My name is {self.name}')\n",
    "        print(f'My age is {self.age}')\n",
    "        print(f'My marks are {self.marks}')\n",
    "        self.grade()\n",
    "\n",
    "    def grade(self):\n",
    "        if self.marks>=60:\n",
    "            print('First Division')\n",
    "        elif self.marks>=45:\n",
    "            print('Second Division')\n",
    "        elif self.marks>=33:\n",
    "            print('Third Division')\n",
    "        else:\n",
    "            print('Fail')"
   ]
  },
  {
   "cell_type": "code",
   "execution_count": 462,
   "id": "c90271bb-a95d-4c58-b63b-269579109cc7",
   "metadata": {},
   "outputs": [
    {
     "name": "stdout",
     "output_type": "stream",
     "text": [
      "My name is Amit\n",
      "My age is 22\n",
      "My marks are 78\n",
      "First Division\n"
     ]
    }
   ],
   "source": [
    "s=Student()"
   ]
  },
  {
   "cell_type": "markdown",
   "id": "d101b2db-2775-4ac4-8027-272e0f43a2fd",
   "metadata": {},
   "source": [
    "# Class Methods"
   ]
  },
  {
   "cell_type": "code",
   "execution_count": 465,
   "id": "4b69dd1d-b5bf-409d-b433-b0b0f3ad739f",
   "metadata": {},
   "outputs": [],
   "source": [
    "# - When we have only the static variable then only we use the class method."
   ]
  },
  {
   "cell_type": "code",
   "execution_count": 467,
   "id": "3eaa79e9-49a6-48c3-997c-8ee261318b09",
   "metadata": {},
   "outputs": [],
   "source": [
    "# Instance variables -> Instance method\n",
    "# Instance variables + Local variables -> Instance method\n",
    "# Instance variables + Static variable -> Instance method\n",
    "# Only Static variable - Class method\n",
    "# Static variable + Local variable - Class method\n",
    "# Only Local variables -> Static method"
   ]
  },
  {
   "cell_type": "markdown",
   "id": "576216d3-4dc7-4fca-849c-57ee4baac2b1",
   "metadata": {},
   "source": [
    "### Defining a class method"
   ]
  },
  {
   "cell_type": "code",
   "execution_count": 496,
   "id": "e6bedfec-eec4-4e02-adbe-aec20c2fa487",
   "metadata": {},
   "outputs": [],
   "source": [
    "# - A class method is always defined using @classmethod decorator.\n",
    "# - It has atleast one arguments i.e. cls\n",
    "# - We can take some other variable in place of cls."
   ]
  },
  {
   "cell_type": "code",
   "execution_count": 472,
   "id": "bbdfa5cb-4e89-4a0a-b2fd-30f702dcd68e",
   "metadata": {},
   "outputs": [],
   "source": [
    "@classmethod\n",
    "def method_name(cls):\n",
    "    pass"
   ]
  },
  {
   "cell_type": "code",
   "execution_count": 474,
   "id": "0ce69173-6aaf-4f58-ba02-e1d5bd4cf8ca",
   "metadata": {},
   "outputs": [],
   "source": [
    "# cls- It always points to the current class."
   ]
  },
  {
   "cell_type": "code",
   "execution_count": 480,
   "id": "20b17811-4067-4e74-a09b-330fb239c14f",
   "metadata": {},
   "outputs": [],
   "source": [
    "class Test: # class creation\n",
    "    pass"
   ]
  },
  {
   "cell_type": "code",
   "execution_count": 482,
   "id": "78c7da79-37fe-4c2e-b997-4cbcc5da8ea1",
   "metadata": {},
   "outputs": [
    {
     "name": "stdout",
     "output_type": "stream",
     "text": [
      "2360313699632\n"
     ]
    }
   ],
   "source": [
    "print(id(Test))"
   ]
  },
  {
   "cell_type": "code",
   "execution_count": 484,
   "id": "316dd806-ed6a-4d86-bb74-49539f353dd5",
   "metadata": {},
   "outputs": [],
   "source": [
    "t=Test() # object creation"
   ]
  },
  {
   "cell_type": "code",
   "execution_count": 486,
   "id": "e84df24d-71b2-4433-9634-cbf65b0efb2d",
   "metadata": {},
   "outputs": [
    {
     "name": "stdout",
     "output_type": "stream",
     "text": [
      "2360381016464\n"
     ]
    }
   ],
   "source": [
    "print(id(t))"
   ]
  },
  {
   "cell_type": "code",
   "execution_count": 490,
   "id": "4dd6d9a5-91e2-40e5-93cf-ecfaa788af16",
   "metadata": {},
   "outputs": [],
   "source": [
    "class Test:\n",
    "    a=10\n",
    "    \n",
    "    @classmethod\n",
    "    def m1(cls):\n",
    "        print(id(cls))"
   ]
  },
  {
   "cell_type": "code",
   "execution_count": 492,
   "id": "873bc507-e26b-454a-bd56-f60f010a1cbd",
   "metadata": {},
   "outputs": [
    {
     "name": "stdout",
     "output_type": "stream",
     "text": [
      "2360313685968\n"
     ]
    }
   ],
   "source": [
    "print(id(Test))"
   ]
  },
  {
   "cell_type": "code",
   "execution_count": 494,
   "id": "92b19289-8f81-4bcc-9d28-ef75c53e40f8",
   "metadata": {},
   "outputs": [
    {
     "name": "stdout",
     "output_type": "stream",
     "text": [
      "2360313685968\n"
     ]
    }
   ],
   "source": [
    "Test.m1()"
   ]
  },
  {
   "cell_type": "code",
   "execution_count": 498,
   "id": "180c559c-1455-44ed-a057-38c886a8268c",
   "metadata": {},
   "outputs": [],
   "source": [
    "class Test:\n",
    "\n",
    "    @classmethod\n",
    "    def m1(abc):\n",
    "        print(id(abc))"
   ]
  },
  {
   "cell_type": "code",
   "execution_count": 500,
   "id": "00db33b4-2764-4e31-8753-2847ae65fb15",
   "metadata": {},
   "outputs": [
    {
     "name": "stdout",
     "output_type": "stream",
     "text": [
      "2360313702560\n"
     ]
    }
   ],
   "source": [
    "print(id(Test))"
   ]
  },
  {
   "cell_type": "code",
   "execution_count": 502,
   "id": "72e4f96e-07f1-4e17-9fa3-d6770a84a718",
   "metadata": {},
   "outputs": [
    {
     "name": "stdout",
     "output_type": "stream",
     "text": [
      "2360313702560\n"
     ]
    }
   ],
   "source": [
    "Test.m1()"
   ]
  },
  {
   "cell_type": "markdown",
   "id": "251d16cf-c6d3-46a8-af69-6696933190b5",
   "metadata": {},
   "source": [
    "### If we don't use the @classmethod decorator"
   ]
  },
  {
   "cell_type": "code",
   "execution_count": 507,
   "id": "91bbb691-f16b-42bd-bc8e-c576a062f5a6",
   "metadata": {},
   "outputs": [],
   "source": [
    "# - In the above case the method will be considered as the instance method of static method.\n",
    "# - It depends how we access the method."
   ]
  },
  {
   "cell_type": "code",
   "execution_count": 531,
   "id": "a2db4475-93e5-4c6a-9be2-f7fcc8e32fca",
   "metadata": {},
   "outputs": [],
   "source": [
    "class Test:\n",
    "    def m1(cls): # Instance method and cls is behaving as self here\n",
    "        print(id(cls))"
   ]
  },
  {
   "cell_type": "code",
   "execution_count": 541,
   "id": "8e6cee33-d93f-45f4-9f2f-2a9056e87b13",
   "metadata": {},
   "outputs": [
    {
     "name": "stdout",
     "output_type": "stream",
     "text": [
      "2360313700608\n"
     ]
    }
   ],
   "source": [
    "print(id(Test)) # address of the class"
   ]
  },
  {
   "cell_type": "code",
   "execution_count": 535,
   "id": "6f039e43-0beb-485b-a872-9fe65bcf2e03",
   "metadata": {},
   "outputs": [],
   "source": [
    "t=Test() # object creation"
   ]
  },
  {
   "cell_type": "code",
   "execution_count": 539,
   "id": "9f81b386-1ebc-4c4c-be68-7b88d8d4aacf",
   "metadata": {},
   "outputs": [
    {
     "name": "stdout",
     "output_type": "stream",
     "text": [
      "2360380010704\n"
     ]
    }
   ],
   "source": [
    "t.m1() # address of the object"
   ]
  },
  {
   "cell_type": "markdown",
   "id": "4f8edc61-1049-4d9a-81d6-487d1b862ecb",
   "metadata": {},
   "source": [
    "### Calling a class method"
   ]
  },
  {
   "cell_type": "code",
   "execution_count": 544,
   "id": "e6b222cc-f32d-49bc-a6a2-ebcc096e41a5",
   "metadata": {},
   "outputs": [],
   "source": [
    "# - We can call a class method using the class name or the reference variable."
   ]
  },
  {
   "cell_type": "code",
   "execution_count": 546,
   "id": "09b98021-2c4c-497d-a661-e9181bddd331",
   "metadata": {},
   "outputs": [],
   "source": [
    "class Test:\n",
    "    @classmethod\n",
    "    def m1(cls):\n",
    "        print('I am a class method')"
   ]
  },
  {
   "cell_type": "code",
   "execution_count": 548,
   "id": "7be0fb7f-56d5-46c7-bc99-53843863d45d",
   "metadata": {},
   "outputs": [
    {
     "name": "stdout",
     "output_type": "stream",
     "text": [
      "I am a class method\n"
     ]
    }
   ],
   "source": [
    "Test.m1()"
   ]
  },
  {
   "cell_type": "code",
   "execution_count": 550,
   "id": "9cd4c1b0-e368-4ca9-acd4-79dfc917b167",
   "metadata": {},
   "outputs": [],
   "source": [
    "t=Test()"
   ]
  },
  {
   "cell_type": "code",
   "execution_count": 552,
   "id": "da47f576-be16-41fe-adb8-8ede7c3a91cd",
   "metadata": {},
   "outputs": [
    {
     "name": "stdout",
     "output_type": "stream",
     "text": [
      "I am a class method\n"
     ]
    }
   ],
   "source": [
    "t.m1()"
   ]
  },
  {
   "cell_type": "markdown",
   "id": "907a2c6e-33a2-4d7f-85d1-521921d7fbe6",
   "metadata": {},
   "source": [
    "# Static Methods"
   ]
  },
  {
   "cell_type": "code",
   "execution_count": 555,
   "id": "8453032c-d055-4892-9eb8-f738875f955c",
   "metadata": {},
   "outputs": [],
   "source": [
    "# - If we have only local variables then we use static method."
   ]
  },
  {
   "cell_type": "markdown",
   "id": "ee42cee3-bdb4-4eeb-810b-f443ebbde0d9",
   "metadata": {},
   "source": [
    "### Defining a static method"
   ]
  },
  {
   "cell_type": "code",
   "execution_count": 560,
   "id": "79fd5410-3e71-45c7-9b58-3c7155c36335",
   "metadata": {},
   "outputs": [],
   "source": [
    "# - We use @staticmethod decorator to define a static method"
   ]
  },
  {
   "cell_type": "code",
   "execution_count": 558,
   "id": "8a2097ce-e5c7-46b1-af19-3827873b283f",
   "metadata": {},
   "outputs": [],
   "source": [
    "@staticmethod\n",
    "def method_name(): # arguments are optional\n",
    "    pass"
   ]
  },
  {
   "cell_type": "code",
   "execution_count": 562,
   "id": "05ac3710-a879-41db-8e4d-eee68e46dfbb",
   "metadata": {},
   "outputs": [],
   "source": [
    "class Test:\n",
    "    @staticmethod\n",
    "    def m1():\n",
    "        print('Static method')"
   ]
  },
  {
   "cell_type": "markdown",
   "id": "246c4425-0c07-4871-b544-c45aa837f696",
   "metadata": {},
   "source": [
    "### Calling a static method"
   ]
  },
  {
   "cell_type": "code",
   "execution_count": 565,
   "id": "f40d6b6a-dd08-45ab-b178-ff19a53fbc5f",
   "metadata": {},
   "outputs": [],
   "source": [
    "# - We can call a static method by using the class name or the reference variable."
   ]
  },
  {
   "cell_type": "code",
   "execution_count": 567,
   "id": "fcd69ab8-b86e-464a-936a-5e83a395de0b",
   "metadata": {},
   "outputs": [],
   "source": [
    "class Test:\n",
    "    @staticmethod\n",
    "    def m1():\n",
    "        print('Static method')"
   ]
  },
  {
   "cell_type": "code",
   "execution_count": 569,
   "id": "1676f5e0-5bc7-4da2-9086-c7438c2e89e5",
   "metadata": {},
   "outputs": [
    {
     "name": "stdout",
     "output_type": "stream",
     "text": [
      "Static method\n"
     ]
    }
   ],
   "source": [
    "Test.m1()"
   ]
  },
  {
   "cell_type": "code",
   "execution_count": 571,
   "id": "99cb8c5e-e178-4d8c-bb4f-02937fff162a",
   "metadata": {},
   "outputs": [],
   "source": [
    "t=Test()"
   ]
  },
  {
   "cell_type": "code",
   "execution_count": 573,
   "id": "be45cb87-4d26-421d-891d-fe1fe6ac9817",
   "metadata": {},
   "outputs": [
    {
     "name": "stdout",
     "output_type": "stream",
     "text": [
      "Static method\n"
     ]
    }
   ],
   "source": [
    "t.m1()"
   ]
  },
  {
   "cell_type": "code",
   "execution_count": 575,
   "id": "5a4ca414-c1f6-4e60-8a4f-42609f7b4dd1",
   "metadata": {},
   "outputs": [],
   "source": [
    "class Test:\n",
    "    @staticmethod\n",
    "    def m1(a):\n",
    "        print('Static method')"
   ]
  },
  {
   "cell_type": "code",
   "execution_count": 579,
   "id": "db36543d-d64d-4283-9aa0-4449f86c1a76",
   "metadata": {},
   "outputs": [
    {
     "name": "stdout",
     "output_type": "stream",
     "text": [
      "Static method\n"
     ]
    }
   ],
   "source": [
    "Test.m1(2)"
   ]
  },
  {
   "cell_type": "code",
   "execution_count": 581,
   "id": "4c3a3b8a-2ef8-43c1-ab90-074756efcc89",
   "metadata": {},
   "outputs": [],
   "source": [
    "t=Test()"
   ]
  },
  {
   "cell_type": "code",
   "execution_count": 585,
   "id": "7eaf6505-642d-4c29-bba5-240f3a3f7ae8",
   "metadata": {},
   "outputs": [
    {
     "name": "stdout",
     "output_type": "stream",
     "text": [
      "Static method\n"
     ]
    }
   ],
   "source": [
    "t.m1(4)"
   ]
  },
  {
   "cell_type": "markdown",
   "id": "44b8850a-b2b9-47f3-9e4d-ce5eeb6f00f9",
   "metadata": {},
   "source": [
    "### If we don't use the @staticmethod decorator"
   ]
  },
  {
   "cell_type": "code",
   "execution_count": 588,
   "id": "d86f1cc0-b97c-401f-bc48-2283241e5a8f",
   "metadata": {},
   "outputs": [],
   "source": [
    "# If we call using the class name then it would be acting as a static method.\n",
    "# If we call using the reference variable then it would be acting as an instance method."
   ]
  },
  {
   "cell_type": "code",
   "execution_count": 592,
   "id": "b97ac3ce-4946-4e9f-b31c-bc21a672212e",
   "metadata": {},
   "outputs": [],
   "source": [
    "class Test:\n",
    "    @staticmethod\n",
    "    def dummy():\n",
    "        print('I am a dummy method')"
   ]
  },
  {
   "cell_type": "code",
   "execution_count": 594,
   "id": "591c2700-5f3c-4ebe-954e-16692ae4ec1c",
   "metadata": {},
   "outputs": [
    {
     "name": "stdout",
     "output_type": "stream",
     "text": [
      "I am a dummy method\n"
     ]
    }
   ],
   "source": [
    "Test.dummy()"
   ]
  },
  {
   "cell_type": "code",
   "execution_count": 596,
   "id": "4db0a40f-8882-423d-8c0b-c3898b343972",
   "metadata": {},
   "outputs": [],
   "source": [
    "t=Test()"
   ]
  },
  {
   "cell_type": "code",
   "execution_count": 598,
   "id": "76c02213-a612-4e09-8ab2-e4463513d28a",
   "metadata": {},
   "outputs": [
    {
     "name": "stdout",
     "output_type": "stream",
     "text": [
      "I am a dummy method\n"
     ]
    }
   ],
   "source": [
    "t.dummy()"
   ]
  },
  {
   "cell_type": "code",
   "execution_count": 608,
   "id": "4a441009-1596-490f-b721-80e7305481a2",
   "metadata": {},
   "outputs": [],
   "source": [
    "class Test:\n",
    "    def dummy():\n",
    "        print('I am a dummy method')"
   ]
  },
  {
   "cell_type": "code",
   "execution_count": 610,
   "id": "60adaac1-720e-46b2-96d0-84b68e5b3035",
   "metadata": {},
   "outputs": [
    {
     "name": "stdout",
     "output_type": "stream",
     "text": [
      "I am a dummy method\n"
     ]
    }
   ],
   "source": [
    "Test.dummy() # static method"
   ]
  },
  {
   "cell_type": "code",
   "execution_count": 612,
   "id": "7e2c267a-5d95-48e9-aaa7-250179dee91f",
   "metadata": {},
   "outputs": [],
   "source": [
    "t=Test()"
   ]
  },
  {
   "cell_type": "code",
   "execution_count": 614,
   "id": "98f92238-372c-48c1-b64b-ef613e943cfc",
   "metadata": {},
   "outputs": [
    {
     "ename": "TypeError",
     "evalue": "Test.dummy() takes 0 positional arguments but 1 was given",
     "output_type": "error",
     "traceback": [
      "\u001b[1;31m---------------------------------------------------------------------------\u001b[0m",
      "\u001b[1;31mTypeError\u001b[0m                                 Traceback (most recent call last)",
      "Cell \u001b[1;32mIn[614], line 1\u001b[0m\n\u001b[1;32m----> 1\u001b[0m t\u001b[38;5;241m.\u001b[39mdummy()\n",
      "\u001b[1;31mTypeError\u001b[0m: Test.dummy() takes 0 positional arguments but 1 was given"
     ]
    }
   ],
   "source": [
    "t.dummy()"
   ]
  },
  {
   "cell_type": "code",
   "execution_count": 622,
   "id": "2b58127c-584d-465f-85ec-22218d4de4f4",
   "metadata": {},
   "outputs": [],
   "source": [
    "class Test:\n",
    "    def dummy(a):\n",
    "        print('I am a dummy method')\n",
    "        print(a)"
   ]
  },
  {
   "cell_type": "code",
   "execution_count": 624,
   "id": "63a40207-ab2c-4850-8a91-6950142766cb",
   "metadata": {},
   "outputs": [],
   "source": [
    "t=Test()"
   ]
  },
  {
   "cell_type": "code",
   "execution_count": 626,
   "id": "41011680-e722-4520-9aea-f3f3ef4710f0",
   "metadata": {},
   "outputs": [
    {
     "name": "stdout",
     "output_type": "stream",
     "text": [
      "I am a dummy method\n",
      "<__main__.Test object at 0x0000022591F77C90>\n"
     ]
    }
   ],
   "source": [
    "t.dummy()"
   ]
  },
  {
   "cell_type": "code",
   "execution_count": 628,
   "id": "b3932ac1-c282-4e22-b046-e8c88b77d3e3",
   "metadata": {},
   "outputs": [
    {
     "ename": "TypeError",
     "evalue": "Test.dummy() missing 1 required positional argument: 'a'",
     "output_type": "error",
     "traceback": [
      "\u001b[1;31m---------------------------------------------------------------------------\u001b[0m",
      "\u001b[1;31mTypeError\u001b[0m                                 Traceback (most recent call last)",
      "Cell \u001b[1;32mIn[628], line 1\u001b[0m\n\u001b[1;32m----> 1\u001b[0m Test\u001b[38;5;241m.\u001b[39mdummy()\n",
      "\u001b[1;31mTypeError\u001b[0m: Test.dummy() missing 1 required positional argument: 'a'"
     ]
    }
   ],
   "source": [
    "Test.dummy()"
   ]
  },
  {
   "cell_type": "code",
   "execution_count": 630,
   "id": "dd0ddeb1-bae5-4c4b-990c-450b42e0e9dc",
   "metadata": {},
   "outputs": [
    {
     "name": "stdout",
     "output_type": "stream",
     "text": [
      "I am a dummy method\n",
      "10\n"
     ]
    }
   ],
   "source": [
    "Test.dummy(10)"
   ]
  },
  {
   "cell_type": "code",
   "execution_count": 633,
   "id": "6a5e3aed-e7a9-405e-8893-87c361a9420a",
   "metadata": {},
   "outputs": [],
   "source": [
    "# Calling an object of one class into another class\n",
    "# Nested class\n",
    "# Nested methods\n",
    "# Inheritance\n",
    "# Polymorphism\n",
    "# Abstract classes and Interfaces\n",
    "# Encapsulation"
   ]
  },
  {
   "cell_type": "code",
   "execution_count": 635,
   "id": "77a48330-b120-4e03-b79d-71eeda670898",
   "metadata": {},
   "outputs": [],
   "source": [
    "# Missing values\n",
    "# Typecasting\n",
    "# Outliers\n",
    "# Encoding"
   ]
  },
  {
   "cell_type": "code",
   "execution_count": null,
   "id": "a5eacb90-10c4-4360-b297-790ec9ef633e",
   "metadata": {},
   "outputs": [],
   "source": []
  }
 ],
 "metadata": {
  "kernelspec": {
   "display_name": "Python 3 (ipykernel)",
   "language": "python",
   "name": "python3"
  },
  "language_info": {
   "codemirror_mode": {
    "name": "ipython",
    "version": 3
   },
   "file_extension": ".py",
   "mimetype": "text/x-python",
   "name": "python",
   "nbconvert_exporter": "python",
   "pygments_lexer": "ipython3",
   "version": "3.11.4"
  }
 },
 "nbformat": 4,
 "nbformat_minor": 5
}
