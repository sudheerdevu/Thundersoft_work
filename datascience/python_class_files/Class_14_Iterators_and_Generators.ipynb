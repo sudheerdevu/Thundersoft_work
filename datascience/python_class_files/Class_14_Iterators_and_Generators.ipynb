{
 "cells": [
  {
   "cell_type": "code",
   "execution_count": 1,
   "id": "2dc5b08c-7299-4f0a-93db-79f6ea4ee0af",
   "metadata": {},
   "outputs": [],
   "source": [
    "# Iterable -> Fetch the items one by one (Not Possible)\n",
    "# Iterable -> Iterator -> Fetch the items one by one (Possible)"
   ]
  },
  {
   "cell_type": "code",
   "execution_count": 14,
   "id": "7ce18016-47e1-4677-b360-dd39a1707c92",
   "metadata": {},
   "outputs": [],
   "source": [
    "# iter(Iterable) -> It returns an iterator object.\n",
    "# next(Iterator) -> It always returns the next element from the iterator"
   ]
  },
  {
   "cell_type": "code",
   "execution_count": 16,
   "id": "1e1ea0a1-762d-4822-92d1-0f41eaab9c14",
   "metadata": {},
   "outputs": [],
   "source": [
    "lst=[10,20,30,40,50]"
   ]
  },
  {
   "cell_type": "code",
   "execution_count": 87,
   "id": "1d7ccff3-cc26-4007-b24e-2ea49f87be57",
   "metadata": {},
   "outputs": [
    {
     "name": "stdout",
     "output_type": "stream",
     "text": [
      "<list_iterator object at 0x000002BD013B74F0> 3010792748272\n",
      "10\n",
      "20\n",
      "30\n",
      "40\n"
     ]
    }
   ],
   "source": [
    "itr=iter(lst)\n",
    "print(itr,id(itr))\n",
    "\n",
    "print(next(itr))\n",
    "print(next(itr))\n",
    "print(next(itr))\n",
    "print(next(itr))"
   ]
  },
  {
   "cell_type": "code",
   "execution_count": 91,
   "id": "9ecfc58c-4c48-4f03-a95f-b33b161696e8",
   "metadata": {},
   "outputs": [
    {
     "name": "stdout",
     "output_type": "stream",
     "text": [
      "<list_iterator object at 0x000002BD013B76D0> 3010792748752\n"
     ]
    }
   ],
   "source": [
    "itr=iter(lst)\n",
    "print(itr,id(itr))"
   ]
  },
  {
   "cell_type": "code",
   "execution_count": 99,
   "id": "d301dae2-5e69-4dcc-9191-8c4323c5dfbd",
   "metadata": {},
   "outputs": [
    {
     "name": "stdout",
     "output_type": "stream",
     "text": [
      "40\n"
     ]
    }
   ],
   "source": [
    "print(next(itr))"
   ]
  },
  {
   "cell_type": "markdown",
   "id": "130c7e01-333f-4acd-bbfd-ca9c725d6848",
   "metadata": {},
   "source": [
    "# How the for loop works?"
   ]
  },
  {
   "cell_type": "code",
   "execution_count": 103,
   "id": "39c5530a-9410-4173-8274-d388ce511455",
   "metadata": {},
   "outputs": [],
   "source": [
    "# - for loop works in two steps.\n",
    "\n",
    "# Step_1 -> It converts the iterable into an iterator.\n",
    "# Step_2 -> It calls the next() on the iterator until it is exhausted."
   ]
  },
  {
   "cell_type": "code",
   "execution_count": 105,
   "id": "681d75c6-31c0-4758-9b67-dd173f80492f",
   "metadata": {},
   "outputs": [
    {
     "name": "stdout",
     "output_type": "stream",
     "text": [
      "P\n",
      "y\n",
      "t\n",
      "h\n",
      "o\n",
      "n\n"
     ]
    }
   ],
   "source": [
    "a='Python'\n",
    "for i in a:\n",
    "    print(i)"
   ]
  },
  {
   "cell_type": "code",
   "execution_count": 123,
   "id": "d6ef7aab-b2cf-4ca0-a239-48165a462cf8",
   "metadata": {},
   "outputs": [
    {
     "name": "stdout",
     "output_type": "stream",
     "text": [
      "P\n",
      "y\n",
      "t\n",
      "h\n"
     ]
    }
   ],
   "source": [
    "x=iter(a)\n",
    "\n",
    "i=next(x)\n",
    "print(i)\n",
    "\n",
    "i=next(x)\n",
    "print(i)\n",
    "\n",
    "i=next(x)\n",
    "print(i)\n",
    "\n",
    "i=next(x)\n",
    "print(i)"
   ]
  },
  {
   "cell_type": "code",
   "execution_count": 125,
   "id": "c34c8501-d5ce-4944-b995-0275b46ae3dd",
   "metadata": {},
   "outputs": [
    {
     "name": "stdout",
     "output_type": "stream",
     "text": [
      "o\n"
     ]
    }
   ],
   "source": [
    "i=next(x)\n",
    "print(i)"
   ]
  },
  {
   "cell_type": "code",
   "execution_count": 127,
   "id": "ba0010e3-72ec-424f-a389-2fce74e50375",
   "metadata": {},
   "outputs": [
    {
     "name": "stdout",
     "output_type": "stream",
     "text": [
      "n\n"
     ]
    }
   ],
   "source": [
    "for i in x:\n",
    "    print(i)"
   ]
  },
  {
   "cell_type": "code",
   "execution_count": 129,
   "id": "a0eeec56-a1a2-4b27-8f31-a0f55f28417a",
   "metadata": {},
   "outputs": [],
   "source": [
    "lst=[10,20,30,40,50,60,70,80,90]"
   ]
  },
  {
   "cell_type": "code",
   "execution_count": 149,
   "id": "c0cdc68d-53f5-41c0-a456-fbc1e7570a33",
   "metadata": {},
   "outputs": [
    {
     "name": "stdout",
     "output_type": "stream",
     "text": [
      "10\n",
      "20\n",
      "30\n",
      "40\n",
      "50\n",
      "60\n",
      "70\n"
     ]
    }
   ],
   "source": [
    "x=iter(lst)\n",
    "\n",
    "i=next(x)\n",
    "print(i)\n",
    "\n",
    "i=next(x)\n",
    "print(i)\n",
    "\n",
    "i=next(x)\n",
    "print(i)\n",
    "\n",
    "i=next(x)\n",
    "print(i)\n",
    "\n",
    "i=next(x)\n",
    "print(i)\n",
    "\n",
    "i=next(x)\n",
    "print(i)\n",
    "\n",
    "i=next(x)\n",
    "print(i)"
   ]
  },
  {
   "cell_type": "code",
   "execution_count": 151,
   "id": "3a844679-3551-42d2-aba4-514f19e8fc11",
   "metadata": {},
   "outputs": [
    {
     "name": "stdout",
     "output_type": "stream",
     "text": [
      "80\n",
      "90\n"
     ]
    }
   ],
   "source": [
    "for i in x:\n",
    "    print(i)"
   ]
  },
  {
   "cell_type": "code",
   "execution_count": 160,
   "id": "6ea61272-d4ce-46f9-85bd-bc3d8d336ea1",
   "metadata": {},
   "outputs": [
    {
     "name": "stdout",
     "output_type": "stream",
     "text": [
      "<tuple_iterator object at 0x000002BD013B7670>\n",
      "True\n",
      "Hello\n"
     ]
    }
   ],
   "source": [
    "t=(True, 'Hello', 5+5j, 55)\n",
    "x=iter(t)\n",
    "print(x)\n",
    "print(next(x))\n",
    "print(next(x))"
   ]
  },
  {
   "cell_type": "code",
   "execution_count": 162,
   "id": "31e29989-fabf-4a51-b873-e32ff7afec59",
   "metadata": {},
   "outputs": [
    {
     "name": "stdout",
     "output_type": "stream",
     "text": [
      "<set_iterator object at 0x000002BD02E8A980>\n",
      "True\n",
      "Hello\n"
     ]
    }
   ],
   "source": [
    "t={True, 'Hello', 5+5j, 55}\n",
    "x=iter(t)\n",
    "print(x)\n",
    "print(next(x))\n",
    "print(next(x))"
   ]
  },
  {
   "cell_type": "code",
   "execution_count": 164,
   "id": "9296de14-06dd-4da4-b546-e5cf1054c0aa",
   "metadata": {},
   "outputs": [
    {
     "name": "stdout",
     "output_type": "stream",
     "text": [
      "<dict_keyiterator object at 0x000002BD02ECA070>\n",
      "Name\n",
      "Age\n"
     ]
    }
   ],
   "source": [
    "t={'Name':'Amit','Age':22}\n",
    "x=iter(t)\n",
    "print(x)\n",
    "print(next(x))\n",
    "print(next(x))"
   ]
  },
  {
   "cell_type": "code",
   "execution_count": 168,
   "id": "12f7f9e8-7db2-435d-a0a0-29a928d204a3",
   "metadata": {},
   "outputs": [
    {
     "name": "stdout",
     "output_type": "stream",
     "text": [
      "<dict_valueiterator object at 0x000002BD02ECB380>\n",
      "Amit\n",
      "22\n"
     ]
    }
   ],
   "source": [
    "x=iter(t.values())\n",
    "print(x)\n",
    "\n",
    "print(next(x))\n",
    "print(next(x))"
   ]
  },
  {
   "cell_type": "code",
   "execution_count": 172,
   "id": "fc24e5a7-b20c-4386-9ef3-22f731ebd196",
   "metadata": {},
   "outputs": [
    {
     "name": "stdout",
     "output_type": "stream",
     "text": [
      "<range_iterator object at 0x000002BD02DCECB0>\n",
      "1\n",
      "2\n"
     ]
    }
   ],
   "source": [
    "x=iter(range(1,5))\n",
    "print(x)\n",
    "\n",
    "print(next(x))\n",
    "print(next(x))"
   ]
  },
  {
   "cell_type": "code",
   "execution_count": 176,
   "id": "3694ba3d-1af8-4961-b910-f358e7cc3f72",
   "metadata": {},
   "outputs": [
    {
     "name": "stdout",
     "output_type": "stream",
     "text": [
      "<set_iterator object at 0x000002BD01344940>\n",
      "40\n",
      "10\n"
     ]
    }
   ],
   "source": [
    "f=frozenset([10,20,30,40,50])\n",
    "x=iter(f)\n",
    "print(x)\n",
    "print(next(x))\n",
    "print(next(x))"
   ]
  },
  {
   "cell_type": "code",
   "execution_count": 180,
   "id": "9e5de3d6-869f-4472-a653-4ec9d45eabf3",
   "metadata": {},
   "outputs": [
    {
     "name": "stdout",
     "output_type": "stream",
     "text": [
      "<bytes_iterator object at 0x000002BD014160E0>\n",
      "1\n",
      "2\n"
     ]
    }
   ],
   "source": [
    "x=iter(bytes([1,2,3,4]))\n",
    "print(x)\n",
    "print(next(x))\n",
    "print(next(x))"
   ]
  },
  {
   "cell_type": "markdown",
   "id": "308293f6-31b1-49ac-ba10-b471e54583f5",
   "metadata": {},
   "source": [
    "# User defined iterator object"
   ]
  },
  {
   "cell_type": "code",
   "execution_count": 185,
   "id": "cde193d7-3182-42ae-b66d-d891a2bb1748",
   "metadata": {},
   "outputs": [],
   "source": [
    "# - There are two ways to create a user defined iterator object.\n",
    "\n",
    "# -- 1- By creating a iterator class (Object Oriented Programming)\n",
    "# -- 2- By creating a generator"
   ]
  },
  {
   "cell_type": "code",
   "execution_count": null,
   "id": "8cdfb49c-4529-40a3-8f60-e39254bcd6d9",
   "metadata": {},
   "outputs": [],
   "source": []
  },
  {
   "cell_type": "markdown",
   "id": "11911f53-ebd8-4f97-8b31-9e081f45205b",
   "metadata": {},
   "source": [
    "# Generators"
   ]
  },
  {
   "cell_type": "code",
   "execution_count": 187,
   "id": "c5de0373-bff8-47ef-ac2c-bd788f3f80cf",
   "metadata": {},
   "outputs": [],
   "source": [
    "# - A genertor is a user defined iterator object.\n",
    "# - A generator itself is an iterator object"
   ]
  },
  {
   "cell_type": "markdown",
   "id": "3e44bde1-1ddf-4fbb-8391-d9545847b28e",
   "metadata": {},
   "source": [
    "# How to create a generator?"
   ]
  },
  {
   "cell_type": "code",
   "execution_count": 190,
   "id": "68141b6c-c6cc-4e2a-8dd3-1a5c7962bc1f",
   "metadata": {},
   "outputs": [],
   "source": [
    "# - By using tuple comprehension\n",
    "# - By using generator function"
   ]
  },
  {
   "cell_type": "markdown",
   "id": "16996746-ff45-470c-b0c0-e525256ca7ba",
   "metadata": {},
   "source": [
    "### Generator object using tuple comprehension"
   ]
  },
  {
   "cell_type": "code",
   "execution_count": 195,
   "id": "4b003f54-5bca-4d3d-8935-7ea2e4e63b70",
   "metadata": {},
   "outputs": [],
   "source": [
    "# (for loop)-> Tuple comprehension\n",
    "# (value for loop)"
   ]
  },
  {
   "cell_type": "code",
   "execution_count": 199,
   "id": "d34bde85-9bfd-4d44-96ba-c4c555de8cf0",
   "metadata": {},
   "outputs": [],
   "source": [
    "# - A tuple comprehension returns a generator object.\n",
    "# - A genertor is an iterator object."
   ]
  },
  {
   "cell_type": "code",
   "execution_count": 203,
   "id": "241f8a30-185f-4574-9dc7-e874bb1b38ff",
   "metadata": {},
   "outputs": [
    {
     "name": "stdout",
     "output_type": "stream",
     "text": [
      "[1, 2, 3, 4]\n"
     ]
    }
   ],
   "source": [
    "lst=[i for i in range(1,5)]\n",
    "print(lst)"
   ]
  },
  {
   "cell_type": "code",
   "execution_count": 205,
   "id": "0e55f90a-1645-4e31-a878-e5b8c5665f95",
   "metadata": {},
   "outputs": [
    {
     "name": "stdout",
     "output_type": "stream",
     "text": [
      "<generator object <genexpr> at 0x000002BD0314C040>\n"
     ]
    }
   ],
   "source": [
    "t=(i for i in range(1,5))\n",
    "print(t)"
   ]
  },
  {
   "cell_type": "code",
   "execution_count": 207,
   "id": "2909c800-ba6c-41cb-97f0-5d2bd8d9ccae",
   "metadata": {},
   "outputs": [
    {
     "name": "stdout",
     "output_type": "stream",
     "text": [
      "['__class__', '__del__', '__delattr__', '__dir__', '__doc__', '__eq__', '__format__', '__ge__', '__getattribute__', '__getstate__', '__gt__', '__hash__', '__init__', '__init_subclass__', '__iter__', '__le__', '__lt__', '__name__', '__ne__', '__new__', '__next__', '__qualname__', '__reduce__', '__reduce_ex__', '__repr__', '__setattr__', '__sizeof__', '__str__', '__subclasshook__', 'close', 'gi_code', 'gi_frame', 'gi_running', 'gi_suspended', 'gi_yieldfrom', 'send', 'throw']\n"
     ]
    }
   ],
   "source": [
    "print(dir(t))"
   ]
  },
  {
   "cell_type": "code",
   "execution_count": 217,
   "id": "efa7f395-4741-4447-a78b-9c01b1e5428d",
   "metadata": {},
   "outputs": [
    {
     "ename": "StopIteration",
     "evalue": "",
     "output_type": "error",
     "traceback": [
      "\u001b[1;31m---------------------------------------------------------------------------\u001b[0m",
      "\u001b[1;31mStopIteration\u001b[0m                             Traceback (most recent call last)",
      "Cell \u001b[1;32mIn[217], line 1\u001b[0m\n\u001b[1;32m----> 1\u001b[0m \u001b[38;5;28mnext\u001b[39m(t)\n",
      "\u001b[1;31mStopIteration\u001b[0m: "
     ]
    }
   ],
   "source": [
    "next(t)"
   ]
  },
  {
   "cell_type": "code",
   "execution_count": 219,
   "id": "8f927204-d5c3-4572-b07a-f573a14d9e14",
   "metadata": {},
   "outputs": [
    {
     "name": "stdout",
     "output_type": "stream",
     "text": [
      "<generator object <genexpr> at 0x000002BD0314C860>\n"
     ]
    }
   ],
   "source": [
    "t=(i for i in range(1,5))\n",
    "print(t)"
   ]
  },
  {
   "cell_type": "code",
   "execution_count": 221,
   "id": "e6afa4e9-6a15-47c9-ad04-03b36814316f",
   "metadata": {},
   "outputs": [
    {
     "name": "stdout",
     "output_type": "stream",
     "text": [
      "1\n",
      "2\n",
      "3\n",
      "4\n"
     ]
    }
   ],
   "source": [
    "for i in t:\n",
    "    print(i)"
   ]
  },
  {
   "cell_type": "code",
   "execution_count": 225,
   "id": "e025c5f3-a0ab-4b05-90d1-c61fc7370b8c",
   "metadata": {},
   "outputs": [
    {
     "name": "stdout",
     "output_type": "stream",
     "text": [
      "[1, 2, 3, 4]\n"
     ]
    }
   ],
   "source": [
    "lst=[i for i in range(1,5)]\n",
    "print(lst)"
   ]
  },
  {
   "cell_type": "code",
   "execution_count": 227,
   "id": "4ae0dfcc-e66a-4f1e-861f-07a595dfe7e5",
   "metadata": {},
   "outputs": [
    {
     "name": "stdout",
     "output_type": "stream",
     "text": [
      "1\n",
      "2\n",
      "3\n",
      "4\n"
     ]
    }
   ],
   "source": [
    "for i in lst:\n",
    "    print(i)"
   ]
  },
  {
   "cell_type": "code",
   "execution_count": 229,
   "id": "4960af34-f97e-4eef-a495-c11e55ea1e97",
   "metadata": {},
   "outputs": [],
   "source": [
    "lst=[i for i in range(1000000)]"
   ]
  },
  {
   "cell_type": "code",
   "execution_count": 231,
   "id": "e7903168-4041-439c-ba85-58ae91c2a08c",
   "metadata": {},
   "outputs": [],
   "source": [
    "t=(i for i in range(1000000))"
   ]
  },
  {
   "cell_type": "code",
   "execution_count": 243,
   "id": "19d2b6c3-4d73-4454-9174-def3008d446d",
   "metadata": {},
   "outputs": [
    {
     "name": "stdout",
     "output_type": "stream",
     "text": [
      "<generator object <genexpr> at 0x000002BD0314C790>\n"
     ]
    }
   ],
   "source": [
    "print(t)"
   ]
  },
  {
   "cell_type": "code",
   "execution_count": 233,
   "id": "64aa5117-69d8-4d25-b609-401d183c6191",
   "metadata": {},
   "outputs": [],
   "source": [
    "import sys"
   ]
  },
  {
   "cell_type": "code",
   "execution_count": 235,
   "id": "ed2baa38-fc16-4000-aeba-c9548d425469",
   "metadata": {},
   "outputs": [
    {
     "data": {
      "text/plain": [
       "8448728"
      ]
     },
     "execution_count": 235,
     "metadata": {},
     "output_type": "execute_result"
    }
   ],
   "source": [
    "sys.getsizeof(lst)"
   ]
  },
  {
   "cell_type": "code",
   "execution_count": 237,
   "id": "cbbfcdff-e18c-4393-851b-195ba6c78cb3",
   "metadata": {},
   "outputs": [
    {
     "data": {
      "text/plain": [
       "200"
      ]
     },
     "execution_count": 237,
     "metadata": {},
     "output_type": "execute_result"
    }
   ],
   "source": [
    "sys.getsizeof(t)"
   ]
  },
  {
   "cell_type": "code",
   "execution_count": 239,
   "id": "2d267d62-f8aa-48e3-8e63-b8a5afb3a21a",
   "metadata": {},
   "outputs": [],
   "source": [
    "for i in range(10):\n",
    "    next(t)"
   ]
  },
  {
   "cell_type": "code",
   "execution_count": 241,
   "id": "cfb048e9-5ffc-46ce-b5c4-85df900f96b6",
   "metadata": {},
   "outputs": [
    {
     "name": "stdout",
     "output_type": "stream",
     "text": [
      "10\n"
     ]
    }
   ],
   "source": [
    "print(next(t))"
   ]
  },
  {
   "cell_type": "markdown",
   "id": "e8fb4d58-3f79-43b9-96c8-d67a25993f63",
   "metadata": {},
   "source": [
    "### Generator object using generator function"
   ]
  },
  {
   "cell_type": "code",
   "execution_count": 246,
   "id": "08d9e558-ba3b-40e3-88e7-788e63c02baa",
   "metadata": {},
   "outputs": [],
   "source": [
    "# - It is a user defined function and it returns a generator object."
   ]
  },
  {
   "cell_type": "code",
   "execution_count": 248,
   "id": "1f0a53e6-a90e-4a1f-a1a4-9896d7dcdf65",
   "metadata": {},
   "outputs": [],
   "source": [
    "def test():\n",
    "    return 'Thanks'"
   ]
  },
  {
   "cell_type": "code",
   "execution_count": 252,
   "id": "4dafbb72-d41d-4e84-aad9-0b512646abe5",
   "metadata": {},
   "outputs": [
    {
     "name": "stdout",
     "output_type": "stream",
     "text": [
      "Thanks\n"
     ]
    }
   ],
   "source": [
    "x=test()\n",
    "print(x)"
   ]
  },
  {
   "cell_type": "code",
   "execution_count": 254,
   "id": "57274120-de65-44db-bacf-0c4de19fd0ee",
   "metadata": {},
   "outputs": [],
   "source": [
    "def test():\n",
    "    yield 'Thanks'"
   ]
  },
  {
   "cell_type": "code",
   "execution_count": 256,
   "id": "c3d496ed-f5fa-4b8f-ad27-c66079f8b3ed",
   "metadata": {},
   "outputs": [
    {
     "name": "stdout",
     "output_type": "stream",
     "text": [
      "<generator object test at 0x000002BD012CBAB0>\n"
     ]
    }
   ],
   "source": [
    "x=test()\n",
    "print(x)"
   ]
  },
  {
   "cell_type": "code",
   "execution_count": 258,
   "id": "c6add98b-29ed-47a7-a0c4-14ca27cd2c46",
   "metadata": {},
   "outputs": [
    {
     "name": "stdout",
     "output_type": "stream",
     "text": [
      "Thanks\n"
     ]
    }
   ],
   "source": [
    "for i in x:\n",
    "    print(i)"
   ]
  },
  {
   "cell_type": "code",
   "execution_count": 262,
   "id": "3f25dd27-9717-4bd7-846c-3d26b5bcd269",
   "metadata": {},
   "outputs": [],
   "source": [
    "def gen():\n",
    "    yield 10\n",
    "    yield 'Python'\n",
    "    yield 'Hello'\n",
    "    yield 5+5j\n",
    "    yield True"
   ]
  },
  {
   "cell_type": "code",
   "execution_count": 264,
   "id": "548d84e8-8d9d-496c-b1e7-5ed0f13c1d88",
   "metadata": {},
   "outputs": [
    {
     "name": "stdout",
     "output_type": "stream",
     "text": [
      "<generator object gen at 0x000002BD012CBE20>\n"
     ]
    }
   ],
   "source": [
    "x=gen()\n",
    "print(x)"
   ]
  },
  {
   "cell_type": "code",
   "execution_count": 266,
   "id": "6f8380cd-e317-404b-9b12-d31f5d957ceb",
   "metadata": {},
   "outputs": [
    {
     "name": "stdout",
     "output_type": "stream",
     "text": [
      "10\n",
      "Python\n",
      "Hello\n",
      "(5+5j)\n",
      "True\n"
     ]
    }
   ],
   "source": [
    "for i in x:\n",
    "    print(i)"
   ]
  },
  {
   "cell_type": "code",
   "execution_count": 268,
   "id": "3256e483-66a9-48d8-bc6a-1ee2cedd615c",
   "metadata": {},
   "outputs": [],
   "source": [
    "def gen():\n",
    "    yield 10\n",
    "    yield 'Python'\n",
    "    yield 'Hello'\n",
    "    yield 5+5j\n",
    "    yield True"
   ]
  },
  {
   "cell_type": "code",
   "execution_count": 270,
   "id": "ef69f046-371a-4673-a49e-db49ca2e4d71",
   "metadata": {},
   "outputs": [
    {
     "name": "stdout",
     "output_type": "stream",
     "text": [
      "<generator object gen at 0x000002BD02ED80F0>\n"
     ]
    }
   ],
   "source": [
    "x=gen()\n",
    "print(x)"
   ]
  },
  {
   "cell_type": "code",
   "execution_count": 272,
   "id": "fcf13d98-d027-4ca6-870b-b43f01d6fe93",
   "metadata": {},
   "outputs": [
    {
     "data": {
      "text/plain": [
       "10"
      ]
     },
     "execution_count": 272,
     "metadata": {},
     "output_type": "execute_result"
    }
   ],
   "source": [
    "next(x)"
   ]
  },
  {
   "cell_type": "code",
   "execution_count": 274,
   "id": "40fe57fd-a41e-48d2-a517-b475e43160d4",
   "metadata": {},
   "outputs": [
    {
     "data": {
      "text/plain": [
       "'Python'"
      ]
     },
     "execution_count": 274,
     "metadata": {},
     "output_type": "execute_result"
    }
   ],
   "source": [
    "next(x)"
   ]
  },
  {
   "cell_type": "code",
   "execution_count": 276,
   "id": "0cea890f-5e17-439c-b1d4-2948b0274929",
   "metadata": {},
   "outputs": [
    {
     "data": {
      "text/plain": [
       "'Hello'"
      ]
     },
     "execution_count": 276,
     "metadata": {},
     "output_type": "execute_result"
    }
   ],
   "source": [
    "next(x)"
   ]
  },
  {
   "cell_type": "code",
   "execution_count": 278,
   "id": "5bd370f4-dbf3-4699-9b19-5ce5517198bb",
   "metadata": {},
   "outputs": [
    {
     "data": {
      "text/plain": [
       "(5+5j)"
      ]
     },
     "execution_count": 278,
     "metadata": {},
     "output_type": "execute_result"
    }
   ],
   "source": [
    "next(x)"
   ]
  },
  {
   "cell_type": "code",
   "execution_count": 280,
   "id": "c57bf807-482a-48d1-9109-ceca496a4730",
   "metadata": {},
   "outputs": [
    {
     "data": {
      "text/plain": [
       "True"
      ]
     },
     "execution_count": 280,
     "metadata": {},
     "output_type": "execute_result"
    }
   ],
   "source": [
    "next(x)"
   ]
  },
  {
   "cell_type": "code",
   "execution_count": 282,
   "id": "596a46c4-0341-46a7-87f8-8cf5113cd358",
   "metadata": {},
   "outputs": [
    {
     "ename": "StopIteration",
     "evalue": "",
     "output_type": "error",
     "traceback": [
      "\u001b[1;31m---------------------------------------------------------------------------\u001b[0m",
      "\u001b[1;31mStopIteration\u001b[0m                             Traceback (most recent call last)",
      "Cell \u001b[1;32mIn[282], line 1\u001b[0m\n\u001b[1;32m----> 1\u001b[0m \u001b[38;5;28mnext\u001b[39m(x)\n",
      "\u001b[1;31mStopIteration\u001b[0m: "
     ]
    }
   ],
   "source": [
    "next(x)"
   ]
  },
  {
   "cell_type": "markdown",
   "id": "3c5340e3-0aca-4290-89f3-271be9d1da0e",
   "metadata": {},
   "source": [
    "# return vs yield"
   ]
  },
  {
   "cell_type": "code",
   "execution_count": 285,
   "id": "63bea4e7-6045-4ef8-976b-29daddc80770",
   "metadata": {},
   "outputs": [],
   "source": [
    "# - return statement returns the value and terminates the function.\n",
    "# - yield statement returns the value and pauses the function until called next time.\n",
    "# - yield statement does not terminate the function but pauses the function only.\n",
    "# - When we use next() on the generator object, it looks for the yield statement.\n",
    "# - It returns the value associated to yield and pauses the function.\n",
    "# - If no yield is statement is found then it raises StopIterationError."
   ]
  },
  {
   "cell_type": "code",
   "execution_count": 287,
   "id": "a41b0a44-45a1-4f61-8190-cdde4abac722",
   "metadata": {},
   "outputs": [],
   "source": [
    "def gen():\n",
    "    print('Hello')\n",
    "    print('Python')\n",
    "    yield 50\n",
    "    yield 90"
   ]
  },
  {
   "cell_type": "code",
   "execution_count": 289,
   "id": "5a91e6c0-8b5e-43de-845e-130e42e9cb25",
   "metadata": {},
   "outputs": [
    {
     "name": "stdout",
     "output_type": "stream",
     "text": [
      "<generator object gen at 0x000002BD02E665C0>\n"
     ]
    }
   ],
   "source": [
    "x=gen()\n",
    "print(x)"
   ]
  },
  {
   "cell_type": "code",
   "execution_count": 291,
   "id": "0d1834cd-dcc2-4413-9609-fc4209b8aec1",
   "metadata": {},
   "outputs": [
    {
     "name": "stdout",
     "output_type": "stream",
     "text": [
      "Hello\n",
      "Python\n"
     ]
    }
   ],
   "source": [
    "y=next(x)"
   ]
  },
  {
   "cell_type": "code",
   "execution_count": 293,
   "id": "95e1b5fd-9897-4e8e-8e2d-de47cbf208e5",
   "metadata": {},
   "outputs": [
    {
     "name": "stdout",
     "output_type": "stream",
     "text": [
      "50\n"
     ]
    }
   ],
   "source": [
    "print(y)"
   ]
  },
  {
   "cell_type": "code",
   "execution_count": 295,
   "id": "8a8f770f-a966-4798-b132-fa3c2b739796",
   "metadata": {},
   "outputs": [],
   "source": [
    "y=next(x)"
   ]
  },
  {
   "cell_type": "code",
   "execution_count": 297,
   "id": "ae04d1f3-9e08-4ad2-bf57-74c72f5f3771",
   "metadata": {},
   "outputs": [
    {
     "name": "stdout",
     "output_type": "stream",
     "text": [
      "90\n"
     ]
    }
   ],
   "source": [
    "print(y)"
   ]
  },
  {
   "cell_type": "code",
   "execution_count": 299,
   "id": "1f4e7b82-cfe5-48ae-9586-8b830f8a9288",
   "metadata": {},
   "outputs": [
    {
     "ename": "StopIteration",
     "evalue": "",
     "output_type": "error",
     "traceback": [
      "\u001b[1;31m---------------------------------------------------------------------------\u001b[0m",
      "\u001b[1;31mStopIteration\u001b[0m                             Traceback (most recent call last)",
      "Cell \u001b[1;32mIn[299], line 1\u001b[0m\n\u001b[1;32m----> 1\u001b[0m \u001b[38;5;28mnext\u001b[39m(x)\n",
      "\u001b[1;31mStopIteration\u001b[0m: "
     ]
    }
   ],
   "source": [
    "next(x)"
   ]
  },
  {
   "cell_type": "code",
   "execution_count": 301,
   "id": "41e27dcd-3bb8-4b0f-b7bf-7964fc8df33b",
   "metadata": {},
   "outputs": [],
   "source": [
    "def gen():\n",
    "    print('Hello')\n",
    "    print('Python')\n",
    "    yield 50\n",
    "    yield 90\n",
    "    print('Data Science')\n",
    "    print('Machine Learning')\n",
    "    a=10\n",
    "    b=20\n",
    "    c=a+b\n",
    "    print(c)\n",
    "    yield 1000\n",
    "    yield 2000"
   ]
  },
  {
   "cell_type": "code",
   "execution_count": 308,
   "id": "fa4cef4a-d92e-4ae3-b37f-cc6ed32e449a",
   "metadata": {},
   "outputs": [
    {
     "name": "stdout",
     "output_type": "stream",
     "text": [
      "<generator object gen at 0x000002BD0315C660>\n"
     ]
    }
   ],
   "source": [
    "x=gen()\n",
    "print(x)"
   ]
  },
  {
   "cell_type": "code",
   "execution_count": 310,
   "id": "e2a52361-40fa-4132-91b0-34292741a9b1",
   "metadata": {},
   "outputs": [
    {
     "name": "stdout",
     "output_type": "stream",
     "text": [
      "Hello\n",
      "Python\n"
     ]
    },
    {
     "data": {
      "text/plain": [
       "50"
      ]
     },
     "execution_count": 310,
     "metadata": {},
     "output_type": "execute_result"
    }
   ],
   "source": [
    "next(x)"
   ]
  },
  {
   "cell_type": "code",
   "execution_count": 312,
   "id": "e0c91557-60ad-4b24-ad67-5ce1358f1a11",
   "metadata": {},
   "outputs": [
    {
     "data": {
      "text/plain": [
       "90"
      ]
     },
     "execution_count": 312,
     "metadata": {},
     "output_type": "execute_result"
    }
   ],
   "source": [
    "next(x)"
   ]
  },
  {
   "cell_type": "code",
   "execution_count": 314,
   "id": "ddcc7503-6f67-4933-823f-602513e34c25",
   "metadata": {},
   "outputs": [
    {
     "name": "stdout",
     "output_type": "stream",
     "text": [
      "Data Science\n",
      "Machine Learning\n",
      "30\n"
     ]
    },
    {
     "data": {
      "text/plain": [
       "1000"
      ]
     },
     "execution_count": 314,
     "metadata": {},
     "output_type": "execute_result"
    }
   ],
   "source": [
    "next(x)"
   ]
  },
  {
   "cell_type": "code",
   "execution_count": 316,
   "id": "5a207aca-812c-411e-9dc6-1716fa6c31da",
   "metadata": {},
   "outputs": [
    {
     "data": {
      "text/plain": [
       "2000"
      ]
     },
     "execution_count": 316,
     "metadata": {},
     "output_type": "execute_result"
    }
   ],
   "source": [
    "next(x)"
   ]
  },
  {
   "cell_type": "code",
   "execution_count": 318,
   "id": "03bfb6eb-e69d-4c0e-8e53-9b678ca7a751",
   "metadata": {},
   "outputs": [
    {
     "ename": "StopIteration",
     "evalue": "",
     "output_type": "error",
     "traceback": [
      "\u001b[1;31m---------------------------------------------------------------------------\u001b[0m",
      "\u001b[1;31mStopIteration\u001b[0m                             Traceback (most recent call last)",
      "Cell \u001b[1;32mIn[318], line 1\u001b[0m\n\u001b[1;32m----> 1\u001b[0m \u001b[38;5;28mnext\u001b[39m(x)\n",
      "\u001b[1;31mStopIteration\u001b[0m: "
     ]
    }
   ],
   "source": [
    "next(x)"
   ]
  },
  {
   "cell_type": "code",
   "execution_count": 320,
   "id": "de5aa675-2dd0-454b-99bf-204efc47f010",
   "metadata": {},
   "outputs": [
    {
     "name": "stdout",
     "output_type": "stream",
     "text": [
      "<generator object gen at 0x000002BD0315C3C0>\n"
     ]
    }
   ],
   "source": [
    "x=gen()\n",
    "print(x)"
   ]
  },
  {
   "cell_type": "code",
   "execution_count": 322,
   "id": "9d2fc790-de15-4e7b-8e05-ec4edfa8c83a",
   "metadata": {},
   "outputs": [
    {
     "name": "stdout",
     "output_type": "stream",
     "text": [
      "Hello\n",
      "Python\n",
      "50\n",
      "90\n",
      "Data Science\n",
      "Machine Learning\n",
      "30\n",
      "1000\n",
      "2000\n"
     ]
    }
   ],
   "source": [
    "for i in x:\n",
    "    print(i)"
   ]
  },
  {
   "cell_type": "code",
   "execution_count": 324,
   "id": "a26b1afb-5581-4796-8592-81f8c5c7683c",
   "metadata": {},
   "outputs": [],
   "source": [
    "def gen():\n",
    "    print('Hello')\n",
    "    print('Python')\n",
    "    yield 50\n",
    "    yield 90\n",
    "    print('Data Science')\n",
    "    print('Machine Learning')\n",
    "    a=10\n",
    "    b=20\n",
    "    c=a+b\n",
    "    print(c)\n",
    "    yield 1000\n",
    "    yield 2000\n",
    "    print('Thanks everyone!')\n",
    "    print('Have a great day!')"
   ]
  },
  {
   "cell_type": "code",
   "execution_count": 326,
   "id": "88568141-f566-44c3-8432-5b4534f972b7",
   "metadata": {},
   "outputs": [
    {
     "name": "stdout",
     "output_type": "stream",
     "text": [
      "<generator object gen at 0x000002BD0315C040>\n"
     ]
    }
   ],
   "source": [
    "x=gen()\n",
    "print(x)"
   ]
  },
  {
   "cell_type": "code",
   "execution_count": 328,
   "id": "49b10626-68ae-4de0-a9be-c64264bff13b",
   "metadata": {},
   "outputs": [
    {
     "name": "stdout",
     "output_type": "stream",
     "text": [
      "Hello\n",
      "Python\n"
     ]
    },
    {
     "data": {
      "text/plain": [
       "50"
      ]
     },
     "execution_count": 328,
     "metadata": {},
     "output_type": "execute_result"
    }
   ],
   "source": [
    "next(x)"
   ]
  },
  {
   "cell_type": "code",
   "execution_count": 330,
   "id": "607ca401-5a3b-4347-9dee-809085233633",
   "metadata": {},
   "outputs": [
    {
     "data": {
      "text/plain": [
       "90"
      ]
     },
     "execution_count": 330,
     "metadata": {},
     "output_type": "execute_result"
    }
   ],
   "source": [
    "next(x)"
   ]
  },
  {
   "cell_type": "code",
   "execution_count": 332,
   "id": "7988f153-7ccc-4001-8c73-a0cb749a62b7",
   "metadata": {},
   "outputs": [
    {
     "name": "stdout",
     "output_type": "stream",
     "text": [
      "Data Science\n",
      "Machine Learning\n",
      "30\n"
     ]
    },
    {
     "data": {
      "text/plain": [
       "1000"
      ]
     },
     "execution_count": 332,
     "metadata": {},
     "output_type": "execute_result"
    }
   ],
   "source": [
    "next(x)"
   ]
  },
  {
   "cell_type": "code",
   "execution_count": 334,
   "id": "ddd931a8-bc32-4f7b-9bb9-a4f270e58da6",
   "metadata": {},
   "outputs": [
    {
     "data": {
      "text/plain": [
       "2000"
      ]
     },
     "execution_count": 334,
     "metadata": {},
     "output_type": "execute_result"
    }
   ],
   "source": [
    "next(x)"
   ]
  },
  {
   "cell_type": "code",
   "execution_count": 336,
   "id": "17a7d0ed-3eb0-42d7-ba4b-4feaa1621e60",
   "metadata": {},
   "outputs": [
    {
     "name": "stdout",
     "output_type": "stream",
     "text": [
      "Thanks everyone!\n",
      "Have a great day!\n"
     ]
    },
    {
     "ename": "StopIteration",
     "evalue": "",
     "output_type": "error",
     "traceback": [
      "\u001b[1;31m---------------------------------------------------------------------------\u001b[0m",
      "\u001b[1;31mStopIteration\u001b[0m                             Traceback (most recent call last)",
      "Cell \u001b[1;32mIn[336], line 1\u001b[0m\n\u001b[1;32m----> 1\u001b[0m \u001b[38;5;28mnext\u001b[39m(x)\n",
      "\u001b[1;31mStopIteration\u001b[0m: "
     ]
    }
   ],
   "source": [
    "next(x)"
   ]
  },
  {
   "cell_type": "code",
   "execution_count": 338,
   "id": "76939ec1-e624-41fe-a177-30ec29ba8411",
   "metadata": {},
   "outputs": [],
   "source": [
    "def gen():\n",
    "    yield 'Hello'\n",
    "    yield 'Python'\n",
    "    return 'Thanks'"
   ]
  },
  {
   "cell_type": "code",
   "execution_count": 340,
   "id": "29ffd8de-f667-472e-a6bf-f450b848c553",
   "metadata": {},
   "outputs": [
    {
     "name": "stdout",
     "output_type": "stream",
     "text": [
      "<generator object gen at 0x000002BD03B85900>\n"
     ]
    }
   ],
   "source": [
    "x=gen()\n",
    "print(x)"
   ]
  },
  {
   "cell_type": "code",
   "execution_count": 342,
   "id": "ad7dbb6c-7b7b-40e6-b26e-64dc5645b06b",
   "metadata": {},
   "outputs": [
    {
     "data": {
      "text/plain": [
       "'Hello'"
      ]
     },
     "execution_count": 342,
     "metadata": {},
     "output_type": "execute_result"
    }
   ],
   "source": [
    "next(x)"
   ]
  },
  {
   "cell_type": "code",
   "execution_count": 344,
   "id": "0d5ec5d3-3d10-4235-92e2-407b3871f9c8",
   "metadata": {},
   "outputs": [
    {
     "data": {
      "text/plain": [
       "'Python'"
      ]
     },
     "execution_count": 344,
     "metadata": {},
     "output_type": "execute_result"
    }
   ],
   "source": [
    "next(x)"
   ]
  },
  {
   "cell_type": "code",
   "execution_count": 346,
   "id": "47589f35-655d-4334-ba5c-86e03c40ec05",
   "metadata": {},
   "outputs": [
    {
     "ename": "StopIteration",
     "evalue": "Thanks",
     "output_type": "error",
     "traceback": [
      "\u001b[1;31m---------------------------------------------------------------------------\u001b[0m",
      "\u001b[1;31mStopIteration\u001b[0m                             Traceback (most recent call last)",
      "Cell \u001b[1;32mIn[346], line 1\u001b[0m\n\u001b[1;32m----> 1\u001b[0m \u001b[38;5;28mnext\u001b[39m(x)\n",
      "\u001b[1;31mStopIteration\u001b[0m: Thanks"
     ]
    }
   ],
   "source": [
    "next(x)"
   ]
  },
  {
   "cell_type": "code",
   "execution_count": 348,
   "id": "906e323c-b951-4335-b7e4-ab9d9cb35fe3",
   "metadata": {},
   "outputs": [],
   "source": [
    "def gen():\n",
    "    yield 'Hello'\n",
    "    return 'Thanks'\n",
    "    yield 'Python'"
   ]
  },
  {
   "cell_type": "code",
   "execution_count": 350,
   "id": "2ad278e3-36c1-4257-8590-f66cc72d557d",
   "metadata": {},
   "outputs": [
    {
     "name": "stdout",
     "output_type": "stream",
     "text": [
      "<generator object gen at 0x000002BD03B86090>\n"
     ]
    }
   ],
   "source": [
    "x=gen()\n",
    "print(x)"
   ]
  },
  {
   "cell_type": "code",
   "execution_count": 352,
   "id": "922383e9-513c-4f80-ae9b-d8280885d53c",
   "metadata": {},
   "outputs": [
    {
     "data": {
      "text/plain": [
       "'Hello'"
      ]
     },
     "execution_count": 352,
     "metadata": {},
     "output_type": "execute_result"
    }
   ],
   "source": [
    "next(x)"
   ]
  },
  {
   "cell_type": "code",
   "execution_count": 354,
   "id": "fb3e8266-dd71-4ae1-a78e-d630c3730047",
   "metadata": {},
   "outputs": [
    {
     "ename": "StopIteration",
     "evalue": "Thanks",
     "output_type": "error",
     "traceback": [
      "\u001b[1;31m---------------------------------------------------------------------------\u001b[0m",
      "\u001b[1;31mStopIteration\u001b[0m                             Traceback (most recent call last)",
      "Cell \u001b[1;32mIn[354], line 1\u001b[0m\n\u001b[1;32m----> 1\u001b[0m \u001b[38;5;28mnext\u001b[39m(x)\n",
      "\u001b[1;31mStopIteration\u001b[0m: Thanks"
     ]
    }
   ],
   "source": [
    "next(x)"
   ]
  },
  {
   "cell_type": "code",
   "execution_count": 356,
   "id": "871f3cce-0145-4240-975e-8ab185a6826a",
   "metadata": {},
   "outputs": [],
   "source": [
    "def gen():\n",
    "    return 'Thanks'\n",
    "    yield 'Hello'\n",
    "    yield 'Python'"
   ]
  },
  {
   "cell_type": "code",
   "execution_count": 358,
   "id": "45a298bf-522b-4d97-ba3b-c75b7e6b6c11",
   "metadata": {},
   "outputs": [
    {
     "name": "stdout",
     "output_type": "stream",
     "text": [
      "<generator object gen at 0x000002BD03B86770>\n"
     ]
    }
   ],
   "source": [
    "x=gen()\n",
    "print(x)"
   ]
  },
  {
   "cell_type": "code",
   "execution_count": 360,
   "id": "d30b1ec1-1247-44f1-8788-0c884f7fd24b",
   "metadata": {},
   "outputs": [
    {
     "ename": "StopIteration",
     "evalue": "Thanks",
     "output_type": "error",
     "traceback": [
      "\u001b[1;31m---------------------------------------------------------------------------\u001b[0m",
      "\u001b[1;31mStopIteration\u001b[0m                             Traceback (most recent call last)",
      "Cell \u001b[1;32mIn[360], line 1\u001b[0m\n\u001b[1;32m----> 1\u001b[0m \u001b[38;5;28mnext\u001b[39m(x)\n",
      "\u001b[1;31mStopIteration\u001b[0m: Thanks"
     ]
    }
   ],
   "source": [
    "next(x)"
   ]
  },
  {
   "cell_type": "code",
   "execution_count": 362,
   "id": "827a58bc-af0b-4270-8bfb-b99f84d7b8a1",
   "metadata": {},
   "outputs": [],
   "source": [
    "# Create a generator function gen_fact that takes one number as an argument and returns the factorial."
   ]
  },
  {
   "cell_type": "code",
   "execution_count": 396,
   "id": "120263b8-8cf5-44f5-9810-d740820f0c6c",
   "metadata": {},
   "outputs": [],
   "source": [
    "def gen_fact(num):\n",
    "    f=1\n",
    "    for i in range(num,1,-1):\n",
    "        f=f*i\n",
    "    yield f"
   ]
  },
  {
   "cell_type": "code",
   "execution_count": 398,
   "id": "3b1bc1eb-cb18-4952-a878-a958e583be04",
   "metadata": {},
   "outputs": [
    {
     "data": {
      "text/plain": [
       "<generator object gen_fact at 0x000002BD0606FD30>"
      ]
     },
     "execution_count": 398,
     "metadata": {},
     "output_type": "execute_result"
    }
   ],
   "source": [
    "x=gen_fact(5)\n",
    "x"
   ]
  },
  {
   "cell_type": "code",
   "execution_count": 400,
   "id": "03ff33cf-4d7e-4e72-b9df-3da4135bc71a",
   "metadata": {},
   "outputs": [
    {
     "name": "stdout",
     "output_type": "stream",
     "text": [
      "120\n"
     ]
    }
   ],
   "source": [
    "for i in x:\n",
    "    print(i)"
   ]
  },
  {
   "cell_type": "code",
   "execution_count": 402,
   "id": "0c12535c-2fc9-4e31-857c-7a02c93c6898",
   "metadata": {},
   "outputs": [],
   "source": [
    "# Create a generator function values that take 5 values from the user and return them"
   ]
  },
  {
   "cell_type": "code",
   "execution_count": 414,
   "id": "073eb6e4-f6ab-4dd5-a281-1bbf6ffaf2d1",
   "metadata": {},
   "outputs": [],
   "source": [
    "def values(val):\n",
    "    for i in range(val):\n",
    "        v=eval(input('Enter a value- '))\n",
    "        yield v"
   ]
  },
  {
   "cell_type": "code",
   "execution_count": 416,
   "id": "d1f3ed98-05ae-44ba-bbca-a49f2944824a",
   "metadata": {},
   "outputs": [
    {
     "name": "stdout",
     "output_type": "stream",
     "text": [
      "<generator object values at 0x000002BD0608D300>\n"
     ]
    }
   ],
   "source": [
    "x=values(5)\n",
    "print(x)"
   ]
  },
  {
   "cell_type": "code",
   "execution_count": 418,
   "id": "79048ba9-336b-4661-89fc-98e30d611f72",
   "metadata": {},
   "outputs": [
    {
     "name": "stdin",
     "output_type": "stream",
     "text": [
      "Enter a value-  55\n"
     ]
    },
    {
     "name": "stdout",
     "output_type": "stream",
     "text": [
      "55\n"
     ]
    }
   ],
   "source": [
    "res=next(x)\n",
    "print(res)"
   ]
  },
  {
   "cell_type": "code",
   "execution_count": 420,
   "id": "fa4929b9-e00e-4760-8c1b-c152ddc65d36",
   "metadata": {},
   "outputs": [
    {
     "name": "stdin",
     "output_type": "stream",
     "text": [
      "Enter a value-  2.8\n"
     ]
    },
    {
     "name": "stdout",
     "output_type": "stream",
     "text": [
      "2.8\n"
     ]
    }
   ],
   "source": [
    "res=next(x)\n",
    "print(res)"
   ]
  },
  {
   "cell_type": "code",
   "execution_count": 422,
   "id": "b41fcbd2-5d34-4426-8429-865c1f9fefdb",
   "metadata": {},
   "outputs": [
    {
     "name": "stdin",
     "output_type": "stream",
     "text": [
      "Enter a value-  True\n"
     ]
    },
    {
     "name": "stdout",
     "output_type": "stream",
     "text": [
      "True\n"
     ]
    }
   ],
   "source": [
    "res=next(x)\n",
    "print(res)"
   ]
  },
  {
   "cell_type": "code",
   "execution_count": 424,
   "id": "aa19b686-04c2-4d8a-b926-f3c2841b9866",
   "metadata": {},
   "outputs": [
    {
     "name": "stdin",
     "output_type": "stream",
     "text": [
      "Enter a value-  5+5j\n"
     ]
    },
    {
     "name": "stdout",
     "output_type": "stream",
     "text": [
      "(5+5j)\n"
     ]
    }
   ],
   "source": [
    "res=next(x)\n",
    "print(res)"
   ]
  },
  {
   "cell_type": "code",
   "execution_count": 426,
   "id": "fe652e27-c0a5-4f32-b428-621cb0258dc0",
   "metadata": {},
   "outputs": [
    {
     "name": "stdin",
     "output_type": "stream",
     "text": [
      "Enter a value-  None\n"
     ]
    },
    {
     "name": "stdout",
     "output_type": "stream",
     "text": [
      "None\n"
     ]
    }
   ],
   "source": [
    "res=next(x)\n",
    "print(res)"
   ]
  },
  {
   "cell_type": "code",
   "execution_count": 428,
   "id": "e2fa79f0-ab84-47d7-bbef-7c49cc92a9e2",
   "metadata": {},
   "outputs": [
    {
     "ename": "StopIteration",
     "evalue": "",
     "output_type": "error",
     "traceback": [
      "\u001b[1;31m---------------------------------------------------------------------------\u001b[0m",
      "\u001b[1;31mStopIteration\u001b[0m                             Traceback (most recent call last)",
      "Cell \u001b[1;32mIn[428], line 1\u001b[0m\n\u001b[1;32m----> 1\u001b[0m res\u001b[38;5;241m=\u001b[39m\u001b[38;5;28mnext\u001b[39m(x)\n\u001b[0;32m      2\u001b[0m \u001b[38;5;28mprint\u001b[39m(res)\n",
      "\u001b[1;31mStopIteration\u001b[0m: "
     ]
    }
   ],
   "source": [
    "res=next(x)\n",
    "print(res)"
   ]
  },
  {
   "cell_type": "code",
   "execution_count": 430,
   "id": "bcdb81f0-f71e-4830-bca6-0a6b2bbe17ea",
   "metadata": {},
   "outputs": [
    {
     "name": "stdout",
     "output_type": "stream",
     "text": [
      "<generator object values at 0x000002BD0606D8A0>\n"
     ]
    }
   ],
   "source": [
    "x=values(5)\n",
    "print(x)"
   ]
  },
  {
   "cell_type": "code",
   "execution_count": 432,
   "id": "c327b790-cdd1-4328-b039-af2586047e24",
   "metadata": {},
   "outputs": [
    {
     "name": "stdin",
     "output_type": "stream",
     "text": [
      "Enter a value-  5\n"
     ]
    },
    {
     "name": "stdout",
     "output_type": "stream",
     "text": [
      "5\n"
     ]
    },
    {
     "name": "stdin",
     "output_type": "stream",
     "text": [
      "Enter a value-  2.8\n"
     ]
    },
    {
     "name": "stdout",
     "output_type": "stream",
     "text": [
      "2.8\n"
     ]
    },
    {
     "name": "stdin",
     "output_type": "stream",
     "text": [
      "Enter a value-  4+5j\n"
     ]
    },
    {
     "name": "stdout",
     "output_type": "stream",
     "text": [
      "(4+5j)\n"
     ]
    },
    {
     "name": "stdin",
     "output_type": "stream",
     "text": [
      "Enter a value-  True\n"
     ]
    },
    {
     "name": "stdout",
     "output_type": "stream",
     "text": [
      "True\n"
     ]
    },
    {
     "name": "stdin",
     "output_type": "stream",
     "text": [
      "Enter a value-  None\n"
     ]
    },
    {
     "name": "stdout",
     "output_type": "stream",
     "text": [
      "None\n"
     ]
    }
   ],
   "source": [
    "for i in x:\n",
    "    print(i)"
   ]
  },
  {
   "cell_type": "markdown",
   "id": "17d01b10-ac22-4d6a-8a63-ca2090d65131",
   "metadata": {},
   "source": [
    "# Exception Handling"
   ]
  },
  {
   "cell_type": "code",
   "execution_count": 439,
   "id": "e3e6a4ee-3dd5-4ad9-84f9-a2d4ac4db872",
   "metadata": {},
   "outputs": [],
   "source": [
    "# Errors"
   ]
  },
  {
   "cell_type": "markdown",
   "id": "a2b12e37-8a57-42d2-bedd-19f9eb316903",
   "metadata": {},
   "source": [
    "## Types of Errors"
   ]
  },
  {
   "cell_type": "code",
   "execution_count": 442,
   "id": "905ae762-dff6-4f93-8f6d-141a92a1d8da",
   "metadata": {},
   "outputs": [],
   "source": [
    "# - 1- Compile Time Errors\n",
    "# - 2- Run Time Errors"
   ]
  },
  {
   "cell_type": "markdown",
   "id": "7da24e1b-aabc-4547-80f1-0eea5d9aed64",
   "metadata": {},
   "source": [
    "# Compile Time Errors"
   ]
  },
  {
   "cell_type": "code",
   "execution_count": 447,
   "id": "e6705bee-b4cd-4e9e-99a0-ca1beff0690f",
   "metadata": {},
   "outputs": [],
   "source": [
    "# - The errors that occur at the time of compilation are compile time errors.\n",
    "# Examples- Syntax errors, Indenttaion errors"
   ]
  },
  {
   "cell_type": "code",
   "execution_count": 453,
   "id": "2dab83c0-6fe5-4fe1-bc3b-2859838e4b1a",
   "metadata": {},
   "outputs": [
    {
     "ename": "SyntaxError",
     "evalue": "unterminated string literal (detected at line 2) (2492934376.py, line 2)",
     "output_type": "error",
     "traceback": [
      "\u001b[1;36m  Cell \u001b[1;32mIn[453], line 2\u001b[1;36m\u001b[0m\n\u001b[1;33m    print('Thanks)\u001b[0m\n\u001b[1;37m          ^\u001b[0m\n\u001b[1;31mSyntaxError\u001b[0m\u001b[1;31m:\u001b[0m unterminated string literal (detected at line 2)\n"
     ]
    }
   ],
   "source": [
    "print('Hello')\n",
    "print('Thanks)"
   ]
  },
  {
   "cell_type": "code",
   "execution_count": 461,
   "id": "1c3ef6d7-48b1-45e5-9852-4da949e566ee",
   "metadata": {},
   "outputs": [
    {
     "ename": "IndentationError",
     "evalue": "expected an indented block after 'if' statement on line 2 (4134706028.py, line 3)",
     "output_type": "error",
     "traceback": [
      "\u001b[1;36m  Cell \u001b[1;32mIn[461], line 3\u001b[1;36m\u001b[0m\n\u001b[1;33m    print('Hello')\u001b[0m\n\u001b[1;37m    ^\u001b[0m\n\u001b[1;31mIndentationError\u001b[0m\u001b[1;31m:\u001b[0m expected an indented block after 'if' statement on line 2\n"
     ]
    }
   ],
   "source": [
    "print('Hi')\n",
    "if 2==2:\n",
    "print('Hello')"
   ]
  },
  {
   "cell_type": "markdown",
   "id": "3dab62b8-f519-412a-8c22-b5d134c33784",
   "metadata": {},
   "source": [
    "# Run Time Errors"
   ]
  },
  {
   "cell_type": "code",
   "execution_count": 466,
   "id": "36170c87-3455-4892-8b33-c3de01e1df5f",
   "metadata": {},
   "outputs": [],
   "source": [
    "# - The errors that occur that the run time (at the time of execution) are known as run time errors.\n",
    "# - These errors are caught by the interpreter.\n",
    "\n",
    "# Exmaples- Name error, type error, value error, index error, file not found error, module not found error, key error etc."
   ]
  },
  {
   "cell_type": "code",
   "execution_count": 472,
   "id": "0f334fa3-d6c3-466e-b990-b2aad7a78566",
   "metadata": {},
   "outputs": [
    {
     "name": "stdout",
     "output_type": "stream",
     "text": [
      "Hello\n",
      "Python\n"
     ]
    },
    {
     "ename": "ValueError",
     "evalue": "invalid literal for int() with base 10: '2.5'",
     "output_type": "error",
     "traceback": [
      "\u001b[1;31m---------------------------------------------------------------------------\u001b[0m",
      "\u001b[1;31mValueError\u001b[0m                                Traceback (most recent call last)",
      "Cell \u001b[1;32mIn[472], line 3\u001b[0m\n\u001b[0;32m      1\u001b[0m \u001b[38;5;28mprint\u001b[39m(\u001b[38;5;124m'\u001b[39m\u001b[38;5;124mHello\u001b[39m\u001b[38;5;124m'\u001b[39m)\n\u001b[0;32m      2\u001b[0m \u001b[38;5;28mprint\u001b[39m(\u001b[38;5;124m'\u001b[39m\u001b[38;5;124mPython\u001b[39m\u001b[38;5;124m'\u001b[39m)\n\u001b[1;32m----> 3\u001b[0m \u001b[38;5;28mint\u001b[39m(\u001b[38;5;124m'\u001b[39m\u001b[38;5;124m2.5\u001b[39m\u001b[38;5;124m'\u001b[39m)\n\u001b[0;32m      4\u001b[0m \u001b[38;5;28mprint\u001b[39m(\u001b[38;5;124m'\u001b[39m\u001b[38;5;124mThanks\u001b[39m\u001b[38;5;124m'\u001b[39m)\n",
      "\u001b[1;31mValueError\u001b[0m: invalid literal for int() with base 10: '2.5'"
     ]
    }
   ],
   "source": [
    "print('Hello')\n",
    "print('Python')\n",
    "int('2.5')\n",
    "print('Thanks')"
   ]
  },
  {
   "cell_type": "markdown",
   "id": "3691fdf6-07ea-4782-9017-66b2e8acce0c",
   "metadata": {},
   "source": [
    "# Exception"
   ]
  },
  {
   "cell_type": "code",
   "execution_count": 475,
   "id": "98208267-f5ca-4718-8605-fdd214a4a177",
   "metadata": {},
   "outputs": [],
   "source": [
    "# - A run time error is known as an exception.\n",
    "# - As soon as some exception occurs then the normal flow of execution is disrupted."
   ]
  },
  {
   "cell_type": "markdown",
   "id": "90923b40-945f-4b3c-834c-554487095a52",
   "metadata": {},
   "source": [
    "# Exception Handling"
   ]
  },
  {
   "cell_type": "code",
   "execution_count": 480,
   "id": "7f7343db-31ed-4ba9-ae86-155e2f302a8e",
   "metadata": {},
   "outputs": [],
   "source": [
    "# - It is a process of handling of the exceptions.\n",
    "# - We create some response for an exception.\n",
    "# - Once an exception is handled then the normal flow of execution does not get disrupted."
   ]
  },
  {
   "cell_type": "code",
   "execution_count": 491,
   "id": "0240c7cc-de6b-4765-a767-25bbbb4d27e8",
   "metadata": {},
   "outputs": [
    {
     "name": "stdin",
     "output_type": "stream",
     "text": [
      "Enter a number-  5\n",
      "Enter a number-  0\n"
     ]
    },
    {
     "ename": "ZeroDivisionError",
     "evalue": "division by zero",
     "output_type": "error",
     "traceback": [
      "\u001b[1;31m---------------------------------------------------------------------------\u001b[0m",
      "\u001b[1;31mZeroDivisionError\u001b[0m                         Traceback (most recent call last)",
      "Cell \u001b[1;32mIn[491], line 3\u001b[0m\n\u001b[0;32m      1\u001b[0m a\u001b[38;5;241m=\u001b[39m\u001b[38;5;28mint\u001b[39m((\u001b[38;5;28minput\u001b[39m(\u001b[38;5;124m\"\u001b[39m\u001b[38;5;124mEnter a number- \u001b[39m\u001b[38;5;124m\"\u001b[39m)))\n\u001b[0;32m      2\u001b[0m b\u001b[38;5;241m=\u001b[39m\u001b[38;5;28mint\u001b[39m(\u001b[38;5;28minput\u001b[39m(\u001b[38;5;124m\"\u001b[39m\u001b[38;5;124mEnter a number- \u001b[39m\u001b[38;5;124m\"\u001b[39m))\n\u001b[1;32m----> 3\u001b[0m c\u001b[38;5;241m=\u001b[39ma\u001b[38;5;241m/\u001b[39mb\n\u001b[0;32m      4\u001b[0m \u001b[38;5;28mprint\u001b[39m(c)\n\u001b[0;32m      5\u001b[0m \u001b[38;5;28mprint\u001b[39m(\u001b[38;5;124m'\u001b[39m\u001b[38;5;124mThanks for using our services\u001b[39m\u001b[38;5;124m'\u001b[39m)\n",
      "\u001b[1;31mZeroDivisionError\u001b[0m: division by zero"
     ]
    }
   ],
   "source": [
    "a=int((input(\"Enter a number- \")))\n",
    "b=int(input(\"Enter a number- \"))\n",
    "c=a/b\n",
    "print(c)\n",
    "print('Thanks for using our services')"
   ]
  },
  {
   "cell_type": "code",
   "execution_count": 503,
   "id": "1d2c28f9-4055-4e44-a11d-f6c11851af86",
   "metadata": {},
   "outputs": [
    {
     "name": "stdin",
     "output_type": "stream",
     "text": [
      "Enter a number-  k\n"
     ]
    },
    {
     "name": "stdout",
     "output_type": "stream",
     "text": [
      "Divison by 0 is not possible\n",
      "Thanks for using our services\n"
     ]
    }
   ],
   "source": [
    "try:\n",
    "    a=int((input(\"Enter a number- \")))\n",
    "    b=int(input(\"Enter a number- \"))\n",
    "    c=a/b\n",
    "    print(c)\n",
    "except:\n",
    "    print(\"Divison by 0 is not possible\")\n",
    "print('Thanks for using our services')   "
   ]
  },
  {
   "cell_type": "code",
   "execution_count": 505,
   "id": "28988d1f-0ddc-4598-8ce1-547c3bf9dc6e",
   "metadata": {},
   "outputs": [],
   "source": [
    "# try.....except  statement\n",
    "\n",
    "# try....except and else statement\n",
    "\n",
    "# try.....multiple except statements\n",
    "\n",
    "# Nested try......except statements\n",
    "\n",
    "# try...except....else.......finally statement"
   ]
  },
  {
   "cell_type": "markdown",
   "id": "942da8bd-e155-4ac0-b40a-9dd3fb6f9b95",
   "metadata": {},
   "source": [
    "# try.........except"
   ]
  },
  {
   "cell_type": "code",
   "execution_count": null,
   "id": "a4697d4e-0d1a-4aef-88d8-7b03d404ea36",
   "metadata": {},
   "outputs": [],
   "source": [
    "try:\n",
    "    code\n",
    "    code\n",
    "except:\n",
    "    response code (Message)"
   ]
  },
  {
   "cell_type": "code",
   "execution_count": 510,
   "id": "bf50130e-0be6-4a64-9770-a578caf115e7",
   "metadata": {},
   "outputs": [],
   "source": [
    "# - In try block we keep the code that may raise the exception.\n",
    "# - In except block we keep the response code against the exception."
   ]
  },
  {
   "cell_type": "code",
   "execution_count": 520,
   "id": "ff25e727-e07e-4556-888c-b8e7c66a1960",
   "metadata": {},
   "outputs": [
    {
     "name": "stdin",
     "output_type": "stream",
     "text": [
      "Enter a number-  5\n",
      "Enter a number-  2\n"
     ]
    },
    {
     "name": "stdout",
     "output_type": "stream",
     "text": [
      "2.5\n",
      "Thanks for using our services\n"
     ]
    }
   ],
   "source": [
    "a=int((input(\"Enter a number- \")))\n",
    "b=int(input(\"Enter a number- \"))\n",
    "try:\n",
    "    c=a/b\n",
    "    print(c)\n",
    "except:\n",
    "    print(\"We can't divide by zero\")\n",
    "print('Thanks for using our services')"
   ]
  },
  {
   "cell_type": "code",
   "execution_count": 522,
   "id": "bb2e40fc-5e79-4367-a898-91266d0bd343",
   "metadata": {},
   "outputs": [
    {
     "name": "stdin",
     "output_type": "stream",
     "text": [
      "Enter a number-  5\n",
      "Enter a number-  0\n"
     ]
    },
    {
     "name": "stdout",
     "output_type": "stream",
     "text": [
      "We can't divide by zero\n",
      "Thanks for using our services\n"
     ]
    }
   ],
   "source": [
    "a=int((input(\"Enter a number- \")))\n",
    "b=int(input(\"Enter a number- \"))\n",
    "try:\n",
    "    c=a/b\n",
    "    print(c)\n",
    "except:\n",
    "    print(\"We can't divide by zero\")\n",
    "print('Thanks for using our services')"
   ]
  },
  {
   "cell_type": "code",
   "execution_count": 534,
   "id": "ccd35700-f435-49a4-8ae8-d4032bba0ff1",
   "metadata": {},
   "outputs": [
    {
     "name": "stdin",
     "output_type": "stream",
     "text": [
      "Enter a number-  k\n"
     ]
    },
    {
     "name": "stdout",
     "output_type": "stream",
     "text": [
      "We can't divide by zero\n",
      "Thanks for using our services\n"
     ]
    }
   ],
   "source": [
    "try:\n",
    "    a=int((input(\"Enter a number- \")))\n",
    "    b=int(input(\"Enter a number- \"))\n",
    "\n",
    "    c=a/b\n",
    "    print(c)\n",
    "except:\n",
    "    print(\"We can't divide by zero\")\n",
    "print('Thanks for using our services')"
   ]
  },
  {
   "cell_type": "code",
   "execution_count": 530,
   "id": "546800c0-1105-40c3-90d0-2d6910de805e",
   "metadata": {},
   "outputs": [],
   "source": [
    "# int('k')"
   ]
  },
  {
   "cell_type": "markdown",
   "id": "754053b8-476c-47fe-bff4-435c1e7ffcd9",
   "metadata": {},
   "source": [
    "# try......multiple except block"
   ]
  },
  {
   "cell_type": "code",
   "execution_count": 559,
   "id": "b7fe8ad5-3c73-46cb-973f-19ce76a2c8a5",
   "metadata": {},
   "outputs": [
    {
     "name": "stdin",
     "output_type": "stream",
     "text": [
      "Enter a number-  6\n",
      "Enter a number-  2\n"
     ]
    },
    {
     "name": "stdout",
     "output_type": "stream",
     "text": [
      "3.0\n",
      "Invalid input\n",
      "Thanks for using our services\n"
     ]
    }
   ],
   "source": [
    "try:\n",
    "    a=int((input(\"Enter a number- \")))\n",
    "    b=int(input(\"Enter a number- \"))\n",
    "\n",
    "    c=a/b\n",
    "    print(c)\n",
    "    for i in c:\n",
    "        print(i)\n",
    "    \n",
    "except ValueError:\n",
    "    print(\"Only digits are allowed\")\n",
    "except ZeroDivisionError:\n",
    "    print(\"We can't divide by zero\")\n",
    "except:\n",
    "    print('Invalid input')\n",
    "    \n",
    "print('Thanks for using our services')"
   ]
  },
  {
   "cell_type": "markdown",
   "id": "3e2278d7-a0c5-4acc-a817-3a87a0f9702b",
   "metadata": {},
   "source": [
    "# Exception class"
   ]
  },
  {
   "cell_type": "code",
   "execution_count": 565,
   "id": "5fb700e9-9ec2-437b-93a1-a262933680f0",
   "metadata": {},
   "outputs": [],
   "source": [
    "# - It is a class in Python in builtins.\n",
    "# - All the error messages are defined in this class."
   ]
  },
  {
   "cell_type": "code",
   "execution_count": 587,
   "id": "5ed07e5b-842c-45fc-9512-08fc17b1d90c",
   "metadata": {},
   "outputs": [
    {
     "name": "stdin",
     "output_type": "stream",
     "text": [
      "Enter a number-  5\n",
      "Enter a number-  2\n"
     ]
    },
    {
     "name": "stdout",
     "output_type": "stream",
     "text": [
      "2.5\n",
      "'float' object is not iterable\n"
     ]
    }
   ],
   "source": [
    "try:\n",
    "    a=int((input(\"Enter a number- \")))\n",
    "    b=int(input(\"Enter a number- \"))\n",
    "\n",
    "    c=a/b\n",
    "    print(c)\n",
    "    for i in c:\n",
    "        print(i)\n",
    "except Exception as x:\n",
    "    print(x)"
   ]
  },
  {
   "cell_type": "code",
   "execution_count": 567,
   "id": "46621210-17ad-4d1e-b837-d5d39828b79e",
   "metadata": {},
   "outputs": [
    {
     "ename": "ValueError",
     "evalue": "invalid literal for int() with base 10: 'k'",
     "output_type": "error",
     "traceback": [
      "\u001b[1;31m---------------------------------------------------------------------------\u001b[0m",
      "\u001b[1;31mValueError\u001b[0m                                Traceback (most recent call last)",
      "Cell \u001b[1;32mIn[567], line 1\u001b[0m\n\u001b[1;32m----> 1\u001b[0m \u001b[38;5;28mint\u001b[39m(\u001b[38;5;124m'\u001b[39m\u001b[38;5;124mk\u001b[39m\u001b[38;5;124m'\u001b[39m)\n",
      "\u001b[1;31mValueError\u001b[0m: invalid literal for int() with base 10: 'k'"
     ]
    }
   ],
   "source": [
    "int('k')"
   ]
  },
  {
   "cell_type": "code",
   "execution_count": 569,
   "id": "ef868b46-c1bf-4989-ab01-d326e63d8551",
   "metadata": {},
   "outputs": [
    {
     "ename": "ZeroDivisionError",
     "evalue": "division by zero",
     "output_type": "error",
     "traceback": [
      "\u001b[1;31m---------------------------------------------------------------------------\u001b[0m",
      "\u001b[1;31mZeroDivisionError\u001b[0m                         Traceback (most recent call last)",
      "Cell \u001b[1;32mIn[569], line 1\u001b[0m\n\u001b[1;32m----> 1\u001b[0m \u001b[38;5;241m5\u001b[39m\u001b[38;5;241m/\u001b[39m\u001b[38;5;241m0\u001b[39m\n",
      "\u001b[1;31mZeroDivisionError\u001b[0m: division by zero"
     ]
    }
   ],
   "source": [
    "5/0"
   ]
  },
  {
   "cell_type": "code",
   "execution_count": 575,
   "id": "404216ee-ed1b-4442-bcc1-136185136de9",
   "metadata": {},
   "outputs": [
    {
     "ename": "TypeError",
     "evalue": "'float' object is not iterable",
     "output_type": "error",
     "traceback": [
      "\u001b[1;31m---------------------------------------------------------------------------\u001b[0m",
      "\u001b[1;31mTypeError\u001b[0m                                 Traceback (most recent call last)",
      "Cell \u001b[1;32mIn[575], line 1\u001b[0m\n\u001b[1;32m----> 1\u001b[0m \u001b[38;5;28;01mfor\u001b[39;00m i \u001b[38;5;129;01min\u001b[39;00m \u001b[38;5;241m2.5\u001b[39m:\n\u001b[0;32m      2\u001b[0m     \u001b[38;5;28mprint\u001b[39m(i)\n",
      "\u001b[1;31mTypeError\u001b[0m: 'float' object is not iterable"
     ]
    }
   ],
   "source": [
    "for i in 2.5:\n",
    "    print(i)"
   ]
  },
  {
   "cell_type": "code",
   "execution_count": 579,
   "id": "ad19057f-b246-48b4-a3d3-69b97e0d7002",
   "metadata": {},
   "outputs": [
    {
     "name": "stdout",
     "output_type": "stream",
     "text": [
      "['ArithmeticError', 'AssertionError', 'AttributeError', 'BaseException', 'BaseExceptionGroup', 'BlockingIOError', 'BrokenPipeError', 'BufferError', 'BytesWarning', 'ChildProcessError', 'ConnectionAbortedError', 'ConnectionError', 'ConnectionRefusedError', 'ConnectionResetError', 'DeprecationWarning', 'EOFError', 'Ellipsis', 'EncodingWarning', 'EnvironmentError', 'Exception', 'ExceptionGroup', 'False', 'FileExistsError', 'FileNotFoundError', 'FloatingPointError', 'FutureWarning', 'GeneratorExit', 'IOError', 'ImportError', 'ImportWarning', 'IndentationError', 'IndexError', 'InterruptedError', 'IsADirectoryError', 'KeyError', 'KeyboardInterrupt', 'LookupError', 'MemoryError', 'ModuleNotFoundError', 'NameError', 'None', 'NotADirectoryError', 'NotImplemented', 'NotImplementedError', 'OSError', 'OverflowError', 'PendingDeprecationWarning', 'PermissionError', 'ProcessLookupError', 'RecursionError', 'ReferenceError', 'ResourceWarning', 'RuntimeError', 'RuntimeWarning', 'StopAsyncIteration', 'StopIteration', 'SyntaxError', 'SyntaxWarning', 'SystemError', 'SystemExit', 'TabError', 'TimeoutError', 'True', 'TypeError', 'UnboundLocalError', 'UnicodeDecodeError', 'UnicodeEncodeError', 'UnicodeError', 'UnicodeTranslateError', 'UnicodeWarning', 'UserWarning', 'ValueError', 'Warning', 'WindowsError', 'ZeroDivisionError', '__IPYTHON__', '__build_class__', '__debug__', '__doc__', '__import__', '__loader__', '__name__', '__package__', '__spec__', 'abs', 'aiter', 'all', 'anext', 'any', 'ascii', 'bin', 'bool', 'breakpoint', 'bytearray', 'bytes', 'callable', 'chr', 'classmethod', 'compile', 'complex', 'copyright', 'credits', 'delattr', 'dict', 'dir', 'display', 'divmod', 'enumerate', 'eval', 'exec', 'execfile', 'filter', 'float', 'format', 'frozenset', 'get_ipython', 'getattr', 'globals', 'hasattr', 'hash', 'help', 'hex', 'id', 'input', 'int', 'isinstance', 'issubclass', 'iter', 'len', 'license', 'list', 'locals', 'map', 'max', 'memoryview', 'min', 'next', 'object', 'oct', 'open', 'ord', 'pow', 'print', 'property', 'range', 'repr', 'reversed', 'round', 'runfile', 'set', 'setattr', 'slice', 'sorted', 'staticmethod', 'str', 'sum', 'super', 'tuple', 'type', 'vars', 'zip']\n"
     ]
    }
   ],
   "source": [
    "print(dir(__builtins__))"
   ]
  },
  {
   "cell_type": "markdown",
   "id": "60d18516-4466-4552-9dc9-7716053d2f4c",
   "metadata": {},
   "source": [
    "# try......except.....else"
   ]
  },
  {
   "cell_type": "code",
   "execution_count": null,
   "id": "51732522-80f9-41f5-a516-2cb7cbb9fcb4",
   "metadata": {},
   "outputs": [],
   "source": [
    "try:\n",
    "    code\n",
    "    code\n",
    "except:\n",
    "    code\n",
    "    code\n",
    "else:\n",
    "    code\n",
    "    code"
   ]
  },
  {
   "cell_type": "code",
   "execution_count": 591,
   "id": "7dd4949c-c624-45a3-a0d3-58095d458200",
   "metadata": {},
   "outputs": [],
   "source": [
    "# - If the try block is raising some execption then except block gets executed.\n",
    "# - If the try block is not raising any exception then else block gets executed."
   ]
  },
  {
   "cell_type": "code",
   "execution_count": 601,
   "id": "6e3bda64-bfe3-4780-afba-e2718ec7d26c",
   "metadata": {},
   "outputs": [
    {
     "name": "stdin",
     "output_type": "stream",
     "text": [
      "Enter a number-  5\n",
      "Enter a number-  3\n"
     ]
    },
    {
     "name": "stdout",
     "output_type": "stream",
     "text": [
      "1.6666666666666667 2.777777777777778\n"
     ]
    }
   ],
   "source": [
    "try:\n",
    "    a=int((input(\"Enter a number- \")))\n",
    "    b=int(input(\"Enter a number- \"))\n",
    "\n",
    "    c=a/b\n",
    "except Exception as e:\n",
    "    print(e)\n",
    "else:\n",
    "    print(c,c**2)"
   ]
  },
  {
   "cell_type": "markdown",
   "id": "79215a0e-fef1-457d-9077-fdb9561088c1",
   "metadata": {},
   "source": [
    "# Nested try......except block"
   ]
  },
  {
   "cell_type": "code",
   "execution_count": null,
   "id": "70af33ba-ffba-4432-82f7-5a1a2f7ee619",
   "metadata": {},
   "outputs": [],
   "source": [
    "try:\n",
    "    code\n",
    "    code\n",
    "    try:\n",
    "        code\n",
    "        code\n",
    "    except:\n",
    "        code\n",
    "except:\n",
    "    code"
   ]
  },
  {
   "cell_type": "code",
   "execution_count": 610,
   "id": "8e9892fb-3de5-405a-a44f-df56566bca7c",
   "metadata": {},
   "outputs": [
    {
     "name": "stdin",
     "output_type": "stream",
     "text": [
      "Enter a number-  5\n",
      "Enter a number-  0\n"
     ]
    },
    {
     "name": "stdout",
     "output_type": "stream",
     "text": [
      "We can't divide by zero\n"
     ]
    }
   ],
   "source": [
    "try:\n",
    "    a=int((input(\"Enter a number- \")))\n",
    "    b=int(input(\"Enter a number- \"))\n",
    "    try:\n",
    "        c=a/b\n",
    "        print(c)\n",
    "    except:\n",
    "        print(\"We can't divide by zero\")\n",
    "except:\n",
    "    print('Only digits are allowed')"
   ]
  },
  {
   "cell_type": "code",
   "execution_count": 612,
   "id": "0dd57d6d-f0fe-4cf1-a4aa-7757b76fb441",
   "metadata": {},
   "outputs": [
    {
     "name": "stdout",
     "output_type": "stream",
     "text": [
      "Outer try block\n",
      "Inner try block\n"
     ]
    }
   ],
   "source": [
    "try:\n",
    "    print('Outer try block')\n",
    "    try:\n",
    "        print('Inner try block')\n",
    "    except:\n",
    "        print('Inner except block')\n",
    "except:\n",
    "    print('Outer except block')"
   ]
  },
  {
   "cell_type": "code",
   "execution_count": 614,
   "id": "24bc458a-4258-4a84-acdb-42224b67a091",
   "metadata": {},
   "outputs": [
    {
     "name": "stdout",
     "output_type": "stream",
     "text": [
      "Outer try block\n",
      "Inner except block\n"
     ]
    }
   ],
   "source": [
    "try:\n",
    "    print('Outer try block')\n",
    "    try:\n",
    "        5/0\n",
    "        print('Inner try block')\n",
    "    except:\n",
    "        print('Inner except block')\n",
    "except:\n",
    "    print('Outer except block')"
   ]
  },
  {
   "cell_type": "code",
   "execution_count": 616,
   "id": "5f0d02a1-13da-4f04-8f84-1762a20fc5b8",
   "metadata": {},
   "outputs": [
    {
     "name": "stdout",
     "output_type": "stream",
     "text": [
      "Outer except block\n"
     ]
    }
   ],
   "source": [
    "try:\n",
    "    5/0\n",
    "    print('Outer try block')\n",
    "    try:\n",
    "        print('Inner try block')\n",
    "    except:\n",
    "        print('Inner except block')\n",
    "except:\n",
    "    print('Outer except block')"
   ]
  },
  {
   "cell_type": "code",
   "execution_count": 618,
   "id": "a36c308e-1b3b-4844-94a6-761590044695",
   "metadata": {},
   "outputs": [
    {
     "name": "stdout",
     "output_type": "stream",
     "text": [
      "Outer try block\n",
      "Outer except block\n"
     ]
    }
   ],
   "source": [
    "try:\n",
    "    print('Outer try block')\n",
    "    try:\n",
    "        2/0\n",
    "        print('Inner try block')\n",
    "    except:\n",
    "        5/0\n",
    "        print('Inner except block')\n",
    "except:\n",
    "    print('Outer except block')"
   ]
  },
  {
   "cell_type": "code",
   "execution_count": 620,
   "id": "14fd837c-c37c-4353-9410-280b3614bce3",
   "metadata": {},
   "outputs": [
    {
     "name": "stdout",
     "output_type": "stream",
     "text": [
      "Outer try block\n",
      "Inner try block\n",
      "Inner else\n",
      "Outer else\n"
     ]
    }
   ],
   "source": [
    "try:\n",
    "    print('Outer try block')\n",
    "    try:\n",
    "        print('Inner try block')\n",
    "    except:\n",
    "        print('Inner except block')\n",
    "    else:\n",
    "        print('Inner else')\n",
    "except:\n",
    "    print('Outer except block')\n",
    "else:\n",
    "    print('Outer else')"
   ]
  },
  {
   "cell_type": "code",
   "execution_count": 622,
   "id": "38ae5093-68f7-4680-9478-9cb2a18dbf4a",
   "metadata": {},
   "outputs": [
    {
     "name": "stdout",
     "output_type": "stream",
     "text": [
      "Outer try block\n",
      "Inner try block\n",
      "Outer except block\n"
     ]
    }
   ],
   "source": [
    "try:\n",
    "    print('Outer try block')\n",
    "    try:\n",
    "        print('Inner try block')\n",
    "    except:\n",
    "        print('Inner except block')\n",
    "    else:\n",
    "        5/0\n",
    "        print('Inner else')\n",
    "except:\n",
    "    print('Outer except block')\n",
    "else:\n",
    "    print('Outer else')"
   ]
  },
  {
   "cell_type": "code",
   "execution_count": 624,
   "id": "63ea6287-e907-473d-8959-3a5d334d6fcf",
   "metadata": {},
   "outputs": [
    {
     "name": "stdout",
     "output_type": "stream",
     "text": [
      "Outer try block\n",
      "Inner except block\n",
      "Outer else\n"
     ]
    }
   ],
   "source": [
    "try:\n",
    "    print('Outer try block')\n",
    "    try:\n",
    "        5/0\n",
    "        print('Inner try block')\n",
    "    except:\n",
    "        print('Inner except block')\n",
    "    else:\n",
    "        print('Inner else')\n",
    "except:\n",
    "    print('Outer except block')\n",
    "else:\n",
    "    print('Outer else')"
   ]
  },
  {
   "cell_type": "markdown",
   "id": "8aec9a28-6104-4af0-a235-ac0613cb0c5e",
   "metadata": {},
   "source": [
    "# User defined Exceptions"
   ]
  },
  {
   "cell_type": "code",
   "execution_count": 629,
   "id": "49db75e7-298e-4ddf-8529-540cf5610a76",
   "metadata": {},
   "outputs": [],
   "source": [
    "# raise keyword is used to raise the user defined exceptions.\n",
    "# raise keyword should always be used inside the try block."
   ]
  },
  {
   "cell_type": "code",
   "execution_count": 645,
   "id": "a3f2a149-ab3c-4fa2-a0d8-1d6a5582e7c5",
   "metadata": {},
   "outputs": [
    {
     "name": "stdout",
     "output_type": "stream",
     "text": [
      "Try block\n",
      "else block\n"
     ]
    }
   ],
   "source": [
    "try:\n",
    "    # raise\n",
    "    print('Try block')\n",
    "except:\n",
    "    print('Except block')\n",
    "else:\n",
    "    print('else block')"
   ]
  },
  {
   "cell_type": "code",
   "execution_count": 647,
   "id": "88e55bd9-652d-4bda-a61e-2a59cd8c5e2b",
   "metadata": {},
   "outputs": [
    {
     "name": "stdout",
     "output_type": "stream",
     "text": [
      "Except block\n"
     ]
    }
   ],
   "source": [
    "try:\n",
    "    raise\n",
    "    print('Try block')\n",
    "except:\n",
    "    print('Except block')\n",
    "else:\n",
    "    print('else block')"
   ]
  },
  {
   "cell_type": "code",
   "execution_count": 633,
   "id": "669c5dfa-971d-4230-a5d0-6a3a2c4320b6",
   "metadata": {},
   "outputs": [],
   "source": [
    "# - Develop a money transfer app.\n",
    "# - If the amount is upto 50000, it should say amount transferred.\n",
    "# - If the amount is more than 50000, it should say amount overlimit."
   ]
  },
  {
   "cell_type": "code",
   "execution_count": 653,
   "id": "4e8c3a53-4f79-4c4f-9c24-3385cc787a61",
   "metadata": {},
   "outputs": [
    {
     "name": "stdin",
     "output_type": "stream",
     "text": [
      "Enter the amount -2000\n"
     ]
    },
    {
     "name": "stdout",
     "output_type": "stream",
     "text": [
      "amount transfered\n"
     ]
    }
   ],
   "source": [
    "try:\n",
    "    amt=int(input(\"Enter the amount\"))\n",
    "    try:\n",
    "        if amt>50000:\n",
    "            raise\n",
    "    except:\n",
    "        print(\"amount overlimit\")\n",
    "    else:\n",
    "        print('amount transfered')\n",
    "        \n",
    "except:\n",
    "    print('Only digits are allowed')"
   ]
  },
  {
   "cell_type": "code",
   "execution_count": 667,
   "id": "43e7e0d9-cc3a-4fff-b888-5a7ca039621b",
   "metadata": {},
   "outputs": [
    {
     "name": "stdin",
     "output_type": "stream",
     "text": [
      "Enter the amount 65000\n"
     ]
    },
    {
     "name": "stdout",
     "output_type": "stream",
     "text": [
      "amount overlimit\n"
     ]
    }
   ],
   "source": [
    "try:\n",
    "    amt=int(input(\"Enter the amount\"))\n",
    "    try:\n",
    "        if amt<=0:\n",
    "            raise\n",
    "        else:\n",
    "            try:\n",
    "                if amt>50000:\n",
    "                    raise\n",
    "            except:\n",
    "                print(\"amount overlimit\")\n",
    "            else:\n",
    "                print('amount transfered')\n",
    "    except:\n",
    "        print(\"Amount can't be 0 or negative\")\n",
    "            \n",
    "except:\n",
    "    print('Only digits are allowed')"
   ]
  },
  {
   "cell_type": "markdown",
   "id": "54dc2b60-ae65-4d04-a801-6a66195076da",
   "metadata": {},
   "source": [
    "# We can create a class"
   ]
  },
  {
   "cell_type": "code",
   "execution_count": 710,
   "id": "e73564de-879f-463a-b571-2e29e96404e8",
   "metadata": {},
   "outputs": [],
   "source": [
    "class Overlimit:\n",
    "    def __init__(self,msg):\n",
    "        print(msg)"
   ]
  },
  {
   "cell_type": "code",
   "execution_count": 712,
   "id": "cd0915c9-7809-4194-863d-af5ba7e95f6f",
   "metadata": {},
   "outputs": [],
   "source": [
    "class NegativeAmount:\n",
    "    def __init__(self,msg):\n",
    "        print(msg)"
   ]
  },
  {
   "cell_type": "code",
   "execution_count": 714,
   "id": "afd054ab-c8fa-40d8-8481-584d5acd3187",
   "metadata": {},
   "outputs": [
    {
     "name": "stdin",
     "output_type": "stream",
     "text": [
      "Enter the amount -2000\n"
     ]
    },
    {
     "name": "stdout",
     "output_type": "stream",
     "text": [
      "amount should be greater than 0\n",
      "Invalid input\n"
     ]
    }
   ],
   "source": [
    "try:\n",
    "    amt=int(input(\"Enter the amount\"))\n",
    "    try:\n",
    "        if amt<=0:\n",
    "            raise NegativeAmount(\"amount should be greater than 0\")\n",
    "        elif amt>50000:\n",
    "            raise Overlimit(\"Amount should be less than 50000\")\n",
    "    except Overlimit:\n",
    "        pass\n",
    "    except NegativeAmount:\n",
    "        pass\n",
    "    except:\n",
    "        pass\n",
    "    else:\n",
    "        print('Amount Transfered')   \n",
    "except:\n",
    "    print('Invalid input')"
   ]
  },
  {
   "cell_type": "code",
   "execution_count": 730,
   "id": "b86699a5-fc33-4d1c-a04a-b16856d1c1fc",
   "metadata": {},
   "outputs": [],
   "source": [
    "class NegativeAmount(Exception):\n",
    "    def __init__(self):\n",
    "        print('Amount should be greater than 0')"
   ]
  },
  {
   "cell_type": "code",
   "execution_count": 732,
   "id": "8ee090e0-39dc-49f1-971f-dfe00116425d",
   "metadata": {},
   "outputs": [],
   "source": [
    "class Overlimit(Exception):\n",
    "    def __init__(self):\n",
    "        print('Amount should be less than 50000')"
   ]
  },
  {
   "cell_type": "code",
   "execution_count": 736,
   "id": "47a690ee-2cf0-46bb-b1bc-d297b960c568",
   "metadata": {},
   "outputs": [
    {
     "name": "stdin",
     "output_type": "stream",
     "text": [
      "Enter the amount 65000\n"
     ]
    },
    {
     "name": "stdout",
     "output_type": "stream",
     "text": [
      "Amount should be less than 50000\n",
      "\n"
     ]
    }
   ],
   "source": [
    "try:\n",
    "    amt=int(input(\"Enter the amount\"))\n",
    "    if amt<=0:\n",
    "        raise NegativeAmount\n",
    "    elif amt>50000:\n",
    "        raise Overlimit\n",
    "except Overlimit as e:\n",
    "    print(e)\n",
    "except NegativeAmount as e:\n",
    "    print(e)\n",
    "except Exception as e:\n",
    "    print(e)\n",
    "else:\n",
    "    print('Amount Transfered')  "
   ]
  },
  {
   "cell_type": "markdown",
   "id": "ad422667-8ea4-4694-a6d1-7bc454f8db01",
   "metadata": {},
   "source": [
    "# finally block"
   ]
  },
  {
   "cell_type": "code",
   "execution_count": 739,
   "id": "683c676d-9d23-49da-886b-96552f4036cd",
   "metadata": {},
   "outputs": [],
   "source": [
    "# - It is optional.\n",
    "# - The code that we keep inside the finally block gets executed always."
   ]
  },
  {
   "cell_type": "code",
   "execution_count": null,
   "id": "09bed8da-f671-4952-a0f8-f526e6c57401",
   "metadata": {},
   "outputs": [],
   "source": [
    "try:\n",
    "    code\n",
    "    code\n",
    "except:\n",
    "    code\n",
    "else:\n",
    "    code\n",
    "finally:\n",
    "    code"
   ]
  },
  {
   "cell_type": "markdown",
   "id": "992c0bd4-1103-4b24-b4d5-d70215aca2b2",
   "metadata": {},
   "source": [
    "### Case_1\n",
    "- No exception is raised"
   ]
  },
  {
   "cell_type": "code",
   "execution_count": 745,
   "id": "1270bf9a-8897-46d8-ac19-1561cbbc7a54",
   "metadata": {},
   "outputs": [
    {
     "name": "stdout",
     "output_type": "stream",
     "text": [
      "Try block\n",
      "Else block\n",
      "Finally block\n"
     ]
    }
   ],
   "source": [
    "try:\n",
    "    print('Try block')\n",
    "except:\n",
    "    print('Except block')\n",
    "else:\n",
    "    print('Else block')\n",
    "finally:\n",
    "    print('Finally block')"
   ]
  },
  {
   "cell_type": "markdown",
   "id": "7779e37b-2e25-4647-8641-bd761f9ccd25",
   "metadata": {},
   "source": [
    "### Case_2\n",
    "- Exception is raised and handled"
   ]
  },
  {
   "cell_type": "code",
   "execution_count": 748,
   "id": "596c6406-bee2-455a-ae98-1d621461d9b7",
   "metadata": {},
   "outputs": [
    {
     "name": "stdout",
     "output_type": "stream",
     "text": [
      "Except block\n",
      "Finally block\n"
     ]
    }
   ],
   "source": [
    "try:\n",
    "    5/0\n",
    "    print('Try block')\n",
    "except:\n",
    "    print('Except block')\n",
    "else:\n",
    "    print('Else block')\n",
    "finally:\n",
    "    print('Finally block')"
   ]
  },
  {
   "cell_type": "markdown",
   "id": "d01adcdd-5450-4bfa-9bd1-f5f83255cc9b",
   "metadata": {},
   "source": [
    "### Case_3\n",
    "- Exception is raised but not handled"
   ]
  },
  {
   "cell_type": "code",
   "execution_count": 751,
   "id": "aa9f3809-def0-41b8-a3f7-50de00e89ea9",
   "metadata": {},
   "outputs": [
    {
     "name": "stdout",
     "output_type": "stream",
     "text": [
      "Finally block\n"
     ]
    },
    {
     "ename": "ZeroDivisionError",
     "evalue": "division by zero",
     "output_type": "error",
     "traceback": [
      "\u001b[1;31m---------------------------------------------------------------------------\u001b[0m",
      "\u001b[1;31mZeroDivisionError\u001b[0m                         Traceback (most recent call last)",
      "Cell \u001b[1;32mIn[751], line 2\u001b[0m\n\u001b[0;32m      1\u001b[0m \u001b[38;5;28;01mtry\u001b[39;00m:\n\u001b[1;32m----> 2\u001b[0m     \u001b[38;5;241m5\u001b[39m\u001b[38;5;241m/\u001b[39m\u001b[38;5;241m0\u001b[39m\n\u001b[0;32m      3\u001b[0m     \u001b[38;5;28mprint\u001b[39m(\u001b[38;5;124m'\u001b[39m\u001b[38;5;124mTry block\u001b[39m\u001b[38;5;124m'\u001b[39m)\n\u001b[0;32m      4\u001b[0m \u001b[38;5;28;01mexcept\u001b[39;00m \u001b[38;5;167;01mValueError\u001b[39;00m:\n",
      "\u001b[1;31mZeroDivisionError\u001b[0m: division by zero"
     ]
    }
   ],
   "source": [
    "try:\n",
    "    5/0\n",
    "    print('Try block')\n",
    "except ValueError:\n",
    "    print('Except block')\n",
    "else:\n",
    "    print('Else block')\n",
    "finally:\n",
    "    print('Finally block')"
   ]
  },
  {
   "cell_type": "code",
   "execution_count": 755,
   "id": "3637c8df-c5da-4a14-8e3d-79de8bd4d7eb",
   "metadata": {},
   "outputs": [],
   "source": [
    "# ATM Machine\n",
    "# PIN- Database coonection is established with the server\n",
    "# Transaction complete\n",
    "# Database disconnected"
   ]
  },
  {
   "cell_type": "code",
   "execution_count": 757,
   "id": "062ce052-5f57-492d-81e8-2c2f1cb210a3",
   "metadata": {},
   "outputs": [],
   "source": [
    "# ATM Machine\n",
    "# PIN- Database coonection is established with the server\n",
    "# Error\n",
    "# Database disconnected"
   ]
  },
  {
   "cell_type": "code",
   "execution_count": 769,
   "id": "be59299a-5e3e-4a0c-9f2b-08de6dc49810",
   "metadata": {},
   "outputs": [],
   "source": [
    "lst=[1000,2000,3000,4000]"
   ]
  },
  {
   "cell_type": "code",
   "execution_count": 771,
   "id": "4835641f-f6f0-451a-9d0f-70a941926ff3",
   "metadata": {},
   "outputs": [
    {
     "name": "stdout",
     "output_type": "stream",
     "text": [
      "3010874688880\n"
     ]
    }
   ],
   "source": [
    "print(id(lst[0]))"
   ]
  },
  {
   "cell_type": "code",
   "execution_count": 775,
   "id": "1c5b3e64-2def-418c-9768-4c18383c218c",
   "metadata": {},
   "outputs": [],
   "source": [
    "x=iter(lst)"
   ]
  },
  {
   "cell_type": "code",
   "execution_count": 777,
   "id": "48e9e5b1-55a8-4b8e-91cb-8c271a5c18ab",
   "metadata": {},
   "outputs": [
    {
     "data": {
      "text/plain": [
       "1000"
      ]
     },
     "execution_count": 777,
     "metadata": {},
     "output_type": "execute_result"
    }
   ],
   "source": [
    "next(x)"
   ]
  },
  {
   "cell_type": "code",
   "execution_count": 780,
   "id": "20c7bf77-4d5d-40d4-8c54-a4cc65d36635",
   "metadata": {},
   "outputs": [],
   "source": [
    "t=(i for i in [10,20,30,40])"
   ]
  },
  {
   "cell_type": "code",
   "execution_count": 782,
   "id": "cd0c6e75-a760-4c72-9d28-d04d16db6984",
   "metadata": {},
   "outputs": [
    {
     "data": {
      "text/plain": [
       "10"
      ]
     },
     "execution_count": 782,
     "metadata": {},
     "output_type": "execute_result"
    }
   ],
   "source": [
    "next(t)"
   ]
  },
  {
   "cell_type": "code",
   "execution_count": null,
   "id": "a73c05eb-ca6e-49e8-bef8-4436843be648",
   "metadata": {},
   "outputs": [],
   "source": []
  }
 ],
 "metadata": {
  "kernelspec": {
   "display_name": "Python 3 (ipykernel)",
   "language": "python",
   "name": "python3"
  },
  "language_info": {
   "codemirror_mode": {
    "name": "ipython",
    "version": 3
   },
   "file_extension": ".py",
   "mimetype": "text/x-python",
   "name": "python",
   "nbconvert_exporter": "python",
   "pygments_lexer": "ipython3",
   "version": "3.11.4"
  }
 },
 "nbformat": 4,
 "nbformat_minor": 5
}
