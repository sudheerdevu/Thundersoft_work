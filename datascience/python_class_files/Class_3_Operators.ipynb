{
 "cells": [
  {
   "cell_type": "markdown",
   "id": "20a609b4-c1f0-44e0-9688-b42ad51482d6",
   "metadata": {},
   "source": [
    "# Input Output Functions"
   ]
  },
  {
   "cell_type": "markdown",
   "id": "ba015eda-0123-4717-a122-0038ccf01f3b",
   "metadata": {},
   "source": [
    "### input()"
   ]
  },
  {
   "cell_type": "code",
   "execution_count": 1,
   "id": "d659ec7a-b04c-4830-8ce0-154bb48ba145",
   "metadata": {},
   "outputs": [],
   "source": [
    "# - It is used to take the input from the user at run time.\n",
    "# - It always returns a string object."
   ]
  },
  {
   "cell_type": "code",
   "execution_count": 4,
   "id": "b430d365-9dcc-4854-9aaf-333a73da5aa2",
   "metadata": {},
   "outputs": [
    {
     "name": "stdin",
     "output_type": "stream",
     "text": [
      "Enter a value-  {1,2,3}\n"
     ]
    },
    {
     "name": "stdout",
     "output_type": "stream",
     "text": [
      "{1,2,3} <class 'str'>\n"
     ]
    }
   ],
   "source": [
    "a=input('Enter a value- ')\n",
    "print(a,type(a))"
   ]
  },
  {
   "cell_type": "code",
   "execution_count": 6,
   "id": "038e5784-c28f-46db-9eeb-4cc194b01a3e",
   "metadata": {},
   "outputs": [
    {
     "name": "stdin",
     "output_type": "stream",
     "text": [
      "Enter a number-  2.5\n"
     ]
    },
    {
     "ename": "ValueError",
     "evalue": "invalid literal for int() with base 10: '2.5'",
     "output_type": "error",
     "traceback": [
      "\u001b[1;31m---------------------------------------------------------------------------\u001b[0m",
      "\u001b[1;31mValueError\u001b[0m                                Traceback (most recent call last)",
      "Cell \u001b[1;32mIn[6], line 1\u001b[0m\n\u001b[1;32m----> 1\u001b[0m a\u001b[38;5;241m=\u001b[39m\u001b[38;5;28mint\u001b[39m(\u001b[38;5;28minput\u001b[39m(\u001b[38;5;124m'\u001b[39m\u001b[38;5;124mEnter a number- \u001b[39m\u001b[38;5;124m'\u001b[39m))\n\u001b[0;32m      2\u001b[0m \u001b[38;5;28mprint\u001b[39m(a,\u001b[38;5;28mtype\u001b[39m(a))\n",
      "\u001b[1;31mValueError\u001b[0m: invalid literal for int() with base 10: '2.5'"
     ]
    }
   ],
   "source": [
    "a=int(input('Enter a number- '))\n",
    "print(a,type(a))"
   ]
  },
  {
   "cell_type": "code",
   "execution_count": 8,
   "id": "8f0b9aac-e9b5-4799-bbfc-23dd23e13895",
   "metadata": {},
   "outputs": [
    {
     "data": {
      "text/plain": [
       "2.5"
      ]
     },
     "execution_count": 8,
     "metadata": {},
     "output_type": "execute_result"
    }
   ],
   "source": [
    "float('2.5')"
   ]
  },
  {
   "cell_type": "markdown",
   "id": "c115f84b-5f74-4b1d-88ec-6a50846b7896",
   "metadata": {},
   "source": [
    "### eval()"
   ]
  },
  {
   "cell_type": "code",
   "execution_count": 9,
   "id": "ea19c676-d5f1-4aea-ab54-004c3278ebcc",
   "metadata": {},
   "outputs": [],
   "source": [
    "# - It takes a string as an input.\n",
    "# - It evaluates the type of the value that we have inside the string."
   ]
  },
  {
   "cell_type": "code",
   "execution_count": 10,
   "id": "ec6a2961-76e6-4657-af40-ea40593ba3e6",
   "metadata": {},
   "outputs": [
    {
     "name": "stdout",
     "output_type": "stream",
     "text": [
      "2 <class 'int'>\n"
     ]
    }
   ],
   "source": [
    "a=eval('2')\n",
    "print(a,type(a))"
   ]
  },
  {
   "cell_type": "code",
   "execution_count": 11,
   "id": "7ec8ab38-8bef-407b-a1da-e854a96ca800",
   "metadata": {},
   "outputs": [
    {
     "name": "stdout",
     "output_type": "stream",
     "text": [
      "2.5 <class 'float'>\n"
     ]
    }
   ],
   "source": [
    "a=eval('2.5')\n",
    "print(a,type(a))"
   ]
  },
  {
   "cell_type": "code",
   "execution_count": 12,
   "id": "ac7bd2b8-2ed7-429d-add5-c36863da72d9",
   "metadata": {},
   "outputs": [
    {
     "name": "stdout",
     "output_type": "stream",
     "text": [
      "True <class 'bool'>\n"
     ]
    }
   ],
   "source": [
    "a=eval('True')\n",
    "print(a,type(a))"
   ]
  },
  {
   "cell_type": "code",
   "execution_count": 17,
   "id": "b15dbc42-160e-4da1-b407-4e49f7ca2271",
   "metadata": {},
   "outputs": [
    {
     "ename": "NameError",
     "evalue": "name 'Hello' is not defined",
     "output_type": "error",
     "traceback": [
      "\u001b[1;31m---------------------------------------------------------------------------\u001b[0m",
      "\u001b[1;31mNameError\u001b[0m                                 Traceback (most recent call last)",
      "Cell \u001b[1;32mIn[17], line 1\u001b[0m\n\u001b[1;32m----> 1\u001b[0m a\u001b[38;5;241m=\u001b[39m\u001b[38;5;28meval\u001b[39m(\u001b[38;5;124m'\u001b[39m\u001b[38;5;124mHello\u001b[39m\u001b[38;5;124m'\u001b[39m)\n\u001b[0;32m      2\u001b[0m \u001b[38;5;28mprint\u001b[39m(a,\u001b[38;5;28mtype\u001b[39m(a))\n",
      "File \u001b[1;32m<string>:1\u001b[0m\n",
      "\u001b[1;31mNameError\u001b[0m: name 'Hello' is not defined"
     ]
    }
   ],
   "source": [
    "a=eval('Hello')\n",
    "print(a,type(a))"
   ]
  },
  {
   "cell_type": "code",
   "execution_count": 15,
   "id": "f78d36c6-298c-4ac5-8aa8-ae448b7284af",
   "metadata": {},
   "outputs": [
    {
     "data": {
      "text/plain": [
       "'Hello'"
      ]
     },
     "execution_count": 15,
     "metadata": {},
     "output_type": "execute_result"
    }
   ],
   "source": [
    "# eval('')- >\n",
    "\"Hello\""
   ]
  },
  {
   "cell_type": "code",
   "execution_count": 18,
   "id": "2a6f79f4-3f03-447d-abd9-e9ee33515c9a",
   "metadata": {},
   "outputs": [],
   "source": [
    "Hello=55"
   ]
  },
  {
   "cell_type": "code",
   "execution_count": 19,
   "id": "530492fc-31c0-4718-8ba5-1cf1a06bd809",
   "metadata": {},
   "outputs": [
    {
     "name": "stdout",
     "output_type": "stream",
     "text": [
      "55 <class 'int'>\n"
     ]
    }
   ],
   "source": [
    "a=eval('Hello')\n",
    "print(a,type(a))"
   ]
  },
  {
   "cell_type": "code",
   "execution_count": 20,
   "id": "f2d7acbe-75f5-41d7-9c5b-62f36cf6b204",
   "metadata": {},
   "outputs": [
    {
     "name": "stdout",
     "output_type": "stream",
     "text": [
      "Hello <class 'str'>\n"
     ]
    }
   ],
   "source": [
    "a=eval('\"Hello\"')\n",
    "print(a,type(a))"
   ]
  },
  {
   "cell_type": "code",
   "execution_count": 21,
   "id": "299eda7e-e931-4681-b605-56d6c8833167",
   "metadata": {},
   "outputs": [
    {
     "name": "stdout",
     "output_type": "stream",
     "text": [
      "Hello <class 'str'>\n"
     ]
    }
   ],
   "source": [
    "a=eval(\"'Hello'\")\n",
    "print(a,type(a))"
   ]
  },
  {
   "cell_type": "code",
   "execution_count": 25,
   "id": "325accd6-c795-49bc-a7b7-23a4e2f42366",
   "metadata": {},
   "outputs": [
    {
     "name": "stdin",
     "output_type": "stream",
     "text": [
      "Enter a number-  2.5\n"
     ]
    },
    {
     "name": "stdout",
     "output_type": "stream",
     "text": [
      "2.5 <class 'float'>\n"
     ]
    }
   ],
   "source": [
    "a=eval(input('Enter a number- '))\n",
    "print(a,type(a))"
   ]
  },
  {
   "cell_type": "code",
   "execution_count": 23,
   "id": "89d64244-16f2-4979-b943-f82b24ff5293",
   "metadata": {},
   "outputs": [
    {
     "data": {
      "text/plain": [
       "int"
      ]
     },
     "execution_count": 23,
     "metadata": {},
     "output_type": "execute_result"
    }
   ],
   "source": [
    "a=eval('6')\n",
    "type(a)"
   ]
  },
  {
   "cell_type": "markdown",
   "id": "ec986330-fc25-41b2-8f28-51559cea0902",
   "metadata": {},
   "source": [
    "# Output Functions"
   ]
  },
  {
   "cell_type": "code",
   "execution_count": 26,
   "id": "75e91765-4b5c-48ff-8e8f-afbbb668f159",
   "metadata": {},
   "outputs": [],
   "source": [
    "# - The functions that are used to print the output on the output area (console) are known as output functions."
   ]
  },
  {
   "cell_type": "markdown",
   "id": "d921896e-38b7-4a68-a71d-a579d7e2d0c7",
   "metadata": {},
   "source": [
    "## print()"
   ]
  },
  {
   "cell_type": "code",
   "execution_count": 28,
   "id": "7c9d405c-cde1-44b0-be8d-028561b13401",
   "metadata": {},
   "outputs": [],
   "source": [
    "# print() is an output function that prints the value on the output screen."
   ]
  },
  {
   "cell_type": "code",
   "execution_count": 29,
   "id": "14d2312a-7128-4cf2-a5d3-122a156b3d5c",
   "metadata": {},
   "outputs": [],
   "source": [
    "# print('Message')"
   ]
  },
  {
   "cell_type": "code",
   "execution_count": 30,
   "id": "46f6b666-923c-484b-87fd-9d5361ae1b11",
   "metadata": {},
   "outputs": [
    {
     "name": "stdout",
     "output_type": "stream",
     "text": [
      "Hello everyone!\n"
     ]
    }
   ],
   "source": [
    "print('Hello everyone!')"
   ]
  },
  {
   "cell_type": "code",
   "execution_count": 31,
   "id": "52059cd0-9753-4001-a2f1-d5dbbc02a70a",
   "metadata": {},
   "outputs": [
    {
     "name": "stdout",
     "output_type": "stream",
     "text": [
      "45\n"
     ]
    }
   ],
   "source": [
    "a=45\n",
    "print(a)"
   ]
  },
  {
   "cell_type": "code",
   "execution_count": 34,
   "id": "13974017-d242-4781-a49e-a142604943fc",
   "metadata": {},
   "outputs": [
    {
     "name": "stdout",
     "output_type": "stream",
     "text": [
      "a\n"
     ]
    }
   ],
   "source": [
    "print('a')"
   ]
  },
  {
   "cell_type": "code",
   "execution_count": 35,
   "id": "1d7948f7-7cbc-4fcd-b702-d71efc670f39",
   "metadata": {},
   "outputs": [
    {
     "name": "stdout",
     "output_type": "stream",
     "text": [
      "30\n"
     ]
    }
   ],
   "source": [
    "a=10\n",
    "b=20\n",
    "c=a+b\n",
    "print(c)"
   ]
  },
  {
   "cell_type": "code",
   "execution_count": 36,
   "id": "d5a2c5b1-6933-4fe4-846d-ce4f309cc20f",
   "metadata": {},
   "outputs": [],
   "source": [
    "# Ouput- Thre addtion is 30"
   ]
  },
  {
   "cell_type": "code",
   "execution_count": 37,
   "id": "001be203-21e9-49da-a8a7-3f94a388c3a9",
   "metadata": {},
   "outputs": [],
   "source": [
    "# print('Message',variable_name)"
   ]
  },
  {
   "cell_type": "code",
   "execution_count": 38,
   "id": "01969795-147c-49f5-8c65-ff9e85eb0283",
   "metadata": {},
   "outputs": [
    {
     "name": "stdout",
     "output_type": "stream",
     "text": [
      "The addition is 30\n"
     ]
    }
   ],
   "source": [
    "print('The addition is',c)"
   ]
  },
  {
   "cell_type": "code",
   "execution_count": 39,
   "id": "3a746e7f-358b-4fe2-bebc-58bff7758f6b",
   "metadata": {},
   "outputs": [],
   "source": [
    "# The addition of 10 and 20 is 30"
   ]
  },
  {
   "cell_type": "code",
   "execution_count": 42,
   "id": "4a49e665-04f3-4a25-bbf2-e2b48f49a3aa",
   "metadata": {},
   "outputs": [
    {
     "name": "stdout",
     "output_type": "stream",
     "text": [
      "The addition of 10 and 20 is 30\n"
     ]
    }
   ],
   "source": [
    "print(f'The addition of {a} and {b} is {c}')"
   ]
  },
  {
   "cell_type": "code",
   "execution_count": 44,
   "id": "f84d95a4-2448-4457-b449-2750dc603dbe",
   "metadata": {},
   "outputs": [
    {
     "name": "stdout",
     "output_type": "stream",
     "text": [
      "The addition of 10 and 20 is 30\n"
     ]
    }
   ],
   "source": [
    "print('The addition of {} and {} is {}'.format(a,b,c))"
   ]
  },
  {
   "cell_type": "markdown",
   "id": "6839875a-d71f-4d78-b4c0-ed5583dae383",
   "metadata": {},
   "source": [
    "### Format specifiers"
   ]
  },
  {
   "cell_type": "code",
   "execution_count": 45,
   "id": "3c0d0759-d438-498f-91ad-4937d54426f4",
   "metadata": {},
   "outputs": [],
   "source": [
    "# '%d'- int\n",
    "# '%.2f'- float\n",
    "# '%s'- string"
   ]
  },
  {
   "cell_type": "code",
   "execution_count": 50,
   "id": "e301c44f-9d51-49ae-8bef-3fabf60c73a6",
   "metadata": {},
   "outputs": [
    {
     "name": "stdout",
     "output_type": "stream",
     "text": [
      "2\n",
      "2.8654779999999999695603492000373080372810\n"
     ]
    }
   ],
   "source": [
    "a=2.865478\n",
    "print('%d'%a)\n",
    "print('%.40f'%a)"
   ]
  },
  {
   "cell_type": "code",
   "execution_count": 51,
   "id": "b124e15f-16b8-4cd4-86d3-1dc9725179fd",
   "metadata": {},
   "outputs": [
    {
     "data": {
      "text/plain": [
       "3"
      ]
     },
     "execution_count": 51,
     "metadata": {},
     "output_type": "execute_result"
    }
   ],
   "source": [
    "round(a)"
   ]
  },
  {
   "cell_type": "code",
   "execution_count": 62,
   "id": "64ff736d-41c6-4d8b-832b-96590edb06be",
   "metadata": {},
   "outputs": [
    {
     "name": "stdout",
     "output_type": "stream",
     "text": [
      "10, 20, 30, -10, 200\n"
     ]
    }
   ],
   "source": [
    "a=10\n",
    "b=20\n",
    "c=a+b\n",
    "d=a-b\n",
    "e=a*b\n",
    "\n",
    "print(a,b,c,d,e,sep=', ')"
   ]
  },
  {
   "cell_type": "code",
   "execution_count": 68,
   "id": "0a676f11-13ac-45dd-a5c4-c1d4e0a507dd",
   "metadata": {},
   "outputs": [
    {
     "name": "stdout",
     "output_type": "stream",
     "text": [
      "10 20,30+-10\n"
     ]
    }
   ],
   "source": [
    "a=10\n",
    "b=20\n",
    "c=a+b\n",
    "d=a-b\n",
    "e=a*b\n",
    "\n",
    "print(a,end=' ')\n",
    "print(b,end=',')\n",
    "print(c,end='+')\n",
    "print(d)"
   ]
  },
  {
   "cell_type": "code",
   "execution_count": 71,
   "id": "1b824c74-b87f-4bef-a3be-124fe704cd61",
   "metadata": {
    "scrolled": true
   },
   "outputs": [
    {
     "name": "stdout",
     "output_type": "stream",
     "text": [
      "5\n"
     ]
    }
   ],
   "source": [
    "a=5\n",
    "print(a)"
   ]
  },
  {
   "cell_type": "code",
   "execution_count": 72,
   "id": "b28fd290-6542-4f02-947f-4cf5d01b6ad2",
   "metadata": {},
   "outputs": [
    {
     "data": {
      "text/plain": [
       "8"
      ]
     },
     "execution_count": 72,
     "metadata": {},
     "output_type": "execute_result"
    }
   ],
   "source": [
    "a=8\n",
    "a"
   ]
  },
  {
   "cell_type": "markdown",
   "id": "07e07839-2853-4d53-9f1e-0c8243902cc6",
   "metadata": {},
   "source": [
    "# Operators"
   ]
  },
  {
   "cell_type": "code",
   "execution_count": 73,
   "id": "9ddf99a7-99c5-4542-8f9f-9c719abc263e",
   "metadata": {},
   "outputs": [],
   "source": [
    "# - These are some mathematical or special characters that are used to perform different kind of operations on operands."
   ]
  },
  {
   "cell_type": "code",
   "execution_count": 76,
   "id": "18b9df87-8d83-4337-833b-81407ce34f83",
   "metadata": {},
   "outputs": [],
   "source": [
    "# Arithmetic Operators\n",
    "# Logical Operators\n",
    "# Comparison Operators\n",
    "# Equality Operators\n",
    "# Assignment Operators\n",
    "# Memership Operators\n",
    "# Identity Operators\n",
    "# Bitwise Operators\n",
    "# Ternary Operator\n",
    "# Compound Operators"
   ]
  },
  {
   "cell_type": "markdown",
   "id": "9d66bc61-a6d0-4c40-ab7d-347dafe81063",
   "metadata": {},
   "source": [
    "# Arithmetic Operators"
   ]
  },
  {
   "cell_type": "code",
   "execution_count": 77,
   "id": "cf1ddb6e-1407-4392-a67e-8686d58ed156",
   "metadata": {},
   "outputs": [],
   "source": [
    "# These operators are used to perform the arithmetic operations."
   ]
  },
  {
   "cell_type": "code",
   "execution_count": 78,
   "id": "c8efeaf3-1ba5-4bfa-918c-3ab10aa6be80",
   "metadata": {},
   "outputs": [],
   "source": [
    "# + addtion\n",
    "# - subtraction\n",
    "# * multiplication\n",
    "# / float division\n",
    "# // floor division\n",
    "# % modulo (Remainder after the floor division)\n",
    "# ** exponent"
   ]
  },
  {
   "cell_type": "code",
   "execution_count": 85,
   "id": "3922f9a3-b2be-4802-a499-76ddd12f377b",
   "metadata": {},
   "outputs": [
    {
     "name": "stdout",
     "output_type": "stream",
     "text": [
      "8\n",
      "2\n",
      "15\n",
      "1.6666666666666667\n",
      "1\n",
      "2\n"
     ]
    }
   ],
   "source": [
    "a=5\n",
    "b=3\n",
    "print(a+b)\n",
    "print(a-b)\n",
    "print(a*b)\n",
    "print(a/b)\n",
    "print(a//b) # int / floor division\n",
    "print(a%b) # remainder"
   ]
  },
  {
   "cell_type": "code",
   "execution_count": 86,
   "id": "4f6866db-a347-4831-aadf-29c493b286ae",
   "metadata": {},
   "outputs": [],
   "source": [
    "# a**b -> a raise to the power b"
   ]
  },
  {
   "cell_type": "code",
   "execution_count": 89,
   "id": "4258fa17-edc8-4169-ada0-cb5c4b24b2a3",
   "metadata": {},
   "outputs": [
    {
     "name": "stdout",
     "output_type": "stream",
     "text": [
      "9\n",
      "64\n",
      "125\n"
     ]
    }
   ],
   "source": [
    "print(3**2)\n",
    "print(2**6)\n",
    "print(a**b)"
   ]
  },
  {
   "cell_type": "code",
   "execution_count": 93,
   "id": "6d7a44e9-c0eb-4cce-89e0-9d749e57626f",
   "metadata": {},
   "outputs": [
    {
     "name": "stdout",
     "output_type": "stream",
     "text": [
      "5/2= 2.5\n"
     ]
    }
   ],
   "source": [
    "print('5/2=',5/2)"
   ]
  },
  {
   "cell_type": "code",
   "execution_count": 96,
   "id": "8caa860d-102e-4dd2-9491-4083dcaf283d",
   "metadata": {},
   "outputs": [
    {
     "name": "stdout",
     "output_type": "stream",
     "text": [
      "2³= 8\n"
     ]
    }
   ],
   "source": [
    "print('2'+chr(179)+'=',2**3)"
   ]
  },
  {
   "cell_type": "markdown",
   "id": "a8bc5044-70b8-4eb6-acef-e6d4f660b4fe",
   "metadata": {},
   "source": [
    "# Logical Operators"
   ]
  },
  {
   "cell_type": "code",
   "execution_count": 92,
   "id": "73f988cc-8227-4845-a4e2-79e8275d38ad",
   "metadata": {},
   "outputs": [],
   "source": [
    "# - These operators are used to perform logical operations.\n",
    "# - These operators follow the truth table\n",
    "# - These operators always return a boolean value."
   ]
  },
  {
   "cell_type": "code",
   "execution_count": 91,
   "id": "3468d34d-e7b9-4c27-9ad9-4d9b327c1957",
   "metadata": {},
   "outputs": [],
   "source": [
    "# and\n",
    "# or\n",
    "# not"
   ]
  },
  {
   "cell_type": "markdown",
   "id": "521939a7-1f1d-49a4-8f14-33aa129b2854",
   "metadata": {},
   "source": [
    "# and"
   ]
  },
  {
   "cell_type": "code",
   "execution_count": 109,
   "id": "370fbd92-8658-4c12-8709-d18568ea7c16",
   "metadata": {},
   "outputs": [],
   "source": [
    "# - It looks for False.\n",
    "# - As soon as it gets False then it returns False.\n",
    "# - If there is no False then it returns the last True.\n",
    "# - True and True is True else False."
   ]
  },
  {
   "cell_type": "code",
   "execution_count": 101,
   "id": "492accb6-4336-41fe-85e9-f55461d57d7c",
   "metadata": {},
   "outputs": [
    {
     "name": "stdout",
     "output_type": "stream",
     "text": [
      "True\n",
      "False\n",
      "False\n",
      "False\n"
     ]
    }
   ],
   "source": [
    "print(True and True)\n",
    "print(True and False)\n",
    "print(False and True)\n",
    "print(False and False)"
   ]
  },
  {
   "cell_type": "code",
   "execution_count": 104,
   "id": "a6259076-1c0c-427c-90b8-5cf3a6460ae3",
   "metadata": {},
   "outputs": [
    {
     "data": {
      "text/plain": [
       "(True, False)"
      ]
     },
     "execution_count": 104,
     "metadata": {},
     "output_type": "execute_result"
    }
   ],
   "source": [
    "bool('Hello'),bool([])"
   ]
  },
  {
   "cell_type": "code",
   "execution_count": 108,
   "id": "94958daa-74b2-46cd-84f4-af223af051e5",
   "metadata": {},
   "outputs": [
    {
     "name": "stdout",
     "output_type": "stream",
     "text": [
      "6\n",
      "[]\n",
      "{}\n",
      "()\n"
     ]
    }
   ],
   "source": [
    "print(2 and 6)\n",
    "print('Hello' and [])\n",
    "print({} and (1,2,3,4))\n",
    "print(() and [])"
   ]
  },
  {
   "cell_type": "markdown",
   "id": "1ce233ad-40d4-49bd-b3f0-e6d19b4dd17e",
   "metadata": {},
   "source": [
    "# or"
   ]
  },
  {
   "cell_type": "code",
   "execution_count": 119,
   "id": "fe5d5598-0d83-4434-9670-4dcc4fbf4732",
   "metadata": {},
   "outputs": [],
   "source": [
    "# - It looks for True.\n",
    "# - As soon as it gets True, it returns True.\n",
    "# - If there is no True then it returns the last False.\n",
    "# - False or False is False else True."
   ]
  },
  {
   "cell_type": "code",
   "execution_count": 114,
   "id": "8a0d0ff8-a826-4ec9-b403-bc24cf676306",
   "metadata": {},
   "outputs": [
    {
     "name": "stdout",
     "output_type": "stream",
     "text": [
      "True\n",
      "True\n",
      "True\n",
      "False\n"
     ]
    }
   ],
   "source": [
    "print(True or True)\n",
    "print(True or False)\n",
    "print(False or True)\n",
    "print(False or False)"
   ]
  },
  {
   "cell_type": "code",
   "execution_count": 118,
   "id": "5b09f4ec-ede1-42ab-8f02-7717192b9e9b",
   "metadata": {},
   "outputs": [
    {
     "name": "stdout",
     "output_type": "stream",
     "text": [
      "10\n",
      "2.5\n",
      "[1, 2, 3]\n",
      "{}\n"
     ]
    }
   ],
   "source": [
    "print(10 or 20)\n",
    "print(2.5 or 0.0)\n",
    "print({} or [1,2,3])\n",
    "print([] or {})"
   ]
  },
  {
   "cell_type": "markdown",
   "id": "8a0e6d8f-9ca7-47a9-afdf-7fb27413bcb5",
   "metadata": {},
   "source": [
    "# not"
   ]
  },
  {
   "cell_type": "code",
   "execution_count": 120,
   "id": "fedfcdd0-4b7a-42df-b7de-ed9e66adaefa",
   "metadata": {},
   "outputs": [],
   "source": [
    "# - It is a unary operator as it operates on a single operand.\n",
    "# - It returns the opposite."
   ]
  },
  {
   "cell_type": "code",
   "execution_count": 122,
   "id": "7449bd03-ec9b-4d4b-9572-231c37ce3287",
   "metadata": {},
   "outputs": [
    {
     "name": "stdout",
     "output_type": "stream",
     "text": [
      "True\n",
      "False\n"
     ]
    }
   ],
   "source": [
    "print(not False)\n",
    "print(not True)"
   ]
  },
  {
   "cell_type": "markdown",
   "id": "2d793308-c100-40d4-b681-2c95f0845475",
   "metadata": {},
   "source": [
    "# Comparison Operators"
   ]
  },
  {
   "cell_type": "code",
   "execution_count": 124,
   "id": "bc5aa49f-95f5-4862-ae39-bf2ef167da41",
   "metadata": {},
   "outputs": [],
   "source": [
    "# - These opeartors compare the similar type of values (numerical or string)\n",
    "# - These operators return a boolean value."
   ]
  },
  {
   "cell_type": "code",
   "execution_count": 126,
   "id": "68eb4d13-5e28-4642-9eb1-3e283790d4a2",
   "metadata": {},
   "outputs": [],
   "source": [
    "# < less than\n",
    "# > greater than\n",
    "# <= less than equal to\n",
    "# >= greater than equal to"
   ]
  },
  {
   "cell_type": "code",
   "execution_count": 134,
   "id": "1b8bdd29-36dd-408c-bd4d-8b97c7bcd908",
   "metadata": {},
   "outputs": [
    {
     "name": "stdout",
     "output_type": "stream",
     "text": [
      "True\n",
      "True\n",
      "False\n",
      "False\n",
      "True\n",
      "True\n",
      "True\n",
      "True\n"
     ]
    }
   ],
   "source": [
    "print(5<7)\n",
    "print(7>4)\n",
    "print(6<2)\n",
    "print(8>16)\n",
    "print(6>=4)\n",
    "print(6>=6)\n",
    "print(2<=4)\n",
    "print(4<=4)"
   ]
  },
  {
   "cell_type": "code",
   "execution_count": 136,
   "id": "9d77bcbd-b05d-4551-b567-db2924bcb6f6",
   "metadata": {},
   "outputs": [
    {
     "name": "stdout",
     "output_type": "stream",
     "text": [
      "False\n",
      "False\n"
     ]
    }
   ],
   "source": [
    "print(6>=8)\n",
    "print(6<=4)"
   ]
  },
  {
   "cell_type": "code",
   "execution_count": 137,
   "id": "d74a7260-ad60-4c0f-9eb9-458a78f6e764",
   "metadata": {},
   "outputs": [],
   "source": [
    "# Numeric with numeric (Possible)\n",
    "# String with string (Possible)\n",
    "# numeric with string or vice versa (Not possible) -> Type Error"
   ]
  },
  {
   "cell_type": "code",
   "execution_count": 139,
   "id": "403a1c4f-e714-410a-b9a5-dfb8eea7c533",
   "metadata": {},
   "outputs": [
    {
     "name": "stdout",
     "output_type": "stream",
     "text": [
      "True\n",
      "True\n"
     ]
    }
   ],
   "source": [
    "print(2<=2.5)\n",
    "print(2.8<=2.89)"
   ]
  },
  {
   "cell_type": "code",
   "execution_count": 140,
   "id": "c509aeb9-69d7-4d7f-af4c-18082c7f650e",
   "metadata": {},
   "outputs": [
    {
     "ename": "TypeError",
     "evalue": "'>' not supported between instances of 'str' and 'int'",
     "output_type": "error",
     "traceback": [
      "\u001b[1;31m---------------------------------------------------------------------------\u001b[0m",
      "\u001b[1;31mTypeError\u001b[0m                                 Traceback (most recent call last)",
      "Cell \u001b[1;32mIn[140], line 1\u001b[0m\n\u001b[1;32m----> 1\u001b[0m \u001b[38;5;28mprint\u001b[39m(\u001b[38;5;124m'\u001b[39m\u001b[38;5;124ma\u001b[39m\u001b[38;5;124m'\u001b[39m\u001b[38;5;241m>\u001b[39m\u001b[38;5;241m5\u001b[39m)\n",
      "\u001b[1;31mTypeError\u001b[0m: '>' not supported between instances of 'str' and 'int'"
     ]
    }
   ],
   "source": [
    "print('a'>5)"
   ]
  },
  {
   "cell_type": "code",
   "execution_count": 141,
   "id": "c874e267-5e92-4ec5-9a47-66a939b10f9c",
   "metadata": {},
   "outputs": [
    {
     "name": "stdout",
     "output_type": "stream",
     "text": [
      "True\n"
     ]
    }
   ],
   "source": [
    "print('a'<'k')"
   ]
  },
  {
   "cell_type": "code",
   "execution_count": 143,
   "id": "0b6e2155-2f77-4451-9f08-de24b47b7c04",
   "metadata": {},
   "outputs": [],
   "source": [
    "# When we compare the string characters then the ASCII values are compared."
   ]
  },
  {
   "cell_type": "code",
   "execution_count": 145,
   "id": "63b9efbc-648d-442b-9a60-fd33f6739ee2",
   "metadata": {},
   "outputs": [],
   "source": [
    "# ASCII- American Standard Code for Information Interchange."
   ]
  },
  {
   "cell_type": "code",
   "execution_count": 146,
   "id": "a6ea75c2-ea96-47ae-bed6-26b18f34da49",
   "metadata": {},
   "outputs": [],
   "source": [
    "# ord('character')- It will returns the ASCII value of a particular character."
   ]
  },
  {
   "cell_type": "code",
   "execution_count": 147,
   "id": "80aefbe3-7a2a-4f63-b323-ce568091f7d7",
   "metadata": {},
   "outputs": [],
   "source": [
    "# chr(ASCII value)- It returns the character at that particular ASCIII value."
   ]
  },
  {
   "cell_type": "code",
   "execution_count": 148,
   "id": "160a8b66-5e4b-4029-9088-3cb2105de17b",
   "metadata": {},
   "outputs": [
    {
     "name": "stdout",
     "output_type": "stream",
     "text": [
      "True\n"
     ]
    }
   ],
   "source": [
    "print('a'>'A')"
   ]
  },
  {
   "cell_type": "code",
   "execution_count": 149,
   "id": "036be9ab-ad96-498f-a405-9a98b866cd22",
   "metadata": {},
   "outputs": [
    {
     "data": {
      "text/plain": [
       "(97, 65)"
      ]
     },
     "execution_count": 149,
     "metadata": {},
     "output_type": "execute_result"
    }
   ],
   "source": [
    "ord('a'),ord('A')"
   ]
  },
  {
   "cell_type": "code",
   "execution_count": 150,
   "id": "eca80e74-4aca-4186-b4f7-24e496c294c6",
   "metadata": {},
   "outputs": [],
   "source": [
    "# A to Z -> 65 to 90\n",
    "# a to z -> 97 to 122"
   ]
  },
  {
   "cell_type": "code",
   "execution_count": 151,
   "id": "0d0841a3-4430-47a4-b5d5-bdfc2f6a5039",
   "metadata": {},
   "outputs": [
    {
     "name": "stdout",
     "output_type": "stream",
     "text": [
      "True\n"
     ]
    }
   ],
   "source": [
    "print('#'<'a')"
   ]
  },
  {
   "cell_type": "code",
   "execution_count": 152,
   "id": "028e9b7f-eb73-47b0-b6e2-6b0096271000",
   "metadata": {},
   "outputs": [
    {
     "data": {
      "text/plain": [
       "35"
      ]
     },
     "execution_count": 152,
     "metadata": {},
     "output_type": "execute_result"
    }
   ],
   "source": [
    "ord('#')"
   ]
  },
  {
   "cell_type": "code",
   "execution_count": 153,
   "id": "8bf06744-a8d3-4ed1-9ea1-43001bd4d9fd",
   "metadata": {},
   "outputs": [
    {
     "data": {
      "text/plain": [
       "49"
      ]
     },
     "execution_count": 153,
     "metadata": {},
     "output_type": "execute_result"
    }
   ],
   "source": [
    "ord('1')"
   ]
  },
  {
   "cell_type": "code",
   "execution_count": 155,
   "id": "09aab7f0-0d37-43b1-be19-ff0915783eca",
   "metadata": {},
   "outputs": [
    {
     "name": "stdout",
     "output_type": "stream",
     "text": [
      "33 !\n",
      "34 \"\n",
      "35 #\n",
      "36 $\n",
      "37 %\n",
      "38 &\n",
      "39 '\n",
      "40 (\n",
      "41 )\n",
      "42 *\n",
      "43 +\n",
      "44 ,\n",
      "45 -\n",
      "46 .\n",
      "47 /\n",
      "48 0\n",
      "49 1\n",
      "50 2\n",
      "51 3\n",
      "52 4\n",
      "53 5\n",
      "54 6\n",
      "55 7\n",
      "56 8\n",
      "57 9\n",
      "58 :\n",
      "59 ;\n",
      "60 <\n",
      "61 =\n",
      "62 >\n",
      "63 ?\n",
      "64 @\n",
      "65 A\n",
      "66 B\n",
      "67 C\n",
      "68 D\n",
      "69 E\n",
      "70 F\n",
      "71 G\n",
      "72 H\n",
      "73 I\n",
      "74 J\n",
      "75 K\n",
      "76 L\n",
      "77 M\n",
      "78 N\n",
      "79 O\n",
      "80 P\n",
      "81 Q\n",
      "82 R\n",
      "83 S\n",
      "84 T\n",
      "85 U\n",
      "86 V\n",
      "87 W\n",
      "88 X\n",
      "89 Y\n",
      "90 Z\n",
      "91 [\n",
      "92 \\\n",
      "93 ]\n",
      "94 ^\n",
      "95 _\n",
      "96 `\n",
      "97 a\n",
      "98 b\n",
      "99 c\n",
      "100 d\n",
      "101 e\n",
      "102 f\n",
      "103 g\n",
      "104 h\n",
      "105 i\n",
      "106 j\n",
      "107 k\n",
      "108 l\n",
      "109 m\n",
      "110 n\n",
      "111 o\n",
      "112 p\n",
      "113 q\n",
      "114 r\n",
      "115 s\n",
      "116 t\n",
      "117 u\n",
      "118 v\n",
      "119 w\n",
      "120 x\n",
      "121 y\n",
      "122 z\n"
     ]
    }
   ],
   "source": [
    "for i in range(33,123):\n",
    "    print(i,chr(i))"
   ]
  },
  {
   "cell_type": "code",
   "execution_count": 156,
   "id": "ebd7f47b-865f-43da-b9b7-4b346f74af4d",
   "metadata": {},
   "outputs": [
    {
     "name": "stdout",
     "output_type": "stream",
     "text": [
      "True\n"
     ]
    }
   ],
   "source": [
    "print('Amit'<'Suresh')"
   ]
  },
  {
   "cell_type": "code",
   "execution_count": 158,
   "id": "47022071-08c8-4175-b79a-a5ad6bc7eb06",
   "metadata": {},
   "outputs": [
    {
     "name": "stdout",
     "output_type": "stream",
     "text": [
      "True\n"
     ]
    }
   ],
   "source": [
    "print('Grasshopper'<'Zebra')"
   ]
  },
  {
   "cell_type": "code",
   "execution_count": 159,
   "id": "5df13e42-e9ab-4834-a771-ffef3b44a09c",
   "metadata": {},
   "outputs": [
    {
     "name": "stdout",
     "output_type": "stream",
     "text": [
      "False\n"
     ]
    }
   ],
   "source": [
    "print('grasshopper'<'Zebra')"
   ]
  },
  {
   "cell_type": "code",
   "execution_count": 160,
   "id": "83c6f2a1-3e74-4ca8-98e0-ffe30936e2eb",
   "metadata": {},
   "outputs": [
    {
     "name": "stdout",
     "output_type": "stream",
     "text": [
      "True\n"
     ]
    }
   ],
   "source": [
    "print('Poland'<'Polish')"
   ]
  },
  {
   "cell_type": "code",
   "execution_count": 164,
   "id": "36b893b5-e2c9-49c7-aea8-788c0bd44c60",
   "metadata": {},
   "outputs": [
    {
     "name": "stdout",
     "output_type": "stream",
     "text": [
      "False\n"
     ]
    }
   ],
   "source": [
    "print('Polland'<'Polish')"
   ]
  },
  {
   "cell_type": "markdown",
   "id": "dc1b49f3-bb14-46f9-8ad2-d0cd0696d84c",
   "metadata": {},
   "source": [
    "# Equality Operators"
   ]
  },
  {
   "cell_type": "code",
   "execution_count": 165,
   "id": "9854506d-0c08-4ee0-a945-2de8720a6fae",
   "metadata": {},
   "outputs": [],
   "source": [
    "# - These operators check whether two values are of same type and magnitude.\n",
    "# - These operators return boolean values."
   ]
  },
  {
   "cell_type": "code",
   "execution_count": 166,
   "id": "1e7b623f-b8ee-4e0d-948d-baa68283aef4",
   "metadata": {},
   "outputs": [],
   "source": [
    "# == equal to equal to\n",
    "# != not equal to"
   ]
  },
  {
   "cell_type": "markdown",
   "id": "cb6581e2-d5fb-4f97-9cda-bcdc0d7b5044",
   "metadata": {},
   "source": [
    "# == equal to equal to"
   ]
  },
  {
   "cell_type": "code",
   "execution_count": 168,
   "id": "6afa117e-4d41-4b41-aaa3-cd866be0cb2f",
   "metadata": {},
   "outputs": [],
   "source": [
    "# - If two values are the same in magnitute then it returns True else False.\n",
    "# - If comparison is not possible bcause of the type difference then also it returns False."
   ]
  },
  {
   "cell_type": "code",
   "execution_count": 173,
   "id": "d5c02bd2-85a9-443e-9d54-a21322391610",
   "metadata": {},
   "outputs": [
    {
     "name": "stdout",
     "output_type": "stream",
     "text": [
      "True\n",
      "True\n",
      "False\n",
      "False\n"
     ]
    }
   ],
   "source": [
    "print(5==5)\n",
    "print(5==5.0)\n",
    "print(5=='Hello')\n",
    "print(5+6j==4)"
   ]
  },
  {
   "cell_type": "markdown",
   "id": "f408dccd-4da1-4c9b-948a-0ad3107a5e70",
   "metadata": {},
   "source": [
    "# != not equal to"
   ]
  },
  {
   "cell_type": "code",
   "execution_count": 174,
   "id": "4d4d3ed5-4d2d-439f-8a8e-816db3bf2a6a",
   "metadata": {},
   "outputs": [],
   "source": [
    "# - If two values are not the same in magnitute then it returns True else False.\n",
    "# - If comparison is not possible bcause of the type difference then it returns True."
   ]
  },
  {
   "cell_type": "code",
   "execution_count": 178,
   "id": "af77ce60-6c29-4b60-b1fa-d92ce9b1e800",
   "metadata": {},
   "outputs": [
    {
     "name": "stdout",
     "output_type": "stream",
     "text": [
      "True\n",
      "False\n",
      "True\n",
      "True\n"
     ]
    }
   ],
   "source": [
    "print(5!=4)\n",
    "print(5!=5)\n",
    "print(5!='Python')\n",
    "print(5+5j!=[1,2,3,4,5])"
   ]
  },
  {
   "cell_type": "markdown",
   "id": "6930ba3e-90d4-4aa3-bbb9-59c0d74b961f",
   "metadata": {},
   "source": [
    "# Assignment Operator"
   ]
  },
  {
   "cell_type": "markdown",
   "id": "9ca43ff6-0adb-4c41-b837-c0041a0fb0ef",
   "metadata": {},
   "source": [
    "# = equal to"
   ]
  },
  {
   "cell_type": "code",
   "execution_count": 179,
   "id": "af91a0cf-37b8-47a7-9ecd-f586f241f20d",
   "metadata": {},
   "outputs": [],
   "source": [
    "# - It is used to assign a value to a variable."
   ]
  },
  {
   "cell_type": "code",
   "execution_count": 180,
   "id": "88e701d0-905b-4d94-b801-cf040f6b6926",
   "metadata": {},
   "outputs": [],
   "source": [
    "a=5"
   ]
  },
  {
   "cell_type": "code",
   "execution_count": null,
   "id": "3215acc4-1050-499c-82e0-181d76077d59",
   "metadata": {},
   "outputs": [],
   "source": [
    "a=5 # Assigning 5 to a\n",
    "a==5 # Checking if the value of a is equal to 5 or not"
   ]
  },
  {
   "cell_type": "markdown",
   "id": "b15bd1ad-6f48-46bb-940b-d98029d61387",
   "metadata": {},
   "source": [
    "# Membership Operators"
   ]
  },
  {
   "cell_type": "code",
   "execution_count": 181,
   "id": "11dd7b7e-2d2a-48db-b8b2-956563d56219",
   "metadata": {},
   "outputs": [],
   "source": [
    "# - These operators check whether some value is the part of a container or not.\n",
    "# - These operators always return a boolean value."
   ]
  },
  {
   "cell_type": "code",
   "execution_count": 182,
   "id": "4e8d15fc-7a60-4567-9bb1-4607ab82c8e0",
   "metadata": {},
   "outputs": [],
   "source": [
    "# in\n",
    "# not in"
   ]
  },
  {
   "cell_type": "markdown",
   "id": "e3a61434-5f4d-4825-93fe-8b03f1900e8d",
   "metadata": {},
   "source": [
    "# in"
   ]
  },
  {
   "cell_type": "code",
   "execution_count": 183,
   "id": "bb4e31a9-2298-4a93-9c8d-a3e30115a0f7",
   "metadata": {},
   "outputs": [],
   "source": [
    "# If a value is a part of a container then it returns True else False."
   ]
  },
  {
   "cell_type": "code",
   "execution_count": 188,
   "id": "39d5e828-08cb-4e15-a7ed-2521e5f0e93f",
   "metadata": {},
   "outputs": [
    {
     "name": "stdout",
     "output_type": "stream",
     "text": [
      "True\n",
      "True\n",
      "True\n",
      "True\n",
      "False\n"
     ]
    }
   ],
   "source": [
    "a='Python'\n",
    "print('h' in a)\n",
    "print('ho' in a)\n",
    "print('t' in a)\n",
    "print('y' in a)\n",
    "print('ty' in a)"
   ]
  },
  {
   "cell_type": "code",
   "execution_count": 189,
   "id": "0fcd9a36-8324-40c1-b548-a46c2e4d4e98",
   "metadata": {},
   "outputs": [
    {
     "name": "stdout",
     "output_type": "stream",
     "text": [
      "True\n"
     ]
    }
   ],
   "source": [
    "print(True in [10,20,'Hello', True, None, 8+7j, 5000])"
   ]
  },
  {
   "cell_type": "code",
   "execution_count": 192,
   "id": "7e49a598-7849-47ca-b498-38875d86e097",
   "metadata": {},
   "outputs": [
    {
     "name": "stdout",
     "output_type": "stream",
     "text": [
      "False\n",
      "True\n",
      "True\n"
     ]
    }
   ],
   "source": [
    "d={1:100,2:200,3:300,4:400}\n",
    "print(400 in d)\n",
    "print(2 in d)\n",
    "print(400 in d.values())"
   ]
  },
  {
   "cell_type": "markdown",
   "id": "bb5001ac-666d-4d62-a3ed-b642ba1278f4",
   "metadata": {},
   "source": [
    "# not in"
   ]
  },
  {
   "cell_type": "code",
   "execution_count": 193,
   "id": "6f107d7b-e9e7-4d59-aee4-4555120d3f0a",
   "metadata": {},
   "outputs": [],
   "source": [
    "# - If a value is not the part of a container type then it returns True else False."
   ]
  },
  {
   "cell_type": "code",
   "execution_count": 198,
   "id": "ce6803a2-e048-4ed6-b41d-abac59362f91",
   "metadata": {},
   "outputs": [
    {
     "name": "stdout",
     "output_type": "stream",
     "text": [
      "True\n",
      "False\n",
      "True\n",
      "True\n"
     ]
    }
   ],
   "source": [
    "print('K' not in 'Python')\n",
    "print('hon' not in 'Python')\n",
    "print('Hon' not in 'Python')\n",
    "print('H' not in 'Python')"
   ]
  },
  {
   "cell_type": "code",
   "execution_count": 200,
   "id": "5b1d1f68-a533-462e-8962-a7d658b53d68",
   "metadata": {},
   "outputs": [
    {
     "name": "stdout",
     "output_type": "stream",
     "text": [
      "True\n"
     ]
    }
   ],
   "source": [
    "a='Python'\n",
    "b='H'\n",
    "print(b.lower() in a.lower())"
   ]
  },
  {
   "cell_type": "markdown",
   "id": "3b4fc8ae-2892-4a67-8696-b604542022da",
   "metadata": {},
   "source": [
    "# Identity Operators"
   ]
  },
  {
   "cell_type": "code",
   "execution_count": 201,
   "id": "0a18ada6-7714-41a6-841a-e590ff979e20",
   "metadata": {},
   "outputs": [],
   "source": [
    "# - These operators compare the memory addresses of the values.\n",
    "# - Note- These operators do not compare the values.\n",
    "# - These opeartors return a boolean value."
   ]
  },
  {
   "cell_type": "code",
   "execution_count": 202,
   "id": "ec7f550e-0626-4967-98a9-52dc0b38503d",
   "metadata": {},
   "outputs": [],
   "source": [
    "# is \n",
    "# is not"
   ]
  },
  {
   "cell_type": "markdown",
   "id": "832842c5-69a3-4b95-9ba3-f9ecdb6b7a16",
   "metadata": {},
   "source": [
    "# is"
   ]
  },
  {
   "cell_type": "code",
   "execution_count": 203,
   "id": "05b6979b-07b7-4d64-9c5c-f386c5cbc104",
   "metadata": {},
   "outputs": [],
   "source": [
    "# - If two values have the same memory address then it returns True else False."
   ]
  },
  {
   "cell_type": "code",
   "execution_count": 206,
   "id": "76efb278-9395-4138-b16d-fa4f4bf80585",
   "metadata": {},
   "outputs": [
    {
     "name": "stdout",
     "output_type": "stream",
     "text": [
      "True\n",
      "140710433768520\n",
      "140710433768520\n"
     ]
    }
   ],
   "source": [
    "a=10\n",
    "b=10\n",
    "\n",
    "print(a is b)\n",
    "print(id(a))\n",
    "print(id(b))"
   ]
  },
  {
   "cell_type": "code",
   "execution_count": 208,
   "id": "a428b4ff-ac8b-4269-b7a9-632671d380a3",
   "metadata": {},
   "outputs": [
    {
     "name": "stdout",
     "output_type": "stream",
     "text": [
      "False\n",
      "1907443186800\n",
      "1907456947984\n"
     ]
    }
   ],
   "source": [
    "a=2.8\n",
    "b=2.8\n",
    "print(a is b)\n",
    "print(id(a))\n",
    "print(id(b))"
   ]
  },
  {
   "cell_type": "markdown",
   "id": "de57e11c-a9e6-4db9-8556-dd640e0bba1b",
   "metadata": {},
   "source": [
    "### Object Reusability"
   ]
  },
  {
   "cell_type": "code",
   "execution_count": 209,
   "id": "7f155a44-3f2e-47d4-9c44-0ee99a0a85ac",
   "metadata": {},
   "outputs": [],
   "source": [
    "# int -> -5 to 256\n",
    "# alphbets -> A to Z and a to z\n",
    "# None\n",
    "# Boolean -> True and False\n",
    "\n",
    "# Float, Complex or any derived datatypes do not follow the object reusability concept."
   ]
  },
  {
   "cell_type": "code",
   "execution_count": 211,
   "id": "b021f901-0f30-480a-bbbd-da2b237cfa2a",
   "metadata": {},
   "outputs": [
    {
     "name": "stdout",
     "output_type": "stream",
     "text": [
      "True\n",
      "140710432295488\n",
      "140710432295488\n"
     ]
    }
   ],
   "source": [
    "a=True\n",
    "b=True\n",
    "print(a is b)\n",
    "print(id(a))\n",
    "print(id(b))"
   ]
  },
  {
   "cell_type": "code",
   "execution_count": 213,
   "id": "a5e41d1f-18b3-4af4-9e98-ae149fda2d23",
   "metadata": {},
   "outputs": [
    {
     "name": "stdout",
     "output_type": "stream",
     "text": [
      "True\n",
      "140710433773160\n",
      "140710433773160\n"
     ]
    }
   ],
   "source": [
    "a=155\n",
    "b=155\n",
    "print(a is b)\n",
    "print(id(a))\n",
    "print(id(b))"
   ]
  },
  {
   "cell_type": "code",
   "execution_count": 215,
   "id": "65a56236-fc78-4e8f-8777-1ed122749725",
   "metadata": {},
   "outputs": [
    {
     "name": "stdout",
     "output_type": "stream",
     "text": [
      "False\n",
      "1907456946544\n",
      "1907456948240\n"
     ]
    }
   ],
   "source": [
    "a=600\n",
    "b=600\n",
    "print(a is b)\n",
    "print(id(a))\n",
    "print(id(b))"
   ]
  },
  {
   "cell_type": "code",
   "execution_count": 217,
   "id": "d3a3d229-f4d8-4ec2-a178-91b19652dd2a",
   "metadata": {},
   "outputs": [
    {
     "name": "stdout",
     "output_type": "stream",
     "text": [
      "True\n",
      "140710432506792\n",
      "140710432506792\n"
     ]
    }
   ],
   "source": [
    "a='Python'\n",
    "b='Python'\n",
    "print(a is b)\n",
    "print(id(a))\n",
    "print(id(b))"
   ]
  },
  {
   "cell_type": "code",
   "execution_count": 219,
   "id": "973b7f56-da8e-42ee-a284-2a7e1e98f879",
   "metadata": {},
   "outputs": [
    {
     "name": "stdout",
     "output_type": "stream",
     "text": [
      "False\n",
      "1907459138544\n",
      "1907458153776\n"
     ]
    }
   ],
   "source": [
    "a='Python class'\n",
    "b='Python class'\n",
    "print(a is b)\n",
    "print(id(a))\n",
    "print(id(b))"
   ]
  },
  {
   "cell_type": "markdown",
   "id": "318393b1-f930-42e8-8455-b2101838a3ac",
   "metadata": {},
   "source": [
    "# is not"
   ]
  },
  {
   "cell_type": "code",
   "execution_count": 221,
   "id": "798f79b6-bfe1-401e-b817-378eab7683f1",
   "metadata": {},
   "outputs": [],
   "source": [
    "# - If two objects have the same memory address then False else True."
   ]
  },
  {
   "cell_type": "code",
   "execution_count": 222,
   "id": "f4e310a6-bd70-4f89-85ba-b62ab2bb8efc",
   "metadata": {},
   "outputs": [
    {
     "name": "stdout",
     "output_type": "stream",
     "text": [
      "False\n"
     ]
    }
   ],
   "source": [
    "a=10\n",
    "b=10\n",
    "print(a is not b)"
   ]
  },
  {
   "cell_type": "code",
   "execution_count": 224,
   "id": "a88b2403-b2be-4099-a625-dd05595d88bc",
   "metadata": {},
   "outputs": [
    {
     "name": "stdout",
     "output_type": "stream",
     "text": [
      "True\n",
      "1907456948624\n",
      "1907456948720\n"
     ]
    }
   ],
   "source": [
    "a=1000\n",
    "b=1000\n",
    "print(a is not b)\n",
    "print(id(a))\n",
    "print(id(b))"
   ]
  },
  {
   "cell_type": "markdown",
   "id": "c8430b1b-136e-4d2d-a916-d11930a08159",
   "metadata": {},
   "source": [
    "# Bitwise Operators"
   ]
  },
  {
   "cell_type": "code",
   "execution_count": 227,
   "id": "733a056e-3140-42d7-a36b-accf7c3e5296",
   "metadata": {},
   "outputs": [],
   "source": [
    "# - These operators are used to perform the bitwise opeartions on the binary digits known as bits (0,1).\n",
    "# - These opeartors can be used with int values only as only int values can be converted to bits."
   ]
  },
  {
   "cell_type": "markdown",
   "id": "1d936c46-2c5d-49d6-8733-c2ff3a3c8f27",
   "metadata": {},
   "source": [
    "### Steps"
   ]
  },
  {
   "cell_type": "code",
   "execution_count": 228,
   "id": "54b2b4c4-b238-4ef9-8af2-ca7b23401a5e",
   "metadata": {},
   "outputs": [],
   "source": [
    "# - 1- Convert the int values into binary digits known as bits.\n",
    "# - 2- Perform the specified operation bit by bit.\n",
    "# - 3- Convert the result into int."
   ]
  },
  {
   "cell_type": "code",
   "execution_count": 229,
   "id": "4d04ce44-05aa-407c-a892-6a9298be9b92",
   "metadata": {},
   "outputs": [],
   "source": [
    "# & bitwise and\n",
    "# | bitwise or\n",
    "# ~ bitwise not\n",
    "# ^ bitwise xor\n",
    "# << bitwise leftshift\n",
    "# >> bitwise rightshift"
   ]
  },
  {
   "cell_type": "code",
   "execution_count": 230,
   "id": "e66e058a-b306-4fd6-9809-67c27534cd28",
   "metadata": {},
   "outputs": [],
   "source": [
    "# 1- True\n",
    "# 0- False"
   ]
  },
  {
   "cell_type": "markdown",
   "id": "12f9ce08-4f2f-4a11-9200-d582f94c76cc",
   "metadata": {},
   "source": [
    "# & bitwise and"
   ]
  },
  {
   "cell_type": "code",
   "execution_count": 231,
   "id": "1a21d133-6474-4e17-bfa9-3fb96c40deee",
   "metadata": {},
   "outputs": [],
   "source": [
    "# 1 & 1 is 1 else 0"
   ]
  },
  {
   "cell_type": "code",
   "execution_count": 235,
   "id": "49825195-e3ec-4f42-82c1-4f991d4d9e2d",
   "metadata": {},
   "outputs": [
    {
     "name": "stdout",
     "output_type": "stream",
     "text": [
      "1\n",
      "0\n",
      "0\n",
      "0\n"
     ]
    }
   ],
   "source": [
    "print(1 & 1)\n",
    "print(1 & 0)\n",
    "print(0 & 1)\n",
    "print(0 & 0)"
   ]
  },
  {
   "cell_type": "code",
   "execution_count": 236,
   "id": "10dedf72-c6cc-45e2-b15a-4528b83a49d5",
   "metadata": {},
   "outputs": [
    {
     "name": "stdout",
     "output_type": "stream",
     "text": [
      "24\n"
     ]
    }
   ],
   "source": [
    "print(25 & 92)"
   ]
  },
  {
   "cell_type": "code",
   "execution_count": 237,
   "id": "6c448347-a116-4a3c-b509-c9ef2c0c6bc6",
   "metadata": {},
   "outputs": [],
   "source": [
    "# bin(int)- It returns the binary equivalent"
   ]
  },
  {
   "cell_type": "code",
   "execution_count": 238,
   "id": "06d6f7f2-bd7a-4d9d-b3a6-fe3dcd109afe",
   "metadata": {},
   "outputs": [
    {
     "data": {
      "text/plain": [
       "'0b11001'"
      ]
     },
     "execution_count": 238,
     "metadata": {},
     "output_type": "execute_result"
    }
   ],
   "source": [
    "bin(25)"
   ]
  },
  {
   "cell_type": "code",
   "execution_count": 241,
   "id": "1f50e810-8a31-4537-9995-90764de2ac74",
   "metadata": {},
   "outputs": [
    {
     "data": {
      "text/plain": [
       "'0b1011100'"
      ]
     },
     "execution_count": 241,
     "metadata": {},
     "output_type": "execute_result"
    }
   ],
   "source": [
    "bin(92)"
   ]
  },
  {
   "cell_type": "code",
   "execution_count": 242,
   "id": "235a36fb-f345-4124-a520-4c6bcba18b1e",
   "metadata": {},
   "outputs": [],
   "source": [
    "# 0011001\n",
    "# 1011100\n",
    "# 0011000"
   ]
  },
  {
   "cell_type": "code",
   "execution_count": 244,
   "id": "16907b78-22a8-4394-b1e4-47de7330ff2f",
   "metadata": {},
   "outputs": [
    {
     "data": {
      "text/plain": [
       "24"
      ]
     },
     "execution_count": 244,
     "metadata": {},
     "output_type": "execute_result"
    }
   ],
   "source": [
    "int(0b11000)"
   ]
  },
  {
   "cell_type": "code",
   "execution_count": 240,
   "id": "ff9639ed-6cb7-4f00-ad95-649892ba4429",
   "metadata": {},
   "outputs": [
    {
     "data": {
      "text/plain": [
       "25"
      ]
     },
     "execution_count": 240,
     "metadata": {},
     "output_type": "execute_result"
    }
   ],
   "source": [
    "0b11001"
   ]
  },
  {
   "cell_type": "code",
   "execution_count": 248,
   "id": "2ac992ee-7331-443c-87d4-7725bcf5cdca",
   "metadata": {},
   "outputs": [
    {
     "data": {
      "text/plain": [
       "0"
      ]
     },
     "execution_count": 248,
     "metadata": {},
     "output_type": "execute_result"
    }
   ],
   "source": [
    "128 & 77"
   ]
  },
  {
   "cell_type": "code",
   "execution_count": 249,
   "id": "ecd88bc2-755b-4b70-bfab-4e1285c9cc2c",
   "metadata": {},
   "outputs": [
    {
     "data": {
      "text/plain": [
       "'0b10000000'"
      ]
     },
     "execution_count": 249,
     "metadata": {},
     "output_type": "execute_result"
    }
   ],
   "source": [
    "bin(128)"
   ]
  },
  {
   "cell_type": "code",
   "execution_count": 250,
   "id": "97f39132-c561-45d5-9e38-02449bd4ab27",
   "metadata": {},
   "outputs": [
    {
     "data": {
      "text/plain": [
       "'0b1001101'"
      ]
     },
     "execution_count": 250,
     "metadata": {},
     "output_type": "execute_result"
    }
   ],
   "source": [
    "bin(77)"
   ]
  },
  {
   "cell_type": "code",
   "execution_count": 251,
   "id": "d376e50f-942a-41b3-b33f-dc9f3da7aa3c",
   "metadata": {},
   "outputs": [],
   "source": [
    "# 10000000\n",
    "# 01001101\n",
    "# 00000000"
   ]
  },
  {
   "cell_type": "markdown",
   "id": "658b91b5-2633-4bf4-859b-c0aaf3491fb0",
   "metadata": {},
   "source": [
    "# | bitwise or"
   ]
  },
  {
   "cell_type": "code",
   "execution_count": 252,
   "id": "62b473ec-3563-4cee-af98-5dad3fc8d365",
   "metadata": {},
   "outputs": [],
   "source": [
    "# - 0 | 0 is 0 else 1"
   ]
  },
  {
   "cell_type": "code",
   "execution_count": 256,
   "id": "bfb8e684-07aa-4872-8058-c4406b591aa9",
   "metadata": {},
   "outputs": [
    {
     "name": "stdout",
     "output_type": "stream",
     "text": [
      "1\n",
      "1\n",
      "1\n",
      "0\n"
     ]
    }
   ],
   "source": [
    "print(1 | 1)\n",
    "print(1 | 0)\n",
    "print(0 | 1)\n",
    "print(0 | 0)"
   ]
  },
  {
   "cell_type": "code",
   "execution_count": 259,
   "id": "0fc1d769-b009-495c-b566-de933b6ca9d1",
   "metadata": {},
   "outputs": [
    {
     "name": "stdout",
     "output_type": "stream",
     "text": [
      "63\n"
     ]
    }
   ],
   "source": [
    "print(45|22)"
   ]
  },
  {
   "cell_type": "code",
   "execution_count": 260,
   "id": "e6cc14ee-8c04-44ad-bb80-3c7a41f51b24",
   "metadata": {},
   "outputs": [
    {
     "data": {
      "text/plain": [
       "'0b101101'"
      ]
     },
     "execution_count": 260,
     "metadata": {},
     "output_type": "execute_result"
    }
   ],
   "source": [
    "bin(45)"
   ]
  },
  {
   "cell_type": "code",
   "execution_count": 261,
   "id": "2cf5f813-3973-4166-9ae9-93f312b7f4bc",
   "metadata": {},
   "outputs": [
    {
     "data": {
      "text/plain": [
       "'0b10110'"
      ]
     },
     "execution_count": 261,
     "metadata": {},
     "output_type": "execute_result"
    }
   ],
   "source": [
    "bin(22)"
   ]
  },
  {
   "cell_type": "code",
   "execution_count": 262,
   "id": "ad15971a-78f8-41df-97a2-b41e827c0fbe",
   "metadata": {},
   "outputs": [],
   "source": [
    "# 101101\n",
    "# 010110\n",
    "# 111111"
   ]
  },
  {
   "cell_type": "code",
   "execution_count": 263,
   "id": "e70727db-3960-4f54-8d0b-0988417d5c36",
   "metadata": {},
   "outputs": [
    {
     "data": {
      "text/plain": [
       "63"
      ]
     },
     "execution_count": 263,
     "metadata": {},
     "output_type": "execute_result"
    }
   ],
   "source": [
    "int(0b111111)"
   ]
  },
  {
   "cell_type": "markdown",
   "id": "c194e51e-5d10-42fc-8dcd-893ac71a8b38",
   "metadata": {},
   "source": [
    "# ~ bitwise not"
   ]
  },
  {
   "cell_type": "code",
   "execution_count": 264,
   "id": "d0e3d568-3a91-4658-b5d9-38af10ef4e05",
   "metadata": {},
   "outputs": [],
   "source": [
    "# ~num= -(num+1)"
   ]
  },
  {
   "cell_type": "code",
   "execution_count": 266,
   "id": "3718b970-51ff-4d3f-ade3-5a8064171aba",
   "metadata": {},
   "outputs": [
    {
     "data": {
      "text/plain": [
       "-46"
      ]
     },
     "execution_count": 266,
     "metadata": {},
     "output_type": "execute_result"
    }
   ],
   "source": [
    "~45"
   ]
  },
  {
   "cell_type": "code",
   "execution_count": 267,
   "id": "23388df4-6d41-4ac4-838a-b7f0cb14934f",
   "metadata": {},
   "outputs": [],
   "source": [
    "# ~45\n",
    "# -(45+1)\n",
    "# -(46)\n",
    "# 46"
   ]
  },
  {
   "cell_type": "code",
   "execution_count": 268,
   "id": "3d62972a-3274-4733-bf55-6499f457f838",
   "metadata": {},
   "outputs": [
    {
     "data": {
      "text/plain": [
       "22"
      ]
     },
     "execution_count": 268,
     "metadata": {},
     "output_type": "execute_result"
    }
   ],
   "source": [
    "~-23"
   ]
  },
  {
   "cell_type": "code",
   "execution_count": 269,
   "id": "a023068d-5bc7-4ba2-b283-d5802a6340ea",
   "metadata": {},
   "outputs": [],
   "source": [
    "# ~(-23)\n",
    "# -(-23+1)\n",
    "# -(-22)\n",
    "# 22"
   ]
  },
  {
   "cell_type": "markdown",
   "id": "167f3c7a-d45f-4288-a3fb-4fef439ec678",
   "metadata": {},
   "source": [
    "# ^ bitwise xor"
   ]
  },
  {
   "cell_type": "code",
   "execution_count": 275,
   "id": "af41fec0-84c6-4e26-908a-07b15fbc4e64",
   "metadata": {},
   "outputs": [],
   "source": [
    "# Same digits- 0\n",
    "# Opposite digits- 1"
   ]
  },
  {
   "cell_type": "code",
   "execution_count": 274,
   "id": "0b262b38-20b6-446b-9de8-e790283ee2ff",
   "metadata": {},
   "outputs": [
    {
     "name": "stdout",
     "output_type": "stream",
     "text": [
      "0\n",
      "1\n",
      "1\n",
      "0\n"
     ]
    }
   ],
   "source": [
    "print(1 ^ 1)\n",
    "print(1 ^ 0)\n",
    "print(0 ^ 1)\n",
    "print(0 ^ 0)"
   ]
  },
  {
   "cell_type": "code",
   "execution_count": 277,
   "id": "1c2b1bdb-8096-4ee9-a12a-399ec024fdc7",
   "metadata": {},
   "outputs": [
    {
     "data": {
      "text/plain": [
       "117"
      ]
     },
     "execution_count": 277,
     "metadata": {},
     "output_type": "execute_result"
    }
   ],
   "source": [
    "62^75"
   ]
  },
  {
   "cell_type": "code",
   "execution_count": 278,
   "id": "40be50ba-82f2-4a2b-ba6f-5bdb1700442a",
   "metadata": {},
   "outputs": [
    {
     "data": {
      "text/plain": [
       "'0b111110'"
      ]
     },
     "execution_count": 278,
     "metadata": {},
     "output_type": "execute_result"
    }
   ],
   "source": [
    "bin(62)"
   ]
  },
  {
   "cell_type": "code",
   "execution_count": 279,
   "id": "2b4b86f3-a9c4-499b-b891-8d49557f2b86",
   "metadata": {},
   "outputs": [
    {
     "data": {
      "text/plain": [
       "'0b1001011'"
      ]
     },
     "execution_count": 279,
     "metadata": {},
     "output_type": "execute_result"
    }
   ],
   "source": [
    "bin(75)"
   ]
  },
  {
   "cell_type": "code",
   "execution_count": 280,
   "id": "41a12913-aeb2-4ed5-9225-7fb98e296fdf",
   "metadata": {},
   "outputs": [],
   "source": [
    "# 0111110\n",
    "# 1001011\n",
    "# 1110101"
   ]
  },
  {
   "cell_type": "code",
   "execution_count": 282,
   "id": "28b3ce47-f22a-436f-aa4c-c4bd7b22f436",
   "metadata": {},
   "outputs": [
    {
     "data": {
      "text/plain": [
       "117"
      ]
     },
     "execution_count": 282,
     "metadata": {},
     "output_type": "execute_result"
    }
   ],
   "source": [
    "int(0b1110101)"
   ]
  },
  {
   "cell_type": "markdown",
   "id": "2fdce77a-38bb-43cc-b03b-a55795bd7b98",
   "metadata": {},
   "source": [
    "# << bitwise leftshift"
   ]
  },
  {
   "cell_type": "code",
   "execution_count": 286,
   "id": "e7473714-ca8a-4096-83f3-27103072730b",
   "metadata": {},
   "outputs": [],
   "source": [
    "# num<<number of bits"
   ]
  },
  {
   "cell_type": "code",
   "execution_count": 283,
   "id": "d0abdfcf-5ef0-48c1-a0f5-1f209d1036a9",
   "metadata": {},
   "outputs": [],
   "source": [
    "# 8 bit system\n",
    "# 32 bit system\n",
    "# 64 bit system"
   ]
  },
  {
   "cell_type": "code",
   "execution_count": 284,
   "id": "765dcd28-3875-4968-bf49-c3667d6fabdd",
   "metadata": {},
   "outputs": [],
   "source": [
    "# Representation of 8 in a 32 bit system"
   ]
  },
  {
   "cell_type": "code",
   "execution_count": 285,
   "id": "dfe38436-82f0-454c-9d6c-7f55cfa0ffdf",
   "metadata": {},
   "outputs": [
    {
     "data": {
      "text/plain": [
       "'0b1000'"
      ]
     },
     "execution_count": 285,
     "metadata": {},
     "output_type": "execute_result"
    }
   ],
   "source": [
    "bin(8)"
   ]
  },
  {
   "cell_type": "code",
   "execution_count": null,
   "id": "c3f0783d-e1ee-4e70-9c89-be0b77c7ef37",
   "metadata": {},
   "outputs": [],
   "source": [
    "000000000000000000000000001000"
   ]
  },
  {
   "cell_type": "code",
   "execution_count": 287,
   "id": "fa71263f-567c-4022-b7bb-473920ee7a2a",
   "metadata": {},
   "outputs": [],
   "source": [
    "# Convert the number into binary digits.\n",
    "# Represent the digits into a specific bit system (32 for example)\n",
    "# Remove the specified number of bits from the left side and add the same number of 0's on the right side.\n",
    "# Convert the result into int"
   ]
  },
  {
   "cell_type": "code",
   "execution_count": 288,
   "id": "12268fd9-6d7d-440d-8c59-c2c2e21f8dca",
   "metadata": {},
   "outputs": [
    {
     "data": {
      "text/plain": [
       "360"
      ]
     },
     "execution_count": 288,
     "metadata": {},
     "output_type": "execute_result"
    }
   ],
   "source": [
    "45<<3"
   ]
  },
  {
   "cell_type": "code",
   "execution_count": 289,
   "id": "61c0a92c-41e2-4a87-883b-0ef6415cf4f6",
   "metadata": {},
   "outputs": [
    {
     "data": {
      "text/plain": [
       "'0b101101'"
      ]
     },
     "execution_count": 289,
     "metadata": {},
     "output_type": "execute_result"
    }
   ],
   "source": [
    "bin(45)"
   ]
  },
  {
   "cell_type": "code",
   "execution_count": 290,
   "id": "d86c3a3c-0d9f-4108-876c-dafc11b87e5a",
   "metadata": {},
   "outputs": [],
   "source": [
    "# 00000000000000000000000000101101\n",
    "# 00000000000000000000000101101000"
   ]
  },
  {
   "cell_type": "code",
   "execution_count": 291,
   "id": "3d58509a-2d8a-4955-bc17-896a774301d4",
   "metadata": {},
   "outputs": [
    {
     "data": {
      "text/plain": [
       "360"
      ]
     },
     "execution_count": 291,
     "metadata": {},
     "output_type": "execute_result"
    }
   ],
   "source": [
    "int(0b101101000)"
   ]
  },
  {
   "cell_type": "code",
   "execution_count": 292,
   "id": "0e555c56-900f-4b4a-b02e-3452a2399b94",
   "metadata": {},
   "outputs": [
    {
     "data": {
      "text/plain": [
       "8000"
      ]
     },
     "execution_count": 292,
     "metadata": {},
     "output_type": "execute_result"
    }
   ],
   "source": [
    "125<<6"
   ]
  },
  {
   "cell_type": "code",
   "execution_count": 293,
   "id": "60dd459b-a611-4213-ae4b-7b1b791cf8be",
   "metadata": {},
   "outputs": [
    {
     "data": {
      "text/plain": [
       "'0b1111101'"
      ]
     },
     "execution_count": 293,
     "metadata": {},
     "output_type": "execute_result"
    }
   ],
   "source": [
    "bin(125)"
   ]
  },
  {
   "cell_type": "code",
   "execution_count": 294,
   "id": "5dcce790-80d8-487e-a001-bbd82f231151",
   "metadata": {},
   "outputs": [],
   "source": [
    "# 00000000000000000000000001111101\n",
    "# 00000000000000000001111101000000"
   ]
  },
  {
   "cell_type": "code",
   "execution_count": 296,
   "id": "9f50fc6c-af6d-44bc-a83c-1f5b7a8972c3",
   "metadata": {},
   "outputs": [
    {
     "data": {
      "text/plain": [
       "8000"
      ]
     },
     "execution_count": 296,
     "metadata": {},
     "output_type": "execute_result"
    }
   ],
   "source": [
    "int(0b1111101000000)"
   ]
  },
  {
   "cell_type": "code",
   "execution_count": 298,
   "id": "77b96110-360d-4df1-91e9-abc696016aa7",
   "metadata": {},
   "outputs": [],
   "source": [
    "# value- 80 bits\n",
    "# system- 64 bit system\n",
    "# f1- 64 bits\n",
    "# f2-  48 0's and 16 bits"
   ]
  },
  {
   "cell_type": "markdown",
   "id": "4519ab44-85ef-4306-9a62-b6414d5870d6",
   "metadata": {},
   "source": [
    "### formula"
   ]
  },
  {
   "cell_type": "code",
   "execution_count": 299,
   "id": "a313eddf-688e-4f0a-a413-684f2a69322e",
   "metadata": {},
   "outputs": [],
   "source": [
    "# number*2**number of bits"
   ]
  },
  {
   "cell_type": "code",
   "execution_count": 300,
   "id": "808a1610-01df-46fc-a8ab-ffff4ccbff26",
   "metadata": {},
   "outputs": [
    {
     "data": {
      "text/plain": [
       "8000"
      ]
     },
     "execution_count": 300,
     "metadata": {},
     "output_type": "execute_result"
    }
   ],
   "source": [
    "125<<6"
   ]
  },
  {
   "cell_type": "code",
   "execution_count": 301,
   "id": "fab40f4f-b032-4ff0-acf7-22ddc273aa96",
   "metadata": {},
   "outputs": [
    {
     "data": {
      "text/plain": [
       "8000"
      ]
     },
     "execution_count": 301,
     "metadata": {},
     "output_type": "execute_result"
    }
   ],
   "source": [
    "125*2**6"
   ]
  },
  {
   "cell_type": "code",
   "execution_count": 302,
   "id": "3c6d637b-4e62-4f4f-b186-3181fca2aed3",
   "metadata": {},
   "outputs": [
    {
     "data": {
      "text/plain": [
       "5760"
      ]
     },
     "execution_count": 302,
     "metadata": {},
     "output_type": "execute_result"
    }
   ],
   "source": [
    "45<<7"
   ]
  },
  {
   "cell_type": "code",
   "execution_count": 303,
   "id": "6665ad2d-4d47-4edc-998e-ee921785c074",
   "metadata": {},
   "outputs": [
    {
     "data": {
      "text/plain": [
       "5760"
      ]
     },
     "execution_count": 303,
     "metadata": {},
     "output_type": "execute_result"
    }
   ],
   "source": [
    "45*2**7"
   ]
  },
  {
   "cell_type": "markdown",
   "id": "595d35c4-9515-46b4-8f4c-4994486df58e",
   "metadata": {},
   "source": [
    "# >> bitwise rightshift"
   ]
  },
  {
   "cell_type": "code",
   "execution_count": 304,
   "id": "dda127bd-f871-4cb7-9b22-eeef661d8a98",
   "metadata": {},
   "outputs": [],
   "source": [
    "# Convert the number into binary digits.\n",
    "# Represent the digits into a specific bit system (32 for example)\n",
    "# Remove the specified number of bits from the right side and add the same number of 0's on the left side.\n",
    "# Convert the result into int"
   ]
  },
  {
   "cell_type": "code",
   "execution_count": 305,
   "id": "bf5a4bdd-98a6-4c66-9d1f-0df966b06579",
   "metadata": {},
   "outputs": [],
   "source": [
    "# number>>the number of bits"
   ]
  },
  {
   "cell_type": "code",
   "execution_count": 307,
   "id": "c2a77cea-8d62-45cc-9970-f76ba75b73e9",
   "metadata": {},
   "outputs": [
    {
     "data": {
      "text/plain": [
       "14"
      ]
     },
     "execution_count": 307,
     "metadata": {},
     "output_type": "execute_result"
    }
   ],
   "source": [
    "450>>5"
   ]
  },
  {
   "cell_type": "code",
   "execution_count": 308,
   "id": "61e35b82-f92f-466d-aa68-b98a8120780a",
   "metadata": {},
   "outputs": [
    {
     "data": {
      "text/plain": [
       "'0b111000010'"
      ]
     },
     "execution_count": 308,
     "metadata": {},
     "output_type": "execute_result"
    }
   ],
   "source": [
    "bin(450)"
   ]
  },
  {
   "cell_type": "code",
   "execution_count": 309,
   "id": "cca98328-c03a-4fd8-be61-8a256900afa8",
   "metadata": {},
   "outputs": [],
   "source": [
    "# 000000000000000000000111000010\n",
    "# 000000000000000000000000001110"
   ]
  },
  {
   "cell_type": "code",
   "execution_count": 311,
   "id": "3e249726-6b54-4da2-b75b-2b58024f5357",
   "metadata": {},
   "outputs": [
    {
     "data": {
      "text/plain": [
       "14"
      ]
     },
     "execution_count": 311,
     "metadata": {},
     "output_type": "execute_result"
    }
   ],
   "source": [
    "int(0b1110)"
   ]
  },
  {
   "cell_type": "code",
   "execution_count": 312,
   "id": "6515bf2c-18ae-48e6-a7ea-d76c7310e72f",
   "metadata": {},
   "outputs": [
    {
     "data": {
      "text/plain": [
       "0"
      ]
     },
     "execution_count": 312,
     "metadata": {},
     "output_type": "execute_result"
    }
   ],
   "source": [
    "120>>8"
   ]
  },
  {
   "cell_type": "code",
   "execution_count": 313,
   "id": "a7cbfd61-7d82-4377-9137-2a68c2bc566c",
   "metadata": {},
   "outputs": [
    {
     "data": {
      "text/plain": [
       "'0b1111000'"
      ]
     },
     "execution_count": 313,
     "metadata": {},
     "output_type": "execute_result"
    }
   ],
   "source": [
    "bin(120)"
   ]
  },
  {
   "cell_type": "code",
   "execution_count": 314,
   "id": "b21ed2e5-713e-4461-abcd-9680eac16e4c",
   "metadata": {},
   "outputs": [],
   "source": [
    "# 000000000000000000000001111000\n",
    "# 000000000000000000000000000000"
   ]
  },
  {
   "cell_type": "markdown",
   "id": "e178b650-b537-49f8-84a4-0b98d7ee08a1",
   "metadata": {},
   "source": [
    "### formula"
   ]
  },
  {
   "cell_type": "code",
   "execution_count": 315,
   "id": "fb29aa6c-8760-4a2e-b974-4bfacd25b7af",
   "metadata": {},
   "outputs": [],
   "source": [
    "# number//2**number of bits"
   ]
  },
  {
   "cell_type": "code",
   "execution_count": 316,
   "id": "8fc38b46-1937-4475-b668-2c7fd3517019",
   "metadata": {},
   "outputs": [
    {
     "data": {
      "text/plain": [
       "14"
      ]
     },
     "execution_count": 316,
     "metadata": {},
     "output_type": "execute_result"
    }
   ],
   "source": [
    "450>>5"
   ]
  },
  {
   "cell_type": "code",
   "execution_count": 317,
   "id": "a55c8be5-6887-433e-8481-2c4c4cd61e49",
   "metadata": {},
   "outputs": [
    {
     "data": {
      "text/plain": [
       "14"
      ]
     },
     "execution_count": 317,
     "metadata": {},
     "output_type": "execute_result"
    }
   ],
   "source": [
    "450//2**5"
   ]
  },
  {
   "cell_type": "code",
   "execution_count": 318,
   "id": "4c3d110d-d47d-4dcd-bdbd-b7260213c66a",
   "metadata": {},
   "outputs": [
    {
     "data": {
      "text/plain": [
       "0"
      ]
     },
     "execution_count": 318,
     "metadata": {},
     "output_type": "execute_result"
    }
   ],
   "source": [
    "120>>8"
   ]
  },
  {
   "cell_type": "code",
   "execution_count": 319,
   "id": "9202bb1a-8316-418d-bf93-0acf4e3f8642",
   "metadata": {},
   "outputs": [
    {
     "data": {
      "text/plain": [
       "0"
      ]
     },
     "execution_count": 319,
     "metadata": {},
     "output_type": "execute_result"
    }
   ],
   "source": [
    "120//2**8"
   ]
  },
  {
   "cell_type": "markdown",
   "id": "87c539d2-d7cf-40f2-9145-1abd038aaace",
   "metadata": {},
   "source": [
    "# Compound Operators"
   ]
  },
  {
   "cell_type": "code",
   "execution_count": 320,
   "id": "563eb75d-f058-4c0a-9359-4b1ade4c47e8",
   "metadata": {},
   "outputs": [],
   "source": [
    "# +=\n",
    "# -=\n",
    "# *=\n",
    "# /=\n",
    "# //=\n",
    "# %=\n",
    "# <<=\n",
    "# >>="
   ]
  },
  {
   "cell_type": "code",
   "execution_count": 321,
   "id": "84f17ca8-df20-4022-8dd5-84ebc1f6edb4",
   "metadata": {},
   "outputs": [],
   "source": [
    "# a+=b -> a=a+b\n",
    "# a-=b -> a=a-b\n",
    "# a*=b -> a=a*b\n",
    "# a/=b -> a=a/b\n",
    "# a//b -> a=a//b\n",
    "# a%=b -> a=a%b\n",
    "# a<<=b -> a=a<<b\n",
    "# a>>=b -> a=a>>b"
   ]
  },
  {
   "cell_type": "code",
   "execution_count": 326,
   "id": "4d084657-7e3c-47fa-b52a-f9b1bd7cb2af",
   "metadata": {},
   "outputs": [
    {
     "name": "stdout",
     "output_type": "stream",
     "text": [
      "7\n",
      "5\n"
     ]
    }
   ],
   "source": [
    "a=5\n",
    "# Increase the value of a by 2\n",
    "\n",
    "print(a+2)\n",
    "print(a)"
   ]
  },
  {
   "cell_type": "code",
   "execution_count": 327,
   "id": "bcd4334d-e04f-47f8-8db9-8e09d8dff0c1",
   "metadata": {},
   "outputs": [
    {
     "name": "stdout",
     "output_type": "stream",
     "text": [
      "7\n"
     ]
    }
   ],
   "source": [
    "a=5\n",
    "a=a+2\n",
    "print(a)"
   ]
  },
  {
   "cell_type": "code",
   "execution_count": 330,
   "id": "ec8e2c44-4a89-403a-8a87-f3a986388cbd",
   "metadata": {},
   "outputs": [
    {
     "name": "stdout",
     "output_type": "stream",
     "text": [
      "7\n"
     ]
    }
   ],
   "source": [
    "a=5\n",
    "a+=2 # a=a+2\n",
    "print(a)"
   ]
  },
  {
   "cell_type": "code",
   "execution_count": 333,
   "id": "d05a9826-3c9a-44b4-9bae-edf0dc9c82ac",
   "metadata": {},
   "outputs": [
    {
     "name": "stdout",
     "output_type": "stream",
     "text": [
      "35\n"
     ]
    }
   ],
   "source": [
    "a=7\n",
    "# Increase the value of a 5 times.\n",
    "a=a*5\n",
    "print(a)"
   ]
  },
  {
   "cell_type": "code",
   "execution_count": 334,
   "id": "89c92b5f-e726-4f52-b08b-a1d11d5d9356",
   "metadata": {},
   "outputs": [
    {
     "name": "stdout",
     "output_type": "stream",
     "text": [
      "35\n"
     ]
    }
   ],
   "source": [
    "a=5\n",
    "a*=7\n",
    "print(a)"
   ]
  },
  {
   "cell_type": "markdown",
   "id": "055d0731-959b-4b1a-b576-2121a717e392",
   "metadata": {},
   "source": [
    "# Ternary Opearator"
   ]
  },
  {
   "cell_type": "code",
   "execution_count": 335,
   "id": "2d05c066-a1cc-422e-ad41-31fe17eb517d",
   "metadata": {},
   "outputs": [],
   "source": [
    "# - It operates on 3 operands so the name is ternary.\n",
    "# - It is a one-line code to write a conditional statement."
   ]
  },
  {
   "cell_type": "code",
   "execution_count": 337,
   "id": "f2d651c0-69fb-4b9b-88c2-f2c07ab5a10c",
   "metadata": {},
   "outputs": [],
   "source": [
    "# exp_1 if condition else exp_2"
   ]
  },
  {
   "cell_type": "code",
   "execution_count": 338,
   "id": "7910f93c-0241-4eaf-abcb-ec69d8766b96",
   "metadata": {},
   "outputs": [],
   "source": [
    "# When the if condition is True then exp_1 gets executed.\n",
    "# When the if condition if False then exp_2 gets executed."
   ]
  },
  {
   "cell_type": "code",
   "execution_count": 339,
   "id": "82761a8c-9c2f-4e42-a8c7-f1c7918bc5e4",
   "metadata": {},
   "outputs": [
    {
     "name": "stdout",
     "output_type": "stream",
     "text": [
      "Hello\n"
     ]
    }
   ],
   "source": [
    "print('Hello') if 5==5 else print('Thanks')"
   ]
  },
  {
   "cell_type": "code",
   "execution_count": 340,
   "id": "066ea9e7-acfb-4818-86f4-da7d8da20023",
   "metadata": {},
   "outputs": [
    {
     "name": "stdout",
     "output_type": "stream",
     "text": [
      "Thanks\n"
     ]
    }
   ],
   "source": [
    "print('Hello') if 5==50 else print('Thanks')"
   ]
  },
  {
   "cell_type": "code",
   "execution_count": 341,
   "id": "2bb9fea9-915e-48b5-86c8-c2ffc0135bd9",
   "metadata": {},
   "outputs": [],
   "source": [
    "# Take two numbers and print the maximum number"
   ]
  },
  {
   "cell_type": "code",
   "execution_count": 343,
   "id": "9440b1e3-91d4-48ef-ac42-842d3bcd4ac1",
   "metadata": {},
   "outputs": [
    {
     "name": "stdout",
     "output_type": "stream",
     "text": [
      "30\n"
     ]
    }
   ],
   "source": [
    "a=5\n",
    "b=30\n",
    "\n",
    "print(a) if a>b else print(b)"
   ]
  },
  {
   "cell_type": "code",
   "execution_count": 344,
   "id": "3ce57a1f-562d-4cdb-9b85-42d0193102c6",
   "metadata": {},
   "outputs": [],
   "source": [
    "# exp_1 if cond_1 else exp_2 if cond_2 else exp_3"
   ]
  },
  {
   "cell_type": "code",
   "execution_count": 349,
   "id": "214a82b5-05e0-4806-b152-60788dcf3c07",
   "metadata": {},
   "outputs": [
    {
     "name": "stdout",
     "output_type": "stream",
     "text": [
      "Good Evening!\n"
     ]
    }
   ],
   "source": [
    "time='evening'\n",
    "\n",
    "print('Good Morning!') if time=='morning'  else print('Good Afternoon!') if time=='afternoon' else print('Good Evening!')"
   ]
  },
  {
   "cell_type": "markdown",
   "id": "16c055ab-b342-41f5-9619-bfaba12f4b99",
   "metadata": {},
   "source": [
    "# String"
   ]
  },
  {
   "cell_type": "code",
   "execution_count": 351,
   "id": "32b0cd90-1248-455a-a639-c721fdb517e3",
   "metadata": {},
   "outputs": [],
   "source": [
    "# Anything inside the '',\"\",'''''',\"\"\"\"\"\" is a string."
   ]
  },
  {
   "cell_type": "code",
   "execution_count": 352,
   "id": "534aebcb-48a5-47ac-a067-48ee6ac11919",
   "metadata": {},
   "outputs": [
    {
     "name": "stdout",
     "output_type": "stream",
     "text": [
      "Hello Python <class 'str'>\n"
     ]
    }
   ],
   "source": [
    "my_str='Hello Python'\n",
    "print(my_str,type(my_str))"
   ]
  },
  {
   "cell_type": "code",
   "execution_count": 353,
   "id": "cdf41ee3-5c32-45f9-b2ff-2dfc86c0261b",
   "metadata": {},
   "outputs": [
    {
     "name": "stdout",
     "output_type": "stream",
     "text": [
      "!@@#$#%$^%& <class 'str'>\n"
     ]
    }
   ],
   "source": [
    "my_str='!@@#$#%$^%&'\n",
    "print(my_str,type(my_str))"
   ]
  },
  {
   "cell_type": "code",
   "execution_count": 354,
   "id": "07729446-e039-4954-8df6-e3238f4192d7",
   "metadata": {},
   "outputs": [
    {
     "name": "stdout",
     "output_type": "stream",
     "text": [
      "1234454 <class 'str'>\n"
     ]
    }
   ],
   "source": [
    "my_str=\"1234454\"\n",
    "print(my_str,type(my_str))"
   ]
  },
  {
   "cell_type": "code",
   "execution_count": 355,
   "id": "2715da3b-5a4d-43d9-812f-e02a30f30008",
   "metadata": {},
   "outputs": [],
   "source": [
    "# If the string has ' or '' as the part of the string then cover the string \"\" and vice versa."
   ]
  },
  {
   "cell_type": "code",
   "execution_count": 357,
   "id": "9093e69d-259b-4912-b3c9-d7d0d7af2759",
   "metadata": {},
   "outputs": [
    {
     "name": "stdout",
     "output_type": "stream",
     "text": [
      "'555' <class 'str'>\n"
     ]
    }
   ],
   "source": [
    "# Output- '555'\n",
    "\n",
    "my_str=\"'555'\"\n",
    "print(my_str,type(my_str))"
   ]
  },
  {
   "cell_type": "code",
   "execution_count": 359,
   "id": "e195803c-94df-4475-af94-04da98fd35f2",
   "metadata": {},
   "outputs": [
    {
     "name": "stdout",
     "output_type": "stream",
     "text": [
      "I love in \"India\" <class 'str'>\n"
     ]
    }
   ],
   "source": [
    "# Output- I live in \"India\"\n",
    "\n",
    "my_str='I love in \"India\"'\n",
    "print(my_str,type(my_str))"
   ]
  },
  {
   "cell_type": "code",
   "execution_count": 362,
   "id": "127adbd9-916c-4e03-b4c8-b59faadb6509",
   "metadata": {},
   "outputs": [
    {
     "name": "stdout",
     "output_type": "stream",
     "text": [
      "Hello everyone!\n",
      "We are learning Python\n",
      "We are going to be data scientists <class 'str'>\n"
     ]
    }
   ],
   "source": [
    "my_str='''Hello everyone!\n",
    "We are learning Python\n",
    "We are going to be data scientists'''\n",
    "\n",
    "print(my_str,type(my_str))"
   ]
  },
  {
   "cell_type": "code",
   "execution_count": 363,
   "id": "692c1424-2a62-4272-88fe-2c8e873b1c10",
   "metadata": {},
   "outputs": [
    {
     "name": "stdout",
     "output_type": "stream",
     "text": [
      "Hello everyone!\n",
      "We are learning Python\n",
      "We are going to be data scientists <class 'str'>\n"
     ]
    }
   ],
   "source": [
    "my_str=\"\"\"Hello everyone!\n",
    "We are learning Python\n",
    "We are going to be data scientists\"\"\"\n",
    "\n",
    "print(my_str,type(my_str))"
   ]
  },
  {
   "cell_type": "code",
   "execution_count": 364,
   "id": "a96bb16f-00d3-4009-b841-5c76fc8391a8",
   "metadata": {},
   "outputs": [],
   "source": [
    "# Output- Hello everyone!\n",
    "# We are learning Python\n",
    "# We are going to be 'data scientists'"
   ]
  },
  {
   "cell_type": "code",
   "execution_count": 365,
   "id": "fb53313f-4309-4fcf-86d6-6ad07ec1baf9",
   "metadata": {},
   "outputs": [
    {
     "name": "stdout",
     "output_type": "stream",
     "text": [
      "Hello everyone!\n",
      "We are learning Python\n",
      "We are going to be 'data scientists' <class 'str'>\n"
     ]
    }
   ],
   "source": [
    "my_str=\"\"\"Hello everyone!\n",
    "We are learning Python\n",
    "We are going to be 'data scientists'\"\"\"\n",
    "\n",
    "print(my_str,type(my_str))"
   ]
  },
  {
   "cell_type": "markdown",
   "id": "0f9bce68-5e45-4f35-8815-f0ebca0c6b8e",
   "metadata": {},
   "source": [
    "# Operations on a string"
   ]
  },
  {
   "cell_type": "code",
   "execution_count": 21,
   "id": "9063f1b8-993d-484e-81c9-d90613b4a842",
   "metadata": {},
   "outputs": [],
   "source": [
    "# Concatenation\n",
    "# Repeatition\n",
    "# Length Opeartion\n",
    "# Indexing and Slicing\n",
    "# Membership"
   ]
  },
  {
   "cell_type": "markdown",
   "id": "c2f96801-8dc5-4344-8c8f-3c62302ca9f8",
   "metadata": {},
   "source": [
    "# Concatenation"
   ]
  },
  {
   "cell_type": "code",
   "execution_count": 368,
   "id": "3a15a014-0bcc-4323-8555-4d51a9a74397",
   "metadata": {},
   "outputs": [],
   "source": [
    "# - Joining two or more strings together is known as concatenation of strings.\n",
    "# - + operator is used to concatenate two strings together.\n",
    "# - A string can be concatenated with a string only.\n",
    "# - If we concatenate a string with some other type then it raises TypeError"
   ]
  },
  {
   "cell_type": "code",
   "execution_count": 372,
   "id": "e5146a0f-d8b6-4e54-a6a3-07038ad27148",
   "metadata": {},
   "outputs": [
    {
     "name": "stdout",
     "output_type": "stream",
     "text": [
      "Hello\n",
      "Python\n",
      "HelloPython\n"
     ]
    }
   ],
   "source": [
    "a='Hello'\n",
    "b='Python'\n",
    "a+b\n",
    "print(a)\n",
    "print(b)\n",
    "print(a+b)"
   ]
  },
  {
   "cell_type": "code",
   "execution_count": 373,
   "id": "fa911e6d-602c-46bb-bc32-ad335574563c",
   "metadata": {},
   "outputs": [
    {
     "data": {
      "text/plain": [
       "'AB'"
      ]
     },
     "execution_count": 373,
     "metadata": {},
     "output_type": "execute_result"
    }
   ],
   "source": [
    "'A'+'B'"
   ]
  },
  {
   "cell_type": "code",
   "execution_count": 374,
   "id": "45c8f4cb-c186-4d44-b137-4b6ad7f5477c",
   "metadata": {},
   "outputs": [
    {
     "data": {
      "text/plain": [
       "'ABCD'"
      ]
     },
     "execution_count": 374,
     "metadata": {},
     "output_type": "execute_result"
    }
   ],
   "source": [
    "''+'ABCD'"
   ]
  },
  {
   "cell_type": "code",
   "execution_count": 375,
   "id": "546c2fad-8f50-4df7-8130-bb17d5d30686",
   "metadata": {},
   "outputs": [
    {
     "ename": "TypeError",
     "evalue": "can only concatenate str (not \"int\") to str",
     "output_type": "error",
     "traceback": [
      "\u001b[1;31m---------------------------------------------------------------------------\u001b[0m",
      "\u001b[1;31mTypeError\u001b[0m                                 Traceback (most recent call last)",
      "Cell \u001b[1;32mIn[375], line 1\u001b[0m\n\u001b[1;32m----> 1\u001b[0m \u001b[38;5;124m'\u001b[39m\u001b[38;5;124mHello\u001b[39m\u001b[38;5;124m'\u001b[39m\u001b[38;5;241m+\u001b[39m\u001b[38;5;241m55\u001b[39m\n",
      "\u001b[1;31mTypeError\u001b[0m: can only concatenate str (not \"int\") to str"
     ]
    }
   ],
   "source": [
    "'Hello'+55"
   ]
  },
  {
   "cell_type": "code",
   "execution_count": 376,
   "id": "60cbb4c3-9ec3-4372-ad69-e400792a7298",
   "metadata": {},
   "outputs": [
    {
     "ename": "TypeError",
     "evalue": "unsupported operand type(s) for +: 'float' and 'str'",
     "output_type": "error",
     "traceback": [
      "\u001b[1;31m---------------------------------------------------------------------------\u001b[0m",
      "\u001b[1;31mTypeError\u001b[0m                                 Traceback (most recent call last)",
      "Cell \u001b[1;32mIn[376], line 1\u001b[0m\n\u001b[1;32m----> 1\u001b[0m \u001b[38;5;241m5.7\u001b[39m \u001b[38;5;241m+\u001b[39m \u001b[38;5;124m'\u001b[39m\u001b[38;5;124mabcd\u001b[39m\u001b[38;5;124m'\u001b[39m\n",
      "\u001b[1;31mTypeError\u001b[0m: unsupported operand type(s) for +: 'float' and 'str'"
     ]
    }
   ],
   "source": [
    "5.7 + 'abcd'"
   ]
  },
  {
   "cell_type": "code",
   "execution_count": 385,
   "id": "e91091c6-3901-4f24-9880-51f3f2a05214",
   "metadata": {},
   "outputs": [
    {
     "name": "stdout",
     "output_type": "stream",
     "text": [
      "Nilesh Kumar\n"
     ]
    }
   ],
   "source": [
    "f_name='Nilesh'\n",
    "l_name='Kumar'\n",
    "# Output- Nilesh Kumar\n",
    "\n",
    "full_name=f_name+' '+l_name\n",
    "print(full_name)"
   ]
  },
  {
   "cell_type": "code",
   "execution_count": 3,
   "id": "1b02c17f-f0bc-4a4d-83e6-80f9c0196469",
   "metadata": {},
   "outputs": [
    {
     "name": "stdout",
     "output_type": "stream",
     "text": [
      "Q\n",
      "QS\n",
      "QSJ\n",
      "QSJH\n",
      "QSJHK\n"
     ]
    }
   ],
   "source": [
    "text='54Q#S78J5^&HK'\n",
    "# Create a new string that has the alphabets only from the above text\n",
    "s=''\n",
    "# print(s,type(s))\n",
    "\n",
    "c='Q'\n",
    "s=s+c\n",
    "print(s)\n",
    "\n",
    "c='S'\n",
    "s=s+c\n",
    "print(s)\n",
    "\n",
    "c='J'\n",
    "s=s+c\n",
    "print(s)\n",
    "\n",
    "c='H'\n",
    "s+=c # s=s+c\n",
    "print(s)\n",
    "\n",
    "c='K'\n",
    "s+=c\n",
    "print(s)"
   ]
  },
  {
   "cell_type": "code",
   "execution_count": 389,
   "id": "61746d30-925f-4a91-a379-6307c33b07b5",
   "metadata": {},
   "outputs": [
    {
     "data": {
      "text/plain": [
       "'Q'"
      ]
     },
     "execution_count": 389,
     "metadata": {},
     "output_type": "execute_result"
    }
   ],
   "source": [
    "''+'Q'"
   ]
  },
  {
   "cell_type": "code",
   "execution_count": 391,
   "id": "dc1a9c20-90cb-4529-983c-572b4837e4b3",
   "metadata": {},
   "outputs": [
    {
     "data": {
      "text/plain": [
       "'QS'"
      ]
     },
     "execution_count": 391,
     "metadata": {},
     "output_type": "execute_result"
    }
   ],
   "source": [
    "'Q'+'S'"
   ]
  },
  {
   "cell_type": "code",
   "execution_count": 393,
   "id": "7bcbce46-b685-4eb5-aa73-9ba375c88d6e",
   "metadata": {},
   "outputs": [
    {
     "data": {
      "text/plain": [
       "'OSJ'"
      ]
     },
     "execution_count": 393,
     "metadata": {},
     "output_type": "execute_result"
    }
   ],
   "source": [
    "'OS'+'J'"
   ]
  },
  {
   "cell_type": "markdown",
   "id": "2a61aaf9-ff26-4150-b23f-a10fd16948bc",
   "metadata": {},
   "source": [
    "# Repeatition"
   ]
  },
  {
   "cell_type": "code",
   "execution_count": 5,
   "id": "ffa49bad-2e23-4aeb-8c47-0ad3f1ec88a6",
   "metadata": {},
   "outputs": [],
   "source": [
    "# - * opeartor is used to repeat a string"
   ]
  },
  {
   "cell_type": "code",
   "execution_count": 6,
   "id": "25e6488d-111f-4d19-a41b-33665bb8797d",
   "metadata": {},
   "outputs": [],
   "source": [
    "# string*number_of_repeatitions"
   ]
  },
  {
   "cell_type": "code",
   "execution_count": 8,
   "id": "36034a59-296a-4046-8935-0bc19b2b6eaa",
   "metadata": {},
   "outputs": [
    {
     "name": "stdout",
     "output_type": "stream",
     "text": [
      "PythonPythonPythonPythonPythonPythonPythonPythonPythonPythonPythonPythonPythonPythonPythonPythonPythonPythonPythonPythonPythonPythonPythonPythonPythonPythonPythonPythonPythonPythonPythonPythonPythonPythonPythonPythonPythonPythonPythonPythonPythonPythonPythonPythonPythonPythonPythonPythonPythonPythonPythonPythonPythonPythonPythonPythonPythonPythonPythonPythonPythonPythonPythonPythonPythonPythonPythonPythonPythonPythonPythonPythonPythonPythonPythonPythonPythonPythonPythonPythonPythonPythonPythonPythonPythonPythonPythonPythonPythonPythonPythonPythonPythonPythonPythonPythonPythonPythonPythonPythonPythonPythonPythonPythonPythonPythonPythonPythonPythonPythonPythonPythonPythonPythonPythonPythonPythonPythonPythonPythonPythonPythonPythonPythonPythonPythonPythonPythonPythonPythonPythonPythonPythonPythonPythonPythonPythonPythonPythonPythonPythonPythonPythonPythonPythonPythonPythonPythonPythonPythonPythonPythonPythonPythonPythonPythonPythonPythonPythonPythonPythonPythonPythonPythonPythonPythonPythonPythonPythonPythonPythonPythonPythonPythonPythonPythonPythonPythonPythonPythonPythonPythonPythonPythonPythonPythonPythonPythonPythonPythonPythonPythonPythonPythonPythonPythonPythonPythonPythonPythonPythonPythonPythonPythonPythonPythonPythonPythonPythonPythonPythonPythonPythonPythonPythonPythonPythonPythonPythonPythonPythonPythonPythonPythonPythonPythonPythonPythonPythonPythonPythonPythonPythonPythonPythonPythonPythonPythonPythonPythonPythonPythonPythonPythonPythonPythonPythonPythonPythonPythonPythonPythonPythonPythonPythonPythonPythonPythonPythonPythonPythonPythonPythonPythonPythonPythonPythonPythonPythonPythonPythonPythonPythonPythonPythonPythonPythonPythonPythonPythonPythonPythonPythonPythonPythonPythonPythonPythonPythonPythonPythonPythonPythonPythonPythonPythonPythonPythonPythonPythonPythonPythonPythonPythonPythonPythonPythonPythonPythonPythonPythonPythonPythonPythonPythonPythonPythonPythonPythonPythonPythonPythonPythonPythonPythonPythonPythonPythonPythonPythonPythonPythonPythonPythonPythonPythonPythonPythonPythonPythonPythonPythonPythonPythonPythonPythonPythonPythonPythonPythonPythonPythonPythonPythonPythonPythonPythonPythonPythonPythonPythonPythonPythonPythonPythonPythonPythonPythonPythonPythonPythonPythonPythonPythonPythonPythonPythonPythonPythonPythonPythonPythonPythonPythonPythonPythonPythonPythonPythonPythonPythonPythonPythonPythonPythonPythonPythonPythonPythonPythonPythonPythonPythonPythonPythonPythonPythonPythonPythonPythonPythonPythonPythonPythonPythonPythonPythonPythonPythonPythonPythonPythonPythonPythonPythonPythonPythonPythonPythonPythonPythonPythonPythonPythonPythonPythonPythonPythonPythonPythonPythonPythonPythonPythonPythonPythonPythonPythonPythonPythonPythonPythonPythonPythonPythonPythonPythonPythonPythonPythonPythonPythonPythonPythonPythonPythonPythonPythonPythonPythonPythonPythonPythonPythonPythonPythonPythonPythonPythonPythonPythonPythonPythonPythonPythonPythonPythonPythonPythonPythonPythonPythonPythonPythonPythonPythonPythonPythonPythonPythonPythonPythonPythonPythonPythonPythonPythonPythonPythonPythonPythonPythonPythonPythonPythonPythonPythonPythonPythonPythonPythonPythonPythonPythonPythonPythonPythonPythonPythonPythonPythonPythonPythonPythonPythonPythonPythonPythonPythonPythonPythonPythonPythonPythonPythonPythonPythonPythonPythonPythonPythonPythonPythonPythonPythonPythonPythonPythonPythonPythonPythonPythonPythonPythonPythonPythonPythonPythonPythonPythonPythonPythonPythonPythonPythonPythonPythonPythonPythonPythonPythonPythonPythonPythonPythonPythonPythonPythonPythonPythonPythonPythonPythonPythonPythonPythonPythonPythonPythonPythonPythonPythonPythonPythonPythonPythonPythonPythonPythonPythonPythonPythonPythonPythonPythonPythonPythonPythonPythonPythonPythonPythonPythonPythonPythonPythonPythonPythonPythonPythonPythonPythonPythonPythonPythonPythonPythonPythonPythonPythonPythonPythonPythonPythonPythonPythonPythonPythonPythonPythonPythonPythonPythonPythonPythonPythonPythonPythonPythonPythonPythonPythonPythonPythonPythonPythonPythonPythonPythonPythonPythonPythonPythonPythonPythonPythonPythonPythonPythonPythonPythonPythonPythonPythonPythonPythonPythonPythonPythonPythonPythonPythonPythonPythonPythonPythonPythonPythonPythonPythonPythonPythonPythonPythonPythonPythonPythonPythonPythonPythonPythonPythonPythonPythonPythonPythonPythonPythonPythonPythonPythonPythonPythonPythonPythonPythonPythonPythonPythonPythonPythonPythonPythonPythonPythonPythonPythonPythonPythonPythonPythonPythonPythonPythonPythonPythonPythonPythonPythonPythonPythonPythonPythonPythonPythonPythonPythonPythonPythonPythonPythonPythonPythonPythonPythonPythonPythonPythonPythonPythonPythonPythonPythonPythonPythonPythonPythonPythonPythonPythonPythonPythonPythonPythonPythonPythonPythonPythonPythonPythonPythonPythonPythonPythonPythonPythonPythonPythonPythonPythonPythonPythonPythonPythonPythonPythonPythonPythonPythonPythonPythonPythonPythonPythonPythonPythonPythonPythonPythonPythonPythonPythonPythonPythonPythonPythonPythonPythonPythonPythonPythonPythonPythonPythonPythonPythonPythonPythonPythonPythonPythonPythonPythonPythonPythonPythonPythonPythonPythonPythonPythonPythonPythonPythonPythonPythonPythonPythonPythonPythonPythonPythonPythonPythonPythonPythonPythonPythonPythonPythonPythonPythonPythonPythonPythonPythonPythonPythonPythonPythonPythonPythonPythonPythonPythonPythonPythonPythonPythonPythonPythonPythonPythonPythonPythonPythonPythonPythonPythonPythonPythonPythonPythonPythonPythonPythonPythonPythonPythonPythonPythonPythonPythonPythonPythonPythonPythonPythonPythonPythonPythonPythonPythonPythonPythonPythonPythonPythonPythonPythonPythonPythonPythonPythonPythonPythonPythonPythonPythonPythonPythonPythonPythonPythonPythonPythonPythonPythonPythonPythonPythonPythonPythonPythonPythonPythonPythonPythonPythonPythonPythonPythonPythonPythonPythonPythonPythonPythonPythonPythonPythonPythonPythonPythonPythonPythonPythonPythonPythonPythonPythonPythonPythonPythonPythonPythonPythonPythonPythonPythonPythonPythonPythonPythonPythonPythonPythonPythonPythonPython\n"
     ]
    }
   ],
   "source": [
    "my_str='Python'\n",
    "print(my_str*1000)"
   ]
  },
  {
   "cell_type": "code",
   "execution_count": 12,
   "id": "e1517191-2d13-45aa-bd48-5514258aba23",
   "metadata": {},
   "outputs": [
    {
     "name": "stdout",
     "output_type": "stream",
     "text": [
      "-*-*-*-*-*-*-*-*-*-*-*-*-*-*-*-*-*-*-*-*-*-*-*-*-*-*-*-*-*-*-*-*-*-*-*-*-*-*-*-*-*-*-*-*-*-*-*-*-*-*\n"
     ]
    }
   ],
   "source": [
    "print('-*'*50)"
   ]
  },
  {
   "cell_type": "markdown",
   "id": "3cc73a78-d282-4d4e-a1e8-fa161181f6dc",
   "metadata": {},
   "source": [
    "# Length of the string"
   ]
  },
  {
   "cell_type": "code",
   "execution_count": 13,
   "id": "a2f10d71-592e-4632-b335-d8927d7a929c",
   "metadata": {},
   "outputs": [],
   "source": [
    "# - The number of characters in a string is the length of the string."
   ]
  },
  {
   "cell_type": "code",
   "execution_count": 14,
   "id": "8bf1fa45-f25e-4faf-a36c-28b0c1422c55",
   "metadata": {},
   "outputs": [],
   "source": [
    "# len(string)- It returns the length of the string."
   ]
  },
  {
   "cell_type": "code",
   "execution_count": 15,
   "id": "6563c56e-a530-4f27-9fe4-1cdd64d61122",
   "metadata": {},
   "outputs": [
    {
     "name": "stdout",
     "output_type": "stream",
     "text": [
      "6\n"
     ]
    }
   ],
   "source": [
    "my_str='Python'\n",
    "print(len(my_str))"
   ]
  },
  {
   "cell_type": "code",
   "execution_count": 20,
   "id": "269127d5-f9c1-4a61-962e-fc932a27e465",
   "metadata": {},
   "outputs": [
    {
     "name": "stdout",
     "output_type": "stream",
     "text": [
      "12\n"
     ]
    }
   ],
   "source": [
    "my_str='Happy Sunday'\n",
    "print(len(my_str))"
   ]
  },
  {
   "cell_type": "code",
   "execution_count": null,
   "id": "d51b14ce-ebee-4268-af9e-29294a63f7ad",
   "metadata": {},
   "outputs": [],
   "source": []
  }
 ],
 "metadata": {
  "kernelspec": {
   "display_name": "Python 3 (ipykernel)",
   "language": "python",
   "name": "python3"
  },
  "language_info": {
   "codemirror_mode": {
    "name": "ipython",
    "version": 3
   },
   "file_extension": ".py",
   "mimetype": "text/x-python",
   "name": "python",
   "nbconvert_exporter": "python",
   "pygments_lexer": "ipython3",
   "version": "3.11.7"
  }
 },
 "nbformat": 4,
 "nbformat_minor": 5
}
